{
 "cells": [
  {
   "cell_type": "raw",
   "metadata": {},
   "source": [
    "<script>\n",
    "  jQuery(document).ready(function($) {  \n",
    "  \n",
    "  $(window).on('load', function(){\n",
    "    $('#preloader').fadeOut('slow',function(){$(this).remove();});\n",
    "  });\n",
    "  \n",
    "  });\n",
    "</script>\n",
    "\n",
    "<style type=\"text/css\">\n",
    "  div#preloader { position: fixed; \n",
    "      left: 0; \n",
    "      top: 0; \n",
    "      z-index: 999; \n",
    "      width: 100%; \n",
    "      height: 100%; \n",
    "      overflow: visible; \n",
    "      background: #fff url('http://preloaders.net/preloaders/720/Moving%20line.gif') no-repeat center center; \n",
    "  }\n",
    "\n",
    "</style>\n",
    "\n",
    "<div id=\"preloader\">\n",
    "\n",
    "</div>"
   ]
  },
  {
   "cell_type": "raw",
   "metadata": {},
   "source": [
    "<script>\n",
    "  function code_toggle() {\n",
    "    if (code_shown){\n",
    "      $('div.input').hide('500');\n",
    "      $('#toggleButton').val('Show Code')\n",
    "    } else {\n",
    "      $('div.input').show('500');\n",
    "      $('#toggleButton').val('Hide Code')\n",
    "    }\n",
    "    code_shown = !code_shown\n",
    "  } \n",
    "  \n",
    "  $( document ).ready(function(){\n",
    "    code_shown=false; \n",
    "    $('div.input').hide()\n",
    "  });\n",
    "</script>\n",
    "<form action=\"javascript:code_toggle()\"><input type=\"submit\" id=\"toggleButton\" value=\"Show Code\"></form>"
   ]
  },
  {
   "cell_type": "markdown",
   "metadata": {},
   "source": [
    "<h1 style=\"text-align: center;\" markdown=\"1\"> ImageNet - Fast Training Regime</h1>\n",
    "<h2 style=\"text-align: center;\" markdown=\"1\"> Resnet 50</h2>"
   ]
  },
  {
   "cell_type": "code",
   "execution_count": 1,
   "metadata": {
    "scrolled": false
   },
   "outputs": [
    {
     "data": {
      "text/html": [
       "\n",
       "    <div class=\"bk-root\">\n",
       "        <a href=\"https://bokeh.pydata.org\" target=\"_blank\" class=\"bk-logo bk-logo-small bk-logo-notebook\"></a>\n",
       "        <span id=\"c47aa317-fccc-4e83-9a0b-b6a28c7dbbfb\">Loading BokehJS ...</span>\n",
       "    </div>"
      ]
     },
     "metadata": {},
     "output_type": "display_data"
    },
    {
     "data": {
      "application/javascript": [
       "\n",
       "(function(root) {\n",
       "  function now() {\n",
       "    return new Date();\n",
       "  }\n",
       "\n",
       "  var force = true;\n",
       "\n",
       "  if (typeof (root._bokeh_onload_callbacks) === \"undefined\" || force === true) {\n",
       "    root._bokeh_onload_callbacks = [];\n",
       "    root._bokeh_is_loading = undefined;\n",
       "  }\n",
       "\n",
       "  var JS_MIME_TYPE = 'application/javascript';\n",
       "  var HTML_MIME_TYPE = 'text/html';\n",
       "  var EXEC_MIME_TYPE = 'application/vnd.bokehjs_exec.v0+json';\n",
       "  var CLASS_NAME = 'output_bokeh rendered_html';\n",
       "\n",
       "  /**\n",
       "   * Render data to the DOM node\n",
       "   */\n",
       "  function render(props, node) {\n",
       "    var script = document.createElement(\"script\");\n",
       "    node.appendChild(script);\n",
       "  }\n",
       "\n",
       "  /**\n",
       "   * Handle when an output is cleared or removed\n",
       "   */\n",
       "  function handleClearOutput(event, handle) {\n",
       "    var cell = handle.cell;\n",
       "\n",
       "    var id = cell.output_area._bokeh_element_id;\n",
       "    var server_id = cell.output_area._bokeh_server_id;\n",
       "    // Clean up Bokeh references\n",
       "    if (id !== undefined) {\n",
       "      Bokeh.index[id].model.document.clear();\n",
       "      delete Bokeh.index[id];\n",
       "    }\n",
       "\n",
       "    if (server_id !== undefined) {\n",
       "      // Clean up Bokeh references\n",
       "      var cmd = \"from bokeh.io.state import curstate; print(curstate().uuid_to_server['\" + server_id + \"'].get_sessions()[0].document.roots[0]._id)\";\n",
       "      cell.notebook.kernel.execute(cmd, {\n",
       "        iopub: {\n",
       "          output: function(msg) {\n",
       "            var element_id = msg.content.text.trim();\n",
       "            Bokeh.index[element_id].model.document.clear();\n",
       "            delete Bokeh.index[element_id];\n",
       "          }\n",
       "        }\n",
       "      });\n",
       "      // Destroy server and session\n",
       "      var cmd = \"import bokeh.io.notebook as ion; ion.destroy_server('\" + server_id + \"')\";\n",
       "      cell.notebook.kernel.execute(cmd);\n",
       "    }\n",
       "  }\n",
       "\n",
       "  /**\n",
       "   * Handle when a new output is added\n",
       "   */\n",
       "  function handleAddOutput(event, handle) {\n",
       "    var output_area = handle.output_area;\n",
       "    var output = handle.output;\n",
       "\n",
       "    // limit handleAddOutput to display_data with EXEC_MIME_TYPE content only\n",
       "    if ((output.output_type != \"display_data\") || (!output.data.hasOwnProperty(EXEC_MIME_TYPE))) {\n",
       "      return\n",
       "    }\n",
       "\n",
       "    var toinsert = output_area.element.find(\".\" + CLASS_NAME.split(' ')[0]);\n",
       "\n",
       "    if (output.metadata[EXEC_MIME_TYPE][\"id\"] !== undefined) {\n",
       "      toinsert[0].firstChild.textContent = output.data[JS_MIME_TYPE];\n",
       "      // store reference to embed id on output_area\n",
       "      output_area._bokeh_element_id = output.metadata[EXEC_MIME_TYPE][\"id\"];\n",
       "    }\n",
       "    if (output.metadata[EXEC_MIME_TYPE][\"server_id\"] !== undefined) {\n",
       "      var bk_div = document.createElement(\"div\");\n",
       "      bk_div.innerHTML = output.data[HTML_MIME_TYPE];\n",
       "      var script_attrs = bk_div.children[0].attributes;\n",
       "      for (var i = 0; i < script_attrs.length; i++) {\n",
       "        toinsert[0].firstChild.setAttribute(script_attrs[i].name, script_attrs[i].value);\n",
       "      }\n",
       "      // store reference to server id on output_area\n",
       "      output_area._bokeh_server_id = output.metadata[EXEC_MIME_TYPE][\"server_id\"];\n",
       "    }\n",
       "  }\n",
       "\n",
       "  function register_renderer(events, OutputArea) {\n",
       "\n",
       "    function append_mime(data, metadata, element) {\n",
       "      // create a DOM node to render to\n",
       "      var toinsert = this.create_output_subarea(\n",
       "        metadata,\n",
       "        CLASS_NAME,\n",
       "        EXEC_MIME_TYPE\n",
       "      );\n",
       "      this.keyboard_manager.register_events(toinsert);\n",
       "      // Render to node\n",
       "      var props = {data: data, metadata: metadata[EXEC_MIME_TYPE]};\n",
       "      render(props, toinsert[0]);\n",
       "      element.append(toinsert);\n",
       "      return toinsert\n",
       "    }\n",
       "\n",
       "    /* Handle when an output is cleared or removed */\n",
       "    events.on('clear_output.CodeCell', handleClearOutput);\n",
       "    events.on('delete.Cell', handleClearOutput);\n",
       "\n",
       "    /* Handle when a new output is added */\n",
       "    events.on('output_added.OutputArea', handleAddOutput);\n",
       "\n",
       "    /**\n",
       "     * Register the mime type and append_mime function with output_area\n",
       "     */\n",
       "    OutputArea.prototype.register_mime_type(EXEC_MIME_TYPE, append_mime, {\n",
       "      /* Is output safe? */\n",
       "      safe: true,\n",
       "      /* Index of renderer in `output_area.display_order` */\n",
       "      index: 0\n",
       "    });\n",
       "  }\n",
       "\n",
       "  // register the mime type if in Jupyter Notebook environment and previously unregistered\n",
       "  if (root.Jupyter !== undefined) {\n",
       "    var events = require('base/js/events');\n",
       "    var OutputArea = require('notebook/js/outputarea').OutputArea;\n",
       "\n",
       "    if (OutputArea.prototype.mime_types().indexOf(EXEC_MIME_TYPE) == -1) {\n",
       "      register_renderer(events, OutputArea);\n",
       "    }\n",
       "  }\n",
       "\n",
       "  \n",
       "  if (typeof (root._bokeh_timeout) === \"undefined\" || force === true) {\n",
       "    root._bokeh_timeout = Date.now() + 5000;\n",
       "    root._bokeh_failed_load = false;\n",
       "  }\n",
       "\n",
       "  var NB_LOAD_WARNING = {'data': {'text/html':\n",
       "     \"<div style='background-color: #fdd'>\\n\"+\n",
       "     \"<p>\\n\"+\n",
       "     \"BokehJS does not appear to have successfully loaded. If loading BokehJS from CDN, this \\n\"+\n",
       "     \"may be due to a slow or bad network connection. Possible fixes:\\n\"+\n",
       "     \"</p>\\n\"+\n",
       "     \"<ul>\\n\"+\n",
       "     \"<li>re-rerun `output_notebook()` to attempt to load from CDN again, or</li>\\n\"+\n",
       "     \"<li>use INLINE resources instead, as so:</li>\\n\"+\n",
       "     \"</ul>\\n\"+\n",
       "     \"<code>\\n\"+\n",
       "     \"from bokeh.resources import INLINE\\n\"+\n",
       "     \"output_notebook(resources=INLINE)\\n\"+\n",
       "     \"</code>\\n\"+\n",
       "     \"</div>\"}};\n",
       "\n",
       "  function display_loaded() {\n",
       "    var el = document.getElementById(\"c47aa317-fccc-4e83-9a0b-b6a28c7dbbfb\");\n",
       "    if (el != null) {\n",
       "      el.textContent = \"BokehJS is loading...\";\n",
       "    }\n",
       "    if (root.Bokeh !== undefined) {\n",
       "      if (el != null) {\n",
       "        el.textContent = \"BokehJS \" + root.Bokeh.version + \" successfully loaded.\";\n",
       "      }\n",
       "    } else if (Date.now() < root._bokeh_timeout) {\n",
       "      setTimeout(display_loaded, 100)\n",
       "    }\n",
       "  }\n",
       "\n",
       "\n",
       "  function run_callbacks() {\n",
       "    try {\n",
       "      root._bokeh_onload_callbacks.forEach(function(callback) { callback() });\n",
       "    }\n",
       "    finally {\n",
       "      delete root._bokeh_onload_callbacks\n",
       "    }\n",
       "    console.info(\"Bokeh: all callbacks have finished\");\n",
       "  }\n",
       "\n",
       "  function load_libs(js_urls, callback) {\n",
       "    root._bokeh_onload_callbacks.push(callback);\n",
       "    if (root._bokeh_is_loading > 0) {\n",
       "      console.log(\"Bokeh: BokehJS is being loaded, scheduling callback at\", now());\n",
       "      return null;\n",
       "    }\n",
       "    if (js_urls == null || js_urls.length === 0) {\n",
       "      run_callbacks();\n",
       "      return null;\n",
       "    }\n",
       "    console.log(\"Bokeh: BokehJS not loaded, scheduling load and callback at\", now());\n",
       "    root._bokeh_is_loading = js_urls.length;\n",
       "    for (var i = 0; i < js_urls.length; i++) {\n",
       "      var url = js_urls[i];\n",
       "      var s = document.createElement('script');\n",
       "      s.src = url;\n",
       "      s.async = false;\n",
       "      s.onreadystatechange = s.onload = function() {\n",
       "        root._bokeh_is_loading--;\n",
       "        if (root._bokeh_is_loading === 0) {\n",
       "          console.log(\"Bokeh: all BokehJS libraries loaded\");\n",
       "          run_callbacks()\n",
       "        }\n",
       "      };\n",
       "      s.onerror = function() {\n",
       "        console.warn(\"failed to load library \" + url);\n",
       "      };\n",
       "      console.log(\"Bokeh: injecting script tag for BokehJS library: \", url);\n",
       "      document.getElementsByTagName(\"head\")[0].appendChild(s);\n",
       "    }\n",
       "  };var element = document.getElementById(\"c47aa317-fccc-4e83-9a0b-b6a28c7dbbfb\");\n",
       "  if (element == null) {\n",
       "    console.log(\"Bokeh: ERROR: autoload.js configured with elementid 'c47aa317-fccc-4e83-9a0b-b6a28c7dbbfb' but no matching script tag was found. \")\n",
       "    return false;\n",
       "  }\n",
       "\n",
       "  var js_urls = [\"https://cdn.pydata.org/bokeh/release/bokeh-0.12.13.min.js\", \"https://cdn.pydata.org/bokeh/release/bokeh-widgets-0.12.13.min.js\", \"https://cdn.pydata.org/bokeh/release/bokeh-tables-0.12.13.min.js\", \"https://cdn.pydata.org/bokeh/release/bokeh-gl-0.12.13.min.js\"];\n",
       "\n",
       "  var inline_js = [\n",
       "    function(Bokeh) {\n",
       "      Bokeh.set_log_level(\"info\");\n",
       "    },\n",
       "    \n",
       "    function(Bokeh) {\n",
       "      \n",
       "    },\n",
       "    function(Bokeh) {\n",
       "      console.log(\"Bokeh: injecting CSS: https://cdn.pydata.org/bokeh/release/bokeh-0.12.13.min.css\");\n",
       "      Bokeh.embed.inject_css(\"https://cdn.pydata.org/bokeh/release/bokeh-0.12.13.min.css\");\n",
       "      console.log(\"Bokeh: injecting CSS: https://cdn.pydata.org/bokeh/release/bokeh-widgets-0.12.13.min.css\");\n",
       "      Bokeh.embed.inject_css(\"https://cdn.pydata.org/bokeh/release/bokeh-widgets-0.12.13.min.css\");\n",
       "      console.log(\"Bokeh: injecting CSS: https://cdn.pydata.org/bokeh/release/bokeh-tables-0.12.13.min.css\");\n",
       "      Bokeh.embed.inject_css(\"https://cdn.pydata.org/bokeh/release/bokeh-tables-0.12.13.min.css\");\n",
       "    }\n",
       "  ];\n",
       "\n",
       "  function run_inline_js() {\n",
       "    \n",
       "    if ((root.Bokeh !== undefined) || (force === true)) {\n",
       "      for (var i = 0; i < inline_js.length; i++) {\n",
       "        inline_js[i].call(root, root.Bokeh);\n",
       "      }if (force === true) {\n",
       "        display_loaded();\n",
       "      }} else if (Date.now() < root._bokeh_timeout) {\n",
       "      setTimeout(run_inline_js, 100);\n",
       "    } else if (!root._bokeh_failed_load) {\n",
       "      console.log(\"Bokeh: BokehJS failed to load within specified timeout.\");\n",
       "      root._bokeh_failed_load = true;\n",
       "    } else if (force !== true) {\n",
       "      var cell = $(document.getElementById(\"c47aa317-fccc-4e83-9a0b-b6a28c7dbbfb\")).parents('.cell').data().cell;\n",
       "      cell.output_area.append_execute_result(NB_LOAD_WARNING)\n",
       "    }\n",
       "\n",
       "  }\n",
       "\n",
       "  if (root._bokeh_is_loading === 0) {\n",
       "    console.log(\"Bokeh: BokehJS loaded, going straight to plotting\");\n",
       "    run_inline_js();\n",
       "  } else {\n",
       "    load_libs(js_urls, function() {\n",
       "      console.log(\"Bokeh: BokehJS plotting callback run at\", now());\n",
       "      run_inline_js();\n",
       "    });\n",
       "  }\n",
       "}(window));"
      ],
      "application/vnd.bokehjs_load.v0+json": "\n(function(root) {\n  function now() {\n    return new Date();\n  }\n\n  var force = true;\n\n  if (typeof (root._bokeh_onload_callbacks) === \"undefined\" || force === true) {\n    root._bokeh_onload_callbacks = [];\n    root._bokeh_is_loading = undefined;\n  }\n\n  \n\n  \n  if (typeof (root._bokeh_timeout) === \"undefined\" || force === true) {\n    root._bokeh_timeout = Date.now() + 5000;\n    root._bokeh_failed_load = false;\n  }\n\n  var NB_LOAD_WARNING = {'data': {'text/html':\n     \"<div style='background-color: #fdd'>\\n\"+\n     \"<p>\\n\"+\n     \"BokehJS does not appear to have successfully loaded. If loading BokehJS from CDN, this \\n\"+\n     \"may be due to a slow or bad network connection. Possible fixes:\\n\"+\n     \"</p>\\n\"+\n     \"<ul>\\n\"+\n     \"<li>re-rerun `output_notebook()` to attempt to load from CDN again, or</li>\\n\"+\n     \"<li>use INLINE resources instead, as so:</li>\\n\"+\n     \"</ul>\\n\"+\n     \"<code>\\n\"+\n     \"from bokeh.resources import INLINE\\n\"+\n     \"output_notebook(resources=INLINE)\\n\"+\n     \"</code>\\n\"+\n     \"</div>\"}};\n\n  function display_loaded() {\n    var el = document.getElementById(\"c47aa317-fccc-4e83-9a0b-b6a28c7dbbfb\");\n    if (el != null) {\n      el.textContent = \"BokehJS is loading...\";\n    }\n    if (root.Bokeh !== undefined) {\n      if (el != null) {\n        el.textContent = \"BokehJS \" + root.Bokeh.version + \" successfully loaded.\";\n      }\n    } else if (Date.now() < root._bokeh_timeout) {\n      setTimeout(display_loaded, 100)\n    }\n  }\n\n\n  function run_callbacks() {\n    try {\n      root._bokeh_onload_callbacks.forEach(function(callback) { callback() });\n    }\n    finally {\n      delete root._bokeh_onload_callbacks\n    }\n    console.info(\"Bokeh: all callbacks have finished\");\n  }\n\n  function load_libs(js_urls, callback) {\n    root._bokeh_onload_callbacks.push(callback);\n    if (root._bokeh_is_loading > 0) {\n      console.log(\"Bokeh: BokehJS is being loaded, scheduling callback at\", now());\n      return null;\n    }\n    if (js_urls == null || js_urls.length === 0) {\n      run_callbacks();\n      return null;\n    }\n    console.log(\"Bokeh: BokehJS not loaded, scheduling load and callback at\", now());\n    root._bokeh_is_loading = js_urls.length;\n    for (var i = 0; i < js_urls.length; i++) {\n      var url = js_urls[i];\n      var s = document.createElement('script');\n      s.src = url;\n      s.async = false;\n      s.onreadystatechange = s.onload = function() {\n        root._bokeh_is_loading--;\n        if (root._bokeh_is_loading === 0) {\n          console.log(\"Bokeh: all BokehJS libraries loaded\");\n          run_callbacks()\n        }\n      };\n      s.onerror = function() {\n        console.warn(\"failed to load library \" + url);\n      };\n      console.log(\"Bokeh: injecting script tag for BokehJS library: \", url);\n      document.getElementsByTagName(\"head\")[0].appendChild(s);\n    }\n  };var element = document.getElementById(\"c47aa317-fccc-4e83-9a0b-b6a28c7dbbfb\");\n  if (element == null) {\n    console.log(\"Bokeh: ERROR: autoload.js configured with elementid 'c47aa317-fccc-4e83-9a0b-b6a28c7dbbfb' but no matching script tag was found. \")\n    return false;\n  }\n\n  var js_urls = [\"https://cdn.pydata.org/bokeh/release/bokeh-0.12.13.min.js\", \"https://cdn.pydata.org/bokeh/release/bokeh-widgets-0.12.13.min.js\", \"https://cdn.pydata.org/bokeh/release/bokeh-tables-0.12.13.min.js\", \"https://cdn.pydata.org/bokeh/release/bokeh-gl-0.12.13.min.js\"];\n\n  var inline_js = [\n    function(Bokeh) {\n      Bokeh.set_log_level(\"info\");\n    },\n    \n    function(Bokeh) {\n      \n    },\n    function(Bokeh) {\n      console.log(\"Bokeh: injecting CSS: https://cdn.pydata.org/bokeh/release/bokeh-0.12.13.min.css\");\n      Bokeh.embed.inject_css(\"https://cdn.pydata.org/bokeh/release/bokeh-0.12.13.min.css\");\n      console.log(\"Bokeh: injecting CSS: https://cdn.pydata.org/bokeh/release/bokeh-widgets-0.12.13.min.css\");\n      Bokeh.embed.inject_css(\"https://cdn.pydata.org/bokeh/release/bokeh-widgets-0.12.13.min.css\");\n      console.log(\"Bokeh: injecting CSS: https://cdn.pydata.org/bokeh/release/bokeh-tables-0.12.13.min.css\");\n      Bokeh.embed.inject_css(\"https://cdn.pydata.org/bokeh/release/bokeh-tables-0.12.13.min.css\");\n    }\n  ];\n\n  function run_inline_js() {\n    \n    if ((root.Bokeh !== undefined) || (force === true)) {\n      for (var i = 0; i < inline_js.length; i++) {\n        inline_js[i].call(root, root.Bokeh);\n      }if (force === true) {\n        display_loaded();\n      }} else if (Date.now() < root._bokeh_timeout) {\n      setTimeout(run_inline_js, 100);\n    } else if (!root._bokeh_failed_load) {\n      console.log(\"Bokeh: BokehJS failed to load within specified timeout.\");\n      root._bokeh_failed_load = true;\n    } else if (force !== true) {\n      var cell = $(document.getElementById(\"c47aa317-fccc-4e83-9a0b-b6a28c7dbbfb\")).parents('.cell').data().cell;\n      cell.output_area.append_execute_result(NB_LOAD_WARNING)\n    }\n\n  }\n\n  if (root._bokeh_is_loading === 0) {\n    console.log(\"Bokeh: BokehJS loaded, going straight to plotting\");\n    run_inline_js();\n  } else {\n    load_libs(js_urls, function() {\n      console.log(\"Bokeh: BokehJS plotting callback run at\", now());\n      run_inline_js();\n    });\n  }\n}(window));"
     },
     "metadata": {},
     "output_type": "display_data"
    },
    {
     "data": {
      "text/markdown": [
       "<h3>Simulation 160: Min Error - 23.69% , Val Error - 23.96% , Mean Error - 23.82%<h3>"
      ],
      "text/plain": [
       "<IPython.core.display.Markdown object>"
      ]
     },
     "metadata": {},
     "output_type": "display_data"
    },
    {
     "data": {
      "text/markdown": [
       "<h3>Simulation 175: Min Error - 25.37% , Val Error - 25.55% , Mean Error - 25.42%<h3>"
      ],
      "text/plain": [
       "<IPython.core.display.Markdown object>"
      ]
     },
     "metadata": {},
     "output_type": "display_data"
    },
    {
     "data": {
      "text/markdown": [
       "<h3>Simulation 184: Min Error - 26.41% , Val Error - 26.54% , Mean Error - 26.41%<h3>"
      ],
      "text/plain": [
       "<IPython.core.display.Markdown object>"
      ]
     },
     "metadata": {},
     "output_type": "display_data"
    }
   ],
   "source": [
    "import numpy as np\n",
    "import pandas as pd\n",
    "from bokeh.io import output_notebook\n",
    "from bokeh.plotting import figure, show, output_file\n",
    "from Outputs.jupyter_graphs import create_graphs, compare_graphs\n",
    "from IPython.display import Markdown, display\n",
    "from IPython.core.interactiveshell import InteractiveShell\n",
    "sim_num = [160, 175, 184]\n",
    "plots, scores = compare_graphs(sim_nums=sim_num, linear=True)\n",
    "output_notebook()\n",
    "for sim in zip(sim_num,scores):\n",
    "    display(Markdown('<h3>Simulation {0}: Min Error - {1:.2f}% , Val Error - {2:.2f}% , Mean Error - {3:.2f}%<h3>'.format(sim[0],sim[1][0],sim[1][1],sim[1][2])))"
   ]
  },
  {
   "cell_type": "code",
   "execution_count": 2,
   "metadata": {},
   "outputs": [
    {
     "data": {
      "text/html": [
       "\n",
       "<div class=\"bk-root\">\n",
       "    <div class=\"bk-plotdiv\" id=\"4a53b709-275c-486e-9bea-e75c069bd239\"></div>\n",
       "</div>"
      ]
     },
     "metadata": {},
     "output_type": "display_data"
    },
    {
     "data": {
      "application/javascript": [
       "(function(root) {\n",
       "  function embed_document(root) {\n",
       "    \n",
       "  var docs_json = {\"83a4e01c-e0c3-48ad-9112-02df22058975\":{\"roots\":{\"references\":[{\"attributes\":{\"callback\":null,\"data\":{}},\"id\":\"f3f85e55-15db-47ae-94c8-545c9f73360d\",\"type\":\"ColumnDataSource\"},{\"attributes\":{\"line_color\":\"#2ca02c\",\"line_width\":3,\"x\":{\"field\":\"x\"},\"y\":{\"field\":\"y\"}},\"id\":\"cc0d28a9-b449-43a5-b040-9d2d9ca92431\",\"type\":\"Line\"},{\"attributes\":{\"callback\":null,\"column_names\":[\"x\",\"y\"],\"data\":{\"x\":{\"__ndarray__\":\"AQAAAAIAAAADAAAABAAAAAUAAAAGAAAABwAAAAgAAAAJAAAACgAAAAsAAAAMAAAADQAAAA4AAAAPAAAAEAAAABEAAAASAAAAEwAAABQAAAAVAAAAFgAAABcAAAAYAAAAGQAAABoAAAAbAAAAHAAAAB0AAAAeAAAAHwAAACAAAAAhAAAAIgAAACMAAAAkAAAAJQAAACYAAAAnAAAAKAAAACkAAAAqAAAAKwAAACwAAAAtAAAALgAAAC8AAAAwAAAAMQAAADIAAAAzAAAANAAAADUAAAA2AAAANwAAADgAAAA5AAAAOgAAADsAAAA8AAAAPQAAAD4AAAA/AAAAQAAAAEEAAABCAAAAQwAAAEQAAABFAAAARgAAAEcAAABIAAAASQAAAEoAAABLAAAATAAAAE0AAABOAAAATwAAAFAAAABRAAAAUgAAAFMAAABUAAAAVQAAAFYAAABXAAAAWAAAAFkAAABaAAAA\",\"dtype\":\"int32\",\"shape\":[90]},\"y\":[0.9912799999998093,0.9814600000011444,0.9830799999954223,0.9603199999977111,0.9562799999801637,0.9597600000251769,0.9409400000030517,0.8997800000091553,0.8666799999725342,0.9876600000083923,0.9370799999786377,0.8894800000244141,0.8431800000457764,0.882819999975586,0.8799399999786377,0.8403600001159668,0.9322000000473022,0.9344800000534057,0.7964800000976563,0.8843800000579835,0.7981800000305177,0.9957000000013352,0.892000000088501,0.9552399999801635,0.8992200000549316,0.8101000000183106,0.7805200000915528,0.80964,0.944580000050354,0.8855599999816894,0.36342000014648435,0.3502800006835938,0.3426400006591797,0.3383800003173828,0.33293999997558593,0.33126000068359374,0.3299999996826172,0.33540000017089844,0.3535200002441406,0.33372000048828127,0.3302800005371094,0.3478800006591797,0.3336999999145508,0.3439799997314453,0.329699999609375,0.35075999982910155,0.36752000058593753,0.3529599999267578,0.3862,0.35143999985351565,0.5973600001464844,0.3805600001831055,0.3693000004272461,0.3823600004882812,0.4039800003417969,0.3666400002929687,0.35522000039062496,0.38262000040283206,0.43870000002441406,0.3887600002441406,0.27953999985351563,0.27740000078125,0.2751800005371094,0.27336000073242184,0.27221999995117185,0.2717999996582031,0.2711200004638672,0.27092000029296875,0.2698799999267578,0.2690600005859375,0.26748000039062503,0.2687999996826172,0.26884000083007814,0.2683199996826172,0.26787999970703125,0.2679400001708984,0.26720000048828124,0.2665800006591797,0.2677000007080078,0.26578000068359375,0.26621999958496095,0.2646200005371094,0.2650799999511719,0.26488000041503906,0.26478,0.26533999999999996,0.26482,0.265060000390625,0.264080000390625,0.2640600001464844]}},\"id\":\"e01c0aba-1c4b-4a32-b806-5579c21aada2\",\"type\":\"ColumnDataSource\"},{\"attributes\":{\"source\":{\"id\":\"e01c0aba-1c4b-4a32-b806-5579c21aada2\",\"type\":\"ColumnDataSource\"}},\"id\":\"b184cf29-10f0-409c-823f-0853efdbec95\",\"type\":\"CDSView\"},{\"attributes\":{\"data_source\":{\"id\":\"e01c0aba-1c4b-4a32-b806-5579c21aada2\",\"type\":\"ColumnDataSource\"},\"glyph\":{\"id\":\"cc0d28a9-b449-43a5-b040-9d2d9ca92431\",\"type\":\"Line\"},\"hover_glyph\":null,\"muted_glyph\":null,\"nonselection_glyph\":{\"id\":\"ff373fe0-c08e-4464-887c-3f0fdeec4a40\",\"type\":\"Line\"},\"selection_glyph\":null,\"view\":{\"id\":\"b184cf29-10f0-409c-823f-0853efdbec95\",\"type\":\"CDSView\"}},\"id\":\"a5150e93-1ee3-477e-a582-11d165e47954\",\"type\":\"GlyphRenderer\"},{\"attributes\":{\"label\":{\"value\":\"validation - 256_32\"},\"renderers\":[{\"id\":\"a5150e93-1ee3-477e-a582-11d165e47954\",\"type\":\"GlyphRenderer\"}]},\"id\":\"553248bb-71ad-445e-9d38-a50f7f0f2ab6\",\"type\":\"LegendItem\"},{\"attributes\":{\"line_alpha\":0.1,\"line_color\":\"#1f77b4\",\"line_width\":3,\"x\":{\"field\":\"x\"},\"y\":{\"field\":\"y\"}},\"id\":\"ff373fe0-c08e-4464-887c-3f0fdeec4a40\",\"type\":\"Line\"},{\"attributes\":{\"fill_alpha\":{\"value\":0.5},\"fill_color\":{\"value\":\"red\"},\"line_alpha\":{\"value\":0.5},\"line_color\":{\"value\":\"red\"},\"size\":{\"units\":\"screen\",\"value\":5},\"x\":{\"value\":90},\"y\":{\"value\":0.2640600001464844}},\"id\":\"67969fef-34d6-4516-8d0a-52d8d45e69f8\",\"type\":\"Circle\"},{\"attributes\":{\"source\":{\"id\":\"f3f85e55-15db-47ae-94c8-545c9f73360d\",\"type\":\"ColumnDataSource\"}},\"id\":\"fea366b1-ddad-42d1-91c2-1b4a5ab738f0\",\"type\":\"CDSView\"},{\"attributes\":{\"data_source\":{\"id\":\"f3f85e55-15db-47ae-94c8-545c9f73360d\",\"type\":\"ColumnDataSource\"},\"glyph\":{\"id\":\"67969fef-34d6-4516-8d0a-52d8d45e69f8\",\"type\":\"Circle\"},\"hover_glyph\":null,\"muted_glyph\":null,\"nonselection_glyph\":{\"id\":\"7d92f7c5-437d-4ccb-a6dc-a5c20a2aed8b\",\"type\":\"Circle\"},\"selection_glyph\":null,\"view\":{\"id\":\"fea366b1-ddad-42d1-91c2-1b4a5ab738f0\",\"type\":\"CDSView\"}},\"id\":\"cd8bc92b-48a3-45db-9ceb-799e71459857\",\"type\":\"GlyphRenderer\"},{\"attributes\":{\"fill_alpha\":{\"value\":0.1},\"fill_color\":{\"value\":\"#1f77b4\"},\"line_alpha\":{\"value\":0.1},\"line_color\":{\"value\":\"#1f77b4\"},\"size\":{\"units\":\"screen\",\"value\":5},\"x\":{\"value\":90},\"y\":{\"value\":0.2640600001464844}},\"id\":\"7d92f7c5-437d-4ccb-a6dc-a5c20a2aed8b\",\"type\":\"Circle\"},{\"attributes\":{\"callback\":null,\"data\":{}},\"id\":\"fe99508a-2b16-4b47-86e3-aa78e8247476\",\"type\":\"ColumnDataSource\"},{\"attributes\":{\"data_source\":{\"id\":\"f786bb66-1e80-4e4d-bbc2-b37b9b97185c\",\"type\":\"ColumnDataSource\"},\"glyph\":{\"id\":\"af4e13a6-309c-4fe0-9a33-7ae2c8634b4d\",\"type\":\"Line\"},\"hover_glyph\":null,\"muted_glyph\":null,\"nonselection_glyph\":{\"id\":\"c9513db7-cca9-43ec-9db7-ae85556c2058\",\"type\":\"Line\"},\"selection_glyph\":null,\"view\":{\"id\":\"4019356e-46fe-4d5b-82f2-48ee15b4fe2f\",\"type\":\"CDSView\"}},\"id\":\"c9add24b-a13c-49d3-8588-e7e6e73b30b5\",\"type\":\"GlyphRenderer\"},{\"attributes\":{\"source\":{\"id\":\"f786bb66-1e80-4e4d-bbc2-b37b9b97185c\",\"type\":\"ColumnDataSource\"}},\"id\":\"4019356e-46fe-4d5b-82f2-48ee15b4fe2f\",\"type\":\"CDSView\"},{\"attributes\":{\"fill_alpha\":{\"value\":0.5},\"fill_color\":{\"value\":\"red\"},\"line_alpha\":{\"value\":0.5},\"line_color\":{\"value\":\"red\"},\"size\":{\"units\":\"screen\",\"value\":5},\"x\":{\"value\":89},\"y\":{\"value\":0.23687999958496092}},\"id\":\"a9d719e2-2672-47d3-a155-00118544fb56\",\"type\":\"Circle\"},{\"attributes\":{\"label\":{\"value\":\"validation - 256_1\"},\"renderers\":[{\"id\":\"c9add24b-a13c-49d3-8588-e7e6e73b30b5\",\"type\":\"GlyphRenderer\"}]},\"id\":\"bff7b9f4-60c0-4c82-8e3f-defd63ff0821\",\"type\":\"LegendItem\"},{\"attributes\":{\"source\":{\"id\":\"fe99508a-2b16-4b47-86e3-aa78e8247476\",\"type\":\"ColumnDataSource\"}},\"id\":\"fb95589c-98f8-40a3-bf5b-a24ab11f121e\",\"type\":\"CDSView\"},{\"attributes\":{\"data_source\":{\"id\":\"fe99508a-2b16-4b47-86e3-aa78e8247476\",\"type\":\"ColumnDataSource\"},\"glyph\":{\"id\":\"a9d719e2-2672-47d3-a155-00118544fb56\",\"type\":\"Circle\"},\"hover_glyph\":null,\"muted_glyph\":null,\"nonselection_glyph\":{\"id\":\"a49254d7-d7ca-4f3b-960f-86af0110d3ff\",\"type\":\"Circle\"},\"selection_glyph\":null,\"view\":{\"id\":\"fb95589c-98f8-40a3-bf5b-a24ab11f121e\",\"type\":\"CDSView\"}},\"id\":\"b1956bfe-405e-4f60-90f4-08291a774786\",\"type\":\"GlyphRenderer\"},{\"attributes\":{\"fill_alpha\":{\"value\":0.1},\"fill_color\":{\"value\":\"#1f77b4\"},\"line_alpha\":{\"value\":0.1},\"line_color\":{\"value\":\"#1f77b4\"},\"size\":{\"units\":\"screen\",\"value\":5},\"x\":{\"value\":89},\"y\":{\"value\":0.23687999958496092}},\"id\":\"a49254d7-d7ca-4f3b-960f-86af0110d3ff\",\"type\":\"Circle\"},{\"attributes\":{\"active_drag\":\"auto\",\"active_inspect\":\"auto\",\"active_scroll\":\"auto\",\"active_tap\":\"auto\",\"tools\":[{\"id\":\"4686d57c-7244-4ff2-aea4-e9767a582f8a\",\"type\":\"PanTool\"},{\"id\":\"f4c38f9b-3d98-4e2b-9c07-e28e0d40f563\",\"type\":\"WheelZoomTool\"},{\"id\":\"fea31bb7-322f-4011-8d6a-288bfe04e88d\",\"type\":\"BoxZoomTool\"},{\"id\":\"a310cde1-efdc-4be6-9011-957ee6de3530\",\"type\":\"SaveTool\"},{\"id\":\"78165c9c-cef4-40cc-8bac-ffbda2fec45b\",\"type\":\"ResetTool\"},{\"id\":\"c166fc63-84ee-42f7-8e7a-77dffb9fa083\",\"type\":\"HelpTool\"}]},\"id\":\"0e0d2a77-9a9c-492d-881d-80c868580199\",\"type\":\"Toolbar\"},{\"attributes\":{\"callback\":null,\"column_names\":[\"x\",\"y\"],\"data\":{\"x\":{\"__ndarray__\":\"AQAAAAIAAAADAAAABAAAAAUAAAAGAAAABwAAAAgAAAAJAAAACgAAAAsAAAAMAAAADQAAAA4AAAAPAAAAEAAAABEAAAASAAAAEwAAABQAAAAVAAAAFgAAABcAAAAYAAAAGQAAABoAAAAbAAAAHAAAAB0AAAAeAAAAHwAAACAAAAAhAAAAIgAAACMAAAAkAAAAJQAAACYAAAAnAAAAKAAAACkAAAAqAAAAKwAAACwAAAAtAAAALgAAAC8AAAAwAAAAMQAAADIAAAAzAAAANAAAADUAAAA2AAAANwAAADgAAAA5AAAAOgAAADsAAAA8AAAAPQAAAD4AAAA/AAAAQAAAAEEAAABCAAAAQwAAAEQAAABFAAAARgAAAEcAAABIAAAASQAAAEoAAABLAAAATAAAAE0AAABOAAAATwAAAFAAAABRAAAAUgAAAFMAAABUAAAAVQAAAFYAAABXAAAAWAAAAFkAAABaAAAA\",\"dtype\":\"int32\",\"shape\":[90]},\"y\":[0.9810165263388881,0.9979682586267051,0.9914086141775111,0.9644043282412551,0.9031882650739,0.8277781116751634,0.7482287633067272,0.6966468852228516,0.6571586686188732,0.6325295609376949,0.6085623497950882,0.5918143380215963,0.5796473059305312,0.5676192096714174,0.5562069581865362,0.5501726160586531,0.544170276007572,0.5396134930122175,0.53452516338408,0.5316707345709157,0.5277571151922756,0.5254389162393366,0.5227913300932682,0.5191337272983164,0.5188550750988441,0.5162145137961869,0.5148321803455126,0.5126053043835977,0.5131501201646858,0.5114087390624312,0.4119595649885104,0.3832427778742656,0.37138405844183836,0.3641562731453994,0.3588150490920202,0.35523706121226684,0.35280100095996225,0.3504500193977481,0.34899041264668335,0.3479507355399445,0.34720922408748467,0.34728103361989093,0.34559429020489274,0.34448202302752806,0.34432747643160033,0.34403477454265563,0.34356410990893055,0.342586095334765,0.34279606015444164,0.3432557972533595,0.3437373894239463,0.3409602339134057,0.3402569688408552,0.33999002472131756,0.3387637989424445,0.338015262648628,0.33754537854916244,0.336258270781355,0.33587502644064793,0.3346230428972211,0.29691445377230996,0.28355241744446763,0.2778349738956684,0.27442167960625663,0.2715695924114435,0.269509751653368,0.26751703720231107,0.26550871197816667,0.2638352377129325,0.26193774894373006,0.26121418987669426,0.25943690400844505,0.2587859350077773,0.2571319742067587,0.2555420175541633,0.25471386634074167,0.25443599468565237,0.25294282478664626,0.2517048909316497,0.2508681538008787,0.24481663982582094,0.24260069139886212,0.24146891076287955,0.24132451116910741,0.24096858566835128,0.2400623806252818,0.2407711094636132,0.23970957728681327,0.2390656331318792,0.23937160416883121]}},\"id\":\"74a88ec4-4d40-48e3-9cd8-42b79f103950\",\"type\":\"ColumnDataSource\"},{\"attributes\":{\"plot\":null,\"text\":\"Training & Test Error\"},\"id\":\"6324f3d2-c482-4ac2-a19a-f21e523158b9\",\"type\":\"Title\"},{\"attributes\":{\"label\":{\"value\":\"train - 8192_1\"},\"renderers\":[{\"id\":\"d6255746-8dd8-4ba1-b7b3-c80d9a1395a4\",\"type\":\"GlyphRenderer\"}]},\"id\":\"90951668-89c4-4e57-b553-ea2818e4de98\",\"type\":\"LegendItem\"},{\"attributes\":{\"source\":{\"id\":\"74a88ec4-4d40-48e3-9cd8-42b79f103950\",\"type\":\"ColumnDataSource\"}},\"id\":\"0e96a13b-2deb-46f0-9b94-4fb9e3933229\",\"type\":\"CDSView\"},{\"attributes\":{\"callback\":null,\"column_names\":[\"x\",\"y\"],\"data\":{\"x\":{\"__ndarray__\":\"AQAAAAIAAAADAAAABAAAAAUAAAAGAAAABwAAAAgAAAAJAAAACgAAAAsAAAAMAAAADQAAAA4AAAAPAAAAEAAAABEAAAASAAAAEwAAABQAAAAVAAAAFgAAABcAAAAYAAAAGQAAABoAAAAbAAAAHAAAAB0AAAAeAAAAHwAAACAAAAAhAAAAIgAAACMAAAAkAAAAJQAAACYAAAAnAAAAKAAAACkAAAAqAAAAKwAAACwAAAAtAAAALgAAAC8AAAAwAAAAMQAAADIAAAAzAAAANAAAADUAAAA2AAAANwAAADgAAAA5AAAAOgAAADsAAAA8AAAAPQAAAD4AAAA/AAAAQAAAAEEAAABCAAAAQwAAAEQAAABFAAAARgAAAEcAAABIAAAASQAAAEoAAABLAAAATAAAAE0AAABOAAAATwAAAFAAAABRAAAAUgAAAFMAAABUAAAAVQAAAFYAAABXAAAAWAAAAFkAAABaAAAA\",\"dtype\":\"int32\",\"shape\":[90]},\"y\":[0.9948999622999889,0.982672048218581,0.9650420280885393,0.945172643378832,0.9216495585661013,0.8868133506408875,0.845554092479546,0.8093925304034444,0.7771586373980084,0.7491388710441403,0.7274305379382408,0.7091823314205005,0.6910043733573126,0.6790800887009162,0.6657383463660257,0.6581132670454963,0.6507332767689499,0.6414386258780511,0.6309154075909704,0.6271594569621789,0.6246913946410222,0.6228360549396117,0.6144952219318164,0.6068521902303738,0.6117976813329606,0.6064322605854524,0.6007530634193613,0.6202181292505055,0.5924762345578156,0.5965568891498232,0.4362975318596844,0.4052352269454929,0.39266621759493037,0.38399599739945456,0.3766222514298565,0.3714894311189703,0.36636597726877457,0.3618794427248314,0.3578815252001566,0.35515042145145387,0.3537899430725975,0.35132500290521274,0.3499629634541748,0.3489708991852666,0.34812323451998606,0.34750817028042996,0.3469945760383411,0.3460251473846215,0.34609149314374354,0.34655044970384624,0.34645678510096195,0.34505806034570974,0.3464723958716973,0.3461047622976165,0.34573244549862453,0.34562785335253643,0.344517147256762,0.3446506193160247,0.3449323936683757,0.3441300002280235,0.2989056071523466,0.2892222481542155,0.2857995874037858,0.28312936565164004,0.2808330217717098,0.2786615640222294,0.2777491146748319,0.2756393194605746,0.2744763172936619,0.2731064724552763,0.2720909920397188,0.2707133418214591,0.2701310601985325,0.2688135114296477,0.2682538654194086,0.2668223580546133,0.26617295012728825,0.2649428216603838,0.26454240547512237,0.26375484226758356,0.26079191861651835,0.2587937403974772,0.25795544218335903,0.25773923305658514,0.25768303429274053,0.2580171047141755,0.2570312847594211,0.2566012081136542,0.25706562844352765,0.2566410155770596]}},\"id\":\"e0f2c9fa-4f6f-4763-b787-40fbf5ad69cf\",\"type\":\"ColumnDataSource\"},{\"attributes\":{\"line_color\":\"#2ca02c\",\"line_dash\":[6],\"line_width\":3,\"x\":{\"field\":\"x\"},\"y\":{\"field\":\"y\"}},\"id\":\"5c95d258-266d-4d60-aee2-cfcd29af42c7\",\"type\":\"Line\"},{\"attributes\":{\"source\":{\"id\":\"e0f2c9fa-4f6f-4763-b787-40fbf5ad69cf\",\"type\":\"ColumnDataSource\"}},\"id\":\"7d74d7bf-657d-413b-ade5-adda4cd00e1d\",\"type\":\"CDSView\"},{\"attributes\":{\"data_source\":{\"id\":\"e0f2c9fa-4f6f-4763-b787-40fbf5ad69cf\",\"type\":\"ColumnDataSource\"},\"glyph\":{\"id\":\"5c95d258-266d-4d60-aee2-cfcd29af42c7\",\"type\":\"Line\"},\"hover_glyph\":null,\"muted_glyph\":null,\"nonselection_glyph\":{\"id\":\"64d9eebd-531f-4a69-bc32-dc396993622c\",\"type\":\"Line\"},\"selection_glyph\":null,\"view\":{\"id\":\"7d74d7bf-657d-413b-ade5-adda4cd00e1d\",\"type\":\"CDSView\"}},\"id\":\"17bd0a6a-a07d-41de-93a5-c3af322a4c9b\",\"type\":\"GlyphRenderer\"},{\"attributes\":{\"label\":{\"value\":\"train - 256_32\"},\"renderers\":[{\"id\":\"17bd0a6a-a07d-41de-93a5-c3af322a4c9b\",\"type\":\"GlyphRenderer\"}]},\"id\":\"3773ee3e-46f3-4235-8daa-a88ffbd9bc84\",\"type\":\"LegendItem\"},{\"attributes\":{\"line_alpha\":0.1,\"line_color\":\"#1f77b4\",\"line_dash\":[6],\"line_width\":3,\"x\":{\"field\":\"x\"},\"y\":{\"field\":\"y\"}},\"id\":\"64d9eebd-531f-4a69-bc32-dc396993622c\",\"type\":\"Line\"},{\"attributes\":{\"line_alpha\":0.1,\"line_color\":\"#1f77b4\",\"line_dash\":[6],\"line_width\":3,\"x\":{\"field\":\"x\"},\"y\":{\"field\":\"y\"}},\"id\":\"ad188cdf-2848-4749-a4fe-2fc7de6d8f3d\",\"type\":\"Line\"},{\"attributes\":{\"callback\":null},\"id\":\"044effff-7e4d-4e00-8868-0b2c32508701\",\"type\":\"DataRange1d\"},{\"attributes\":{\"background_fill_color\":{\"value\":\"#fafafa\"},\"below\":[{\"id\":\"c845d238-6edc-4010-8555-d1065ee17ae6\",\"type\":\"LinearAxis\"}],\"left\":[{\"id\":\"2eec22cd-1f4f-4bff-9b4d-dd3a046fbddb\",\"type\":\"LinearAxis\"}],\"min_border\":10,\"min_border_left\":50,\"renderers\":[{\"id\":\"c845d238-6edc-4010-8555-d1065ee17ae6\",\"type\":\"LinearAxis\"},{\"id\":\"a2693c7d-886d-4ab1-90f1-3dd375afdc44\",\"type\":\"Grid\"},{\"id\":\"2eec22cd-1f4f-4bff-9b4d-dd3a046fbddb\",\"type\":\"LinearAxis\"},{\"id\":\"615de772-182f-4af1-82d9-e6b0cbfe5432\",\"type\":\"Grid\"},{\"id\":\"fd9b0e01-f9c6-4f21-9046-31277fb0f5ba\",\"type\":\"BoxAnnotation\"},{\"id\":\"ef57934a-f934-4eb2-a79f-2f8d94d0255c\",\"type\":\"Legend\"},{\"id\":\"ce429881-dcd7-4f5f-acc4-7090024c56d9\",\"type\":\"GlyphRenderer\"},{\"id\":\"c9add24b-a13c-49d3-8588-e7e6e73b30b5\",\"type\":\"GlyphRenderer\"},{\"id\":\"b1956bfe-405e-4f60-90f4-08291a774786\",\"type\":\"GlyphRenderer\"},{\"id\":\"d6255746-8dd8-4ba1-b7b3-c80d9a1395a4\",\"type\":\"GlyphRenderer\"},{\"id\":\"89a13875-c47d-43aa-8aa4-0ab479d61bd7\",\"type\":\"GlyphRenderer\"},{\"id\":\"2888bbe2-0ee5-4e21-bcbf-ef534f448dfc\",\"type\":\"GlyphRenderer\"},{\"id\":\"17bd0a6a-a07d-41de-93a5-c3af322a4c9b\",\"type\":\"GlyphRenderer\"},{\"id\":\"a5150e93-1ee3-477e-a582-11d165e47954\",\"type\":\"GlyphRenderer\"},{\"id\":\"cd8bc92b-48a3-45db-9ceb-799e71459857\",\"type\":\"GlyphRenderer\"}],\"title\":{\"id\":\"6324f3d2-c482-4ac2-a19a-f21e523158b9\",\"type\":\"Title\"},\"toolbar\":{\"id\":\"0e0d2a77-9a9c-492d-881d-80c868580199\",\"type\":\"Toolbar\"},\"x_range\":{\"id\":\"044effff-7e4d-4e00-8868-0b2c32508701\",\"type\":\"DataRange1d\"},\"x_scale\":{\"id\":\"4af0c6e3-d215-4d1a-9344-660c460685e0\",\"type\":\"LinearScale\"},\"y_range\":{\"id\":\"0f3ec278-bd5c-4e0b-b481-402db262ad0a\",\"type\":\"DataRange1d\"},\"y_scale\":{\"id\":\"ccd54595-93eb-4432-8070-f4e6caaaf5b2\",\"type\":\"LinearScale\"}},\"id\":\"55fb07e3-4526-4866-a7e7-21cc4263a608\",\"subtype\":\"Figure\",\"type\":\"Plot\"},{\"attributes\":{\"callback\":null,\"column_names\":[\"x\",\"y\"],\"data\":{\"x\":{\"__ndarray__\":\"AQAAAAIAAAADAAAABAAAAAUAAAAGAAAABwAAAAgAAAAJAAAACgAAAAsAAAAMAAAADQAAAA4AAAAPAAAAEAAAABEAAAASAAAAEwAAABQAAAAVAAAAFgAAABcAAAAYAAAAGQAAABoAAAAbAAAAHAAAAB0AAAAeAAAAHwAAACAAAAAhAAAAIgAAACMAAAAkAAAAJQAAACYAAAAnAAAAKAAAACkAAAAqAAAAKwAAACwAAAAtAAAALgAAAC8AAAAwAAAAMQAAADIAAAAzAAAANAAAADUAAAA2AAAANwAAADgAAAA5AAAAOgAAADsAAAA8AAAAPQAAAD4AAAA/AAAAQAAAAEEAAABCAAAAQwAAAEQAAABFAAAARgAAAEcAAABIAAAASQAAAEoAAABLAAAATAAAAE0AAABOAAAATwAAAFAAAABRAAAAUgAAAFMAAABUAAAAVQAAAFYAAABXAAAAWAAAAFkAAABaAAAA\",\"dtype\":\"int32\",\"shape\":[90]},\"y\":[0.9282318386282714,0.7498858462617854,0.6561369438956232,0.6091165320352885,0.580560535823622,0.5614576397918154,0.5477818270367257,0.538209304484872,0.5303282085777811,0.5247621894741151,0.5199884168095092,0.5149992155579868,0.5124351470191083,0.509310651927811,0.5063937800465039,0.504798359619463,0.5026081689594102,0.5006872640350428,0.4992190713638297,0.49783751845048185,0.49738012296711626,0.49545921804039655,0.4942173814976663,0.49412683904355176,0.49307077063253274,0.49225979126982894,0.49153232950844933,0.4914339816732696,0.4900930167559788,0.489398337608281,0.378541595279988,0.35536975273095756,0.3456169258175803,0.3400071965614652,0.3357891672152558,0.33348033472378125,0.33227128079267837,0.3305517547706085,0.3303878417126208,0.32985239238859054,0.32944573190048976,0.3297150176379319,0.3296697464106512,0.33013416673873813,0.3305111667738368,0.3296962847104769,0.32978604662565725,0.3296197919566729,0.32881739850971065,0.3285223550087569,0.32873231982828477,0.32782767586031475,0.32700889111202003,0.32741555159982305,0.3267934625198034,0.32589037963181594,0.324824944755402,0.32432618073951647,0.32431291159091374,0.3234129508478847,0.27789351426949727,0.2658341964819545,0.2610783761999738,0.256993818917136,0.25488948747145845,0.25200539820603657,0.25027650571371846,0.2487193316745071,0.24746110381722417,0.24531306222981664,0.24477214913881448,0.24304247611324917,0.24161487144220217,0.24061422124933443,0.24042298935124692,0.23887986499445119,0.2373913783319686,0.23699486484105095,0.23547281501770453,0.23522382327873761,0.22838942932575676,0.22639203164037972,0.22580038355482734,0.22515097563691128,0.2247107519964624,0.22431579957596945,0.22438058426246343,0.22413081198893917,0.22437277887657472,0.223518089365233]}},\"id\":\"a1fad52c-a9aa-49ca-ab12-0b55c56ee142\",\"type\":\"ColumnDataSource\"},{\"attributes\":{\"callback\":null,\"data\":{}},\"id\":\"601220e7-c06c-468c-8690-ab751c9018fc\",\"type\":\"ColumnDataSource\"},{\"attributes\":{\"line_color\":\"#ff7f0e\",\"line_width\":3,\"x\":{\"field\":\"x\"},\"y\":{\"field\":\"y\"}},\"id\":\"3260aac1-21b3-4bbc-a96d-990652b25b98\",\"type\":\"Line\"},{\"attributes\":{\"label\":{\"value\":\"train - 256_1\"},\"renderers\":[{\"id\":\"ce429881-dcd7-4f5f-acc4-7090024c56d9\",\"type\":\"GlyphRenderer\"}]},\"id\":\"78af832a-6319-4b3f-82a9-722076f6569b\",\"type\":\"LegendItem\"},{\"attributes\":{\"callback\":null,\"column_names\":[\"x\",\"y\"],\"data\":{\"x\":{\"__ndarray__\":\"AQAAAAIAAAADAAAABAAAAAUAAAAGAAAABwAAAAgAAAAJAAAACgAAAAsAAAAMAAAADQAAAA4AAAAPAAAAEAAAABEAAAASAAAAEwAAABQAAAAVAAAAFgAAABcAAAAYAAAAGQAAABoAAAAbAAAAHAAAAB0AAAAeAAAAHwAAACAAAAAhAAAAIgAAACMAAAAkAAAAJQAAACYAAAAnAAAAKAAAACkAAAAqAAAAKwAAACwAAAAtAAAALgAAAC8AAAAwAAAAMQAAADIAAAAzAAAANAAAADUAAAA2AAAANwAAADgAAAA5AAAAOgAAADsAAAA8AAAAPQAAAD4AAAA/AAAAQAAAAEEAAABCAAAAQwAAAEQAAABFAAAARgAAAEcAAABIAAAASQAAAEoAAABLAAAATAAAAE0AAABOAAAATwAAAFAAAABRAAAAUgAAAFMAAABUAAAAVQAAAFYAAABXAAAAWAAAAFkAAABaAAAA\",\"dtype\":\"int32\",\"shape\":[90]},\"y\":[0.942479999975586,0.9973599999984741,0.9775000000038148,0.9348399999938966,0.8310799998962402,0.7612199999694824,0.681599999975586,0.6202599999389649,0.6008599999145507,0.5579200004028321,0.5506399998291015,0.5693199999755859,0.5348600002563476,0.5273800004272461,0.5067400002929687,0.48650000004882815,0.4816600000488281,0.4961400003295898,0.48358000041503907,0.4739000004516602,0.4628800002685547,0.45872000010986325,0.468260000390625,0.44741999987792963,0.48358000029296877,0.446100000024414,0.465000000366211,0.4860400003662109,0.4687800003295899,0.43632000040283203,0.3400599998046875,0.32777999975585936,0.321099999584961,0.3166400004882812,0.3126800004638672,0.3096399996826172,0.3106999995605469,0.3088200005615234,0.3087600001953125,0.3076600008056641,0.30710000002441407,0.307940000756836,0.30703999978027346,0.30761999975585935,0.308420000390625,0.3061600005859375,0.30480000083007813,0.30475999970703127,0.3066000005859375,0.3164600005859375,0.3079399996582031,0.30857999975585937,0.3050599998046875,0.30846000053710937,0.3083400007080078,0.3020400005615234,0.30943999970703123,0.3030800004150391,0.30480000078124997,0.3030800005371094,0.27230000041503905,0.2695999996826172,0.26628000063476565,0.26608000024414064,0.2647399996826172,0.2640599999267578,0.26364000026855466,0.2624399999755859,0.2620999999267578,0.26078000075683594,0.2612400001220703,0.2586399999511719,0.2587599997558594,0.2594600004638672,0.2596599996826172,0.25929999973144535,0.25800000078124996,0.25918000083007814,0.2581000006591797,0.2577600006835938,0.25536000017089844,0.2538200005126953,0.2551599998046875,0.2537400004638672,0.25390000043945316,0.2546799999267578,0.2547400004882812,0.25412000068359375,0.25451999997558594,0.25416000058593746]}},\"id\":\"3bb0c677-7ebf-426f-baf8-e1513d200b3a\",\"type\":\"ColumnDataSource\"},{\"attributes\":{\"data_source\":{\"id\":\"a1fad52c-a9aa-49ca-ab12-0b55c56ee142\",\"type\":\"ColumnDataSource\"},\"glyph\":{\"id\":\"b3035818-578d-4df0-b3c3-1c6c6598a2bf\",\"type\":\"Line\"},\"hover_glyph\":null,\"muted_glyph\":null,\"nonselection_glyph\":{\"id\":\"ad188cdf-2848-4749-a4fe-2fc7de6d8f3d\",\"type\":\"Line\"},\"selection_glyph\":null,\"view\":{\"id\":\"857b0d1d-df95-4bb3-a289-327effc47204\",\"type\":\"CDSView\"}},\"id\":\"ce429881-dcd7-4f5f-acc4-7090024c56d9\",\"type\":\"GlyphRenderer\"},{\"attributes\":{\"source\":{\"id\":\"3bb0c677-7ebf-426f-baf8-e1513d200b3a\",\"type\":\"ColumnDataSource\"}},\"id\":\"ac7c1336-6bd9-40fa-9bff-abce9b841a5f\",\"type\":\"CDSView\"},{\"attributes\":{\"data_source\":{\"id\":\"3bb0c677-7ebf-426f-baf8-e1513d200b3a\",\"type\":\"ColumnDataSource\"},\"glyph\":{\"id\":\"3260aac1-21b3-4bbc-a96d-990652b25b98\",\"type\":\"Line\"},\"hover_glyph\":null,\"muted_glyph\":null,\"nonselection_glyph\":{\"id\":\"29aa1e3d-8906-44ed-8f65-29ee60e829c8\",\"type\":\"Line\"},\"selection_glyph\":null,\"view\":{\"id\":\"ac7c1336-6bd9-40fa-9bff-abce9b841a5f\",\"type\":\"CDSView\"}},\"id\":\"89a13875-c47d-43aa-8aa4-0ab479d61bd7\",\"type\":\"GlyphRenderer\"},{\"attributes\":{\"line_color\":\"#1f77b4\",\"line_dash\":[6],\"line_width\":3,\"x\":{\"field\":\"x\"},\"y\":{\"field\":\"y\"}},\"id\":\"b3035818-578d-4df0-b3c3-1c6c6598a2bf\",\"type\":\"Line\"},{\"attributes\":{},\"id\":\"208517ec-ffc6-4c8c-a5aa-c07db6fcff36\",\"type\":\"BasicTickFormatter\"},{\"attributes\":{\"label\":{\"value\":\"validation - 8192_1\"},\"renderers\":[{\"id\":\"89a13875-c47d-43aa-8aa4-0ab479d61bd7\",\"type\":\"GlyphRenderer\"}]},\"id\":\"c7813205-1287-4915-84b4-33dad4f011b2\",\"type\":\"LegendItem\"},{\"attributes\":{\"source\":{\"id\":\"a1fad52c-a9aa-49ca-ab12-0b55c56ee142\",\"type\":\"ColumnDataSource\"}},\"id\":\"857b0d1d-df95-4bb3-a289-327effc47204\",\"type\":\"CDSView\"},{\"attributes\":{\"line_alpha\":0.1,\"line_color\":\"#1f77b4\",\"line_width\":3,\"x\":{\"field\":\"x\"},\"y\":{\"field\":\"y\"}},\"id\":\"29aa1e3d-8906-44ed-8f65-29ee60e829c8\",\"type\":\"Line\"},{\"attributes\":{\"click_policy\":\"hide\",\"items\":[{\"id\":\"78af832a-6319-4b3f-82a9-722076f6569b\",\"type\":\"LegendItem\"},{\"id\":\"bff7b9f4-60c0-4c82-8e3f-defd63ff0821\",\"type\":\"LegendItem\"},{\"id\":\"90951668-89c4-4e57-b553-ea2818e4de98\",\"type\":\"LegendItem\"},{\"id\":\"c7813205-1287-4915-84b4-33dad4f011b2\",\"type\":\"LegendItem\"},{\"id\":\"3773ee3e-46f3-4235-8daa-a88ffbd9bc84\",\"type\":\"LegendItem\"},{\"id\":\"553248bb-71ad-445e-9d38-a50f7f0f2ab6\",\"type\":\"LegendItem\"}],\"plot\":{\"id\":\"55fb07e3-4526-4866-a7e7-21cc4263a608\",\"subtype\":\"Figure\",\"type\":\"Plot\"}},\"id\":\"ef57934a-f934-4eb2-a79f-2f8d94d0255c\",\"type\":\"Legend\"},{\"attributes\":{},\"id\":\"ccd54595-93eb-4432-8070-f4e6caaaf5b2\",\"type\":\"LinearScale\"},{\"attributes\":{\"fill_alpha\":{\"value\":0.5},\"fill_color\":{\"value\":\"red\"},\"line_alpha\":{\"value\":0.5},\"line_color\":{\"value\":\"red\"},\"size\":{\"units\":\"screen\",\"value\":5},\"x\":{\"value\":84},\"y\":{\"value\":0.2537400004638672}},\"id\":\"22efcdf8-599a-40f5-9a5a-b48592996e2d\",\"type\":\"Circle\"},{\"attributes\":{},\"id\":\"4af0c6e3-d215-4d1a-9344-660c460685e0\",\"type\":\"LinearScale\"},{\"attributes\":{\"fill_alpha\":{\"value\":0.1},\"fill_color\":{\"value\":\"#1f77b4\"},\"line_alpha\":{\"value\":0.1},\"line_color\":{\"value\":\"#1f77b4\"},\"size\":{\"units\":\"screen\",\"value\":5},\"x\":{\"value\":84},\"y\":{\"value\":0.2537400004638672}},\"id\":\"dddd88af-1fac-40ed-a641-6fbb9ce2b9f4\",\"type\":\"Circle\"},{\"attributes\":{\"callback\":null},\"id\":\"0f3ec278-bd5c-4e0b-b481-402db262ad0a\",\"type\":\"DataRange1d\"},{\"attributes\":{\"line_color\":\"#1f77b4\",\"line_width\":3,\"x\":{\"field\":\"x\"},\"y\":{\"field\":\"y\"}},\"id\":\"af4e13a6-309c-4fe0-9a33-7ae2c8634b4d\",\"type\":\"Line\"},{\"attributes\":{\"source\":{\"id\":\"601220e7-c06c-468c-8690-ab751c9018fc\",\"type\":\"ColumnDataSource\"}},\"id\":\"7d064250-dfb4-49e6-8f43-7d00c6e391b4\",\"type\":\"CDSView\"},{\"attributes\":{\"plot\":{\"id\":\"55fb07e3-4526-4866-a7e7-21cc4263a608\",\"subtype\":\"Figure\",\"type\":\"Plot\"},\"ticker\":{\"id\":\"ba6cb87b-7fba-414d-8665-6b620c6ea7f0\",\"type\":\"BasicTicker\"}},\"id\":\"a2693c7d-886d-4ab1-90f1-3dd375afdc44\",\"type\":\"Grid\"},{\"attributes\":{\"dimension\":1,\"plot\":{\"id\":\"55fb07e3-4526-4866-a7e7-21cc4263a608\",\"subtype\":\"Figure\",\"type\":\"Plot\"},\"ticker\":{\"id\":\"9e815f51-9003-4906-85fd-43ad00d97344\",\"type\":\"BasicTicker\"}},\"id\":\"615de772-182f-4af1-82d9-e6b0cbfe5432\",\"type\":\"Grid\"},{\"attributes\":{},\"id\":\"ba6cb87b-7fba-414d-8665-6b620c6ea7f0\",\"type\":\"BasicTicker\"},{\"attributes\":{\"data_source\":{\"id\":\"601220e7-c06c-468c-8690-ab751c9018fc\",\"type\":\"ColumnDataSource\"},\"glyph\":{\"id\":\"22efcdf8-599a-40f5-9a5a-b48592996e2d\",\"type\":\"Circle\"},\"hover_glyph\":null,\"muted_glyph\":null,\"nonselection_glyph\":{\"id\":\"dddd88af-1fac-40ed-a641-6fbb9ce2b9f4\",\"type\":\"Circle\"},\"selection_glyph\":null,\"view\":{\"id\":\"7d064250-dfb4-49e6-8f43-7d00c6e391b4\",\"type\":\"CDSView\"}},\"id\":\"2888bbe2-0ee5-4e21-bcbf-ef534f448dfc\",\"type\":\"GlyphRenderer\"},{\"attributes\":{\"axis_label\":\"t [Epochs]\",\"formatter\":{\"id\":\"208517ec-ffc6-4c8c-a5aa-c07db6fcff36\",\"type\":\"BasicTickFormatter\"},\"plot\":{\"id\":\"55fb07e3-4526-4866-a7e7-21cc4263a608\",\"subtype\":\"Figure\",\"type\":\"Plot\"},\"ticker\":{\"id\":\"ba6cb87b-7fba-414d-8665-6b620c6ea7f0\",\"type\":\"BasicTicker\"}},\"id\":\"c845d238-6edc-4010-8555-d1065ee17ae6\",\"type\":\"LinearAxis\"},{\"attributes\":{},\"id\":\"9e815f51-9003-4906-85fd-43ad00d97344\",\"type\":\"BasicTicker\"},{\"attributes\":{\"axis_label\":\"Error Rate\",\"formatter\":{\"id\":\"c29f0fd3-cc31-4a9a-a515-1abe250dc34c\",\"type\":\"NumeralTickFormatter\"},\"plot\":{\"id\":\"55fb07e3-4526-4866-a7e7-21cc4263a608\",\"subtype\":\"Figure\",\"type\":\"Plot\"},\"ticker\":{\"id\":\"9e815f51-9003-4906-85fd-43ad00d97344\",\"type\":\"BasicTicker\"}},\"id\":\"2eec22cd-1f4f-4bff-9b4d-dd3a046fbddb\",\"type\":\"LinearAxis\"},{\"attributes\":{\"line_alpha\":0.1,\"line_color\":\"#1f77b4\",\"line_dash\":[6],\"line_width\":3,\"x\":{\"field\":\"x\"},\"y\":{\"field\":\"y\"}},\"id\":\"0b43c401-7948-4825-bb94-333f493ab863\",\"type\":\"Line\"},{\"attributes\":{\"data_source\":{\"id\":\"74a88ec4-4d40-48e3-9cd8-42b79f103950\",\"type\":\"ColumnDataSource\"},\"glyph\":{\"id\":\"4956031f-469a-46a5-b084-65987b4d3f2e\",\"type\":\"Line\"},\"hover_glyph\":null,\"muted_glyph\":null,\"nonselection_glyph\":{\"id\":\"0b43c401-7948-4825-bb94-333f493ab863\",\"type\":\"Line\"},\"selection_glyph\":null,\"view\":{\"id\":\"0e96a13b-2deb-46f0-9b94-4fb9e3933229\",\"type\":\"CDSView\"}},\"id\":\"d6255746-8dd8-4ba1-b7b3-c80d9a1395a4\",\"type\":\"GlyphRenderer\"},{\"attributes\":{\"format\":\"0.0%\"},\"id\":\"c29f0fd3-cc31-4a9a-a515-1abe250dc34c\",\"type\":\"NumeralTickFormatter\"},{\"attributes\":{\"bottom_units\":\"screen\",\"fill_alpha\":{\"value\":0.5},\"fill_color\":{\"value\":\"lightgrey\"},\"left_units\":\"screen\",\"level\":\"overlay\",\"line_alpha\":{\"value\":1.0},\"line_color\":{\"value\":\"black\"},\"line_dash\":[4,4],\"line_width\":{\"value\":2},\"plot\":null,\"render_mode\":\"css\",\"right_units\":\"screen\",\"top_units\":\"screen\"},\"id\":\"fd9b0e01-f9c6-4f21-9046-31277fb0f5ba\",\"type\":\"BoxAnnotation\"},{\"attributes\":{},\"id\":\"4686d57c-7244-4ff2-aea4-e9767a582f8a\",\"type\":\"PanTool\"},{\"attributes\":{\"line_color\":\"#ff7f0e\",\"line_dash\":[6],\"line_width\":3,\"x\":{\"field\":\"x\"},\"y\":{\"field\":\"y\"}},\"id\":\"4956031f-469a-46a5-b084-65987b4d3f2e\",\"type\":\"Line\"},{\"attributes\":{},\"id\":\"f4c38f9b-3d98-4e2b-9c07-e28e0d40f563\",\"type\":\"WheelZoomTool\"},{\"attributes\":{\"overlay\":{\"id\":\"fd9b0e01-f9c6-4f21-9046-31277fb0f5ba\",\"type\":\"BoxAnnotation\"}},\"id\":\"fea31bb7-322f-4011-8d6a-288bfe04e88d\",\"type\":\"BoxZoomTool\"},{\"attributes\":{},\"id\":\"a310cde1-efdc-4be6-9011-957ee6de3530\",\"type\":\"SaveTool\"},{\"attributes\":{\"line_alpha\":0.1,\"line_color\":\"#1f77b4\",\"line_width\":3,\"x\":{\"field\":\"x\"},\"y\":{\"field\":\"y\"}},\"id\":\"c9513db7-cca9-43ec-9db7-ae85556c2058\",\"type\":\"Line\"},{\"attributes\":{},\"id\":\"78165c9c-cef4-40cc-8bac-ffbda2fec45b\",\"type\":\"ResetTool\"},{\"attributes\":{},\"id\":\"c166fc63-84ee-42f7-8e7a-77dffb9fa083\",\"type\":\"HelpTool\"},{\"attributes\":{\"callback\":null,\"column_names\":[\"x\",\"y\"],\"data\":{\"x\":{\"__ndarray__\":\"AQAAAAIAAAADAAAABAAAAAUAAAAGAAAABwAAAAgAAAAJAAAACgAAAAsAAAAMAAAADQAAAA4AAAAPAAAAEAAAABEAAAASAAAAEwAAABQAAAAVAAAAFgAAABcAAAAYAAAAGQAAABoAAAAbAAAAHAAAAB0AAAAeAAAAHwAAACAAAAAhAAAAIgAAACMAAAAkAAAAJQAAACYAAAAnAAAAKAAAACkAAAAqAAAAKwAAACwAAAAtAAAALgAAAC8AAAAwAAAAMQAAADIAAAAzAAAANAAAADUAAAA2AAAANwAAADgAAAA5AAAAOgAAADsAAAA8AAAAPQAAAD4AAAA/AAAAQAAAAEEAAABCAAAAQwAAAEQAAABFAAAARgAAAEcAAABIAAAASQAAAEoAAABLAAAATAAAAE0AAABOAAAATwAAAFAAAABRAAAAUgAAAFMAAABUAAAAVQAAAFYAAABXAAAAWAAAAFkAAABaAAAA\",\"dtype\":\"int32\",\"shape\":[90]},\"y\":[0.8261400000976562,0.68814,0.6124400003173828,0.5609200004272461,0.5159600000366211,0.5452000001220703,0.5127199999755859,0.509319999975586,0.5508800001953125,0.5192000002807617,0.5101000001342774,0.480059999987793,0.4773999999755859,0.4805399998535156,0.4806200003173828,0.4905600000854492,0.48415999990234376,0.48438000029296874,0.5346600001342773,0.4646199999267578,0.4706400001098633,0.4987400000366211,0.4759399998779297,0.4661999998291016,0.49156000017089846,0.4666200000366211,0.4436399999267578,0.4644800002197265,0.4736200004028321,0.4592200004638672,0.3173599996582031,0.30384000009765627,0.3004399997314453,0.29538000026855465,0.3024000002197266,0.29652000048828125,0.29502000041503906,0.29451999958496095,0.2926,0.29954000007324216,0.3016400002685547,0.3004399997802734,0.3020800000732422,0.3040600000244141,0.2944600005859375,0.30512,0.29822000007324223,0.3031600001953125,0.298980000390625,0.30083999958496094,0.30032000021972655,0.3018799997802734,0.3015999998535156,0.29569999978027345,0.29918000029296876,0.30432,0.2995599997314453,0.3055800002197266,0.30204000026855465,0.30614000004882813,0.25633999997558593,0.2518599997558594,0.2484199996826172,0.2482200002685547,0.24822000034179686,0.2462400005126953,0.24552000061035156,0.2440800005371094,0.24448000078124998,0.24286000004882813,0.2447000004394531,0.24353999958496092,0.24411999982910157,0.24332000009765625,0.2422800005859375,0.24247999982910154,0.24166000056152345,0.2425000008300781,0.24377999975585937,0.24269999970703127,0.2396800007080078,0.2383400003173828,0.23920000085449217,0.23884000075683595,0.23812000026855468,0.23848000002441405,0.23905999978027342,0.23754000024414063,0.23687999958496092,0.23818000065917969]}},\"id\":\"f786bb66-1e80-4e4d-bbc2-b37b9b97185c\",\"type\":\"ColumnDataSource\"}],\"root_ids\":[\"55fb07e3-4526-4866-a7e7-21cc4263a608\"]},\"title\":\"Bokeh Application\",\"version\":\"0.12.13\"}};\n",
       "  var render_items = [{\"docid\":\"83a4e01c-e0c3-48ad-9112-02df22058975\",\"elementid\":\"4a53b709-275c-486e-9bea-e75c069bd239\",\"modelid\":\"55fb07e3-4526-4866-a7e7-21cc4263a608\"}];\n",
       "  root.Bokeh.embed.embed_items_notebook(docs_json, render_items);\n",
       "\n",
       "  }\n",
       "  if (root.Bokeh !== undefined) {\n",
       "    embed_document(root);\n",
       "  } else {\n",
       "    var attempts = 0;\n",
       "    var timer = setInterval(function(root) {\n",
       "      if (root.Bokeh !== undefined) {\n",
       "        embed_document(root);\n",
       "        clearInterval(timer);\n",
       "      }\n",
       "      attempts++;\n",
       "      if (attempts > 100) {\n",
       "        console.log(\"Bokeh: ERROR: Unable to run BokehJS code because BokehJS library is missing\")\n",
       "        clearInterval(timer);\n",
       "      }\n",
       "    }, 10, root)\n",
       "  }\n",
       "})(window);"
      ],
      "application/vnd.bokehjs_exec.v0+json": ""
     },
     "metadata": {
      "application/vnd.bokehjs_exec.v0+json": {
       "id": "55fb07e3-4526-4866-a7e7-21cc4263a608"
      }
     },
     "output_type": "display_data"
    }
   ],
   "source": [
    "show(plots[1])"
   ]
  },
  {
   "cell_type": "code",
   "execution_count": 3,
   "metadata": {},
   "outputs": [
    {
     "data": {
      "text/html": [
       "\n",
       "<div class=\"bk-root\">\n",
       "    <div class=\"bk-plotdiv\" id=\"643a43e9-bc15-41c2-b48a-9b4cb2e92918\"></div>\n",
       "</div>"
      ]
     },
     "metadata": {},
     "output_type": "display_data"
    },
    {
     "data": {
      "application/javascript": [
       "(function(root) {\n",
       "  function embed_document(root) {\n",
       "    \n",
       "  var docs_json = {\"e09b9bb9-d265-4c01-bf3e-527d6870df91\":{\"roots\":{\"references\":[{\"attributes\":{\"line_alpha\":0.1,\"line_color\":\"#1f77b4\",\"line_width\":3,\"x\":{\"field\":\"x\"},\"y\":{\"field\":\"y\"}},\"id\":\"444b04dc-8a70-449f-9b5d-00329b967861\",\"type\":\"Line\"},{\"attributes\":{\"data_source\":{\"id\":\"fa76b092-3f1d-4958-9cfc-a4e77d6feeb1\",\"type\":\"ColumnDataSource\"},\"glyph\":{\"id\":\"7075975a-ec26-480a-86f9-9df06b39e206\",\"type\":\"Line\"},\"hover_glyph\":null,\"muted_glyph\":null,\"nonselection_glyph\":{\"id\":\"4a11d9ac-a2e9-4b31-adf1-641563e5c932\",\"type\":\"Line\"},\"selection_glyph\":null,\"view\":{\"id\":\"17b1affe-5a55-4616-b32b-9367e8ba7862\",\"type\":\"CDSView\"}},\"id\":\"fe9d1cbb-fd27-4261-b651-5ce7d8e956ce\",\"type\":\"GlyphRenderer\"},{\"attributes\":{\"label\":{\"value\":\"validation - 256_32\"},\"renderers\":[{\"id\":\"dbda7be7-2fd8-4347-9745-ce6693c2ed2f\",\"type\":\"GlyphRenderer\"}]},\"id\":\"191a3753-d40c-49c2-8834-0b00d7e46a19\",\"type\":\"LegendItem\"},{\"attributes\":{\"data_source\":{\"id\":\"09ec5a35-5957-4701-bcae-6ba8d91671c8\",\"type\":\"ColumnDataSource\"},\"glyph\":{\"id\":\"3f769141-9f5b-4a5b-ba02-66ed0a300b2c\",\"type\":\"Line\"},\"hover_glyph\":null,\"muted_glyph\":null,\"nonselection_glyph\":{\"id\":\"444b04dc-8a70-449f-9b5d-00329b967861\",\"type\":\"Line\"},\"selection_glyph\":null,\"view\":{\"id\":\"35882018-2d28-481c-bebd-e6a968eb7f15\",\"type\":\"CDSView\"}},\"id\":\"dbda7be7-2fd8-4347-9745-ce6693c2ed2f\",\"type\":\"GlyphRenderer\"},{\"attributes\":{\"line_alpha\":0.1,\"line_color\":\"#1f77b4\",\"line_dash\":[6],\"line_width\":3,\"x\":{\"field\":\"x\"},\"y\":{\"field\":\"y\"}},\"id\":\"4a11d9ac-a2e9-4b31-adf1-641563e5c932\",\"type\":\"Line\"},{\"attributes\":{\"source\":{\"id\":\"09ec5a35-5957-4701-bcae-6ba8d91671c8\",\"type\":\"ColumnDataSource\"}},\"id\":\"35882018-2d28-481c-bebd-e6a968eb7f15\",\"type\":\"CDSView\"},{\"attributes\":{\"line_alpha\":0.1,\"line_color\":\"#1f77b4\",\"line_width\":3,\"x\":{\"field\":\"x\"},\"y\":{\"field\":\"y\"}},\"id\":\"8ad8534c-0feb-4799-822d-e2ccda042147\",\"type\":\"Line\"},{\"attributes\":{},\"id\":\"391ae02d-41dd-4402-a6af-6385a876a5d0\",\"type\":\"ResetTool\"},{\"attributes\":{\"data_source\":{\"id\":\"14f51b72-9a56-40c3-9668-94fe7eee3058\",\"type\":\"ColumnDataSource\"},\"glyph\":{\"id\":\"f7ad88b4-7cd5-4f4a-a708-aa9fe9041000\",\"type\":\"Line\"},\"hover_glyph\":null,\"muted_glyph\":null,\"nonselection_glyph\":{\"id\":\"8ad8534c-0feb-4799-822d-e2ccda042147\",\"type\":\"Line\"},\"selection_glyph\":null,\"view\":{\"id\":\"334f8c28-3a18-46e6-8133-6b62c7e6f49f\",\"type\":\"CDSView\"}},\"id\":\"309263a5-9a6a-4dfa-94f3-4628fd8c9b53\",\"type\":\"GlyphRenderer\"},{\"attributes\":{\"label\":{\"value\":\"validation - 8192_1\"},\"renderers\":[{\"id\":\"309263a5-9a6a-4dfa-94f3-4628fd8c9b53\",\"type\":\"GlyphRenderer\"}]},\"id\":\"2ddfd4bf-adff-4dc2-a384-bc253951bd2d\",\"type\":\"LegendItem\"},{\"attributes\":{\"callback\":null,\"column_names\":[\"x\",\"y\"],\"data\":{\"x\":{\"__ndarray__\":\"AQAAAAIAAAADAAAABAAAAAUAAAAGAAAABwAAAAgAAAAJAAAACgAAAAsAAAAMAAAADQAAAA4AAAAPAAAAEAAAABEAAAASAAAAEwAAABQAAAAVAAAAFgAAABcAAAAYAAAAGQAAABoAAAAbAAAAHAAAAB0AAAAeAAAAHwAAACAAAAAhAAAAIgAAACMAAAAkAAAAJQAAACYAAAAnAAAAKAAAACkAAAAqAAAAKwAAACwAAAAtAAAALgAAAC8AAAAwAAAAMQAAADIAAAAzAAAANAAAADUAAAA2AAAANwAAADgAAAA5AAAAOgAAADsAAAA8AAAAPQAAAD4AAAA/AAAAQAAAAEEAAABCAAAAQwAAAEQAAABFAAAARgAAAEcAAABIAAAASQAAAEoAAABLAAAATAAAAE0AAABOAAAATwAAAFAAAABRAAAAUgAAAFMAAABUAAAAVQAAAFYAAABXAAAAWAAAAFkAAABaAAAA\",\"dtype\":\"int32\",\"shape\":[90]},\"y\":[6.7633033872627415,6.217889507426397,5.856642572594175,5.561400069694018,5.272970947384407,4.898124030847847,4.5220061333391675,4.231051100932464,3.980769291328732,3.775758245049184,3.6290412593795853,3.5029460571552784,3.3838745504376813,3.302109533027927,3.2208590227138685,3.1655469591813743,3.121864319226359,3.069602171362762,3.0004688710764054,2.9804374571267287,2.965710688102678,2.9557313730283465,2.9019569736105955,2.856064011281951,2.890433694290584,2.8575189745384764,2.82174650761676,2.9752287816668868,2.7715487442360267,2.8003769957543514,1.9503735395375108,1.7826796108146212,1.7170508726323743,1.6721090395731202,1.6350339981850441,1.6052932008392626,1.581819329165498,1.557943730484754,1.5409829320278978,1.5284042303569312,1.517156992954713,1.5060743589580388,1.4980433111763625,1.4920989282922097,1.486786438750848,1.4830882087061643,1.4824513381088835,1.4779139021856544,1.4772504710817045,1.4795916302304566,1.476556575675142,1.471905668646313,1.4747779385157422,1.4746523741611721,1.4719448992822124,1.4714264892248359,1.466982553967342,1.4688667210896729,1.4686657439461077,1.463494853157467,1.2672190211487133,1.2215031241617889,1.2052803626453923,1.1931358712045144,1.1815159496485297,1.170782038145245,1.1668832495826618,1.1576260231195068,1.1530864173994755,1.145302442556266,1.1414539398678183,1.1345934615068574,1.130316227666552,1.1250567921252153,1.124284546879519,1.1163864878637477,1.1143725519399734,1.1091089143293114,1.1031634081322212,1.1020544794190446,1.0870779708145788,1.0819013995410676,1.0787179689342468,1.0785120805593413,1.075973304381982,1.0773995232723133,1.07160307316946,1.0718756971319228,1.0721953290908777,1.070613224797503]}},\"id\":\"a17d7f02-338d-4bcc-8901-d01991521a97\",\"type\":\"ColumnDataSource\"},{\"attributes\":{\"line_color\":\"#ff7f0e\",\"line_dash\":[6],\"line_width\":3,\"x\":{\"field\":\"x\"},\"y\":{\"field\":\"y\"}},\"id\":\"4cd696aa-a722-49a4-97fd-4424d71ca93a\",\"type\":\"Line\"},{\"attributes\":{\"source\":{\"id\":\"14f51b72-9a56-40c3-9668-94fe7eee3058\",\"type\":\"ColumnDataSource\"}},\"id\":\"334f8c28-3a18-46e6-8133-6b62c7e6f49f\",\"type\":\"CDSView\"},{\"attributes\":{\"line_alpha\":0.1,\"line_color\":\"#1f77b4\",\"line_dash\":[6],\"line_width\":3,\"x\":{\"field\":\"x\"},\"y\":{\"field\":\"y\"}},\"id\":\"ee21a13e-67b8-47dc-bc7e-16eb3b1e0178\",\"type\":\"Line\"},{\"attributes\":{\"callback\":null,\"column_names\":[\"x\",\"y\"],\"data\":{\"x\":{\"__ndarray__\":\"AQAAAAIAAAADAAAABAAAAAUAAAAGAAAABwAAAAgAAAAJAAAACgAAAAsAAAAMAAAADQAAAA4AAAAPAAAAEAAAABEAAAASAAAAEwAAABQAAAAVAAAAFgAAABcAAAAYAAAAGQAAABoAAAAbAAAAHAAAAB0AAAAeAAAAHwAAACAAAAAhAAAAIgAAACMAAAAkAAAAJQAAACYAAAAnAAAAKAAAACkAAAAqAAAAKwAAACwAAAAtAAAALgAAAC8AAAAwAAAAMQAAADIAAAAzAAAANAAAADUAAAA2AAAANwAAADgAAAA5AAAAOgAAADsAAAA8AAAAPQAAAD4AAAA/AAAAQAAAAEEAAABCAAAAQwAAAEQAAABFAAAARgAAAEcAAABIAAAASQAAAEoAAABLAAAATAAAAE0AAABOAAAATwAAAFAAAABRAAAAUgAAAFMAAABUAAAAVQAAAFYAAABXAAAAWAAAAFkAAABaAAAA\",\"dtype\":\"int32\",\"shape\":[90]},\"y\":[5.525159934234619,6.804961585540772,6.138229990692139,5.419581368713379,4.472986277008057,3.78161971534729,3.230950474472046,2.867860168914795,2.722605421600342,2.4764770419311524,2.4497297078704836,2.5596342189788817,2.3710525285339354,2.337527140274048,2.211386076889038,2.106347930145264,2.0706373848724366,2.152337370147705,2.06944960521698,2.0098569073486328,1.9818155377197266,1.9612232871246338,2.0117795948028565,1.8997879574584962,2.0898974518585205,1.8945850728225708,1.991924743232727,2.121803048858643,1.9891814401245118,1.8461304160308838,1.390771088027954,1.3353457962799071,1.3043705197906494,1.2843779148101806,1.2677054523468017,1.2519605611419677,1.2540714326095581,1.2469355830001831,1.2477082034683227,1.241053046951294,1.2486035440444947,1.2457551808547973,1.241390608215332,1.245538186340332,1.2435624340438842,1.2447297624588012,1.2324982934188842,1.2313331592178345,1.2428685779571533,1.2702386404037476,1.2512489939880371,1.2561064530944823,1.230896340675354,1.252230252456665,1.245303183708191,1.2238387567901612,1.2438008378219605,1.2229083378601073,1.2258591752243042,1.2287253253936767,1.095027719268799,1.0782199978256226,1.069437434387207,1.063653366317749,1.0548114653778076,1.0538289235687255,1.0516525896453857,1.0468781955718993,1.0453675918197631,1.0453395625686646,1.045875756187439,1.044435426979065,1.0410655983734132,1.0434296273803711,1.03835122215271,1.0407433319091797,1.0357956577682494,1.040724382686615,1.0371133034896851,1.0362454829406738,1.0260044157791137,1.0215993745231629,1.0214741679000854,1.0193945734405518,1.0182827255249023,1.0207823220062255,1.0194741287994384,1.017226784324646,1.0174043379974365,1.0207238229751587]}},\"id\":\"14f51b72-9a56-40c3-9668-94fe7eee3058\",\"type\":\"ColumnDataSource\"},{\"attributes\":{\"data_source\":{\"id\":\"bf1f9118-ee5a-4fba-8932-73ac4768d7f3\",\"type\":\"ColumnDataSource\"},\"glyph\":{\"id\":\"4cd696aa-a722-49a4-97fd-4424d71ca93a\",\"type\":\"Line\"},\"hover_glyph\":null,\"muted_glyph\":null,\"nonselection_glyph\":{\"id\":\"ee21a13e-67b8-47dc-bc7e-16eb3b1e0178\",\"type\":\"Line\"},\"selection_glyph\":null,\"view\":{\"id\":\"69826fe5-a889-46e2-910b-6354d16586a1\",\"type\":\"CDSView\"}},\"id\":\"d47c8d03-b2fb-461c-bd0f-66d83e01cddc\",\"type\":\"GlyphRenderer\"},{\"attributes\":{\"line_color\":\"#ff7f0e\",\"line_width\":3,\"x\":{\"field\":\"x\"},\"y\":{\"field\":\"y\"}},\"id\":\"f7ad88b4-7cd5-4f4a-a708-aa9fe9041000\",\"type\":\"Line\"},{\"attributes\":{\"source\":{\"id\":\"a17d7f02-338d-4bcc-8901-d01991521a97\",\"type\":\"ColumnDataSource\"}},\"id\":\"8aff688e-5517-4197-a78b-60a7dcb6e916\",\"type\":\"CDSView\"},{\"attributes\":{\"source\":{\"id\":\"bf1f9118-ee5a-4fba-8932-73ac4768d7f3\",\"type\":\"ColumnDataSource\"}},\"id\":\"69826fe5-a889-46e2-910b-6354d16586a1\",\"type\":\"CDSView\"},{\"attributes\":{\"label\":{\"value\":\"train - 8192_1\"},\"renderers\":[{\"id\":\"d47c8d03-b2fb-461c-bd0f-66d83e01cddc\",\"type\":\"GlyphRenderer\"}]},\"id\":\"f03c4f9d-e2b3-43b7-ad8e-b56e79516ac2\",\"type\":\"LegendItem\"},{\"attributes\":{\"line_color\":\"#2ca02c\",\"line_dash\":[6],\"line_width\":3,\"x\":{\"field\":\"x\"},\"y\":{\"field\":\"y\"}},\"id\":\"2423f49b-f485-4063-953b-44b9b76517fe\",\"type\":\"Line\"},{\"attributes\":{\"callback\":null,\"column_names\":[\"x\",\"y\"],\"data\":{\"x\":{\"__ndarray__\":\"AQAAAAIAAAADAAAABAAAAAUAAAAGAAAABwAAAAgAAAAJAAAACgAAAAsAAAAMAAAADQAAAA4AAAAPAAAAEAAAABEAAAASAAAAEwAAABQAAAAVAAAAFgAAABcAAAAYAAAAGQAAABoAAAAbAAAAHAAAAB0AAAAeAAAAHwAAACAAAAAhAAAAIgAAACMAAAAkAAAAJQAAACYAAAAnAAAAKAAAACkAAAAqAAAAKwAAACwAAAAtAAAALgAAAC8AAAAwAAAAMQAAADIAAAAzAAAANAAAADUAAAA2AAAANwAAADgAAAA5AAAAOgAAADsAAAA8AAAAPQAAAD4AAAA/AAAAQAAAAEEAAABCAAAAQwAAAEQAAABFAAAARgAAAEcAAABIAAAASQAAAEoAAABLAAAATAAAAE0AAABOAAAATwAAAFAAAABRAAAAUgAAAFMAAABUAAAAVQAAAFYAAABXAAAAWAAAAFkAAABaAAAA\",\"dtype\":\"int32\",\"shape\":[90]},\"y\":[0.19816847504472723,0.21963926074304926,0.2031054539062635,0.18279992358008235,0.1576933444239103,0.13664211588583047,0.11749258857204556,0.1065104344289532,0.09866359326843493,0.09385281910828387,0.08941048592440821,0.08625358840592558,0.08398445678850575,0.08177053654609949,0.07988958391269138,0.07882683947610211,0.07774886015012908,0.07695794848464037,0.07607113878215428,0.07559152769547309,0.07484472932395923,0.07456513507813657,0.07407254468115543,0.07342701677121932,0.07342760966637761,0.0729359165313682,0.07264450186957608,0.07237135110444763,0.07248713703135659,0.07206037572590565,0.056494927741510895,0.051901259885515354,0.05012304921118632,0.0489822282569716,0.04813804119845229,0.04761484166585818,0.047180513106679506,0.04681506306527746,0.046665741995261245,0.046428765463052066,0.04625950665042531,0.0463032548374842,0.0460793157534318,0.045927559751330116,0.04585272433183566,0.0457736427578034,0.04572792944172564,0.04556821164061,0.04559042554489182,0.04568174654235639,0.045692161488364365,0.045340072515529496,0.04530921882829964,0.045171677705267456,0.044965399366623325,0.04489010413039163,0.04477423346795273,0.044646478088589625,0.04446849264507284,0.04433142351221604,0.039063982322281025,0.03712962886651853,0.036354214997975656,0.03588712425631673,0.035484538307743514,0.03517814446798148,0.03490022080578449,0.034584817012000085,0.034388062104725135,0.03411732123653988,0.03396702685974155,0.03373235469072943,0.03365502697810785,0.03341204816061655,0.03321777120039358,0.03313282414640723,0.03300306483147455,0.032839876497191535,0.032696877363293166,0.032570476623818075,0.03176880307564397,0.03153383695757959,0.0313862214046349,0.031314253098721094,0.03125392447173535,0.031124373201442877,0.031204866396112727,0.031090823667274944,0.03101197561882701,0.03099817679085507]}},\"id\":\"bf1f9118-ee5a-4fba-8932-73ac4768d7f3\",\"type\":\"ColumnDataSource\"},{\"attributes\":{\"click_policy\":\"hide\",\"items\":[{\"id\":\"d0605527-b145-4aa6-8caf-2862e1c2672d\",\"type\":\"LegendItem\"},{\"id\":\"b9522cb4-a30a-497f-ba45-55a6e5fa879c\",\"type\":\"LegendItem\"},{\"id\":\"f03c4f9d-e2b3-43b7-ad8e-b56e79516ac2\",\"type\":\"LegendItem\"},{\"id\":\"2ddfd4bf-adff-4dc2-a384-bc253951bd2d\",\"type\":\"LegendItem\"},{\"id\":\"988199f1-a966-40fc-8866-2773fbafa9d0\",\"type\":\"LegendItem\"},{\"id\":\"191a3753-d40c-49c2-8834-0b00d7e46a19\",\"type\":\"LegendItem\"}],\"location\":\"bottom_left\",\"plot\":{\"id\":\"2a987ac6-a51b-4fae-9008-fbf26f9a62a5\",\"subtype\":\"Figure\",\"type\":\"Plot\"}},\"id\":\"17313e56-a46f-4495-8709-b9fca29704d3\",\"type\":\"Legend\"},{\"attributes\":{\"label\":{\"value\":\"train - 256_32\"},\"renderers\":[{\"id\":\"ec6a9924-af3c-4497-af80-373469aec5a4\",\"type\":\"GlyphRenderer\"}]},\"id\":\"988199f1-a966-40fc-8866-2773fbafa9d0\",\"type\":\"LegendItem\"},{\"attributes\":{\"callback\":null,\"column_names\":[\"x\",\"y\"],\"data\":{\"x\":{\"__ndarray__\":\"AQAAAAIAAAADAAAABAAAAAUAAAAGAAAABwAAAAgAAAAJAAAACgAAAAsAAAAMAAAADQAAAA4AAAAPAAAAEAAAABEAAAASAAAAEwAAABQAAAAVAAAAFgAAABcAAAAYAAAAGQAAABoAAAAbAAAAHAAAAB0AAAAeAAAAHwAAACAAAAAhAAAAIgAAACMAAAAkAAAAJQAAACYAAAAnAAAAKAAAACkAAAAqAAAAKwAAACwAAAAtAAAALgAAAC8AAAAwAAAAMQAAADIAAAAzAAAANAAAADUAAAA2AAAANwAAADgAAAA5AAAAOgAAADsAAAA8AAAAPQAAAD4AAAA/AAAAQAAAAEEAAABCAAAAQwAAAEQAAABFAAAARgAAAEcAAABIAAAASQAAAEoAAABLAAAATAAAAE0AAABOAAAATwAAAFAAAABRAAAAUgAAAFMAAABUAAAAVQAAAFYAAABXAAAAWAAAAFkAAABaAAAA\",\"dtype\":\"int32\",\"shape\":[90]},\"y\":[5.466275997849344,3.715048945977431,3.1098143375700738,2.8306451965869925,2.6694546931979097,2.562953981608202,2.4892703240936327,2.4360199337609707,2.39570757765192,2.364412790093756,2.337185766480526,2.3142239649915295,2.2959442390512175,2.283042290908864,2.2671713936892726,2.2565915679187856,2.247924973483158,2.2367727616676016,2.2280634522236786,2.2218476535919134,2.2191727380790964,2.2103859887317396,2.2042747234943776,2.20043702195026,2.1961141287495307,2.1922251143824862,2.1878713158310963,2.186685053094778,2.1815685468235713,2.1778003008330886,1.6352877944527429,1.5200140885799238,1.4729589218487276,1.4444872073962831,1.4243894742237093,1.411117164959822,1.4032638126445607,1.395360286161202,1.3947336543971705,1.3926031942723522,1.391483876849462,1.3913869699274355,1.3916058163787826,1.3911124992773984,1.3926059962894635,1.3901189637680067,1.388398979859193,1.3889242588469697,1.386103416582839,1.3835511577414303,1.384264793887264,1.3802402246807215,1.376146160247541,1.378257661367581,1.3763936006528041,1.371442759821417,1.3656852298096145,1.3644612475781865,1.363397906309777,1.3591525402053624,1.1580333744892446,1.1027035552454514,1.0804155005361253,1.0640897373563936,1.0535658759765874,1.0419600374820437,1.0354216659943252,1.027649503496797,1.022080707114373,1.0127270803441772,1.009612683479568,1.0027603435922994,0.9962792671110681,0.9902378727030676,0.98917001319386,0.9826747644748154,0.9792728650308704,0.9738946575730302,0.9683414665615518,0.9665415504778571,0.9383358421921016,0.9302108569252754,0.9273485284651433,0.9254373662442835,0.9244301611033485,0.9221675628312439,0.9221281995114853,0.9209120194627252,0.9213048348695693,0.9172118204934145]}},\"id\":\"fa76b092-3f1d-4958-9cfc-a4e77d6feeb1\",\"type\":\"ColumnDataSource\"},{\"attributes\":{},\"id\":\"3049c7f4-bdd8-4474-8d70-e1dbd593e9fc\",\"type\":\"BasicTickFormatter\"},{\"attributes\":{\"line_color\":\"#2ca02c\",\"line_width\":3,\"x\":{\"field\":\"x\"},\"y\":{\"field\":\"y\"}},\"id\":\"3f769141-9f5b-4a5b-ba02-66ed0a300b2c\",\"type\":\"Line\"},{\"attributes\":{\"line_alpha\":0.1,\"line_color\":\"#1f77b4\",\"line_dash\":[6],\"line_width\":3,\"x\":{\"field\":\"x\"},\"y\":{\"field\":\"y\"}},\"id\":\"4f1c5731-d6e5-4ed1-b086-23d0c166d5a1\",\"type\":\"Line\"},{\"attributes\":{\"label\":{\"value\":\"train - 256_1\"},\"renderers\":[{\"id\":\"fe9d1cbb-fd27-4261-b651-5ce7d8e956ce\",\"type\":\"GlyphRenderer\"}]},\"id\":\"d0605527-b145-4aa6-8caf-2862e1c2672d\",\"type\":\"LegendItem\"},{\"attributes\":{\"line_color\":\"#1f77b4\",\"line_dash\":[6],\"line_width\":3,\"x\":{\"field\":\"x\"},\"y\":{\"field\":\"y\"}},\"id\":\"7075975a-ec26-480a-86f9-9df06b39e206\",\"type\":\"Line\"},{\"attributes\":{\"active_drag\":\"auto\",\"active_inspect\":\"auto\",\"active_scroll\":\"auto\",\"active_tap\":\"auto\",\"tools\":[{\"id\":\"771509e9-e6c3-459f-a0bf-7db084b613ac\",\"type\":\"PanTool\"},{\"id\":\"42e3ad18-c227-4e3d-a138-5cd7f4367b81\",\"type\":\"WheelZoomTool\"},{\"id\":\"a72b31d2-a6f9-46ae-bf73-6ef6a35d2046\",\"type\":\"BoxZoomTool\"},{\"id\":\"5c77ef0b-8120-4b44-874f-d2f3234a2518\",\"type\":\"SaveTool\"},{\"id\":\"391ae02d-41dd-4402-a6af-6385a876a5d0\",\"type\":\"ResetTool\"},{\"id\":\"edc46ae2-9dfd-4436-b044-b24a4c6c3339\",\"type\":\"HelpTool\"}]},\"id\":\"6550490d-661e-4d08-9cfd-7450bba13bf5\",\"type\":\"Toolbar\"},{\"attributes\":{\"callback\":null},\"id\":\"c4c45963-e75b-446f-9c3f-bd7590df2420\",\"type\":\"DataRange1d\"},{\"attributes\":{\"ticker\":null},\"id\":\"c27fadaa-f75d-4309-8642-87cfe6a1ced6\",\"type\":\"LogTickFormatter\"},{\"attributes\":{\"dimension\":1,\"plot\":{\"id\":\"2a987ac6-a51b-4fae-9008-fbf26f9a62a5\",\"subtype\":\"Figure\",\"type\":\"Plot\"},\"ticker\":{\"id\":\"dbf688ac-c883-4486-b444-4c5ede33f35d\",\"type\":\"LogTicker\"}},\"id\":\"c467c69b-b689-49b7-ba64-1c4ce9e6927c\",\"type\":\"Grid\"},{\"attributes\":{},\"id\":\"eb87b7ca-7f25-4e79-841c-b0704f6f542c\",\"type\":\"LinearScale\"},{\"attributes\":{\"callback\":null},\"id\":\"93b05c39-e054-4257-8779-7866f42a5f67\",\"type\":\"DataRange1d\"},{\"attributes\":{\"background_fill_color\":{\"value\":\"#fafafa\"},\"below\":[{\"id\":\"23356df5-f99b-4d9f-a548-ad9f1258e611\",\"type\":\"LinearAxis\"}],\"left\":[{\"id\":\"fac70164-2ee5-4252-8f5c-1dadb499fce8\",\"type\":\"LogAxis\"}],\"min_border\":10,\"min_border_left\":50,\"renderers\":[{\"id\":\"23356df5-f99b-4d9f-a548-ad9f1258e611\",\"type\":\"LinearAxis\"},{\"id\":\"a031a619-92fe-44d4-88af-7ff7a018c7c1\",\"type\":\"Grid\"},{\"id\":\"fac70164-2ee5-4252-8f5c-1dadb499fce8\",\"type\":\"LogAxis\"},{\"id\":\"c467c69b-b689-49b7-ba64-1c4ce9e6927c\",\"type\":\"Grid\"},{\"id\":\"0436a9e8-b4d5-42e5-ac2f-d76d2c1d5622\",\"type\":\"BoxAnnotation\"},{\"id\":\"17313e56-a46f-4495-8709-b9fca29704d3\",\"type\":\"Legend\"},{\"id\":\"fe9d1cbb-fd27-4261-b651-5ce7d8e956ce\",\"type\":\"GlyphRenderer\"},{\"id\":\"93add959-1306-4b2f-b780-0a1392662abe\",\"type\":\"GlyphRenderer\"},{\"id\":\"d47c8d03-b2fb-461c-bd0f-66d83e01cddc\",\"type\":\"GlyphRenderer\"},{\"id\":\"309263a5-9a6a-4dfa-94f3-4628fd8c9b53\",\"type\":\"GlyphRenderer\"},{\"id\":\"ec6a9924-af3c-4497-af80-373469aec5a4\",\"type\":\"GlyphRenderer\"},{\"id\":\"dbda7be7-2fd8-4347-9745-ce6693c2ed2f\",\"type\":\"GlyphRenderer\"}],\"title\":{\"id\":\"6b4080bd-d19b-42f5-9a87-b2a62b0c156f\",\"type\":\"Title\"},\"toolbar\":{\"id\":\"6550490d-661e-4d08-9cfd-7450bba13bf5\",\"type\":\"Toolbar\"},\"x_range\":{\"id\":\"c4c45963-e75b-446f-9c3f-bd7590df2420\",\"type\":\"DataRange1d\"},\"x_scale\":{\"id\":\"eb87b7ca-7f25-4e79-841c-b0704f6f542c\",\"type\":\"LinearScale\"},\"y_range\":{\"id\":\"93b05c39-e054-4257-8779-7866f42a5f67\",\"type\":\"DataRange1d\"},\"y_scale\":{\"id\":\"bbdecba2-d889-42c7-8812-72fc3485582f\",\"type\":\"LogScale\"}},\"id\":\"2a987ac6-a51b-4fae-9008-fbf26f9a62a5\",\"subtype\":\"Figure\",\"type\":\"Plot\"},{\"attributes\":{\"num_minor_ticks\":10},\"id\":\"dbf688ac-c883-4486-b444-4c5ede33f35d\",\"type\":\"LogTicker\"},{\"attributes\":{\"axis_label\":\"t [Epochs]\",\"formatter\":{\"id\":\"3049c7f4-bdd8-4474-8d70-e1dbd593e9fc\",\"type\":\"BasicTickFormatter\"},\"plot\":{\"id\":\"2a987ac6-a51b-4fae-9008-fbf26f9a62a5\",\"subtype\":\"Figure\",\"type\":\"Plot\"},\"ticker\":{\"id\":\"5c761069-0126-402e-a98d-e8c2d416a4ee\",\"type\":\"BasicTicker\"}},\"id\":\"23356df5-f99b-4d9f-a548-ad9f1258e611\",\"type\":\"LinearAxis\"},{\"attributes\":{\"source\":{\"id\":\"fa76b092-3f1d-4958-9cfc-a4e77d6feeb1\",\"type\":\"ColumnDataSource\"}},\"id\":\"17b1affe-5a55-4616-b32b-9367e8ba7862\",\"type\":\"CDSView\"},{\"attributes\":{\"callback\":null,\"column_names\":[\"x\",\"y\"],\"data\":{\"x\":{\"__ndarray__\":\"AQAAAAIAAAADAAAABAAAAAUAAAAGAAAABwAAAAgAAAAJAAAACgAAAAsAAAAMAAAADQAAAA4AAAAPAAAAEAAAABEAAAASAAAAEwAAABQAAAAVAAAAFgAAABcAAAAYAAAAGQAAABoAAAAbAAAAHAAAAB0AAAAeAAAAHwAAACAAAAAhAAAAIgAAACMAAAAkAAAAJQAAACYAAAAnAAAAKAAAACkAAAAqAAAAKwAAACwAAAAtAAAALgAAAC8AAAAwAAAAMQAAADIAAAAzAAAANAAAADUAAAA2AAAANwAAADgAAAA5AAAAOgAAADsAAAA8AAAAPQAAAD4AAAA/AAAAQAAAAEEAAABCAAAAQwAAAEQAAABFAAAARgAAAEcAAABIAAAASQAAAEoAAABLAAAATAAAAE0AAABOAAAATwAAAFAAAABRAAAAUgAAAFMAAABUAAAAVQAAAFYAAABXAAAAWAAAAFkAAABaAAAA\",\"dtype\":\"int32\",\"shape\":[90]},\"y\":[6.5299654335021975,6.477738202972412,16.794819512634277,5.849211119842529,6.052752761230469,7.258273574066162,6.223866955871582,5.3355398023986815,4.795684785003662,8.755180961608886,6.56583291229248,5.834226940460205,4.780962880554199,5.638234652404785,5.284919326934815,5.339713499145508,6.306998389129639,6.996193649139404,4.445802755279541,5.778762119750977,4.459434420623779,13.500469226379394,5.8977093495178226,7.1528279457092285,6.124169618988037,4.647251495666504,4.790305785675049,5.006272477722168,8.649698707580566,6.192495420684814,1.5088588673782348,1.4459213156509398,1.4100271406555176,1.379165625076294,1.3607464738082886,1.34497828125,1.349447839126587,1.3667314469909668,1.4637034733963012,1.3619812686920165,1.3525007356643677,1.4279207400512695,1.376568755455017,1.4099911185455323,1.359369437828064,1.4384634498214721,1.5284716683578492,1.4538164796447755,1.6152186031723021,1.4556319483566285,3.042085517501831,1.6060311281585693,1.5420633682632445,1.6250414070129395,1.7240546288681031,1.520110648727417,1.4997334281158448,1.6248514191055299,1.9680514209747315,1.647732092552185,1.1171337199783324,1.1057629137802123,1.097683285675049,1.0922021533584594,1.0918170651626586,1.0902770655059815,1.0835719367599488,1.0818003621673584,1.0817675201034547,1.078808006629944,1.0727509825515746,1.0753478183364868,1.075366446685791,1.0726463883590698,1.0685597631454469,1.068976446838379,1.0690774768447875,1.0677550257110595,1.0676424385070802,1.064481834640503,1.0611187396621704,1.058392022857666,1.0560389764022826,1.0568236910629272,1.0549710282325744,1.0557807809829711,1.0549565537261962,1.0542389214324952,1.0538685690689087,1.0527737237548829]}},\"id\":\"09ec5a35-5957-4701-bcae-6ba8d91671c8\",\"type\":\"ColumnDataSource\"},{\"attributes\":{\"plot\":null,\"text\":\"Training & Test Loss\"},\"id\":\"6b4080bd-d19b-42f5-9a87-b2a62b0c156f\",\"type\":\"Title\"},{\"attributes\":{},\"id\":\"5c761069-0126-402e-a98d-e8c2d416a4ee\",\"type\":\"BasicTicker\"},{\"attributes\":{\"plot\":{\"id\":\"2a987ac6-a51b-4fae-9008-fbf26f9a62a5\",\"subtype\":\"Figure\",\"type\":\"Plot\"},\"ticker\":{\"id\":\"5c761069-0126-402e-a98d-e8c2d416a4ee\",\"type\":\"BasicTicker\"}},\"id\":\"a031a619-92fe-44d4-88af-7ff7a018c7c1\",\"type\":\"Grid\"},{\"attributes\":{},\"id\":\"bbdecba2-d889-42c7-8812-72fc3485582f\",\"type\":\"LogScale\"},{\"attributes\":{\"axis_label\":\"L(w(t))\",\"formatter\":{\"id\":\"c27fadaa-f75d-4309-8642-87cfe6a1ced6\",\"type\":\"LogTickFormatter\"},\"plot\":{\"id\":\"2a987ac6-a51b-4fae-9008-fbf26f9a62a5\",\"subtype\":\"Figure\",\"type\":\"Plot\"},\"ticker\":{\"id\":\"dbf688ac-c883-4486-b444-4c5ede33f35d\",\"type\":\"LogTicker\"}},\"id\":\"fac70164-2ee5-4252-8f5c-1dadb499fce8\",\"type\":\"LogAxis\"},{\"attributes\":{},\"id\":\"771509e9-e6c3-459f-a0bf-7db084b613ac\",\"type\":\"PanTool\"},{\"attributes\":{\"data_source\":{\"id\":\"7b3a9224-cea7-49a3-9fe2-f2685070f7e7\",\"type\":\"ColumnDataSource\"},\"glyph\":{\"id\":\"42627817-de68-4f98-b546-0ca5bd07facb\",\"type\":\"Line\"},\"hover_glyph\":null,\"muted_glyph\":null,\"nonselection_glyph\":{\"id\":\"64764e75-056d-4f9e-8caf-fd94af3a724c\",\"type\":\"Line\"},\"selection_glyph\":null,\"view\":{\"id\":\"931373a6-0b87-4d58-90e9-ea1d4078b308\",\"type\":\"CDSView\"}},\"id\":\"93add959-1306-4b2f-b780-0a1392662abe\",\"type\":\"GlyphRenderer\"},{\"attributes\":{\"bottom_units\":\"screen\",\"fill_alpha\":{\"value\":0.5},\"fill_color\":{\"value\":\"lightgrey\"},\"left_units\":\"screen\",\"level\":\"overlay\",\"line_alpha\":{\"value\":1.0},\"line_color\":{\"value\":\"black\"},\"line_dash\":[4,4],\"line_width\":{\"value\":2},\"plot\":null,\"render_mode\":\"css\",\"right_units\":\"screen\",\"top_units\":\"screen\"},\"id\":\"0436a9e8-b4d5-42e5-ac2f-d76d2c1d5622\",\"type\":\"BoxAnnotation\"},{\"attributes\":{\"callback\":null,\"column_names\":[\"x\",\"y\"],\"data\":{\"x\":{\"__ndarray__\":\"AQAAAAIAAAADAAAABAAAAAUAAAAGAAAABwAAAAgAAAAJAAAACgAAAAsAAAAMAAAADQAAAA4AAAAPAAAAEAAAABEAAAASAAAAEwAAABQAAAAVAAAAFgAAABcAAAAYAAAAGQAAABoAAAAbAAAAHAAAAB0AAAAeAAAAHwAAACAAAAAhAAAAIgAAACMAAAAkAAAAJQAAACYAAAAnAAAAKAAAACkAAAAqAAAAKwAAACwAAAAtAAAALgAAAC8AAAAwAAAAMQAAADIAAAAzAAAANAAAADUAAAA2AAAANwAAADgAAAA5AAAAOgAAADsAAAA8AAAAPQAAAD4AAAA/AAAAQAAAAEEAAABCAAAAQwAAAEQAAABFAAAARgAAAEcAAABIAAAASQAAAEoAAABLAAAATAAAAE0AAABOAAAATwAAAFAAAABRAAAAUgAAAFMAAABUAAAAVQAAAFYAAABXAAAAWAAAAFkAAABaAAAA\",\"dtype\":\"int32\",\"shape\":[90]},\"y\":[4.493376360321045,3.2346071715545652,2.884599764099121,2.480370271911621,2.2585446325683596,2.389369236907959,2.22948926361084,2.221680208206177,2.4573490605163575,2.245195956115723,2.2005182526397706,2.069060320739746,2.0486523194885256,2.0594588262939455,2.0461267365264892,2.117572138366699,2.0566404222106933,2.10845626701355,2.377163919830322,1.9742742096328736,1.9977358380126953,2.184913236618042,2.0548287017059326,1.9889740564727783,2.125024327850342,1.9992236580657958,1.8888084350967407,1.9973520917510987,2.0492301554107666,1.9570195891952515,1.2797341160202027,1.22335160446167,1.1988677026367187,1.1825112502670287,1.2097173246383668,1.1821542106246947,1.1744022219848633,1.185554750366211,1.1750810637664795,1.1962292418289184,1.211465174407959,1.2040760110092164,1.2186634650421142,1.2277350443649293,1.1806587370300292,1.2197624226760864,1.1929592823028565,1.212087907562256,1.197770472946167,1.2088668728637695,1.2023680183410645,1.212334807548523,1.2078700390625,1.1832300122451782,1.2070693841171265,1.238607806968689,1.208642328529358,1.2297978511810304,1.2213144916915895,1.2488689303588867,1.012933881416321,0.9935497012329102,0.9818431276702881,0.9823567039680481,0.9752802014732361,0.9725577382659912,0.9685514155960083,0.9698715229797363,0.9661200273132324,0.9661300813293457,0.9652270193481445,0.9652358314895629,0.9658371592903138,0.9615533235549927,0.9597862707138062,0.9604525426483155,0.9599528736305237,0.9600521181869507,0.960332522315979,0.9595070024871826,0.9468649972915649,0.9435160349082947,0.943732594871521,0.9415329566383361,0.9391674461746216,0.9390440661048889,0.9410821620559693,0.939781604270935,0.9404178450584412,0.942553798942566]}},\"id\":\"7b3a9224-cea7-49a3-9fe2-f2685070f7e7\",\"type\":\"ColumnDataSource\"},{\"attributes\":{\"data_source\":{\"id\":\"a17d7f02-338d-4bcc-8901-d01991521a97\",\"type\":\"ColumnDataSource\"},\"glyph\":{\"id\":\"2423f49b-f485-4063-953b-44b9b76517fe\",\"type\":\"Line\"},\"hover_glyph\":null,\"muted_glyph\":null,\"nonselection_glyph\":{\"id\":\"4f1c5731-d6e5-4ed1-b086-23d0c166d5a1\",\"type\":\"Line\"},\"selection_glyph\":null,\"view\":{\"id\":\"8aff688e-5517-4197-a78b-60a7dcb6e916\",\"type\":\"CDSView\"}},\"id\":\"ec6a9924-af3c-4497-af80-373469aec5a4\",\"type\":\"GlyphRenderer\"},{\"attributes\":{},\"id\":\"42e3ad18-c227-4e3d-a138-5cd7f4367b81\",\"type\":\"WheelZoomTool\"},{\"attributes\":{\"label\":{\"value\":\"validation - 256_1\"},\"renderers\":[{\"id\":\"93add959-1306-4b2f-b780-0a1392662abe\",\"type\":\"GlyphRenderer\"}]},\"id\":\"b9522cb4-a30a-497f-ba45-55a6e5fa879c\",\"type\":\"LegendItem\"},{\"attributes\":{\"overlay\":{\"id\":\"0436a9e8-b4d5-42e5-ac2f-d76d2c1d5622\",\"type\":\"BoxAnnotation\"}},\"id\":\"a72b31d2-a6f9-46ae-bf73-6ef6a35d2046\",\"type\":\"BoxZoomTool\"},{\"attributes\":{\"line_color\":\"#1f77b4\",\"line_width\":3,\"x\":{\"field\":\"x\"},\"y\":{\"field\":\"y\"}},\"id\":\"42627817-de68-4f98-b546-0ca5bd07facb\",\"type\":\"Line\"},{\"attributes\":{},\"id\":\"5c77ef0b-8120-4b44-874f-d2f3234a2518\",\"type\":\"SaveTool\"},{\"attributes\":{\"line_alpha\":0.1,\"line_color\":\"#1f77b4\",\"line_width\":3,\"x\":{\"field\":\"x\"},\"y\":{\"field\":\"y\"}},\"id\":\"64764e75-056d-4f9e-8caf-fd94af3a724c\",\"type\":\"Line\"},{\"attributes\":{\"source\":{\"id\":\"7b3a9224-cea7-49a3-9fe2-f2685070f7e7\",\"type\":\"ColumnDataSource\"}},\"id\":\"931373a6-0b87-4d58-90e9-ea1d4078b308\",\"type\":\"CDSView\"},{\"attributes\":{},\"id\":\"edc46ae2-9dfd-4436-b044-b24a4c6c3339\",\"type\":\"HelpTool\"}],\"root_ids\":[\"2a987ac6-a51b-4fae-9008-fbf26f9a62a5\"]},\"title\":\"Bokeh Application\",\"version\":\"0.12.13\"}};\n",
       "  var render_items = [{\"docid\":\"e09b9bb9-d265-4c01-bf3e-527d6870df91\",\"elementid\":\"643a43e9-bc15-41c2-b48a-9b4cb2e92918\",\"modelid\":\"2a987ac6-a51b-4fae-9008-fbf26f9a62a5\"}];\n",
       "  root.Bokeh.embed.embed_items_notebook(docs_json, render_items);\n",
       "\n",
       "  }\n",
       "  if (root.Bokeh !== undefined) {\n",
       "    embed_document(root);\n",
       "  } else {\n",
       "    var attempts = 0;\n",
       "    var timer = setInterval(function(root) {\n",
       "      if (root.Bokeh !== undefined) {\n",
       "        embed_document(root);\n",
       "        clearInterval(timer);\n",
       "      }\n",
       "      attempts++;\n",
       "      if (attempts > 100) {\n",
       "        console.log(\"Bokeh: ERROR: Unable to run BokehJS code because BokehJS library is missing\")\n",
       "        clearInterval(timer);\n",
       "      }\n",
       "    }, 10, root)\n",
       "  }\n",
       "})(window);"
      ],
      "application/vnd.bokehjs_exec.v0+json": ""
     },
     "metadata": {
      "application/vnd.bokehjs_exec.v0+json": {
       "id": "2a987ac6-a51b-4fae-9008-fbf26f9a62a5"
      }
     },
     "output_type": "display_data"
    }
   ],
   "source": [
    "show(plots[0])"
   ]
  },
  {
   "cell_type": "code",
   "execution_count": 4,
   "metadata": {},
   "outputs": [
    {
     "data": {
      "text/html": [
       "\n",
       "<div class=\"bk-root\">\n",
       "    <div class=\"bk-plotdiv\" id=\"ad93a63a-520f-4b4d-89c9-9a7817a0a4e2\"></div>\n",
       "</div>"
      ]
     },
     "metadata": {},
     "output_type": "display_data"
    },
    {
     "data": {
      "application/javascript": [
       "(function(root) {\n",
       "  function embed_document(root) {\n",
       "    \n",
       "  var docs_json = {\"c93e50df-8f00-405e-9889-7f33fd1e8ea8\":{\"roots\":{\"references\":[{\"attributes\":{},\"id\":\"23012214-cd59-453f-b8f0-96bac2c9452f\",\"type\":\"LinearScale\"},{\"attributes\":{},\"id\":\"49c68c5f-a581-404a-bda5-ca605c8b8787\",\"type\":\"LinearScale\"},{\"attributes\":{\"plot\":{\"id\":\"88ccade7-3536-4109-ba8b-86228131d092\",\"subtype\":\"Figure\",\"type\":\"Plot\"},\"ticker\":{\"id\":\"b44acdf6-a846-40d8-a435-63328b2fe754\",\"type\":\"BasicTicker\"}},\"id\":\"b24c6d85-8df4-4a54-8a9c-169b1d424525\",\"type\":\"Grid\"},{\"attributes\":{\"dimension\":1,\"plot\":{\"id\":\"88ccade7-3536-4109-ba8b-86228131d092\",\"subtype\":\"Figure\",\"type\":\"Plot\"},\"ticker\":{\"id\":\"b85e5069-afe9-4396-aa93-ed67e89317b8\",\"type\":\"BasicTicker\"}},\"id\":\"2d895356-f2c1-4399-b1c2-45eb576a97a0\",\"type\":\"Grid\"},{\"attributes\":{\"data_source\":{\"id\":\"895ae1c0-4bca-4fd6-8311-8fc8e0eab6f0\",\"type\":\"ColumnDataSource\"},\"glyph\":{\"id\":\"6b68676e-f817-435e-9177-42ea5d0b36db\",\"type\":\"Line\"},\"hover_glyph\":null,\"muted_glyph\":null,\"nonselection_glyph\":{\"id\":\"6db86ae9-2f02-40b0-80bd-7e523cc65904\",\"type\":\"Line\"},\"selection_glyph\":null,\"view\":{\"id\":\"7a69734e-b766-4205-aee3-df710680d06a\",\"type\":\"CDSView\"}},\"id\":\"11273bdc-49e4-4777-a099-cdab3a0be071\",\"type\":\"GlyphRenderer\"},{\"attributes\":{},\"id\":\"b44acdf6-a846-40d8-a435-63328b2fe754\",\"type\":\"BasicTicker\"},{\"attributes\":{\"axis_label\":\"t [Epochs]\",\"formatter\":{\"id\":\"50fa4d4d-6cb7-40d0-9c2c-1cf46c1f54c7\",\"type\":\"BasicTickFormatter\"},\"plot\":{\"id\":\"88ccade7-3536-4109-ba8b-86228131d092\",\"subtype\":\"Figure\",\"type\":\"Plot\"},\"ticker\":{\"id\":\"b44acdf6-a846-40d8-a435-63328b2fe754\",\"type\":\"BasicTicker\"}},\"id\":\"c9f20a33-6608-4aff-a455-e72635274afb\",\"type\":\"LinearAxis\"},{\"attributes\":{},\"id\":\"b85e5069-afe9-4396-aa93-ed67e89317b8\",\"type\":\"BasicTicker\"},{\"attributes\":{\"axis_label\":\"||w(t)||\",\"formatter\":{\"id\":\"6d39fc55-2ca9-4f21-ade6-df6525a92100\",\"type\":\"BasicTickFormatter\"},\"plot\":{\"id\":\"88ccade7-3536-4109-ba8b-86228131d092\",\"subtype\":\"Figure\",\"type\":\"Plot\"},\"ticker\":{\"id\":\"b85e5069-afe9-4396-aa93-ed67e89317b8\",\"type\":\"BasicTicker\"}},\"id\":\"59985547-d492-4129-a0d3-dc005ad4debf\",\"type\":\"LinearAxis\"},{\"attributes\":{\"source\":{\"id\":\"895ae1c0-4bca-4fd6-8311-8fc8e0eab6f0\",\"type\":\"ColumnDataSource\"}},\"id\":\"7a69734e-b766-4205-aee3-df710680d06a\",\"type\":\"CDSView\"},{\"attributes\":{\"label\":{\"value\":\"train - 256_32\"},\"renderers\":[{\"id\":\"11273bdc-49e4-4777-a099-cdab3a0be071\",\"type\":\"GlyphRenderer\"}]},\"id\":\"6a0c0dc7-6aa4-4550-8f99-db5d55974138\",\"type\":\"LegendItem\"},{\"attributes\":{\"line_alpha\":0.1,\"line_color\":\"#1f77b4\",\"line_width\":3,\"x\":{\"field\":\"x\"},\"y\":{\"field\":\"y\"}},\"id\":\"6db86ae9-2f02-40b0-80bd-7e523cc65904\",\"type\":\"Line\"},{\"attributes\":{\"bottom_units\":\"screen\",\"fill_alpha\":{\"value\":0.5},\"fill_color\":{\"value\":\"lightgrey\"},\"left_units\":\"screen\",\"level\":\"overlay\",\"line_alpha\":{\"value\":1.0},\"line_color\":{\"value\":\"black\"},\"line_dash\":[4,4],\"line_width\":{\"value\":2},\"plot\":null,\"render_mode\":\"css\",\"right_units\":\"screen\",\"top_units\":\"screen\"},\"id\":\"cc08af32-596d-4f09-964f-a5c77d255a9a\",\"type\":\"BoxAnnotation\"},{\"attributes\":{},\"id\":\"437d12d2-0261-4d08-b7b9-4d402193697c\",\"type\":\"PanTool\"},{\"attributes\":{\"data_source\":{\"id\":\"4858343e-2ebd-4507-98e5-3c6dea830f53\",\"type\":\"ColumnDataSource\"},\"glyph\":{\"id\":\"5729c170-8e7f-49f0-80f0-752cd88c5f6e\",\"type\":\"Line\"},\"hover_glyph\":null,\"muted_glyph\":null,\"nonselection_glyph\":{\"id\":\"0b4e90c7-07f9-4a2f-b936-f3f9261f341e\",\"type\":\"Line\"},\"selection_glyph\":null,\"view\":{\"id\":\"72eedac7-86bb-4cc3-8f84-648b3775f367\",\"type\":\"CDSView\"}},\"id\":\"ffccd223-aeaf-4b2b-b413-c5f88ceebb04\",\"type\":\"GlyphRenderer\"},{\"attributes\":{\"background_fill_color\":{\"value\":\"#fafafa\"},\"below\":[{\"id\":\"c9f20a33-6608-4aff-a455-e72635274afb\",\"type\":\"LinearAxis\"}],\"left\":[{\"id\":\"59985547-d492-4129-a0d3-dc005ad4debf\",\"type\":\"LinearAxis\"}],\"min_border\":10,\"min_border_left\":50,\"renderers\":[{\"id\":\"c9f20a33-6608-4aff-a455-e72635274afb\",\"type\":\"LinearAxis\"},{\"id\":\"b24c6d85-8df4-4a54-8a9c-169b1d424525\",\"type\":\"Grid\"},{\"id\":\"59985547-d492-4129-a0d3-dc005ad4debf\",\"type\":\"LinearAxis\"},{\"id\":\"2d895356-f2c1-4399-b1c2-45eb576a97a0\",\"type\":\"Grid\"},{\"id\":\"cc08af32-596d-4f09-964f-a5c77d255a9a\",\"type\":\"BoxAnnotation\"},{\"id\":\"c2e06819-3a18-4893-a3d8-e7654499f73f\",\"type\":\"Legend\"},{\"id\":\"e205b379-ed74-44b7-8fc9-558ef535c004\",\"type\":\"GlyphRenderer\"},{\"id\":\"ffccd223-aeaf-4b2b-b413-c5f88ceebb04\",\"type\":\"GlyphRenderer\"},{\"id\":\"11273bdc-49e4-4777-a099-cdab3a0be071\",\"type\":\"GlyphRenderer\"}],\"title\":{\"id\":\"dcf72708-b13c-41d1-a59b-cc86baff89d0\",\"type\":\"Title\"},\"toolbar\":{\"id\":\"a90e9eb5-c196-42f0-874f-381d7505b922\",\"type\":\"Toolbar\"},\"x_range\":{\"id\":\"8eb945f4-0dba-46c3-a897-9264024677a5\",\"type\":\"DataRange1d\"},\"x_scale\":{\"id\":\"49c68c5f-a581-404a-bda5-ca605c8b8787\",\"type\":\"LinearScale\"},\"y_range\":{\"id\":\"f6ec92b3-f254-4d62-9cba-5065c604f27c\",\"type\":\"DataRange1d\"},\"y_scale\":{\"id\":\"23012214-cd59-453f-b8f0-96bac2c9452f\",\"type\":\"LinearScale\"}},\"id\":\"88ccade7-3536-4109-ba8b-86228131d092\",\"subtype\":\"Figure\",\"type\":\"Plot\"},{\"attributes\":{},\"id\":\"ad9ba4c5-7356-43d6-b94d-25bc05a3c0d5\",\"type\":\"WheelZoomTool\"},{\"attributes\":{\"overlay\":{\"id\":\"cc08af32-596d-4f09-964f-a5c77d255a9a\",\"type\":\"BoxAnnotation\"}},\"id\":\"5bcb1359-44dd-4a48-b63b-c176d98f87f2\",\"type\":\"BoxZoomTool\"},{\"attributes\":{\"callback\":null,\"column_names\":[\"x\",\"y\"],\"data\":{\"x\":{\"__ndarray__\":\"AQAAAAIAAAADAAAABAAAAAUAAAAGAAAABwAAAAgAAAAJAAAACgAAAAsAAAAMAAAADQAAAA4AAAAPAAAAEAAAABEAAAASAAAAEwAAABQAAAAVAAAAFgAAABcAAAAYAAAAGQAAABoAAAAbAAAAHAAAAB0AAAAeAAAAHwAAACAAAAAhAAAAIgAAACMAAAAkAAAAJQAAACYAAAAnAAAAKAAAACkAAAAqAAAAKwAAACwAAAAtAAAALgAAAC8AAAAwAAAAMQAAADIAAAAzAAAANAAAADUAAAA2AAAANwAAADgAAAA5AAAAOgAAADsAAAA8AAAAPQAAAD4AAAA/AAAAQAAAAEEAAABCAAAAQwAAAEQAAABFAAAARgAAAEcAAABIAAAASQAAAEoAAABLAAAATAAAAE0AAABOAAAATwAAAFAAAABRAAAAUgAAAFMAAABUAAAAVQAAAFYAAABXAAAAWAAAAFkAAABaAAAA\",\"dtype\":\"int32\",\"shape\":[90]},\"y\":[18.986955642700195,78.59618377685547,65.52056121826172,54.641273498535156,52.36399841308594,56.74668884277344,60.13792419433594,62.12923049926758,63.29367446899414,63.86269760131836,64.19005584716797,64.45011901855469,64.41859436035156,64.40628051757812,64.277587890625,64.2148666381836,64.02318572998047,63.882320404052734,63.78032302856445,63.64095687866211,63.58625411987305,63.427581787109375,63.30712890625,63.20043182373047,63.14811325073242,63.0827751159668,63.021888732910156,62.88700866699219,62.85478973388672,62.77814865112305,61.67692947387695,60.43991470336914,59.307762145996094,58.2777214050293,57.36271286010742,56.544517517089844,55.79629135131836,55.14596939086914,54.56262969970703,54.03936767578125,53.559513092041016,53.143802642822266,52.75127410888672,52.420654296875,52.10264587402344,51.817012786865234,51.556217193603516,51.32255172729492,51.10405731201172,50.902381896972656,50.718360900878906,50.54889678955078,50.38703155517578,50.22716522216797,50.10459899902344,49.967838287353516,49.846160888671875,49.744606018066406,49.63298034667969,49.530975341796875,49.5082893371582,49.480712890625,49.45346450805664,49.42560577392578,49.40031051635742,49.3751106262207,49.34953308105469,49.325984954833984,49.30325698852539,49.28152847290039,49.26029586791992,49.240333557128906,49.219703674316406,49.19989776611328,49.18083572387695,49.16080856323242,49.14250946044922,49.124725341796875,49.106239318847656,49.09001922607422,49.08863067626953,49.08717727661133,49.085758209228516,49.084354400634766,49.082969665527344,49.08174514770508,49.08016586303711,49.07870101928711,49.077396392822266,49.07594299316406]}},\"id\":\"4858343e-2ebd-4507-98e5-3c6dea830f53\",\"type\":\"ColumnDataSource\"},{\"attributes\":{},\"id\":\"c84b951c-5b13-448b-b0df-8f2aaf30cc01\",\"type\":\"SaveTool\"},{\"attributes\":{},\"id\":\"d4dea36a-eb90-4403-b8d7-e8372096f3c0\",\"type\":\"ResetTool\"},{\"attributes\":{\"label\":{\"value\":\"train - 8192_1\"},\"renderers\":[{\"id\":\"ffccd223-aeaf-4b2b-b413-c5f88ceebb04\",\"type\":\"GlyphRenderer\"}]},\"id\":\"c69e4418-22aa-45e5-8547-ffe4589f7390\",\"type\":\"LegendItem\"},{\"attributes\":{},\"id\":\"b4de4f4d-9eb3-4689-a4c4-a92f274859a9\",\"type\":\"HelpTool\"},{\"attributes\":{\"source\":{\"id\":\"4858343e-2ebd-4507-98e5-3c6dea830f53\",\"type\":\"ColumnDataSource\"}},\"id\":\"72eedac7-86bb-4cc3-8f84-648b3775f367\",\"type\":\"CDSView\"},{\"attributes\":{\"line_color\":\"#2ca02c\",\"line_width\":3,\"x\":{\"field\":\"x\"},\"y\":{\"field\":\"y\"}},\"id\":\"6b68676e-f817-435e-9177-42ea5d0b36db\",\"type\":\"Line\"},{\"attributes\":{\"callback\":null,\"column_names\":[\"x\",\"y\"],\"data\":{\"x\":{\"__ndarray__\":\"AQAAAAIAAAADAAAABAAAAAUAAAAGAAAABwAAAAgAAAAJAAAACgAAAAsAAAAMAAAADQAAAA4AAAAPAAAAEAAAABEAAAASAAAAEwAAABQAAAAVAAAAFgAAABcAAAAYAAAAGQAAABoAAAAbAAAAHAAAAB0AAAAeAAAAHwAAACAAAAAhAAAAIgAAACMAAAAkAAAAJQAAACYAAAAnAAAAKAAAACkAAAAqAAAAKwAAACwAAAAtAAAALgAAAC8AAAAwAAAAMQAAADIAAAAzAAAANAAAADUAAAA2AAAANwAAADgAAAA5AAAAOgAAADsAAAA8AAAAPQAAAD4AAAA/AAAAQAAAAEEAAABCAAAAQwAAAEQAAABFAAAARgAAAEcAAABIAAAASQAAAEoAAABLAAAATAAAAE0AAABOAAAATwAAAFAAAABRAAAAUgAAAFMAAABUAAAAVQAAAFYAAABXAAAAWAAAAFkAAABaAAAA\",\"dtype\":\"int32\",\"shape\":[90]},\"y\":[19.32701301574707,23.705467224121094,30.512113571166992,38.1307258605957,46.07460021972656,52.85068893432617,58.14643478393555,61.9022331237793,64.63310241699219,66.55467224121094,67.86183166503906,68.8183822631836,69.55239868164062,69.99361419677734,70.32321166992188,70.51151275634766,70.5740737915039,70.594482421875,70.70265197753906,70.63512420654297,70.55671691894531,70.55502319335938,70.52029418945312,70.39678955078125,70.33001708984375,70.18651580810547,70.15009307861328,69.7630615234375,69.8977279663086,69.86898803710938,69.10282135009766,68.1302490234375,67.13683319091797,66.1629409790039,65.22820281982422,64.33419799804688,63.486900329589844,62.6828498840332,61.913021087646484,61.193992614746094,60.513336181640625,59.87401580810547,59.27426528930664,58.70952606201172,58.17656326293945,57.6796760559082,57.211490631103516,56.770423889160156,56.359859466552734,55.97244644165039,55.61300277709961,55.28233337402344,54.965660095214844,54.674949645996094,54.399009704589844,54.14680862426758,53.901031494140625,53.673099517822266,53.4594841003418,53.267860412597656,53.24768829345703,53.22603225708008,53.20302963256836,53.179962158203125,53.156532287597656,53.13286209106445,53.10856246948242,53.08367156982422,53.058650970458984,53.034305572509766,53.00889587402344,52.98387908935547,52.95943069458008,52.93458557128906,52.909053802490234,52.8846549987793,52.85965347290039,52.83503341674805,52.8099250793457,52.78471755981445,52.78234100341797,52.779945373535156,52.777610778808594,52.775184631347656,52.77284622192383,52.77046585083008,52.76813507080078,52.76582717895508,52.763484954833984,52.7611198425293]}},\"id\":\"895ae1c0-4bca-4fd6-8311-8fc8e0eab6f0\",\"type\":\"ColumnDataSource\"},{\"attributes\":{\"line_color\":\"#1f77b4\",\"line_width\":3,\"x\":{\"field\":\"x\"},\"y\":{\"field\":\"y\"}},\"id\":\"b59dbf0f-76ba-4d04-a4b6-5e7c05283d0e\",\"type\":\"Line\"},{\"attributes\":{\"line_color\":\"#ff7f0e\",\"line_width\":3,\"x\":{\"field\":\"x\"},\"y\":{\"field\":\"y\"}},\"id\":\"5729c170-8e7f-49f0-80f0-752cd88c5f6e\",\"type\":\"Line\"},{\"attributes\":{\"data_source\":{\"id\":\"349e2913-438b-4127-9ed1-d9bc5f8b4de3\",\"type\":\"ColumnDataSource\"},\"glyph\":{\"id\":\"b59dbf0f-76ba-4d04-a4b6-5e7c05283d0e\",\"type\":\"Line\"},\"hover_glyph\":null,\"muted_glyph\":null,\"nonselection_glyph\":{\"id\":\"63c79a00-1a56-4c05-9b19-120e17560a84\",\"type\":\"Line\"},\"selection_glyph\":null,\"view\":{\"id\":\"94866f44-d55f-45b2-b624-ba817a85e0cb\",\"type\":\"CDSView\"}},\"id\":\"e205b379-ed74-44b7-8fc9-558ef535c004\",\"type\":\"GlyphRenderer\"},{\"attributes\":{\"line_alpha\":0.1,\"line_color\":\"#1f77b4\",\"line_width\":3,\"x\":{\"field\":\"x\"},\"y\":{\"field\":\"y\"}},\"id\":\"0b4e90c7-07f9-4a2f-b936-f3f9261f341e\",\"type\":\"Line\"},{\"attributes\":{\"plot\":null,\"text\":\"The Norm of w(t)\"},\"id\":\"dcf72708-b13c-41d1-a59b-cc86baff89d0\",\"type\":\"Title\"},{\"attributes\":{\"callback\":null,\"column_names\":[\"x\",\"y\"],\"data\":{\"x\":{\"__ndarray__\":\"AQAAAAIAAAADAAAABAAAAAUAAAAGAAAABwAAAAgAAAAJAAAACgAAAAsAAAAMAAAADQAAAA4AAAAPAAAAEAAAABEAAAASAAAAEwAAABQAAAAVAAAAFgAAABcAAAAYAAAAGQAAABoAAAAbAAAAHAAAAB0AAAAeAAAAHwAAACAAAAAhAAAAIgAAACMAAAAkAAAAJQAAACYAAAAnAAAAKAAAACkAAAAqAAAAKwAAACwAAAAtAAAALgAAAC8AAAAwAAAAMQAAADIAAAAzAAAANAAAADUAAAA2AAAANwAAADgAAAA5AAAAOgAAADsAAAA8AAAAPQAAAD4AAAA/AAAAQAAAAEEAAABCAAAAQwAAAEQAAABFAAAARgAAAEcAAABIAAAASQAAAEoAAABLAAAATAAAAE0AAABOAAAATwAAAFAAAABRAAAAUgAAAFMAAABUAAAAVQAAAFYAAABXAAAAWAAAAFkAAABaAAAA\",\"dtype\":\"int32\",\"shape\":[90]},\"y\":[45.15010070800781,57.44385528564453,62.207759857177734,63.964595794677734,64.64025115966797,64.92052459716797,64.9917221069336,64.98957824707031,64.8937759399414,64.86297607421875,64.72789001464844,64.65362548828125,64.58889770507812,64.51985168457031,64.4142837524414,64.33795928955078,64.28684997558594,64.18175506591797,64.1669692993164,64.10784149169922,64.04440307617188,63.98326110839844,63.988826751708984,63.94239807128906,63.87409591674805,63.8456916809082,63.81119155883789,63.754600524902344,63.74565505981445,63.73651885986328,62.19520568847656,60.64653778076172,59.223236083984375,57.939483642578125,56.79465866088867,55.77432632446289,54.86094284057617,54.05360794067383,53.3420295715332,52.70363998413086,52.1528205871582,51.66324996948242,51.23167037963867,50.848018646240234,50.50403594970703,50.20921325683594,49.93962478637695,49.696163177490234,49.48685073852539,49.29646682739258,49.12630844116211,48.969390869140625,48.83910369873047,48.71574401855469,48.6079216003418,48.50221633911133,48.41305923461914,48.330909729003906,48.25039291381836,48.18047332763672,48.14912033081055,48.111507415771484,48.072994232177734,48.033206939697266,47.995513916015625,47.957923889160156,47.92184829711914,47.885921478271484,47.85010528564453,47.8176383972168,47.78239059448242,47.74848937988281,47.7156867980957,47.685028076171875,47.65245056152344,47.6202392578125,47.590309143066406,47.55997085571289,47.530128479003906,47.50093460083008,47.498226165771484,47.495418548583984,47.49263000488281,47.48985290527344,47.48711395263672,47.48429870605469,47.48146438598633,47.478702545166016,47.47606658935547,47.473201751708984]}},\"id\":\"349e2913-438b-4127-9ed1-d9bc5f8b4de3\",\"type\":\"ColumnDataSource\"},{\"attributes\":{},\"id\":\"6d39fc55-2ca9-4f21-ade6-df6525a92100\",\"type\":\"BasicTickFormatter\"},{\"attributes\":{},\"id\":\"50fa4d4d-6cb7-40d0-9c2c-1cf46c1f54c7\",\"type\":\"BasicTickFormatter\"},{\"attributes\":{\"line_alpha\":0.1,\"line_color\":\"#1f77b4\",\"line_width\":3,\"x\":{\"field\":\"x\"},\"y\":{\"field\":\"y\"}},\"id\":\"63c79a00-1a56-4c05-9b19-120e17560a84\",\"type\":\"Line\"},{\"attributes\":{\"source\":{\"id\":\"349e2913-438b-4127-9ed1-d9bc5f8b4de3\",\"type\":\"ColumnDataSource\"}},\"id\":\"94866f44-d55f-45b2-b624-ba817a85e0cb\",\"type\":\"CDSView\"},{\"attributes\":{\"click_policy\":\"hide\",\"items\":[{\"id\":\"6bde25c6-3edd-480e-80e8-6333a0ed739d\",\"type\":\"LegendItem\"},{\"id\":\"c69e4418-22aa-45e5-8547-ffe4589f7390\",\"type\":\"LegendItem\"},{\"id\":\"6a0c0dc7-6aa4-4550-8f99-db5d55974138\",\"type\":\"LegendItem\"}],\"location\":\"top_left\",\"plot\":{\"id\":\"88ccade7-3536-4109-ba8b-86228131d092\",\"subtype\":\"Figure\",\"type\":\"Plot\"}},\"id\":\"c2e06819-3a18-4893-a3d8-e7654499f73f\",\"type\":\"Legend\"},{\"attributes\":{\"label\":{\"value\":\"train - 256_1\"},\"renderers\":[{\"id\":\"e205b379-ed74-44b7-8fc9-558ef535c004\",\"type\":\"GlyphRenderer\"}]},\"id\":\"6bde25c6-3edd-480e-80e8-6333a0ed739d\",\"type\":\"LegendItem\"},{\"attributes\":{\"callback\":null},\"id\":\"f6ec92b3-f254-4d62-9cba-5065c604f27c\",\"type\":\"DataRange1d\"},{\"attributes\":{\"callback\":null},\"id\":\"8eb945f4-0dba-46c3-a897-9264024677a5\",\"type\":\"DataRange1d\"},{\"attributes\":{\"active_drag\":\"auto\",\"active_inspect\":\"auto\",\"active_scroll\":\"auto\",\"active_tap\":\"auto\",\"tools\":[{\"id\":\"437d12d2-0261-4d08-b7b9-4d402193697c\",\"type\":\"PanTool\"},{\"id\":\"ad9ba4c5-7356-43d6-b94d-25bc05a3c0d5\",\"type\":\"WheelZoomTool\"},{\"id\":\"5bcb1359-44dd-4a48-b63b-c176d98f87f2\",\"type\":\"BoxZoomTool\"},{\"id\":\"c84b951c-5b13-448b-b0df-8f2aaf30cc01\",\"type\":\"SaveTool\"},{\"id\":\"d4dea36a-eb90-4403-b8d7-e8372096f3c0\",\"type\":\"ResetTool\"},{\"id\":\"b4de4f4d-9eb3-4689-a4c4-a92f274859a9\",\"type\":\"HelpTool\"}]},\"id\":\"a90e9eb5-c196-42f0-874f-381d7505b922\",\"type\":\"Toolbar\"}],\"root_ids\":[\"88ccade7-3536-4109-ba8b-86228131d092\"]},\"title\":\"Bokeh Application\",\"version\":\"0.12.13\"}};\n",
       "  var render_items = [{\"docid\":\"c93e50df-8f00-405e-9889-7f33fd1e8ea8\",\"elementid\":\"ad93a63a-520f-4b4d-89c9-9a7817a0a4e2\",\"modelid\":\"88ccade7-3536-4109-ba8b-86228131d092\"}];\n",
       "  root.Bokeh.embed.embed_items_notebook(docs_json, render_items);\n",
       "\n",
       "  }\n",
       "  if (root.Bokeh !== undefined) {\n",
       "    embed_document(root);\n",
       "  } else {\n",
       "    var attempts = 0;\n",
       "    var timer = setInterval(function(root) {\n",
       "      if (root.Bokeh !== undefined) {\n",
       "        embed_document(root);\n",
       "        clearInterval(timer);\n",
       "      }\n",
       "      attempts++;\n",
       "      if (attempts > 100) {\n",
       "        console.log(\"Bokeh: ERROR: Unable to run BokehJS code because BokehJS library is missing\")\n",
       "        clearInterval(timer);\n",
       "      }\n",
       "    }, 10, root)\n",
       "  }\n",
       "})(window);"
      ],
      "application/vnd.bokehjs_exec.v0+json": ""
     },
     "metadata": {
      "application/vnd.bokehjs_exec.v0+json": {
       "id": "88ccade7-3536-4109-ba8b-86228131d092"
      }
     },
     "output_type": "display_data"
    }
   ],
   "source": [
    "show(plots[2])"
   ]
  },
  {
   "cell_type": "code",
   "execution_count": 5,
   "metadata": {},
   "outputs": [
    {
     "data": {
      "text/html": [
       "\n",
       "<div class=\"bk-root\">\n",
       "    <div class=\"bk-plotdiv\" id=\"225d639a-e565-4829-a9d4-c880df15abcc\"></div>\n",
       "</div>"
      ]
     },
     "metadata": {},
     "output_type": "display_data"
    },
    {
     "data": {
      "application/javascript": [
       "(function(root) {\n",
       "  function embed_document(root) {\n",
       "    \n",
       "  var docs_json = {\"e89411fd-18e6-4f2c-9878-2ac3273f88f0\":{\"roots\":{\"references\":[{\"attributes\":{\"callback\":null},\"id\":\"6282d77c-7007-49f2-9b40-829df978e16e\",\"type\":\"DataRange1d\"},{\"attributes\":{\"active_drag\":\"auto\",\"active_inspect\":\"auto\",\"active_scroll\":\"auto\",\"active_tap\":\"auto\",\"tools\":[{\"id\":\"aaea1d9d-523e-4a2b-aaf4-157d3674aeeb\",\"type\":\"PanTool\"},{\"id\":\"cdb244a5-5df2-42eb-be28-a39dd869f28f\",\"type\":\"WheelZoomTool\"},{\"id\":\"9b56b2c1-34be-46cb-8af5-56fe6c66983a\",\"type\":\"BoxZoomTool\"},{\"id\":\"79537c7c-ad4f-4d64-b251-98c8d464c11f\",\"type\":\"SaveTool\"},{\"id\":\"ad277757-5803-45fc-9a3b-040241af546a\",\"type\":\"ResetTool\"},{\"id\":\"666b1d12-f324-4212-9902-ac2ac743411b\",\"type\":\"HelpTool\"}]},\"id\":\"fe96d1cf-4ade-49de-a05d-92ccbc8a8e2a\",\"type\":\"Toolbar\"},{\"attributes\":{\"plot\":null,\"text\":\"The Norm of Gradients\"},\"id\":\"dd655df5-3b5a-419d-98ed-d76b5b65ceca\",\"type\":\"Title\"},{\"attributes\":{\"line_alpha\":0.1,\"line_color\":\"#1f77b4\",\"line_width\":3,\"x\":{\"field\":\"x\"},\"y\":{\"field\":\"y\"}},\"id\":\"dba171c4-7045-4225-b04b-6fb08a6c7069\",\"type\":\"Line\"},{\"attributes\":{\"label\":{\"value\":\"train - 8192_1\"},\"renderers\":[{\"id\":\"2ad1f9d1-561c-453d-8d58-4996c7e92947\",\"type\":\"GlyphRenderer\"}]},\"id\":\"79a76b5d-4a0e-4399-bfe9-7e2191b780b4\",\"type\":\"LegendItem\"},{\"attributes\":{\"data_source\":{\"id\":\"16338d99-45c8-44ee-84e1-c86752f6709e\",\"type\":\"ColumnDataSource\"},\"glyph\":{\"id\":\"6a346797-59bf-4e38-9176-f43eed60960c\",\"type\":\"Line\"},\"hover_glyph\":null,\"muted_glyph\":null,\"nonselection_glyph\":{\"id\":\"dba171c4-7045-4225-b04b-6fb08a6c7069\",\"type\":\"Line\"},\"selection_glyph\":null,\"view\":{\"id\":\"7164897a-9a4c-4611-960d-9b78b8323930\",\"type\":\"CDSView\"}},\"id\":\"2ad1f9d1-561c-453d-8d58-4996c7e92947\",\"type\":\"GlyphRenderer\"},{\"attributes\":{\"source\":{\"id\":\"16338d99-45c8-44ee-84e1-c86752f6709e\",\"type\":\"ColumnDataSource\"}},\"id\":\"7164897a-9a4c-4611-960d-9b78b8323930\",\"type\":\"CDSView\"},{\"attributes\":{},\"id\":\"7df0c6d9-ebbf-4dd1-9a74-63d3d58ce348\",\"type\":\"LinearScale\"},{\"attributes\":{},\"id\":\"3b3c408f-60a3-4540-aef0-202d4031031a\",\"type\":\"LinearScale\"},{\"attributes\":{\"callback\":null},\"id\":\"89681607-d770-43c4-a4bf-c6e354d8d0d4\",\"type\":\"DataRange1d\"},{\"attributes\":{\"plot\":{\"id\":\"b1a0b166-18ac-4c6a-b0a1-8b9292786ed8\",\"subtype\":\"Figure\",\"type\":\"Plot\"},\"ticker\":{\"id\":\"47572de2-6fe1-4f7a-8a44-70060595eab0\",\"type\":\"BasicTicker\"}},\"id\":\"d56be9b8-f0ba-4df5-ae59-3faa7ef8913e\",\"type\":\"Grid\"},{\"attributes\":{\"dimension\":1,\"plot\":{\"id\":\"b1a0b166-18ac-4c6a-b0a1-8b9292786ed8\",\"subtype\":\"Figure\",\"type\":\"Plot\"},\"ticker\":{\"id\":\"d5a9ff23-7050-4ebd-aab9-98f1bfafbea5\",\"type\":\"BasicTicker\"}},\"id\":\"93e61982-abb6-4487-9bd4-8158153583df\",\"type\":\"Grid\"},{\"attributes\":{},\"id\":\"47572de2-6fe1-4f7a-8a44-70060595eab0\",\"type\":\"BasicTicker\"},{\"attributes\":{\"axis_label\":\"t [Epochs]\",\"formatter\":{\"id\":\"4e3b8e7f-202f-4838-80bb-51f426348e9d\",\"type\":\"BasicTickFormatter\"},\"plot\":{\"id\":\"b1a0b166-18ac-4c6a-b0a1-8b9292786ed8\",\"subtype\":\"Figure\",\"type\":\"Plot\"},\"ticker\":{\"id\":\"47572de2-6fe1-4f7a-8a44-70060595eab0\",\"type\":\"BasicTicker\"}},\"id\":\"ba8422dc-44b8-4e94-9ba2-a99a179d0add\",\"type\":\"LinearAxis\"},{\"attributes\":{\"line_color\":\"#ff7f0e\",\"line_width\":3,\"x\":{\"field\":\"x\"},\"y\":{\"field\":\"y\"}},\"id\":\"6a346797-59bf-4e38-9176-f43eed60960c\",\"type\":\"Line\"},{\"attributes\":{\"callback\":null,\"column_names\":[\"x\",\"y\"],\"data\":{\"x\":{\"__ndarray__\":\"AQAAAAIAAAADAAAABAAAAAUAAAAGAAAABwAAAAgAAAAJAAAACgAAAAsAAAAMAAAADQAAAA4AAAAPAAAAEAAAABEAAAASAAAAEwAAABQAAAAVAAAAFgAAABcAAAAYAAAAGQAAABoAAAAbAAAAHAAAAB0AAAAeAAAAHwAAACAAAAAhAAAAIgAAACMAAAAkAAAAJQAAACYAAAAnAAAAKAAAACkAAAAqAAAAKwAAACwAAAAtAAAALgAAAC8AAAAwAAAAMQAAADIAAAAzAAAANAAAADUAAAA2AAAANwAAADgAAAA5AAAAOgAAADsAAAA8AAAAPQAAAD4AAAA/AAAAQAAAAEEAAABCAAAAQwAAAEQAAABFAAAARgAAAEcAAABIAAAASQAAAEoAAABLAAAATAAAAE0AAABOAAAATwAAAFAAAABRAAAAUgAAAFMAAABUAAAAVQAAAFYAAABXAAAAWAAAAFkAAABaAAAA\",\"dtype\":\"int32\",\"shape\":[90]},\"y\":[4.555277580003395,0.375467138714331,0.7172772372007115,1.0269182477989698,1.1548506231815434,1.2364894059219333,1.178304922909371,1.1858772785939293,1.2337774248076514,1.2125237806279718,1.3066437624989837,1.174970770017371,1.210327508352069,1.2071338730530046,1.2350821226501547,1.1347939494995734,1.1215155848762162,1.1096359055675415,1.1384424335877674,1.102372233401477,1.1664056031692902,1.1248643205778006,1.1221333733816887,1.1318016918426939,1.137690870985121,1.0779298429571602,1.0810606794519435,1.1663369880999146,1.129632140668747,1.1232775760250626,0.8513443392651369,0.8673649464400068,0.8665218408823948,0.8759356766720912,0.9220913648259473,0.9392220356968972,0.9593940231563933,0.9915613408768779,0.9987558922113845,1.0363532413066185,1.0239574316910796,1.025448840072486,1.0671224637682997,1.063451979025183,1.056282715799783,1.0651289178337344,1.0910295892365283,1.0969088217227068,1.1033341087781927,1.0781567615895429,1.1172018549311262,1.1319372361075049,1.1393705914856742,1.130745913287496,1.1468304150847084,1.1383088280779878,1.14450382475321,1.1110513653279315,1.1301293891874786,1.1480603444179533,0.9644518135650946,0.9404131056358151,0.953864609512855,0.9293142388426533,0.9420231995426283,0.9807031325887132,0.9866472712215987,0.9713044696644809,0.9217075756234072,0.9652679451396595,0.9718168910486763,0.9617732970485303,0.9774384377030594,0.9632731347996389,0.9379738146313986,0.9325311392020958,0.9733784317860049,0.9739803730764376,0.9249973900307735,0.9216697277534444,0.9382907589322006,0.8923592920124223,0.8916220593382698,0.8969342481245828,0.9082381171889016,0.9450151200247197,0.9449979241105272,0.9240527948619474,0.903156050195458,0.8884056647410093]}},\"id\":\"16338d99-45c8-44ee-84e1-c86752f6709e\",\"type\":\"ColumnDataSource\"},{\"attributes\":{},\"id\":\"d5a9ff23-7050-4ebd-aab9-98f1bfafbea5\",\"type\":\"BasicTicker\"},{\"attributes\":{\"axis_label\":\"||g||\",\"formatter\":{\"id\":\"b95d3237-a118-4053-aa10-c6a7610de2ad\",\"type\":\"BasicTickFormatter\"},\"plot\":{\"id\":\"b1a0b166-18ac-4c6a-b0a1-8b9292786ed8\",\"subtype\":\"Figure\",\"type\":\"Plot\"},\"ticker\":{\"id\":\"d5a9ff23-7050-4ebd-aab9-98f1bfafbea5\",\"type\":\"BasicTicker\"}},\"id\":\"6f010b31-fc8e-4ebe-8a39-754428f4d516\",\"type\":\"LinearAxis\"},{\"attributes\":{\"line_color\":\"#2ca02c\",\"line_width\":3,\"x\":{\"field\":\"x\"},\"y\":{\"field\":\"y\"}},\"id\":\"dc0c7241-109e-490c-aa76-e66dfdfbacb5\",\"type\":\"Line\"},{\"attributes\":{\"line_alpha\":0.1,\"line_color\":\"#1f77b4\",\"line_width\":3,\"x\":{\"field\":\"x\"},\"y\":{\"field\":\"y\"}},\"id\":\"e4aadc8e-fb41-4bb7-ad2e-0004d01ec4d2\",\"type\":\"Line\"},{\"attributes\":{\"bottom_units\":\"screen\",\"fill_alpha\":{\"value\":0.5},\"fill_color\":{\"value\":\"lightgrey\"},\"left_units\":\"screen\",\"level\":\"overlay\",\"line_alpha\":{\"value\":1.0},\"line_color\":{\"value\":\"black\"},\"line_dash\":[4,4],\"line_width\":{\"value\":2},\"plot\":null,\"render_mode\":\"css\",\"right_units\":\"screen\",\"top_units\":\"screen\"},\"id\":\"ff2d4d36-8b21-4deb-90b2-474492e1de41\",\"type\":\"BoxAnnotation\"},{\"attributes\":{},\"id\":\"aaea1d9d-523e-4a2b-aaf4-157d3674aeeb\",\"type\":\"PanTool\"},{\"attributes\":{},\"id\":\"cdb244a5-5df2-42eb-be28-a39dd869f28f\",\"type\":\"WheelZoomTool\"},{\"attributes\":{\"overlay\":{\"id\":\"ff2d4d36-8b21-4deb-90b2-474492e1de41\",\"type\":\"BoxAnnotation\"}},\"id\":\"9b56b2c1-34be-46cb-8af5-56fe6c66983a\",\"type\":\"BoxZoomTool\"},{\"attributes\":{},\"id\":\"79537c7c-ad4f-4d64-b251-98c8d464c11f\",\"type\":\"SaveTool\"},{\"attributes\":{},\"id\":\"ad277757-5803-45fc-9a3b-040241af546a\",\"type\":\"ResetTool\"},{\"attributes\":{},\"id\":\"666b1d12-f324-4212-9902-ac2ac743411b\",\"type\":\"HelpTool\"},{\"attributes\":{\"data_source\":{\"id\":\"9068440b-9419-48c1-95d9-8e8347b89960\",\"type\":\"ColumnDataSource\"},\"glyph\":{\"id\":\"dc0c7241-109e-490c-aa76-e66dfdfbacb5\",\"type\":\"Line\"},\"hover_glyph\":null,\"muted_glyph\":null,\"nonselection_glyph\":{\"id\":\"e4aadc8e-fb41-4bb7-ad2e-0004d01ec4d2\",\"type\":\"Line\"},\"selection_glyph\":null,\"view\":{\"id\":\"f7c804c4-d7a0-4d9b-87d9-00003da37182\",\"type\":\"CDSView\"}},\"id\":\"71dcd3d1-c658-4714-a182-3bdbede5ffd6\",\"type\":\"GlyphRenderer\"},{\"attributes\":{},\"id\":\"4e3b8e7f-202f-4838-80bb-51f426348e9d\",\"type\":\"BasicTickFormatter\"},{\"attributes\":{\"source\":{\"id\":\"9068440b-9419-48c1-95d9-8e8347b89960\",\"type\":\"ColumnDataSource\"}},\"id\":\"f7c804c4-d7a0-4d9b-87d9-00003da37182\",\"type\":\"CDSView\"},{\"attributes\":{\"data_source\":{\"id\":\"4800cf02-7e74-499c-8173-49452be476fa\",\"type\":\"ColumnDataSource\"},\"glyph\":{\"id\":\"6b974e91-ce55-432e-bf24-1ca9ff183e1f\",\"type\":\"Line\"},\"hover_glyph\":null,\"muted_glyph\":null,\"nonselection_glyph\":{\"id\":\"8b5354b0-c7ef-4cd9-8114-212b7d57bbf2\",\"type\":\"Line\"},\"selection_glyph\":null,\"view\":{\"id\":\"8ff6dac3-8e56-48e3-bf0d-a64d13f970f4\",\"type\":\"CDSView\"}},\"id\":\"ad488753-0369-4be6-adb6-0349614821a4\",\"type\":\"GlyphRenderer\"},{\"attributes\":{\"callback\":null,\"column_names\":[\"x\",\"y\"],\"data\":{\"x\":{\"__ndarray__\":\"AQAAAAIAAAADAAAABAAAAAUAAAAGAAAABwAAAAgAAAAJAAAACgAAAAsAAAAMAAAADQAAAA4AAAAPAAAAEAAAABEAAAASAAAAEwAAABQAAAAVAAAAFgAAABcAAAAYAAAAGQAAABoAAAAbAAAAHAAAAB0AAAAeAAAAHwAAACAAAAAhAAAAIgAAACMAAAAkAAAAJQAAACYAAAAnAAAAKAAAACkAAAAqAAAAKwAAACwAAAAtAAAALgAAAC8AAAAwAAAAMQAAADIAAAAzAAAANAAAADUAAAA2AAAANwAAADgAAAA5AAAAOgAAADsAAAA8AAAAPQAAAD4AAAA/AAAAQAAAAEEAAABCAAAAQwAAAEQAAABFAAAARgAAAEcAAABIAAAASQAAAEoAAABLAAAATAAAAE0AAABOAAAATwAAAFAAAABRAAAAUgAAAFMAAABUAAAAVQAAAFYAAABXAAAAWAAAAFkAAABaAAAA\",\"dtype\":\"int32\",\"shape\":[90]},\"y\":[1.0720832347869873,1.046262264251709,0.9810971617698669,1.0502018928527832,1.0057874917984009,1.0306391716003418,0.9919623136520386,1.044485092163086,0.9945416450500488,0.9994291663169861,0.9742326140403748,0.9893206357955933,0.9695238471031189,0.9384915232658386,0.9116461277008057,0.9235806465148926,0.9657092690467834,1.0414764881134033,0.9841756820678711,0.9319056272506714,1.0023918151855469,1.0310378074645996,0.9156519174575806,1.062940239906311,0.9665552973747253,1.0307365655899048,0.9897633790969849,0.9425973296165466,0.9445832967758179,0.9873455762863159,0.9708176851272583,0.9947238564491272,0.9652611613273621,1.058058500289917,1.1021126508712769,1.225977897644043,1.14321768283844,1.1661431789398193,1.0904126167297363,1.2746080160140991,1.2021820545196533,1.2831554412841797,1.3020776510238647,1.248833417892456,1.2470918893814087,1.310349941253662,1.3763601779937744,1.2763526439666748,1.3846036195755005,1.368672251701355,1.4395655393600464,1.3234230279922485,1.3436126708984375,1.3243006467819214,1.3692712783813477,1.350646734237671,1.44724702835083,1.3868128061294556,1.295972228050232,1.3175138235092163,1.3351713418960571,1.3179965019226074,1.265212059020996,1.260643720626831,1.1894770860671997,1.2761244773864746,1.350995659828186,1.249558687210083,0.9703543782234192,1.245458960533142,1.334719181060791,1.1114253997802734,1.2283192873001099,1.2657257318496704,1.2888942956924438,1.2841520309448242,1.311696171760559,1.266321063041687,1.1994271278381348,1.2494308948516846,1.2375448942184448,1.2362529039382935,1.2344961166381836,1.2889331579208374,1.1551986932754517,1.2492018938064575,1.196997880935669,1.2975897789001465,1.2088598012924194,1.275367259979248]}},\"id\":\"4800cf02-7e74-499c-8173-49452be476fa\",\"type\":\"ColumnDataSource\"},{\"attributes\":{},\"id\":\"b95d3237-a118-4053-aa10-c6a7610de2ad\",\"type\":\"BasicTickFormatter\"},{\"attributes\":{\"label\":{\"value\":\"train - 256_32\"},\"renderers\":[{\"id\":\"71dcd3d1-c658-4714-a182-3bdbede5ffd6\",\"type\":\"GlyphRenderer\"}]},\"id\":\"b98e4a05-870e-408e-9369-312ac6977aa1\",\"type\":\"LegendItem\"},{\"attributes\":{\"line_color\":\"#1f77b4\",\"line_width\":3,\"x\":{\"field\":\"x\"},\"y\":{\"field\":\"y\"}},\"id\":\"6b974e91-ce55-432e-bf24-1ca9ff183e1f\",\"type\":\"Line\"},{\"attributes\":{\"callback\":null,\"column_names\":[\"x\",\"y\"],\"data\":{\"x\":{\"__ndarray__\":\"AQAAAAIAAAADAAAABAAAAAUAAAAGAAAABwAAAAgAAAAJAAAACgAAAAsAAAAMAAAADQAAAA4AAAAPAAAAEAAAABEAAAASAAAAEwAAABQAAAAVAAAAFgAAABcAAAAYAAAAGQAAABoAAAAbAAAAHAAAAB0AAAAeAAAAHwAAACAAAAAhAAAAIgAAACMAAAAkAAAAJQAAACYAAAAnAAAAKAAAACkAAAAqAAAAKwAAACwAAAAtAAAALgAAAC8AAAAwAAAAMQAAADIAAAAzAAAANAAAADUAAAA2AAAANwAAADgAAAA5AAAAOgAAADsAAAA8AAAAPQAAAD4AAAA/AAAAQAAAAEEAAABCAAAAQwAAAEQAAABFAAAARgAAAEcAAABIAAAASQAAAEoAAABLAAAATAAAAE0AAABOAAAATwAAAFAAAABRAAAAUgAAAFMAAABUAAAAVQAAAFYAAABXAAAAWAAAAFkAAABaAAAA\",\"dtype\":\"int32\",\"shape\":[90]},\"y\":[1.6184247732162476,1.0322651863098145,1.0283018350601196,0.798604428768158,0.7706725001335144,0.849633514881134,0.8386397957801819,0.7936446070671082,0.8185763955116272,0.8712261319160461,0.8921545743942261,0.8492374420166016,0.8768123984336853,0.8277041912078857,0.8642061352729797,0.8814764022827148,0.8975220918655396,0.8565598726272583,0.8538744449615479,0.8941627144813538,0.8614258766174316,0.8827705979347229,0.8010073304176331,0.9198877215385437,0.8473717570304871,0.8873079419136047,0.8036686182022095,0.8083892464637756,0.863347589969635,0.8454137444496155,0.8739922046661377,0.8600870966911316,0.9719780683517456,0.9795013070106506,1.031304121017456,1.0481666326522827,0.9829222559928894,1.0911273956298828,1.0065901279449463,1.110913634300232,1.0692793130874634,1.1816998720169067,1.1495535373687744,1.1425492763519287,1.1900190114974976,1.1978868246078491,1.1900160312652588,1.2802520990371704,1.2079704999923706,1.195613980293274,1.3051508665084839,1.2184866666793823,1.2264302968978882,1.1598384380340576,1.268304467201233,1.1905936002731323,1.314754605293274,1.3336620330810547,1.2419483661651611,1.2888871431350708,1.1987478733062744,1.192776083946228,1.14967679977417,1.1592319011688232,1.1537870168685913,1.2204866409301758,1.0838700532913208,1.1526374816894531,1.1925559043884277,1.2110984325408936,1.242932915687561,1.2141523361206055,1.188777208328247,1.1637321710586548,1.1070356369018555,1.2186986207962036,1.2653900384902954,1.1402082443237305,1.207722544670105,1.2143551111221313,1.162772297859192,1.2763639688491821,1.2064095735549927,1.1538722515106201,1.22457754611969,1.165831208229065,1.242750644683838,1.1968028545379639,1.2524080276489258,1.2021039724349976]}},\"id\":\"9068440b-9419-48c1-95d9-8e8347b89960\",\"type\":\"ColumnDataSource\"},{\"attributes\":{\"line_alpha\":0.1,\"line_color\":\"#1f77b4\",\"line_width\":3,\"x\":{\"field\":\"x\"},\"y\":{\"field\":\"y\"}},\"id\":\"8b5354b0-c7ef-4cd9-8114-212b7d57bbf2\",\"type\":\"Line\"},{\"attributes\":{\"background_fill_color\":{\"value\":\"#fafafa\"},\"below\":[{\"id\":\"ba8422dc-44b8-4e94-9ba2-a99a179d0add\",\"type\":\"LinearAxis\"}],\"left\":[{\"id\":\"6f010b31-fc8e-4ebe-8a39-754428f4d516\",\"type\":\"LinearAxis\"}],\"min_border\":10,\"min_border_left\":50,\"renderers\":[{\"id\":\"ba8422dc-44b8-4e94-9ba2-a99a179d0add\",\"type\":\"LinearAxis\"},{\"id\":\"d56be9b8-f0ba-4df5-ae59-3faa7ef8913e\",\"type\":\"Grid\"},{\"id\":\"6f010b31-fc8e-4ebe-8a39-754428f4d516\",\"type\":\"LinearAxis\"},{\"id\":\"93e61982-abb6-4487-9bd4-8158153583df\",\"type\":\"Grid\"},{\"id\":\"ff2d4d36-8b21-4deb-90b2-474492e1de41\",\"type\":\"BoxAnnotation\"},{\"id\":\"78d05375-a132-4a2e-9c08-e9cce467e443\",\"type\":\"Legend\"},{\"id\":\"ad488753-0369-4be6-adb6-0349614821a4\",\"type\":\"GlyphRenderer\"},{\"id\":\"2ad1f9d1-561c-453d-8d58-4996c7e92947\",\"type\":\"GlyphRenderer\"},{\"id\":\"71dcd3d1-c658-4714-a182-3bdbede5ffd6\",\"type\":\"GlyphRenderer\"}],\"title\":{\"id\":\"dd655df5-3b5a-419d-98ed-d76b5b65ceca\",\"type\":\"Title\"},\"toolbar\":{\"id\":\"fe96d1cf-4ade-49de-a05d-92ccbc8a8e2a\",\"type\":\"Toolbar\"},\"x_range\":{\"id\":\"6282d77c-7007-49f2-9b40-829df978e16e\",\"type\":\"DataRange1d\"},\"x_scale\":{\"id\":\"3b3c408f-60a3-4540-aef0-202d4031031a\",\"type\":\"LinearScale\"},\"y_range\":{\"id\":\"89681607-d770-43c4-a4bf-c6e354d8d0d4\",\"type\":\"DataRange1d\"},\"y_scale\":{\"id\":\"7df0c6d9-ebbf-4dd1-9a74-63d3d58ce348\",\"type\":\"LinearScale\"}},\"id\":\"b1a0b166-18ac-4c6a-b0a1-8b9292786ed8\",\"subtype\":\"Figure\",\"type\":\"Plot\"},{\"attributes\":{\"source\":{\"id\":\"4800cf02-7e74-499c-8173-49452be476fa\",\"type\":\"ColumnDataSource\"}},\"id\":\"8ff6dac3-8e56-48e3-bf0d-a64d13f970f4\",\"type\":\"CDSView\"},{\"attributes\":{\"click_policy\":\"hide\",\"items\":[{\"id\":\"f38086a4-a039-49e6-a174-fb90fc263544\",\"type\":\"LegendItem\"},{\"id\":\"79a76b5d-4a0e-4399-bfe9-7e2191b780b4\",\"type\":\"LegendItem\"},{\"id\":\"b98e4a05-870e-408e-9369-312ac6977aa1\",\"type\":\"LegendItem\"}],\"location\":\"top_left\",\"plot\":{\"id\":\"b1a0b166-18ac-4c6a-b0a1-8b9292786ed8\",\"subtype\":\"Figure\",\"type\":\"Plot\"}},\"id\":\"78d05375-a132-4a2e-9c08-e9cce467e443\",\"type\":\"Legend\"},{\"attributes\":{\"label\":{\"value\":\"train - 256_1\"},\"renderers\":[{\"id\":\"ad488753-0369-4be6-adb6-0349614821a4\",\"type\":\"GlyphRenderer\"}]},\"id\":\"f38086a4-a039-49e6-a174-fb90fc263544\",\"type\":\"LegendItem\"}],\"root_ids\":[\"b1a0b166-18ac-4c6a-b0a1-8b9292786ed8\"]},\"title\":\"Bokeh Application\",\"version\":\"0.12.13\"}};\n",
       "  var render_items = [{\"docid\":\"e89411fd-18e6-4f2c-9878-2ac3273f88f0\",\"elementid\":\"225d639a-e565-4829-a9d4-c880df15abcc\",\"modelid\":\"b1a0b166-18ac-4c6a-b0a1-8b9292786ed8\"}];\n",
       "  root.Bokeh.embed.embed_items_notebook(docs_json, render_items);\n",
       "\n",
       "  }\n",
       "  if (root.Bokeh !== undefined) {\n",
       "    embed_document(root);\n",
       "  } else {\n",
       "    var attempts = 0;\n",
       "    var timer = setInterval(function(root) {\n",
       "      if (root.Bokeh !== undefined) {\n",
       "        embed_document(root);\n",
       "        clearInterval(timer);\n",
       "      }\n",
       "      attempts++;\n",
       "      if (attempts > 100) {\n",
       "        console.log(\"Bokeh: ERROR: Unable to run BokehJS code because BokehJS library is missing\")\n",
       "        clearInterval(timer);\n",
       "      }\n",
       "    }, 10, root)\n",
       "  }\n",
       "})(window);"
      ],
      "application/vnd.bokehjs_exec.v0+json": ""
     },
     "metadata": {
      "application/vnd.bokehjs_exec.v0+json": {
       "id": "b1a0b166-18ac-4c6a-b0a1-8b9292786ed8"
      }
     },
     "output_type": "display_data"
    }
   ],
   "source": [
    "show(plots[3])"
   ]
  }
 ],
 "metadata": {
  "kernelspec": {
   "display_name": "Python 3",
   "language": "python",
   "name": "python3"
  },
  "language_info": {
   "codemirror_mode": {
    "name": "ipython",
    "version": 3
   },
   "file_extension": ".py",
   "mimetype": "text/x-python",
   "name": "python",
   "nbconvert_exporter": "python",
   "pygments_lexer": "ipython3",
   "version": "3.6.1"
  }
 },
 "nbformat": 4,
 "nbformat_minor": 1
}
