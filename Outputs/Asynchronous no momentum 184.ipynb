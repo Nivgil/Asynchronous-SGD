{
 "cells": [
  {
   "cell_type": "raw",
   "metadata": {},
   "source": [
    "<script>\n",
    "  jQuery(document).ready(function($) {  \n",
    "  \n",
    "  $(window).on('load', function(){\n",
    "    $('#preloader').fadeOut('slow',function(){$(this).remove();});\n",
    "  });\n",
    "  \n",
    "  });\n",
    "</script>\n",
    "\n",
    "<style type=\"text/css\">\n",
    "  div#preloader { position: fixed; \n",
    "      left: 0; \n",
    "      top: 0; \n",
    "      z-index: 999; \n",
    "      width: 100%; \n",
    "      height: 100%; \n",
    "      overflow: visible; \n",
    "      background: #fff url('http://preloaders.net/preloaders/720/Moving%20line.gif') no-repeat center center; \n",
    "  }\n",
    "\n",
    "</style>\n",
    "\n",
    "<div id=\"preloader\">\n",
    "\n",
    "</div>"
   ]
  },
  {
   "cell_type": "raw",
   "metadata": {},
   "source": [
    "<script>\n",
    "  function code_toggle() {\n",
    "    if (code_shown){\n",
    "      $('div.input').hide('500');\n",
    "      $('#toggleButton').val('Show Code')\n",
    "    } else {\n",
    "      $('div.input').show('500');\n",
    "      $('#toggleButton').val('Hide Code')\n",
    "    }\n",
    "    code_shown = !code_shown\n",
    "  } \n",
    "  \n",
    "  $( document ).ready(function(){\n",
    "    code_shown=false; \n",
    "    $('div.input').hide()\n",
    "  });\n",
    "</script>\n",
    "<form action=\"javascript:code_toggle()\"><input type=\"submit\" id=\"toggleButton\" value=\"Show Code\"></form>"
   ]
  },
  {
   "cell_type": "markdown",
   "metadata": {},
   "source": [
    "<h1 style=\"text-align: center;\" markdown=\"1\"> ImageNet - Asynchronous 8 workers</h1>\n",
    "<h2 style=\"text-align: center;\" markdown=\"1\"> AlexNet, 8 workers, batch size 1024, \"1 hour ImageNet\" training regime</h2>"
   ]
  },
  {
   "cell_type": "code",
   "execution_count": 1,
   "metadata": {},
   "outputs": [
    {
     "data": {
      "text/html": [
       "\n",
       "    <div class=\"bk-root\">\n",
       "        <a href=\"https://bokeh.pydata.org\" target=\"_blank\" class=\"bk-logo bk-logo-small bk-logo-notebook\"></a>\n",
       "        <span id=\"93738c08-d9f4-42bb-b0c5-3f7f63bf460f\">Loading BokehJS ...</span>\n",
       "    </div>"
      ]
     },
     "metadata": {},
     "output_type": "display_data"
    },
    {
     "data": {
      "application/javascript": [
       "\n",
       "(function(root) {\n",
       "  function now() {\n",
       "    return new Date();\n",
       "  }\n",
       "\n",
       "  var force = true;\n",
       "\n",
       "  if (typeof (root._bokeh_onload_callbacks) === \"undefined\" || force === true) {\n",
       "    root._bokeh_onload_callbacks = [];\n",
       "    root._bokeh_is_loading = undefined;\n",
       "  }\n",
       "\n",
       "  var JS_MIME_TYPE = 'application/javascript';\n",
       "  var HTML_MIME_TYPE = 'text/html';\n",
       "  var EXEC_MIME_TYPE = 'application/vnd.bokehjs_exec.v0+json';\n",
       "  var CLASS_NAME = 'output_bokeh rendered_html';\n",
       "\n",
       "  /**\n",
       "   * Render data to the DOM node\n",
       "   */\n",
       "  function render(props, node) {\n",
       "    var script = document.createElement(\"script\");\n",
       "    node.appendChild(script);\n",
       "  }\n",
       "\n",
       "  /**\n",
       "   * Handle when an output is cleared or removed\n",
       "   */\n",
       "  function handleClearOutput(event, handle) {\n",
       "    var cell = handle.cell;\n",
       "\n",
       "    var id = cell.output_area._bokeh_element_id;\n",
       "    var server_id = cell.output_area._bokeh_server_id;\n",
       "    // Clean up Bokeh references\n",
       "    if (id !== undefined) {\n",
       "      Bokeh.index[id].model.document.clear();\n",
       "      delete Bokeh.index[id];\n",
       "    }\n",
       "\n",
       "    if (server_id !== undefined) {\n",
       "      // Clean up Bokeh references\n",
       "      var cmd = \"from bokeh.io.state import curstate; print(curstate().uuid_to_server['\" + server_id + \"'].get_sessions()[0].document.roots[0]._id)\";\n",
       "      cell.notebook.kernel.execute(cmd, {\n",
       "        iopub: {\n",
       "          output: function(msg) {\n",
       "            var element_id = msg.content.text.trim();\n",
       "            Bokeh.index[element_id].model.document.clear();\n",
       "            delete Bokeh.index[element_id];\n",
       "          }\n",
       "        }\n",
       "      });\n",
       "      // Destroy server and session\n",
       "      var cmd = \"import bokeh.io.notebook as ion; ion.destroy_server('\" + server_id + \"')\";\n",
       "      cell.notebook.kernel.execute(cmd);\n",
       "    }\n",
       "  }\n",
       "\n",
       "  /**\n",
       "   * Handle when a new output is added\n",
       "   */\n",
       "  function handleAddOutput(event, handle) {\n",
       "    var output_area = handle.output_area;\n",
       "    var output = handle.output;\n",
       "\n",
       "    // limit handleAddOutput to display_data with EXEC_MIME_TYPE content only\n",
       "    if ((output.output_type != \"display_data\") || (!output.data.hasOwnProperty(EXEC_MIME_TYPE))) {\n",
       "      return\n",
       "    }\n",
       "\n",
       "    var toinsert = output_area.element.find(\".\" + CLASS_NAME.split(' ')[0]);\n",
       "\n",
       "    if (output.metadata[EXEC_MIME_TYPE][\"id\"] !== undefined) {\n",
       "      toinsert[0].firstChild.textContent = output.data[JS_MIME_TYPE];\n",
       "      // store reference to embed id on output_area\n",
       "      output_area._bokeh_element_id = output.metadata[EXEC_MIME_TYPE][\"id\"];\n",
       "    }\n",
       "    if (output.metadata[EXEC_MIME_TYPE][\"server_id\"] !== undefined) {\n",
       "      var bk_div = document.createElement(\"div\");\n",
       "      bk_div.innerHTML = output.data[HTML_MIME_TYPE];\n",
       "      var script_attrs = bk_div.children[0].attributes;\n",
       "      for (var i = 0; i < script_attrs.length; i++) {\n",
       "        toinsert[0].firstChild.setAttribute(script_attrs[i].name, script_attrs[i].value);\n",
       "      }\n",
       "      // store reference to server id on output_area\n",
       "      output_area._bokeh_server_id = output.metadata[EXEC_MIME_TYPE][\"server_id\"];\n",
       "    }\n",
       "  }\n",
       "\n",
       "  function register_renderer(events, OutputArea) {\n",
       "\n",
       "    function append_mime(data, metadata, element) {\n",
       "      // create a DOM node to render to\n",
       "      var toinsert = this.create_output_subarea(\n",
       "        metadata,\n",
       "        CLASS_NAME,\n",
       "        EXEC_MIME_TYPE\n",
       "      );\n",
       "      this.keyboard_manager.register_events(toinsert);\n",
       "      // Render to node\n",
       "      var props = {data: data, metadata: metadata[EXEC_MIME_TYPE]};\n",
       "      render(props, toinsert[0]);\n",
       "      element.append(toinsert);\n",
       "      return toinsert\n",
       "    }\n",
       "\n",
       "    /* Handle when an output is cleared or removed */\n",
       "    events.on('clear_output.CodeCell', handleClearOutput);\n",
       "    events.on('delete.Cell', handleClearOutput);\n",
       "\n",
       "    /* Handle when a new output is added */\n",
       "    events.on('output_added.OutputArea', handleAddOutput);\n",
       "\n",
       "    /**\n",
       "     * Register the mime type and append_mime function with output_area\n",
       "     */\n",
       "    OutputArea.prototype.register_mime_type(EXEC_MIME_TYPE, append_mime, {\n",
       "      /* Is output safe? */\n",
       "      safe: true,\n",
       "      /* Index of renderer in `output_area.display_order` */\n",
       "      index: 0\n",
       "    });\n",
       "  }\n",
       "\n",
       "  // register the mime type if in Jupyter Notebook environment and previously unregistered\n",
       "  if (root.Jupyter !== undefined) {\n",
       "    var events = require('base/js/events');\n",
       "    var OutputArea = require('notebook/js/outputarea').OutputArea;\n",
       "\n",
       "    if (OutputArea.prototype.mime_types().indexOf(EXEC_MIME_TYPE) == -1) {\n",
       "      register_renderer(events, OutputArea);\n",
       "    }\n",
       "  }\n",
       "\n",
       "  \n",
       "  if (typeof (root._bokeh_timeout) === \"undefined\" || force === true) {\n",
       "    root._bokeh_timeout = Date.now() + 5000;\n",
       "    root._bokeh_failed_load = false;\n",
       "  }\n",
       "\n",
       "  var NB_LOAD_WARNING = {'data': {'text/html':\n",
       "     \"<div style='background-color: #fdd'>\\n\"+\n",
       "     \"<p>\\n\"+\n",
       "     \"BokehJS does not appear to have successfully loaded. If loading BokehJS from CDN, this \\n\"+\n",
       "     \"may be due to a slow or bad network connection. Possible fixes:\\n\"+\n",
       "     \"</p>\\n\"+\n",
       "     \"<ul>\\n\"+\n",
       "     \"<li>re-rerun `output_notebook()` to attempt to load from CDN again, or</li>\\n\"+\n",
       "     \"<li>use INLINE resources instead, as so:</li>\\n\"+\n",
       "     \"</ul>\\n\"+\n",
       "     \"<code>\\n\"+\n",
       "     \"from bokeh.resources import INLINE\\n\"+\n",
       "     \"output_notebook(resources=INLINE)\\n\"+\n",
       "     \"</code>\\n\"+\n",
       "     \"</div>\"}};\n",
       "\n",
       "  function display_loaded() {\n",
       "    var el = document.getElementById(\"93738c08-d9f4-42bb-b0c5-3f7f63bf460f\");\n",
       "    if (el != null) {\n",
       "      el.textContent = \"BokehJS is loading...\";\n",
       "    }\n",
       "    if (root.Bokeh !== undefined) {\n",
       "      if (el != null) {\n",
       "        el.textContent = \"BokehJS \" + root.Bokeh.version + \" successfully loaded.\";\n",
       "      }\n",
       "    } else if (Date.now() < root._bokeh_timeout) {\n",
       "      setTimeout(display_loaded, 100)\n",
       "    }\n",
       "  }\n",
       "\n",
       "\n",
       "  function run_callbacks() {\n",
       "    try {\n",
       "      root._bokeh_onload_callbacks.forEach(function(callback) { callback() });\n",
       "    }\n",
       "    finally {\n",
       "      delete root._bokeh_onload_callbacks\n",
       "    }\n",
       "    console.info(\"Bokeh: all callbacks have finished\");\n",
       "  }\n",
       "\n",
       "  function load_libs(js_urls, callback) {\n",
       "    root._bokeh_onload_callbacks.push(callback);\n",
       "    if (root._bokeh_is_loading > 0) {\n",
       "      console.log(\"Bokeh: BokehJS is being loaded, scheduling callback at\", now());\n",
       "      return null;\n",
       "    }\n",
       "    if (js_urls == null || js_urls.length === 0) {\n",
       "      run_callbacks();\n",
       "      return null;\n",
       "    }\n",
       "    console.log(\"Bokeh: BokehJS not loaded, scheduling load and callback at\", now());\n",
       "    root._bokeh_is_loading = js_urls.length;\n",
       "    for (var i = 0; i < js_urls.length; i++) {\n",
       "      var url = js_urls[i];\n",
       "      var s = document.createElement('script');\n",
       "      s.src = url;\n",
       "      s.async = false;\n",
       "      s.onreadystatechange = s.onload = function() {\n",
       "        root._bokeh_is_loading--;\n",
       "        if (root._bokeh_is_loading === 0) {\n",
       "          console.log(\"Bokeh: all BokehJS libraries loaded\");\n",
       "          run_callbacks()\n",
       "        }\n",
       "      };\n",
       "      s.onerror = function() {\n",
       "        console.warn(\"failed to load library \" + url);\n",
       "      };\n",
       "      console.log(\"Bokeh: injecting script tag for BokehJS library: \", url);\n",
       "      document.getElementsByTagName(\"head\")[0].appendChild(s);\n",
       "    }\n",
       "  };var element = document.getElementById(\"93738c08-d9f4-42bb-b0c5-3f7f63bf460f\");\n",
       "  if (element == null) {\n",
       "    console.log(\"Bokeh: ERROR: autoload.js configured with elementid '93738c08-d9f4-42bb-b0c5-3f7f63bf460f' but no matching script tag was found. \")\n",
       "    return false;\n",
       "  }\n",
       "\n",
       "  var js_urls = [\"https://cdn.pydata.org/bokeh/release/bokeh-0.12.13.min.js\", \"https://cdn.pydata.org/bokeh/release/bokeh-widgets-0.12.13.min.js\", \"https://cdn.pydata.org/bokeh/release/bokeh-tables-0.12.13.min.js\", \"https://cdn.pydata.org/bokeh/release/bokeh-gl-0.12.13.min.js\"];\n",
       "\n",
       "  var inline_js = [\n",
       "    function(Bokeh) {\n",
       "      Bokeh.set_log_level(\"info\");\n",
       "    },\n",
       "    \n",
       "    function(Bokeh) {\n",
       "      \n",
       "    },\n",
       "    function(Bokeh) {\n",
       "      console.log(\"Bokeh: injecting CSS: https://cdn.pydata.org/bokeh/release/bokeh-0.12.13.min.css\");\n",
       "      Bokeh.embed.inject_css(\"https://cdn.pydata.org/bokeh/release/bokeh-0.12.13.min.css\");\n",
       "      console.log(\"Bokeh: injecting CSS: https://cdn.pydata.org/bokeh/release/bokeh-widgets-0.12.13.min.css\");\n",
       "      Bokeh.embed.inject_css(\"https://cdn.pydata.org/bokeh/release/bokeh-widgets-0.12.13.min.css\");\n",
       "      console.log(\"Bokeh: injecting CSS: https://cdn.pydata.org/bokeh/release/bokeh-tables-0.12.13.min.css\");\n",
       "      Bokeh.embed.inject_css(\"https://cdn.pydata.org/bokeh/release/bokeh-tables-0.12.13.min.css\");\n",
       "    }\n",
       "  ];\n",
       "\n",
       "  function run_inline_js() {\n",
       "    \n",
       "    if ((root.Bokeh !== undefined) || (force === true)) {\n",
       "      for (var i = 0; i < inline_js.length; i++) {\n",
       "        inline_js[i].call(root, root.Bokeh);\n",
       "      }if (force === true) {\n",
       "        display_loaded();\n",
       "      }} else if (Date.now() < root._bokeh_timeout) {\n",
       "      setTimeout(run_inline_js, 100);\n",
       "    } else if (!root._bokeh_failed_load) {\n",
       "      console.log(\"Bokeh: BokehJS failed to load within specified timeout.\");\n",
       "      root._bokeh_failed_load = true;\n",
       "    } else if (force !== true) {\n",
       "      var cell = $(document.getElementById(\"93738c08-d9f4-42bb-b0c5-3f7f63bf460f\")).parents('.cell').data().cell;\n",
       "      cell.output_area.append_execute_result(NB_LOAD_WARNING)\n",
       "    }\n",
       "\n",
       "  }\n",
       "\n",
       "  if (root._bokeh_is_loading === 0) {\n",
       "    console.log(\"Bokeh: BokehJS loaded, going straight to plotting\");\n",
       "    run_inline_js();\n",
       "  } else {\n",
       "    load_libs(js_urls, function() {\n",
       "      console.log(\"Bokeh: BokehJS plotting callback run at\", now());\n",
       "      run_inline_js();\n",
       "    });\n",
       "  }\n",
       "}(window));"
      ],
      "application/vnd.bokehjs_load.v0+json": "\n(function(root) {\n  function now() {\n    return new Date();\n  }\n\n  var force = true;\n\n  if (typeof (root._bokeh_onload_callbacks) === \"undefined\" || force === true) {\n    root._bokeh_onload_callbacks = [];\n    root._bokeh_is_loading = undefined;\n  }\n\n  \n\n  \n  if (typeof (root._bokeh_timeout) === \"undefined\" || force === true) {\n    root._bokeh_timeout = Date.now() + 5000;\n    root._bokeh_failed_load = false;\n  }\n\n  var NB_LOAD_WARNING = {'data': {'text/html':\n     \"<div style='background-color: #fdd'>\\n\"+\n     \"<p>\\n\"+\n     \"BokehJS does not appear to have successfully loaded. If loading BokehJS from CDN, this \\n\"+\n     \"may be due to a slow or bad network connection. Possible fixes:\\n\"+\n     \"</p>\\n\"+\n     \"<ul>\\n\"+\n     \"<li>re-rerun `output_notebook()` to attempt to load from CDN again, or</li>\\n\"+\n     \"<li>use INLINE resources instead, as so:</li>\\n\"+\n     \"</ul>\\n\"+\n     \"<code>\\n\"+\n     \"from bokeh.resources import INLINE\\n\"+\n     \"output_notebook(resources=INLINE)\\n\"+\n     \"</code>\\n\"+\n     \"</div>\"}};\n\n  function display_loaded() {\n    var el = document.getElementById(\"93738c08-d9f4-42bb-b0c5-3f7f63bf460f\");\n    if (el != null) {\n      el.textContent = \"BokehJS is loading...\";\n    }\n    if (root.Bokeh !== undefined) {\n      if (el != null) {\n        el.textContent = \"BokehJS \" + root.Bokeh.version + \" successfully loaded.\";\n      }\n    } else if (Date.now() < root._bokeh_timeout) {\n      setTimeout(display_loaded, 100)\n    }\n  }\n\n\n  function run_callbacks() {\n    try {\n      root._bokeh_onload_callbacks.forEach(function(callback) { callback() });\n    }\n    finally {\n      delete root._bokeh_onload_callbacks\n    }\n    console.info(\"Bokeh: all callbacks have finished\");\n  }\n\n  function load_libs(js_urls, callback) {\n    root._bokeh_onload_callbacks.push(callback);\n    if (root._bokeh_is_loading > 0) {\n      console.log(\"Bokeh: BokehJS is being loaded, scheduling callback at\", now());\n      return null;\n    }\n    if (js_urls == null || js_urls.length === 0) {\n      run_callbacks();\n      return null;\n    }\n    console.log(\"Bokeh: BokehJS not loaded, scheduling load and callback at\", now());\n    root._bokeh_is_loading = js_urls.length;\n    for (var i = 0; i < js_urls.length; i++) {\n      var url = js_urls[i];\n      var s = document.createElement('script');\n      s.src = url;\n      s.async = false;\n      s.onreadystatechange = s.onload = function() {\n        root._bokeh_is_loading--;\n        if (root._bokeh_is_loading === 0) {\n          console.log(\"Bokeh: all BokehJS libraries loaded\");\n          run_callbacks()\n        }\n      };\n      s.onerror = function() {\n        console.warn(\"failed to load library \" + url);\n      };\n      console.log(\"Bokeh: injecting script tag for BokehJS library: \", url);\n      document.getElementsByTagName(\"head\")[0].appendChild(s);\n    }\n  };var element = document.getElementById(\"93738c08-d9f4-42bb-b0c5-3f7f63bf460f\");\n  if (element == null) {\n    console.log(\"Bokeh: ERROR: autoload.js configured with elementid '93738c08-d9f4-42bb-b0c5-3f7f63bf460f' but no matching script tag was found. \")\n    return false;\n  }\n\n  var js_urls = [\"https://cdn.pydata.org/bokeh/release/bokeh-0.12.13.min.js\", \"https://cdn.pydata.org/bokeh/release/bokeh-widgets-0.12.13.min.js\", \"https://cdn.pydata.org/bokeh/release/bokeh-tables-0.12.13.min.js\", \"https://cdn.pydata.org/bokeh/release/bokeh-gl-0.12.13.min.js\"];\n\n  var inline_js = [\n    function(Bokeh) {\n      Bokeh.set_log_level(\"info\");\n    },\n    \n    function(Bokeh) {\n      \n    },\n    function(Bokeh) {\n      console.log(\"Bokeh: injecting CSS: https://cdn.pydata.org/bokeh/release/bokeh-0.12.13.min.css\");\n      Bokeh.embed.inject_css(\"https://cdn.pydata.org/bokeh/release/bokeh-0.12.13.min.css\");\n      console.log(\"Bokeh: injecting CSS: https://cdn.pydata.org/bokeh/release/bokeh-widgets-0.12.13.min.css\");\n      Bokeh.embed.inject_css(\"https://cdn.pydata.org/bokeh/release/bokeh-widgets-0.12.13.min.css\");\n      console.log(\"Bokeh: injecting CSS: https://cdn.pydata.org/bokeh/release/bokeh-tables-0.12.13.min.css\");\n      Bokeh.embed.inject_css(\"https://cdn.pydata.org/bokeh/release/bokeh-tables-0.12.13.min.css\");\n    }\n  ];\n\n  function run_inline_js() {\n    \n    if ((root.Bokeh !== undefined) || (force === true)) {\n      for (var i = 0; i < inline_js.length; i++) {\n        inline_js[i].call(root, root.Bokeh);\n      }if (force === true) {\n        display_loaded();\n      }} else if (Date.now() < root._bokeh_timeout) {\n      setTimeout(run_inline_js, 100);\n    } else if (!root._bokeh_failed_load) {\n      console.log(\"Bokeh: BokehJS failed to load within specified timeout.\");\n      root._bokeh_failed_load = true;\n    } else if (force !== true) {\n      var cell = $(document.getElementById(\"93738c08-d9f4-42bb-b0c5-3f7f63bf460f\")).parents('.cell').data().cell;\n      cell.output_area.append_execute_result(NB_LOAD_WARNING)\n    }\n\n  }\n\n  if (root._bokeh_is_loading === 0) {\n    console.log(\"Bokeh: BokehJS loaded, going straight to plotting\");\n    run_inline_js();\n  } else {\n    load_libs(js_urls, function() {\n      console.log(\"Bokeh: BokehJS plotting callback run at\", now());\n      run_inline_js();\n    });\n  }\n}(window));"
     },
     "metadata": {},
     "output_type": "display_data"
    },
    {
     "data": {
      "text/markdown": [
       "<h3>Min Error - 26.41% , Val Error - 26.41% , Mean Error - 26.54%<h3>"
      ],
      "text/plain": [
       "<IPython.core.display.Markdown object>"
      ]
     },
     "metadata": {},
     "output_type": "display_data"
    }
   ],
   "source": [
    "from Outputs.jupyter_graphs import create_graphs, compare_graphs\n",
    "from bokeh.plotting import show\n",
    "from bokeh.io import output_notebook\n",
    "from IPython.display import Markdown, display\n",
    "from IPython.core.interactiveshell import InteractiveShell\n",
    "InteractiveShell.ast_node_interactivity = \"all\"\n",
    "output_notebook()\n",
    "plots, scores, table = create_graphs(sim_num=184, linear=True)\n",
    "display(Markdown('<h3>Min Error - {0:.2f}% , Val Error - {1:.2f}% , Mean Error - {2:.2f}%<h3>'.format(scores[0],scores[2], scores[1])))"
   ]
  },
  {
   "cell_type": "markdown",
   "metadata": {},
   "source": [
    "<h3 style=\"text-align: left;\" markdown=\"1\">Parameters</h3>"
   ]
  },
  {
   "cell_type": "code",
   "execution_count": 2,
   "metadata": {},
   "outputs": [
    {
     "name": "stdout",
     "output_type": "stream",
     "text": [
      "Number   Name                      Value     \n",
      "0        augment                   1         \n",
      "1        bar                       1         \n",
      "2        baseline                  256       \n",
      "3        batch_size                256       \n",
      "4        dataset                   imagenet  \n",
      "5        droprate                  0         \n",
      "6        epochs                    90        \n",
      "7        fast_im                   1         \n",
      "8        gbn                       0         \n",
      "9        grad_clip                 1000      \n",
      "10       id                        184       \n",
      "11       iterations_per_epoch      5004      \n",
      "12       layers                    28        \n",
      "13       lr                        0.1       \n",
      "14       model                     resnet    \n",
      "15       momentum                  0.0       \n",
      "16       name                      resnet_10 \n",
      "17       nesterov                  0         \n",
      "18       notes                               \n",
      "19       optimizer                 asynchronous\n",
      "20       p_time                    0         \n",
      "21       regime                    0         \n",
      "22       resume                    /media/drive/niv/backups/resnet_1067179_35\n",
      "23       rho                       2.5       \n",
      "24       save                      1         \n",
      "25       sim_num                   10        \n",
      "26       start_epoch               36        \n",
      "27       tau                       1         \n",
      "28       weight_decay              0.0001    \n",
      "29       widen_factor              2         \n",
      "30       workers_num               32        \n",
      "\n"
     ]
    }
   ],
   "source": [
    "print(table)"
   ]
  },
  {
   "cell_type": "code",
   "execution_count": 3,
   "metadata": {},
   "outputs": [
    {
     "data": {
      "text/html": [
       "\n",
       "<div class=\"bk-root\">\n",
       "    <div class=\"bk-plotdiv\" id=\"66cd0c3b-e70a-4318-9a3f-b02df2365e82\"></div>\n",
       "</div>"
      ]
     },
     "metadata": {},
     "output_type": "display_data"
    },
    {
     "data": {
      "application/javascript": [
       "(function(root) {\n",
       "  function embed_document(root) {\n",
       "    \n",
       "  var docs_json = {\"33acad68-389e-43df-81a1-08fdc60265d9\":{\"roots\":{\"references\":[{\"attributes\":{\"source\":{\"id\":\"f566c7c9-e69c-4a02-9911-d1a1cd1ae918\",\"type\":\"ColumnDataSource\"}},\"id\":\"783a73a3-7763-4f16-9d33-c5a8880a7699\",\"type\":\"CDSView\"},{\"attributes\":{\"callback\":null},\"id\":\"ddfe8e36-32a7-4f7c-bac3-f35c54c4f1a0\",\"type\":\"DataRange1d\"},{\"attributes\":{},\"id\":\"46ed01c0-42e7-4141-9bc3-e1b63a1e4074\",\"type\":\"BasicTickFormatter\"},{\"attributes\":{\"click_policy\":\"hide\",\"items\":[{\"id\":\"5263476a-4d24-4f54-8a7a-6df822f0dc15\",\"type\":\"LegendItem\"}],\"plot\":{\"id\":\"4051d595-1520-4ce6-90bf-a45eb9b01870\",\"subtype\":\"Figure\",\"type\":\"Plot\"}},\"id\":\"fb1b7607-a21d-49f0-b5c2-61c9c3746a3f\",\"type\":\"Legend\"},{\"attributes\":{\"label\":{\"value\":\"asynchronous_256_32\"},\"renderers\":[{\"id\":\"025f13b8-e4f8-49c2-be0c-d8b15bd8ac20\",\"type\":\"GlyphRenderer\"},{\"id\":\"995eee4e-e060-4172-abfd-a81dc1a2fa3f\",\"type\":\"GlyphRenderer\"}]},\"id\":\"5263476a-4d24-4f54-8a7a-6df822f0dc15\",\"type\":\"LegendItem\"},{\"attributes\":{\"active_drag\":\"auto\",\"active_inspect\":\"auto\",\"active_scroll\":\"auto\",\"active_tap\":\"auto\",\"tools\":[{\"id\":\"5310f0d6-9f2e-402f-8a6a-ebd98a3bb9b7\",\"type\":\"PanTool\"},{\"id\":\"49c4a3e2-4cee-49a7-a267-14ab458be35f\",\"type\":\"WheelZoomTool\"},{\"id\":\"31e8ce06-8c29-423e-802a-1db330abc554\",\"type\":\"BoxZoomTool\"},{\"id\":\"d61a3c3e-55cf-4869-9e1c-19b5668dcdae\",\"type\":\"SaveTool\"},{\"id\":\"2631241c-bc81-4419-a81e-de7041dc2b55\",\"type\":\"ResetTool\"},{\"id\":\"f1df0ca4-bfba-4ad6-89a9-4087725abb4c\",\"type\":\"HelpTool\"}]},\"id\":\"f7702ce0-d649-4c9b-b673-c65e533287b8\",\"type\":\"Toolbar\"},{\"attributes\":{\"plot\":null,\"text\":\"Training & Test Error\"},\"id\":\"8f6008c6-3250-4dbd-a600-de0f777e067a\",\"type\":\"Title\"},{\"attributes\":{},\"id\":\"e2b65da9-18f1-4b00-9ee5-4ff73be674c1\",\"type\":\"LinearScale\"},{\"attributes\":{},\"id\":\"f3a7ea60-b337-406b-a5d6-d5b0b020511e\",\"type\":\"LinearScale\"},{\"attributes\":{\"callback\":null},\"id\":\"4eb49f29-aec3-46d2-8dee-acf2eed6e9fb\",\"type\":\"DataRange1d\"},{\"attributes\":{\"plot\":{\"id\":\"4051d595-1520-4ce6-90bf-a45eb9b01870\",\"subtype\":\"Figure\",\"type\":\"Plot\"},\"ticker\":{\"id\":\"6014978f-ab0f-4110-88c2-3b973301b2b5\",\"type\":\"BasicTicker\"}},\"id\":\"7d8026f0-9f45-41ef-92e8-583e1960ca31\",\"type\":\"Grid\"},{\"attributes\":{\"dimension\":1,\"plot\":{\"id\":\"4051d595-1520-4ce6-90bf-a45eb9b01870\",\"subtype\":\"Figure\",\"type\":\"Plot\"},\"ticker\":{\"id\":\"0d3a95c9-c878-4ad7-aaa7-00e572304137\",\"type\":\"BasicTicker\"}},\"id\":\"08c86efa-86d0-4e43-990f-ad63e68c760f\",\"type\":\"Grid\"},{\"attributes\":{},\"id\":\"6014978f-ab0f-4110-88c2-3b973301b2b5\",\"type\":\"BasicTicker\"},{\"attributes\":{\"axis_label\":\"t [Epochs]\",\"formatter\":{\"id\":\"46ed01c0-42e7-4141-9bc3-e1b63a1e4074\",\"type\":\"BasicTickFormatter\"},\"plot\":{\"id\":\"4051d595-1520-4ce6-90bf-a45eb9b01870\",\"subtype\":\"Figure\",\"type\":\"Plot\"},\"ticker\":{\"id\":\"6014978f-ab0f-4110-88c2-3b973301b2b5\",\"type\":\"BasicTicker\"}},\"id\":\"5a62a4aa-e1f5-45d9-9cff-84d1853b6788\",\"type\":\"LinearAxis\"},{\"attributes\":{\"line_alpha\":0.1,\"line_color\":\"#1f77b4\",\"line_width\":3,\"x\":{\"field\":\"x\"},\"y\":{\"field\":\"y\"}},\"id\":\"d850f549-2957-4b37-aa02-0d1dcc5f0e76\",\"type\":\"Line\"},{\"attributes\":{},\"id\":\"0d3a95c9-c878-4ad7-aaa7-00e572304137\",\"type\":\"BasicTicker\"},{\"attributes\":{\"callback\":null,\"column_names\":[\"x\",\"y\"],\"data\":{\"x\":{\"__ndarray__\":\"AQAAAAIAAAADAAAABAAAAAUAAAAGAAAABwAAAAgAAAAJAAAACgAAAAsAAAAMAAAADQAAAA4AAAAPAAAAEAAAABEAAAASAAAAEwAAABQAAAAVAAAAFgAAABcAAAAYAAAAGQAAABoAAAAbAAAAHAAAAB0AAAAeAAAAHwAAACAAAAAhAAAAIgAAACMAAAAkAAAAJQAAACYAAAAnAAAAKAAAACkAAAAqAAAAKwAAACwAAAAtAAAALgAAAC8AAAAwAAAAMQAAADIAAAAzAAAANAAAADUAAAA2AAAANwAAADgAAAA5AAAAOgAAADsAAAA8AAAAPQAAAD4AAAA/AAAAQAAAAEEAAABCAAAAQwAAAEQAAABFAAAARgAAAEcAAABIAAAASQAAAEoAAABLAAAATAAAAE0AAABOAAAATwAAAFAAAABRAAAAUgAAAFMAAABUAAAAVQAAAFYAAABXAAAAWAAAAFkAAABaAAAA\",\"dtype\":\"int32\",\"shape\":[90]},\"y\":[0.9912799999998093,0.9814600000011444,0.9830799999954223,0.9603199999977111,0.9562799999801637,0.9597600000251769,0.9409400000030517,0.8997800000091553,0.8666799999725342,0.9876600000083923,0.9370799999786377,0.8894800000244141,0.8431800000457764,0.882819999975586,0.8799399999786377,0.8403600001159668,0.9322000000473022,0.9344800000534057,0.7964800000976563,0.8843800000579835,0.7981800000305177,0.9957000000013352,0.892000000088501,0.9552399999801635,0.8992200000549316,0.8101000000183106,0.7805200000915528,0.80964,0.944580000050354,0.8855599999816894,0.36342000014648435,0.3502800006835938,0.3426400006591797,0.3383800003173828,0.33293999997558593,0.33126000068359374,0.3299999996826172,0.33540000017089844,0.3535200002441406,0.33372000048828127,0.3302800005371094,0.3478800006591797,0.3336999999145508,0.3439799997314453,0.329699999609375,0.35075999982910155,0.36752000058593753,0.3529599999267578,0.3862,0.35143999985351565,0.5973600001464844,0.3805600001831055,0.3693000004272461,0.3823600004882812,0.4039800003417969,0.3666400002929687,0.35522000039062496,0.38262000040283206,0.43870000002441406,0.3887600002441406,0.27953999985351563,0.27740000078125,0.2751800005371094,0.27336000073242184,0.27221999995117185,0.2717999996582031,0.2711200004638672,0.27092000029296875,0.2698799999267578,0.2690600005859375,0.26748000039062503,0.2687999996826172,0.26884000083007814,0.2683199996826172,0.26787999970703125,0.2679400001708984,0.26720000048828124,0.2665800006591797,0.2677000007080078,0.26578000068359375,0.26621999958496095,0.2646200005371094,0.2650799999511719,0.26488000041503906,0.26478,0.26533999999999996,0.26482,0.265060000390625,0.264080000390625,0.2640600001464844]}},\"id\":\"3a86bbfa-710a-4d38-acfb-2380c496ea10\",\"type\":\"ColumnDataSource\"},{\"attributes\":{\"axis_label\":\"Error Rate\",\"formatter\":{\"id\":\"f78d84f8-6126-4a43-b7d9-a945b33812bf\",\"type\":\"NumeralTickFormatter\"},\"plot\":{\"id\":\"4051d595-1520-4ce6-90bf-a45eb9b01870\",\"subtype\":\"Figure\",\"type\":\"Plot\"},\"ticker\":{\"id\":\"0d3a95c9-c878-4ad7-aaa7-00e572304137\",\"type\":\"BasicTicker\"}},\"id\":\"681ef2ca-5835-4189-9a4c-b8a3dfd72c34\",\"type\":\"LinearAxis\"},{\"attributes\":{\"format\":\"0.0%\"},\"id\":\"f78d84f8-6126-4a43-b7d9-a945b33812bf\",\"type\":\"NumeralTickFormatter\"},{\"attributes\":{\"bottom_units\":\"screen\",\"fill_alpha\":{\"value\":0.5},\"fill_color\":{\"value\":\"lightgrey\"},\"left_units\":\"screen\",\"level\":\"overlay\",\"line_alpha\":{\"value\":1.0},\"line_color\":{\"value\":\"black\"},\"line_dash\":[4,4],\"line_width\":{\"value\":2},\"plot\":null,\"render_mode\":\"css\",\"right_units\":\"screen\",\"top_units\":\"screen\"},\"id\":\"f2bfd527-7912-4b0d-8ad7-8944c9d29121\",\"type\":\"BoxAnnotation\"},{\"attributes\":{},\"id\":\"5310f0d6-9f2e-402f-8a6a-ebd98a3bb9b7\",\"type\":\"PanTool\"},{\"attributes\":{\"line_color\":\"#1f77b4\",\"line_width\":3,\"x\":{\"field\":\"x\"},\"y\":{\"field\":\"y\"}},\"id\":\"f45f1662-690d-4dd9-956a-519c89fcdde8\",\"type\":\"Line\"},{\"attributes\":{\"source\":{\"id\":\"3a86bbfa-710a-4d38-acfb-2380c496ea10\",\"type\":\"ColumnDataSource\"}},\"id\":\"92e4ad05-6204-4936-b5e7-1d2ad81bf138\",\"type\":\"CDSView\"},{\"attributes\":{\"callback\":null,\"data\":{}},\"id\":\"6d2147cd-ea82-4843-81ec-4769099f129b\",\"type\":\"ColumnDataSource\"},{\"attributes\":{},\"id\":\"49c4a3e2-4cee-49a7-a267-14ab458be35f\",\"type\":\"WheelZoomTool\"},{\"attributes\":{\"fill_alpha\":{\"value\":0.5},\"fill_color\":{\"value\":\"red\"},\"line_alpha\":{\"value\":0.5},\"line_color\":{\"value\":\"red\"},\"size\":{\"units\":\"screen\",\"value\":5},\"x\":{\"value\":90},\"y\":{\"value\":0.2640600001464844}},\"id\":\"927d027d-2946-44f7-8360-57c4d1124d7c\",\"type\":\"Circle\"},{\"attributes\":{\"overlay\":{\"id\":\"f2bfd527-7912-4b0d-8ad7-8944c9d29121\",\"type\":\"BoxAnnotation\"}},\"id\":\"31e8ce06-8c29-423e-802a-1db330abc554\",\"type\":\"BoxZoomTool\"},{\"attributes\":{},\"id\":\"d61a3c3e-55cf-4869-9e1c-19b5668dcdae\",\"type\":\"SaveTool\"},{\"attributes\":{\"data_source\":{\"id\":\"3a86bbfa-710a-4d38-acfb-2380c496ea10\",\"type\":\"ColumnDataSource\"},\"glyph\":{\"id\":\"f45f1662-690d-4dd9-956a-519c89fcdde8\",\"type\":\"Line\"},\"hover_glyph\":null,\"muted_glyph\":null,\"nonselection_glyph\":{\"id\":\"d850f549-2957-4b37-aa02-0d1dcc5f0e76\",\"type\":\"Line\"},\"selection_glyph\":null,\"view\":{\"id\":\"92e4ad05-6204-4936-b5e7-1d2ad81bf138\",\"type\":\"CDSView\"}},\"id\":\"995eee4e-e060-4172-abfd-a81dc1a2fa3f\",\"type\":\"GlyphRenderer\"},{\"attributes\":{},\"id\":\"2631241c-bc81-4419-a81e-de7041dc2b55\",\"type\":\"ResetTool\"},{\"attributes\":{\"fill_alpha\":{\"value\":0.1},\"fill_color\":{\"value\":\"#1f77b4\"},\"line_alpha\":{\"value\":0.1},\"line_color\":{\"value\":\"#1f77b4\"},\"size\":{\"units\":\"screen\",\"value\":5},\"x\":{\"value\":90},\"y\":{\"value\":0.2640600001464844}},\"id\":\"1e9cdca1-3840-4869-aaf9-c56f921ff17f\",\"type\":\"Circle\"},{\"attributes\":{},\"id\":\"f1df0ca4-bfba-4ad6-89a9-4087725abb4c\",\"type\":\"HelpTool\"},{\"attributes\":{\"source\":{\"id\":\"6d2147cd-ea82-4843-81ec-4769099f129b\",\"type\":\"ColumnDataSource\"}},\"id\":\"e0d0b838-c9a6-4f04-9cd8-f644113dd659\",\"type\":\"CDSView\"},{\"attributes\":{\"data_source\":{\"id\":\"6d2147cd-ea82-4843-81ec-4769099f129b\",\"type\":\"ColumnDataSource\"},\"glyph\":{\"id\":\"927d027d-2946-44f7-8360-57c4d1124d7c\",\"type\":\"Circle\"},\"hover_glyph\":null,\"muted_glyph\":null,\"nonselection_glyph\":{\"id\":\"1e9cdca1-3840-4869-aaf9-c56f921ff17f\",\"type\":\"Circle\"},\"selection_glyph\":null,\"view\":{\"id\":\"e0d0b838-c9a6-4f04-9cd8-f644113dd659\",\"type\":\"CDSView\"}},\"id\":\"fa3a3371-36a1-4322-819b-eb200b43ddbf\",\"type\":\"GlyphRenderer\"},{\"attributes\":{\"background_fill_color\":{\"value\":\"#fafafa\"},\"below\":[{\"id\":\"5a62a4aa-e1f5-45d9-9cff-84d1853b6788\",\"type\":\"LinearAxis\"}],\"left\":[{\"id\":\"681ef2ca-5835-4189-9a4c-b8a3dfd72c34\",\"type\":\"LinearAxis\"}],\"min_border\":10,\"min_border_left\":50,\"renderers\":[{\"id\":\"5a62a4aa-e1f5-45d9-9cff-84d1853b6788\",\"type\":\"LinearAxis\"},{\"id\":\"7d8026f0-9f45-41ef-92e8-583e1960ca31\",\"type\":\"Grid\"},{\"id\":\"681ef2ca-5835-4189-9a4c-b8a3dfd72c34\",\"type\":\"LinearAxis\"},{\"id\":\"08c86efa-86d0-4e43-990f-ad63e68c760f\",\"type\":\"Grid\"},{\"id\":\"f2bfd527-7912-4b0d-8ad7-8944c9d29121\",\"type\":\"BoxAnnotation\"},{\"id\":\"fb1b7607-a21d-49f0-b5c2-61c9c3746a3f\",\"type\":\"Legend\"},{\"id\":\"025f13b8-e4f8-49c2-be0c-d8b15bd8ac20\",\"type\":\"GlyphRenderer\"},{\"id\":\"995eee4e-e060-4172-abfd-a81dc1a2fa3f\",\"type\":\"GlyphRenderer\"},{\"id\":\"fa3a3371-36a1-4322-819b-eb200b43ddbf\",\"type\":\"GlyphRenderer\"}],\"title\":{\"id\":\"8f6008c6-3250-4dbd-a600-de0f777e067a\",\"type\":\"Title\"},\"toolbar\":{\"id\":\"f7702ce0-d649-4c9b-b673-c65e533287b8\",\"type\":\"Toolbar\"},\"x_range\":{\"id\":\"ddfe8e36-32a7-4f7c-bac3-f35c54c4f1a0\",\"type\":\"DataRange1d\"},\"x_scale\":{\"id\":\"f3a7ea60-b337-406b-a5d6-d5b0b020511e\",\"type\":\"LinearScale\"},\"y_range\":{\"id\":\"4eb49f29-aec3-46d2-8dee-acf2eed6e9fb\",\"type\":\"DataRange1d\"},\"y_scale\":{\"id\":\"e2b65da9-18f1-4b00-9ee5-4ff73be674c1\",\"type\":\"LinearScale\"}},\"id\":\"4051d595-1520-4ce6-90bf-a45eb9b01870\",\"subtype\":\"Figure\",\"type\":\"Plot\"},{\"attributes\":{\"data_source\":{\"id\":\"f566c7c9-e69c-4a02-9911-d1a1cd1ae918\",\"type\":\"ColumnDataSource\"},\"glyph\":{\"id\":\"ebfce053-501e-43e3-9623-d5a34ce35073\",\"type\":\"Line\"},\"hover_glyph\":null,\"muted_glyph\":null,\"nonselection_glyph\":{\"id\":\"3249d111-d519-4581-8661-a67bfc29ed86\",\"type\":\"Line\"},\"selection_glyph\":null,\"view\":{\"id\":\"783a73a3-7763-4f16-9d33-c5a8880a7699\",\"type\":\"CDSView\"}},\"id\":\"025f13b8-e4f8-49c2-be0c-d8b15bd8ac20\",\"type\":\"GlyphRenderer\"},{\"attributes\":{\"line_color\":\"#1f77b4\",\"line_dash\":[6],\"line_width\":3,\"x\":{\"field\":\"x\"},\"y\":{\"field\":\"y\"}},\"id\":\"ebfce053-501e-43e3-9623-d5a34ce35073\",\"type\":\"Line\"},{\"attributes\":{\"line_alpha\":0.1,\"line_color\":\"#1f77b4\",\"line_dash\":[6],\"line_width\":3,\"x\":{\"field\":\"x\"},\"y\":{\"field\":\"y\"}},\"id\":\"3249d111-d519-4581-8661-a67bfc29ed86\",\"type\":\"Line\"},{\"attributes\":{\"callback\":null,\"column_names\":[\"x\",\"y\"],\"data\":{\"x\":{\"__ndarray__\":\"AQAAAAIAAAADAAAABAAAAAUAAAAGAAAABwAAAAgAAAAJAAAACgAAAAsAAAAMAAAADQAAAA4AAAAPAAAAEAAAABEAAAASAAAAEwAAABQAAAAVAAAAFgAAABcAAAAYAAAAGQAAABoAAAAbAAAAHAAAAB0AAAAeAAAAHwAAACAAAAAhAAAAIgAAACMAAAAkAAAAJQAAACYAAAAnAAAAKAAAACkAAAAqAAAAKwAAACwAAAAtAAAALgAAAC8AAAAwAAAAMQAAADIAAAAzAAAANAAAADUAAAA2AAAANwAAADgAAAA5AAAAOgAAADsAAAA8AAAAPQAAAD4AAAA/AAAAQAAAAEEAAABCAAAAQwAAAEQAAABFAAAARgAAAEcAAABIAAAASQAAAEoAAABLAAAATAAAAE0AAABOAAAATwAAAFAAAABRAAAAUgAAAFMAAABUAAAAVQAAAFYAAABXAAAAWAAAAFkAAABaAAAA\",\"dtype\":\"int32\",\"shape\":[90]},\"y\":[0.9948999622999889,0.982672048218581,0.9650420280885393,0.945172643378832,0.9216495585661013,0.8868133506408875,0.845554092479546,0.8093925304034444,0.7771586373980084,0.7491388710441403,0.7274305379382408,0.7091823314205005,0.6910043733573126,0.6790800887009162,0.6657383463660257,0.6581132670454963,0.6507332767689499,0.6414386258780511,0.6309154075909704,0.6271594569621789,0.6246913946410222,0.6228360549396117,0.6144952219318164,0.6068521902303738,0.6117976813329606,0.6064322605854524,0.6007530634193613,0.6202181292505055,0.5924762345578156,0.5965568891498232,0.4362975318596844,0.4052352269454929,0.39266621759493037,0.38399599739945456,0.3766222514298565,0.3714894311189703,0.36636597726877457,0.3618794427248314,0.3578815252001566,0.35515042145145387,0.3537899430725975,0.35132500290521274,0.3499629634541748,0.3489708991852666,0.34812323451998606,0.34750817028042996,0.3469945760383411,0.3460251473846215,0.34609149314374354,0.34655044970384624,0.34645678510096195,0.34505806034570974,0.3464723958716973,0.3461047622976165,0.34573244549862453,0.34562785335253643,0.344517147256762,0.3446506193160247,0.3449323936683757,0.3441300002280235,0.2989056071523466,0.2892222481542155,0.2857995874037858,0.28312936565164004,0.2808330217717098,0.2786615640222294,0.2777491146748319,0.2756393194605746,0.2744763172936619,0.2731064724552763,0.2720909920397188,0.2707133418214591,0.2701310601985325,0.2688135114296477,0.2682538654194086,0.2668223580546133,0.26617295012728825,0.2649428216603838,0.26454240547512237,0.26375484226758356,0.26079191861651835,0.2587937403974772,0.25795544218335903,0.25773923305658514,0.25768303429274053,0.2580171047141755,0.2570312847594211,0.2566012081136542,0.25706562844352765,0.2566410155770596]}},\"id\":\"f566c7c9-e69c-4a02-9911-d1a1cd1ae918\",\"type\":\"ColumnDataSource\"}],\"root_ids\":[\"4051d595-1520-4ce6-90bf-a45eb9b01870\"]},\"title\":\"Bokeh Application\",\"version\":\"0.12.13\"}};\n",
       "  var render_items = [{\"docid\":\"33acad68-389e-43df-81a1-08fdc60265d9\",\"elementid\":\"66cd0c3b-e70a-4318-9a3f-b02df2365e82\",\"modelid\":\"4051d595-1520-4ce6-90bf-a45eb9b01870\"}];\n",
       "  root.Bokeh.embed.embed_items_notebook(docs_json, render_items);\n",
       "\n",
       "  }\n",
       "  if (root.Bokeh !== undefined) {\n",
       "    embed_document(root);\n",
       "  } else {\n",
       "    var attempts = 0;\n",
       "    var timer = setInterval(function(root) {\n",
       "      if (root.Bokeh !== undefined) {\n",
       "        embed_document(root);\n",
       "        clearInterval(timer);\n",
       "      }\n",
       "      attempts++;\n",
       "      if (attempts > 100) {\n",
       "        console.log(\"Bokeh: ERROR: Unable to run BokehJS code because BokehJS library is missing\")\n",
       "        clearInterval(timer);\n",
       "      }\n",
       "    }, 10, root)\n",
       "  }\n",
       "})(window);"
      ],
      "application/vnd.bokehjs_exec.v0+json": ""
     },
     "metadata": {
      "application/vnd.bokehjs_exec.v0+json": {
       "id": "4051d595-1520-4ce6-90bf-a45eb9b01870"
      }
     },
     "output_type": "display_data"
    }
   ],
   "source": [
    "show(plots[1])"
   ]
  },
  {
   "cell_type": "code",
   "execution_count": 4,
   "metadata": {},
   "outputs": [
    {
     "data": {
      "text/html": [
       "\n",
       "<div class=\"bk-root\">\n",
       "    <div class=\"bk-plotdiv\" id=\"0b76277d-1ef8-400d-8e23-9445d1da3b0f\"></div>\n",
       "</div>"
      ]
     },
     "metadata": {},
     "output_type": "display_data"
    },
    {
     "data": {
      "application/javascript": [
       "(function(root) {\n",
       "  function embed_document(root) {\n",
       "    \n",
       "  var docs_json = {\"3e32eaf9-1a73-4bd3-b90c-8f07f48b6549\":{\"roots\":{\"references\":[{\"attributes\":{\"click_policy\":\"hide\",\"items\":[{\"id\":\"db3f9f02-8527-458a-947d-0a0bdadcd55b\",\"type\":\"LegendItem\"}],\"location\":\"bottom_left\",\"plot\":{\"id\":\"0612b28b-366a-4581-8abe-c553d83fa979\",\"subtype\":\"Figure\",\"type\":\"Plot\"}},\"id\":\"d92991b2-472b-4f7f-bacc-11816c03b09f\",\"type\":\"Legend\"},{\"attributes\":{\"source\":{\"id\":\"20dc828d-7286-4011-bac6-3175c77478a1\",\"type\":\"ColumnDataSource\"}},\"id\":\"2631d6b7-360d-46b9-b9b0-0d87192f7d1a\",\"type\":\"CDSView\"},{\"attributes\":{\"data_source\":{\"id\":\"20dc828d-7286-4011-bac6-3175c77478a1\",\"type\":\"ColumnDataSource\"},\"glyph\":{\"id\":\"e2680f29-d0db-4056-9617-38655dbdc80d\",\"type\":\"Line\"},\"hover_glyph\":null,\"muted_glyph\":null,\"nonselection_glyph\":{\"id\":\"f82ff2ef-d892-4fe1-8ea2-4c11e4c332ae\",\"type\":\"Line\"},\"selection_glyph\":null,\"view\":{\"id\":\"2631d6b7-360d-46b9-b9b0-0d87192f7d1a\",\"type\":\"CDSView\"}},\"id\":\"4f2ede4f-5ace-43fb-8ec5-7cf686374b0c\",\"type\":\"GlyphRenderer\"},{\"attributes\":{\"line_alpha\":0.1,\"line_color\":\"#1f77b4\",\"line_width\":3,\"x\":{\"field\":\"x\"},\"y\":{\"field\":\"y\"}},\"id\":\"8c46b160-8dd5-4172-bf4e-b9e0e17cdc80\",\"type\":\"Line\"},{\"attributes\":{\"callback\":null,\"column_names\":[\"x\",\"y\"],\"data\":{\"x\":{\"__ndarray__\":\"AQAAAAIAAAADAAAABAAAAAUAAAAGAAAABwAAAAgAAAAJAAAACgAAAAsAAAAMAAAADQAAAA4AAAAPAAAAEAAAABEAAAASAAAAEwAAABQAAAAVAAAAFgAAABcAAAAYAAAAGQAAABoAAAAbAAAAHAAAAB0AAAAeAAAAHwAAACAAAAAhAAAAIgAAACMAAAAkAAAAJQAAACYAAAAnAAAAKAAAACkAAAAqAAAAKwAAACwAAAAtAAAALgAAAC8AAAAwAAAAMQAAADIAAAAzAAAANAAAADUAAAA2AAAANwAAADgAAAA5AAAAOgAAADsAAAA8AAAAPQAAAD4AAAA/AAAAQAAAAEEAAABCAAAAQwAAAEQAAABFAAAARgAAAEcAAABIAAAASQAAAEoAAABLAAAATAAAAE0AAABOAAAATwAAAFAAAABRAAAAUgAAAFMAAABUAAAAVQAAAFYAAABXAAAAWAAAAFkAAABaAAAA\",\"dtype\":\"int32\",\"shape\":[90]},\"y\":[6.5299654335021975,6.477738202972412,16.794819512634277,5.849211119842529,6.052752761230469,7.258273574066162,6.223866955871582,5.3355398023986815,4.795684785003662,8.755180961608886,6.56583291229248,5.834226940460205,4.780962880554199,5.638234652404785,5.284919326934815,5.339713499145508,6.306998389129639,6.996193649139404,4.445802755279541,5.778762119750977,4.459434420623779,13.500469226379394,5.8977093495178226,7.1528279457092285,6.124169618988037,4.647251495666504,4.790305785675049,5.006272477722168,8.649698707580566,6.192495420684814,1.5088588673782348,1.4459213156509398,1.4100271406555176,1.379165625076294,1.3607464738082886,1.34497828125,1.349447839126587,1.3667314469909668,1.4637034733963012,1.3619812686920165,1.3525007356643677,1.4279207400512695,1.376568755455017,1.4099911185455323,1.359369437828064,1.4384634498214721,1.5284716683578492,1.4538164796447755,1.6152186031723021,1.4556319483566285,3.042085517501831,1.6060311281585693,1.5420633682632445,1.6250414070129395,1.7240546288681031,1.520110648727417,1.4997334281158448,1.6248514191055299,1.9680514209747315,1.647732092552185,1.1171337199783324,1.1057629137802123,1.097683285675049,1.0922021533584594,1.0918170651626586,1.0902770655059815,1.0835719367599488,1.0818003621673584,1.0817675201034547,1.078808006629944,1.0727509825515746,1.0753478183364868,1.075366446685791,1.0726463883590698,1.0685597631454469,1.068976446838379,1.0690774768447875,1.0677550257110595,1.0676424385070802,1.064481834640503,1.0611187396621704,1.058392022857666,1.0560389764022826,1.0568236910629272,1.0549710282325744,1.0557807809829711,1.0549565537261962,1.0542389214324952,1.0538685690689087,1.0527737237548829]}},\"id\":\"01d7aa96-4e55-487b-914c-48f02968876d\",\"type\":\"ColumnDataSource\"},{\"attributes\":{\"line_color\":\"#1f77b4\",\"line_width\":3,\"x\":{\"field\":\"x\"},\"y\":{\"field\":\"y\"}},\"id\":\"f0a45f08-1011-47c6-99de-d6ab9f96755a\",\"type\":\"Line\"},{\"attributes\":{\"data_source\":{\"id\":\"01d7aa96-4e55-487b-914c-48f02968876d\",\"type\":\"ColumnDataSource\"},\"glyph\":{\"id\":\"f0a45f08-1011-47c6-99de-d6ab9f96755a\",\"type\":\"Line\"},\"hover_glyph\":null,\"muted_glyph\":null,\"nonselection_glyph\":{\"id\":\"8c46b160-8dd5-4172-bf4e-b9e0e17cdc80\",\"type\":\"Line\"},\"selection_glyph\":null,\"view\":{\"id\":\"6e3c8676-c17b-4e75-aa27-3ba1fe91a38a\",\"type\":\"CDSView\"}},\"id\":\"5bdaae8e-f086-4930-88c5-07834ce683da\",\"type\":\"GlyphRenderer\"},{\"attributes\":{\"callback\":null},\"id\":\"25c08095-4aae-4307-b181-a10d53eefc08\",\"type\":\"DataRange1d\"},{\"attributes\":{\"source\":{\"id\":\"01d7aa96-4e55-487b-914c-48f02968876d\",\"type\":\"ColumnDataSource\"}},\"id\":\"6e3c8676-c17b-4e75-aa27-3ba1fe91a38a\",\"type\":\"CDSView\"},{\"attributes\":{\"active_drag\":\"auto\",\"active_inspect\":\"auto\",\"active_scroll\":\"auto\",\"active_tap\":\"auto\",\"tools\":[{\"id\":\"89036f86-25b0-4bb7-86d9-7d2849dcfed5\",\"type\":\"PanTool\"},{\"id\":\"b32750ee-658d-463b-bfc3-196b471058ba\",\"type\":\"WheelZoomTool\"},{\"id\":\"d82eaf84-6a0a-4e83-9e6a-72a2cc13b9b1\",\"type\":\"BoxZoomTool\"},{\"id\":\"4a99f24a-4fb4-4463-9ad5-07fa1ec7a3e4\",\"type\":\"SaveTool\"},{\"id\":\"36fdc0dc-1365-40b2-b34b-26751123b33e\",\"type\":\"ResetTool\"},{\"id\":\"2c67d178-0671-464c-aa7f-335f8c1d9f84\",\"type\":\"HelpTool\"}]},\"id\":\"9bdd1561-6223-4aa4-9b84-6499adb842c0\",\"type\":\"Toolbar\"},{\"attributes\":{},\"id\":\"95eea648-b44e-4e84-86dc-6d4fc41747c1\",\"type\":\"BasicTicker\"},{\"attributes\":{\"line_color\":\"#1f77b4\",\"line_dash\":[6],\"line_width\":3,\"x\":{\"field\":\"x\"},\"y\":{\"field\":\"y\"}},\"id\":\"e2680f29-d0db-4056-9617-38655dbdc80d\",\"type\":\"Line\"},{\"attributes\":{\"line_alpha\":0.1,\"line_color\":\"#1f77b4\",\"line_dash\":[6],\"line_width\":3,\"x\":{\"field\":\"x\"},\"y\":{\"field\":\"y\"}},\"id\":\"f82ff2ef-d892-4fe1-8ea2-4c11e4c332ae\",\"type\":\"Line\"},{\"attributes\":{},\"id\":\"ac2a984b-b1ac-4f60-a794-1e32768b4a2a\",\"type\":\"BasicTickFormatter\"},{\"attributes\":{\"background_fill_color\":{\"value\":\"#fafafa\"},\"below\":[{\"id\":\"27b40339-882a-4fac-b823-d0a0547ac420\",\"type\":\"LinearAxis\"}],\"left\":[{\"id\":\"144cec56-e694-47f5-a7b9-7bf1cc20816b\",\"type\":\"LogAxis\"}],\"min_border\":10,\"min_border_left\":50,\"renderers\":[{\"id\":\"27b40339-882a-4fac-b823-d0a0547ac420\",\"type\":\"LinearAxis\"},{\"id\":\"bb53731a-ad90-4f0e-9a0f-e81339f9bed3\",\"type\":\"Grid\"},{\"id\":\"144cec56-e694-47f5-a7b9-7bf1cc20816b\",\"type\":\"LogAxis\"},{\"id\":\"5b02fd60-0006-4911-8753-3165b63ecd2d\",\"type\":\"Grid\"},{\"id\":\"62d07981-af9a-40e2-8584-f8dd287ba07a\",\"type\":\"BoxAnnotation\"},{\"id\":\"d92991b2-472b-4f7f-bacc-11816c03b09f\",\"type\":\"Legend\"},{\"id\":\"4f2ede4f-5ace-43fb-8ec5-7cf686374b0c\",\"type\":\"GlyphRenderer\"},{\"id\":\"5bdaae8e-f086-4930-88c5-07834ce683da\",\"type\":\"GlyphRenderer\"}],\"title\":{\"id\":\"98293154-4b36-4b5b-a89d-2fef02468517\",\"type\":\"Title\"},\"toolbar\":{\"id\":\"9bdd1561-6223-4aa4-9b84-6499adb842c0\",\"type\":\"Toolbar\"},\"x_range\":{\"id\":\"25c08095-4aae-4307-b181-a10d53eefc08\",\"type\":\"DataRange1d\"},\"x_scale\":{\"id\":\"13492df8-dc44-496c-927a-3b70d7ec5bff\",\"type\":\"LinearScale\"},\"y_range\":{\"id\":\"fe658a98-2c3d-4076-92c3-1b752cb46cd9\",\"type\":\"DataRange1d\"},\"y_scale\":{\"id\":\"5adf9b76-f307-4dc9-a73f-1a19b8d3e658\",\"type\":\"LogScale\"}},\"id\":\"0612b28b-366a-4581-8abe-c553d83fa979\",\"subtype\":\"Figure\",\"type\":\"Plot\"},{\"attributes\":{\"plot\":{\"id\":\"0612b28b-366a-4581-8abe-c553d83fa979\",\"subtype\":\"Figure\",\"type\":\"Plot\"},\"ticker\":{\"id\":\"95eea648-b44e-4e84-86dc-6d4fc41747c1\",\"type\":\"BasicTicker\"}},\"id\":\"bb53731a-ad90-4f0e-9a0f-e81339f9bed3\",\"type\":\"Grid\"},{\"attributes\":{},\"id\":\"13492df8-dc44-496c-927a-3b70d7ec5bff\",\"type\":\"LinearScale\"},{\"attributes\":{\"callback\":null},\"id\":\"fe658a98-2c3d-4076-92c3-1b752cb46cd9\",\"type\":\"DataRange1d\"},{\"attributes\":{\"ticker\":null},\"id\":\"0b63a450-0afd-4908-a1a0-ed20836945ed\",\"type\":\"LogTickFormatter\"},{\"attributes\":{\"axis_label\":\"t [Epochs]\",\"formatter\":{\"id\":\"ac2a984b-b1ac-4f60-a794-1e32768b4a2a\",\"type\":\"BasicTickFormatter\"},\"plot\":{\"id\":\"0612b28b-366a-4581-8abe-c553d83fa979\",\"subtype\":\"Figure\",\"type\":\"Plot\"},\"ticker\":{\"id\":\"95eea648-b44e-4e84-86dc-6d4fc41747c1\",\"type\":\"BasicTicker\"}},\"id\":\"27b40339-882a-4fac-b823-d0a0547ac420\",\"type\":\"LinearAxis\"},{\"attributes\":{\"plot\":null,\"text\":\"Training & Test Loss\"},\"id\":\"98293154-4b36-4b5b-a89d-2fef02468517\",\"type\":\"Title\"},{\"attributes\":{\"num_minor_ticks\":10},\"id\":\"60ff63c9-a5e2-43e5-837a-e1861f4ad77b\",\"type\":\"LogTicker\"},{\"attributes\":{},\"id\":\"5adf9b76-f307-4dc9-a73f-1a19b8d3e658\",\"type\":\"LogScale\"},{\"attributes\":{\"axis_label\":\"L(w(t))\",\"formatter\":{\"id\":\"0b63a450-0afd-4908-a1a0-ed20836945ed\",\"type\":\"LogTickFormatter\"},\"plot\":{\"id\":\"0612b28b-366a-4581-8abe-c553d83fa979\",\"subtype\":\"Figure\",\"type\":\"Plot\"},\"ticker\":{\"id\":\"60ff63c9-a5e2-43e5-837a-e1861f4ad77b\",\"type\":\"LogTicker\"}},\"id\":\"144cec56-e694-47f5-a7b9-7bf1cc20816b\",\"type\":\"LogAxis\"},{\"attributes\":{\"dimension\":1,\"plot\":{\"id\":\"0612b28b-366a-4581-8abe-c553d83fa979\",\"subtype\":\"Figure\",\"type\":\"Plot\"},\"ticker\":{\"id\":\"60ff63c9-a5e2-43e5-837a-e1861f4ad77b\",\"type\":\"LogTicker\"}},\"id\":\"5b02fd60-0006-4911-8753-3165b63ecd2d\",\"type\":\"Grid\"},{\"attributes\":{\"bottom_units\":\"screen\",\"fill_alpha\":{\"value\":0.5},\"fill_color\":{\"value\":\"lightgrey\"},\"left_units\":\"screen\",\"level\":\"overlay\",\"line_alpha\":{\"value\":1.0},\"line_color\":{\"value\":\"black\"},\"line_dash\":[4,4],\"line_width\":{\"value\":2},\"plot\":null,\"render_mode\":\"css\",\"right_units\":\"screen\",\"top_units\":\"screen\"},\"id\":\"62d07981-af9a-40e2-8584-f8dd287ba07a\",\"type\":\"BoxAnnotation\"},{\"attributes\":{},\"id\":\"89036f86-25b0-4bb7-86d9-7d2849dcfed5\",\"type\":\"PanTool\"},{\"attributes\":{},\"id\":\"b32750ee-658d-463b-bfc3-196b471058ba\",\"type\":\"WheelZoomTool\"},{\"attributes\":{\"callback\":null,\"column_names\":[\"x\",\"y\"],\"data\":{\"x\":{\"__ndarray__\":\"AQAAAAIAAAADAAAABAAAAAUAAAAGAAAABwAAAAgAAAAJAAAACgAAAAsAAAAMAAAADQAAAA4AAAAPAAAAEAAAABEAAAASAAAAEwAAABQAAAAVAAAAFgAAABcAAAAYAAAAGQAAABoAAAAbAAAAHAAAAB0AAAAeAAAAHwAAACAAAAAhAAAAIgAAACMAAAAkAAAAJQAAACYAAAAnAAAAKAAAACkAAAAqAAAAKwAAACwAAAAtAAAALgAAAC8AAAAwAAAAMQAAADIAAAAzAAAANAAAADUAAAA2AAAANwAAADgAAAA5AAAAOgAAADsAAAA8AAAAPQAAAD4AAAA/AAAAQAAAAEEAAABCAAAAQwAAAEQAAABFAAAARgAAAEcAAABIAAAASQAAAEoAAABLAAAATAAAAE0AAABOAAAATwAAAFAAAABRAAAAUgAAAFMAAABUAAAAVQAAAFYAAABXAAAAWAAAAFkAAABaAAAA\",\"dtype\":\"int32\",\"shape\":[90]},\"y\":[6.7633033872627415,6.217889507426397,5.856642572594175,5.561400069694018,5.272970947384407,4.898124030847847,4.5220061333391675,4.231051100932464,3.980769291328732,3.775758245049184,3.6290412593795853,3.5029460571552784,3.3838745504376813,3.302109533027927,3.2208590227138685,3.1655469591813743,3.121864319226359,3.069602171362762,3.0004688710764054,2.9804374571267287,2.965710688102678,2.9557313730283465,2.9019569736105955,2.856064011281951,2.890433694290584,2.8575189745384764,2.82174650761676,2.9752287816668868,2.7715487442360267,2.8003769957543514,1.9503735395375108,1.7826796108146212,1.7170508726323743,1.6721090395731202,1.6350339981850441,1.6052932008392626,1.581819329165498,1.557943730484754,1.5409829320278978,1.5284042303569312,1.517156992954713,1.5060743589580388,1.4980433111763625,1.4920989282922097,1.486786438750848,1.4830882087061643,1.4824513381088835,1.4779139021856544,1.4772504710817045,1.4795916302304566,1.476556575675142,1.471905668646313,1.4747779385157422,1.4746523741611721,1.4719448992822124,1.4714264892248359,1.466982553967342,1.4688667210896729,1.4686657439461077,1.463494853157467,1.2672190211487133,1.2215031241617889,1.2052803626453923,1.1931358712045144,1.1815159496485297,1.170782038145245,1.1668832495826618,1.1576260231195068,1.1530864173994755,1.145302442556266,1.1414539398678183,1.1345934615068574,1.130316227666552,1.1250567921252153,1.124284546879519,1.1163864878637477,1.1143725519399734,1.1091089143293114,1.1031634081322212,1.1020544794190446,1.0870779708145788,1.0819013995410676,1.0787179689342468,1.0785120805593413,1.075973304381982,1.0773995232723133,1.07160307316946,1.0718756971319228,1.0721953290908777,1.070613224797503]}},\"id\":\"20dc828d-7286-4011-bac6-3175c77478a1\",\"type\":\"ColumnDataSource\"},{\"attributes\":{\"overlay\":{\"id\":\"62d07981-af9a-40e2-8584-f8dd287ba07a\",\"type\":\"BoxAnnotation\"}},\"id\":\"d82eaf84-6a0a-4e83-9e6a-72a2cc13b9b1\",\"type\":\"BoxZoomTool\"},{\"attributes\":{\"label\":{\"value\":\"asynchronous_256_32\"},\"renderers\":[{\"id\":\"4f2ede4f-5ace-43fb-8ec5-7cf686374b0c\",\"type\":\"GlyphRenderer\"},{\"id\":\"5bdaae8e-f086-4930-88c5-07834ce683da\",\"type\":\"GlyphRenderer\"}]},\"id\":\"db3f9f02-8527-458a-947d-0a0bdadcd55b\",\"type\":\"LegendItem\"},{\"attributes\":{},\"id\":\"4a99f24a-4fb4-4463-9ad5-07fa1ec7a3e4\",\"type\":\"SaveTool\"},{\"attributes\":{},\"id\":\"36fdc0dc-1365-40b2-b34b-26751123b33e\",\"type\":\"ResetTool\"},{\"attributes\":{},\"id\":\"2c67d178-0671-464c-aa7f-335f8c1d9f84\",\"type\":\"HelpTool\"}],\"root_ids\":[\"0612b28b-366a-4581-8abe-c553d83fa979\"]},\"title\":\"Bokeh Application\",\"version\":\"0.12.13\"}};\n",
       "  var render_items = [{\"docid\":\"3e32eaf9-1a73-4bd3-b90c-8f07f48b6549\",\"elementid\":\"0b76277d-1ef8-400d-8e23-9445d1da3b0f\",\"modelid\":\"0612b28b-366a-4581-8abe-c553d83fa979\"}];\n",
       "  root.Bokeh.embed.embed_items_notebook(docs_json, render_items);\n",
       "\n",
       "  }\n",
       "  if (root.Bokeh !== undefined) {\n",
       "    embed_document(root);\n",
       "  } else {\n",
       "    var attempts = 0;\n",
       "    var timer = setInterval(function(root) {\n",
       "      if (root.Bokeh !== undefined) {\n",
       "        embed_document(root);\n",
       "        clearInterval(timer);\n",
       "      }\n",
       "      attempts++;\n",
       "      if (attempts > 100) {\n",
       "        console.log(\"Bokeh: ERROR: Unable to run BokehJS code because BokehJS library is missing\")\n",
       "        clearInterval(timer);\n",
       "      }\n",
       "    }, 10, root)\n",
       "  }\n",
       "})(window);"
      ],
      "application/vnd.bokehjs_exec.v0+json": ""
     },
     "metadata": {
      "application/vnd.bokehjs_exec.v0+json": {
       "id": "0612b28b-366a-4581-8abe-c553d83fa979"
      }
     },
     "output_type": "display_data"
    }
   ],
   "source": [
    "show(plots[0])"
   ]
  },
  {
   "cell_type": "code",
   "execution_count": 5,
   "metadata": {},
   "outputs": [
    {
     "data": {
      "text/html": [
       "\n",
       "<div class=\"bk-root\">\n",
       "    <div class=\"bk-plotdiv\" id=\"b2a69b52-0e0b-4c78-b5ff-45caca5104a9\"></div>\n",
       "</div>"
      ]
     },
     "metadata": {},
     "output_type": "display_data"
    },
    {
     "data": {
      "application/javascript": [
       "(function(root) {\n",
       "  function embed_document(root) {\n",
       "    \n",
       "  var docs_json = {\"d2eb68fe-0a29-4b6b-a1cd-d94e775b0a4e\":{\"roots\":{\"references\":[{\"attributes\":{\"dimension\":1,\"plot\":{\"id\":\"488972b8-104c-44d7-afc0-da5eab135678\",\"subtype\":\"Figure\",\"type\":\"Plot\"},\"ticker\":{\"id\":\"307bc9d6-e058-4bfa-aab5-11adc049ac10\",\"type\":\"BasicTicker\"}},\"id\":\"07ec8dde-7a67-4676-9bc4-c5d2d444d432\",\"type\":\"Grid\"},{\"attributes\":{\"line_color\":\"#1f77b4\",\"line_width\":3,\"x\":{\"field\":\"x\"},\"y\":{\"field\":\"y\"}},\"id\":\"4f68fa8b-fc34-4fcd-af84-417768d9e41e\",\"type\":\"Line\"},{\"attributes\":{},\"id\":\"ba80028c-d3bd-428f-8c0c-44e38033425d\",\"type\":\"BasicTickFormatter\"},{\"attributes\":{\"bottom_units\":\"screen\",\"fill_alpha\":{\"value\":0.5},\"fill_color\":{\"value\":\"lightgrey\"},\"left_units\":\"screen\",\"level\":\"overlay\",\"line_alpha\":{\"value\":1.0},\"line_color\":{\"value\":\"black\"},\"line_dash\":[4,4],\"line_width\":{\"value\":2},\"plot\":null,\"render_mode\":\"css\",\"right_units\":\"screen\",\"top_units\":\"screen\"},\"id\":\"e53f1eb1-a05b-46b9-a96c-a8f0207af985\",\"type\":\"BoxAnnotation\"},{\"attributes\":{\"label\":{\"value\":\"asynchronous_256_32\"},\"renderers\":[{\"id\":\"ce19c7aa-659d-400c-a0f1-318d440f54a6\",\"type\":\"GlyphRenderer\"}]},\"id\":\"1a7ce666-56fd-4c73-a97c-4ea2a3f13e41\",\"type\":\"LegendItem\"},{\"attributes\":{},\"id\":\"5896a143-da9c-43a2-82ce-7a0dffa9db21\",\"type\":\"PanTool\"},{\"attributes\":{\"line_alpha\":0.1,\"line_color\":\"#1f77b4\",\"line_width\":3,\"x\":{\"field\":\"x\"},\"y\":{\"field\":\"y\"}},\"id\":\"b709c56d-964e-4622-b6ff-951a06a065b8\",\"type\":\"Line\"},{\"attributes\":{},\"id\":\"0770641e-255f-4fbd-b8dd-5b1d2df6e807\",\"type\":\"WheelZoomTool\"},{\"attributes\":{\"callback\":null,\"column_names\":[\"x\",\"y\"],\"data\":{\"x\":{\"__ndarray__\":\"AQAAAAIAAAADAAAABAAAAAUAAAAGAAAABwAAAAgAAAAJAAAACgAAAAsAAAAMAAAADQAAAA4AAAAPAAAAEAAAABEAAAASAAAAEwAAABQAAAAVAAAAFgAAABcAAAAYAAAAGQAAABoAAAAbAAAAHAAAAB0AAAAeAAAAHwAAACAAAAAhAAAAIgAAACMAAAAkAAAAJQAAACYAAAAnAAAAKAAAACkAAAAqAAAAKwAAACwAAAAtAAAALgAAAC8AAAAwAAAAMQAAADIAAAAzAAAANAAAADUAAAA2AAAANwAAADgAAAA5AAAAOgAAADsAAAA8AAAAPQAAAD4AAAA/AAAAQAAAAEEAAABCAAAAQwAAAEQAAABFAAAARgAAAEcAAABIAAAASQAAAEoAAABLAAAATAAAAE0AAABOAAAATwAAAFAAAABRAAAAUgAAAFMAAABUAAAAVQAAAFYAAABXAAAAWAAAAFkAAABaAAAA\",\"dtype\":\"int32\",\"shape\":[90]},\"y\":[19.32701301574707,23.705467224121094,30.512113571166992,38.1307258605957,46.07460021972656,52.85068893432617,58.14643478393555,61.9022331237793,64.63310241699219,66.55467224121094,67.86183166503906,68.8183822631836,69.55239868164062,69.99361419677734,70.32321166992188,70.51151275634766,70.5740737915039,70.594482421875,70.70265197753906,70.63512420654297,70.55671691894531,70.55502319335938,70.52029418945312,70.39678955078125,70.33001708984375,70.18651580810547,70.15009307861328,69.7630615234375,69.8977279663086,69.86898803710938,69.10282135009766,68.1302490234375,67.13683319091797,66.1629409790039,65.22820281982422,64.33419799804688,63.486900329589844,62.6828498840332,61.913021087646484,61.193992614746094,60.513336181640625,59.87401580810547,59.27426528930664,58.70952606201172,58.17656326293945,57.6796760559082,57.211490631103516,56.770423889160156,56.359859466552734,55.97244644165039,55.61300277709961,55.28233337402344,54.965660095214844,54.674949645996094,54.399009704589844,54.14680862426758,53.901031494140625,53.673099517822266,53.4594841003418,53.267860412597656,53.24768829345703,53.22603225708008,53.20302963256836,53.179962158203125,53.156532287597656,53.13286209106445,53.10856246948242,53.08367156982422,53.058650970458984,53.034305572509766,53.00889587402344,52.98387908935547,52.95943069458008,52.93458557128906,52.909053802490234,52.8846549987793,52.85965347290039,52.83503341674805,52.8099250793457,52.78471755981445,52.78234100341797,52.779945373535156,52.777610778808594,52.775184631347656,52.77284622192383,52.77046585083008,52.76813507080078,52.76582717895508,52.763484954833984,52.7611198425293]}},\"id\":\"a0b503e5-8b17-4529-8bd8-5d9a4ce8d76e\",\"type\":\"ColumnDataSource\"},{\"attributes\":{\"overlay\":{\"id\":\"e53f1eb1-a05b-46b9-a96c-a8f0207af985\",\"type\":\"BoxAnnotation\"}},\"id\":\"3f2df256-ca36-4eba-806f-695fc03e42e9\",\"type\":\"BoxZoomTool\"},{\"attributes\":{},\"id\":\"67284716-a219-4e51-90fe-085f672e66ce\",\"type\":\"BasicTickFormatter\"},{\"attributes\":{\"data_source\":{\"id\":\"a0b503e5-8b17-4529-8bd8-5d9a4ce8d76e\",\"type\":\"ColumnDataSource\"},\"glyph\":{\"id\":\"4f68fa8b-fc34-4fcd-af84-417768d9e41e\",\"type\":\"Line\"},\"hover_glyph\":null,\"muted_glyph\":null,\"nonselection_glyph\":{\"id\":\"b709c56d-964e-4622-b6ff-951a06a065b8\",\"type\":\"Line\"},\"selection_glyph\":null,\"view\":{\"id\":\"333b7c77-70b9-4cd5-830e-01dad4598f9e\",\"type\":\"CDSView\"}},\"id\":\"ce19c7aa-659d-400c-a0f1-318d440f54a6\",\"type\":\"GlyphRenderer\"},{\"attributes\":{},\"id\":\"f67228f4-dd36-46f8-befb-8c2f3c08f62d\",\"type\":\"SaveTool\"},{\"attributes\":{},\"id\":\"d92120b2-1891-48d9-b7c9-dbfc240b1328\",\"type\":\"ResetTool\"},{\"attributes\":{\"callback\":null},\"id\":\"dc6e39bc-3191-4f4d-9b81-2fe61ddfd600\",\"type\":\"DataRange1d\"},{\"attributes\":{\"source\":{\"id\":\"a0b503e5-8b17-4529-8bd8-5d9a4ce8d76e\",\"type\":\"ColumnDataSource\"}},\"id\":\"333b7c77-70b9-4cd5-830e-01dad4598f9e\",\"type\":\"CDSView\"},{\"attributes\":{\"click_policy\":\"hide\",\"items\":[{\"id\":\"1a7ce666-56fd-4c73-a97c-4ea2a3f13e41\",\"type\":\"LegendItem\"}],\"location\":\"top_left\",\"plot\":{\"id\":\"488972b8-104c-44d7-afc0-da5eab135678\",\"subtype\":\"Figure\",\"type\":\"Plot\"}},\"id\":\"aa7f01c5-97a0-4f39-a71b-e021ba86b7ba\",\"type\":\"Legend\"},{\"attributes\":{},\"id\":\"23e38640-1afe-4a2a-ae12-b592ff8de4ca\",\"type\":\"HelpTool\"},{\"attributes\":{\"plot\":null,\"text\":\"The Norm of w(t)\"},\"id\":\"7cf09fe9-b91c-4a9a-bbc4-1aabbdb5f4a9\",\"type\":\"Title\"},{\"attributes\":{\"active_drag\":\"auto\",\"active_inspect\":\"auto\",\"active_scroll\":\"auto\",\"active_tap\":\"auto\",\"tools\":[{\"id\":\"5896a143-da9c-43a2-82ce-7a0dffa9db21\",\"type\":\"PanTool\"},{\"id\":\"0770641e-255f-4fbd-b8dd-5b1d2df6e807\",\"type\":\"WheelZoomTool\"},{\"id\":\"3f2df256-ca36-4eba-806f-695fc03e42e9\",\"type\":\"BoxZoomTool\"},{\"id\":\"f67228f4-dd36-46f8-befb-8c2f3c08f62d\",\"type\":\"SaveTool\"},{\"id\":\"d92120b2-1891-48d9-b7c9-dbfc240b1328\",\"type\":\"ResetTool\"},{\"id\":\"23e38640-1afe-4a2a-ae12-b592ff8de4ca\",\"type\":\"HelpTool\"}]},\"id\":\"b80cf735-69ba-498f-ba5d-08dd4e315a31\",\"type\":\"Toolbar\"},{\"attributes\":{\"background_fill_color\":{\"value\":\"#fafafa\"},\"below\":[{\"id\":\"22304cea-c344-439e-a349-1a001586f5c0\",\"type\":\"LinearAxis\"}],\"left\":[{\"id\":\"89c6e3de-108f-4e0c-8318-d0d691a367ca\",\"type\":\"LinearAxis\"}],\"min_border\":10,\"min_border_left\":50,\"renderers\":[{\"id\":\"22304cea-c344-439e-a349-1a001586f5c0\",\"type\":\"LinearAxis\"},{\"id\":\"092f6dc3-1210-4f8a-b7f8-9a5e12dcdde1\",\"type\":\"Grid\"},{\"id\":\"89c6e3de-108f-4e0c-8318-d0d691a367ca\",\"type\":\"LinearAxis\"},{\"id\":\"07ec8dde-7a67-4676-9bc4-c5d2d444d432\",\"type\":\"Grid\"},{\"id\":\"e53f1eb1-a05b-46b9-a96c-a8f0207af985\",\"type\":\"BoxAnnotation\"},{\"id\":\"aa7f01c5-97a0-4f39-a71b-e021ba86b7ba\",\"type\":\"Legend\"},{\"id\":\"ce19c7aa-659d-400c-a0f1-318d440f54a6\",\"type\":\"GlyphRenderer\"}],\"title\":{\"id\":\"7cf09fe9-b91c-4a9a-bbc4-1aabbdb5f4a9\",\"type\":\"Title\"},\"toolbar\":{\"id\":\"b80cf735-69ba-498f-ba5d-08dd4e315a31\",\"type\":\"Toolbar\"},\"x_range\":{\"id\":\"dc6e39bc-3191-4f4d-9b81-2fe61ddfd600\",\"type\":\"DataRange1d\"},\"x_scale\":{\"id\":\"21ad1fa2-f146-4a3a-852c-8a89176b434f\",\"type\":\"LinearScale\"},\"y_range\":{\"id\":\"3f4e9929-c6a5-40db-900d-8ef2eab670e3\",\"type\":\"DataRange1d\"},\"y_scale\":{\"id\":\"ad9a2d00-2c37-4e72-8230-6cc45f600513\",\"type\":\"LinearScale\"}},\"id\":\"488972b8-104c-44d7-afc0-da5eab135678\",\"subtype\":\"Figure\",\"type\":\"Plot\"},{\"attributes\":{},\"id\":\"307bc9d6-e058-4bfa-aab5-11adc049ac10\",\"type\":\"BasicTicker\"},{\"attributes\":{},\"id\":\"ad9a2d00-2c37-4e72-8230-6cc45f600513\",\"type\":\"LinearScale\"},{\"attributes\":{},\"id\":\"21ad1fa2-f146-4a3a-852c-8a89176b434f\",\"type\":\"LinearScale\"},{\"attributes\":{\"callback\":null},\"id\":\"3f4e9929-c6a5-40db-900d-8ef2eab670e3\",\"type\":\"DataRange1d\"},{\"attributes\":{\"plot\":{\"id\":\"488972b8-104c-44d7-afc0-da5eab135678\",\"subtype\":\"Figure\",\"type\":\"Plot\"},\"ticker\":{\"id\":\"016dff1b-213c-494d-9567-5b5c66445b61\",\"type\":\"BasicTicker\"}},\"id\":\"092f6dc3-1210-4f8a-b7f8-9a5e12dcdde1\",\"type\":\"Grid\"},{\"attributes\":{\"axis_label\":\"t [Epochs]\",\"formatter\":{\"id\":\"67284716-a219-4e51-90fe-085f672e66ce\",\"type\":\"BasicTickFormatter\"},\"plot\":{\"id\":\"488972b8-104c-44d7-afc0-da5eab135678\",\"subtype\":\"Figure\",\"type\":\"Plot\"},\"ticker\":{\"id\":\"016dff1b-213c-494d-9567-5b5c66445b61\",\"type\":\"BasicTicker\"}},\"id\":\"22304cea-c344-439e-a349-1a001586f5c0\",\"type\":\"LinearAxis\"},{\"attributes\":{},\"id\":\"016dff1b-213c-494d-9567-5b5c66445b61\",\"type\":\"BasicTicker\"},{\"attributes\":{\"axis_label\":\"||w(t)||\",\"formatter\":{\"id\":\"ba80028c-d3bd-428f-8c0c-44e38033425d\",\"type\":\"BasicTickFormatter\"},\"plot\":{\"id\":\"488972b8-104c-44d7-afc0-da5eab135678\",\"subtype\":\"Figure\",\"type\":\"Plot\"},\"ticker\":{\"id\":\"307bc9d6-e058-4bfa-aab5-11adc049ac10\",\"type\":\"BasicTicker\"}},\"id\":\"89c6e3de-108f-4e0c-8318-d0d691a367ca\",\"type\":\"LinearAxis\"}],\"root_ids\":[\"488972b8-104c-44d7-afc0-da5eab135678\"]},\"title\":\"Bokeh Application\",\"version\":\"0.12.13\"}};\n",
       "  var render_items = [{\"docid\":\"d2eb68fe-0a29-4b6b-a1cd-d94e775b0a4e\",\"elementid\":\"b2a69b52-0e0b-4c78-b5ff-45caca5104a9\",\"modelid\":\"488972b8-104c-44d7-afc0-da5eab135678\"}];\n",
       "  root.Bokeh.embed.embed_items_notebook(docs_json, render_items);\n",
       "\n",
       "  }\n",
       "  if (root.Bokeh !== undefined) {\n",
       "    embed_document(root);\n",
       "  } else {\n",
       "    var attempts = 0;\n",
       "    var timer = setInterval(function(root) {\n",
       "      if (root.Bokeh !== undefined) {\n",
       "        embed_document(root);\n",
       "        clearInterval(timer);\n",
       "      }\n",
       "      attempts++;\n",
       "      if (attempts > 100) {\n",
       "        console.log(\"Bokeh: ERROR: Unable to run BokehJS code because BokehJS library is missing\")\n",
       "        clearInterval(timer);\n",
       "      }\n",
       "    }, 10, root)\n",
       "  }\n",
       "})(window);"
      ],
      "application/vnd.bokehjs_exec.v0+json": ""
     },
     "metadata": {
      "application/vnd.bokehjs_exec.v0+json": {
       "id": "488972b8-104c-44d7-afc0-da5eab135678"
      }
     },
     "output_type": "display_data"
    }
   ],
   "source": [
    "show(plots[2])"
   ]
  },
  {
   "cell_type": "code",
   "execution_count": 6,
   "metadata": {},
   "outputs": [
    {
     "data": {
      "text/html": [
       "\n",
       "<div class=\"bk-root\">\n",
       "    <div class=\"bk-plotdiv\" id=\"877cfcc4-e269-49e4-9907-6263c6297372\"></div>\n",
       "</div>"
      ]
     },
     "metadata": {},
     "output_type": "display_data"
    },
    {
     "data": {
      "application/javascript": [
       "(function(root) {\n",
       "  function embed_document(root) {\n",
       "    \n",
       "  var docs_json = {\"f557ee7c-0a3b-4ae8-9451-4a3164209a6d\":{\"roots\":{\"references\":[{\"attributes\":{\"callback\":null},\"id\":\"201fbba4-6f10-40ac-9280-e07e14c8c484\",\"type\":\"DataRange1d\"},{\"attributes\":{\"active_drag\":\"auto\",\"active_inspect\":\"auto\",\"active_scroll\":\"auto\",\"active_tap\":\"auto\",\"tools\":[{\"id\":\"56737baf-3e28-4c63-8fca-4a2735a6072b\",\"type\":\"PanTool\"},{\"id\":\"09911d0b-47dc-4087-aeee-7d784fb768b5\",\"type\":\"WheelZoomTool\"},{\"id\":\"de0b1d86-8dde-42bf-9fec-7627b5df63be\",\"type\":\"BoxZoomTool\"},{\"id\":\"2487aea9-d57c-4604-b132-a2dadb5d4570\",\"type\":\"SaveTool\"},{\"id\":\"7f66620a-233a-418e-a687-767a75f130bd\",\"type\":\"ResetTool\"},{\"id\":\"6673daf7-1c47-4249-b485-a7a27b27e354\",\"type\":\"HelpTool\"}]},\"id\":\"22afa373-b69c-4e0d-87e4-f74cae174e82\",\"type\":\"Toolbar\"},{\"attributes\":{\"plot\":null,\"text\":\"The Norm of Gradients\"},\"id\":\"f41588be-1e51-4761-ab4f-b012482225a1\",\"type\":\"Title\"},{\"attributes\":{},\"id\":\"f77bd976-c9b2-4eb4-938d-97352e5d491c\",\"type\":\"LinearScale\"},{\"attributes\":{},\"id\":\"b10998c3-ad3a-4ea7-83d7-70fb581133cd\",\"type\":\"BasicTickFormatter\"},{\"attributes\":{},\"id\":\"377c1335-0b4f-486f-8dfa-6ec113e504b2\",\"type\":\"LinearScale\"},{\"attributes\":{\"label\":{\"value\":\"asynchronous_256_32\"},\"renderers\":[{\"id\":\"9d6cf53e-7fa3-4733-9f00-96720f2c14d3\",\"type\":\"GlyphRenderer\"}]},\"id\":\"18e909db-eb57-4df4-b26d-a0b0996b4ce2\",\"type\":\"LegendItem\"},{\"attributes\":{\"callback\":null},\"id\":\"dec1bb70-4983-4c67-bed9-66388b223998\",\"type\":\"DataRange1d\"},{\"attributes\":{},\"id\":\"93ed1953-5e4a-47f7-896f-53dd5fabc19c\",\"type\":\"BasicTickFormatter\"},{\"attributes\":{\"plot\":{\"id\":\"7e0ffaea-c31b-487f-a2c7-38b6b88e8f60\",\"subtype\":\"Figure\",\"type\":\"Plot\"},\"ticker\":{\"id\":\"a10f002a-5573-4632-802c-31ee24c28b0e\",\"type\":\"BasicTicker\"}},\"id\":\"b2d788d7-7cc6-4b76-a3cb-d9632b7c58bb\",\"type\":\"Grid\"},{\"attributes\":{\"line_alpha\":0.1,\"line_color\":\"#1f77b4\",\"line_width\":3,\"x\":{\"field\":\"x\"},\"y\":{\"field\":\"y\"}},\"id\":\"38866464-dedf-4ba3-8c7f-1918a951be61\",\"type\":\"Line\"},{\"attributes\":{\"dimension\":1,\"plot\":{\"id\":\"7e0ffaea-c31b-487f-a2c7-38b6b88e8f60\",\"subtype\":\"Figure\",\"type\":\"Plot\"},\"ticker\":{\"id\":\"0bb83188-da21-4733-8f37-ca7f99d08b75\",\"type\":\"BasicTicker\"}},\"id\":\"d2fffa26-0fca-444f-aaed-f0cebbe5bf22\",\"type\":\"Grid\"},{\"attributes\":{\"callback\":null,\"column_names\":[\"x\",\"y\"],\"data\":{\"x\":{\"__ndarray__\":\"AQAAAAIAAAADAAAABAAAAAUAAAAGAAAABwAAAAgAAAAJAAAACgAAAAsAAAAMAAAADQAAAA4AAAAPAAAAEAAAABEAAAASAAAAEwAAABQAAAAVAAAAFgAAABcAAAAYAAAAGQAAABoAAAAbAAAAHAAAAB0AAAAeAAAAHwAAACAAAAAhAAAAIgAAACMAAAAkAAAAJQAAACYAAAAnAAAAKAAAACkAAAAqAAAAKwAAACwAAAAtAAAALgAAAC8AAAAwAAAAMQAAADIAAAAzAAAANAAAADUAAAA2AAAANwAAADgAAAA5AAAAOgAAADsAAAA8AAAAPQAAAD4AAAA/AAAAQAAAAEEAAABCAAAAQwAAAEQAAABFAAAARgAAAEcAAABIAAAASQAAAEoAAABLAAAATAAAAE0AAABOAAAATwAAAFAAAABRAAAAUgAAAFMAAABUAAAAVQAAAFYAAABXAAAAWAAAAFkAAABaAAAA\",\"dtype\":\"int32\",\"shape\":[90]},\"y\":[1.6184247732162476,1.0322651863098145,1.0283018350601196,0.798604428768158,0.7706725001335144,0.849633514881134,0.8386397957801819,0.7936446070671082,0.8185763955116272,0.8712261319160461,0.8921545743942261,0.8492374420166016,0.8768123984336853,0.8277041912078857,0.8642061352729797,0.8814764022827148,0.8975220918655396,0.8565598726272583,0.8538744449615479,0.8941627144813538,0.8614258766174316,0.8827705979347229,0.8010073304176331,0.9198877215385437,0.8473717570304871,0.8873079419136047,0.8036686182022095,0.8083892464637756,0.863347589969635,0.8454137444496155,0.8739922046661377,0.8600870966911316,0.9719780683517456,0.9795013070106506,1.031304121017456,1.0481666326522827,0.9829222559928894,1.0911273956298828,1.0065901279449463,1.110913634300232,1.0692793130874634,1.1816998720169067,1.1495535373687744,1.1425492763519287,1.1900190114974976,1.1978868246078491,1.1900160312652588,1.2802520990371704,1.2079704999923706,1.195613980293274,1.3051508665084839,1.2184866666793823,1.2264302968978882,1.1598384380340576,1.268304467201233,1.1905936002731323,1.314754605293274,1.3336620330810547,1.2419483661651611,1.2888871431350708,1.1987478733062744,1.192776083946228,1.14967679977417,1.1592319011688232,1.1537870168685913,1.2204866409301758,1.0838700532913208,1.1526374816894531,1.1925559043884277,1.2110984325408936,1.242932915687561,1.2141523361206055,1.188777208328247,1.1637321710586548,1.1070356369018555,1.2186986207962036,1.2653900384902954,1.1402082443237305,1.207722544670105,1.2143551111221313,1.162772297859192,1.2763639688491821,1.2064095735549927,1.1538722515106201,1.22457754611969,1.165831208229065,1.242750644683838,1.1968028545379639,1.2524080276489258,1.2021039724349976]}},\"id\":\"96264ba1-062a-4538-b894-628e63832d05\",\"type\":\"ColumnDataSource\"},{\"attributes\":{},\"id\":\"a10f002a-5573-4632-802c-31ee24c28b0e\",\"type\":\"BasicTicker\"},{\"attributes\":{\"line_color\":\"#1f77b4\",\"line_width\":3,\"x\":{\"field\":\"x\"},\"y\":{\"field\":\"y\"}},\"id\":\"bcd686b0-181e-4f70-b08e-c81f79ff92ab\",\"type\":\"Line\"},{\"attributes\":{\"axis_label\":\"t [Epochs]\",\"formatter\":{\"id\":\"b10998c3-ad3a-4ea7-83d7-70fb581133cd\",\"type\":\"BasicTickFormatter\"},\"plot\":{\"id\":\"7e0ffaea-c31b-487f-a2c7-38b6b88e8f60\",\"subtype\":\"Figure\",\"type\":\"Plot\"},\"ticker\":{\"id\":\"a10f002a-5573-4632-802c-31ee24c28b0e\",\"type\":\"BasicTicker\"}},\"id\":\"2356082b-0c93-4a26-9ef5-cc29084af646\",\"type\":\"LinearAxis\"},{\"attributes\":{\"data_source\":{\"id\":\"96264ba1-062a-4538-b894-628e63832d05\",\"type\":\"ColumnDataSource\"},\"glyph\":{\"id\":\"bcd686b0-181e-4f70-b08e-c81f79ff92ab\",\"type\":\"Line\"},\"hover_glyph\":null,\"muted_glyph\":null,\"nonselection_glyph\":{\"id\":\"38866464-dedf-4ba3-8c7f-1918a951be61\",\"type\":\"Line\"},\"selection_glyph\":null,\"view\":{\"id\":\"7ee2098d-8b28-4c31-8df7-bce3622bd465\",\"type\":\"CDSView\"}},\"id\":\"9d6cf53e-7fa3-4733-9f00-96720f2c14d3\",\"type\":\"GlyphRenderer\"},{\"attributes\":{},\"id\":\"0bb83188-da21-4733-8f37-ca7f99d08b75\",\"type\":\"BasicTicker\"},{\"attributes\":{\"source\":{\"id\":\"96264ba1-062a-4538-b894-628e63832d05\",\"type\":\"ColumnDataSource\"}},\"id\":\"7ee2098d-8b28-4c31-8df7-bce3622bd465\",\"type\":\"CDSView\"},{\"attributes\":{\"background_fill_color\":{\"value\":\"#fafafa\"},\"below\":[{\"id\":\"2356082b-0c93-4a26-9ef5-cc29084af646\",\"type\":\"LinearAxis\"}],\"left\":[{\"id\":\"50ea31cf-c872-48df-9465-8d93e7aa8ee7\",\"type\":\"LinearAxis\"}],\"min_border\":10,\"min_border_left\":50,\"renderers\":[{\"id\":\"2356082b-0c93-4a26-9ef5-cc29084af646\",\"type\":\"LinearAxis\"},{\"id\":\"b2d788d7-7cc6-4b76-a3cb-d9632b7c58bb\",\"type\":\"Grid\"},{\"id\":\"50ea31cf-c872-48df-9465-8d93e7aa8ee7\",\"type\":\"LinearAxis\"},{\"id\":\"d2fffa26-0fca-444f-aaed-f0cebbe5bf22\",\"type\":\"Grid\"},{\"id\":\"f5a7e43e-220d-41d7-b9ff-dbdd5a174085\",\"type\":\"BoxAnnotation\"},{\"id\":\"d45329a2-de7b-44d3-a827-79f4f23f6916\",\"type\":\"Legend\"},{\"id\":\"9d6cf53e-7fa3-4733-9f00-96720f2c14d3\",\"type\":\"GlyphRenderer\"}],\"title\":{\"id\":\"f41588be-1e51-4761-ab4f-b012482225a1\",\"type\":\"Title\"},\"toolbar\":{\"id\":\"22afa373-b69c-4e0d-87e4-f74cae174e82\",\"type\":\"Toolbar\"},\"x_range\":{\"id\":\"201fbba4-6f10-40ac-9280-e07e14c8c484\",\"type\":\"DataRange1d\"},\"x_scale\":{\"id\":\"377c1335-0b4f-486f-8dfa-6ec113e504b2\",\"type\":\"LinearScale\"},\"y_range\":{\"id\":\"dec1bb70-4983-4c67-bed9-66388b223998\",\"type\":\"DataRange1d\"},\"y_scale\":{\"id\":\"f77bd976-c9b2-4eb4-938d-97352e5d491c\",\"type\":\"LinearScale\"}},\"id\":\"7e0ffaea-c31b-487f-a2c7-38b6b88e8f60\",\"subtype\":\"Figure\",\"type\":\"Plot\"},{\"attributes\":{\"axis_label\":\"||g||\",\"formatter\":{\"id\":\"93ed1953-5e4a-47f7-896f-53dd5fabc19c\",\"type\":\"BasicTickFormatter\"},\"plot\":{\"id\":\"7e0ffaea-c31b-487f-a2c7-38b6b88e8f60\",\"subtype\":\"Figure\",\"type\":\"Plot\"},\"ticker\":{\"id\":\"0bb83188-da21-4733-8f37-ca7f99d08b75\",\"type\":\"BasicTicker\"}},\"id\":\"50ea31cf-c872-48df-9465-8d93e7aa8ee7\",\"type\":\"LinearAxis\"},{\"attributes\":{\"click_policy\":\"hide\",\"items\":[{\"id\":\"18e909db-eb57-4df4-b26d-a0b0996b4ce2\",\"type\":\"LegendItem\"}],\"location\":\"bottom_left\",\"plot\":{\"id\":\"7e0ffaea-c31b-487f-a2c7-38b6b88e8f60\",\"subtype\":\"Figure\",\"type\":\"Plot\"}},\"id\":\"d45329a2-de7b-44d3-a827-79f4f23f6916\",\"type\":\"Legend\"},{\"attributes\":{\"bottom_units\":\"screen\",\"fill_alpha\":{\"value\":0.5},\"fill_color\":{\"value\":\"lightgrey\"},\"left_units\":\"screen\",\"level\":\"overlay\",\"line_alpha\":{\"value\":1.0},\"line_color\":{\"value\":\"black\"},\"line_dash\":[4,4],\"line_width\":{\"value\":2},\"plot\":null,\"render_mode\":\"css\",\"right_units\":\"screen\",\"top_units\":\"screen\"},\"id\":\"f5a7e43e-220d-41d7-b9ff-dbdd5a174085\",\"type\":\"BoxAnnotation\"},{\"attributes\":{},\"id\":\"56737baf-3e28-4c63-8fca-4a2735a6072b\",\"type\":\"PanTool\"},{\"attributes\":{},\"id\":\"09911d0b-47dc-4087-aeee-7d784fb768b5\",\"type\":\"WheelZoomTool\"},{\"attributes\":{\"overlay\":{\"id\":\"f5a7e43e-220d-41d7-b9ff-dbdd5a174085\",\"type\":\"BoxAnnotation\"}},\"id\":\"de0b1d86-8dde-42bf-9fec-7627b5df63be\",\"type\":\"BoxZoomTool\"},{\"attributes\":{},\"id\":\"2487aea9-d57c-4604-b132-a2dadb5d4570\",\"type\":\"SaveTool\"},{\"attributes\":{},\"id\":\"7f66620a-233a-418e-a687-767a75f130bd\",\"type\":\"ResetTool\"},{\"attributes\":{},\"id\":\"6673daf7-1c47-4249-b485-a7a27b27e354\",\"type\":\"HelpTool\"}],\"root_ids\":[\"7e0ffaea-c31b-487f-a2c7-38b6b88e8f60\"]},\"title\":\"Bokeh Application\",\"version\":\"0.12.13\"}};\n",
       "  var render_items = [{\"docid\":\"f557ee7c-0a3b-4ae8-9451-4a3164209a6d\",\"elementid\":\"877cfcc4-e269-49e4-9907-6263c6297372\",\"modelid\":\"7e0ffaea-c31b-487f-a2c7-38b6b88e8f60\"}];\n",
       "  root.Bokeh.embed.embed_items_notebook(docs_json, render_items);\n",
       "\n",
       "  }\n",
       "  if (root.Bokeh !== undefined) {\n",
       "    embed_document(root);\n",
       "  } else {\n",
       "    var attempts = 0;\n",
       "    var timer = setInterval(function(root) {\n",
       "      if (root.Bokeh !== undefined) {\n",
       "        embed_document(root);\n",
       "        clearInterval(timer);\n",
       "      }\n",
       "      attempts++;\n",
       "      if (attempts > 100) {\n",
       "        console.log(\"Bokeh: ERROR: Unable to run BokehJS code because BokehJS library is missing\")\n",
       "        clearInterval(timer);\n",
       "      }\n",
       "    }, 10, root)\n",
       "  }\n",
       "})(window);"
      ],
      "application/vnd.bokehjs_exec.v0+json": ""
     },
     "metadata": {
      "application/vnd.bokehjs_exec.v0+json": {
       "id": "7e0ffaea-c31b-487f-a2c7-38b6b88e8f60"
      }
     },
     "output_type": "display_data"
    }
   ],
   "source": [
    "show(plots[3])"
   ]
  },
  {
   "cell_type": "code",
   "execution_count": 7,
   "metadata": {},
   "outputs": [
    {
     "data": {
      "text/html": [
       "\n",
       "<div class=\"bk-root\">\n",
       "    <div class=\"bk-plotdiv\" id=\"e0f16c62-fcf0-4ab7-ba86-12e1b32e3b6d\"></div>\n",
       "</div>"
      ]
     },
     "metadata": {},
     "output_type": "display_data"
    },
    {
     "data": {
      "application/javascript": [
       "(function(root) {\n",
       "  function embed_document(root) {\n",
       "    \n",
       "  var docs_json = {\"7a51947c-c74c-49ed-87b2-a711424f096f\":{\"roots\":{\"references\":[{\"attributes\":{\"axis_label\":\"Distance\",\"formatter\":{\"id\":\"8823de6d-4908-41ee-b2d5-6a3bbb24b1cd\",\"type\":\"BasicTickFormatter\"},\"plot\":{\"id\":\"46377f6d-4ae5-464c-a4d1-f06b109b6129\",\"subtype\":\"Figure\",\"type\":\"Plot\"},\"ticker\":{\"id\":\"0fd16f55-e84a-4e18-bd7b-dfe46d7b4db4\",\"type\":\"BasicTicker\"}},\"id\":\"ab918d74-06be-4883-830f-7e5e1a0b6369\",\"type\":\"LinearAxis\"},{\"attributes\":{},\"id\":\"f2cac6dc-53ec-4785-9d23-877b1bffcc48\",\"type\":\"BasicTickFormatter\"},{\"attributes\":{\"active_drag\":\"auto\",\"active_inspect\":\"auto\",\"active_scroll\":\"auto\",\"active_tap\":\"auto\",\"tools\":[{\"id\":\"9aa8b86d-87a4-4021-b78c-bc362fecf681\",\"type\":\"PanTool\"},{\"id\":\"12fc2f45-d9a9-43e0-9dbb-28440151bf4b\",\"type\":\"WheelZoomTool\"},{\"id\":\"8f5cd57e-4134-4e40-a8db-75d18a700c0b\",\"type\":\"BoxZoomTool\"},{\"id\":\"0db52941-3bd4-4dca-afce-620476d2bf23\",\"type\":\"SaveTool\"},{\"id\":\"67aa5759-2d52-432c-a384-e476cb4b095f\",\"type\":\"ResetTool\"},{\"id\":\"323fe18f-9f67-41ba-a8c5-baa98fbc11db\",\"type\":\"HelpTool\"}]},\"id\":\"52d7eed5-983f-497d-beb9-d357052e0688\",\"type\":\"Toolbar\"},{\"attributes\":{\"callback\":null,\"column_names\":[\"x0\",\"y0\",\"x1\",\"y1\"],\"data\":{\"x0\":{\"__ndarray__\":\"AQAAAAIAAAADAAAABAAAAAUAAAAGAAAABwAAAAgAAAAJAAAACgAAAAsAAAAMAAAADQAAAA4AAAAPAAAAEAAAABEAAAASAAAAEwAAABQAAAAVAAAAFgAAABcAAAAYAAAAGQAAABoAAAAbAAAAHAAAAB0AAAAeAAAAHwAAACAAAAAhAAAAIgAAACMAAAAkAAAAJQAAACYAAAAnAAAAKAAAACkAAAAqAAAAKwAAACwAAAAtAAAALgAAAC8AAAAwAAAAMQAAADIAAAAzAAAANAAAADUAAAA2AAAANwAAADgAAAA5AAAAOgAAADsAAAA8AAAAPQAAAD4AAAA/AAAAQAAAAEEAAABCAAAAQwAAAEQAAABFAAAARgAAAEcAAABIAAAASQAAAEoAAABLAAAATAAAAE0AAABOAAAATwAAAFAAAABRAAAAUgAAAFMAAABUAAAAVQAAAFYAAABXAAAAWAAAAFkAAABaAAAA\",\"dtype\":\"int32\",\"shape\":[90]},\"x1\":{\"__ndarray__\":\"AQAAAAIAAAADAAAABAAAAAUAAAAGAAAABwAAAAgAAAAJAAAACgAAAAsAAAAMAAAADQAAAA4AAAAPAAAAEAAAABEAAAASAAAAEwAAABQAAAAVAAAAFgAAABcAAAAYAAAAGQAAABoAAAAbAAAAHAAAAB0AAAAeAAAAHwAAACAAAAAhAAAAIgAAACMAAAAkAAAAJQAAACYAAAAnAAAAKAAAACkAAAAqAAAAKwAAACwAAAAtAAAALgAAAC8AAAAwAAAAMQAAADIAAAAzAAAANAAAADUAAAA2AAAANwAAADgAAAA5AAAAOgAAADsAAAA8AAAAPQAAAD4AAAA/AAAAQAAAAEEAAABCAAAAQwAAAEQAAABFAAAARgAAAEcAAABIAAAASQAAAEoAAABLAAAATAAAAE0AAABOAAAATwAAAFAAAABRAAAAUgAAAFMAAABUAAAAVQAAAFYAAABXAAAAWAAAAFkAAABaAAAA\",\"dtype\":\"int32\",\"shape\":[90]},\"y0\":[0.001054937019944191,0.0015633864095434546,0.0026170113123953342,0.0033219968900084496,0.004888446070253849,0.007019837386906147,0.007739638444036245,0.008138507604598999,0.00849994644522667,0.009482827968895435,0.009178207255899906,0.009431900456547737,0.009318882599473,0.009425058029592037,0.009830115363001823,0.009602791629731655,0.00959583930671215,0.009885787963867188,0.010016378946602345,0.010406398214399815,0.010065740905702114,0.011016219854354858,0.009880436584353447,0.01026928424835205,0.010099234990775585,0.010211117565631866,0.010229368694126606,0.01010435912758112,0.010501093231141567,0.010385314002633095,0.001087744371034205,0.0012150935363024473,0.001369303441606462,0.0014906460419297218,0.0016026643570512533,0.0017118577379733324,0.0018634190782904625,0.001968041528016329,0.002127037150785327,0.002236903179436922,0.002352324314415455,0.002482097828760743,0.0025949047412723303,0.002670622430741787,0.00271240109577775,0.0028710991609841585,0.0029170322231948376,0.0030918794218450785,0.0031351677607744932,0.0032034581527113914,0.003361610695719719,0.0033238334581255913,0.003476659767329693,0.003458487568423152,0.0035287481732666492,0.0035285225603729486,0.0036475006490945816,0.003607670310884714,0.003798810765147209,0.0036754657048732042,0.00036761481896974146,0.00037005561171099544,0.00037745313602499664,0.0003833055670838803,0.0003929611702915281,0.0004013970319647342,0.00039601229946129024,0.0003939224989153445,0.0004121163801755756,0.00041702977614477277,0.00041714299004524946,0.000417825038312003,0.0004259973356965929,0.0004407680535223335,0.00043131152051500976,0.00042946371831931174,0.0004458291223272681,0.000449311948614195,0.0004601809196174145,0.0004636896192096174,4.677850301959552e-05,4.592271216097288e-05,4.580043241730891e-05,4.755957706947811e-05,4.7065888793440536e-05,4.6531768020940945e-05,4.6261524403234944e-05,4.5388842409010977e-05,4.7172179620247334e-05,4.6004548494238406e-05],\"y1\":[0.002039012593741063,0.0030524236281053163,0.005401225724199321,0.006899710679135751,0.010199962867773138,0.014283320546383038,0.014427228146814741,0.014970960648497567,0.01551027552341111,0.01759848717483692,0.016284535988233984,0.01679460419109091,0.01602496867417358,0.016327551944414154,0.01727371575543657,0.015804471186129376,0.016412061668233946,0.017169357888633385,0.016334293060936034,0.01750087717664428,0.016496369062224403,0.020889770763460547,0.016035858920076862,0.017239647655515,0.01633628911804408,0.016453938878839836,0.016885613498743623,0.016367794276447967,0.017227115924470127,0.017595143435755745,0.0015002016007201746,0.0016834049165481701,0.0019029169670830015,0.0020823079576075543,0.0022396332351490855,0.002399391025392106,0.002584691577794729,0.002777546993456781,0.003018287337908987,0.0031286596131394617,0.003314852889161557,0.003504030544718262,0.0036695017406600527,0.0038082714745542035,0.003858363976178225,0.004065058812557254,0.004178559094725642,0.00434980198770063,0.004455829293874558,0.004619575418473687,0.00483619134320179,0.004782419360708445,0.0049210706711164676,0.004985835854313336,0.0050995775309274904,0.00506886892253533,0.005258889854303561,0.00515526673552813,0.005502599953615572,0.005268716980936006,0.0005042932943979395,0.0005118896615385893,0.0005227549027040368,0.000529394623299595,0.0005375492637540447,0.0005560384297496057,0.000548260396499245,0.0005491079145940603,0.0005695124382327776,0.0005762730834248941,0.0005747833110945066,0.000577027185499901,0.0005920578896621009,0.0006067514514143113,0.0006004823690091143,0.0005961483357168618,0.0006168349664221751,0.0006226059840628295,0.0006349766608764185,0.0006411627027773648,6.426636412015796e-05,6.375095438215794e-05,6.306181467152783e-05,6.466422246376169e-05,6.475741463418672e-05,6.416286612420663e-05,6.433117823689827e-05,6.25806595735412e-05,6.496094340491254e-05,6.403006466371153e-05]}},\"id\":\"7ecaf91f-3f58-4083-a212-1969c05a4001\",\"type\":\"ColumnDataSource\"},{\"attributes\":{},\"id\":\"8823de6d-4908-41ee-b2d5-6a3bbb24b1cd\",\"type\":\"BasicTickFormatter\"},{\"attributes\":{\"line_alpha\":{\"value\":0.1},\"line_color\":{\"value\":\"#1f77b4\"},\"x0\":{\"field\":\"x0\"},\"x1\":{\"field\":\"x1\"},\"y0\":{\"field\":\"y0\"},\"y1\":{\"field\":\"y1\"}},\"id\":\"b1ed2b04-ae04-476b-a4a0-b42836f7f775\",\"type\":\"Segment\"},{\"attributes\":{\"callback\":null,\"column_names\":[\"x0\",\"y0\",\"x1\",\"y1\"],\"data\":{\"x0\":{\"__ndarray__\":\"AQAAAAIAAAADAAAABAAAAAUAAAAGAAAABwAAAAgAAAAJAAAACgAAAAsAAAAMAAAADQAAAA4AAAAPAAAAEAAAABEAAAASAAAAEwAAABQAAAAVAAAAFgAAABcAAAAYAAAAGQAAABoAAAAbAAAAHAAAAB0AAAAeAAAAHwAAACAAAAAhAAAAIgAAACMAAAAkAAAAJQAAACYAAAAnAAAAKAAAACkAAAAqAAAAKwAAACwAAAAtAAAALgAAAC8AAAAwAAAAMQAAADIAAAAzAAAANAAAADUAAAA2AAAANwAAADgAAAA5AAAAOgAAADsAAAA8AAAAPQAAAD4AAAA/AAAAQAAAAEEAAABCAAAAQwAAAEQAAABFAAAARgAAAEcAAABIAAAASQAAAEoAAABLAAAATAAAAE0AAABOAAAATwAAAFAAAABRAAAAUgAAAFMAAABUAAAAVQAAAFYAAABXAAAAWAAAAFkAAABaAAAA\",\"dtype\":\"int32\",\"shape\":[90]},\"x1\":{\"__ndarray__\":\"AQAAAAIAAAADAAAABAAAAAUAAAAGAAAABwAAAAgAAAAJAAAACgAAAAsAAAAMAAAADQAAAA4AAAAPAAAAEAAAABEAAAASAAAAEwAAABQAAAAVAAAAFgAAABcAAAAYAAAAGQAAABoAAAAbAAAAHAAAAB0AAAAeAAAAHwAAACAAAAAhAAAAIgAAACMAAAAkAAAAJQAAACYAAAAnAAAAKAAAACkAAAAqAAAAKwAAACwAAAAtAAAALgAAAC8AAAAwAAAAMQAAADIAAAAzAAAANAAAADUAAAA2AAAANwAAADgAAAA5AAAAOgAAADsAAAA8AAAAPQAAAD4AAAA/AAAAQAAAAEEAAABCAAAAQwAAAEQAAABFAAAARgAAAEcAAABIAAAASQAAAEoAAABLAAAATAAAAE0AAABOAAAATwAAAFAAAABRAAAAUgAAAFMAAABUAAAAVQAAAFYAAABXAAAAWAAAAFkAAABaAAAA\",\"dtype\":\"int32\",\"shape\":[90]},\"y0\":[0.0034172567538917065,0.005217851139605045,0.009984266012907028,0.011698972433805466,0.01701892353594303,0.02461020089685917,0.02394285798072815,0.024492479860782623,0.025320500135421753,0.02971797250211239,0.026117824018001556,0.02699708566069603,0.025494281202554703,0.026343712583184242,0.02773701213300228,0.025291427969932556,0.0258510522544384,0.027230000123381615,0.02563900128006935,0.027789443731307983,0.02632865495979786,0.0333588682115078,0.025243990123271942,0.027276303619146347,0.025372231379151344,0.02598814107477665,0.026401488110423088,0.025462616235017776,0.027677908539772034,0.02760351076722145,0.0022019611205905676,0.0024450880009680986,0.0028246319852769375,0.003053118707612157,0.003350869519636035,0.0035950513556599617,0.0037904048804193735,0.00413934513926506,0.004345509689301252,0.004615858197212219,0.004843082744628191,0.005195331294089556,0.005457854364067316,0.005704833194613457,0.005735581275075674,0.005971098318696022,0.006176772527396679,0.006473098881542683,0.0067071691155433655,0.006929376162588596,0.007195547688752413,0.007129944395273924,0.007303167600184679,0.0073638600297272205,0.007604779675602913,0.007517947815358639,0.0079262126237154,0.0076697105541825294,0.008170734159648418,0.007919205352663994,0.0007336390553973615,0.0007404437637887895,0.0007610212778672576,0.0007636321824975312,0.0007930364226922393,0.0008121229475364089,0.0007975543849170208,0.0007980876252986491,0.0008272647974081337,0.0008497492526657879,0.0008385464316233993,0.0008510907646268606,0.0008748036925680935,0.0008824013057164848,0.0008810159633867443,0.0008765808306634426,0.0009173919097520411,0.0008956867968663573,0.0009393517393618822,0.0009469971992075443,9.31014510570094e-05,9.369148756377399e-05,9.484478505328298e-05,9.378978575114161e-05,9.549587412038818e-05,9.226841211784631e-05,9.58357413765043e-05,9.141064219875261e-05,9.394518565386534e-05,9.456466068513691e-05],\"y1\":[0.002039012593741063,0.0030524236281053163,0.005401225724199321,0.006899710679135751,0.010199962867773138,0.014283320546383038,0.014427228146814741,0.014970960648497567,0.01551027552341111,0.01759848717483692,0.016284535988233984,0.01679460419109091,0.01602496867417358,0.016327551944414154,0.01727371575543657,0.015804471186129376,0.016412061668233946,0.017169357888633385,0.016334293060936034,0.01750087717664428,0.016496369062224403,0.020889770763460547,0.016035858920076862,0.017239647655515,0.01633628911804408,0.016453938878839836,0.016885613498743623,0.016367794276447967,0.017227115924470127,0.017595143435755745,0.0015002016007201746,0.0016834049165481701,0.0019029169670830015,0.0020823079576075543,0.0022396332351490855,0.002399391025392106,0.002584691577794729,0.002777546993456781,0.003018287337908987,0.0031286596131394617,0.003314852889161557,0.003504030544718262,0.0036695017406600527,0.0038082714745542035,0.003858363976178225,0.004065058812557254,0.004178559094725642,0.00434980198770063,0.004455829293874558,0.004619575418473687,0.00483619134320179,0.004782419360708445,0.0049210706711164676,0.004985835854313336,0.0050995775309274904,0.00506886892253533,0.005258889854303561,0.00515526673552813,0.005502599953615572,0.005268716980936006,0.0005042932943979395,0.0005118896615385893,0.0005227549027040368,0.000529394623299595,0.0005375492637540447,0.0005560384297496057,0.000548260396499245,0.0005491079145940603,0.0005695124382327776,0.0005762730834248941,0.0005747833110945066,0.000577027185499901,0.0005920578896621009,0.0006067514514143113,0.0006004823690091143,0.0005961483357168618,0.0006168349664221751,0.0006226059840628295,0.0006349766608764185,0.0006411627027773648,6.426636412015796e-05,6.375095438215794e-05,6.306181467152783e-05,6.466422246376169e-05,6.475741463418672e-05,6.416286612420663e-05,6.433117823689827e-05,6.25806595735412e-05,6.496094340491254e-05,6.403006466371153e-05]}},\"id\":\"1d173059-192c-493f-90a7-d3cc326e3eb4\",\"type\":\"ColumnDataSource\"},{\"attributes\":{\"plot\":null,\"text\":\"Distance of Workers From Mean\"},\"id\":\"2a9b3700-78a5-400d-a41f-0c8f0325e3da\",\"type\":\"Title\"},{\"attributes\":{\"x0\":{\"field\":\"x0\"},\"x1\":{\"field\":\"x1\"},\"y0\":{\"field\":\"y0\"},\"y1\":{\"field\":\"y1\"}},\"id\":\"82d92f48-005f-4bc0-b175-3b238a9412e3\",\"type\":\"Segment\"},{\"attributes\":{\"data_source\":{\"id\":\"1d173059-192c-493f-90a7-d3cc326e3eb4\",\"type\":\"ColumnDataSource\"},\"glyph\":{\"id\":\"82d92f48-005f-4bc0-b175-3b238a9412e3\",\"type\":\"Segment\"},\"hover_glyph\":null,\"muted_glyph\":null,\"nonselection_glyph\":{\"id\":\"b1ed2b04-ae04-476b-a4a0-b42836f7f775\",\"type\":\"Segment\"},\"selection_glyph\":null,\"view\":{\"id\":\"3094ffdb-32ac-40c0-a69c-5a6ac0dfcf5c\",\"type\":\"CDSView\"}},\"id\":\"cf61a879-413b-4fa3-af08-eac9c83e7ae5\",\"type\":\"GlyphRenderer\"},{\"attributes\":{\"source\":{\"id\":\"1d173059-192c-493f-90a7-d3cc326e3eb4\",\"type\":\"ColumnDataSource\"}},\"id\":\"3094ffdb-32ac-40c0-a69c-5a6ac0dfcf5c\",\"type\":\"CDSView\"},{\"attributes\":{\"bottom\":{\"field\":\"bottom\"},\"fill_color\":{\"value\":\"#084594\"},\"top\":{\"field\":\"top\"},\"width\":{\"value\":0.25},\"x\":{\"field\":\"x\"}},\"id\":\"1ed45e16-b9f7-4305-a3f0-f26b8a7345ed\",\"type\":\"VBar\"},{\"attributes\":{\"x0\":{\"field\":\"x0\"},\"x1\":{\"field\":\"x1\"},\"y0\":{\"field\":\"y0\"},\"y1\":{\"field\":\"y1\"}},\"id\":\"c49a934e-4073-4b49-808f-5941e21ac8ba\",\"type\":\"Segment\"},{\"attributes\":{\"callback\":null,\"column_names\":[\"x\",\"top\",\"bottom\"],\"data\":{\"bottom\":[0.002783842921511637,0.004164982386029685,0.007496516886712043,0.009509739853376655,0.014092121974952182,0.019675918101664164,0.01951670421760312,0.02025069974638738,0.02077778354645326,0.0237541365280277,0.021710707396667413,0.02247799977748259,0.021166634200561994,0.02165784424714052,0.022904303110636258,0.020673243722431074,0.02159359896848056,0.022749806912768674,0.02127837194811858,0.023003376027096276,0.02162416696360044,0.028045411482496445,0.020877630936340652,0.0226041453367686,0.021221594988349905,0.02133276943808486,0.0219980339889413,0.021290027392970475,0.022540837567592845,0.023111118891056236,0.001836604977810484,0.002070376062099815,0.0023380994657077126,0.002562378918267193,0.002758541757209793,0.002963286532063545,0.0031742134316124996,0.0034405707020845845,0.0037361359467729463,0.0038499889645322643,0.004107557119652799,0.004329553945153103,0.004535277846058671,0.0047216018651524815,0.004788337057573917,0.005026614421647343,0.005195376706917368,0.0053859603133229565,0.005533080657692491,0.0057707780972269355,0.006041979996222852,0.0059601704183901184,0.006100576160541099,0.006213253060978459,0.006372161012528811,0.006317746533225834,0.006562888409047019,0.006444527100639433,0.006844270313497197,0.006571784126964678,0.0006156152314204644,0.0006263650455810337,0.0006423728170371923,0.0006484779000511003,0.0006557753334496394,0.0006839916426897138,0.0006733179075237464,0.0006780166274443595,0.0006996287833288882,0.0007082259069520194,0.0007046724917681045,0.000708561622274602,0.0007295505523271565,0.0007431851824342713,0.0007376511197485192,0.0007326341821013517,0.0007571049032130486,0.0007628081752168249,0.0007779578646930651,0.0007854555146673751,7.830746664805962e-05,7.826561167542961e-05,7.740410821418653e-05,7.864789577614127e-05,7.942310903213742e-05,7.858759842222743e-05,7.927854789600619e-05,7.66647529858768e-05,7.946638393625893e-05,7.883427059778593e-05],\"top\":[0.002039012593741063,0.0030524236281053163,0.005401225724199321,0.006899710679135751,0.010199962867773138,0.014283320546383038,0.014427228146814741,0.014970960648497567,0.01551027552341111,0.01759848717483692,0.016284535988233984,0.01679460419109091,0.01602496867417358,0.016327551944414154,0.01727371575543657,0.015804471186129376,0.016412061668233946,0.017169357888633385,0.016334293060936034,0.01750087717664428,0.016496369062224403,0.020889770763460547,0.016035858920076862,0.017239647655515,0.01633628911804408,0.016453938878839836,0.016885613498743623,0.016367794276447967,0.017227115924470127,0.017595143435755745,0.0015002016007201746,0.0016834049165481701,0.0019029169670830015,0.0020823079576075543,0.0022396332351490855,0.002399391025392106,0.002584691577794729,0.002777546993456781,0.003018287337908987,0.0031286596131394617,0.003314852889161557,0.003504030544718262,0.0036695017406600527,0.0038082714745542035,0.003858363976178225,0.004065058812557254,0.004178559094725642,0.00434980198770063,0.004455829293874558,0.004619575418473687,0.00483619134320179,0.004782419360708445,0.0049210706711164676,0.004985835854313336,0.0050995775309274904,0.00506886892253533,0.005258889854303561,0.00515526673552813,0.005502599953615572,0.005268716980936006,0.0005042932943979395,0.0005118896615385893,0.0005227549027040368,0.000529394623299595,0.0005375492637540447,0.0005560384297496057,0.000548260396499245,0.0005491079145940603,0.0005695124382327776,0.0005762730834248941,0.0005747833110945066,0.000577027185499901,0.0005920578896621009,0.0006067514514143113,0.0006004823690091143,0.0005961483357168618,0.0006168349664221751,0.0006226059840628295,0.0006349766608764185,0.0006411627027773648,6.426636412015796e-05,6.375095438215794e-05,6.306181467152783e-05,6.466422246376169e-05,6.475741463418672e-05,6.416286612420663e-05,6.433117823689827e-05,6.25806595735412e-05,6.496094340491254e-05,6.403006466371153e-05],\"x\":{\"__ndarray__\":\"AQAAAAIAAAADAAAABAAAAAUAAAAGAAAABwAAAAgAAAAJAAAACgAAAAsAAAAMAAAADQAAAA4AAAAPAAAAEAAAABEAAAASAAAAEwAAABQAAAAVAAAAFgAAABcAAAAYAAAAGQAAABoAAAAbAAAAHAAAAB0AAAAeAAAAHwAAACAAAAAhAAAAIgAAACMAAAAkAAAAJQAAACYAAAAnAAAAKAAAACkAAAAqAAAAKwAAACwAAAAtAAAALgAAAC8AAAAwAAAAMQAAADIAAAAzAAAANAAAADUAAAA2AAAANwAAADgAAAA5AAAAOgAAADsAAAA8AAAAPQAAAD4AAAA/AAAAQAAAAEEAAABCAAAAQwAAAEQAAABFAAAARgAAAEcAAABIAAAASQAAAEoAAABLAAAATAAAAE0AAABOAAAATwAAAFAAAABRAAAAUgAAAFMAAABUAAAAVQAAAFYAAABXAAAAWAAAAFkAAABaAAAA\",\"dtype\":\"int32\",\"shape\":[90]}}},\"id\":\"8ea36ab0-f554-4af7-b07e-67523ad6c2a8\",\"type\":\"ColumnDataSource\"},{\"attributes\":{\"data_source\":{\"id\":\"7ecaf91f-3f58-4083-a212-1969c05a4001\",\"type\":\"ColumnDataSource\"},\"glyph\":{\"id\":\"c49a934e-4073-4b49-808f-5941e21ac8ba\",\"type\":\"Segment\"},\"hover_glyph\":null,\"muted_glyph\":null,\"nonselection_glyph\":{\"id\":\"97b6d8cb-4be4-48ac-9ad5-546232862131\",\"type\":\"Segment\"},\"selection_glyph\":null,\"view\":{\"id\":\"22ebe374-f9cd-4be4-8e10-b9935afe75b7\",\"type\":\"CDSView\"}},\"id\":\"48f78d2a-c61d-440f-bf7c-b2ffbae81cbd\",\"type\":\"GlyphRenderer\"},{\"attributes\":{\"line_alpha\":{\"value\":0.1},\"line_color\":{\"value\":\"#1f77b4\"},\"x0\":{\"field\":\"x0\"},\"x1\":{\"field\":\"x1\"},\"y0\":{\"field\":\"y0\"},\"y1\":{\"field\":\"y1\"}},\"id\":\"97b6d8cb-4be4-48ac-9ad5-546232862131\",\"type\":\"Segment\"},{\"attributes\":{\"source\":{\"id\":\"7ecaf91f-3f58-4083-a212-1969c05a4001\",\"type\":\"ColumnDataSource\"}},\"id\":\"22ebe374-f9cd-4be4-8e10-b9935afe75b7\",\"type\":\"CDSView\"},{\"attributes\":{\"bottom\":{\"field\":\"bottom\"},\"fill_alpha\":{\"value\":0.1},\"fill_color\":{\"value\":\"#1f77b4\"},\"line_alpha\":{\"value\":0.1},\"line_color\":{\"value\":\"#1f77b4\"},\"top\":{\"field\":\"top\"},\"width\":{\"value\":0.25},\"x\":{\"field\":\"x\"}},\"id\":\"8377ea77-cb8f-49ac-a872-efb68e951a1c\",\"type\":\"VBar\"},{\"attributes\":{\"fill_color\":{\"value\":\"#1f77b4\"},\"height\":{\"units\":\"data\",\"value\":1e-05},\"width\":{\"units\":\"data\",\"value\":0.2},\"x\":{\"field\":\"x\"},\"y\":{\"field\":\"y\"}},\"id\":\"fb62c6c5-13c0-4142-90ec-7051251bfc59\",\"type\":\"Rect\"},{\"attributes\":{\"bottom\":{\"field\":\"bottom\"},\"fill_color\":{\"value\":\"#f03b20\"},\"top\":{\"field\":\"top\"},\"width\":{\"value\":0.25},\"x\":{\"field\":\"x\"}},\"id\":\"f3d91000-d5a0-4f15-8166-78e75b39ec76\",\"type\":\"VBar\"},{\"attributes\":{\"callback\":null,\"column_names\":[\"x\",\"top\",\"bottom\"],\"data\":{\"bottom\":[0.002039012593741063,0.0030524236281053163,0.005401225724199321,0.006899710679135751,0.010199962867773138,0.014283320546383038,0.014427228146814741,0.014970960648497567,0.01551027552341111,0.01759848717483692,0.016284535988233984,0.01679460419109091,0.01602496867417358,0.016327551944414154,0.01727371575543657,0.015804471186129376,0.016412061668233946,0.017169357888633385,0.016334293060936034,0.01750087717664428,0.016496369062224403,0.020889770763460547,0.016035858920076862,0.017239647655515,0.01633628911804408,0.016453938878839836,0.016885613498743623,0.016367794276447967,0.017227115924470127,0.017595143435755745,0.0015002016007201746,0.0016834049165481701,0.0019029169670830015,0.0020823079576075543,0.0022396332351490855,0.002399391025392106,0.002584691577794729,0.002777546993456781,0.003018287337908987,0.0031286596131394617,0.003314852889161557,0.003504030544718262,0.0036695017406600527,0.0038082714745542035,0.003858363976178225,0.004065058812557254,0.004178559094725642,0.00434980198770063,0.004455829293874558,0.004619575418473687,0.00483619134320179,0.004782419360708445,0.0049210706711164676,0.004985835854313336,0.0050995775309274904,0.00506886892253533,0.005258889854303561,0.00515526673552813,0.005502599953615572,0.005268716980936006,0.0005042932943979395,0.0005118896615385893,0.0005227549027040368,0.000529394623299595,0.0005375492637540447,0.0005560384297496057,0.000548260396499245,0.0005491079145940603,0.0005695124382327776,0.0005762730834248941,0.0005747833110945066,0.000577027185499901,0.0005920578896621009,0.0006067514514143113,0.0006004823690091143,0.0005961483357168618,0.0006168349664221751,0.0006226059840628295,0.0006349766608764185,0.0006411627027773648,6.426636412015796e-05,6.375095438215794e-05,6.306181467152783e-05,6.466422246376169e-05,6.475741463418672e-05,6.416286612420663e-05,6.433117823689827e-05,6.25806595735412e-05,6.496094340491254e-05,6.403006466371153e-05],\"top\":[0.0012941822659704892,0.0019398648701809474,0.003305934561686599,0.0042896815048948465,0.006307803760594094,0.00889072299110191,0.009337752076026364,0.009691221550607754,0.010242767500368963,0.011442837821646137,0.010858364579800554,0.01111120860469923,0.010883303147785163,0.010997259641687789,0.011643128400236881,0.010935698649827678,0.01123052436798733,0.011588908864498097,0.011390214173753488,0.011998378326192286,0.011368571160848367,0.013734130044424649,0.011194086903813072,0.011875149974261399,0.011450983247738251,0.01157510831959481,0.011773193008545946,0.011445561159925458,0.011913394281347408,0.012079167980455255,0.0011637982236298652,0.0012964337709965256,0.0014677344684582904,0.0016022369969479154,0.001720724713088378,0.0018354955187206664,0.001995169723976958,0.0021145232848289773,0.0023004387290450276,0.002407330261746659,0.0025221486586703146,0.0026785071442834204,0.0028037256352614346,0.002894941083955925,0.0029283908947825327,0.0031035032034671646,0.0031617414825339165,0.0033136436620783034,0.0033785779300566253,0.003468372739720438,0.003630402690180728,0.0036046683030267718,0.0037415651816918357,0.0037584186476482145,0.00382699404932617,0.003819991311844826,0.003954891299560104,0.0038660063704168274,0.004160929593733947,0.003965649834907333,0.0003929713573754145,0.0003974142774961449,0.0004031369883708813,0.00041031134654808955,0.00041932319405844996,0.00042808521680949763,0.0004232028854747436,0.0004201992017437611,0.0004393960931366671,0.0004443202598977689,0.0004448941304209088,0.0004454927487251999,0.0004545652269970454,0.0004703177203943513,0.00046331361826970944,0.00045966248933237183,0.0004765650296313015,0.00048240379290883414,0.0004919954570597718,0.0004968698908873544,5.02252615922563e-05,4.9236297088886275e-05,4.871952112886912e-05,5.068054915138211e-05,5.0091720236236007e-05,4.973813382618583e-05,4.938380857779035e-05,4.849656616120559e-05,5.045550287356616e-05,4.9225858729637126e-05],\"x\":{\"__ndarray__\":\"AQAAAAIAAAADAAAABAAAAAUAAAAGAAAABwAAAAgAAAAJAAAACgAAAAsAAAAMAAAADQAAAA4AAAAPAAAAEAAAABEAAAASAAAAEwAAABQAAAAVAAAAFgAAABcAAAAYAAAAGQAAABoAAAAbAAAAHAAAAB0AAAAeAAAAHwAAACAAAAAhAAAAIgAAACMAAAAkAAAAJQAAACYAAAAnAAAAKAAAACkAAAAqAAAAKwAAACwAAAAtAAAALgAAAC8AAAAwAAAAMQAAADIAAAAzAAAANAAAADUAAAA2AAAANwAAADgAAAA5AAAAOgAAADsAAAA8AAAAPQAAAD4AAAA/AAAAQAAAAEEAAABCAAAAQwAAAEQAAABFAAAARgAAAEcAAABIAAAASQAAAEoAAABLAAAATAAAAE0AAABOAAAATwAAAFAAAABRAAAAUgAAAFMAAABUAAAAVQAAAFYAAABXAAAAWAAAAFkAAABaAAAA\",\"dtype\":\"int32\",\"shape\":[90]}}},\"id\":\"e4f93c37-c26d-4b2d-8602-f3358ff26cad\",\"type\":\"ColumnDataSource\"},{\"attributes\":{\"data_source\":{\"id\":\"8ea36ab0-f554-4af7-b07e-67523ad6c2a8\",\"type\":\"ColumnDataSource\"},\"glyph\":{\"id\":\"1ed45e16-b9f7-4305-a3f0-f26b8a7345ed\",\"type\":\"VBar\"},\"hover_glyph\":null,\"muted_glyph\":null,\"nonselection_glyph\":{\"id\":\"8377ea77-cb8f-49ac-a872-efb68e951a1c\",\"type\":\"VBar\"},\"selection_glyph\":null,\"view\":{\"id\":\"4d3ab850-e5c8-4d08-b7a9-c4bce597937e\",\"type\":\"CDSView\"}},\"id\":\"daa1dec4-f6fa-45bb-9450-0c2a053feb15\",\"type\":\"GlyphRenderer\"},{\"attributes\":{\"callback\":null},\"id\":\"7b53a3c8-4332-45f4-9e40-60f13707c6da\",\"type\":\"DataRange1d\"},{\"attributes\":{\"source\":{\"id\":\"8ea36ab0-f554-4af7-b07e-67523ad6c2a8\",\"type\":\"ColumnDataSource\"}},\"id\":\"4d3ab850-e5c8-4d08-b7a9-c4bce597937e\",\"type\":\"CDSView\"},{\"attributes\":{\"source\":{\"id\":\"e4f93c37-c26d-4b2d-8602-f3358ff26cad\",\"type\":\"ColumnDataSource\"}},\"id\":\"bedc6d18-005a-4ef3-823f-9ffe693604a8\",\"type\":\"CDSView\"},{\"attributes\":{\"background_fill_color\":{\"value\":\"#fafafa\"},\"below\":[{\"id\":\"97e2b379-efff-4b9b-a65f-d22ccbcd581f\",\"type\":\"LinearAxis\"}],\"left\":[{\"id\":\"ab918d74-06be-4883-830f-7e5e1a0b6369\",\"type\":\"LinearAxis\"}],\"min_border\":10,\"min_border_left\":50,\"renderers\":[{\"id\":\"97e2b379-efff-4b9b-a65f-d22ccbcd581f\",\"type\":\"LinearAxis\"},{\"id\":\"c9aec589-89e2-4e8e-84cc-9c3f7b992985\",\"type\":\"Grid\"},{\"id\":\"ab918d74-06be-4883-830f-7e5e1a0b6369\",\"type\":\"LinearAxis\"},{\"id\":\"498efa29-42ae-43d8-8f27-c0245758064f\",\"type\":\"Grid\"},{\"id\":\"b6b42b35-e6cc-410c-9b2f-427bda76dc35\",\"type\":\"BoxAnnotation\"},{\"id\":\"cf61a879-413b-4fa3-af08-eac9c83e7ae5\",\"type\":\"GlyphRenderer\"},{\"id\":\"48f78d2a-c61d-440f-bf7c-b2ffbae81cbd\",\"type\":\"GlyphRenderer\"},{\"id\":\"daa1dec4-f6fa-45bb-9450-0c2a053feb15\",\"type\":\"GlyphRenderer\"},{\"id\":\"5aebc9df-7ef3-49ac-98b6-a1d6c1fa12ca\",\"type\":\"GlyphRenderer\"},{\"id\":\"69800e1e-c81e-49b6-a628-a9e6fd647f66\",\"type\":\"GlyphRenderer\"},{\"id\":\"2729f31e-501d-4a92-929e-fad7d25fd4da\",\"type\":\"GlyphRenderer\"}],\"title\":{\"id\":\"2a9b3700-78a5-400d-a41f-0c8f0325e3da\",\"type\":\"Title\"},\"toolbar\":{\"id\":\"52d7eed5-983f-497d-beb9-d357052e0688\",\"type\":\"Toolbar\"},\"x_range\":{\"id\":\"7b53a3c8-4332-45f4-9e40-60f13707c6da\",\"type\":\"DataRange1d\"},\"x_scale\":{\"id\":\"b57b9df7-ad73-455f-909b-e7874f8d6e5e\",\"type\":\"LinearScale\"},\"y_range\":{\"id\":\"970e63dc-fcb4-495e-a337-e6715c3bb601\",\"type\":\"DataRange1d\"},\"y_scale\":{\"id\":\"f23a36a0-2756-4535-b6aa-7478371a72db\",\"type\":\"LinearScale\"}},\"id\":\"46377f6d-4ae5-464c-a4d1-f06b109b6129\",\"subtype\":\"Figure\",\"type\":\"Plot\"},{\"attributes\":{\"fill_color\":{\"value\":\"#1f77b4\"},\"height\":{\"units\":\"data\",\"value\":1e-05},\"width\":{\"units\":\"data\",\"value\":0.2},\"x\":{\"field\":\"x\"},\"y\":{\"field\":\"y\"}},\"id\":\"dbcdfeb7-7413-4575-aa66-6ba9bdfeadf5\",\"type\":\"Rect\"},{\"attributes\":{\"callback\":null,\"column_names\":[\"x\",\"y\"],\"data\":{\"x\":{\"__ndarray__\":\"AQAAAAIAAAADAAAABAAAAAUAAAAGAAAABwAAAAgAAAAJAAAACgAAAAsAAAAMAAAADQAAAA4AAAAPAAAAEAAAABEAAAASAAAAEwAAABQAAAAVAAAAFgAAABcAAAAYAAAAGQAAABoAAAAbAAAAHAAAAB0AAAAeAAAAHwAAACAAAAAhAAAAIgAAACMAAAAkAAAAJQAAACYAAAAnAAAAKAAAACkAAAAqAAAAKwAAACwAAAAtAAAALgAAAC8AAAAwAAAAMQAAADIAAAAzAAAANAAAADUAAAA2AAAANwAAADgAAAA5AAAAOgAAADsAAAA8AAAAPQAAAD4AAAA/AAAAQAAAAEEAAABCAAAAQwAAAEQAAABFAAAARgAAAEcAAABIAAAASQAAAEoAAABLAAAATAAAAE0AAABOAAAATwAAAFAAAABRAAAAUgAAAFMAAABUAAAAVQAAAFYAAABXAAAAWAAAAFkAAABaAAAA\",\"dtype\":\"int32\",\"shape\":[90]},\"y\":[0.0034172567538917065,0.005217851139605045,0.009984266012907028,0.011698972433805466,0.01701892353594303,0.02461020089685917,0.02394285798072815,0.024492479860782623,0.025320500135421753,0.02971797250211239,0.026117824018001556,0.02699708566069603,0.025494281202554703,0.026343712583184242,0.02773701213300228,0.025291427969932556,0.0258510522544384,0.027230000123381615,0.02563900128006935,0.027789443731307983,0.02632865495979786,0.0333588682115078,0.025243990123271942,0.027276303619146347,0.025372231379151344,0.02598814107477665,0.026401488110423088,0.025462616235017776,0.027677908539772034,0.02760351076722145,0.0022019611205905676,0.0024450880009680986,0.0028246319852769375,0.003053118707612157,0.003350869519636035,0.0035950513556599617,0.0037904048804193735,0.00413934513926506,0.004345509689301252,0.004615858197212219,0.004843082744628191,0.005195331294089556,0.005457854364067316,0.005704833194613457,0.005735581275075674,0.005971098318696022,0.006176772527396679,0.006473098881542683,0.0067071691155433655,0.006929376162588596,0.007195547688752413,0.007129944395273924,0.007303167600184679,0.0073638600297272205,0.007604779675602913,0.007517947815358639,0.0079262126237154,0.0076697105541825294,0.008170734159648418,0.007919205352663994,0.0007336390553973615,0.0007404437637887895,0.0007610212778672576,0.0007636321824975312,0.0007930364226922393,0.0008121229475364089,0.0007975543849170208,0.0007980876252986491,0.0008272647974081337,0.0008497492526657879,0.0008385464316233993,0.0008510907646268606,0.0008748036925680935,0.0008824013057164848,0.0008810159633867443,0.0008765808306634426,0.0009173919097520411,0.0008956867968663573,0.0009393517393618822,0.0009469971992075443,9.31014510570094e-05,9.369148756377399e-05,9.484478505328298e-05,9.378978575114161e-05,9.549587412038818e-05,9.226841211784631e-05,9.58357413765043e-05,9.141064219875261e-05,9.394518565386534e-05,9.456466068513691e-05]}},\"id\":\"317200c0-3d12-454d-85cc-591b34ad3d56\",\"type\":\"ColumnDataSource\"},{\"attributes\":{\"bottom\":{\"field\":\"bottom\"},\"fill_alpha\":{\"value\":0.1},\"fill_color\":{\"value\":\"#1f77b4\"},\"line_alpha\":{\"value\":0.1},\"line_color\":{\"value\":\"#1f77b4\"},\"top\":{\"field\":\"top\"},\"width\":{\"value\":0.25},\"x\":{\"field\":\"x\"}},\"id\":\"5b75ee49-3d1e-4f44-9a6b-21891bbd205c\",\"type\":\"VBar\"},{\"attributes\":{\"data_source\":{\"id\":\"e4f93c37-c26d-4b2d-8602-f3358ff26cad\",\"type\":\"ColumnDataSource\"},\"glyph\":{\"id\":\"f3d91000-d5a0-4f15-8166-78e75b39ec76\",\"type\":\"VBar\"},\"hover_glyph\":null,\"muted_glyph\":null,\"nonselection_glyph\":{\"id\":\"5b75ee49-3d1e-4f44-9a6b-21891bbd205c\",\"type\":\"VBar\"},\"selection_glyph\":null,\"view\":{\"id\":\"bedc6d18-005a-4ef3-823f-9ffe693604a8\",\"type\":\"CDSView\"}},\"id\":\"5aebc9df-7ef3-49ac-98b6-a1d6c1fa12ca\",\"type\":\"GlyphRenderer\"},{\"attributes\":{},\"id\":\"0fd16f55-e84a-4e18-bd7b-dfe46d7b4db4\",\"type\":\"BasicTicker\"},{\"attributes\":{\"source\":{\"id\":\"317200c0-3d12-454d-85cc-591b34ad3d56\",\"type\":\"ColumnDataSource\"}},\"id\":\"24f49ea0-7133-43d7-9802-264c21f09d93\",\"type\":\"CDSView\"},{\"attributes\":{\"callback\":null,\"column_names\":[\"x\",\"y\"],\"data\":{\"x\":{\"__ndarray__\":\"AQAAAAIAAAADAAAABAAAAAUAAAAGAAAABwAAAAgAAAAJAAAACgAAAAsAAAAMAAAADQAAAA4AAAAPAAAAEAAAABEAAAASAAAAEwAAABQAAAAVAAAAFgAAABcAAAAYAAAAGQAAABoAAAAbAAAAHAAAAB0AAAAeAAAAHwAAACAAAAAhAAAAIgAAACMAAAAkAAAAJQAAACYAAAAnAAAAKAAAACkAAAAqAAAAKwAAACwAAAAtAAAALgAAAC8AAAAwAAAAMQAAADIAAAAzAAAANAAAADUAAAA2AAAANwAAADgAAAA5AAAAOgAAADsAAAA8AAAAPQAAAD4AAAA/AAAAQAAAAEEAAABCAAAAQwAAAEQAAABFAAAARgAAAEcAAABIAAAASQAAAEoAAABLAAAATAAAAE0AAABOAAAATwAAAFAAAABRAAAAUgAAAFMAAABUAAAAVQAAAFYAAABXAAAAWAAAAFkAAABaAAAA\",\"dtype\":\"int32\",\"shape\":[90]},\"y\":[0.001054937019944191,0.0015633864095434546,0.0026170113123953342,0.0033219968900084496,0.004888446070253849,0.007019837386906147,0.007739638444036245,0.008138507604598999,0.00849994644522667,0.009482827968895435,0.009178207255899906,0.009431900456547737,0.009318882599473,0.009425058029592037,0.009830115363001823,0.009602791629731655,0.00959583930671215,0.009885787963867188,0.010016378946602345,0.010406398214399815,0.010065740905702114,0.011016219854354858,0.009880436584353447,0.01026928424835205,0.010099234990775585,0.010211117565631866,0.010229368694126606,0.01010435912758112,0.010501093231141567,0.010385314002633095,0.001087744371034205,0.0012150935363024473,0.001369303441606462,0.0014906460419297218,0.0016026643570512533,0.0017118577379733324,0.0018634190782904625,0.001968041528016329,0.002127037150785327,0.002236903179436922,0.002352324314415455,0.002482097828760743,0.0025949047412723303,0.002670622430741787,0.00271240109577775,0.0028710991609841585,0.0029170322231948376,0.0030918794218450785,0.0031351677607744932,0.0032034581527113914,0.003361610695719719,0.0033238334581255913,0.003476659767329693,0.003458487568423152,0.0035287481732666492,0.0035285225603729486,0.0036475006490945816,0.003607670310884714,0.003798810765147209,0.0036754657048732042,0.00036761481896974146,0.00037005561171099544,0.00037745313602499664,0.0003833055670838803,0.0003929611702915281,0.0004013970319647342,0.00039601229946129024,0.0003939224989153445,0.0004121163801755756,0.00041702977614477277,0.00041714299004524946,0.000417825038312003,0.0004259973356965929,0.0004407680535223335,0.00043131152051500976,0.00042946371831931174,0.0004458291223272681,0.000449311948614195,0.0004601809196174145,0.0004636896192096174,4.677850301959552e-05,4.592271216097288e-05,4.580043241730891e-05,4.755957706947811e-05,4.7065888793440536e-05,4.6531768020940945e-05,4.6261524403234944e-05,4.5388842409010977e-05,4.7172179620247334e-05,4.6004548494238406e-05]}},\"id\":\"ace67b8f-f37e-402a-a88b-3c71c61597b1\",\"type\":\"ColumnDataSource\"},{\"attributes\":{\"fill_alpha\":{\"value\":0.1},\"fill_color\":{\"value\":\"#1f77b4\"},\"height\":{\"units\":\"data\",\"value\":1e-05},\"line_alpha\":{\"value\":0.1},\"line_color\":{\"value\":\"#1f77b4\"},\"width\":{\"units\":\"data\",\"value\":0.2},\"x\":{\"field\":\"x\"},\"y\":{\"field\":\"y\"}},\"id\":\"ae3a1228-3589-4c35-b1f5-c6088334b1fc\",\"type\":\"Rect\"},{\"attributes\":{\"data_source\":{\"id\":\"317200c0-3d12-454d-85cc-591b34ad3d56\",\"type\":\"ColumnDataSource\"},\"glyph\":{\"id\":\"dbcdfeb7-7413-4575-aa66-6ba9bdfeadf5\",\"type\":\"Rect\"},\"hover_glyph\":null,\"muted_glyph\":null,\"nonselection_glyph\":{\"id\":\"ae3a1228-3589-4c35-b1f5-c6088334b1fc\",\"type\":\"Rect\"},\"selection_glyph\":null,\"view\":{\"id\":\"24f49ea0-7133-43d7-9802-264c21f09d93\",\"type\":\"CDSView\"}},\"id\":\"69800e1e-c81e-49b6-a628-a9e6fd647f66\",\"type\":\"GlyphRenderer\"},{\"attributes\":{},\"id\":\"f23a36a0-2756-4535-b6aa-7478371a72db\",\"type\":\"LinearScale\"},{\"attributes\":{\"source\":{\"id\":\"ace67b8f-f37e-402a-a88b-3c71c61597b1\",\"type\":\"ColumnDataSource\"}},\"id\":\"cfe0ac29-e672-414c-8ddb-c5ca287239be\",\"type\":\"CDSView\"},{\"attributes\":{},\"id\":\"b57b9df7-ad73-455f-909b-e7874f8d6e5e\",\"type\":\"LinearScale\"},{\"attributes\":{\"callback\":null},\"id\":\"970e63dc-fcb4-495e-a337-e6715c3bb601\",\"type\":\"DataRange1d\"},{\"attributes\":{\"plot\":{\"id\":\"46377f6d-4ae5-464c-a4d1-f06b109b6129\",\"subtype\":\"Figure\",\"type\":\"Plot\"},\"ticker\":{\"id\":\"78c936e8-a848-4e65-b4f3-790932961842\",\"type\":\"BasicTicker\"}},\"id\":\"c9aec589-89e2-4e8e-84cc-9c3f7b992985\",\"type\":\"Grid\"},{\"attributes\":{\"fill_alpha\":{\"value\":0.1},\"fill_color\":{\"value\":\"#1f77b4\"},\"height\":{\"units\":\"data\",\"value\":1e-05},\"line_alpha\":{\"value\":0.1},\"line_color\":{\"value\":\"#1f77b4\"},\"width\":{\"units\":\"data\",\"value\":0.2},\"x\":{\"field\":\"x\"},\"y\":{\"field\":\"y\"}},\"id\":\"a07dadc6-b677-44bf-a7b3-6dc82c6defee\",\"type\":\"Rect\"},{\"attributes\":{\"data_source\":{\"id\":\"ace67b8f-f37e-402a-a88b-3c71c61597b1\",\"type\":\"ColumnDataSource\"},\"glyph\":{\"id\":\"fb62c6c5-13c0-4142-90ec-7051251bfc59\",\"type\":\"Rect\"},\"hover_glyph\":null,\"muted_glyph\":null,\"nonselection_glyph\":{\"id\":\"a07dadc6-b677-44bf-a7b3-6dc82c6defee\",\"type\":\"Rect\"},\"selection_glyph\":null,\"view\":{\"id\":\"cfe0ac29-e672-414c-8ddb-c5ca287239be\",\"type\":\"CDSView\"}},\"id\":\"2729f31e-501d-4a92-929e-fad7d25fd4da\",\"type\":\"GlyphRenderer\"},{\"attributes\":{},\"id\":\"78c936e8-a848-4e65-b4f3-790932961842\",\"type\":\"BasicTicker\"},{\"attributes\":{\"axis_label\":\"t [Epochs]\",\"formatter\":{\"id\":\"f2cac6dc-53ec-4785-9d23-877b1bffcc48\",\"type\":\"BasicTickFormatter\"},\"plot\":{\"id\":\"46377f6d-4ae5-464c-a4d1-f06b109b6129\",\"subtype\":\"Figure\",\"type\":\"Plot\"},\"ticker\":{\"id\":\"78c936e8-a848-4e65-b4f3-790932961842\",\"type\":\"BasicTicker\"}},\"id\":\"97e2b379-efff-4b9b-a65f-d22ccbcd581f\",\"type\":\"LinearAxis\"},{\"attributes\":{\"dimension\":1,\"plot\":{\"id\":\"46377f6d-4ae5-464c-a4d1-f06b109b6129\",\"subtype\":\"Figure\",\"type\":\"Plot\"},\"ticker\":{\"id\":\"0fd16f55-e84a-4e18-bd7b-dfe46d7b4db4\",\"type\":\"BasicTicker\"}},\"id\":\"498efa29-42ae-43d8-8f27-c0245758064f\",\"type\":\"Grid\"},{\"attributes\":{},\"id\":\"9aa8b86d-87a4-4021-b78c-bc362fecf681\",\"type\":\"PanTool\"},{\"attributes\":{\"bottom_units\":\"screen\",\"fill_alpha\":{\"value\":0.5},\"fill_color\":{\"value\":\"lightgrey\"},\"left_units\":\"screen\",\"level\":\"overlay\",\"line_alpha\":{\"value\":1.0},\"line_color\":{\"value\":\"black\"},\"line_dash\":[4,4],\"line_width\":{\"value\":2},\"plot\":null,\"render_mode\":\"css\",\"right_units\":\"screen\",\"top_units\":\"screen\"},\"id\":\"b6b42b35-e6cc-410c-9b2f-427bda76dc35\",\"type\":\"BoxAnnotation\"},{\"attributes\":{},\"id\":\"12fc2f45-d9a9-43e0-9dbb-28440151bf4b\",\"type\":\"WheelZoomTool\"},{\"attributes\":{\"overlay\":{\"id\":\"b6b42b35-e6cc-410c-9b2f-427bda76dc35\",\"type\":\"BoxAnnotation\"}},\"id\":\"8f5cd57e-4134-4e40-a8db-75d18a700c0b\",\"type\":\"BoxZoomTool\"},{\"attributes\":{},\"id\":\"0db52941-3bd4-4dca-afce-620476d2bf23\",\"type\":\"SaveTool\"},{\"attributes\":{},\"id\":\"67aa5759-2d52-432c-a384-e476cb4b095f\",\"type\":\"ResetTool\"},{\"attributes\":{},\"id\":\"323fe18f-9f67-41ba-a8c5-baa98fbc11db\",\"type\":\"HelpTool\"}],\"root_ids\":[\"46377f6d-4ae5-464c-a4d1-f06b109b6129\"]},\"title\":\"Bokeh Application\",\"version\":\"0.12.13\"}};\n",
       "  var render_items = [{\"docid\":\"7a51947c-c74c-49ed-87b2-a711424f096f\",\"elementid\":\"e0f16c62-fcf0-4ab7-ba86-12e1b32e3b6d\",\"modelid\":\"46377f6d-4ae5-464c-a4d1-f06b109b6129\"}];\n",
       "  root.Bokeh.embed.embed_items_notebook(docs_json, render_items);\n",
       "\n",
       "  }\n",
       "  if (root.Bokeh !== undefined) {\n",
       "    embed_document(root);\n",
       "  } else {\n",
       "    var attempts = 0;\n",
       "    var timer = setInterval(function(root) {\n",
       "      if (root.Bokeh !== undefined) {\n",
       "        embed_document(root);\n",
       "        clearInterval(timer);\n",
       "      }\n",
       "      attempts++;\n",
       "      if (attempts > 100) {\n",
       "        console.log(\"Bokeh: ERROR: Unable to run BokehJS code because BokehJS library is missing\")\n",
       "        clearInterval(timer);\n",
       "      }\n",
       "    }, 10, root)\n",
       "  }\n",
       "})(window);"
      ],
      "application/vnd.bokehjs_exec.v0+json": ""
     },
     "metadata": {
      "application/vnd.bokehjs_exec.v0+json": {
       "id": "46377f6d-4ae5-464c-a4d1-f06b109b6129"
      }
     },
     "output_type": "display_data"
    }
   ],
   "source": [
    "show(plots[4])"
   ]
  },
  {
   "cell_type": "code",
   "execution_count": 8,
   "metadata": {},
   "outputs": [
    {
     "data": {
      "text/html": [
       "\n",
       "<div class=\"bk-root\">\n",
       "    <div class=\"bk-plotdiv\" id=\"9f77c9b2-4e53-40ff-956c-ea80e5662913\"></div>\n",
       "</div>"
      ]
     },
     "metadata": {},
     "output_type": "display_data"
    },
    {
     "data": {
      "application/javascript": [
       "(function(root) {\n",
       "  function embed_document(root) {\n",
       "    \n",
       "  var docs_json = {\"294307e0-9757-4559-a109-f6f80d85ba7f\":{\"roots\":{\"references\":[{\"attributes\":{\"plot\":{\"id\":\"809c0b3f-91b1-43ea-aab7-cfac08370ed9\",\"subtype\":\"Figure\",\"type\":\"Plot\"},\"ticker\":{\"id\":\"407bf1e3-19fc-4966-a774-bd1d2fb544d9\",\"type\":\"BasicTicker\"}},\"id\":\"34aee043-9597-4013-913e-4db829d9d878\",\"type\":\"Grid\"},{\"attributes\":{},\"id\":\"c5148ac5-6554-4f1d-8cb3-f126e60434fa\",\"type\":\"LinearScale\"},{\"attributes\":{\"bottom\":{\"field\":\"bottom\"},\"fill_color\":{\"value\":\"#f03b20\"},\"top\":{\"field\":\"top\"},\"width\":{\"value\":0.25},\"x\":{\"field\":\"x\"}},\"id\":\"0be499c7-6ac7-49fa-80ed-6e00508b003f\",\"type\":\"VBar\"},{\"attributes\":{\"bottom\":{\"field\":\"bottom\"},\"fill_alpha\":{\"value\":0.1},\"fill_color\":{\"value\":\"#1f77b4\"},\"line_alpha\":{\"value\":0.1},\"line_color\":{\"value\":\"#1f77b4\"},\"top\":{\"field\":\"top\"},\"width\":{\"value\":0.25},\"x\":{\"field\":\"x\"}},\"id\":\"72497d53-2c4f-4637-b226-996cf77afcee\",\"type\":\"VBar\"},{\"attributes\":{\"axis_label\":\"Distance\",\"formatter\":{\"id\":\"4be0366e-e91d-4951-a168-c89d85fb06f4\",\"type\":\"BasicTickFormatter\"},\"plot\":{\"id\":\"809c0b3f-91b1-43ea-aab7-cfac08370ed9\",\"subtype\":\"Figure\",\"type\":\"Plot\"},\"ticker\":{\"id\":\"8544baa7-0b04-4f52-af67-13e3fc98880e\",\"type\":\"BasicTicker\"}},\"id\":\"911927c4-16ad-42f9-84e3-b88a72e43d99\",\"type\":\"LinearAxis\"},{\"attributes\":{\"data_source\":{\"id\":\"f85f75b4-8e2b-4ca0-aeea-9c30ce855d9e\",\"type\":\"ColumnDataSource\"},\"glyph\":{\"id\":\"0be499c7-6ac7-49fa-80ed-6e00508b003f\",\"type\":\"VBar\"},\"hover_glyph\":null,\"muted_glyph\":null,\"nonselection_glyph\":{\"id\":\"72497d53-2c4f-4637-b226-996cf77afcee\",\"type\":\"VBar\"},\"selection_glyph\":null,\"view\":{\"id\":\"a7b9f400-648a-493e-ae74-e5e4d149ba72\",\"type\":\"CDSView\"}},\"id\":\"a9ad0f88-00fc-4029-a14f-f145d2fb54b4\",\"type\":\"GlyphRenderer\"},{\"attributes\":{},\"id\":\"407bf1e3-19fc-4966-a774-bd1d2fb544d9\",\"type\":\"BasicTicker\"},{\"attributes\":{\"source\":{\"id\":\"f85f75b4-8e2b-4ca0-aeea-9c30ce855d9e\",\"type\":\"ColumnDataSource\"}},\"id\":\"a7b9f400-648a-493e-ae74-e5e4d149ba72\",\"type\":\"CDSView\"},{\"attributes\":{},\"id\":\"8544baa7-0b04-4f52-af67-13e3fc98880e\",\"type\":\"BasicTicker\"},{\"attributes\":{\"fill_color\":{\"value\":\"#1f77b4\"},\"height\":{\"units\":\"data\",\"value\":1e-05},\"width\":{\"units\":\"data\",\"value\":0.2},\"x\":{\"field\":\"x\"},\"y\":{\"field\":\"y\"}},\"id\":\"210ee8b6-c5bd-4cf0-8d44-adb5e470cc91\",\"type\":\"Rect\"},{\"attributes\":{\"dimension\":1,\"plot\":{\"id\":\"809c0b3f-91b1-43ea-aab7-cfac08370ed9\",\"subtype\":\"Figure\",\"type\":\"Plot\"},\"ticker\":{\"id\":\"8544baa7-0b04-4f52-af67-13e3fc98880e\",\"type\":\"BasicTicker\"}},\"id\":\"caef17de-fd8e-4b79-a836-d686244e24fd\",\"type\":\"Grid\"},{\"attributes\":{\"callback\":null,\"column_names\":[\"x\",\"y\"],\"data\":{\"x\":{\"__ndarray__\":\"AQAAAAIAAAADAAAABAAAAAUAAAAGAAAABwAAAAgAAAAJAAAACgAAAAsAAAAMAAAADQAAAA4AAAAPAAAAEAAAABEAAAASAAAAEwAAABQAAAAVAAAAFgAAABcAAAAYAAAAGQAAABoAAAAbAAAAHAAAAB0AAAAeAAAAHwAAACAAAAAhAAAAIgAAACMAAAAkAAAAJQAAACYAAAAnAAAAKAAAACkAAAAqAAAAKwAAACwAAAAtAAAALgAAAC8AAAAwAAAAMQAAADIAAAAzAAAANAAAADUAAAA2AAAANwAAADgAAAA5AAAAOgAAADsAAAA8AAAAPQAAAD4AAAA/AAAAQAAAAEEAAABCAAAAQwAAAEQAAABFAAAARgAAAEcAAABIAAAASQAAAEoAAABLAAAATAAAAE0AAABOAAAATwAAAFAAAABRAAAAUgAAAFMAAABUAAAAVQAAAFYAAABXAAAAWAAAAFkAAABaAAAA\",\"dtype\":\"int32\",\"shape\":[90]},\"y\":[1.6265257596969604,2.244356393814087,3.6447410583496094,3.957102060317993,5.074996471405029,6.4188385009765625,6.018074989318848,6.166186809539795,6.323492527008057,7.400642395019531,6.84837007522583,7.221133232116699,6.826259613037109,7.10279655456543,7.604983806610107,6.83810567855835,7.267400741577148,7.718818187713623,7.143061637878418,7.793312072753906,7.3583173751831055,9.81316089630127,7.167347431182861,7.764565467834473,7.259998798370361,7.326976776123047,7.616543292999268,7.4728217124938965,7.826213359832764,8.05437183380127,0.5853375196456909,0.6486612558364868,0.7183440923690796,0.7685198783874512,0.8112685084342957,0.8574206829071045,0.897453248500824,0.9606080651283264,1.016864538192749,1.0398896932601929,1.0863943099975586,1.1352736949920654,1.1723674535751343,1.2047362327575684,1.2137483358383179,1.2491886615753174,1.2767618894577026,1.326615571975708,1.346612572669983,1.3989415168762207,1.4675590991973877,1.4226078987121582,1.4436872005462646,1.469227910041809,1.5091139078140259,1.4923217296600342,1.5421313047409058,1.5089240074157715,1.585904836654663,1.5308085680007935,0.14009025692939758,0.14251849055290222,0.14615298807621002,0.14650972187519073,0.14796482026576996,0.1547967493534088,0.15200594067573547,0.1523858904838562,0.15749743580818176,0.15947981178760529,0.1576918065547943,0.15896764397621155,0.1635349988937378,0.16527090966701508,0.1642402857542038,0.16371680796146393,0.16890168190002441,0.16865895688533783,0.1720912903547287,0.17440053820610046,0.017253417521715164,0.01727384887635708,0.017182663083076477,0.01732792891561985,0.017592955380678177,0.01728275790810585,0.017516128718852997,0.016917675733566284,0.017471231520175934,0.017440631985664368]}},\"id\":\"c5e11284-63fd-4c14-9cc2-94866224ecb3\",\"type\":\"ColumnDataSource\"},{\"attributes\":{\"fill_color\":{\"value\":\"#1f77b4\"},\"height\":{\"units\":\"data\",\"value\":1e-05},\"width\":{\"units\":\"data\",\"value\":0.2},\"x\":{\"field\":\"x\"},\"y\":{\"field\":\"y\"}},\"id\":\"08c936e7-7b54-4d72-a57c-678e8dddde83\",\"type\":\"Rect\"},{\"attributes\":{\"source\":{\"id\":\"c5e11284-63fd-4c14-9cc2-94866224ecb3\",\"type\":\"ColumnDataSource\"}},\"id\":\"cb75d73c-3d60-4012-baa3-7eecca631915\",\"type\":\"CDSView\"},{\"attributes\":{\"bottom_units\":\"screen\",\"fill_alpha\":{\"value\":0.5},\"fill_color\":{\"value\":\"lightgrey\"},\"left_units\":\"screen\",\"level\":\"overlay\",\"line_alpha\":{\"value\":1.0},\"line_color\":{\"value\":\"black\"},\"line_dash\":[4,4],\"line_width\":{\"value\":2},\"plot\":null,\"render_mode\":\"css\",\"right_units\":\"screen\",\"top_units\":\"screen\"},\"id\":\"27c26c00-75e0-415a-ab82-786aa29d911d\",\"type\":\"BoxAnnotation\"},{\"attributes\":{\"callback\":null,\"column_names\":[\"x\",\"y\"],\"data\":{\"x\":{\"__ndarray__\":\"AQAAAAIAAAADAAAABAAAAAUAAAAGAAAABwAAAAgAAAAJAAAACgAAAAsAAAAMAAAADQAAAA4AAAAPAAAAEAAAABEAAAASAAAAEwAAABQAAAAVAAAAFgAAABcAAAAYAAAAGQAAABoAAAAbAAAAHAAAAB0AAAAeAAAAHwAAACAAAAAhAAAAIgAAACMAAAAkAAAAJQAAACYAAAAnAAAAKAAAACkAAAAqAAAAKwAAACwAAAAtAAAALgAAAC8AAAAwAAAAMQAAADIAAAAzAAAANAAAADUAAAA2AAAANwAAADgAAAA5AAAAOgAAADsAAAA8AAAAPQAAAD4AAAA/AAAAQAAAAEEAAABCAAAAQwAAAEQAAABFAAAARgAAAEcAAABIAAAASQAAAEoAAABLAAAATAAAAE0AAABOAAAATwAAAFAAAABRAAAAUgAAAFMAAABUAAAAVQAAAFYAAABXAAAAWAAAAFkAAABaAAAA\",\"dtype\":\"int32\",\"shape\":[90]},\"y\":[0.0,0.0,0.0,0.0,0.0,0.0,0.0,0.0,0.0,0.0,0.0,0.0,0.0,0.0,0.0,0.0,0.0,0.0,0.0,0.0,0.0,0.0,0.0,0.0,0.0,0.0,0.0,0.0,0.0,0.0,0.0,0.0,0.0,0.0,0.0,0.0,0.0,0.0,0.0,0.0,0.0,0.0,0.0,0.0,0.0,0.0,0.0,0.0,0.0,0.0,0.0,0.0,0.0,0.0,0.0,0.0,0.0,0.0,0.0,0.0,0.0,0.0,0.0,0.0,0.0,0.0,0.0,0.0,0.0,0.0,0.0,0.0,0.0,0.0,0.0,0.0,0.0,0.0,0.0,0.0,0.0,0.0,0.0,0.0,0.0,0.0,0.0,0.0,0.0,0.0]}},\"id\":\"ceb2e8bb-b9e3-45ab-ac73-e5c0c9ab8126\",\"type\":\"ColumnDataSource\"},{\"attributes\":{},\"id\":\"03aa6e55-53bd-4dfd-8cb3-62eac27f07da\",\"type\":\"PanTool\"},{\"attributes\":{\"fill_alpha\":{\"value\":0.1},\"fill_color\":{\"value\":\"#1f77b4\"},\"height\":{\"units\":\"data\",\"value\":1e-05},\"line_alpha\":{\"value\":0.1},\"line_color\":{\"value\":\"#1f77b4\"},\"width\":{\"units\":\"data\",\"value\":0.2},\"x\":{\"field\":\"x\"},\"y\":{\"field\":\"y\"}},\"id\":\"c2632e21-e7c9-43e1-a73d-1b7f22b1c3eb\",\"type\":\"Rect\"},{\"attributes\":{\"data_source\":{\"id\":\"c5e11284-63fd-4c14-9cc2-94866224ecb3\",\"type\":\"ColumnDataSource\"},\"glyph\":{\"id\":\"08c936e7-7b54-4d72-a57c-678e8dddde83\",\"type\":\"Rect\"},\"hover_glyph\":null,\"muted_glyph\":null,\"nonselection_glyph\":{\"id\":\"c2632e21-e7c9-43e1-a73d-1b7f22b1c3eb\",\"type\":\"Rect\"},\"selection_glyph\":null,\"view\":{\"id\":\"cb75d73c-3d60-4012-baa3-7eecca631915\",\"type\":\"CDSView\"}},\"id\":\"b9289db1-e8fb-4c45-818d-3fa780e25766\",\"type\":\"GlyphRenderer\"},{\"attributes\":{},\"id\":\"104e41ba-1176-4779-bb3b-eb0977167f62\",\"type\":\"WheelZoomTool\"},{\"attributes\":{\"source\":{\"id\":\"ceb2e8bb-b9e3-45ab-ac73-e5c0c9ab8126\",\"type\":\"ColumnDataSource\"}},\"id\":\"c75fb8ce-fc25-4549-894e-fb29377a50e4\",\"type\":\"CDSView\"},{\"attributes\":{\"overlay\":{\"id\":\"27c26c00-75e0-415a-ab82-786aa29d911d\",\"type\":\"BoxAnnotation\"}},\"id\":\"83c22527-b6a3-4ef8-8c4b-a52bd9c397be\",\"type\":\"BoxZoomTool\"},{\"attributes\":{},\"id\":\"bf9b64b4-b7aa-4ddc-919c-2cda8b4633af\",\"type\":\"SaveTool\"},{\"attributes\":{},\"id\":\"ce00e14f-8008-4d5e-a4cc-599432684643\",\"type\":\"ResetTool\"},{\"attributes\":{\"fill_alpha\":{\"value\":0.1},\"fill_color\":{\"value\":\"#1f77b4\"},\"height\":{\"units\":\"data\",\"value\":1e-05},\"line_alpha\":{\"value\":0.1},\"line_color\":{\"value\":\"#1f77b4\"},\"width\":{\"units\":\"data\",\"value\":0.2},\"x\":{\"field\":\"x\"},\"y\":{\"field\":\"y\"}},\"id\":\"2feaf1f2-b63a-4f23-8b78-b61bd72ccd9e\",\"type\":\"Rect\"},{\"attributes\":{\"data_source\":{\"id\":\"ceb2e8bb-b9e3-45ab-ac73-e5c0c9ab8126\",\"type\":\"ColumnDataSource\"},\"glyph\":{\"id\":\"210ee8b6-c5bd-4cf0-8d44-adb5e470cc91\",\"type\":\"Rect\"},\"hover_glyph\":null,\"muted_glyph\":null,\"nonselection_glyph\":{\"id\":\"2feaf1f2-b63a-4f23-8b78-b61bd72ccd9e\",\"type\":\"Rect\"},\"selection_glyph\":null,\"view\":{\"id\":\"c75fb8ce-fc25-4549-894e-fb29377a50e4\",\"type\":\"CDSView\"}},\"id\":\"51cc6656-830e-46b6-ae33-e706b847ea57\",\"type\":\"GlyphRenderer\"},{\"attributes\":{},\"id\":\"2e0cbb99-ec86-45e4-bf10-8a987cdb7ac0\",\"type\":\"HelpTool\"},{\"attributes\":{},\"id\":\"7ce606f9-05b8-4c9e-a05c-8d53cfff4763\",\"type\":\"BasicTickFormatter\"},{\"attributes\":{\"axis_label\":\"t [Epochs]\",\"formatter\":{\"id\":\"7ce606f9-05b8-4c9e-a05c-8d53cfff4763\",\"type\":\"BasicTickFormatter\"},\"plot\":{\"id\":\"809c0b3f-91b1-43ea-aab7-cfac08370ed9\",\"subtype\":\"Figure\",\"type\":\"Plot\"},\"ticker\":{\"id\":\"407bf1e3-19fc-4966-a774-bd1d2fb544d9\",\"type\":\"BasicTicker\"}},\"id\":\"96777715-a684-459f-9f35-5fd57ffdabef\",\"type\":\"LinearAxis\"},{\"attributes\":{\"active_drag\":\"auto\",\"active_inspect\":\"auto\",\"active_scroll\":\"auto\",\"active_tap\":\"auto\",\"tools\":[{\"id\":\"03aa6e55-53bd-4dfd-8cb3-62eac27f07da\",\"type\":\"PanTool\"},{\"id\":\"104e41ba-1176-4779-bb3b-eb0977167f62\",\"type\":\"WheelZoomTool\"},{\"id\":\"83c22527-b6a3-4ef8-8c4b-a52bd9c397be\",\"type\":\"BoxZoomTool\"},{\"id\":\"bf9b64b4-b7aa-4ddc-919c-2cda8b4633af\",\"type\":\"SaveTool\"},{\"id\":\"ce00e14f-8008-4d5e-a4cc-599432684643\",\"type\":\"ResetTool\"},{\"id\":\"2e0cbb99-ec86-45e4-bf10-8a987cdb7ac0\",\"type\":\"HelpTool\"}]},\"id\":\"1ee8aa17-a8bf-44f3-8141-53db8a5bb5c1\",\"type\":\"Toolbar\"},{\"attributes\":{},\"id\":\"08cf57a2-cd33-44df-ba7f-7c132689464b\",\"type\":\"LinearScale\"},{\"attributes\":{\"callback\":null,\"column_names\":[\"x0\",\"y0\",\"x1\",\"y1\"],\"data\":{\"x0\":{\"__ndarray__\":\"AQAAAAIAAAADAAAABAAAAAUAAAAGAAAABwAAAAgAAAAJAAAACgAAAAsAAAAMAAAADQAAAA4AAAAPAAAAEAAAABEAAAASAAAAEwAAABQAAAAVAAAAFgAAABcAAAAYAAAAGQAAABoAAAAbAAAAHAAAAB0AAAAeAAAAHwAAACAAAAAhAAAAIgAAACMAAAAkAAAAJQAAACYAAAAnAAAAKAAAACkAAAAqAAAAKwAAACwAAAAtAAAALgAAAC8AAAAwAAAAMQAAADIAAAAzAAAANAAAADUAAAA2AAAANwAAADgAAAA5AAAAOgAAADsAAAA8AAAAPQAAAD4AAAA/AAAAQAAAAEEAAABCAAAAQwAAAEQAAABFAAAARgAAAEcAAABIAAAASQAAAEoAAABLAAAATAAAAE0AAABOAAAATwAAAFAAAABRAAAAUgAAAFMAAABUAAAAVQAAAFYAAABXAAAAWAAAAFkAAABaAAAA\",\"dtype\":\"int32\",\"shape\":[90]},\"x1\":{\"__ndarray__\":\"AQAAAAIAAAADAAAABAAAAAUAAAAGAAAABwAAAAgAAAAJAAAACgAAAAsAAAAMAAAADQAAAA4AAAAPAAAAEAAAABEAAAASAAAAEwAAABQAAAAVAAAAFgAAABcAAAAYAAAAGQAAABoAAAAbAAAAHAAAAB0AAAAeAAAAHwAAACAAAAAhAAAAIgAAACMAAAAkAAAAJQAAACYAAAAnAAAAKAAAACkAAAAqAAAAKwAAACwAAAAtAAAALgAAAC8AAAAwAAAAMQAAADIAAAAzAAAANAAAADUAAAA2AAAANwAAADgAAAA5AAAAOgAAADsAAAA8AAAAPQAAAD4AAAA/AAAAQAAAAEEAAABCAAAAQwAAAEQAAABFAAAARgAAAEcAAABIAAAASQAAAEoAAABLAAAATAAAAE0AAABOAAAATwAAAFAAAABRAAAAUgAAAFMAAABUAAAAVQAAAFYAAABXAAAAWAAAAFkAAABaAAAA\",\"dtype\":\"int32\",\"shape\":[90]},\"y0\":[0.0,0.0,0.0,0.0,0.0,0.0,0.0,0.0,0.0,0.0,0.0,0.0,0.0,0.0,0.0,0.0,0.0,0.0,0.0,0.0,0.0,0.0,0.0,0.0,0.0,0.0,0.0,0.0,0.0,0.0,0.0,0.0,0.0,0.0,0.0,0.0,0.0,0.0,0.0,0.0,0.0,0.0,0.0,0.0,0.0,0.0,0.0,0.0,0.0,0.0,0.0,0.0,0.0,0.0,0.0,0.0,0.0,0.0,0.0,0.0,0.0,0.0,0.0,0.0,0.0,0.0,0.0,0.0,0.0,0.0,0.0,0.0,0.0,0.0,0.0,0.0,0.0,0.0,0.0,0.0,0.0,0.0,0.0,0.0,0.0,0.0,0.0,0.0,0.0,0.0],\"y1\":[0.9163365308195353,1.2448405995965004,2.235992149449885,2.2048727748915553,2.878638843074441,3.7369940262287855,3.472965244203806,3.5936212558299303,3.7661626003682613,4.179267069324851,4.027288429439068,4.228796057403088,4.077953472733498,4.2599898763000965,4.5250537507236,4.199690792709589,4.338959012180567,4.583015166223049,4.360146760940552,4.7155666053295135,4.504511874169111,5.674817271530628,4.2910388596355915,4.709086574614048,4.437389966100454,4.5505138747394085,4.560819789767265,4.5439266338944435,4.842737928032875,4.837207853794098,0.39471290120854974,0.4293113686144352,0.48348527774214745,0.5128098097629845,0.5490347645245492,0.5776982111856341,0.598382405936718,0.6407613568007946,0.6622036346234381,0.6904900278896093,0.7135710609145463,0.7519528949633241,0.7785892123356462,0.8009551670402288,0.7982016019523144,0.8232231000438333,0.8394249016419053,0.8725082892924547,0.8929149368777871,0.9148572077974677,0.9449392845854163,0.9302269499748945,0.9496747720986605,0.951260706409812,0.9789463318884373,0.963910804130137,1.0099875908344984,0.9801432034000754,1.0361130703240633,1.0043618520721793,0.0940783959813416,0.09490397607441992,0.09733510331716388,0.09757616522256285,0.10076576087158173,0.10330047050956637,0.10117948148399591,0.10123240621760488,0.10481681395322084,0.1071359880734235,0.10582049598451704,0.10704903502482921,0.10975846345536411,0.11075565894134343,0.11022157070692629,0.10958614409901202,0.11428265389986336,0.11188487987965345,0.11654362990520895,0.11753987288102508,0.011599217017646879,0.011650589862256311,0.01172561566636432,0.01166638069844339,0.011849420014186762,0.01150053201126866,0.011879573838086799,0.011374989233445376,0.011686872778227553,0.0117233815981308]}},\"id\":\"28848b19-e1e9-4719-943c-4c33b4196c7e\",\"type\":\"ColumnDataSource\"},{\"attributes\":{\"x0\":{\"field\":\"x0\"},\"x1\":{\"field\":\"x1\"},\"y0\":{\"field\":\"y0\"},\"y1\":{\"field\":\"y1\"}},\"id\":\"865f8cef-3d6e-4daa-971e-9b825b7a9191\",\"type\":\"Segment\"},{\"attributes\":{\"callback\":null,\"column_names\":[\"x0\",\"y0\",\"x1\",\"y1\"],\"data\":{\"x0\":{\"__ndarray__\":\"AQAAAAIAAAADAAAABAAAAAUAAAAGAAAABwAAAAgAAAAJAAAACgAAAAsAAAAMAAAADQAAAA4AAAAPAAAAEAAAABEAAAASAAAAEwAAABQAAAAVAAAAFgAAABcAAAAYAAAAGQAAABoAAAAbAAAAHAAAAB0AAAAeAAAAHwAAACAAAAAhAAAAIgAAACMAAAAkAAAAJQAAACYAAAAnAAAAKAAAACkAAAAqAAAAKwAAACwAAAAtAAAALgAAAC8AAAAwAAAAMQAAADIAAAAzAAAANAAAADUAAAA2AAAANwAAADgAAAA5AAAAOgAAADsAAAA8AAAAPQAAAD4AAAA/AAAAQAAAAEEAAABCAAAAQwAAAEQAAABFAAAARgAAAEcAAABIAAAASQAAAEoAAABLAAAATAAAAE0AAABOAAAATwAAAFAAAABRAAAAUgAAAFMAAABUAAAAVQAAAFYAAABXAAAAWAAAAFkAAABaAAAA\",\"dtype\":\"int32\",\"shape\":[90]},\"x1\":{\"__ndarray__\":\"AQAAAAIAAAADAAAABAAAAAUAAAAGAAAABwAAAAgAAAAJAAAACgAAAAsAAAAMAAAADQAAAA4AAAAPAAAAEAAAABEAAAASAAAAEwAAABQAAAAVAAAAFgAAABcAAAAYAAAAGQAAABoAAAAbAAAAHAAAAB0AAAAeAAAAHwAAACAAAAAhAAAAIgAAACMAAAAkAAAAJQAAACYAAAAnAAAAKAAAACkAAAAqAAAAKwAAACwAAAAtAAAALgAAAC8AAAAwAAAAMQAAADIAAAAzAAAANAAAADUAAAA2AAAANwAAADgAAAA5AAAAOgAAADsAAAA8AAAAPQAAAD4AAAA/AAAAQAAAAEEAAABCAAAAQwAAAEQAAABFAAAARgAAAEcAAABIAAAASQAAAEoAAABLAAAATAAAAE0AAABOAAAATwAAAFAAAABRAAAAUgAAAFMAAABUAAAAVQAAAFYAAABXAAAAWAAAAFkAAABaAAAA\",\"dtype\":\"int32\",\"shape\":[90]},\"y0\":[1.6265257596969604,2.244356393814087,3.6447410583496094,3.957102060317993,5.074996471405029,6.4188385009765625,6.018074989318848,6.166186809539795,6.323492527008057,7.400642395019531,6.84837007522583,7.221133232116699,6.826259613037109,7.10279655456543,7.604983806610107,6.83810567855835,7.267400741577148,7.718818187713623,7.143061637878418,7.793312072753906,7.3583173751831055,9.81316089630127,7.167347431182861,7.764565467834473,7.259998798370361,7.326976776123047,7.616543292999268,7.4728217124938965,7.826213359832764,8.05437183380127,0.5853375196456909,0.6486612558364868,0.7183440923690796,0.7685198783874512,0.8112685084342957,0.8574206829071045,0.897453248500824,0.9606080651283264,1.016864538192749,1.0398896932601929,1.0863943099975586,1.1352736949920654,1.1723674535751343,1.2047362327575684,1.2137483358383179,1.2491886615753174,1.2767618894577026,1.326615571975708,1.346612572669983,1.3989415168762207,1.4675590991973877,1.4226078987121582,1.4436872005462646,1.469227910041809,1.5091139078140259,1.4923217296600342,1.5421313047409058,1.5089240074157715,1.585904836654663,1.5308085680007935,0.14009025692939758,0.14251849055290222,0.14615298807621002,0.14650972187519073,0.14796482026576996,0.1547967493534088,0.15200594067573547,0.1523858904838562,0.15749743580818176,0.15947981178760529,0.1576918065547943,0.15896764397621155,0.1635349988937378,0.16527090966701508,0.1642402857542038,0.16371680796146393,0.16890168190002441,0.16865895688533783,0.1720912903547287,0.17440053820610046,0.017253417521715164,0.01727384887635708,0.017182663083076477,0.01732792891561985,0.017592955380678177,0.01728275790810585,0.017516128718852997,0.016917675733566284,0.017471231520175934,0.017440631985664368],\"y1\":[0.9163365308195353,1.2448405995965004,2.235992149449885,2.2048727748915553,2.878638843074441,3.7369940262287855,3.472965244203806,3.5936212558299303,3.7661626003682613,4.179267069324851,4.027288429439068,4.228796057403088,4.077953472733498,4.2599898763000965,4.5250537507236,4.199690792709589,4.338959012180567,4.583015166223049,4.360146760940552,4.7155666053295135,4.504511874169111,5.674817271530628,4.2910388596355915,4.709086574614048,4.437389966100454,4.5505138747394085,4.560819789767265,4.5439266338944435,4.842737928032875,4.837207853794098,0.39471290120854974,0.4293113686144352,0.48348527774214745,0.5128098097629845,0.5490347645245492,0.5776982111856341,0.598382405936718,0.6407613568007946,0.6622036346234381,0.6904900278896093,0.7135710609145463,0.7519528949633241,0.7785892123356462,0.8009551670402288,0.7982016019523144,0.8232231000438333,0.8394249016419053,0.8725082892924547,0.8929149368777871,0.9148572077974677,0.9449392845854163,0.9302269499748945,0.9496747720986605,0.951260706409812,0.9789463318884373,0.963910804130137,1.0099875908344984,0.9801432034000754,1.0361130703240633,1.0043618520721793,0.0940783959813416,0.09490397607441992,0.09733510331716388,0.09757616522256285,0.10076576087158173,0.10330047050956637,0.10117948148399591,0.10123240621760488,0.10481681395322084,0.1071359880734235,0.10582049598451704,0.10704903502482921,0.10975846345536411,0.11075565894134343,0.11022157070692629,0.10958614409901202,0.11428265389986336,0.11188487987965345,0.11654362990520895,0.11753987288102508,0.011599217017646879,0.011650589862256311,0.01172561566636432,0.01166638069844339,0.011849420014186762,0.01150053201126866,0.011879573838086799,0.011374989233445376,0.011686872778227553,0.0117233815981308]}},\"id\":\"8b4ff5dc-4456-445b-8fe2-de72a311f38a\",\"type\":\"ColumnDataSource\"},{\"attributes\":{\"callback\":null},\"id\":\"972313cf-b263-4379-989c-9459b177f20c\",\"type\":\"DataRange1d\"},{\"attributes\":{\"source\":{\"id\":\"8b4ff5dc-4456-445b-8fe2-de72a311f38a\",\"type\":\"ColumnDataSource\"}},\"id\":\"8a67c788-8793-4c42-ad54-e6aa3c6f20c8\",\"type\":\"CDSView\"},{\"attributes\":{\"callback\":null,\"column_names\":[\"x\",\"top\",\"bottom\"],\"data\":{\"bottom\":[0.9163365308195353,1.2448405995965004,2.235992149449885,2.2048727748915553,2.878638843074441,3.7369940262287855,3.472965244203806,3.5936212558299303,3.7661626003682613,4.179267069324851,4.027288429439068,4.228796057403088,4.077953472733498,4.2599898763000965,4.5250537507236,4.199690792709589,4.338959012180567,4.583015166223049,4.360146760940552,4.7155666053295135,4.504511874169111,5.674817271530628,4.2910388596355915,4.709086574614048,4.437389966100454,4.5505138747394085,4.560819789767265,4.5439266338944435,4.842737928032875,4.837207853794098,0.39471290120854974,0.4293113686144352,0.48348527774214745,0.5128098097629845,0.5490347645245492,0.5776982111856341,0.598382405936718,0.6407613568007946,0.6622036346234381,0.6904900278896093,0.7135710609145463,0.7519528949633241,0.7785892123356462,0.8009551670402288,0.7982016019523144,0.8232231000438333,0.8394249016419053,0.8725082892924547,0.8929149368777871,0.9148572077974677,0.9449392845854163,0.9302269499748945,0.9496747720986605,0.951260706409812,0.9789463318884373,0.963910804130137,1.0099875908344984,0.9801432034000754,1.0361130703240633,1.0043618520721793,0.0940783959813416,0.09490397607441992,0.09733510331716388,0.09757616522256285,0.10076576087158173,0.10330047050956637,0.10117948148399591,0.10123240621760488,0.10481681395322084,0.1071359880734235,0.10582049598451704,0.10704903502482921,0.10975846345536411,0.11075565894134343,0.11022157070692629,0.10958614409901202,0.11428265389986336,0.11188487987965345,0.11654362990520895,0.11753987288102508,0.011599217017646879,0.011650589862256311,0.01172561566636432,0.01166638069844339,0.011849420014186762,0.01150053201126866,0.011879573838086799,0.011374989233445376,0.011686872778227553,0.0117233815981308],\"top\":[0.4716595390703451,0.6261898379642861,1.206055482572434,1.1048675135397723,1.464695785553221,1.9488131522561396,1.8495235701917982,1.9193410659515413,2.04332101028953,2.1884477261231643,2.1955212423898853,2.280940841913696,2.256955169193253,2.3676321650003613,2.493721858628276,2.4134557372076104,2.4092858106514483,2.5230261205690523,2.4947186001129205,2.6596355262008187,2.597355428499975,2.9586137058760817,2.417317207341055,2.669496912782214,2.5608784762165673,2.6505922936062003,2.5531330967967665,2.600643871259306,2.7978028340655587,2.6863203311929813,0.25248012080981563,0.2708248562544253,0.3100079893028193,0.32579930705342486,0.3527198469631453,0.3724894810222934,0.3765659449666514,0.40982443358757475,0.404822951526817,0.43657817630779006,0.44446298865176204,0.47355760693555293,0.49170295274291986,0.5038077193040844,0.5039911576044172,0.5154731712088347,0.5192381223031985,0.5497761960238037,0.561264662053682,0.5686274851990349,0.5842422947371209,0.5764286600805776,0.5916350224397998,0.5811750809758709,0.60843007473332,0.5932158238206039,0.6274415415174495,0.612251651638382,0.6293048362148328,0.626456004789292,0.059816587021060144,0.060048373181922014,0.06196501705551202,0.061473062420848566,0.0646617499513831,0.06585117194049081,0.06379843248679468,0.06404035883023629,0.0665491409191478,0.06854086010048846,0.06743428856424749,0.06879414763526631,0.07030762525780002,0.07000207755817515,0.06998745833470987,0.07009199544985006,0.07374609635298997,0.06992841018805049,0.0742579804422347,0.07541477906928562,0.0073705237393117415,0.007489648037939129,0.007605609034887918,0.007393747434971971,0.0076006155174438055,0.007249622126017915,0.007702762382199762,0.007308316107936863,0.007387555392412707,0.007523199670582602],\"x\":{\"__ndarray__\":\"AQAAAAIAAAADAAAABAAAAAUAAAAGAAAABwAAAAgAAAAJAAAACgAAAAsAAAAMAAAADQAAAA4AAAAPAAAAEAAAABEAAAASAAAAEwAAABQAAAAVAAAAFgAAABcAAAAYAAAAGQAAABoAAAAbAAAAHAAAAB0AAAAeAAAAHwAAACAAAAAhAAAAIgAAACMAAAAkAAAAJQAAACYAAAAnAAAAKAAAACkAAAAqAAAAKwAAACwAAAAtAAAALgAAAC8AAAAwAAAAMQAAADIAAAAzAAAANAAAADUAAAA2AAAANwAAADgAAAA5AAAAOgAAADsAAAA8AAAAPQAAAD4AAAA/AAAAQAAAAEEAAABCAAAAQwAAAEQAAABFAAAARgAAAEcAAABIAAAASQAAAEoAAABLAAAATAAAAE0AAABOAAAATwAAAFAAAABRAAAAUgAAAFMAAABUAAAAVQAAAFYAAABXAAAAWAAAAFkAAABaAAAA\",\"dtype\":\"int32\",\"shape\":[90]}}},\"id\":\"f85f75b4-8e2b-4ca0-aeea-9c30ce855d9e\",\"type\":\"ColumnDataSource\"},{\"attributes\":{},\"id\":\"4be0366e-e91d-4951-a168-c89d85fb06f4\",\"type\":\"BasicTickFormatter\"},{\"attributes\":{\"plot\":null,\"text\":\"Distance of Workers From Master\"},\"id\":\"2ceeb8e5-8fd9-4fda-8192-d641768618bb\",\"type\":\"Title\"},{\"attributes\":{\"line_alpha\":{\"value\":0.1},\"line_color\":{\"value\":\"#1f77b4\"},\"x0\":{\"field\":\"x0\"},\"x1\":{\"field\":\"x1\"},\"y0\":{\"field\":\"y0\"},\"y1\":{\"field\":\"y1\"}},\"id\":\"14e0130f-8a73-455b-bf99-962ba6c19bc1\",\"type\":\"Segment\"},{\"attributes\":{\"data_source\":{\"id\":\"8b4ff5dc-4456-445b-8fe2-de72a311f38a\",\"type\":\"ColumnDataSource\"},\"glyph\":{\"id\":\"865f8cef-3d6e-4daa-971e-9b825b7a9191\",\"type\":\"Segment\"},\"hover_glyph\":null,\"muted_glyph\":null,\"nonselection_glyph\":{\"id\":\"14e0130f-8a73-455b-bf99-962ba6c19bc1\",\"type\":\"Segment\"},\"selection_glyph\":null,\"view\":{\"id\":\"8a67c788-8793-4c42-ad54-e6aa3c6f20c8\",\"type\":\"CDSView\"}},\"id\":\"c4f20f2c-636c-4ef6-993b-ce6538b66e44\",\"type\":\"GlyphRenderer\"},{\"attributes\":{\"background_fill_color\":{\"value\":\"#fafafa\"},\"below\":[{\"id\":\"96777715-a684-459f-9f35-5fd57ffdabef\",\"type\":\"LinearAxis\"}],\"left\":[{\"id\":\"911927c4-16ad-42f9-84e3-b88a72e43d99\",\"type\":\"LinearAxis\"}],\"min_border\":10,\"min_border_left\":50,\"renderers\":[{\"id\":\"96777715-a684-459f-9f35-5fd57ffdabef\",\"type\":\"LinearAxis\"},{\"id\":\"34aee043-9597-4013-913e-4db829d9d878\",\"type\":\"Grid\"},{\"id\":\"911927c4-16ad-42f9-84e3-b88a72e43d99\",\"type\":\"LinearAxis\"},{\"id\":\"caef17de-fd8e-4b79-a836-d686244e24fd\",\"type\":\"Grid\"},{\"id\":\"27c26c00-75e0-415a-ab82-786aa29d911d\",\"type\":\"BoxAnnotation\"},{\"id\":\"c4f20f2c-636c-4ef6-993b-ce6538b66e44\",\"type\":\"GlyphRenderer\"},{\"id\":\"4429616a-b502-40f4-9d9c-c72de80a7e46\",\"type\":\"GlyphRenderer\"},{\"id\":\"e186ab12-da89-47b6-9a8d-2fe43acc7f82\",\"type\":\"GlyphRenderer\"},{\"id\":\"a9ad0f88-00fc-4029-a14f-f145d2fb54b4\",\"type\":\"GlyphRenderer\"},{\"id\":\"b9289db1-e8fb-4c45-818d-3fa780e25766\",\"type\":\"GlyphRenderer\"},{\"id\":\"51cc6656-830e-46b6-ae33-e706b847ea57\",\"type\":\"GlyphRenderer\"}],\"title\":{\"id\":\"2ceeb8e5-8fd9-4fda-8192-d641768618bb\",\"type\":\"Title\"},\"toolbar\":{\"id\":\"1ee8aa17-a8bf-44f3-8141-53db8a5bb5c1\",\"type\":\"Toolbar\"},\"x_range\":{\"id\":\"972313cf-b263-4379-989c-9459b177f20c\",\"type\":\"DataRange1d\"},\"x_scale\":{\"id\":\"c5148ac5-6554-4f1d-8cb3-f126e60434fa\",\"type\":\"LinearScale\"},\"y_range\":{\"id\":\"ff263cb2-377c-4285-badd-a41ee97d6474\",\"type\":\"DataRange1d\"},\"y_scale\":{\"id\":\"08cf57a2-cd33-44df-ba7f-7c132689464b\",\"type\":\"LinearScale\"}},\"id\":\"809c0b3f-91b1-43ea-aab7-cfac08370ed9\",\"subtype\":\"Figure\",\"type\":\"Plot\"},{\"attributes\":{\"bottom\":{\"field\":\"bottom\"},\"fill_color\":{\"value\":\"#084594\"},\"top\":{\"field\":\"top\"},\"width\":{\"value\":0.25},\"x\":{\"field\":\"x\"}},\"id\":\"4ad5dbeb-6a4d-4f7a-ba23-9f3002454867\",\"type\":\"VBar\"},{\"attributes\":{\"callback\":null},\"id\":\"ff263cb2-377c-4285-badd-a41ee97d6474\",\"type\":\"DataRange1d\"},{\"attributes\":{\"x0\":{\"field\":\"x0\"},\"x1\":{\"field\":\"x1\"},\"y0\":{\"field\":\"y0\"},\"y1\":{\"field\":\"y1\"}},\"id\":\"84bc8fe0-6a39-41ad-af03-b35ffa770e87\",\"type\":\"Segment\"},{\"attributes\":{\"callback\":null,\"column_names\":[\"x\",\"top\",\"bottom\"],\"data\":{\"bottom\":[1.3610135225687254,1.8634913612287147,3.265928816327336,3.3048780362433385,4.2925819005956605,5.525174900201431,5.096406918215814,5.267901445708319,5.489004190446993,6.170086412526538,5.85905561648825,6.17665127289248,5.8989517762737425,6.152347587599832,6.556385642818925,5.985925848211568,6.268632213709685,6.643004211877046,6.2255749217681835,6.771497684458208,6.411668319838247,8.391020837185174,6.164760511930128,6.748676236445882,6.313901455984341,6.450435455872617,6.568506482737764,6.487209396529581,6.887673022000191,6.988095376395215,0.5369456816072838,0.5877978809744451,0.6569625661814755,0.6998203124725442,0.7453496820859532,0.7829069413489749,0.8201988669067846,0.8716982800140145,0.9195843177200592,0.9444018794714286,0.9826791331773305,1.0303481829910952,1.0654754719283726,1.0981026147763733,1.0924120463002116,1.1309730288788318,1.159611680980612,1.1952403825611058,1.2245652117018921,1.2610869303959005,1.3056362744337118,1.2840252398692114,1.307714521757521,1.321346331843753,1.3494625890435545,1.33460578443967,1.3925336401515473,1.3480347551617688,1.4429213044332938,1.3822676993550667,0.12834020494162307,0.1297595789669178,0.13270518957881575,0.13367926802427713,0.13686977179178036,0.14074976907864192,0.13856053048119715,0.13842445360497346,0.14308448698729387,0.14573111604635855,0.14420670340478658,0.1453039224143921,0.1492093016529282,0.15150924032451168,0.1504556830791427,0.14908029274817397,0.15481921144673677,0.15384134957125642,0.1588292793681832,0.15966496669276453,0.015827910295982017,0.015811531686573493,0.01584562229784072,0.01593901396191481,0.01609822451092972,0.015751441896519405,0.016056385293973838,0.01544166235895389,0.0159861901640424,0.015923563525679],\"top\":[0.9163365308195353,1.2448405995965004,2.235992149449885,2.2048727748915553,2.878638843074441,3.7369940262287855,3.472965244203806,3.5936212558299303,3.7661626003682613,4.179267069324851,4.027288429439068,4.228796057403088,4.077953472733498,4.2599898763000965,4.5250537507236,4.199690792709589,4.338959012180567,4.583015166223049,4.360146760940552,4.7155666053295135,4.504511874169111,5.674817271530628,4.2910388596355915,4.709086574614048,4.437389966100454,4.5505138747394085,4.560819789767265,4.5439266338944435,4.842737928032875,4.837207853794098,0.39471290120854974,0.4293113686144352,0.48348527774214745,0.5128098097629845,0.5490347645245492,0.5776982111856341,0.598382405936718,0.6407613568007946,0.6622036346234381,0.6904900278896093,0.7135710609145463,0.7519528949633241,0.7785892123356462,0.8009551670402288,0.7982016019523144,0.8232231000438333,0.8394249016419053,0.8725082892924547,0.8929149368777871,0.9148572077974677,0.9449392845854163,0.9302269499748945,0.9496747720986605,0.951260706409812,0.9789463318884373,0.963910804130137,1.0099875908344984,0.9801432034000754,1.0361130703240633,1.0043618520721793,0.0940783959813416,0.09490397607441992,0.09733510331716388,0.09757616522256285,0.10076576087158173,0.10330047050956637,0.10117948148399591,0.10123240621760488,0.10481681395322084,0.1071359880734235,0.10582049598451704,0.10704903502482921,0.10975846345536411,0.11075565894134343,0.11022157070692629,0.10958614409901202,0.11428265389986336,0.11188487987965345,0.11654362990520895,0.11753987288102508,0.011599217017646879,0.011650589862256311,0.01172561566636432,0.01166638069844339,0.011849420014186762,0.01150053201126866,0.011879573838086799,0.011374989233445376,0.011686872778227553,0.0117233815981308],\"x\":{\"__ndarray__\":\"AQAAAAIAAAADAAAABAAAAAUAAAAGAAAABwAAAAgAAAAJAAAACgAAAAsAAAAMAAAADQAAAA4AAAAPAAAAEAAAABEAAAASAAAAEwAAABQAAAAVAAAAFgAAABcAAAAYAAAAGQAAABoAAAAbAAAAHAAAAB0AAAAeAAAAHwAAACAAAAAhAAAAIgAAACMAAAAkAAAAJQAAACYAAAAnAAAAKAAAACkAAAAqAAAAKwAAACwAAAAtAAAALgAAAC8AAAAwAAAAMQAAADIAAAAzAAAANAAAADUAAAA2AAAANwAAADgAAAA5AAAAOgAAADsAAAA8AAAAPQAAAD4AAAA/AAAAQAAAAEEAAABCAAAAQwAAAEQAAABFAAAARgAAAEcAAABIAAAASQAAAEoAAABLAAAATAAAAE0AAABOAAAATwAAAFAAAABRAAAAUgAAAFMAAABUAAAAVQAAAFYAAABXAAAAWAAAAFkAAABaAAAA\",\"dtype\":\"int32\",\"shape\":[90]}}},\"id\":\"437bedb9-56de-422e-8183-2c443ef52ebf\",\"type\":\"ColumnDataSource\"},{\"attributes\":{\"data_source\":{\"id\":\"28848b19-e1e9-4719-943c-4c33b4196c7e\",\"type\":\"ColumnDataSource\"},\"glyph\":{\"id\":\"84bc8fe0-6a39-41ad-af03-b35ffa770e87\",\"type\":\"Segment\"},\"hover_glyph\":null,\"muted_glyph\":null,\"nonselection_glyph\":{\"id\":\"c27ff9eb-cbed-4363-a307-b23f28a06854\",\"type\":\"Segment\"},\"selection_glyph\":null,\"view\":{\"id\":\"3c3444ef-b6fb-4831-8add-0fa7f8cc934d\",\"type\":\"CDSView\"}},\"id\":\"4429616a-b502-40f4-9d9c-c72de80a7e46\",\"type\":\"GlyphRenderer\"},{\"attributes\":{\"line_alpha\":{\"value\":0.1},\"line_color\":{\"value\":\"#1f77b4\"},\"x0\":{\"field\":\"x0\"},\"x1\":{\"field\":\"x1\"},\"y0\":{\"field\":\"y0\"},\"y1\":{\"field\":\"y1\"}},\"id\":\"c27ff9eb-cbed-4363-a307-b23f28a06854\",\"type\":\"Segment\"},{\"attributes\":{\"source\":{\"id\":\"28848b19-e1e9-4719-943c-4c33b4196c7e\",\"type\":\"ColumnDataSource\"}},\"id\":\"3c3444ef-b6fb-4831-8add-0fa7f8cc934d\",\"type\":\"CDSView\"},{\"attributes\":{\"source\":{\"id\":\"437bedb9-56de-422e-8183-2c443ef52ebf\",\"type\":\"ColumnDataSource\"}},\"id\":\"9bfcaf54-94e0-4698-b8e1-1e5fcba67378\",\"type\":\"CDSView\"},{\"attributes\":{\"bottom\":{\"field\":\"bottom\"},\"fill_alpha\":{\"value\":0.1},\"fill_color\":{\"value\":\"#1f77b4\"},\"line_alpha\":{\"value\":0.1},\"line_color\":{\"value\":\"#1f77b4\"},\"top\":{\"field\":\"top\"},\"width\":{\"value\":0.25},\"x\":{\"field\":\"x\"}},\"id\":\"d0fcbc88-6d3e-4f86-81d6-d11d8f62aa39\",\"type\":\"VBar\"},{\"attributes\":{\"data_source\":{\"id\":\"437bedb9-56de-422e-8183-2c443ef52ebf\",\"type\":\"ColumnDataSource\"},\"glyph\":{\"id\":\"4ad5dbeb-6a4d-4f7a-ba23-9f3002454867\",\"type\":\"VBar\"},\"hover_glyph\":null,\"muted_glyph\":null,\"nonselection_glyph\":{\"id\":\"d0fcbc88-6d3e-4f86-81d6-d11d8f62aa39\",\"type\":\"VBar\"},\"selection_glyph\":null,\"view\":{\"id\":\"9bfcaf54-94e0-4698-b8e1-1e5fcba67378\",\"type\":\"CDSView\"}},\"id\":\"e186ab12-da89-47b6-9a8d-2fe43acc7f82\",\"type\":\"GlyphRenderer\"}],\"root_ids\":[\"809c0b3f-91b1-43ea-aab7-cfac08370ed9\"]},\"title\":\"Bokeh Application\",\"version\":\"0.12.13\"}};\n",
       "  var render_items = [{\"docid\":\"294307e0-9757-4559-a109-f6f80d85ba7f\",\"elementid\":\"9f77c9b2-4e53-40ff-956c-ea80e5662913\",\"modelid\":\"809c0b3f-91b1-43ea-aab7-cfac08370ed9\"}];\n",
       "  root.Bokeh.embed.embed_items_notebook(docs_json, render_items);\n",
       "\n",
       "  }\n",
       "  if (root.Bokeh !== undefined) {\n",
       "    embed_document(root);\n",
       "  } else {\n",
       "    var attempts = 0;\n",
       "    var timer = setInterval(function(root) {\n",
       "      if (root.Bokeh !== undefined) {\n",
       "        embed_document(root);\n",
       "        clearInterval(timer);\n",
       "      }\n",
       "      attempts++;\n",
       "      if (attempts > 100) {\n",
       "        console.log(\"Bokeh: ERROR: Unable to run BokehJS code because BokehJS library is missing\")\n",
       "        clearInterval(timer);\n",
       "      }\n",
       "    }, 10, root)\n",
       "  }\n",
       "})(window);"
      ],
      "application/vnd.bokehjs_exec.v0+json": ""
     },
     "metadata": {
      "application/vnd.bokehjs_exec.v0+json": {
       "id": "809c0b3f-91b1-43ea-aab7-cfac08370ed9"
      }
     },
     "output_type": "display_data"
    }
   ],
   "source": [
    "show(plots[5])"
   ]
  },
  {
   "cell_type": "code",
   "execution_count": 9,
   "metadata": {},
   "outputs": [
    {
     "data": {
      "text/html": [
       "\n",
       "<div class=\"bk-root\">\n",
       "    <div class=\"bk-plotdiv\" id=\"a797d38a-1b07-43d1-9baa-628e414f21c8\"></div>\n",
       "</div>"
      ]
     },
     "metadata": {},
     "output_type": "display_data"
    },
    {
     "data": {
      "application/javascript": [
       "(function(root) {\n",
       "  function embed_document(root) {\n",
       "    \n",
       "  var docs_json = {\"f3721d31-80a3-41ba-99de-388b835d30c6\":{\"roots\":{\"references\":[{\"attributes\":{\"plot\":{\"id\":\"e6ad8c3f-39f2-4368-b431-bce1e416631f\",\"subtype\":\"Figure\",\"type\":\"Plot\"},\"ticker\":{\"id\":\"8a4091ad-1728-403a-a0c8-e02fa198a3fb\",\"type\":\"BasicTicker\"}},\"id\":\"3752a45b-e53e-490e-bff5-f53cf07d323e\",\"type\":\"Grid\"},{\"attributes\":{},\"id\":\"cf1ebd52-ec67-4ce0-8fb0-000f3f791f49\",\"type\":\"BasicTickFormatter\"},{\"attributes\":{\"dimension\":1,\"plot\":{\"id\":\"e6ad8c3f-39f2-4368-b431-bce1e416631f\",\"subtype\":\"Figure\",\"type\":\"Plot\"},\"ticker\":{\"id\":\"9f67f119-8fd4-49b2-8d2b-4b2754008193\",\"type\":\"BasicTicker\"}},\"id\":\"2626f9fb-4cc3-4413-a4f5-c5e3624dc765\",\"type\":\"Grid\"},{\"attributes\":{},\"id\":\"8a4091ad-1728-403a-a0c8-e02fa198a3fb\",\"type\":\"BasicTicker\"},{\"attributes\":{\"axis_label\":\"t [Epochs]\",\"formatter\":{\"id\":\"cf1ebd52-ec67-4ce0-8fb0-000f3f791f49\",\"type\":\"BasicTickFormatter\"},\"plot\":{\"id\":\"e6ad8c3f-39f2-4368-b431-bce1e416631f\",\"subtype\":\"Figure\",\"type\":\"Plot\"},\"ticker\":{\"id\":\"8a4091ad-1728-403a-a0c8-e02fa198a3fb\",\"type\":\"BasicTicker\"}},\"id\":\"f6595d63-406b-4885-8bd7-cacb812f6e8b\",\"type\":\"LinearAxis\"},{\"attributes\":{},\"id\":\"9f67f119-8fd4-49b2-8d2b-4b2754008193\",\"type\":\"BasicTicker\"},{\"attributes\":{\"active_drag\":\"auto\",\"active_inspect\":\"auto\",\"active_scroll\":\"auto\",\"active_tap\":\"auto\",\"tools\":[{\"id\":\"d51125ed-88f0-4e03-8eef-c6bc27a99a2b\",\"type\":\"PanTool\"},{\"id\":\"01935aee-7a15-4af9-9dc9-2fd8e44049ef\",\"type\":\"WheelZoomTool\"},{\"id\":\"0c9dc4a7-24e6-4e27-a31f-555cae2049bc\",\"type\":\"BoxZoomTool\"},{\"id\":\"9209d28d-d481-4f86-b317-508d45f46c65\",\"type\":\"SaveTool\"},{\"id\":\"d3643a62-a5a7-4781-942d-f1871c61b97d\",\"type\":\"ResetTool\"},{\"id\":\"1453a055-cf1e-4203-9de3-bf5b4618cc3c\",\"type\":\"HelpTool\"}]},\"id\":\"169114b4-e411-47dc-87a6-93ba39667a7c\",\"type\":\"Toolbar\"},{\"attributes\":{\"axis_label\":\"Distance Norm\",\"formatter\":{\"id\":\"063f170d-a886-447a-83d7-7e9efd0db4d6\",\"type\":\"BasicTickFormatter\"},\"plot\":{\"id\":\"e6ad8c3f-39f2-4368-b431-bce1e416631f\",\"subtype\":\"Figure\",\"type\":\"Plot\"},\"ticker\":{\"id\":\"9f67f119-8fd4-49b2-8d2b-4b2754008193\",\"type\":\"BasicTicker\"}},\"id\":\"cc7ab3a0-0c0a-439d-a59f-95f44738eb3f\",\"type\":\"LinearAxis\"},{\"attributes\":{\"plot\":null,\"text\":\"Distance Norm Between Mean & Master Weights\"},\"id\":\"d996cbcd-b259-46e9-a35a-318b15d14984\",\"type\":\"Title\"},{\"attributes\":{\"bottom_units\":\"screen\",\"fill_alpha\":{\"value\":0.5},\"fill_color\":{\"value\":\"lightgrey\"},\"left_units\":\"screen\",\"level\":\"overlay\",\"line_alpha\":{\"value\":1.0},\"line_color\":{\"value\":\"black\"},\"line_dash\":[4,4],\"line_width\":{\"value\":2},\"plot\":null,\"render_mode\":\"css\",\"right_units\":\"screen\",\"top_units\":\"screen\"},\"id\":\"07b93faf-49f5-4f04-a465-082b8c20d9c9\",\"type\":\"BoxAnnotation\"},{\"attributes\":{\"label\":{\"value\":\"asynchronous_256_32\"},\"renderers\":[{\"id\":\"8ae2284a-7feb-47cf-80b8-88464f13ae97\",\"type\":\"GlyphRenderer\"}]},\"id\":\"c55b0ac4-d5fa-49fa-ab96-2c71b62b763b\",\"type\":\"LegendItem\"},{\"attributes\":{},\"id\":\"d51125ed-88f0-4e03-8eef-c6bc27a99a2b\",\"type\":\"PanTool\"},{\"attributes\":{},\"id\":\"01935aee-7a15-4af9-9dc9-2fd8e44049ef\",\"type\":\"WheelZoomTool\"},{\"attributes\":{\"overlay\":{\"id\":\"07b93faf-49f5-4f04-a465-082b8c20d9c9\",\"type\":\"BoxAnnotation\"}},\"id\":\"0c9dc4a7-24e6-4e27-a31f-555cae2049bc\",\"type\":\"BoxZoomTool\"},{\"attributes\":{},\"id\":\"9209d28d-d481-4f86-b317-508d45f46c65\",\"type\":\"SaveTool\"},{\"attributes\":{\"line_color\":\"#1f77b4\",\"line_dash\":[6],\"line_width\":3,\"x\":{\"field\":\"x\"},\"y\":{\"field\":\"y\"}},\"id\":\"cba4de76-d6ff-4fbe-aaf9-1d5a2610ceb2\",\"type\":\"Line\"},{\"attributes\":{},\"id\":\"d3643a62-a5a7-4781-942d-f1871c61b97d\",\"type\":\"ResetTool\"},{\"attributes\":{\"callback\":null,\"column_names\":[\"x\",\"y\"],\"data\":{\"x\":{\"__ndarray__\":\"AQAAAAIAAAADAAAABAAAAAUAAAAGAAAABwAAAAgAAAAJAAAACgAAAAsAAAAMAAAADQAAAA4AAAAPAAAAEAAAABEAAAASAAAAEwAAABQAAAAVAAAAFgAAABcAAAAYAAAAGQAAABoAAAAbAAAAHAAAAB0AAAAeAAAAHwAAACAAAAAhAAAAIgAAACMAAAAkAAAAJQAAACYAAAAnAAAAKAAAACkAAAAqAAAAKwAAACwAAAAtAAAALgAAAC8AAAAwAAAAMQAAADIAAAAzAAAANAAAADUAAAA2AAAANwAAADgAAAA5AAAAOgAAADsAAAA8AAAAPQAAAD4AAAA/AAAAQAAAAEEAAABCAAAAQwAAAEQAAABFAAAARgAAAEcAAABIAAAASQAAAEoAAABLAAAATAAAAE0AAABOAAAATwAAAFAAAABRAAAAUgAAAFMAAABUAAAAVQAAAFYAAABXAAAAWAAAAFkAAABaAAAA\",\"dtype\":\"int32\",\"shape\":[90]},\"y\":[0.7171716690063477,1.3193819522857666,4.5338969230651855,4.234562397003174,7.287143707275391,12.393131256103516,10.333596229553223,11.067825317382812,12.091716766357422,14.677007675170898,13.637818336486816,15.118348121643066,13.891955375671387,15.247249603271484,17.2159481048584,14.590042114257812,15.624756813049316,17.538299560546875,15.585360527038574,18.43096160888672,16.726882934570312,27.52227210998535,14.960065841674805,18.311994552612305,15.973071098327637,16.932573318481445,17.031579971313477,16.837108612060547,19.402307510375977,19.37775421142578,0.11833739280700684,0.13970516622066498,0.17856937646865845,0.19997984170913696,0.23116730153560638,0.255669504404068,0.2734816074371338,0.31431880593299866,0.33433806896209717,0.3647608458995819,0.38896337151527405,0.43437543511390686,0.4660888612270355,0.49605605006217957,0.4893655478954315,0.5186001658439636,0.543630838394165,0.5858633518218994,0.6184059977531433,0.6500071883201599,0.6913127303123474,0.670525312423706,0.6959366798400879,0.7010209560394287,0.7414478659629822,0.7195698022842407,0.794955313205719,0.7405298352241516,0.8368944525718689,0.7835251688957214,0.006703078281134367,0.006806118413805962,0.007166571915149689,0.007192741613835096,0.007732560858130455,0.008083446882665157,0.007771223317831755,0.007756887003779411,0.008308008313179016,0.008738194592297077,0.008482499048113823,0.008710822090506554,0.009174387902021408,0.009305468760430813,0.0092474902048707,0.009126514196395874,0.009965445846319199,0.009470509365200996,0.010384705848991871,0.010522432625293732,0.00010166763240704313,0.00010292583465343341,0.0001054400927387178,0.00010307277261745185,0.0001068210622179322,9.968922677217051e-05,0.0001075107793440111,9.777902596397325e-05,0.00010324193863198161,0.0001045729877660051]}},\"id\":\"e71f9e82-14ac-45d9-80f4-63721fc91b67\",\"type\":\"ColumnDataSource\"},{\"attributes\":{},\"id\":\"1453a055-cf1e-4203-9de3-bf5b4618cc3c\",\"type\":\"HelpTool\"},{\"attributes\":{\"source\":{\"id\":\"e71f9e82-14ac-45d9-80f4-63721fc91b67\",\"type\":\"ColumnDataSource\"}},\"id\":\"732f6eb0-c9c6-4160-beaf-e97930112d09\",\"type\":\"CDSView\"},{\"attributes\":{\"click_policy\":\"hide\",\"items\":[{\"id\":\"c55b0ac4-d5fa-49fa-ab96-2c71b62b763b\",\"type\":\"LegendItem\"}],\"plot\":{\"id\":\"e6ad8c3f-39f2-4368-b431-bce1e416631f\",\"subtype\":\"Figure\",\"type\":\"Plot\"}},\"id\":\"e11d220b-0e1f-4bb4-8370-872d0a082f83\",\"type\":\"Legend\"},{\"attributes\":{},\"id\":\"063f170d-a886-447a-83d7-7e9efd0db4d6\",\"type\":\"BasicTickFormatter\"},{\"attributes\":{\"line_alpha\":0.1,\"line_color\":\"#1f77b4\",\"line_dash\":[6],\"line_width\":3,\"x\":{\"field\":\"x\"},\"y\":{\"field\":\"y\"}},\"id\":\"64b266b4-3a71-4213-a53c-22582e0e1d0e\",\"type\":\"Line\"},{\"attributes\":{\"data_source\":{\"id\":\"e71f9e82-14ac-45d9-80f4-63721fc91b67\",\"type\":\"ColumnDataSource\"},\"glyph\":{\"id\":\"cba4de76-d6ff-4fbe-aaf9-1d5a2610ceb2\",\"type\":\"Line\"},\"hover_glyph\":null,\"muted_glyph\":null,\"nonselection_glyph\":{\"id\":\"64b266b4-3a71-4213-a53c-22582e0e1d0e\",\"type\":\"Line\"},\"selection_glyph\":null,\"view\":{\"id\":\"732f6eb0-c9c6-4160-beaf-e97930112d09\",\"type\":\"CDSView\"}},\"id\":\"8ae2284a-7feb-47cf-80b8-88464f13ae97\",\"type\":\"GlyphRenderer\"},{\"attributes\":{\"callback\":null},\"id\":\"a22c490b-70cc-4078-a700-e1c965cd9f1c\",\"type\":\"DataRange1d\"},{\"attributes\":{\"background_fill_color\":{\"value\":\"#fafafa\"},\"below\":[{\"id\":\"f6595d63-406b-4885-8bd7-cacb812f6e8b\",\"type\":\"LinearAxis\"}],\"left\":[{\"id\":\"cc7ab3a0-0c0a-439d-a59f-95f44738eb3f\",\"type\":\"LinearAxis\"}],\"min_border\":10,\"min_border_left\":50,\"renderers\":[{\"id\":\"f6595d63-406b-4885-8bd7-cacb812f6e8b\",\"type\":\"LinearAxis\"},{\"id\":\"3752a45b-e53e-490e-bff5-f53cf07d323e\",\"type\":\"Grid\"},{\"id\":\"cc7ab3a0-0c0a-439d-a59f-95f44738eb3f\",\"type\":\"LinearAxis\"},{\"id\":\"2626f9fb-4cc3-4413-a4f5-c5e3624dc765\",\"type\":\"Grid\"},{\"id\":\"07b93faf-49f5-4f04-a465-082b8c20d9c9\",\"type\":\"BoxAnnotation\"},{\"id\":\"e11d220b-0e1f-4bb4-8370-872d0a082f83\",\"type\":\"Legend\"},{\"id\":\"8ae2284a-7feb-47cf-80b8-88464f13ae97\",\"type\":\"GlyphRenderer\"}],\"title\":{\"id\":\"d996cbcd-b259-46e9-a35a-318b15d14984\",\"type\":\"Title\"},\"toolbar\":{\"id\":\"169114b4-e411-47dc-87a6-93ba39667a7c\",\"type\":\"Toolbar\"},\"x_range\":{\"id\":\"a22c490b-70cc-4078-a700-e1c965cd9f1c\",\"type\":\"DataRange1d\"},\"x_scale\":{\"id\":\"ca3582a0-0d26-4b5e-999f-7361c071d47e\",\"type\":\"LinearScale\"},\"y_range\":{\"id\":\"cb93911a-9dc6-4976-8ac7-f4e89993d16b\",\"type\":\"DataRange1d\"},\"y_scale\":{\"id\":\"d01ce629-9b9d-481c-931b-8266aa3983c0\",\"type\":\"LinearScale\"}},\"id\":\"e6ad8c3f-39f2-4368-b431-bce1e416631f\",\"subtype\":\"Figure\",\"type\":\"Plot\"},{\"attributes\":{},\"id\":\"d01ce629-9b9d-481c-931b-8266aa3983c0\",\"type\":\"LinearScale\"},{\"attributes\":{},\"id\":\"ca3582a0-0d26-4b5e-999f-7361c071d47e\",\"type\":\"LinearScale\"},{\"attributes\":{\"callback\":null},\"id\":\"cb93911a-9dc6-4976-8ac7-f4e89993d16b\",\"type\":\"DataRange1d\"}],\"root_ids\":[\"e6ad8c3f-39f2-4368-b431-bce1e416631f\"]},\"title\":\"Bokeh Application\",\"version\":\"0.12.13\"}};\n",
       "  var render_items = [{\"docid\":\"f3721d31-80a3-41ba-99de-388b835d30c6\",\"elementid\":\"a797d38a-1b07-43d1-9baa-628e414f21c8\",\"modelid\":\"e6ad8c3f-39f2-4368-b431-bce1e416631f\"}];\n",
       "  root.Bokeh.embed.embed_items_notebook(docs_json, render_items);\n",
       "\n",
       "  }\n",
       "  if (root.Bokeh !== undefined) {\n",
       "    embed_document(root);\n",
       "  } else {\n",
       "    var attempts = 0;\n",
       "    var timer = setInterval(function(root) {\n",
       "      if (root.Bokeh !== undefined) {\n",
       "        embed_document(root);\n",
       "        clearInterval(timer);\n",
       "      }\n",
       "      attempts++;\n",
       "      if (attempts > 100) {\n",
       "        console.log(\"Bokeh: ERROR: Unable to run BokehJS code because BokehJS library is missing\")\n",
       "        clearInterval(timer);\n",
       "      }\n",
       "    }, 10, root)\n",
       "  }\n",
       "})(window);"
      ],
      "application/vnd.bokehjs_exec.v0+json": ""
     },
     "metadata": {
      "application/vnd.bokehjs_exec.v0+json": {
       "id": "e6ad8c3f-39f2-4368-b431-bce1e416631f"
      }
     },
     "output_type": "display_data"
    }
   ],
   "source": [
    "show(plots[6])"
   ]
  },
  {
   "cell_type": "raw",
   "metadata": {},
   "source": [
    "<script>\n",
    "  $(document).ready(function(){\n",
    "    $('div.prompt').hide();\n",
    "    $('div.back-to-top').hide();\n",
    "    $('nav#menubar').hide();\n",
    "    $('.breadcrumb').hide();\n",
    "    $('.hidden-print').hide();\n",
    "  });\n",
    "</script>\n",
    "\n",
    "<footer id=\"attribution\" style=\"float:right; color:#999; background:#fff;\">\n",
    "Niv Giladi - Technion\n",
    "</footer>"
   ]
  }
 ],
 "metadata": {
  "kernelspec": {
   "display_name": "Python 3",
   "language": "python",
   "name": "python3"
  },
  "language_info": {
   "codemirror_mode": {
    "name": "ipython",
    "version": 3
   },
   "file_extension": ".py",
   "mimetype": "text/x-python",
   "name": "python",
   "nbconvert_exporter": "python",
   "pygments_lexer": "ipython3",
   "version": "3.6.1"
  }
 },
 "nbformat": 4,
 "nbformat_minor": 1
}
