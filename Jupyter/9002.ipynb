{
 "cells": [
  {
   "cell_type": "code",
   "execution_count": 1,
   "metadata": {
    "scrolled": false
   },
   "outputs": [
    {
     "data": {
      "text/html": [
       "\n",
       "    <div class=\"bk-root\">\n",
       "        <a href=\"https://bokeh.pydata.org\" target=\"_blank\" class=\"bk-logo bk-logo-small bk-logo-notebook\"></a>\n",
       "        <span id=\"43d31544-c5ca-4dd2-bf3c-f27cb2e42c8d\">Loading BokehJS ...</span>\n",
       "    </div>"
      ]
     },
     "metadata": {},
     "output_type": "display_data"
    },
    {
     "data": {
      "application/javascript": [
       "\n",
       "(function(root) {\n",
       "  function now() {\n",
       "    return new Date();\n",
       "  }\n",
       "\n",
       "  var force = true;\n",
       "\n",
       "  if (typeof (root._bokeh_onload_callbacks) === \"undefined\" || force === true) {\n",
       "    root._bokeh_onload_callbacks = [];\n",
       "    root._bokeh_is_loading = undefined;\n",
       "  }\n",
       "\n",
       "  var JS_MIME_TYPE = 'application/javascript';\n",
       "  var HTML_MIME_TYPE = 'text/html';\n",
       "  var EXEC_MIME_TYPE = 'application/vnd.bokehjs_exec.v0+json';\n",
       "  var CLASS_NAME = 'output_bokeh rendered_html';\n",
       "\n",
       "  /**\n",
       "   * Render data to the DOM node\n",
       "   */\n",
       "  function render(props, node) {\n",
       "    var script = document.createElement(\"script\");\n",
       "    node.appendChild(script);\n",
       "  }\n",
       "\n",
       "  /**\n",
       "   * Handle when an output is cleared or removed\n",
       "   */\n",
       "  function handleClearOutput(event, handle) {\n",
       "    var cell = handle.cell;\n",
       "\n",
       "    var id = cell.output_area._bokeh_element_id;\n",
       "    var server_id = cell.output_area._bokeh_server_id;\n",
       "    // Clean up Bokeh references\n",
       "    if (id !== undefined) {\n",
       "      Bokeh.index[id].model.document.clear();\n",
       "      delete Bokeh.index[id];\n",
       "    }\n",
       "\n",
       "    if (server_id !== undefined) {\n",
       "      // Clean up Bokeh references\n",
       "      var cmd = \"from bokeh.io.state import curstate; print(curstate().uuid_to_server['\" + server_id + \"'].get_sessions()[0].document.roots[0]._id)\";\n",
       "      cell.notebook.kernel.execute(cmd, {\n",
       "        iopub: {\n",
       "          output: function(msg) {\n",
       "            var element_id = msg.content.text.trim();\n",
       "            Bokeh.index[element_id].model.document.clear();\n",
       "            delete Bokeh.index[element_id];\n",
       "          }\n",
       "        }\n",
       "      });\n",
       "      // Destroy server and session\n",
       "      var cmd = \"import bokeh.io.notebook as ion; ion.destroy_server('\" + server_id + \"')\";\n",
       "      cell.notebook.kernel.execute(cmd);\n",
       "    }\n",
       "  }\n",
       "\n",
       "  /**\n",
       "   * Handle when a new output is added\n",
       "   */\n",
       "  function handleAddOutput(event, handle) {\n",
       "    var output_area = handle.output_area;\n",
       "    var output = handle.output;\n",
       "\n",
       "    // limit handleAddOutput to display_data with EXEC_MIME_TYPE content only\n",
       "    if ((output.output_type != \"display_data\") || (!output.data.hasOwnProperty(EXEC_MIME_TYPE))) {\n",
       "      return\n",
       "    }\n",
       "\n",
       "    var toinsert = output_area.element.find(\".\" + CLASS_NAME.split(' ')[0]);\n",
       "\n",
       "    if (output.metadata[EXEC_MIME_TYPE][\"id\"] !== undefined) {\n",
       "      toinsert[0].firstChild.textContent = output.data[JS_MIME_TYPE];\n",
       "      // store reference to embed id on output_area\n",
       "      output_area._bokeh_element_id = output.metadata[EXEC_MIME_TYPE][\"id\"];\n",
       "    }\n",
       "    if (output.metadata[EXEC_MIME_TYPE][\"server_id\"] !== undefined) {\n",
       "      var bk_div = document.createElement(\"div\");\n",
       "      bk_div.innerHTML = output.data[HTML_MIME_TYPE];\n",
       "      var script_attrs = bk_div.children[0].attributes;\n",
       "      for (var i = 0; i < script_attrs.length; i++) {\n",
       "        toinsert[0].firstChild.setAttribute(script_attrs[i].name, script_attrs[i].value);\n",
       "      }\n",
       "      // store reference to server id on output_area\n",
       "      output_area._bokeh_server_id = output.metadata[EXEC_MIME_TYPE][\"server_id\"];\n",
       "    }\n",
       "  }\n",
       "\n",
       "  function register_renderer(events, OutputArea) {\n",
       "\n",
       "    function append_mime(data, metadata, element) {\n",
       "      // create a DOM node to render to\n",
       "      var toinsert = this.create_output_subarea(\n",
       "        metadata,\n",
       "        CLASS_NAME,\n",
       "        EXEC_MIME_TYPE\n",
       "      );\n",
       "      this.keyboard_manager.register_events(toinsert);\n",
       "      // Render to node\n",
       "      var props = {data: data, metadata: metadata[EXEC_MIME_TYPE]};\n",
       "      render(props, toinsert[0]);\n",
       "      element.append(toinsert);\n",
       "      return toinsert\n",
       "    }\n",
       "\n",
       "    /* Handle when an output is cleared or removed */\n",
       "    events.on('clear_output.CodeCell', handleClearOutput);\n",
       "    events.on('delete.Cell', handleClearOutput);\n",
       "\n",
       "    /* Handle when a new output is added */\n",
       "    events.on('output_added.OutputArea', handleAddOutput);\n",
       "\n",
       "    /**\n",
       "     * Register the mime type and append_mime function with output_area\n",
       "     */\n",
       "    OutputArea.prototype.register_mime_type(EXEC_MIME_TYPE, append_mime, {\n",
       "      /* Is output safe? */\n",
       "      safe: true,\n",
       "      /* Index of renderer in `output_area.display_order` */\n",
       "      index: 0\n",
       "    });\n",
       "  }\n",
       "\n",
       "  // register the mime type if in Jupyter Notebook environment and previously unregistered\n",
       "  if (root.Jupyter !== undefined) {\n",
       "    var events = require('base/js/events');\n",
       "    var OutputArea = require('notebook/js/outputarea').OutputArea;\n",
       "\n",
       "    if (OutputArea.prototype.mime_types().indexOf(EXEC_MIME_TYPE) == -1) {\n",
       "      register_renderer(events, OutputArea);\n",
       "    }\n",
       "  }\n",
       "\n",
       "  \n",
       "  if (typeof (root._bokeh_timeout) === \"undefined\" || force === true) {\n",
       "    root._bokeh_timeout = Date.now() + 5000;\n",
       "    root._bokeh_failed_load = false;\n",
       "  }\n",
       "\n",
       "  var NB_LOAD_WARNING = {'data': {'text/html':\n",
       "     \"<div style='background-color: #fdd'>\\n\"+\n",
       "     \"<p>\\n\"+\n",
       "     \"BokehJS does not appear to have successfully loaded. If loading BokehJS from CDN, this \\n\"+\n",
       "     \"may be due to a slow or bad network connection. Possible fixes:\\n\"+\n",
       "     \"</p>\\n\"+\n",
       "     \"<ul>\\n\"+\n",
       "     \"<li>re-rerun `output_notebook()` to attempt to load from CDN again, or</li>\\n\"+\n",
       "     \"<li>use INLINE resources instead, as so:</li>\\n\"+\n",
       "     \"</ul>\\n\"+\n",
       "     \"<code>\\n\"+\n",
       "     \"from bokeh.resources import INLINE\\n\"+\n",
       "     \"output_notebook(resources=INLINE)\\n\"+\n",
       "     \"</code>\\n\"+\n",
       "     \"</div>\"}};\n",
       "\n",
       "  function display_loaded() {\n",
       "    var el = document.getElementById(\"43d31544-c5ca-4dd2-bf3c-f27cb2e42c8d\");\n",
       "    if (el != null) {\n",
       "      el.textContent = \"BokehJS is loading...\";\n",
       "    }\n",
       "    if (root.Bokeh !== undefined) {\n",
       "      if (el != null) {\n",
       "        el.textContent = \"BokehJS \" + root.Bokeh.version + \" successfully loaded.\";\n",
       "      }\n",
       "    } else if (Date.now() < root._bokeh_timeout) {\n",
       "      setTimeout(display_loaded, 100)\n",
       "    }\n",
       "  }\n",
       "\n",
       "\n",
       "  function run_callbacks() {\n",
       "    try {\n",
       "      root._bokeh_onload_callbacks.forEach(function(callback) { callback() });\n",
       "    }\n",
       "    finally {\n",
       "      delete root._bokeh_onload_callbacks\n",
       "    }\n",
       "    console.info(\"Bokeh: all callbacks have finished\");\n",
       "  }\n",
       "\n",
       "  function load_libs(js_urls, callback) {\n",
       "    root._bokeh_onload_callbacks.push(callback);\n",
       "    if (root._bokeh_is_loading > 0) {\n",
       "      console.log(\"Bokeh: BokehJS is being loaded, scheduling callback at\", now());\n",
       "      return null;\n",
       "    }\n",
       "    if (js_urls == null || js_urls.length === 0) {\n",
       "      run_callbacks();\n",
       "      return null;\n",
       "    }\n",
       "    console.log(\"Bokeh: BokehJS not loaded, scheduling load and callback at\", now());\n",
       "    root._bokeh_is_loading = js_urls.length;\n",
       "    for (var i = 0; i < js_urls.length; i++) {\n",
       "      var url = js_urls[i];\n",
       "      var s = document.createElement('script');\n",
       "      s.src = url;\n",
       "      s.async = false;\n",
       "      s.onreadystatechange = s.onload = function() {\n",
       "        root._bokeh_is_loading--;\n",
       "        if (root._bokeh_is_loading === 0) {\n",
       "          console.log(\"Bokeh: all BokehJS libraries loaded\");\n",
       "          run_callbacks()\n",
       "        }\n",
       "      };\n",
       "      s.onerror = function() {\n",
       "        console.warn(\"failed to load library \" + url);\n",
       "      };\n",
       "      console.log(\"Bokeh: injecting script tag for BokehJS library: \", url);\n",
       "      document.getElementsByTagName(\"head\")[0].appendChild(s);\n",
       "    }\n",
       "  };var element = document.getElementById(\"43d31544-c5ca-4dd2-bf3c-f27cb2e42c8d\");\n",
       "  if (element == null) {\n",
       "    console.log(\"Bokeh: ERROR: autoload.js configured with elementid '43d31544-c5ca-4dd2-bf3c-f27cb2e42c8d' but no matching script tag was found. \")\n",
       "    return false;\n",
       "  }\n",
       "\n",
       "  var js_urls = [\"https://cdn.pydata.org/bokeh/release/bokeh-0.12.13.min.js\", \"https://cdn.pydata.org/bokeh/release/bokeh-widgets-0.12.13.min.js\", \"https://cdn.pydata.org/bokeh/release/bokeh-tables-0.12.13.min.js\", \"https://cdn.pydata.org/bokeh/release/bokeh-gl-0.12.13.min.js\"];\n",
       "\n",
       "  var inline_js = [\n",
       "    function(Bokeh) {\n",
       "      Bokeh.set_log_level(\"info\");\n",
       "    },\n",
       "    \n",
       "    function(Bokeh) {\n",
       "      \n",
       "    },\n",
       "    function(Bokeh) {\n",
       "      console.log(\"Bokeh: injecting CSS: https://cdn.pydata.org/bokeh/release/bokeh-0.12.13.min.css\");\n",
       "      Bokeh.embed.inject_css(\"https://cdn.pydata.org/bokeh/release/bokeh-0.12.13.min.css\");\n",
       "      console.log(\"Bokeh: injecting CSS: https://cdn.pydata.org/bokeh/release/bokeh-widgets-0.12.13.min.css\");\n",
       "      Bokeh.embed.inject_css(\"https://cdn.pydata.org/bokeh/release/bokeh-widgets-0.12.13.min.css\");\n",
       "      console.log(\"Bokeh: injecting CSS: https://cdn.pydata.org/bokeh/release/bokeh-tables-0.12.13.min.css\");\n",
       "      Bokeh.embed.inject_css(\"https://cdn.pydata.org/bokeh/release/bokeh-tables-0.12.13.min.css\");\n",
       "    }\n",
       "  ];\n",
       "\n",
       "  function run_inline_js() {\n",
       "    \n",
       "    if ((root.Bokeh !== undefined) || (force === true)) {\n",
       "      for (var i = 0; i < inline_js.length; i++) {\n",
       "        inline_js[i].call(root, root.Bokeh);\n",
       "      }if (force === true) {\n",
       "        display_loaded();\n",
       "      }} else if (Date.now() < root._bokeh_timeout) {\n",
       "      setTimeout(run_inline_js, 100);\n",
       "    } else if (!root._bokeh_failed_load) {\n",
       "      console.log(\"Bokeh: BokehJS failed to load within specified timeout.\");\n",
       "      root._bokeh_failed_load = true;\n",
       "    } else if (force !== true) {\n",
       "      var cell = $(document.getElementById(\"43d31544-c5ca-4dd2-bf3c-f27cb2e42c8d\")).parents('.cell').data().cell;\n",
       "      cell.output_area.append_execute_result(NB_LOAD_WARNING)\n",
       "    }\n",
       "\n",
       "  }\n",
       "\n",
       "  if (root._bokeh_is_loading === 0) {\n",
       "    console.log(\"Bokeh: BokehJS loaded, going straight to plotting\");\n",
       "    run_inline_js();\n",
       "  } else {\n",
       "    load_libs(js_urls, function() {\n",
       "      console.log(\"Bokeh: BokehJS plotting callback run at\", now());\n",
       "      run_inline_js();\n",
       "    });\n",
       "  }\n",
       "}(window));"
      ],
      "application/vnd.bokehjs_load.v0+json": "\n(function(root) {\n  function now() {\n    return new Date();\n  }\n\n  var force = true;\n\n  if (typeof (root._bokeh_onload_callbacks) === \"undefined\" || force === true) {\n    root._bokeh_onload_callbacks = [];\n    root._bokeh_is_loading = undefined;\n  }\n\n  \n\n  \n  if (typeof (root._bokeh_timeout) === \"undefined\" || force === true) {\n    root._bokeh_timeout = Date.now() + 5000;\n    root._bokeh_failed_load = false;\n  }\n\n  var NB_LOAD_WARNING = {'data': {'text/html':\n     \"<div style='background-color: #fdd'>\\n\"+\n     \"<p>\\n\"+\n     \"BokehJS does not appear to have successfully loaded. If loading BokehJS from CDN, this \\n\"+\n     \"may be due to a slow or bad network connection. Possible fixes:\\n\"+\n     \"</p>\\n\"+\n     \"<ul>\\n\"+\n     \"<li>re-rerun `output_notebook()` to attempt to load from CDN again, or</li>\\n\"+\n     \"<li>use INLINE resources instead, as so:</li>\\n\"+\n     \"</ul>\\n\"+\n     \"<code>\\n\"+\n     \"from bokeh.resources import INLINE\\n\"+\n     \"output_notebook(resources=INLINE)\\n\"+\n     \"</code>\\n\"+\n     \"</div>\"}};\n\n  function display_loaded() {\n    var el = document.getElementById(\"43d31544-c5ca-4dd2-bf3c-f27cb2e42c8d\");\n    if (el != null) {\n      el.textContent = \"BokehJS is loading...\";\n    }\n    if (root.Bokeh !== undefined) {\n      if (el != null) {\n        el.textContent = \"BokehJS \" + root.Bokeh.version + \" successfully loaded.\";\n      }\n    } else if (Date.now() < root._bokeh_timeout) {\n      setTimeout(display_loaded, 100)\n    }\n  }\n\n\n  function run_callbacks() {\n    try {\n      root._bokeh_onload_callbacks.forEach(function(callback) { callback() });\n    }\n    finally {\n      delete root._bokeh_onload_callbacks\n    }\n    console.info(\"Bokeh: all callbacks have finished\");\n  }\n\n  function load_libs(js_urls, callback) {\n    root._bokeh_onload_callbacks.push(callback);\n    if (root._bokeh_is_loading > 0) {\n      console.log(\"Bokeh: BokehJS is being loaded, scheduling callback at\", now());\n      return null;\n    }\n    if (js_urls == null || js_urls.length === 0) {\n      run_callbacks();\n      return null;\n    }\n    console.log(\"Bokeh: BokehJS not loaded, scheduling load and callback at\", now());\n    root._bokeh_is_loading = js_urls.length;\n    for (var i = 0; i < js_urls.length; i++) {\n      var url = js_urls[i];\n      var s = document.createElement('script');\n      s.src = url;\n      s.async = false;\n      s.onreadystatechange = s.onload = function() {\n        root._bokeh_is_loading--;\n        if (root._bokeh_is_loading === 0) {\n          console.log(\"Bokeh: all BokehJS libraries loaded\");\n          run_callbacks()\n        }\n      };\n      s.onerror = function() {\n        console.warn(\"failed to load library \" + url);\n      };\n      console.log(\"Bokeh: injecting script tag for BokehJS library: \", url);\n      document.getElementsByTagName(\"head\")[0].appendChild(s);\n    }\n  };var element = document.getElementById(\"43d31544-c5ca-4dd2-bf3c-f27cb2e42c8d\");\n  if (element == null) {\n    console.log(\"Bokeh: ERROR: autoload.js configured with elementid '43d31544-c5ca-4dd2-bf3c-f27cb2e42c8d' but no matching script tag was found. \")\n    return false;\n  }\n\n  var js_urls = [\"https://cdn.pydata.org/bokeh/release/bokeh-0.12.13.min.js\", \"https://cdn.pydata.org/bokeh/release/bokeh-widgets-0.12.13.min.js\", \"https://cdn.pydata.org/bokeh/release/bokeh-tables-0.12.13.min.js\", \"https://cdn.pydata.org/bokeh/release/bokeh-gl-0.12.13.min.js\"];\n\n  var inline_js = [\n    function(Bokeh) {\n      Bokeh.set_log_level(\"info\");\n    },\n    \n    function(Bokeh) {\n      \n    },\n    function(Bokeh) {\n      console.log(\"Bokeh: injecting CSS: https://cdn.pydata.org/bokeh/release/bokeh-0.12.13.min.css\");\n      Bokeh.embed.inject_css(\"https://cdn.pydata.org/bokeh/release/bokeh-0.12.13.min.css\");\n      console.log(\"Bokeh: injecting CSS: https://cdn.pydata.org/bokeh/release/bokeh-widgets-0.12.13.min.css\");\n      Bokeh.embed.inject_css(\"https://cdn.pydata.org/bokeh/release/bokeh-widgets-0.12.13.min.css\");\n      console.log(\"Bokeh: injecting CSS: https://cdn.pydata.org/bokeh/release/bokeh-tables-0.12.13.min.css\");\n      Bokeh.embed.inject_css(\"https://cdn.pydata.org/bokeh/release/bokeh-tables-0.12.13.min.css\");\n    }\n  ];\n\n  function run_inline_js() {\n    \n    if ((root.Bokeh !== undefined) || (force === true)) {\n      for (var i = 0; i < inline_js.length; i++) {\n        inline_js[i].call(root, root.Bokeh);\n      }if (force === true) {\n        display_loaded();\n      }} else if (Date.now() < root._bokeh_timeout) {\n      setTimeout(run_inline_js, 100);\n    } else if (!root._bokeh_failed_load) {\n      console.log(\"Bokeh: BokehJS failed to load within specified timeout.\");\n      root._bokeh_failed_load = true;\n    } else if (force !== true) {\n      var cell = $(document.getElementById(\"43d31544-c5ca-4dd2-bf3c-f27cb2e42c8d\")).parents('.cell').data().cell;\n      cell.output_area.append_execute_result(NB_LOAD_WARNING)\n    }\n\n  }\n\n  if (root._bokeh_is_loading === 0) {\n    console.log(\"Bokeh: BokehJS loaded, going straight to plotting\");\n    run_inline_js();\n  } else {\n    load_libs(js_urls, function() {\n      console.log(\"Bokeh: BokehJS plotting callback run at\", now());\n      run_inline_js();\n    });\n  }\n}(window));"
     },
     "metadata": {},
     "output_type": "display_data"
    },
    {
     "data": {
      "text/markdown": [
       "<h6> #Simulation 186 - Min Error 29.70% , Mean Error 29.76%<h6>"
      ],
      "text/plain": [
       "<IPython.core.display.Markdown object>"
      ]
     },
     "metadata": {},
     "output_type": "display_data"
    },
    {
     "data": {
      "text/markdown": [
       "<h6> #Simulation 182 - Min Error 29.76% , Mean Error 30.03%<h6>"
      ],
      "text/plain": [
       "<IPython.core.display.Markdown object>"
      ]
     },
     "metadata": {},
     "output_type": "display_data"
    }
   ],
   "source": [
    "import numpy as np\n",
    "import pandas as pd\n",
    "from bokeh.io import output_notebook\n",
    "from bokeh.plotting import figure, show, output_file\n",
    "from Outputs.jupyter_graphs import create_graphs, compare_graphs\n",
    "from IPython.display import Markdown, display\n",
    "from IPython.core.interactiveshell import InteractiveShell\n",
    "sim_num = [186, 182]\n",
    "plots, scores = compare_graphs(sim_nums=sim_num, linear=True)\n",
    "output_notebook()\n",
    "for sim in zip(sim_num,scores):\n",
    "    display(Markdown('<h6> #Simulation {:1d} - Min Error {:.2f}% , Mean Error {:.2f}%<h6>'.format(sim[0],sim[1][0],sim[1][1])))"
   ]
  },
  {
   "cell_type": "code",
   "execution_count": 2,
   "metadata": {},
   "outputs": [
    {
     "data": {
      "text/html": [
       "\n",
       "<div class=\"bk-root\">\n",
       "    <div class=\"bk-plotdiv\" id=\"daac1bd4-bc39-4d4f-a188-fe8d7d8c629a\"></div>\n",
       "</div>"
      ]
     },
     "metadata": {},
     "output_type": "display_data"
    },
    {
     "data": {
      "application/javascript": [
       "(function(root) {\n",
       "  function embed_document(root) {\n",
       "    \n",
       "  var docs_json = {\"66d13228-25c0-42ba-a451-bfa193769dd6\":{\"roots\":{\"references\":[{\"attributes\":{\"callback\":null,\"column_names\":[\"x\",\"y\"],\"data\":{\"x\":{\"__ndarray__\":\"AQAAAAIAAAADAAAABAAAAAUAAAAGAAAABwAAAAgAAAAJAAAACgAAAAsAAAAMAAAADQAAAA4AAAAPAAAAEAAAABEAAAASAAAAEwAAABQAAAAVAAAAFgAAABcAAAAYAAAAGQAAABoAAAAbAAAAHAAAAB0AAAAeAAAAHwAAACAAAAAhAAAAIgAAACMAAAAkAAAAJQAAACYAAAAnAAAAKAAAACkAAAAqAAAAKwAAACwAAAAtAAAALgAAAC8AAAAwAAAAMQAAADIAAAAzAAAANAAAADUAAAA2AAAANwAAADgAAAA5AAAAOgAAADsAAAA8AAAAPQAAAD4AAAA/AAAAQAAAAEEAAABCAAAAQwAAAEQAAABFAAAARgAAAEcAAABIAAAASQAAAEoAAABLAAAATAAAAE0AAABOAAAATwAAAFAAAABRAAAAUgAAAFMAAABUAAAAVQAAAFYAAABXAAAAWAAAAFkAAABaAAAA\",\"dtype\":\"int32\",\"shape\":[90]},\"y\":[0.9977645381125178,0.9926379621079765,0.9814294311357683,0.9663868956973751,0.9506980744898353,0.9309090852324705,0.9104870793580533,0.8903530921417961,0.8729525502924552,0.8609798722568152,0.8412111769972667,0.8278912897376108,0.8177224358731126,0.8088188347030183,0.8003086248706431,0.7908828435324683,0.7830618490796057,0.7814828199599119,0.7718993698710476,0.7681925931587292,0.7668204067072181,0.7573423292975849,0.7670038332230793,0.7546916209977447,0.7489343699921055,0.745800508442738,0.7435869016283836,0.7408893610275479,0.7377679880914069,0.7538790805569192,0.5570265234730506,0.5155182735730621,0.49547638988405773,0.48323910934173014,0.47464538190666844,0.46755809352037686,0.46403552386127594,0.460997668532846,0.45932497480833256,0.4567968110307444,0.4565720159804576,0.45458164314304733,0.45396579837057144,0.45295344010467686,0.45115586024384796,0.4510419016423397,0.4490117213459308,0.4475380649056914,0.4465163401814289,0.44432146628940816,0.44200326733250894,0.44159972899508354,0.4393884637999735,0.43746365618036903,0.43610864157304013,0.43479187334722835,0.4322145356537325,0.4317914838560813,0.42999312345527607,0.42789815847558893,0.3553354090436055,0.3425353603378922,0.33847578028195424,0.3344091753821882,0.33067195767906504,0.32924201138469444,0.3269238124270509,0.3239296672478544,0.322985215824429,0.3211720251934305,0.3198919422699275,0.31797415949403196,0.3162437059309914,0.315780066144191,0.3137865711509544,0.31312857730818555,0.3115995026401179,0.3107065667506236,0.30945536374336197,0.30849998477646473,0.30386436740764505,0.30142206285500234,0.30092095722270107,0.30046200065759615,0.30068913732534075,0.29972673351634244,0.299352855637219,0.29973375836356486,0.2995323794650785,0.2995909198380141]}},\"id\":\"cfba0bb9-8c19-490c-9e6a-3b861e4fbd7c\",\"type\":\"ColumnDataSource\"},{\"attributes\":{\"callback\":null},\"id\":\"e023ee17-824c-4f7e-afe6-c7116c6c9923\",\"type\":\"DataRange1d\"},{\"attributes\":{\"callback\":null,\"data\":{}},\"id\":\"9f9f0f03-d6b4-4d1c-a326-4866d5d09ac3\",\"type\":\"ColumnDataSource\"},{\"attributes\":{\"label\":{\"value\":\"train - 256_32_0.9\"},\"renderers\":[{\"id\":\"c5cebc24-387e-4420-89cd-525f4814df3a\",\"type\":\"GlyphRenderer\"}]},\"id\":\"4989cab3-09d3-4ae9-a8d8-c9126b9c9769\",\"type\":\"LegendItem\"},{\"attributes\":{\"source\":{\"id\":\"cfba0bb9-8c19-490c-9e6a-3b861e4fbd7c\",\"type\":\"ColumnDataSource\"}},\"id\":\"281f7e9f-dedf-487e-bbc1-4138080b3fc2\",\"type\":\"CDSView\"},{\"attributes\":{\"callback\":null,\"column_names\":[\"x\",\"y\"],\"data\":{\"x\":{\"__ndarray__\":\"AQAAAAIAAAADAAAABAAAAAUAAAAGAAAABwAAAAgAAAAJAAAACgAAAAsAAAAMAAAADQAAAA4AAAAPAAAAEAAAABEAAAASAAAAEwAAABQAAAAVAAAAFgAAABcAAAAYAAAAGQAAABoAAAAbAAAAHAAAAB0AAAAeAAAAHwAAACAAAAAhAAAAIgAAACMAAAAkAAAAJQAAACYAAAAnAAAAKAAAACkAAAAqAAAAKwAAACwAAAAtAAAALgAAAC8AAAAwAAAAMQAAADIAAAAzAAAANAAAADUAAAA2AAAANwAAADgAAAA5AAAAOgAAADsAAAA8AAAAPQAAAD4AAAA/AAAAQAAAAEEAAABCAAAAQwAAAEQAAABFAAAARgAAAEcAAABIAAAASQAAAEoAAABLAAAATAAAAE0AAABOAAAATwAAAFAAAABRAAAAUgAAAFMAAABUAAAAVQAAAFYAAABXAAAAWAAAAFkAAABaAAAA\",\"dtype\":\"int32\",\"shape\":[90]},\"y\":[0.9959396394068846,0.9829686527985925,0.9670324009282274,0.9479708734299532,0.9254827824944943,0.8873940711866827,0.8444902186834794,0.8021452316518265,0.7622823566319642,0.7291453807342827,0.6969692475679694,0.6698322701103727,0.6468555621555303,0.6242636596143211,0.6060209168665449,0.5898309900261085,0.5736121832650238,0.5590012855480925,0.5486817877763902,0.5362080041076522,0.5271350261141616,0.5188925409403848,0.5101130453706643,0.5020430591789835,0.49516885776700403,0.49086731081860696,0.48349356485267114,0.4790647901488631,0.47386406300006334,0.47010655129349255,0.3874483185983308,0.3746599779737134,0.3696379941051148,0.36550348237139524,0.36284652976549997,0.36045808235909504,0.35787371981676896,0.35511763883997544,0.353421528967056,0.350842630195513,0.34990676468943704,0.3471147789451898,0.3465738658562421,0.34395203747850894,0.3428093293084635,0.3412263974967782,0.33971527521178224,0.3383071839940531,0.3366118546605443,0.3358313162937667,0.33388933683065,0.3323149909435197,0.33103412747414473,0.32940202174774286,0.32869953721826534,0.3273531085281369,0.32621820574529026,0.32494358658637706,0.3235916941367802,0.32224838759982816,0.31544443464191,0.31326282990420884,0.31228091263674157,0.31200069936535574,0.31190469314295916,0.3111022996974559,0.31070656674520447,0.3103584466366494,0.30997598283297095,0.3094147757465903,0.30941789790197005,0.3090369951784231,0.30850700962443156,0.3086810696806147,0.30836573217987573,0.30847891023860874,0.30786852924042946,0.3074337693713592,0.30751338427863734,0.3077537900983493,0.3065252227062763,0.30664620615310134,0.30607485207174095,0.3058531791668593,0.3062442288911028,0.3060116284619841,0.30629886658351035,0.3063613096478717,0.30596011292436087,0.3057501481082273]}},\"id\":\"0f8802b5-76d2-4ea6-a2fe-4c493c08def3\",\"type\":\"ColumnDataSource\"},{\"attributes\":{\"data_source\":{\"id\":\"0f8802b5-76d2-4ea6-a2fe-4c493c08def3\",\"type\":\"ColumnDataSource\"},\"glyph\":{\"id\":\"85b0aaae-3e63-4971-97b5-bc3b5c8fe764\",\"type\":\"Line\"},\"hover_glyph\":null,\"muted_glyph\":null,\"nonselection_glyph\":{\"id\":\"d043b103-4a6f-49f2-bafa-93e3f01cd2b9\",\"type\":\"Line\"},\"selection_glyph\":null,\"view\":{\"id\":\"2f270fda-d501-41cd-bf1a-a5a3c328798f\",\"type\":\"CDSView\"}},\"id\":\"e1331fd7-b329-41d1-a1ef-9b5c5d8f29cd\",\"type\":\"GlyphRenderer\"},{\"attributes\":{\"active_drag\":\"auto\",\"active_inspect\":\"auto\",\"active_scroll\":\"auto\",\"active_tap\":\"auto\",\"tools\":[{\"id\":\"98dad2fa-5bb5-4019-a617-3d6d7bd04fac\",\"type\":\"PanTool\"},{\"id\":\"beeecdc9-7b07-4fbe-8128-c5d90998523a\",\"type\":\"WheelZoomTool\"},{\"id\":\"48b7e4e2-0c99-4016-b6f9-0800cd6de901\",\"type\":\"BoxZoomTool\"},{\"id\":\"3e51605d-1840-431a-8224-c5661e45c382\",\"type\":\"SaveTool\"},{\"id\":\"6361ee27-74ea-4f96-a867-ceff20d2004e\",\"type\":\"ResetTool\"},{\"id\":\"b1c37a84-1372-4b56-98bd-35978632ca02\",\"type\":\"HelpTool\"}]},\"id\":\"766e28ab-1dfe-4279-990a-d57d49396f0d\",\"type\":\"Toolbar\"},{\"attributes\":{\"plot\":null,\"text\":\"Training & Test Error\"},\"id\":\"0ab659f0-c3ed-4185-bd3d-bc81cc30414a\",\"type\":\"Title\"},{\"attributes\":{\"line_alpha\":0.1,\"line_color\":\"#1f77b4\",\"line_width\":3,\"x\":{\"field\":\"x\"},\"y\":{\"field\":\"y\"}},\"id\":\"c282be01-00ae-40aa-a50c-1b1a8392687b\",\"type\":\"Line\"},{\"attributes\":{\"click_policy\":\"hide\",\"items\":[{\"id\":\"67b0a7ec-d367-44ed-850e-476a49fc082f\",\"type\":\"LegendItem\"},{\"id\":\"aa4145da-3fdd-4c1b-894c-11b1c07b2877\",\"type\":\"LegendItem\"},{\"id\":\"4989cab3-09d3-4ae9-a8d8-c9126b9c9769\",\"type\":\"LegendItem\"},{\"id\":\"cfc7d307-97d5-43cf-ab51-594a839cb198\",\"type\":\"LegendItem\"}],\"plot\":{\"id\":\"1a04794a-b58a-4021-acf0-481590c03779\",\"subtype\":\"Figure\",\"type\":\"Plot\"}},\"id\":\"7c0e6775-69d4-4947-83f4-87419ee1ac71\",\"type\":\"Legend\"},{\"attributes\":{\"callback\":null,\"column_names\":[\"x\",\"y\"],\"data\":{\"x\":{\"__ndarray__\":\"AQAAAAIAAAADAAAABAAAAAUAAAAGAAAABwAAAAgAAAAJAAAACgAAAAsAAAAMAAAADQAAAA4AAAAPAAAAEAAAABEAAAASAAAAEwAAABQAAAAVAAAAFgAAABcAAAAYAAAAGQAAABoAAAAbAAAAHAAAAB0AAAAeAAAAHwAAACAAAAAhAAAAIgAAACMAAAAkAAAAJQAAACYAAAAnAAAAKAAAACkAAAAqAAAAKwAAACwAAAAtAAAALgAAAC8AAAAwAAAAMQAAADIAAAAzAAAANAAAADUAAAA2AAAANwAAADgAAAA5AAAAOgAAADsAAAA8AAAAPQAAAD4AAAA/AAAAQAAAAEEAAABCAAAAQwAAAEQAAABFAAAARgAAAEcAAABIAAAASQAAAEoAAABLAAAATAAAAE0AAABOAAAATwAAAFAAAABRAAAAUgAAAFMAAABUAAAAVQAAAFYAAABXAAAAWAAAAFkAAABaAAAA\",\"dtype\":\"int32\",\"shape\":[90]},\"y\":[0.9942399999984741,0.9841999999938964,0.9701399999992372,0.9619400000091552,0.933619999975586,0.9029000000701904,0.8789600001098633,0.8528200000427246,0.8325200000946045,0.8185000000305176,0.8025400000732422,0.7905400001220703,0.7652000000915526,0.7619,0.7511600000488281,0.7361600001525879,0.7497400000793456,0.722480000201416,0.7161000001281738,0.727679999987793,0.6985600001708984,0.6962800002197266,0.7038800002441407,0.7001000001464844,0.7268800000366211,0.7021800000427245,0.6982199999633789,0.69056,0.6792000001586913,0.6557999997924804,0.47800000009765625,0.4532399999633789,0.4428200000854492,0.43063999997558594,0.42680000040283206,0.41803999998779295,0.42176000021972654,0.4158000002807617,0.4111400000732422,0.4119800003173828,0.40914000036621095,0.4090799998535157,0.40812000036621093,0.41926000009765624,0.4067999999145508,0.40638000019531245,0.40761999998779297,0.40711999986572267,0.41267999992675786,0.40646000014648437,0.40178000006103515,0.38894000030517584,0.4017200003417969,0.39241999997558596,0.39208000048828123,0.3905600001464844,0.38766000003662104,0.3855600003540039,0.3841000001464844,0.39280000001220705,0.32562000073242187,0.3224400002685547,0.31964000029296874,0.3172800001953125,0.3139400000244141,0.3120800006347656,0.3130000002441406,0.31170000083007815,0.3102800005859375,0.30882000048828123,0.3070400005126953,0.30663999975585937,0.3080200005126953,0.30522000026855467,0.30560000053710934,0.3052599998535156,0.3037200007324219,0.30278000068359373,0.3035200000732422,0.30349999958496093,0.3012200004638672,0.3003000002197266,0.2980399998046875,0.30032000002441406,0.29835999980468747,0.2994600002685547,0.2987000005615234,0.2976400004638672,0.2980399995605469,0.29806000043945313]}},\"id\":\"b4139864-d134-487c-8389-152c96660937\",\"type\":\"ColumnDataSource\"},{\"attributes\":{\"source\":{\"id\":\"b4139864-d134-487c-8389-152c96660937\",\"type\":\"ColumnDataSource\"}},\"id\":\"9d4be7dc-7d8c-4bb5-8f4d-adcd46d69f8b\",\"type\":\"CDSView\"},{\"attributes\":{\"data_source\":{\"id\":\"b4139864-d134-487c-8389-152c96660937\",\"type\":\"ColumnDataSource\"},\"glyph\":{\"id\":\"c8edffb5-05e1-43f4-a91b-d59275df5c50\",\"type\":\"Line\"},\"hover_glyph\":null,\"muted_glyph\":null,\"nonselection_glyph\":{\"id\":\"c282be01-00ae-40aa-a50c-1b1a8392687b\",\"type\":\"Line\"},\"selection_glyph\":null,\"view\":{\"id\":\"9d4be7dc-7d8c-4bb5-8f4d-adcd46d69f8b\",\"type\":\"CDSView\"}},\"id\":\"120af5dc-0292-4fae-ab1a-c5283399350e\",\"type\":\"GlyphRenderer\"},{\"attributes\":{\"line_alpha\":0.1,\"line_color\":\"#1f77b4\",\"line_dash\":[6],\"line_width\":3,\"x\":{\"field\":\"x\"},\"y\":{\"field\":\"y\"}},\"id\":\"d043b103-4a6f-49f2-bafa-93e3f01cd2b9\",\"type\":\"Line\"},{\"attributes\":{\"line_color\":\"#1f77b4\",\"line_dash\":[6],\"line_width\":3,\"x\":{\"field\":\"x\"},\"y\":{\"field\":\"y\"}},\"id\":\"85b0aaae-3e63-4971-97b5-bc3b5c8fe764\",\"type\":\"Line\"},{\"attributes\":{\"line_color\":\"#ff7f0e\",\"line_width\":3,\"x\":{\"field\":\"x\"},\"y\":{\"field\":\"y\"}},\"id\":\"c8edffb5-05e1-43f4-a91b-d59275df5c50\",\"type\":\"Line\"},{\"attributes\":{},\"id\":\"5945efbb-668c-48df-9e3d-c97952a3d400\",\"type\":\"BasicTickFormatter\"},{\"attributes\":{\"label\":{\"value\":\"validation - 256_32_0.9\"},\"renderers\":[{\"id\":\"120af5dc-0292-4fae-ab1a-c5283399350e\",\"type\":\"GlyphRenderer\"}]},\"id\":\"cfc7d307-97d5-43cf-ab51-594a839cb198\",\"type\":\"LegendItem\"},{\"attributes\":{\"source\":{\"id\":\"0f8802b5-76d2-4ea6-a2fe-4c493c08def3\",\"type\":\"ColumnDataSource\"}},\"id\":\"2f270fda-d501-41cd-bf1a-a5a3c328798f\",\"type\":\"CDSView\"},{\"attributes\":{\"fill_alpha\":{\"value\":0.5},\"fill_color\":{\"value\":\"red\"},\"line_alpha\":{\"value\":0.5},\"line_color\":{\"value\":\"red\"},\"size\":{\"units\":\"screen\",\"value\":5},\"x\":{\"value\":88},\"y\":{\"value\":0.2976400004638672}},\"id\":\"66a55062-ddda-4db1-aaa5-fad9f3af7870\",\"type\":\"Circle\"},{\"attributes\":{\"label\":{\"value\":\"train - 256_32_0.0\"},\"renderers\":[{\"id\":\"e1331fd7-b329-41d1-a1ef-9b5c5d8f29cd\",\"type\":\"GlyphRenderer\"}]},\"id\":\"67b0a7ec-d367-44ed-850e-476a49fc082f\",\"type\":\"LegendItem\"},{\"attributes\":{},\"id\":\"e59e6a84-f0de-423e-82af-a62aeab5fc10\",\"type\":\"LinearScale\"},{\"attributes\":{},\"id\":\"6b3ede7a-f23c-466b-b498-fad13903ab94\",\"type\":\"LinearScale\"},{\"attributes\":{\"callback\":null},\"id\":\"1e6fe218-2917-4687-8e0c-8931d07e7e55\",\"type\":\"DataRange1d\"},{\"attributes\":{\"plot\":{\"id\":\"1a04794a-b58a-4021-acf0-481590c03779\",\"subtype\":\"Figure\",\"type\":\"Plot\"},\"ticker\":{\"id\":\"b9464656-9929-4206-9ea3-939ea8dddfcb\",\"type\":\"BasicTicker\"}},\"id\":\"33ab2788-6b2f-4765-8c05-1ba1b6adcd23\",\"type\":\"Grid\"},{\"attributes\":{\"source\":{\"id\":\"9f9f0f03-d6b4-4d1c-a326-4866d5d09ac3\",\"type\":\"ColumnDataSource\"}},\"id\":\"b80862b3-0115-4f2a-b6d6-571ad27b04ee\",\"type\":\"CDSView\"},{\"attributes\":{\"dimension\":1,\"plot\":{\"id\":\"1a04794a-b58a-4021-acf0-481590c03779\",\"subtype\":\"Figure\",\"type\":\"Plot\"},\"ticker\":{\"id\":\"d258d0d9-87cf-4edf-92d6-bbc03bbb295d\",\"type\":\"BasicTicker\"}},\"id\":\"807cf0a2-7b56-4458-a6dd-ced66242b819\",\"type\":\"Grid\"},{\"attributes\":{\"fill_alpha\":{\"value\":0.1},\"fill_color\":{\"value\":\"#1f77b4\"},\"line_alpha\":{\"value\":0.1},\"line_color\":{\"value\":\"#1f77b4\"},\"size\":{\"units\":\"screen\",\"value\":5},\"x\":{\"value\":88},\"y\":{\"value\":0.2976400004638672}},\"id\":\"651c81a9-9e54-46a1-bfcf-f974a947edfd\",\"type\":\"Circle\"},{\"attributes\":{\"data_source\":{\"id\":\"9f9f0f03-d6b4-4d1c-a326-4866d5d09ac3\",\"type\":\"ColumnDataSource\"},\"glyph\":{\"id\":\"66a55062-ddda-4db1-aaa5-fad9f3af7870\",\"type\":\"Circle\"},\"hover_glyph\":null,\"muted_glyph\":null,\"nonselection_glyph\":{\"id\":\"651c81a9-9e54-46a1-bfcf-f974a947edfd\",\"type\":\"Circle\"},\"selection_glyph\":null,\"view\":{\"id\":\"b80862b3-0115-4f2a-b6d6-571ad27b04ee\",\"type\":\"CDSView\"}},\"id\":\"6e16081e-42b5-44ad-92b8-90d94d09dc4d\",\"type\":\"GlyphRenderer\"},{\"attributes\":{},\"id\":\"b9464656-9929-4206-9ea3-939ea8dddfcb\",\"type\":\"BasicTicker\"},{\"attributes\":{\"axis_label\":\"t [Epochs]\",\"formatter\":{\"id\":\"5945efbb-668c-48df-9e3d-c97952a3d400\",\"type\":\"BasicTickFormatter\"},\"plot\":{\"id\":\"1a04794a-b58a-4021-acf0-481590c03779\",\"subtype\":\"Figure\",\"type\":\"Plot\"},\"ticker\":{\"id\":\"b9464656-9929-4206-9ea3-939ea8dddfcb\",\"type\":\"BasicTicker\"}},\"id\":\"702cfdb1-8f27-4dcb-90c3-bb7df8d38220\",\"type\":\"LinearAxis\"},{\"attributes\":{},\"id\":\"d258d0d9-87cf-4edf-92d6-bbc03bbb295d\",\"type\":\"BasicTicker\"},{\"attributes\":{\"callback\":null,\"data\":{}},\"id\":\"aba8b5e1-956a-4c97-8b9e-7d85c3b3db0b\",\"type\":\"ColumnDataSource\"},{\"attributes\":{\"axis_label\":\"Error Rate\",\"formatter\":{\"id\":\"58a62ea5-a736-4151-a03a-4070d30e7ac2\",\"type\":\"NumeralTickFormatter\"},\"plot\":{\"id\":\"1a04794a-b58a-4021-acf0-481590c03779\",\"subtype\":\"Figure\",\"type\":\"Plot\"},\"ticker\":{\"id\":\"d258d0d9-87cf-4edf-92d6-bbc03bbb295d\",\"type\":\"BasicTicker\"}},\"id\":\"7bb2545a-0586-466b-83c8-fe1cb80ac48e\",\"type\":\"LinearAxis\"},{\"attributes\":{\"line_alpha\":0.1,\"line_color\":\"#1f77b4\",\"line_dash\":[6],\"line_width\":3,\"x\":{\"field\":\"x\"},\"y\":{\"field\":\"y\"}},\"id\":\"e30a63a1-eb8b-46f8-b39b-efc024ca3029\",\"type\":\"Line\"},{\"attributes\":{\"data_source\":{\"id\":\"cfba0bb9-8c19-490c-9e6a-3b861e4fbd7c\",\"type\":\"ColumnDataSource\"},\"glyph\":{\"id\":\"d395d355-96fa-4d9c-a1ca-5c3f7b4517f0\",\"type\":\"Line\"},\"hover_glyph\":null,\"muted_glyph\":null,\"nonselection_glyph\":{\"id\":\"e30a63a1-eb8b-46f8-b39b-efc024ca3029\",\"type\":\"Line\"},\"selection_glyph\":null,\"view\":{\"id\":\"281f7e9f-dedf-487e-bbc1-4138080b3fc2\",\"type\":\"CDSView\"}},\"id\":\"c5cebc24-387e-4420-89cd-525f4814df3a\",\"type\":\"GlyphRenderer\"},{\"attributes\":{\"format\":\"0.0%\"},\"id\":\"58a62ea5-a736-4151-a03a-4070d30e7ac2\",\"type\":\"NumeralTickFormatter\"},{\"attributes\":{\"bottom_units\":\"screen\",\"fill_alpha\":{\"value\":0.5},\"fill_color\":{\"value\":\"lightgrey\"},\"left_units\":\"screen\",\"level\":\"overlay\",\"line_alpha\":{\"value\":1.0},\"line_color\":{\"value\":\"black\"},\"line_dash\":[4,4],\"line_width\":{\"value\":2},\"plot\":null,\"render_mode\":\"css\",\"right_units\":\"screen\",\"top_units\":\"screen\"},\"id\":\"8e994102-eb0c-49c3-a188-bc882292e26e\",\"type\":\"BoxAnnotation\"},{\"attributes\":{},\"id\":\"98dad2fa-5bb5-4019-a617-3d6d7bd04fac\",\"type\":\"PanTool\"},{\"attributes\":{\"line_color\":\"#ff7f0e\",\"line_dash\":[6],\"line_width\":3,\"x\":{\"field\":\"x\"},\"y\":{\"field\":\"y\"}},\"id\":\"d395d355-96fa-4d9c-a1ca-5c3f7b4517f0\",\"type\":\"Line\"},{\"attributes\":{},\"id\":\"beeecdc9-7b07-4fbe-8128-c5d90998523a\",\"type\":\"WheelZoomTool\"},{\"attributes\":{\"overlay\":{\"id\":\"8e994102-eb0c-49c3-a188-bc882292e26e\",\"type\":\"BoxAnnotation\"}},\"id\":\"48b7e4e2-0c99-4016-b6f9-0800cd6de901\",\"type\":\"BoxZoomTool\"},{\"attributes\":{},\"id\":\"3e51605d-1840-431a-8224-c5661e45c382\",\"type\":\"SaveTool\"},{\"attributes\":{},\"id\":\"6361ee27-74ea-4f96-a867-ceff20d2004e\",\"type\":\"ResetTool\"},{\"attributes\":{},\"id\":\"b1c37a84-1372-4b56-98bd-35978632ca02\",\"type\":\"HelpTool\"},{\"attributes\":{\"line_alpha\":0.1,\"line_color\":\"#1f77b4\",\"line_width\":3,\"x\":{\"field\":\"x\"},\"y\":{\"field\":\"y\"}},\"id\":\"3afcdc0f-cd82-410e-9ed0-2e35e5e5240e\",\"type\":\"Line\"},{\"attributes\":{\"callback\":null,\"column_names\":[\"x\",\"y\"],\"data\":{\"x\":{\"__ndarray__\":\"AQAAAAIAAAADAAAABAAAAAUAAAAGAAAABwAAAAgAAAAJAAAACgAAAAsAAAAMAAAADQAAAA4AAAAPAAAAEAAAABEAAAASAAAAEwAAABQAAAAVAAAAFgAAABcAAAAYAAAAGQAAABoAAAAbAAAAHAAAAB0AAAAeAAAAHwAAACAAAAAhAAAAIgAAACMAAAAkAAAAJQAAACYAAAAnAAAAKAAAACkAAAAqAAAAKwAAACwAAAAtAAAALgAAAC8AAAAwAAAAMQAAADIAAAAzAAAANAAAADUAAAA2AAAANwAAADgAAAA5AAAAOgAAADsAAAA8AAAAPQAAAD4AAAA/AAAAQAAAAEEAAABCAAAAQwAAAEQAAABFAAAARgAAAEcAAABIAAAASQAAAEoAAABLAAAATAAAAE0AAABOAAAATwAAAFAAAABRAAAAUgAAAFMAAABUAAAAVQAAAFYAAABXAAAAWAAAAFkAAABaAAAA\",\"dtype\":\"int32\",\"shape\":[90]},\"y\":[0.9880800000013352,0.9865599999938965,0.9800400000125884,0.9612000000350952,0.9625800000122071,0.9774000000167846,0.940580000024414,0.9210800000259399,0.8568800000518799,0.8306400000854492,0.8019000000427247,0.8124400000305175,0.7809800000854491,0.6870600002441407,0.7621400001464843,0.7931800000793457,0.696840000036621,0.6726600002929688,0.6698800002075196,0.6702400001403808,0.724420000164795,0.7126200001953126,0.7011200002014161,0.5643999998779297,0.7028000001586914,0.6483200001342773,0.6427799999877929,0.5441999998046875,0.5689800001464844,0.542240000390625,0.3423400003173828,0.33600000073242187,0.3317600001708984,0.33063999985351566,0.32846000017089844,0.3274600000488281,0.3256800002685547,0.32514000078125,0.32381999968261715,0.3218400001708984,0.32173999995117186,0.31880000041503903,0.3181000000488281,0.3196200001708984,0.3162999995849609,0.3159600002929687,0.31486000029296873,0.3160999998779297,0.33057999997558596,0.3186600003173828,0.31363999997558595,0.31228000078125,0.31115999975585934,0.31789999978027345,0.3107000007080078,0.31082,0.3105999996826172,0.3109399996826172,0.3071400002685547,0.30874000080566405,0.30146000056152344,0.30052000078125,0.2996000007080078,0.2999200006591797,0.29979999958496095,0.29894000053710934,0.2991200006591797,0.29968,0.2994400008056641,0.2991999995605469,0.29967999968261716,0.2988200006103516,0.29867999960937497,0.2987600000732422,0.2980999997802734,0.2988799998291016,0.29808000083007813,0.2975599998291016,0.29813999997558593,0.29762000034179686,0.297459999975586,0.29788000007324217,0.29779999956054687,0.29735999978027344,0.29784000048828124,0.29701999978027344,0.2973599995605469,0.2971000005126953,0.2977199998535156,0.29724000073242185]}},\"id\":\"3dc08f51-3ddb-4193-ac6a-27b7d56a15c2\",\"type\":\"ColumnDataSource\"},{\"attributes\":{\"source\":{\"id\":\"3dc08f51-3ddb-4193-ac6a-27b7d56a15c2\",\"type\":\"ColumnDataSource\"}},\"id\":\"a215d78e-d490-45e9-9f24-fae13c43036b\",\"type\":\"CDSView\"},{\"attributes\":{\"data_source\":{\"id\":\"3dc08f51-3ddb-4193-ac6a-27b7d56a15c2\",\"type\":\"ColumnDataSource\"},\"glyph\":{\"id\":\"0cf0369b-43bd-4c81-9066-8b3afe7fe850\",\"type\":\"Line\"},\"hover_glyph\":null,\"muted_glyph\":null,\"nonselection_glyph\":{\"id\":\"3afcdc0f-cd82-410e-9ed0-2e35e5e5240e\",\"type\":\"Line\"},\"selection_glyph\":null,\"view\":{\"id\":\"a215d78e-d490-45e9-9f24-fae13c43036b\",\"type\":\"CDSView\"}},\"id\":\"7b0ef8aa-a67f-4ad4-9bad-ec746f2053b0\",\"type\":\"GlyphRenderer\"},{\"attributes\":{\"line_color\":\"#1f77b4\",\"line_width\":3,\"x\":{\"field\":\"x\"},\"y\":{\"field\":\"y\"}},\"id\":\"0cf0369b-43bd-4c81-9066-8b3afe7fe850\",\"type\":\"Line\"},{\"attributes\":{\"label\":{\"value\":\"validation - 256_32_0.0\"},\"renderers\":[{\"id\":\"7b0ef8aa-a67f-4ad4-9bad-ec746f2053b0\",\"type\":\"GlyphRenderer\"}]},\"id\":\"aa4145da-3fdd-4c1b-894c-11b1c07b2877\",\"type\":\"LegendItem\"},{\"attributes\":{\"data_source\":{\"id\":\"aba8b5e1-956a-4c97-8b9e-7d85c3b3db0b\",\"type\":\"ColumnDataSource\"},\"glyph\":{\"id\":\"c7475528-0cda-42fb-ab75-004a3c92763f\",\"type\":\"Circle\"},\"hover_glyph\":null,\"muted_glyph\":null,\"nonselection_glyph\":{\"id\":\"0b42ef64-c6dc-4a7c-928b-0b7a20c063f2\",\"type\":\"Circle\"},\"selection_glyph\":null,\"view\":{\"id\":\"3ebbdc69-ad60-467d-b1e1-62f9b1bdf6b0\",\"type\":\"CDSView\"}},\"id\":\"ef94dbe3-4039-4df1-a2de-44104762c07b\",\"type\":\"GlyphRenderer\"},{\"attributes\":{\"fill_alpha\":{\"value\":0.1},\"fill_color\":{\"value\":\"#1f77b4\"},\"line_alpha\":{\"value\":0.1},\"line_color\":{\"value\":\"#1f77b4\"},\"size\":{\"units\":\"screen\",\"value\":5},\"x\":{\"value\":86},\"y\":{\"value\":0.29701999978027344}},\"id\":\"0b42ef64-c6dc-4a7c-928b-0b7a20c063f2\",\"type\":\"Circle\"},{\"attributes\":{\"background_fill_color\":{\"value\":\"#fafafa\"},\"below\":[{\"id\":\"702cfdb1-8f27-4dcb-90c3-bb7df8d38220\",\"type\":\"LinearAxis\"}],\"left\":[{\"id\":\"7bb2545a-0586-466b-83c8-fe1cb80ac48e\",\"type\":\"LinearAxis\"}],\"min_border\":10,\"min_border_left\":50,\"renderers\":[{\"id\":\"702cfdb1-8f27-4dcb-90c3-bb7df8d38220\",\"type\":\"LinearAxis\"},{\"id\":\"33ab2788-6b2f-4765-8c05-1ba1b6adcd23\",\"type\":\"Grid\"},{\"id\":\"7bb2545a-0586-466b-83c8-fe1cb80ac48e\",\"type\":\"LinearAxis\"},{\"id\":\"807cf0a2-7b56-4458-a6dd-ced66242b819\",\"type\":\"Grid\"},{\"id\":\"8e994102-eb0c-49c3-a188-bc882292e26e\",\"type\":\"BoxAnnotation\"},{\"id\":\"7c0e6775-69d4-4947-83f4-87419ee1ac71\",\"type\":\"Legend\"},{\"id\":\"e1331fd7-b329-41d1-a1ef-9b5c5d8f29cd\",\"type\":\"GlyphRenderer\"},{\"id\":\"7b0ef8aa-a67f-4ad4-9bad-ec746f2053b0\",\"type\":\"GlyphRenderer\"},{\"id\":\"ef94dbe3-4039-4df1-a2de-44104762c07b\",\"type\":\"GlyphRenderer\"},{\"id\":\"c5cebc24-387e-4420-89cd-525f4814df3a\",\"type\":\"GlyphRenderer\"},{\"id\":\"120af5dc-0292-4fae-ab1a-c5283399350e\",\"type\":\"GlyphRenderer\"},{\"id\":\"6e16081e-42b5-44ad-92b8-90d94d09dc4d\",\"type\":\"GlyphRenderer\"}],\"title\":{\"id\":\"0ab659f0-c3ed-4185-bd3d-bc81cc30414a\",\"type\":\"Title\"},\"toolbar\":{\"id\":\"766e28ab-1dfe-4279-990a-d57d49396f0d\",\"type\":\"Toolbar\"},\"x_range\":{\"id\":\"e023ee17-824c-4f7e-afe6-c7116c6c9923\",\"type\":\"DataRange1d\"},\"x_scale\":{\"id\":\"6b3ede7a-f23c-466b-b498-fad13903ab94\",\"type\":\"LinearScale\"},\"y_range\":{\"id\":\"1e6fe218-2917-4687-8e0c-8931d07e7e55\",\"type\":\"DataRange1d\"},\"y_scale\":{\"id\":\"e59e6a84-f0de-423e-82af-a62aeab5fc10\",\"type\":\"LinearScale\"}},\"id\":\"1a04794a-b58a-4021-acf0-481590c03779\",\"subtype\":\"Figure\",\"type\":\"Plot\"},{\"attributes\":{\"source\":{\"id\":\"aba8b5e1-956a-4c97-8b9e-7d85c3b3db0b\",\"type\":\"ColumnDataSource\"}},\"id\":\"3ebbdc69-ad60-467d-b1e1-62f9b1bdf6b0\",\"type\":\"CDSView\"},{\"attributes\":{\"fill_alpha\":{\"value\":0.5},\"fill_color\":{\"value\":\"red\"},\"line_alpha\":{\"value\":0.5},\"line_color\":{\"value\":\"red\"},\"size\":{\"units\":\"screen\",\"value\":5},\"x\":{\"value\":86},\"y\":{\"value\":0.29701999978027344}},\"id\":\"c7475528-0cda-42fb-ab75-004a3c92763f\",\"type\":\"Circle\"}],\"root_ids\":[\"1a04794a-b58a-4021-acf0-481590c03779\"]},\"title\":\"Bokeh Application\",\"version\":\"0.12.13\"}};\n",
       "  var render_items = [{\"docid\":\"66d13228-25c0-42ba-a451-bfa193769dd6\",\"elementid\":\"daac1bd4-bc39-4d4f-a188-fe8d7d8c629a\",\"modelid\":\"1a04794a-b58a-4021-acf0-481590c03779\"}];\n",
       "  root.Bokeh.embed.embed_items_notebook(docs_json, render_items);\n",
       "\n",
       "  }\n",
       "  if (root.Bokeh !== undefined) {\n",
       "    embed_document(root);\n",
       "  } else {\n",
       "    var attempts = 0;\n",
       "    var timer = setInterval(function(root) {\n",
       "      if (root.Bokeh !== undefined) {\n",
       "        embed_document(root);\n",
       "        clearInterval(timer);\n",
       "      }\n",
       "      attempts++;\n",
       "      if (attempts > 100) {\n",
       "        console.log(\"Bokeh: ERROR: Unable to run BokehJS code because BokehJS library is missing\")\n",
       "        clearInterval(timer);\n",
       "      }\n",
       "    }, 10, root)\n",
       "  }\n",
       "})(window);"
      ],
      "application/vnd.bokehjs_exec.v0+json": ""
     },
     "metadata": {
      "application/vnd.bokehjs_exec.v0+json": {
       "id": "1a04794a-b58a-4021-acf0-481590c03779"
      }
     },
     "output_type": "display_data"
    }
   ],
   "source": [
    "show(plots[1])"
   ]
  },
  {
   "cell_type": "code",
   "execution_count": 3,
   "metadata": {},
   "outputs": [
    {
     "data": {
      "text/html": [
       "\n",
       "<div class=\"bk-root\">\n",
       "    <div class=\"bk-plotdiv\" id=\"1f9a859b-fd84-4c55-a58d-e091ec677c26\"></div>\n",
       "</div>"
      ]
     },
     "metadata": {},
     "output_type": "display_data"
    },
    {
     "data": {
      "application/javascript": [
       "(function(root) {\n",
       "  function embed_document(root) {\n",
       "    \n",
       "  var docs_json = {\"3fee53fc-d845-446d-9f13-c96d0d3fdae7\":{\"roots\":{\"references\":[{\"attributes\":{\"label\":{\"value\":\"validation - 256_32_0.9\"},\"renderers\":[{\"id\":\"e1e54d06-84a7-4790-a080-929892dc6fe7\",\"type\":\"GlyphRenderer\"}]},\"id\":\"4a2a810c-3efd-4a0f-9539-2decabbcce86\",\"type\":\"LegendItem\"},{\"attributes\":{\"source\":{\"id\":\"3acf12b3-0847-432f-b202-6f9c8d7b0e3d\",\"type\":\"ColumnDataSource\"}},\"id\":\"608ec00c-d246-4df0-8e61-5fcf79c3fa1a\",\"type\":\"CDSView\"},{\"attributes\":{\"line_color\":\"#ff7f0e\",\"line_width\":3,\"x\":{\"field\":\"x\"},\"y\":{\"field\":\"y\"}},\"id\":\"7332917b-d357-4a34-b823-c0468d758ab8\",\"type\":\"Line\"},{\"attributes\":{\"data_source\":{\"id\":\"f8758d81-aa16-418a-a4aa-66a3a07b63a8\",\"type\":\"ColumnDataSource\"},\"glyph\":{\"id\":\"7332917b-d357-4a34-b823-c0468d758ab8\",\"type\":\"Line\"},\"hover_glyph\":null,\"muted_glyph\":null,\"nonselection_glyph\":{\"id\":\"2d12dedd-c530-4f74-94f3-296736ab5aa8\",\"type\":\"Line\"},\"selection_glyph\":null,\"view\":{\"id\":\"589aab9a-fa09-4735-8d7d-6497aed2e3e6\",\"type\":\"CDSView\"}},\"id\":\"e1e54d06-84a7-4790-a080-929892dc6fe7\",\"type\":\"GlyphRenderer\"},{\"attributes\":{\"source\":{\"id\":\"f8758d81-aa16-418a-a4aa-66a3a07b63a8\",\"type\":\"ColumnDataSource\"}},\"id\":\"589aab9a-fa09-4735-8d7d-6497aed2e3e6\",\"type\":\"CDSView\"},{\"attributes\":{\"data_source\":{\"id\":\"3acf12b3-0847-432f-b202-6f9c8d7b0e3d\",\"type\":\"ColumnDataSource\"},\"glyph\":{\"id\":\"fca99b79-8908-44b9-907d-a2802c1ddf48\",\"type\":\"Line\"},\"hover_glyph\":null,\"muted_glyph\":null,\"nonselection_glyph\":{\"id\":\"4625aa9c-b4fb-4541-a2cf-e9f1025bedae\",\"type\":\"Line\"},\"selection_glyph\":null,\"view\":{\"id\":\"608ec00c-d246-4df0-8e61-5fcf79c3fa1a\",\"type\":\"CDSView\"}},\"id\":\"40b41930-3de4-4c48-9a56-825c4b3c5354\",\"type\":\"GlyphRenderer\"},{\"attributes\":{\"callback\":null,\"column_names\":[\"x\",\"y\"],\"data\":{\"x\":{\"__ndarray__\":\"AQAAAAIAAAADAAAABAAAAAUAAAAGAAAABwAAAAgAAAAJAAAACgAAAAsAAAAMAAAADQAAAA4AAAAPAAAAEAAAABEAAAASAAAAEwAAABQAAAAVAAAAFgAAABcAAAAYAAAAGQAAABoAAAAbAAAAHAAAAB0AAAAeAAAAHwAAACAAAAAhAAAAIgAAACMAAAAkAAAAJQAAACYAAAAnAAAAKAAAACkAAAAqAAAAKwAAACwAAAAtAAAALgAAAC8AAAAwAAAAMQAAADIAAAAzAAAANAAAADUAAAA2AAAANwAAADgAAAA5AAAAOgAAADsAAAA8AAAAPQAAAD4AAAA/AAAAQAAAAEEAAABCAAAAQwAAAEQAAABFAAAARgAAAEcAAABIAAAASQAAAEoAAABLAAAATAAAAE0AAABOAAAATwAAAFAAAABRAAAAUgAAAFMAAABUAAAAVQAAAFYAAABXAAAAWAAAAFkAAABaAAAA\",\"dtype\":\"int32\",\"shape\":[90]},\"y\":[6.684368704681397,6.301052031860351,5.983388004455566,5.809685729522705,5.4279826979064945,5.072578134765625,4.8508683895874025,4.582627206115722,4.439033180541992,4.251998538208007,4.178113927612305,4.03459627494812,3.9025635148620608,3.829204631881714,3.7805419815826418,3.703020422973633,3.754750323562622,3.577164966964722,3.532659663772583,3.596162154388428,3.3771857927703857,3.3944456577301025,3.419662246322632,3.4420918588256835,3.62278922958374,3.4423690686798096,3.3913656705474855,3.3934203304290773,3.3037131169128418,3.119012672653198,2.1104107190704346,1.979351838684082,1.916534741859436,1.8479812726211549,1.8149941402816772,1.777331967277527,1.795334570388794,1.7655234382629394,1.74703995098114,1.7493265328216552,1.736659230155945,1.7463661530303956,1.7282752516937256,1.777049214363098,1.7169295260620117,1.7240967129516602,1.7185259914779663,1.7182189167785644,1.7403274382400513,1.7224157206726074,1.6908273823547364,1.6432470650482178,1.6893995923233032,1.648504856185913,1.6452287615585328,1.6304090379714966,1.6171980717468262,1.6175048624038697,1.6074032542419434,1.6524743157196045,1.3371934749603271,1.31681396648407,1.3044888473510743,1.2930212939453125,1.2837028562164308,1.2784678254318238,1.2719999919128417,1.2665671665191651,1.2609908853912353,1.2552720064544678,1.2505442894744874,1.2489328957748413,1.2431212587738036,1.239163977279663,1.2383233854675293,1.2346665226364135,1.234123540725708,1.2323118352508544,1.2302659345245361,1.2267203439331054,1.215208977470398,1.2139290182113647,1.2114440723419189,1.210960729675293,1.20940438747406,1.2090801078796387,1.2085383389282227,1.2090788940429686,1.2054964931488037,1.2088187656021119]}},\"id\":\"f8758d81-aa16-418a-a4aa-66a3a07b63a8\",\"type\":\"ColumnDataSource\"},{\"attributes\":{\"line_alpha\":0.1,\"line_color\":\"#1f77b4\",\"line_width\":3,\"x\":{\"field\":\"x\"},\"y\":{\"field\":\"y\"}},\"id\":\"2d12dedd-c530-4f74-94f3-296736ab5aa8\",\"type\":\"Line\"},{\"attributes\":{\"callback\":null,\"column_names\":[\"x\",\"y\"],\"data\":{\"x\":{\"__ndarray__\":\"AQAAAAIAAAADAAAABAAAAAUAAAAGAAAABwAAAAgAAAAJAAAACgAAAAsAAAAMAAAADQAAAA4AAAAPAAAAEAAAABEAAAASAAAAEwAAABQAAAAVAAAAFgAAABcAAAAYAAAAGQAAABoAAAAbAAAAHAAAAB0AAAAeAAAAHwAAACAAAAAhAAAAIgAAACMAAAAkAAAAJQAAACYAAAAnAAAAKAAAACkAAAAqAAAAKwAAACwAAAAtAAAALgAAAC8AAAAwAAAAMQAAADIAAAAzAAAANAAAADUAAAA2AAAANwAAADgAAAA5AAAAOgAAADsAAAA8AAAAPQAAAD4AAAA/AAAAQAAAAEEAAABCAAAAQwAAAEQAAABFAAAARgAAAEcAAABIAAAASQAAAEoAAABLAAAATAAAAE0AAABOAAAATwAAAFAAAABRAAAAUgAAAFMAAABUAAAAVQAAAFYAAABXAAAAWAAAAFkAAABaAAAA\",\"dtype\":\"int32\",\"shape\":[90]},\"y\":[7.005383278889722,6.574593912363236,6.215295880509343,5.915329940926287,5.682947637597931,5.431842535565365,5.200884099383,5.000503496334687,4.832243776429383,4.732702042658734,4.558399953288769,4.445700257352669,4.357507799858053,4.292472607606715,4.2160769088350945,4.152080014823095,4.082620819306747,4.08249426238106,4.007555520137938,3.97694369308559,3.9734921190987182,3.8959824714807123,3.980848818435887,3.8764659782554722,3.8355011700057324,3.8095698824865387,3.7974346415785765,3.775409686724203,3.7534723484072874,3.892555871946773,2.613707809607718,2.3668702942867843,2.252724445009092,2.182236282057868,2.133097605190348,2.0965424520357825,2.072907147496005,2.0546052502334624,2.044514368216313,2.033848173549739,2.0266876434069245,2.018854694791972,2.0117771574882393,2.0100889746897317,1.9972274565515515,1.996261891919351,1.9850454583345374,1.9775311415923544,1.9724041189793518,1.9619322559270398,1.950764417522143,1.9452423358596154,1.9340447822733842,1.9250825350174856,1.9166317552886092,1.9090641867616323,1.8985169386895846,1.894077606612207,1.885180530986148,1.8734401958874423,1.541930165096248,1.478276064384912,1.454559883836074,1.4362034214202486,1.4201052949239164,1.4090653044077488,1.397864906290759,1.3854560092810781,1.3799170171631743,1.3705278402187802,1.363176218851005,1.354338353073501,1.346150611613162,1.343975208086259,1.3336621713104475,1.3303513048366156,1.3247207951668705,1.3191015564153832,1.312220671709054,1.308013258473204,1.286817283039062,1.2765335266205722,1.2754385950893672,1.272703753859541,1.2737836164969614,1.2691294360562997,1.2680724080889452,1.268192297629234,1.2686224619726114,1.26794059234689]}},\"id\":\"ec72ee34-300e-4a36-a3ab-36e44ef55a95\",\"type\":\"ColumnDataSource\"},{\"attributes\":{\"line_color\":\"#ff7f0e\",\"line_dash\":[6],\"line_width\":3,\"x\":{\"field\":\"x\"},\"y\":{\"field\":\"y\"}},\"id\":\"79d6c123-7e22-4644-a191-15bfd90f7455\",\"type\":\"Line\"},{\"attributes\":{\"line_alpha\":0.1,\"line_color\":\"#1f77b4\",\"line_dash\":[6],\"line_width\":3,\"x\":{\"field\":\"x\"},\"y\":{\"field\":\"y\"}},\"id\":\"55abc1ee-d9bf-4151-80f1-47c333426be2\",\"type\":\"Line\"},{\"attributes\":{\"data_source\":{\"id\":\"ec72ee34-300e-4a36-a3ab-36e44ef55a95\",\"type\":\"ColumnDataSource\"},\"glyph\":{\"id\":\"79d6c123-7e22-4644-a191-15bfd90f7455\",\"type\":\"Line\"},\"hover_glyph\":null,\"muted_glyph\":null,\"nonselection_glyph\":{\"id\":\"55abc1ee-d9bf-4151-80f1-47c333426be2\",\"type\":\"Line\"},\"selection_glyph\":null,\"view\":{\"id\":\"92b18f02-e987-426a-afed-ea058320c9b7\",\"type\":\"CDSView\"}},\"id\":\"b5231b59-ba48-43ef-b178-7ef1423ad243\",\"type\":\"GlyphRenderer\"},{\"attributes\":{\"source\":{\"id\":\"ec72ee34-300e-4a36-a3ab-36e44ef55a95\",\"type\":\"ColumnDataSource\"}},\"id\":\"92b18f02-e987-426a-afed-ea058320c9b7\",\"type\":\"CDSView\"},{\"attributes\":{\"label\":{\"value\":\"train - 256_32_0.9\"},\"renderers\":[{\"id\":\"b5231b59-ba48-43ef-b178-7ef1423ad243\",\"type\":\"GlyphRenderer\"}]},\"id\":\"3a8e4812-11ef-41bd-be35-382989236e60\",\"type\":\"LegendItem\"},{\"attributes\":{\"callback\":null,\"column_names\":[\"x\",\"y\"],\"data\":{\"x\":{\"__ndarray__\":\"AQAAAAIAAAADAAAABAAAAAUAAAAGAAAABwAAAAgAAAAJAAAACgAAAAsAAAAMAAAADQAAAA4AAAAPAAAAEAAAABEAAAASAAAAEwAAABQAAAAVAAAAFgAAABcAAAAYAAAAGQAAABoAAAAbAAAAHAAAAB0AAAAeAAAAHwAAACAAAAAhAAAAIgAAACMAAAAkAAAAJQAAACYAAAAnAAAAKAAAACkAAAAqAAAAKwAAACwAAAAtAAAALgAAAC8AAAAwAAAAMQAAADIAAAAzAAAANAAAADUAAAA2AAAANwAAADgAAAA5AAAAOgAAADsAAAA8AAAAPQAAAD4AAAA/AAAAQAAAAEEAAABCAAAAQwAAAEQAAABFAAAARgAAAEcAAABIAAAASQAAAEoAAABLAAAATAAAAE0AAABOAAAATwAAAFAAAABRAAAAUgAAAFMAAABUAAAAVQAAAFYAAABXAAAAWAAAAFkAAABaAAAA\",\"dtype\":\"int32\",\"shape\":[90]},\"y\":[6.807108167365884,6.271101671468312,5.899404008236738,5.578367306620069,5.284031599615437,4.872546510659855,4.474151203877548,4.126488951768393,3.833474714564686,3.600416015366992,3.3906694323086803,3.2191162016113566,3.0723885810698266,2.9392639626968107,2.83161442015842,2.7381549405893937,2.6475182873574323,2.5669839860485637,2.5072840305628703,2.439197372520744,2.3882733323339034,2.3460329970043325,2.29908636896957,2.259536689072431,2.2217947071714597,2.1934785855685806,2.1599327952245027,2.1357588814568165,2.1093156156286255,2.0904636262139653,1.6994253412408664,1.6339821899292024,1.6099474861207372,1.5898479369889431,1.5731010697461696,1.5609569545456226,1.5486692343135602,1.5353481562662445,1.5241123301357635,1.5129195562990465,1.507481779911475,1.495597906968752,1.4886419786063312,1.4789909602005429,1.473279633955873,1.4634988009512573,1.457490257705983,1.449565698615518,1.4405877569925811,1.4357750007613186,1.4283410147561457,1.4207871368191793,1.4156844250470189,1.4077041435539377,1.4027042682635098,1.39656685690944,1.3916755176196756,1.3849148827097215,1.3804118951081186,1.374067715617281,1.3427426619493796,1.3321909647541614,1.3272826968712863,1.3252762435888552,1.3254151987448697,1.3224703709330927,1.3208289708257646,1.318651100995834,1.317019830590618,1.314097336987938,1.315563654382756,1.3126628599200314,1.3106223667872818,1.3119777658649678,1.309571157856693,1.309298852811393,1.308632752376238,1.305002323739627,1.3048466275131636,1.3044798320384379,1.301256491394968,1.3015983586313695,1.2990947924443128,1.2990478985370828,1.3002827288441001,1.3007374130255827,1.2983188453901149,1.3002836342062398,1.298084697515934,1.2984898121766055]}},\"id\":\"3acf12b3-0847-432f-b202-6f9c8d7b0e3d\",\"type\":\"ColumnDataSource\"},{\"attributes\":{\"callback\":null},\"id\":\"e4239f96-0c1e-488f-af69-d12f0e4c11d7\",\"type\":\"DataRange1d\"},{\"attributes\":{\"active_drag\":\"auto\",\"active_inspect\":\"auto\",\"active_scroll\":\"auto\",\"active_tap\":\"auto\",\"tools\":[{\"id\":\"297aee1a-d5d8-4704-afdf-bb9b3721dbb6\",\"type\":\"PanTool\"},{\"id\":\"44ae8925-3335-43f9-8ebb-30d70aab0ba4\",\"type\":\"WheelZoomTool\"},{\"id\":\"7b7a6954-681d-4dbf-afe1-7c0d504e1cc6\",\"type\":\"BoxZoomTool\"},{\"id\":\"b47e795d-c596-4cbf-a1d0-f9d48df71702\",\"type\":\"SaveTool\"},{\"id\":\"d647bcf6-6ab1-4664-8efd-eca8325bbc00\",\"type\":\"ResetTool\"},{\"id\":\"e8a01dfe-4a8a-4c38-a714-dc8f77456b63\",\"type\":\"HelpTool\"}]},\"id\":\"dc3e1d09-f98c-480a-b4fe-280c3e9e2c3c\",\"type\":\"Toolbar\"},{\"attributes\":{\"label\":{\"value\":\"train - 256_32_0.0\"},\"renderers\":[{\"id\":\"40b41930-3de4-4c48-9a56-825c4b3c5354\",\"type\":\"GlyphRenderer\"}]},\"id\":\"9ac34eca-60aa-44e2-ab56-0a9facc7dc9c\",\"type\":\"LegendItem\"},{\"attributes\":{\"background_fill_color\":{\"value\":\"#fafafa\"},\"below\":[{\"id\":\"66b81909-6509-45a5-af01-686ddb339615\",\"type\":\"LinearAxis\"}],\"left\":[{\"id\":\"16c03680-11dd-46ec-9edc-f2518da427ee\",\"type\":\"LogAxis\"}],\"min_border\":10,\"min_border_left\":50,\"renderers\":[{\"id\":\"66b81909-6509-45a5-af01-686ddb339615\",\"type\":\"LinearAxis\"},{\"id\":\"d41a9deb-b1e1-4576-9f4c-a21cf5eb2aa6\",\"type\":\"Grid\"},{\"id\":\"16c03680-11dd-46ec-9edc-f2518da427ee\",\"type\":\"LogAxis\"},{\"id\":\"f33d8eb6-ca26-409c-86d4-7c80a056b825\",\"type\":\"Grid\"},{\"id\":\"90060571-a297-4538-b27b-ba63b9af0fb0\",\"type\":\"BoxAnnotation\"},{\"id\":\"d05f43aa-9bce-47cc-a35c-597d08f2abf3\",\"type\":\"Legend\"},{\"id\":\"40b41930-3de4-4c48-9a56-825c4b3c5354\",\"type\":\"GlyphRenderer\"},{\"id\":\"8d80684a-0049-4c42-afe6-5fe89009139c\",\"type\":\"GlyphRenderer\"},{\"id\":\"b5231b59-ba48-43ef-b178-7ef1423ad243\",\"type\":\"GlyphRenderer\"},{\"id\":\"e1e54d06-84a7-4790-a080-929892dc6fe7\",\"type\":\"GlyphRenderer\"}],\"title\":{\"id\":\"900f624b-ad73-4a11-8c01-08d0e229f61d\",\"type\":\"Title\"},\"toolbar\":{\"id\":\"dc3e1d09-f98c-480a-b4fe-280c3e9e2c3c\",\"type\":\"Toolbar\"},\"x_range\":{\"id\":\"e4239f96-0c1e-488f-af69-d12f0e4c11d7\",\"type\":\"DataRange1d\"},\"x_scale\":{\"id\":\"9f7da1de-3265-4c15-bb47-420880daa4ae\",\"type\":\"LinearScale\"},\"y_range\":{\"id\":\"7a0b2105-57bc-47a1-b3a1-e38f8e1ff6d0\",\"type\":\"DataRange1d\"},\"y_scale\":{\"id\":\"32f82a89-3315-45bd-9064-dd156b920c6c\",\"type\":\"LogScale\"}},\"id\":\"fc44eed0-d00b-40e8-8f2f-40c23ff24e5e\",\"subtype\":\"Figure\",\"type\":\"Plot\"},{\"attributes\":{},\"id\":\"9f7da1de-3265-4c15-bb47-420880daa4ae\",\"type\":\"LinearScale\"},{\"attributes\":{\"callback\":null},\"id\":\"7a0b2105-57bc-47a1-b3a1-e38f8e1ff6d0\",\"type\":\"DataRange1d\"},{\"attributes\":{\"num_minor_ticks\":10},\"id\":\"131ea0bd-43b8-4a8b-a4a7-ee6466d55469\",\"type\":\"LogTicker\"},{\"attributes\":{\"axis_label\":\"t [Epochs]\",\"formatter\":{\"id\":\"8829413f-db16-4199-88d1-59602cc23bad\",\"type\":\"BasicTickFormatter\"},\"plot\":{\"id\":\"fc44eed0-d00b-40e8-8f2f-40c23ff24e5e\",\"subtype\":\"Figure\",\"type\":\"Plot\"},\"ticker\":{\"id\":\"854c8174-6c7c-471d-bfed-72f1a80e9e30\",\"type\":\"BasicTicker\"}},\"id\":\"66b81909-6509-45a5-af01-686ddb339615\",\"type\":\"LinearAxis\"},{\"attributes\":{},\"id\":\"854c8174-6c7c-471d-bfed-72f1a80e9e30\",\"type\":\"BasicTicker\"},{\"attributes\":{\"plot\":{\"id\":\"fc44eed0-d00b-40e8-8f2f-40c23ff24e5e\",\"subtype\":\"Figure\",\"type\":\"Plot\"},\"ticker\":{\"id\":\"854c8174-6c7c-471d-bfed-72f1a80e9e30\",\"type\":\"BasicTicker\"}},\"id\":\"d41a9deb-b1e1-4576-9f4c-a21cf5eb2aa6\",\"type\":\"Grid\"},{\"attributes\":{},\"id\":\"32f82a89-3315-45bd-9064-dd156b920c6c\",\"type\":\"LogScale\"},{\"attributes\":{\"ticker\":null},\"id\":\"f67c1bca-a693-4895-8e4d-f9d8e32d6711\",\"type\":\"LogTickFormatter\"},{\"attributes\":{\"axis_label\":\"L(w(t))\",\"formatter\":{\"id\":\"f67c1bca-a693-4895-8e4d-f9d8e32d6711\",\"type\":\"LogTickFormatter\"},\"plot\":{\"id\":\"fc44eed0-d00b-40e8-8f2f-40c23ff24e5e\",\"subtype\":\"Figure\",\"type\":\"Plot\"},\"ticker\":{\"id\":\"131ea0bd-43b8-4a8b-a4a7-ee6466d55469\",\"type\":\"LogTicker\"}},\"id\":\"16c03680-11dd-46ec-9edc-f2518da427ee\",\"type\":\"LogAxis\"},{\"attributes\":{\"dimension\":1,\"plot\":{\"id\":\"fc44eed0-d00b-40e8-8f2f-40c23ff24e5e\",\"subtype\":\"Figure\",\"type\":\"Plot\"},\"ticker\":{\"id\":\"131ea0bd-43b8-4a8b-a4a7-ee6466d55469\",\"type\":\"LogTicker\"}},\"id\":\"f33d8eb6-ca26-409c-86d4-7c80a056b825\",\"type\":\"Grid\"},{\"attributes\":{\"click_policy\":\"hide\",\"items\":[{\"id\":\"9ac34eca-60aa-44e2-ab56-0a9facc7dc9c\",\"type\":\"LegendItem\"},{\"id\":\"c1063710-4948-4334-a3b5-958741b576a2\",\"type\":\"LegendItem\"},{\"id\":\"3a8e4812-11ef-41bd-be35-382989236e60\",\"type\":\"LegendItem\"},{\"id\":\"4a2a810c-3efd-4a0f-9539-2decabbcce86\",\"type\":\"LegendItem\"}],\"location\":\"bottom_left\",\"plot\":{\"id\":\"fc44eed0-d00b-40e8-8f2f-40c23ff24e5e\",\"subtype\":\"Figure\",\"type\":\"Plot\"}},\"id\":\"d05f43aa-9bce-47cc-a35c-597d08f2abf3\",\"type\":\"Legend\"},{\"attributes\":{\"bottom_units\":\"screen\",\"fill_alpha\":{\"value\":0.5},\"fill_color\":{\"value\":\"lightgrey\"},\"left_units\":\"screen\",\"level\":\"overlay\",\"line_alpha\":{\"value\":1.0},\"line_color\":{\"value\":\"black\"},\"line_dash\":[4,4],\"line_width\":{\"value\":2},\"plot\":null,\"render_mode\":\"css\",\"right_units\":\"screen\",\"top_units\":\"screen\"},\"id\":\"90060571-a297-4538-b27b-ba63b9af0fb0\",\"type\":\"BoxAnnotation\"},{\"attributes\":{\"line_alpha\":0.1,\"line_color\":\"#1f77b4\",\"line_dash\":[6],\"line_width\":3,\"x\":{\"field\":\"x\"},\"y\":{\"field\":\"y\"}},\"id\":\"4625aa9c-b4fb-4541-a2cf-e9f1025bedae\",\"type\":\"Line\"},{\"attributes\":{\"callback\":null,\"column_names\":[\"x\",\"y\"],\"data\":{\"x\":{\"__ndarray__\":\"AQAAAAIAAAADAAAABAAAAAUAAAAGAAAABwAAAAgAAAAJAAAACgAAAAsAAAAMAAAADQAAAA4AAAAPAAAAEAAAABEAAAASAAAAEwAAABQAAAAVAAAAFgAAABcAAAAYAAAAGQAAABoAAAAbAAAAHAAAAB0AAAAeAAAAHwAAACAAAAAhAAAAIgAAACMAAAAkAAAAJQAAACYAAAAnAAAAKAAAACkAAAAqAAAAKwAAACwAAAAtAAAALgAAAC8AAAAwAAAAMQAAADIAAAAzAAAANAAAADUAAAA2AAAANwAAADgAAAA5AAAAOgAAADsAAAA8AAAAPQAAAD4AAAA/AAAAQAAAAEEAAABCAAAAQwAAAEQAAABFAAAARgAAAEcAAABIAAAASQAAAEoAAABLAAAATAAAAE0AAABOAAAATwAAAFAAAABRAAAAUgAAAFMAAABUAAAAVQAAAFYAAABXAAAAWAAAAFkAAABaAAAA\",\"dtype\":\"int32\",\"shape\":[90]},\"y\":[6.494431590881348,21.87221374206543,6.409738085174561,5.971913459167481,6.367294949951172,7.299453327484131,5.830874432373047,6.513201524963379,5.01426396408081,4.452488272247314,4.377380673217774,4.631469755706787,3.9954814781188963,3.34402145942688,4.130345970001221,4.294590037078858,3.4810631732940673,3.201706895904541,3.40373140625,3.302464894104004,3.78346916595459,3.875347382507324,3.4739233673095704,2.5761708171844484,3.5844353016662596,3.0865977279663084,3.131905704727173,2.4912634176635744,2.606548629608154,2.4919847901153562,1.4072785162734984,1.3848708707809447,1.3678839332580566,1.3553361893081666,1.3475936457443238,1.3375927115249633,1.3285391670227051,1.3301372819900512,1.3199737398529052,1.3119331585311889,1.3103960561370849,1.3010969140625,1.2995416328048706,1.3065522612380982,1.2869602312088013,1.2924986517715453,1.2788645010375976,1.2867905916213989,1.3563715363311768,1.2922855500030517,1.2720848769378663,1.268555636367798,1.2702613216018677,1.2929281624221802,1.2640393512344361,1.2619262741851807,1.2599273833465576,1.2606694115447998,1.2511615649795533,1.252106321144104,1.2217496439743043,1.2176205681610108,1.216223031539917,1.2149322525024413,1.211436270980835,1.212416425971985,1.211969039993286,1.2135100257110596,1.2117071673202515,1.2118167053985596,1.2124289106750488,1.2077163145828247,1.209503932723999,1.209230294532776,1.2079207301330566,1.2105189616394043,1.204675158958435,1.205697354736328,1.2073127264404298,1.2038142137908936,1.2053136850357056,1.2047410177230835,1.2062189678955078,1.2036902044296265,1.2041121144866944,1.2045835354232788,1.2044864199829102,1.2035760591888427,1.2052258631515502,1.2065531436920165]}},\"id\":\"438b77ef-bb01-495b-ac34-73a9f5f6cb9d\",\"type\":\"ColumnDataSource\"},{\"attributes\":{\"plot\":null,\"text\":\"Training & Test Loss\"},\"id\":\"900f624b-ad73-4a11-8c01-08d0e229f61d\",\"type\":\"Title\"},{\"attributes\":{},\"id\":\"297aee1a-d5d8-4704-afdf-bb9b3721dbb6\",\"type\":\"PanTool\"},{\"attributes\":{\"data_source\":{\"id\":\"438b77ef-bb01-495b-ac34-73a9f5f6cb9d\",\"type\":\"ColumnDataSource\"},\"glyph\":{\"id\":\"866591df-3c56-4b15-ac1f-9241905352e8\",\"type\":\"Line\"},\"hover_glyph\":null,\"muted_glyph\":null,\"nonselection_glyph\":{\"id\":\"7e488968-97ef-413e-b7ef-e0752b042734\",\"type\":\"Line\"},\"selection_glyph\":null,\"view\":{\"id\":\"a824221e-b9dd-4c22-9e80-0d857631d04c\",\"type\":\"CDSView\"}},\"id\":\"8d80684a-0049-4c42-afe6-5fe89009139c\",\"type\":\"GlyphRenderer\"},{\"attributes\":{},\"id\":\"8829413f-db16-4199-88d1-59602cc23bad\",\"type\":\"BasicTickFormatter\"},{\"attributes\":{},\"id\":\"44ae8925-3335-43f9-8ebb-30d70aab0ba4\",\"type\":\"WheelZoomTool\"},{\"attributes\":{\"overlay\":{\"id\":\"90060571-a297-4538-b27b-ba63b9af0fb0\",\"type\":\"BoxAnnotation\"}},\"id\":\"7b7a6954-681d-4dbf-afe1-7c0d504e1cc6\",\"type\":\"BoxZoomTool\"},{\"attributes\":{},\"id\":\"b47e795d-c596-4cbf-a1d0-f9d48df71702\",\"type\":\"SaveTool\"},{\"attributes\":{},\"id\":\"d647bcf6-6ab1-4664-8efd-eca8325bbc00\",\"type\":\"ResetTool\"},{\"attributes\":{\"line_alpha\":0.1,\"line_color\":\"#1f77b4\",\"line_width\":3,\"x\":{\"field\":\"x\"},\"y\":{\"field\":\"y\"}},\"id\":\"7e488968-97ef-413e-b7ef-e0752b042734\",\"type\":\"Line\"},{\"attributes\":{},\"id\":\"e8a01dfe-4a8a-4c38-a714-dc8f77456b63\",\"type\":\"HelpTool\"},{\"attributes\":{\"line_color\":\"#1f77b4\",\"line_width\":3,\"x\":{\"field\":\"x\"},\"y\":{\"field\":\"y\"}},\"id\":\"866591df-3c56-4b15-ac1f-9241905352e8\",\"type\":\"Line\"},{\"attributes\":{\"label\":{\"value\":\"validation - 256_32_0.0\"},\"renderers\":[{\"id\":\"8d80684a-0049-4c42-afe6-5fe89009139c\",\"type\":\"GlyphRenderer\"}]},\"id\":\"c1063710-4948-4334-a3b5-958741b576a2\",\"type\":\"LegendItem\"},{\"attributes\":{\"source\":{\"id\":\"438b77ef-bb01-495b-ac34-73a9f5f6cb9d\",\"type\":\"ColumnDataSource\"}},\"id\":\"a824221e-b9dd-4c22-9e80-0d857631d04c\",\"type\":\"CDSView\"},{\"attributes\":{\"line_color\":\"#1f77b4\",\"line_dash\":[6],\"line_width\":3,\"x\":{\"field\":\"x\"},\"y\":{\"field\":\"y\"}},\"id\":\"fca99b79-8908-44b9-907d-a2802c1ddf48\",\"type\":\"Line\"}],\"root_ids\":[\"fc44eed0-d00b-40e8-8f2f-40c23ff24e5e\"]},\"title\":\"Bokeh Application\",\"version\":\"0.12.13\"}};\n",
       "  var render_items = [{\"docid\":\"3fee53fc-d845-446d-9f13-c96d0d3fdae7\",\"elementid\":\"1f9a859b-fd84-4c55-a58d-e091ec677c26\",\"modelid\":\"fc44eed0-d00b-40e8-8f2f-40c23ff24e5e\"}];\n",
       "  root.Bokeh.embed.embed_items_notebook(docs_json, render_items);\n",
       "\n",
       "  }\n",
       "  if (root.Bokeh !== undefined) {\n",
       "    embed_document(root);\n",
       "  } else {\n",
       "    var attempts = 0;\n",
       "    var timer = setInterval(function(root) {\n",
       "      if (root.Bokeh !== undefined) {\n",
       "        embed_document(root);\n",
       "        clearInterval(timer);\n",
       "      }\n",
       "      attempts++;\n",
       "      if (attempts > 100) {\n",
       "        console.log(\"Bokeh: ERROR: Unable to run BokehJS code because BokehJS library is missing\")\n",
       "        clearInterval(timer);\n",
       "      }\n",
       "    }, 10, root)\n",
       "  }\n",
       "})(window);"
      ],
      "application/vnd.bokehjs_exec.v0+json": ""
     },
     "metadata": {
      "application/vnd.bokehjs_exec.v0+json": {
       "id": "fc44eed0-d00b-40e8-8f2f-40c23ff24e5e"
      }
     },
     "output_type": "display_data"
    }
   ],
   "source": [
    "show(plots[0])"
   ]
  },
  {
   "cell_type": "code",
   "execution_count": 4,
   "metadata": {},
   "outputs": [
    {
     "data": {
      "text/html": [
       "\n",
       "<div class=\"bk-root\">\n",
       "    <div class=\"bk-plotdiv\" id=\"5d3fd76b-e07f-460f-a225-247b0ea2b70f\"></div>\n",
       "</div>"
      ]
     },
     "metadata": {},
     "output_type": "display_data"
    },
    {
     "data": {
      "application/javascript": [
       "(function(root) {\n",
       "  function embed_document(root) {\n",
       "    \n",
       "  var docs_json = {\"e2138472-6fb7-4d79-a3b3-4740e871a43b\":{\"roots\":{\"references\":[{\"attributes\":{\"bottom_units\":\"screen\",\"fill_alpha\":{\"value\":0.5},\"fill_color\":{\"value\":\"lightgrey\"},\"left_units\":\"screen\",\"level\":\"overlay\",\"line_alpha\":{\"value\":1.0},\"line_color\":{\"value\":\"black\"},\"line_dash\":[4,4],\"line_width\":{\"value\":2},\"plot\":null,\"render_mode\":\"css\",\"right_units\":\"screen\",\"top_units\":\"screen\"},\"id\":\"f7d75ff4-55bc-4b7a-9099-ea4cb2068c80\",\"type\":\"BoxAnnotation\"},{\"attributes\":{},\"id\":\"c0209b7c-655d-4ae3-9c9d-be5839d1709e\",\"type\":\"WheelZoomTool\"},{\"attributes\":{\"background_fill_color\":{\"value\":\"#fafafa\"},\"below\":[{\"id\":\"73a5a374-dd35-4876-9c67-2474a8a20f27\",\"type\":\"LinearAxis\"}],\"left\":[{\"id\":\"622f7349-8543-41c2-81fc-3169df901ea4\",\"type\":\"LinearAxis\"}],\"min_border\":10,\"min_border_left\":50,\"renderers\":[{\"id\":\"73a5a374-dd35-4876-9c67-2474a8a20f27\",\"type\":\"LinearAxis\"},{\"id\":\"0b9caf95-607d-4058-ade0-f688ef37755e\",\"type\":\"Grid\"},{\"id\":\"622f7349-8543-41c2-81fc-3169df901ea4\",\"type\":\"LinearAxis\"},{\"id\":\"ea08e671-30db-4b29-87e7-6adf0a0260d2\",\"type\":\"Grid\"},{\"id\":\"f7d75ff4-55bc-4b7a-9099-ea4cb2068c80\",\"type\":\"BoxAnnotation\"},{\"id\":\"fb333fae-1c9f-4be5-9f6a-53261f3b209c\",\"type\":\"Legend\"},{\"id\":\"185ca0d8-ed75-4ea9-a474-2d4fecdfec2d\",\"type\":\"GlyphRenderer\"},{\"id\":\"a1127134-eaaf-4061-a746-3898c455824f\",\"type\":\"GlyphRenderer\"}],\"title\":{\"id\":\"9bcd5877-4a4b-4f80-9955-cd17f115aed1\",\"type\":\"Title\"},\"toolbar\":{\"id\":\"be5caa28-217d-4f29-b868-12f59680da62\",\"type\":\"Toolbar\"},\"x_range\":{\"id\":\"4fbf8349-c752-41d0-8edb-ed4825b65a08\",\"type\":\"DataRange1d\"},\"x_scale\":{\"id\":\"7eb82913-15c7-4b6d-85b7-1acfc02e5294\",\"type\":\"LinearScale\"},\"y_range\":{\"id\":\"98bf72c2-4091-4673-826f-ed4c8242d6ef\",\"type\":\"DataRange1d\"},\"y_scale\":{\"id\":\"afff9d5d-2fb4-4693-b7b2-ec13c940cbc6\",\"type\":\"LinearScale\"}},\"id\":\"5e6bee94-ac88-40f5-bda5-30fab46012e6\",\"subtype\":\"Figure\",\"type\":\"Plot\"},{\"attributes\":{\"overlay\":{\"id\":\"f7d75ff4-55bc-4b7a-9099-ea4cb2068c80\",\"type\":\"BoxAnnotation\"}},\"id\":\"45269c8c-e384-4e23-bd27-924bf958256c\",\"type\":\"BoxZoomTool\"},{\"attributes\":{},\"id\":\"b0b8f749-56ba-4f88-aeba-f762f139bcd4\",\"type\":\"SaveTool\"},{\"attributes\":{},\"id\":\"5cfe02a6-66a1-47eb-af2b-fac6383e8f71\",\"type\":\"ResetTool\"},{\"attributes\":{},\"id\":\"27a4dc3f-9ba9-465d-b731-867bbe626227\",\"type\":\"HelpTool\"},{\"attributes\":{\"data_source\":{\"id\":\"14a4c9d6-c22d-4a84-8060-c8ff136e58fa\",\"type\":\"ColumnDataSource\"},\"glyph\":{\"id\":\"746208b5-20a7-4592-888e-5d0d2a715fa3\",\"type\":\"Line\"},\"hover_glyph\":null,\"muted_glyph\":null,\"nonselection_glyph\":{\"id\":\"69fea97d-26fb-4b4b-817a-736e0e47fc9a\",\"type\":\"Line\"},\"selection_glyph\":null,\"view\":{\"id\":\"ae7914a8-d18c-4d9e-90a9-61953a469784\",\"type\":\"CDSView\"}},\"id\":\"a1127134-eaaf-4061-a746-3898c455824f\",\"type\":\"GlyphRenderer\"},{\"attributes\":{\"callback\":null,\"column_names\":[\"x\",\"y\"],\"data\":{\"x\":{\"__ndarray__\":\"AQAAAAIAAAADAAAABAAAAAUAAAAGAAAABwAAAAgAAAAJAAAACgAAAAsAAAAMAAAADQAAAA4AAAAPAAAAEAAAABEAAAASAAAAEwAAABQAAAAVAAAAFgAAABcAAAAYAAAAGQAAABoAAAAbAAAAHAAAAB0AAAAeAAAAHwAAACAAAAAhAAAAIgAAACMAAAAkAAAAJQAAACYAAAAnAAAAKAAAACkAAAAqAAAAKwAAACwAAAAtAAAALgAAAC8AAAAwAAAAMQAAADIAAAAzAAAANAAAADUAAAA2AAAANwAAADgAAAA5AAAAOgAAADsAAAA8AAAAPQAAAD4AAAA/AAAAQAAAAEEAAABCAAAAQwAAAEQAAABFAAAARgAAAEcAAABIAAAASQAAAEoAAABLAAAATAAAAE0AAABOAAAATwAAAFAAAABRAAAAUgAAAFMAAABUAAAAVQAAAFYAAABXAAAAWAAAAFkAAABaAAAA\",\"dtype\":\"int32\",\"shape\":[90]},\"y\":[23.163476943969727,24.777456283569336,31.593395233154297,40.15866470336914,48.27956008911133,54.93716049194336,60.11776351928711,63.83689880371094,66.86790466308594,68.68444061279297,70.90425109863281,72.65764617919922,73.92286682128906,74.81024932861328,75.53132629394531,76.03103637695312,76.7069091796875,76.9327392578125,77.2581787109375,77.64269256591797,77.6125259399414,78.09293365478516,77.86715698242188,78.1505355834961,78.31005859375,78.46641540527344,78.51275634765625,78.69308471679688,78.77984619140625,77.81438446044922,75.86331939697266,73.6763687133789,71.63047790527344,69.7511978149414,68.04462432861328,66.51949310302734,65.16635131835938,63.96615219116211,62.91996765136719,62.00459671020508,61.213008880615234,60.52254104614258,59.94791793823242,59.44105529785156,59.010108947753906,58.62876510620117,58.30283737182617,58.020938873291016,57.77831268310547,57.56229019165039,57.37055969238281,57.198089599609375,57.05289077758789,56.91858673095703,56.794883728027344,56.678466796875,56.584815979003906,56.50071716308594,56.41297912597656,56.32969665527344,56.292667388916016,56.243751525878906,56.189823150634766,56.13314437866211,56.0738639831543,56.01245880126953,55.94916534423828,55.8855094909668,55.82007598876953,55.75458908081055,55.6884651184082,55.6226692199707,55.55646514892578,55.489097595214844,55.422725677490234,55.35652160644531,55.29072189331055,55.22438430786133,55.15865707397461,55.0939826965332,55.087684631347656,55.08134841918945,55.07495880126953,55.06853485107422,55.06206512451172,55.055721282958984,55.049339294433594,55.042930603027344,55.0363883972168,55.0299072265625]}},\"id\":\"14a4c9d6-c22d-4a84-8060-c8ff136e58fa\",\"type\":\"ColumnDataSource\"},{\"attributes\":{\"label\":{\"value\":\"train - 256_32_0.9\"},\"renderers\":[{\"id\":\"a1127134-eaaf-4061-a746-3898c455824f\",\"type\":\"GlyphRenderer\"}]},\"id\":\"14e2deee-7603-4f6d-b0a3-c6d03a897305\",\"type\":\"LegendItem\"},{\"attributes\":{},\"id\":\"eb418fc0-cb31-4b44-bf2c-38d1330adfe2\",\"type\":\"PanTool\"},{\"attributes\":{\"callback\":null},\"id\":\"4fbf8349-c752-41d0-8edb-ed4825b65a08\",\"type\":\"DataRange1d\"},{\"attributes\":{\"callback\":null,\"column_names\":[\"x\",\"y\"],\"data\":{\"x\":{\"__ndarray__\":\"AQAAAAIAAAADAAAABAAAAAUAAAAGAAAABwAAAAgAAAAJAAAACgAAAAsAAAAMAAAADQAAAA4AAAAPAAAAEAAAABEAAAASAAAAEwAAABQAAAAVAAAAFgAAABcAAAAYAAAAGQAAABoAAAAbAAAAHAAAAB0AAAAeAAAAHwAAACAAAAAhAAAAIgAAACMAAAAkAAAAJQAAACYAAAAnAAAAKAAAACkAAAAqAAAAKwAAACwAAAAtAAAALgAAAC8AAAAwAAAAMQAAADIAAAAzAAAANAAAADUAAAA2AAAANwAAADgAAAA5AAAAOgAAADsAAAA8AAAAPQAAAD4AAAA/AAAAQAAAAEEAAABCAAAAQwAAAEQAAABFAAAARgAAAEcAAABIAAAASQAAAEoAAABLAAAATAAAAE0AAABOAAAATwAAAFAAAABRAAAAUgAAAFMAAABUAAAAVQAAAFYAAABXAAAAWAAAAFkAAABaAAAA\",\"dtype\":\"int32\",\"shape\":[90]},\"y\":[18.396575927734375,19.37943458557129,21.193477630615234,23.7866153717041,27.036685943603516,30.55225372314453,33.71768569946289,36.58561325073242,39.089500427246094,41.247802734375,43.06648254394531,44.63032531738281,45.9489631652832,47.07915496826172,48.03501892089844,48.869041442871094,49.5907096862793,50.215431213378906,50.77924346923828,51.24995422363281,51.68484115600586,52.033836364746094,52.34513854980469,52.61692810058594,52.85193634033203,53.06214141845703,53.22414016723633,53.359275817871094,53.47914123535156,53.564666748046875,53.561500549316406,53.54306411743164,53.51683807373047,53.48796463012695,53.454463958740234,53.41722869873047,53.377376556396484,53.337528228759766,53.29589080810547,53.25286865234375,53.2076416015625,53.163482666015625,53.11688995361328,53.07163619995117,53.0249137878418,52.97935104370117,52.93257522583008,52.8862190246582,52.840087890625,52.792911529541016,52.74565124511719,52.698604583740234,52.65287399291992,52.60676574707031,52.56129837036133,52.51591491699219,52.47038650512695,52.42467498779297,52.380332946777344,52.33546447753906,52.3314323425293,52.327518463134766,52.32364273071289,52.31985092163086,52.31598663330078,52.312171936035156,52.30819320678711,52.30441665649414,52.30061721801758,52.2968864440918,52.29307556152344,52.28932571411133,52.28559112548828,52.28175354003906,52.277992248535156,52.27405548095703,52.270225524902344,52.266605377197266,52.262725830078125,52.25885009765625,52.25844192504883,52.25802230834961,52.25760269165039,52.25719451904297,52.25678634643555,52.256343841552734,52.255943298339844,52.255516052246094,52.25511932373047,52.25471115112305]}},\"id\":\"9e3cb55a-c466-4c26-88fc-31ce40b2a232\",\"type\":\"ColumnDataSource\"},{\"attributes\":{\"line_color\":\"#1f77b4\",\"line_width\":3,\"x\":{\"field\":\"x\"},\"y\":{\"field\":\"y\"}},\"id\":\"1e4c449f-abcb-4351-827d-d3f5ac0a0c9d\",\"type\":\"Line\"},{\"attributes\":{\"data_source\":{\"id\":\"9e3cb55a-c466-4c26-88fc-31ce40b2a232\",\"type\":\"ColumnDataSource\"},\"glyph\":{\"id\":\"1e4c449f-abcb-4351-827d-d3f5ac0a0c9d\",\"type\":\"Line\"},\"hover_glyph\":null,\"muted_glyph\":null,\"nonselection_glyph\":{\"id\":\"9a7f3684-8049-42aa-bc29-54638dab2701\",\"type\":\"Line\"},\"selection_glyph\":null,\"view\":{\"id\":\"3059e697-694c-4e1f-842c-09a312cf556e\",\"type\":\"CDSView\"}},\"id\":\"185ca0d8-ed75-4ea9-a474-2d4fecdfec2d\",\"type\":\"GlyphRenderer\"},{\"attributes\":{\"line_alpha\":0.1,\"line_color\":\"#1f77b4\",\"line_width\":3,\"x\":{\"field\":\"x\"},\"y\":{\"field\":\"y\"}},\"id\":\"9a7f3684-8049-42aa-bc29-54638dab2701\",\"type\":\"Line\"},{\"attributes\":{},\"id\":\"3649ca34-2707-4834-b7f0-63cc43a59442\",\"type\":\"BasicTickFormatter\"},{\"attributes\":{\"line_color\":\"#ff7f0e\",\"line_width\":3,\"x\":{\"field\":\"x\"},\"y\":{\"field\":\"y\"}},\"id\":\"746208b5-20a7-4592-888e-5d0d2a715fa3\",\"type\":\"Line\"},{\"attributes\":{},\"id\":\"b10686fa-9c1f-4a48-80f9-8d03fb2602ba\",\"type\":\"BasicTickFormatter\"},{\"attributes\":{\"line_alpha\":0.1,\"line_color\":\"#1f77b4\",\"line_width\":3,\"x\":{\"field\":\"x\"},\"y\":{\"field\":\"y\"}},\"id\":\"69fea97d-26fb-4b4b-817a-736e0e47fc9a\",\"type\":\"Line\"},{\"attributes\":{\"source\":{\"id\":\"9e3cb55a-c466-4c26-88fc-31ce40b2a232\",\"type\":\"ColumnDataSource\"}},\"id\":\"3059e697-694c-4e1f-842c-09a312cf556e\",\"type\":\"CDSView\"},{\"attributes\":{\"label\":{\"value\":\"train - 256_32_0.0\"},\"renderers\":[{\"id\":\"185ca0d8-ed75-4ea9-a474-2d4fecdfec2d\",\"type\":\"GlyphRenderer\"}]},\"id\":\"55210191-9daa-4329-8eb1-dea812497e36\",\"type\":\"LegendItem\"},{\"attributes\":{\"plot\":null,\"text\":\"The Norm of w(t)\"},\"id\":\"9bcd5877-4a4b-4f80-9955-cd17f115aed1\",\"type\":\"Title\"},{\"attributes\":{\"click_policy\":\"hide\",\"items\":[{\"id\":\"55210191-9daa-4329-8eb1-dea812497e36\",\"type\":\"LegendItem\"},{\"id\":\"14e2deee-7603-4f6d-b0a3-c6d03a897305\",\"type\":\"LegendItem\"}],\"location\":\"top_left\",\"plot\":{\"id\":\"5e6bee94-ac88-40f5-bda5-30fab46012e6\",\"subtype\":\"Figure\",\"type\":\"Plot\"}},\"id\":\"fb333fae-1c9f-4be5-9f6a-53261f3b209c\",\"type\":\"Legend\"},{\"attributes\":{\"active_drag\":\"auto\",\"active_inspect\":\"auto\",\"active_scroll\":\"auto\",\"active_tap\":\"auto\",\"tools\":[{\"id\":\"eb418fc0-cb31-4b44-bf2c-38d1330adfe2\",\"type\":\"PanTool\"},{\"id\":\"c0209b7c-655d-4ae3-9c9d-be5839d1709e\",\"type\":\"WheelZoomTool\"},{\"id\":\"45269c8c-e384-4e23-bd27-924bf958256c\",\"type\":\"BoxZoomTool\"},{\"id\":\"b0b8f749-56ba-4f88-aeba-f762f139bcd4\",\"type\":\"SaveTool\"},{\"id\":\"5cfe02a6-66a1-47eb-af2b-fac6383e8f71\",\"type\":\"ResetTool\"},{\"id\":\"27a4dc3f-9ba9-465d-b731-867bbe626227\",\"type\":\"HelpTool\"}]},\"id\":\"be5caa28-217d-4f29-b868-12f59680da62\",\"type\":\"Toolbar\"},{\"attributes\":{\"source\":{\"id\":\"14a4c9d6-c22d-4a84-8060-c8ff136e58fa\",\"type\":\"ColumnDataSource\"}},\"id\":\"ae7914a8-d18c-4d9e-90a9-61953a469784\",\"type\":\"CDSView\"},{\"attributes\":{},\"id\":\"afff9d5d-2fb4-4693-b7b2-ec13c940cbc6\",\"type\":\"LinearScale\"},{\"attributes\":{},\"id\":\"7eb82913-15c7-4b6d-85b7-1acfc02e5294\",\"type\":\"LinearScale\"},{\"attributes\":{\"callback\":null},\"id\":\"98bf72c2-4091-4673-826f-ed4c8242d6ef\",\"type\":\"DataRange1d\"},{\"attributes\":{\"plot\":{\"id\":\"5e6bee94-ac88-40f5-bda5-30fab46012e6\",\"subtype\":\"Figure\",\"type\":\"Plot\"},\"ticker\":{\"id\":\"beee03bd-80ab-43b3-a042-c80153c20a2f\",\"type\":\"BasicTicker\"}},\"id\":\"0b9caf95-607d-4058-ade0-f688ef37755e\",\"type\":\"Grid\"},{\"attributes\":{\"dimension\":1,\"plot\":{\"id\":\"5e6bee94-ac88-40f5-bda5-30fab46012e6\",\"subtype\":\"Figure\",\"type\":\"Plot\"},\"ticker\":{\"id\":\"2e44e5eb-5f36-433c-847f-4b35bba750a9\",\"type\":\"BasicTicker\"}},\"id\":\"ea08e671-30db-4b29-87e7-6adf0a0260d2\",\"type\":\"Grid\"},{\"attributes\":{},\"id\":\"beee03bd-80ab-43b3-a042-c80153c20a2f\",\"type\":\"BasicTicker\"},{\"attributes\":{\"axis_label\":\"t [Epochs]\",\"formatter\":{\"id\":\"b10686fa-9c1f-4a48-80f9-8d03fb2602ba\",\"type\":\"BasicTickFormatter\"},\"plot\":{\"id\":\"5e6bee94-ac88-40f5-bda5-30fab46012e6\",\"subtype\":\"Figure\",\"type\":\"Plot\"},\"ticker\":{\"id\":\"beee03bd-80ab-43b3-a042-c80153c20a2f\",\"type\":\"BasicTicker\"}},\"id\":\"73a5a374-dd35-4876-9c67-2474a8a20f27\",\"type\":\"LinearAxis\"},{\"attributes\":{},\"id\":\"2e44e5eb-5f36-433c-847f-4b35bba750a9\",\"type\":\"BasicTicker\"},{\"attributes\":{\"axis_label\":\"||w(t)||\",\"formatter\":{\"id\":\"3649ca34-2707-4834-b7f0-63cc43a59442\",\"type\":\"BasicTickFormatter\"},\"plot\":{\"id\":\"5e6bee94-ac88-40f5-bda5-30fab46012e6\",\"subtype\":\"Figure\",\"type\":\"Plot\"},\"ticker\":{\"id\":\"2e44e5eb-5f36-433c-847f-4b35bba750a9\",\"type\":\"BasicTicker\"}},\"id\":\"622f7349-8543-41c2-81fc-3169df901ea4\",\"type\":\"LinearAxis\"}],\"root_ids\":[\"5e6bee94-ac88-40f5-bda5-30fab46012e6\"]},\"title\":\"Bokeh Application\",\"version\":\"0.12.13\"}};\n",
       "  var render_items = [{\"docid\":\"e2138472-6fb7-4d79-a3b3-4740e871a43b\",\"elementid\":\"5d3fd76b-e07f-460f-a225-247b0ea2b70f\",\"modelid\":\"5e6bee94-ac88-40f5-bda5-30fab46012e6\"}];\n",
       "  root.Bokeh.embed.embed_items_notebook(docs_json, render_items);\n",
       "\n",
       "  }\n",
       "  if (root.Bokeh !== undefined) {\n",
       "    embed_document(root);\n",
       "  } else {\n",
       "    var attempts = 0;\n",
       "    var timer = setInterval(function(root) {\n",
       "      if (root.Bokeh !== undefined) {\n",
       "        embed_document(root);\n",
       "        clearInterval(timer);\n",
       "      }\n",
       "      attempts++;\n",
       "      if (attempts > 100) {\n",
       "        console.log(\"Bokeh: ERROR: Unable to run BokehJS code because BokehJS library is missing\")\n",
       "        clearInterval(timer);\n",
       "      }\n",
       "    }, 10, root)\n",
       "  }\n",
       "})(window);"
      ],
      "application/vnd.bokehjs_exec.v0+json": ""
     },
     "metadata": {
      "application/vnd.bokehjs_exec.v0+json": {
       "id": "5e6bee94-ac88-40f5-bda5-30fab46012e6"
      }
     },
     "output_type": "display_data"
    }
   ],
   "source": [
    "show(plots[2])"
   ]
  },
  {
   "cell_type": "code",
   "execution_count": 5,
   "metadata": {},
   "outputs": [
    {
     "data": {
      "text/html": [
       "\n",
       "<div class=\"bk-root\">\n",
       "    <div class=\"bk-plotdiv\" id=\"9ec22348-ca0c-468a-83a0-e7dac05ffac7\"></div>\n",
       "</div>"
      ]
     },
     "metadata": {},
     "output_type": "display_data"
    },
    {
     "data": {
      "application/javascript": [
       "(function(root) {\n",
       "  function embed_document(root) {\n",
       "    \n",
       "  var docs_json = {\"667882dd-16b5-4b03-abd6-f43ec5b40dae\":{\"roots\":{\"references\":[{\"attributes\":{\"label\":{\"value\":\"train - 256_32_0.9\"},\"renderers\":[{\"id\":\"41d14a06-3053-4cb5-b1e2-ab63f716e3a5\",\"type\":\"GlyphRenderer\"}]},\"id\":\"88feb6bc-bac7-41fd-8fb6-b1a3dfb8543a\",\"type\":\"LegendItem\"},{\"attributes\":{\"data_source\":{\"id\":\"9f69a2da-473a-4401-8ab2-91d0f742b563\",\"type\":\"ColumnDataSource\"},\"glyph\":{\"id\":\"0862a772-bd64-4a89-97c4-c725ae13f381\",\"type\":\"Line\"},\"hover_glyph\":null,\"muted_glyph\":null,\"nonselection_glyph\":{\"id\":\"49977fb3-c838-4ac6-bb43-144958e269da\",\"type\":\"Line\"},\"selection_glyph\":null,\"view\":{\"id\":\"1071ab1f-4299-4f20-ac82-1bc0f4ce2d37\",\"type\":\"CDSView\"}},\"id\":\"41d14a06-3053-4cb5-b1e2-ab63f716e3a5\",\"type\":\"GlyphRenderer\"},{\"attributes\":{},\"id\":\"9353fcad-6df9-450f-9bbf-7cc1c5ca7377\",\"type\":\"LinearScale\"},{\"attributes\":{\"num_minor_ticks\":10},\"id\":\"27640078-b88f-4a5b-96ab-7bc6506f703d\",\"type\":\"LogTicker\"},{\"attributes\":{\"plot\":{\"id\":\"f011a325-1ce6-42a0-9b2d-ce305484847a\",\"subtype\":\"Figure\",\"type\":\"Plot\"},\"ticker\":{\"id\":\"306f2a56-4ac3-4762-b96b-583003aac19d\",\"type\":\"BasicTicker\"}},\"id\":\"a5e71dd7-e3ad-49a9-88fa-01db846cb404\",\"type\":\"Grid\"},{\"attributes\":{\"dimension\":1,\"plot\":{\"id\":\"f011a325-1ce6-42a0-9b2d-ce305484847a\",\"subtype\":\"Figure\",\"type\":\"Plot\"},\"ticker\":{\"id\":\"27640078-b88f-4a5b-96ab-7bc6506f703d\",\"type\":\"LogTicker\"}},\"id\":\"0e3eb616-228b-49e3-9d53-d77ca9ad08b5\",\"type\":\"Grid\"},{\"attributes\":{},\"id\":\"306f2a56-4ac3-4762-b96b-583003aac19d\",\"type\":\"BasicTicker\"},{\"attributes\":{\"axis_label\":\"t [Epochs]\",\"formatter\":{\"id\":\"d1b111ef-6a4b-495a-a185-4e22adab32b4\",\"type\":\"BasicTickFormatter\"},\"plot\":{\"id\":\"f011a325-1ce6-42a0-9b2d-ce305484847a\",\"subtype\":\"Figure\",\"type\":\"Plot\"},\"ticker\":{\"id\":\"306f2a56-4ac3-4762-b96b-583003aac19d\",\"type\":\"BasicTicker\"}},\"id\":\"17d82519-c93d-47e0-b7b2-78a2df9bee22\",\"type\":\"LinearAxis\"},{\"attributes\":{\"axis_label\":\"||g||\",\"formatter\":{\"id\":\"cee5b3b6-d289-4439-ba35-47bfa4fc4f75\",\"type\":\"LogTickFormatter\"},\"plot\":{\"id\":\"f011a325-1ce6-42a0-9b2d-ce305484847a\",\"subtype\":\"Figure\",\"type\":\"Plot\"},\"ticker\":{\"id\":\"27640078-b88f-4a5b-96ab-7bc6506f703d\",\"type\":\"LogTicker\"}},\"id\":\"df2934cd-e8f5-4c45-9044-c093b723da8e\",\"type\":\"LogAxis\"},{\"attributes\":{},\"id\":\"c59bbd7d-e276-4ed4-8574-4665d46f211c\",\"type\":\"LogScale\"},{\"attributes\":{\"source\":{\"id\":\"9f69a2da-473a-4401-8ab2-91d0f742b563\",\"type\":\"ColumnDataSource\"}},\"id\":\"1071ab1f-4299-4f20-ac82-1bc0f4ce2d37\",\"type\":\"CDSView\"},{\"attributes\":{\"bottom_units\":\"screen\",\"fill_alpha\":{\"value\":0.5},\"fill_color\":{\"value\":\"lightgrey\"},\"left_units\":\"screen\",\"level\":\"overlay\",\"line_alpha\":{\"value\":1.0},\"line_color\":{\"value\":\"black\"},\"line_dash\":[4,4],\"line_width\":{\"value\":2},\"plot\":null,\"render_mode\":\"css\",\"right_units\":\"screen\",\"top_units\":\"screen\"},\"id\":\"ba81cbbc-a352-4018-9f5a-c473ae881560\",\"type\":\"BoxAnnotation\"},{\"attributes\":{\"line_color\":\"#ff7f0e\",\"line_width\":3,\"x\":{\"field\":\"x\"},\"y\":{\"field\":\"y\"}},\"id\":\"0862a772-bd64-4a89-97c4-c725ae13f381\",\"type\":\"Line\"},{\"attributes\":{\"callback\":null,\"column_names\":[\"x\",\"y\"],\"data\":{\"x\":{\"__ndarray__\":\"AQAAAAIAAAADAAAABAAAAAUAAAAGAAAABwAAAAgAAAAJAAAACgAAAAsAAAAMAAAADQAAAA4AAAAPAAAAEAAAABEAAAASAAAAEwAAABQAAAAVAAAAFgAAABcAAAAYAAAAGQAAABoAAAAbAAAAHAAAAB0AAAAeAAAAHwAAACAAAAAhAAAAIgAAACMAAAAkAAAAJQAAACYAAAAnAAAAKAAAACkAAAAqAAAAKwAAACwAAAAtAAAALgAAAC8AAAAwAAAAMQAAADIAAAAzAAAANAAAADUAAAA2AAAANwAAADgAAAA5AAAAOgAAADsAAAA8AAAAPQAAAD4AAAA/AAAAQAAAAEEAAABCAAAAQwAAAEQAAABFAAAARgAAAEcAAABIAAAASQAAAEoAAABLAAAATAAAAE0AAABOAAAATwAAAFAAAABRAAAAUgAAAFMAAABUAAAAVQAAAFYAAABXAAAAWAAAAFkAAABaAAAA\",\"dtype\":\"int32\",\"shape\":[90]},\"y\":[0.826116144657135,0.6305275559425354,0.5603293180465698,0.5776548385620117,0.5660849809646606,0.6205750107765198,0.6208299398422241,0.6596800684928894,0.6622775197029114,0.7150651216506958,0.7132781147956848,0.7326405644416809,0.7153470516204834,0.7583386301994324,0.7449451684951782,0.7295563817024231,0.7708937525749207,0.7177477478981018,0.7512964606285095,0.7346398234367371,0.738284707069397,0.760417640209198,0.7242952585220337,0.7482939958572388,0.7643463015556335,0.831589937210083,0.7420058846473694,0.7456451058387756,0.7487715482711792,0.7723224759101868,0.8565144538879395,1.0080054998397827,1.0249273777008057,1.0549575090408325,1.1672929525375366,1.2024513483047485,1.287891149520874,1.267886996269226,1.1961274147033691,1.288016676902771,1.3104878664016724,1.291458249092102,1.3133695125579834,1.3275591135025024,1.396555781364441,1.411324381828308,1.4675265550613403,1.362216830253601,1.4003762006759644,1.4298362731933594,1.416244626045227,1.312034010887146,1.4418390989303589,1.3667165040969849,1.4004559516906738,1.34296452999115,1.2896174192428589,1.3091484308242798,1.3709911108016968,1.2898825407028198,1.1866674423217773,1.3966138362884521,1.241007924079895,1.2850757837295532,1.1850897073745728,1.373877763748169,1.181821346282959,1.274670124053955,1.3900372982025146,1.281639575958252,1.2926446199417114,1.327097773551941,1.3420706987380981,1.3725579977035522,1.3509457111358643,1.3722224235534668,1.301905870437622,1.3530856370925903,1.2967984676361084,1.300282597541809,1.3416097164154053,1.345569372177124,1.4354819059371948,1.4362108707427979,1.4155856370925903,1.3185057640075684,1.2473934888839722,1.2848929166793823,1.4746222496032715,1.3698612451553345]}},\"id\":\"9f69a2da-473a-4401-8ab2-91d0f742b563\",\"type\":\"ColumnDataSource\"},{\"attributes\":{\"line_alpha\":0.1,\"line_color\":\"#1f77b4\",\"line_width\":3,\"x\":{\"field\":\"x\"},\"y\":{\"field\":\"y\"}},\"id\":\"49977fb3-c838-4ac6-bb43-144958e269da\",\"type\":\"Line\"},{\"attributes\":{},\"id\":\"2b368cdd-9f8b-4ee8-9a8c-9921017a24df\",\"type\":\"PanTool\"},{\"attributes\":{\"callback\":null,\"column_names\":[\"x\",\"y\"],\"data\":{\"x\":{\"__ndarray__\":\"AQAAAAIAAAADAAAABAAAAAUAAAAGAAAABwAAAAgAAAAJAAAACgAAAAsAAAAMAAAADQAAAA4AAAAPAAAAEAAAABEAAAASAAAAEwAAABQAAAAVAAAAFgAAABcAAAAYAAAAGQAAABoAAAAbAAAAHAAAAB0AAAAeAAAAHwAAACAAAAAhAAAAIgAAACMAAAAkAAAAJQAAACYAAAAnAAAAKAAAACkAAAAqAAAAKwAAACwAAAAtAAAALgAAAC8AAAAwAAAAMQAAADIAAAAzAAAANAAAADUAAAA2AAAANwAAADgAAAA5AAAAOgAAADsAAAA8AAAAPQAAAD4AAAA/AAAAQAAAAEEAAABCAAAAQwAAAEQAAABFAAAARgAAAEcAAABIAAAASQAAAEoAAABLAAAATAAAAE0AAABOAAAATwAAAFAAAABRAAAAUgAAAFMAAABUAAAAVQAAAFYAAABXAAAAWAAAAFkAAABaAAAA\",\"dtype\":\"int32\",\"shape\":[90]},\"y\":[3.6746466159820557,2.6603000164031982,2.2115697860717773,1.959593653678894,1.7617378234863281,1.7264866828918457,1.7398138046264648,1.7612859010696411,1.6401288509368896,1.6433801651000977,1.5912028551101685,1.5440435409545898,1.615655541419983,1.5482556819915771,1.4613205194473267,1.4048770666122437,1.5124365091323853,1.5003758668899536,1.496251106262207,1.315889835357666,1.474357008934021,1.5184760093688965,1.3562860488891602,1.483612298965454,1.4580578804016113,1.4690793752670288,1.43744957447052,1.3272979259490967,1.3110498189926147,1.4227575063705444,1.234837293624878,1.3331345319747925,1.2307384014129639,1.1800516843795776,1.4192180633544922,1.3518739938735962,1.2525193691253662,1.3263282775878906,1.2289761304855347,1.326879620552063,1.3092079162597656,1.337517499923706,1.37027108669281,1.1581588983535767,1.3517394065856934,1.3437683582305908,1.4072078466415405,1.2987228631973267,1.428053617477417,1.342185616493225,1.343677282333374,1.346888542175293,1.3133962154388428,1.3886818885803223,1.3952887058258057,1.39739191532135,1.4716922044754028,1.3100666999816895,1.384204387664795,1.3619729280471802,1.454527497291565,1.4999492168426514,1.4976162910461426,1.3004159927368164,1.4144445657730103,1.4115757942199707,1.427252173423767,1.3644520044326782,1.1936753988265991,1.2855474948883057,1.3198505640029907,1.2857398986816406,1.4186824560165405,1.4671595096588135,1.4528151750564575,1.4248188734054565,1.3738219738006592,1.340017318725586,1.314192533493042,1.321152687072754,1.3387140035629272,1.3183486461639404,1.3582402467727661,1.3875848054885864,1.3128137588500977,1.3885873556137085,1.325171709060669,1.471025824546814,1.2242143154144287,1.439084768295288]}},\"id\":\"08a74922-a732-4d49-a76f-029d0a790cd4\",\"type\":\"ColumnDataSource\"},{\"attributes\":{},\"id\":\"df3d5aef-12be-4ee5-9609-3b1ecb1e5f0c\",\"type\":\"WheelZoomTool\"},{\"attributes\":{\"overlay\":{\"id\":\"ba81cbbc-a352-4018-9f5a-c473ae881560\",\"type\":\"BoxAnnotation\"}},\"id\":\"2e813d4f-e300-4e2b-8cd6-964f6942d065\",\"type\":\"BoxZoomTool\"},{\"attributes\":{},\"id\":\"04888a58-841e-46b1-a038-689d74610fa9\",\"type\":\"SaveTool\"},{\"attributes\":{},\"id\":\"cf8d848e-e45a-4684-8638-61d8f8d878ec\",\"type\":\"ResetTool\"},{\"attributes\":{},\"id\":\"dc16b6f1-dafb-404e-bb4b-b61c46aed845\",\"type\":\"HelpTool\"},{\"attributes\":{\"data_source\":{\"id\":\"08a74922-a732-4d49-a76f-029d0a790cd4\",\"type\":\"ColumnDataSource\"},\"glyph\":{\"id\":\"cc38d933-e482-4cfd-ae5b-4e0a36edd520\",\"type\":\"Line\"},\"hover_glyph\":null,\"muted_glyph\":null,\"nonselection_glyph\":{\"id\":\"eee06553-a161-4daa-b82f-3ccf6ea05f7d\",\"type\":\"Line\"},\"selection_glyph\":null,\"view\":{\"id\":\"068cc6ca-0fc8-4f3a-bbbc-a0dc5d55dc13\",\"type\":\"CDSView\"}},\"id\":\"5c0a7caa-10b0-4825-9c02-dedc6300009a\",\"type\":\"GlyphRenderer\"},{\"attributes\":{\"ticker\":null},\"id\":\"cee5b3b6-d289-4439-ba35-47bfa4fc4f75\",\"type\":\"LogTickFormatter\"},{\"attributes\":{\"active_drag\":\"auto\",\"active_inspect\":\"auto\",\"active_scroll\":\"auto\",\"active_tap\":\"auto\",\"tools\":[{\"id\":\"2b368cdd-9f8b-4ee8-9a8c-9921017a24df\",\"type\":\"PanTool\"},{\"id\":\"df3d5aef-12be-4ee5-9609-3b1ecb1e5f0c\",\"type\":\"WheelZoomTool\"},{\"id\":\"2e813d4f-e300-4e2b-8cd6-964f6942d065\",\"type\":\"BoxZoomTool\"},{\"id\":\"04888a58-841e-46b1-a038-689d74610fa9\",\"type\":\"SaveTool\"},{\"id\":\"cf8d848e-e45a-4684-8638-61d8f8d878ec\",\"type\":\"ResetTool\"},{\"id\":\"dc16b6f1-dafb-404e-bb4b-b61c46aed845\",\"type\":\"HelpTool\"}]},\"id\":\"c25d3582-294f-44ec-8eaa-c54b23b47426\",\"type\":\"Toolbar\"},{\"attributes\":{\"line_alpha\":0.1,\"line_color\":\"#1f77b4\",\"line_width\":3,\"x\":{\"field\":\"x\"},\"y\":{\"field\":\"y\"}},\"id\":\"eee06553-a161-4daa-b82f-3ccf6ea05f7d\",\"type\":\"Line\"},{\"attributes\":{\"line_color\":\"#1f77b4\",\"line_width\":3,\"x\":{\"field\":\"x\"},\"y\":{\"field\":\"y\"}},\"id\":\"cc38d933-e482-4cfd-ae5b-4e0a36edd520\",\"type\":\"Line\"},{\"attributes\":{},\"id\":\"d1b111ef-6a4b-495a-a185-4e22adab32b4\",\"type\":\"BasicTickFormatter\"},{\"attributes\":{\"source\":{\"id\":\"08a74922-a732-4d49-a76f-029d0a790cd4\",\"type\":\"ColumnDataSource\"}},\"id\":\"068cc6ca-0fc8-4f3a-bbbc-a0dc5d55dc13\",\"type\":\"CDSView\"},{\"attributes\":{\"plot\":null,\"text\":\"The Norm of Gradients\"},\"id\":\"515df471-788a-4371-8c83-7d8e7dc85253\",\"type\":\"Title\"},{\"attributes\":{\"label\":{\"value\":\"train - 256_32_0.0\"},\"renderers\":[{\"id\":\"5c0a7caa-10b0-4825-9c02-dedc6300009a\",\"type\":\"GlyphRenderer\"}]},\"id\":\"2532ee3f-03e7-45db-9418-cb009a32cd1b\",\"type\":\"LegendItem\"},{\"attributes\":{\"click_policy\":\"hide\",\"items\":[{\"id\":\"2532ee3f-03e7-45db-9418-cb009a32cd1b\",\"type\":\"LegendItem\"},{\"id\":\"88feb6bc-bac7-41fd-8fb6-b1a3dfb8543a\",\"type\":\"LegendItem\"}],\"location\":\"bottom_left\",\"plot\":{\"id\":\"f011a325-1ce6-42a0-9b2d-ce305484847a\",\"subtype\":\"Figure\",\"type\":\"Plot\"}},\"id\":\"f6f3766d-bade-4ae7-bdbe-5db7a13be418\",\"type\":\"Legend\"},{\"attributes\":{\"callback\":null},\"id\":\"c690b3ca-014b-43f6-a082-c74054b66b6a\",\"type\":\"DataRange1d\"},{\"attributes\":{\"background_fill_color\":{\"value\":\"#fafafa\"},\"below\":[{\"id\":\"17d82519-c93d-47e0-b7b2-78a2df9bee22\",\"type\":\"LinearAxis\"}],\"left\":[{\"id\":\"df2934cd-e8f5-4c45-9044-c093b723da8e\",\"type\":\"LogAxis\"}],\"min_border\":10,\"min_border_left\":50,\"renderers\":[{\"id\":\"17d82519-c93d-47e0-b7b2-78a2df9bee22\",\"type\":\"LinearAxis\"},{\"id\":\"a5e71dd7-e3ad-49a9-88fa-01db846cb404\",\"type\":\"Grid\"},{\"id\":\"df2934cd-e8f5-4c45-9044-c093b723da8e\",\"type\":\"LogAxis\"},{\"id\":\"0e3eb616-228b-49e3-9d53-d77ca9ad08b5\",\"type\":\"Grid\"},{\"id\":\"ba81cbbc-a352-4018-9f5a-c473ae881560\",\"type\":\"BoxAnnotation\"},{\"id\":\"f6f3766d-bade-4ae7-bdbe-5db7a13be418\",\"type\":\"Legend\"},{\"id\":\"5c0a7caa-10b0-4825-9c02-dedc6300009a\",\"type\":\"GlyphRenderer\"},{\"id\":\"41d14a06-3053-4cb5-b1e2-ab63f716e3a5\",\"type\":\"GlyphRenderer\"}],\"title\":{\"id\":\"515df471-788a-4371-8c83-7d8e7dc85253\",\"type\":\"Title\"},\"toolbar\":{\"id\":\"c25d3582-294f-44ec-8eaa-c54b23b47426\",\"type\":\"Toolbar\"},\"x_range\":{\"id\":\"c690b3ca-014b-43f6-a082-c74054b66b6a\",\"type\":\"DataRange1d\"},\"x_scale\":{\"id\":\"9353fcad-6df9-450f-9bbf-7cc1c5ca7377\",\"type\":\"LinearScale\"},\"y_range\":{\"id\":\"b2d164d2-20b8-4d35-a91b-babaaa40fe9d\",\"type\":\"DataRange1d\"},\"y_scale\":{\"id\":\"c59bbd7d-e276-4ed4-8574-4665d46f211c\",\"type\":\"LogScale\"}},\"id\":\"f011a325-1ce6-42a0-9b2d-ce305484847a\",\"subtype\":\"Figure\",\"type\":\"Plot\"},{\"attributes\":{\"callback\":null},\"id\":\"b2d164d2-20b8-4d35-a91b-babaaa40fe9d\",\"type\":\"DataRange1d\"}],\"root_ids\":[\"f011a325-1ce6-42a0-9b2d-ce305484847a\"]},\"title\":\"Bokeh Application\",\"version\":\"0.12.13\"}};\n",
       "  var render_items = [{\"docid\":\"667882dd-16b5-4b03-abd6-f43ec5b40dae\",\"elementid\":\"9ec22348-ca0c-468a-83a0-e7dac05ffac7\",\"modelid\":\"f011a325-1ce6-42a0-9b2d-ce305484847a\"}];\n",
       "  root.Bokeh.embed.embed_items_notebook(docs_json, render_items);\n",
       "\n",
       "  }\n",
       "  if (root.Bokeh !== undefined) {\n",
       "    embed_document(root);\n",
       "  } else {\n",
       "    var attempts = 0;\n",
       "    var timer = setInterval(function(root) {\n",
       "      if (root.Bokeh !== undefined) {\n",
       "        embed_document(root);\n",
       "        clearInterval(timer);\n",
       "      }\n",
       "      attempts++;\n",
       "      if (attempts > 100) {\n",
       "        console.log(\"Bokeh: ERROR: Unable to run BokehJS code because BokehJS library is missing\")\n",
       "        clearInterval(timer);\n",
       "      }\n",
       "    }, 10, root)\n",
       "  }\n",
       "})(window);"
      ],
      "application/vnd.bokehjs_exec.v0+json": ""
     },
     "metadata": {
      "application/vnd.bokehjs_exec.v0+json": {
       "id": "f011a325-1ce6-42a0-9b2d-ce305484847a"
      }
     },
     "output_type": "display_data"
    }
   ],
   "source": [
    "show(plots[3])"
   ]
  }
 ],
 "metadata": {
  "kernelspec": {
   "display_name": "Python 3",
   "language": "python",
   "name": "python3"
  },
  "language_info": {
   "codemirror_mode": {
    "name": "ipython",
    "version": 3
   },
   "file_extension": ".py",
   "mimetype": "text/x-python",
   "name": "python",
   "nbconvert_exporter": "python",
   "pygments_lexer": "ipython3",
   "version": "3.6.1"
  }
 },
 "nbformat": 4,
 "nbformat_minor": 1
}
