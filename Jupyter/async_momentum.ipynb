{
 "cells": [
  {
   "cell_type": "raw",
   "metadata": {},
   "source": [
    "<script>\n",
    "  jQuery(document).ready(function($) {  \n",
    "  \n",
    "  $(window).on('load', function(){\n",
    "    $('#preloader').fadeOut('slow',function(){$(this).remove();});\n",
    "  });\n",
    "  \n",
    "  });\n",
    "</script>\n",
    "\n",
    "<style type=\"text/css\">\n",
    "  div#preloader { position: fixed; \n",
    "      left: 0; \n",
    "      top: 0; \n",
    "      z-index: 999; \n",
    "      width: 100%; \n",
    "      height: 100%; \n",
    "      overflow: visible; \n",
    "      background: #fff url('http://preloaders.net/preloaders/720/Moving%20line.gif') no-repeat center center; \n",
    "  }\n",
    "\n",
    "</style>\n",
    "\n",
    "<div id=\"preloader\">\n",
    "\n",
    "</div>"
   ]
  },
  {
   "cell_type": "raw",
   "metadata": {},
   "source": [
    "<script>\n",
    "  function code_toggle() {\n",
    "    if (code_shown){\n",
    "      $('div.input').hide('500');\n",
    "      $('#toggleButton').val('Show Code')\n",
    "    } else {\n",
    "      $('div.input').show('500');\n",
    "      $('#toggleButton').val('Hide Code')\n",
    "    }\n",
    "    code_shown = !code_shown\n",
    "  } \n",
    "  \n",
    "  $( document ).ready(function(){\n",
    "    code_shown=false; \n",
    "    $('div.input').hide()\n",
    "  });\n",
    "</script>\n",
    "<form action=\"javascript:code_toggle()\"><input type=\"submit\" id=\"toggleButton\" value=\"Show Code\"></form>"
   ]
  },
  {
   "cell_type": "markdown",
   "metadata": {},
   "source": [
    "<h1 style=\"text-align: center;\" markdown=\"1\"> ImageNet - Fast Training Regime</h1>\n",
    "<h2 style=\"text-align: center;\" markdown=\"1\"> Resnet 50</h2>"
   ]
  },
  {
   "cell_type": "code",
   "execution_count": 7,
   "metadata": {
    "scrolled": false
   },
   "outputs": [
    {
     "data": {
      "text/html": [
       "\n",
       "    <div class=\"bk-root\">\n",
       "        <a href=\"https://bokeh.pydata.org\" target=\"_blank\" class=\"bk-logo bk-logo-small bk-logo-notebook\"></a>\n",
       "        <span id=\"05d10ab1-6bbe-4e2e-ba2a-aa1ffa483524\">Loading BokehJS ...</span>\n",
       "    </div>"
      ]
     },
     "metadata": {},
     "output_type": "display_data"
    },
    {
     "data": {
      "application/javascript": [
       "\n",
       "(function(root) {\n",
       "  function now() {\n",
       "    return new Date();\n",
       "  }\n",
       "\n",
       "  var force = true;\n",
       "\n",
       "  if (typeof (root._bokeh_onload_callbacks) === \"undefined\" || force === true) {\n",
       "    root._bokeh_onload_callbacks = [];\n",
       "    root._bokeh_is_loading = undefined;\n",
       "  }\n",
       "\n",
       "  var JS_MIME_TYPE = 'application/javascript';\n",
       "  var HTML_MIME_TYPE = 'text/html';\n",
       "  var EXEC_MIME_TYPE = 'application/vnd.bokehjs_exec.v0+json';\n",
       "  var CLASS_NAME = 'output_bokeh rendered_html';\n",
       "\n",
       "  /**\n",
       "   * Render data to the DOM node\n",
       "   */\n",
       "  function render(props, node) {\n",
       "    var script = document.createElement(\"script\");\n",
       "    node.appendChild(script);\n",
       "  }\n",
       "\n",
       "  /**\n",
       "   * Handle when an output is cleared or removed\n",
       "   */\n",
       "  function handleClearOutput(event, handle) {\n",
       "    var cell = handle.cell;\n",
       "\n",
       "    var id = cell.output_area._bokeh_element_id;\n",
       "    var server_id = cell.output_area._bokeh_server_id;\n",
       "    // Clean up Bokeh references\n",
       "    if (id !== undefined) {\n",
       "      Bokeh.index[id].model.document.clear();\n",
       "      delete Bokeh.index[id];\n",
       "    }\n",
       "\n",
       "    if (server_id !== undefined) {\n",
       "      // Clean up Bokeh references\n",
       "      var cmd = \"from bokeh.io.state import curstate; print(curstate().uuid_to_server['\" + server_id + \"'].get_sessions()[0].document.roots[0]._id)\";\n",
       "      cell.notebook.kernel.execute(cmd, {\n",
       "        iopub: {\n",
       "          output: function(msg) {\n",
       "            var element_id = msg.content.text.trim();\n",
       "            Bokeh.index[element_id].model.document.clear();\n",
       "            delete Bokeh.index[element_id];\n",
       "          }\n",
       "        }\n",
       "      });\n",
       "      // Destroy server and session\n",
       "      var cmd = \"import bokeh.io.notebook as ion; ion.destroy_server('\" + server_id + \"')\";\n",
       "      cell.notebook.kernel.execute(cmd);\n",
       "    }\n",
       "  }\n",
       "\n",
       "  /**\n",
       "   * Handle when a new output is added\n",
       "   */\n",
       "  function handleAddOutput(event, handle) {\n",
       "    var output_area = handle.output_area;\n",
       "    var output = handle.output;\n",
       "\n",
       "    // limit handleAddOutput to display_data with EXEC_MIME_TYPE content only\n",
       "    if ((output.output_type != \"display_data\") || (!output.data.hasOwnProperty(EXEC_MIME_TYPE))) {\n",
       "      return\n",
       "    }\n",
       "\n",
       "    var toinsert = output_area.element.find(\".\" + CLASS_NAME.split(' ')[0]);\n",
       "\n",
       "    if (output.metadata[EXEC_MIME_TYPE][\"id\"] !== undefined) {\n",
       "      toinsert[0].firstChild.textContent = output.data[JS_MIME_TYPE];\n",
       "      // store reference to embed id on output_area\n",
       "      output_area._bokeh_element_id = output.metadata[EXEC_MIME_TYPE][\"id\"];\n",
       "    }\n",
       "    if (output.metadata[EXEC_MIME_TYPE][\"server_id\"] !== undefined) {\n",
       "      var bk_div = document.createElement(\"div\");\n",
       "      bk_div.innerHTML = output.data[HTML_MIME_TYPE];\n",
       "      var script_attrs = bk_div.children[0].attributes;\n",
       "      for (var i = 0; i < script_attrs.length; i++) {\n",
       "        toinsert[0].firstChild.setAttribute(script_attrs[i].name, script_attrs[i].value);\n",
       "      }\n",
       "      // store reference to server id on output_area\n",
       "      output_area._bokeh_server_id = output.metadata[EXEC_MIME_TYPE][\"server_id\"];\n",
       "    }\n",
       "  }\n",
       "\n",
       "  function register_renderer(events, OutputArea) {\n",
       "\n",
       "    function append_mime(data, metadata, element) {\n",
       "      // create a DOM node to render to\n",
       "      var toinsert = this.create_output_subarea(\n",
       "        metadata,\n",
       "        CLASS_NAME,\n",
       "        EXEC_MIME_TYPE\n",
       "      );\n",
       "      this.keyboard_manager.register_events(toinsert);\n",
       "      // Render to node\n",
       "      var props = {data: data, metadata: metadata[EXEC_MIME_TYPE]};\n",
       "      render(props, toinsert[0]);\n",
       "      element.append(toinsert);\n",
       "      return toinsert\n",
       "    }\n",
       "\n",
       "    /* Handle when an output is cleared or removed */\n",
       "    events.on('clear_output.CodeCell', handleClearOutput);\n",
       "    events.on('delete.Cell', handleClearOutput);\n",
       "\n",
       "    /* Handle when a new output is added */\n",
       "    events.on('output_added.OutputArea', handleAddOutput);\n",
       "\n",
       "    /**\n",
       "     * Register the mime type and append_mime function with output_area\n",
       "     */\n",
       "    OutputArea.prototype.register_mime_type(EXEC_MIME_TYPE, append_mime, {\n",
       "      /* Is output safe? */\n",
       "      safe: true,\n",
       "      /* Index of renderer in `output_area.display_order` */\n",
       "      index: 0\n",
       "    });\n",
       "  }\n",
       "\n",
       "  // register the mime type if in Jupyter Notebook environment and previously unregistered\n",
       "  if (root.Jupyter !== undefined) {\n",
       "    var events = require('base/js/events');\n",
       "    var OutputArea = require('notebook/js/outputarea').OutputArea;\n",
       "\n",
       "    if (OutputArea.prototype.mime_types().indexOf(EXEC_MIME_TYPE) == -1) {\n",
       "      register_renderer(events, OutputArea);\n",
       "    }\n",
       "  }\n",
       "\n",
       "  \n",
       "  if (typeof (root._bokeh_timeout) === \"undefined\" || force === true) {\n",
       "    root._bokeh_timeout = Date.now() + 5000;\n",
       "    root._bokeh_failed_load = false;\n",
       "  }\n",
       "\n",
       "  var NB_LOAD_WARNING = {'data': {'text/html':\n",
       "     \"<div style='background-color: #fdd'>\\n\"+\n",
       "     \"<p>\\n\"+\n",
       "     \"BokehJS does not appear to have successfully loaded. If loading BokehJS from CDN, this \\n\"+\n",
       "     \"may be due to a slow or bad network connection. Possible fixes:\\n\"+\n",
       "     \"</p>\\n\"+\n",
       "     \"<ul>\\n\"+\n",
       "     \"<li>re-rerun `output_notebook()` to attempt to load from CDN again, or</li>\\n\"+\n",
       "     \"<li>use INLINE resources instead, as so:</li>\\n\"+\n",
       "     \"</ul>\\n\"+\n",
       "     \"<code>\\n\"+\n",
       "     \"from bokeh.resources import INLINE\\n\"+\n",
       "     \"output_notebook(resources=INLINE)\\n\"+\n",
       "     \"</code>\\n\"+\n",
       "     \"</div>\"}};\n",
       "\n",
       "  function display_loaded() {\n",
       "    var el = document.getElementById(\"05d10ab1-6bbe-4e2e-ba2a-aa1ffa483524\");\n",
       "    if (el != null) {\n",
       "      el.textContent = \"BokehJS is loading...\";\n",
       "    }\n",
       "    if (root.Bokeh !== undefined) {\n",
       "      if (el != null) {\n",
       "        el.textContent = \"BokehJS \" + root.Bokeh.version + \" successfully loaded.\";\n",
       "      }\n",
       "    } else if (Date.now() < root._bokeh_timeout) {\n",
       "      setTimeout(display_loaded, 100)\n",
       "    }\n",
       "  }\n",
       "\n",
       "\n",
       "  function run_callbacks() {\n",
       "    try {\n",
       "      root._bokeh_onload_callbacks.forEach(function(callback) { callback() });\n",
       "    }\n",
       "    finally {\n",
       "      delete root._bokeh_onload_callbacks\n",
       "    }\n",
       "    console.info(\"Bokeh: all callbacks have finished\");\n",
       "  }\n",
       "\n",
       "  function load_libs(js_urls, callback) {\n",
       "    root._bokeh_onload_callbacks.push(callback);\n",
       "    if (root._bokeh_is_loading > 0) {\n",
       "      console.log(\"Bokeh: BokehJS is being loaded, scheduling callback at\", now());\n",
       "      return null;\n",
       "    }\n",
       "    if (js_urls == null || js_urls.length === 0) {\n",
       "      run_callbacks();\n",
       "      return null;\n",
       "    }\n",
       "    console.log(\"Bokeh: BokehJS not loaded, scheduling load and callback at\", now());\n",
       "    root._bokeh_is_loading = js_urls.length;\n",
       "    for (var i = 0; i < js_urls.length; i++) {\n",
       "      var url = js_urls[i];\n",
       "      var s = document.createElement('script');\n",
       "      s.src = url;\n",
       "      s.async = false;\n",
       "      s.onreadystatechange = s.onload = function() {\n",
       "        root._bokeh_is_loading--;\n",
       "        if (root._bokeh_is_loading === 0) {\n",
       "          console.log(\"Bokeh: all BokehJS libraries loaded\");\n",
       "          run_callbacks()\n",
       "        }\n",
       "      };\n",
       "      s.onerror = function() {\n",
       "        console.warn(\"failed to load library \" + url);\n",
       "      };\n",
       "      console.log(\"Bokeh: injecting script tag for BokehJS library: \", url);\n",
       "      document.getElementsByTagName(\"head\")[0].appendChild(s);\n",
       "    }\n",
       "  };var element = document.getElementById(\"05d10ab1-6bbe-4e2e-ba2a-aa1ffa483524\");\n",
       "  if (element == null) {\n",
       "    console.log(\"Bokeh: ERROR: autoload.js configured with elementid '05d10ab1-6bbe-4e2e-ba2a-aa1ffa483524' but no matching script tag was found. \")\n",
       "    return false;\n",
       "  }\n",
       "\n",
       "  var js_urls = [\"https://cdn.pydata.org/bokeh/release/bokeh-0.12.13.min.js\", \"https://cdn.pydata.org/bokeh/release/bokeh-widgets-0.12.13.min.js\", \"https://cdn.pydata.org/bokeh/release/bokeh-tables-0.12.13.min.js\", \"https://cdn.pydata.org/bokeh/release/bokeh-gl-0.12.13.min.js\"];\n",
       "\n",
       "  var inline_js = [\n",
       "    function(Bokeh) {\n",
       "      Bokeh.set_log_level(\"info\");\n",
       "    },\n",
       "    \n",
       "    function(Bokeh) {\n",
       "      \n",
       "    },\n",
       "    function(Bokeh) {\n",
       "      console.log(\"Bokeh: injecting CSS: https://cdn.pydata.org/bokeh/release/bokeh-0.12.13.min.css\");\n",
       "      Bokeh.embed.inject_css(\"https://cdn.pydata.org/bokeh/release/bokeh-0.12.13.min.css\");\n",
       "      console.log(\"Bokeh: injecting CSS: https://cdn.pydata.org/bokeh/release/bokeh-widgets-0.12.13.min.css\");\n",
       "      Bokeh.embed.inject_css(\"https://cdn.pydata.org/bokeh/release/bokeh-widgets-0.12.13.min.css\");\n",
       "      console.log(\"Bokeh: injecting CSS: https://cdn.pydata.org/bokeh/release/bokeh-tables-0.12.13.min.css\");\n",
       "      Bokeh.embed.inject_css(\"https://cdn.pydata.org/bokeh/release/bokeh-tables-0.12.13.min.css\");\n",
       "    }\n",
       "  ];\n",
       "\n",
       "  function run_inline_js() {\n",
       "    \n",
       "    if ((root.Bokeh !== undefined) || (force === true)) {\n",
       "      for (var i = 0; i < inline_js.length; i++) {\n",
       "        inline_js[i].call(root, root.Bokeh);\n",
       "      }if (force === true) {\n",
       "        display_loaded();\n",
       "      }} else if (Date.now() < root._bokeh_timeout) {\n",
       "      setTimeout(run_inline_js, 100);\n",
       "    } else if (!root._bokeh_failed_load) {\n",
       "      console.log(\"Bokeh: BokehJS failed to load within specified timeout.\");\n",
       "      root._bokeh_failed_load = true;\n",
       "    } else if (force !== true) {\n",
       "      var cell = $(document.getElementById(\"05d10ab1-6bbe-4e2e-ba2a-aa1ffa483524\")).parents('.cell').data().cell;\n",
       "      cell.output_area.append_execute_result(NB_LOAD_WARNING)\n",
       "    }\n",
       "\n",
       "  }\n",
       "\n",
       "  if (root._bokeh_is_loading === 0) {\n",
       "    console.log(\"Bokeh: BokehJS loaded, going straight to plotting\");\n",
       "    run_inline_js();\n",
       "  } else {\n",
       "    load_libs(js_urls, function() {\n",
       "      console.log(\"Bokeh: BokehJS plotting callback run at\", now());\n",
       "      run_inline_js();\n",
       "    });\n",
       "  }\n",
       "}(window));"
      ],
      "application/vnd.bokehjs_load.v0+json": "\n(function(root) {\n  function now() {\n    return new Date();\n  }\n\n  var force = true;\n\n  if (typeof (root._bokeh_onload_callbacks) === \"undefined\" || force === true) {\n    root._bokeh_onload_callbacks = [];\n    root._bokeh_is_loading = undefined;\n  }\n\n  \n\n  \n  if (typeof (root._bokeh_timeout) === \"undefined\" || force === true) {\n    root._bokeh_timeout = Date.now() + 5000;\n    root._bokeh_failed_load = false;\n  }\n\n  var NB_LOAD_WARNING = {'data': {'text/html':\n     \"<div style='background-color: #fdd'>\\n\"+\n     \"<p>\\n\"+\n     \"BokehJS does not appear to have successfully loaded. If loading BokehJS from CDN, this \\n\"+\n     \"may be due to a slow or bad network connection. Possible fixes:\\n\"+\n     \"</p>\\n\"+\n     \"<ul>\\n\"+\n     \"<li>re-rerun `output_notebook()` to attempt to load from CDN again, or</li>\\n\"+\n     \"<li>use INLINE resources instead, as so:</li>\\n\"+\n     \"</ul>\\n\"+\n     \"<code>\\n\"+\n     \"from bokeh.resources import INLINE\\n\"+\n     \"output_notebook(resources=INLINE)\\n\"+\n     \"</code>\\n\"+\n     \"</div>\"}};\n\n  function display_loaded() {\n    var el = document.getElementById(\"05d10ab1-6bbe-4e2e-ba2a-aa1ffa483524\");\n    if (el != null) {\n      el.textContent = \"BokehJS is loading...\";\n    }\n    if (root.Bokeh !== undefined) {\n      if (el != null) {\n        el.textContent = \"BokehJS \" + root.Bokeh.version + \" successfully loaded.\";\n      }\n    } else if (Date.now() < root._bokeh_timeout) {\n      setTimeout(display_loaded, 100)\n    }\n  }\n\n\n  function run_callbacks() {\n    try {\n      root._bokeh_onload_callbacks.forEach(function(callback) { callback() });\n    }\n    finally {\n      delete root._bokeh_onload_callbacks\n    }\n    console.info(\"Bokeh: all callbacks have finished\");\n  }\n\n  function load_libs(js_urls, callback) {\n    root._bokeh_onload_callbacks.push(callback);\n    if (root._bokeh_is_loading > 0) {\n      console.log(\"Bokeh: BokehJS is being loaded, scheduling callback at\", now());\n      return null;\n    }\n    if (js_urls == null || js_urls.length === 0) {\n      run_callbacks();\n      return null;\n    }\n    console.log(\"Bokeh: BokehJS not loaded, scheduling load and callback at\", now());\n    root._bokeh_is_loading = js_urls.length;\n    for (var i = 0; i < js_urls.length; i++) {\n      var url = js_urls[i];\n      var s = document.createElement('script');\n      s.src = url;\n      s.async = false;\n      s.onreadystatechange = s.onload = function() {\n        root._bokeh_is_loading--;\n        if (root._bokeh_is_loading === 0) {\n          console.log(\"Bokeh: all BokehJS libraries loaded\");\n          run_callbacks()\n        }\n      };\n      s.onerror = function() {\n        console.warn(\"failed to load library \" + url);\n      };\n      console.log(\"Bokeh: injecting script tag for BokehJS library: \", url);\n      document.getElementsByTagName(\"head\")[0].appendChild(s);\n    }\n  };var element = document.getElementById(\"05d10ab1-6bbe-4e2e-ba2a-aa1ffa483524\");\n  if (element == null) {\n    console.log(\"Bokeh: ERROR: autoload.js configured with elementid '05d10ab1-6bbe-4e2e-ba2a-aa1ffa483524' but no matching script tag was found. \")\n    return false;\n  }\n\n  var js_urls = [\"https://cdn.pydata.org/bokeh/release/bokeh-0.12.13.min.js\", \"https://cdn.pydata.org/bokeh/release/bokeh-widgets-0.12.13.min.js\", \"https://cdn.pydata.org/bokeh/release/bokeh-tables-0.12.13.min.js\", \"https://cdn.pydata.org/bokeh/release/bokeh-gl-0.12.13.min.js\"];\n\n  var inline_js = [\n    function(Bokeh) {\n      Bokeh.set_log_level(\"info\");\n    },\n    \n    function(Bokeh) {\n      \n    },\n    function(Bokeh) {\n      console.log(\"Bokeh: injecting CSS: https://cdn.pydata.org/bokeh/release/bokeh-0.12.13.min.css\");\n      Bokeh.embed.inject_css(\"https://cdn.pydata.org/bokeh/release/bokeh-0.12.13.min.css\");\n      console.log(\"Bokeh: injecting CSS: https://cdn.pydata.org/bokeh/release/bokeh-widgets-0.12.13.min.css\");\n      Bokeh.embed.inject_css(\"https://cdn.pydata.org/bokeh/release/bokeh-widgets-0.12.13.min.css\");\n      console.log(\"Bokeh: injecting CSS: https://cdn.pydata.org/bokeh/release/bokeh-tables-0.12.13.min.css\");\n      Bokeh.embed.inject_css(\"https://cdn.pydata.org/bokeh/release/bokeh-tables-0.12.13.min.css\");\n    }\n  ];\n\n  function run_inline_js() {\n    \n    if ((root.Bokeh !== undefined) || (force === true)) {\n      for (var i = 0; i < inline_js.length; i++) {\n        inline_js[i].call(root, root.Bokeh);\n      }if (force === true) {\n        display_loaded();\n      }} else if (Date.now() < root._bokeh_timeout) {\n      setTimeout(run_inline_js, 100);\n    } else if (!root._bokeh_failed_load) {\n      console.log(\"Bokeh: BokehJS failed to load within specified timeout.\");\n      root._bokeh_failed_load = true;\n    } else if (force !== true) {\n      var cell = $(document.getElementById(\"05d10ab1-6bbe-4e2e-ba2a-aa1ffa483524\")).parents('.cell').data().cell;\n      cell.output_area.append_execute_result(NB_LOAD_WARNING)\n    }\n\n  }\n\n  if (root._bokeh_is_loading === 0) {\n    console.log(\"Bokeh: BokehJS loaded, going straight to plotting\");\n    run_inline_js();\n  } else {\n    load_libs(js_urls, function() {\n      console.log(\"Bokeh: BokehJS plotting callback run at\", now());\n      run_inline_js();\n    });\n  }\n}(window));"
     },
     "metadata": {},
     "output_type": "display_data"
    },
    {
     "data": {
      "text/markdown": [
       "<h6> #Simulation 186 - Min Error 29.70% , Mean Error 29.76%<h6>"
      ],
      "text/plain": [
       "<IPython.core.display.Markdown object>"
      ]
     },
     "metadata": {},
     "output_type": "display_data"
    },
    {
     "data": {
      "text/markdown": [
       "<h6> #Simulation 182 - Min Error 29.76% , Mean Error 30.03%<h6>"
      ],
      "text/plain": [
       "<IPython.core.display.Markdown object>"
      ]
     },
     "metadata": {},
     "output_type": "display_data"
    }
   ],
   "source": [
    "import numpy as np\n",
    "import pandas as pd\n",
    "from bokeh.io import output_notebook\n",
    "from bokeh.plotting import figure, show, output_file\n",
    "from Outputs.jupyter_graphs import create_graphs, compare_graphs\n",
    "from IPython.display import Markdown, display\n",
    "from IPython.core.interactiveshell import InteractiveShell\n",
    "sim_num = [186, 182]\n",
    "plots, scores = compare_graphs(sim_nums=sim_num, linear=True)\n",
    "output_notebook()\n",
    "for sim in zip(sim_num,scores):\n",
    "    display(Markdown('<h6> #Simulation {:1d} - Min Error {:.2f}% , Mean Error {:.2f}%<h6>'.format(sim[0],sim[1][0],sim[1][1])))"
   ]
  },
  {
   "cell_type": "code",
   "execution_count": 8,
   "metadata": {},
   "outputs": [
    {
     "data": {
      "text/html": [
       "\n",
       "<div class=\"bk-root\">\n",
       "    <div class=\"bk-plotdiv\" id=\"fef7e3e2-2ea3-4f91-80e1-4bfe8f1c89a9\"></div>\n",
       "</div>"
      ]
     },
     "metadata": {},
     "output_type": "display_data"
    },
    {
     "data": {
      "application/javascript": [
       "(function(root) {\n",
       "  function embed_document(root) {\n",
       "    \n",
       "  var docs_json = {\"437a4002-d665-4eec-9f72-c296cb458735\":{\"roots\":{\"references\":[{\"attributes\":{\"data_source\":{\"id\":\"70e79f4f-45d8-4b6a-83d1-9fc4a6f214cb\",\"type\":\"ColumnDataSource\"},\"glyph\":{\"id\":\"3d09e504-7885-4917-b5d7-4ca863a7a74e\",\"type\":\"Line\"},\"hover_glyph\":null,\"muted_glyph\":null,\"nonselection_glyph\":{\"id\":\"98c8a46d-1924-462b-b3f2-5fafb941133c\",\"type\":\"Line\"},\"selection_glyph\":null,\"view\":{\"id\":\"8a2c508b-2b16-4b39-a697-b9c4713871b6\",\"type\":\"CDSView\"}},\"id\":\"a01f49c4-6724-4ef1-aaf1-4b7eff88a321\",\"type\":\"GlyphRenderer\"},{\"attributes\":{\"callback\":null,\"data\":{}},\"id\":\"3054fdde-b86c-4d6a-8702-afe294be4725\",\"type\":\"ColumnDataSource\"},{\"attributes\":{\"line_color\":\"#ff7f0e\",\"line_dash\":[6],\"line_width\":3,\"x\":{\"field\":\"x\"},\"y\":{\"field\":\"y\"}},\"id\":\"3d09e504-7885-4917-b5d7-4ca863a7a74e\",\"type\":\"Line\"},{\"attributes\":{\"line_alpha\":0.1,\"line_color\":\"#1f77b4\",\"line_dash\":[6],\"line_width\":3,\"x\":{\"field\":\"x\"},\"y\":{\"field\":\"y\"}},\"id\":\"98c8a46d-1924-462b-b3f2-5fafb941133c\",\"type\":\"Line\"},{\"attributes\":{\"source\":{\"id\":\"70e79f4f-45d8-4b6a-83d1-9fc4a6f214cb\",\"type\":\"ColumnDataSource\"}},\"id\":\"8a2c508b-2b16-4b39-a697-b9c4713871b6\",\"type\":\"CDSView\"},{\"attributes\":{\"active_drag\":\"auto\",\"active_inspect\":\"auto\",\"active_scroll\":\"auto\",\"active_tap\":\"auto\",\"tools\":[{\"id\":\"06080018-58df-4e45-97bf-c2c0d6a52b39\",\"type\":\"PanTool\"},{\"id\":\"7a8c9275-da93-480d-92ba-014782527173\",\"type\":\"WheelZoomTool\"},{\"id\":\"592ef102-6e26-4899-a455-f1048ab4ab25\",\"type\":\"BoxZoomTool\"},{\"id\":\"91214ae7-ef3e-4cb2-88ef-9abde4b444df\",\"type\":\"SaveTool\"},{\"id\":\"d6457bdc-6ae1-41f0-a041-a99d7489279b\",\"type\":\"ResetTool\"},{\"id\":\"98a28475-0574-41e6-b493-553d520e2384\",\"type\":\"HelpTool\"}]},\"id\":\"a13d3cbd-fd93-41b7-b1a4-65071d625505\",\"type\":\"Toolbar\"},{\"attributes\":{\"line_alpha\":0.1,\"line_color\":\"#1f77b4\",\"line_dash\":[6],\"line_width\":3,\"x\":{\"field\":\"x\"},\"y\":{\"field\":\"y\"}},\"id\":\"ffc346fe-2fd9-4408-a224-68b63b080b12\",\"type\":\"Line\"},{\"attributes\":{\"line_alpha\":0.1,\"line_color\":\"#1f77b4\",\"line_width\":3,\"x\":{\"field\":\"x\"},\"y\":{\"field\":\"y\"}},\"id\":\"a6ae1631-2603-4121-b7c2-c5c9461dc3dd\",\"type\":\"Line\"},{\"attributes\":{\"plot\":null,\"text\":\"Training & Test Error\"},\"id\":\"758b8d5d-820e-42a4-981d-ca25d8ecbb04\",\"type\":\"Title\"},{\"attributes\":{\"callback\":null,\"column_names\":[\"x\",\"y\"],\"data\":{\"x\":{\"__ndarray__\":\"AQAAAAIAAAADAAAABAAAAAUAAAAGAAAABwAAAAgAAAAJAAAACgAAAAsAAAAMAAAADQAAAA4AAAAPAAAAEAAAABEAAAASAAAAEwAAABQAAAAVAAAAFgAAABcAAAAYAAAAGQAAABoAAAAbAAAAHAAAAB0AAAAeAAAAHwAAACAAAAAhAAAAIgAAACMAAAAkAAAAJQAAACYAAAAnAAAAKAAAACkAAAAqAAAAKwAAACwAAAAtAAAALgAAAC8AAAAwAAAAMQAAADIAAAAzAAAANAAAADUAAAA2AAAANwAAADgAAAA5AAAAOgAAADsAAAA8AAAAPQAAAD4AAAA/AAAAQAAAAEEAAABCAAAAQwAAAEQAAABFAAAARgAAAEcAAABIAAAASQAAAEoAAABLAAAATAAAAE0AAABOAAAATwAAAFAAAABRAAAAUgAAAFMAAABUAAAAVQAAAFYAAABXAAAAWAAAAFkAAABaAAAA\",\"dtype\":\"int32\",\"shape\":[90]},\"y\":[0.9959396394068846,0.9829686527985925,0.9670324009282274,0.9479708734299532,0.9254827824944943,0.8873940711866827,0.8444902186834794,0.8021452316518265,0.7622823566319642,0.7291453807342827,0.6969692475679694,0.6698322701103727,0.6468555621555303,0.6242636596143211,0.6060209168665449,0.5898309900261085,0.5736121832650238,0.5590012855480925,0.5486817877763902,0.5362080041076522,0.5271350261141616,0.5188925409403848,0.5101130453706643,0.5020430591789835,0.49516885776700403,0.49086731081860696,0.48349356485267114,0.4790647901488631,0.47386406300006334,0.47010655129349255,0.3874483185983308,0.3746599779737134,0.3696379941051148,0.36550348237139524,0.36284652976549997,0.36045808235909504,0.35787371981676896,0.35511763883997544,0.353421528967056,0.350842630195513,0.34990676468943704,0.3471147789451898,0.3465738658562421,0.34395203747850894,0.3428093293084635,0.3412263974967782,0.33971527521178224,0.3383071839940531,0.3366118546605443,0.3358313162937667,0.33388933683065,0.3323149909435197,0.33103412747414473,0.32940202174774286,0.32869953721826534,0.3273531085281369,0.32621820574529026,0.32494358658637706,0.3235916941367802,0.32224838759982816,0.31544443464191,0.31326282990420884,0.31228091263674157,0.31200069936535574,0.31190469314295916,0.3111022996974559,0.31070656674520447,0.3103584466366494,0.30997598283297095,0.3094147757465903,0.30941789790197005,0.3090369951784231,0.30850700962443156,0.3086810696806147,0.30836573217987573,0.30847891023860874,0.30786852924042946,0.3074337693713592,0.30751338427863734,0.3077537900983493,0.3065252227062763,0.30664620615310134,0.30607485207174095,0.3058531791668593,0.3062442288911028,0.3060116284619841,0.30629886658351035,0.3063613096478717,0.30596011292436087,0.3057501481082273]}},\"id\":\"1fe19ddb-2ab8-4c1b-a241-ebb959763aee\",\"type\":\"ColumnDataSource\"},{\"attributes\":{\"source\":{\"id\":\"1fe19ddb-2ab8-4c1b-a241-ebb959763aee\",\"type\":\"ColumnDataSource\"}},\"id\":\"7e46fe85-f27e-4307-b779-0fc194687219\",\"type\":\"CDSView\"},{\"attributes\":{\"callback\":null,\"column_names\":[\"x\",\"y\"],\"data\":{\"x\":{\"__ndarray__\":\"AQAAAAIAAAADAAAABAAAAAUAAAAGAAAABwAAAAgAAAAJAAAACgAAAAsAAAAMAAAADQAAAA4AAAAPAAAAEAAAABEAAAASAAAAEwAAABQAAAAVAAAAFgAAABcAAAAYAAAAGQAAABoAAAAbAAAAHAAAAB0AAAAeAAAAHwAAACAAAAAhAAAAIgAAACMAAAAkAAAAJQAAACYAAAAnAAAAKAAAACkAAAAqAAAAKwAAACwAAAAtAAAALgAAAC8AAAAwAAAAMQAAADIAAAAzAAAANAAAADUAAAA2AAAANwAAADgAAAA5AAAAOgAAADsAAAA8AAAAPQAAAD4AAAA/AAAAQAAAAEEAAABCAAAAQwAAAEQAAABFAAAARgAAAEcAAABIAAAASQAAAEoAAABLAAAATAAAAE0AAABOAAAATwAAAFAAAABRAAAAUgAAAFMAAABUAAAAVQAAAFYAAABXAAAAWAAAAFkAAABaAAAA\",\"dtype\":\"int32\",\"shape\":[90]},\"y\":[0.9942399999984741,0.9841999999938964,0.9701399999992372,0.9619400000091552,0.933619999975586,0.9029000000701904,0.8789600001098633,0.8528200000427246,0.8325200000946045,0.8185000000305176,0.8025400000732422,0.7905400001220703,0.7652000000915526,0.7619,0.7511600000488281,0.7361600001525879,0.7497400000793456,0.722480000201416,0.7161000001281738,0.727679999987793,0.6985600001708984,0.6962800002197266,0.7038800002441407,0.7001000001464844,0.7268800000366211,0.7021800000427245,0.6982199999633789,0.69056,0.6792000001586913,0.6557999997924804,0.47800000009765625,0.4532399999633789,0.4428200000854492,0.43063999997558594,0.42680000040283206,0.41803999998779295,0.42176000021972654,0.4158000002807617,0.4111400000732422,0.4119800003173828,0.40914000036621095,0.4090799998535157,0.40812000036621093,0.41926000009765624,0.4067999999145508,0.40638000019531245,0.40761999998779297,0.40711999986572267,0.41267999992675786,0.40646000014648437,0.40178000006103515,0.38894000030517584,0.4017200003417969,0.39241999997558596,0.39208000048828123,0.3905600001464844,0.38766000003662104,0.3855600003540039,0.3841000001464844,0.39280000001220705,0.32562000073242187,0.3224400002685547,0.31964000029296874,0.3172800001953125,0.3139400000244141,0.3120800006347656,0.3130000002441406,0.31170000083007815,0.3102800005859375,0.30882000048828123,0.3070400005126953,0.30663999975585937,0.3080200005126953,0.30522000026855467,0.30560000053710934,0.3052599998535156,0.3037200007324219,0.30278000068359373,0.3035200000732422,0.30349999958496093,0.3012200004638672,0.3003000002197266,0.2980399998046875,0.30032000002441406,0.29835999980468747,0.2994600002685547,0.2987000005615234,0.2976400004638672,0.2980399995605469,0.29806000043945313]}},\"id\":\"00d82f3d-5322-4f31-9e1e-b6116c8d4e15\",\"type\":\"ColumnDataSource\"},{\"attributes\":{\"click_policy\":\"hide\",\"items\":[{\"id\":\"3f57adb2-bf15-4880-9db0-fea3246eb988\",\"type\":\"LegendItem\"},{\"id\":\"0844d29d-4d6e-494c-b3ff-8d53137c091b\",\"type\":\"LegendItem\"},{\"id\":\"4822e982-616f-4f90-ba64-357e1116e0f3\",\"type\":\"LegendItem\"},{\"id\":\"5fe3e81b-df8f-4f3b-ac13-b96d49c3b0ea\",\"type\":\"LegendItem\"}],\"plot\":{\"id\":\"32fe3add-b361-4870-b2b9-7c91e5e4cbff\",\"subtype\":\"Figure\",\"type\":\"Plot\"}},\"id\":\"83466a95-ec53-42d5-b9fc-32438872ea0f\",\"type\":\"Legend\"},{\"attributes\":{\"source\":{\"id\":\"00d82f3d-5322-4f31-9e1e-b6116c8d4e15\",\"type\":\"ColumnDataSource\"}},\"id\":\"073a9ec0-349e-4530-a145-94a407cb072d\",\"type\":\"CDSView\"},{\"attributes\":{\"data_source\":{\"id\":\"00d82f3d-5322-4f31-9e1e-b6116c8d4e15\",\"type\":\"ColumnDataSource\"},\"glyph\":{\"id\":\"867501b6-e7d2-4510-926c-db4cfecf6778\",\"type\":\"Line\"},\"hover_glyph\":null,\"muted_glyph\":null,\"nonselection_glyph\":{\"id\":\"a6ae1631-2603-4121-b7c2-c5c9461dc3dd\",\"type\":\"Line\"},\"selection_glyph\":null,\"view\":{\"id\":\"073a9ec0-349e-4530-a145-94a407cb072d\",\"type\":\"CDSView\"}},\"id\":\"51df2db8-2b87-4b13-b81a-1ad9432b363f\",\"type\":\"GlyphRenderer\"},{\"attributes\":{\"data_source\":{\"id\":\"1fe19ddb-2ab8-4c1b-a241-ebb959763aee\",\"type\":\"ColumnDataSource\"},\"glyph\":{\"id\":\"f6238dae-0a70-41a6-8c58-9819dacee538\",\"type\":\"Line\"},\"hover_glyph\":null,\"muted_glyph\":null,\"nonselection_glyph\":{\"id\":\"ffc346fe-2fd9-4408-a224-68b63b080b12\",\"type\":\"Line\"},\"selection_glyph\":null,\"view\":{\"id\":\"7e46fe85-f27e-4307-b779-0fc194687219\",\"type\":\"CDSView\"}},\"id\":\"765f8178-8c40-4729-80bf-275e11d42800\",\"type\":\"GlyphRenderer\"},{\"attributes\":{\"line_color\":\"#ff7f0e\",\"line_width\":3,\"x\":{\"field\":\"x\"},\"y\":{\"field\":\"y\"}},\"id\":\"867501b6-e7d2-4510-926c-db4cfecf6778\",\"type\":\"Line\"},{\"attributes\":{\"label\":{\"value\":\"validation - 256_32_0.9\"},\"renderers\":[{\"id\":\"51df2db8-2b87-4b13-b81a-1ad9432b363f\",\"type\":\"GlyphRenderer\"}]},\"id\":\"5fe3e81b-df8f-4f3b-ac13-b96d49c3b0ea\",\"type\":\"LegendItem\"},{\"attributes\":{\"line_color\":\"#1f77b4\",\"line_dash\":[6],\"line_width\":3,\"x\":{\"field\":\"x\"},\"y\":{\"field\":\"y\"}},\"id\":\"f6238dae-0a70-41a6-8c58-9819dacee538\",\"type\":\"Line\"},{\"attributes\":{},\"id\":\"dbd04ba9-3f9d-438f-98e0-33cd237535bb\",\"type\":\"BasicTickFormatter\"},{\"attributes\":{\"fill_alpha\":{\"value\":0.5},\"fill_color\":{\"value\":\"red\"},\"line_alpha\":{\"value\":0.5},\"line_color\":{\"value\":\"red\"},\"size\":{\"units\":\"screen\",\"value\":5},\"x\":{\"value\":88},\"y\":{\"value\":0.2976400004638672}},\"id\":\"a23bfcf8-0845-4695-ab20-131e7f963974\",\"type\":\"Circle\"},{\"attributes\":{\"label\":{\"value\":\"train - 256_32_0.0\"},\"renderers\":[{\"id\":\"765f8178-8c40-4729-80bf-275e11d42800\",\"type\":\"GlyphRenderer\"}]},\"id\":\"3f57adb2-bf15-4880-9db0-fea3246eb988\",\"type\":\"LegendItem\"},{\"attributes\":{\"callback\":null,\"column_names\":[\"x\",\"y\"],\"data\":{\"x\":{\"__ndarray__\":\"AQAAAAIAAAADAAAABAAAAAUAAAAGAAAABwAAAAgAAAAJAAAACgAAAAsAAAAMAAAADQAAAA4AAAAPAAAAEAAAABEAAAASAAAAEwAAABQAAAAVAAAAFgAAABcAAAAYAAAAGQAAABoAAAAbAAAAHAAAAB0AAAAeAAAAHwAAACAAAAAhAAAAIgAAACMAAAAkAAAAJQAAACYAAAAnAAAAKAAAACkAAAAqAAAAKwAAACwAAAAtAAAALgAAAC8AAAAwAAAAMQAAADIAAAAzAAAANAAAADUAAAA2AAAANwAAADgAAAA5AAAAOgAAADsAAAA8AAAAPQAAAD4AAAA/AAAAQAAAAEEAAABCAAAAQwAAAEQAAABFAAAARgAAAEcAAABIAAAASQAAAEoAAABLAAAATAAAAE0AAABOAAAATwAAAFAAAABRAAAAUgAAAFMAAABUAAAAVQAAAFYAAABXAAAAWAAAAFkAAABaAAAA\",\"dtype\":\"int32\",\"shape\":[90]},\"y\":[0.9977645381125178,0.9926379621079765,0.9814294311357683,0.9663868956973751,0.9506980744898353,0.9309090852324705,0.9104870793580533,0.8903530921417961,0.8729525502924552,0.8609798722568152,0.8412111769972667,0.8278912897376108,0.8177224358731126,0.8088188347030183,0.8003086248706431,0.7908828435324683,0.7830618490796057,0.7814828199599119,0.7718993698710476,0.7681925931587292,0.7668204067072181,0.7573423292975849,0.7670038332230793,0.7546916209977447,0.7489343699921055,0.745800508442738,0.7435869016283836,0.7408893610275479,0.7377679880914069,0.7538790805569192,0.5570265234730506,0.5155182735730621,0.49547638988405773,0.48323910934173014,0.47464538190666844,0.46755809352037686,0.46403552386127594,0.460997668532846,0.45932497480833256,0.4567968110307444,0.4565720159804576,0.45458164314304733,0.45396579837057144,0.45295344010467686,0.45115586024384796,0.4510419016423397,0.4490117213459308,0.4475380649056914,0.4465163401814289,0.44432146628940816,0.44200326733250894,0.44159972899508354,0.4393884637999735,0.43746365618036903,0.43610864157304013,0.43479187334722835,0.4322145356537325,0.4317914838560813,0.42999312345527607,0.42789815847558893,0.3553354090436055,0.3425353603378922,0.33847578028195424,0.3344091753821882,0.33067195767906504,0.32924201138469444,0.3269238124270509,0.3239296672478544,0.322985215824429,0.3211720251934305,0.3198919422699275,0.31797415949403196,0.3162437059309914,0.315780066144191,0.3137865711509544,0.31312857730818555,0.3115995026401179,0.3107065667506236,0.30945536374336197,0.30849998477646473,0.30386436740764505,0.30142206285500234,0.30092095722270107,0.30046200065759615,0.30068913732534075,0.29972673351634244,0.299352855637219,0.29973375836356486,0.2995323794650785,0.2995909198380141]}},\"id\":\"70e79f4f-45d8-4b6a-83d1-9fc4a6f214cb\",\"type\":\"ColumnDataSource\"},{\"attributes\":{\"callback\":null},\"id\":\"ce65a033-4f01-493a-8549-e192f3813d0f\",\"type\":\"DataRange1d\"},{\"attributes\":{\"source\":{\"id\":\"3054fdde-b86c-4d6a-8702-afe294be4725\",\"type\":\"ColumnDataSource\"}},\"id\":\"3c9eb071-c50f-4cc2-9695-81b5c7d07463\",\"type\":\"CDSView\"},{\"attributes\":{\"fill_alpha\":{\"value\":0.1},\"fill_color\":{\"value\":\"#1f77b4\"},\"line_alpha\":{\"value\":0.1},\"line_color\":{\"value\":\"#1f77b4\"},\"size\":{\"units\":\"screen\",\"value\":5},\"x\":{\"value\":88},\"y\":{\"value\":0.2976400004638672}},\"id\":\"dc2f2761-c14f-4fa9-a097-497297fa5340\",\"type\":\"Circle\"},{\"attributes\":{\"background_fill_color\":{\"value\":\"#fafafa\"},\"below\":[{\"id\":\"6bd665f1-9943-4834-a73a-14f1ef185547\",\"type\":\"LinearAxis\"}],\"left\":[{\"id\":\"eaf260a2-6655-44a5-8093-720422003f5f\",\"type\":\"LinearAxis\"}],\"min_border\":10,\"min_border_left\":50,\"renderers\":[{\"id\":\"6bd665f1-9943-4834-a73a-14f1ef185547\",\"type\":\"LinearAxis\"},{\"id\":\"84ee5628-0b76-42cf-b5df-ba47163f4d3c\",\"type\":\"Grid\"},{\"id\":\"eaf260a2-6655-44a5-8093-720422003f5f\",\"type\":\"LinearAxis\"},{\"id\":\"8f3e85bd-f1d4-49ff-b1bf-83eb674df37c\",\"type\":\"Grid\"},{\"id\":\"d5eaa847-57f2-4719-84b0-9c16f7bd455b\",\"type\":\"BoxAnnotation\"},{\"id\":\"83466a95-ec53-42d5-b9fc-32438872ea0f\",\"type\":\"Legend\"},{\"id\":\"765f8178-8c40-4729-80bf-275e11d42800\",\"type\":\"GlyphRenderer\"},{\"id\":\"69b31ac0-9ac9-4280-88ac-07697ff157f5\",\"type\":\"GlyphRenderer\"},{\"id\":\"1453842a-418c-4016-b7d4-acbc4c214901\",\"type\":\"GlyphRenderer\"},{\"id\":\"a01f49c4-6724-4ef1-aaf1-4b7eff88a321\",\"type\":\"GlyphRenderer\"},{\"id\":\"51df2db8-2b87-4b13-b81a-1ad9432b363f\",\"type\":\"GlyphRenderer\"},{\"id\":\"7678ade0-5ca0-4175-8f96-723febc3ff52\",\"type\":\"GlyphRenderer\"}],\"title\":{\"id\":\"758b8d5d-820e-42a4-981d-ca25d8ecbb04\",\"type\":\"Title\"},\"toolbar\":{\"id\":\"a13d3cbd-fd93-41b7-b1a4-65071d625505\",\"type\":\"Toolbar\"},\"x_range\":{\"id\":\"ce65a033-4f01-493a-8549-e192f3813d0f\",\"type\":\"DataRange1d\"},\"x_scale\":{\"id\":\"9d672984-2087-4f04-97f2-ebd9ae4b5783\",\"type\":\"LinearScale\"},\"y_range\":{\"id\":\"11006422-ad77-484b-8cb3-74b5b1a31a68\",\"type\":\"DataRange1d\"},\"y_scale\":{\"id\":\"24d02a60-f40e-4263-890b-abbec2906124\",\"type\":\"LinearScale\"}},\"id\":\"32fe3add-b361-4870-b2b9-7c91e5e4cbff\",\"subtype\":\"Figure\",\"type\":\"Plot\"},{\"attributes\":{\"data_source\":{\"id\":\"3054fdde-b86c-4d6a-8702-afe294be4725\",\"type\":\"ColumnDataSource\"},\"glyph\":{\"id\":\"a23bfcf8-0845-4695-ab20-131e7f963974\",\"type\":\"Circle\"},\"hover_glyph\":null,\"muted_glyph\":null,\"nonselection_glyph\":{\"id\":\"dc2f2761-c14f-4fa9-a097-497297fa5340\",\"type\":\"Circle\"},\"selection_glyph\":null,\"view\":{\"id\":\"3c9eb071-c50f-4cc2-9695-81b5c7d07463\",\"type\":\"CDSView\"}},\"id\":\"7678ade0-5ca0-4175-8f96-723febc3ff52\",\"type\":\"GlyphRenderer\"},{\"attributes\":{},\"id\":\"24d02a60-f40e-4263-890b-abbec2906124\",\"type\":\"LinearScale\"},{\"attributes\":{},\"id\":\"9d672984-2087-4f04-97f2-ebd9ae4b5783\",\"type\":\"LinearScale\"},{\"attributes\":{\"callback\":null},\"id\":\"11006422-ad77-484b-8cb3-74b5b1a31a68\",\"type\":\"DataRange1d\"},{\"attributes\":{\"plot\":{\"id\":\"32fe3add-b361-4870-b2b9-7c91e5e4cbff\",\"subtype\":\"Figure\",\"type\":\"Plot\"},\"ticker\":{\"id\":\"62113655-85db-45b2-affa-2e5ac8b874bb\",\"type\":\"BasicTicker\"}},\"id\":\"84ee5628-0b76-42cf-b5df-ba47163f4d3c\",\"type\":\"Grid\"},{\"attributes\":{\"dimension\":1,\"plot\":{\"id\":\"32fe3add-b361-4870-b2b9-7c91e5e4cbff\",\"subtype\":\"Figure\",\"type\":\"Plot\"},\"ticker\":{\"id\":\"eb826bbf-8c5b-436e-ae05-46c5a49760c9\",\"type\":\"BasicTicker\"}},\"id\":\"8f3e85bd-f1d4-49ff-b1bf-83eb674df37c\",\"type\":\"Grid\"},{\"attributes\":{},\"id\":\"62113655-85db-45b2-affa-2e5ac8b874bb\",\"type\":\"BasicTicker\"},{\"attributes\":{\"axis_label\":\"t [Epochs]\",\"formatter\":{\"id\":\"dbd04ba9-3f9d-438f-98e0-33cd237535bb\",\"type\":\"BasicTickFormatter\"},\"plot\":{\"id\":\"32fe3add-b361-4870-b2b9-7c91e5e4cbff\",\"subtype\":\"Figure\",\"type\":\"Plot\"},\"ticker\":{\"id\":\"62113655-85db-45b2-affa-2e5ac8b874bb\",\"type\":\"BasicTicker\"}},\"id\":\"6bd665f1-9943-4834-a73a-14f1ef185547\",\"type\":\"LinearAxis\"},{\"attributes\":{\"callback\":null,\"data\":{}},\"id\":\"0caaf097-786f-4727-95ca-df8cf4cdd7ff\",\"type\":\"ColumnDataSource\"},{\"attributes\":{},\"id\":\"eb826bbf-8c5b-436e-ae05-46c5a49760c9\",\"type\":\"BasicTicker\"},{\"attributes\":{\"line_alpha\":0.1,\"line_color\":\"#1f77b4\",\"line_width\":3,\"x\":{\"field\":\"x\"},\"y\":{\"field\":\"y\"}},\"id\":\"36cb3da7-ad1b-4a3f-aaee-24c02e05dd69\",\"type\":\"Line\"},{\"attributes\":{\"axis_label\":\"Error Rate\",\"formatter\":{\"id\":\"00dd28d8-f3b5-4414-adb6-3254bf8f0b12\",\"type\":\"NumeralTickFormatter\"},\"plot\":{\"id\":\"32fe3add-b361-4870-b2b9-7c91e5e4cbff\",\"subtype\":\"Figure\",\"type\":\"Plot\"},\"ticker\":{\"id\":\"eb826bbf-8c5b-436e-ae05-46c5a49760c9\",\"type\":\"BasicTicker\"}},\"id\":\"eaf260a2-6655-44a5-8093-720422003f5f\",\"type\":\"LinearAxis\"},{\"attributes\":{\"format\":\"0.0%\"},\"id\":\"00dd28d8-f3b5-4414-adb6-3254bf8f0b12\",\"type\":\"NumeralTickFormatter\"},{\"attributes\":{\"bottom_units\":\"screen\",\"fill_alpha\":{\"value\":0.5},\"fill_color\":{\"value\":\"lightgrey\"},\"left_units\":\"screen\",\"level\":\"overlay\",\"line_alpha\":{\"value\":1.0},\"line_color\":{\"value\":\"black\"},\"line_dash\":[4,4],\"line_width\":{\"value\":2},\"plot\":null,\"render_mode\":\"css\",\"right_units\":\"screen\",\"top_units\":\"screen\"},\"id\":\"d5eaa847-57f2-4719-84b0-9c16f7bd455b\",\"type\":\"BoxAnnotation\"},{\"attributes\":{\"callback\":null,\"column_names\":[\"x\",\"y\"],\"data\":{\"x\":{\"__ndarray__\":\"AQAAAAIAAAADAAAABAAAAAUAAAAGAAAABwAAAAgAAAAJAAAACgAAAAsAAAAMAAAADQAAAA4AAAAPAAAAEAAAABEAAAASAAAAEwAAABQAAAAVAAAAFgAAABcAAAAYAAAAGQAAABoAAAAbAAAAHAAAAB0AAAAeAAAAHwAAACAAAAAhAAAAIgAAACMAAAAkAAAAJQAAACYAAAAnAAAAKAAAACkAAAAqAAAAKwAAACwAAAAtAAAALgAAAC8AAAAwAAAAMQAAADIAAAAzAAAANAAAADUAAAA2AAAANwAAADgAAAA5AAAAOgAAADsAAAA8AAAAPQAAAD4AAAA/AAAAQAAAAEEAAABCAAAAQwAAAEQAAABFAAAARgAAAEcAAABIAAAASQAAAEoAAABLAAAATAAAAE0AAABOAAAATwAAAFAAAABRAAAAUgAAAFMAAABUAAAAVQAAAFYAAABXAAAAWAAAAFkAAABaAAAA\",\"dtype\":\"int32\",\"shape\":[90]},\"y\":[0.9880800000013352,0.9865599999938965,0.9800400000125884,0.9612000000350952,0.9625800000122071,0.9774000000167846,0.940580000024414,0.9210800000259399,0.8568800000518799,0.8306400000854492,0.8019000000427247,0.8124400000305175,0.7809800000854491,0.6870600002441407,0.7621400001464843,0.7931800000793457,0.696840000036621,0.6726600002929688,0.6698800002075196,0.6702400001403808,0.724420000164795,0.7126200001953126,0.7011200002014161,0.5643999998779297,0.7028000001586914,0.6483200001342773,0.6427799999877929,0.5441999998046875,0.5689800001464844,0.542240000390625,0.3423400003173828,0.33600000073242187,0.3317600001708984,0.33063999985351566,0.32846000017089844,0.3274600000488281,0.3256800002685547,0.32514000078125,0.32381999968261715,0.3218400001708984,0.32173999995117186,0.31880000041503903,0.3181000000488281,0.3196200001708984,0.3162999995849609,0.3159600002929687,0.31486000029296873,0.3160999998779297,0.33057999997558596,0.3186600003173828,0.31363999997558595,0.31228000078125,0.31115999975585934,0.31789999978027345,0.3107000007080078,0.31082,0.3105999996826172,0.3109399996826172,0.3071400002685547,0.30874000080566405,0.30146000056152344,0.30052000078125,0.2996000007080078,0.2999200006591797,0.29979999958496095,0.29894000053710934,0.2991200006591797,0.29968,0.2994400008056641,0.2991999995605469,0.29967999968261716,0.2988200006103516,0.29867999960937497,0.2987600000732422,0.2980999997802734,0.2988799998291016,0.29808000083007813,0.2975599998291016,0.29813999997558593,0.29762000034179686,0.297459999975586,0.29788000007324217,0.29779999956054687,0.29735999978027344,0.29784000048828124,0.29701999978027344,0.2973599995605469,0.2971000005126953,0.2977199998535156,0.29724000073242185]}},\"id\":\"42d234bd-5e20-4e73-969d-a2feb4c08564\",\"type\":\"ColumnDataSource\"},{\"attributes\":{\"source\":{\"id\":\"42d234bd-5e20-4e73-969d-a2feb4c08564\",\"type\":\"ColumnDataSource\"}},\"id\":\"a338cb09-308f-48bf-9a90-949f2fdcebb7\",\"type\":\"CDSView\"},{\"attributes\":{},\"id\":\"06080018-58df-4e45-97bf-c2c0d6a52b39\",\"type\":\"PanTool\"},{\"attributes\":{\"data_source\":{\"id\":\"42d234bd-5e20-4e73-969d-a2feb4c08564\",\"type\":\"ColumnDataSource\"},\"glyph\":{\"id\":\"3d76e429-2ba6-4cf8-8a04-e4805551e825\",\"type\":\"Line\"},\"hover_glyph\":null,\"muted_glyph\":null,\"nonselection_glyph\":{\"id\":\"36cb3da7-ad1b-4a3f-aaee-24c02e05dd69\",\"type\":\"Line\"},\"selection_glyph\":null,\"view\":{\"id\":\"a338cb09-308f-48bf-9a90-949f2fdcebb7\",\"type\":\"CDSView\"}},\"id\":\"69b31ac0-9ac9-4280-88ac-07697ff157f5\",\"type\":\"GlyphRenderer\"},{\"attributes\":{\"line_color\":\"#1f77b4\",\"line_width\":3,\"x\":{\"field\":\"x\"},\"y\":{\"field\":\"y\"}},\"id\":\"3d76e429-2ba6-4cf8-8a04-e4805551e825\",\"type\":\"Line\"},{\"attributes\":{},\"id\":\"7a8c9275-da93-480d-92ba-014782527173\",\"type\":\"WheelZoomTool\"},{\"attributes\":{\"label\":{\"value\":\"validation - 256_32_0.0\"},\"renderers\":[{\"id\":\"69b31ac0-9ac9-4280-88ac-07697ff157f5\",\"type\":\"GlyphRenderer\"}]},\"id\":\"0844d29d-4d6e-494c-b3ff-8d53137c091b\",\"type\":\"LegendItem\"},{\"attributes\":{\"overlay\":{\"id\":\"d5eaa847-57f2-4719-84b0-9c16f7bd455b\",\"type\":\"BoxAnnotation\"}},\"id\":\"592ef102-6e26-4899-a455-f1048ab4ab25\",\"type\":\"BoxZoomTool\"},{\"attributes\":{\"fill_alpha\":{\"value\":0.1},\"fill_color\":{\"value\":\"#1f77b4\"},\"line_alpha\":{\"value\":0.1},\"line_color\":{\"value\":\"#1f77b4\"},\"size\":{\"units\":\"screen\",\"value\":5},\"x\":{\"value\":86},\"y\":{\"value\":0.29701999978027344}},\"id\":\"8980d887-8ae3-4c75-a61a-a958ef061a6a\",\"type\":\"Circle\"},{\"attributes\":{},\"id\":\"91214ae7-ef3e-4cb2-88ef-9abde4b444df\",\"type\":\"SaveTool\"},{\"attributes\":{\"fill_alpha\":{\"value\":0.5},\"fill_color\":{\"value\":\"red\"},\"line_alpha\":{\"value\":0.5},\"line_color\":{\"value\":\"red\"},\"size\":{\"units\":\"screen\",\"value\":5},\"x\":{\"value\":86},\"y\":{\"value\":0.29701999978027344}},\"id\":\"ca9411fd-d145-4fad-b20d-25b88fe95dae\",\"type\":\"Circle\"},{\"attributes\":{},\"id\":\"d6457bdc-6ae1-41f0-a041-a99d7489279b\",\"type\":\"ResetTool\"},{\"attributes\":{\"source\":{\"id\":\"0caaf097-786f-4727-95ca-df8cf4cdd7ff\",\"type\":\"ColumnDataSource\"}},\"id\":\"b5ab6557-2bc4-47bb-bec8-7009c96fc38f\",\"type\":\"CDSView\"},{\"attributes\":{},\"id\":\"98a28475-0574-41e6-b493-553d520e2384\",\"type\":\"HelpTool\"},{\"attributes\":{\"data_source\":{\"id\":\"0caaf097-786f-4727-95ca-df8cf4cdd7ff\",\"type\":\"ColumnDataSource\"},\"glyph\":{\"id\":\"ca9411fd-d145-4fad-b20d-25b88fe95dae\",\"type\":\"Circle\"},\"hover_glyph\":null,\"muted_glyph\":null,\"nonselection_glyph\":{\"id\":\"8980d887-8ae3-4c75-a61a-a958ef061a6a\",\"type\":\"Circle\"},\"selection_glyph\":null,\"view\":{\"id\":\"b5ab6557-2bc4-47bb-bec8-7009c96fc38f\",\"type\":\"CDSView\"}},\"id\":\"1453842a-418c-4016-b7d4-acbc4c214901\",\"type\":\"GlyphRenderer\"},{\"attributes\":{\"label\":{\"value\":\"train - 256_32_0.9\"},\"renderers\":[{\"id\":\"a01f49c4-6724-4ef1-aaf1-4b7eff88a321\",\"type\":\"GlyphRenderer\"}]},\"id\":\"4822e982-616f-4f90-ba64-357e1116e0f3\",\"type\":\"LegendItem\"}],\"root_ids\":[\"32fe3add-b361-4870-b2b9-7c91e5e4cbff\"]},\"title\":\"Bokeh Application\",\"version\":\"0.12.13\"}};\n",
       "  var render_items = [{\"docid\":\"437a4002-d665-4eec-9f72-c296cb458735\",\"elementid\":\"fef7e3e2-2ea3-4f91-80e1-4bfe8f1c89a9\",\"modelid\":\"32fe3add-b361-4870-b2b9-7c91e5e4cbff\"}];\n",
       "  root.Bokeh.embed.embed_items_notebook(docs_json, render_items);\n",
       "\n",
       "  }\n",
       "  if (root.Bokeh !== undefined) {\n",
       "    embed_document(root);\n",
       "  } else {\n",
       "    var attempts = 0;\n",
       "    var timer = setInterval(function(root) {\n",
       "      if (root.Bokeh !== undefined) {\n",
       "        embed_document(root);\n",
       "        clearInterval(timer);\n",
       "      }\n",
       "      attempts++;\n",
       "      if (attempts > 100) {\n",
       "        console.log(\"Bokeh: ERROR: Unable to run BokehJS code because BokehJS library is missing\")\n",
       "        clearInterval(timer);\n",
       "      }\n",
       "    }, 10, root)\n",
       "  }\n",
       "})(window);"
      ],
      "application/vnd.bokehjs_exec.v0+json": ""
     },
     "metadata": {
      "application/vnd.bokehjs_exec.v0+json": {
       "id": "32fe3add-b361-4870-b2b9-7c91e5e4cbff"
      }
     },
     "output_type": "display_data"
    }
   ],
   "source": [
    "show(plots[1])"
   ]
  },
  {
   "cell_type": "code",
   "execution_count": 9,
   "metadata": {},
   "outputs": [
    {
     "data": {
      "text/html": [
       "\n",
       "<div class=\"bk-root\">\n",
       "    <div class=\"bk-plotdiv\" id=\"102fd9ac-e8ae-4c51-bfc5-e9217a9f6046\"></div>\n",
       "</div>"
      ]
     },
     "metadata": {},
     "output_type": "display_data"
    },
    {
     "data": {
      "application/javascript": [
       "(function(root) {\n",
       "  function embed_document(root) {\n",
       "    \n",
       "  var docs_json = {\"5455cd70-d36a-46a4-8e70-09b4b3ab9026\":{\"roots\":{\"references\":[{\"attributes\":{\"bottom_units\":\"screen\",\"fill_alpha\":{\"value\":0.5},\"fill_color\":{\"value\":\"lightgrey\"},\"left_units\":\"screen\",\"level\":\"overlay\",\"line_alpha\":{\"value\":1.0},\"line_color\":{\"value\":\"black\"},\"line_dash\":[4,4],\"line_width\":{\"value\":2},\"plot\":null,\"render_mode\":\"css\",\"right_units\":\"screen\",\"top_units\":\"screen\"},\"id\":\"a4307c47-6900-4d07-a912-70d23ef0380e\",\"type\":\"BoxAnnotation\"},{\"attributes\":{\"label\":{\"value\":\"validation - 256_32_0.9\"},\"renderers\":[{\"id\":\"dfd83b08-c13e-46b2-8f99-ec3d140c04b9\",\"type\":\"GlyphRenderer\"}]},\"id\":\"40c74882-5031-4218-ab55-0f92cc6bec04\",\"type\":\"LegendItem\"},{\"attributes\":{\"callback\":null,\"column_names\":[\"x\",\"y\"],\"data\":{\"x\":{\"__ndarray__\":\"AQAAAAIAAAADAAAABAAAAAUAAAAGAAAABwAAAAgAAAAJAAAACgAAAAsAAAAMAAAADQAAAA4AAAAPAAAAEAAAABEAAAASAAAAEwAAABQAAAAVAAAAFgAAABcAAAAYAAAAGQAAABoAAAAbAAAAHAAAAB0AAAAeAAAAHwAAACAAAAAhAAAAIgAAACMAAAAkAAAAJQAAACYAAAAnAAAAKAAAACkAAAAqAAAAKwAAACwAAAAtAAAALgAAAC8AAAAwAAAAMQAAADIAAAAzAAAANAAAADUAAAA2AAAANwAAADgAAAA5AAAAOgAAADsAAAA8AAAAPQAAAD4AAAA/AAAAQAAAAEEAAABCAAAAQwAAAEQAAABFAAAARgAAAEcAAABIAAAASQAAAEoAAABLAAAATAAAAE0AAABOAAAATwAAAFAAAABRAAAAUgAAAFMAAABUAAAAVQAAAFYAAABXAAAAWAAAAFkAAABaAAAA\",\"dtype\":\"int32\",\"shape\":[90]},\"y\":[7.005383278889722,6.574593912363236,6.215295880509343,5.915329940926287,5.682947637597931,5.431842535565365,5.200884099383,5.000503496334687,4.832243776429383,4.732702042658734,4.558399953288769,4.445700257352669,4.357507799858053,4.292472607606715,4.2160769088350945,4.152080014823095,4.082620819306747,4.08249426238106,4.007555520137938,3.97694369308559,3.9734921190987182,3.8959824714807123,3.980848818435887,3.8764659782554722,3.8355011700057324,3.8095698824865387,3.7974346415785765,3.775409686724203,3.7534723484072874,3.892555871946773,2.613707809607718,2.3668702942867843,2.252724445009092,2.182236282057868,2.133097605190348,2.0965424520357825,2.072907147496005,2.0546052502334624,2.044514368216313,2.033848173549739,2.0266876434069245,2.018854694791972,2.0117771574882393,2.0100889746897317,1.9972274565515515,1.996261891919351,1.9850454583345374,1.9775311415923544,1.9724041189793518,1.9619322559270398,1.950764417522143,1.9452423358596154,1.9340447822733842,1.9250825350174856,1.9166317552886092,1.9090641867616323,1.8985169386895846,1.894077606612207,1.885180530986148,1.8734401958874423,1.541930165096248,1.478276064384912,1.454559883836074,1.4362034214202486,1.4201052949239164,1.4090653044077488,1.397864906290759,1.3854560092810781,1.3799170171631743,1.3705278402187802,1.363176218851005,1.354338353073501,1.346150611613162,1.343975208086259,1.3336621713104475,1.3303513048366156,1.3247207951668705,1.3191015564153832,1.312220671709054,1.308013258473204,1.286817283039062,1.2765335266205722,1.2754385950893672,1.272703753859541,1.2737836164969614,1.2691294360562997,1.2680724080889452,1.268192297629234,1.2686224619726114,1.26794059234689]}},\"id\":\"9a0b7cae-3b90-469c-98c8-7f604a90adcf\",\"type\":\"ColumnDataSource\"},{\"attributes\":{\"line_color\":\"#ff7f0e\",\"line_width\":3,\"x\":{\"field\":\"x\"},\"y\":{\"field\":\"y\"}},\"id\":\"def0eaba-13cd-4e7c-95e2-994a0644fe45\",\"type\":\"Line\"},{\"attributes\":{},\"id\":\"46106a35-e920-4c81-8648-0dd965bc4c66\",\"type\":\"SaveTool\"},{\"attributes\":{\"data_source\":{\"id\":\"dde4cd72-c66f-4b48-a3e4-cb4fd7d167a2\",\"type\":\"ColumnDataSource\"},\"glyph\":{\"id\":\"def0eaba-13cd-4e7c-95e2-994a0644fe45\",\"type\":\"Line\"},\"hover_glyph\":null,\"muted_glyph\":null,\"nonselection_glyph\":{\"id\":\"5778daaf-d346-4c5a-a5ac-32bb5b8fe689\",\"type\":\"Line\"},\"selection_glyph\":null,\"view\":{\"id\":\"c8122dce-4e21-4816-b302-ab0aa0d7039d\",\"type\":\"CDSView\"}},\"id\":\"dfd83b08-c13e-46b2-8f99-ec3d140c04b9\",\"type\":\"GlyphRenderer\"},{\"attributes\":{\"line_color\":\"#ff7f0e\",\"line_dash\":[6],\"line_width\":3,\"x\":{\"field\":\"x\"},\"y\":{\"field\":\"y\"}},\"id\":\"4047f74b-bd45-423f-b424-3436a3133aa2\",\"type\":\"Line\"},{\"attributes\":{},\"id\":\"1acf1eaf-e8b8-402b-acc1-4b302ba47aca\",\"type\":\"ResetTool\"},{\"attributes\":{\"source\":{\"id\":\"dde4cd72-c66f-4b48-a3e4-cb4fd7d167a2\",\"type\":\"ColumnDataSource\"}},\"id\":\"c8122dce-4e21-4816-b302-ab0aa0d7039d\",\"type\":\"CDSView\"},{\"attributes\":{},\"id\":\"7f886610-9636-47fe-953c-b96612082462\",\"type\":\"HelpTool\"},{\"attributes\":{\"callback\":null,\"column_names\":[\"x\",\"y\"],\"data\":{\"x\":{\"__ndarray__\":\"AQAAAAIAAAADAAAABAAAAAUAAAAGAAAABwAAAAgAAAAJAAAACgAAAAsAAAAMAAAADQAAAA4AAAAPAAAAEAAAABEAAAASAAAAEwAAABQAAAAVAAAAFgAAABcAAAAYAAAAGQAAABoAAAAbAAAAHAAAAB0AAAAeAAAAHwAAACAAAAAhAAAAIgAAACMAAAAkAAAAJQAAACYAAAAnAAAAKAAAACkAAAAqAAAAKwAAACwAAAAtAAAALgAAAC8AAAAwAAAAMQAAADIAAAAzAAAANAAAADUAAAA2AAAANwAAADgAAAA5AAAAOgAAADsAAAA8AAAAPQAAAD4AAAA/AAAAQAAAAEEAAABCAAAAQwAAAEQAAABFAAAARgAAAEcAAABIAAAASQAAAEoAAABLAAAATAAAAE0AAABOAAAATwAAAFAAAABRAAAAUgAAAFMAAABUAAAAVQAAAFYAAABXAAAAWAAAAFkAAABaAAAA\",\"dtype\":\"int32\",\"shape\":[90]},\"y\":[6.684368704681397,6.301052031860351,5.983388004455566,5.809685729522705,5.4279826979064945,5.072578134765625,4.8508683895874025,4.582627206115722,4.439033180541992,4.251998538208007,4.178113927612305,4.03459627494812,3.9025635148620608,3.829204631881714,3.7805419815826418,3.703020422973633,3.754750323562622,3.577164966964722,3.532659663772583,3.596162154388428,3.3771857927703857,3.3944456577301025,3.419662246322632,3.4420918588256835,3.62278922958374,3.4423690686798096,3.3913656705474855,3.3934203304290773,3.3037131169128418,3.119012672653198,2.1104107190704346,1.979351838684082,1.916534741859436,1.8479812726211549,1.8149941402816772,1.777331967277527,1.795334570388794,1.7655234382629394,1.74703995098114,1.7493265328216552,1.736659230155945,1.7463661530303956,1.7282752516937256,1.777049214363098,1.7169295260620117,1.7240967129516602,1.7185259914779663,1.7182189167785644,1.7403274382400513,1.7224157206726074,1.6908273823547364,1.6432470650482178,1.6893995923233032,1.648504856185913,1.6452287615585328,1.6304090379714966,1.6171980717468262,1.6175048624038697,1.6074032542419434,1.6524743157196045,1.3371934749603271,1.31681396648407,1.3044888473510743,1.2930212939453125,1.2837028562164308,1.2784678254318238,1.2719999919128417,1.2665671665191651,1.2609908853912353,1.2552720064544678,1.2505442894744874,1.2489328957748413,1.2431212587738036,1.239163977279663,1.2383233854675293,1.2346665226364135,1.234123540725708,1.2323118352508544,1.2302659345245361,1.2267203439331054,1.215208977470398,1.2139290182113647,1.2114440723419189,1.210960729675293,1.20940438747406,1.2090801078796387,1.2085383389282227,1.2090788940429686,1.2054964931488037,1.2088187656021119]}},\"id\":\"dde4cd72-c66f-4b48-a3e4-cb4fd7d167a2\",\"type\":\"ColumnDataSource\"},{\"attributes\":{\"line_alpha\":0.1,\"line_color\":\"#1f77b4\",\"line_width\":3,\"x\":{\"field\":\"x\"},\"y\":{\"field\":\"y\"}},\"id\":\"5778daaf-d346-4c5a-a5ac-32bb5b8fe689\",\"type\":\"Line\"},{\"attributes\":{\"line_alpha\":0.1,\"line_color\":\"#1f77b4\",\"line_dash\":[6],\"line_width\":3,\"x\":{\"field\":\"x\"},\"y\":{\"field\":\"y\"}},\"id\":\"f83f3cf4-43d0-4bff-ac25-0387f5ea9775\",\"type\":\"Line\"},{\"attributes\":{\"data_source\":{\"id\":\"9a0b7cae-3b90-469c-98c8-7f604a90adcf\",\"type\":\"ColumnDataSource\"},\"glyph\":{\"id\":\"4047f74b-bd45-423f-b424-3436a3133aa2\",\"type\":\"Line\"},\"hover_glyph\":null,\"muted_glyph\":null,\"nonselection_glyph\":{\"id\":\"f83f3cf4-43d0-4bff-ac25-0387f5ea9775\",\"type\":\"Line\"},\"selection_glyph\":null,\"view\":{\"id\":\"ae5158f3-8a06-4bc7-a113-c52848e1597a\",\"type\":\"CDSView\"}},\"id\":\"79cbb201-9721-4866-90a6-927f9416c835\",\"type\":\"GlyphRenderer\"},{\"attributes\":{\"source\":{\"id\":\"9a0b7cae-3b90-469c-98c8-7f604a90adcf\",\"type\":\"ColumnDataSource\"}},\"id\":\"ae5158f3-8a06-4bc7-a113-c52848e1597a\",\"type\":\"CDSView\"},{\"attributes\":{\"label\":{\"value\":\"train - 256_32_0.9\"},\"renderers\":[{\"id\":\"79cbb201-9721-4866-90a6-927f9416c835\",\"type\":\"GlyphRenderer\"}]},\"id\":\"46935e82-d5ab-476b-a9bc-b292e280aa54\",\"type\":\"LegendItem\"},{\"attributes\":{\"ticker\":null},\"id\":\"1748f738-60b6-4d4b-a85f-d77e9d65c259\",\"type\":\"LogTickFormatter\"},{\"attributes\":{},\"id\":\"717e27b2-8109-4b58-9aed-5bfeed748dc2\",\"type\":\"BasicTickFormatter\"},{\"attributes\":{\"click_policy\":\"hide\",\"items\":[{\"id\":\"897a7439-d939-4761-806c-575f1553eb2d\",\"type\":\"LegendItem\"},{\"id\":\"8ea2cd6c-6c7f-4005-bf31-2a6a6edeff42\",\"type\":\"LegendItem\"},{\"id\":\"46935e82-d5ab-476b-a9bc-b292e280aa54\",\"type\":\"LegendItem\"},{\"id\":\"40c74882-5031-4218-ab55-0f92cc6bec04\",\"type\":\"LegendItem\"}],\"location\":\"bottom_left\",\"plot\":{\"id\":\"551664de-800a-42f2-b3b2-50b5b48a9be2\",\"subtype\":\"Figure\",\"type\":\"Plot\"}},\"id\":\"a9dc6aa1-b935-4e15-a95a-77ede5d6ed72\",\"type\":\"Legend\"},{\"attributes\":{\"callback\":null,\"column_names\":[\"x\",\"y\"],\"data\":{\"x\":{\"__ndarray__\":\"AQAAAAIAAAADAAAABAAAAAUAAAAGAAAABwAAAAgAAAAJAAAACgAAAAsAAAAMAAAADQAAAA4AAAAPAAAAEAAAABEAAAASAAAAEwAAABQAAAAVAAAAFgAAABcAAAAYAAAAGQAAABoAAAAbAAAAHAAAAB0AAAAeAAAAHwAAACAAAAAhAAAAIgAAACMAAAAkAAAAJQAAACYAAAAnAAAAKAAAACkAAAAqAAAAKwAAACwAAAAtAAAALgAAAC8AAAAwAAAAMQAAADIAAAAzAAAANAAAADUAAAA2AAAANwAAADgAAAA5AAAAOgAAADsAAAA8AAAAPQAAAD4AAAA/AAAAQAAAAEEAAABCAAAAQwAAAEQAAABFAAAARgAAAEcAAABIAAAASQAAAEoAAABLAAAATAAAAE0AAABOAAAATwAAAFAAAABRAAAAUgAAAFMAAABUAAAAVQAAAFYAAABXAAAAWAAAAFkAAABaAAAA\",\"dtype\":\"int32\",\"shape\":[90]},\"y\":[6.807108167365884,6.271101671468312,5.899404008236738,5.578367306620069,5.284031599615437,4.872546510659855,4.474151203877548,4.126488951768393,3.833474714564686,3.600416015366992,3.3906694323086803,3.2191162016113566,3.0723885810698266,2.9392639626968107,2.83161442015842,2.7381549405893937,2.6475182873574323,2.5669839860485637,2.5072840305628703,2.439197372520744,2.3882733323339034,2.3460329970043325,2.29908636896957,2.259536689072431,2.2217947071714597,2.1934785855685806,2.1599327952245027,2.1357588814568165,2.1093156156286255,2.0904636262139653,1.6994253412408664,1.6339821899292024,1.6099474861207372,1.5898479369889431,1.5731010697461696,1.5609569545456226,1.5486692343135602,1.5353481562662445,1.5241123301357635,1.5129195562990465,1.507481779911475,1.495597906968752,1.4886419786063312,1.4789909602005429,1.473279633955873,1.4634988009512573,1.457490257705983,1.449565698615518,1.4405877569925811,1.4357750007613186,1.4283410147561457,1.4207871368191793,1.4156844250470189,1.4077041435539377,1.4027042682635098,1.39656685690944,1.3916755176196756,1.3849148827097215,1.3804118951081186,1.374067715617281,1.3427426619493796,1.3321909647541614,1.3272826968712863,1.3252762435888552,1.3254151987448697,1.3224703709330927,1.3208289708257646,1.318651100995834,1.317019830590618,1.314097336987938,1.315563654382756,1.3126628599200314,1.3106223667872818,1.3119777658649678,1.309571157856693,1.309298852811393,1.308632752376238,1.305002323739627,1.3048466275131636,1.3044798320384379,1.301256491394968,1.3015983586313695,1.2990947924443128,1.2990478985370828,1.3002827288441001,1.3007374130255827,1.2983188453901149,1.3002836342062398,1.298084697515934,1.2984898121766055]}},\"id\":\"f0acebfe-dd15-4f6a-ae7f-b44a0770b428\",\"type\":\"ColumnDataSource\"},{\"attributes\":{\"line_color\":\"#1f77b4\",\"line_dash\":[6],\"line_width\":3,\"x\":{\"field\":\"x\"},\"y\":{\"field\":\"y\"}},\"id\":\"d7619474-282a-4450-880f-877187cacb8c\",\"type\":\"Line\"},{\"attributes\":{\"line_alpha\":0.1,\"line_color\":\"#1f77b4\",\"line_dash\":[6],\"line_width\":3,\"x\":{\"field\":\"x\"},\"y\":{\"field\":\"y\"}},\"id\":\"4b933c34-ea6e-4bc7-b2ed-bd3deb174759\",\"type\":\"Line\"},{\"attributes\":{\"data_source\":{\"id\":\"f0acebfe-dd15-4f6a-ae7f-b44a0770b428\",\"type\":\"ColumnDataSource\"},\"glyph\":{\"id\":\"d7619474-282a-4450-880f-877187cacb8c\",\"type\":\"Line\"},\"hover_glyph\":null,\"muted_glyph\":null,\"nonselection_glyph\":{\"id\":\"4b933c34-ea6e-4bc7-b2ed-bd3deb174759\",\"type\":\"Line\"},\"selection_glyph\":null,\"view\":{\"id\":\"dd460a4b-dddd-43ee-97cc-ee54a272c4df\",\"type\":\"CDSView\"}},\"id\":\"afb8a3ba-eaa1-42fd-b039-ef5981c1b3d3\",\"type\":\"GlyphRenderer\"},{\"attributes\":{\"source\":{\"id\":\"f0acebfe-dd15-4f6a-ae7f-b44a0770b428\",\"type\":\"ColumnDataSource\"}},\"id\":\"dd460a4b-dddd-43ee-97cc-ee54a272c4df\",\"type\":\"CDSView\"},{\"attributes\":{\"label\":{\"value\":\"train - 256_32_0.0\"},\"renderers\":[{\"id\":\"afb8a3ba-eaa1-42fd-b039-ef5981c1b3d3\",\"type\":\"GlyphRenderer\"}]},\"id\":\"897a7439-d939-4761-806c-575f1553eb2d\",\"type\":\"LegendItem\"},{\"attributes\":{\"active_drag\":\"auto\",\"active_inspect\":\"auto\",\"active_scroll\":\"auto\",\"active_tap\":\"auto\",\"tools\":[{\"id\":\"f0679da6-1be5-4e62-93eb-af71e83b411f\",\"type\":\"PanTool\"},{\"id\":\"7bf719e0-8adc-4ef0-a58e-b8d2015bb0f1\",\"type\":\"WheelZoomTool\"},{\"id\":\"15c2b248-632c-4c20-aff2-216dfa5c8277\",\"type\":\"BoxZoomTool\"},{\"id\":\"46106a35-e920-4c81-8648-0dd965bc4c66\",\"type\":\"SaveTool\"},{\"id\":\"1acf1eaf-e8b8-402b-acc1-4b302ba47aca\",\"type\":\"ResetTool\"},{\"id\":\"7f886610-9636-47fe-953c-b96612082462\",\"type\":\"HelpTool\"}]},\"id\":\"3a952f59-245b-412a-b445-aaa4d0b12ea4\",\"type\":\"Toolbar\"},{\"attributes\":{},\"id\":\"dbd39a21-1d47-4332-ac37-d47fa2ed2591\",\"type\":\"LinearScale\"},{\"attributes\":{\"callback\":null,\"column_names\":[\"x\",\"y\"],\"data\":{\"x\":{\"__ndarray__\":\"AQAAAAIAAAADAAAABAAAAAUAAAAGAAAABwAAAAgAAAAJAAAACgAAAAsAAAAMAAAADQAAAA4AAAAPAAAAEAAAABEAAAASAAAAEwAAABQAAAAVAAAAFgAAABcAAAAYAAAAGQAAABoAAAAbAAAAHAAAAB0AAAAeAAAAHwAAACAAAAAhAAAAIgAAACMAAAAkAAAAJQAAACYAAAAnAAAAKAAAACkAAAAqAAAAKwAAACwAAAAtAAAALgAAAC8AAAAwAAAAMQAAADIAAAAzAAAANAAAADUAAAA2AAAANwAAADgAAAA5AAAAOgAAADsAAAA8AAAAPQAAAD4AAAA/AAAAQAAAAEEAAABCAAAAQwAAAEQAAABFAAAARgAAAEcAAABIAAAASQAAAEoAAABLAAAATAAAAE0AAABOAAAATwAAAFAAAABRAAAAUgAAAFMAAABUAAAAVQAAAFYAAABXAAAAWAAAAFkAAABaAAAA\",\"dtype\":\"int32\",\"shape\":[90]},\"y\":[6.494431590881348,21.87221374206543,6.409738085174561,5.971913459167481,6.367294949951172,7.299453327484131,5.830874432373047,6.513201524963379,5.01426396408081,4.452488272247314,4.377380673217774,4.631469755706787,3.9954814781188963,3.34402145942688,4.130345970001221,4.294590037078858,3.4810631732940673,3.201706895904541,3.40373140625,3.302464894104004,3.78346916595459,3.875347382507324,3.4739233673095704,2.5761708171844484,3.5844353016662596,3.0865977279663084,3.131905704727173,2.4912634176635744,2.606548629608154,2.4919847901153562,1.4072785162734984,1.3848708707809447,1.3678839332580566,1.3553361893081666,1.3475936457443238,1.3375927115249633,1.3285391670227051,1.3301372819900512,1.3199737398529052,1.3119331585311889,1.3103960561370849,1.3010969140625,1.2995416328048706,1.3065522612380982,1.2869602312088013,1.2924986517715453,1.2788645010375976,1.2867905916213989,1.3563715363311768,1.2922855500030517,1.2720848769378663,1.268555636367798,1.2702613216018677,1.2929281624221802,1.2640393512344361,1.2619262741851807,1.2599273833465576,1.2606694115447998,1.2511615649795533,1.252106321144104,1.2217496439743043,1.2176205681610108,1.216223031539917,1.2149322525024413,1.211436270980835,1.212416425971985,1.211969039993286,1.2135100257110596,1.2117071673202515,1.2118167053985596,1.2124289106750488,1.2077163145828247,1.209503932723999,1.209230294532776,1.2079207301330566,1.2105189616394043,1.204675158958435,1.205697354736328,1.2073127264404298,1.2038142137908936,1.2053136850357056,1.2047410177230835,1.2062189678955078,1.2036902044296265,1.2041121144866944,1.2045835354232788,1.2044864199829102,1.2035760591888427,1.2052258631515502,1.2065531436920165]}},\"id\":\"a17bb635-c317-4e0d-a69f-add52065f8c4\",\"type\":\"ColumnDataSource\"},{\"attributes\":{\"num_minor_ticks\":10},\"id\":\"c317c0df-ae79-4357-aada-9481297916f6\",\"type\":\"LogTicker\"},{\"attributes\":{\"axis_label\":\"t [Epochs]\",\"formatter\":{\"id\":\"717e27b2-8109-4b58-9aed-5bfeed748dc2\",\"type\":\"BasicTickFormatter\"},\"plot\":{\"id\":\"551664de-800a-42f2-b3b2-50b5b48a9be2\",\"subtype\":\"Figure\",\"type\":\"Plot\"},\"ticker\":{\"id\":\"007b6417-c58e-42e3-ae1d-2e9b50a50758\",\"type\":\"BasicTicker\"}},\"id\":\"06ed8114-c4cb-4ace-81b0-11049c890890\",\"type\":\"LinearAxis\"},{\"attributes\":{},\"id\":\"007b6417-c58e-42e3-ae1d-2e9b50a50758\",\"type\":\"BasicTicker\"},{\"attributes\":{\"data_source\":{\"id\":\"a17bb635-c317-4e0d-a69f-add52065f8c4\",\"type\":\"ColumnDataSource\"},\"glyph\":{\"id\":\"43fac37d-bdc1-45d4-8cf7-bc13ff794cad\",\"type\":\"Line\"},\"hover_glyph\":null,\"muted_glyph\":null,\"nonselection_glyph\":{\"id\":\"cfb96b09-9806-4dd9-8cc0-b61988b6286c\",\"type\":\"Line\"},\"selection_glyph\":null,\"view\":{\"id\":\"b58685e8-59b6-45f6-862a-96ffc4fb145d\",\"type\":\"CDSView\"}},\"id\":\"2e20cd25-8480-48c5-883b-116c37fa3310\",\"type\":\"GlyphRenderer\"},{\"attributes\":{\"plot\":{\"id\":\"551664de-800a-42f2-b3b2-50b5b48a9be2\",\"subtype\":\"Figure\",\"type\":\"Plot\"},\"ticker\":{\"id\":\"007b6417-c58e-42e3-ae1d-2e9b50a50758\",\"type\":\"BasicTicker\"}},\"id\":\"fc1b4d28-e062-4e7e-95fb-edb24e3347e6\",\"type\":\"Grid\"},{\"attributes\":{\"line_alpha\":0.1,\"line_color\":\"#1f77b4\",\"line_width\":3,\"x\":{\"field\":\"x\"},\"y\":{\"field\":\"y\"}},\"id\":\"cfb96b09-9806-4dd9-8cc0-b61988b6286c\",\"type\":\"Line\"},{\"attributes\":{\"line_color\":\"#1f77b4\",\"line_width\":3,\"x\":{\"field\":\"x\"},\"y\":{\"field\":\"y\"}},\"id\":\"43fac37d-bdc1-45d4-8cf7-bc13ff794cad\",\"type\":\"Line\"},{\"attributes\":{\"label\":{\"value\":\"validation - 256_32_0.0\"},\"renderers\":[{\"id\":\"2e20cd25-8480-48c5-883b-116c37fa3310\",\"type\":\"GlyphRenderer\"}]},\"id\":\"8ea2cd6c-6c7f-4005-bf31-2a6a6edeff42\",\"type\":\"LegendItem\"},{\"attributes\":{\"overlay\":{\"id\":\"a4307c47-6900-4d07-a912-70d23ef0380e\",\"type\":\"BoxAnnotation\"}},\"id\":\"15c2b248-632c-4c20-aff2-216dfa5c8277\",\"type\":\"BoxZoomTool\"},{\"attributes\":{\"callback\":null},\"id\":\"5b106540-7d11-4173-a5bd-9a8771b5d326\",\"type\":\"DataRange1d\"},{\"attributes\":{\"source\":{\"id\":\"a17bb635-c317-4e0d-a69f-add52065f8c4\",\"type\":\"ColumnDataSource\"}},\"id\":\"b58685e8-59b6-45f6-862a-96ffc4fb145d\",\"type\":\"CDSView\"},{\"attributes\":{},\"id\":\"f0679da6-1be5-4e62-93eb-af71e83b411f\",\"type\":\"PanTool\"},{\"attributes\":{\"dimension\":1,\"plot\":{\"id\":\"551664de-800a-42f2-b3b2-50b5b48a9be2\",\"subtype\":\"Figure\",\"type\":\"Plot\"},\"ticker\":{\"id\":\"c317c0df-ae79-4357-aada-9481297916f6\",\"type\":\"LogTicker\"}},\"id\":\"c8881135-478c-4b5f-972f-21061cd58f01\",\"type\":\"Grid\"},{\"attributes\":{},\"id\":\"7bf719e0-8adc-4ef0-a58e-b8d2015bb0f1\",\"type\":\"WheelZoomTool\"},{\"attributes\":{\"background_fill_color\":{\"value\":\"#fafafa\"},\"below\":[{\"id\":\"06ed8114-c4cb-4ace-81b0-11049c890890\",\"type\":\"LinearAxis\"}],\"left\":[{\"id\":\"b4d9294b-28f4-48e3-a1ea-6468f8b6fa37\",\"type\":\"LogAxis\"}],\"min_border\":10,\"min_border_left\":50,\"renderers\":[{\"id\":\"06ed8114-c4cb-4ace-81b0-11049c890890\",\"type\":\"LinearAxis\"},{\"id\":\"fc1b4d28-e062-4e7e-95fb-edb24e3347e6\",\"type\":\"Grid\"},{\"id\":\"b4d9294b-28f4-48e3-a1ea-6468f8b6fa37\",\"type\":\"LogAxis\"},{\"id\":\"c8881135-478c-4b5f-972f-21061cd58f01\",\"type\":\"Grid\"},{\"id\":\"a4307c47-6900-4d07-a912-70d23ef0380e\",\"type\":\"BoxAnnotation\"},{\"id\":\"a9dc6aa1-b935-4e15-a95a-77ede5d6ed72\",\"type\":\"Legend\"},{\"id\":\"afb8a3ba-eaa1-42fd-b039-ef5981c1b3d3\",\"type\":\"GlyphRenderer\"},{\"id\":\"2e20cd25-8480-48c5-883b-116c37fa3310\",\"type\":\"GlyphRenderer\"},{\"id\":\"79cbb201-9721-4866-90a6-927f9416c835\",\"type\":\"GlyphRenderer\"},{\"id\":\"dfd83b08-c13e-46b2-8f99-ec3d140c04b9\",\"type\":\"GlyphRenderer\"}],\"title\":{\"id\":\"d50999f7-8aa4-4f7a-b807-1cb744702ff1\",\"type\":\"Title\"},\"toolbar\":{\"id\":\"3a952f59-245b-412a-b445-aaa4d0b12ea4\",\"type\":\"Toolbar\"},\"x_range\":{\"id\":\"ddfaf896-4f1d-464a-b4a9-d4465127360f\",\"type\":\"DataRange1d\"},\"x_scale\":{\"id\":\"dbd39a21-1d47-4332-ac37-d47fa2ed2591\",\"type\":\"LinearScale\"},\"y_range\":{\"id\":\"5b106540-7d11-4173-a5bd-9a8771b5d326\",\"type\":\"DataRange1d\"},\"y_scale\":{\"id\":\"c2b0bf47-24fc-477e-b8ac-6803881cb6d0\",\"type\":\"LogScale\"}},\"id\":\"551664de-800a-42f2-b3b2-50b5b48a9be2\",\"subtype\":\"Figure\",\"type\":\"Plot\"},{\"attributes\":{\"callback\":null},\"id\":\"ddfaf896-4f1d-464a-b4a9-d4465127360f\",\"type\":\"DataRange1d\"},{\"attributes\":{\"axis_label\":\"L(w(t))\",\"formatter\":{\"id\":\"1748f738-60b6-4d4b-a85f-d77e9d65c259\",\"type\":\"LogTickFormatter\"},\"plot\":{\"id\":\"551664de-800a-42f2-b3b2-50b5b48a9be2\",\"subtype\":\"Figure\",\"type\":\"Plot\"},\"ticker\":{\"id\":\"c317c0df-ae79-4357-aada-9481297916f6\",\"type\":\"LogTicker\"}},\"id\":\"b4d9294b-28f4-48e3-a1ea-6468f8b6fa37\",\"type\":\"LogAxis\"},{\"attributes\":{\"plot\":null,\"text\":\"Training & Test Loss\"},\"id\":\"d50999f7-8aa4-4f7a-b807-1cb744702ff1\",\"type\":\"Title\"},{\"attributes\":{},\"id\":\"c2b0bf47-24fc-477e-b8ac-6803881cb6d0\",\"type\":\"LogScale\"}],\"root_ids\":[\"551664de-800a-42f2-b3b2-50b5b48a9be2\"]},\"title\":\"Bokeh Application\",\"version\":\"0.12.13\"}};\n",
       "  var render_items = [{\"docid\":\"5455cd70-d36a-46a4-8e70-09b4b3ab9026\",\"elementid\":\"102fd9ac-e8ae-4c51-bfc5-e9217a9f6046\",\"modelid\":\"551664de-800a-42f2-b3b2-50b5b48a9be2\"}];\n",
       "  root.Bokeh.embed.embed_items_notebook(docs_json, render_items);\n",
       "\n",
       "  }\n",
       "  if (root.Bokeh !== undefined) {\n",
       "    embed_document(root);\n",
       "  } else {\n",
       "    var attempts = 0;\n",
       "    var timer = setInterval(function(root) {\n",
       "      if (root.Bokeh !== undefined) {\n",
       "        embed_document(root);\n",
       "        clearInterval(timer);\n",
       "      }\n",
       "      attempts++;\n",
       "      if (attempts > 100) {\n",
       "        console.log(\"Bokeh: ERROR: Unable to run BokehJS code because BokehJS library is missing\")\n",
       "        clearInterval(timer);\n",
       "      }\n",
       "    }, 10, root)\n",
       "  }\n",
       "})(window);"
      ],
      "application/vnd.bokehjs_exec.v0+json": ""
     },
     "metadata": {
      "application/vnd.bokehjs_exec.v0+json": {
       "id": "551664de-800a-42f2-b3b2-50b5b48a9be2"
      }
     },
     "output_type": "display_data"
    }
   ],
   "source": [
    "show(plots[0])"
   ]
  },
  {
   "cell_type": "code",
   "execution_count": 10,
   "metadata": {},
   "outputs": [
    {
     "data": {
      "text/html": [
       "\n",
       "<div class=\"bk-root\">\n",
       "    <div class=\"bk-plotdiv\" id=\"acfee30d-9e3f-4bf8-97a2-5602b2601637\"></div>\n",
       "</div>"
      ]
     },
     "metadata": {},
     "output_type": "display_data"
    },
    {
     "data": {
      "application/javascript": [
       "(function(root) {\n",
       "  function embed_document(root) {\n",
       "    \n",
       "  var docs_json = {\"8345526e-0a41-4569-81de-ea4a40f8911d\":{\"roots\":{\"references\":[{\"attributes\":{},\"id\":\"c9d5a33c-bbd5-4d12-be8b-174e44e09cf0\",\"type\":\"LinearScale\"},{\"attributes\":{},\"id\":\"8fd8fb40-61ee-4c8d-b776-cee2105e39af\",\"type\":\"LinearScale\"},{\"attributes\":{\"plot\":{\"id\":\"e2fd5720-a882-4cee-ab5a-aacf12d90251\",\"subtype\":\"Figure\",\"type\":\"Plot\"},\"ticker\":{\"id\":\"30f627b1-aabc-404a-a7d6-be578a709da0\",\"type\":\"BasicTicker\"}},\"id\":\"78987395-9593-43e7-bc99-6705b6a044a3\",\"type\":\"Grid\"},{\"attributes\":{\"dimension\":1,\"plot\":{\"id\":\"e2fd5720-a882-4cee-ab5a-aacf12d90251\",\"subtype\":\"Figure\",\"type\":\"Plot\"},\"ticker\":{\"id\":\"d85a538c-ca9c-4a74-bcff-573e18b85aa9\",\"type\":\"BasicTicker\"}},\"id\":\"903e2c52-2d5a-4e3a-b007-59398dc2798e\",\"type\":\"Grid\"},{\"attributes\":{},\"id\":\"30f627b1-aabc-404a-a7d6-be578a709da0\",\"type\":\"BasicTicker\"},{\"attributes\":{\"axis_label\":\"t [Epochs]\",\"formatter\":{\"id\":\"b3776bce-e779-4283-a8ec-9ce74d03743d\",\"type\":\"BasicTickFormatter\"},\"plot\":{\"id\":\"e2fd5720-a882-4cee-ab5a-aacf12d90251\",\"subtype\":\"Figure\",\"type\":\"Plot\"},\"ticker\":{\"id\":\"30f627b1-aabc-404a-a7d6-be578a709da0\",\"type\":\"BasicTicker\"}},\"id\":\"42569c0e-d492-4cca-8ca9-a06ce6d99aa4\",\"type\":\"LinearAxis\"},{\"attributes\":{},\"id\":\"d85a538c-ca9c-4a74-bcff-573e18b85aa9\",\"type\":\"BasicTicker\"},{\"attributes\":{\"axis_label\":\"||w(t)||\",\"formatter\":{\"id\":\"eb3e2a36-71bf-4782-89fe-198418da92c1\",\"type\":\"BasicTickFormatter\"},\"plot\":{\"id\":\"e2fd5720-a882-4cee-ab5a-aacf12d90251\",\"subtype\":\"Figure\",\"type\":\"Plot\"},\"ticker\":{\"id\":\"d85a538c-ca9c-4a74-bcff-573e18b85aa9\",\"type\":\"BasicTicker\"}},\"id\":\"a4583c45-9b70-419c-847f-d6e1b564c74b\",\"type\":\"LinearAxis\"},{\"attributes\":{\"bottom_units\":\"screen\",\"fill_alpha\":{\"value\":0.5},\"fill_color\":{\"value\":\"lightgrey\"},\"left_units\":\"screen\",\"level\":\"overlay\",\"line_alpha\":{\"value\":1.0},\"line_color\":{\"value\":\"black\"},\"line_dash\":[4,4],\"line_width\":{\"value\":2},\"plot\":null,\"render_mode\":\"css\",\"right_units\":\"screen\",\"top_units\":\"screen\"},\"id\":\"3b1502b4-2c19-4f6c-818c-84dee1561a33\",\"type\":\"BoxAnnotation\"},{\"attributes\":{},\"id\":\"de7cd0e4-720d-49cd-bd57-55cc6a2b7e3a\",\"type\":\"PanTool\"},{\"attributes\":{},\"id\":\"a274aa5e-7782-4c85-97da-4a262eac2360\",\"type\":\"WheelZoomTool\"},{\"attributes\":{\"overlay\":{\"id\":\"3b1502b4-2c19-4f6c-818c-84dee1561a33\",\"type\":\"BoxAnnotation\"}},\"id\":\"261dfed3-06a6-45b8-8f6b-adffc94edac3\",\"type\":\"BoxZoomTool\"},{\"attributes\":{},\"id\":\"f9fbb745-228a-458b-a883-782332f22c09\",\"type\":\"SaveTool\"},{\"attributes\":{},\"id\":\"fe8529b7-3daf-4b5d-bd90-b2b078af27e0\",\"type\":\"ResetTool\"},{\"attributes\":{},\"id\":\"a5f28a7c-787a-4392-8b8a-a31b6dbbfac2\",\"type\":\"HelpTool\"},{\"attributes\":{\"click_policy\":\"hide\",\"items\":[{\"id\":\"aa489aeb-fdff-42c8-9844-a16ecfdd790e\",\"type\":\"LegendItem\"},{\"id\":\"ff057d3a-857a-40df-bf0c-e1eca27ebe1a\",\"type\":\"LegendItem\"}],\"location\":\"top_left\",\"plot\":{\"id\":\"e2fd5720-a882-4cee-ab5a-aacf12d90251\",\"subtype\":\"Figure\",\"type\":\"Plot\"}},\"id\":\"c49b1d3e-fe28-41ea-b5c4-b8cd683535c6\",\"type\":\"Legend\"},{\"attributes\":{},\"id\":\"eb3e2a36-71bf-4782-89fe-198418da92c1\",\"type\":\"BasicTickFormatter\"},{\"attributes\":{\"source\":{\"id\":\"b6447188-0213-491f-a249-4015ffb548af\",\"type\":\"ColumnDataSource\"}},\"id\":\"3752acad-40ed-42a3-854f-cdb49d0fd88b\",\"type\":\"CDSView\"},{\"attributes\":{\"data_source\":{\"id\":\"5300ff51-5d27-40dc-ab7d-58ccb06d55c3\",\"type\":\"ColumnDataSource\"},\"glyph\":{\"id\":\"7e772b06-658c-4e4b-babf-e19dc70d9136\",\"type\":\"Line\"},\"hover_glyph\":null,\"muted_glyph\":null,\"nonselection_glyph\":{\"id\":\"da3a01de-4537-4399-8570-5c99d2a4bb0f\",\"type\":\"Line\"},\"selection_glyph\":null,\"view\":{\"id\":\"07e5ee17-7265-44ad-8723-9a856fadd8f9\",\"type\":\"CDSView\"}},\"id\":\"7cd2c32e-70fc-421e-bd20-77fa7892d995\",\"type\":\"GlyphRenderer\"},{\"attributes\":{\"label\":{\"value\":\"train - 256_32_0.0\"},\"renderers\":[{\"id\":\"7cd2c32e-70fc-421e-bd20-77fa7892d995\",\"type\":\"GlyphRenderer\"}]},\"id\":\"aa489aeb-fdff-42c8-9844-a16ecfdd790e\",\"type\":\"LegendItem\"},{\"attributes\":{\"source\":{\"id\":\"5300ff51-5d27-40dc-ab7d-58ccb06d55c3\",\"type\":\"ColumnDataSource\"}},\"id\":\"07e5ee17-7265-44ad-8723-9a856fadd8f9\",\"type\":\"CDSView\"},{\"attributes\":{\"line_alpha\":0.1,\"line_color\":\"#1f77b4\",\"line_width\":3,\"x\":{\"field\":\"x\"},\"y\":{\"field\":\"y\"}},\"id\":\"da3a01de-4537-4399-8570-5c99d2a4bb0f\",\"type\":\"Line\"},{\"attributes\":{},\"id\":\"b3776bce-e779-4283-a8ec-9ce74d03743d\",\"type\":\"BasicTickFormatter\"},{\"attributes\":{\"line_color\":\"#1f77b4\",\"line_width\":3,\"x\":{\"field\":\"x\"},\"y\":{\"field\":\"y\"}},\"id\":\"7e772b06-658c-4e4b-babf-e19dc70d9136\",\"type\":\"Line\"},{\"attributes\":{\"background_fill_color\":{\"value\":\"#fafafa\"},\"below\":[{\"id\":\"42569c0e-d492-4cca-8ca9-a06ce6d99aa4\",\"type\":\"LinearAxis\"}],\"left\":[{\"id\":\"a4583c45-9b70-419c-847f-d6e1b564c74b\",\"type\":\"LinearAxis\"}],\"min_border\":10,\"min_border_left\":50,\"renderers\":[{\"id\":\"42569c0e-d492-4cca-8ca9-a06ce6d99aa4\",\"type\":\"LinearAxis\"},{\"id\":\"78987395-9593-43e7-bc99-6705b6a044a3\",\"type\":\"Grid\"},{\"id\":\"a4583c45-9b70-419c-847f-d6e1b564c74b\",\"type\":\"LinearAxis\"},{\"id\":\"903e2c52-2d5a-4e3a-b007-59398dc2798e\",\"type\":\"Grid\"},{\"id\":\"3b1502b4-2c19-4f6c-818c-84dee1561a33\",\"type\":\"BoxAnnotation\"},{\"id\":\"c49b1d3e-fe28-41ea-b5c4-b8cd683535c6\",\"type\":\"Legend\"},{\"id\":\"7cd2c32e-70fc-421e-bd20-77fa7892d995\",\"type\":\"GlyphRenderer\"},{\"id\":\"698c1f94-4dbb-4df4-8107-adc8ecb39016\",\"type\":\"GlyphRenderer\"}],\"title\":{\"id\":\"bc00aa19-cf14-4535-95b9-4a2e9edae186\",\"type\":\"Title\"},\"toolbar\":{\"id\":\"a78c10d6-431a-4798-a6a1-1bbfdcc5589d\",\"type\":\"Toolbar\"},\"x_range\":{\"id\":\"865d359b-b404-4d30-8ea6-86dde6c7c34c\",\"type\":\"DataRange1d\"},\"x_scale\":{\"id\":\"8fd8fb40-61ee-4c8d-b776-cee2105e39af\",\"type\":\"LinearScale\"},\"y_range\":{\"id\":\"db34091a-b178-4955-a0df-f7ea98127d5d\",\"type\":\"DataRange1d\"},\"y_scale\":{\"id\":\"c9d5a33c-bbd5-4d12-be8b-174e44e09cf0\",\"type\":\"LinearScale\"}},\"id\":\"e2fd5720-a882-4cee-ab5a-aacf12d90251\",\"subtype\":\"Figure\",\"type\":\"Plot\"},{\"attributes\":{\"callback\":null,\"column_names\":[\"x\",\"y\"],\"data\":{\"x\":{\"__ndarray__\":\"AQAAAAIAAAADAAAABAAAAAUAAAAGAAAABwAAAAgAAAAJAAAACgAAAAsAAAAMAAAADQAAAA4AAAAPAAAAEAAAABEAAAASAAAAEwAAABQAAAAVAAAAFgAAABcAAAAYAAAAGQAAABoAAAAbAAAAHAAAAB0AAAAeAAAAHwAAACAAAAAhAAAAIgAAACMAAAAkAAAAJQAAACYAAAAnAAAAKAAAACkAAAAqAAAAKwAAACwAAAAtAAAALgAAAC8AAAAwAAAAMQAAADIAAAAzAAAANAAAADUAAAA2AAAANwAAADgAAAA5AAAAOgAAADsAAAA8AAAAPQAAAD4AAAA/AAAAQAAAAEEAAABCAAAAQwAAAEQAAABFAAAARgAAAEcAAABIAAAASQAAAEoAAABLAAAATAAAAE0AAABOAAAATwAAAFAAAABRAAAAUgAAAFMAAABUAAAAVQAAAFYAAABXAAAAWAAAAFkAAABaAAAA\",\"dtype\":\"int32\",\"shape\":[90]},\"y\":[18.396575927734375,19.37943458557129,21.193477630615234,23.7866153717041,27.036685943603516,30.55225372314453,33.71768569946289,36.58561325073242,39.089500427246094,41.247802734375,43.06648254394531,44.63032531738281,45.9489631652832,47.07915496826172,48.03501892089844,48.869041442871094,49.5907096862793,50.215431213378906,50.77924346923828,51.24995422363281,51.68484115600586,52.033836364746094,52.34513854980469,52.61692810058594,52.85193634033203,53.06214141845703,53.22414016723633,53.359275817871094,53.47914123535156,53.564666748046875,53.561500549316406,53.54306411743164,53.51683807373047,53.48796463012695,53.454463958740234,53.41722869873047,53.377376556396484,53.337528228759766,53.29589080810547,53.25286865234375,53.2076416015625,53.163482666015625,53.11688995361328,53.07163619995117,53.0249137878418,52.97935104370117,52.93257522583008,52.8862190246582,52.840087890625,52.792911529541016,52.74565124511719,52.698604583740234,52.65287399291992,52.60676574707031,52.56129837036133,52.51591491699219,52.47038650512695,52.42467498779297,52.380332946777344,52.33546447753906,52.3314323425293,52.327518463134766,52.32364273071289,52.31985092163086,52.31598663330078,52.312171936035156,52.30819320678711,52.30441665649414,52.30061721801758,52.2968864440918,52.29307556152344,52.28932571411133,52.28559112548828,52.28175354003906,52.277992248535156,52.27405548095703,52.270225524902344,52.266605377197266,52.262725830078125,52.25885009765625,52.25844192504883,52.25802230834961,52.25760269165039,52.25719451904297,52.25678634643555,52.256343841552734,52.255943298339844,52.255516052246094,52.25511932373047,52.25471115112305]}},\"id\":\"5300ff51-5d27-40dc-ab7d-58ccb06d55c3\",\"type\":\"ColumnDataSource\"},{\"attributes\":{\"active_drag\":\"auto\",\"active_inspect\":\"auto\",\"active_scroll\":\"auto\",\"active_tap\":\"auto\",\"tools\":[{\"id\":\"de7cd0e4-720d-49cd-bd57-55cc6a2b7e3a\",\"type\":\"PanTool\"},{\"id\":\"a274aa5e-7782-4c85-97da-4a262eac2360\",\"type\":\"WheelZoomTool\"},{\"id\":\"261dfed3-06a6-45b8-8f6b-adffc94edac3\",\"type\":\"BoxZoomTool\"},{\"id\":\"f9fbb745-228a-458b-a883-782332f22c09\",\"type\":\"SaveTool\"},{\"id\":\"fe8529b7-3daf-4b5d-bd90-b2b078af27e0\",\"type\":\"ResetTool\"},{\"id\":\"a5f28a7c-787a-4392-8b8a-a31b6dbbfac2\",\"type\":\"HelpTool\"}]},\"id\":\"a78c10d6-431a-4798-a6a1-1bbfdcc5589d\",\"type\":\"Toolbar\"},{\"attributes\":{\"line_alpha\":0.1,\"line_color\":\"#1f77b4\",\"line_width\":3,\"x\":{\"field\":\"x\"},\"y\":{\"field\":\"y\"}},\"id\":\"4dbc96ac-26da-4892-a14b-9a2924c28bfa\",\"type\":\"Line\"},{\"attributes\":{\"data_source\":{\"id\":\"b6447188-0213-491f-a249-4015ffb548af\",\"type\":\"ColumnDataSource\"},\"glyph\":{\"id\":\"22149c96-42ee-41a3-9005-46dbba261088\",\"type\":\"Line\"},\"hover_glyph\":null,\"muted_glyph\":null,\"nonselection_glyph\":{\"id\":\"4dbc96ac-26da-4892-a14b-9a2924c28bfa\",\"type\":\"Line\"},\"selection_glyph\":null,\"view\":{\"id\":\"3752acad-40ed-42a3-854f-cdb49d0fd88b\",\"type\":\"CDSView\"}},\"id\":\"698c1f94-4dbb-4df4-8107-adc8ecb39016\",\"type\":\"GlyphRenderer\"},{\"attributes\":{\"callback\":null},\"id\":\"db34091a-b178-4955-a0df-f7ea98127d5d\",\"type\":\"DataRange1d\"},{\"attributes\":{\"callback\":null},\"id\":\"865d359b-b404-4d30-8ea6-86dde6c7c34c\",\"type\":\"DataRange1d\"},{\"attributes\":{\"plot\":null,\"text\":\"The Norm of w(t)\"},\"id\":\"bc00aa19-cf14-4535-95b9-4a2e9edae186\",\"type\":\"Title\"},{\"attributes\":{\"label\":{\"value\":\"train - 256_32_0.9\"},\"renderers\":[{\"id\":\"698c1f94-4dbb-4df4-8107-adc8ecb39016\",\"type\":\"GlyphRenderer\"}]},\"id\":\"ff057d3a-857a-40df-bf0c-e1eca27ebe1a\",\"type\":\"LegendItem\"},{\"attributes\":{\"callback\":null,\"column_names\":[\"x\",\"y\"],\"data\":{\"x\":{\"__ndarray__\":\"AQAAAAIAAAADAAAABAAAAAUAAAAGAAAABwAAAAgAAAAJAAAACgAAAAsAAAAMAAAADQAAAA4AAAAPAAAAEAAAABEAAAASAAAAEwAAABQAAAAVAAAAFgAAABcAAAAYAAAAGQAAABoAAAAbAAAAHAAAAB0AAAAeAAAAHwAAACAAAAAhAAAAIgAAACMAAAAkAAAAJQAAACYAAAAnAAAAKAAAACkAAAAqAAAAKwAAACwAAAAtAAAALgAAAC8AAAAwAAAAMQAAADIAAAAzAAAANAAAADUAAAA2AAAANwAAADgAAAA5AAAAOgAAADsAAAA8AAAAPQAAAD4AAAA/AAAAQAAAAEEAAABCAAAAQwAAAEQAAABFAAAARgAAAEcAAABIAAAASQAAAEoAAABLAAAATAAAAE0AAABOAAAATwAAAFAAAABRAAAAUgAAAFMAAABUAAAAVQAAAFYAAABXAAAAWAAAAFkAAABaAAAA\",\"dtype\":\"int32\",\"shape\":[90]},\"y\":[23.163476943969727,24.777456283569336,31.593395233154297,40.15866470336914,48.27956008911133,54.93716049194336,60.11776351928711,63.83689880371094,66.86790466308594,68.68444061279297,70.90425109863281,72.65764617919922,73.92286682128906,74.81024932861328,75.53132629394531,76.03103637695312,76.7069091796875,76.9327392578125,77.2581787109375,77.64269256591797,77.6125259399414,78.09293365478516,77.86715698242188,78.1505355834961,78.31005859375,78.46641540527344,78.51275634765625,78.69308471679688,78.77984619140625,77.81438446044922,75.86331939697266,73.6763687133789,71.63047790527344,69.7511978149414,68.04462432861328,66.51949310302734,65.16635131835938,63.96615219116211,62.91996765136719,62.00459671020508,61.213008880615234,60.52254104614258,59.94791793823242,59.44105529785156,59.010108947753906,58.62876510620117,58.30283737182617,58.020938873291016,57.77831268310547,57.56229019165039,57.37055969238281,57.198089599609375,57.05289077758789,56.91858673095703,56.794883728027344,56.678466796875,56.584815979003906,56.50071716308594,56.41297912597656,56.32969665527344,56.292667388916016,56.243751525878906,56.189823150634766,56.13314437866211,56.0738639831543,56.01245880126953,55.94916534423828,55.8855094909668,55.82007598876953,55.75458908081055,55.6884651184082,55.6226692199707,55.55646514892578,55.489097595214844,55.422725677490234,55.35652160644531,55.29072189331055,55.22438430786133,55.15865707397461,55.0939826965332,55.087684631347656,55.08134841918945,55.07495880126953,55.06853485107422,55.06206512451172,55.055721282958984,55.049339294433594,55.042930603027344,55.0363883972168,55.0299072265625]}},\"id\":\"b6447188-0213-491f-a249-4015ffb548af\",\"type\":\"ColumnDataSource\"},{\"attributes\":{\"line_color\":\"#ff7f0e\",\"line_width\":3,\"x\":{\"field\":\"x\"},\"y\":{\"field\":\"y\"}},\"id\":\"22149c96-42ee-41a3-9005-46dbba261088\",\"type\":\"Line\"}],\"root_ids\":[\"e2fd5720-a882-4cee-ab5a-aacf12d90251\"]},\"title\":\"Bokeh Application\",\"version\":\"0.12.13\"}};\n",
       "  var render_items = [{\"docid\":\"8345526e-0a41-4569-81de-ea4a40f8911d\",\"elementid\":\"acfee30d-9e3f-4bf8-97a2-5602b2601637\",\"modelid\":\"e2fd5720-a882-4cee-ab5a-aacf12d90251\"}];\n",
       "  root.Bokeh.embed.embed_items_notebook(docs_json, render_items);\n",
       "\n",
       "  }\n",
       "  if (root.Bokeh !== undefined) {\n",
       "    embed_document(root);\n",
       "  } else {\n",
       "    var attempts = 0;\n",
       "    var timer = setInterval(function(root) {\n",
       "      if (root.Bokeh !== undefined) {\n",
       "        embed_document(root);\n",
       "        clearInterval(timer);\n",
       "      }\n",
       "      attempts++;\n",
       "      if (attempts > 100) {\n",
       "        console.log(\"Bokeh: ERROR: Unable to run BokehJS code because BokehJS library is missing\")\n",
       "        clearInterval(timer);\n",
       "      }\n",
       "    }, 10, root)\n",
       "  }\n",
       "})(window);"
      ],
      "application/vnd.bokehjs_exec.v0+json": ""
     },
     "metadata": {
      "application/vnd.bokehjs_exec.v0+json": {
       "id": "e2fd5720-a882-4cee-ab5a-aacf12d90251"
      }
     },
     "output_type": "display_data"
    }
   ],
   "source": [
    "show(plots[2])"
   ]
  },
  {
   "cell_type": "code",
   "execution_count": 11,
   "metadata": {},
   "outputs": [
    {
     "data": {
      "text/html": [
       "\n",
       "<div class=\"bk-root\">\n",
       "    <div class=\"bk-plotdiv\" id=\"f6ad7080-05ef-42b0-8c86-348060311dc4\"></div>\n",
       "</div>"
      ]
     },
     "metadata": {},
     "output_type": "display_data"
    },
    {
     "data": {
      "application/javascript": [
       "(function(root) {\n",
       "  function embed_document(root) {\n",
       "    \n",
       "  var docs_json = {\"7e0ffad9-2ecd-4a25-8ed8-956dcc2379b3\":{\"roots\":{\"references\":[{\"attributes\":{\"label\":{\"value\":\"train - 256_32_0.9\"},\"renderers\":[{\"id\":\"83b4173d-385f-4389-8ef8-0667e0a0699f\",\"type\":\"GlyphRenderer\"}]},\"id\":\"1b7f8440-9fdf-4b4f-8055-e6372c99212e\",\"type\":\"LegendItem\"},{\"attributes\":{\"callback\":null},\"id\":\"dbaf2640-3200-4160-9fed-1c789aeaec74\",\"type\":\"DataRange1d\"},{\"attributes\":{\"data_source\":{\"id\":\"500e78ea-06c1-4e72-b764-b4bbfb3f2a6e\",\"type\":\"ColumnDataSource\"},\"glyph\":{\"id\":\"7e32471f-8ac5-41a6-b44a-768c419775ba\",\"type\":\"Line\"},\"hover_glyph\":null,\"muted_glyph\":null,\"nonselection_glyph\":{\"id\":\"86f1377c-c5d7-4130-9efa-b92b78a4c2c1\",\"type\":\"Line\"},\"selection_glyph\":null,\"view\":{\"id\":\"a67e1877-d4c2-4f3f-aa48-45b71b87d1aa\",\"type\":\"CDSView\"}},\"id\":\"83b4173d-385f-4389-8ef8-0667e0a0699f\",\"type\":\"GlyphRenderer\"},{\"attributes\":{\"active_drag\":\"auto\",\"active_inspect\":\"auto\",\"active_scroll\":\"auto\",\"active_tap\":\"auto\",\"tools\":[{\"id\":\"9f82fc19-b485-4f29-8d36-8e19e56af9c6\",\"type\":\"PanTool\"},{\"id\":\"28506bcb-76c2-4d41-9c88-4378fec27a35\",\"type\":\"WheelZoomTool\"},{\"id\":\"87b37cd7-92e9-4061-b5e7-338b5271067b\",\"type\":\"BoxZoomTool\"},{\"id\":\"36791c01-68f7-451e-8566-07ee97cbf016\",\"type\":\"SaveTool\"},{\"id\":\"79a0748f-edaf-4cb0-bba0-2114c14d511b\",\"type\":\"ResetTool\"},{\"id\":\"4c067ce7-faa8-4a91-be47-efb2b2608a81\",\"type\":\"HelpTool\"}]},\"id\":\"d36f4dbe-a046-4864-9451-c97e7ecfbabc\",\"type\":\"Toolbar\"},{\"attributes\":{\"plot\":null,\"text\":\"The Norm of Gradients\"},\"id\":\"5e196152-9aa6-4231-8d14-a99c38ea63b5\",\"type\":\"Title\"},{\"attributes\":{\"num_minor_ticks\":10},\"id\":\"565814ff-e702-4e82-89ef-b0507e1f5c89\",\"type\":\"LogTicker\"},{\"attributes\":{\"source\":{\"id\":\"500e78ea-06c1-4e72-b764-b4bbfb3f2a6e\",\"type\":\"ColumnDataSource\"}},\"id\":\"a67e1877-d4c2-4f3f-aa48-45b71b87d1aa\",\"type\":\"CDSView\"},{\"attributes\":{\"line_alpha\":0.1,\"line_color\":\"#1f77b4\",\"line_width\":3,\"x\":{\"field\":\"x\"},\"y\":{\"field\":\"y\"}},\"id\":\"86f1377c-c5d7-4130-9efa-b92b78a4c2c1\",\"type\":\"Line\"},{\"attributes\":{},\"id\":\"86287f6f-2554-4132-8406-6e84f7ce22ad\",\"type\":\"LinearScale\"},{\"attributes\":{\"callback\":null},\"id\":\"e16b6875-fcc2-41c4-9f18-4c546626ebc0\",\"type\":\"DataRange1d\"},{\"attributes\":{\"plot\":{\"id\":\"7f544bc7-a9f1-4d59-b240-582ded843194\",\"subtype\":\"Figure\",\"type\":\"Plot\"},\"ticker\":{\"id\":\"e0001363-cfc0-4696-8eb4-502548e89720\",\"type\":\"BasicTicker\"}},\"id\":\"ce96e071-e236-40fa-8516-14b62d7841de\",\"type\":\"Grid\"},{\"attributes\":{\"dimension\":1,\"plot\":{\"id\":\"7f544bc7-a9f1-4d59-b240-582ded843194\",\"subtype\":\"Figure\",\"type\":\"Plot\"},\"ticker\":{\"id\":\"565814ff-e702-4e82-89ef-b0507e1f5c89\",\"type\":\"LogTicker\"}},\"id\":\"1dc3982a-c1c2-4de6-8c72-655cbb888c5b\",\"type\":\"Grid\"},{\"attributes\":{},\"id\":\"e0001363-cfc0-4696-8eb4-502548e89720\",\"type\":\"BasicTicker\"},{\"attributes\":{\"axis_label\":\"t [Epochs]\",\"formatter\":{\"id\":\"d5a2a4b0-beb5-4683-a29e-7796cb64d0d4\",\"type\":\"BasicTickFormatter\"},\"plot\":{\"id\":\"7f544bc7-a9f1-4d59-b240-582ded843194\",\"subtype\":\"Figure\",\"type\":\"Plot\"},\"ticker\":{\"id\":\"e0001363-cfc0-4696-8eb4-502548e89720\",\"type\":\"BasicTicker\"}},\"id\":\"463bc999-d09f-4ce3-8a9a-111a92cf1f5a\",\"type\":\"LinearAxis\"},{\"attributes\":{\"axis_label\":\"||g||\",\"formatter\":{\"id\":\"97bdb85c-6516-4dfe-8eb1-0f1e1e663034\",\"type\":\"LogTickFormatter\"},\"plot\":{\"id\":\"7f544bc7-a9f1-4d59-b240-582ded843194\",\"subtype\":\"Figure\",\"type\":\"Plot\"},\"ticker\":{\"id\":\"565814ff-e702-4e82-89ef-b0507e1f5c89\",\"type\":\"LogTicker\"}},\"id\":\"e1271516-43f8-40bc-bb59-f393e1b2948e\",\"type\":\"LogAxis\"},{\"attributes\":{},\"id\":\"5c08c8c1-a067-4630-823e-35146cb5f1eb\",\"type\":\"LogScale\"},{\"attributes\":{\"bottom_units\":\"screen\",\"fill_alpha\":{\"value\":0.5},\"fill_color\":{\"value\":\"lightgrey\"},\"left_units\":\"screen\",\"level\":\"overlay\",\"line_alpha\":{\"value\":1.0},\"line_color\":{\"value\":\"black\"},\"line_dash\":[4,4],\"line_width\":{\"value\":2},\"plot\":null,\"render_mode\":\"css\",\"right_units\":\"screen\",\"top_units\":\"screen\"},\"id\":\"d704425b-51e3-47bb-8c9c-bd2bda10e08d\",\"type\":\"BoxAnnotation\"},{\"attributes\":{},\"id\":\"9f82fc19-b485-4f29-8d36-8e19e56af9c6\",\"type\":\"PanTool\"},{\"attributes\":{\"data_source\":{\"id\":\"975170df-ef82-4c27-bb80-432e9345f537\",\"type\":\"ColumnDataSource\"},\"glyph\":{\"id\":\"75fbe64a-495a-4c9f-bbe1-d3d30041d91d\",\"type\":\"Line\"},\"hover_glyph\":null,\"muted_glyph\":null,\"nonselection_glyph\":{\"id\":\"887950ed-121a-4743-8198-4b7b1e0befd2\",\"type\":\"Line\"},\"selection_glyph\":null,\"view\":{\"id\":\"fe24c975-dcbe-4f7b-82ae-da0341d6f9ab\",\"type\":\"CDSView\"}},\"id\":\"9b631742-cd87-400b-916b-79566d4468e2\",\"type\":\"GlyphRenderer\"},{\"attributes\":{},\"id\":\"28506bcb-76c2-4d41-9c88-4378fec27a35\",\"type\":\"WheelZoomTool\"},{\"attributes\":{\"callback\":null,\"column_names\":[\"x\",\"y\"],\"data\":{\"x\":{\"__ndarray__\":\"AQAAAAIAAAADAAAABAAAAAUAAAAGAAAABwAAAAgAAAAJAAAACgAAAAsAAAAMAAAADQAAAA4AAAAPAAAAEAAAABEAAAASAAAAEwAAABQAAAAVAAAAFgAAABcAAAAYAAAAGQAAABoAAAAbAAAAHAAAAB0AAAAeAAAAHwAAACAAAAAhAAAAIgAAACMAAAAkAAAAJQAAACYAAAAnAAAAKAAAACkAAAAqAAAAKwAAACwAAAAtAAAALgAAAC8AAAAwAAAAMQAAADIAAAAzAAAANAAAADUAAAA2AAAANwAAADgAAAA5AAAAOgAAADsAAAA8AAAAPQAAAD4AAAA/AAAAQAAAAEEAAABCAAAAQwAAAEQAAABFAAAARgAAAEcAAABIAAAASQAAAEoAAABLAAAATAAAAE0AAABOAAAATwAAAFAAAABRAAAAUgAAAFMAAABUAAAAVQAAAFYAAABXAAAAWAAAAFkAAABaAAAA\",\"dtype\":\"int32\",\"shape\":[90]},\"y\":[3.6746466159820557,2.6603000164031982,2.2115697860717773,1.959593653678894,1.7617378234863281,1.7264866828918457,1.7398138046264648,1.7612859010696411,1.6401288509368896,1.6433801651000977,1.5912028551101685,1.5440435409545898,1.615655541419983,1.5482556819915771,1.4613205194473267,1.4048770666122437,1.5124365091323853,1.5003758668899536,1.496251106262207,1.315889835357666,1.474357008934021,1.5184760093688965,1.3562860488891602,1.483612298965454,1.4580578804016113,1.4690793752670288,1.43744957447052,1.3272979259490967,1.3110498189926147,1.4227575063705444,1.234837293624878,1.3331345319747925,1.2307384014129639,1.1800516843795776,1.4192180633544922,1.3518739938735962,1.2525193691253662,1.3263282775878906,1.2289761304855347,1.326879620552063,1.3092079162597656,1.337517499923706,1.37027108669281,1.1581588983535767,1.3517394065856934,1.3437683582305908,1.4072078466415405,1.2987228631973267,1.428053617477417,1.342185616493225,1.343677282333374,1.346888542175293,1.3133962154388428,1.3886818885803223,1.3952887058258057,1.39739191532135,1.4716922044754028,1.3100666999816895,1.384204387664795,1.3619729280471802,1.454527497291565,1.4999492168426514,1.4976162910461426,1.3004159927368164,1.4144445657730103,1.4115757942199707,1.427252173423767,1.3644520044326782,1.1936753988265991,1.2855474948883057,1.3198505640029907,1.2857398986816406,1.4186824560165405,1.4671595096588135,1.4528151750564575,1.4248188734054565,1.3738219738006592,1.340017318725586,1.314192533493042,1.321152687072754,1.3387140035629272,1.3183486461639404,1.3582402467727661,1.3875848054885864,1.3128137588500977,1.3885873556137085,1.325171709060669,1.471025824546814,1.2242143154144287,1.439084768295288]}},\"id\":\"975170df-ef82-4c27-bb80-432e9345f537\",\"type\":\"ColumnDataSource\"},{\"attributes\":{\"overlay\":{\"id\":\"d704425b-51e3-47bb-8c9c-bd2bda10e08d\",\"type\":\"BoxAnnotation\"}},\"id\":\"87b37cd7-92e9-4061-b5e7-338b5271067b\",\"type\":\"BoxZoomTool\"},{\"attributes\":{\"ticker\":null},\"id\":\"97bdb85c-6516-4dfe-8eb1-0f1e1e663034\",\"type\":\"LogTickFormatter\"},{\"attributes\":{},\"id\":\"36791c01-68f7-451e-8566-07ee97cbf016\",\"type\":\"SaveTool\"},{\"attributes\":{},\"id\":\"79a0748f-edaf-4cb0-bba0-2114c14d511b\",\"type\":\"ResetTool\"},{\"attributes\":{\"line_alpha\":0.1,\"line_color\":\"#1f77b4\",\"line_width\":3,\"x\":{\"field\":\"x\"},\"y\":{\"field\":\"y\"}},\"id\":\"887950ed-121a-4743-8198-4b7b1e0befd2\",\"type\":\"Line\"},{\"attributes\":{},\"id\":\"4c067ce7-faa8-4a91-be47-efb2b2608a81\",\"type\":\"HelpTool\"},{\"attributes\":{\"line_color\":\"#1f77b4\",\"line_width\":3,\"x\":{\"field\":\"x\"},\"y\":{\"field\":\"y\"}},\"id\":\"75fbe64a-495a-4c9f-bbe1-d3d30041d91d\",\"type\":\"Line\"},{\"attributes\":{},\"id\":\"d5a2a4b0-beb5-4683-a29e-7796cb64d0d4\",\"type\":\"BasicTickFormatter\"},{\"attributes\":{\"source\":{\"id\":\"975170df-ef82-4c27-bb80-432e9345f537\",\"type\":\"ColumnDataSource\"}},\"id\":\"fe24c975-dcbe-4f7b-82ae-da0341d6f9ab\",\"type\":\"CDSView\"},{\"attributes\":{\"label\":{\"value\":\"train - 256_32_0.0\"},\"renderers\":[{\"id\":\"9b631742-cd87-400b-916b-79566d4468e2\",\"type\":\"GlyphRenderer\"}]},\"id\":\"cd9ba329-2b3b-4187-a8d7-ef8161ea372b\",\"type\":\"LegendItem\"},{\"attributes\":{\"click_policy\":\"hide\",\"items\":[{\"id\":\"cd9ba329-2b3b-4187-a8d7-ef8161ea372b\",\"type\":\"LegendItem\"},{\"id\":\"1b7f8440-9fdf-4b4f-8055-e6372c99212e\",\"type\":\"LegendItem\"}],\"location\":\"bottom_left\",\"plot\":{\"id\":\"7f544bc7-a9f1-4d59-b240-582ded843194\",\"subtype\":\"Figure\",\"type\":\"Plot\"}},\"id\":\"31db529d-f0b4-48bf-b701-febac2b71efe\",\"type\":\"Legend\"},{\"attributes\":{\"background_fill_color\":{\"value\":\"#fafafa\"},\"below\":[{\"id\":\"463bc999-d09f-4ce3-8a9a-111a92cf1f5a\",\"type\":\"LinearAxis\"}],\"left\":[{\"id\":\"e1271516-43f8-40bc-bb59-f393e1b2948e\",\"type\":\"LogAxis\"}],\"min_border\":10,\"min_border_left\":50,\"renderers\":[{\"id\":\"463bc999-d09f-4ce3-8a9a-111a92cf1f5a\",\"type\":\"LinearAxis\"},{\"id\":\"ce96e071-e236-40fa-8516-14b62d7841de\",\"type\":\"Grid\"},{\"id\":\"e1271516-43f8-40bc-bb59-f393e1b2948e\",\"type\":\"LogAxis\"},{\"id\":\"1dc3982a-c1c2-4de6-8c72-655cbb888c5b\",\"type\":\"Grid\"},{\"id\":\"d704425b-51e3-47bb-8c9c-bd2bda10e08d\",\"type\":\"BoxAnnotation\"},{\"id\":\"31db529d-f0b4-48bf-b701-febac2b71efe\",\"type\":\"Legend\"},{\"id\":\"9b631742-cd87-400b-916b-79566d4468e2\",\"type\":\"GlyphRenderer\"},{\"id\":\"83b4173d-385f-4389-8ef8-0667e0a0699f\",\"type\":\"GlyphRenderer\"}],\"title\":{\"id\":\"5e196152-9aa6-4231-8d14-a99c38ea63b5\",\"type\":\"Title\"},\"toolbar\":{\"id\":\"d36f4dbe-a046-4864-9451-c97e7ecfbabc\",\"type\":\"Toolbar\"},\"x_range\":{\"id\":\"dbaf2640-3200-4160-9fed-1c789aeaec74\",\"type\":\"DataRange1d\"},\"x_scale\":{\"id\":\"86287f6f-2554-4132-8406-6e84f7ce22ad\",\"type\":\"LinearScale\"},\"y_range\":{\"id\":\"e16b6875-fcc2-41c4-9f18-4c546626ebc0\",\"type\":\"DataRange1d\"},\"y_scale\":{\"id\":\"5c08c8c1-a067-4630-823e-35146cb5f1eb\",\"type\":\"LogScale\"}},\"id\":\"7f544bc7-a9f1-4d59-b240-582ded843194\",\"subtype\":\"Figure\",\"type\":\"Plot\"},{\"attributes\":{\"callback\":null,\"column_names\":[\"x\",\"y\"],\"data\":{\"x\":{\"__ndarray__\":\"AQAAAAIAAAADAAAABAAAAAUAAAAGAAAABwAAAAgAAAAJAAAACgAAAAsAAAAMAAAADQAAAA4AAAAPAAAAEAAAABEAAAASAAAAEwAAABQAAAAVAAAAFgAAABcAAAAYAAAAGQAAABoAAAAbAAAAHAAAAB0AAAAeAAAAHwAAACAAAAAhAAAAIgAAACMAAAAkAAAAJQAAACYAAAAnAAAAKAAAACkAAAAqAAAAKwAAACwAAAAtAAAALgAAAC8AAAAwAAAAMQAAADIAAAAzAAAANAAAADUAAAA2AAAANwAAADgAAAA5AAAAOgAAADsAAAA8AAAAPQAAAD4AAAA/AAAAQAAAAEEAAABCAAAAQwAAAEQAAABFAAAARgAAAEcAAABIAAAASQAAAEoAAABLAAAATAAAAE0AAABOAAAATwAAAFAAAABRAAAAUgAAAFMAAABUAAAAVQAAAFYAAABXAAAAWAAAAFkAAABaAAAA\",\"dtype\":\"int32\",\"shape\":[90]},\"y\":[0.826116144657135,0.6305275559425354,0.5603293180465698,0.5776548385620117,0.5660849809646606,0.6205750107765198,0.6208299398422241,0.6596800684928894,0.6622775197029114,0.7150651216506958,0.7132781147956848,0.7326405644416809,0.7153470516204834,0.7583386301994324,0.7449451684951782,0.7295563817024231,0.7708937525749207,0.7177477478981018,0.7512964606285095,0.7346398234367371,0.738284707069397,0.760417640209198,0.7242952585220337,0.7482939958572388,0.7643463015556335,0.831589937210083,0.7420058846473694,0.7456451058387756,0.7487715482711792,0.7723224759101868,0.8565144538879395,1.0080054998397827,1.0249273777008057,1.0549575090408325,1.1672929525375366,1.2024513483047485,1.287891149520874,1.267886996269226,1.1961274147033691,1.288016676902771,1.3104878664016724,1.291458249092102,1.3133695125579834,1.3275591135025024,1.396555781364441,1.411324381828308,1.4675265550613403,1.362216830253601,1.4003762006759644,1.4298362731933594,1.416244626045227,1.312034010887146,1.4418390989303589,1.3667165040969849,1.4004559516906738,1.34296452999115,1.2896174192428589,1.3091484308242798,1.3709911108016968,1.2898825407028198,1.1866674423217773,1.3966138362884521,1.241007924079895,1.2850757837295532,1.1850897073745728,1.373877763748169,1.181821346282959,1.274670124053955,1.3900372982025146,1.281639575958252,1.2926446199417114,1.327097773551941,1.3420706987380981,1.3725579977035522,1.3509457111358643,1.3722224235534668,1.301905870437622,1.3530856370925903,1.2967984676361084,1.300282597541809,1.3416097164154053,1.345569372177124,1.4354819059371948,1.4362108707427979,1.4155856370925903,1.3185057640075684,1.2473934888839722,1.2848929166793823,1.4746222496032715,1.3698612451553345]}},\"id\":\"500e78ea-06c1-4e72-b764-b4bbfb3f2a6e\",\"type\":\"ColumnDataSource\"},{\"attributes\":{\"line_color\":\"#ff7f0e\",\"line_width\":3,\"x\":{\"field\":\"x\"},\"y\":{\"field\":\"y\"}},\"id\":\"7e32471f-8ac5-41a6-b44a-768c419775ba\",\"type\":\"Line\"}],\"root_ids\":[\"7f544bc7-a9f1-4d59-b240-582ded843194\"]},\"title\":\"Bokeh Application\",\"version\":\"0.12.13\"}};\n",
       "  var render_items = [{\"docid\":\"7e0ffad9-2ecd-4a25-8ed8-956dcc2379b3\",\"elementid\":\"f6ad7080-05ef-42b0-8c86-348060311dc4\",\"modelid\":\"7f544bc7-a9f1-4d59-b240-582ded843194\"}];\n",
       "  root.Bokeh.embed.embed_items_notebook(docs_json, render_items);\n",
       "\n",
       "  }\n",
       "  if (root.Bokeh !== undefined) {\n",
       "    embed_document(root);\n",
       "  } else {\n",
       "    var attempts = 0;\n",
       "    var timer = setInterval(function(root) {\n",
       "      if (root.Bokeh !== undefined) {\n",
       "        embed_document(root);\n",
       "        clearInterval(timer);\n",
       "      }\n",
       "      attempts++;\n",
       "      if (attempts > 100) {\n",
       "        console.log(\"Bokeh: ERROR: Unable to run BokehJS code because BokehJS library is missing\")\n",
       "        clearInterval(timer);\n",
       "      }\n",
       "    }, 10, root)\n",
       "  }\n",
       "})(window);"
      ],
      "application/vnd.bokehjs_exec.v0+json": ""
     },
     "metadata": {
      "application/vnd.bokehjs_exec.v0+json": {
       "id": "7f544bc7-a9f1-4d59-b240-582ded843194"
      }
     },
     "output_type": "display_data"
    }
   ],
   "source": [
    "show(plots[3])"
   ]
  }
 ],
 "metadata": {
  "kernelspec": {
   "display_name": "Python 3",
   "language": "python",
   "name": "python3"
  },
  "language_info": {
   "codemirror_mode": {
    "name": "ipython",
    "version": 3
   },
   "file_extension": ".py",
   "mimetype": "text/x-python",
   "name": "python",
   "nbconvert_exporter": "python",
   "pygments_lexer": "ipython3",
   "version": "3.6.1"
  }
 },
 "nbformat": 4,
 "nbformat_minor": 1
}
