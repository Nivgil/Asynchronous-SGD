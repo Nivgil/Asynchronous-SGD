{
 "cells": [
  {
   "cell_type": "markdown",
   "metadata": {},
   "source": [
    "<script>\n",
    "  function code_toggle() {\n",
    "    if (code_shown){\n",
    "      $('div.input').hide('500');\n",
    "      $('#toggleButton').val('Show Code')\n",
    "    } else {\n",
    "      $('div.input').show('500');\n",
    "      $('#toggleButton').val('Hide Code')\n",
    "    }\n",
    "    code_shown = !code_shown\n",
    "  } \n",
    "  \n",
    "  $( document ).ready(function(){\n",
    "    code_shown=false; \n",
    "    $('div.input').hide()\n",
    "  });\n",
    "</script>\n",
    "<form action=\"javascript:code_toggle()\"><input type=\"submit\" id=\"toggleButton\" value=\"Show Code\"></form>"
   ]
  },
  {
   "cell_type": "markdown",
   "metadata": {},
   "source": [
    "<h1 style=\"text-align: center;\" markdown=\"1\"> ImageNet - Fast Training Regime</h1>\n",
    "<h2 style=\"text-align: center;\" markdown=\"1\"> Resnet 50</h2>"
   ]
  },
  {
   "cell_type": "code",
   "execution_count": 6,
   "metadata": {
    "scrolled": false
   },
   "outputs": [
    {
     "data": {
      "text/html": [
       "\n",
       "    <div class=\"bk-root\">\n",
       "        <a href=\"https://bokeh.pydata.org\" target=\"_blank\" class=\"bk-logo bk-logo-small bk-logo-notebook\"></a>\n",
       "        <span id=\"5d8cec87-8fe6-4132-b1df-d0418edf23e3\">Loading BokehJS ...</span>\n",
       "    </div>"
      ]
     },
     "metadata": {},
     "output_type": "display_data"
    },
    {
     "data": {
      "application/javascript": [
       "\n",
       "(function(root) {\n",
       "  function now() {\n",
       "    return new Date();\n",
       "  }\n",
       "\n",
       "  var force = true;\n",
       "\n",
       "  if (typeof (root._bokeh_onload_callbacks) === \"undefined\" || force === true) {\n",
       "    root._bokeh_onload_callbacks = [];\n",
       "    root._bokeh_is_loading = undefined;\n",
       "  }\n",
       "\n",
       "  var JS_MIME_TYPE = 'application/javascript';\n",
       "  var HTML_MIME_TYPE = 'text/html';\n",
       "  var EXEC_MIME_TYPE = 'application/vnd.bokehjs_exec.v0+json';\n",
       "  var CLASS_NAME = 'output_bokeh rendered_html';\n",
       "\n",
       "  /**\n",
       "   * Render data to the DOM node\n",
       "   */\n",
       "  function render(props, node) {\n",
       "    var script = document.createElement(\"script\");\n",
       "    node.appendChild(script);\n",
       "  }\n",
       "\n",
       "  /**\n",
       "   * Handle when an output is cleared or removed\n",
       "   */\n",
       "  function handleClearOutput(event, handle) {\n",
       "    var cell = handle.cell;\n",
       "\n",
       "    var id = cell.output_area._bokeh_element_id;\n",
       "    var server_id = cell.output_area._bokeh_server_id;\n",
       "    // Clean up Bokeh references\n",
       "    if (id !== undefined) {\n",
       "      Bokeh.index[id].model.document.clear();\n",
       "      delete Bokeh.index[id];\n",
       "    }\n",
       "\n",
       "    if (server_id !== undefined) {\n",
       "      // Clean up Bokeh references\n",
       "      var cmd = \"from bokeh.io.state import curstate; print(curstate().uuid_to_server['\" + server_id + \"'].get_sessions()[0].document.roots[0]._id)\";\n",
       "      cell.notebook.kernel.execute(cmd, {\n",
       "        iopub: {\n",
       "          output: function(msg) {\n",
       "            var element_id = msg.content.text.trim();\n",
       "            Bokeh.index[element_id].model.document.clear();\n",
       "            delete Bokeh.index[element_id];\n",
       "          }\n",
       "        }\n",
       "      });\n",
       "      // Destroy server and session\n",
       "      var cmd = \"import bokeh.io.notebook as ion; ion.destroy_server('\" + server_id + \"')\";\n",
       "      cell.notebook.kernel.execute(cmd);\n",
       "    }\n",
       "  }\n",
       "\n",
       "  /**\n",
       "   * Handle when a new output is added\n",
       "   */\n",
       "  function handleAddOutput(event, handle) {\n",
       "    var output_area = handle.output_area;\n",
       "    var output = handle.output;\n",
       "\n",
       "    // limit handleAddOutput to display_data with EXEC_MIME_TYPE content only\n",
       "    if ((output.output_type != \"display_data\") || (!output.data.hasOwnProperty(EXEC_MIME_TYPE))) {\n",
       "      return\n",
       "    }\n",
       "\n",
       "    var toinsert = output_area.element.find(\".\" + CLASS_NAME.split(' ')[0]);\n",
       "\n",
       "    if (output.metadata[EXEC_MIME_TYPE][\"id\"] !== undefined) {\n",
       "      toinsert[0].firstChild.textContent = output.data[JS_MIME_TYPE];\n",
       "      // store reference to embed id on output_area\n",
       "      output_area._bokeh_element_id = output.metadata[EXEC_MIME_TYPE][\"id\"];\n",
       "    }\n",
       "    if (output.metadata[EXEC_MIME_TYPE][\"server_id\"] !== undefined) {\n",
       "      var bk_div = document.createElement(\"div\");\n",
       "      bk_div.innerHTML = output.data[HTML_MIME_TYPE];\n",
       "      var script_attrs = bk_div.children[0].attributes;\n",
       "      for (var i = 0; i < script_attrs.length; i++) {\n",
       "        toinsert[0].firstChild.setAttribute(script_attrs[i].name, script_attrs[i].value);\n",
       "      }\n",
       "      // store reference to server id on output_area\n",
       "      output_area._bokeh_server_id = output.metadata[EXEC_MIME_TYPE][\"server_id\"];\n",
       "    }\n",
       "  }\n",
       "\n",
       "  function register_renderer(events, OutputArea) {\n",
       "\n",
       "    function append_mime(data, metadata, element) {\n",
       "      // create a DOM node to render to\n",
       "      var toinsert = this.create_output_subarea(\n",
       "        metadata,\n",
       "        CLASS_NAME,\n",
       "        EXEC_MIME_TYPE\n",
       "      );\n",
       "      this.keyboard_manager.register_events(toinsert);\n",
       "      // Render to node\n",
       "      var props = {data: data, metadata: metadata[EXEC_MIME_TYPE]};\n",
       "      render(props, toinsert[0]);\n",
       "      element.append(toinsert);\n",
       "      return toinsert\n",
       "    }\n",
       "\n",
       "    /* Handle when an output is cleared or removed */\n",
       "    events.on('clear_output.CodeCell', handleClearOutput);\n",
       "    events.on('delete.Cell', handleClearOutput);\n",
       "\n",
       "    /* Handle when a new output is added */\n",
       "    events.on('output_added.OutputArea', handleAddOutput);\n",
       "\n",
       "    /**\n",
       "     * Register the mime type and append_mime function with output_area\n",
       "     */\n",
       "    OutputArea.prototype.register_mime_type(EXEC_MIME_TYPE, append_mime, {\n",
       "      /* Is output safe? */\n",
       "      safe: true,\n",
       "      /* Index of renderer in `output_area.display_order` */\n",
       "      index: 0\n",
       "    });\n",
       "  }\n",
       "\n",
       "  // register the mime type if in Jupyter Notebook environment and previously unregistered\n",
       "  if (root.Jupyter !== undefined) {\n",
       "    var events = require('base/js/events');\n",
       "    var OutputArea = require('notebook/js/outputarea').OutputArea;\n",
       "\n",
       "    if (OutputArea.prototype.mime_types().indexOf(EXEC_MIME_TYPE) == -1) {\n",
       "      register_renderer(events, OutputArea);\n",
       "    }\n",
       "  }\n",
       "\n",
       "  \n",
       "  if (typeof (root._bokeh_timeout) === \"undefined\" || force === true) {\n",
       "    root._bokeh_timeout = Date.now() + 5000;\n",
       "    root._bokeh_failed_load = false;\n",
       "  }\n",
       "\n",
       "  var NB_LOAD_WARNING = {'data': {'text/html':\n",
       "     \"<div style='background-color: #fdd'>\\n\"+\n",
       "     \"<p>\\n\"+\n",
       "     \"BokehJS does not appear to have successfully loaded. If loading BokehJS from CDN, this \\n\"+\n",
       "     \"may be due to a slow or bad network connection. Possible fixes:\\n\"+\n",
       "     \"</p>\\n\"+\n",
       "     \"<ul>\\n\"+\n",
       "     \"<li>re-rerun `output_notebook()` to attempt to load from CDN again, or</li>\\n\"+\n",
       "     \"<li>use INLINE resources instead, as so:</li>\\n\"+\n",
       "     \"</ul>\\n\"+\n",
       "     \"<code>\\n\"+\n",
       "     \"from bokeh.resources import INLINE\\n\"+\n",
       "     \"output_notebook(resources=INLINE)\\n\"+\n",
       "     \"</code>\\n\"+\n",
       "     \"</div>\"}};\n",
       "\n",
       "  function display_loaded() {\n",
       "    var el = document.getElementById(\"5d8cec87-8fe6-4132-b1df-d0418edf23e3\");\n",
       "    if (el != null) {\n",
       "      el.textContent = \"BokehJS is loading...\";\n",
       "    }\n",
       "    if (root.Bokeh !== undefined) {\n",
       "      if (el != null) {\n",
       "        el.textContent = \"BokehJS \" + root.Bokeh.version + \" successfully loaded.\";\n",
       "      }\n",
       "    } else if (Date.now() < root._bokeh_timeout) {\n",
       "      setTimeout(display_loaded, 100)\n",
       "    }\n",
       "  }\n",
       "\n",
       "\n",
       "  function run_callbacks() {\n",
       "    try {\n",
       "      root._bokeh_onload_callbacks.forEach(function(callback) { callback() });\n",
       "    }\n",
       "    finally {\n",
       "      delete root._bokeh_onload_callbacks\n",
       "    }\n",
       "    console.info(\"Bokeh: all callbacks have finished\");\n",
       "  }\n",
       "\n",
       "  function load_libs(js_urls, callback) {\n",
       "    root._bokeh_onload_callbacks.push(callback);\n",
       "    if (root._bokeh_is_loading > 0) {\n",
       "      console.log(\"Bokeh: BokehJS is being loaded, scheduling callback at\", now());\n",
       "      return null;\n",
       "    }\n",
       "    if (js_urls == null || js_urls.length === 0) {\n",
       "      run_callbacks();\n",
       "      return null;\n",
       "    }\n",
       "    console.log(\"Bokeh: BokehJS not loaded, scheduling load and callback at\", now());\n",
       "    root._bokeh_is_loading = js_urls.length;\n",
       "    for (var i = 0; i < js_urls.length; i++) {\n",
       "      var url = js_urls[i];\n",
       "      var s = document.createElement('script');\n",
       "      s.src = url;\n",
       "      s.async = false;\n",
       "      s.onreadystatechange = s.onload = function() {\n",
       "        root._bokeh_is_loading--;\n",
       "        if (root._bokeh_is_loading === 0) {\n",
       "          console.log(\"Bokeh: all BokehJS libraries loaded\");\n",
       "          run_callbacks()\n",
       "        }\n",
       "      };\n",
       "      s.onerror = function() {\n",
       "        console.warn(\"failed to load library \" + url);\n",
       "      };\n",
       "      console.log(\"Bokeh: injecting script tag for BokehJS library: \", url);\n",
       "      document.getElementsByTagName(\"head\")[0].appendChild(s);\n",
       "    }\n",
       "  };var element = document.getElementById(\"5d8cec87-8fe6-4132-b1df-d0418edf23e3\");\n",
       "  if (element == null) {\n",
       "    console.log(\"Bokeh: ERROR: autoload.js configured with elementid '5d8cec87-8fe6-4132-b1df-d0418edf23e3' but no matching script tag was found. \")\n",
       "    return false;\n",
       "  }\n",
       "\n",
       "  var js_urls = [\"https://cdn.pydata.org/bokeh/release/bokeh-0.12.13.min.js\", \"https://cdn.pydata.org/bokeh/release/bokeh-widgets-0.12.13.min.js\", \"https://cdn.pydata.org/bokeh/release/bokeh-tables-0.12.13.min.js\", \"https://cdn.pydata.org/bokeh/release/bokeh-gl-0.12.13.min.js\"];\n",
       "\n",
       "  var inline_js = [\n",
       "    function(Bokeh) {\n",
       "      Bokeh.set_log_level(\"info\");\n",
       "    },\n",
       "    \n",
       "    function(Bokeh) {\n",
       "      \n",
       "    },\n",
       "    function(Bokeh) {\n",
       "      console.log(\"Bokeh: injecting CSS: https://cdn.pydata.org/bokeh/release/bokeh-0.12.13.min.css\");\n",
       "      Bokeh.embed.inject_css(\"https://cdn.pydata.org/bokeh/release/bokeh-0.12.13.min.css\");\n",
       "      console.log(\"Bokeh: injecting CSS: https://cdn.pydata.org/bokeh/release/bokeh-widgets-0.12.13.min.css\");\n",
       "      Bokeh.embed.inject_css(\"https://cdn.pydata.org/bokeh/release/bokeh-widgets-0.12.13.min.css\");\n",
       "      console.log(\"Bokeh: injecting CSS: https://cdn.pydata.org/bokeh/release/bokeh-tables-0.12.13.min.css\");\n",
       "      Bokeh.embed.inject_css(\"https://cdn.pydata.org/bokeh/release/bokeh-tables-0.12.13.min.css\");\n",
       "    }\n",
       "  ];\n",
       "\n",
       "  function run_inline_js() {\n",
       "    \n",
       "    if ((root.Bokeh !== undefined) || (force === true)) {\n",
       "      for (var i = 0; i < inline_js.length; i++) {\n",
       "        inline_js[i].call(root, root.Bokeh);\n",
       "      }if (force === true) {\n",
       "        display_loaded();\n",
       "      }} else if (Date.now() < root._bokeh_timeout) {\n",
       "      setTimeout(run_inline_js, 100);\n",
       "    } else if (!root._bokeh_failed_load) {\n",
       "      console.log(\"Bokeh: BokehJS failed to load within specified timeout.\");\n",
       "      root._bokeh_failed_load = true;\n",
       "    } else if (force !== true) {\n",
       "      var cell = $(document.getElementById(\"5d8cec87-8fe6-4132-b1df-d0418edf23e3\")).parents('.cell').data().cell;\n",
       "      cell.output_area.append_execute_result(NB_LOAD_WARNING)\n",
       "    }\n",
       "\n",
       "  }\n",
       "\n",
       "  if (root._bokeh_is_loading === 0) {\n",
       "    console.log(\"Bokeh: BokehJS loaded, going straight to plotting\");\n",
       "    run_inline_js();\n",
       "  } else {\n",
       "    load_libs(js_urls, function() {\n",
       "      console.log(\"Bokeh: BokehJS plotting callback run at\", now());\n",
       "      run_inline_js();\n",
       "    });\n",
       "  }\n",
       "}(window));"
      ],
      "application/vnd.bokehjs_load.v0+json": "\n(function(root) {\n  function now() {\n    return new Date();\n  }\n\n  var force = true;\n\n  if (typeof (root._bokeh_onload_callbacks) === \"undefined\" || force === true) {\n    root._bokeh_onload_callbacks = [];\n    root._bokeh_is_loading = undefined;\n  }\n\n  \n\n  \n  if (typeof (root._bokeh_timeout) === \"undefined\" || force === true) {\n    root._bokeh_timeout = Date.now() + 5000;\n    root._bokeh_failed_load = false;\n  }\n\n  var NB_LOAD_WARNING = {'data': {'text/html':\n     \"<div style='background-color: #fdd'>\\n\"+\n     \"<p>\\n\"+\n     \"BokehJS does not appear to have successfully loaded. If loading BokehJS from CDN, this \\n\"+\n     \"may be due to a slow or bad network connection. Possible fixes:\\n\"+\n     \"</p>\\n\"+\n     \"<ul>\\n\"+\n     \"<li>re-rerun `output_notebook()` to attempt to load from CDN again, or</li>\\n\"+\n     \"<li>use INLINE resources instead, as so:</li>\\n\"+\n     \"</ul>\\n\"+\n     \"<code>\\n\"+\n     \"from bokeh.resources import INLINE\\n\"+\n     \"output_notebook(resources=INLINE)\\n\"+\n     \"</code>\\n\"+\n     \"</div>\"}};\n\n  function display_loaded() {\n    var el = document.getElementById(\"5d8cec87-8fe6-4132-b1df-d0418edf23e3\");\n    if (el != null) {\n      el.textContent = \"BokehJS is loading...\";\n    }\n    if (root.Bokeh !== undefined) {\n      if (el != null) {\n        el.textContent = \"BokehJS \" + root.Bokeh.version + \" successfully loaded.\";\n      }\n    } else if (Date.now() < root._bokeh_timeout) {\n      setTimeout(display_loaded, 100)\n    }\n  }\n\n\n  function run_callbacks() {\n    try {\n      root._bokeh_onload_callbacks.forEach(function(callback) { callback() });\n    }\n    finally {\n      delete root._bokeh_onload_callbacks\n    }\n    console.info(\"Bokeh: all callbacks have finished\");\n  }\n\n  function load_libs(js_urls, callback) {\n    root._bokeh_onload_callbacks.push(callback);\n    if (root._bokeh_is_loading > 0) {\n      console.log(\"Bokeh: BokehJS is being loaded, scheduling callback at\", now());\n      return null;\n    }\n    if (js_urls == null || js_urls.length === 0) {\n      run_callbacks();\n      return null;\n    }\n    console.log(\"Bokeh: BokehJS not loaded, scheduling load and callback at\", now());\n    root._bokeh_is_loading = js_urls.length;\n    for (var i = 0; i < js_urls.length; i++) {\n      var url = js_urls[i];\n      var s = document.createElement('script');\n      s.src = url;\n      s.async = false;\n      s.onreadystatechange = s.onload = function() {\n        root._bokeh_is_loading--;\n        if (root._bokeh_is_loading === 0) {\n          console.log(\"Bokeh: all BokehJS libraries loaded\");\n          run_callbacks()\n        }\n      };\n      s.onerror = function() {\n        console.warn(\"failed to load library \" + url);\n      };\n      console.log(\"Bokeh: injecting script tag for BokehJS library: \", url);\n      document.getElementsByTagName(\"head\")[0].appendChild(s);\n    }\n  };var element = document.getElementById(\"5d8cec87-8fe6-4132-b1df-d0418edf23e3\");\n  if (element == null) {\n    console.log(\"Bokeh: ERROR: autoload.js configured with elementid '5d8cec87-8fe6-4132-b1df-d0418edf23e3' but no matching script tag was found. \")\n    return false;\n  }\n\n  var js_urls = [\"https://cdn.pydata.org/bokeh/release/bokeh-0.12.13.min.js\", \"https://cdn.pydata.org/bokeh/release/bokeh-widgets-0.12.13.min.js\", \"https://cdn.pydata.org/bokeh/release/bokeh-tables-0.12.13.min.js\", \"https://cdn.pydata.org/bokeh/release/bokeh-gl-0.12.13.min.js\"];\n\n  var inline_js = [\n    function(Bokeh) {\n      Bokeh.set_log_level(\"info\");\n    },\n    \n    function(Bokeh) {\n      \n    },\n    function(Bokeh) {\n      console.log(\"Bokeh: injecting CSS: https://cdn.pydata.org/bokeh/release/bokeh-0.12.13.min.css\");\n      Bokeh.embed.inject_css(\"https://cdn.pydata.org/bokeh/release/bokeh-0.12.13.min.css\");\n      console.log(\"Bokeh: injecting CSS: https://cdn.pydata.org/bokeh/release/bokeh-widgets-0.12.13.min.css\");\n      Bokeh.embed.inject_css(\"https://cdn.pydata.org/bokeh/release/bokeh-widgets-0.12.13.min.css\");\n      console.log(\"Bokeh: injecting CSS: https://cdn.pydata.org/bokeh/release/bokeh-tables-0.12.13.min.css\");\n      Bokeh.embed.inject_css(\"https://cdn.pydata.org/bokeh/release/bokeh-tables-0.12.13.min.css\");\n    }\n  ];\n\n  function run_inline_js() {\n    \n    if ((root.Bokeh !== undefined) || (force === true)) {\n      for (var i = 0; i < inline_js.length; i++) {\n        inline_js[i].call(root, root.Bokeh);\n      }if (force === true) {\n        display_loaded();\n      }} else if (Date.now() < root._bokeh_timeout) {\n      setTimeout(run_inline_js, 100);\n    } else if (!root._bokeh_failed_load) {\n      console.log(\"Bokeh: BokehJS failed to load within specified timeout.\");\n      root._bokeh_failed_load = true;\n    } else if (force !== true) {\n      var cell = $(document.getElementById(\"5d8cec87-8fe6-4132-b1df-d0418edf23e3\")).parents('.cell').data().cell;\n      cell.output_area.append_execute_result(NB_LOAD_WARNING)\n    }\n\n  }\n\n  if (root._bokeh_is_loading === 0) {\n    console.log(\"Bokeh: BokehJS loaded, going straight to plotting\");\n    run_inline_js();\n  } else {\n    load_libs(js_urls, function() {\n      console.log(\"Bokeh: BokehJS plotting callback run at\", now());\n      run_inline_js();\n    });\n  }\n}(window));"
     },
     "metadata": {},
     "output_type": "display_data"
    },
    {
     "data": {
      "text/markdown": [
       "<h6> #Simulation 160 - Min Error 23.69% , Mean Error 23.96%<h6>"
      ],
      "text/plain": [
       "<IPython.core.display.Markdown object>"
      ]
     },
     "metadata": {},
     "output_type": "display_data"
    },
    {
     "data": {
      "text/markdown": [
       "<h6> #Simulation 175 - Min Error 25.37% , Mean Error 25.55%<h6>"
      ],
      "text/plain": [
       "<IPython.core.display.Markdown object>"
      ]
     },
     "metadata": {},
     "output_type": "display_data"
    },
    {
     "data": {
      "text/markdown": [
       "<h6> #Simulation 182 - Min Error 29.76% , Mean Error 30.03%<h6>"
      ],
      "text/plain": [
       "<IPython.core.display.Markdown object>"
      ]
     },
     "metadata": {},
     "output_type": "display_data"
    }
   ],
   "source": [
    "import numpy as np\n",
    "import pandas as pd\n",
    "from bokeh.io import output_notebook\n",
    "from bokeh.plotting import figure, show, output_file\n",
    "from Outputs.jupyter_graphs import create_graphs, compare_graphs\n",
    "from IPython.display import Markdown, display\n",
    "from IPython.core.interactiveshell import InteractiveShell\n",
    "sim_num = [160, 175, 182]\n",
    "plots, scores = compare_graphs(sim_nums=sim_num, linear=True)\n",
    "output_notebook()\n",
    "for sim in zip(sim_num,scores):\n",
    "    display(Markdown('<h6> #Simulation {:1d} - Min Error {:.2f}% , Mean Error {:.2f}%<h6>'.format(sim[0],sim[1][0],sim[1][1])))"
   ]
  },
  {
   "cell_type": "code",
   "execution_count": 7,
   "metadata": {},
   "outputs": [
    {
     "data": {
      "text/html": [
       "\n",
       "<div class=\"bk-root\">\n",
       "    <div class=\"bk-plotdiv\" id=\"565b8b65-163e-46ed-9f49-19c87b385c12\"></div>\n",
       "</div>"
      ]
     },
     "metadata": {},
     "output_type": "display_data"
    },
    {
     "data": {
      "application/javascript": [
       "(function(root) {\n",
       "  function embed_document(root) {\n",
       "    \n",
       "  var docs_json = {\"de673911-e702-4eaf-836d-c6b52eb822e6\":{\"roots\":{\"references\":[{\"attributes\":{\"dimension\":1,\"plot\":{\"id\":\"5502f1df-d61a-4bbb-b596-d2d12116b028\",\"subtype\":\"Figure\",\"type\":\"Plot\"},\"ticker\":{\"id\":\"f77d23a9-94a4-4961-be1e-921decf623de\",\"type\":\"BasicTicker\"}},\"id\":\"50771829-4f31-4df4-a7ec-85fc49de2332\",\"type\":\"Grid\"},{\"attributes\":{\"callback\":null,\"data\":{}},\"id\":\"d15dfc30-455b-491f-9001-7d9642f2e3a1\",\"type\":\"ColumnDataSource\"},{\"attributes\":{\"bottom_units\":\"screen\",\"fill_alpha\":{\"value\":0.5},\"fill_color\":{\"value\":\"lightgrey\"},\"left_units\":\"screen\",\"level\":\"overlay\",\"line_alpha\":{\"value\":1.0},\"line_color\":{\"value\":\"black\"},\"line_dash\":[4,4],\"line_width\":{\"value\":2},\"plot\":null,\"render_mode\":\"css\",\"right_units\":\"screen\",\"top_units\":\"screen\"},\"id\":\"980ddd26-b507-4747-afc7-4b0dd725b351\",\"type\":\"BoxAnnotation\"},{\"attributes\":{\"line_color\":\"#1f77b4\",\"line_width\":3,\"x\":{\"field\":\"x\"},\"y\":{\"field\":\"y\"}},\"id\":\"cdb6d693-2199-40b4-97f0-d3ae61e72450\",\"type\":\"Line\"},{\"attributes\":{},\"id\":\"12ec7041-132a-43c4-b361-aa2b52123bbe\",\"type\":\"PanTool\"},{\"attributes\":{},\"id\":\"e6e1d595-ccab-4f32-8861-b8b65a687872\",\"type\":\"BasicTicker\"},{\"attributes\":{},\"id\":\"afd05ec1-1aab-4456-a0da-b584b5b2080c\",\"type\":\"LinearScale\"},{\"attributes\":{},\"id\":\"f242bc1b-b944-4a3e-82f8-6dbb0a4c3af1\",\"type\":\"WheelZoomTool\"},{\"attributes\":{\"overlay\":{\"id\":\"980ddd26-b507-4747-afc7-4b0dd725b351\",\"type\":\"BoxAnnotation\"}},\"id\":\"12c4dd6d-90e0-42bb-8649-4c5ebc04d592\",\"type\":\"BoxZoomTool\"},{\"attributes\":{},\"id\":\"cd115635-87c7-4dfc-8f7a-0ba7d34c313c\",\"type\":\"SaveTool\"},{\"attributes\":{\"callback\":null,\"column_names\":[\"x\",\"y\"],\"data\":{\"x\":{\"__ndarray__\":\"AQAAAAIAAAADAAAABAAAAAUAAAAGAAAABwAAAAgAAAAJAAAACgAAAAsAAAAMAAAADQAAAA4AAAAPAAAAEAAAABEAAAASAAAAEwAAABQAAAAVAAAAFgAAABcAAAAYAAAAGQAAABoAAAAbAAAAHAAAAB0AAAAeAAAAHwAAACAAAAAhAAAAIgAAACMAAAAkAAAAJQAAACYAAAAnAAAAKAAAACkAAAAqAAAAKwAAACwAAAAtAAAALgAAAC8AAAAwAAAAMQAAADIAAAAzAAAANAAAADUAAAA2AAAANwAAADgAAAA5AAAAOgAAADsAAAA8AAAAPQAAAD4AAAA/AAAAQAAAAEEAAABCAAAAQwAAAEQAAABFAAAARgAAAEcAAABIAAAASQAAAEoAAABLAAAATAAAAE0AAABOAAAATwAAAFAAAABRAAAAUgAAAFMAAABUAAAAVQAAAFYAAABXAAAAWAAAAFkAAABaAAAA\",\"dtype\":\"int32\",\"shape\":[90]},\"y\":[0.8261400000976562,0.68814,0.6124400003173828,0.5609200004272461,0.5159600000366211,0.5452000001220703,0.5127199999755859,0.509319999975586,0.5508800001953125,0.5192000002807617,0.5101000001342774,0.480059999987793,0.4773999999755859,0.4805399998535156,0.4806200003173828,0.4905600000854492,0.48415999990234376,0.48438000029296874,0.5346600001342773,0.4646199999267578,0.4706400001098633,0.4987400000366211,0.4759399998779297,0.4661999998291016,0.49156000017089846,0.4666200000366211,0.4436399999267578,0.4644800002197265,0.4736200004028321,0.4592200004638672,0.3173599996582031,0.30384000009765627,0.3004399997314453,0.29538000026855465,0.3024000002197266,0.29652000048828125,0.29502000041503906,0.29451999958496095,0.2926,0.29954000007324216,0.3016400002685547,0.3004399997802734,0.3020800000732422,0.3040600000244141,0.2944600005859375,0.30512,0.29822000007324223,0.3031600001953125,0.298980000390625,0.30083999958496094,0.30032000021972655,0.3018799997802734,0.3015999998535156,0.29569999978027345,0.29918000029296876,0.30432,0.2995599997314453,0.3055800002197266,0.30204000026855465,0.30614000004882813,0.25633999997558593,0.2518599997558594,0.2484199996826172,0.2482200002685547,0.24822000034179686,0.2462400005126953,0.24552000061035156,0.2440800005371094,0.24448000078124998,0.24286000004882813,0.2447000004394531,0.24353999958496092,0.24411999982910157,0.24332000009765625,0.2422800005859375,0.24247999982910154,0.24166000056152345,0.2425000008300781,0.24377999975585937,0.24269999970703127,0.2396800007080078,0.2383400003173828,0.23920000085449217,0.23884000075683595,0.23812000026855468,0.23848000002441405,0.23905999978027342,0.23754000024414063,0.23687999958496092,0.23818000065917969]}},\"id\":\"e1ec0dd4-a00c-4446-9409-37a660a4e1ab\",\"type\":\"ColumnDataSource\"},{\"attributes\":{},\"id\":\"a2676dc1-1291-414e-8d7b-0add9073a5d2\",\"type\":\"ResetTool\"},{\"attributes\":{\"source\":{\"id\":\"e1ec0dd4-a00c-4446-9409-37a660a4e1ab\",\"type\":\"ColumnDataSource\"}},\"id\":\"42d6567b-40f3-499b-9a78-0711296c4985\",\"type\":\"CDSView\"},{\"attributes\":{\"data_source\":{\"id\":\"e1ec0dd4-a00c-4446-9409-37a660a4e1ab\",\"type\":\"ColumnDataSource\"},\"glyph\":{\"id\":\"cdb6d693-2199-40b4-97f0-d3ae61e72450\",\"type\":\"Line\"},\"hover_glyph\":null,\"muted_glyph\":null,\"nonselection_glyph\":{\"id\":\"826e2981-edeb-4c94-baaf-9500f6090f49\",\"type\":\"Line\"},\"selection_glyph\":null,\"view\":{\"id\":\"42d6567b-40f3-499b-9a78-0711296c4985\",\"type\":\"CDSView\"}},\"id\":\"8232be95-0bde-44b4-8068-ca3ebf173d52\",\"type\":\"GlyphRenderer\"},{\"attributes\":{},\"id\":\"559afed2-ee3d-4e32-a857-b1ca0a618af1\",\"type\":\"HelpTool\"},{\"attributes\":{\"label\":{\"value\":\"validation - 256_1\"},\"renderers\":[{\"id\":\"8232be95-0bde-44b4-8068-ca3ebf173d52\",\"type\":\"GlyphRenderer\"}]},\"id\":\"b55f48ee-fd9e-43ac-a0c3-dc4f08231f08\",\"type\":\"LegendItem\"},{\"attributes\":{\"line_alpha\":0.1,\"line_color\":\"#1f77b4\",\"line_width\":3,\"x\":{\"field\":\"x\"},\"y\":{\"field\":\"y\"}},\"id\":\"826e2981-edeb-4c94-baaf-9500f6090f49\",\"type\":\"Line\"},{\"attributes\":{\"fill_alpha\":{\"value\":0.1},\"fill_color\":{\"value\":\"#1f77b4\"},\"line_alpha\":{\"value\":0.1},\"line_color\":{\"value\":\"#1f77b4\"},\"size\":{\"units\":\"screen\",\"value\":5},\"x\":{\"value\":89},\"y\":{\"value\":0.23687999958496092}},\"id\":\"27330b65-4385-418f-8975-3ce9c2090371\",\"type\":\"Circle\"},{\"attributes\":{\"label\":{\"value\":\"train - 256_32\"},\"renderers\":[{\"id\":\"02adb547-16bd-4b36-a296-780a0f04ab77\",\"type\":\"GlyphRenderer\"}]},\"id\":\"54d4f0b2-10ad-415a-80f3-e923a7bcec66\",\"type\":\"LegendItem\"},{\"attributes\":{\"source\":{\"id\":\"d15dfc30-455b-491f-9001-7d9642f2e3a1\",\"type\":\"ColumnDataSource\"}},\"id\":\"0e96101b-d2a2-4710-b501-2ca578bac217\",\"type\":\"CDSView\"},{\"attributes\":{\"callback\":null,\"data\":{}},\"id\":\"fc806e84-3a23-4e9a-a6fd-81b1431f2c91\",\"type\":\"ColumnDataSource\"},{\"attributes\":{\"data_source\":{\"id\":\"c8cd1cbc-99c0-48ab-b97d-cbc0bd2b4ddb\",\"type\":\"ColumnDataSource\"},\"glyph\":{\"id\":\"cd7e0229-a550-4247-8920-b55f8003688b\",\"type\":\"Line\"},\"hover_glyph\":null,\"muted_glyph\":null,\"nonselection_glyph\":{\"id\":\"5d6e0c83-05de-4e9f-af32-c1fcf1b73699\",\"type\":\"Line\"},\"selection_glyph\":null,\"view\":{\"id\":\"7e2d1b14-e0c9-4d99-b4c4-d3fd48f37a11\",\"type\":\"CDSView\"}},\"id\":\"02adb547-16bd-4b36-a296-780a0f04ab77\",\"type\":\"GlyphRenderer\"},{\"attributes\":{\"line_color\":\"#2ca02c\",\"line_width\":3,\"x\":{\"field\":\"x\"},\"y\":{\"field\":\"y\"}},\"id\":\"343385c1-fac4-4333-92ab-15b95a15e919\",\"type\":\"Line\"},{\"attributes\":{\"data_source\":{\"id\":\"d15dfc30-455b-491f-9001-7d9642f2e3a1\",\"type\":\"ColumnDataSource\"},\"glyph\":{\"id\":\"4e4deea5-b5aa-48f4-8e46-508500270d7b\",\"type\":\"Circle\"},\"hover_glyph\":null,\"muted_glyph\":null,\"nonselection_glyph\":{\"id\":\"27330b65-4385-418f-8975-3ce9c2090371\",\"type\":\"Circle\"},\"selection_glyph\":null,\"view\":{\"id\":\"0e96101b-d2a2-4710-b501-2ca578bac217\",\"type\":\"CDSView\"}},\"id\":\"971bde62-9bf0-40d5-91aa-c592229b992a\",\"type\":\"GlyphRenderer\"},{\"attributes\":{\"callback\":null,\"column_names\":[\"x\",\"y\"],\"data\":{\"x\":{\"__ndarray__\":\"AQAAAAIAAAADAAAABAAAAAUAAAAGAAAABwAAAAgAAAAJAAAACgAAAAsAAAAMAAAADQAAAA4AAAAPAAAAEAAAABEAAAASAAAAEwAAABQAAAAVAAAAFgAAABcAAAAYAAAAGQAAABoAAAAbAAAAHAAAAB0AAAAeAAAAHwAAACAAAAAhAAAAIgAAACMAAAAkAAAAJQAAACYAAAAnAAAAKAAAACkAAAAqAAAAKwAAACwAAAAtAAAALgAAAC8AAAAwAAAAMQAAADIAAAAzAAAANAAAADUAAAA2AAAANwAAADgAAAA5AAAAOgAAADsAAAA8AAAAPQAAAD4AAAA/AAAAQAAAAEEAAABCAAAAQwAAAEQAAABFAAAARgAAAEcAAABIAAAASQAAAEoAAABLAAAATAAAAE0AAABOAAAATwAAAFAAAABRAAAAUgAAAFMAAABUAAAAVQAAAFYAAABXAAAAWAAAAFkAAABaAAAA\",\"dtype\":\"int32\",\"shape\":[90]},\"y\":[0.9942399999984741,0.9841999999938964,0.9701399999992372,0.9619400000091552,0.933619999975586,0.9029000000701904,0.8789600001098633,0.8528200000427246,0.8325200000946045,0.8185000000305176,0.8025400000732422,0.7905400001220703,0.7652000000915526,0.7619,0.7511600000488281,0.7361600001525879,0.7497400000793456,0.722480000201416,0.7161000001281738,0.727679999987793,0.6985600001708984,0.6962800002197266,0.7038800002441407,0.7001000001464844,0.7268800000366211,0.7021800000427245,0.6982199999633789,0.69056,0.6792000001586913,0.6557999997924804,0.47800000009765625,0.4532399999633789,0.4428200000854492,0.43063999997558594,0.42680000040283206,0.41803999998779295,0.42176000021972654,0.4158000002807617,0.4111400000732422,0.4119800003173828,0.40914000036621095,0.4090799998535157,0.40812000036621093,0.41926000009765624,0.4067999999145508,0.40638000019531245,0.40761999998779297,0.40711999986572267,0.41267999992675786,0.40646000014648437,0.40178000006103515,0.38894000030517584,0.4017200003417969,0.39241999997558596,0.39208000048828123,0.3905600001464844,0.38766000003662104,0.3855600003540039,0.3841000001464844,0.39280000001220705,0.32562000073242187,0.3224400002685547,0.31964000029296874,0.3172800001953125,0.3139400000244141,0.3120800006347656,0.3130000002441406,0.31170000083007815,0.3102800005859375,0.30882000048828123,0.3070400005126953,0.30663999975585937,0.3080200005126953,0.30522000026855467,0.30560000053710934,0.3052599998535156,0.3037200007324219,0.30278000068359373,0.3035200000732422,0.30349999958496093,0.3012200004638672,0.3003000002197266,0.2980399998046875,0.30032000002441406,0.29835999980468747,0.2994600002685547,0.2987000005615234,0.2976400004638672,0.2980399995605469,0.29806000043945313]}},\"id\":\"c984b927-bf06-4d5f-b2e4-53f3886df5fe\",\"type\":\"ColumnDataSource\"},{\"attributes\":{\"source\":{\"id\":\"c984b927-bf06-4d5f-b2e4-53f3886df5fe\",\"type\":\"ColumnDataSource\"}},\"id\":\"d6d80b16-b9ba-43cb-a1b1-fbbc6a72464f\",\"type\":\"CDSView\"},{\"attributes\":{\"data_source\":{\"id\":\"c984b927-bf06-4d5f-b2e4-53f3886df5fe\",\"type\":\"ColumnDataSource\"},\"glyph\":{\"id\":\"343385c1-fac4-4333-92ab-15b95a15e919\",\"type\":\"Line\"},\"hover_glyph\":null,\"muted_glyph\":null,\"nonselection_glyph\":{\"id\":\"17ecaba5-f8fa-4f9c-bf35-6478d1f10a6d\",\"type\":\"Line\"},\"selection_glyph\":null,\"view\":{\"id\":\"d6d80b16-b9ba-43cb-a1b1-fbbc6a72464f\",\"type\":\"CDSView\"}},\"id\":\"bf0b03ce-68e0-4382-87d1-586573531480\",\"type\":\"GlyphRenderer\"},{\"attributes\":{\"label\":{\"value\":\"validation - 256_32\"},\"renderers\":[{\"id\":\"bf0b03ce-68e0-4382-87d1-586573531480\",\"type\":\"GlyphRenderer\"}]},\"id\":\"06747631-ffcc-4a49-b105-d89e46c0a6ee\",\"type\":\"LegendItem\"},{\"attributes\":{\"line_alpha\":0.1,\"line_color\":\"#1f77b4\",\"line_dash\":[6],\"line_width\":3,\"x\":{\"field\":\"x\"},\"y\":{\"field\":\"y\"}},\"id\":\"5d6e0c83-05de-4e9f-af32-c1fcf1b73699\",\"type\":\"Line\"},{\"attributes\":{\"callback\":null,\"column_names\":[\"x\",\"y\"],\"data\":{\"x\":{\"__ndarray__\":\"AQAAAAIAAAADAAAABAAAAAUAAAAGAAAABwAAAAgAAAAJAAAACgAAAAsAAAAMAAAADQAAAA4AAAAPAAAAEAAAABEAAAASAAAAEwAAABQAAAAVAAAAFgAAABcAAAAYAAAAGQAAABoAAAAbAAAAHAAAAB0AAAAeAAAAHwAAACAAAAAhAAAAIgAAACMAAAAkAAAAJQAAACYAAAAnAAAAKAAAACkAAAAqAAAAKwAAACwAAAAtAAAALgAAAC8AAAAwAAAAMQAAADIAAAAzAAAANAAAADUAAAA2AAAANwAAADgAAAA5AAAAOgAAADsAAAA8AAAAPQAAAD4AAAA/AAAAQAAAAEEAAABCAAAAQwAAAEQAAABFAAAARgAAAEcAAABIAAAASQAAAEoAAABLAAAATAAAAE0AAABOAAAATwAAAFAAAABRAAAAUgAAAFMAAABUAAAAVQAAAFYAAABXAAAAWAAAAFkAAABaAAAA\",\"dtype\":\"int32\",\"shape\":[90]},\"y\":[0.9810165263388881,0.9979682586267051,0.9914086141775111,0.9644043282412551,0.9031882650739,0.8277781116751634,0.7482287633067272,0.6966468852228516,0.6571586686188732,0.6325295609376949,0.6085623497950882,0.5918143380215963,0.5796473059305312,0.5676192096714174,0.5562069581865362,0.5501726160586531,0.544170276007572,0.5396134930122175,0.53452516338408,0.5316707345709157,0.5277571151922756,0.5254389162393366,0.5227913300932682,0.5191337272983164,0.5188550750988441,0.5162145137961869,0.5148321803455126,0.5126053043835977,0.5131501201646858,0.5114087390624312,0.4119595649885104,0.3832427778742656,0.37138405844183836,0.3641562731453994,0.3588150490920202,0.35523706121226684,0.35280100095996225,0.3504500193977481,0.34899041264668335,0.3479507355399445,0.34720922408748467,0.34728103361989093,0.34559429020489274,0.34448202302752806,0.34432747643160033,0.34403477454265563,0.34356410990893055,0.342586095334765,0.34279606015444164,0.3432557972533595,0.3437373894239463,0.3409602339134057,0.3402569688408552,0.33999002472131756,0.3387637989424445,0.338015262648628,0.33754537854916244,0.336258270781355,0.33587502644064793,0.3346230428972211,0.29691445377230996,0.28355241744446763,0.2778349738956684,0.27442167960625663,0.2715695924114435,0.269509751653368,0.26751703720231107,0.26550871197816667,0.2638352377129325,0.26193774894373006,0.26121418987669426,0.25943690400844505,0.2587859350077773,0.2571319742067587,0.2555420175541633,0.25471386634074167,0.25443599468565237,0.25294282478664626,0.2517048909316497,0.2508681538008787,0.24481663982582094,0.24260069139886212,0.24146891076287955,0.24132451116910741,0.24096858566835128,0.2400623806252818,0.2407711094636132,0.23970957728681327,0.2390656331318792,0.23937160416883121]}},\"id\":\"5c36fe97-379e-4d2a-bf50-ca81a187cb18\",\"type\":\"ColumnDataSource\"},{\"attributes\":{\"line_alpha\":0.1,\"line_color\":\"#1f77b4\",\"line_width\":3,\"x\":{\"field\":\"x\"},\"y\":{\"field\":\"y\"}},\"id\":\"17ecaba5-f8fa-4f9c-bf35-6478d1f10a6d\",\"type\":\"Line\"},{\"attributes\":{\"fill_alpha\":{\"value\":0.1},\"fill_color\":{\"value\":\"#1f77b4\"},\"line_alpha\":{\"value\":0.1},\"line_color\":{\"value\":\"#1f77b4\"},\"size\":{\"units\":\"screen\",\"value\":5},\"x\":{\"value\":88},\"y\":{\"value\":0.2976400004638672}},\"id\":\"64380074-e98d-4467-9424-b9ca5326aedf\",\"type\":\"Circle\"},{\"attributes\":{\"line_color\":\"#ff7f0e\",\"line_dash\":[6],\"line_width\":3,\"x\":{\"field\":\"x\"},\"y\":{\"field\":\"y\"}},\"id\":\"730c941b-fe60-40d7-979c-1ad4f53d42d8\",\"type\":\"Line\"},{\"attributes\":{\"fill_alpha\":{\"value\":0.5},\"fill_color\":{\"value\":\"red\"},\"line_alpha\":{\"value\":0.5},\"line_color\":{\"value\":\"red\"},\"size\":{\"units\":\"screen\",\"value\":5},\"x\":{\"value\":88},\"y\":{\"value\":0.2976400004638672}},\"id\":\"f9a3b9af-e4af-40a9-8f4c-393e805465ad\",\"type\":\"Circle\"},{\"attributes\":{\"source\":{\"id\":\"fc806e84-3a23-4e9a-a6fd-81b1431f2c91\",\"type\":\"ColumnDataSource\"}},\"id\":\"b74695f6-260e-4993-988b-eea9f01baeeb\",\"type\":\"CDSView\"},{\"attributes\":{\"data_source\":{\"id\":\"fc806e84-3a23-4e9a-a6fd-81b1431f2c91\",\"type\":\"ColumnDataSource\"},\"glyph\":{\"id\":\"f9a3b9af-e4af-40a9-8f4c-393e805465ad\",\"type\":\"Circle\"},\"hover_glyph\":null,\"muted_glyph\":null,\"nonselection_glyph\":{\"id\":\"64380074-e98d-4467-9424-b9ca5326aedf\",\"type\":\"Circle\"},\"selection_glyph\":null,\"view\":{\"id\":\"b74695f6-260e-4993-988b-eea9f01baeeb\",\"type\":\"CDSView\"}},\"id\":\"a445d2e4-4b99-4269-bf0d-5402ac1a611e\",\"type\":\"GlyphRenderer\"},{\"attributes\":{\"callback\":null},\"id\":\"5f061120-c147-48e4-bb9e-5b5a75d92900\",\"type\":\"DataRange1d\"},{\"attributes\":{\"source\":{\"id\":\"5c36fe97-379e-4d2a-bf50-ca81a187cb18\",\"type\":\"ColumnDataSource\"}},\"id\":\"ffeca337-9fb9-46cc-8162-351e08b2628a\",\"type\":\"CDSView\"},{\"attributes\":{\"data_source\":{\"id\":\"5c36fe97-379e-4d2a-bf50-ca81a187cb18\",\"type\":\"ColumnDataSource\"},\"glyph\":{\"id\":\"730c941b-fe60-40d7-979c-1ad4f53d42d8\",\"type\":\"Line\"},\"hover_glyph\":null,\"muted_glyph\":null,\"nonselection_glyph\":{\"id\":\"d875eb42-3721-435b-88dc-3454954ab39a\",\"type\":\"Line\"},\"selection_glyph\":null,\"view\":{\"id\":\"ffeca337-9fb9-46cc-8162-351e08b2628a\",\"type\":\"CDSView\"}},\"id\":\"64b6fbdc-5d8a-4e4f-8117-473a21bdac2b\",\"type\":\"GlyphRenderer\"},{\"attributes\":{\"label\":{\"value\":\"train - 8192_1\"},\"renderers\":[{\"id\":\"64b6fbdc-5d8a-4e4f-8117-473a21bdac2b\",\"type\":\"GlyphRenderer\"}]},\"id\":\"8e8b46be-b330-417f-b6d2-d039cd10535d\",\"type\":\"LegendItem\"},{\"attributes\":{\"line_alpha\":0.1,\"line_color\":\"#1f77b4\",\"line_dash\":[6],\"line_width\":3,\"x\":{\"field\":\"x\"},\"y\":{\"field\":\"y\"}},\"id\":\"d875eb42-3721-435b-88dc-3454954ab39a\",\"type\":\"Line\"},{\"attributes\":{\"callback\":null,\"column_names\":[\"x\",\"y\"],\"data\":{\"x\":{\"__ndarray__\":\"AQAAAAIAAAADAAAABAAAAAUAAAAGAAAABwAAAAgAAAAJAAAACgAAAAsAAAAMAAAADQAAAA4AAAAPAAAAEAAAABEAAAASAAAAEwAAABQAAAAVAAAAFgAAABcAAAAYAAAAGQAAABoAAAAbAAAAHAAAAB0AAAAeAAAAHwAAACAAAAAhAAAAIgAAACMAAAAkAAAAJQAAACYAAAAnAAAAKAAAACkAAAAqAAAAKwAAACwAAAAtAAAALgAAAC8AAAAwAAAAMQAAADIAAAAzAAAANAAAADUAAAA2AAAANwAAADgAAAA5AAAAOgAAADsAAAA8AAAAPQAAAD4AAAA/AAAAQAAAAEEAAABCAAAAQwAAAEQAAABFAAAARgAAAEcAAABIAAAASQAAAEoAAABLAAAATAAAAE0AAABOAAAATwAAAFAAAABRAAAAUgAAAFMAAABUAAAAVQAAAFYAAABXAAAAWAAAAFkAAABaAAAA\",\"dtype\":\"int32\",\"shape\":[90]},\"y\":[0.9977645381125178,0.9926379621079765,0.9814294311357683,0.9663868956973751,0.9506980744898353,0.9309090852324705,0.9104870793580533,0.8903530921417961,0.8729525502924552,0.8609798722568152,0.8412111769972667,0.8278912897376108,0.8177224358731126,0.8088188347030183,0.8003086248706431,0.7908828435324683,0.7830618490796057,0.7814828199599119,0.7718993698710476,0.7681925931587292,0.7668204067072181,0.7573423292975849,0.7670038332230793,0.7546916209977447,0.7489343699921055,0.745800508442738,0.7435869016283836,0.7408893610275479,0.7377679880914069,0.7538790805569192,0.5570265234730506,0.5155182735730621,0.49547638988405773,0.48323910934173014,0.47464538190666844,0.46755809352037686,0.46403552386127594,0.460997668532846,0.45932497480833256,0.4567968110307444,0.4565720159804576,0.45458164314304733,0.45396579837057144,0.45295344010467686,0.45115586024384796,0.4510419016423397,0.4490117213459308,0.4475380649056914,0.4465163401814289,0.44432146628940816,0.44200326733250894,0.44159972899508354,0.4393884637999735,0.43746365618036903,0.43610864157304013,0.43479187334722835,0.4322145356537325,0.4317914838560813,0.42999312345527607,0.42789815847558893,0.3553354090436055,0.3425353603378922,0.33847578028195424,0.3344091753821882,0.33067195767906504,0.32924201138469444,0.3269238124270509,0.3239296672478544,0.322985215824429,0.3211720251934305,0.3198919422699275,0.31797415949403196,0.3162437059309914,0.315780066144191,0.3137865711509544,0.31312857730818555,0.3115995026401179,0.3107065667506236,0.30945536374336197,0.30849998477646473,0.30386436740764505,0.30142206285500234,0.30092095722270107,0.30046200065759615,0.30068913732534075,0.29972673351634244,0.299352855637219,0.29973375836356486,0.2995323794650785,0.2995909198380141]}},\"id\":\"c8cd1cbc-99c0-48ab-b97d-cbc0bd2b4ddb\",\"type\":\"ColumnDataSource\"},{\"attributes\":{\"axis_label\":\"Error Rate\",\"formatter\":{\"id\":\"d8170115-c374-4bef-8087-b5a5075574a8\",\"type\":\"NumeralTickFormatter\"},\"plot\":{\"id\":\"5502f1df-d61a-4bbb-b596-d2d12116b028\",\"subtype\":\"Figure\",\"type\":\"Plot\"},\"ticker\":{\"id\":\"f77d23a9-94a4-4961-be1e-921decf623de\",\"type\":\"BasicTicker\"}},\"id\":\"3779dd30-d016-43c7-ae2c-2d4371ba61a0\",\"type\":\"LinearAxis\"},{\"attributes\":{\"callback\":null},\"id\":\"dd5c7ab6-4a37-4d49-9805-ced691c4e2e0\",\"type\":\"DataRange1d\"},{\"attributes\":{\"axis_label\":\"t [Epochs]\",\"formatter\":{\"id\":\"11a42d7d-561d-43d5-9f99-9a44d2d6ea7a\",\"type\":\"BasicTickFormatter\"},\"plot\":{\"id\":\"5502f1df-d61a-4bbb-b596-d2d12116b028\",\"subtype\":\"Figure\",\"type\":\"Plot\"},\"ticker\":{\"id\":\"e6e1d595-ccab-4f32-8861-b8b65a687872\",\"type\":\"BasicTicker\"}},\"id\":\"657659fe-cf68-4ce6-9ef0-d8be8d08d5e6\",\"type\":\"LinearAxis\"},{\"attributes\":{\"fill_alpha\":{\"value\":0.5},\"fill_color\":{\"value\":\"red\"},\"line_alpha\":{\"value\":0.5},\"line_color\":{\"value\":\"red\"},\"size\":{\"units\":\"screen\",\"value\":5},\"x\":{\"value\":89},\"y\":{\"value\":0.23687999958496092}},\"id\":\"4e4deea5-b5aa-48f4-8e46-508500270d7b\",\"type\":\"Circle\"},{\"attributes\":{},\"id\":\"f77d23a9-94a4-4961-be1e-921decf623de\",\"type\":\"BasicTicker\"},{\"attributes\":{\"plot\":null,\"text\":\"Training & Test Error\"},\"id\":\"7202a425-22b2-4366-829c-c6df7b0d4d12\",\"type\":\"Title\"},{\"attributes\":{\"line_color\":\"#2ca02c\",\"line_dash\":[6],\"line_width\":3,\"x\":{\"field\":\"x\"},\"y\":{\"field\":\"y\"}},\"id\":\"cd7e0229-a550-4247-8920-b55f8003688b\",\"type\":\"Line\"},{\"attributes\":{\"source\":{\"id\":\"c8cd1cbc-99c0-48ab-b97d-cbc0bd2b4ddb\",\"type\":\"ColumnDataSource\"}},\"id\":\"7e2d1b14-e0c9-4d99-b4c4-d3fd48f37a11\",\"type\":\"CDSView\"},{\"attributes\":{\"click_policy\":\"hide\",\"items\":[{\"id\":\"2dfca941-578f-45d0-9174-7bc8dc9ddedc\",\"type\":\"LegendItem\"},{\"id\":\"b55f48ee-fd9e-43ac-a0c3-dc4f08231f08\",\"type\":\"LegendItem\"},{\"id\":\"8e8b46be-b330-417f-b6d2-d039cd10535d\",\"type\":\"LegendItem\"},{\"id\":\"8c8c4765-3184-4e20-a7ac-066cca7611ad\",\"type\":\"LegendItem\"},{\"id\":\"54d4f0b2-10ad-415a-80f3-e923a7bcec66\",\"type\":\"LegendItem\"},{\"id\":\"06747631-ffcc-4a49-b105-d89e46c0a6ee\",\"type\":\"LegendItem\"}],\"plot\":{\"id\":\"5502f1df-d61a-4bbb-b596-d2d12116b028\",\"subtype\":\"Figure\",\"type\":\"Plot\"}},\"id\":\"214c224d-9ec2-4b26-97bb-4cb61547fed7\",\"type\":\"Legend\"},{\"attributes\":{\"callback\":null,\"data\":{}},\"id\":\"0fa0f871-9802-4167-ac74-0c2124caf566\",\"type\":\"ColumnDataSource\"},{\"attributes\":{\"line_color\":\"#ff7f0e\",\"line_width\":3,\"x\":{\"field\":\"x\"},\"y\":{\"field\":\"y\"}},\"id\":\"eb511352-2a7d-4cbd-b208-8d078685d1ba\",\"type\":\"Line\"},{\"attributes\":{\"plot\":{\"id\":\"5502f1df-d61a-4bbb-b596-d2d12116b028\",\"subtype\":\"Figure\",\"type\":\"Plot\"},\"ticker\":{\"id\":\"e6e1d595-ccab-4f32-8861-b8b65a687872\",\"type\":\"BasicTicker\"}},\"id\":\"48fe72e7-80d8-4e7d-b851-792a43921afc\",\"type\":\"Grid\"},{\"attributes\":{},\"id\":\"11a42d7d-561d-43d5-9f99-9a44d2d6ea7a\",\"type\":\"BasicTickFormatter\"},{\"attributes\":{\"callback\":null,\"column_names\":[\"x\",\"y\"],\"data\":{\"x\":{\"__ndarray__\":\"AQAAAAIAAAADAAAABAAAAAUAAAAGAAAABwAAAAgAAAAJAAAACgAAAAsAAAAMAAAADQAAAA4AAAAPAAAAEAAAABEAAAASAAAAEwAAABQAAAAVAAAAFgAAABcAAAAYAAAAGQAAABoAAAAbAAAAHAAAAB0AAAAeAAAAHwAAACAAAAAhAAAAIgAAACMAAAAkAAAAJQAAACYAAAAnAAAAKAAAACkAAAAqAAAAKwAAACwAAAAtAAAALgAAAC8AAAAwAAAAMQAAADIAAAAzAAAANAAAADUAAAA2AAAANwAAADgAAAA5AAAAOgAAADsAAAA8AAAAPQAAAD4AAAA/AAAAQAAAAEEAAABCAAAAQwAAAEQAAABFAAAARgAAAEcAAABIAAAASQAAAEoAAABLAAAATAAAAE0AAABOAAAATwAAAFAAAABRAAAAUgAAAFMAAABUAAAAVQAAAFYAAABXAAAAWAAAAFkAAABaAAAA\",\"dtype\":\"int32\",\"shape\":[90]},\"y\":[0.942479999975586,0.9973599999984741,0.9775000000038148,0.9348399999938966,0.8310799998962402,0.7612199999694824,0.681599999975586,0.6202599999389649,0.6008599999145507,0.5579200004028321,0.5506399998291015,0.5693199999755859,0.5348600002563476,0.5273800004272461,0.5067400002929687,0.48650000004882815,0.4816600000488281,0.4961400003295898,0.48358000041503907,0.4739000004516602,0.4628800002685547,0.45872000010986325,0.468260000390625,0.44741999987792963,0.48358000029296877,0.446100000024414,0.465000000366211,0.4860400003662109,0.4687800003295899,0.43632000040283203,0.3400599998046875,0.32777999975585936,0.321099999584961,0.3166400004882812,0.3126800004638672,0.3096399996826172,0.3106999995605469,0.3088200005615234,0.3087600001953125,0.3076600008056641,0.30710000002441407,0.307940000756836,0.30703999978027346,0.30761999975585935,0.308420000390625,0.3061600005859375,0.30480000083007813,0.30475999970703127,0.3066000005859375,0.3164600005859375,0.3079399996582031,0.30857999975585937,0.3050599998046875,0.30846000053710937,0.3083400007080078,0.3020400005615234,0.30943999970703123,0.3030800004150391,0.30480000078124997,0.3030800005371094,0.27230000041503905,0.2695999996826172,0.26628000063476565,0.26608000024414064,0.2647399996826172,0.2640599999267578,0.26364000026855466,0.2624399999755859,0.2620999999267578,0.26078000075683594,0.2612400001220703,0.2586399999511719,0.2587599997558594,0.2594600004638672,0.2596599996826172,0.25929999973144535,0.25800000078124996,0.25918000083007814,0.2581000006591797,0.2577600006835938,0.25536000017089844,0.2538200005126953,0.2551599998046875,0.2537400004638672,0.25390000043945316,0.2546799999267578,0.2547400004882812,0.25412000068359375,0.25451999997558594,0.25416000058593746]}},\"id\":\"7a13f796-4462-4ef7-a327-f8d2c4963e3f\",\"type\":\"ColumnDataSource\"},{\"attributes\":{\"background_fill_color\":{\"value\":\"#fafafa\"},\"below\":[{\"id\":\"657659fe-cf68-4ce6-9ef0-d8be8d08d5e6\",\"type\":\"LinearAxis\"}],\"left\":[{\"id\":\"3779dd30-d016-43c7-ae2c-2d4371ba61a0\",\"type\":\"LinearAxis\"}],\"min_border\":10,\"min_border_left\":50,\"renderers\":[{\"id\":\"657659fe-cf68-4ce6-9ef0-d8be8d08d5e6\",\"type\":\"LinearAxis\"},{\"id\":\"48fe72e7-80d8-4e7d-b851-792a43921afc\",\"type\":\"Grid\"},{\"id\":\"3779dd30-d016-43c7-ae2c-2d4371ba61a0\",\"type\":\"LinearAxis\"},{\"id\":\"50771829-4f31-4df4-a7ec-85fc49de2332\",\"type\":\"Grid\"},{\"id\":\"980ddd26-b507-4747-afc7-4b0dd725b351\",\"type\":\"BoxAnnotation\"},{\"id\":\"214c224d-9ec2-4b26-97bb-4cb61547fed7\",\"type\":\"Legend\"},{\"id\":\"f7518a75-9cc7-47ad-beeb-b7f22094bfca\",\"type\":\"GlyphRenderer\"},{\"id\":\"8232be95-0bde-44b4-8068-ca3ebf173d52\",\"type\":\"GlyphRenderer\"},{\"id\":\"971bde62-9bf0-40d5-91aa-c592229b992a\",\"type\":\"GlyphRenderer\"},{\"id\":\"64b6fbdc-5d8a-4e4f-8117-473a21bdac2b\",\"type\":\"GlyphRenderer\"},{\"id\":\"c20e70ab-b65d-4d55-bed7-73b2c9fd19f3\",\"type\":\"GlyphRenderer\"},{\"id\":\"06bfac6b-c0ea-42be-bd0b-150b5870849f\",\"type\":\"GlyphRenderer\"},{\"id\":\"02adb547-16bd-4b36-a296-780a0f04ab77\",\"type\":\"GlyphRenderer\"},{\"id\":\"bf0b03ce-68e0-4382-87d1-586573531480\",\"type\":\"GlyphRenderer\"},{\"id\":\"a445d2e4-4b99-4269-bf0d-5402ac1a611e\",\"type\":\"GlyphRenderer\"}],\"title\":{\"id\":\"7202a425-22b2-4366-829c-c6df7b0d4d12\",\"type\":\"Title\"},\"toolbar\":{\"id\":\"88a07b6a-953f-4f08-8d51-119deaccc9f7\",\"type\":\"Toolbar\"},\"x_range\":{\"id\":\"5f061120-c147-48e4-bb9e-5b5a75d92900\",\"type\":\"DataRange1d\"},\"x_scale\":{\"id\":\"e2f81b34-db46-4df7-abce-1b31ce1e24ed\",\"type\":\"LinearScale\"},\"y_range\":{\"id\":\"dd5c7ab6-4a37-4d49-9805-ced691c4e2e0\",\"type\":\"DataRange1d\"},\"y_scale\":{\"id\":\"afd05ec1-1aab-4456-a0da-b584b5b2080c\",\"type\":\"LinearScale\"}},\"id\":\"5502f1df-d61a-4bbb-b596-d2d12116b028\",\"subtype\":\"Figure\",\"type\":\"Plot\"},{\"attributes\":{\"source\":{\"id\":\"7a13f796-4462-4ef7-a327-f8d2c4963e3f\",\"type\":\"ColumnDataSource\"}},\"id\":\"80a6f8ec-9bae-4ef9-aa81-b4102fd98a21\",\"type\":\"CDSView\"},{\"attributes\":{\"data_source\":{\"id\":\"7a13f796-4462-4ef7-a327-f8d2c4963e3f\",\"type\":\"ColumnDataSource\"},\"glyph\":{\"id\":\"eb511352-2a7d-4cbd-b208-8d078685d1ba\",\"type\":\"Line\"},\"hover_glyph\":null,\"muted_glyph\":null,\"nonselection_glyph\":{\"id\":\"16342b43-c950-4f45-b0d9-649ad2b75a17\",\"type\":\"Line\"},\"selection_glyph\":null,\"view\":{\"id\":\"80a6f8ec-9bae-4ef9-aa81-b4102fd98a21\",\"type\":\"CDSView\"}},\"id\":\"c20e70ab-b65d-4d55-bed7-73b2c9fd19f3\",\"type\":\"GlyphRenderer\"},{\"attributes\":{\"data_source\":{\"id\":\"42afe40d-7008-4000-b3c4-15d1234671a7\",\"type\":\"ColumnDataSource\"},\"glyph\":{\"id\":\"2d316658-de4c-46e1-b784-deaa95c9d319\",\"type\":\"Line\"},\"hover_glyph\":null,\"muted_glyph\":null,\"nonselection_glyph\":{\"id\":\"dd2e73e7-05e2-46bb-aea1-22b23f724b14\",\"type\":\"Line\"},\"selection_glyph\":null,\"view\":{\"id\":\"db80a7a1-dd5e-4c92-aad8-566394d18631\",\"type\":\"CDSView\"}},\"id\":\"f7518a75-9cc7-47ad-beeb-b7f22094bfca\",\"type\":\"GlyphRenderer\"},{\"attributes\":{\"label\":{\"value\":\"validation - 8192_1\"},\"renderers\":[{\"id\":\"c20e70ab-b65d-4d55-bed7-73b2c9fd19f3\",\"type\":\"GlyphRenderer\"}]},\"id\":\"8c8c4765-3184-4e20-a7ac-066cca7611ad\",\"type\":\"LegendItem\"},{\"attributes\":{\"callback\":null,\"column_names\":[\"x\",\"y\"],\"data\":{\"x\":{\"__ndarray__\":\"AQAAAAIAAAADAAAABAAAAAUAAAAGAAAABwAAAAgAAAAJAAAACgAAAAsAAAAMAAAADQAAAA4AAAAPAAAAEAAAABEAAAASAAAAEwAAABQAAAAVAAAAFgAAABcAAAAYAAAAGQAAABoAAAAbAAAAHAAAAB0AAAAeAAAAHwAAACAAAAAhAAAAIgAAACMAAAAkAAAAJQAAACYAAAAnAAAAKAAAACkAAAAqAAAAKwAAACwAAAAtAAAALgAAAC8AAAAwAAAAMQAAADIAAAAzAAAANAAAADUAAAA2AAAANwAAADgAAAA5AAAAOgAAADsAAAA8AAAAPQAAAD4AAAA/AAAAQAAAAEEAAABCAAAAQwAAAEQAAABFAAAARgAAAEcAAABIAAAASQAAAEoAAABLAAAATAAAAE0AAABOAAAATwAAAFAAAABRAAAAUgAAAFMAAABUAAAAVQAAAFYAAABXAAAAWAAAAFkAAABaAAAA\",\"dtype\":\"int32\",\"shape\":[90]},\"y\":[0.9282318386282714,0.7498858462617854,0.6561369438956232,0.6091165320352885,0.580560535823622,0.5614576397918154,0.5477818270367257,0.538209304484872,0.5303282085777811,0.5247621894741151,0.5199884168095092,0.5149992155579868,0.5124351470191083,0.509310651927811,0.5063937800465039,0.504798359619463,0.5026081689594102,0.5006872640350428,0.4992190713638297,0.49783751845048185,0.49738012296711626,0.49545921804039655,0.4942173814976663,0.49412683904355176,0.49307077063253274,0.49225979126982894,0.49153232950844933,0.4914339816732696,0.4900930167559788,0.489398337608281,0.378541595279988,0.35536975273095756,0.3456169258175803,0.3400071965614652,0.3357891672152558,0.33348033472378125,0.33227128079267837,0.3305517547706085,0.3303878417126208,0.32985239238859054,0.32944573190048976,0.3297150176379319,0.3296697464106512,0.33013416673873813,0.3305111667738368,0.3296962847104769,0.32978604662565725,0.3296197919566729,0.32881739850971065,0.3285223550087569,0.32873231982828477,0.32782767586031475,0.32700889111202003,0.32741555159982305,0.3267934625198034,0.32589037963181594,0.324824944755402,0.32432618073951647,0.32431291159091374,0.3234129508478847,0.27789351426949727,0.2658341964819545,0.2610783761999738,0.256993818917136,0.25488948747145845,0.25200539820603657,0.25027650571371846,0.2487193316745071,0.24746110381722417,0.24531306222981664,0.24477214913881448,0.24304247611324917,0.24161487144220217,0.24061422124933443,0.24042298935124692,0.23887986499445119,0.2373913783319686,0.23699486484105095,0.23547281501770453,0.23522382327873761,0.22838942932575676,0.22639203164037972,0.22580038355482734,0.22515097563691128,0.2247107519964624,0.22431579957596945,0.22438058426246343,0.22413081198893917,0.22437277887657472,0.223518089365233]}},\"id\":\"42afe40d-7008-4000-b3c4-15d1234671a7\",\"type\":\"ColumnDataSource\"},{\"attributes\":{\"line_color\":\"#1f77b4\",\"line_dash\":[6],\"line_width\":3,\"x\":{\"field\":\"x\"},\"y\":{\"field\":\"y\"}},\"id\":\"2d316658-de4c-46e1-b784-deaa95c9d319\",\"type\":\"Line\"},{\"attributes\":{\"line_alpha\":0.1,\"line_color\":\"#1f77b4\",\"line_width\":3,\"x\":{\"field\":\"x\"},\"y\":{\"field\":\"y\"}},\"id\":\"16342b43-c950-4f45-b0d9-649ad2b75a17\",\"type\":\"Line\"},{\"attributes\":{\"line_alpha\":0.1,\"line_color\":\"#1f77b4\",\"line_dash\":[6],\"line_width\":3,\"x\":{\"field\":\"x\"},\"y\":{\"field\":\"y\"}},\"id\":\"dd2e73e7-05e2-46bb-aea1-22b23f724b14\",\"type\":\"Line\"},{\"attributes\":{\"source\":{\"id\":\"42afe40d-7008-4000-b3c4-15d1234671a7\",\"type\":\"ColumnDataSource\"}},\"id\":\"db80a7a1-dd5e-4c92-aad8-566394d18631\",\"type\":\"CDSView\"},{\"attributes\":{\"fill_alpha\":{\"value\":0.5},\"fill_color\":{\"value\":\"red\"},\"line_alpha\":{\"value\":0.5},\"line_color\":{\"value\":\"red\"},\"size\":{\"units\":\"screen\",\"value\":5},\"x\":{\"value\":84},\"y\":{\"value\":0.2537400004638672}},\"id\":\"cfb967a2-23e0-4937-aef5-427e2277dd77\",\"type\":\"Circle\"},{\"attributes\":{\"data_source\":{\"id\":\"0fa0f871-9802-4167-ac74-0c2124caf566\",\"type\":\"ColumnDataSource\"},\"glyph\":{\"id\":\"cfb967a2-23e0-4937-aef5-427e2277dd77\",\"type\":\"Circle\"},\"hover_glyph\":null,\"muted_glyph\":null,\"nonselection_glyph\":{\"id\":\"3658b19d-92ec-4c41-9668-bcf9331fb3f6\",\"type\":\"Circle\"},\"selection_glyph\":null,\"view\":{\"id\":\"22c61ee2-fcd2-4df0-b9de-3dda2b2ee05c\",\"type\":\"CDSView\"}},\"id\":\"06bfac6b-c0ea-42be-bd0b-150b5870849f\",\"type\":\"GlyphRenderer\"},{\"attributes\":{\"label\":{\"value\":\"train - 256_1\"},\"renderers\":[{\"id\":\"f7518a75-9cc7-47ad-beeb-b7f22094bfca\",\"type\":\"GlyphRenderer\"}]},\"id\":\"2dfca941-578f-45d0-9174-7bc8dc9ddedc\",\"type\":\"LegendItem\"},{\"attributes\":{},\"id\":\"e2f81b34-db46-4df7-abce-1b31ce1e24ed\",\"type\":\"LinearScale\"},{\"attributes\":{\"active_drag\":\"auto\",\"active_inspect\":\"auto\",\"active_scroll\":\"auto\",\"active_tap\":\"auto\",\"tools\":[{\"id\":\"12ec7041-132a-43c4-b361-aa2b52123bbe\",\"type\":\"PanTool\"},{\"id\":\"f242bc1b-b944-4a3e-82f8-6dbb0a4c3af1\",\"type\":\"WheelZoomTool\"},{\"id\":\"12c4dd6d-90e0-42bb-8649-4c5ebc04d592\",\"type\":\"BoxZoomTool\"},{\"id\":\"cd115635-87c7-4dfc-8f7a-0ba7d34c313c\",\"type\":\"SaveTool\"},{\"id\":\"a2676dc1-1291-414e-8d7b-0add9073a5d2\",\"type\":\"ResetTool\"},{\"id\":\"559afed2-ee3d-4e32-a857-b1ca0a618af1\",\"type\":\"HelpTool\"}]},\"id\":\"88a07b6a-953f-4f08-8d51-119deaccc9f7\",\"type\":\"Toolbar\"},{\"attributes\":{\"format\":\"0.0%\"},\"id\":\"d8170115-c374-4bef-8087-b5a5075574a8\",\"type\":\"NumeralTickFormatter\"},{\"attributes\":{\"fill_alpha\":{\"value\":0.1},\"fill_color\":{\"value\":\"#1f77b4\"},\"line_alpha\":{\"value\":0.1},\"line_color\":{\"value\":\"#1f77b4\"},\"size\":{\"units\":\"screen\",\"value\":5},\"x\":{\"value\":84},\"y\":{\"value\":0.2537400004638672}},\"id\":\"3658b19d-92ec-4c41-9668-bcf9331fb3f6\",\"type\":\"Circle\"},{\"attributes\":{\"source\":{\"id\":\"0fa0f871-9802-4167-ac74-0c2124caf566\",\"type\":\"ColumnDataSource\"}},\"id\":\"22c61ee2-fcd2-4df0-b9de-3dda2b2ee05c\",\"type\":\"CDSView\"}],\"root_ids\":[\"5502f1df-d61a-4bbb-b596-d2d12116b028\"]},\"title\":\"Bokeh Application\",\"version\":\"0.12.13\"}};\n",
       "  var render_items = [{\"docid\":\"de673911-e702-4eaf-836d-c6b52eb822e6\",\"elementid\":\"565b8b65-163e-46ed-9f49-19c87b385c12\",\"modelid\":\"5502f1df-d61a-4bbb-b596-d2d12116b028\"}];\n",
       "  root.Bokeh.embed.embed_items_notebook(docs_json, render_items);\n",
       "\n",
       "  }\n",
       "  if (root.Bokeh !== undefined) {\n",
       "    embed_document(root);\n",
       "  } else {\n",
       "    var attempts = 0;\n",
       "    var timer = setInterval(function(root) {\n",
       "      if (root.Bokeh !== undefined) {\n",
       "        embed_document(root);\n",
       "        clearInterval(timer);\n",
       "      }\n",
       "      attempts++;\n",
       "      if (attempts > 100) {\n",
       "        console.log(\"Bokeh: ERROR: Unable to run BokehJS code because BokehJS library is missing\")\n",
       "        clearInterval(timer);\n",
       "      }\n",
       "    }, 10, root)\n",
       "  }\n",
       "})(window);"
      ],
      "application/vnd.bokehjs_exec.v0+json": ""
     },
     "metadata": {
      "application/vnd.bokehjs_exec.v0+json": {
       "id": "5502f1df-d61a-4bbb-b596-d2d12116b028"
      }
     },
     "output_type": "display_data"
    }
   ],
   "source": [
    "show(plots[1])"
   ]
  },
  {
   "cell_type": "code",
   "execution_count": 8,
   "metadata": {},
   "outputs": [
    {
     "data": {
      "text/html": [
       "\n",
       "<div class=\"bk-root\">\n",
       "    <div class=\"bk-plotdiv\" id=\"61438496-24d9-4108-81bc-d419bd45523d\"></div>\n",
       "</div>"
      ]
     },
     "metadata": {},
     "output_type": "display_data"
    },
    {
     "data": {
      "application/javascript": [
       "(function(root) {\n",
       "  function embed_document(root) {\n",
       "    \n",
       "  var docs_json = {\"8aa6f925-7336-46ad-a3ad-af65d8f978cf\":{\"roots\":{\"references\":[{\"attributes\":{\"label\":{\"value\":\"validation - 256_32\"},\"renderers\":[{\"id\":\"7aa8daac-8d33-4541-8053-ab77befdfdb8\",\"type\":\"GlyphRenderer\"}]},\"id\":\"80bf0f13-19fe-4113-9632-4a9add7c1d10\",\"type\":\"LegendItem\"},{\"attributes\":{\"data_source\":{\"id\":\"cea54266-3ece-4fc7-ace2-7c0ad710b2aa\",\"type\":\"ColumnDataSource\"},\"glyph\":{\"id\":\"a55c54d4-3f61-4402-ba7a-fbb59ca54382\",\"type\":\"Line\"},\"hover_glyph\":null,\"muted_glyph\":null,\"nonselection_glyph\":{\"id\":\"407ab7c1-c8b6-4ad5-a451-29f64adbbf62\",\"type\":\"Line\"},\"selection_glyph\":null,\"view\":{\"id\":\"a772f318-ecd9-42df-899f-38b18bc13c82\",\"type\":\"CDSView\"}},\"id\":\"7aa8daac-8d33-4541-8053-ab77befdfdb8\",\"type\":\"GlyphRenderer\"},{\"attributes\":{\"source\":{\"id\":\"cea54266-3ece-4fc7-ace2-7c0ad710b2aa\",\"type\":\"ColumnDataSource\"}},\"id\":\"a772f318-ecd9-42df-899f-38b18bc13c82\",\"type\":\"CDSView\"},{\"attributes\":{},\"id\":\"ad01a16d-74ab-47d8-9016-642339929faf\",\"type\":\"LinearScale\"},{\"attributes\":{\"callback\":null,\"column_names\":[\"x\",\"y\"],\"data\":{\"x\":{\"__ndarray__\":\"AQAAAAIAAAADAAAABAAAAAUAAAAGAAAABwAAAAgAAAAJAAAACgAAAAsAAAAMAAAADQAAAA4AAAAPAAAAEAAAABEAAAASAAAAEwAAABQAAAAVAAAAFgAAABcAAAAYAAAAGQAAABoAAAAbAAAAHAAAAB0AAAAeAAAAHwAAACAAAAAhAAAAIgAAACMAAAAkAAAAJQAAACYAAAAnAAAAKAAAACkAAAAqAAAAKwAAACwAAAAtAAAALgAAAC8AAAAwAAAAMQAAADIAAAAzAAAANAAAADUAAAA2AAAANwAAADgAAAA5AAAAOgAAADsAAAA8AAAAPQAAAD4AAAA/AAAAQAAAAEEAAABCAAAAQwAAAEQAAABFAAAARgAAAEcAAABIAAAASQAAAEoAAABLAAAATAAAAE0AAABOAAAATwAAAFAAAABRAAAAUgAAAFMAAABUAAAAVQAAAFYAAABXAAAAWAAAAFkAAABaAAAA\",\"dtype\":\"int32\",\"shape\":[90]},\"y\":[4.493376360321045,3.2346071715545652,2.884599764099121,2.480370271911621,2.2585446325683596,2.389369236907959,2.22948926361084,2.221680208206177,2.4573490605163575,2.245195956115723,2.2005182526397706,2.069060320739746,2.0486523194885256,2.0594588262939455,2.0461267365264892,2.117572138366699,2.0566404222106933,2.10845626701355,2.377163919830322,1.9742742096328736,1.9977358380126953,2.184913236618042,2.0548287017059326,1.9889740564727783,2.125024327850342,1.9992236580657958,1.8888084350967407,1.9973520917510987,2.0492301554107666,1.9570195891952515,1.2797341160202027,1.22335160446167,1.1988677026367187,1.1825112502670287,1.2097173246383668,1.1821542106246947,1.1744022219848633,1.185554750366211,1.1750810637664795,1.1962292418289184,1.211465174407959,1.2040760110092164,1.2186634650421142,1.2277350443649293,1.1806587370300292,1.2197624226760864,1.1929592823028565,1.212087907562256,1.197770472946167,1.2088668728637695,1.2023680183410645,1.212334807548523,1.2078700390625,1.1832300122451782,1.2070693841171265,1.238607806968689,1.208642328529358,1.2297978511810304,1.2213144916915895,1.2488689303588867,1.012933881416321,0.9935497012329102,0.9818431276702881,0.9823567039680481,0.9752802014732361,0.9725577382659912,0.9685514155960083,0.9698715229797363,0.9661200273132324,0.9661300813293457,0.9652270193481445,0.9652358314895629,0.9658371592903138,0.9615533235549927,0.9597862707138062,0.9604525426483155,0.9599528736305237,0.9600521181869507,0.960332522315979,0.9595070024871826,0.9468649972915649,0.9435160349082947,0.943732594871521,0.9415329566383361,0.9391674461746216,0.9390440661048889,0.9410821620559693,0.939781604270935,0.9404178450584412,0.942553798942566]}},\"id\":\"810dc674-3368-4fe3-be31-4d60f5a280d9\",\"type\":\"ColumnDataSource\"},{\"attributes\":{\"callback\":null,\"column_names\":[\"x\",\"y\"],\"data\":{\"x\":{\"__ndarray__\":\"AQAAAAIAAAADAAAABAAAAAUAAAAGAAAABwAAAAgAAAAJAAAACgAAAAsAAAAMAAAADQAAAA4AAAAPAAAAEAAAABEAAAASAAAAEwAAABQAAAAVAAAAFgAAABcAAAAYAAAAGQAAABoAAAAbAAAAHAAAAB0AAAAeAAAAHwAAACAAAAAhAAAAIgAAACMAAAAkAAAAJQAAACYAAAAnAAAAKAAAACkAAAAqAAAAKwAAACwAAAAtAAAALgAAAC8AAAAwAAAAMQAAADIAAAAzAAAANAAAADUAAAA2AAAANwAAADgAAAA5AAAAOgAAADsAAAA8AAAAPQAAAD4AAAA/AAAAQAAAAEEAAABCAAAAQwAAAEQAAABFAAAARgAAAEcAAABIAAAASQAAAEoAAABLAAAATAAAAE0AAABOAAAATwAAAFAAAABRAAAAUgAAAFMAAABUAAAAVQAAAFYAAABXAAAAWAAAAFkAAABaAAAA\",\"dtype\":\"int32\",\"shape\":[90]},\"y\":[6.684368704681397,6.301052031860351,5.983388004455566,5.809685729522705,5.4279826979064945,5.072578134765625,4.8508683895874025,4.582627206115722,4.439033180541992,4.251998538208007,4.178113927612305,4.03459627494812,3.9025635148620608,3.829204631881714,3.7805419815826418,3.703020422973633,3.754750323562622,3.577164966964722,3.532659663772583,3.596162154388428,3.3771857927703857,3.3944456577301025,3.419662246322632,3.4420918588256835,3.62278922958374,3.4423690686798096,3.3913656705474855,3.3934203304290773,3.3037131169128418,3.119012672653198,2.1104107190704346,1.979351838684082,1.916534741859436,1.8479812726211549,1.8149941402816772,1.777331967277527,1.795334570388794,1.7655234382629394,1.74703995098114,1.7493265328216552,1.736659230155945,1.7463661530303956,1.7282752516937256,1.777049214363098,1.7169295260620117,1.7240967129516602,1.7185259914779663,1.7182189167785644,1.7403274382400513,1.7224157206726074,1.6908273823547364,1.6432470650482178,1.6893995923233032,1.648504856185913,1.6452287615585328,1.6304090379714966,1.6171980717468262,1.6175048624038697,1.6074032542419434,1.6524743157196045,1.3371934749603271,1.31681396648407,1.3044888473510743,1.2930212939453125,1.2837028562164308,1.2784678254318238,1.2719999919128417,1.2665671665191651,1.2609908853912353,1.2552720064544678,1.2505442894744874,1.2489328957748413,1.2431212587738036,1.239163977279663,1.2383233854675293,1.2346665226364135,1.234123540725708,1.2323118352508544,1.2302659345245361,1.2267203439331054,1.215208977470398,1.2139290182113647,1.2114440723419189,1.210960729675293,1.20940438747406,1.2090801078796387,1.2085383389282227,1.2090788940429686,1.2054964931488037,1.2088187656021119]}},\"id\":\"cea54266-3ece-4fc7-ace2-7c0ad710b2aa\",\"type\":\"ColumnDataSource\"},{\"attributes\":{\"data_source\":{\"id\":\"810dc674-3368-4fe3-be31-4d60f5a280d9\",\"type\":\"ColumnDataSource\"},\"glyph\":{\"id\":\"eaeba464-3cb3-4593-a356-7c7e6fa03689\",\"type\":\"Line\"},\"hover_glyph\":null,\"muted_glyph\":null,\"nonselection_glyph\":{\"id\":\"55d6e369-838f-4ad7-9cfe-596d15a4f65c\",\"type\":\"Line\"},\"selection_glyph\":null,\"view\":{\"id\":\"18443335-feaf-4d8f-a7b9-6b2bbe7f4128\",\"type\":\"CDSView\"}},\"id\":\"d85e6a62-9346-4a9f-b1cc-657c4fa71882\",\"type\":\"GlyphRenderer\"},{\"attributes\":{\"callback\":null,\"column_names\":[\"x\",\"y\"],\"data\":{\"x\":{\"__ndarray__\":\"AQAAAAIAAAADAAAABAAAAAUAAAAGAAAABwAAAAgAAAAJAAAACgAAAAsAAAAMAAAADQAAAA4AAAAPAAAAEAAAABEAAAASAAAAEwAAABQAAAAVAAAAFgAAABcAAAAYAAAAGQAAABoAAAAbAAAAHAAAAB0AAAAeAAAAHwAAACAAAAAhAAAAIgAAACMAAAAkAAAAJQAAACYAAAAnAAAAKAAAACkAAAAqAAAAKwAAACwAAAAtAAAALgAAAC8AAAAwAAAAMQAAADIAAAAzAAAANAAAADUAAAA2AAAANwAAADgAAAA5AAAAOgAAADsAAAA8AAAAPQAAAD4AAAA/AAAAQAAAAEEAAABCAAAAQwAAAEQAAABFAAAARgAAAEcAAABIAAAASQAAAEoAAABLAAAATAAAAE0AAABOAAAATwAAAFAAAABRAAAAUgAAAFMAAABUAAAAVQAAAFYAAABXAAAAWAAAAFkAAABaAAAA\",\"dtype\":\"int32\",\"shape\":[90]},\"y\":[0.19816847504472723,0.21963926074304926,0.2031054539062635,0.18279992358008235,0.1576933444239103,0.13664211588583047,0.11749258857204556,0.1065104344289532,0.09866359326843493,0.09385281910828387,0.08941048592440821,0.08625358840592558,0.08398445678850575,0.08177053654609949,0.07988958391269138,0.07882683947610211,0.07774886015012908,0.07695794848464037,0.07607113878215428,0.07559152769547309,0.07484472932395923,0.07456513507813657,0.07407254468115543,0.07342701677121932,0.07342760966637761,0.0729359165313682,0.07264450186957608,0.07237135110444763,0.07248713703135659,0.07206037572590565,0.056494927741510895,0.051901259885515354,0.05012304921118632,0.0489822282569716,0.04813804119845229,0.04761484166585818,0.047180513106679506,0.04681506306527746,0.046665741995261245,0.046428765463052066,0.04625950665042531,0.0463032548374842,0.0460793157534318,0.045927559751330116,0.04585272433183566,0.0457736427578034,0.04572792944172564,0.04556821164061,0.04559042554489182,0.04568174654235639,0.045692161488364365,0.045340072515529496,0.04530921882829964,0.045171677705267456,0.044965399366623325,0.04489010413039163,0.04477423346795273,0.044646478088589625,0.04446849264507284,0.04433142351221604,0.039063982322281025,0.03712962886651853,0.036354214997975656,0.03588712425631673,0.035484538307743514,0.03517814446798148,0.03490022080578449,0.034584817012000085,0.034388062104725135,0.03411732123653988,0.03396702685974155,0.03373235469072943,0.03365502697810785,0.03341204816061655,0.03321777120039358,0.03313282414640723,0.03300306483147455,0.032839876497191535,0.032696877363293166,0.032570476623818075,0.03176880307564397,0.03153383695757959,0.0313862214046349,0.031314253098721094,0.03125392447173535,0.031124373201442877,0.031204866396112727,0.031090823667274944,0.03101197561882701,0.03099817679085507]}},\"id\":\"e11458d9-6263-4a95-8d5b-d6fbad600421\",\"type\":\"ColumnDataSource\"},{\"attributes\":{\"line_color\":\"#2ca02c\",\"line_width\":3,\"x\":{\"field\":\"x\"},\"y\":{\"field\":\"y\"}},\"id\":\"a55c54d4-3f61-4402-ba7a-fbb59ca54382\",\"type\":\"Line\"},{\"attributes\":{\"num_minor_ticks\":10},\"id\":\"7b4c6162-5fc3-45dd-be7c-f39d20e4b632\",\"type\":\"LogTicker\"},{\"attributes\":{\"label\":{\"value\":\"validation - 256_1\"},\"renderers\":[{\"id\":\"d85e6a62-9346-4a9f-b1cc-657c4fa71882\",\"type\":\"GlyphRenderer\"}]},\"id\":\"2de2d8a9-40a9-44e7-b442-04818fe3cf83\",\"type\":\"LegendItem\"},{\"attributes\":{\"axis_label\":\"t [Epochs]\",\"formatter\":{\"id\":\"b5a5f765-e7df-461f-8d23-e47a5e29cc44\",\"type\":\"BasicTickFormatter\"},\"plot\":{\"id\":\"37c46768-aaeb-44b2-8fff-4e542ce37a07\",\"subtype\":\"Figure\",\"type\":\"Plot\"},\"ticker\":{\"id\":\"9d96541b-0712-484b-8d19-2af15b85131d\",\"type\":\"BasicTicker\"}},\"id\":\"ccab236f-835f-4583-b092-e6995f416092\",\"type\":\"LinearAxis\"},{\"attributes\":{\"line_color\":\"#1f77b4\",\"line_width\":3,\"x\":{\"field\":\"x\"},\"y\":{\"field\":\"y\"}},\"id\":\"eaeba464-3cb3-4593-a356-7c7e6fa03689\",\"type\":\"Line\"},{\"attributes\":{\"line_alpha\":0.1,\"line_color\":\"#1f77b4\",\"line_width\":3,\"x\":{\"field\":\"x\"},\"y\":{\"field\":\"y\"}},\"id\":\"55d6e369-838f-4ad7-9cfe-596d15a4f65c\",\"type\":\"Line\"},{\"attributes\":{\"plot\":{\"id\":\"37c46768-aaeb-44b2-8fff-4e542ce37a07\",\"subtype\":\"Figure\",\"type\":\"Plot\"},\"ticker\":{\"id\":\"9d96541b-0712-484b-8d19-2af15b85131d\",\"type\":\"BasicTicker\"}},\"id\":\"7a9f3721-39d0-4702-aa95-0ea2318751c0\",\"type\":\"Grid\"},{\"attributes\":{\"source\":{\"id\":\"810dc674-3368-4fe3-be31-4d60f5a280d9\",\"type\":\"ColumnDataSource\"}},\"id\":\"18443335-feaf-4d8f-a7b9-6b2bbe7f4128\",\"type\":\"CDSView\"},{\"attributes\":{},\"id\":\"8518516f-8ba4-4800-96f9-44c3f82453ba\",\"type\":\"HelpTool\"},{\"attributes\":{\"overlay\":{\"id\":\"80265db0-99af-423a-9e97-977ff995f833\",\"type\":\"BoxAnnotation\"}},\"id\":\"6c516265-3d22-4366-b3ff-e8ddd608dff3\",\"type\":\"BoxZoomTool\"},{\"attributes\":{},\"id\":\"2a1a0efb-54ba-4053-88fb-d6cacc71962b\",\"type\":\"WheelZoomTool\"},{\"attributes\":{},\"id\":\"9d96541b-0712-484b-8d19-2af15b85131d\",\"type\":\"BasicTicker\"},{\"attributes\":{\"line_alpha\":0.1,\"line_color\":\"#1f77b4\",\"line_width\":3,\"x\":{\"field\":\"x\"},\"y\":{\"field\":\"y\"}},\"id\":\"407ab7c1-c8b6-4ad5-a451-29f64adbbf62\",\"type\":\"Line\"},{\"attributes\":{\"line_color\":\"#ff7f0e\",\"line_dash\":[6],\"line_width\":3,\"x\":{\"field\":\"x\"},\"y\":{\"field\":\"y\"}},\"id\":\"8c586bf9-ef92-4e7e-8078-85019dff4e76\",\"type\":\"Line\"},{\"attributes\":{\"dimension\":1,\"plot\":{\"id\":\"37c46768-aaeb-44b2-8fff-4e542ce37a07\",\"subtype\":\"Figure\",\"type\":\"Plot\"},\"ticker\":{\"id\":\"7b4c6162-5fc3-45dd-be7c-f39d20e4b632\",\"type\":\"LogTicker\"}},\"id\":\"d6c071be-93e2-4139-83df-5cf3eed092c1\",\"type\":\"Grid\"},{\"attributes\":{\"callback\":null},\"id\":\"3df58dff-e2ab-495c-b8f9-9d32db57af3b\",\"type\":\"DataRange1d\"},{\"attributes\":{},\"id\":\"963c57cf-c394-493e-aaf0-4df6646d244d\",\"type\":\"LogScale\"},{\"attributes\":{\"line_alpha\":0.1,\"line_color\":\"#1f77b4\",\"line_dash\":[6],\"line_width\":3,\"x\":{\"field\":\"x\"},\"y\":{\"field\":\"y\"}},\"id\":\"cdd7c0ca-82b1-4d89-9792-9c50ba167c61\",\"type\":\"Line\"},{\"attributes\":{\"source\":{\"id\":\"889bde7f-6316-48db-a67c-2762fa6e62a8\",\"type\":\"ColumnDataSource\"}},\"id\":\"e2d9d337-8f70-458c-b99b-8540fff18db4\",\"type\":\"CDSView\"},{\"attributes\":{\"data_source\":{\"id\":\"e11458d9-6263-4a95-8d5b-d6fbad600421\",\"type\":\"ColumnDataSource\"},\"glyph\":{\"id\":\"8c586bf9-ef92-4e7e-8078-85019dff4e76\",\"type\":\"Line\"},\"hover_glyph\":null,\"muted_glyph\":null,\"nonselection_glyph\":{\"id\":\"cdd7c0ca-82b1-4d89-9792-9c50ba167c61\",\"type\":\"Line\"},\"selection_glyph\":null,\"view\":{\"id\":\"dadc729d-af11-416a-9d6e-141f5e05f70a\",\"type\":\"CDSView\"}},\"id\":\"c686e117-79ae-4fcd-876c-85f637d22b91\",\"type\":\"GlyphRenderer\"},{\"attributes\":{},\"id\":\"1c029698-7ad6-4e7f-8971-a8ae93574d5a\",\"type\":\"ResetTool\"},{\"attributes\":{\"line_alpha\":0.1,\"line_color\":\"#1f77b4\",\"line_width\":3,\"x\":{\"field\":\"x\"},\"y\":{\"field\":\"y\"}},\"id\":\"db4f6669-76e6-4ba9-8a0d-b71133431e26\",\"type\":\"Line\"},{\"attributes\":{\"active_drag\":\"auto\",\"active_inspect\":\"auto\",\"active_scroll\":\"auto\",\"active_tap\":\"auto\",\"tools\":[{\"id\":\"9b498d8c-3acb-4a7b-9892-f4923e1fdb2a\",\"type\":\"PanTool\"},{\"id\":\"2a1a0efb-54ba-4053-88fb-d6cacc71962b\",\"type\":\"WheelZoomTool\"},{\"id\":\"6c516265-3d22-4366-b3ff-e8ddd608dff3\",\"type\":\"BoxZoomTool\"},{\"id\":\"c17a2549-cc04-45cf-89f1-1915584304d5\",\"type\":\"SaveTool\"},{\"id\":\"1c029698-7ad6-4e7f-8971-a8ae93574d5a\",\"type\":\"ResetTool\"},{\"id\":\"8518516f-8ba4-4800-96f9-44c3f82453ba\",\"type\":\"HelpTool\"}]},\"id\":\"d656d029-7251-47b1-bc6c-60605b36b513\",\"type\":\"Toolbar\"},{\"attributes\":{\"source\":{\"id\":\"e11458d9-6263-4a95-8d5b-d6fbad600421\",\"type\":\"ColumnDataSource\"}},\"id\":\"dadc729d-af11-416a-9d6e-141f5e05f70a\",\"type\":\"CDSView\"},{\"attributes\":{\"data_source\":{\"id\":\"889bde7f-6316-48db-a67c-2762fa6e62a8\",\"type\":\"ColumnDataSource\"},\"glyph\":{\"id\":\"ac4b4d4e-2a3c-476e-9e0c-73d6f98eace8\",\"type\":\"Line\"},\"hover_glyph\":null,\"muted_glyph\":null,\"nonselection_glyph\":{\"id\":\"db4f6669-76e6-4ba9-8a0d-b71133431e26\",\"type\":\"Line\"},\"selection_glyph\":null,\"view\":{\"id\":\"e2d9d337-8f70-458c-b99b-8540fff18db4\",\"type\":\"CDSView\"}},\"id\":\"313c6f16-f247-4d34-aec9-cf7cfcde832e\",\"type\":\"GlyphRenderer\"},{\"attributes\":{\"axis_label\":\"L(w(t))\",\"formatter\":{\"id\":\"0d0d7c68-68fd-4202-a735-de25b95af5f3\",\"type\":\"LogTickFormatter\"},\"plot\":{\"id\":\"37c46768-aaeb-44b2-8fff-4e542ce37a07\",\"subtype\":\"Figure\",\"type\":\"Plot\"},\"ticker\":{\"id\":\"7b4c6162-5fc3-45dd-be7c-f39d20e4b632\",\"type\":\"LogTicker\"}},\"id\":\"397c0ba6-6e9f-4ee9-940e-ba5dfcb4d0a9\",\"type\":\"LogAxis\"},{\"attributes\":{\"label\":{\"value\":\"train - 8192_1\"},\"renderers\":[{\"id\":\"c686e117-79ae-4fcd-876c-85f637d22b91\",\"type\":\"GlyphRenderer\"}]},\"id\":\"23ed1327-e15f-46b7-9dbc-909f34c73567\",\"type\":\"LegendItem\"},{\"attributes\":{},\"id\":\"9b498d8c-3acb-4a7b-9892-f4923e1fdb2a\",\"type\":\"PanTool\"},{\"attributes\":{\"callback\":null,\"column_names\":[\"x\",\"y\"],\"data\":{\"x\":{\"__ndarray__\":\"AQAAAAIAAAADAAAABAAAAAUAAAAGAAAABwAAAAgAAAAJAAAACgAAAAsAAAAMAAAADQAAAA4AAAAPAAAAEAAAABEAAAASAAAAEwAAABQAAAAVAAAAFgAAABcAAAAYAAAAGQAAABoAAAAbAAAAHAAAAB0AAAAeAAAAHwAAACAAAAAhAAAAIgAAACMAAAAkAAAAJQAAACYAAAAnAAAAKAAAACkAAAAqAAAAKwAAACwAAAAtAAAALgAAAC8AAAAwAAAAMQAAADIAAAAzAAAANAAAADUAAAA2AAAANwAAADgAAAA5AAAAOgAAADsAAAA8AAAAPQAAAD4AAAA/AAAAQAAAAEEAAABCAAAAQwAAAEQAAABFAAAARgAAAEcAAABIAAAASQAAAEoAAABLAAAATAAAAE0AAABOAAAATwAAAFAAAABRAAAAUgAAAFMAAABUAAAAVQAAAFYAAABXAAAAWAAAAFkAAABaAAAA\",\"dtype\":\"int32\",\"shape\":[90]},\"y\":[5.525159934234619,6.804961585540772,6.138229990692139,5.419581368713379,4.472986277008057,3.78161971534729,3.230950474472046,2.867860168914795,2.722605421600342,2.4764770419311524,2.4497297078704836,2.5596342189788817,2.3710525285339354,2.337527140274048,2.211386076889038,2.106347930145264,2.0706373848724366,2.152337370147705,2.06944960521698,2.0098569073486328,1.9818155377197266,1.9612232871246338,2.0117795948028565,1.8997879574584962,2.0898974518585205,1.8945850728225708,1.991924743232727,2.121803048858643,1.9891814401245118,1.8461304160308838,1.390771088027954,1.3353457962799071,1.3043705197906494,1.2843779148101806,1.2677054523468017,1.2519605611419677,1.2540714326095581,1.2469355830001831,1.2477082034683227,1.241053046951294,1.2486035440444947,1.2457551808547973,1.241390608215332,1.245538186340332,1.2435624340438842,1.2447297624588012,1.2324982934188842,1.2313331592178345,1.2428685779571533,1.2702386404037476,1.2512489939880371,1.2561064530944823,1.230896340675354,1.252230252456665,1.245303183708191,1.2238387567901612,1.2438008378219605,1.2229083378601073,1.2258591752243042,1.2287253253936767,1.095027719268799,1.0782199978256226,1.069437434387207,1.063653366317749,1.0548114653778076,1.0538289235687255,1.0516525896453857,1.0468781955718993,1.0453675918197631,1.0453395625686646,1.045875756187439,1.044435426979065,1.0410655983734132,1.0434296273803711,1.03835122215271,1.0407433319091797,1.0357956577682494,1.040724382686615,1.0371133034896851,1.0362454829406738,1.0260044157791137,1.0215993745231629,1.0214741679000854,1.0193945734405518,1.0182827255249023,1.0207823220062255,1.0194741287994384,1.017226784324646,1.0174043379974365,1.0207238229751587]}},\"id\":\"889bde7f-6316-48db-a67c-2762fa6e62a8\",\"type\":\"ColumnDataSource\"},{\"attributes\":{\"bottom_units\":\"screen\",\"fill_alpha\":{\"value\":0.5},\"fill_color\":{\"value\":\"lightgrey\"},\"left_units\":\"screen\",\"level\":\"overlay\",\"line_alpha\":{\"value\":1.0},\"line_color\":{\"value\":\"black\"},\"line_dash\":[4,4],\"line_width\":{\"value\":2},\"plot\":null,\"render_mode\":\"css\",\"right_units\":\"screen\",\"top_units\":\"screen\"},\"id\":\"80265db0-99af-423a-9e97-977ff995f833\",\"type\":\"BoxAnnotation\"},{\"attributes\":{\"line_color\":\"#ff7f0e\",\"line_width\":3,\"x\":{\"field\":\"x\"},\"y\":{\"field\":\"y\"}},\"id\":\"ac4b4d4e-2a3c-476e-9e0c-73d6f98eace8\",\"type\":\"Line\"},{\"attributes\":{},\"id\":\"c17a2549-cc04-45cf-89f1-1915584304d5\",\"type\":\"SaveTool\"},{\"attributes\":{\"callback\":null,\"column_names\":[\"x\",\"y\"],\"data\":{\"x\":{\"__ndarray__\":\"AQAAAAIAAAADAAAABAAAAAUAAAAGAAAABwAAAAgAAAAJAAAACgAAAAsAAAAMAAAADQAAAA4AAAAPAAAAEAAAABEAAAASAAAAEwAAABQAAAAVAAAAFgAAABcAAAAYAAAAGQAAABoAAAAbAAAAHAAAAB0AAAAeAAAAHwAAACAAAAAhAAAAIgAAACMAAAAkAAAAJQAAACYAAAAnAAAAKAAAACkAAAAqAAAAKwAAACwAAAAtAAAALgAAAC8AAAAwAAAAMQAAADIAAAAzAAAANAAAADUAAAA2AAAANwAAADgAAAA5AAAAOgAAADsAAAA8AAAAPQAAAD4AAAA/AAAAQAAAAEEAAABCAAAAQwAAAEQAAABFAAAARgAAAEcAAABIAAAASQAAAEoAAABLAAAATAAAAE0AAABOAAAATwAAAFAAAABRAAAAUgAAAFMAAABUAAAAVQAAAFYAAABXAAAAWAAAAFkAAABaAAAA\",\"dtype\":\"int32\",\"shape\":[90]},\"y\":[7.005383278889722,6.574593912363236,6.215295880509343,5.915329940926287,5.682947637597931,5.431842535565365,5.200884099383,5.000503496334687,4.832243776429383,4.732702042658734,4.558399953288769,4.445700257352669,4.357507799858053,4.292472607606715,4.2160769088350945,4.152080014823095,4.082620819306747,4.08249426238106,4.007555520137938,3.97694369308559,3.9734921190987182,3.8959824714807123,3.980848818435887,3.8764659782554722,3.8355011700057324,3.8095698824865387,3.7974346415785765,3.775409686724203,3.7534723484072874,3.892555871946773,2.613707809607718,2.3668702942867843,2.252724445009092,2.182236282057868,2.133097605190348,2.0965424520357825,2.072907147496005,2.0546052502334624,2.044514368216313,2.033848173549739,2.0266876434069245,2.018854694791972,2.0117771574882393,2.0100889746897317,1.9972274565515515,1.996261891919351,1.9850454583345374,1.9775311415923544,1.9724041189793518,1.9619322559270398,1.950764417522143,1.9452423358596154,1.9340447822733842,1.9250825350174856,1.9166317552886092,1.9090641867616323,1.8985169386895846,1.894077606612207,1.885180530986148,1.8734401958874423,1.541930165096248,1.478276064384912,1.454559883836074,1.4362034214202486,1.4201052949239164,1.4090653044077488,1.397864906290759,1.3854560092810781,1.3799170171631743,1.3705278402187802,1.363176218851005,1.354338353073501,1.346150611613162,1.343975208086259,1.3336621713104475,1.3303513048366156,1.3247207951668705,1.3191015564153832,1.312220671709054,1.308013258473204,1.286817283039062,1.2765335266205722,1.2754385950893672,1.272703753859541,1.2737836164969614,1.2691294360562997,1.2680724080889452,1.268192297629234,1.2686224619726114,1.26794059234689]}},\"id\":\"ca31f801-c5fd-4cb7-802a-07a96d0f5631\",\"type\":\"ColumnDataSource\"},{\"attributes\":{\"line_color\":\"#2ca02c\",\"line_dash\":[6],\"line_width\":3,\"x\":{\"field\":\"x\"},\"y\":{\"field\":\"y\"}},\"id\":\"34f47d92-c43c-4b70-886c-0039b5841163\",\"type\":\"Line\"},{\"attributes\":{\"line_alpha\":0.1,\"line_color\":\"#1f77b4\",\"line_dash\":[6],\"line_width\":3,\"x\":{\"field\":\"x\"},\"y\":{\"field\":\"y\"}},\"id\":\"b65ad654-9f32-4cae-bbd7-d4ca2de476be\",\"type\":\"Line\"},{\"attributes\":{\"data_source\":{\"id\":\"ca31f801-c5fd-4cb7-802a-07a96d0f5631\",\"type\":\"ColumnDataSource\"},\"glyph\":{\"id\":\"34f47d92-c43c-4b70-886c-0039b5841163\",\"type\":\"Line\"},\"hover_glyph\":null,\"muted_glyph\":null,\"nonselection_glyph\":{\"id\":\"b65ad654-9f32-4cae-bbd7-d4ca2de476be\",\"type\":\"Line\"},\"selection_glyph\":null,\"view\":{\"id\":\"1ba1cfbe-2d55-4be7-b0b6-d1770ffb2100\",\"type\":\"CDSView\"}},\"id\":\"2bc13594-b435-4bc9-acc3-f32f8703b1fc\",\"type\":\"GlyphRenderer\"},{\"attributes\":{\"source\":{\"id\":\"ca31f801-c5fd-4cb7-802a-07a96d0f5631\",\"type\":\"ColumnDataSource\"}},\"id\":\"1ba1cfbe-2d55-4be7-b0b6-d1770ffb2100\",\"type\":\"CDSView\"},{\"attributes\":{\"label\":{\"value\":\"train - 256_32\"},\"renderers\":[{\"id\":\"2bc13594-b435-4bc9-acc3-f32f8703b1fc\",\"type\":\"GlyphRenderer\"}]},\"id\":\"35bc7752-042b-45d8-a3e3-89f7f222ae7d\",\"type\":\"LegendItem\"},{\"attributes\":{\"line_alpha\":0.1,\"line_color\":\"#1f77b4\",\"line_dash\":[6],\"line_width\":3,\"x\":{\"field\":\"x\"},\"y\":{\"field\":\"y\"}},\"id\":\"870fb8db-7aa7-4290-ae24-aecb71bec810\",\"type\":\"Line\"},{\"attributes\":{\"callback\":null,\"column_names\":[\"x\",\"y\"],\"data\":{\"x\":{\"__ndarray__\":\"AQAAAAIAAAADAAAABAAAAAUAAAAGAAAABwAAAAgAAAAJAAAACgAAAAsAAAAMAAAADQAAAA4AAAAPAAAAEAAAABEAAAASAAAAEwAAABQAAAAVAAAAFgAAABcAAAAYAAAAGQAAABoAAAAbAAAAHAAAAB0AAAAeAAAAHwAAACAAAAAhAAAAIgAAACMAAAAkAAAAJQAAACYAAAAnAAAAKAAAACkAAAAqAAAAKwAAACwAAAAtAAAALgAAAC8AAAAwAAAAMQAAADIAAAAzAAAANAAAADUAAAA2AAAANwAAADgAAAA5AAAAOgAAADsAAAA8AAAAPQAAAD4AAAA/AAAAQAAAAEEAAABCAAAAQwAAAEQAAABFAAAARgAAAEcAAABIAAAASQAAAEoAAABLAAAATAAAAE0AAABOAAAATwAAAFAAAABRAAAAUgAAAFMAAABUAAAAVQAAAFYAAABXAAAAWAAAAFkAAABaAAAA\",\"dtype\":\"int32\",\"shape\":[90]},\"y\":[5.466275997849344,3.715048945977431,3.1098143375700738,2.8306451965869925,2.6694546931979097,2.562953981608202,2.4892703240936327,2.4360199337609707,2.39570757765192,2.364412790093756,2.337185766480526,2.3142239649915295,2.2959442390512175,2.283042290908864,2.2671713936892726,2.2565915679187856,2.247924973483158,2.2367727616676016,2.2280634522236786,2.2218476535919134,2.2191727380790964,2.2103859887317396,2.2042747234943776,2.20043702195026,2.1961141287495307,2.1922251143824862,2.1878713158310963,2.186685053094778,2.1815685468235713,2.1778003008330886,1.6352877944527429,1.5200140885799238,1.4729589218487276,1.4444872073962831,1.4243894742237093,1.411117164959822,1.4032638126445607,1.395360286161202,1.3947336543971705,1.3926031942723522,1.391483876849462,1.3913869699274355,1.3916058163787826,1.3911124992773984,1.3926059962894635,1.3901189637680067,1.388398979859193,1.3889242588469697,1.386103416582839,1.3835511577414303,1.384264793887264,1.3802402246807215,1.376146160247541,1.378257661367581,1.3763936006528041,1.371442759821417,1.3656852298096145,1.3644612475781865,1.363397906309777,1.3591525402053624,1.1580333744892446,1.1027035552454514,1.0804155005361253,1.0640897373563936,1.0535658759765874,1.0419600374820437,1.0354216659943252,1.027649503496797,1.022080707114373,1.0127270803441772,1.009612683479568,1.0027603435922994,0.9962792671110681,0.9902378727030676,0.98917001319386,0.9826747644748154,0.9792728650308704,0.9738946575730302,0.9683414665615518,0.9665415504778571,0.9383358421921016,0.9302108569252754,0.9273485284651433,0.9254373662442835,0.9244301611033485,0.9221675628312439,0.9221281995114853,0.9209120194627252,0.9213048348695693,0.9172118204934145]}},\"id\":\"373f2017-2a8f-47e5-91f6-8ee0898bc223\",\"type\":\"ColumnDataSource\"},{\"attributes\":{\"data_source\":{\"id\":\"373f2017-2a8f-47e5-91f6-8ee0898bc223\",\"type\":\"ColumnDataSource\"},\"glyph\":{\"id\":\"10ff32f1-8c4e-4474-bff7-08f412e6e6c6\",\"type\":\"Line\"},\"hover_glyph\":null,\"muted_glyph\":null,\"nonselection_glyph\":{\"id\":\"870fb8db-7aa7-4290-ae24-aecb71bec810\",\"type\":\"Line\"},\"selection_glyph\":null,\"view\":{\"id\":\"0c257107-0df1-4816-8bcf-d8b20ae46b31\",\"type\":\"CDSView\"}},\"id\":\"179a25fc-ddd3-4164-95a7-c256c9a1750d\",\"type\":\"GlyphRenderer\"},{\"attributes\":{\"line_color\":\"#1f77b4\",\"line_dash\":[6],\"line_width\":3,\"x\":{\"field\":\"x\"},\"y\":{\"field\":\"y\"}},\"id\":\"10ff32f1-8c4e-4474-bff7-08f412e6e6c6\",\"type\":\"Line\"},{\"attributes\":{\"click_policy\":\"hide\",\"items\":[{\"id\":\"5a7d94b9-a7c4-4f17-9e81-71bd5efea8ec\",\"type\":\"LegendItem\"},{\"id\":\"2de2d8a9-40a9-44e7-b442-04818fe3cf83\",\"type\":\"LegendItem\"},{\"id\":\"23ed1327-e15f-46b7-9dbc-909f34c73567\",\"type\":\"LegendItem\"},{\"id\":\"f11972e3-6d85-492c-af3e-2cc6a5dc0ebf\",\"type\":\"LegendItem\"},{\"id\":\"35bc7752-042b-45d8-a3e3-89f7f222ae7d\",\"type\":\"LegendItem\"},{\"id\":\"80bf0f13-19fe-4113-9632-4a9add7c1d10\",\"type\":\"LegendItem\"}],\"location\":\"bottom_left\",\"plot\":{\"id\":\"37c46768-aaeb-44b2-8fff-4e542ce37a07\",\"subtype\":\"Figure\",\"type\":\"Plot\"}},\"id\":\"a1defb82-a887-4886-a7c3-5da333ff9f07\",\"type\":\"Legend\"},{\"attributes\":{\"callback\":null},\"id\":\"7223c77e-13a6-49b5-bb18-a80f0c145dd0\",\"type\":\"DataRange1d\"},{\"attributes\":{\"source\":{\"id\":\"373f2017-2a8f-47e5-91f6-8ee0898bc223\",\"type\":\"ColumnDataSource\"}},\"id\":\"0c257107-0df1-4816-8bcf-d8b20ae46b31\",\"type\":\"CDSView\"},{\"attributes\":{},\"id\":\"b5a5f765-e7df-461f-8d23-e47a5e29cc44\",\"type\":\"BasicTickFormatter\"},{\"attributes\":{\"ticker\":null},\"id\":\"0d0d7c68-68fd-4202-a735-de25b95af5f3\",\"type\":\"LogTickFormatter\"},{\"attributes\":{\"label\":{\"value\":\"validation - 8192_1\"},\"renderers\":[{\"id\":\"313c6f16-f247-4d34-aec9-cf7cfcde832e\",\"type\":\"GlyphRenderer\"}]},\"id\":\"f11972e3-6d85-492c-af3e-2cc6a5dc0ebf\",\"type\":\"LegendItem\"},{\"attributes\":{\"label\":{\"value\":\"train - 256_1\"},\"renderers\":[{\"id\":\"179a25fc-ddd3-4164-95a7-c256c9a1750d\",\"type\":\"GlyphRenderer\"}]},\"id\":\"5a7d94b9-a7c4-4f17-9e81-71bd5efea8ec\",\"type\":\"LegendItem\"},{\"attributes\":{\"plot\":null,\"text\":\"Training & Test Loss\"},\"id\":\"38d1f2df-d86c-4444-a3d2-1c27840a014c\",\"type\":\"Title\"},{\"attributes\":{\"background_fill_color\":{\"value\":\"#fafafa\"},\"below\":[{\"id\":\"ccab236f-835f-4583-b092-e6995f416092\",\"type\":\"LinearAxis\"}],\"left\":[{\"id\":\"397c0ba6-6e9f-4ee9-940e-ba5dfcb4d0a9\",\"type\":\"LogAxis\"}],\"min_border\":10,\"min_border_left\":50,\"renderers\":[{\"id\":\"ccab236f-835f-4583-b092-e6995f416092\",\"type\":\"LinearAxis\"},{\"id\":\"7a9f3721-39d0-4702-aa95-0ea2318751c0\",\"type\":\"Grid\"},{\"id\":\"397c0ba6-6e9f-4ee9-940e-ba5dfcb4d0a9\",\"type\":\"LogAxis\"},{\"id\":\"d6c071be-93e2-4139-83df-5cf3eed092c1\",\"type\":\"Grid\"},{\"id\":\"80265db0-99af-423a-9e97-977ff995f833\",\"type\":\"BoxAnnotation\"},{\"id\":\"a1defb82-a887-4886-a7c3-5da333ff9f07\",\"type\":\"Legend\"},{\"id\":\"179a25fc-ddd3-4164-95a7-c256c9a1750d\",\"type\":\"GlyphRenderer\"},{\"id\":\"d85e6a62-9346-4a9f-b1cc-657c4fa71882\",\"type\":\"GlyphRenderer\"},{\"id\":\"c686e117-79ae-4fcd-876c-85f637d22b91\",\"type\":\"GlyphRenderer\"},{\"id\":\"313c6f16-f247-4d34-aec9-cf7cfcde832e\",\"type\":\"GlyphRenderer\"},{\"id\":\"2bc13594-b435-4bc9-acc3-f32f8703b1fc\",\"type\":\"GlyphRenderer\"},{\"id\":\"7aa8daac-8d33-4541-8053-ab77befdfdb8\",\"type\":\"GlyphRenderer\"}],\"title\":{\"id\":\"38d1f2df-d86c-4444-a3d2-1c27840a014c\",\"type\":\"Title\"},\"toolbar\":{\"id\":\"d656d029-7251-47b1-bc6c-60605b36b513\",\"type\":\"Toolbar\"},\"x_range\":{\"id\":\"7223c77e-13a6-49b5-bb18-a80f0c145dd0\",\"type\":\"DataRange1d\"},\"x_scale\":{\"id\":\"ad01a16d-74ab-47d8-9016-642339929faf\",\"type\":\"LinearScale\"},\"y_range\":{\"id\":\"3df58dff-e2ab-495c-b8f9-9d32db57af3b\",\"type\":\"DataRange1d\"},\"y_scale\":{\"id\":\"963c57cf-c394-493e-aaf0-4df6646d244d\",\"type\":\"LogScale\"}},\"id\":\"37c46768-aaeb-44b2-8fff-4e542ce37a07\",\"subtype\":\"Figure\",\"type\":\"Plot\"}],\"root_ids\":[\"37c46768-aaeb-44b2-8fff-4e542ce37a07\"]},\"title\":\"Bokeh Application\",\"version\":\"0.12.13\"}};\n",
       "  var render_items = [{\"docid\":\"8aa6f925-7336-46ad-a3ad-af65d8f978cf\",\"elementid\":\"61438496-24d9-4108-81bc-d419bd45523d\",\"modelid\":\"37c46768-aaeb-44b2-8fff-4e542ce37a07\"}];\n",
       "  root.Bokeh.embed.embed_items_notebook(docs_json, render_items);\n",
       "\n",
       "  }\n",
       "  if (root.Bokeh !== undefined) {\n",
       "    embed_document(root);\n",
       "  } else {\n",
       "    var attempts = 0;\n",
       "    var timer = setInterval(function(root) {\n",
       "      if (root.Bokeh !== undefined) {\n",
       "        embed_document(root);\n",
       "        clearInterval(timer);\n",
       "      }\n",
       "      attempts++;\n",
       "      if (attempts > 100) {\n",
       "        console.log(\"Bokeh: ERROR: Unable to run BokehJS code because BokehJS library is missing\")\n",
       "        clearInterval(timer);\n",
       "      }\n",
       "    }, 10, root)\n",
       "  }\n",
       "})(window);"
      ],
      "application/vnd.bokehjs_exec.v0+json": ""
     },
     "metadata": {
      "application/vnd.bokehjs_exec.v0+json": {
       "id": "37c46768-aaeb-44b2-8fff-4e542ce37a07"
      }
     },
     "output_type": "display_data"
    }
   ],
   "source": [
    "show(plots[0])"
   ]
  },
  {
   "cell_type": "code",
   "execution_count": 9,
   "metadata": {},
   "outputs": [
    {
     "data": {
      "text/html": [
       "\n",
       "<div class=\"bk-root\">\n",
       "    <div class=\"bk-plotdiv\" id=\"ae54ca65-e790-45a6-9c48-fa5ab456f453\"></div>\n",
       "</div>"
      ]
     },
     "metadata": {},
     "output_type": "display_data"
    },
    {
     "data": {
      "application/javascript": [
       "(function(root) {\n",
       "  function embed_document(root) {\n",
       "    \n",
       "  var docs_json = {\"e2cc2285-0b53-474a-85d1-b263f46374d8\":{\"roots\":{\"references\":[{\"attributes\":{\"label\":{\"value\":\"train - 8192_1\"},\"renderers\":[{\"id\":\"202bbb80-e4e7-4311-aa7b-b0f1c2cf9111\",\"type\":\"GlyphRenderer\"}]},\"id\":\"3bec4274-5942-4e4c-ac4a-59f82eb101e4\",\"type\":\"LegendItem\"},{\"attributes\":{\"active_drag\":\"auto\",\"active_inspect\":\"auto\",\"active_scroll\":\"auto\",\"active_tap\":\"auto\",\"tools\":[{\"id\":\"a0a8e6c6-1d26-4956-8aec-ad6b180b6e10\",\"type\":\"PanTool\"},{\"id\":\"5a6e35eb-5a03-4634-8d89-78672e3e883c\",\"type\":\"WheelZoomTool\"},{\"id\":\"257df1ca-f6b3-40a8-a946-784c3ba481e0\",\"type\":\"BoxZoomTool\"},{\"id\":\"4fc39499-554f-435b-9594-2b19f3c8bb08\",\"type\":\"SaveTool\"},{\"id\":\"1e0d00b3-f6a1-4a92-9b07-0ff2f34847ce\",\"type\":\"ResetTool\"},{\"id\":\"4aebd287-7e1b-4909-904e-d21768771d46\",\"type\":\"HelpTool\"}]},\"id\":\"f809df50-18d5-438a-bd1f-9bfe47c3a019\",\"type\":\"Toolbar\"},{\"attributes\":{\"source\":{\"id\":\"18655e78-b98a-4461-b80a-1ec1d9771d11\",\"type\":\"ColumnDataSource\"}},\"id\":\"ab02a8a1-6eb7-4374-abfb-db7bb1c86631\",\"type\":\"CDSView\"},{\"attributes\":{\"callback\":null},\"id\":\"76bca859-bbf6-4054-a89e-6fb5fbb7960c\",\"type\":\"DataRange1d\"},{\"attributes\":{\"source\":{\"id\":\"416dd680-ec76-41dd-870b-a6b349327725\",\"type\":\"ColumnDataSource\"}},\"id\":\"7d2af9a2-866c-41eb-a00f-ec6173298105\",\"type\":\"CDSView\"},{\"attributes\":{},\"id\":\"d9ee9b73-78ee-4f96-83a8-d0dfcd01ecb7\",\"type\":\"BasicTicker\"},{\"attributes\":{\"line_color\":\"#1f77b4\",\"line_width\":3,\"x\":{\"field\":\"x\"},\"y\":{\"field\":\"y\"}},\"id\":\"477a380b-90c4-4f53-b0cd-0464ae24a4d7\",\"type\":\"Line\"},{\"attributes\":{\"dimension\":1,\"plot\":{\"id\":\"e750c611-6bae-4d6f-bb36-5c7483723cb7\",\"subtype\":\"Figure\",\"type\":\"Plot\"},\"ticker\":{\"id\":\"78987277-e0ce-403e-bfd0-e44f24ef5090\",\"type\":\"BasicTicker\"}},\"id\":\"549df994-e6db-404b-8a20-2b6e9727b977\",\"type\":\"Grid\"},{\"attributes\":{\"callback\":null,\"column_names\":[\"x\",\"y\"],\"data\":{\"x\":{\"__ndarray__\":\"AQAAAAIAAAADAAAABAAAAAUAAAAGAAAABwAAAAgAAAAJAAAACgAAAAsAAAAMAAAADQAAAA4AAAAPAAAAEAAAABEAAAASAAAAEwAAABQAAAAVAAAAFgAAABcAAAAYAAAAGQAAABoAAAAbAAAAHAAAAB0AAAAeAAAAHwAAACAAAAAhAAAAIgAAACMAAAAkAAAAJQAAACYAAAAnAAAAKAAAACkAAAAqAAAAKwAAACwAAAAtAAAALgAAAC8AAAAwAAAAMQAAADIAAAAzAAAANAAAADUAAAA2AAAANwAAADgAAAA5AAAAOgAAADsAAAA8AAAAPQAAAD4AAAA/AAAAQAAAAEEAAABCAAAAQwAAAEQAAABFAAAARgAAAEcAAABIAAAASQAAAEoAAABLAAAATAAAAE0AAABOAAAATwAAAFAAAABRAAAAUgAAAFMAAABUAAAAVQAAAFYAAABXAAAAWAAAAFkAAABaAAAA\",\"dtype\":\"int32\",\"shape\":[90]},\"y\":[18.986955642700195,78.59618377685547,65.52056121826172,54.641273498535156,52.36399841308594,56.74668884277344,60.13792419433594,62.12923049926758,63.29367446899414,63.86269760131836,64.19005584716797,64.45011901855469,64.41859436035156,64.40628051757812,64.277587890625,64.2148666381836,64.02318572998047,63.882320404052734,63.78032302856445,63.64095687866211,63.58625411987305,63.427581787109375,63.30712890625,63.20043182373047,63.14811325073242,63.0827751159668,63.021888732910156,62.88700866699219,62.85478973388672,62.77814865112305,61.67692947387695,60.43991470336914,59.307762145996094,58.2777214050293,57.36271286010742,56.544517517089844,55.79629135131836,55.14596939086914,54.56262969970703,54.03936767578125,53.559513092041016,53.143802642822266,52.75127410888672,52.420654296875,52.10264587402344,51.817012786865234,51.556217193603516,51.32255172729492,51.10405731201172,50.902381896972656,50.718360900878906,50.54889678955078,50.38703155517578,50.22716522216797,50.10459899902344,49.967838287353516,49.846160888671875,49.744606018066406,49.63298034667969,49.530975341796875,49.5082893371582,49.480712890625,49.45346450805664,49.42560577392578,49.40031051635742,49.3751106262207,49.34953308105469,49.325984954833984,49.30325698852539,49.28152847290039,49.26029586791992,49.240333557128906,49.219703674316406,49.19989776611328,49.18083572387695,49.16080856323242,49.14250946044922,49.124725341796875,49.106239318847656,49.09001922607422,49.08863067626953,49.08717727661133,49.085758209228516,49.084354400634766,49.082969665527344,49.08174514770508,49.08016586303711,49.07870101928711,49.077396392822266,49.07594299316406]}},\"id\":\"18655e78-b98a-4461-b80a-1ec1d9771d11\",\"type\":\"ColumnDataSource\"},{\"attributes\":{\"axis_label\":\"t [Epochs]\",\"formatter\":{\"id\":\"4ff6ff8c-72f9-47ea-beb5-005450501f65\",\"type\":\"BasicTickFormatter\"},\"plot\":{\"id\":\"e750c611-6bae-4d6f-bb36-5c7483723cb7\",\"subtype\":\"Figure\",\"type\":\"Plot\"},\"ticker\":{\"id\":\"d9ee9b73-78ee-4f96-83a8-d0dfcd01ecb7\",\"type\":\"BasicTicker\"}},\"id\":\"92bed9ec-261c-4b7f-bbb7-5f55bc15829b\",\"type\":\"LinearAxis\"},{\"attributes\":{\"line_alpha\":0.1,\"line_color\":\"#1f77b4\",\"line_width\":3,\"x\":{\"field\":\"x\"},\"y\":{\"field\":\"y\"}},\"id\":\"a2b57c0d-1af6-4371-8a4e-9108f0c0558e\",\"type\":\"Line\"},{\"attributes\":{\"plot\":{\"id\":\"e750c611-6bae-4d6f-bb36-5c7483723cb7\",\"subtype\":\"Figure\",\"type\":\"Plot\"},\"ticker\":{\"id\":\"d9ee9b73-78ee-4f96-83a8-d0dfcd01ecb7\",\"type\":\"BasicTicker\"}},\"id\":\"25a0bdfc-a6f0-44e9-bad9-58d373fd8ee2\",\"type\":\"Grid\"},{\"attributes\":{},\"id\":\"ed229ff6-eee4-47b4-b25f-ce72f584ed23\",\"type\":\"LinearScale\"},{\"attributes\":{\"plot\":null,\"text\":\"The Norm of w(t)\"},\"id\":\"ad64d100-a947-4fd3-b7f2-0bbc29f737f2\",\"type\":\"Title\"},{\"attributes\":{\"data_source\":{\"id\":\"18655e78-b98a-4461-b80a-1ec1d9771d11\",\"type\":\"ColumnDataSource\"},\"glyph\":{\"id\":\"c96f21f4-e3f5-4883-8fb4-196c6c848023\",\"type\":\"Line\"},\"hover_glyph\":null,\"muted_glyph\":null,\"nonselection_glyph\":{\"id\":\"c9a6437f-9fad-4eed-b029-598be89dacf9\",\"type\":\"Line\"},\"selection_glyph\":null,\"view\":{\"id\":\"ab02a8a1-6eb7-4374-abfb-db7bb1c86631\",\"type\":\"CDSView\"}},\"id\":\"202bbb80-e4e7-4311-aa7b-b0f1c2cf9111\",\"type\":\"GlyphRenderer\"},{\"attributes\":{\"data_source\":{\"id\":\"416dd680-ec76-41dd-870b-a6b349327725\",\"type\":\"ColumnDataSource\"},\"glyph\":{\"id\":\"c48524cb-fd9b-4e9b-b8d5-bc07331fe77b\",\"type\":\"Line\"},\"hover_glyph\":null,\"muted_glyph\":null,\"nonselection_glyph\":{\"id\":\"a2b57c0d-1af6-4371-8a4e-9108f0c0558e\",\"type\":\"Line\"},\"selection_glyph\":null,\"view\":{\"id\":\"7d2af9a2-866c-41eb-a00f-ec6173298105\",\"type\":\"CDSView\"}},\"id\":\"e2bf3802-b104-4d6d-82de-14f378af0b45\",\"type\":\"GlyphRenderer\"},{\"attributes\":{\"line_color\":\"#ff7f0e\",\"line_width\":3,\"x\":{\"field\":\"x\"},\"y\":{\"field\":\"y\"}},\"id\":\"c96f21f4-e3f5-4883-8fb4-196c6c848023\",\"type\":\"Line\"},{\"attributes\":{\"line_alpha\":0.1,\"line_color\":\"#1f77b4\",\"line_width\":3,\"x\":{\"field\":\"x\"},\"y\":{\"field\":\"y\"}},\"id\":\"c9a6437f-9fad-4eed-b029-598be89dacf9\",\"type\":\"Line\"},{\"attributes\":{},\"id\":\"1e0d00b3-f6a1-4a92-9b07-0ff2f34847ce\",\"type\":\"ResetTool\"},{\"attributes\":{\"label\":{\"value\":\"train - 256_32\"},\"renderers\":[{\"id\":\"e2bf3802-b104-4d6d-82de-14f378af0b45\",\"type\":\"GlyphRenderer\"}]},\"id\":\"f509d706-d31f-4599-bde4-db8d9dd0a3f1\",\"type\":\"LegendItem\"},{\"attributes\":{\"bottom_units\":\"screen\",\"fill_alpha\":{\"value\":0.5},\"fill_color\":{\"value\":\"lightgrey\"},\"left_units\":\"screen\",\"level\":\"overlay\",\"line_alpha\":{\"value\":1.0},\"line_color\":{\"value\":\"black\"},\"line_dash\":[4,4],\"line_width\":{\"value\":2},\"plot\":null,\"render_mode\":\"css\",\"right_units\":\"screen\",\"top_units\":\"screen\"},\"id\":\"682728d7-9267-434d-902f-d3bdead4003a\",\"type\":\"BoxAnnotation\"},{\"attributes\":{\"line_color\":\"#2ca02c\",\"line_width\":3,\"x\":{\"field\":\"x\"},\"y\":{\"field\":\"y\"}},\"id\":\"c48524cb-fd9b-4e9b-b8d5-bc07331fe77b\",\"type\":\"Line\"},{\"attributes\":{\"background_fill_color\":{\"value\":\"#fafafa\"},\"below\":[{\"id\":\"92bed9ec-261c-4b7f-bbb7-5f55bc15829b\",\"type\":\"LinearAxis\"}],\"left\":[{\"id\":\"c68acf72-e1f2-439b-8ad4-5ce5ea312a0f\",\"type\":\"LinearAxis\"}],\"min_border\":10,\"min_border_left\":50,\"renderers\":[{\"id\":\"92bed9ec-261c-4b7f-bbb7-5f55bc15829b\",\"type\":\"LinearAxis\"},{\"id\":\"25a0bdfc-a6f0-44e9-bad9-58d373fd8ee2\",\"type\":\"Grid\"},{\"id\":\"c68acf72-e1f2-439b-8ad4-5ce5ea312a0f\",\"type\":\"LinearAxis\"},{\"id\":\"549df994-e6db-404b-8a20-2b6e9727b977\",\"type\":\"Grid\"},{\"id\":\"682728d7-9267-434d-902f-d3bdead4003a\",\"type\":\"BoxAnnotation\"},{\"id\":\"7ebe9265-9e88-43b3-b695-e40cfa94bfe0\",\"type\":\"Legend\"},{\"id\":\"a9b4d051-5e7a-4b33-bfa5-de7c25adb263\",\"type\":\"GlyphRenderer\"},{\"id\":\"202bbb80-e4e7-4311-aa7b-b0f1c2cf9111\",\"type\":\"GlyphRenderer\"},{\"id\":\"e2bf3802-b104-4d6d-82de-14f378af0b45\",\"type\":\"GlyphRenderer\"}],\"title\":{\"id\":\"ad64d100-a947-4fd3-b7f2-0bbc29f737f2\",\"type\":\"Title\"},\"toolbar\":{\"id\":\"f809df50-18d5-438a-bd1f-9bfe47c3a019\",\"type\":\"Toolbar\"},\"x_range\":{\"id\":\"76bca859-bbf6-4054-a89e-6fb5fbb7960c\",\"type\":\"DataRange1d\"},\"x_scale\":{\"id\":\"cddf6ab9-aa6d-4af5-857f-8a1ddf9b9c92\",\"type\":\"LinearScale\"},\"y_range\":{\"id\":\"0cb09d01-073e-4682-85f1-366505b57b36\",\"type\":\"DataRange1d\"},\"y_scale\":{\"id\":\"ed229ff6-eee4-47b4-b25f-ce72f584ed23\",\"type\":\"LinearScale\"}},\"id\":\"e750c611-6bae-4d6f-bb36-5c7483723cb7\",\"subtype\":\"Figure\",\"type\":\"Plot\"},{\"attributes\":{\"axis_label\":\"||w(t)||\",\"formatter\":{\"id\":\"ae7195c2-3d96-453b-8a4e-a628c2daf9d2\",\"type\":\"BasicTickFormatter\"},\"plot\":{\"id\":\"e750c611-6bae-4d6f-bb36-5c7483723cb7\",\"subtype\":\"Figure\",\"type\":\"Plot\"},\"ticker\":{\"id\":\"78987277-e0ce-403e-bfd0-e44f24ef5090\",\"type\":\"BasicTicker\"}},\"id\":\"c68acf72-e1f2-439b-8ad4-5ce5ea312a0f\",\"type\":\"LinearAxis\"},{\"attributes\":{\"callback\":null,\"column_names\":[\"x\",\"y\"],\"data\":{\"x\":{\"__ndarray__\":\"AQAAAAIAAAADAAAABAAAAAUAAAAGAAAABwAAAAgAAAAJAAAACgAAAAsAAAAMAAAADQAAAA4AAAAPAAAAEAAAABEAAAASAAAAEwAAABQAAAAVAAAAFgAAABcAAAAYAAAAGQAAABoAAAAbAAAAHAAAAB0AAAAeAAAAHwAAACAAAAAhAAAAIgAAACMAAAAkAAAAJQAAACYAAAAnAAAAKAAAACkAAAAqAAAAKwAAACwAAAAtAAAALgAAAC8AAAAwAAAAMQAAADIAAAAzAAAANAAAADUAAAA2AAAANwAAADgAAAA5AAAAOgAAADsAAAA8AAAAPQAAAD4AAAA/AAAAQAAAAEEAAABCAAAAQwAAAEQAAABFAAAARgAAAEcAAABIAAAASQAAAEoAAABLAAAATAAAAE0AAABOAAAATwAAAFAAAABRAAAAUgAAAFMAAABUAAAAVQAAAFYAAABXAAAAWAAAAFkAAABaAAAA\",\"dtype\":\"int32\",\"shape\":[90]},\"y\":[23.163476943969727,24.777456283569336,31.593395233154297,40.15866470336914,48.27956008911133,54.93716049194336,60.11776351928711,63.83689880371094,66.86790466308594,68.68444061279297,70.90425109863281,72.65764617919922,73.92286682128906,74.81024932861328,75.53132629394531,76.03103637695312,76.7069091796875,76.9327392578125,77.2581787109375,77.64269256591797,77.6125259399414,78.09293365478516,77.86715698242188,78.1505355834961,78.31005859375,78.46641540527344,78.51275634765625,78.69308471679688,78.77984619140625,77.81438446044922,75.86331939697266,73.6763687133789,71.63047790527344,69.7511978149414,68.04462432861328,66.51949310302734,65.16635131835938,63.96615219116211,62.91996765136719,62.00459671020508,61.213008880615234,60.52254104614258,59.94791793823242,59.44105529785156,59.010108947753906,58.62876510620117,58.30283737182617,58.020938873291016,57.77831268310547,57.56229019165039,57.37055969238281,57.198089599609375,57.05289077758789,56.91858673095703,56.794883728027344,56.678466796875,56.584815979003906,56.50071716308594,56.41297912597656,56.32969665527344,56.292667388916016,56.243751525878906,56.189823150634766,56.13314437866211,56.0738639831543,56.01245880126953,55.94916534423828,55.8855094909668,55.82007598876953,55.75458908081055,55.6884651184082,55.6226692199707,55.55646514892578,55.489097595214844,55.422725677490234,55.35652160644531,55.29072189331055,55.22438430786133,55.15865707397461,55.0939826965332,55.087684631347656,55.08134841918945,55.07495880126953,55.06853485107422,55.06206512451172,55.055721282958984,55.049339294433594,55.042930603027344,55.0363883972168,55.0299072265625]}},\"id\":\"416dd680-ec76-41dd-870b-a6b349327725\",\"type\":\"ColumnDataSource\"},{\"attributes\":{\"overlay\":{\"id\":\"682728d7-9267-434d-902f-d3bdead4003a\",\"type\":\"BoxAnnotation\"}},\"id\":\"257df1ca-f6b3-40a8-a946-784c3ba481e0\",\"type\":\"BoxZoomTool\"},{\"attributes\":{},\"id\":\"5a6e35eb-5a03-4634-8d89-78672e3e883c\",\"type\":\"WheelZoomTool\"},{\"attributes\":{},\"id\":\"4aebd287-7e1b-4909-904e-d21768771d46\",\"type\":\"HelpTool\"},{\"attributes\":{\"callback\":null,\"column_names\":[\"x\",\"y\"],\"data\":{\"x\":{\"__ndarray__\":\"AQAAAAIAAAADAAAABAAAAAUAAAAGAAAABwAAAAgAAAAJAAAACgAAAAsAAAAMAAAADQAAAA4AAAAPAAAAEAAAABEAAAASAAAAEwAAABQAAAAVAAAAFgAAABcAAAAYAAAAGQAAABoAAAAbAAAAHAAAAB0AAAAeAAAAHwAAACAAAAAhAAAAIgAAACMAAAAkAAAAJQAAACYAAAAnAAAAKAAAACkAAAAqAAAAKwAAACwAAAAtAAAALgAAAC8AAAAwAAAAMQAAADIAAAAzAAAANAAAADUAAAA2AAAANwAAADgAAAA5AAAAOgAAADsAAAA8AAAAPQAAAD4AAAA/AAAAQAAAAEEAAABCAAAAQwAAAEQAAABFAAAARgAAAEcAAABIAAAASQAAAEoAAABLAAAATAAAAE0AAABOAAAATwAAAFAAAABRAAAAUgAAAFMAAABUAAAAVQAAAFYAAABXAAAAWAAAAFkAAABaAAAA\",\"dtype\":\"int32\",\"shape\":[90]},\"y\":[45.15010070800781,57.44385528564453,62.207759857177734,63.964595794677734,64.64025115966797,64.92052459716797,64.9917221069336,64.98957824707031,64.8937759399414,64.86297607421875,64.72789001464844,64.65362548828125,64.58889770507812,64.51985168457031,64.4142837524414,64.33795928955078,64.28684997558594,64.18175506591797,64.1669692993164,64.10784149169922,64.04440307617188,63.98326110839844,63.988826751708984,63.94239807128906,63.87409591674805,63.8456916809082,63.81119155883789,63.754600524902344,63.74565505981445,63.73651885986328,62.19520568847656,60.64653778076172,59.223236083984375,57.939483642578125,56.79465866088867,55.77432632446289,54.86094284057617,54.05360794067383,53.3420295715332,52.70363998413086,52.1528205871582,51.66324996948242,51.23167037963867,50.848018646240234,50.50403594970703,50.20921325683594,49.93962478637695,49.696163177490234,49.48685073852539,49.29646682739258,49.12630844116211,48.969390869140625,48.83910369873047,48.71574401855469,48.6079216003418,48.50221633911133,48.41305923461914,48.330909729003906,48.25039291381836,48.18047332763672,48.14912033081055,48.111507415771484,48.072994232177734,48.033206939697266,47.995513916015625,47.957923889160156,47.92184829711914,47.885921478271484,47.85010528564453,47.8176383972168,47.78239059448242,47.74848937988281,47.7156867980957,47.685028076171875,47.65245056152344,47.6202392578125,47.590309143066406,47.55997085571289,47.530128479003906,47.50093460083008,47.498226165771484,47.495418548583984,47.49263000488281,47.48985290527344,47.48711395263672,47.48429870605469,47.48146438598633,47.478702545166016,47.47606658935547,47.473201751708984]}},\"id\":\"4324dcb0-5118-4d0d-bd4c-eed48ae01c3a\",\"type\":\"ColumnDataSource\"},{\"attributes\":{},\"id\":\"4fc39499-554f-435b-9594-2b19f3c8bb08\",\"type\":\"SaveTool\"},{\"attributes\":{},\"id\":\"78987277-e0ce-403e-bfd0-e44f24ef5090\",\"type\":\"BasicTicker\"},{\"attributes\":{},\"id\":\"a0a8e6c6-1d26-4956-8aec-ad6b180b6e10\",\"type\":\"PanTool\"},{\"attributes\":{\"line_alpha\":0.1,\"line_color\":\"#1f77b4\",\"line_width\":3,\"x\":{\"field\":\"x\"},\"y\":{\"field\":\"y\"}},\"id\":\"aad64288-8727-432a-8390-9bf84163cdb6\",\"type\":\"Line\"},{\"attributes\":{\"source\":{\"id\":\"4324dcb0-5118-4d0d-bd4c-eed48ae01c3a\",\"type\":\"ColumnDataSource\"}},\"id\":\"ca133cbc-0e56-4c83-b0e8-867f56677192\",\"type\":\"CDSView\"},{\"attributes\":{\"data_source\":{\"id\":\"4324dcb0-5118-4d0d-bd4c-eed48ae01c3a\",\"type\":\"ColumnDataSource\"},\"glyph\":{\"id\":\"477a380b-90c4-4f53-b0cd-0464ae24a4d7\",\"type\":\"Line\"},\"hover_glyph\":null,\"muted_glyph\":null,\"nonselection_glyph\":{\"id\":\"aad64288-8727-432a-8390-9bf84163cdb6\",\"type\":\"Line\"},\"selection_glyph\":null,\"view\":{\"id\":\"ca133cbc-0e56-4c83-b0e8-867f56677192\",\"type\":\"CDSView\"}},\"id\":\"a9b4d051-5e7a-4b33-bfa5-de7c25adb263\",\"type\":\"GlyphRenderer\"},{\"attributes\":{\"click_policy\":\"hide\",\"items\":[{\"id\":\"e6255a31-7fb2-4c9f-84de-9bb5f2e61e37\",\"type\":\"LegendItem\"},{\"id\":\"3bec4274-5942-4e4c-ac4a-59f82eb101e4\",\"type\":\"LegendItem\"},{\"id\":\"f509d706-d31f-4599-bde4-db8d9dd0a3f1\",\"type\":\"LegendItem\"}],\"location\":\"top_left\",\"plot\":{\"id\":\"e750c611-6bae-4d6f-bb36-5c7483723cb7\",\"subtype\":\"Figure\",\"type\":\"Plot\"}},\"id\":\"7ebe9265-9e88-43b3-b695-e40cfa94bfe0\",\"type\":\"Legend\"},{\"attributes\":{},\"id\":\"ae7195c2-3d96-453b-8a4e-a628c2daf9d2\",\"type\":\"BasicTickFormatter\"},{\"attributes\":{},\"id\":\"4ff6ff8c-72f9-47ea-beb5-005450501f65\",\"type\":\"BasicTickFormatter\"},{\"attributes\":{\"label\":{\"value\":\"train - 256_1\"},\"renderers\":[{\"id\":\"a9b4d051-5e7a-4b33-bfa5-de7c25adb263\",\"type\":\"GlyphRenderer\"}]},\"id\":\"e6255a31-7fb2-4c9f-84de-9bb5f2e61e37\",\"type\":\"LegendItem\"},{\"attributes\":{},\"id\":\"cddf6ab9-aa6d-4af5-857f-8a1ddf9b9c92\",\"type\":\"LinearScale\"},{\"attributes\":{\"callback\":null},\"id\":\"0cb09d01-073e-4682-85f1-366505b57b36\",\"type\":\"DataRange1d\"}],\"root_ids\":[\"e750c611-6bae-4d6f-bb36-5c7483723cb7\"]},\"title\":\"Bokeh Application\",\"version\":\"0.12.13\"}};\n",
       "  var render_items = [{\"docid\":\"e2cc2285-0b53-474a-85d1-b263f46374d8\",\"elementid\":\"ae54ca65-e790-45a6-9c48-fa5ab456f453\",\"modelid\":\"e750c611-6bae-4d6f-bb36-5c7483723cb7\"}];\n",
       "  root.Bokeh.embed.embed_items_notebook(docs_json, render_items);\n",
       "\n",
       "  }\n",
       "  if (root.Bokeh !== undefined) {\n",
       "    embed_document(root);\n",
       "  } else {\n",
       "    var attempts = 0;\n",
       "    var timer = setInterval(function(root) {\n",
       "      if (root.Bokeh !== undefined) {\n",
       "        embed_document(root);\n",
       "        clearInterval(timer);\n",
       "      }\n",
       "      attempts++;\n",
       "      if (attempts > 100) {\n",
       "        console.log(\"Bokeh: ERROR: Unable to run BokehJS code because BokehJS library is missing\")\n",
       "        clearInterval(timer);\n",
       "      }\n",
       "    }, 10, root)\n",
       "  }\n",
       "})(window);"
      ],
      "application/vnd.bokehjs_exec.v0+json": ""
     },
     "metadata": {
      "application/vnd.bokehjs_exec.v0+json": {
       "id": "e750c611-6bae-4d6f-bb36-5c7483723cb7"
      }
     },
     "output_type": "display_data"
    }
   ],
   "source": [
    "show(plots[2])"
   ]
  },
  {
   "cell_type": "code",
   "execution_count": 10,
   "metadata": {},
   "outputs": [
    {
     "data": {
      "text/html": [
       "\n",
       "<div class=\"bk-root\">\n",
       "    <div class=\"bk-plotdiv\" id=\"fadac6ec-873e-428f-9c7b-31caf14b78d4\"></div>\n",
       "</div>"
      ]
     },
     "metadata": {},
     "output_type": "display_data"
    },
    {
     "data": {
      "application/javascript": [
       "(function(root) {\n",
       "  function embed_document(root) {\n",
       "    \n",
       "  var docs_json = {\"7d49ea1e-958a-46d4-b8d0-f231d689deab\":{\"roots\":{\"references\":[{\"attributes\":{\"click_policy\":\"hide\",\"items\":[{\"id\":\"668894f2-c998-4ead-b5b3-c049c58f0b20\",\"type\":\"LegendItem\"},{\"id\":\"1bb447f1-fb40-4d68-9840-c93069e70e60\",\"type\":\"LegendItem\"},{\"id\":\"32d64446-bce4-4ead-953c-c73c83fc2f03\",\"type\":\"LegendItem\"}],\"location\":\"bottom_left\",\"plot\":{\"id\":\"06e79b20-ae7e-4494-afe9-3a74515b7c6e\",\"subtype\":\"Figure\",\"type\":\"Plot\"}},\"id\":\"a3f65e4a-b381-4392-850d-78faca02e627\",\"type\":\"Legend\"},{\"attributes\":{\"label\":{\"value\":\"train - 256_1\"},\"renderers\":[{\"id\":\"b8953f7c-3fbb-4d1f-81ec-79a39d0cad80\",\"type\":\"GlyphRenderer\"}]},\"id\":\"668894f2-c998-4ead-b5b3-c049c58f0b20\",\"type\":\"LegendItem\"},{\"attributes\":{},\"id\":\"cae1b4f8-55b2-4c16-a2e4-e907ac265fa2\",\"type\":\"WheelZoomTool\"},{\"attributes\":{\"line_alpha\":0.1,\"line_color\":\"#1f77b4\",\"line_width\":3,\"x\":{\"field\":\"x\"},\"y\":{\"field\":\"y\"}},\"id\":\"59feab86-07e0-4482-b800-209122a244db\",\"type\":\"Line\"},{\"attributes\":{\"label\":{\"value\":\"train - 256_32\"},\"renderers\":[{\"id\":\"91b33315-4bdc-4cc2-9344-9c09947d4864\",\"type\":\"GlyphRenderer\"}]},\"id\":\"32d64446-bce4-4ead-953c-c73c83fc2f03\",\"type\":\"LegendItem\"},{\"attributes\":{\"data_source\":{\"id\":\"9efd6bb7-16c4-4dd3-9dab-c244c07b674e\",\"type\":\"ColumnDataSource\"},\"glyph\":{\"id\":\"a209153b-846e-4217-8078-e933c1d38d3b\",\"type\":\"Line\"},\"hover_glyph\":null,\"muted_glyph\":null,\"nonselection_glyph\":{\"id\":\"59feab86-07e0-4482-b800-209122a244db\",\"type\":\"Line\"},\"selection_glyph\":null,\"view\":{\"id\":\"5d96857d-d1eb-45da-9026-d30a9044c4d7\",\"type\":\"CDSView\"}},\"id\":\"91b33315-4bdc-4cc2-9344-9c09947d4864\",\"type\":\"GlyphRenderer\"},{\"attributes\":{\"source\":{\"id\":\"9efd6bb7-16c4-4dd3-9dab-c244c07b674e\",\"type\":\"ColumnDataSource\"}},\"id\":\"5d96857d-d1eb-45da-9026-d30a9044c4d7\",\"type\":\"CDSView\"},{\"attributes\":{},\"id\":\"7b4840e2-8b96-4348-8671-288d3b597a30\",\"type\":\"PanTool\"},{\"attributes\":{\"bottom_units\":\"screen\",\"fill_alpha\":{\"value\":0.5},\"fill_color\":{\"value\":\"lightgrey\"},\"left_units\":\"screen\",\"level\":\"overlay\",\"line_alpha\":{\"value\":1.0},\"line_color\":{\"value\":\"black\"},\"line_dash\":[4,4],\"line_width\":{\"value\":2},\"plot\":null,\"render_mode\":\"css\",\"right_units\":\"screen\",\"top_units\":\"screen\"},\"id\":\"7e961880-0417-4390-a38c-41d059c003e6\",\"type\":\"BoxAnnotation\"},{\"attributes\":{},\"id\":\"4d8b0bc4-5df0-4b92-81b0-53fb44c1cd6c\",\"type\":\"SaveTool\"},{\"attributes\":{\"line_color\":\"#ff7f0e\",\"line_width\":3,\"x\":{\"field\":\"x\"},\"y\":{\"field\":\"y\"}},\"id\":\"832c9cec-8299-4316-92e2-077a4bbe0303\",\"type\":\"Line\"},{\"attributes\":{\"callback\":null,\"column_names\":[\"x\",\"y\"],\"data\":{\"x\":{\"__ndarray__\":\"AQAAAAIAAAADAAAABAAAAAUAAAAGAAAABwAAAAgAAAAJAAAACgAAAAsAAAAMAAAADQAAAA4AAAAPAAAAEAAAABEAAAASAAAAEwAAABQAAAAVAAAAFgAAABcAAAAYAAAAGQAAABoAAAAbAAAAHAAAAB0AAAAeAAAAHwAAACAAAAAhAAAAIgAAACMAAAAkAAAAJQAAACYAAAAnAAAAKAAAACkAAAAqAAAAKwAAACwAAAAtAAAALgAAAC8AAAAwAAAAMQAAADIAAAAzAAAANAAAADUAAAA2AAAANwAAADgAAAA5AAAAOgAAADsAAAA8AAAAPQAAAD4AAAA/AAAAQAAAAEEAAABCAAAAQwAAAEQAAABFAAAARgAAAEcAAABIAAAASQAAAEoAAABLAAAATAAAAE0AAABOAAAATwAAAFAAAABRAAAAUgAAAFMAAABUAAAAVQAAAFYAAABXAAAAWAAAAFkAAABaAAAA\",\"dtype\":\"int32\",\"shape\":[90]},\"y\":[0.8052669167518616,0.06637383997440338,0.1267978996038437,0.18153521418571472,0.20415067672729492,0.21858251094818115,0.20829685032367706,0.20963546633720398,0.2181030958890915,0.21434594690799713,0.230984166264534,0.2077074497938156,0.21395769715309143,0.21339313685894012,0.21833373606204987,0.2006051242351532,0.19825781881809235,0.196157768368721,0.2012500911951065,0.19487372040748596,0.20619332790374756,0.19884979724884033,0.19836702942848206,0.200076162815094,0.20111723244190216,0.19055287539958954,0.19110633432865143,0.20618119835853577,0.19969263672828674,0.19856929779052734,0.15049783885478973,0.15332990884780884,0.15318086743354797,0.15484501421451569,0.16300426423549652,0.1660325676202774,0.1695985049009323,0.17528493702411652,0.1765567660331726,0.1832031011581421,0.18101181089878082,0.18127545714378357,0.18864238262176514,0.18799352645874023,0.1867261677980423,0.18828997015953064,0.19286860525608063,0.19390791654586792,0.19504375755786896,0.19059298932552338,0.1974952518939972,0.2001001238822937,0.20141416788101196,0.19988952577114105,0.2027328908443451,0.20122647285461426,0.2023216038942337,0.1964079886674881,0.19978053867816925,0.20295031368732452,0.17049260437488556,0.16624312102794647,0.1686210334300995,0.16428110003471375,0.16652774810791016,0.17336545884609222,0.17441624402999878,0.1717039942741394,0.16293641924858093,0.1706368774175644,0.1717945784330368,0.17001910507678986,0.1727883368730545,0.170284241437912,0.1658119112253189,0.16484977304935455,0.17207062244415283,0.1721770316362381,0.16351798176765442,0.1629297286272049,0.16586793959140778,0.15774832665920258,0.15761800110340118,0.15855707228183746,0.16055533289909363,0.16705664992332458,0.16705361008644104,0.16335099935531616,0.15965694189071655,0.15704941749572754]}},\"id\":\"f7856845-971a-439b-af94-f3b159a327ad\",\"type\":\"ColumnDataSource\"},{\"attributes\":{\"callback\":null,\"column_names\":[\"x\",\"y\"],\"data\":{\"x\":{\"__ndarray__\":\"AQAAAAIAAAADAAAABAAAAAUAAAAGAAAABwAAAAgAAAAJAAAACgAAAAsAAAAMAAAADQAAAA4AAAAPAAAAEAAAABEAAAASAAAAEwAAABQAAAAVAAAAFgAAABcAAAAYAAAAGQAAABoAAAAbAAAAHAAAAB0AAAAeAAAAHwAAACAAAAAhAAAAIgAAACMAAAAkAAAAJQAAACYAAAAnAAAAKAAAACkAAAAqAAAAKwAAACwAAAAtAAAALgAAAC8AAAAwAAAAMQAAADIAAAAzAAAANAAAADUAAAA2AAAANwAAADgAAAA5AAAAOgAAADsAAAA8AAAAPQAAAD4AAAA/AAAAQAAAAEEAAABCAAAAQwAAAEQAAABFAAAARgAAAEcAAABIAAAASQAAAEoAAABLAAAATAAAAE0AAABOAAAATwAAAFAAAABRAAAAUgAAAFMAAABUAAAAVQAAAFYAAABXAAAAWAAAAFkAAABaAAAA\",\"dtype\":\"int32\",\"shape\":[90]},\"y\":[0.826116144657135,0.6305275559425354,0.5603293180465698,0.5776548385620117,0.5660849809646606,0.6205750107765198,0.6208299398422241,0.6596800684928894,0.6622775197029114,0.7150651216506958,0.7132781147956848,0.7326405644416809,0.7153470516204834,0.7583386301994324,0.7449451684951782,0.7295563817024231,0.7708937525749207,0.7177477478981018,0.7512964606285095,0.7346398234367371,0.738284707069397,0.760417640209198,0.7242952585220337,0.7482939958572388,0.7643463015556335,0.831589937210083,0.7420058846473694,0.7456451058387756,0.7487715482711792,0.7723224759101868,0.8565144538879395,1.0080054998397827,1.0249273777008057,1.0549575090408325,1.1672929525375366,1.2024513483047485,1.287891149520874,1.267886996269226,1.1961274147033691,1.288016676902771,1.3104878664016724,1.291458249092102,1.3133695125579834,1.3275591135025024,1.396555781364441,1.411324381828308,1.4675265550613403,1.362216830253601,1.4003762006759644,1.4298362731933594,1.416244626045227,1.312034010887146,1.4418390989303589,1.3667165040969849,1.4004559516906738,1.34296452999115,1.2896174192428589,1.3091484308242798,1.3709911108016968,1.2898825407028198,1.1866674423217773,1.3966138362884521,1.241007924079895,1.2850757837295532,1.1850897073745728,1.373877763748169,1.181821346282959,1.274670124053955,1.3900372982025146,1.281639575958252,1.2926446199417114,1.327097773551941,1.3420706987380981,1.3725579977035522,1.3509457111358643,1.3722224235534668,1.301905870437622,1.3530856370925903,1.2967984676361084,1.300282597541809,1.3416097164154053,1.345569372177124,1.4354819059371948,1.4362108707427979,1.4155856370925903,1.3185057640075684,1.2473934888839722,1.2848929166793823,1.4746222496032715,1.3698612451553345]}},\"id\":\"9efd6bb7-16c4-4dd3-9dab-c244c07b674e\",\"type\":\"ColumnDataSource\"},{\"attributes\":{\"line_alpha\":0.1,\"line_color\":\"#1f77b4\",\"line_width\":3,\"x\":{\"field\":\"x\"},\"y\":{\"field\":\"y\"}},\"id\":\"150bb563-cd94-41b9-9cf1-9ba346825c32\",\"type\":\"Line\"},{\"attributes\":{\"label\":{\"value\":\"train - 8192_1\"},\"renderers\":[{\"id\":\"c99541ee-6ce5-4eed-b3f4-c2728a22ee0e\",\"type\":\"GlyphRenderer\"}]},\"id\":\"1bb447f1-fb40-4d68-9840-c93069e70e60\",\"type\":\"LegendItem\"},{\"attributes\":{},\"id\":\"b86d169c-5de3-419b-8430-8cc4410584b3\",\"type\":\"LinearScale\"},{\"attributes\":{\"data_source\":{\"id\":\"f7856845-971a-439b-af94-f3b159a327ad\",\"type\":\"ColumnDataSource\"},\"glyph\":{\"id\":\"832c9cec-8299-4316-92e2-077a4bbe0303\",\"type\":\"Line\"},\"hover_glyph\":null,\"muted_glyph\":null,\"nonselection_glyph\":{\"id\":\"150bb563-cd94-41b9-9cf1-9ba346825c32\",\"type\":\"Line\"},\"selection_glyph\":null,\"view\":{\"id\":\"e3cc20e4-f90b-4002-a3c6-67de0d8dd476\",\"type\":\"CDSView\"}},\"id\":\"c99541ee-6ce5-4eed-b3f4-c2728a22ee0e\",\"type\":\"GlyphRenderer\"},{\"attributes\":{\"source\":{\"id\":\"f7856845-971a-439b-af94-f3b159a327ad\",\"type\":\"ColumnDataSource\"}},\"id\":\"e3cc20e4-f90b-4002-a3c6-67de0d8dd476\",\"type\":\"CDSView\"},{\"attributes\":{\"plot\":null,\"text\":\"The Norm of Gradients\"},\"id\":\"1e700ac3-4207-4601-83c9-c84a38db0ad2\",\"type\":\"Title\"},{\"attributes\":{\"overlay\":{\"id\":\"7e961880-0417-4390-a38c-41d059c003e6\",\"type\":\"BoxAnnotation\"}},\"id\":\"8227bbf3-4e20-4db7-b98a-bca4f68a57c8\",\"type\":\"BoxZoomTool\"},{\"attributes\":{\"line_color\":\"#2ca02c\",\"line_width\":3,\"x\":{\"field\":\"x\"},\"y\":{\"field\":\"y\"}},\"id\":\"a209153b-846e-4217-8078-e933c1d38d3b\",\"type\":\"Line\"},{\"attributes\":{\"active_drag\":\"auto\",\"active_inspect\":\"auto\",\"active_scroll\":\"auto\",\"active_tap\":\"auto\",\"tools\":[{\"id\":\"7b4840e2-8b96-4348-8671-288d3b597a30\",\"type\":\"PanTool\"},{\"id\":\"cae1b4f8-55b2-4c16-a2e4-e907ac265fa2\",\"type\":\"WheelZoomTool\"},{\"id\":\"8227bbf3-4e20-4db7-b98a-bca4f68a57c8\",\"type\":\"BoxZoomTool\"},{\"id\":\"4d8b0bc4-5df0-4b92-81b0-53fb44c1cd6c\",\"type\":\"SaveTool\"},{\"id\":\"b24a682d-f2c3-48dc-8641-863d5fda84f0\",\"type\":\"ResetTool\"},{\"id\":\"95ed53bd-b620-45b6-8556-a76cf1584fdf\",\"type\":\"HelpTool\"}]},\"id\":\"fa622fbb-6171-40d4-b222-2836d6a5fb42\",\"type\":\"Toolbar\"},{\"attributes\":{\"axis_label\":\"t [Epochs]\",\"formatter\":{\"id\":\"760c351b-8832-4ed9-abb8-835c3d38d2da\",\"type\":\"BasicTickFormatter\"},\"plot\":{\"id\":\"06e79b20-ae7e-4494-afe9-3a74515b7c6e\",\"subtype\":\"Figure\",\"type\":\"Plot\"},\"ticker\":{\"id\":\"c4e1eaa1-fbc2-4c80-a036-d4261cc99084\",\"type\":\"BasicTicker\"}},\"id\":\"6771fae4-5720-4e53-a1c5-1e487ec93a30\",\"type\":\"LinearAxis\"},{\"attributes\":{\"background_fill_color\":{\"value\":\"#fafafa\"},\"below\":[{\"id\":\"6771fae4-5720-4e53-a1c5-1e487ec93a30\",\"type\":\"LinearAxis\"}],\"left\":[{\"id\":\"2673cd3d-be7a-48a5-859d-80c72e433c2a\",\"type\":\"LogAxis\"}],\"min_border\":10,\"min_border_left\":50,\"renderers\":[{\"id\":\"6771fae4-5720-4e53-a1c5-1e487ec93a30\",\"type\":\"LinearAxis\"},{\"id\":\"8fb705c2-f015-44c7-a539-8886b15fe5cf\",\"type\":\"Grid\"},{\"id\":\"2673cd3d-be7a-48a5-859d-80c72e433c2a\",\"type\":\"LogAxis\"},{\"id\":\"035a4dc6-bcaf-4c32-8d9b-52598257fd7b\",\"type\":\"Grid\"},{\"id\":\"7e961880-0417-4390-a38c-41d059c003e6\",\"type\":\"BoxAnnotation\"},{\"id\":\"a3f65e4a-b381-4392-850d-78faca02e627\",\"type\":\"Legend\"},{\"id\":\"b8953f7c-3fbb-4d1f-81ec-79a39d0cad80\",\"type\":\"GlyphRenderer\"},{\"id\":\"c99541ee-6ce5-4eed-b3f4-c2728a22ee0e\",\"type\":\"GlyphRenderer\"},{\"id\":\"91b33315-4bdc-4cc2-9344-9c09947d4864\",\"type\":\"GlyphRenderer\"}],\"title\":{\"id\":\"1e700ac3-4207-4601-83c9-c84a38db0ad2\",\"type\":\"Title\"},\"toolbar\":{\"id\":\"fa622fbb-6171-40d4-b222-2836d6a5fb42\",\"type\":\"Toolbar\"},\"x_range\":{\"id\":\"faf47d99-4788-4193-81c6-561ccf9b03c4\",\"type\":\"DataRange1d\"},\"x_scale\":{\"id\":\"b86d169c-5de3-419b-8430-8cc4410584b3\",\"type\":\"LinearScale\"},\"y_range\":{\"id\":\"416923b7-d350-4935-85cc-de9d52d9d94c\",\"type\":\"DataRange1d\"},\"y_scale\":{\"id\":\"3266c5a1-9289-4f66-a2f6-d37edc9c543b\",\"type\":\"LogScale\"}},\"id\":\"06e79b20-ae7e-4494-afe9-3a74515b7c6e\",\"subtype\":\"Figure\",\"type\":\"Plot\"},{\"attributes\":{},\"id\":\"3266c5a1-9289-4f66-a2f6-d37edc9c543b\",\"type\":\"LogScale\"},{\"attributes\":{\"num_minor_ticks\":10},\"id\":\"c43590ea-b85f-4686-b94b-ff345326569f\",\"type\":\"LogTicker\"},{\"attributes\":{},\"id\":\"760c351b-8832-4ed9-abb8-835c3d38d2da\",\"type\":\"BasicTickFormatter\"},{\"attributes\":{\"callback\":null},\"id\":\"faf47d99-4788-4193-81c6-561ccf9b03c4\",\"type\":\"DataRange1d\"},{\"attributes\":{\"plot\":{\"id\":\"06e79b20-ae7e-4494-afe9-3a74515b7c6e\",\"subtype\":\"Figure\",\"type\":\"Plot\"},\"ticker\":{\"id\":\"c4e1eaa1-fbc2-4c80-a036-d4261cc99084\",\"type\":\"BasicTicker\"}},\"id\":\"8fb705c2-f015-44c7-a539-8886b15fe5cf\",\"type\":\"Grid\"},{\"attributes\":{},\"id\":\"95ed53bd-b620-45b6-8556-a76cf1584fdf\",\"type\":\"HelpTool\"},{\"attributes\":{\"dimension\":1,\"plot\":{\"id\":\"06e79b20-ae7e-4494-afe9-3a74515b7c6e\",\"subtype\":\"Figure\",\"type\":\"Plot\"},\"ticker\":{\"id\":\"c43590ea-b85f-4686-b94b-ff345326569f\",\"type\":\"LogTicker\"}},\"id\":\"035a4dc6-bcaf-4c32-8d9b-52598257fd7b\",\"type\":\"Grid\"},{\"attributes\":{\"callback\":null},\"id\":\"416923b7-d350-4935-85cc-de9d52d9d94c\",\"type\":\"DataRange1d\"},{\"attributes\":{},\"id\":\"b24a682d-f2c3-48dc-8641-863d5fda84f0\",\"type\":\"ResetTool\"},{\"attributes\":{\"source\":{\"id\":\"0fa0191b-6304-45fc-ae5e-486f4dd01412\",\"type\":\"ColumnDataSource\"}},\"id\":\"5055c662-aa7f-4125-adbf-bca48b564e5e\",\"type\":\"CDSView\"},{\"attributes\":{\"ticker\":null},\"id\":\"bf58d54a-9805-47fc-9312-f7cd7041b608\",\"type\":\"LogTickFormatter\"},{\"attributes\":{\"data_source\":{\"id\":\"0fa0191b-6304-45fc-ae5e-486f4dd01412\",\"type\":\"ColumnDataSource\"},\"glyph\":{\"id\":\"6fc5dbc8-1e89-4ddc-bd92-2530558a9f5b\",\"type\":\"Line\"},\"hover_glyph\":null,\"muted_glyph\":null,\"nonselection_glyph\":{\"id\":\"aaa0ecca-bef6-44cf-a90b-5a7b81b77b4b\",\"type\":\"Line\"},\"selection_glyph\":null,\"view\":{\"id\":\"5055c662-aa7f-4125-adbf-bca48b564e5e\",\"type\":\"CDSView\"}},\"id\":\"b8953f7c-3fbb-4d1f-81ec-79a39d0cad80\",\"type\":\"GlyphRenderer\"},{\"attributes\":{},\"id\":\"c4e1eaa1-fbc2-4c80-a036-d4261cc99084\",\"type\":\"BasicTicker\"},{\"attributes\":{\"axis_label\":\"||g||\",\"formatter\":{\"id\":\"bf58d54a-9805-47fc-9312-f7cd7041b608\",\"type\":\"LogTickFormatter\"},\"plot\":{\"id\":\"06e79b20-ae7e-4494-afe9-3a74515b7c6e\",\"subtype\":\"Figure\",\"type\":\"Plot\"},\"ticker\":{\"id\":\"c43590ea-b85f-4686-b94b-ff345326569f\",\"type\":\"LogTicker\"}},\"id\":\"2673cd3d-be7a-48a5-859d-80c72e433c2a\",\"type\":\"LogAxis\"},{\"attributes\":{\"callback\":null,\"column_names\":[\"x\",\"y\"],\"data\":{\"x\":{\"__ndarray__\":\"AQAAAAIAAAADAAAABAAAAAUAAAAGAAAABwAAAAgAAAAJAAAACgAAAAsAAAAMAAAADQAAAA4AAAAPAAAAEAAAABEAAAASAAAAEwAAABQAAAAVAAAAFgAAABcAAAAYAAAAGQAAABoAAAAbAAAAHAAAAB0AAAAeAAAAHwAAACAAAAAhAAAAIgAAACMAAAAkAAAAJQAAACYAAAAnAAAAKAAAACkAAAAqAAAAKwAAACwAAAAtAAAALgAAAC8AAAAwAAAAMQAAADIAAAAzAAAANAAAADUAAAA2AAAANwAAADgAAAA5AAAAOgAAADsAAAA8AAAAPQAAAD4AAAA/AAAAQAAAAEEAAABCAAAAQwAAAEQAAABFAAAARgAAAEcAAABIAAAASQAAAEoAAABLAAAATAAAAE0AAABOAAAATwAAAFAAAABRAAAAUgAAAFMAAABUAAAAVQAAAFYAAABXAAAAWAAAAFkAAABaAAAA\",\"dtype\":\"int32\",\"shape\":[90]},\"y\":[1.0720832347869873,1.046262264251709,0.9810971617698669,1.0502018928527832,1.0057874917984009,1.0306391716003418,0.9919623136520386,1.044485092163086,0.9945416450500488,0.9994291663169861,0.9742326140403748,0.9893206357955933,0.9695238471031189,0.9384915232658386,0.9116461277008057,0.9235806465148926,0.9657092690467834,1.0414764881134033,0.9841756820678711,0.9319056272506714,1.0023918151855469,1.0310378074645996,0.9156519174575806,1.062940239906311,0.9665552973747253,1.0307365655899048,0.9897633790969849,0.9425973296165466,0.9445832967758179,0.9873455762863159,0.9708176851272583,0.9947238564491272,0.9652611613273621,1.058058500289917,1.1021126508712769,1.225977897644043,1.14321768283844,1.1661431789398193,1.0904126167297363,1.2746080160140991,1.2021820545196533,1.2831554412841797,1.3020776510238647,1.248833417892456,1.2470918893814087,1.310349941253662,1.3763601779937744,1.2763526439666748,1.3846036195755005,1.368672251701355,1.4395655393600464,1.3234230279922485,1.3436126708984375,1.3243006467819214,1.3692712783813477,1.350646734237671,1.44724702835083,1.3868128061294556,1.295972228050232,1.3175138235092163,1.3351713418960571,1.3179965019226074,1.265212059020996,1.260643720626831,1.1894770860671997,1.2761244773864746,1.350995659828186,1.249558687210083,0.9703543782234192,1.245458960533142,1.334719181060791,1.1114253997802734,1.2283192873001099,1.2657257318496704,1.2888942956924438,1.2841520309448242,1.311696171760559,1.266321063041687,1.1994271278381348,1.2494308948516846,1.2375448942184448,1.2362529039382935,1.2344961166381836,1.2889331579208374,1.1551986932754517,1.2492018938064575,1.196997880935669,1.2975897789001465,1.2088598012924194,1.275367259979248]}},\"id\":\"0fa0191b-6304-45fc-ae5e-486f4dd01412\",\"type\":\"ColumnDataSource\"},{\"attributes\":{\"line_color\":\"#1f77b4\",\"line_width\":3,\"x\":{\"field\":\"x\"},\"y\":{\"field\":\"y\"}},\"id\":\"6fc5dbc8-1e89-4ddc-bd92-2530558a9f5b\",\"type\":\"Line\"},{\"attributes\":{\"line_alpha\":0.1,\"line_color\":\"#1f77b4\",\"line_width\":3,\"x\":{\"field\":\"x\"},\"y\":{\"field\":\"y\"}},\"id\":\"aaa0ecca-bef6-44cf-a90b-5a7b81b77b4b\",\"type\":\"Line\"}],\"root_ids\":[\"06e79b20-ae7e-4494-afe9-3a74515b7c6e\"]},\"title\":\"Bokeh Application\",\"version\":\"0.12.13\"}};\n",
       "  var render_items = [{\"docid\":\"7d49ea1e-958a-46d4-b8d0-f231d689deab\",\"elementid\":\"fadac6ec-873e-428f-9c7b-31caf14b78d4\",\"modelid\":\"06e79b20-ae7e-4494-afe9-3a74515b7c6e\"}];\n",
       "  root.Bokeh.embed.embed_items_notebook(docs_json, render_items);\n",
       "\n",
       "  }\n",
       "  if (root.Bokeh !== undefined) {\n",
       "    embed_document(root);\n",
       "  } else {\n",
       "    var attempts = 0;\n",
       "    var timer = setInterval(function(root) {\n",
       "      if (root.Bokeh !== undefined) {\n",
       "        embed_document(root);\n",
       "        clearInterval(timer);\n",
       "      }\n",
       "      attempts++;\n",
       "      if (attempts > 100) {\n",
       "        console.log(\"Bokeh: ERROR: Unable to run BokehJS code because BokehJS library is missing\")\n",
       "        clearInterval(timer);\n",
       "      }\n",
       "    }, 10, root)\n",
       "  }\n",
       "})(window);"
      ],
      "application/vnd.bokehjs_exec.v0+json": ""
     },
     "metadata": {
      "application/vnd.bokehjs_exec.v0+json": {
       "id": "06e79b20-ae7e-4494-afe9-3a74515b7c6e"
      }
     },
     "output_type": "display_data"
    }
   ],
   "source": [
    "show(plots[3])"
   ]
  },
  {
   "cell_type": "code",
   "execution_count": null,
   "metadata": {
    "collapsed": true
   },
   "outputs": [],
   "source": []
  }
 ],
 "metadata": {
  "kernelspec": {
   "display_name": "Python 3",
   "language": "python",
   "name": "python3"
  },
  "language_info": {
   "codemirror_mode": {
    "name": "ipython",
    "version": 3
   },
   "file_extension": ".py",
   "mimetype": "text/x-python",
   "name": "python",
   "nbconvert_exporter": "python",
   "pygments_lexer": "ipython3",
   "version": "3.6.1"
  }
 },
 "nbformat": 4,
 "nbformat_minor": 1
}
