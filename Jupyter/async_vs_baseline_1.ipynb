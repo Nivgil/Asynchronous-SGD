{
 "cells": [
  {
   "cell_type": "raw",
   "metadata": {},
   "source": [
    "<script>\n",
    "  jQuery(document).ready(function($) {  \n",
    "  \n",
    "  $(window).on('load', function(){\n",
    "    $('#preloader').fadeOut('slow',function(){$(this).remove();});\n",
    "  });\n",
    "  \n",
    "  });\n",
    "</script>\n",
    "\n",
    "<style type=\"text/css\">\n",
    "  div#preloader { position: fixed; \n",
    "      left: 0; \n",
    "      top: 0; \n",
    "      z-index: 999; \n",
    "      width: 100%; \n",
    "      height: 100%; \n",
    "      overflow: visible; \n",
    "      background: #fff url('http://preloaders.net/preloaders/720/Moving%20line.gif') no-repeat center center; \n",
    "  }\n",
    "\n",
    "</style>\n",
    "\n",
    "<div id=\"preloader\">\n",
    "\n",
    "</div>"
   ]
  },
  {
   "cell_type": "raw",
   "metadata": {},
   "source": [
    "<script>\n",
    "  function code_toggle() {\n",
    "    if (code_shown){\n",
    "      $('div.input').hide('500');\n",
    "      $('#toggleButton').val('Show Code')\n",
    "    } else {\n",
    "      $('div.input').show('500');\n",
    "      $('#toggleButton').val('Hide Code')\n",
    "    }\n",
    "    code_shown = !code_shown\n",
    "  } \n",
    "  \n",
    "  $( document ).ready(function(){\n",
    "    code_shown=false; \n",
    "    $('div.input').hide()\n",
    "  });\n",
    "</script>\n",
    "<form action=\"javascript:code_toggle()\"><input type=\"submit\" id=\"toggleButton\" value=\"Show Code\"></form>"
   ]
  },
  {
   "cell_type": "markdown",
   "metadata": {},
   "source": [
    "<h1 style=\"text-align: center;\" markdown=\"1\"> ImageNet - Fast Training Regime</h1>\n",
    "<h2 style=\"text-align: center;\" markdown=\"1\"> Resnet 50</h2>"
   ]
  },
  {
   "cell_type": "code",
   "execution_count": 1,
   "metadata": {
    "scrolled": false
   },
   "outputs": [
    {
     "data": {
      "text/html": [
       "\n",
       "    <div class=\"bk-root\">\n",
       "        <a href=\"https://bokeh.pydata.org\" target=\"_blank\" class=\"bk-logo bk-logo-small bk-logo-notebook\"></a>\n",
       "        <span id=\"bda4f624-7d1f-4638-888f-85922add126b\">Loading BokehJS ...</span>\n",
       "    </div>"
      ]
     },
     "metadata": {},
     "output_type": "display_data"
    },
    {
     "data": {
      "application/javascript": [
       "\n",
       "(function(root) {\n",
       "  function now() {\n",
       "    return new Date();\n",
       "  }\n",
       "\n",
       "  var force = true;\n",
       "\n",
       "  if (typeof (root._bokeh_onload_callbacks) === \"undefined\" || force === true) {\n",
       "    root._bokeh_onload_callbacks = [];\n",
       "    root._bokeh_is_loading = undefined;\n",
       "  }\n",
       "\n",
       "  var JS_MIME_TYPE = 'application/javascript';\n",
       "  var HTML_MIME_TYPE = 'text/html';\n",
       "  var EXEC_MIME_TYPE = 'application/vnd.bokehjs_exec.v0+json';\n",
       "  var CLASS_NAME = 'output_bokeh rendered_html';\n",
       "\n",
       "  /**\n",
       "   * Render data to the DOM node\n",
       "   */\n",
       "  function render(props, node) {\n",
       "    var script = document.createElement(\"script\");\n",
       "    node.appendChild(script);\n",
       "  }\n",
       "\n",
       "  /**\n",
       "   * Handle when an output is cleared or removed\n",
       "   */\n",
       "  function handleClearOutput(event, handle) {\n",
       "    var cell = handle.cell;\n",
       "\n",
       "    var id = cell.output_area._bokeh_element_id;\n",
       "    var server_id = cell.output_area._bokeh_server_id;\n",
       "    // Clean up Bokeh references\n",
       "    if (id !== undefined) {\n",
       "      Bokeh.index[id].model.document.clear();\n",
       "      delete Bokeh.index[id];\n",
       "    }\n",
       "\n",
       "    if (server_id !== undefined) {\n",
       "      // Clean up Bokeh references\n",
       "      var cmd = \"from bokeh.io.state import curstate; print(curstate().uuid_to_server['\" + server_id + \"'].get_sessions()[0].document.roots[0]._id)\";\n",
       "      cell.notebook.kernel.execute(cmd, {\n",
       "        iopub: {\n",
       "          output: function(msg) {\n",
       "            var element_id = msg.content.text.trim();\n",
       "            Bokeh.index[element_id].model.document.clear();\n",
       "            delete Bokeh.index[element_id];\n",
       "          }\n",
       "        }\n",
       "      });\n",
       "      // Destroy server and session\n",
       "      var cmd = \"import bokeh.io.notebook as ion; ion.destroy_server('\" + server_id + \"')\";\n",
       "      cell.notebook.kernel.execute(cmd);\n",
       "    }\n",
       "  }\n",
       "\n",
       "  /**\n",
       "   * Handle when a new output is added\n",
       "   */\n",
       "  function handleAddOutput(event, handle) {\n",
       "    var output_area = handle.output_area;\n",
       "    var output = handle.output;\n",
       "\n",
       "    // limit handleAddOutput to display_data with EXEC_MIME_TYPE content only\n",
       "    if ((output.output_type != \"display_data\") || (!output.data.hasOwnProperty(EXEC_MIME_TYPE))) {\n",
       "      return\n",
       "    }\n",
       "\n",
       "    var toinsert = output_area.element.find(\".\" + CLASS_NAME.split(' ')[0]);\n",
       "\n",
       "    if (output.metadata[EXEC_MIME_TYPE][\"id\"] !== undefined) {\n",
       "      toinsert[0].firstChild.textContent = output.data[JS_MIME_TYPE];\n",
       "      // store reference to embed id on output_area\n",
       "      output_area._bokeh_element_id = output.metadata[EXEC_MIME_TYPE][\"id\"];\n",
       "    }\n",
       "    if (output.metadata[EXEC_MIME_TYPE][\"server_id\"] !== undefined) {\n",
       "      var bk_div = document.createElement(\"div\");\n",
       "      bk_div.innerHTML = output.data[HTML_MIME_TYPE];\n",
       "      var script_attrs = bk_div.children[0].attributes;\n",
       "      for (var i = 0; i < script_attrs.length; i++) {\n",
       "        toinsert[0].firstChild.setAttribute(script_attrs[i].name, script_attrs[i].value);\n",
       "      }\n",
       "      // store reference to server id on output_area\n",
       "      output_area._bokeh_server_id = output.metadata[EXEC_MIME_TYPE][\"server_id\"];\n",
       "    }\n",
       "  }\n",
       "\n",
       "  function register_renderer(events, OutputArea) {\n",
       "\n",
       "    function append_mime(data, metadata, element) {\n",
       "      // create a DOM node to render to\n",
       "      var toinsert = this.create_output_subarea(\n",
       "        metadata,\n",
       "        CLASS_NAME,\n",
       "        EXEC_MIME_TYPE\n",
       "      );\n",
       "      this.keyboard_manager.register_events(toinsert);\n",
       "      // Render to node\n",
       "      var props = {data: data, metadata: metadata[EXEC_MIME_TYPE]};\n",
       "      render(props, toinsert[0]);\n",
       "      element.append(toinsert);\n",
       "      return toinsert\n",
       "    }\n",
       "\n",
       "    /* Handle when an output is cleared or removed */\n",
       "    events.on('clear_output.CodeCell', handleClearOutput);\n",
       "    events.on('delete.Cell', handleClearOutput);\n",
       "\n",
       "    /* Handle when a new output is added */\n",
       "    events.on('output_added.OutputArea', handleAddOutput);\n",
       "\n",
       "    /**\n",
       "     * Register the mime type and append_mime function with output_area\n",
       "     */\n",
       "    OutputArea.prototype.register_mime_type(EXEC_MIME_TYPE, append_mime, {\n",
       "      /* Is output safe? */\n",
       "      safe: true,\n",
       "      /* Index of renderer in `output_area.display_order` */\n",
       "      index: 0\n",
       "    });\n",
       "  }\n",
       "\n",
       "  // register the mime type if in Jupyter Notebook environment and previously unregistered\n",
       "  if (root.Jupyter !== undefined) {\n",
       "    var events = require('base/js/events');\n",
       "    var OutputArea = require('notebook/js/outputarea').OutputArea;\n",
       "\n",
       "    if (OutputArea.prototype.mime_types().indexOf(EXEC_MIME_TYPE) == -1) {\n",
       "      register_renderer(events, OutputArea);\n",
       "    }\n",
       "  }\n",
       "\n",
       "  \n",
       "  if (typeof (root._bokeh_timeout) === \"undefined\" || force === true) {\n",
       "    root._bokeh_timeout = Date.now() + 5000;\n",
       "    root._bokeh_failed_load = false;\n",
       "  }\n",
       "\n",
       "  var NB_LOAD_WARNING = {'data': {'text/html':\n",
       "     \"<div style='background-color: #fdd'>\\n\"+\n",
       "     \"<p>\\n\"+\n",
       "     \"BokehJS does not appear to have successfully loaded. If loading BokehJS from CDN, this \\n\"+\n",
       "     \"may be due to a slow or bad network connection. Possible fixes:\\n\"+\n",
       "     \"</p>\\n\"+\n",
       "     \"<ul>\\n\"+\n",
       "     \"<li>re-rerun `output_notebook()` to attempt to load from CDN again, or</li>\\n\"+\n",
       "     \"<li>use INLINE resources instead, as so:</li>\\n\"+\n",
       "     \"</ul>\\n\"+\n",
       "     \"<code>\\n\"+\n",
       "     \"from bokeh.resources import INLINE\\n\"+\n",
       "     \"output_notebook(resources=INLINE)\\n\"+\n",
       "     \"</code>\\n\"+\n",
       "     \"</div>\"}};\n",
       "\n",
       "  function display_loaded() {\n",
       "    var el = document.getElementById(\"bda4f624-7d1f-4638-888f-85922add126b\");\n",
       "    if (el != null) {\n",
       "      el.textContent = \"BokehJS is loading...\";\n",
       "    }\n",
       "    if (root.Bokeh !== undefined) {\n",
       "      if (el != null) {\n",
       "        el.textContent = \"BokehJS \" + root.Bokeh.version + \" successfully loaded.\";\n",
       "      }\n",
       "    } else if (Date.now() < root._bokeh_timeout) {\n",
       "      setTimeout(display_loaded, 100)\n",
       "    }\n",
       "  }\n",
       "\n",
       "\n",
       "  function run_callbacks() {\n",
       "    try {\n",
       "      root._bokeh_onload_callbacks.forEach(function(callback) { callback() });\n",
       "    }\n",
       "    finally {\n",
       "      delete root._bokeh_onload_callbacks\n",
       "    }\n",
       "    console.info(\"Bokeh: all callbacks have finished\");\n",
       "  }\n",
       "\n",
       "  function load_libs(js_urls, callback) {\n",
       "    root._bokeh_onload_callbacks.push(callback);\n",
       "    if (root._bokeh_is_loading > 0) {\n",
       "      console.log(\"Bokeh: BokehJS is being loaded, scheduling callback at\", now());\n",
       "      return null;\n",
       "    }\n",
       "    if (js_urls == null || js_urls.length === 0) {\n",
       "      run_callbacks();\n",
       "      return null;\n",
       "    }\n",
       "    console.log(\"Bokeh: BokehJS not loaded, scheduling load and callback at\", now());\n",
       "    root._bokeh_is_loading = js_urls.length;\n",
       "    for (var i = 0; i < js_urls.length; i++) {\n",
       "      var url = js_urls[i];\n",
       "      var s = document.createElement('script');\n",
       "      s.src = url;\n",
       "      s.async = false;\n",
       "      s.onreadystatechange = s.onload = function() {\n",
       "        root._bokeh_is_loading--;\n",
       "        if (root._bokeh_is_loading === 0) {\n",
       "          console.log(\"Bokeh: all BokehJS libraries loaded\");\n",
       "          run_callbacks()\n",
       "        }\n",
       "      };\n",
       "      s.onerror = function() {\n",
       "        console.warn(\"failed to load library \" + url);\n",
       "      };\n",
       "      console.log(\"Bokeh: injecting script tag for BokehJS library: \", url);\n",
       "      document.getElementsByTagName(\"head\")[0].appendChild(s);\n",
       "    }\n",
       "  };var element = document.getElementById(\"bda4f624-7d1f-4638-888f-85922add126b\");\n",
       "  if (element == null) {\n",
       "    console.log(\"Bokeh: ERROR: autoload.js configured with elementid 'bda4f624-7d1f-4638-888f-85922add126b' but no matching script tag was found. \")\n",
       "    return false;\n",
       "  }\n",
       "\n",
       "  var js_urls = [\"https://cdn.pydata.org/bokeh/release/bokeh-0.12.13.min.js\", \"https://cdn.pydata.org/bokeh/release/bokeh-widgets-0.12.13.min.js\", \"https://cdn.pydata.org/bokeh/release/bokeh-tables-0.12.13.min.js\", \"https://cdn.pydata.org/bokeh/release/bokeh-gl-0.12.13.min.js\"];\n",
       "\n",
       "  var inline_js = [\n",
       "    function(Bokeh) {\n",
       "      Bokeh.set_log_level(\"info\");\n",
       "    },\n",
       "    \n",
       "    function(Bokeh) {\n",
       "      \n",
       "    },\n",
       "    function(Bokeh) {\n",
       "      console.log(\"Bokeh: injecting CSS: https://cdn.pydata.org/bokeh/release/bokeh-0.12.13.min.css\");\n",
       "      Bokeh.embed.inject_css(\"https://cdn.pydata.org/bokeh/release/bokeh-0.12.13.min.css\");\n",
       "      console.log(\"Bokeh: injecting CSS: https://cdn.pydata.org/bokeh/release/bokeh-widgets-0.12.13.min.css\");\n",
       "      Bokeh.embed.inject_css(\"https://cdn.pydata.org/bokeh/release/bokeh-widgets-0.12.13.min.css\");\n",
       "      console.log(\"Bokeh: injecting CSS: https://cdn.pydata.org/bokeh/release/bokeh-tables-0.12.13.min.css\");\n",
       "      Bokeh.embed.inject_css(\"https://cdn.pydata.org/bokeh/release/bokeh-tables-0.12.13.min.css\");\n",
       "    }\n",
       "  ];\n",
       "\n",
       "  function run_inline_js() {\n",
       "    \n",
       "    if ((root.Bokeh !== undefined) || (force === true)) {\n",
       "      for (var i = 0; i < inline_js.length; i++) {\n",
       "        inline_js[i].call(root, root.Bokeh);\n",
       "      }if (force === true) {\n",
       "        display_loaded();\n",
       "      }} else if (Date.now() < root._bokeh_timeout) {\n",
       "      setTimeout(run_inline_js, 100);\n",
       "    } else if (!root._bokeh_failed_load) {\n",
       "      console.log(\"Bokeh: BokehJS failed to load within specified timeout.\");\n",
       "      root._bokeh_failed_load = true;\n",
       "    } else if (force !== true) {\n",
       "      var cell = $(document.getElementById(\"bda4f624-7d1f-4638-888f-85922add126b\")).parents('.cell').data().cell;\n",
       "      cell.output_area.append_execute_result(NB_LOAD_WARNING)\n",
       "    }\n",
       "\n",
       "  }\n",
       "\n",
       "  if (root._bokeh_is_loading === 0) {\n",
       "    console.log(\"Bokeh: BokehJS loaded, going straight to plotting\");\n",
       "    run_inline_js();\n",
       "  } else {\n",
       "    load_libs(js_urls, function() {\n",
       "      console.log(\"Bokeh: BokehJS plotting callback run at\", now());\n",
       "      run_inline_js();\n",
       "    });\n",
       "  }\n",
       "}(window));"
      ],
      "application/vnd.bokehjs_load.v0+json": "\n(function(root) {\n  function now() {\n    return new Date();\n  }\n\n  var force = true;\n\n  if (typeof (root._bokeh_onload_callbacks) === \"undefined\" || force === true) {\n    root._bokeh_onload_callbacks = [];\n    root._bokeh_is_loading = undefined;\n  }\n\n  \n\n  \n  if (typeof (root._bokeh_timeout) === \"undefined\" || force === true) {\n    root._bokeh_timeout = Date.now() + 5000;\n    root._bokeh_failed_load = false;\n  }\n\n  var NB_LOAD_WARNING = {'data': {'text/html':\n     \"<div style='background-color: #fdd'>\\n\"+\n     \"<p>\\n\"+\n     \"BokehJS does not appear to have successfully loaded. If loading BokehJS from CDN, this \\n\"+\n     \"may be due to a slow or bad network connection. Possible fixes:\\n\"+\n     \"</p>\\n\"+\n     \"<ul>\\n\"+\n     \"<li>re-rerun `output_notebook()` to attempt to load from CDN again, or</li>\\n\"+\n     \"<li>use INLINE resources instead, as so:</li>\\n\"+\n     \"</ul>\\n\"+\n     \"<code>\\n\"+\n     \"from bokeh.resources import INLINE\\n\"+\n     \"output_notebook(resources=INLINE)\\n\"+\n     \"</code>\\n\"+\n     \"</div>\"}};\n\n  function display_loaded() {\n    var el = document.getElementById(\"bda4f624-7d1f-4638-888f-85922add126b\");\n    if (el != null) {\n      el.textContent = \"BokehJS is loading...\";\n    }\n    if (root.Bokeh !== undefined) {\n      if (el != null) {\n        el.textContent = \"BokehJS \" + root.Bokeh.version + \" successfully loaded.\";\n      }\n    } else if (Date.now() < root._bokeh_timeout) {\n      setTimeout(display_loaded, 100)\n    }\n  }\n\n\n  function run_callbacks() {\n    try {\n      root._bokeh_onload_callbacks.forEach(function(callback) { callback() });\n    }\n    finally {\n      delete root._bokeh_onload_callbacks\n    }\n    console.info(\"Bokeh: all callbacks have finished\");\n  }\n\n  function load_libs(js_urls, callback) {\n    root._bokeh_onload_callbacks.push(callback);\n    if (root._bokeh_is_loading > 0) {\n      console.log(\"Bokeh: BokehJS is being loaded, scheduling callback at\", now());\n      return null;\n    }\n    if (js_urls == null || js_urls.length === 0) {\n      run_callbacks();\n      return null;\n    }\n    console.log(\"Bokeh: BokehJS not loaded, scheduling load and callback at\", now());\n    root._bokeh_is_loading = js_urls.length;\n    for (var i = 0; i < js_urls.length; i++) {\n      var url = js_urls[i];\n      var s = document.createElement('script');\n      s.src = url;\n      s.async = false;\n      s.onreadystatechange = s.onload = function() {\n        root._bokeh_is_loading--;\n        if (root._bokeh_is_loading === 0) {\n          console.log(\"Bokeh: all BokehJS libraries loaded\");\n          run_callbacks()\n        }\n      };\n      s.onerror = function() {\n        console.warn(\"failed to load library \" + url);\n      };\n      console.log(\"Bokeh: injecting script tag for BokehJS library: \", url);\n      document.getElementsByTagName(\"head\")[0].appendChild(s);\n    }\n  };var element = document.getElementById(\"bda4f624-7d1f-4638-888f-85922add126b\");\n  if (element == null) {\n    console.log(\"Bokeh: ERROR: autoload.js configured with elementid 'bda4f624-7d1f-4638-888f-85922add126b' but no matching script tag was found. \")\n    return false;\n  }\n\n  var js_urls = [\"https://cdn.pydata.org/bokeh/release/bokeh-0.12.13.min.js\", \"https://cdn.pydata.org/bokeh/release/bokeh-widgets-0.12.13.min.js\", \"https://cdn.pydata.org/bokeh/release/bokeh-tables-0.12.13.min.js\", \"https://cdn.pydata.org/bokeh/release/bokeh-gl-0.12.13.min.js\"];\n\n  var inline_js = [\n    function(Bokeh) {\n      Bokeh.set_log_level(\"info\");\n    },\n    \n    function(Bokeh) {\n      \n    },\n    function(Bokeh) {\n      console.log(\"Bokeh: injecting CSS: https://cdn.pydata.org/bokeh/release/bokeh-0.12.13.min.css\");\n      Bokeh.embed.inject_css(\"https://cdn.pydata.org/bokeh/release/bokeh-0.12.13.min.css\");\n      console.log(\"Bokeh: injecting CSS: https://cdn.pydata.org/bokeh/release/bokeh-widgets-0.12.13.min.css\");\n      Bokeh.embed.inject_css(\"https://cdn.pydata.org/bokeh/release/bokeh-widgets-0.12.13.min.css\");\n      console.log(\"Bokeh: injecting CSS: https://cdn.pydata.org/bokeh/release/bokeh-tables-0.12.13.min.css\");\n      Bokeh.embed.inject_css(\"https://cdn.pydata.org/bokeh/release/bokeh-tables-0.12.13.min.css\");\n    }\n  ];\n\n  function run_inline_js() {\n    \n    if ((root.Bokeh !== undefined) || (force === true)) {\n      for (var i = 0; i < inline_js.length; i++) {\n        inline_js[i].call(root, root.Bokeh);\n      }if (force === true) {\n        display_loaded();\n      }} else if (Date.now() < root._bokeh_timeout) {\n      setTimeout(run_inline_js, 100);\n    } else if (!root._bokeh_failed_load) {\n      console.log(\"Bokeh: BokehJS failed to load within specified timeout.\");\n      root._bokeh_failed_load = true;\n    } else if (force !== true) {\n      var cell = $(document.getElementById(\"bda4f624-7d1f-4638-888f-85922add126b\")).parents('.cell').data().cell;\n      cell.output_area.append_execute_result(NB_LOAD_WARNING)\n    }\n\n  }\n\n  if (root._bokeh_is_loading === 0) {\n    console.log(\"Bokeh: BokehJS loaded, going straight to plotting\");\n    run_inline_js();\n  } else {\n    load_libs(js_urls, function() {\n      console.log(\"Bokeh: BokehJS plotting callback run at\", now());\n      run_inline_js();\n    });\n  }\n}(window));"
     },
     "metadata": {},
     "output_type": "display_data"
    },
    {
     "data": {
      "text/markdown": [
       "<h6> #Simulation 160 - Min Error 23.69% , Mean Error 23.96%<h6>"
      ],
      "text/plain": [
       "<IPython.core.display.Markdown object>"
      ]
     },
     "metadata": {},
     "output_type": "display_data"
    },
    {
     "data": {
      "text/markdown": [
       "<h6> #Simulation 175 - Min Error 25.37% , Mean Error 25.55%<h6>"
      ],
      "text/plain": [
       "<IPython.core.display.Markdown object>"
      ]
     },
     "metadata": {},
     "output_type": "display_data"
    },
    {
     "data": {
      "text/markdown": [
       "<h6> #Simulation 184 - Min Error 26.41% , Mean Error 26.54%<h6>"
      ],
      "text/plain": [
       "<IPython.core.display.Markdown object>"
      ]
     },
     "metadata": {},
     "output_type": "display_data"
    }
   ],
   "source": [
    "import numpy as np\n",
    "import pandas as pd\n",
    "from bokeh.io import output_notebook\n",
    "from bokeh.plotting import figure, show, output_file\n",
    "from Outputs.jupyter_graphs import create_graphs, compare_graphs\n",
    "from IPython.display import Markdown, display\n",
    "from IPython.core.interactiveshell import InteractiveShell\n",
    "sim_num = [160, 175, 184]\n",
    "plots, scores = compare_graphs(sim_nums=sim_num, linear=True)\n",
    "output_notebook()\n",
    "for sim in zip(sim_num,scores):\n",
    "    display(Markdown('<h6> #Simulation {:1d} - Min Error {:.2f}% , Mean Error {:.2f}%<h6>'.format(sim[0],sim[1][0],sim[1][1])))"
   ]
  },
  {
   "cell_type": "code",
   "execution_count": 2,
   "metadata": {},
   "outputs": [
    {
     "data": {
      "text/html": [
       "\n",
       "<div class=\"bk-root\">\n",
       "    <div class=\"bk-plotdiv\" id=\"cff6126c-53d4-4f39-9d8a-7c5a13eaa962\"></div>\n",
       "</div>"
      ]
     },
     "metadata": {},
     "output_type": "display_data"
    },
    {
     "data": {
      "application/javascript": [
       "(function(root) {\n",
       "  function embed_document(root) {\n",
       "    \n",
       "  var docs_json = {\"63767bb4-c7db-47f9-b0b1-3d6e9d603d7a\":{\"roots\":{\"references\":[{\"attributes\":{\"source\":{\"id\":\"1af2e316-d330-41f8-b4bd-18398eacae4d\",\"type\":\"ColumnDataSource\"}},\"id\":\"6ee94381-fda2-4461-81db-4ca906a2da24\",\"type\":\"CDSView\"},{\"attributes\":{\"active_drag\":\"auto\",\"active_inspect\":\"auto\",\"active_scroll\":\"auto\",\"active_tap\":\"auto\",\"tools\":[{\"id\":\"39ca2a38-2b4e-4abf-9229-b81d3999a623\",\"type\":\"PanTool\"},{\"id\":\"b258e875-2efc-4efd-95b1-7a672de0cf6b\",\"type\":\"WheelZoomTool\"},{\"id\":\"e02737af-5763-4579-85d6-3884be71750e\",\"type\":\"BoxZoomTool\"},{\"id\":\"d08f1344-9c7b-4189-9198-a611163fa05f\",\"type\":\"SaveTool\"},{\"id\":\"e218806c-e15c-4c0a-8aa6-f03753ee5d3a\",\"type\":\"ResetTool\"},{\"id\":\"04a61e05-5461-4052-97a4-d05a6cffff6d\",\"type\":\"HelpTool\"}]},\"id\":\"e535faa2-32d6-4dab-a485-b56443d374a0\",\"type\":\"Toolbar\"},{\"attributes\":{\"callback\":null,\"data\":{}},\"id\":\"8f2ce587-b702-4f32-87a2-9993e135bd71\",\"type\":\"ColumnDataSource\"},{\"attributes\":{\"callback\":null,\"data\":{}},\"id\":\"6e1a1bd1-2512-4bf6-a59e-9e2475a7011e\",\"type\":\"ColumnDataSource\"},{\"attributes\":{\"callback\":null,\"column_names\":[\"x\",\"y\"],\"data\":{\"x\":{\"__ndarray__\":\"AQAAAAIAAAADAAAABAAAAAUAAAAGAAAABwAAAAgAAAAJAAAACgAAAAsAAAAMAAAADQAAAA4AAAAPAAAAEAAAABEAAAASAAAAEwAAABQAAAAVAAAAFgAAABcAAAAYAAAAGQAAABoAAAAbAAAAHAAAAB0AAAAeAAAAHwAAACAAAAAhAAAAIgAAACMAAAAkAAAAJQAAACYAAAAnAAAAKAAAACkAAAAqAAAAKwAAACwAAAAtAAAALgAAAC8AAAAwAAAAMQAAADIAAAAzAAAANAAAADUAAAA2AAAANwAAADgAAAA5AAAAOgAAADsAAAA8AAAAPQAAAD4AAAA/AAAAQAAAAEEAAABCAAAAQwAAAEQAAABFAAAARgAAAEcAAABIAAAASQAAAEoAAABLAAAATAAAAE0AAABOAAAATwAAAFAAAABRAAAAUgAAAFMAAABUAAAAVQAAAFYAAABXAAAAWAAAAFkAAABaAAAA\",\"dtype\":\"int32\",\"shape\":[90]},\"y\":[0.9282318386282714,0.7498858462617854,0.6561369438956232,0.6091165320352885,0.580560535823622,0.5614576397918154,0.5477818270367257,0.538209304484872,0.5303282085777811,0.5247621894741151,0.5199884168095092,0.5149992155579868,0.5124351470191083,0.509310651927811,0.5063937800465039,0.504798359619463,0.5026081689594102,0.5006872640350428,0.4992190713638297,0.49783751845048185,0.49738012296711626,0.49545921804039655,0.4942173814976663,0.49412683904355176,0.49307077063253274,0.49225979126982894,0.49153232950844933,0.4914339816732696,0.4900930167559788,0.489398337608281,0.378541595279988,0.35536975273095756,0.3456169258175803,0.3400071965614652,0.3357891672152558,0.33348033472378125,0.33227128079267837,0.3305517547706085,0.3303878417126208,0.32985239238859054,0.32944573190048976,0.3297150176379319,0.3296697464106512,0.33013416673873813,0.3305111667738368,0.3296962847104769,0.32978604662565725,0.3296197919566729,0.32881739850971065,0.3285223550087569,0.32873231982828477,0.32782767586031475,0.32700889111202003,0.32741555159982305,0.3267934625198034,0.32589037963181594,0.324824944755402,0.32432618073951647,0.32431291159091374,0.3234129508478847,0.27789351426949727,0.2658341964819545,0.2610783761999738,0.256993818917136,0.25488948747145845,0.25200539820603657,0.25027650571371846,0.2487193316745071,0.24746110381722417,0.24531306222981664,0.24477214913881448,0.24304247611324917,0.24161487144220217,0.24061422124933443,0.24042298935124692,0.23887986499445119,0.2373913783319686,0.23699486484105095,0.23547281501770453,0.23522382327873761,0.22838942932575676,0.22639203164037972,0.22580038355482734,0.22515097563691128,0.2247107519964624,0.22431579957596945,0.22438058426246343,0.22413081198893917,0.22437277887657472,0.223518089365233]}},\"id\":\"aac9a0ab-4388-4ad7-bd2b-4f7faecd51dc\",\"type\":\"ColumnDataSource\"},{\"attributes\":{},\"id\":\"d8cf22ba-e171-4230-b15b-e1f798ba1fa5\",\"type\":\"BasicTickFormatter\"},{\"attributes\":{\"plot\":null,\"text\":\"Training & Test Error\"},\"id\":\"1e02e57b-f0e4-492a-8826-621998820cd3\",\"type\":\"Title\"},{\"attributes\":{\"source\":{\"id\":\"9bc8b58e-1121-4efc-8f07-9dbccb40ab32\",\"type\":\"ColumnDataSource\"}},\"id\":\"48af144e-f134-42b2-a0e6-d4a4d7785d78\",\"type\":\"CDSView\"},{\"attributes\":{\"click_policy\":\"hide\",\"items\":[{\"id\":\"70ec759b-fb34-4b51-8ffd-eb0cce92777b\",\"type\":\"LegendItem\"},{\"id\":\"7a7bf794-51ce-408d-873d-054271a28f71\",\"type\":\"LegendItem\"},{\"id\":\"ff5ee4cb-b6d2-4ddf-ac71-8b7fdf4262f7\",\"type\":\"LegendItem\"},{\"id\":\"213a45d4-a206-414e-8706-23a7b581b3b0\",\"type\":\"LegendItem\"},{\"id\":\"d15d98ad-54df-414c-8b90-53af5796d6aa\",\"type\":\"LegendItem\"},{\"id\":\"ddb0d126-fa8a-4d44-859c-f5b7b14bc22f\",\"type\":\"LegendItem\"}],\"plot\":{\"id\":\"5f9951cf-bc9b-491f-80b1-2f2f0dc64bcc\",\"subtype\":\"Figure\",\"type\":\"Plot\"}},\"id\":\"2a145f5b-ba89-4446-b065-ba51f03935f8\",\"type\":\"Legend\"},{\"attributes\":{\"callback\":null,\"column_names\":[\"x\",\"y\"],\"data\":{\"x\":{\"__ndarray__\":\"AQAAAAIAAAADAAAABAAAAAUAAAAGAAAABwAAAAgAAAAJAAAACgAAAAsAAAAMAAAADQAAAA4AAAAPAAAAEAAAABEAAAASAAAAEwAAABQAAAAVAAAAFgAAABcAAAAYAAAAGQAAABoAAAAbAAAAHAAAAB0AAAAeAAAAHwAAACAAAAAhAAAAIgAAACMAAAAkAAAAJQAAACYAAAAnAAAAKAAAACkAAAAqAAAAKwAAACwAAAAtAAAALgAAAC8AAAAwAAAAMQAAADIAAAAzAAAANAAAADUAAAA2AAAANwAAADgAAAA5AAAAOgAAADsAAAA8AAAAPQAAAD4AAAA/AAAAQAAAAEEAAABCAAAAQwAAAEQAAABFAAAARgAAAEcAAABIAAAASQAAAEoAAABLAAAATAAAAE0AAABOAAAATwAAAFAAAABRAAAAUgAAAFMAAABUAAAAVQAAAFYAAABXAAAAWAAAAFkAAABaAAAA\",\"dtype\":\"int32\",\"shape\":[90]},\"y\":[0.942479999975586,0.9973599999984741,0.9775000000038148,0.9348399999938966,0.8310799998962402,0.7612199999694824,0.681599999975586,0.6202599999389649,0.6008599999145507,0.5579200004028321,0.5506399998291015,0.5693199999755859,0.5348600002563476,0.5273800004272461,0.5067400002929687,0.48650000004882815,0.4816600000488281,0.4961400003295898,0.48358000041503907,0.4739000004516602,0.4628800002685547,0.45872000010986325,0.468260000390625,0.44741999987792963,0.48358000029296877,0.446100000024414,0.465000000366211,0.4860400003662109,0.4687800003295899,0.43632000040283203,0.3400599998046875,0.32777999975585936,0.321099999584961,0.3166400004882812,0.3126800004638672,0.3096399996826172,0.3106999995605469,0.3088200005615234,0.3087600001953125,0.3076600008056641,0.30710000002441407,0.307940000756836,0.30703999978027346,0.30761999975585935,0.308420000390625,0.3061600005859375,0.30480000083007813,0.30475999970703127,0.3066000005859375,0.3164600005859375,0.3079399996582031,0.30857999975585937,0.3050599998046875,0.30846000053710937,0.3083400007080078,0.3020400005615234,0.30943999970703123,0.3030800004150391,0.30480000078124997,0.3030800005371094,0.27230000041503905,0.2695999996826172,0.26628000063476565,0.26608000024414064,0.2647399996826172,0.2640599999267578,0.26364000026855466,0.2624399999755859,0.2620999999267578,0.26078000075683594,0.2612400001220703,0.2586399999511719,0.2587599997558594,0.2594600004638672,0.2596599996826172,0.25929999973144535,0.25800000078124996,0.25918000083007814,0.2581000006591797,0.2577600006835938,0.25536000017089844,0.2538200005126953,0.2551599998046875,0.2537400004638672,0.25390000043945316,0.2546799999267578,0.2547400004882812,0.25412000068359375,0.25451999997558594,0.25416000058593746]}},\"id\":\"1af2e316-d330-41f8-b4bd-18398eacae4d\",\"type\":\"ColumnDataSource\"},{\"attributes\":{\"data_source\":{\"id\":\"aac9a0ab-4388-4ad7-bd2b-4f7faecd51dc\",\"type\":\"ColumnDataSource\"},\"glyph\":{\"id\":\"e7acb1e6-c82a-4b63-9779-0bb589f0ea94\",\"type\":\"Line\"},\"hover_glyph\":null,\"muted_glyph\":null,\"nonselection_glyph\":{\"id\":\"c2f3bd09-17bb-49cf-bab2-1ae12d609eec\",\"type\":\"Line\"},\"selection_glyph\":null,\"view\":{\"id\":\"ab723aae-4f23-4998-95d6-ac1bbb942244\",\"type\":\"CDSView\"}},\"id\":\"e7a9d6bd-981a-4147-854b-3653d9e575d1\",\"type\":\"GlyphRenderer\"},{\"attributes\":{\"line_color\":\"#ff7f0e\",\"line_width\":3,\"x\":{\"field\":\"x\"},\"y\":{\"field\":\"y\"}},\"id\":\"c0ebebbb-474c-4dbe-94fe-a40c3b5fd411\",\"type\":\"Line\"},{\"attributes\":{\"line_color\":\"#1f77b4\",\"line_dash\":[6],\"line_width\":3,\"x\":{\"field\":\"x\"},\"y\":{\"field\":\"y\"}},\"id\":\"e7acb1e6-c82a-4b63-9779-0bb589f0ea94\",\"type\":\"Line\"},{\"attributes\":{\"line_alpha\":0.1,\"line_color\":\"#1f77b4\",\"line_width\":3,\"x\":{\"field\":\"x\"},\"y\":{\"field\":\"y\"}},\"id\":\"2b9045a6-a2a9-4485-ae07-029cf70b5042\",\"type\":\"Line\"},{\"attributes\":{\"callback\":null,\"column_names\":[\"x\",\"y\"],\"data\":{\"x\":{\"__ndarray__\":\"AQAAAAIAAAADAAAABAAAAAUAAAAGAAAABwAAAAgAAAAJAAAACgAAAAsAAAAMAAAADQAAAA4AAAAPAAAAEAAAABEAAAASAAAAEwAAABQAAAAVAAAAFgAAABcAAAAYAAAAGQAAABoAAAAbAAAAHAAAAB0AAAAeAAAAHwAAACAAAAAhAAAAIgAAACMAAAAkAAAAJQAAACYAAAAnAAAAKAAAACkAAAAqAAAAKwAAACwAAAAtAAAALgAAAC8AAAAwAAAAMQAAADIAAAAzAAAANAAAADUAAAA2AAAANwAAADgAAAA5AAAAOgAAADsAAAA8AAAAPQAAAD4AAAA/AAAAQAAAAEEAAABCAAAAQwAAAEQAAABFAAAARgAAAEcAAABIAAAASQAAAEoAAABLAAAATAAAAE0AAABOAAAATwAAAFAAAABRAAAAUgAAAFMAAABUAAAAVQAAAFYAAABXAAAAWAAAAFkAAABaAAAA\",\"dtype\":\"int32\",\"shape\":[90]},\"y\":[0.9948999622999889,0.982672048218581,0.9650420280885393,0.945172643378832,0.9216495585661013,0.8868133506408875,0.845554092479546,0.8093925304034444,0.7771586373980084,0.7491388710441403,0.7274305379382408,0.7091823314205005,0.6910043733573126,0.6790800887009162,0.6657383463660257,0.6581132670454963,0.6507332767689499,0.6414386258780511,0.6309154075909704,0.6271594569621789,0.6246913946410222,0.6228360549396117,0.6144952219318164,0.6068521902303738,0.6117976813329606,0.6064322605854524,0.6007530634193613,0.6202181292505055,0.5924762345578156,0.5965568891498232,0.4362975318596844,0.4052352269454929,0.39266621759493037,0.38399599739945456,0.3766222514298565,0.3714894311189703,0.36636597726877457,0.3618794427248314,0.3578815252001566,0.35515042145145387,0.3537899430725975,0.35132500290521274,0.3499629634541748,0.3489708991852666,0.34812323451998606,0.34750817028042996,0.3469945760383411,0.3460251473846215,0.34609149314374354,0.34655044970384624,0.34645678510096195,0.34505806034570974,0.3464723958716973,0.3461047622976165,0.34573244549862453,0.34562785335253643,0.344517147256762,0.3446506193160247,0.3449323936683757,0.3441300002280235,0.2989056071523466,0.2892222481542155,0.2857995874037858,0.28312936565164004,0.2808330217717098,0.2786615640222294,0.2777491146748319,0.2756393194605746,0.2744763172936619,0.2731064724552763,0.2720909920397188,0.2707133418214591,0.2701310601985325,0.2688135114296477,0.2682538654194086,0.2668223580546133,0.26617295012728825,0.2649428216603838,0.26454240547512237,0.26375484226758356,0.26079191861651835,0.2587937403974772,0.25795544218335903,0.25773923305658514,0.25768303429274053,0.2580171047141755,0.2570312847594211,0.2566012081136542,0.25706562844352765,0.2566410155770596]}},\"id\":\"64ab3ae8-035a-4b5a-974e-eeb8064f6429\",\"type\":\"ColumnDataSource\"},{\"attributes\":{\"line_alpha\":0.1,\"line_color\":\"#1f77b4\",\"line_dash\":[6],\"line_width\":3,\"x\":{\"field\":\"x\"},\"y\":{\"field\":\"y\"}},\"id\":\"c2f3bd09-17bb-49cf-bab2-1ae12d609eec\",\"type\":\"Line\"},{\"attributes\":{\"label\":{\"value\":\"validation - 8192_1\"},\"renderers\":[{\"id\":\"c2a744fa-d970-4ff0-a254-a82f177b04a8\",\"type\":\"GlyphRenderer\"}]},\"id\":\"213a45d4-a206-414e-8706-23a7b581b3b0\",\"type\":\"LegendItem\"},{\"attributes\":{\"source\":{\"id\":\"aac9a0ab-4388-4ad7-bd2b-4f7faecd51dc\",\"type\":\"ColumnDataSource\"}},\"id\":\"ab723aae-4f23-4998-95d6-ac1bbb942244\",\"type\":\"CDSView\"},{\"attributes\":{\"data_source\":{\"id\":\"1af2e316-d330-41f8-b4bd-18398eacae4d\",\"type\":\"ColumnDataSource\"},\"glyph\":{\"id\":\"c0ebebbb-474c-4dbe-94fe-a40c3b5fd411\",\"type\":\"Line\"},\"hover_glyph\":null,\"muted_glyph\":null,\"nonselection_glyph\":{\"id\":\"2b9045a6-a2a9-4485-ae07-029cf70b5042\",\"type\":\"Line\"},\"selection_glyph\":null,\"view\":{\"id\":\"6ee94381-fda2-4461-81db-4ca906a2da24\",\"type\":\"CDSView\"}},\"id\":\"c2a744fa-d970-4ff0-a254-a82f177b04a8\",\"type\":\"GlyphRenderer\"},{\"attributes\":{\"label\":{\"value\":\"train - 256_1\"},\"renderers\":[{\"id\":\"e7a9d6bd-981a-4147-854b-3653d9e575d1\",\"type\":\"GlyphRenderer\"}]},\"id\":\"70ec759b-fb34-4b51-8ffd-eb0cce92777b\",\"type\":\"LegendItem\"},{\"attributes\":{\"callback\":null},\"id\":\"3265d3fe-82c5-4832-b24e-cb81241c2c8f\",\"type\":\"DataRange1d\"},{\"attributes\":{\"fill_alpha\":{\"value\":0.5},\"fill_color\":{\"value\":\"red\"},\"line_alpha\":{\"value\":0.5},\"line_color\":{\"value\":\"red\"},\"size\":{\"units\":\"screen\",\"value\":5},\"x\":{\"value\":84},\"y\":{\"value\":0.2537400004638672}},\"id\":\"d05cdc0e-a0f1-420d-ba17-603d4ab80c7d\",\"type\":\"Circle\"},{\"attributes\":{\"source\":{\"id\":\"8f2ce587-b702-4f32-87a2-9993e135bd71\",\"type\":\"ColumnDataSource\"}},\"id\":\"163b53b4-5a43-4d08-8229-be92542a0304\",\"type\":\"CDSView\"},{\"attributes\":{\"background_fill_color\":{\"value\":\"#fafafa\"},\"below\":[{\"id\":\"c6eb4c54-5324-4426-a779-e3918fa6f6a5\",\"type\":\"LinearAxis\"}],\"left\":[{\"id\":\"00b66a04-97ed-4137-84b4-d4a6c454bc92\",\"type\":\"LinearAxis\"}],\"min_border\":10,\"min_border_left\":50,\"renderers\":[{\"id\":\"c6eb4c54-5324-4426-a779-e3918fa6f6a5\",\"type\":\"LinearAxis\"},{\"id\":\"af758a9a-7970-4c29-8c23-8f0232c89ac7\",\"type\":\"Grid\"},{\"id\":\"00b66a04-97ed-4137-84b4-d4a6c454bc92\",\"type\":\"LinearAxis\"},{\"id\":\"4c3cbd82-871e-49d3-a416-7a21efb9c49a\",\"type\":\"Grid\"},{\"id\":\"f54ee0ae-9b98-4ed8-8a23-f4d7c9c2c90d\",\"type\":\"BoxAnnotation\"},{\"id\":\"2a145f5b-ba89-4446-b065-ba51f03935f8\",\"type\":\"Legend\"},{\"id\":\"e7a9d6bd-981a-4147-854b-3653d9e575d1\",\"type\":\"GlyphRenderer\"},{\"id\":\"08f1aa17-3b28-49ad-a22d-1f741dacf551\",\"type\":\"GlyphRenderer\"},{\"id\":\"2121aada-e53e-4c0a-b95b-325ecf5716db\",\"type\":\"GlyphRenderer\"},{\"id\":\"d6cc35fa-a16b-4528-b5e1-43a132d17eb7\",\"type\":\"GlyphRenderer\"},{\"id\":\"c2a744fa-d970-4ff0-a254-a82f177b04a8\",\"type\":\"GlyphRenderer\"},{\"id\":\"80065ec8-7cbd-4f45-b28d-85cc903f2376\",\"type\":\"GlyphRenderer\"},{\"id\":\"bbcc7cdf-8e71-42f3-a481-ac0543e82376\",\"type\":\"GlyphRenderer\"},{\"id\":\"8965d7d7-3ce3-4375-9102-cd2ec7c3cfc7\",\"type\":\"GlyphRenderer\"},{\"id\":\"cad3cf4a-ca11-4505-aabf-ae572125e1ac\",\"type\":\"GlyphRenderer\"}],\"title\":{\"id\":\"1e02e57b-f0e4-492a-8826-621998820cd3\",\"type\":\"Title\"},\"toolbar\":{\"id\":\"e535faa2-32d6-4dab-a485-b56443d374a0\",\"type\":\"Toolbar\"},\"x_range\":{\"id\":\"3265d3fe-82c5-4832-b24e-cb81241c2c8f\",\"type\":\"DataRange1d\"},\"x_scale\":{\"id\":\"e7ed914a-40fb-4c8c-9065-b59f2cf34156\",\"type\":\"LinearScale\"},\"y_range\":{\"id\":\"4db154e6-fadb-4ec8-b098-09b95e7e229b\",\"type\":\"DataRange1d\"},\"y_scale\":{\"id\":\"158a8436-a68e-4e76-990a-421e5d33ba4a\",\"type\":\"LinearScale\"}},\"id\":\"5f9951cf-bc9b-491f-80b1-2f2f0dc64bcc\",\"subtype\":\"Figure\",\"type\":\"Plot\"},{\"attributes\":{\"data_source\":{\"id\":\"8f2ce587-b702-4f32-87a2-9993e135bd71\",\"type\":\"ColumnDataSource\"},\"glyph\":{\"id\":\"d05cdc0e-a0f1-420d-ba17-603d4ab80c7d\",\"type\":\"Circle\"},\"hover_glyph\":null,\"muted_glyph\":null,\"nonselection_glyph\":{\"id\":\"842210f6-d9a0-4a01-a5d1-d418681f98e6\",\"type\":\"Circle\"},\"selection_glyph\":null,\"view\":{\"id\":\"163b53b4-5a43-4d08-8229-be92542a0304\",\"type\":\"CDSView\"}},\"id\":\"80065ec8-7cbd-4f45-b28d-85cc903f2376\",\"type\":\"GlyphRenderer\"},{\"attributes\":{\"source\":{\"id\":\"5a3494b2-7f80-4a23-8466-171e12c2e782\",\"type\":\"ColumnDataSource\"}},\"id\":\"eee71093-6133-4221-b1de-cd9af4ee87e8\",\"type\":\"CDSView\"},{\"attributes\":{\"fill_alpha\":{\"value\":0.1},\"fill_color\":{\"value\":\"#1f77b4\"},\"line_alpha\":{\"value\":0.1},\"line_color\":{\"value\":\"#1f77b4\"},\"size\":{\"units\":\"screen\",\"value\":5},\"x\":{\"value\":84},\"y\":{\"value\":0.2537400004638672}},\"id\":\"842210f6-d9a0-4a01-a5d1-d418681f98e6\",\"type\":\"Circle\"},{\"attributes\":{\"label\":{\"value\":\"train - 8192_1\"},\"renderers\":[{\"id\":\"d6cc35fa-a16b-4528-b5e1-43a132d17eb7\",\"type\":\"GlyphRenderer\"}]},\"id\":\"ff5ee4cb-b6d2-4ddf-ac71-8b7fdf4262f7\",\"type\":\"LegendItem\"},{\"attributes\":{},\"id\":\"158a8436-a68e-4e76-990a-421e5d33ba4a\",\"type\":\"LinearScale\"},{\"attributes\":{},\"id\":\"e7ed914a-40fb-4c8c-9065-b59f2cf34156\",\"type\":\"LinearScale\"},{\"attributes\":{\"callback\":null},\"id\":\"4db154e6-fadb-4ec8-b098-09b95e7e229b\",\"type\":\"DataRange1d\"},{\"attributes\":{\"plot\":{\"id\":\"5f9951cf-bc9b-491f-80b1-2f2f0dc64bcc\",\"subtype\":\"Figure\",\"type\":\"Plot\"},\"ticker\":{\"id\":\"97c32abd-49a3-463d-80ca-47f090952605\",\"type\":\"BasicTicker\"}},\"id\":\"af758a9a-7970-4c29-8c23-8f0232c89ac7\",\"type\":\"Grid\"},{\"attributes\":{\"dimension\":1,\"plot\":{\"id\":\"5f9951cf-bc9b-491f-80b1-2f2f0dc64bcc\",\"subtype\":\"Figure\",\"type\":\"Plot\"},\"ticker\":{\"id\":\"444b7cac-1394-4b0b-bcc9-e5530477c61b\",\"type\":\"BasicTicker\"}},\"id\":\"4c3cbd82-871e-49d3-a416-7a21efb9c49a\",\"type\":\"Grid\"},{\"attributes\":{},\"id\":\"97c32abd-49a3-463d-80ca-47f090952605\",\"type\":\"BasicTicker\"},{\"attributes\":{\"axis_label\":\"t [Epochs]\",\"formatter\":{\"id\":\"d8cf22ba-e171-4230-b15b-e1f798ba1fa5\",\"type\":\"BasicTickFormatter\"},\"plot\":{\"id\":\"5f9951cf-bc9b-491f-80b1-2f2f0dc64bcc\",\"subtype\":\"Figure\",\"type\":\"Plot\"},\"ticker\":{\"id\":\"97c32abd-49a3-463d-80ca-47f090952605\",\"type\":\"BasicTicker\"}},\"id\":\"c6eb4c54-5324-4426-a779-e3918fa6f6a5\",\"type\":\"LinearAxis\"},{\"attributes\":{\"source\":{\"id\":\"10be203e-c98f-443b-89f1-537ab679171b\",\"type\":\"ColumnDataSource\"}},\"id\":\"2f2dd3ab-6b95-4a23-aaf1-89093d41e442\",\"type\":\"CDSView\"},{\"attributes\":{},\"id\":\"444b7cac-1394-4b0b-bcc9-e5530477c61b\",\"type\":\"BasicTicker\"},{\"attributes\":{\"axis_label\":\"Error Rate\",\"formatter\":{\"id\":\"52fcfa84-24b4-4d6a-b5a8-7bb43b9ec3dd\",\"type\":\"NumeralTickFormatter\"},\"plot\":{\"id\":\"5f9951cf-bc9b-491f-80b1-2f2f0dc64bcc\",\"subtype\":\"Figure\",\"type\":\"Plot\"},\"ticker\":{\"id\":\"444b7cac-1394-4b0b-bcc9-e5530477c61b\",\"type\":\"BasicTicker\"}},\"id\":\"00b66a04-97ed-4137-84b4-d4a6c454bc92\",\"type\":\"LinearAxis\"},{\"attributes\":{\"callback\":null,\"data\":{}},\"id\":\"9bc8b58e-1121-4efc-8f07-9dbccb40ab32\",\"type\":\"ColumnDataSource\"},{\"attributes\":{\"callback\":null,\"column_names\":[\"x\",\"y\"],\"data\":{\"x\":{\"__ndarray__\":\"AQAAAAIAAAADAAAABAAAAAUAAAAGAAAABwAAAAgAAAAJAAAACgAAAAsAAAAMAAAADQAAAA4AAAAPAAAAEAAAABEAAAASAAAAEwAAABQAAAAVAAAAFgAAABcAAAAYAAAAGQAAABoAAAAbAAAAHAAAAB0AAAAeAAAAHwAAACAAAAAhAAAAIgAAACMAAAAkAAAAJQAAACYAAAAnAAAAKAAAACkAAAAqAAAAKwAAACwAAAAtAAAALgAAAC8AAAAwAAAAMQAAADIAAAAzAAAANAAAADUAAAA2AAAANwAAADgAAAA5AAAAOgAAADsAAAA8AAAAPQAAAD4AAAA/AAAAQAAAAEEAAABCAAAAQwAAAEQAAABFAAAARgAAAEcAAABIAAAASQAAAEoAAABLAAAATAAAAE0AAABOAAAATwAAAFAAAABRAAAAUgAAAFMAAABUAAAAVQAAAFYAAABXAAAAWAAAAFkAAABaAAAA\",\"dtype\":\"int32\",\"shape\":[90]},\"y\":[0.9810165263388881,0.9979682586267051,0.9914086141775111,0.9644043282412551,0.9031882650739,0.8277781116751634,0.7482287633067272,0.6966468852228516,0.6571586686188732,0.6325295609376949,0.6085623497950882,0.5918143380215963,0.5796473059305312,0.5676192096714174,0.5562069581865362,0.5501726160586531,0.544170276007572,0.5396134930122175,0.53452516338408,0.5316707345709157,0.5277571151922756,0.5254389162393366,0.5227913300932682,0.5191337272983164,0.5188550750988441,0.5162145137961869,0.5148321803455126,0.5126053043835977,0.5131501201646858,0.5114087390624312,0.4119595649885104,0.3832427778742656,0.37138405844183836,0.3641562731453994,0.3588150490920202,0.35523706121226684,0.35280100095996225,0.3504500193977481,0.34899041264668335,0.3479507355399445,0.34720922408748467,0.34728103361989093,0.34559429020489274,0.34448202302752806,0.34432747643160033,0.34403477454265563,0.34356410990893055,0.342586095334765,0.34279606015444164,0.3432557972533595,0.3437373894239463,0.3409602339134057,0.3402569688408552,0.33999002472131756,0.3387637989424445,0.338015262648628,0.33754537854916244,0.336258270781355,0.33587502644064793,0.3346230428972211,0.29691445377230996,0.28355241744446763,0.2778349738956684,0.27442167960625663,0.2715695924114435,0.269509751653368,0.26751703720231107,0.26550871197816667,0.2638352377129325,0.26193774894373006,0.26121418987669426,0.25943690400844505,0.2587859350077773,0.2571319742067587,0.2555420175541633,0.25471386634074167,0.25443599468565237,0.25294282478664626,0.2517048909316497,0.2508681538008787,0.24481663982582094,0.24260069139886212,0.24146891076287955,0.24132451116910741,0.24096858566835128,0.2400623806252818,0.2407711094636132,0.23970957728681327,0.2390656331318792,0.23937160416883121]}},\"id\":\"78e8ba5f-20f0-452c-9a43-2551c436d69a\",\"type\":\"ColumnDataSource\"},{\"attributes\":{\"line_color\":\"#ff7f0e\",\"line_dash\":[6],\"line_width\":3,\"x\":{\"field\":\"x\"},\"y\":{\"field\":\"y\"}},\"id\":\"6e5f33f5-7e59-4518-8ce1-0570b8e0793b\",\"type\":\"Line\"},{\"attributes\":{\"format\":\"0.0%\"},\"id\":\"52fcfa84-24b4-4d6a-b5a8-7bb43b9ec3dd\",\"type\":\"NumeralTickFormatter\"},{\"attributes\":{\"bottom_units\":\"screen\",\"fill_alpha\":{\"value\":0.5},\"fill_color\":{\"value\":\"lightgrey\"},\"left_units\":\"screen\",\"level\":\"overlay\",\"line_alpha\":{\"value\":1.0},\"line_color\":{\"value\":\"black\"},\"line_dash\":[4,4],\"line_width\":{\"value\":2},\"plot\":null,\"render_mode\":\"css\",\"right_units\":\"screen\",\"top_units\":\"screen\"},\"id\":\"f54ee0ae-9b98-4ed8-8a23-f4d7c9c2c90d\",\"type\":\"BoxAnnotation\"},{\"attributes\":{},\"id\":\"39ca2a38-2b4e-4abf-9229-b81d3999a623\",\"type\":\"PanTool\"},{\"attributes\":{\"callback\":null,\"column_names\":[\"x\",\"y\"],\"data\":{\"x\":{\"__ndarray__\":\"AQAAAAIAAAADAAAABAAAAAUAAAAGAAAABwAAAAgAAAAJAAAACgAAAAsAAAAMAAAADQAAAA4AAAAPAAAAEAAAABEAAAASAAAAEwAAABQAAAAVAAAAFgAAABcAAAAYAAAAGQAAABoAAAAbAAAAHAAAAB0AAAAeAAAAHwAAACAAAAAhAAAAIgAAACMAAAAkAAAAJQAAACYAAAAnAAAAKAAAACkAAAAqAAAAKwAAACwAAAAtAAAALgAAAC8AAAAwAAAAMQAAADIAAAAzAAAANAAAADUAAAA2AAAANwAAADgAAAA5AAAAOgAAADsAAAA8AAAAPQAAAD4AAAA/AAAAQAAAAEEAAABCAAAAQwAAAEQAAABFAAAARgAAAEcAAABIAAAASQAAAEoAAABLAAAATAAAAE0AAABOAAAATwAAAFAAAABRAAAAUgAAAFMAAABUAAAAVQAAAFYAAABXAAAAWAAAAFkAAABaAAAA\",\"dtype\":\"int32\",\"shape\":[90]},\"y\":[0.8261400000976562,0.68814,0.6124400003173828,0.5609200004272461,0.5159600000366211,0.5452000001220703,0.5127199999755859,0.509319999975586,0.5508800001953125,0.5192000002807617,0.5101000001342774,0.480059999987793,0.4773999999755859,0.4805399998535156,0.4806200003173828,0.4905600000854492,0.48415999990234376,0.48438000029296874,0.5346600001342773,0.4646199999267578,0.4706400001098633,0.4987400000366211,0.4759399998779297,0.4661999998291016,0.49156000017089846,0.4666200000366211,0.4436399999267578,0.4644800002197265,0.4736200004028321,0.4592200004638672,0.3173599996582031,0.30384000009765627,0.3004399997314453,0.29538000026855465,0.3024000002197266,0.29652000048828125,0.29502000041503906,0.29451999958496095,0.2926,0.29954000007324216,0.3016400002685547,0.3004399997802734,0.3020800000732422,0.3040600000244141,0.2944600005859375,0.30512,0.29822000007324223,0.3031600001953125,0.298980000390625,0.30083999958496094,0.30032000021972655,0.3018799997802734,0.3015999998535156,0.29569999978027345,0.29918000029296876,0.30432,0.2995599997314453,0.3055800002197266,0.30204000026855465,0.30614000004882813,0.25633999997558593,0.2518599997558594,0.2484199996826172,0.2482200002685547,0.24822000034179686,0.2462400005126953,0.24552000061035156,0.2440800005371094,0.24448000078124998,0.24286000004882813,0.2447000004394531,0.24353999958496092,0.24411999982910157,0.24332000009765625,0.2422800005859375,0.24247999982910154,0.24166000056152345,0.2425000008300781,0.24377999975585937,0.24269999970703127,0.2396800007080078,0.2383400003173828,0.23920000085449217,0.23884000075683595,0.23812000026855468,0.23848000002441405,0.23905999978027342,0.23754000024414063,0.23687999958496092,0.23818000065917969]}},\"id\":\"10be203e-c98f-443b-89f1-537ab679171b\",\"type\":\"ColumnDataSource\"},{\"attributes\":{\"line_color\":\"#1f77b4\",\"line_width\":3,\"x\":{\"field\":\"x\"},\"y\":{\"field\":\"y\"}},\"id\":\"e0e2b3ba-691f-4563-b3d6-9fe50a4d19df\",\"type\":\"Line\"},{\"attributes\":{},\"id\":\"b258e875-2efc-4efd-95b1-7a672de0cf6b\",\"type\":\"WheelZoomTool\"},{\"attributes\":{\"line_alpha\":0.1,\"line_color\":\"#1f77b4\",\"line_width\":3,\"x\":{\"field\":\"x\"},\"y\":{\"field\":\"y\"}},\"id\":\"85687898-32d2-4c7b-ae17-4f011025b29a\",\"type\":\"Line\"},{\"attributes\":{\"overlay\":{\"id\":\"f54ee0ae-9b98-4ed8-8a23-f4d7c9c2c90d\",\"type\":\"BoxAnnotation\"}},\"id\":\"e02737af-5763-4579-85d6-3884be71750e\",\"type\":\"BoxZoomTool\"},{\"attributes\":{},\"id\":\"d08f1344-9c7b-4189-9198-a611163fa05f\",\"type\":\"SaveTool\"},{\"attributes\":{\"label\":{\"value\":\"validation - 256_1\"},\"renderers\":[{\"id\":\"08f1aa17-3b28-49ad-a22d-1f741dacf551\",\"type\":\"GlyphRenderer\"}]},\"id\":\"7a7bf794-51ce-408d-873d-054271a28f71\",\"type\":\"LegendItem\"},{\"attributes\":{},\"id\":\"e218806c-e15c-4c0a-8aa6-f03753ee5d3a\",\"type\":\"ResetTool\"},{\"attributes\":{\"data_source\":{\"id\":\"10be203e-c98f-443b-89f1-537ab679171b\",\"type\":\"ColumnDataSource\"},\"glyph\":{\"id\":\"e0e2b3ba-691f-4563-b3d6-9fe50a4d19df\",\"type\":\"Line\"},\"hover_glyph\":null,\"muted_glyph\":null,\"nonselection_glyph\":{\"id\":\"85687898-32d2-4c7b-ae17-4f011025b29a\",\"type\":\"Line\"},\"selection_glyph\":null,\"view\":{\"id\":\"2f2dd3ab-6b95-4a23-aaf1-89093d41e442\",\"type\":\"CDSView\"}},\"id\":\"08f1aa17-3b28-49ad-a22d-1f741dacf551\",\"type\":\"GlyphRenderer\"},{\"attributes\":{},\"id\":\"04a61e05-5461-4052-97a4-d05a6cffff6d\",\"type\":\"HelpTool\"},{\"attributes\":{\"fill_alpha\":{\"value\":0.5},\"fill_color\":{\"value\":\"red\"},\"line_alpha\":{\"value\":0.5},\"line_color\":{\"value\":\"red\"},\"size\":{\"units\":\"screen\",\"value\":5},\"x\":{\"value\":89},\"y\":{\"value\":0.23687999958496092}},\"id\":\"e7779582-87c2-4615-a9fe-ebb6ea27c2c4\",\"type\":\"Circle\"},{\"attributes\":{\"data_source\":{\"id\":\"64ab3ae8-035a-4b5a-974e-eeb8064f6429\",\"type\":\"ColumnDataSource\"},\"glyph\":{\"id\":\"7809c43e-f42f-4377-a321-5c30c064157b\",\"type\":\"Line\"},\"hover_glyph\":null,\"muted_glyph\":null,\"nonselection_glyph\":{\"id\":\"82ebd0f0-6b98-4e5d-b35a-f3bb7a079585\",\"type\":\"Line\"},\"selection_glyph\":null,\"view\":{\"id\":\"806919c4-acc6-445a-87eb-9bbcc197a1af\",\"type\":\"CDSView\"}},\"id\":\"bbcc7cdf-8e71-42f3-a481-ac0543e82376\",\"type\":\"GlyphRenderer\"},{\"attributes\":{\"label\":{\"value\":\"train - 256_32\"},\"renderers\":[{\"id\":\"bbcc7cdf-8e71-42f3-a481-ac0543e82376\",\"type\":\"GlyphRenderer\"}]},\"id\":\"d15d98ad-54df-414c-8b90-53af5796d6aa\",\"type\":\"LegendItem\"},{\"attributes\":{\"fill_alpha\":{\"value\":0.1},\"fill_color\":{\"value\":\"#1f77b4\"},\"line_alpha\":{\"value\":0.1},\"line_color\":{\"value\":\"#1f77b4\"},\"size\":{\"units\":\"screen\",\"value\":5},\"x\":{\"value\":89},\"y\":{\"value\":0.23687999958496092}},\"id\":\"468fa7c8-60fb-4319-ac21-adafc6215369\",\"type\":\"Circle\"},{\"attributes\":{\"line_alpha\":0.1,\"line_color\":\"#1f77b4\",\"line_dash\":[6],\"line_width\":3,\"x\":{\"field\":\"x\"},\"y\":{\"field\":\"y\"}},\"id\":\"82ebd0f0-6b98-4e5d-b35a-f3bb7a079585\",\"type\":\"Line\"},{\"attributes\":{\"source\":{\"id\":\"64ab3ae8-035a-4b5a-974e-eeb8064f6429\",\"type\":\"ColumnDataSource\"}},\"id\":\"806919c4-acc6-445a-87eb-9bbcc197a1af\",\"type\":\"CDSView\"},{\"attributes\":{\"callback\":null,\"column_names\":[\"x\",\"y\"],\"data\":{\"x\":{\"__ndarray__\":\"AQAAAAIAAAADAAAABAAAAAUAAAAGAAAABwAAAAgAAAAJAAAACgAAAAsAAAAMAAAADQAAAA4AAAAPAAAAEAAAABEAAAASAAAAEwAAABQAAAAVAAAAFgAAABcAAAAYAAAAGQAAABoAAAAbAAAAHAAAAB0AAAAeAAAAHwAAACAAAAAhAAAAIgAAACMAAAAkAAAAJQAAACYAAAAnAAAAKAAAACkAAAAqAAAAKwAAACwAAAAtAAAALgAAAC8AAAAwAAAAMQAAADIAAAAzAAAANAAAADUAAAA2AAAANwAAADgAAAA5AAAAOgAAADsAAAA8AAAAPQAAAD4AAAA/AAAAQAAAAEEAAABCAAAAQwAAAEQAAABFAAAARgAAAEcAAABIAAAASQAAAEoAAABLAAAATAAAAE0AAABOAAAATwAAAFAAAABRAAAAUgAAAFMAAABUAAAAVQAAAFYAAABXAAAAWAAAAFkAAABaAAAA\",\"dtype\":\"int32\",\"shape\":[90]},\"y\":[0.9912799999998093,0.9814600000011444,0.9830799999954223,0.9603199999977111,0.9562799999801637,0.9597600000251769,0.9409400000030517,0.8997800000091553,0.8666799999725342,0.9876600000083923,0.9370799999786377,0.8894800000244141,0.8431800000457764,0.882819999975586,0.8799399999786377,0.8403600001159668,0.9322000000473022,0.9344800000534057,0.7964800000976563,0.8843800000579835,0.7981800000305177,0.9957000000013352,0.892000000088501,0.9552399999801635,0.8992200000549316,0.8101000000183106,0.7805200000915528,0.80964,0.944580000050354,0.8855599999816894,0.36342000014648435,0.3502800006835938,0.3426400006591797,0.3383800003173828,0.33293999997558593,0.33126000068359374,0.3299999996826172,0.33540000017089844,0.3535200002441406,0.33372000048828127,0.3302800005371094,0.3478800006591797,0.3336999999145508,0.3439799997314453,0.329699999609375,0.35075999982910155,0.36752000058593753,0.3529599999267578,0.3862,0.35143999985351565,0.5973600001464844,0.3805600001831055,0.3693000004272461,0.3823600004882812,0.4039800003417969,0.3666400002929687,0.35522000039062496,0.38262000040283206,0.43870000002441406,0.3887600002441406,0.27953999985351563,0.27740000078125,0.2751800005371094,0.27336000073242184,0.27221999995117185,0.2717999996582031,0.2711200004638672,0.27092000029296875,0.2698799999267578,0.2690600005859375,0.26748000039062503,0.2687999996826172,0.26884000083007814,0.2683199996826172,0.26787999970703125,0.2679400001708984,0.26720000048828124,0.2665800006591797,0.2677000007080078,0.26578000068359375,0.26621999958496095,0.2646200005371094,0.2650799999511719,0.26488000041503906,0.26478,0.26533999999999996,0.26482,0.265060000390625,0.264080000390625,0.2640600001464844]}},\"id\":\"5a3494b2-7f80-4a23-8466-171e12c2e782\",\"type\":\"ColumnDataSource\"},{\"attributes\":{\"data_source\":{\"id\":\"9bc8b58e-1121-4efc-8f07-9dbccb40ab32\",\"type\":\"ColumnDataSource\"},\"glyph\":{\"id\":\"e7779582-87c2-4615-a9fe-ebb6ea27c2c4\",\"type\":\"Circle\"},\"hover_glyph\":null,\"muted_glyph\":null,\"nonselection_glyph\":{\"id\":\"468fa7c8-60fb-4319-ac21-adafc6215369\",\"type\":\"Circle\"},\"selection_glyph\":null,\"view\":{\"id\":\"48af144e-f134-42b2-a0e6-d4a4d7785d78\",\"type\":\"CDSView\"}},\"id\":\"2121aada-e53e-4c0a-b95b-325ecf5716db\",\"type\":\"GlyphRenderer\"},{\"attributes\":{\"line_color\":\"#2ca02c\",\"line_width\":3,\"x\":{\"field\":\"x\"},\"y\":{\"field\":\"y\"}},\"id\":\"9c44ace9-056a-4151-a5d3-22bd96c6e6b1\",\"type\":\"Line\"},{\"attributes\":{\"line_alpha\":0.1,\"line_color\":\"#1f77b4\",\"line_width\":3,\"x\":{\"field\":\"x\"},\"y\":{\"field\":\"y\"}},\"id\":\"1e9feb92-c904-4722-9fa3-59b255b6ac49\",\"type\":\"Line\"},{\"attributes\":{\"data_source\":{\"id\":\"6e1a1bd1-2512-4bf6-a59e-9e2475a7011e\",\"type\":\"ColumnDataSource\"},\"glyph\":{\"id\":\"cc80b37a-a3d9-4959-81e0-960e79bf9d5f\",\"type\":\"Circle\"},\"hover_glyph\":null,\"muted_glyph\":null,\"nonselection_glyph\":{\"id\":\"85b99e71-1ed9-470d-94bc-9dff3131b454\",\"type\":\"Circle\"},\"selection_glyph\":null,\"view\":{\"id\":\"15093036-8975-4319-bde7-9dc47d1b6994\",\"type\":\"CDSView\"}},\"id\":\"cad3cf4a-ca11-4505-aabf-ae572125e1ac\",\"type\":\"GlyphRenderer\"},{\"attributes\":{\"label\":{\"value\":\"validation - 256_32\"},\"renderers\":[{\"id\":\"8965d7d7-3ce3-4375-9102-cd2ec7c3cfc7\",\"type\":\"GlyphRenderer\"}]},\"id\":\"ddb0d126-fa8a-4d44-859c-f5b7b14bc22f\",\"type\":\"LegendItem\"},{\"attributes\":{\"data_source\":{\"id\":\"5a3494b2-7f80-4a23-8466-171e12c2e782\",\"type\":\"ColumnDataSource\"},\"glyph\":{\"id\":\"9c44ace9-056a-4151-a5d3-22bd96c6e6b1\",\"type\":\"Line\"},\"hover_glyph\":null,\"muted_glyph\":null,\"nonselection_glyph\":{\"id\":\"1e9feb92-c904-4722-9fa3-59b255b6ac49\",\"type\":\"Line\"},\"selection_glyph\":null,\"view\":{\"id\":\"eee71093-6133-4221-b1de-cd9af4ee87e8\",\"type\":\"CDSView\"}},\"id\":\"8965d7d7-3ce3-4375-9102-cd2ec7c3cfc7\",\"type\":\"GlyphRenderer\"},{\"attributes\":{\"fill_alpha\":{\"value\":0.5},\"fill_color\":{\"value\":\"red\"},\"line_alpha\":{\"value\":0.5},\"line_color\":{\"value\":\"red\"},\"size\":{\"units\":\"screen\",\"value\":5},\"x\":{\"value\":90},\"y\":{\"value\":0.2640600001464844}},\"id\":\"cc80b37a-a3d9-4959-81e0-960e79bf9d5f\",\"type\":\"Circle\"},{\"attributes\":{\"source\":{\"id\":\"6e1a1bd1-2512-4bf6-a59e-9e2475a7011e\",\"type\":\"ColumnDataSource\"}},\"id\":\"15093036-8975-4319-bde7-9dc47d1b6994\",\"type\":\"CDSView\"},{\"attributes\":{\"line_color\":\"#2ca02c\",\"line_dash\":[6],\"line_width\":3,\"x\":{\"field\":\"x\"},\"y\":{\"field\":\"y\"}},\"id\":\"7809c43e-f42f-4377-a321-5c30c064157b\",\"type\":\"Line\"},{\"attributes\":{\"fill_alpha\":{\"value\":0.1},\"fill_color\":{\"value\":\"#1f77b4\"},\"line_alpha\":{\"value\":0.1},\"line_color\":{\"value\":\"#1f77b4\"},\"size\":{\"units\":\"screen\",\"value\":5},\"x\":{\"value\":90},\"y\":{\"value\":0.2640600001464844}},\"id\":\"85b99e71-1ed9-470d-94bc-9dff3131b454\",\"type\":\"Circle\"},{\"attributes\":{\"data_source\":{\"id\":\"78e8ba5f-20f0-452c-9a43-2551c436d69a\",\"type\":\"ColumnDataSource\"},\"glyph\":{\"id\":\"6e5f33f5-7e59-4518-8ce1-0570b8e0793b\",\"type\":\"Line\"},\"hover_glyph\":null,\"muted_glyph\":null,\"nonselection_glyph\":{\"id\":\"1cd04251-cda1-4f4a-bb7e-73dad761ef76\",\"type\":\"Line\"},\"selection_glyph\":null,\"view\":{\"id\":\"1cba2f79-990d-41a8-8a7b-d30e15806fe9\",\"type\":\"CDSView\"}},\"id\":\"d6cc35fa-a16b-4528-b5e1-43a132d17eb7\",\"type\":\"GlyphRenderer\"},{\"attributes\":{\"line_alpha\":0.1,\"line_color\":\"#1f77b4\",\"line_dash\":[6],\"line_width\":3,\"x\":{\"field\":\"x\"},\"y\":{\"field\":\"y\"}},\"id\":\"1cd04251-cda1-4f4a-bb7e-73dad761ef76\",\"type\":\"Line\"},{\"attributes\":{\"source\":{\"id\":\"78e8ba5f-20f0-452c-9a43-2551c436d69a\",\"type\":\"ColumnDataSource\"}},\"id\":\"1cba2f79-990d-41a8-8a7b-d30e15806fe9\",\"type\":\"CDSView\"}],\"root_ids\":[\"5f9951cf-bc9b-491f-80b1-2f2f0dc64bcc\"]},\"title\":\"Bokeh Application\",\"version\":\"0.12.13\"}};\n",
       "  var render_items = [{\"docid\":\"63767bb4-c7db-47f9-b0b1-3d6e9d603d7a\",\"elementid\":\"cff6126c-53d4-4f39-9d8a-7c5a13eaa962\",\"modelid\":\"5f9951cf-bc9b-491f-80b1-2f2f0dc64bcc\"}];\n",
       "  root.Bokeh.embed.embed_items_notebook(docs_json, render_items);\n",
       "\n",
       "  }\n",
       "  if (root.Bokeh !== undefined) {\n",
       "    embed_document(root);\n",
       "  } else {\n",
       "    var attempts = 0;\n",
       "    var timer = setInterval(function(root) {\n",
       "      if (root.Bokeh !== undefined) {\n",
       "        embed_document(root);\n",
       "        clearInterval(timer);\n",
       "      }\n",
       "      attempts++;\n",
       "      if (attempts > 100) {\n",
       "        console.log(\"Bokeh: ERROR: Unable to run BokehJS code because BokehJS library is missing\")\n",
       "        clearInterval(timer);\n",
       "      }\n",
       "    }, 10, root)\n",
       "  }\n",
       "})(window);"
      ],
      "application/vnd.bokehjs_exec.v0+json": ""
     },
     "metadata": {
      "application/vnd.bokehjs_exec.v0+json": {
       "id": "5f9951cf-bc9b-491f-80b1-2f2f0dc64bcc"
      }
     },
     "output_type": "display_data"
    }
   ],
   "source": [
    "show(plots[1])"
   ]
  },
  {
   "cell_type": "code",
   "execution_count": 3,
   "metadata": {},
   "outputs": [
    {
     "data": {
      "text/html": [
       "\n",
       "<div class=\"bk-root\">\n",
       "    <div class=\"bk-plotdiv\" id=\"15a5277d-8efa-486f-aa59-8ec89efdedb6\"></div>\n",
       "</div>"
      ]
     },
     "metadata": {},
     "output_type": "display_data"
    },
    {
     "data": {
      "application/javascript": [
       "(function(root) {\n",
       "  function embed_document(root) {\n",
       "    \n",
       "  var docs_json = {\"fd8cd28f-9c4f-4432-8397-5554a04f4af2\":{\"roots\":{\"references\":[{\"attributes\":{\"callback\":null,\"column_names\":[\"x\",\"y\"],\"data\":{\"x\":{\"__ndarray__\":\"AQAAAAIAAAADAAAABAAAAAUAAAAGAAAABwAAAAgAAAAJAAAACgAAAAsAAAAMAAAADQAAAA4AAAAPAAAAEAAAABEAAAASAAAAEwAAABQAAAAVAAAAFgAAABcAAAAYAAAAGQAAABoAAAAbAAAAHAAAAB0AAAAeAAAAHwAAACAAAAAhAAAAIgAAACMAAAAkAAAAJQAAACYAAAAnAAAAKAAAACkAAAAqAAAAKwAAACwAAAAtAAAALgAAAC8AAAAwAAAAMQAAADIAAAAzAAAANAAAADUAAAA2AAAANwAAADgAAAA5AAAAOgAAADsAAAA8AAAAPQAAAD4AAAA/AAAAQAAAAEEAAABCAAAAQwAAAEQAAABFAAAARgAAAEcAAABIAAAASQAAAEoAAABLAAAATAAAAE0AAABOAAAATwAAAFAAAABRAAAAUgAAAFMAAABUAAAAVQAAAFYAAABXAAAAWAAAAFkAAABaAAAA\",\"dtype\":\"int32\",\"shape\":[90]},\"y\":[5.466275997849344,3.715048945977431,3.1098143375700738,2.8306451965869925,2.6694546931979097,2.562953981608202,2.4892703240936327,2.4360199337609707,2.39570757765192,2.364412790093756,2.337185766480526,2.3142239649915295,2.2959442390512175,2.283042290908864,2.2671713936892726,2.2565915679187856,2.247924973483158,2.2367727616676016,2.2280634522236786,2.2218476535919134,2.2191727380790964,2.2103859887317396,2.2042747234943776,2.20043702195026,2.1961141287495307,2.1922251143824862,2.1878713158310963,2.186685053094778,2.1815685468235713,2.1778003008330886,1.6352877944527429,1.5200140885799238,1.4729589218487276,1.4444872073962831,1.4243894742237093,1.411117164959822,1.4032638126445607,1.395360286161202,1.3947336543971705,1.3926031942723522,1.391483876849462,1.3913869699274355,1.3916058163787826,1.3911124992773984,1.3926059962894635,1.3901189637680067,1.388398979859193,1.3889242588469697,1.386103416582839,1.3835511577414303,1.384264793887264,1.3802402246807215,1.376146160247541,1.378257661367581,1.3763936006528041,1.371442759821417,1.3656852298096145,1.3644612475781865,1.363397906309777,1.3591525402053624,1.1580333744892446,1.1027035552454514,1.0804155005361253,1.0640897373563936,1.0535658759765874,1.0419600374820437,1.0354216659943252,1.027649503496797,1.022080707114373,1.0127270803441772,1.009612683479568,1.0027603435922994,0.9962792671110681,0.9902378727030676,0.98917001319386,0.9826747644748154,0.9792728650308704,0.9738946575730302,0.9683414665615518,0.9665415504778571,0.9383358421921016,0.9302108569252754,0.9273485284651433,0.9254373662442835,0.9244301611033485,0.9221675628312439,0.9221281995114853,0.9209120194627252,0.9213048348695693,0.9172118204934145]}},\"id\":\"e4ac780d-95a1-483c-abd0-0e876a801864\",\"type\":\"ColumnDataSource\"},{\"attributes\":{\"callback\":null,\"column_names\":[\"x\",\"y\"],\"data\":{\"x\":{\"__ndarray__\":\"AQAAAAIAAAADAAAABAAAAAUAAAAGAAAABwAAAAgAAAAJAAAACgAAAAsAAAAMAAAADQAAAA4AAAAPAAAAEAAAABEAAAASAAAAEwAAABQAAAAVAAAAFgAAABcAAAAYAAAAGQAAABoAAAAbAAAAHAAAAB0AAAAeAAAAHwAAACAAAAAhAAAAIgAAACMAAAAkAAAAJQAAACYAAAAnAAAAKAAAACkAAAAqAAAAKwAAACwAAAAtAAAALgAAAC8AAAAwAAAAMQAAADIAAAAzAAAANAAAADUAAAA2AAAANwAAADgAAAA5AAAAOgAAADsAAAA8AAAAPQAAAD4AAAA/AAAAQAAAAEEAAABCAAAAQwAAAEQAAABFAAAARgAAAEcAAABIAAAASQAAAEoAAABLAAAATAAAAE0AAABOAAAATwAAAFAAAABRAAAAUgAAAFMAAABUAAAAVQAAAFYAAABXAAAAWAAAAFkAAABaAAAA\",\"dtype\":\"int32\",\"shape\":[90]},\"y\":[0.19816847504472723,0.21963926074304926,0.2031054539062635,0.18279992358008235,0.1576933444239103,0.13664211588583047,0.11749258857204556,0.1065104344289532,0.09866359326843493,0.09385281910828387,0.08941048592440821,0.08625358840592558,0.08398445678850575,0.08177053654609949,0.07988958391269138,0.07882683947610211,0.07774886015012908,0.07695794848464037,0.07607113878215428,0.07559152769547309,0.07484472932395923,0.07456513507813657,0.07407254468115543,0.07342701677121932,0.07342760966637761,0.0729359165313682,0.07264450186957608,0.07237135110444763,0.07248713703135659,0.07206037572590565,0.056494927741510895,0.051901259885515354,0.05012304921118632,0.0489822282569716,0.04813804119845229,0.04761484166585818,0.047180513106679506,0.04681506306527746,0.046665741995261245,0.046428765463052066,0.04625950665042531,0.0463032548374842,0.0460793157534318,0.045927559751330116,0.04585272433183566,0.0457736427578034,0.04572792944172564,0.04556821164061,0.04559042554489182,0.04568174654235639,0.045692161488364365,0.045340072515529496,0.04530921882829964,0.045171677705267456,0.044965399366623325,0.04489010413039163,0.04477423346795273,0.044646478088589625,0.04446849264507284,0.04433142351221604,0.039063982322281025,0.03712962886651853,0.036354214997975656,0.03588712425631673,0.035484538307743514,0.03517814446798148,0.03490022080578449,0.034584817012000085,0.034388062104725135,0.03411732123653988,0.03396702685974155,0.03373235469072943,0.03365502697810785,0.03341204816061655,0.03321777120039358,0.03313282414640723,0.03300306483147455,0.032839876497191535,0.032696877363293166,0.032570476623818075,0.03176880307564397,0.03153383695757959,0.0313862214046349,0.031314253098721094,0.03125392447173535,0.031124373201442877,0.031204866396112727,0.031090823667274944,0.03101197561882701,0.03099817679085507]}},\"id\":\"1016dd8a-f08a-4a3c-a9b8-68128ce95a9a\",\"type\":\"ColumnDataSource\"},{\"attributes\":{\"line_alpha\":0.1,\"line_color\":\"#1f77b4\",\"line_width\":3,\"x\":{\"field\":\"x\"},\"y\":{\"field\":\"y\"}},\"id\":\"fe973d88-1e10-4e41-8a66-ac0bd816e248\",\"type\":\"Line\"},{\"attributes\":{\"source\":{\"id\":\"e4ac780d-95a1-483c-abd0-0e876a801864\",\"type\":\"ColumnDataSource\"}},\"id\":\"3fdfda1b-15c7-4602-a90c-793993f97db4\",\"type\":\"CDSView\"},{\"attributes\":{\"line_alpha\":0.1,\"line_color\":\"#1f77b4\",\"line_dash\":[6],\"line_width\":3,\"x\":{\"field\":\"x\"},\"y\":{\"field\":\"y\"}},\"id\":\"bcc5d35e-5f82-46ac-b64a-a23eeee4cd5d\",\"type\":\"Line\"},{\"attributes\":{\"line_color\":\"#ff7f0e\",\"line_width\":3,\"x\":{\"field\":\"x\"},\"y\":{\"field\":\"y\"}},\"id\":\"e69c48c2-60b6-455b-a160-310b76ff6ba0\",\"type\":\"Line\"},{\"attributes\":{\"callback\":null,\"column_names\":[\"x\",\"y\"],\"data\":{\"x\":{\"__ndarray__\":\"AQAAAAIAAAADAAAABAAAAAUAAAAGAAAABwAAAAgAAAAJAAAACgAAAAsAAAAMAAAADQAAAA4AAAAPAAAAEAAAABEAAAASAAAAEwAAABQAAAAVAAAAFgAAABcAAAAYAAAAGQAAABoAAAAbAAAAHAAAAB0AAAAeAAAAHwAAACAAAAAhAAAAIgAAACMAAAAkAAAAJQAAACYAAAAnAAAAKAAAACkAAAAqAAAAKwAAACwAAAAtAAAALgAAAC8AAAAwAAAAMQAAADIAAAAzAAAANAAAADUAAAA2AAAANwAAADgAAAA5AAAAOgAAADsAAAA8AAAAPQAAAD4AAAA/AAAAQAAAAEEAAABCAAAAQwAAAEQAAABFAAAARgAAAEcAAABIAAAASQAAAEoAAABLAAAATAAAAE0AAABOAAAATwAAAFAAAABRAAAAUgAAAFMAAABUAAAAVQAAAFYAAABXAAAAWAAAAFkAAABaAAAA\",\"dtype\":\"int32\",\"shape\":[90]},\"y\":[6.7633033872627415,6.217889507426397,5.856642572594175,5.561400069694018,5.272970947384407,4.898124030847847,4.5220061333391675,4.231051100932464,3.980769291328732,3.775758245049184,3.6290412593795853,3.5029460571552784,3.3838745504376813,3.302109533027927,3.2208590227138685,3.1655469591813743,3.121864319226359,3.069602171362762,3.0004688710764054,2.9804374571267287,2.965710688102678,2.9557313730283465,2.9019569736105955,2.856064011281951,2.890433694290584,2.8575189745384764,2.82174650761676,2.9752287816668868,2.7715487442360267,2.8003769957543514,1.9503735395375108,1.7826796108146212,1.7170508726323743,1.6721090395731202,1.6350339981850441,1.6052932008392626,1.581819329165498,1.557943730484754,1.5409829320278978,1.5284042303569312,1.517156992954713,1.5060743589580388,1.4980433111763625,1.4920989282922097,1.486786438750848,1.4830882087061643,1.4824513381088835,1.4779139021856544,1.4772504710817045,1.4795916302304566,1.476556575675142,1.471905668646313,1.4747779385157422,1.4746523741611721,1.4719448992822124,1.4714264892248359,1.466982553967342,1.4688667210896729,1.4686657439461077,1.463494853157467,1.2672190211487133,1.2215031241617889,1.2052803626453923,1.1931358712045144,1.1815159496485297,1.170782038145245,1.1668832495826618,1.1576260231195068,1.1530864173994755,1.145302442556266,1.1414539398678183,1.1345934615068574,1.130316227666552,1.1250567921252153,1.124284546879519,1.1163864878637477,1.1143725519399734,1.1091089143293114,1.1031634081322212,1.1020544794190446,1.0870779708145788,1.0819013995410676,1.0787179689342468,1.0785120805593413,1.075973304381982,1.0773995232723133,1.07160307316946,1.0718756971319228,1.0721953290908777,1.070613224797503]}},\"id\":\"14b6aad7-acf1-458f-bc39-c883f45e96ec\",\"type\":\"ColumnDataSource\"},{\"attributes\":{\"source\":{\"id\":\"1016dd8a-f08a-4a3c-a9b8-68128ce95a9a\",\"type\":\"ColumnDataSource\"}},\"id\":\"b5679f87-bd7c-47de-bb5d-633f3702fdca\",\"type\":\"CDSView\"},{\"attributes\":{\"callback\":null,\"column_names\":[\"x\",\"y\"],\"data\":{\"x\":{\"__ndarray__\":\"AQAAAAIAAAADAAAABAAAAAUAAAAGAAAABwAAAAgAAAAJAAAACgAAAAsAAAAMAAAADQAAAA4AAAAPAAAAEAAAABEAAAASAAAAEwAAABQAAAAVAAAAFgAAABcAAAAYAAAAGQAAABoAAAAbAAAAHAAAAB0AAAAeAAAAHwAAACAAAAAhAAAAIgAAACMAAAAkAAAAJQAAACYAAAAnAAAAKAAAACkAAAAqAAAAKwAAACwAAAAtAAAALgAAAC8AAAAwAAAAMQAAADIAAAAzAAAANAAAADUAAAA2AAAANwAAADgAAAA5AAAAOgAAADsAAAA8AAAAPQAAAD4AAAA/AAAAQAAAAEEAAABCAAAAQwAAAEQAAABFAAAARgAAAEcAAABIAAAASQAAAEoAAABLAAAATAAAAE0AAABOAAAATwAAAFAAAABRAAAAUgAAAFMAAABUAAAAVQAAAFYAAABXAAAAWAAAAFkAAABaAAAA\",\"dtype\":\"int32\",\"shape\":[90]},\"y\":[5.525159934234619,6.804961585540772,6.138229990692139,5.419581368713379,4.472986277008057,3.78161971534729,3.230950474472046,2.867860168914795,2.722605421600342,2.4764770419311524,2.4497297078704836,2.5596342189788817,2.3710525285339354,2.337527140274048,2.211386076889038,2.106347930145264,2.0706373848724366,2.152337370147705,2.06944960521698,2.0098569073486328,1.9818155377197266,1.9612232871246338,2.0117795948028565,1.8997879574584962,2.0898974518585205,1.8945850728225708,1.991924743232727,2.121803048858643,1.9891814401245118,1.8461304160308838,1.390771088027954,1.3353457962799071,1.3043705197906494,1.2843779148101806,1.2677054523468017,1.2519605611419677,1.2540714326095581,1.2469355830001831,1.2477082034683227,1.241053046951294,1.2486035440444947,1.2457551808547973,1.241390608215332,1.245538186340332,1.2435624340438842,1.2447297624588012,1.2324982934188842,1.2313331592178345,1.2428685779571533,1.2702386404037476,1.2512489939880371,1.2561064530944823,1.230896340675354,1.252230252456665,1.245303183708191,1.2238387567901612,1.2438008378219605,1.2229083378601073,1.2258591752243042,1.2287253253936767,1.095027719268799,1.0782199978256226,1.069437434387207,1.063653366317749,1.0548114653778076,1.0538289235687255,1.0516525896453857,1.0468781955718993,1.0453675918197631,1.0453395625686646,1.045875756187439,1.044435426979065,1.0410655983734132,1.0434296273803711,1.03835122215271,1.0407433319091797,1.0357956577682494,1.040724382686615,1.0371133034896851,1.0362454829406738,1.0260044157791137,1.0215993745231629,1.0214741679000854,1.0193945734405518,1.0182827255249023,1.0207823220062255,1.0194741287994384,1.017226784324646,1.0174043379974365,1.0207238229751587]}},\"id\":\"d1b1d821-2b08-49f8-869b-d94408b29e48\",\"type\":\"ColumnDataSource\"},{\"attributes\":{\"line_color\":\"#ff7f0e\",\"line_dash\":[6],\"line_width\":3,\"x\":{\"field\":\"x\"},\"y\":{\"field\":\"y\"}},\"id\":\"51155a04-bae1-47af-9c2d-4e2692f5f1fe\",\"type\":\"Line\"},{\"attributes\":{\"line_alpha\":0.1,\"line_color\":\"#1f77b4\",\"line_dash\":[6],\"line_width\":3,\"x\":{\"field\":\"x\"},\"y\":{\"field\":\"y\"}},\"id\":\"8714d657-15c6-46d1-98fd-3f6513ec172b\",\"type\":\"Line\"},{\"attributes\":{\"source\":{\"id\":\"d1b1d821-2b08-49f8-869b-d94408b29e48\",\"type\":\"ColumnDataSource\"}},\"id\":\"512511b2-a372-4d8b-9005-1b2c055b0840\",\"type\":\"CDSView\"},{\"attributes\":{\"data_source\":{\"id\":\"1016dd8a-f08a-4a3c-a9b8-68128ce95a9a\",\"type\":\"ColumnDataSource\"},\"glyph\":{\"id\":\"51155a04-bae1-47af-9c2d-4e2692f5f1fe\",\"type\":\"Line\"},\"hover_glyph\":null,\"muted_glyph\":null,\"nonselection_glyph\":{\"id\":\"8714d657-15c6-46d1-98fd-3f6513ec172b\",\"type\":\"Line\"},\"selection_glyph\":null,\"view\":{\"id\":\"b5679f87-bd7c-47de-bb5d-633f3702fdca\",\"type\":\"CDSView\"}},\"id\":\"db50959c-7726-491e-8643-bdce6a3d4d7e\",\"type\":\"GlyphRenderer\"},{\"attributes\":{\"line_alpha\":0.1,\"line_color\":\"#1f77b4\",\"line_width\":3,\"x\":{\"field\":\"x\"},\"y\":{\"field\":\"y\"}},\"id\":\"86803068-86b0-44cd-b507-354007de2d54\",\"type\":\"Line\"},{\"attributes\":{\"label\":{\"value\":\"validation - 8192_1\"},\"renderers\":[{\"id\":\"6feaa91d-1f11-495c-9476-6d8e139f8094\",\"type\":\"GlyphRenderer\"}]},\"id\":\"97b522fe-3419-4385-ba01-f082b99d7a5e\",\"type\":\"LegendItem\"},{\"attributes\":{\"label\":{\"value\":\"validation - 256_32\"},\"renderers\":[{\"id\":\"bddab80a-7a13-4e7d-9628-d31b570fd4d1\",\"type\":\"GlyphRenderer\"}]},\"id\":\"d560cee8-7e5d-4b21-8557-cc44c07bbaae\",\"type\":\"LegendItem\"},{\"attributes\":{\"data_source\":{\"id\":\"d1b1d821-2b08-49f8-869b-d94408b29e48\",\"type\":\"ColumnDataSource\"},\"glyph\":{\"id\":\"e69c48c2-60b6-455b-a160-310b76ff6ba0\",\"type\":\"Line\"},\"hover_glyph\":null,\"muted_glyph\":null,\"nonselection_glyph\":{\"id\":\"fe973d88-1e10-4e41-8a66-ac0bd816e248\",\"type\":\"Line\"},\"selection_glyph\":null,\"view\":{\"id\":\"512511b2-a372-4d8b-9005-1b2c055b0840\",\"type\":\"CDSView\"}},\"id\":\"6feaa91d-1f11-495c-9476-6d8e139f8094\",\"type\":\"GlyphRenderer\"},{\"attributes\":{\"active_drag\":\"auto\",\"active_inspect\":\"auto\",\"active_scroll\":\"auto\",\"active_tap\":\"auto\",\"tools\":[{\"id\":\"8ad7506f-0605-4b82-ab94-0a4df43a2eb3\",\"type\":\"PanTool\"},{\"id\":\"be8d416c-33dd-4911-ba16-454fecafd4c9\",\"type\":\"WheelZoomTool\"},{\"id\":\"98745fae-fce4-42bf-a9d2-bceace164f6d\",\"type\":\"BoxZoomTool\"},{\"id\":\"ef3df255-4eeb-4b1e-8125-9d8a9e4f4c8f\",\"type\":\"SaveTool\"},{\"id\":\"97b66589-faad-45ee-8934-c679f23efddd\",\"type\":\"ResetTool\"},{\"id\":\"8b391ff9-a92b-481a-937d-910ecc557efb\",\"type\":\"HelpTool\"}]},\"id\":\"2121722c-c71d-4d93-b6f2-4ff280fe6bcc\",\"type\":\"Toolbar\"},{\"attributes\":{\"callback\":null},\"id\":\"f74e7ddf-fcd6-4a19-87ae-94cf64ba507a\",\"type\":\"DataRange1d\"},{\"attributes\":{\"callback\":null,\"column_names\":[\"x\",\"y\"],\"data\":{\"x\":{\"__ndarray__\":\"AQAAAAIAAAADAAAABAAAAAUAAAAGAAAABwAAAAgAAAAJAAAACgAAAAsAAAAMAAAADQAAAA4AAAAPAAAAEAAAABEAAAASAAAAEwAAABQAAAAVAAAAFgAAABcAAAAYAAAAGQAAABoAAAAbAAAAHAAAAB0AAAAeAAAAHwAAACAAAAAhAAAAIgAAACMAAAAkAAAAJQAAACYAAAAnAAAAKAAAACkAAAAqAAAAKwAAACwAAAAtAAAALgAAAC8AAAAwAAAAMQAAADIAAAAzAAAANAAAADUAAAA2AAAANwAAADgAAAA5AAAAOgAAADsAAAA8AAAAPQAAAD4AAAA/AAAAQAAAAEEAAABCAAAAQwAAAEQAAABFAAAARgAAAEcAAABIAAAASQAAAEoAAABLAAAATAAAAE0AAABOAAAATwAAAFAAAABRAAAAUgAAAFMAAABUAAAAVQAAAFYAAABXAAAAWAAAAFkAAABaAAAA\",\"dtype\":\"int32\",\"shape\":[90]},\"y\":[6.5299654335021975,6.477738202972412,16.794819512634277,5.849211119842529,6.052752761230469,7.258273574066162,6.223866955871582,5.3355398023986815,4.795684785003662,8.755180961608886,6.56583291229248,5.834226940460205,4.780962880554199,5.638234652404785,5.284919326934815,5.339713499145508,6.306998389129639,6.996193649139404,4.445802755279541,5.778762119750977,4.459434420623779,13.500469226379394,5.8977093495178226,7.1528279457092285,6.124169618988037,4.647251495666504,4.790305785675049,5.006272477722168,8.649698707580566,6.192495420684814,1.5088588673782348,1.4459213156509398,1.4100271406555176,1.379165625076294,1.3607464738082886,1.34497828125,1.349447839126587,1.3667314469909668,1.4637034733963012,1.3619812686920165,1.3525007356643677,1.4279207400512695,1.376568755455017,1.4099911185455323,1.359369437828064,1.4384634498214721,1.5284716683578492,1.4538164796447755,1.6152186031723021,1.4556319483566285,3.042085517501831,1.6060311281585693,1.5420633682632445,1.6250414070129395,1.7240546288681031,1.520110648727417,1.4997334281158448,1.6248514191055299,1.9680514209747315,1.647732092552185,1.1171337199783324,1.1057629137802123,1.097683285675049,1.0922021533584594,1.0918170651626586,1.0902770655059815,1.0835719367599488,1.0818003621673584,1.0817675201034547,1.078808006629944,1.0727509825515746,1.0753478183364868,1.075366446685791,1.0726463883590698,1.0685597631454469,1.068976446838379,1.0690774768447875,1.0677550257110595,1.0676424385070802,1.064481834640503,1.0611187396621704,1.058392022857666,1.0560389764022826,1.0568236910629272,1.0549710282325744,1.0557807809829711,1.0549565537261962,1.0542389214324952,1.0538685690689087,1.0527737237548829]}},\"id\":\"d185f4dc-4e94-4394-861f-675ca3d6389d\",\"type\":\"ColumnDataSource\"},{\"attributes\":{\"click_policy\":\"hide\",\"items\":[{\"id\":\"0e7e7b42-cbf7-421e-b431-aca23f135367\",\"type\":\"LegendItem\"},{\"id\":\"fdb5dda4-4319-46b6-94c1-f186f0a733fa\",\"type\":\"LegendItem\"},{\"id\":\"e043c877-36da-4303-837a-9f683fe3f6e0\",\"type\":\"LegendItem\"},{\"id\":\"97b522fe-3419-4385-ba01-f082b99d7a5e\",\"type\":\"LegendItem\"},{\"id\":\"66eaccc1-2d9a-45b3-82a8-f7a32257bea7\",\"type\":\"LegendItem\"},{\"id\":\"d560cee8-7e5d-4b21-8557-cc44c07bbaae\",\"type\":\"LegendItem\"}],\"location\":\"bottom_left\",\"plot\":{\"id\":\"ec84d176-5bfb-4865-8235-946c73522c67\",\"subtype\":\"Figure\",\"type\":\"Plot\"}},\"id\":\"73ae2993-005d-4848-80f4-6d8260a08219\",\"type\":\"Legend\"},{\"attributes\":{\"callback\":null,\"column_names\":[\"x\",\"y\"],\"data\":{\"x\":{\"__ndarray__\":\"AQAAAAIAAAADAAAABAAAAAUAAAAGAAAABwAAAAgAAAAJAAAACgAAAAsAAAAMAAAADQAAAA4AAAAPAAAAEAAAABEAAAASAAAAEwAAABQAAAAVAAAAFgAAABcAAAAYAAAAGQAAABoAAAAbAAAAHAAAAB0AAAAeAAAAHwAAACAAAAAhAAAAIgAAACMAAAAkAAAAJQAAACYAAAAnAAAAKAAAACkAAAAqAAAAKwAAACwAAAAtAAAALgAAAC8AAAAwAAAAMQAAADIAAAAzAAAANAAAADUAAAA2AAAANwAAADgAAAA5AAAAOgAAADsAAAA8AAAAPQAAAD4AAAA/AAAAQAAAAEEAAABCAAAAQwAAAEQAAABFAAAARgAAAEcAAABIAAAASQAAAEoAAABLAAAATAAAAE0AAABOAAAATwAAAFAAAABRAAAAUgAAAFMAAABUAAAAVQAAAFYAAABXAAAAWAAAAFkAAABaAAAA\",\"dtype\":\"int32\",\"shape\":[90]},\"y\":[4.493376360321045,3.2346071715545652,2.884599764099121,2.480370271911621,2.2585446325683596,2.389369236907959,2.22948926361084,2.221680208206177,2.4573490605163575,2.245195956115723,2.2005182526397706,2.069060320739746,2.0486523194885256,2.0594588262939455,2.0461267365264892,2.117572138366699,2.0566404222106933,2.10845626701355,2.377163919830322,1.9742742096328736,1.9977358380126953,2.184913236618042,2.0548287017059326,1.9889740564727783,2.125024327850342,1.9992236580657958,1.8888084350967407,1.9973520917510987,2.0492301554107666,1.9570195891952515,1.2797341160202027,1.22335160446167,1.1988677026367187,1.1825112502670287,1.2097173246383668,1.1821542106246947,1.1744022219848633,1.185554750366211,1.1750810637664795,1.1962292418289184,1.211465174407959,1.2040760110092164,1.2186634650421142,1.2277350443649293,1.1806587370300292,1.2197624226760864,1.1929592823028565,1.212087907562256,1.197770472946167,1.2088668728637695,1.2023680183410645,1.212334807548523,1.2078700390625,1.1832300122451782,1.2070693841171265,1.238607806968689,1.208642328529358,1.2297978511810304,1.2213144916915895,1.2488689303588867,1.012933881416321,0.9935497012329102,0.9818431276702881,0.9823567039680481,0.9752802014732361,0.9725577382659912,0.9685514155960083,0.9698715229797363,0.9661200273132324,0.9661300813293457,0.9652270193481445,0.9652358314895629,0.9658371592903138,0.9615533235549927,0.9597862707138062,0.9604525426483155,0.9599528736305237,0.9600521181869507,0.960332522315979,0.9595070024871826,0.9468649972915649,0.9435160349082947,0.943732594871521,0.9415329566383361,0.9391674461746216,0.9390440661048889,0.9410821620559693,0.939781604270935,0.9404178450584412,0.942553798942566]}},\"id\":\"f04f6fbd-c84b-460d-ab47-96d1000e9767\",\"type\":\"ColumnDataSource\"},{\"attributes\":{},\"id\":\"5de3808f-9ffa-475c-aace-c75342e4b0f3\",\"type\":\"LinearScale\"},{\"attributes\":{\"label\":{\"value\":\"train - 256_1\"},\"renderers\":[{\"id\":\"cc4b77ab-d4d0-4bc4-a994-79926bc97a4a\",\"type\":\"GlyphRenderer\"}]},\"id\":\"0e7e7b42-cbf7-421e-b431-aca23f135367\",\"type\":\"LegendItem\"},{\"attributes\":{\"line_color\":\"#2ca02c\",\"line_width\":3,\"x\":{\"field\":\"x\"},\"y\":{\"field\":\"y\"}},\"id\":\"4ecb9212-64ec-41a7-acb7-23e6c39ef23a\",\"type\":\"Line\"},{\"attributes\":{\"callback\":null},\"id\":\"402353eb-612b-4fed-8b64-54d26516fa90\",\"type\":\"DataRange1d\"},{\"attributes\":{\"line_color\":\"#1f77b4\",\"line_dash\":[6],\"line_width\":3,\"x\":{\"field\":\"x\"},\"y\":{\"field\":\"y\"}},\"id\":\"5d738f1e-feee-4c66-8605-72287d361740\",\"type\":\"Line\"},{\"attributes\":{},\"id\":\"26f82f91-236e-4ba6-a6da-b488e44eec0b\",\"type\":\"BasicTickFormatter\"},{\"attributes\":{\"background_fill_color\":{\"value\":\"#fafafa\"},\"below\":[{\"id\":\"7866c3b0-a64d-40eb-a2fe-188ea4c126c3\",\"type\":\"LinearAxis\"}],\"left\":[{\"id\":\"05121909-0944-422b-b889-e400075fa03d\",\"type\":\"LogAxis\"}],\"min_border\":10,\"min_border_left\":50,\"renderers\":[{\"id\":\"7866c3b0-a64d-40eb-a2fe-188ea4c126c3\",\"type\":\"LinearAxis\"},{\"id\":\"ee09cb6f-3190-4154-b529-a73ee554c785\",\"type\":\"Grid\"},{\"id\":\"05121909-0944-422b-b889-e400075fa03d\",\"type\":\"LogAxis\"},{\"id\":\"47dc586d-2cc7-4e40-9e99-2934165eb644\",\"type\":\"Grid\"},{\"id\":\"2b171536-6e2a-48bc-a5ea-c73fc7e1cffd\",\"type\":\"BoxAnnotation\"},{\"id\":\"73ae2993-005d-4848-80f4-6d8260a08219\",\"type\":\"Legend\"},{\"id\":\"cc4b77ab-d4d0-4bc4-a994-79926bc97a4a\",\"type\":\"GlyphRenderer\"},{\"id\":\"37c9acd0-59c7-41ea-93c1-801de50e6138\",\"type\":\"GlyphRenderer\"},{\"id\":\"db50959c-7726-491e-8643-bdce6a3d4d7e\",\"type\":\"GlyphRenderer\"},{\"id\":\"6feaa91d-1f11-495c-9476-6d8e139f8094\",\"type\":\"GlyphRenderer\"},{\"id\":\"129c32c6-ded3-43f3-acde-4515df849c49\",\"type\":\"GlyphRenderer\"},{\"id\":\"bddab80a-7a13-4e7d-9628-d31b570fd4d1\",\"type\":\"GlyphRenderer\"}],\"title\":{\"id\":\"84ffc66c-8844-4c89-a81f-10f4b76a4d6c\",\"type\":\"Title\"},\"toolbar\":{\"id\":\"2121722c-c71d-4d93-b6f2-4ff280fe6bcc\",\"type\":\"Toolbar\"},\"x_range\":{\"id\":\"f74e7ddf-fcd6-4a19-87ae-94cf64ba507a\",\"type\":\"DataRange1d\"},\"x_scale\":{\"id\":\"5de3808f-9ffa-475c-aace-c75342e4b0f3\",\"type\":\"LinearScale\"},\"y_range\":{\"id\":\"402353eb-612b-4fed-8b64-54d26516fa90\",\"type\":\"DataRange1d\"},\"y_scale\":{\"id\":\"a7ace28b-241d-447b-97eb-bf6bf68b933e\",\"type\":\"LogScale\"}},\"id\":\"ec84d176-5bfb-4865-8235-946c73522c67\",\"subtype\":\"Figure\",\"type\":\"Plot\"},{\"attributes\":{\"num_minor_ticks\":10},\"id\":\"b9283f15-c92e-46db-82ce-368be84a22e5\",\"type\":\"LogTicker\"},{\"attributes\":{\"axis_label\":\"t [Epochs]\",\"formatter\":{\"id\":\"26f82f91-236e-4ba6-a6da-b488e44eec0b\",\"type\":\"BasicTickFormatter\"},\"plot\":{\"id\":\"ec84d176-5bfb-4865-8235-946c73522c67\",\"subtype\":\"Figure\",\"type\":\"Plot\"},\"ticker\":{\"id\":\"d9f78940-1abd-44c0-aed1-8f3feebe7c2a\",\"type\":\"BasicTicker\"}},\"id\":\"7866c3b0-a64d-40eb-a2fe-188ea4c126c3\",\"type\":\"LinearAxis\"},{\"attributes\":{\"data_source\":{\"id\":\"e4ac780d-95a1-483c-abd0-0e876a801864\",\"type\":\"ColumnDataSource\"},\"glyph\":{\"id\":\"5d738f1e-feee-4c66-8605-72287d361740\",\"type\":\"Line\"},\"hover_glyph\":null,\"muted_glyph\":null,\"nonselection_glyph\":{\"id\":\"bcc5d35e-5f82-46ac-b64a-a23eeee4cd5d\",\"type\":\"Line\"},\"selection_glyph\":null,\"view\":{\"id\":\"3fdfda1b-15c7-4602-a90c-793993f97db4\",\"type\":\"CDSView\"}},\"id\":\"cc4b77ab-d4d0-4bc4-a994-79926bc97a4a\",\"type\":\"GlyphRenderer\"},{\"attributes\":{\"source\":{\"id\":\"d185f4dc-4e94-4394-861f-675ca3d6389d\",\"type\":\"ColumnDataSource\"}},\"id\":\"e9d9a65c-6ac2-4933-bf32-01772d273793\",\"type\":\"CDSView\"},{\"attributes\":{},\"id\":\"d9f78940-1abd-44c0-aed1-8f3feebe7c2a\",\"type\":\"BasicTicker\"},{\"attributes\":{\"plot\":{\"id\":\"ec84d176-5bfb-4865-8235-946c73522c67\",\"subtype\":\"Figure\",\"type\":\"Plot\"},\"ticker\":{\"id\":\"d9f78940-1abd-44c0-aed1-8f3feebe7c2a\",\"type\":\"BasicTicker\"}},\"id\":\"ee09cb6f-3190-4154-b529-a73ee554c785\",\"type\":\"Grid\"},{\"attributes\":{},\"id\":\"a7ace28b-241d-447b-97eb-bf6bf68b933e\",\"type\":\"LogScale\"},{\"attributes\":{\"plot\":null,\"text\":\"Training & Test Loss\"},\"id\":\"84ffc66c-8844-4c89-a81f-10f4b76a4d6c\",\"type\":\"Title\"},{\"attributes\":{\"line_alpha\":0.1,\"line_color\":\"#1f77b4\",\"line_width\":3,\"x\":{\"field\":\"x\"},\"y\":{\"field\":\"y\"}},\"id\":\"3ab68dfa-cbec-4900-adc0-8244bf70d2b0\",\"type\":\"Line\"},{\"attributes\":{\"axis_label\":\"L(w(t))\",\"formatter\":{\"id\":\"4aacbeea-c14d-48b7-b13e-9f0f790dc92c\",\"type\":\"LogTickFormatter\"},\"plot\":{\"id\":\"ec84d176-5bfb-4865-8235-946c73522c67\",\"subtype\":\"Figure\",\"type\":\"Plot\"},\"ticker\":{\"id\":\"b9283f15-c92e-46db-82ce-368be84a22e5\",\"type\":\"LogTicker\"}},\"id\":\"05121909-0944-422b-b889-e400075fa03d\",\"type\":\"LogAxis\"},{\"attributes\":{\"data_source\":{\"id\":\"f04f6fbd-c84b-460d-ab47-96d1000e9767\",\"type\":\"ColumnDataSource\"},\"glyph\":{\"id\":\"72eb99af-c5aa-4edf-9521-b22668a860a6\",\"type\":\"Line\"},\"hover_glyph\":null,\"muted_glyph\":null,\"nonselection_glyph\":{\"id\":\"3ab68dfa-cbec-4900-adc0-8244bf70d2b0\",\"type\":\"Line\"},\"selection_glyph\":null,\"view\":{\"id\":\"fe21c57c-f9d9-4950-abfe-b8fd84d13268\",\"type\":\"CDSView\"}},\"id\":\"37c9acd0-59c7-41ea-93c1-801de50e6138\",\"type\":\"GlyphRenderer\"},{\"attributes\":{\"ticker\":null},\"id\":\"4aacbeea-c14d-48b7-b13e-9f0f790dc92c\",\"type\":\"LogTickFormatter\"},{\"attributes\":{\"dimension\":1,\"plot\":{\"id\":\"ec84d176-5bfb-4865-8235-946c73522c67\",\"subtype\":\"Figure\",\"type\":\"Plot\"},\"ticker\":{\"id\":\"b9283f15-c92e-46db-82ce-368be84a22e5\",\"type\":\"LogTicker\"}},\"id\":\"47dc586d-2cc7-4e40-9e99-2934165eb644\",\"type\":\"Grid\"},{\"attributes\":{\"line_color\":\"#1f77b4\",\"line_width\":3,\"x\":{\"field\":\"x\"},\"y\":{\"field\":\"y\"}},\"id\":\"72eb99af-c5aa-4edf-9521-b22668a860a6\",\"type\":\"Line\"},{\"attributes\":{\"bottom_units\":\"screen\",\"fill_alpha\":{\"value\":0.5},\"fill_color\":{\"value\":\"lightgrey\"},\"left_units\":\"screen\",\"level\":\"overlay\",\"line_alpha\":{\"value\":1.0},\"line_color\":{\"value\":\"black\"},\"line_dash\":[4,4],\"line_width\":{\"value\":2},\"plot\":null,\"render_mode\":\"css\",\"right_units\":\"screen\",\"top_units\":\"screen\"},\"id\":\"2b171536-6e2a-48bc-a5ea-c73fc7e1cffd\",\"type\":\"BoxAnnotation\"},{\"attributes\":{\"label\":{\"value\":\"validation - 256_1\"},\"renderers\":[{\"id\":\"37c9acd0-59c7-41ea-93c1-801de50e6138\",\"type\":\"GlyphRenderer\"}]},\"id\":\"fdb5dda4-4319-46b6-94c1-f186f0a733fa\",\"type\":\"LegendItem\"},{\"attributes\":{\"source\":{\"id\":\"f04f6fbd-c84b-460d-ab47-96d1000e9767\",\"type\":\"ColumnDataSource\"}},\"id\":\"fe21c57c-f9d9-4950-abfe-b8fd84d13268\",\"type\":\"CDSView\"},{\"attributes\":{\"label\":{\"value\":\"train - 8192_1\"},\"renderers\":[{\"id\":\"db50959c-7726-491e-8643-bdce6a3d4d7e\",\"type\":\"GlyphRenderer\"}]},\"id\":\"e043c877-36da-4303-837a-9f683fe3f6e0\",\"type\":\"LegendItem\"},{\"attributes\":{\"line_color\":\"#2ca02c\",\"line_dash\":[6],\"line_width\":3,\"x\":{\"field\":\"x\"},\"y\":{\"field\":\"y\"}},\"id\":\"9163b1be-c575-42af-b401-5caa928ee753\",\"type\":\"Line\"},{\"attributes\":{},\"id\":\"8ad7506f-0605-4b82-ab94-0a4df43a2eb3\",\"type\":\"PanTool\"},{\"attributes\":{},\"id\":\"be8d416c-33dd-4911-ba16-454fecafd4c9\",\"type\":\"WheelZoomTool\"},{\"attributes\":{\"overlay\":{\"id\":\"2b171536-6e2a-48bc-a5ea-c73fc7e1cffd\",\"type\":\"BoxAnnotation\"}},\"id\":\"98745fae-fce4-42bf-a9d2-bceace164f6d\",\"type\":\"BoxZoomTool\"},{\"attributes\":{\"data_source\":{\"id\":\"d185f4dc-4e94-4394-861f-675ca3d6389d\",\"type\":\"ColumnDataSource\"},\"glyph\":{\"id\":\"4ecb9212-64ec-41a7-acb7-23e6c39ef23a\",\"type\":\"Line\"},\"hover_glyph\":null,\"muted_glyph\":null,\"nonselection_glyph\":{\"id\":\"86803068-86b0-44cd-b507-354007de2d54\",\"type\":\"Line\"},\"selection_glyph\":null,\"view\":{\"id\":\"e9d9a65c-6ac2-4933-bf32-01772d273793\",\"type\":\"CDSView\"}},\"id\":\"bddab80a-7a13-4e7d-9628-d31b570fd4d1\",\"type\":\"GlyphRenderer\"},{\"attributes\":{},\"id\":\"ef3df255-4eeb-4b1e-8125-9d8a9e4f4c8f\",\"type\":\"SaveTool\"},{\"attributes\":{},\"id\":\"97b66589-faad-45ee-8934-c679f23efddd\",\"type\":\"ResetTool\"},{\"attributes\":{},\"id\":\"8b391ff9-a92b-481a-937d-910ecc557efb\",\"type\":\"HelpTool\"},{\"attributes\":{\"line_alpha\":0.1,\"line_color\":\"#1f77b4\",\"line_dash\":[6],\"line_width\":3,\"x\":{\"field\":\"x\"},\"y\":{\"field\":\"y\"}},\"id\":\"6193d6e3-721d-4e35-9b85-70a842fbf195\",\"type\":\"Line\"},{\"attributes\":{\"data_source\":{\"id\":\"14b6aad7-acf1-458f-bc39-c883f45e96ec\",\"type\":\"ColumnDataSource\"},\"glyph\":{\"id\":\"9163b1be-c575-42af-b401-5caa928ee753\",\"type\":\"Line\"},\"hover_glyph\":null,\"muted_glyph\":null,\"nonselection_glyph\":{\"id\":\"6193d6e3-721d-4e35-9b85-70a842fbf195\",\"type\":\"Line\"},\"selection_glyph\":null,\"view\":{\"id\":\"87d7093a-52eb-4959-85a9-efaaa19e9475\",\"type\":\"CDSView\"}},\"id\":\"129c32c6-ded3-43f3-acde-4515df849c49\",\"type\":\"GlyphRenderer\"},{\"attributes\":{\"source\":{\"id\":\"14b6aad7-acf1-458f-bc39-c883f45e96ec\",\"type\":\"ColumnDataSource\"}},\"id\":\"87d7093a-52eb-4959-85a9-efaaa19e9475\",\"type\":\"CDSView\"},{\"attributes\":{\"label\":{\"value\":\"train - 256_32\"},\"renderers\":[{\"id\":\"129c32c6-ded3-43f3-acde-4515df849c49\",\"type\":\"GlyphRenderer\"}]},\"id\":\"66eaccc1-2d9a-45b3-82a8-f7a32257bea7\",\"type\":\"LegendItem\"}],\"root_ids\":[\"ec84d176-5bfb-4865-8235-946c73522c67\"]},\"title\":\"Bokeh Application\",\"version\":\"0.12.13\"}};\n",
       "  var render_items = [{\"docid\":\"fd8cd28f-9c4f-4432-8397-5554a04f4af2\",\"elementid\":\"15a5277d-8efa-486f-aa59-8ec89efdedb6\",\"modelid\":\"ec84d176-5bfb-4865-8235-946c73522c67\"}];\n",
       "  root.Bokeh.embed.embed_items_notebook(docs_json, render_items);\n",
       "\n",
       "  }\n",
       "  if (root.Bokeh !== undefined) {\n",
       "    embed_document(root);\n",
       "  } else {\n",
       "    var attempts = 0;\n",
       "    var timer = setInterval(function(root) {\n",
       "      if (root.Bokeh !== undefined) {\n",
       "        embed_document(root);\n",
       "        clearInterval(timer);\n",
       "      }\n",
       "      attempts++;\n",
       "      if (attempts > 100) {\n",
       "        console.log(\"Bokeh: ERROR: Unable to run BokehJS code because BokehJS library is missing\")\n",
       "        clearInterval(timer);\n",
       "      }\n",
       "    }, 10, root)\n",
       "  }\n",
       "})(window);"
      ],
      "application/vnd.bokehjs_exec.v0+json": ""
     },
     "metadata": {
      "application/vnd.bokehjs_exec.v0+json": {
       "id": "ec84d176-5bfb-4865-8235-946c73522c67"
      }
     },
     "output_type": "display_data"
    }
   ],
   "source": [
    "show(plots[0])"
   ]
  },
  {
   "cell_type": "code",
   "execution_count": 4,
   "metadata": {},
   "outputs": [
    {
     "data": {
      "text/html": [
       "\n",
       "<div class=\"bk-root\">\n",
       "    <div class=\"bk-plotdiv\" id=\"1c9a4b03-2e95-451a-bc35-4a46c9b3709f\"></div>\n",
       "</div>"
      ]
     },
     "metadata": {},
     "output_type": "display_data"
    },
    {
     "data": {
      "application/javascript": [
       "(function(root) {\n",
       "  function embed_document(root) {\n",
       "    \n",
       "  var docs_json = {\"3693c13c-07ef-43cc-8969-6f113d493aee\":{\"roots\":{\"references\":[{\"attributes\":{\"dimension\":1,\"plot\":{\"id\":\"fa8e65f0-c0a8-4478-a5f8-a63a45cd5327\",\"subtype\":\"Figure\",\"type\":\"Plot\"},\"ticker\":{\"id\":\"e7e32594-b923-4fb8-ba9e-0a433ba6f180\",\"type\":\"BasicTicker\"}},\"id\":\"7e06b1a1-2175-455f-9e0b-8216d8dea319\",\"type\":\"Grid\"},{\"attributes\":{\"callback\":null,\"column_names\":[\"x\",\"y\"],\"data\":{\"x\":{\"__ndarray__\":\"AQAAAAIAAAADAAAABAAAAAUAAAAGAAAABwAAAAgAAAAJAAAACgAAAAsAAAAMAAAADQAAAA4AAAAPAAAAEAAAABEAAAASAAAAEwAAABQAAAAVAAAAFgAAABcAAAAYAAAAGQAAABoAAAAbAAAAHAAAAB0AAAAeAAAAHwAAACAAAAAhAAAAIgAAACMAAAAkAAAAJQAAACYAAAAnAAAAKAAAACkAAAAqAAAAKwAAACwAAAAtAAAALgAAAC8AAAAwAAAAMQAAADIAAAAzAAAANAAAADUAAAA2AAAANwAAADgAAAA5AAAAOgAAADsAAAA8AAAAPQAAAD4AAAA/AAAAQAAAAEEAAABCAAAAQwAAAEQAAABFAAAARgAAAEcAAABIAAAASQAAAEoAAABLAAAATAAAAE0AAABOAAAATwAAAFAAAABRAAAAUgAAAFMAAABUAAAAVQAAAFYAAABXAAAAWAAAAFkAAABaAAAA\",\"dtype\":\"int32\",\"shape\":[90]},\"y\":[19.32701301574707,23.705467224121094,30.512113571166992,38.1307258605957,46.07460021972656,52.85068893432617,58.14643478393555,61.9022331237793,64.63310241699219,66.55467224121094,67.86183166503906,68.8183822631836,69.55239868164062,69.99361419677734,70.32321166992188,70.51151275634766,70.5740737915039,70.594482421875,70.70265197753906,70.63512420654297,70.55671691894531,70.55502319335938,70.52029418945312,70.39678955078125,70.33001708984375,70.18651580810547,70.15009307861328,69.7630615234375,69.8977279663086,69.86898803710938,69.10282135009766,68.1302490234375,67.13683319091797,66.1629409790039,65.22820281982422,64.33419799804688,63.486900329589844,62.6828498840332,61.913021087646484,61.193992614746094,60.513336181640625,59.87401580810547,59.27426528930664,58.70952606201172,58.17656326293945,57.6796760559082,57.211490631103516,56.770423889160156,56.359859466552734,55.97244644165039,55.61300277709961,55.28233337402344,54.965660095214844,54.674949645996094,54.399009704589844,54.14680862426758,53.901031494140625,53.673099517822266,53.4594841003418,53.267860412597656,53.24768829345703,53.22603225708008,53.20302963256836,53.179962158203125,53.156532287597656,53.13286209106445,53.10856246948242,53.08367156982422,53.058650970458984,53.034305572509766,53.00889587402344,52.98387908935547,52.95943069458008,52.93458557128906,52.909053802490234,52.8846549987793,52.85965347290039,52.83503341674805,52.8099250793457,52.78471755981445,52.78234100341797,52.779945373535156,52.777610778808594,52.775184631347656,52.77284622192383,52.77046585083008,52.76813507080078,52.76582717895508,52.763484954833984,52.7611198425293]}},\"id\":\"f19a388b-38e4-448d-88cf-7d1146497798\",\"type\":\"ColumnDataSource\"},{\"attributes\":{\"bottom_units\":\"screen\",\"fill_alpha\":{\"value\":0.5},\"fill_color\":{\"value\":\"lightgrey\"},\"left_units\":\"screen\",\"level\":\"overlay\",\"line_alpha\":{\"value\":1.0},\"line_color\":{\"value\":\"black\"},\"line_dash\":[4,4],\"line_width\":{\"value\":2},\"plot\":null,\"render_mode\":\"css\",\"right_units\":\"screen\",\"top_units\":\"screen\"},\"id\":\"aeb611ff-36c0-4d9d-92df-0f7ad4bf3d65\",\"type\":\"BoxAnnotation\"},{\"attributes\":{\"source\":{\"id\":\"f6324605-9f53-415c-989f-893e1b7148f1\",\"type\":\"ColumnDataSource\"}},\"id\":\"ca9f6cc0-1951-495a-a076-5b4e8ac0fc69\",\"type\":\"CDSView\"},{\"attributes\":{\"line_color\":\"#2ca02c\",\"line_width\":3,\"x\":{\"field\":\"x\"},\"y\":{\"field\":\"y\"}},\"id\":\"9a021f5c-5bbc-4331-ad4b-6ab34f52a3e3\",\"type\":\"Line\"},{\"attributes\":{\"label\":{\"value\":\"train - 8192_1\"},\"renderers\":[{\"id\":\"53a46835-6178-4ad3-a5dc-5466668833e8\",\"type\":\"GlyphRenderer\"}]},\"id\":\"f5ca2b95-c085-4388-8cc4-75a41605cd0f\",\"type\":\"LegendItem\"},{\"attributes\":{},\"id\":\"6736e596-793a-4590-a085-89cbe33da87c\",\"type\":\"PanTool\"},{\"attributes\":{\"background_fill_color\":{\"value\":\"#fafafa\"},\"below\":[{\"id\":\"20a804cc-2deb-4207-aeb7-92f9a5052eb1\",\"type\":\"LinearAxis\"}],\"left\":[{\"id\":\"18da8ab4-0e6d-450b-bf04-3ef51c0ae65e\",\"type\":\"LinearAxis\"}],\"min_border\":10,\"min_border_left\":50,\"renderers\":[{\"id\":\"20a804cc-2deb-4207-aeb7-92f9a5052eb1\",\"type\":\"LinearAxis\"},{\"id\":\"bfc9fa63-267e-4bb7-a581-fbe8dd469eb2\",\"type\":\"Grid\"},{\"id\":\"18da8ab4-0e6d-450b-bf04-3ef51c0ae65e\",\"type\":\"LinearAxis\"},{\"id\":\"7e06b1a1-2175-455f-9e0b-8216d8dea319\",\"type\":\"Grid\"},{\"id\":\"aeb611ff-36c0-4d9d-92df-0f7ad4bf3d65\",\"type\":\"BoxAnnotation\"},{\"id\":\"a47afecf-5614-48d3-8885-6fe439aca3b8\",\"type\":\"Legend\"},{\"id\":\"62924df9-2723-4289-b44f-7627481c2d0e\",\"type\":\"GlyphRenderer\"},{\"id\":\"53a46835-6178-4ad3-a5dc-5466668833e8\",\"type\":\"GlyphRenderer\"},{\"id\":\"1f860576-674c-4518-bfc9-ef99e11f7a77\",\"type\":\"GlyphRenderer\"}],\"title\":{\"id\":\"4e291252-323a-46ab-a28f-456424e4f6d9\",\"type\":\"Title\"},\"toolbar\":{\"id\":\"ef30241e-a3c0-4a4a-a6ae-f35f9f7e2c10\",\"type\":\"Toolbar\"},\"x_range\":{\"id\":\"90e0e348-0c9b-402f-9f05-bf166b52fc99\",\"type\":\"DataRange1d\"},\"x_scale\":{\"id\":\"80a5fcea-d307-4596-b132-2914ec0fb082\",\"type\":\"LinearScale\"},\"y_range\":{\"id\":\"59c025c7-bd1b-4322-85f5-0a3da80f041a\",\"type\":\"DataRange1d\"},\"y_scale\":{\"id\":\"0dee9807-9c25-4ca0-94ae-47fc3877327f\",\"type\":\"LinearScale\"}},\"id\":\"fa8e65f0-c0a8-4478-a5f8-a63a45cd5327\",\"subtype\":\"Figure\",\"type\":\"Plot\"},{\"attributes\":{\"source\":{\"id\":\"f19a388b-38e4-448d-88cf-7d1146497798\",\"type\":\"ColumnDataSource\"}},\"id\":\"b0a10eca-7965-4813-a468-d24d09522206\",\"type\":\"CDSView\"},{\"attributes\":{\"data_source\":{\"id\":\"f19a388b-38e4-448d-88cf-7d1146497798\",\"type\":\"ColumnDataSource\"},\"glyph\":{\"id\":\"9a021f5c-5bbc-4331-ad4b-6ab34f52a3e3\",\"type\":\"Line\"},\"hover_glyph\":null,\"muted_glyph\":null,\"nonselection_glyph\":{\"id\":\"c84fecdc-12d1-4026-8a8c-7e07a6a8c503\",\"type\":\"Line\"},\"selection_glyph\":null,\"view\":{\"id\":\"b0a10eca-7965-4813-a468-d24d09522206\",\"type\":\"CDSView\"}},\"id\":\"1f860576-674c-4518-bfc9-ef99e11f7a77\",\"type\":\"GlyphRenderer\"},{\"attributes\":{},\"id\":\"a32902d4-433e-401d-a0b7-e11938ad92ca\",\"type\":\"WheelZoomTool\"},{\"attributes\":{\"overlay\":{\"id\":\"aeb611ff-36c0-4d9d-92df-0f7ad4bf3d65\",\"type\":\"BoxAnnotation\"}},\"id\":\"53986463-a029-41cd-8928-ba622d57e525\",\"type\":\"BoxZoomTool\"},{\"attributes\":{},\"id\":\"503c15ec-f569-4ccc-959a-f9cf0d3ba700\",\"type\":\"SaveTool\"},{\"attributes\":{\"label\":{\"value\":\"train - 256_32\"},\"renderers\":[{\"id\":\"1f860576-674c-4518-bfc9-ef99e11f7a77\",\"type\":\"GlyphRenderer\"}]},\"id\":\"59dea75d-01c9-4745-b780-4cab4480a12b\",\"type\":\"LegendItem\"},{\"attributes\":{},\"id\":\"46ecec29-9606-47f0-bd2e-c47486cf1d52\",\"type\":\"ResetTool\"},{\"attributes\":{},\"id\":\"5433803b-7fc1-4242-9e81-58b20c74b318\",\"type\":\"HelpTool\"},{\"attributes\":{\"line_alpha\":0.1,\"line_color\":\"#1f77b4\",\"line_width\":3,\"x\":{\"field\":\"x\"},\"y\":{\"field\":\"y\"}},\"id\":\"1b0a3103-931c-4d34-af1c-93192ab36b3b\",\"type\":\"Line\"},{\"attributes\":{\"line_color\":\"#1f77b4\",\"line_width\":3,\"x\":{\"field\":\"x\"},\"y\":{\"field\":\"y\"}},\"id\":\"a6bbce5e-b4fe-4c85-97c1-52b50b9e9055\",\"type\":\"Line\"},{\"attributes\":{\"callback\":null,\"column_names\":[\"x\",\"y\"],\"data\":{\"x\":{\"__ndarray__\":\"AQAAAAIAAAADAAAABAAAAAUAAAAGAAAABwAAAAgAAAAJAAAACgAAAAsAAAAMAAAADQAAAA4AAAAPAAAAEAAAABEAAAASAAAAEwAAABQAAAAVAAAAFgAAABcAAAAYAAAAGQAAABoAAAAbAAAAHAAAAB0AAAAeAAAAHwAAACAAAAAhAAAAIgAAACMAAAAkAAAAJQAAACYAAAAnAAAAKAAAACkAAAAqAAAAKwAAACwAAAAtAAAALgAAAC8AAAAwAAAAMQAAADIAAAAzAAAANAAAADUAAAA2AAAANwAAADgAAAA5AAAAOgAAADsAAAA8AAAAPQAAAD4AAAA/AAAAQAAAAEEAAABCAAAAQwAAAEQAAABFAAAARgAAAEcAAABIAAAASQAAAEoAAABLAAAATAAAAE0AAABOAAAATwAAAFAAAABRAAAAUgAAAFMAAABUAAAAVQAAAFYAAABXAAAAWAAAAFkAAABaAAAA\",\"dtype\":\"int32\",\"shape\":[90]},\"y\":[45.15010070800781,57.44385528564453,62.207759857177734,63.964595794677734,64.64025115966797,64.92052459716797,64.9917221069336,64.98957824707031,64.8937759399414,64.86297607421875,64.72789001464844,64.65362548828125,64.58889770507812,64.51985168457031,64.4142837524414,64.33795928955078,64.28684997558594,64.18175506591797,64.1669692993164,64.10784149169922,64.04440307617188,63.98326110839844,63.988826751708984,63.94239807128906,63.87409591674805,63.8456916809082,63.81119155883789,63.754600524902344,63.74565505981445,63.73651885986328,62.19520568847656,60.64653778076172,59.223236083984375,57.939483642578125,56.79465866088867,55.77432632446289,54.86094284057617,54.05360794067383,53.3420295715332,52.70363998413086,52.1528205871582,51.66324996948242,51.23167037963867,50.848018646240234,50.50403594970703,50.20921325683594,49.93962478637695,49.696163177490234,49.48685073852539,49.29646682739258,49.12630844116211,48.969390869140625,48.83910369873047,48.71574401855469,48.6079216003418,48.50221633911133,48.41305923461914,48.330909729003906,48.25039291381836,48.18047332763672,48.14912033081055,48.111507415771484,48.072994232177734,48.033206939697266,47.995513916015625,47.957923889160156,47.92184829711914,47.885921478271484,47.85010528564453,47.8176383972168,47.78239059448242,47.74848937988281,47.7156867980957,47.685028076171875,47.65245056152344,47.6202392578125,47.590309143066406,47.55997085571289,47.530128479003906,47.50093460083008,47.498226165771484,47.495418548583984,47.49263000488281,47.48985290527344,47.48711395263672,47.48429870605469,47.48146438598633,47.478702545166016,47.47606658935547,47.473201751708984]}},\"id\":\"fcc69e04-a872-498a-822b-d0cae56b4dc1\",\"type\":\"ColumnDataSource\"},{\"attributes\":{\"data_source\":{\"id\":\"fcc69e04-a872-498a-822b-d0cae56b4dc1\",\"type\":\"ColumnDataSource\"},\"glyph\":{\"id\":\"a6bbce5e-b4fe-4c85-97c1-52b50b9e9055\",\"type\":\"Line\"},\"hover_glyph\":null,\"muted_glyph\":null,\"nonselection_glyph\":{\"id\":\"1b0a3103-931c-4d34-af1c-93192ab36b3b\",\"type\":\"Line\"},\"selection_glyph\":null,\"view\":{\"id\":\"1df01c9e-9314-447a-a3ca-6ba574e91e2f\",\"type\":\"CDSView\"}},\"id\":\"62924df9-2723-4289-b44f-7627481c2d0e\",\"type\":\"GlyphRenderer\"},{\"attributes\":{},\"id\":\"31231270-ceab-45b5-903e-3fc3fe49d820\",\"type\":\"BasicTickFormatter\"},{\"attributes\":{},\"id\":\"cd0df770-3ec9-479a-9c17-0e5878b277c7\",\"type\":\"BasicTickFormatter\"},{\"attributes\":{\"line_alpha\":0.1,\"line_color\":\"#1f77b4\",\"line_width\":3,\"x\":{\"field\":\"x\"},\"y\":{\"field\":\"y\"}},\"id\":\"4fc7340a-db4c-4073-b271-8e695fd03eba\",\"type\":\"Line\"},{\"attributes\":{\"data_source\":{\"id\":\"f6324605-9f53-415c-989f-893e1b7148f1\",\"type\":\"ColumnDataSource\"},\"glyph\":{\"id\":\"f5f4840c-321a-40ec-bcba-703098bf1357\",\"type\":\"Line\"},\"hover_glyph\":null,\"muted_glyph\":null,\"nonselection_glyph\":{\"id\":\"4fc7340a-db4c-4073-b271-8e695fd03eba\",\"type\":\"Line\"},\"selection_glyph\":null,\"view\":{\"id\":\"ca9f6cc0-1951-495a-a076-5b4e8ac0fc69\",\"type\":\"CDSView\"}},\"id\":\"53a46835-6178-4ad3-a5dc-5466668833e8\",\"type\":\"GlyphRenderer\"},{\"attributes\":{\"source\":{\"id\":\"fcc69e04-a872-498a-822b-d0cae56b4dc1\",\"type\":\"ColumnDataSource\"}},\"id\":\"1df01c9e-9314-447a-a3ca-6ba574e91e2f\",\"type\":\"CDSView\"},{\"attributes\":{\"label\":{\"value\":\"train - 256_1\"},\"renderers\":[{\"id\":\"62924df9-2723-4289-b44f-7627481c2d0e\",\"type\":\"GlyphRenderer\"}]},\"id\":\"cf2e97f4-6dc3-4692-91ff-d1fa8be08516\",\"type\":\"LegendItem\"},{\"attributes\":{\"click_policy\":\"hide\",\"items\":[{\"id\":\"cf2e97f4-6dc3-4692-91ff-d1fa8be08516\",\"type\":\"LegendItem\"},{\"id\":\"f5ca2b95-c085-4388-8cc4-75a41605cd0f\",\"type\":\"LegendItem\"},{\"id\":\"59dea75d-01c9-4745-b780-4cab4480a12b\",\"type\":\"LegendItem\"}],\"location\":\"top_left\",\"plot\":{\"id\":\"fa8e65f0-c0a8-4478-a5f8-a63a45cd5327\",\"subtype\":\"Figure\",\"type\":\"Plot\"}},\"id\":\"a47afecf-5614-48d3-8885-6fe439aca3b8\",\"type\":\"Legend\"},{\"attributes\":{\"callback\":null},\"id\":\"90e0e348-0c9b-402f-9f05-bf166b52fc99\",\"type\":\"DataRange1d\"},{\"attributes\":{\"plot\":null,\"text\":\"The Norm of w(t)\"},\"id\":\"4e291252-323a-46ab-a28f-456424e4f6d9\",\"type\":\"Title\"},{\"attributes\":{\"active_drag\":\"auto\",\"active_inspect\":\"auto\",\"active_scroll\":\"auto\",\"active_tap\":\"auto\",\"tools\":[{\"id\":\"6736e596-793a-4590-a085-89cbe33da87c\",\"type\":\"PanTool\"},{\"id\":\"a32902d4-433e-401d-a0b7-e11938ad92ca\",\"type\":\"WheelZoomTool\"},{\"id\":\"53986463-a029-41cd-8928-ba622d57e525\",\"type\":\"BoxZoomTool\"},{\"id\":\"503c15ec-f569-4ccc-959a-f9cf0d3ba700\",\"type\":\"SaveTool\"},{\"id\":\"46ecec29-9606-47f0-bd2e-c47486cf1d52\",\"type\":\"ResetTool\"},{\"id\":\"5433803b-7fc1-4242-9e81-58b20c74b318\",\"type\":\"HelpTool\"}]},\"id\":\"ef30241e-a3c0-4a4a-a6ae-f35f9f7e2c10\",\"type\":\"Toolbar\"},{\"attributes\":{},\"id\":\"e7e32594-b923-4fb8-ba9e-0a433ba6f180\",\"type\":\"BasicTicker\"},{\"attributes\":{\"callback\":null,\"column_names\":[\"x\",\"y\"],\"data\":{\"x\":{\"__ndarray__\":\"AQAAAAIAAAADAAAABAAAAAUAAAAGAAAABwAAAAgAAAAJAAAACgAAAAsAAAAMAAAADQAAAA4AAAAPAAAAEAAAABEAAAASAAAAEwAAABQAAAAVAAAAFgAAABcAAAAYAAAAGQAAABoAAAAbAAAAHAAAAB0AAAAeAAAAHwAAACAAAAAhAAAAIgAAACMAAAAkAAAAJQAAACYAAAAnAAAAKAAAACkAAAAqAAAAKwAAACwAAAAtAAAALgAAAC8AAAAwAAAAMQAAADIAAAAzAAAANAAAADUAAAA2AAAANwAAADgAAAA5AAAAOgAAADsAAAA8AAAAPQAAAD4AAAA/AAAAQAAAAEEAAABCAAAAQwAAAEQAAABFAAAARgAAAEcAAABIAAAASQAAAEoAAABLAAAATAAAAE0AAABOAAAATwAAAFAAAABRAAAAUgAAAFMAAABUAAAAVQAAAFYAAABXAAAAWAAAAFkAAABaAAAA\",\"dtype\":\"int32\",\"shape\":[90]},\"y\":[18.986955642700195,78.59618377685547,65.52056121826172,54.641273498535156,52.36399841308594,56.74668884277344,60.13792419433594,62.12923049926758,63.29367446899414,63.86269760131836,64.19005584716797,64.45011901855469,64.41859436035156,64.40628051757812,64.277587890625,64.2148666381836,64.02318572998047,63.882320404052734,63.78032302856445,63.64095687866211,63.58625411987305,63.427581787109375,63.30712890625,63.20043182373047,63.14811325073242,63.0827751159668,63.021888732910156,62.88700866699219,62.85478973388672,62.77814865112305,61.67692947387695,60.43991470336914,59.307762145996094,58.2777214050293,57.36271286010742,56.544517517089844,55.79629135131836,55.14596939086914,54.56262969970703,54.03936767578125,53.559513092041016,53.143802642822266,52.75127410888672,52.420654296875,52.10264587402344,51.817012786865234,51.556217193603516,51.32255172729492,51.10405731201172,50.902381896972656,50.718360900878906,50.54889678955078,50.38703155517578,50.22716522216797,50.10459899902344,49.967838287353516,49.846160888671875,49.744606018066406,49.63298034667969,49.530975341796875,49.5082893371582,49.480712890625,49.45346450805664,49.42560577392578,49.40031051635742,49.3751106262207,49.34953308105469,49.325984954833984,49.30325698852539,49.28152847290039,49.26029586791992,49.240333557128906,49.219703674316406,49.19989776611328,49.18083572387695,49.16080856323242,49.14250946044922,49.124725341796875,49.106239318847656,49.09001922607422,49.08863067626953,49.08717727661133,49.085758209228516,49.084354400634766,49.082969665527344,49.08174514770508,49.08016586303711,49.07870101928711,49.077396392822266,49.07594299316406]}},\"id\":\"f6324605-9f53-415c-989f-893e1b7148f1\",\"type\":\"ColumnDataSource\"},{\"attributes\":{},\"id\":\"0dee9807-9c25-4ca0-94ae-47fc3877327f\",\"type\":\"LinearScale\"},{\"attributes\":{},\"id\":\"80a5fcea-d307-4596-b132-2914ec0fb082\",\"type\":\"LinearScale\"},{\"attributes\":{\"callback\":null},\"id\":\"59c025c7-bd1b-4322-85f5-0a3da80f041a\",\"type\":\"DataRange1d\"},{\"attributes\":{\"plot\":{\"id\":\"fa8e65f0-c0a8-4478-a5f8-a63a45cd5327\",\"subtype\":\"Figure\",\"type\":\"Plot\"},\"ticker\":{\"id\":\"14f9fd72-4276-44b1-96e4-d9603420dc37\",\"type\":\"BasicTicker\"}},\"id\":\"bfc9fa63-267e-4bb7-a581-fbe8dd469eb2\",\"type\":\"Grid\"},{\"attributes\":{\"line_alpha\":0.1,\"line_color\":\"#1f77b4\",\"line_width\":3,\"x\":{\"field\":\"x\"},\"y\":{\"field\":\"y\"}},\"id\":\"c84fecdc-12d1-4026-8a8c-7e07a6a8c503\",\"type\":\"Line\"},{\"attributes\":{\"axis_label\":\"t [Epochs]\",\"formatter\":{\"id\":\"cd0df770-3ec9-479a-9c17-0e5878b277c7\",\"type\":\"BasicTickFormatter\"},\"plot\":{\"id\":\"fa8e65f0-c0a8-4478-a5f8-a63a45cd5327\",\"subtype\":\"Figure\",\"type\":\"Plot\"},\"ticker\":{\"id\":\"14f9fd72-4276-44b1-96e4-d9603420dc37\",\"type\":\"BasicTicker\"}},\"id\":\"20a804cc-2deb-4207-aeb7-92f9a5052eb1\",\"type\":\"LinearAxis\"},{\"attributes\":{},\"id\":\"14f9fd72-4276-44b1-96e4-d9603420dc37\",\"type\":\"BasicTicker\"},{\"attributes\":{\"line_color\":\"#ff7f0e\",\"line_width\":3,\"x\":{\"field\":\"x\"},\"y\":{\"field\":\"y\"}},\"id\":\"f5f4840c-321a-40ec-bcba-703098bf1357\",\"type\":\"Line\"},{\"attributes\":{\"axis_label\":\"||w(t)||\",\"formatter\":{\"id\":\"31231270-ceab-45b5-903e-3fc3fe49d820\",\"type\":\"BasicTickFormatter\"},\"plot\":{\"id\":\"fa8e65f0-c0a8-4478-a5f8-a63a45cd5327\",\"subtype\":\"Figure\",\"type\":\"Plot\"},\"ticker\":{\"id\":\"e7e32594-b923-4fb8-ba9e-0a433ba6f180\",\"type\":\"BasicTicker\"}},\"id\":\"18da8ab4-0e6d-450b-bf04-3ef51c0ae65e\",\"type\":\"LinearAxis\"}],\"root_ids\":[\"fa8e65f0-c0a8-4478-a5f8-a63a45cd5327\"]},\"title\":\"Bokeh Application\",\"version\":\"0.12.13\"}};\n",
       "  var render_items = [{\"docid\":\"3693c13c-07ef-43cc-8969-6f113d493aee\",\"elementid\":\"1c9a4b03-2e95-451a-bc35-4a46c9b3709f\",\"modelid\":\"fa8e65f0-c0a8-4478-a5f8-a63a45cd5327\"}];\n",
       "  root.Bokeh.embed.embed_items_notebook(docs_json, render_items);\n",
       "\n",
       "  }\n",
       "  if (root.Bokeh !== undefined) {\n",
       "    embed_document(root);\n",
       "  } else {\n",
       "    var attempts = 0;\n",
       "    var timer = setInterval(function(root) {\n",
       "      if (root.Bokeh !== undefined) {\n",
       "        embed_document(root);\n",
       "        clearInterval(timer);\n",
       "      }\n",
       "      attempts++;\n",
       "      if (attempts > 100) {\n",
       "        console.log(\"Bokeh: ERROR: Unable to run BokehJS code because BokehJS library is missing\")\n",
       "        clearInterval(timer);\n",
       "      }\n",
       "    }, 10, root)\n",
       "  }\n",
       "})(window);"
      ],
      "application/vnd.bokehjs_exec.v0+json": ""
     },
     "metadata": {
      "application/vnd.bokehjs_exec.v0+json": {
       "id": "fa8e65f0-c0a8-4478-a5f8-a63a45cd5327"
      }
     },
     "output_type": "display_data"
    }
   ],
   "source": [
    "show(plots[2])"
   ]
  },
  {
   "cell_type": "code",
   "execution_count": 5,
   "metadata": {},
   "outputs": [
    {
     "data": {
      "text/html": [
       "\n",
       "<div class=\"bk-root\">\n",
       "    <div class=\"bk-plotdiv\" id=\"e9785e94-b952-457d-a7ce-d83f55d0f627\"></div>\n",
       "</div>"
      ]
     },
     "metadata": {},
     "output_type": "display_data"
    },
    {
     "data": {
      "application/javascript": [
       "(function(root) {\n",
       "  function embed_document(root) {\n",
       "    \n",
       "  var docs_json = {\"0d89a7c4-7035-4873-962f-367e88615f9c\":{\"roots\":{\"references\":[{\"attributes\":{\"callback\":null},\"id\":\"3337994e-01ec-4909-aa65-196bcc92a6d8\",\"type\":\"DataRange1d\"},{\"attributes\":{\"active_drag\":\"auto\",\"active_inspect\":\"auto\",\"active_scroll\":\"auto\",\"active_tap\":\"auto\",\"tools\":[{\"id\":\"be9d6375-16d4-4b0e-8a0d-8c838897fd02\",\"type\":\"PanTool\"},{\"id\":\"bb6d002b-5d7b-429d-90b0-fa92bff7e9e8\",\"type\":\"WheelZoomTool\"},{\"id\":\"3a367e74-6790-441c-8600-4cd1413eb461\",\"type\":\"BoxZoomTool\"},{\"id\":\"b31225ce-e942-41cd-9646-de97834c6f71\",\"type\":\"SaveTool\"},{\"id\":\"d6cb0513-3916-4b3b-ab1c-19b324926267\",\"type\":\"ResetTool\"},{\"id\":\"d0f1c249-4bde-4172-84fa-beb2f8eb5286\",\"type\":\"HelpTool\"}]},\"id\":\"047359c7-0052-40ae-8366-884949e49dc9\",\"type\":\"Toolbar\"},{\"attributes\":{\"data_source\":{\"id\":\"2903178c-427e-4b48-8082-8b0d88b00856\",\"type\":\"ColumnDataSource\"},\"glyph\":{\"id\":\"0a4b58eb-c05a-42ef-857a-44efe48e7cdf\",\"type\":\"Line\"},\"hover_glyph\":null,\"muted_glyph\":null,\"nonselection_glyph\":{\"id\":\"61e8b197-7af7-4a09-946b-24a431964d60\",\"type\":\"Line\"},\"selection_glyph\":null,\"view\":{\"id\":\"f019d43b-eb66-47be-9fb7-86bac8d45bc7\",\"type\":\"CDSView\"}},\"id\":\"87fabb3f-0aa9-47da-b623-4f743c31d4f2\",\"type\":\"GlyphRenderer\"},{\"attributes\":{\"plot\":null,\"text\":\"The Norm of Gradients\"},\"id\":\"c558eb42-045e-41ce-96b6-607b677eab80\",\"type\":\"Title\"},{\"attributes\":{\"label\":{\"value\":\"train - 8192_1\"},\"renderers\":[{\"id\":\"87fabb3f-0aa9-47da-b623-4f743c31d4f2\",\"type\":\"GlyphRenderer\"}]},\"id\":\"33762b03-6c5b-4a11-a823-c49f6a687c3c\",\"type\":\"LegendItem\"},{\"attributes\":{\"line_alpha\":0.1,\"line_color\":\"#1f77b4\",\"line_width\":3,\"x\":{\"field\":\"x\"},\"y\":{\"field\":\"y\"}},\"id\":\"61e8b197-7af7-4a09-946b-24a431964d60\",\"type\":\"Line\"},{\"attributes\":{\"source\":{\"id\":\"2903178c-427e-4b48-8082-8b0d88b00856\",\"type\":\"ColumnDataSource\"}},\"id\":\"f019d43b-eb66-47be-9fb7-86bac8d45bc7\",\"type\":\"CDSView\"},{\"attributes\":{\"num_minor_ticks\":10},\"id\":\"ab2cd0f2-f437-4297-9a4b-c1af12207806\",\"type\":\"LogTicker\"},{\"attributes\":{\"source\":{\"id\":\"207b9b9d-d98f-4f8b-9018-07f7d38dc1d8\",\"type\":\"ColumnDataSource\"}},\"id\":\"5e86ef94-f853-4032-8658-0985bf07279f\",\"type\":\"CDSView\"},{\"attributes\":{},\"id\":\"e9b4585b-8c02-43df-a610-ec4b36c1783c\",\"type\":\"LinearScale\"},{\"attributes\":{\"callback\":null},\"id\":\"92a07f4f-1452-4049-8a9a-56f3986ad5eb\",\"type\":\"DataRange1d\"},{\"attributes\":{\"callback\":null,\"column_names\":[\"x\",\"y\"],\"data\":{\"x\":{\"__ndarray__\":\"AQAAAAIAAAADAAAABAAAAAUAAAAGAAAABwAAAAgAAAAJAAAACgAAAAsAAAAMAAAADQAAAA4AAAAPAAAAEAAAABEAAAASAAAAEwAAABQAAAAVAAAAFgAAABcAAAAYAAAAGQAAABoAAAAbAAAAHAAAAB0AAAAeAAAAHwAAACAAAAAhAAAAIgAAACMAAAAkAAAAJQAAACYAAAAnAAAAKAAAACkAAAAqAAAAKwAAACwAAAAtAAAALgAAAC8AAAAwAAAAMQAAADIAAAAzAAAANAAAADUAAAA2AAAANwAAADgAAAA5AAAAOgAAADsAAAA8AAAAPQAAAD4AAAA/AAAAQAAAAEEAAABCAAAAQwAAAEQAAABFAAAARgAAAEcAAABIAAAASQAAAEoAAABLAAAATAAAAE0AAABOAAAATwAAAFAAAABRAAAAUgAAAFMAAABUAAAAVQAAAFYAAABXAAAAWAAAAFkAAABaAAAA\",\"dtype\":\"int32\",\"shape\":[90]},\"y\":[0.8052669167518616,0.06637383997440338,0.1267978996038437,0.18153521418571472,0.20415067672729492,0.21858251094818115,0.20829685032367706,0.20963546633720398,0.2181030958890915,0.21434594690799713,0.230984166264534,0.2077074497938156,0.21395769715309143,0.21339313685894012,0.21833373606204987,0.2006051242351532,0.19825781881809235,0.196157768368721,0.2012500911951065,0.19487372040748596,0.20619332790374756,0.19884979724884033,0.19836702942848206,0.200076162815094,0.20111723244190216,0.19055287539958954,0.19110633432865143,0.20618119835853577,0.19969263672828674,0.19856929779052734,0.15049783885478973,0.15332990884780884,0.15318086743354797,0.15484501421451569,0.16300426423549652,0.1660325676202774,0.1695985049009323,0.17528493702411652,0.1765567660331726,0.1832031011581421,0.18101181089878082,0.18127545714378357,0.18864238262176514,0.18799352645874023,0.1867261677980423,0.18828997015953064,0.19286860525608063,0.19390791654586792,0.19504375755786896,0.19059298932552338,0.1974952518939972,0.2001001238822937,0.20141416788101196,0.19988952577114105,0.2027328908443451,0.20122647285461426,0.2023216038942337,0.1964079886674881,0.19978053867816925,0.20295031368732452,0.17049260437488556,0.16624312102794647,0.1686210334300995,0.16428110003471375,0.16652774810791016,0.17336545884609222,0.17441624402999878,0.1717039942741394,0.16293641924858093,0.1706368774175644,0.1717945784330368,0.17001910507678986,0.1727883368730545,0.170284241437912,0.1658119112253189,0.16484977304935455,0.17207062244415283,0.1721770316362381,0.16351798176765442,0.1629297286272049,0.16586793959140778,0.15774832665920258,0.15761800110340118,0.15855707228183746,0.16055533289909363,0.16705664992332458,0.16705361008644104,0.16335099935531616,0.15965694189071655,0.15704941749572754]}},\"id\":\"2903178c-427e-4b48-8082-8b0d88b00856\",\"type\":\"ColumnDataSource\"},{\"attributes\":{\"line_color\":\"#ff7f0e\",\"line_width\":3,\"x\":{\"field\":\"x\"},\"y\":{\"field\":\"y\"}},\"id\":\"0a4b58eb-c05a-42ef-857a-44efe48e7cdf\",\"type\":\"Line\"},{\"attributes\":{\"plot\":{\"id\":\"a9377089-892d-4ca3-8852-c11472240d3d\",\"subtype\":\"Figure\",\"type\":\"Plot\"},\"ticker\":{\"id\":\"d4d02026-ef38-4fb8-b00e-a827d81258af\",\"type\":\"BasicTicker\"}},\"id\":\"01a7a671-3bd4-4baa-bc0c-20d175040dc2\",\"type\":\"Grid\"},{\"attributes\":{\"callback\":null,\"column_names\":[\"x\",\"y\"],\"data\":{\"x\":{\"__ndarray__\":\"AQAAAAIAAAADAAAABAAAAAUAAAAGAAAABwAAAAgAAAAJAAAACgAAAAsAAAAMAAAADQAAAA4AAAAPAAAAEAAAABEAAAASAAAAEwAAABQAAAAVAAAAFgAAABcAAAAYAAAAGQAAABoAAAAbAAAAHAAAAB0AAAAeAAAAHwAAACAAAAAhAAAAIgAAACMAAAAkAAAAJQAAACYAAAAnAAAAKAAAACkAAAAqAAAAKwAAACwAAAAtAAAALgAAAC8AAAAwAAAAMQAAADIAAAAzAAAANAAAADUAAAA2AAAANwAAADgAAAA5AAAAOgAAADsAAAA8AAAAPQAAAD4AAAA/AAAAQAAAAEEAAABCAAAAQwAAAEQAAABFAAAARgAAAEcAAABIAAAASQAAAEoAAABLAAAATAAAAE0AAABOAAAATwAAAFAAAABRAAAAUgAAAFMAAABUAAAAVQAAAFYAAABXAAAAWAAAAFkAAABaAAAA\",\"dtype\":\"int32\",\"shape\":[90]},\"y\":[1.0720832347869873,1.046262264251709,0.9810971617698669,1.0502018928527832,1.0057874917984009,1.0306391716003418,0.9919623136520386,1.044485092163086,0.9945416450500488,0.9994291663169861,0.9742326140403748,0.9893206357955933,0.9695238471031189,0.9384915232658386,0.9116461277008057,0.9235806465148926,0.9657092690467834,1.0414764881134033,0.9841756820678711,0.9319056272506714,1.0023918151855469,1.0310378074645996,0.9156519174575806,1.062940239906311,0.9665552973747253,1.0307365655899048,0.9897633790969849,0.9425973296165466,0.9445832967758179,0.9873455762863159,0.9708176851272583,0.9947238564491272,0.9652611613273621,1.058058500289917,1.1021126508712769,1.225977897644043,1.14321768283844,1.1661431789398193,1.0904126167297363,1.2746080160140991,1.2021820545196533,1.2831554412841797,1.3020776510238647,1.248833417892456,1.2470918893814087,1.310349941253662,1.3763601779937744,1.2763526439666748,1.3846036195755005,1.368672251701355,1.4395655393600464,1.3234230279922485,1.3436126708984375,1.3243006467819214,1.3692712783813477,1.350646734237671,1.44724702835083,1.3868128061294556,1.295972228050232,1.3175138235092163,1.3351713418960571,1.3179965019226074,1.265212059020996,1.260643720626831,1.1894770860671997,1.2761244773864746,1.350995659828186,1.249558687210083,0.9703543782234192,1.245458960533142,1.334719181060791,1.1114253997802734,1.2283192873001099,1.2657257318496704,1.2888942956924438,1.2841520309448242,1.311696171760559,1.266321063041687,1.1994271278381348,1.2494308948516846,1.2375448942184448,1.2362529039382935,1.2344961166381836,1.2889331579208374,1.1551986932754517,1.2492018938064575,1.196997880935669,1.2975897789001465,1.2088598012924194,1.275367259979248]}},\"id\":\"19c17c37-030b-458c-bf6d-80b22b4a5bad\",\"type\":\"ColumnDataSource\"},{\"attributes\":{\"dimension\":1,\"plot\":{\"id\":\"a9377089-892d-4ca3-8852-c11472240d3d\",\"subtype\":\"Figure\",\"type\":\"Plot\"},\"ticker\":{\"id\":\"ab2cd0f2-f437-4297-9a4b-c1af12207806\",\"type\":\"LogTicker\"}},\"id\":\"6bd1b428-a66d-4459-8c68-22facdb5ab30\",\"type\":\"Grid\"},{\"attributes\":{},\"id\":\"d4d02026-ef38-4fb8-b00e-a827d81258af\",\"type\":\"BasicTicker\"},{\"attributes\":{\"axis_label\":\"t [Epochs]\",\"formatter\":{\"id\":\"0fb4310f-f77e-4ee1-b3ce-2adb3a21097a\",\"type\":\"BasicTickFormatter\"},\"plot\":{\"id\":\"a9377089-892d-4ca3-8852-c11472240d3d\",\"subtype\":\"Figure\",\"type\":\"Plot\"},\"ticker\":{\"id\":\"d4d02026-ef38-4fb8-b00e-a827d81258af\",\"type\":\"BasicTicker\"}},\"id\":\"fbd23aee-7a5d-4dfb-bab8-7c1923257d31\",\"type\":\"LinearAxis\"},{\"attributes\":{\"axis_label\":\"||g||\",\"formatter\":{\"id\":\"1fa02296-aa32-419f-b589-e0efb39916b0\",\"type\":\"LogTickFormatter\"},\"plot\":{\"id\":\"a9377089-892d-4ca3-8852-c11472240d3d\",\"subtype\":\"Figure\",\"type\":\"Plot\"},\"ticker\":{\"id\":\"ab2cd0f2-f437-4297-9a4b-c1af12207806\",\"type\":\"LogTicker\"}},\"id\":\"c1e173d2-400a-4a84-9020-10ffce13815d\",\"type\":\"LogAxis\"},{\"attributes\":{},\"id\":\"e5c712b8-9eff-42c3-8d65-46cf1a6565bd\",\"type\":\"LogScale\"},{\"attributes\":{\"bottom_units\":\"screen\",\"fill_alpha\":{\"value\":0.5},\"fill_color\":{\"value\":\"lightgrey\"},\"left_units\":\"screen\",\"level\":\"overlay\",\"line_alpha\":{\"value\":1.0},\"line_color\":{\"value\":\"black\"},\"line_dash\":[4,4],\"line_width\":{\"value\":2},\"plot\":null,\"render_mode\":\"css\",\"right_units\":\"screen\",\"top_units\":\"screen\"},\"id\":\"140e0040-4996-4044-a661-cb70af538831\",\"type\":\"BoxAnnotation\"},{\"attributes\":{},\"id\":\"be9d6375-16d4-4b0e-8a0d-8c838897fd02\",\"type\":\"PanTool\"},{\"attributes\":{},\"id\":\"bb6d002b-5d7b-429d-90b0-fa92bff7e9e8\",\"type\":\"WheelZoomTool\"},{\"attributes\":{\"overlay\":{\"id\":\"140e0040-4996-4044-a661-cb70af538831\",\"type\":\"BoxAnnotation\"}},\"id\":\"3a367e74-6790-441c-8600-4cd1413eb461\",\"type\":\"BoxZoomTool\"},{\"attributes\":{},\"id\":\"b31225ce-e942-41cd-9646-de97834c6f71\",\"type\":\"SaveTool\"},{\"attributes\":{},\"id\":\"d6cb0513-3916-4b3b-ab1c-19b324926267\",\"type\":\"ResetTool\"},{\"attributes\":{\"ticker\":null},\"id\":\"1fa02296-aa32-419f-b589-e0efb39916b0\",\"type\":\"LogTickFormatter\"},{\"attributes\":{},\"id\":\"d0f1c249-4bde-4172-84fa-beb2f8eb5286\",\"type\":\"HelpTool\"},{\"attributes\":{\"line_alpha\":0.1,\"line_color\":\"#1f77b4\",\"line_width\":3,\"x\":{\"field\":\"x\"},\"y\":{\"field\":\"y\"}},\"id\":\"0cbe8c2b-fd02-4f64-b3c5-60173c084589\",\"type\":\"Line\"},{\"attributes\":{\"data_source\":{\"id\":\"19c17c37-030b-458c-bf6d-80b22b4a5bad\",\"type\":\"ColumnDataSource\"},\"glyph\":{\"id\":\"850ad97f-511a-4835-8737-f7c9e6128e59\",\"type\":\"Line\"},\"hover_glyph\":null,\"muted_glyph\":null,\"nonselection_glyph\":{\"id\":\"0cbe8c2b-fd02-4f64-b3c5-60173c084589\",\"type\":\"Line\"},\"selection_glyph\":null,\"view\":{\"id\":\"c8dfc7d1-3ac6-4a9e-abb1-f60380e03957\",\"type\":\"CDSView\"}},\"id\":\"606a2a43-15e9-4d66-99be-61ef2ed2a7d7\",\"type\":\"GlyphRenderer\"},{\"attributes\":{\"data_source\":{\"id\":\"207b9b9d-d98f-4f8b-9018-07f7d38dc1d8\",\"type\":\"ColumnDataSource\"},\"glyph\":{\"id\":\"2c35d231-273d-4ffd-b378-03b72ea40b53\",\"type\":\"Line\"},\"hover_glyph\":null,\"muted_glyph\":null,\"nonselection_glyph\":{\"id\":\"9e0a97b7-a694-4761-8e48-359bfa5dfe4f\",\"type\":\"Line\"},\"selection_glyph\":null,\"view\":{\"id\":\"5e86ef94-f853-4032-8658-0985bf07279f\",\"type\":\"CDSView\"}},\"id\":\"8401e77e-81d8-4aee-a158-19f0fbe5a87b\",\"type\":\"GlyphRenderer\"},{\"attributes\":{\"label\":{\"value\":\"train - 256_32\"},\"renderers\":[{\"id\":\"8401e77e-81d8-4aee-a158-19f0fbe5a87b\",\"type\":\"GlyphRenderer\"}]},\"id\":\"c587d049-92fd-44f3-a8cb-df1494f1dfe6\",\"type\":\"LegendItem\"},{\"attributes\":{\"line_color\":\"#1f77b4\",\"line_width\":3,\"x\":{\"field\":\"x\"},\"y\":{\"field\":\"y\"}},\"id\":\"850ad97f-511a-4835-8737-f7c9e6128e59\",\"type\":\"Line\"},{\"attributes\":{},\"id\":\"0fb4310f-f77e-4ee1-b3ce-2adb3a21097a\",\"type\":\"BasicTickFormatter\"},{\"attributes\":{\"source\":{\"id\":\"19c17c37-030b-458c-bf6d-80b22b4a5bad\",\"type\":\"ColumnDataSource\"}},\"id\":\"c8dfc7d1-3ac6-4a9e-abb1-f60380e03957\",\"type\":\"CDSView\"},{\"attributes\":{\"line_alpha\":0.1,\"line_color\":\"#1f77b4\",\"line_width\":3,\"x\":{\"field\":\"x\"},\"y\":{\"field\":\"y\"}},\"id\":\"9e0a97b7-a694-4761-8e48-359bfa5dfe4f\",\"type\":\"Line\"},{\"attributes\":{\"label\":{\"value\":\"train - 256_1\"},\"renderers\":[{\"id\":\"606a2a43-15e9-4d66-99be-61ef2ed2a7d7\",\"type\":\"GlyphRenderer\"}]},\"id\":\"edcce7e4-5556-4127-b1a5-93f2e6d51e1c\",\"type\":\"LegendItem\"},{\"attributes\":{\"line_color\":\"#2ca02c\",\"line_width\":3,\"x\":{\"field\":\"x\"},\"y\":{\"field\":\"y\"}},\"id\":\"2c35d231-273d-4ffd-b378-03b72ea40b53\",\"type\":\"Line\"},{\"attributes\":{\"callback\":null,\"column_names\":[\"x\",\"y\"],\"data\":{\"x\":{\"__ndarray__\":\"AQAAAAIAAAADAAAABAAAAAUAAAAGAAAABwAAAAgAAAAJAAAACgAAAAsAAAAMAAAADQAAAA4AAAAPAAAAEAAAABEAAAASAAAAEwAAABQAAAAVAAAAFgAAABcAAAAYAAAAGQAAABoAAAAbAAAAHAAAAB0AAAAeAAAAHwAAACAAAAAhAAAAIgAAACMAAAAkAAAAJQAAACYAAAAnAAAAKAAAACkAAAAqAAAAKwAAACwAAAAtAAAALgAAAC8AAAAwAAAAMQAAADIAAAAzAAAANAAAADUAAAA2AAAANwAAADgAAAA5AAAAOgAAADsAAAA8AAAAPQAAAD4AAAA/AAAAQAAAAEEAAABCAAAAQwAAAEQAAABFAAAARgAAAEcAAABIAAAASQAAAEoAAABLAAAATAAAAE0AAABOAAAATwAAAFAAAABRAAAAUgAAAFMAAABUAAAAVQAAAFYAAABXAAAAWAAAAFkAAABaAAAA\",\"dtype\":\"int32\",\"shape\":[90]},\"y\":[1.6184247732162476,1.0322651863098145,1.0283018350601196,0.798604428768158,0.7706725001335144,0.849633514881134,0.8386397957801819,0.7936446070671082,0.8185763955116272,0.8712261319160461,0.8921545743942261,0.8492374420166016,0.8768123984336853,0.8277041912078857,0.8642061352729797,0.8814764022827148,0.8975220918655396,0.8565598726272583,0.8538744449615479,0.8941627144813538,0.8614258766174316,0.8827705979347229,0.8010073304176331,0.9198877215385437,0.8473717570304871,0.8873079419136047,0.8036686182022095,0.8083892464637756,0.863347589969635,0.8454137444496155,0.8739922046661377,0.8600870966911316,0.9719780683517456,0.9795013070106506,1.031304121017456,1.0481666326522827,0.9829222559928894,1.0911273956298828,1.0065901279449463,1.110913634300232,1.0692793130874634,1.1816998720169067,1.1495535373687744,1.1425492763519287,1.1900190114974976,1.1978868246078491,1.1900160312652588,1.2802520990371704,1.2079704999923706,1.195613980293274,1.3051508665084839,1.2184866666793823,1.2264302968978882,1.1598384380340576,1.268304467201233,1.1905936002731323,1.314754605293274,1.3336620330810547,1.2419483661651611,1.2888871431350708,1.1987478733062744,1.192776083946228,1.14967679977417,1.1592319011688232,1.1537870168685913,1.2204866409301758,1.0838700532913208,1.1526374816894531,1.1925559043884277,1.2110984325408936,1.242932915687561,1.2141523361206055,1.188777208328247,1.1637321710586548,1.1070356369018555,1.2186986207962036,1.2653900384902954,1.1402082443237305,1.207722544670105,1.2143551111221313,1.162772297859192,1.2763639688491821,1.2064095735549927,1.1538722515106201,1.22457754611969,1.165831208229065,1.242750644683838,1.1968028545379639,1.2524080276489258,1.2021039724349976]}},\"id\":\"207b9b9d-d98f-4f8b-9018-07f7d38dc1d8\",\"type\":\"ColumnDataSource\"},{\"attributes\":{\"click_policy\":\"hide\",\"items\":[{\"id\":\"edcce7e4-5556-4127-b1a5-93f2e6d51e1c\",\"type\":\"LegendItem\"},{\"id\":\"33762b03-6c5b-4a11-a823-c49f6a687c3c\",\"type\":\"LegendItem\"},{\"id\":\"c587d049-92fd-44f3-a8cb-df1494f1dfe6\",\"type\":\"LegendItem\"}],\"location\":\"bottom_left\",\"plot\":{\"id\":\"a9377089-892d-4ca3-8852-c11472240d3d\",\"subtype\":\"Figure\",\"type\":\"Plot\"}},\"id\":\"7fa09a9a-2f02-447b-892b-1e054efd936e\",\"type\":\"Legend\"},{\"attributes\":{\"background_fill_color\":{\"value\":\"#fafafa\"},\"below\":[{\"id\":\"fbd23aee-7a5d-4dfb-bab8-7c1923257d31\",\"type\":\"LinearAxis\"}],\"left\":[{\"id\":\"c1e173d2-400a-4a84-9020-10ffce13815d\",\"type\":\"LogAxis\"}],\"min_border\":10,\"min_border_left\":50,\"renderers\":[{\"id\":\"fbd23aee-7a5d-4dfb-bab8-7c1923257d31\",\"type\":\"LinearAxis\"},{\"id\":\"01a7a671-3bd4-4baa-bc0c-20d175040dc2\",\"type\":\"Grid\"},{\"id\":\"c1e173d2-400a-4a84-9020-10ffce13815d\",\"type\":\"LogAxis\"},{\"id\":\"6bd1b428-a66d-4459-8c68-22facdb5ab30\",\"type\":\"Grid\"},{\"id\":\"140e0040-4996-4044-a661-cb70af538831\",\"type\":\"BoxAnnotation\"},{\"id\":\"7fa09a9a-2f02-447b-892b-1e054efd936e\",\"type\":\"Legend\"},{\"id\":\"606a2a43-15e9-4d66-99be-61ef2ed2a7d7\",\"type\":\"GlyphRenderer\"},{\"id\":\"87fabb3f-0aa9-47da-b623-4f743c31d4f2\",\"type\":\"GlyphRenderer\"},{\"id\":\"8401e77e-81d8-4aee-a158-19f0fbe5a87b\",\"type\":\"GlyphRenderer\"}],\"title\":{\"id\":\"c558eb42-045e-41ce-96b6-607b677eab80\",\"type\":\"Title\"},\"toolbar\":{\"id\":\"047359c7-0052-40ae-8366-884949e49dc9\",\"type\":\"Toolbar\"},\"x_range\":{\"id\":\"3337994e-01ec-4909-aa65-196bcc92a6d8\",\"type\":\"DataRange1d\"},\"x_scale\":{\"id\":\"e9b4585b-8c02-43df-a610-ec4b36c1783c\",\"type\":\"LinearScale\"},\"y_range\":{\"id\":\"92a07f4f-1452-4049-8a9a-56f3986ad5eb\",\"type\":\"DataRange1d\"},\"y_scale\":{\"id\":\"e5c712b8-9eff-42c3-8d65-46cf1a6565bd\",\"type\":\"LogScale\"}},\"id\":\"a9377089-892d-4ca3-8852-c11472240d3d\",\"subtype\":\"Figure\",\"type\":\"Plot\"}],\"root_ids\":[\"a9377089-892d-4ca3-8852-c11472240d3d\"]},\"title\":\"Bokeh Application\",\"version\":\"0.12.13\"}};\n",
       "  var render_items = [{\"docid\":\"0d89a7c4-7035-4873-962f-367e88615f9c\",\"elementid\":\"e9785e94-b952-457d-a7ce-d83f55d0f627\",\"modelid\":\"a9377089-892d-4ca3-8852-c11472240d3d\"}];\n",
       "  root.Bokeh.embed.embed_items_notebook(docs_json, render_items);\n",
       "\n",
       "  }\n",
       "  if (root.Bokeh !== undefined) {\n",
       "    embed_document(root);\n",
       "  } else {\n",
       "    var attempts = 0;\n",
       "    var timer = setInterval(function(root) {\n",
       "      if (root.Bokeh !== undefined) {\n",
       "        embed_document(root);\n",
       "        clearInterval(timer);\n",
       "      }\n",
       "      attempts++;\n",
       "      if (attempts > 100) {\n",
       "        console.log(\"Bokeh: ERROR: Unable to run BokehJS code because BokehJS library is missing\")\n",
       "        clearInterval(timer);\n",
       "      }\n",
       "    }, 10, root)\n",
       "  }\n",
       "})(window);"
      ],
      "application/vnd.bokehjs_exec.v0+json": ""
     },
     "metadata": {
      "application/vnd.bokehjs_exec.v0+json": {
       "id": "a9377089-892d-4ca3-8852-c11472240d3d"
      }
     },
     "output_type": "display_data"
    }
   ],
   "source": [
    "show(plots[3])"
   ]
  }
 ],
 "metadata": {
  "kernelspec": {
   "display_name": "Python 3",
   "language": "python",
   "name": "python3"
  },
  "language_info": {
   "codemirror_mode": {
    "name": "ipython",
    "version": 3
   },
   "file_extension": ".py",
   "mimetype": "text/x-python",
   "name": "python",
   "nbconvert_exporter": "python",
   "pygments_lexer": "ipython3",
   "version": "3.6.1"
  }
 },
 "nbformat": 4,
 "nbformat_minor": 1
}
