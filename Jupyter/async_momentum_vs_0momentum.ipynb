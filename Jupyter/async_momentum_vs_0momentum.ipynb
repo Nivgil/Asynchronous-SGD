{
 "cells": [
  {
   "cell_type": "markdown",
   "metadata": {},
   "source": [
    "<script>\n",
    "  function code_toggle() {\n",
    "    if (code_shown){\n",
    "      $('div.input').hide('500');\n",
    "      $('#toggleButton').val('Show Code')\n",
    "    } else {\n",
    "      $('div.input').show('500');\n",
    "      $('#toggleButton').val('Hide Code')\n",
    "    }\n",
    "    code_shown = !code_shown\n",
    "  } \n",
    "  \n",
    "  $( document ).ready(function(){\n",
    "    code_shown=false; \n",
    "    $('div.input').hide()\n",
    "  });\n",
    "</script>\n",
    "<form action=\"javascript:code_toggle()\"><input type=\"submit\" id=\"toggleButton\" value=\"Show Code\"></form>"
   ]
  },
  {
   "cell_type": "markdown",
   "metadata": {},
   "source": [
    "<h1 style=\"text-align: center;\" markdown=\"1\"> ImageNet - Fast Training Regime</h1>\n",
    "<h2 style=\"text-align: center;\" markdown=\"1\"> Resnet 50</h2>"
   ]
  },
  {
   "cell_type": "code",
   "execution_count": 1,
   "metadata": {
    "scrolled": false
   },
   "outputs": [
    {
     "data": {
      "text/html": [
       "\n",
       "    <div class=\"bk-root\">\n",
       "        <a href=\"https://bokeh.pydata.org\" target=\"_blank\" class=\"bk-logo bk-logo-small bk-logo-notebook\"></a>\n",
       "        <span id=\"0b92e169-b180-495c-b210-93e835de16fb\">Loading BokehJS ...</span>\n",
       "    </div>"
      ]
     },
     "metadata": {},
     "output_type": "display_data"
    },
    {
     "data": {
      "application/javascript": [
       "\n",
       "(function(root) {\n",
       "  function now() {\n",
       "    return new Date();\n",
       "  }\n",
       "\n",
       "  var force = true;\n",
       "\n",
       "  if (typeof (root._bokeh_onload_callbacks) === \"undefined\" || force === true) {\n",
       "    root._bokeh_onload_callbacks = [];\n",
       "    root._bokeh_is_loading = undefined;\n",
       "  }\n",
       "\n",
       "  var JS_MIME_TYPE = 'application/javascript';\n",
       "  var HTML_MIME_TYPE = 'text/html';\n",
       "  var EXEC_MIME_TYPE = 'application/vnd.bokehjs_exec.v0+json';\n",
       "  var CLASS_NAME = 'output_bokeh rendered_html';\n",
       "\n",
       "  /**\n",
       "   * Render data to the DOM node\n",
       "   */\n",
       "  function render(props, node) {\n",
       "    var script = document.createElement(\"script\");\n",
       "    node.appendChild(script);\n",
       "  }\n",
       "\n",
       "  /**\n",
       "   * Handle when an output is cleared or removed\n",
       "   */\n",
       "  function handleClearOutput(event, handle) {\n",
       "    var cell = handle.cell;\n",
       "\n",
       "    var id = cell.output_area._bokeh_element_id;\n",
       "    var server_id = cell.output_area._bokeh_server_id;\n",
       "    // Clean up Bokeh references\n",
       "    if (id !== undefined) {\n",
       "      Bokeh.index[id].model.document.clear();\n",
       "      delete Bokeh.index[id];\n",
       "    }\n",
       "\n",
       "    if (server_id !== undefined) {\n",
       "      // Clean up Bokeh references\n",
       "      var cmd = \"from bokeh.io.state import curstate; print(curstate().uuid_to_server['\" + server_id + \"'].get_sessions()[0].document.roots[0]._id)\";\n",
       "      cell.notebook.kernel.execute(cmd, {\n",
       "        iopub: {\n",
       "          output: function(msg) {\n",
       "            var element_id = msg.content.text.trim();\n",
       "            Bokeh.index[element_id].model.document.clear();\n",
       "            delete Bokeh.index[element_id];\n",
       "          }\n",
       "        }\n",
       "      });\n",
       "      // Destroy server and session\n",
       "      var cmd = \"import bokeh.io.notebook as ion; ion.destroy_server('\" + server_id + \"')\";\n",
       "      cell.notebook.kernel.execute(cmd);\n",
       "    }\n",
       "  }\n",
       "\n",
       "  /**\n",
       "   * Handle when a new output is added\n",
       "   */\n",
       "  function handleAddOutput(event, handle) {\n",
       "    var output_area = handle.output_area;\n",
       "    var output = handle.output;\n",
       "\n",
       "    // limit handleAddOutput to display_data with EXEC_MIME_TYPE content only\n",
       "    if ((output.output_type != \"display_data\") || (!output.data.hasOwnProperty(EXEC_MIME_TYPE))) {\n",
       "      return\n",
       "    }\n",
       "\n",
       "    var toinsert = output_area.element.find(\".\" + CLASS_NAME.split(' ')[0]);\n",
       "\n",
       "    if (output.metadata[EXEC_MIME_TYPE][\"id\"] !== undefined) {\n",
       "      toinsert[0].firstChild.textContent = output.data[JS_MIME_TYPE];\n",
       "      // store reference to embed id on output_area\n",
       "      output_area._bokeh_element_id = output.metadata[EXEC_MIME_TYPE][\"id\"];\n",
       "    }\n",
       "    if (output.metadata[EXEC_MIME_TYPE][\"server_id\"] !== undefined) {\n",
       "      var bk_div = document.createElement(\"div\");\n",
       "      bk_div.innerHTML = output.data[HTML_MIME_TYPE];\n",
       "      var script_attrs = bk_div.children[0].attributes;\n",
       "      for (var i = 0; i < script_attrs.length; i++) {\n",
       "        toinsert[0].firstChild.setAttribute(script_attrs[i].name, script_attrs[i].value);\n",
       "      }\n",
       "      // store reference to server id on output_area\n",
       "      output_area._bokeh_server_id = output.metadata[EXEC_MIME_TYPE][\"server_id\"];\n",
       "    }\n",
       "  }\n",
       "\n",
       "  function register_renderer(events, OutputArea) {\n",
       "\n",
       "    function append_mime(data, metadata, element) {\n",
       "      // create a DOM node to render to\n",
       "      var toinsert = this.create_output_subarea(\n",
       "        metadata,\n",
       "        CLASS_NAME,\n",
       "        EXEC_MIME_TYPE\n",
       "      );\n",
       "      this.keyboard_manager.register_events(toinsert);\n",
       "      // Render to node\n",
       "      var props = {data: data, metadata: metadata[EXEC_MIME_TYPE]};\n",
       "      render(props, toinsert[0]);\n",
       "      element.append(toinsert);\n",
       "      return toinsert\n",
       "    }\n",
       "\n",
       "    /* Handle when an output is cleared or removed */\n",
       "    events.on('clear_output.CodeCell', handleClearOutput);\n",
       "    events.on('delete.Cell', handleClearOutput);\n",
       "\n",
       "    /* Handle when a new output is added */\n",
       "    events.on('output_added.OutputArea', handleAddOutput);\n",
       "\n",
       "    /**\n",
       "     * Register the mime type and append_mime function with output_area\n",
       "     */\n",
       "    OutputArea.prototype.register_mime_type(EXEC_MIME_TYPE, append_mime, {\n",
       "      /* Is output safe? */\n",
       "      safe: true,\n",
       "      /* Index of renderer in `output_area.display_order` */\n",
       "      index: 0\n",
       "    });\n",
       "  }\n",
       "\n",
       "  // register the mime type if in Jupyter Notebook environment and previously unregistered\n",
       "  if (root.Jupyter !== undefined) {\n",
       "    var events = require('base/js/events');\n",
       "    var OutputArea = require('notebook/js/outputarea').OutputArea;\n",
       "\n",
       "    if (OutputArea.prototype.mime_types().indexOf(EXEC_MIME_TYPE) == -1) {\n",
       "      register_renderer(events, OutputArea);\n",
       "    }\n",
       "  }\n",
       "\n",
       "  \n",
       "  if (typeof (root._bokeh_timeout) === \"undefined\" || force === true) {\n",
       "    root._bokeh_timeout = Date.now() + 5000;\n",
       "    root._bokeh_failed_load = false;\n",
       "  }\n",
       "\n",
       "  var NB_LOAD_WARNING = {'data': {'text/html':\n",
       "     \"<div style='background-color: #fdd'>\\n\"+\n",
       "     \"<p>\\n\"+\n",
       "     \"BokehJS does not appear to have successfully loaded. If loading BokehJS from CDN, this \\n\"+\n",
       "     \"may be due to a slow or bad network connection. Possible fixes:\\n\"+\n",
       "     \"</p>\\n\"+\n",
       "     \"<ul>\\n\"+\n",
       "     \"<li>re-rerun `output_notebook()` to attempt to load from CDN again, or</li>\\n\"+\n",
       "     \"<li>use INLINE resources instead, as so:</li>\\n\"+\n",
       "     \"</ul>\\n\"+\n",
       "     \"<code>\\n\"+\n",
       "     \"from bokeh.resources import INLINE\\n\"+\n",
       "     \"output_notebook(resources=INLINE)\\n\"+\n",
       "     \"</code>\\n\"+\n",
       "     \"</div>\"}};\n",
       "\n",
       "  function display_loaded() {\n",
       "    var el = document.getElementById(\"0b92e169-b180-495c-b210-93e835de16fb\");\n",
       "    if (el != null) {\n",
       "      el.textContent = \"BokehJS is loading...\";\n",
       "    }\n",
       "    if (root.Bokeh !== undefined) {\n",
       "      if (el != null) {\n",
       "        el.textContent = \"BokehJS \" + root.Bokeh.version + \" successfully loaded.\";\n",
       "      }\n",
       "    } else if (Date.now() < root._bokeh_timeout) {\n",
       "      setTimeout(display_loaded, 100)\n",
       "    }\n",
       "  }\n",
       "\n",
       "\n",
       "  function run_callbacks() {\n",
       "    try {\n",
       "      root._bokeh_onload_callbacks.forEach(function(callback) { callback() });\n",
       "    }\n",
       "    finally {\n",
       "      delete root._bokeh_onload_callbacks\n",
       "    }\n",
       "    console.info(\"Bokeh: all callbacks have finished\");\n",
       "  }\n",
       "\n",
       "  function load_libs(js_urls, callback) {\n",
       "    root._bokeh_onload_callbacks.push(callback);\n",
       "    if (root._bokeh_is_loading > 0) {\n",
       "      console.log(\"Bokeh: BokehJS is being loaded, scheduling callback at\", now());\n",
       "      return null;\n",
       "    }\n",
       "    if (js_urls == null || js_urls.length === 0) {\n",
       "      run_callbacks();\n",
       "      return null;\n",
       "    }\n",
       "    console.log(\"Bokeh: BokehJS not loaded, scheduling load and callback at\", now());\n",
       "    root._bokeh_is_loading = js_urls.length;\n",
       "    for (var i = 0; i < js_urls.length; i++) {\n",
       "      var url = js_urls[i];\n",
       "      var s = document.createElement('script');\n",
       "      s.src = url;\n",
       "      s.async = false;\n",
       "      s.onreadystatechange = s.onload = function() {\n",
       "        root._bokeh_is_loading--;\n",
       "        if (root._bokeh_is_loading === 0) {\n",
       "          console.log(\"Bokeh: all BokehJS libraries loaded\");\n",
       "          run_callbacks()\n",
       "        }\n",
       "      };\n",
       "      s.onerror = function() {\n",
       "        console.warn(\"failed to load library \" + url);\n",
       "      };\n",
       "      console.log(\"Bokeh: injecting script tag for BokehJS library: \", url);\n",
       "      document.getElementsByTagName(\"head\")[0].appendChild(s);\n",
       "    }\n",
       "  };var element = document.getElementById(\"0b92e169-b180-495c-b210-93e835de16fb\");\n",
       "  if (element == null) {\n",
       "    console.log(\"Bokeh: ERROR: autoload.js configured with elementid '0b92e169-b180-495c-b210-93e835de16fb' but no matching script tag was found. \")\n",
       "    return false;\n",
       "  }\n",
       "\n",
       "  var js_urls = [\"https://cdn.pydata.org/bokeh/release/bokeh-0.12.13.min.js\", \"https://cdn.pydata.org/bokeh/release/bokeh-widgets-0.12.13.min.js\", \"https://cdn.pydata.org/bokeh/release/bokeh-tables-0.12.13.min.js\", \"https://cdn.pydata.org/bokeh/release/bokeh-gl-0.12.13.min.js\"];\n",
       "\n",
       "  var inline_js = [\n",
       "    function(Bokeh) {\n",
       "      Bokeh.set_log_level(\"info\");\n",
       "    },\n",
       "    \n",
       "    function(Bokeh) {\n",
       "      \n",
       "    },\n",
       "    function(Bokeh) {\n",
       "      console.log(\"Bokeh: injecting CSS: https://cdn.pydata.org/bokeh/release/bokeh-0.12.13.min.css\");\n",
       "      Bokeh.embed.inject_css(\"https://cdn.pydata.org/bokeh/release/bokeh-0.12.13.min.css\");\n",
       "      console.log(\"Bokeh: injecting CSS: https://cdn.pydata.org/bokeh/release/bokeh-widgets-0.12.13.min.css\");\n",
       "      Bokeh.embed.inject_css(\"https://cdn.pydata.org/bokeh/release/bokeh-widgets-0.12.13.min.css\");\n",
       "      console.log(\"Bokeh: injecting CSS: https://cdn.pydata.org/bokeh/release/bokeh-tables-0.12.13.min.css\");\n",
       "      Bokeh.embed.inject_css(\"https://cdn.pydata.org/bokeh/release/bokeh-tables-0.12.13.min.css\");\n",
       "    }\n",
       "  ];\n",
       "\n",
       "  function run_inline_js() {\n",
       "    \n",
       "    if ((root.Bokeh !== undefined) || (force === true)) {\n",
       "      for (var i = 0; i < inline_js.length; i++) {\n",
       "        inline_js[i].call(root, root.Bokeh);\n",
       "      }if (force === true) {\n",
       "        display_loaded();\n",
       "      }} else if (Date.now() < root._bokeh_timeout) {\n",
       "      setTimeout(run_inline_js, 100);\n",
       "    } else if (!root._bokeh_failed_load) {\n",
       "      console.log(\"Bokeh: BokehJS failed to load within specified timeout.\");\n",
       "      root._bokeh_failed_load = true;\n",
       "    } else if (force !== true) {\n",
       "      var cell = $(document.getElementById(\"0b92e169-b180-495c-b210-93e835de16fb\")).parents('.cell').data().cell;\n",
       "      cell.output_area.append_execute_result(NB_LOAD_WARNING)\n",
       "    }\n",
       "\n",
       "  }\n",
       "\n",
       "  if (root._bokeh_is_loading === 0) {\n",
       "    console.log(\"Bokeh: BokehJS loaded, going straight to plotting\");\n",
       "    run_inline_js();\n",
       "  } else {\n",
       "    load_libs(js_urls, function() {\n",
       "      console.log(\"Bokeh: BokehJS plotting callback run at\", now());\n",
       "      run_inline_js();\n",
       "    });\n",
       "  }\n",
       "}(window));"
      ],
      "application/vnd.bokehjs_load.v0+json": "\n(function(root) {\n  function now() {\n    return new Date();\n  }\n\n  var force = true;\n\n  if (typeof (root._bokeh_onload_callbacks) === \"undefined\" || force === true) {\n    root._bokeh_onload_callbacks = [];\n    root._bokeh_is_loading = undefined;\n  }\n\n  \n\n  \n  if (typeof (root._bokeh_timeout) === \"undefined\" || force === true) {\n    root._bokeh_timeout = Date.now() + 5000;\n    root._bokeh_failed_load = false;\n  }\n\n  var NB_LOAD_WARNING = {'data': {'text/html':\n     \"<div style='background-color: #fdd'>\\n\"+\n     \"<p>\\n\"+\n     \"BokehJS does not appear to have successfully loaded. If loading BokehJS from CDN, this \\n\"+\n     \"may be due to a slow or bad network connection. Possible fixes:\\n\"+\n     \"</p>\\n\"+\n     \"<ul>\\n\"+\n     \"<li>re-rerun `output_notebook()` to attempt to load from CDN again, or</li>\\n\"+\n     \"<li>use INLINE resources instead, as so:</li>\\n\"+\n     \"</ul>\\n\"+\n     \"<code>\\n\"+\n     \"from bokeh.resources import INLINE\\n\"+\n     \"output_notebook(resources=INLINE)\\n\"+\n     \"</code>\\n\"+\n     \"</div>\"}};\n\n  function display_loaded() {\n    var el = document.getElementById(\"0b92e169-b180-495c-b210-93e835de16fb\");\n    if (el != null) {\n      el.textContent = \"BokehJS is loading...\";\n    }\n    if (root.Bokeh !== undefined) {\n      if (el != null) {\n        el.textContent = \"BokehJS \" + root.Bokeh.version + \" successfully loaded.\";\n      }\n    } else if (Date.now() < root._bokeh_timeout) {\n      setTimeout(display_loaded, 100)\n    }\n  }\n\n\n  function run_callbacks() {\n    try {\n      root._bokeh_onload_callbacks.forEach(function(callback) { callback() });\n    }\n    finally {\n      delete root._bokeh_onload_callbacks\n    }\n    console.info(\"Bokeh: all callbacks have finished\");\n  }\n\n  function load_libs(js_urls, callback) {\n    root._bokeh_onload_callbacks.push(callback);\n    if (root._bokeh_is_loading > 0) {\n      console.log(\"Bokeh: BokehJS is being loaded, scheduling callback at\", now());\n      return null;\n    }\n    if (js_urls == null || js_urls.length === 0) {\n      run_callbacks();\n      return null;\n    }\n    console.log(\"Bokeh: BokehJS not loaded, scheduling load and callback at\", now());\n    root._bokeh_is_loading = js_urls.length;\n    for (var i = 0; i < js_urls.length; i++) {\n      var url = js_urls[i];\n      var s = document.createElement('script');\n      s.src = url;\n      s.async = false;\n      s.onreadystatechange = s.onload = function() {\n        root._bokeh_is_loading--;\n        if (root._bokeh_is_loading === 0) {\n          console.log(\"Bokeh: all BokehJS libraries loaded\");\n          run_callbacks()\n        }\n      };\n      s.onerror = function() {\n        console.warn(\"failed to load library \" + url);\n      };\n      console.log(\"Bokeh: injecting script tag for BokehJS library: \", url);\n      document.getElementsByTagName(\"head\")[0].appendChild(s);\n    }\n  };var element = document.getElementById(\"0b92e169-b180-495c-b210-93e835de16fb\");\n  if (element == null) {\n    console.log(\"Bokeh: ERROR: autoload.js configured with elementid '0b92e169-b180-495c-b210-93e835de16fb' but no matching script tag was found. \")\n    return false;\n  }\n\n  var js_urls = [\"https://cdn.pydata.org/bokeh/release/bokeh-0.12.13.min.js\", \"https://cdn.pydata.org/bokeh/release/bokeh-widgets-0.12.13.min.js\", \"https://cdn.pydata.org/bokeh/release/bokeh-tables-0.12.13.min.js\", \"https://cdn.pydata.org/bokeh/release/bokeh-gl-0.12.13.min.js\"];\n\n  var inline_js = [\n    function(Bokeh) {\n      Bokeh.set_log_level(\"info\");\n    },\n    \n    function(Bokeh) {\n      \n    },\n    function(Bokeh) {\n      console.log(\"Bokeh: injecting CSS: https://cdn.pydata.org/bokeh/release/bokeh-0.12.13.min.css\");\n      Bokeh.embed.inject_css(\"https://cdn.pydata.org/bokeh/release/bokeh-0.12.13.min.css\");\n      console.log(\"Bokeh: injecting CSS: https://cdn.pydata.org/bokeh/release/bokeh-widgets-0.12.13.min.css\");\n      Bokeh.embed.inject_css(\"https://cdn.pydata.org/bokeh/release/bokeh-widgets-0.12.13.min.css\");\n      console.log(\"Bokeh: injecting CSS: https://cdn.pydata.org/bokeh/release/bokeh-tables-0.12.13.min.css\");\n      Bokeh.embed.inject_css(\"https://cdn.pydata.org/bokeh/release/bokeh-tables-0.12.13.min.css\");\n    }\n  ];\n\n  function run_inline_js() {\n    \n    if ((root.Bokeh !== undefined) || (force === true)) {\n      for (var i = 0; i < inline_js.length; i++) {\n        inline_js[i].call(root, root.Bokeh);\n      }if (force === true) {\n        display_loaded();\n      }} else if (Date.now() < root._bokeh_timeout) {\n      setTimeout(run_inline_js, 100);\n    } else if (!root._bokeh_failed_load) {\n      console.log(\"Bokeh: BokehJS failed to load within specified timeout.\");\n      root._bokeh_failed_load = true;\n    } else if (force !== true) {\n      var cell = $(document.getElementById(\"0b92e169-b180-495c-b210-93e835de16fb\")).parents('.cell').data().cell;\n      cell.output_area.append_execute_result(NB_LOAD_WARNING)\n    }\n\n  }\n\n  if (root._bokeh_is_loading === 0) {\n    console.log(\"Bokeh: BokehJS loaded, going straight to plotting\");\n    run_inline_js();\n  } else {\n    load_libs(js_urls, function() {\n      console.log(\"Bokeh: BokehJS plotting callback run at\", now());\n      run_inline_js();\n    });\n  }\n}(window));"
     },
     "metadata": {},
     "output_type": "display_data"
    },
    {
     "data": {
      "text/markdown": [
       "<h6> #Simulation 186 - Min Error 29.70% , Mean Error 29.76%<h6>"
      ],
      "text/plain": [
       "<IPython.core.display.Markdown object>"
      ]
     },
     "metadata": {},
     "output_type": "display_data"
    },
    {
     "data": {
      "text/markdown": [
       "<h6> #Simulation 182 - Min Error 29.76% , Mean Error 30.03%<h6>"
      ],
      "text/plain": [
       "<IPython.core.display.Markdown object>"
      ]
     },
     "metadata": {},
     "output_type": "display_data"
    }
   ],
   "source": [
    "import numpy as np\n",
    "import pandas as pd\n",
    "from bokeh.io import output_notebook\n",
    "from bokeh.plotting import figure, show, output_file\n",
    "from Outputs.jupyter_graphs import create_graphs, compare_graphs\n",
    "from IPython.display import Markdown, display\n",
    "from IPython.core.interactiveshell import InteractiveShell\n",
    "sim_num = [186, 182]\n",
    "plots, scores = compare_graphs(sim_nums=sim_num, linear=True)\n",
    "output_notebook()\n",
    "for sim in zip(sim_num,scores):\n",
    "    display(Markdown('<h6> #Simulation {:1d} - Min Error {:.2f}% , Mean Error {:.2f}%<h6>'.format(sim[0],sim[1][0],sim[1][1])))"
   ]
  },
  {
   "cell_type": "code",
   "execution_count": 2,
   "metadata": {},
   "outputs": [
    {
     "data": {
      "text/html": [
       "\n",
       "<div class=\"bk-root\">\n",
       "    <div class=\"bk-plotdiv\" id=\"37e73b42-226a-4327-8687-ddfcb35410aa\"></div>\n",
       "</div>"
      ]
     },
     "metadata": {},
     "output_type": "display_data"
    },
    {
     "data": {
      "application/javascript": [
       "(function(root) {\n",
       "  function embed_document(root) {\n",
       "    \n",
       "  var docs_json = {\"0bc1872b-7f42-4689-8af4-63933cca091d\":{\"roots\":{\"references\":[{\"attributes\":{\"callback\":null,\"column_names\":[\"x\",\"y\"],\"data\":{\"x\":{\"__ndarray__\":\"AQAAAAIAAAADAAAABAAAAAUAAAAGAAAABwAAAAgAAAAJAAAACgAAAAsAAAAMAAAADQAAAA4AAAAPAAAAEAAAABEAAAASAAAAEwAAABQAAAAVAAAAFgAAABcAAAAYAAAAGQAAABoAAAAbAAAAHAAAAB0AAAAeAAAAHwAAACAAAAAhAAAAIgAAACMAAAAkAAAAJQAAACYAAAAnAAAAKAAAACkAAAAqAAAAKwAAACwAAAAtAAAALgAAAC8AAAAwAAAAMQAAADIAAAAzAAAANAAAADUAAAA2AAAANwAAADgAAAA5AAAAOgAAADsAAAA8AAAAPQAAAD4AAAA/AAAAQAAAAEEAAABCAAAAQwAAAEQAAABFAAAARgAAAEcAAABIAAAASQAAAEoAAABLAAAATAAAAE0AAABOAAAATwAAAFAAAABRAAAAUgAAAFMAAABUAAAAVQAAAFYAAABXAAAAWAAAAFkAAABaAAAA\",\"dtype\":\"int32\",\"shape\":[90]},\"y\":[0.9977645381125178,0.9926379621079765,0.9814294311357683,0.9663868956973751,0.9506980744898353,0.9309090852324705,0.9104870793580533,0.8903530921417961,0.8729525502924552,0.8609798722568152,0.8412111769972667,0.8278912897376108,0.8177224358731126,0.8088188347030183,0.8003086248706431,0.7908828435324683,0.7830618490796057,0.7814828199599119,0.7718993698710476,0.7681925931587292,0.7668204067072181,0.7573423292975849,0.7670038332230793,0.7546916209977447,0.7489343699921055,0.745800508442738,0.7435869016283836,0.7408893610275479,0.7377679880914069,0.7538790805569192,0.5570265234730506,0.5155182735730621,0.49547638988405773,0.48323910934173014,0.47464538190666844,0.46755809352037686,0.46403552386127594,0.460997668532846,0.45932497480833256,0.4567968110307444,0.4565720159804576,0.45458164314304733,0.45396579837057144,0.45295344010467686,0.45115586024384796,0.4510419016423397,0.4490117213459308,0.4475380649056914,0.4465163401814289,0.44432146628940816,0.44200326733250894,0.44159972899508354,0.4393884637999735,0.43746365618036903,0.43610864157304013,0.43479187334722835,0.4322145356537325,0.4317914838560813,0.42999312345527607,0.42789815847558893,0.3553354090436055,0.3425353603378922,0.33847578028195424,0.3344091753821882,0.33067195767906504,0.32924201138469444,0.3269238124270509,0.3239296672478544,0.322985215824429,0.3211720251934305,0.3198919422699275,0.31797415949403196,0.3162437059309914,0.315780066144191,0.3137865711509544,0.31312857730818555,0.3115995026401179,0.3107065667506236,0.30945536374336197,0.30849998477646473,0.30386436740764505,0.30142206285500234,0.30092095722270107,0.30046200065759615,0.30068913732534075,0.29972673351634244,0.299352855637219,0.29973375836356486,0.2995323794650785,0.2995909198380141]}},\"id\":\"547de16c-d893-4fe8-9ac6-126a0014b35c\",\"type\":\"ColumnDataSource\"},{\"attributes\":{\"source\":{\"id\":\"db0a5870-b914-43c7-a5fb-5f191be5dc86\",\"type\":\"ColumnDataSource\"}},\"id\":\"b269aac0-3911-4776-a833-ba72f5413307\",\"type\":\"CDSView\"},{\"attributes\":{\"callback\":null},\"id\":\"0f42f85e-341d-42fa-9db9-999567c7ac26\",\"type\":\"DataRange1d\"},{\"attributes\":{\"label\":{\"value\":\"train - 256_32_0.9\"},\"renderers\":[{\"id\":\"b85008c5-4d99-4f94-b71a-37e56c86a5ef\",\"type\":\"GlyphRenderer\"}]},\"id\":\"0f70a48e-5515-4d6f-8200-c3e6907bf718\",\"type\":\"LegendItem\"},{\"attributes\":{\"callback\":null,\"data\":{}},\"id\":\"fbc6f182-c851-4823-b7e9-0c7dcaaf7b4b\",\"type\":\"ColumnDataSource\"},{\"attributes\":{},\"id\":\"745fcd0c-d9b1-426b-b2f9-a6ee8982e94b\",\"type\":\"BasicTickFormatter\"},{\"attributes\":{\"source\":{\"id\":\"547de16c-d893-4fe8-9ac6-126a0014b35c\",\"type\":\"ColumnDataSource\"}},\"id\":\"34f0421c-7205-4ccb-a2c1-f1540cea6208\",\"type\":\"CDSView\"},{\"attributes\":{\"line_alpha\":0.1,\"line_color\":\"#1f77b4\",\"line_dash\":[6],\"line_width\":3,\"x\":{\"field\":\"x\"},\"y\":{\"field\":\"y\"}},\"id\":\"34efdd17-67a1-4e3c-a089-350972eac36a\",\"type\":\"Line\"},{\"attributes\":{\"active_drag\":\"auto\",\"active_inspect\":\"auto\",\"active_scroll\":\"auto\",\"active_tap\":\"auto\",\"tools\":[{\"id\":\"57693d19-e0be-4ee5-af8e-0eef50565dea\",\"type\":\"PanTool\"},{\"id\":\"36b6e793-a32a-482c-91d0-4a4b5f18b838\",\"type\":\"WheelZoomTool\"},{\"id\":\"6d9c236d-2125-41b2-bd97-6770bafdeba3\",\"type\":\"BoxZoomTool\"},{\"id\":\"d867809d-025a-4143-ad67-30c58263f90d\",\"type\":\"SaveTool\"},{\"id\":\"755ba451-0ce5-4e79-87e2-f779c11f6202\",\"type\":\"ResetTool\"},{\"id\":\"082d9b02-a7bf-4276-b28d-86b42d76c88a\",\"type\":\"HelpTool\"}]},\"id\":\"7aa0ad31-1adb-4a0d-88e9-42f01d5ddf18\",\"type\":\"Toolbar\"},{\"attributes\":{\"plot\":null,\"text\":\"Training & Test Error\"},\"id\":\"3972de6a-eb43-47bb-86b6-054c42d4e983\",\"type\":\"Title\"},{\"attributes\":{\"callback\":null,\"column_names\":[\"x\",\"y\"],\"data\":{\"x\":{\"__ndarray__\":\"AQAAAAIAAAADAAAABAAAAAUAAAAGAAAABwAAAAgAAAAJAAAACgAAAAsAAAAMAAAADQAAAA4AAAAPAAAAEAAAABEAAAASAAAAEwAAABQAAAAVAAAAFgAAABcAAAAYAAAAGQAAABoAAAAbAAAAHAAAAB0AAAAeAAAAHwAAACAAAAAhAAAAIgAAACMAAAAkAAAAJQAAACYAAAAnAAAAKAAAACkAAAAqAAAAKwAAACwAAAAtAAAALgAAAC8AAAAwAAAAMQAAADIAAAAzAAAANAAAADUAAAA2AAAANwAAADgAAAA5AAAAOgAAADsAAAA8AAAAPQAAAD4AAAA/AAAAQAAAAEEAAABCAAAAQwAAAEQAAABFAAAARgAAAEcAAABIAAAASQAAAEoAAABLAAAATAAAAE0AAABOAAAATwAAAFAAAABRAAAAUgAAAFMAAABUAAAAVQAAAFYAAABXAAAAWAAAAFkAAABaAAAA\",\"dtype\":\"int32\",\"shape\":[90]},\"y\":[0.9959396394068846,0.9829686527985925,0.9670324009282274,0.9479708734299532,0.9254827824944943,0.8873940711866827,0.8444902186834794,0.8021452316518265,0.7622823566319642,0.7291453807342827,0.6969692475679694,0.6698322701103727,0.6468555621555303,0.6242636596143211,0.6060209168665449,0.5898309900261085,0.5736121832650238,0.5590012855480925,0.5486817877763902,0.5362080041076522,0.5271350261141616,0.5188925409403848,0.5101130453706643,0.5020430591789835,0.49516885776700403,0.49086731081860696,0.48349356485267114,0.4790647901488631,0.47386406300006334,0.47010655129349255,0.3874483185983308,0.3746599779737134,0.3696379941051148,0.36550348237139524,0.36284652976549997,0.36045808235909504,0.35787371981676896,0.35511763883997544,0.353421528967056,0.350842630195513,0.34990676468943704,0.3471147789451898,0.3465738658562421,0.34395203747850894,0.3428093293084635,0.3412263974967782,0.33971527521178224,0.3383071839940531,0.3366118546605443,0.3358313162937667,0.33388933683065,0.3323149909435197,0.33103412747414473,0.32940202174774286,0.32869953721826534,0.3273531085281369,0.32621820574529026,0.32494358658637706,0.3235916941367802,0.32224838759982816,0.31544443464191,0.31326282990420884,0.31228091263674157,0.31200069936535574,0.31190469314295916,0.3111022996974559,0.31070656674520447,0.3103584466366494,0.30997598283297095,0.3094147757465903,0.30941789790197005,0.3090369951784231,0.30850700962443156,0.3086810696806147,0.30836573217987573,0.30847891023860874,0.30786852924042946,0.3074337693713592,0.30751338427863734,0.3077537900983493,0.3065252227062763,0.30664620615310134,0.30607485207174095,0.3058531791668593,0.3062442288911028,0.3060116284619841,0.30629886658351035,0.3063613096478717,0.30596011292436087,0.3057501481082273]}},\"id\":\"0ca4ea0e-7d2a-4e06-82fe-5ba8c6f4b51b\",\"type\":\"ColumnDataSource\"},{\"attributes\":{\"callback\":null,\"column_names\":[\"x\",\"y\"],\"data\":{\"x\":{\"__ndarray__\":\"AQAAAAIAAAADAAAABAAAAAUAAAAGAAAABwAAAAgAAAAJAAAACgAAAAsAAAAMAAAADQAAAA4AAAAPAAAAEAAAABEAAAASAAAAEwAAABQAAAAVAAAAFgAAABcAAAAYAAAAGQAAABoAAAAbAAAAHAAAAB0AAAAeAAAAHwAAACAAAAAhAAAAIgAAACMAAAAkAAAAJQAAACYAAAAnAAAAKAAAACkAAAAqAAAAKwAAACwAAAAtAAAALgAAAC8AAAAwAAAAMQAAADIAAAAzAAAANAAAADUAAAA2AAAANwAAADgAAAA5AAAAOgAAADsAAAA8AAAAPQAAAD4AAAA/AAAAQAAAAEEAAABCAAAAQwAAAEQAAABFAAAARgAAAEcAAABIAAAASQAAAEoAAABLAAAATAAAAE0AAABOAAAATwAAAFAAAABRAAAAUgAAAFMAAABUAAAAVQAAAFYAAABXAAAAWAAAAFkAAABaAAAA\",\"dtype\":\"int32\",\"shape\":[90]},\"y\":[0.9942399999984741,0.9841999999938964,0.9701399999992372,0.9619400000091552,0.933619999975586,0.9029000000701904,0.8789600001098633,0.8528200000427246,0.8325200000946045,0.8185000000305176,0.8025400000732422,0.7905400001220703,0.7652000000915526,0.7619,0.7511600000488281,0.7361600001525879,0.7497400000793456,0.722480000201416,0.7161000001281738,0.727679999987793,0.6985600001708984,0.6962800002197266,0.7038800002441407,0.7001000001464844,0.7268800000366211,0.7021800000427245,0.6982199999633789,0.69056,0.6792000001586913,0.6557999997924804,0.47800000009765625,0.4532399999633789,0.4428200000854492,0.43063999997558594,0.42680000040283206,0.41803999998779295,0.42176000021972654,0.4158000002807617,0.4111400000732422,0.4119800003173828,0.40914000036621095,0.4090799998535157,0.40812000036621093,0.41926000009765624,0.4067999999145508,0.40638000019531245,0.40761999998779297,0.40711999986572267,0.41267999992675786,0.40646000014648437,0.40178000006103515,0.38894000030517584,0.4017200003417969,0.39241999997558596,0.39208000048828123,0.3905600001464844,0.38766000003662104,0.3855600003540039,0.3841000001464844,0.39280000001220705,0.32562000073242187,0.3224400002685547,0.31964000029296874,0.3172800001953125,0.3139400000244141,0.3120800006347656,0.3130000002441406,0.31170000083007815,0.3102800005859375,0.30882000048828123,0.3070400005126953,0.30663999975585937,0.3080200005126953,0.30522000026855467,0.30560000053710934,0.3052599998535156,0.3037200007324219,0.30278000068359373,0.3035200000732422,0.30349999958496093,0.3012200004638672,0.3003000002197266,0.2980399998046875,0.30032000002441406,0.29835999980468747,0.2994600002685547,0.2987000005615234,0.2976400004638672,0.2980399995605469,0.29806000043945313]}},\"id\":\"db0a5870-b914-43c7-a5fb-5f191be5dc86\",\"type\":\"ColumnDataSource\"},{\"attributes\":{\"data_source\":{\"id\":\"db0a5870-b914-43c7-a5fb-5f191be5dc86\",\"type\":\"ColumnDataSource\"},\"glyph\":{\"id\":\"10cfadc0-2016-43aa-925f-f790a91fbedf\",\"type\":\"Line\"},\"hover_glyph\":null,\"muted_glyph\":null,\"nonselection_glyph\":{\"id\":\"3be80c30-137b-4485-b37a-2bd01c04be58\",\"type\":\"Line\"},\"selection_glyph\":null,\"view\":{\"id\":\"b269aac0-3911-4776-a833-ba72f5413307\",\"type\":\"CDSView\"}},\"id\":\"360fc53f-c61d-458c-96a9-a8eda8f3c43e\",\"type\":\"GlyphRenderer\"},{\"attributes\":{\"line_color\":\"#1f77b4\",\"line_dash\":[6],\"line_width\":3,\"x\":{\"field\":\"x\"},\"y\":{\"field\":\"y\"}},\"id\":\"bc71992c-411f-4614-8e11-fcb415b898d0\",\"type\":\"Line\"},{\"attributes\":{\"line_color\":\"#ff7f0e\",\"line_width\":3,\"x\":{\"field\":\"x\"},\"y\":{\"field\":\"y\"}},\"id\":\"10cfadc0-2016-43aa-925f-f790a91fbedf\",\"type\":\"Line\"},{\"attributes\":{\"data_source\":{\"id\":\"0ca4ea0e-7d2a-4e06-82fe-5ba8c6f4b51b\",\"type\":\"ColumnDataSource\"},\"glyph\":{\"id\":\"bc71992c-411f-4614-8e11-fcb415b898d0\",\"type\":\"Line\"},\"hover_glyph\":null,\"muted_glyph\":null,\"nonselection_glyph\":{\"id\":\"34efdd17-67a1-4e3c-a089-350972eac36a\",\"type\":\"Line\"},\"selection_glyph\":null,\"view\":{\"id\":\"d3240872-c9a3-428a-bee5-004acda0ae73\",\"type\":\"CDSView\"}},\"id\":\"7434eac5-1d63-4bb3-be17-719aa712ec0e\",\"type\":\"GlyphRenderer\"},{\"attributes\":{\"line_alpha\":0.1,\"line_color\":\"#1f77b4\",\"line_width\":3,\"x\":{\"field\":\"x\"},\"y\":{\"field\":\"y\"}},\"id\":\"3be80c30-137b-4485-b37a-2bd01c04be58\",\"type\":\"Line\"},{\"attributes\":{\"label\":{\"value\":\"validation - 256_32_0.9\"},\"renderers\":[{\"id\":\"360fc53f-c61d-458c-96a9-a8eda8f3c43e\",\"type\":\"GlyphRenderer\"}]},\"id\":\"f2271f69-aa82-4ecd-8491-b8255cafc27e\",\"type\":\"LegendItem\"},{\"attributes\":{\"source\":{\"id\":\"0ca4ea0e-7d2a-4e06-82fe-5ba8c6f4b51b\",\"type\":\"ColumnDataSource\"}},\"id\":\"d3240872-c9a3-428a-bee5-004acda0ae73\",\"type\":\"CDSView\"},{\"attributes\":{\"click_policy\":\"hide\",\"items\":[{\"id\":\"a5d76fed-3d24-41d8-bf96-a91051898317\",\"type\":\"LegendItem\"},{\"id\":\"06b64484-fe08-4c0b-8e22-cd272a584e11\",\"type\":\"LegendItem\"},{\"id\":\"0f70a48e-5515-4d6f-8200-c3e6907bf718\",\"type\":\"LegendItem\"},{\"id\":\"f2271f69-aa82-4ecd-8491-b8255cafc27e\",\"type\":\"LegendItem\"}],\"plot\":{\"id\":\"b3ff0ab6-a8a3-4af5-8664-b60098832ad1\",\"subtype\":\"Figure\",\"type\":\"Plot\"}},\"id\":\"ce888faf-ac11-4e78-85e3-716af0c3be52\",\"type\":\"Legend\"},{\"attributes\":{\"fill_alpha\":{\"value\":0.5},\"fill_color\":{\"value\":\"red\"},\"line_alpha\":{\"value\":0.5},\"line_color\":{\"value\":\"red\"},\"size\":{\"units\":\"screen\",\"value\":5},\"x\":{\"value\":88},\"y\":{\"value\":0.2976400004638672}},\"id\":\"e18deb24-1ac0-4e9a-834e-5d1d19cb1ddf\",\"type\":\"Circle\"},{\"attributes\":{\"data_source\":{\"id\":\"fbc6f182-c851-4823-b7e9-0c7dcaaf7b4b\",\"type\":\"ColumnDataSource\"},\"glyph\":{\"id\":\"e18deb24-1ac0-4e9a-834e-5d1d19cb1ddf\",\"type\":\"Circle\"},\"hover_glyph\":null,\"muted_glyph\":null,\"nonselection_glyph\":{\"id\":\"451785b4-0ec8-45a0-a2d8-22603226c1a2\",\"type\":\"Circle\"},\"selection_glyph\":null,\"view\":{\"id\":\"06cb97d8-014a-46d1-981f-e6a6ff835a7e\",\"type\":\"CDSView\"}},\"id\":\"371d4277-654d-4057-8c08-5399e93760bc\",\"type\":\"GlyphRenderer\"},{\"attributes\":{\"label\":{\"value\":\"train - 256_32_0.0\"},\"renderers\":[{\"id\":\"7434eac5-1d63-4bb3-be17-719aa712ec0e\",\"type\":\"GlyphRenderer\"}]},\"id\":\"a5d76fed-3d24-41d8-bf96-a91051898317\",\"type\":\"LegendItem\"},{\"attributes\":{},\"id\":\"951448da-e1b6-4169-b5e5-8216889ae8ff\",\"type\":\"LinearScale\"},{\"attributes\":{\"source\":{\"id\":\"fbc6f182-c851-4823-b7e9-0c7dcaaf7b4b\",\"type\":\"ColumnDataSource\"}},\"id\":\"06cb97d8-014a-46d1-981f-e6a6ff835a7e\",\"type\":\"CDSView\"},{\"attributes\":{},\"id\":\"73181d04-81e5-4de4-b4c9-8883fd47db5e\",\"type\":\"LinearScale\"},{\"attributes\":{\"callback\":null},\"id\":\"e11c992f-a73b-4ea1-958e-7a74d528f1fc\",\"type\":\"DataRange1d\"},{\"attributes\":{\"callback\":null,\"data\":{}},\"id\":\"1df5affd-619c-4aa8-b5c0-cc8bb64b539b\",\"type\":\"ColumnDataSource\"},{\"attributes\":{\"fill_alpha\":{\"value\":0.1},\"fill_color\":{\"value\":\"#1f77b4\"},\"line_alpha\":{\"value\":0.1},\"line_color\":{\"value\":\"#1f77b4\"},\"size\":{\"units\":\"screen\",\"value\":5},\"x\":{\"value\":88},\"y\":{\"value\":0.2976400004638672}},\"id\":\"451785b4-0ec8-45a0-a2d8-22603226c1a2\",\"type\":\"Circle\"},{\"attributes\":{\"plot\":{\"id\":\"b3ff0ab6-a8a3-4af5-8664-b60098832ad1\",\"subtype\":\"Figure\",\"type\":\"Plot\"},\"ticker\":{\"id\":\"be4d1e22-1cad-456c-9743-e1133e5c5cd5\",\"type\":\"BasicTicker\"}},\"id\":\"e92feb61-8475-46b0-a0ca-a38c449fe22d\",\"type\":\"Grid\"},{\"attributes\":{\"dimension\":1,\"plot\":{\"id\":\"b3ff0ab6-a8a3-4af5-8664-b60098832ad1\",\"subtype\":\"Figure\",\"type\":\"Plot\"},\"ticker\":{\"id\":\"2afb2a60-2a69-4ba4-918c-533e539fc96a\",\"type\":\"BasicTicker\"}},\"id\":\"238099fe-39c4-4133-8836-b7979d332627\",\"type\":\"Grid\"},{\"attributes\":{},\"id\":\"be4d1e22-1cad-456c-9743-e1133e5c5cd5\",\"type\":\"BasicTicker\"},{\"attributes\":{\"axis_label\":\"t [Epochs]\",\"formatter\":{\"id\":\"745fcd0c-d9b1-426b-b2f9-a6ee8982e94b\",\"type\":\"BasicTickFormatter\"},\"plot\":{\"id\":\"b3ff0ab6-a8a3-4af5-8664-b60098832ad1\",\"subtype\":\"Figure\",\"type\":\"Plot\"},\"ticker\":{\"id\":\"be4d1e22-1cad-456c-9743-e1133e5c5cd5\",\"type\":\"BasicTicker\"}},\"id\":\"7e5f614c-f89e-4415-95dc-685e03f2d81a\",\"type\":\"LinearAxis\"},{\"attributes\":{},\"id\":\"2afb2a60-2a69-4ba4-918c-533e539fc96a\",\"type\":\"BasicTicker\"},{\"attributes\":{\"axis_label\":\"Error Rate\",\"formatter\":{\"id\":\"ba0872be-d534-45a3-803e-f85857b20189\",\"type\":\"NumeralTickFormatter\"},\"plot\":{\"id\":\"b3ff0ab6-a8a3-4af5-8664-b60098832ad1\",\"subtype\":\"Figure\",\"type\":\"Plot\"},\"ticker\":{\"id\":\"2afb2a60-2a69-4ba4-918c-533e539fc96a\",\"type\":\"BasicTicker\"}},\"id\":\"924120e0-15b5-43f2-bff6-c96a9ee5a904\",\"type\":\"LinearAxis\"},{\"attributes\":{\"line_color\":\"#ff7f0e\",\"line_dash\":[6],\"line_width\":3,\"x\":{\"field\":\"x\"},\"y\":{\"field\":\"y\"}},\"id\":\"c4063194-e1a3-44c8-a1d9-dc7545b27336\",\"type\":\"Line\"},{\"attributes\":{\"data_source\":{\"id\":\"547de16c-d893-4fe8-9ac6-126a0014b35c\",\"type\":\"ColumnDataSource\"},\"glyph\":{\"id\":\"c4063194-e1a3-44c8-a1d9-dc7545b27336\",\"type\":\"Line\"},\"hover_glyph\":null,\"muted_glyph\":null,\"nonselection_glyph\":{\"id\":\"f5f0f366-b1a2-4b15-a2a3-6effcb4824c8\",\"type\":\"Line\"},\"selection_glyph\":null,\"view\":{\"id\":\"34f0421c-7205-4ccb-a2c1-f1540cea6208\",\"type\":\"CDSView\"}},\"id\":\"b85008c5-4d99-4f94-b71a-37e56c86a5ef\",\"type\":\"GlyphRenderer\"},{\"attributes\":{\"format\":\"0.0%\"},\"id\":\"ba0872be-d534-45a3-803e-f85857b20189\",\"type\":\"NumeralTickFormatter\"},{\"attributes\":{\"bottom_units\":\"screen\",\"fill_alpha\":{\"value\":0.5},\"fill_color\":{\"value\":\"lightgrey\"},\"left_units\":\"screen\",\"level\":\"overlay\",\"line_alpha\":{\"value\":1.0},\"line_color\":{\"value\":\"black\"},\"line_dash\":[4,4],\"line_width\":{\"value\":2},\"plot\":null,\"render_mode\":\"css\",\"right_units\":\"screen\",\"top_units\":\"screen\"},\"id\":\"88e3c272-4777-4432-bfce-be0e9d2a4c33\",\"type\":\"BoxAnnotation\"},{\"attributes\":{},\"id\":\"57693d19-e0be-4ee5-af8e-0eef50565dea\",\"type\":\"PanTool\"},{\"attributes\":{\"source\":{\"id\":\"66f43176-26ce-48c1-b8a7-f34f04c62c77\",\"type\":\"ColumnDataSource\"}},\"id\":\"fdd89ca3-b536-4085-aeee-18d1019654e9\",\"type\":\"CDSView\"},{\"attributes\":{},\"id\":\"36b6e793-a32a-482c-91d0-4a4b5f18b838\",\"type\":\"WheelZoomTool\"},{\"attributes\":{\"overlay\":{\"id\":\"88e3c272-4777-4432-bfce-be0e9d2a4c33\",\"type\":\"BoxAnnotation\"}},\"id\":\"6d9c236d-2125-41b2-bd97-6770bafdeba3\",\"type\":\"BoxZoomTool\"},{\"attributes\":{},\"id\":\"d867809d-025a-4143-ad67-30c58263f90d\",\"type\":\"SaveTool\"},{\"attributes\":{},\"id\":\"755ba451-0ce5-4e79-87e2-f779c11f6202\",\"type\":\"ResetTool\"},{\"attributes\":{},\"id\":\"082d9b02-a7bf-4276-b28d-86b42d76c88a\",\"type\":\"HelpTool\"},{\"attributes\":{\"line_alpha\":0.1,\"line_color\":\"#1f77b4\",\"line_dash\":[6],\"line_width\":3,\"x\":{\"field\":\"x\"},\"y\":{\"field\":\"y\"}},\"id\":\"f5f0f366-b1a2-4b15-a2a3-6effcb4824c8\",\"type\":\"Line\"},{\"attributes\":{\"callback\":null,\"column_names\":[\"x\",\"y\"],\"data\":{\"x\":{\"__ndarray__\":\"AQAAAAIAAAADAAAABAAAAAUAAAAGAAAABwAAAAgAAAAJAAAACgAAAAsAAAAMAAAADQAAAA4AAAAPAAAAEAAAABEAAAASAAAAEwAAABQAAAAVAAAAFgAAABcAAAAYAAAAGQAAABoAAAAbAAAAHAAAAB0AAAAeAAAAHwAAACAAAAAhAAAAIgAAACMAAAAkAAAAJQAAACYAAAAnAAAAKAAAACkAAAAqAAAAKwAAACwAAAAtAAAALgAAAC8AAAAwAAAAMQAAADIAAAAzAAAANAAAADUAAAA2AAAANwAAADgAAAA5AAAAOgAAADsAAAA8AAAAPQAAAD4AAAA/AAAAQAAAAEEAAABCAAAAQwAAAEQAAABFAAAARgAAAEcAAABIAAAASQAAAEoAAABLAAAATAAAAE0AAABOAAAATwAAAFAAAABRAAAAUgAAAFMAAABUAAAAVQAAAFYAAABXAAAAWAAAAFkAAABaAAAA\",\"dtype\":\"int32\",\"shape\":[90]},\"y\":[0.9880800000013352,0.9865599999938965,0.9800400000125884,0.9612000000350952,0.9625800000122071,0.9774000000167846,0.940580000024414,0.9210800000259399,0.8568800000518799,0.8306400000854492,0.8019000000427247,0.8124400000305175,0.7809800000854491,0.6870600002441407,0.7621400001464843,0.7931800000793457,0.696840000036621,0.6726600002929688,0.6698800002075196,0.6702400001403808,0.724420000164795,0.7126200001953126,0.7011200002014161,0.5643999998779297,0.7028000001586914,0.6483200001342773,0.6427799999877929,0.5441999998046875,0.5689800001464844,0.542240000390625,0.3423400003173828,0.33600000073242187,0.3317600001708984,0.33063999985351566,0.32846000017089844,0.3274600000488281,0.3256800002685547,0.32514000078125,0.32381999968261715,0.3218400001708984,0.32173999995117186,0.31880000041503903,0.3181000000488281,0.3196200001708984,0.3162999995849609,0.3159600002929687,0.31486000029296873,0.3160999998779297,0.33057999997558596,0.3186600003173828,0.31363999997558595,0.31228000078125,0.31115999975585934,0.31789999978027345,0.3107000007080078,0.31082,0.3105999996826172,0.3109399996826172,0.3071400002685547,0.30874000080566405,0.30146000056152344,0.30052000078125,0.2996000007080078,0.2999200006591797,0.29979999958496095,0.29894000053710934,0.2991200006591797,0.29968,0.2994400008056641,0.2991999995605469,0.29967999968261716,0.2988200006103516,0.29867999960937497,0.2987600000732422,0.2980999997802734,0.2988799998291016,0.29808000083007813,0.2975599998291016,0.29813999997558593,0.29762000034179686,0.297459999975586,0.29788000007324217,0.29779999956054687,0.29735999978027344,0.29784000048828124,0.29701999978027344,0.2973599995605469,0.2971000005126953,0.2977199998535156,0.29724000073242185]}},\"id\":\"66f43176-26ce-48c1-b8a7-f34f04c62c77\",\"type\":\"ColumnDataSource\"},{\"attributes\":{\"data_source\":{\"id\":\"66f43176-26ce-48c1-b8a7-f34f04c62c77\",\"type\":\"ColumnDataSource\"},\"glyph\":{\"id\":\"083d59e5-46c4-4b1d-99f4-4bcab8519dd6\",\"type\":\"Line\"},\"hover_glyph\":null,\"muted_glyph\":null,\"nonselection_glyph\":{\"id\":\"56e4c725-5a39-4028-8789-a4bb8f9a920b\",\"type\":\"Line\"},\"selection_glyph\":null,\"view\":{\"id\":\"fdd89ca3-b536-4085-aeee-18d1019654e9\",\"type\":\"CDSView\"}},\"id\":\"d17d6466-d578-43bc-850e-b3e6f9bf46a3\",\"type\":\"GlyphRenderer\"},{\"attributes\":{\"source\":{\"id\":\"1df5affd-619c-4aa8-b5c0-cc8bb64b539b\",\"type\":\"ColumnDataSource\"}},\"id\":\"a37c8a0d-29b8-4b7d-8f55-cf81e39e8f34\",\"type\":\"CDSView\"},{\"attributes\":{\"line_color\":\"#1f77b4\",\"line_width\":3,\"x\":{\"field\":\"x\"},\"y\":{\"field\":\"y\"}},\"id\":\"083d59e5-46c4-4b1d-99f4-4bcab8519dd6\",\"type\":\"Line\"},{\"attributes\":{\"line_alpha\":0.1,\"line_color\":\"#1f77b4\",\"line_width\":3,\"x\":{\"field\":\"x\"},\"y\":{\"field\":\"y\"}},\"id\":\"56e4c725-5a39-4028-8789-a4bb8f9a920b\",\"type\":\"Line\"},{\"attributes\":{\"label\":{\"value\":\"validation - 256_32_0.0\"},\"renderers\":[{\"id\":\"d17d6466-d578-43bc-850e-b3e6f9bf46a3\",\"type\":\"GlyphRenderer\"}]},\"id\":\"06b64484-fe08-4c0b-8e22-cd272a584e11\",\"type\":\"LegendItem\"},{\"attributes\":{\"fill_alpha\":{\"value\":0.5},\"fill_color\":{\"value\":\"red\"},\"line_alpha\":{\"value\":0.5},\"line_color\":{\"value\":\"red\"},\"size\":{\"units\":\"screen\",\"value\":5},\"x\":{\"value\":86},\"y\":{\"value\":0.29701999978027344}},\"id\":\"9e38aa6c-bdcf-43e8-90be-f31d815462d4\",\"type\":\"Circle\"},{\"attributes\":{\"data_source\":{\"id\":\"1df5affd-619c-4aa8-b5c0-cc8bb64b539b\",\"type\":\"ColumnDataSource\"},\"glyph\":{\"id\":\"9e38aa6c-bdcf-43e8-90be-f31d815462d4\",\"type\":\"Circle\"},\"hover_glyph\":null,\"muted_glyph\":null,\"nonselection_glyph\":{\"id\":\"93afefa5-e997-4b5f-8373-2ada23956dce\",\"type\":\"Circle\"},\"selection_glyph\":null,\"view\":{\"id\":\"a37c8a0d-29b8-4b7d-8f55-cf81e39e8f34\",\"type\":\"CDSView\"}},\"id\":\"ceca849b-6fcc-4411-8c9c-59893a898dad\",\"type\":\"GlyphRenderer\"},{\"attributes\":{\"fill_alpha\":{\"value\":0.1},\"fill_color\":{\"value\":\"#1f77b4\"},\"line_alpha\":{\"value\":0.1},\"line_color\":{\"value\":\"#1f77b4\"},\"size\":{\"units\":\"screen\",\"value\":5},\"x\":{\"value\":86},\"y\":{\"value\":0.29701999978027344}},\"id\":\"93afefa5-e997-4b5f-8373-2ada23956dce\",\"type\":\"Circle\"},{\"attributes\":{\"background_fill_color\":{\"value\":\"#fafafa\"},\"below\":[{\"id\":\"7e5f614c-f89e-4415-95dc-685e03f2d81a\",\"type\":\"LinearAxis\"}],\"left\":[{\"id\":\"924120e0-15b5-43f2-bff6-c96a9ee5a904\",\"type\":\"LinearAxis\"}],\"min_border\":10,\"min_border_left\":50,\"renderers\":[{\"id\":\"7e5f614c-f89e-4415-95dc-685e03f2d81a\",\"type\":\"LinearAxis\"},{\"id\":\"e92feb61-8475-46b0-a0ca-a38c449fe22d\",\"type\":\"Grid\"},{\"id\":\"924120e0-15b5-43f2-bff6-c96a9ee5a904\",\"type\":\"LinearAxis\"},{\"id\":\"238099fe-39c4-4133-8836-b7979d332627\",\"type\":\"Grid\"},{\"id\":\"88e3c272-4777-4432-bfce-be0e9d2a4c33\",\"type\":\"BoxAnnotation\"},{\"id\":\"ce888faf-ac11-4e78-85e3-716af0c3be52\",\"type\":\"Legend\"},{\"id\":\"7434eac5-1d63-4bb3-be17-719aa712ec0e\",\"type\":\"GlyphRenderer\"},{\"id\":\"d17d6466-d578-43bc-850e-b3e6f9bf46a3\",\"type\":\"GlyphRenderer\"},{\"id\":\"ceca849b-6fcc-4411-8c9c-59893a898dad\",\"type\":\"GlyphRenderer\"},{\"id\":\"b85008c5-4d99-4f94-b71a-37e56c86a5ef\",\"type\":\"GlyphRenderer\"},{\"id\":\"360fc53f-c61d-458c-96a9-a8eda8f3c43e\",\"type\":\"GlyphRenderer\"},{\"id\":\"371d4277-654d-4057-8c08-5399e93760bc\",\"type\":\"GlyphRenderer\"}],\"title\":{\"id\":\"3972de6a-eb43-47bb-86b6-054c42d4e983\",\"type\":\"Title\"},\"toolbar\":{\"id\":\"7aa0ad31-1adb-4a0d-88e9-42f01d5ddf18\",\"type\":\"Toolbar\"},\"x_range\":{\"id\":\"0f42f85e-341d-42fa-9db9-999567c7ac26\",\"type\":\"DataRange1d\"},\"x_scale\":{\"id\":\"73181d04-81e5-4de4-b4c9-8883fd47db5e\",\"type\":\"LinearScale\"},\"y_range\":{\"id\":\"e11c992f-a73b-4ea1-958e-7a74d528f1fc\",\"type\":\"DataRange1d\"},\"y_scale\":{\"id\":\"951448da-e1b6-4169-b5e5-8216889ae8ff\",\"type\":\"LinearScale\"}},\"id\":\"b3ff0ab6-a8a3-4af5-8664-b60098832ad1\",\"subtype\":\"Figure\",\"type\":\"Plot\"}],\"root_ids\":[\"b3ff0ab6-a8a3-4af5-8664-b60098832ad1\"]},\"title\":\"Bokeh Application\",\"version\":\"0.12.13\"}};\n",
       "  var render_items = [{\"docid\":\"0bc1872b-7f42-4689-8af4-63933cca091d\",\"elementid\":\"37e73b42-226a-4327-8687-ddfcb35410aa\",\"modelid\":\"b3ff0ab6-a8a3-4af5-8664-b60098832ad1\"}];\n",
       "  root.Bokeh.embed.embed_items_notebook(docs_json, render_items);\n",
       "\n",
       "  }\n",
       "  if (root.Bokeh !== undefined) {\n",
       "    embed_document(root);\n",
       "  } else {\n",
       "    var attempts = 0;\n",
       "    var timer = setInterval(function(root) {\n",
       "      if (root.Bokeh !== undefined) {\n",
       "        embed_document(root);\n",
       "        clearInterval(timer);\n",
       "      }\n",
       "      attempts++;\n",
       "      if (attempts > 100) {\n",
       "        console.log(\"Bokeh: ERROR: Unable to run BokehJS code because BokehJS library is missing\")\n",
       "        clearInterval(timer);\n",
       "      }\n",
       "    }, 10, root)\n",
       "  }\n",
       "})(window);"
      ],
      "application/vnd.bokehjs_exec.v0+json": ""
     },
     "metadata": {
      "application/vnd.bokehjs_exec.v0+json": {
       "id": "b3ff0ab6-a8a3-4af5-8664-b60098832ad1"
      }
     },
     "output_type": "display_data"
    }
   ],
   "source": [
    "show(plots[1])"
   ]
  },
  {
   "cell_type": "code",
   "execution_count": 3,
   "metadata": {},
   "outputs": [
    {
     "data": {
      "text/html": [
       "\n",
       "<div class=\"bk-root\">\n",
       "    <div class=\"bk-plotdiv\" id=\"783846f3-85a8-48ca-95e0-511ccbe5c50c\"></div>\n",
       "</div>"
      ]
     },
     "metadata": {},
     "output_type": "display_data"
    },
    {
     "data": {
      "application/javascript": [
       "(function(root) {\n",
       "  function embed_document(root) {\n",
       "    \n",
       "  var docs_json = {\"1d11f7c2-c090-43b9-84f3-433a9d426e64\":{\"roots\":{\"references\":[{\"attributes\":{\"line_alpha\":0.1,\"line_color\":\"#1f77b4\",\"line_width\":3,\"x\":{\"field\":\"x\"},\"y\":{\"field\":\"y\"}},\"id\":\"5c733a17-a374-484d-a2ae-c8ed8be14c1a\",\"type\":\"Line\"},{\"attributes\":{\"line_color\":\"#ff7f0e\",\"line_width\":3,\"x\":{\"field\":\"x\"},\"y\":{\"field\":\"y\"}},\"id\":\"071445b6-2560-49ad-a5b4-4a03a85f2a4b\",\"type\":\"Line\"},{\"attributes\":{\"source\":{\"id\":\"0f59fd3a-c41c-4e41-84d5-836adc65cc13\",\"type\":\"ColumnDataSource\"}},\"id\":\"6c494964-7739-4835-bf3e-6edf9f6f295e\",\"type\":\"CDSView\"},{\"attributes\":{\"callback\":null,\"column_names\":[\"x\",\"y\"],\"data\":{\"x\":{\"__ndarray__\":\"AQAAAAIAAAADAAAABAAAAAUAAAAGAAAABwAAAAgAAAAJAAAACgAAAAsAAAAMAAAADQAAAA4AAAAPAAAAEAAAABEAAAASAAAAEwAAABQAAAAVAAAAFgAAABcAAAAYAAAAGQAAABoAAAAbAAAAHAAAAB0AAAAeAAAAHwAAACAAAAAhAAAAIgAAACMAAAAkAAAAJQAAACYAAAAnAAAAKAAAACkAAAAqAAAAKwAAACwAAAAtAAAALgAAAC8AAAAwAAAAMQAAADIAAAAzAAAANAAAADUAAAA2AAAANwAAADgAAAA5AAAAOgAAADsAAAA8AAAAPQAAAD4AAAA/AAAAQAAAAEEAAABCAAAAQwAAAEQAAABFAAAARgAAAEcAAABIAAAASQAAAEoAAABLAAAATAAAAE0AAABOAAAATwAAAFAAAABRAAAAUgAAAFMAAABUAAAAVQAAAFYAAABXAAAAWAAAAFkAAABaAAAA\",\"dtype\":\"int32\",\"shape\":[90]},\"y\":[7.005383278889722,6.574593912363236,6.215295880509343,5.915329940926287,5.682947637597931,5.431842535565365,5.200884099383,5.000503496334687,4.832243776429383,4.732702042658734,4.558399953288769,4.445700257352669,4.357507799858053,4.292472607606715,4.2160769088350945,4.152080014823095,4.082620819306747,4.08249426238106,4.007555520137938,3.97694369308559,3.9734921190987182,3.8959824714807123,3.980848818435887,3.8764659782554722,3.8355011700057324,3.8095698824865387,3.7974346415785765,3.775409686724203,3.7534723484072874,3.892555871946773,2.613707809607718,2.3668702942867843,2.252724445009092,2.182236282057868,2.133097605190348,2.0965424520357825,2.072907147496005,2.0546052502334624,2.044514368216313,2.033848173549739,2.0266876434069245,2.018854694791972,2.0117771574882393,2.0100889746897317,1.9972274565515515,1.996261891919351,1.9850454583345374,1.9775311415923544,1.9724041189793518,1.9619322559270398,1.950764417522143,1.9452423358596154,1.9340447822733842,1.9250825350174856,1.9166317552886092,1.9090641867616323,1.8985169386895846,1.894077606612207,1.885180530986148,1.8734401958874423,1.541930165096248,1.478276064384912,1.454559883836074,1.4362034214202486,1.4201052949239164,1.4090653044077488,1.397864906290759,1.3854560092810781,1.3799170171631743,1.3705278402187802,1.363176218851005,1.354338353073501,1.346150611613162,1.343975208086259,1.3336621713104475,1.3303513048366156,1.3247207951668705,1.3191015564153832,1.312220671709054,1.308013258473204,1.286817283039062,1.2765335266205722,1.2754385950893672,1.272703753859541,1.2737836164969614,1.2691294360562997,1.2680724080889452,1.268192297629234,1.2686224619726114,1.26794059234689]}},\"id\":\"50ce818e-4581-4941-b9cf-dba4f7b53982\",\"type\":\"ColumnDataSource\"},{\"attributes\":{\"data_source\":{\"id\":\"9cf21de3-d990-4d92-8898-5f81924d5f21\",\"type\":\"ColumnDataSource\"},\"glyph\":{\"id\":\"071445b6-2560-49ad-a5b4-4a03a85f2a4b\",\"type\":\"Line\"},\"hover_glyph\":null,\"muted_glyph\":null,\"nonselection_glyph\":{\"id\":\"5c733a17-a374-484d-a2ae-c8ed8be14c1a\",\"type\":\"Line\"},\"selection_glyph\":null,\"view\":{\"id\":\"ce535d79-8e01-4e06-bb54-eda256c9b386\",\"type\":\"CDSView\"}},\"id\":\"b8a0419b-30b4-4f58-8977-4c9a3bb0b862\",\"type\":\"GlyphRenderer\"},{\"attributes\":{\"line_color\":\"#ff7f0e\",\"line_dash\":[6],\"line_width\":3,\"x\":{\"field\":\"x\"},\"y\":{\"field\":\"y\"}},\"id\":\"89fafba5-8cc3-40ef-b30a-28ec52f3840a\",\"type\":\"Line\"},{\"attributes\":{\"line_alpha\":0.1,\"line_color\":\"#1f77b4\",\"line_dash\":[6],\"line_width\":3,\"x\":{\"field\":\"x\"},\"y\":{\"field\":\"y\"}},\"id\":\"dfdd2a99-4f5c-4d41-b0fa-d43a7ac16973\",\"type\":\"Line\"},{\"attributes\":{\"callback\":null,\"column_names\":[\"x\",\"y\"],\"data\":{\"x\":{\"__ndarray__\":\"AQAAAAIAAAADAAAABAAAAAUAAAAGAAAABwAAAAgAAAAJAAAACgAAAAsAAAAMAAAADQAAAA4AAAAPAAAAEAAAABEAAAASAAAAEwAAABQAAAAVAAAAFgAAABcAAAAYAAAAGQAAABoAAAAbAAAAHAAAAB0AAAAeAAAAHwAAACAAAAAhAAAAIgAAACMAAAAkAAAAJQAAACYAAAAnAAAAKAAAACkAAAAqAAAAKwAAACwAAAAtAAAALgAAAC8AAAAwAAAAMQAAADIAAAAzAAAANAAAADUAAAA2AAAANwAAADgAAAA5AAAAOgAAADsAAAA8AAAAPQAAAD4AAAA/AAAAQAAAAEEAAABCAAAAQwAAAEQAAABFAAAARgAAAEcAAABIAAAASQAAAEoAAABLAAAATAAAAE0AAABOAAAATwAAAFAAAABRAAAAUgAAAFMAAABUAAAAVQAAAFYAAABXAAAAWAAAAFkAAABaAAAA\",\"dtype\":\"int32\",\"shape\":[90]},\"y\":[6.684368704681397,6.301052031860351,5.983388004455566,5.809685729522705,5.4279826979064945,5.072578134765625,4.8508683895874025,4.582627206115722,4.439033180541992,4.251998538208007,4.178113927612305,4.03459627494812,3.9025635148620608,3.829204631881714,3.7805419815826418,3.703020422973633,3.754750323562622,3.577164966964722,3.532659663772583,3.596162154388428,3.3771857927703857,3.3944456577301025,3.419662246322632,3.4420918588256835,3.62278922958374,3.4423690686798096,3.3913656705474855,3.3934203304290773,3.3037131169128418,3.119012672653198,2.1104107190704346,1.979351838684082,1.916534741859436,1.8479812726211549,1.8149941402816772,1.777331967277527,1.795334570388794,1.7655234382629394,1.74703995098114,1.7493265328216552,1.736659230155945,1.7463661530303956,1.7282752516937256,1.777049214363098,1.7169295260620117,1.7240967129516602,1.7185259914779663,1.7182189167785644,1.7403274382400513,1.7224157206726074,1.6908273823547364,1.6432470650482178,1.6893995923233032,1.648504856185913,1.6452287615585328,1.6304090379714966,1.6171980717468262,1.6175048624038697,1.6074032542419434,1.6524743157196045,1.3371934749603271,1.31681396648407,1.3044888473510743,1.2930212939453125,1.2837028562164308,1.2784678254318238,1.2719999919128417,1.2665671665191651,1.2609908853912353,1.2552720064544678,1.2505442894744874,1.2489328957748413,1.2431212587738036,1.239163977279663,1.2383233854675293,1.2346665226364135,1.234123540725708,1.2323118352508544,1.2302659345245361,1.2267203439331054,1.215208977470398,1.2139290182113647,1.2114440723419189,1.210960729675293,1.20940438747406,1.2090801078796387,1.2085383389282227,1.2090788940429686,1.2054964931488037,1.2088187656021119]}},\"id\":\"9cf21de3-d990-4d92-8898-5f81924d5f21\",\"type\":\"ColumnDataSource\"},{\"attributes\":{\"data_source\":{\"id\":\"50ce818e-4581-4941-b9cf-dba4f7b53982\",\"type\":\"ColumnDataSource\"},\"glyph\":{\"id\":\"89fafba5-8cc3-40ef-b30a-28ec52f3840a\",\"type\":\"Line\"},\"hover_glyph\":null,\"muted_glyph\":null,\"nonselection_glyph\":{\"id\":\"dfdd2a99-4f5c-4d41-b0fa-d43a7ac16973\",\"type\":\"Line\"},\"selection_glyph\":null,\"view\":{\"id\":\"23dfb3e9-047f-4725-9d96-e46e1bab9e0d\",\"type\":\"CDSView\"}},\"id\":\"43ac9dc7-e3b7-4327-91cb-0ad42c1a9716\",\"type\":\"GlyphRenderer\"},{\"attributes\":{\"source\":{\"id\":\"50ce818e-4581-4941-b9cf-dba4f7b53982\",\"type\":\"ColumnDataSource\"}},\"id\":\"23dfb3e9-047f-4725-9d96-e46e1bab9e0d\",\"type\":\"CDSView\"},{\"attributes\":{\"label\":{\"value\":\"train - 256_32_0.9\"},\"renderers\":[{\"id\":\"43ac9dc7-e3b7-4327-91cb-0ad42c1a9716\",\"type\":\"GlyphRenderer\"}]},\"id\":\"d6d3260e-eefb-4791-b113-66fe4935a1cb\",\"type\":\"LegendItem\"},{\"attributes\":{\"source\":{\"id\":\"9cf21de3-d990-4d92-8898-5f81924d5f21\",\"type\":\"ColumnDataSource\"}},\"id\":\"ce535d79-8e01-4e06-bb54-eda256c9b386\",\"type\":\"CDSView\"},{\"attributes\":{\"callback\":null,\"column_names\":[\"x\",\"y\"],\"data\":{\"x\":{\"__ndarray__\":\"AQAAAAIAAAADAAAABAAAAAUAAAAGAAAABwAAAAgAAAAJAAAACgAAAAsAAAAMAAAADQAAAA4AAAAPAAAAEAAAABEAAAASAAAAEwAAABQAAAAVAAAAFgAAABcAAAAYAAAAGQAAABoAAAAbAAAAHAAAAB0AAAAeAAAAHwAAACAAAAAhAAAAIgAAACMAAAAkAAAAJQAAACYAAAAnAAAAKAAAACkAAAAqAAAAKwAAACwAAAAtAAAALgAAAC8AAAAwAAAAMQAAADIAAAAzAAAANAAAADUAAAA2AAAANwAAADgAAAA5AAAAOgAAADsAAAA8AAAAPQAAAD4AAAA/AAAAQAAAAEEAAABCAAAAQwAAAEQAAABFAAAARgAAAEcAAABIAAAASQAAAEoAAABLAAAATAAAAE0AAABOAAAATwAAAFAAAABRAAAAUgAAAFMAAABUAAAAVQAAAFYAAABXAAAAWAAAAFkAAABaAAAA\",\"dtype\":\"int32\",\"shape\":[90]},\"y\":[6.807108167365884,6.271101671468312,5.899404008236738,5.578367306620069,5.284031599615437,4.872546510659855,4.474151203877548,4.126488951768393,3.833474714564686,3.600416015366992,3.3906694323086803,3.2191162016113566,3.0723885810698266,2.9392639626968107,2.83161442015842,2.7381549405893937,2.6475182873574323,2.5669839860485637,2.5072840305628703,2.439197372520744,2.3882733323339034,2.3460329970043325,2.29908636896957,2.259536689072431,2.2217947071714597,2.1934785855685806,2.1599327952245027,2.1357588814568165,2.1093156156286255,2.0904636262139653,1.6994253412408664,1.6339821899292024,1.6099474861207372,1.5898479369889431,1.5731010697461696,1.5609569545456226,1.5486692343135602,1.5353481562662445,1.5241123301357635,1.5129195562990465,1.507481779911475,1.495597906968752,1.4886419786063312,1.4789909602005429,1.473279633955873,1.4634988009512573,1.457490257705983,1.449565698615518,1.4405877569925811,1.4357750007613186,1.4283410147561457,1.4207871368191793,1.4156844250470189,1.4077041435539377,1.4027042682635098,1.39656685690944,1.3916755176196756,1.3849148827097215,1.3804118951081186,1.374067715617281,1.3427426619493796,1.3321909647541614,1.3272826968712863,1.3252762435888552,1.3254151987448697,1.3224703709330927,1.3208289708257646,1.318651100995834,1.317019830590618,1.314097336987938,1.315563654382756,1.3126628599200314,1.3106223667872818,1.3119777658649678,1.309571157856693,1.309298852811393,1.308632752376238,1.305002323739627,1.3048466275131636,1.3044798320384379,1.301256491394968,1.3015983586313695,1.2990947924443128,1.2990478985370828,1.3002827288441001,1.3007374130255827,1.2983188453901149,1.3002836342062398,1.298084697515934,1.2984898121766055]}},\"id\":\"0f59fd3a-c41c-4e41-84d5-836adc65cc13\",\"type\":\"ColumnDataSource\"},{\"attributes\":{\"callback\":null},\"id\":\"cf4fbf58-4a89-4ddf-8284-df3932d0bd2c\",\"type\":\"DataRange1d\"},{\"attributes\":{\"label\":{\"value\":\"validation - 256_32_0.9\"},\"renderers\":[{\"id\":\"b8a0419b-30b4-4f58-8977-4c9a3bb0b862\",\"type\":\"GlyphRenderer\"}]},\"id\":\"b28c9bc4-2f6f-4185-a8f6-c305b7281c85\",\"type\":\"LegendItem\"},{\"attributes\":{\"active_drag\":\"auto\",\"active_inspect\":\"auto\",\"active_scroll\":\"auto\",\"active_tap\":\"auto\",\"tools\":[{\"id\":\"cecd9ce7-b7cb-4be7-8d82-560beb645c35\",\"type\":\"PanTool\"},{\"id\":\"90d327cb-b894-4c55-8711-01542804ab9e\",\"type\":\"WheelZoomTool\"},{\"id\":\"332963e5-96af-41fa-93d2-3d7fac622e94\",\"type\":\"BoxZoomTool\"},{\"id\":\"e7152db4-0537-4c06-90c0-04513b1b3c85\",\"type\":\"SaveTool\"},{\"id\":\"f2591fe5-9706-48cf-b784-278a0b304e18\",\"type\":\"ResetTool\"},{\"id\":\"afc53b18-6ee1-4df6-bb83-e741b2854d2e\",\"type\":\"HelpTool\"}]},\"id\":\"dfb0a5e2-93fc-4653-b21f-e2b6eeea4ae8\",\"type\":\"Toolbar\"},{\"attributes\":{},\"id\":\"678b59b8-ba8d-4ff8-a190-d19a0f4c7475\",\"type\":\"LinearScale\"},{\"attributes\":{\"background_fill_color\":{\"value\":\"#fafafa\"},\"below\":[{\"id\":\"3df9140b-b0d2-41d1-b8c9-8d27313c6410\",\"type\":\"LinearAxis\"}],\"left\":[{\"id\":\"2f6f6c49-8576-41ef-8fb0-70f8507d1837\",\"type\":\"LogAxis\"}],\"min_border\":10,\"min_border_left\":50,\"renderers\":[{\"id\":\"3df9140b-b0d2-41d1-b8c9-8d27313c6410\",\"type\":\"LinearAxis\"},{\"id\":\"82557fec-6cf9-4cb9-8e8c-a6296a2ab935\",\"type\":\"Grid\"},{\"id\":\"2f6f6c49-8576-41ef-8fb0-70f8507d1837\",\"type\":\"LogAxis\"},{\"id\":\"e857a0f4-6ad1-422d-bc1a-c59d4d5cf1f7\",\"type\":\"Grid\"},{\"id\":\"e5421e9e-7461-4982-a8a5-4f10c839002b\",\"type\":\"BoxAnnotation\"},{\"id\":\"90da0751-e127-4ea3-a66f-cd27b6b40762\",\"type\":\"Legend\"},{\"id\":\"cd6f5260-f90d-4e72-ba8d-627258629c71\",\"type\":\"GlyphRenderer\"},{\"id\":\"461cc60b-ad55-43a1-a80f-b29e8dd85a1a\",\"type\":\"GlyphRenderer\"},{\"id\":\"43ac9dc7-e3b7-4327-91cb-0ad42c1a9716\",\"type\":\"GlyphRenderer\"},{\"id\":\"b8a0419b-30b4-4f58-8977-4c9a3bb0b862\",\"type\":\"GlyphRenderer\"}],\"title\":{\"id\":\"d64946d3-833b-4e2d-8525-11ea795cab54\",\"type\":\"Title\"},\"toolbar\":{\"id\":\"dfb0a5e2-93fc-4653-b21f-e2b6eeea4ae8\",\"type\":\"Toolbar\"},\"x_range\":{\"id\":\"cf4fbf58-4a89-4ddf-8284-df3932d0bd2c\",\"type\":\"DataRange1d\"},\"x_scale\":{\"id\":\"678b59b8-ba8d-4ff8-a190-d19a0f4c7475\",\"type\":\"LinearScale\"},\"y_range\":{\"id\":\"97fbc748-94f9-4edb-bb8a-9d429cde762e\",\"type\":\"DataRange1d\"},\"y_scale\":{\"id\":\"97dc70f1-7b91-4bb4-b66b-591110d743cf\",\"type\":\"LogScale\"}},\"id\":\"dac1573a-e580-4c2c-b061-d5e8d902c5e5\",\"subtype\":\"Figure\",\"type\":\"Plot\"},{\"attributes\":{\"callback\":null},\"id\":\"97fbc748-94f9-4edb-bb8a-9d429cde762e\",\"type\":\"DataRange1d\"},{\"attributes\":{\"num_minor_ticks\":10},\"id\":\"917770aa-6cb9-4040-b676-5eb8264ddd07\",\"type\":\"LogTicker\"},{\"attributes\":{\"axis_label\":\"t [Epochs]\",\"formatter\":{\"id\":\"d06a0e07-75a7-4f41-a957-b5fdc2cae085\",\"type\":\"BasicTickFormatter\"},\"plot\":{\"id\":\"dac1573a-e580-4c2c-b061-d5e8d902c5e5\",\"subtype\":\"Figure\",\"type\":\"Plot\"},\"ticker\":{\"id\":\"997fe3ce-b04a-4f04-9fd7-36f1dc21b348\",\"type\":\"BasicTicker\"}},\"id\":\"3df9140b-b0d2-41d1-b8c9-8d27313c6410\",\"type\":\"LinearAxis\"},{\"attributes\":{},\"id\":\"997fe3ce-b04a-4f04-9fd7-36f1dc21b348\",\"type\":\"BasicTicker\"},{\"attributes\":{\"plot\":{\"id\":\"dac1573a-e580-4c2c-b061-d5e8d902c5e5\",\"subtype\":\"Figure\",\"type\":\"Plot\"},\"ticker\":{\"id\":\"997fe3ce-b04a-4f04-9fd7-36f1dc21b348\",\"type\":\"BasicTicker\"}},\"id\":\"82557fec-6cf9-4cb9-8e8c-a6296a2ab935\",\"type\":\"Grid\"},{\"attributes\":{},\"id\":\"d06a0e07-75a7-4f41-a957-b5fdc2cae085\",\"type\":\"BasicTickFormatter\"},{\"attributes\":{},\"id\":\"97dc70f1-7b91-4bb4-b66b-591110d743cf\",\"type\":\"LogScale\"},{\"attributes\":{\"ticker\":null},\"id\":\"ffc5844f-88a4-4198-bd7c-0c556058364e\",\"type\":\"LogTickFormatter\"},{\"attributes\":{\"axis_label\":\"L(w(t))\",\"formatter\":{\"id\":\"ffc5844f-88a4-4198-bd7c-0c556058364e\",\"type\":\"LogTickFormatter\"},\"plot\":{\"id\":\"dac1573a-e580-4c2c-b061-d5e8d902c5e5\",\"subtype\":\"Figure\",\"type\":\"Plot\"},\"ticker\":{\"id\":\"917770aa-6cb9-4040-b676-5eb8264ddd07\",\"type\":\"LogTicker\"}},\"id\":\"2f6f6c49-8576-41ef-8fb0-70f8507d1837\",\"type\":\"LogAxis\"},{\"attributes\":{\"data_source\":{\"id\":\"0f59fd3a-c41c-4e41-84d5-836adc65cc13\",\"type\":\"ColumnDataSource\"},\"glyph\":{\"id\":\"2c2266d1-24f4-4b2e-be15-823481b7fe64\",\"type\":\"Line\"},\"hover_glyph\":null,\"muted_glyph\":null,\"nonselection_glyph\":{\"id\":\"408b502c-b775-4630-a055-0035736bd348\",\"type\":\"Line\"},\"selection_glyph\":null,\"view\":{\"id\":\"6c494964-7739-4835-bf3e-6edf9f6f295e\",\"type\":\"CDSView\"}},\"id\":\"cd6f5260-f90d-4e72-ba8d-627258629c71\",\"type\":\"GlyphRenderer\"},{\"attributes\":{\"plot\":null,\"text\":\"Training & Test Loss\"},\"id\":\"d64946d3-833b-4e2d-8525-11ea795cab54\",\"type\":\"Title\"},{\"attributes\":{\"dimension\":1,\"plot\":{\"id\":\"dac1573a-e580-4c2c-b061-d5e8d902c5e5\",\"subtype\":\"Figure\",\"type\":\"Plot\"},\"ticker\":{\"id\":\"917770aa-6cb9-4040-b676-5eb8264ddd07\",\"type\":\"LogTicker\"}},\"id\":\"e857a0f4-6ad1-422d-bc1a-c59d4d5cf1f7\",\"type\":\"Grid\"},{\"attributes\":{\"bottom_units\":\"screen\",\"fill_alpha\":{\"value\":0.5},\"fill_color\":{\"value\":\"lightgrey\"},\"left_units\":\"screen\",\"level\":\"overlay\",\"line_alpha\":{\"value\":1.0},\"line_color\":{\"value\":\"black\"},\"line_dash\":[4,4],\"line_width\":{\"value\":2},\"plot\":null,\"render_mode\":\"css\",\"right_units\":\"screen\",\"top_units\":\"screen\"},\"id\":\"e5421e9e-7461-4982-a8a5-4f10c839002b\",\"type\":\"BoxAnnotation\"},{\"attributes\":{\"click_policy\":\"hide\",\"items\":[{\"id\":\"9514e7cb-531b-4204-a4e8-386837403bfe\",\"type\":\"LegendItem\"},{\"id\":\"d1ddf691-dccc-4dfe-8309-3a2817c4314e\",\"type\":\"LegendItem\"},{\"id\":\"d6d3260e-eefb-4791-b113-66fe4935a1cb\",\"type\":\"LegendItem\"},{\"id\":\"b28c9bc4-2f6f-4185-a8f6-c305b7281c85\",\"type\":\"LegendItem\"}],\"location\":\"bottom_left\",\"plot\":{\"id\":\"dac1573a-e580-4c2c-b061-d5e8d902c5e5\",\"subtype\":\"Figure\",\"type\":\"Plot\"}},\"id\":\"90da0751-e127-4ea3-a66f-cd27b6b40762\",\"type\":\"Legend\"},{\"attributes\":{\"line_color\":\"#1f77b4\",\"line_dash\":[6],\"line_width\":3,\"x\":{\"field\":\"x\"},\"y\":{\"field\":\"y\"}},\"id\":\"2c2266d1-24f4-4b2e-be15-823481b7fe64\",\"type\":\"Line\"},{\"attributes\":{\"line_alpha\":0.1,\"line_color\":\"#1f77b4\",\"line_dash\":[6],\"line_width\":3,\"x\":{\"field\":\"x\"},\"y\":{\"field\":\"y\"}},\"id\":\"408b502c-b775-4630-a055-0035736bd348\",\"type\":\"Line\"},{\"attributes\":{},\"id\":\"cecd9ce7-b7cb-4be7-8d82-560beb645c35\",\"type\":\"PanTool\"},{\"attributes\":{\"label\":{\"value\":\"validation - 256_32_0.0\"},\"renderers\":[{\"id\":\"461cc60b-ad55-43a1-a80f-b29e8dd85a1a\",\"type\":\"GlyphRenderer\"}]},\"id\":\"d1ddf691-dccc-4dfe-8309-3a2817c4314e\",\"type\":\"LegendItem\"},{\"attributes\":{\"data_source\":{\"id\":\"01ea2c0a-4fdc-44c4-9421-459279ad1041\",\"type\":\"ColumnDataSource\"},\"glyph\":{\"id\":\"376f1ce1-45bf-481c-bbc3-6d1fe8465248\",\"type\":\"Line\"},\"hover_glyph\":null,\"muted_glyph\":null,\"nonselection_glyph\":{\"id\":\"ccd1bcdd-08e9-4c56-a419-85b7e961c5c5\",\"type\":\"Line\"},\"selection_glyph\":null,\"view\":{\"id\":\"631e7f8c-56d5-4bc5-b5e8-7cbcbe52c8b3\",\"type\":\"CDSView\"}},\"id\":\"461cc60b-ad55-43a1-a80f-b29e8dd85a1a\",\"type\":\"GlyphRenderer\"},{\"attributes\":{},\"id\":\"90d327cb-b894-4c55-8711-01542804ab9e\",\"type\":\"WheelZoomTool\"},{\"attributes\":{\"callback\":null,\"column_names\":[\"x\",\"y\"],\"data\":{\"x\":{\"__ndarray__\":\"AQAAAAIAAAADAAAABAAAAAUAAAAGAAAABwAAAAgAAAAJAAAACgAAAAsAAAAMAAAADQAAAA4AAAAPAAAAEAAAABEAAAASAAAAEwAAABQAAAAVAAAAFgAAABcAAAAYAAAAGQAAABoAAAAbAAAAHAAAAB0AAAAeAAAAHwAAACAAAAAhAAAAIgAAACMAAAAkAAAAJQAAACYAAAAnAAAAKAAAACkAAAAqAAAAKwAAACwAAAAtAAAALgAAAC8AAAAwAAAAMQAAADIAAAAzAAAANAAAADUAAAA2AAAANwAAADgAAAA5AAAAOgAAADsAAAA8AAAAPQAAAD4AAAA/AAAAQAAAAEEAAABCAAAAQwAAAEQAAABFAAAARgAAAEcAAABIAAAASQAAAEoAAABLAAAATAAAAE0AAABOAAAATwAAAFAAAABRAAAAUgAAAFMAAABUAAAAVQAAAFYAAABXAAAAWAAAAFkAAABaAAAA\",\"dtype\":\"int32\",\"shape\":[90]},\"y\":[6.494431590881348,21.87221374206543,6.409738085174561,5.971913459167481,6.367294949951172,7.299453327484131,5.830874432373047,6.513201524963379,5.01426396408081,4.452488272247314,4.377380673217774,4.631469755706787,3.9954814781188963,3.34402145942688,4.130345970001221,4.294590037078858,3.4810631732940673,3.201706895904541,3.40373140625,3.302464894104004,3.78346916595459,3.875347382507324,3.4739233673095704,2.5761708171844484,3.5844353016662596,3.0865977279663084,3.131905704727173,2.4912634176635744,2.606548629608154,2.4919847901153562,1.4072785162734984,1.3848708707809447,1.3678839332580566,1.3553361893081666,1.3475936457443238,1.3375927115249633,1.3285391670227051,1.3301372819900512,1.3199737398529052,1.3119331585311889,1.3103960561370849,1.3010969140625,1.2995416328048706,1.3065522612380982,1.2869602312088013,1.2924986517715453,1.2788645010375976,1.2867905916213989,1.3563715363311768,1.2922855500030517,1.2720848769378663,1.268555636367798,1.2702613216018677,1.2929281624221802,1.2640393512344361,1.2619262741851807,1.2599273833465576,1.2606694115447998,1.2511615649795533,1.252106321144104,1.2217496439743043,1.2176205681610108,1.216223031539917,1.2149322525024413,1.211436270980835,1.212416425971985,1.211969039993286,1.2135100257110596,1.2117071673202515,1.2118167053985596,1.2124289106750488,1.2077163145828247,1.209503932723999,1.209230294532776,1.2079207301330566,1.2105189616394043,1.204675158958435,1.205697354736328,1.2073127264404298,1.2038142137908936,1.2053136850357056,1.2047410177230835,1.2062189678955078,1.2036902044296265,1.2041121144866944,1.2045835354232788,1.2044864199829102,1.2035760591888427,1.2052258631515502,1.2065531436920165]}},\"id\":\"01ea2c0a-4fdc-44c4-9421-459279ad1041\",\"type\":\"ColumnDataSource\"},{\"attributes\":{\"overlay\":{\"id\":\"e5421e9e-7461-4982-a8a5-4f10c839002b\",\"type\":\"BoxAnnotation\"}},\"id\":\"332963e5-96af-41fa-93d2-3d7fac622e94\",\"type\":\"BoxZoomTool\"},{\"attributes\":{\"label\":{\"value\":\"train - 256_32_0.0\"},\"renderers\":[{\"id\":\"cd6f5260-f90d-4e72-ba8d-627258629c71\",\"type\":\"GlyphRenderer\"}]},\"id\":\"9514e7cb-531b-4204-a4e8-386837403bfe\",\"type\":\"LegendItem\"},{\"attributes\":{\"line_color\":\"#1f77b4\",\"line_width\":3,\"x\":{\"field\":\"x\"},\"y\":{\"field\":\"y\"}},\"id\":\"376f1ce1-45bf-481c-bbc3-6d1fe8465248\",\"type\":\"Line\"},{\"attributes\":{},\"id\":\"e7152db4-0537-4c06-90c0-04513b1b3c85\",\"type\":\"SaveTool\"},{\"attributes\":{\"line_alpha\":0.1,\"line_color\":\"#1f77b4\",\"line_width\":3,\"x\":{\"field\":\"x\"},\"y\":{\"field\":\"y\"}},\"id\":\"ccd1bcdd-08e9-4c56-a419-85b7e961c5c5\",\"type\":\"Line\"},{\"attributes\":{},\"id\":\"f2591fe5-9706-48cf-b784-278a0b304e18\",\"type\":\"ResetTool\"},{\"attributes\":{\"source\":{\"id\":\"01ea2c0a-4fdc-44c4-9421-459279ad1041\",\"type\":\"ColumnDataSource\"}},\"id\":\"631e7f8c-56d5-4bc5-b5e8-7cbcbe52c8b3\",\"type\":\"CDSView\"},{\"attributes\":{},\"id\":\"afc53b18-6ee1-4df6-bb83-e741b2854d2e\",\"type\":\"HelpTool\"}],\"root_ids\":[\"dac1573a-e580-4c2c-b061-d5e8d902c5e5\"]},\"title\":\"Bokeh Application\",\"version\":\"0.12.13\"}};\n",
       "  var render_items = [{\"docid\":\"1d11f7c2-c090-43b9-84f3-433a9d426e64\",\"elementid\":\"783846f3-85a8-48ca-95e0-511ccbe5c50c\",\"modelid\":\"dac1573a-e580-4c2c-b061-d5e8d902c5e5\"}];\n",
       "  root.Bokeh.embed.embed_items_notebook(docs_json, render_items);\n",
       "\n",
       "  }\n",
       "  if (root.Bokeh !== undefined) {\n",
       "    embed_document(root);\n",
       "  } else {\n",
       "    var attempts = 0;\n",
       "    var timer = setInterval(function(root) {\n",
       "      if (root.Bokeh !== undefined) {\n",
       "        embed_document(root);\n",
       "        clearInterval(timer);\n",
       "      }\n",
       "      attempts++;\n",
       "      if (attempts > 100) {\n",
       "        console.log(\"Bokeh: ERROR: Unable to run BokehJS code because BokehJS library is missing\")\n",
       "        clearInterval(timer);\n",
       "      }\n",
       "    }, 10, root)\n",
       "  }\n",
       "})(window);"
      ],
      "application/vnd.bokehjs_exec.v0+json": ""
     },
     "metadata": {
      "application/vnd.bokehjs_exec.v0+json": {
       "id": "dac1573a-e580-4c2c-b061-d5e8d902c5e5"
      }
     },
     "output_type": "display_data"
    }
   ],
   "source": [
    "show(plots[0])"
   ]
  },
  {
   "cell_type": "code",
   "execution_count": 4,
   "metadata": {},
   "outputs": [
    {
     "data": {
      "text/html": [
       "\n",
       "<div class=\"bk-root\">\n",
       "    <div class=\"bk-plotdiv\" id=\"f1604834-3559-4b24-8dfe-492c22bff8da\"></div>\n",
       "</div>"
      ]
     },
     "metadata": {},
     "output_type": "display_data"
    },
    {
     "data": {
      "application/javascript": [
       "(function(root) {\n",
       "  function embed_document(root) {\n",
       "    \n",
       "  var docs_json = {\"1bc3e1b2-beba-4d39-ab8b-7a69d42167d9\":{\"roots\":{\"references\":[{\"attributes\":{},\"id\":\"7ba147ac-3cf7-4919-83d1-c380bad35f21\",\"type\":\"SaveTool\"},{\"attributes\":{},\"id\":\"e77fa928-4168-4225-aecf-851bea1828f8\",\"type\":\"ResetTool\"},{\"attributes\":{},\"id\":\"0315a6f5-7fb3-4584-aaa4-8757e638aa93\",\"type\":\"HelpTool\"},{\"attributes\":{\"line_color\":\"#ff7f0e\",\"line_width\":3,\"x\":{\"field\":\"x\"},\"y\":{\"field\":\"y\"}},\"id\":\"1b483198-bfeb-4111-9336-9d2ce2b19a5d\",\"type\":\"Line\"},{\"attributes\":{\"callback\":null,\"column_names\":[\"x\",\"y\"],\"data\":{\"x\":{\"__ndarray__\":\"AQAAAAIAAAADAAAABAAAAAUAAAAGAAAABwAAAAgAAAAJAAAACgAAAAsAAAAMAAAADQAAAA4AAAAPAAAAEAAAABEAAAASAAAAEwAAABQAAAAVAAAAFgAAABcAAAAYAAAAGQAAABoAAAAbAAAAHAAAAB0AAAAeAAAAHwAAACAAAAAhAAAAIgAAACMAAAAkAAAAJQAAACYAAAAnAAAAKAAAACkAAAAqAAAAKwAAACwAAAAtAAAALgAAAC8AAAAwAAAAMQAAADIAAAAzAAAANAAAADUAAAA2AAAANwAAADgAAAA5AAAAOgAAADsAAAA8AAAAPQAAAD4AAAA/AAAAQAAAAEEAAABCAAAAQwAAAEQAAABFAAAARgAAAEcAAABIAAAASQAAAEoAAABLAAAATAAAAE0AAABOAAAATwAAAFAAAABRAAAAUgAAAFMAAABUAAAAVQAAAFYAAABXAAAAWAAAAFkAAABaAAAA\",\"dtype\":\"int32\",\"shape\":[90]},\"y\":[23.163476943969727,24.777456283569336,31.593395233154297,40.15866470336914,48.27956008911133,54.93716049194336,60.11776351928711,63.83689880371094,66.86790466308594,68.68444061279297,70.90425109863281,72.65764617919922,73.92286682128906,74.81024932861328,75.53132629394531,76.03103637695312,76.7069091796875,76.9327392578125,77.2581787109375,77.64269256591797,77.6125259399414,78.09293365478516,77.86715698242188,78.1505355834961,78.31005859375,78.46641540527344,78.51275634765625,78.69308471679688,78.77984619140625,77.81438446044922,75.86331939697266,73.6763687133789,71.63047790527344,69.7511978149414,68.04462432861328,66.51949310302734,65.16635131835938,63.96615219116211,62.91996765136719,62.00459671020508,61.213008880615234,60.52254104614258,59.94791793823242,59.44105529785156,59.010108947753906,58.62876510620117,58.30283737182617,58.020938873291016,57.77831268310547,57.56229019165039,57.37055969238281,57.198089599609375,57.05289077758789,56.91858673095703,56.794883728027344,56.678466796875,56.584815979003906,56.50071716308594,56.41297912597656,56.32969665527344,56.292667388916016,56.243751525878906,56.189823150634766,56.13314437866211,56.0738639831543,56.01245880126953,55.94916534423828,55.8855094909668,55.82007598876953,55.75458908081055,55.6884651184082,55.6226692199707,55.55646514892578,55.489097595214844,55.422725677490234,55.35652160644531,55.29072189331055,55.22438430786133,55.15865707397461,55.0939826965332,55.087684631347656,55.08134841918945,55.07495880126953,55.06853485107422,55.06206512451172,55.055721282958984,55.049339294433594,55.042930603027344,55.0363883972168,55.0299072265625]}},\"id\":\"7c516987-1db4-4124-8e83-fc5325d28689\",\"type\":\"ColumnDataSource\"},{\"attributes\":{\"bottom_units\":\"screen\",\"fill_alpha\":{\"value\":0.5},\"fill_color\":{\"value\":\"lightgrey\"},\"left_units\":\"screen\",\"level\":\"overlay\",\"line_alpha\":{\"value\":1.0},\"line_color\":{\"value\":\"black\"},\"line_dash\":[4,4],\"line_width\":{\"value\":2},\"plot\":null,\"render_mode\":\"css\",\"right_units\":\"screen\",\"top_units\":\"screen\"},\"id\":\"de8df52d-96a0-4657-9b3b-973ffbd3f6ae\",\"type\":\"BoxAnnotation\"},{\"attributes\":{\"data_source\":{\"id\":\"71ae0c42-bc21-4404-9103-cb641b64aab0\",\"type\":\"ColumnDataSource\"},\"glyph\":{\"id\":\"569fe52e-d9e7-4c83-9ace-05d5501d2b93\",\"type\":\"Line\"},\"hover_glyph\":null,\"muted_glyph\":null,\"nonselection_glyph\":{\"id\":\"06bc0637-22c1-4cea-9897-70340e0dfa8c\",\"type\":\"Line\"},\"selection_glyph\":null,\"view\":{\"id\":\"46810299-7592-4b33-bc02-24cf5af85572\",\"type\":\"CDSView\"}},\"id\":\"18ed51de-7d2d-4df2-9092-d75d00feba12\",\"type\":\"GlyphRenderer\"},{\"attributes\":{\"line_color\":\"#1f77b4\",\"line_width\":3,\"x\":{\"field\":\"x\"},\"y\":{\"field\":\"y\"}},\"id\":\"569fe52e-d9e7-4c83-9ace-05d5501d2b93\",\"type\":\"Line\"},{\"attributes\":{\"line_alpha\":0.1,\"line_color\":\"#1f77b4\",\"line_width\":3,\"x\":{\"field\":\"x\"},\"y\":{\"field\":\"y\"}},\"id\":\"516f8fa2-7474-45cc-b996-8468ddd8ab53\",\"type\":\"Line\"},{\"attributes\":{\"callback\":null},\"id\":\"82f75669-31c7-4dff-bed8-075b7b195d3e\",\"type\":\"DataRange1d\"},{\"attributes\":{\"callback\":null,\"column_names\":[\"x\",\"y\"],\"data\":{\"x\":{\"__ndarray__\":\"AQAAAAIAAAADAAAABAAAAAUAAAAGAAAABwAAAAgAAAAJAAAACgAAAAsAAAAMAAAADQAAAA4AAAAPAAAAEAAAABEAAAASAAAAEwAAABQAAAAVAAAAFgAAABcAAAAYAAAAGQAAABoAAAAbAAAAHAAAAB0AAAAeAAAAHwAAACAAAAAhAAAAIgAAACMAAAAkAAAAJQAAACYAAAAnAAAAKAAAACkAAAAqAAAAKwAAACwAAAAtAAAALgAAAC8AAAAwAAAAMQAAADIAAAAzAAAANAAAADUAAAA2AAAANwAAADgAAAA5AAAAOgAAADsAAAA8AAAAPQAAAD4AAAA/AAAAQAAAAEEAAABCAAAAQwAAAEQAAABFAAAARgAAAEcAAABIAAAASQAAAEoAAABLAAAATAAAAE0AAABOAAAATwAAAFAAAABRAAAAUgAAAFMAAABUAAAAVQAAAFYAAABXAAAAWAAAAFkAAABaAAAA\",\"dtype\":\"int32\",\"shape\":[90]},\"y\":[18.396575927734375,19.37943458557129,21.193477630615234,23.7866153717041,27.036685943603516,30.55225372314453,33.71768569946289,36.58561325073242,39.089500427246094,41.247802734375,43.06648254394531,44.63032531738281,45.9489631652832,47.07915496826172,48.03501892089844,48.869041442871094,49.5907096862793,50.215431213378906,50.77924346923828,51.24995422363281,51.68484115600586,52.033836364746094,52.34513854980469,52.61692810058594,52.85193634033203,53.06214141845703,53.22414016723633,53.359275817871094,53.47914123535156,53.564666748046875,53.561500549316406,53.54306411743164,53.51683807373047,53.48796463012695,53.454463958740234,53.41722869873047,53.377376556396484,53.337528228759766,53.29589080810547,53.25286865234375,53.2076416015625,53.163482666015625,53.11688995361328,53.07163619995117,53.0249137878418,52.97935104370117,52.93257522583008,52.8862190246582,52.840087890625,52.792911529541016,52.74565124511719,52.698604583740234,52.65287399291992,52.60676574707031,52.56129837036133,52.51591491699219,52.47038650512695,52.42467498779297,52.380332946777344,52.33546447753906,52.3314323425293,52.327518463134766,52.32364273071289,52.31985092163086,52.31598663330078,52.312171936035156,52.30819320678711,52.30441665649414,52.30061721801758,52.2968864440918,52.29307556152344,52.28932571411133,52.28559112548828,52.28175354003906,52.277992248535156,52.27405548095703,52.270225524902344,52.266605377197266,52.262725830078125,52.25885009765625,52.25844192504883,52.25802230834961,52.25760269165039,52.25719451904297,52.25678634643555,52.256343841552734,52.255943298339844,52.255516052246094,52.25511932373047,52.25471115112305]}},\"id\":\"71ae0c42-bc21-4404-9103-cb641b64aab0\",\"type\":\"ColumnDataSource\"},{\"attributes\":{\"label\":{\"value\":\"train - 256_32_0.0\"},\"renderers\":[{\"id\":\"18ed51de-7d2d-4df2-9092-d75d00feba12\",\"type\":\"GlyphRenderer\"}]},\"id\":\"0f6a68a4-6127-49dd-939d-a787d6885088\",\"type\":\"LegendItem\"},{\"attributes\":{},\"id\":\"3dae5777-5d84-423c-a240-7c9adc707441\",\"type\":\"BasicTickFormatter\"},{\"attributes\":{\"line_alpha\":0.1,\"line_color\":\"#1f77b4\",\"line_width\":3,\"x\":{\"field\":\"x\"},\"y\":{\"field\":\"y\"}},\"id\":\"06bc0637-22c1-4cea-9897-70340e0dfa8c\",\"type\":\"Line\"},{\"attributes\":{\"label\":{\"value\":\"train - 256_32_0.9\"},\"renderers\":[{\"id\":\"2cbc0420-1139-4cd6-93e2-be481f6c30c3\",\"type\":\"GlyphRenderer\"}]},\"id\":\"b6438390-a858-4e40-9e53-7375f269c740\",\"type\":\"LegendItem\"},{\"attributes\":{\"source\":{\"id\":\"71ae0c42-bc21-4404-9103-cb641b64aab0\",\"type\":\"ColumnDataSource\"}},\"id\":\"46810299-7592-4b33-bc02-24cf5af85572\",\"type\":\"CDSView\"},{\"attributes\":{\"data_source\":{\"id\":\"7c516987-1db4-4124-8e83-fc5325d28689\",\"type\":\"ColumnDataSource\"},\"glyph\":{\"id\":\"1b483198-bfeb-4111-9336-9d2ce2b19a5d\",\"type\":\"Line\"},\"hover_glyph\":null,\"muted_glyph\":null,\"nonselection_glyph\":{\"id\":\"516f8fa2-7474-45cc-b996-8468ddd8ab53\",\"type\":\"Line\"},\"selection_glyph\":null,\"view\":{\"id\":\"835df401-610b-40af-82e0-ae5e62fe2b3e\",\"type\":\"CDSView\"}},\"id\":\"2cbc0420-1139-4cd6-93e2-be481f6c30c3\",\"type\":\"GlyphRenderer\"},{\"attributes\":{},\"id\":\"eb55ab1c-d01a-423c-a3bf-e1c79953a817\",\"type\":\"BasicTickFormatter\"},{\"attributes\":{\"click_policy\":\"hide\",\"items\":[{\"id\":\"0f6a68a4-6127-49dd-939d-a787d6885088\",\"type\":\"LegendItem\"},{\"id\":\"b6438390-a858-4e40-9e53-7375f269c740\",\"type\":\"LegendItem\"}],\"location\":\"top_left\",\"plot\":{\"id\":\"7db4be31-a330-432a-b206-1d3acbacb108\",\"subtype\":\"Figure\",\"type\":\"Plot\"}},\"id\":\"d8b8855e-1cf5-42d6-9601-8387e1db893c\",\"type\":\"Legend\"},{\"attributes\":{\"source\":{\"id\":\"7c516987-1db4-4124-8e83-fc5325d28689\",\"type\":\"ColumnDataSource\"}},\"id\":\"835df401-610b-40af-82e0-ae5e62fe2b3e\",\"type\":\"CDSView\"},{\"attributes\":{\"plot\":null,\"text\":\"The Norm of w(t)\"},\"id\":\"d9a9cfaa-c782-4dfa-b767-f86c2ad59c47\",\"type\":\"Title\"},{\"attributes\":{\"active_drag\":\"auto\",\"active_inspect\":\"auto\",\"active_scroll\":\"auto\",\"active_tap\":\"auto\",\"tools\":[{\"id\":\"cd5bab56-72b8-421c-bd39-39e217c45de1\",\"type\":\"PanTool\"},{\"id\":\"3a9eadf8-1ccc-4805-9ffa-b34a102922f1\",\"type\":\"WheelZoomTool\"},{\"id\":\"7445bba5-4954-4a36-aeba-ae0d6043d4d9\",\"type\":\"BoxZoomTool\"},{\"id\":\"7ba147ac-3cf7-4919-83d1-c380bad35f21\",\"type\":\"SaveTool\"},{\"id\":\"e77fa928-4168-4225-aecf-851bea1828f8\",\"type\":\"ResetTool\"},{\"id\":\"0315a6f5-7fb3-4584-aaa4-8757e638aa93\",\"type\":\"HelpTool\"}]},\"id\":\"9bc23ca5-613e-4697-a4e0-8763d646308b\",\"type\":\"Toolbar\"},{\"attributes\":{},\"id\":\"7211dd3a-36d6-4a67-873a-40c4c0f05cd6\",\"type\":\"LinearScale\"},{\"attributes\":{},\"id\":\"98c1f19d-2a80-4e79-aa81-33572d377301\",\"type\":\"LinearScale\"},{\"attributes\":{\"callback\":null},\"id\":\"379366e2-bfec-46e6-a748-1485313b826f\",\"type\":\"DataRange1d\"},{\"attributes\":{\"plot\":{\"id\":\"7db4be31-a330-432a-b206-1d3acbacb108\",\"subtype\":\"Figure\",\"type\":\"Plot\"},\"ticker\":{\"id\":\"6ab2a4a8-0889-41fc-ba33-12d5eb0c821d\",\"type\":\"BasicTicker\"}},\"id\":\"4375fdd1-47a1-4a03-9883-e16c63c723c0\",\"type\":\"Grid\"},{\"attributes\":{\"dimension\":1,\"plot\":{\"id\":\"7db4be31-a330-432a-b206-1d3acbacb108\",\"subtype\":\"Figure\",\"type\":\"Plot\"},\"ticker\":{\"id\":\"75df6fdd-d5ca-4f5a-8f62-ca7328bb93ee\",\"type\":\"BasicTicker\"}},\"id\":\"74fd6750-a9c1-4ab2-9788-b96c718edf91\",\"type\":\"Grid\"},{\"attributes\":{},\"id\":\"6ab2a4a8-0889-41fc-ba33-12d5eb0c821d\",\"type\":\"BasicTicker\"},{\"attributes\":{\"axis_label\":\"t [Epochs]\",\"formatter\":{\"id\":\"3dae5777-5d84-423c-a240-7c9adc707441\",\"type\":\"BasicTickFormatter\"},\"plot\":{\"id\":\"7db4be31-a330-432a-b206-1d3acbacb108\",\"subtype\":\"Figure\",\"type\":\"Plot\"},\"ticker\":{\"id\":\"6ab2a4a8-0889-41fc-ba33-12d5eb0c821d\",\"type\":\"BasicTicker\"}},\"id\":\"d2318975-f5bf-413f-8fdb-5ddd14a3f169\",\"type\":\"LinearAxis\"},{\"attributes\":{},\"id\":\"75df6fdd-d5ca-4f5a-8f62-ca7328bb93ee\",\"type\":\"BasicTicker\"},{\"attributes\":{\"axis_label\":\"||w(t)||\",\"formatter\":{\"id\":\"eb55ab1c-d01a-423c-a3bf-e1c79953a817\",\"type\":\"BasicTickFormatter\"},\"plot\":{\"id\":\"7db4be31-a330-432a-b206-1d3acbacb108\",\"subtype\":\"Figure\",\"type\":\"Plot\"},\"ticker\":{\"id\":\"75df6fdd-d5ca-4f5a-8f62-ca7328bb93ee\",\"type\":\"BasicTicker\"}},\"id\":\"4a14c3b1-664b-473d-964c-50d795ea73c7\",\"type\":\"LinearAxis\"},{\"attributes\":{\"background_fill_color\":{\"value\":\"#fafafa\"},\"below\":[{\"id\":\"d2318975-f5bf-413f-8fdb-5ddd14a3f169\",\"type\":\"LinearAxis\"}],\"left\":[{\"id\":\"4a14c3b1-664b-473d-964c-50d795ea73c7\",\"type\":\"LinearAxis\"}],\"min_border\":10,\"min_border_left\":50,\"renderers\":[{\"id\":\"d2318975-f5bf-413f-8fdb-5ddd14a3f169\",\"type\":\"LinearAxis\"},{\"id\":\"4375fdd1-47a1-4a03-9883-e16c63c723c0\",\"type\":\"Grid\"},{\"id\":\"4a14c3b1-664b-473d-964c-50d795ea73c7\",\"type\":\"LinearAxis\"},{\"id\":\"74fd6750-a9c1-4ab2-9788-b96c718edf91\",\"type\":\"Grid\"},{\"id\":\"de8df52d-96a0-4657-9b3b-973ffbd3f6ae\",\"type\":\"BoxAnnotation\"},{\"id\":\"d8b8855e-1cf5-42d6-9601-8387e1db893c\",\"type\":\"Legend\"},{\"id\":\"18ed51de-7d2d-4df2-9092-d75d00feba12\",\"type\":\"GlyphRenderer\"},{\"id\":\"2cbc0420-1139-4cd6-93e2-be481f6c30c3\",\"type\":\"GlyphRenderer\"}],\"title\":{\"id\":\"d9a9cfaa-c782-4dfa-b767-f86c2ad59c47\",\"type\":\"Title\"},\"toolbar\":{\"id\":\"9bc23ca5-613e-4697-a4e0-8763d646308b\",\"type\":\"Toolbar\"},\"x_range\":{\"id\":\"82f75669-31c7-4dff-bed8-075b7b195d3e\",\"type\":\"DataRange1d\"},\"x_scale\":{\"id\":\"98c1f19d-2a80-4e79-aa81-33572d377301\",\"type\":\"LinearScale\"},\"y_range\":{\"id\":\"379366e2-bfec-46e6-a748-1485313b826f\",\"type\":\"DataRange1d\"},\"y_scale\":{\"id\":\"7211dd3a-36d6-4a67-873a-40c4c0f05cd6\",\"type\":\"LinearScale\"}},\"id\":\"7db4be31-a330-432a-b206-1d3acbacb108\",\"subtype\":\"Figure\",\"type\":\"Plot\"},{\"attributes\":{},\"id\":\"cd5bab56-72b8-421c-bd39-39e217c45de1\",\"type\":\"PanTool\"},{\"attributes\":{\"overlay\":{\"id\":\"de8df52d-96a0-4657-9b3b-973ffbd3f6ae\",\"type\":\"BoxAnnotation\"}},\"id\":\"7445bba5-4954-4a36-aeba-ae0d6043d4d9\",\"type\":\"BoxZoomTool\"},{\"attributes\":{},\"id\":\"3a9eadf8-1ccc-4805-9ffa-b34a102922f1\",\"type\":\"WheelZoomTool\"}],\"root_ids\":[\"7db4be31-a330-432a-b206-1d3acbacb108\"]},\"title\":\"Bokeh Application\",\"version\":\"0.12.13\"}};\n",
       "  var render_items = [{\"docid\":\"1bc3e1b2-beba-4d39-ab8b-7a69d42167d9\",\"elementid\":\"f1604834-3559-4b24-8dfe-492c22bff8da\",\"modelid\":\"7db4be31-a330-432a-b206-1d3acbacb108\"}];\n",
       "  root.Bokeh.embed.embed_items_notebook(docs_json, render_items);\n",
       "\n",
       "  }\n",
       "  if (root.Bokeh !== undefined) {\n",
       "    embed_document(root);\n",
       "  } else {\n",
       "    var attempts = 0;\n",
       "    var timer = setInterval(function(root) {\n",
       "      if (root.Bokeh !== undefined) {\n",
       "        embed_document(root);\n",
       "        clearInterval(timer);\n",
       "      }\n",
       "      attempts++;\n",
       "      if (attempts > 100) {\n",
       "        console.log(\"Bokeh: ERROR: Unable to run BokehJS code because BokehJS library is missing\")\n",
       "        clearInterval(timer);\n",
       "      }\n",
       "    }, 10, root)\n",
       "  }\n",
       "})(window);"
      ],
      "application/vnd.bokehjs_exec.v0+json": ""
     },
     "metadata": {
      "application/vnd.bokehjs_exec.v0+json": {
       "id": "7db4be31-a330-432a-b206-1d3acbacb108"
      }
     },
     "output_type": "display_data"
    }
   ],
   "source": [
    "show(plots[2])"
   ]
  },
  {
   "cell_type": "code",
   "execution_count": 5,
   "metadata": {},
   "outputs": [
    {
     "data": {
      "text/html": [
       "\n",
       "<div class=\"bk-root\">\n",
       "    <div class=\"bk-plotdiv\" id=\"a47ea44d-9b5e-4c22-a337-ea827b2e19a0\"></div>\n",
       "</div>"
      ]
     },
     "metadata": {},
     "output_type": "display_data"
    },
    {
     "data": {
      "application/javascript": [
       "(function(root) {\n",
       "  function embed_document(root) {\n",
       "    \n",
       "  var docs_json = {\"0b7a1d2d-258c-4126-be04-59bc6a41e371\":{\"roots\":{\"references\":[{\"attributes\":{\"label\":{\"value\":\"train - 256_32_0.9\"},\"renderers\":[{\"id\":\"ffa145d3-437b-4729-9cd5-da537f9504e4\",\"type\":\"GlyphRenderer\"}]},\"id\":\"1e5e0b5f-5acd-487d-8673-8d81a62b7d33\",\"type\":\"LegendItem\"},{\"attributes\":{},\"id\":\"da9cecd6-0e33-4594-a3b9-145716725075\",\"type\":\"LinearScale\"},{\"attributes\":{\"line_alpha\":0.1,\"line_color\":\"#1f77b4\",\"line_width\":3,\"x\":{\"field\":\"x\"},\"y\":{\"field\":\"y\"}},\"id\":\"ba210f45-0f00-47f4-8403-0d72565f2e16\",\"type\":\"Line\"},{\"attributes\":{\"num_minor_ticks\":10},\"id\":\"a5aab615-6640-4897-9786-6d972e6a17e3\",\"type\":\"LogTicker\"},{\"attributes\":{\"plot\":{\"id\":\"2c2d881a-27fa-4c0a-94e0-b4946f55a1be\",\"subtype\":\"Figure\",\"type\":\"Plot\"},\"ticker\":{\"id\":\"7caab3c5-3500-4324-8add-dc3def51dcc7\",\"type\":\"BasicTicker\"}},\"id\":\"07b34638-946c-4ca4-a03d-a50f1bbb0db4\",\"type\":\"Grid\"},{\"attributes\":{\"dimension\":1,\"plot\":{\"id\":\"2c2d881a-27fa-4c0a-94e0-b4946f55a1be\",\"subtype\":\"Figure\",\"type\":\"Plot\"},\"ticker\":{\"id\":\"a5aab615-6640-4897-9786-6d972e6a17e3\",\"type\":\"LogTicker\"}},\"id\":\"d4443186-fba1-4cd5-a33a-60d59029f27b\",\"type\":\"Grid\"},{\"attributes\":{\"data_source\":{\"id\":\"11bdbb64-b6fc-4995-853a-ced4fa9041c1\",\"type\":\"ColumnDataSource\"},\"glyph\":{\"id\":\"572f0504-b208-43d2-8b09-c6a349c78be8\",\"type\":\"Line\"},\"hover_glyph\":null,\"muted_glyph\":null,\"nonselection_glyph\":{\"id\":\"ba210f45-0f00-47f4-8403-0d72565f2e16\",\"type\":\"Line\"},\"selection_glyph\":null,\"view\":{\"id\":\"8c952b8a-6aa7-437f-b7db-d243bc895476\",\"type\":\"CDSView\"}},\"id\":\"ffa145d3-437b-4729-9cd5-da537f9504e4\",\"type\":\"GlyphRenderer\"},{\"attributes\":{},\"id\":\"7caab3c5-3500-4324-8add-dc3def51dcc7\",\"type\":\"BasicTicker\"},{\"attributes\":{\"axis_label\":\"t [Epochs]\",\"formatter\":{\"id\":\"205182ba-a5bf-4d9e-95b9-db76bc4e07e6\",\"type\":\"BasicTickFormatter\"},\"plot\":{\"id\":\"2c2d881a-27fa-4c0a-94e0-b4946f55a1be\",\"subtype\":\"Figure\",\"type\":\"Plot\"},\"ticker\":{\"id\":\"7caab3c5-3500-4324-8add-dc3def51dcc7\",\"type\":\"BasicTicker\"}},\"id\":\"7f4db58d-a27e-45f2-81e8-d4721704cf77\",\"type\":\"LinearAxis\"},{\"attributes\":{\"axis_label\":\"||g||\",\"formatter\":{\"id\":\"130c3b83-f422-41c0-8d8e-a32f6cefbb68\",\"type\":\"LogTickFormatter\"},\"plot\":{\"id\":\"2c2d881a-27fa-4c0a-94e0-b4946f55a1be\",\"subtype\":\"Figure\",\"type\":\"Plot\"},\"ticker\":{\"id\":\"a5aab615-6640-4897-9786-6d972e6a17e3\",\"type\":\"LogTicker\"}},\"id\":\"020f3044-44ee-452e-b132-c0bd1ef34ae6\",\"type\":\"LogAxis\"},{\"attributes\":{},\"id\":\"a38fc5d5-c8bd-42d1-b4b3-00a195064ca5\",\"type\":\"LogScale\"},{\"attributes\":{\"source\":{\"id\":\"11bdbb64-b6fc-4995-853a-ced4fa9041c1\",\"type\":\"ColumnDataSource\"}},\"id\":\"8c952b8a-6aa7-437f-b7db-d243bc895476\",\"type\":\"CDSView\"},{\"attributes\":{\"callback\":null,\"column_names\":[\"x\",\"y\"],\"data\":{\"x\":{\"__ndarray__\":\"AQAAAAIAAAADAAAABAAAAAUAAAAGAAAABwAAAAgAAAAJAAAACgAAAAsAAAAMAAAADQAAAA4AAAAPAAAAEAAAABEAAAASAAAAEwAAABQAAAAVAAAAFgAAABcAAAAYAAAAGQAAABoAAAAbAAAAHAAAAB0AAAAeAAAAHwAAACAAAAAhAAAAIgAAACMAAAAkAAAAJQAAACYAAAAnAAAAKAAAACkAAAAqAAAAKwAAACwAAAAtAAAALgAAAC8AAAAwAAAAMQAAADIAAAAzAAAANAAAADUAAAA2AAAANwAAADgAAAA5AAAAOgAAADsAAAA8AAAAPQAAAD4AAAA/AAAAQAAAAEEAAABCAAAAQwAAAEQAAABFAAAARgAAAEcAAABIAAAASQAAAEoAAABLAAAATAAAAE0AAABOAAAATwAAAFAAAABRAAAAUgAAAFMAAABUAAAAVQAAAFYAAABXAAAAWAAAAFkAAABaAAAA\",\"dtype\":\"int32\",\"shape\":[90]},\"y\":[0.826116144657135,0.6305275559425354,0.5603293180465698,0.5776548385620117,0.5660849809646606,0.6205750107765198,0.6208299398422241,0.6596800684928894,0.6622775197029114,0.7150651216506958,0.7132781147956848,0.7326405644416809,0.7153470516204834,0.7583386301994324,0.7449451684951782,0.7295563817024231,0.7708937525749207,0.7177477478981018,0.7512964606285095,0.7346398234367371,0.738284707069397,0.760417640209198,0.7242952585220337,0.7482939958572388,0.7643463015556335,0.831589937210083,0.7420058846473694,0.7456451058387756,0.7487715482711792,0.7723224759101868,0.8565144538879395,1.0080054998397827,1.0249273777008057,1.0549575090408325,1.1672929525375366,1.2024513483047485,1.287891149520874,1.267886996269226,1.1961274147033691,1.288016676902771,1.3104878664016724,1.291458249092102,1.3133695125579834,1.3275591135025024,1.396555781364441,1.411324381828308,1.4675265550613403,1.362216830253601,1.4003762006759644,1.4298362731933594,1.416244626045227,1.312034010887146,1.4418390989303589,1.3667165040969849,1.4004559516906738,1.34296452999115,1.2896174192428589,1.3091484308242798,1.3709911108016968,1.2898825407028198,1.1866674423217773,1.3966138362884521,1.241007924079895,1.2850757837295532,1.1850897073745728,1.373877763748169,1.181821346282959,1.274670124053955,1.3900372982025146,1.281639575958252,1.2926446199417114,1.327097773551941,1.3420706987380981,1.3725579977035522,1.3509457111358643,1.3722224235534668,1.301905870437622,1.3530856370925903,1.2967984676361084,1.300282597541809,1.3416097164154053,1.345569372177124,1.4354819059371948,1.4362108707427979,1.4155856370925903,1.3185057640075684,1.2473934888839722,1.2848929166793823,1.4746222496032715,1.3698612451553345]}},\"id\":\"11bdbb64-b6fc-4995-853a-ced4fa9041c1\",\"type\":\"ColumnDataSource\"},{\"attributes\":{\"bottom_units\":\"screen\",\"fill_alpha\":{\"value\":0.5},\"fill_color\":{\"value\":\"lightgrey\"},\"left_units\":\"screen\",\"level\":\"overlay\",\"line_alpha\":{\"value\":1.0},\"line_color\":{\"value\":\"black\"},\"line_dash\":[4,4],\"line_width\":{\"value\":2},\"plot\":null,\"render_mode\":\"css\",\"right_units\":\"screen\",\"top_units\":\"screen\"},\"id\":\"11886de1-7dd9-4e80-8924-6c6a7c156321\",\"type\":\"BoxAnnotation\"},{\"attributes\":{\"line_color\":\"#ff7f0e\",\"line_width\":3,\"x\":{\"field\":\"x\"},\"y\":{\"field\":\"y\"}},\"id\":\"572f0504-b208-43d2-8b09-c6a349c78be8\",\"type\":\"Line\"},{\"attributes\":{},\"id\":\"15b86e72-7421-43bb-b067-3ee1c1058435\",\"type\":\"PanTool\"},{\"attributes\":{},\"id\":\"7c690bb2-23d7-42bf-a208-a54f44426615\",\"type\":\"WheelZoomTool\"},{\"attributes\":{\"overlay\":{\"id\":\"11886de1-7dd9-4e80-8924-6c6a7c156321\",\"type\":\"BoxAnnotation\"}},\"id\":\"a45d368b-0157-41d4-bbff-b1072b8a72a3\",\"type\":\"BoxZoomTool\"},{\"attributes\":{},\"id\":\"714a3b8c-b587-4023-af03-75a1adf2da5c\",\"type\":\"SaveTool\"},{\"attributes\":{},\"id\":\"4ecc16e8-396e-41a7-a422-0b2b1b83f472\",\"type\":\"ResetTool\"},{\"attributes\":{},\"id\":\"ee6b4f61-fb14-4dae-bb07-09b93fa1adfc\",\"type\":\"HelpTool\"},{\"attributes\":{\"label\":{\"value\":\"train - 256_32_0.0\"},\"renderers\":[{\"id\":\"263076d5-d266-4e62-91d4-719c740d8ce6\",\"type\":\"GlyphRenderer\"}]},\"id\":\"6716b929-f7cd-4fce-806e-8893f7c3c439\",\"type\":\"LegendItem\"},{\"attributes\":{},\"id\":\"205182ba-a5bf-4d9e-95b9-db76bc4e07e6\",\"type\":\"BasicTickFormatter\"},{\"attributes\":{\"data_source\":{\"id\":\"40982e46-fc15-4bfa-b5ec-fce7109d707e\",\"type\":\"ColumnDataSource\"},\"glyph\":{\"id\":\"c02e9031-ffae-4119-8e1a-32e29765b35a\",\"type\":\"Line\"},\"hover_glyph\":null,\"muted_glyph\":null,\"nonselection_glyph\":{\"id\":\"5028e052-3738-45c1-ab6a-f14f21550d6a\",\"type\":\"Line\"},\"selection_glyph\":null,\"view\":{\"id\":\"d333158c-3cec-456c-9dd8-210a2659882c\",\"type\":\"CDSView\"}},\"id\":\"263076d5-d266-4e62-91d4-719c740d8ce6\",\"type\":\"GlyphRenderer\"},{\"attributes\":{\"callback\":null,\"column_names\":[\"x\",\"y\"],\"data\":{\"x\":{\"__ndarray__\":\"AQAAAAIAAAADAAAABAAAAAUAAAAGAAAABwAAAAgAAAAJAAAACgAAAAsAAAAMAAAADQAAAA4AAAAPAAAAEAAAABEAAAASAAAAEwAAABQAAAAVAAAAFgAAABcAAAAYAAAAGQAAABoAAAAbAAAAHAAAAB0AAAAeAAAAHwAAACAAAAAhAAAAIgAAACMAAAAkAAAAJQAAACYAAAAnAAAAKAAAACkAAAAqAAAAKwAAACwAAAAtAAAALgAAAC8AAAAwAAAAMQAAADIAAAAzAAAANAAAADUAAAA2AAAANwAAADgAAAA5AAAAOgAAADsAAAA8AAAAPQAAAD4AAAA/AAAAQAAAAEEAAABCAAAAQwAAAEQAAABFAAAARgAAAEcAAABIAAAASQAAAEoAAABLAAAATAAAAE0AAABOAAAATwAAAFAAAABRAAAAUgAAAFMAAABUAAAAVQAAAFYAAABXAAAAWAAAAFkAAABaAAAA\",\"dtype\":\"int32\",\"shape\":[90]},\"y\":[3.6746466159820557,2.6603000164031982,2.2115697860717773,1.959593653678894,1.7617378234863281,1.7264866828918457,1.7398138046264648,1.7612859010696411,1.6401288509368896,1.6433801651000977,1.5912028551101685,1.5440435409545898,1.615655541419983,1.5482556819915771,1.4613205194473267,1.4048770666122437,1.5124365091323853,1.5003758668899536,1.496251106262207,1.315889835357666,1.474357008934021,1.5184760093688965,1.3562860488891602,1.483612298965454,1.4580578804016113,1.4690793752670288,1.43744957447052,1.3272979259490967,1.3110498189926147,1.4227575063705444,1.234837293624878,1.3331345319747925,1.2307384014129639,1.1800516843795776,1.4192180633544922,1.3518739938735962,1.2525193691253662,1.3263282775878906,1.2289761304855347,1.326879620552063,1.3092079162597656,1.337517499923706,1.37027108669281,1.1581588983535767,1.3517394065856934,1.3437683582305908,1.4072078466415405,1.2987228631973267,1.428053617477417,1.342185616493225,1.343677282333374,1.346888542175293,1.3133962154388428,1.3886818885803223,1.3952887058258057,1.39739191532135,1.4716922044754028,1.3100666999816895,1.384204387664795,1.3619729280471802,1.454527497291565,1.4999492168426514,1.4976162910461426,1.3004159927368164,1.4144445657730103,1.4115757942199707,1.427252173423767,1.3644520044326782,1.1936753988265991,1.2855474948883057,1.3198505640029907,1.2857398986816406,1.4186824560165405,1.4671595096588135,1.4528151750564575,1.4248188734054565,1.3738219738006592,1.340017318725586,1.314192533493042,1.321152687072754,1.3387140035629272,1.3183486461639404,1.3582402467727661,1.3875848054885864,1.3128137588500977,1.3885873556137085,1.325171709060669,1.471025824546814,1.2242143154144287,1.439084768295288]}},\"id\":\"40982e46-fc15-4bfa-b5ec-fce7109d707e\",\"type\":\"ColumnDataSource\"},{\"attributes\":{\"line_color\":\"#1f77b4\",\"line_width\":3,\"x\":{\"field\":\"x\"},\"y\":{\"field\":\"y\"}},\"id\":\"c02e9031-ffae-4119-8e1a-32e29765b35a\",\"type\":\"Line\"},{\"attributes\":{\"line_alpha\":0.1,\"line_color\":\"#1f77b4\",\"line_width\":3,\"x\":{\"field\":\"x\"},\"y\":{\"field\":\"y\"}},\"id\":\"5028e052-3738-45c1-ab6a-f14f21550d6a\",\"type\":\"Line\"},{\"attributes\":{\"active_drag\":\"auto\",\"active_inspect\":\"auto\",\"active_scroll\":\"auto\",\"active_tap\":\"auto\",\"tools\":[{\"id\":\"15b86e72-7421-43bb-b067-3ee1c1058435\",\"type\":\"PanTool\"},{\"id\":\"7c690bb2-23d7-42bf-a208-a54f44426615\",\"type\":\"WheelZoomTool\"},{\"id\":\"a45d368b-0157-41d4-bbff-b1072b8a72a3\",\"type\":\"BoxZoomTool\"},{\"id\":\"714a3b8c-b587-4023-af03-75a1adf2da5c\",\"type\":\"SaveTool\"},{\"id\":\"4ecc16e8-396e-41a7-a422-0b2b1b83f472\",\"type\":\"ResetTool\"},{\"id\":\"ee6b4f61-fb14-4dae-bb07-09b93fa1adfc\",\"type\":\"HelpTool\"}]},\"id\":\"85799743-147c-44f8-8f35-f5ff23a4fc4e\",\"type\":\"Toolbar\"},{\"attributes\":{\"source\":{\"id\":\"40982e46-fc15-4bfa-b5ec-fce7109d707e\",\"type\":\"ColumnDataSource\"}},\"id\":\"d333158c-3cec-456c-9dd8-210a2659882c\",\"type\":\"CDSView\"},{\"attributes\":{\"ticker\":null},\"id\":\"130c3b83-f422-41c0-8d8e-a32f6cefbb68\",\"type\":\"LogTickFormatter\"},{\"attributes\":{\"click_policy\":\"hide\",\"items\":[{\"id\":\"6716b929-f7cd-4fce-806e-8893f7c3c439\",\"type\":\"LegendItem\"},{\"id\":\"1e5e0b5f-5acd-487d-8673-8d81a62b7d33\",\"type\":\"LegendItem\"}],\"location\":\"bottom_left\",\"plot\":{\"id\":\"2c2d881a-27fa-4c0a-94e0-b4946f55a1be\",\"subtype\":\"Figure\",\"type\":\"Plot\"}},\"id\":\"825a3361-b369-41bf-b0cd-c29f0e7e5c5a\",\"type\":\"Legend\"},{\"attributes\":{\"plot\":null,\"text\":\"The Norm of Gradients\"},\"id\":\"a2ff3f08-9a9a-4e0d-8341-e76e152899d2\",\"type\":\"Title\"},{\"attributes\":{\"callback\":null},\"id\":\"5e17240a-6c65-4481-9082-bbbe6830f395\",\"type\":\"DataRange1d\"},{\"attributes\":{\"background_fill_color\":{\"value\":\"#fafafa\"},\"below\":[{\"id\":\"7f4db58d-a27e-45f2-81e8-d4721704cf77\",\"type\":\"LinearAxis\"}],\"left\":[{\"id\":\"020f3044-44ee-452e-b132-c0bd1ef34ae6\",\"type\":\"LogAxis\"}],\"min_border\":10,\"min_border_left\":50,\"renderers\":[{\"id\":\"7f4db58d-a27e-45f2-81e8-d4721704cf77\",\"type\":\"LinearAxis\"},{\"id\":\"07b34638-946c-4ca4-a03d-a50f1bbb0db4\",\"type\":\"Grid\"},{\"id\":\"020f3044-44ee-452e-b132-c0bd1ef34ae6\",\"type\":\"LogAxis\"},{\"id\":\"d4443186-fba1-4cd5-a33a-60d59029f27b\",\"type\":\"Grid\"},{\"id\":\"11886de1-7dd9-4e80-8924-6c6a7c156321\",\"type\":\"BoxAnnotation\"},{\"id\":\"825a3361-b369-41bf-b0cd-c29f0e7e5c5a\",\"type\":\"Legend\"},{\"id\":\"263076d5-d266-4e62-91d4-719c740d8ce6\",\"type\":\"GlyphRenderer\"},{\"id\":\"ffa145d3-437b-4729-9cd5-da537f9504e4\",\"type\":\"GlyphRenderer\"}],\"title\":{\"id\":\"a2ff3f08-9a9a-4e0d-8341-e76e152899d2\",\"type\":\"Title\"},\"toolbar\":{\"id\":\"85799743-147c-44f8-8f35-f5ff23a4fc4e\",\"type\":\"Toolbar\"},\"x_range\":{\"id\":\"5e17240a-6c65-4481-9082-bbbe6830f395\",\"type\":\"DataRange1d\"},\"x_scale\":{\"id\":\"da9cecd6-0e33-4594-a3b9-145716725075\",\"type\":\"LinearScale\"},\"y_range\":{\"id\":\"ce539bc7-15ee-4deb-844f-7d6af0023157\",\"type\":\"DataRange1d\"},\"y_scale\":{\"id\":\"a38fc5d5-c8bd-42d1-b4b3-00a195064ca5\",\"type\":\"LogScale\"}},\"id\":\"2c2d881a-27fa-4c0a-94e0-b4946f55a1be\",\"subtype\":\"Figure\",\"type\":\"Plot\"},{\"attributes\":{\"callback\":null},\"id\":\"ce539bc7-15ee-4deb-844f-7d6af0023157\",\"type\":\"DataRange1d\"}],\"root_ids\":[\"2c2d881a-27fa-4c0a-94e0-b4946f55a1be\"]},\"title\":\"Bokeh Application\",\"version\":\"0.12.13\"}};\n",
       "  var render_items = [{\"docid\":\"0b7a1d2d-258c-4126-be04-59bc6a41e371\",\"elementid\":\"a47ea44d-9b5e-4c22-a337-ea827b2e19a0\",\"modelid\":\"2c2d881a-27fa-4c0a-94e0-b4946f55a1be\"}];\n",
       "  root.Bokeh.embed.embed_items_notebook(docs_json, render_items);\n",
       "\n",
       "  }\n",
       "  if (root.Bokeh !== undefined) {\n",
       "    embed_document(root);\n",
       "  } else {\n",
       "    var attempts = 0;\n",
       "    var timer = setInterval(function(root) {\n",
       "      if (root.Bokeh !== undefined) {\n",
       "        embed_document(root);\n",
       "        clearInterval(timer);\n",
       "      }\n",
       "      attempts++;\n",
       "      if (attempts > 100) {\n",
       "        console.log(\"Bokeh: ERROR: Unable to run BokehJS code because BokehJS library is missing\")\n",
       "        clearInterval(timer);\n",
       "      }\n",
       "    }, 10, root)\n",
       "  }\n",
       "})(window);"
      ],
      "application/vnd.bokehjs_exec.v0+json": ""
     },
     "metadata": {
      "application/vnd.bokehjs_exec.v0+json": {
       "id": "2c2d881a-27fa-4c0a-94e0-b4946f55a1be"
      }
     },
     "output_type": "display_data"
    }
   ],
   "source": [
    "show(plots[3])"
   ]
  }
 ],
 "metadata": {
  "kernelspec": {
   "display_name": "Python 3",
   "language": "python",
   "name": "python3"
  },
  "language_info": {
   "codemirror_mode": {
    "name": "ipython",
    "version": 3
   },
   "file_extension": ".py",
   "mimetype": "text/x-python",
   "name": "python",
   "nbconvert_exporter": "python",
   "pygments_lexer": "ipython3",
   "version": "3.6.1"
  }
 },
 "nbformat": 4,
 "nbformat_minor": 1
}
