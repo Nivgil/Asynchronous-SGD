{
 "cells": [
  {
   "cell_type": "raw",
   "metadata": {},
   "source": [
    "<script>\n",
    "  jQuery(document).ready(function($) {  \n",
    "  \n",
    "  $(window).on('load', function(){\n",
    "    $('#preloader').fadeOut('slow',function(){$(this).remove();});\n",
    "  });\n",
    "  \n",
    "  });\n",
    "</script>\n",
    "\n",
    "<style type=\"text/css\">\n",
    "  div#preloader { position: fixed; \n",
    "      left: 0; \n",
    "      top: 0; \n",
    "      z-index: 999; \n",
    "      width: 100%; \n",
    "      height: 100%; \n",
    "      overflow: visible; \n",
    "      background: #fff url('http://preloaders.net/preloaders/720/Moving%20line.gif') no-repeat center center; \n",
    "  }\n",
    "\n",
    "</style>\n",
    "\n",
    "<div id=\"preloader\">\n",
    "\n",
    "</div>"
   ]
  },
  {
   "cell_type": "raw",
   "metadata": {},
   "source": [
    "<script>\n",
    "  function code_toggle() {\n",
    "    if (code_shown){\n",
    "      $('div.input').hide('500');\n",
    "      $('#toggleButton').val('Show Code')\n",
    "    } else {\n",
    "      $('div.input').show('500');\n",
    "      $('#toggleButton').val('Hide Code')\n",
    "    }\n",
    "    code_shown = !code_shown\n",
    "  } \n",
    "  \n",
    "  $( document ).ready(function(){\n",
    "    code_shown=false; \n",
    "    $('div.input').hide()\n",
    "  });\n",
    "</script>\n",
    "<form action=\"javascript:code_toggle()\"><input type=\"submit\" id=\"toggleButton\" value=\"Show Code\"></form>"
   ]
  },
  {
   "cell_type": "markdown",
   "metadata": {},
   "source": [
    "<h1 style=\"text-align: center;\" markdown=\"1\"> ImageNet - Asynchronous 8 workers</h1>\n",
    "<h2 style=\"text-align: center;\" markdown=\"1\"> AlexNet, 8 workers, batch size 1024, \"1 hour ImageNet\" training regime</h2>"
   ]
  },
  {
   "cell_type": "code",
   "execution_count": 2,
   "metadata": {},
   "outputs": [
    {
     "data": {
      "text/html": [
       "\n",
       "    <div class=\"bk-root\">\n",
       "        <a href=\"https://bokeh.pydata.org\" target=\"_blank\" class=\"bk-logo bk-logo-small bk-logo-notebook\"></a>\n",
       "        <span id=\"524ae201-8e71-42d5-95f0-460a3ab5b47a\">Loading BokehJS ...</span>\n",
       "    </div>"
      ]
     },
     "metadata": {},
     "output_type": "display_data"
    },
    {
     "data": {
      "application/javascript": [
       "\n",
       "(function(root) {\n",
       "  function now() {\n",
       "    return new Date();\n",
       "  }\n",
       "\n",
       "  var force = true;\n",
       "\n",
       "  if (typeof (root._bokeh_onload_callbacks) === \"undefined\" || force === true) {\n",
       "    root._bokeh_onload_callbacks = [];\n",
       "    root._bokeh_is_loading = undefined;\n",
       "  }\n",
       "\n",
       "  var JS_MIME_TYPE = 'application/javascript';\n",
       "  var HTML_MIME_TYPE = 'text/html';\n",
       "  var EXEC_MIME_TYPE = 'application/vnd.bokehjs_exec.v0+json';\n",
       "  var CLASS_NAME = 'output_bokeh rendered_html';\n",
       "\n",
       "  /**\n",
       "   * Render data to the DOM node\n",
       "   */\n",
       "  function render(props, node) {\n",
       "    var script = document.createElement(\"script\");\n",
       "    node.appendChild(script);\n",
       "  }\n",
       "\n",
       "  /**\n",
       "   * Handle when an output is cleared or removed\n",
       "   */\n",
       "  function handleClearOutput(event, handle) {\n",
       "    var cell = handle.cell;\n",
       "\n",
       "    var id = cell.output_area._bokeh_element_id;\n",
       "    var server_id = cell.output_area._bokeh_server_id;\n",
       "    // Clean up Bokeh references\n",
       "    if (id !== undefined) {\n",
       "      Bokeh.index[id].model.document.clear();\n",
       "      delete Bokeh.index[id];\n",
       "    }\n",
       "\n",
       "    if (server_id !== undefined) {\n",
       "      // Clean up Bokeh references\n",
       "      var cmd = \"from bokeh.io.state import curstate; print(curstate().uuid_to_server['\" + server_id + \"'].get_sessions()[0].document.roots[0]._id)\";\n",
       "      cell.notebook.kernel.execute(cmd, {\n",
       "        iopub: {\n",
       "          output: function(msg) {\n",
       "            var element_id = msg.content.text.trim();\n",
       "            Bokeh.index[element_id].model.document.clear();\n",
       "            delete Bokeh.index[element_id];\n",
       "          }\n",
       "        }\n",
       "      });\n",
       "      // Destroy server and session\n",
       "      var cmd = \"import bokeh.io.notebook as ion; ion.destroy_server('\" + server_id + \"')\";\n",
       "      cell.notebook.kernel.execute(cmd);\n",
       "    }\n",
       "  }\n",
       "\n",
       "  /**\n",
       "   * Handle when a new output is added\n",
       "   */\n",
       "  function handleAddOutput(event, handle) {\n",
       "    var output_area = handle.output_area;\n",
       "    var output = handle.output;\n",
       "\n",
       "    // limit handleAddOutput to display_data with EXEC_MIME_TYPE content only\n",
       "    if ((output.output_type != \"display_data\") || (!output.data.hasOwnProperty(EXEC_MIME_TYPE))) {\n",
       "      return\n",
       "    }\n",
       "\n",
       "    var toinsert = output_area.element.find(\".\" + CLASS_NAME.split(' ')[0]);\n",
       "\n",
       "    if (output.metadata[EXEC_MIME_TYPE][\"id\"] !== undefined) {\n",
       "      toinsert[0].firstChild.textContent = output.data[JS_MIME_TYPE];\n",
       "      // store reference to embed id on output_area\n",
       "      output_area._bokeh_element_id = output.metadata[EXEC_MIME_TYPE][\"id\"];\n",
       "    }\n",
       "    if (output.metadata[EXEC_MIME_TYPE][\"server_id\"] !== undefined) {\n",
       "      var bk_div = document.createElement(\"div\");\n",
       "      bk_div.innerHTML = output.data[HTML_MIME_TYPE];\n",
       "      var script_attrs = bk_div.children[0].attributes;\n",
       "      for (var i = 0; i < script_attrs.length; i++) {\n",
       "        toinsert[0].firstChild.setAttribute(script_attrs[i].name, script_attrs[i].value);\n",
       "      }\n",
       "      // store reference to server id on output_area\n",
       "      output_area._bokeh_server_id = output.metadata[EXEC_MIME_TYPE][\"server_id\"];\n",
       "    }\n",
       "  }\n",
       "\n",
       "  function register_renderer(events, OutputArea) {\n",
       "\n",
       "    function append_mime(data, metadata, element) {\n",
       "      // create a DOM node to render to\n",
       "      var toinsert = this.create_output_subarea(\n",
       "        metadata,\n",
       "        CLASS_NAME,\n",
       "        EXEC_MIME_TYPE\n",
       "      );\n",
       "      this.keyboard_manager.register_events(toinsert);\n",
       "      // Render to node\n",
       "      var props = {data: data, metadata: metadata[EXEC_MIME_TYPE]};\n",
       "      render(props, toinsert[0]);\n",
       "      element.append(toinsert);\n",
       "      return toinsert\n",
       "    }\n",
       "\n",
       "    /* Handle when an output is cleared or removed */\n",
       "    events.on('clear_output.CodeCell', handleClearOutput);\n",
       "    events.on('delete.Cell', handleClearOutput);\n",
       "\n",
       "    /* Handle when a new output is added */\n",
       "    events.on('output_added.OutputArea', handleAddOutput);\n",
       "\n",
       "    /**\n",
       "     * Register the mime type and append_mime function with output_area\n",
       "     */\n",
       "    OutputArea.prototype.register_mime_type(EXEC_MIME_TYPE, append_mime, {\n",
       "      /* Is output safe? */\n",
       "      safe: true,\n",
       "      /* Index of renderer in `output_area.display_order` */\n",
       "      index: 0\n",
       "    });\n",
       "  }\n",
       "\n",
       "  // register the mime type if in Jupyter Notebook environment and previously unregistered\n",
       "  if (root.Jupyter !== undefined) {\n",
       "    var events = require('base/js/events');\n",
       "    var OutputArea = require('notebook/js/outputarea').OutputArea;\n",
       "\n",
       "    if (OutputArea.prototype.mime_types().indexOf(EXEC_MIME_TYPE) == -1) {\n",
       "      register_renderer(events, OutputArea);\n",
       "    }\n",
       "  }\n",
       "\n",
       "  \n",
       "  if (typeof (root._bokeh_timeout) === \"undefined\" || force === true) {\n",
       "    root._bokeh_timeout = Date.now() + 5000;\n",
       "    root._bokeh_failed_load = false;\n",
       "  }\n",
       "\n",
       "  var NB_LOAD_WARNING = {'data': {'text/html':\n",
       "     \"<div style='background-color: #fdd'>\\n\"+\n",
       "     \"<p>\\n\"+\n",
       "     \"BokehJS does not appear to have successfully loaded. If loading BokehJS from CDN, this \\n\"+\n",
       "     \"may be due to a slow or bad network connection. Possible fixes:\\n\"+\n",
       "     \"</p>\\n\"+\n",
       "     \"<ul>\\n\"+\n",
       "     \"<li>re-rerun `output_notebook()` to attempt to load from CDN again, or</li>\\n\"+\n",
       "     \"<li>use INLINE resources instead, as so:</li>\\n\"+\n",
       "     \"</ul>\\n\"+\n",
       "     \"<code>\\n\"+\n",
       "     \"from bokeh.resources import INLINE\\n\"+\n",
       "     \"output_notebook(resources=INLINE)\\n\"+\n",
       "     \"</code>\\n\"+\n",
       "     \"</div>\"}};\n",
       "\n",
       "  function display_loaded() {\n",
       "    var el = document.getElementById(\"524ae201-8e71-42d5-95f0-460a3ab5b47a\");\n",
       "    if (el != null) {\n",
       "      el.textContent = \"BokehJS is loading...\";\n",
       "    }\n",
       "    if (root.Bokeh !== undefined) {\n",
       "      if (el != null) {\n",
       "        el.textContent = \"BokehJS \" + root.Bokeh.version + \" successfully loaded.\";\n",
       "      }\n",
       "    } else if (Date.now() < root._bokeh_timeout) {\n",
       "      setTimeout(display_loaded, 100)\n",
       "    }\n",
       "  }\n",
       "\n",
       "\n",
       "  function run_callbacks() {\n",
       "    try {\n",
       "      root._bokeh_onload_callbacks.forEach(function(callback) { callback() });\n",
       "    }\n",
       "    finally {\n",
       "      delete root._bokeh_onload_callbacks\n",
       "    }\n",
       "    console.info(\"Bokeh: all callbacks have finished\");\n",
       "  }\n",
       "\n",
       "  function load_libs(js_urls, callback) {\n",
       "    root._bokeh_onload_callbacks.push(callback);\n",
       "    if (root._bokeh_is_loading > 0) {\n",
       "      console.log(\"Bokeh: BokehJS is being loaded, scheduling callback at\", now());\n",
       "      return null;\n",
       "    }\n",
       "    if (js_urls == null || js_urls.length === 0) {\n",
       "      run_callbacks();\n",
       "      return null;\n",
       "    }\n",
       "    console.log(\"Bokeh: BokehJS not loaded, scheduling load and callback at\", now());\n",
       "    root._bokeh_is_loading = js_urls.length;\n",
       "    for (var i = 0; i < js_urls.length; i++) {\n",
       "      var url = js_urls[i];\n",
       "      var s = document.createElement('script');\n",
       "      s.src = url;\n",
       "      s.async = false;\n",
       "      s.onreadystatechange = s.onload = function() {\n",
       "        root._bokeh_is_loading--;\n",
       "        if (root._bokeh_is_loading === 0) {\n",
       "          console.log(\"Bokeh: all BokehJS libraries loaded\");\n",
       "          run_callbacks()\n",
       "        }\n",
       "      };\n",
       "      s.onerror = function() {\n",
       "        console.warn(\"failed to load library \" + url);\n",
       "      };\n",
       "      console.log(\"Bokeh: injecting script tag for BokehJS library: \", url);\n",
       "      document.getElementsByTagName(\"head\")[0].appendChild(s);\n",
       "    }\n",
       "  };var element = document.getElementById(\"524ae201-8e71-42d5-95f0-460a3ab5b47a\");\n",
       "  if (element == null) {\n",
       "    console.log(\"Bokeh: ERROR: autoload.js configured with elementid '524ae201-8e71-42d5-95f0-460a3ab5b47a' but no matching script tag was found. \")\n",
       "    return false;\n",
       "  }\n",
       "\n",
       "  var js_urls = [\"https://cdn.pydata.org/bokeh/release/bokeh-0.12.13.min.js\", \"https://cdn.pydata.org/bokeh/release/bokeh-widgets-0.12.13.min.js\", \"https://cdn.pydata.org/bokeh/release/bokeh-tables-0.12.13.min.js\", \"https://cdn.pydata.org/bokeh/release/bokeh-gl-0.12.13.min.js\"];\n",
       "\n",
       "  var inline_js = [\n",
       "    function(Bokeh) {\n",
       "      Bokeh.set_log_level(\"info\");\n",
       "    },\n",
       "    \n",
       "    function(Bokeh) {\n",
       "      \n",
       "    },\n",
       "    function(Bokeh) {\n",
       "      console.log(\"Bokeh: injecting CSS: https://cdn.pydata.org/bokeh/release/bokeh-0.12.13.min.css\");\n",
       "      Bokeh.embed.inject_css(\"https://cdn.pydata.org/bokeh/release/bokeh-0.12.13.min.css\");\n",
       "      console.log(\"Bokeh: injecting CSS: https://cdn.pydata.org/bokeh/release/bokeh-widgets-0.12.13.min.css\");\n",
       "      Bokeh.embed.inject_css(\"https://cdn.pydata.org/bokeh/release/bokeh-widgets-0.12.13.min.css\");\n",
       "      console.log(\"Bokeh: injecting CSS: https://cdn.pydata.org/bokeh/release/bokeh-tables-0.12.13.min.css\");\n",
       "      Bokeh.embed.inject_css(\"https://cdn.pydata.org/bokeh/release/bokeh-tables-0.12.13.min.css\");\n",
       "    }\n",
       "  ];\n",
       "\n",
       "  function run_inline_js() {\n",
       "    \n",
       "    if ((root.Bokeh !== undefined) || (force === true)) {\n",
       "      for (var i = 0; i < inline_js.length; i++) {\n",
       "        inline_js[i].call(root, root.Bokeh);\n",
       "      }if (force === true) {\n",
       "        display_loaded();\n",
       "      }} else if (Date.now() < root._bokeh_timeout) {\n",
       "      setTimeout(run_inline_js, 100);\n",
       "    } else if (!root._bokeh_failed_load) {\n",
       "      console.log(\"Bokeh: BokehJS failed to load within specified timeout.\");\n",
       "      root._bokeh_failed_load = true;\n",
       "    } else if (force !== true) {\n",
       "      var cell = $(document.getElementById(\"524ae201-8e71-42d5-95f0-460a3ab5b47a\")).parents('.cell').data().cell;\n",
       "      cell.output_area.append_execute_result(NB_LOAD_WARNING)\n",
       "    }\n",
       "\n",
       "  }\n",
       "\n",
       "  if (root._bokeh_is_loading === 0) {\n",
       "    console.log(\"Bokeh: BokehJS loaded, going straight to plotting\");\n",
       "    run_inline_js();\n",
       "  } else {\n",
       "    load_libs(js_urls, function() {\n",
       "      console.log(\"Bokeh: BokehJS plotting callback run at\", now());\n",
       "      run_inline_js();\n",
       "    });\n",
       "  }\n",
       "}(window));"
      ],
      "application/vnd.bokehjs_load.v0+json": "\n(function(root) {\n  function now() {\n    return new Date();\n  }\n\n  var force = true;\n\n  if (typeof (root._bokeh_onload_callbacks) === \"undefined\" || force === true) {\n    root._bokeh_onload_callbacks = [];\n    root._bokeh_is_loading = undefined;\n  }\n\n  \n\n  \n  if (typeof (root._bokeh_timeout) === \"undefined\" || force === true) {\n    root._bokeh_timeout = Date.now() + 5000;\n    root._bokeh_failed_load = false;\n  }\n\n  var NB_LOAD_WARNING = {'data': {'text/html':\n     \"<div style='background-color: #fdd'>\\n\"+\n     \"<p>\\n\"+\n     \"BokehJS does not appear to have successfully loaded. If loading BokehJS from CDN, this \\n\"+\n     \"may be due to a slow or bad network connection. Possible fixes:\\n\"+\n     \"</p>\\n\"+\n     \"<ul>\\n\"+\n     \"<li>re-rerun `output_notebook()` to attempt to load from CDN again, or</li>\\n\"+\n     \"<li>use INLINE resources instead, as so:</li>\\n\"+\n     \"</ul>\\n\"+\n     \"<code>\\n\"+\n     \"from bokeh.resources import INLINE\\n\"+\n     \"output_notebook(resources=INLINE)\\n\"+\n     \"</code>\\n\"+\n     \"</div>\"}};\n\n  function display_loaded() {\n    var el = document.getElementById(\"524ae201-8e71-42d5-95f0-460a3ab5b47a\");\n    if (el != null) {\n      el.textContent = \"BokehJS is loading...\";\n    }\n    if (root.Bokeh !== undefined) {\n      if (el != null) {\n        el.textContent = \"BokehJS \" + root.Bokeh.version + \" successfully loaded.\";\n      }\n    } else if (Date.now() < root._bokeh_timeout) {\n      setTimeout(display_loaded, 100)\n    }\n  }\n\n\n  function run_callbacks() {\n    try {\n      root._bokeh_onload_callbacks.forEach(function(callback) { callback() });\n    }\n    finally {\n      delete root._bokeh_onload_callbacks\n    }\n    console.info(\"Bokeh: all callbacks have finished\");\n  }\n\n  function load_libs(js_urls, callback) {\n    root._bokeh_onload_callbacks.push(callback);\n    if (root._bokeh_is_loading > 0) {\n      console.log(\"Bokeh: BokehJS is being loaded, scheduling callback at\", now());\n      return null;\n    }\n    if (js_urls == null || js_urls.length === 0) {\n      run_callbacks();\n      return null;\n    }\n    console.log(\"Bokeh: BokehJS not loaded, scheduling load and callback at\", now());\n    root._bokeh_is_loading = js_urls.length;\n    for (var i = 0; i < js_urls.length; i++) {\n      var url = js_urls[i];\n      var s = document.createElement('script');\n      s.src = url;\n      s.async = false;\n      s.onreadystatechange = s.onload = function() {\n        root._bokeh_is_loading--;\n        if (root._bokeh_is_loading === 0) {\n          console.log(\"Bokeh: all BokehJS libraries loaded\");\n          run_callbacks()\n        }\n      };\n      s.onerror = function() {\n        console.warn(\"failed to load library \" + url);\n      };\n      console.log(\"Bokeh: injecting script tag for BokehJS library: \", url);\n      document.getElementsByTagName(\"head\")[0].appendChild(s);\n    }\n  };var element = document.getElementById(\"524ae201-8e71-42d5-95f0-460a3ab5b47a\");\n  if (element == null) {\n    console.log(\"Bokeh: ERROR: autoload.js configured with elementid '524ae201-8e71-42d5-95f0-460a3ab5b47a' but no matching script tag was found. \")\n    return false;\n  }\n\n  var js_urls = [\"https://cdn.pydata.org/bokeh/release/bokeh-0.12.13.min.js\", \"https://cdn.pydata.org/bokeh/release/bokeh-widgets-0.12.13.min.js\", \"https://cdn.pydata.org/bokeh/release/bokeh-tables-0.12.13.min.js\", \"https://cdn.pydata.org/bokeh/release/bokeh-gl-0.12.13.min.js\"];\n\n  var inline_js = [\n    function(Bokeh) {\n      Bokeh.set_log_level(\"info\");\n    },\n    \n    function(Bokeh) {\n      \n    },\n    function(Bokeh) {\n      console.log(\"Bokeh: injecting CSS: https://cdn.pydata.org/bokeh/release/bokeh-0.12.13.min.css\");\n      Bokeh.embed.inject_css(\"https://cdn.pydata.org/bokeh/release/bokeh-0.12.13.min.css\");\n      console.log(\"Bokeh: injecting CSS: https://cdn.pydata.org/bokeh/release/bokeh-widgets-0.12.13.min.css\");\n      Bokeh.embed.inject_css(\"https://cdn.pydata.org/bokeh/release/bokeh-widgets-0.12.13.min.css\");\n      console.log(\"Bokeh: injecting CSS: https://cdn.pydata.org/bokeh/release/bokeh-tables-0.12.13.min.css\");\n      Bokeh.embed.inject_css(\"https://cdn.pydata.org/bokeh/release/bokeh-tables-0.12.13.min.css\");\n    }\n  ];\n\n  function run_inline_js() {\n    \n    if ((root.Bokeh !== undefined) || (force === true)) {\n      for (var i = 0; i < inline_js.length; i++) {\n        inline_js[i].call(root, root.Bokeh);\n      }if (force === true) {\n        display_loaded();\n      }} else if (Date.now() < root._bokeh_timeout) {\n      setTimeout(run_inline_js, 100);\n    } else if (!root._bokeh_failed_load) {\n      console.log(\"Bokeh: BokehJS failed to load within specified timeout.\");\n      root._bokeh_failed_load = true;\n    } else if (force !== true) {\n      var cell = $(document.getElementById(\"524ae201-8e71-42d5-95f0-460a3ab5b47a\")).parents('.cell').data().cell;\n      cell.output_area.append_execute_result(NB_LOAD_WARNING)\n    }\n\n  }\n\n  if (root._bokeh_is_loading === 0) {\n    console.log(\"Bokeh: BokehJS loaded, going straight to plotting\");\n    run_inline_js();\n  } else {\n    load_libs(js_urls, function() {\n      console.log(\"Bokeh: BokehJS plotting callback run at\", now());\n      run_inline_js();\n    });\n  }\n}(window));"
     },
     "metadata": {},
     "output_type": "display_data"
    },
    {
     "data": {
      "text/markdown": [
       "<h3>Min Error - 55.28% , Mean Error - 55.37%<h3>"
      ],
      "text/plain": [
       "<IPython.core.display.Markdown object>"
      ]
     },
     "metadata": {},
     "output_type": "display_data"
    }
   ],
   "source": [
    "from jupyter_graphs import create_graphs\n",
    "from bokeh.plotting import show\n",
    "from bokeh.io import output_notebook\n",
    "from IPython.display import Markdown, display\n",
    "from IPython.core.interactiveshell import InteractiveShell\n",
    "InteractiveShell.ast_node_interactivity = \"all\"\n",
    "output_notebook()\n",
    "plots, score_1, score_2, table = create_graphs(sim_num=5100, linear=True)\n",
    "display(Markdown('<h3>Min Error - {0:.2f}% , Mean Error - {1:.2f}%<h3>'.format(score_1,score_2)))"
   ]
  },
  {
   "cell_type": "markdown",
   "metadata": {},
   "source": [
    "<h3 style=\"text-align: left;\" markdown=\"1\">Parameters</h3>\n",
    "\n",
    "      sim_num: 5100\n",
    "      epochs: 35\n",
    "      batch_size: 1024\n",
    "      workers_num: 8\n",
    "      learning_rate: 0.01 * (1024 / 128) / sqrt(workers_num)\n",
    "      gradient_clipping: false\n",
    "      momentum: 0.9\n",
    "      weight_decay: 0.0005\n",
    "      nesterov: false\n",
    "      droprate: 0\n",
    "      augment: true"
   ]
  },
  {
   "cell_type": "code",
   "execution_count": 3,
   "metadata": {},
   "outputs": [
    {
     "data": {
      "text/html": [
       "\n",
       "<div class=\"bk-root\">\n",
       "    <div class=\"bk-plotdiv\" id=\"40bd8764-0b6e-4440-83f6-c37684fcf78a\"></div>\n",
       "</div>"
      ]
     },
     "metadata": {},
     "output_type": "display_data"
    },
    {
     "data": {
      "application/javascript": [
       "(function(root) {\n",
       "  function embed_document(root) {\n",
       "    \n",
       "  var docs_json = {\"0c742fc4-9b87-484b-a214-1bc1bd50cef5\":{\"roots\":{\"references\":[{\"attributes\":{\"bottom_units\":\"screen\",\"fill_alpha\":{\"value\":0.5},\"fill_color\":{\"value\":\"lightgrey\"},\"left_units\":\"screen\",\"level\":\"overlay\",\"line_alpha\":{\"value\":1.0},\"line_color\":{\"value\":\"black\"},\"line_dash\":[4,4],\"line_width\":{\"value\":2},\"plot\":null,\"render_mode\":\"css\",\"right_units\":\"screen\",\"top_units\":\"screen\"},\"id\":\"13c20d1d-38c1-4d1c-b769-f5460ea3f36c\",\"type\":\"BoxAnnotation\"},{\"attributes\":{\"source\":{\"id\":\"f2895636-7bff-46f2-8d2e-a790a8ca2774\",\"type\":\"ColumnDataSource\"}},\"id\":\"53b3cd3c-eabf-4dce-b654-cbfade45ffca\",\"type\":\"CDSView\"},{\"attributes\":{\"ticker\":null},\"id\":\"ffc28bad-9a0e-481f-98b2-93f7242d7361\",\"type\":\"LogTickFormatter\"},{\"attributes\":{},\"id\":\"02216acc-5c86-4271-8535-b2276ee39cf4\",\"type\":\"BasicTickFormatter\"},{\"attributes\":{\"click_policy\":\"hide\",\"items\":[{\"id\":\"d22242da-eb0d-4e5e-b292-d5c6415ff820\",\"type\":\"LegendItem\"}],\"location\":\"bottom_left\",\"plot\":{\"id\":\"38c225fb-4355-4834-8dd8-d7efc726f1dd\",\"subtype\":\"Figure\",\"type\":\"Plot\"}},\"id\":\"fac188ea-b253-403a-b1b1-404830548011\",\"type\":\"Legend\"},{\"attributes\":{\"label\":{\"value\":\"asynchronous_1024_8\"},\"renderers\":[{\"id\":\"7ad26b8a-7bff-4542-9655-52763dae37ee\",\"type\":\"GlyphRenderer\"},{\"id\":\"2f430368-66b2-41cc-b5f0-9f8544dc8249\",\"type\":\"GlyphRenderer\"}]},\"id\":\"d22242da-eb0d-4e5e-b292-d5c6415ff820\",\"type\":\"LegendItem\"},{\"attributes\":{},\"id\":\"a9f0dd1d-f760-4adf-b491-a3ee557fe49d\",\"type\":\"LogScale\"},{\"attributes\":{\"data_source\":{\"id\":\"f2895636-7bff-46f2-8d2e-a790a8ca2774\",\"type\":\"ColumnDataSource\"},\"glyph\":{\"id\":\"05ff427b-6aca-4d5e-b23f-9724905f60ba\",\"type\":\"Line\"},\"hover_glyph\":null,\"muted_glyph\":null,\"nonselection_glyph\":{\"id\":\"dceab006-0002-4df4-8c19-b7fd2532674e\",\"type\":\"Line\"},\"selection_glyph\":null,\"view\":{\"id\":\"53b3cd3c-eabf-4dce-b654-cbfade45ffca\",\"type\":\"CDSView\"}},\"id\":\"7ad26b8a-7bff-4542-9655-52763dae37ee\",\"type\":\"GlyphRenderer\"},{\"attributes\":{},\"id\":\"1ca8df3c-8cc2-4b89-a467-ff0ecf425861\",\"type\":\"SaveTool\"},{\"attributes\":{},\"id\":\"37fcfd88-0844-4e06-9827-f6e9d4a01777\",\"type\":\"ResetTool\"},{\"attributes\":{\"data_source\":{\"id\":\"64c09d2a-bd1b-400d-9b8a-e7aae113efe3\",\"type\":\"ColumnDataSource\"},\"glyph\":{\"id\":\"787814ee-0d7e-43c9-92f4-cacbfbdc9eeb\",\"type\":\"Line\"},\"hover_glyph\":null,\"muted_glyph\":null,\"nonselection_glyph\":{\"id\":\"4484d56b-0a58-4653-b685-0047ba3d3b17\",\"type\":\"Line\"},\"selection_glyph\":null,\"view\":{\"id\":\"58d74eae-e5bd-41e9-ade9-94e870b21bec\",\"type\":\"CDSView\"}},\"id\":\"2f430368-66b2-41cc-b5f0-9f8544dc8249\",\"type\":\"GlyphRenderer\"},{\"attributes\":{\"callback\":null,\"column_names\":[\"x\",\"y\"],\"data\":{\"x\":{\"__ndarray__\":\"AQAAAAIAAAADAAAABAAAAAUAAAAGAAAABwAAAAgAAAAJAAAACgAAAAsAAAAMAAAADQAAAA4AAAAPAAAAEAAAABEAAAASAAAAEwAAABQAAAAVAAAAFgAAABcAAAAYAAAAGQAAABoAAAAbAAAAHAAAAB0AAAAeAAAAHwAAACAAAAAhAAAAIgAAACMAAAA=\",\"dtype\":\"int32\",\"shape\":[35]},\"y\":[6.409129674377441,5.767094638519287,5.651044377288819,5.348009885406494,4.923475587158203,4.967221722869873,4.528690341491699,4.78307742767334,4.440750754852295,4.721975560455323,3.0002317741394045,2.959851053237915,2.945192757034302,2.8517871102905272,2.8128403315734865,2.6241324310302736,2.6017819708251952,2.587944100341797,2.574407938308716,2.5724202956390383,2.541118065109253,2.5400677436065675,2.5338904877471924,2.526845806503296,2.525878531036377,2.5251516041564943,2.523805849533081,2.5226591147613524,2.5236761586761474,2.525627180862427,2.525371382980347,2.521502780227661,2.522296638793945,2.5172922117614744,2.5185742887115476]}},\"id\":\"64c09d2a-bd1b-400d-9b8a-e7aae113efe3\",\"type\":\"ColumnDataSource\"},{\"attributes\":{\"line_color\":\"#1f77b4\",\"line_dash\":[6],\"line_width\":3,\"x\":{\"field\":\"x\"},\"y\":{\"field\":\"y\"}},\"id\":\"787814ee-0d7e-43c9-92f4-cacbfbdc9eeb\",\"type\":\"Line\"},{\"attributes\":{\"line_alpha\":0.1,\"line_color\":\"#1f77b4\",\"line_dash\":[6],\"line_width\":3,\"x\":{\"field\":\"x\"},\"y\":{\"field\":\"y\"}},\"id\":\"4484d56b-0a58-4653-b685-0047ba3d3b17\",\"type\":\"Line\"},{\"attributes\":{\"source\":{\"id\":\"64c09d2a-bd1b-400d-9b8a-e7aae113efe3\",\"type\":\"ColumnDataSource\"}},\"id\":\"58d74eae-e5bd-41e9-ade9-94e870b21bec\",\"type\":\"CDSView\"},{\"attributes\":{\"axis_label\":\"L(w(t))\",\"formatter\":{\"id\":\"ffc28bad-9a0e-481f-98b2-93f7242d7361\",\"type\":\"LogTickFormatter\"},\"plot\":{\"id\":\"38c225fb-4355-4834-8dd8-d7efc726f1dd\",\"subtype\":\"Figure\",\"type\":\"Plot\"},\"ticker\":{\"id\":\"9c59ad2c-4079-4149-a63e-a6c0ba1aaacc\",\"type\":\"LogTicker\"}},\"id\":\"1c7fbd67-5a93-400f-b51a-f939f3f6c37c\",\"type\":\"LogAxis\"},{\"attributes\":{\"plot\":null,\"text\":\"Training & Test Loss\"},\"id\":\"2be24bd9-ad2f-4df1-8308-9bdacddcb9cb\",\"type\":\"Title\"},{\"attributes\":{\"callback\":null},\"id\":\"74df1101-25e7-4f61-aa79-9e00e31b211a\",\"type\":\"DataRange1d\"},{\"attributes\":{\"active_drag\":\"auto\",\"active_inspect\":\"auto\",\"active_scroll\":\"auto\",\"active_tap\":\"auto\",\"tools\":[{\"id\":\"6b473775-31bf-4c1b-b3db-54c14793567a\",\"type\":\"PanTool\"},{\"id\":\"ed445771-de1b-4f98-8f1a-40eef001787e\",\"type\":\"WheelZoomTool\"},{\"id\":\"16c174cc-7b21-4b22-98cb-7854a7d1bd22\",\"type\":\"BoxZoomTool\"},{\"id\":\"1ca8df3c-8cc2-4b89-a467-ff0ecf425861\",\"type\":\"SaveTool\"},{\"id\":\"37fcfd88-0844-4e06-9827-f6e9d4a01777\",\"type\":\"ResetTool\"},{\"id\":\"7088aa52-ca48-4828-8274-0726a1734ae1\",\"type\":\"HelpTool\"}]},\"id\":\"273e9516-93b6-4355-a908-a406027d21e4\",\"type\":\"Toolbar\"},{\"attributes\":{},\"id\":\"a9ab3997-0b48-4c8f-9a39-db6fb3441b1d\",\"type\":\"LinearScale\"},{\"attributes\":{\"callback\":null},\"id\":\"19bfd3b8-db1e-4dfb-aeda-10d45b0437e2\",\"type\":\"DataRange1d\"},{\"attributes\":{\"plot\":{\"id\":\"38c225fb-4355-4834-8dd8-d7efc726f1dd\",\"subtype\":\"Figure\",\"type\":\"Plot\"},\"ticker\":{\"id\":\"dbb32312-97d3-4dc5-a0a7-942cc644359f\",\"type\":\"BasicTicker\"}},\"id\":\"f134ac55-5eee-4c88-a5db-af529d648a72\",\"type\":\"Grid\"},{\"attributes\":{\"axis_label\":\"t [Epochs]\",\"formatter\":{\"id\":\"02216acc-5c86-4271-8535-b2276ee39cf4\",\"type\":\"BasicTickFormatter\"},\"plot\":{\"id\":\"38c225fb-4355-4834-8dd8-d7efc726f1dd\",\"subtype\":\"Figure\",\"type\":\"Plot\"},\"ticker\":{\"id\":\"dbb32312-97d3-4dc5-a0a7-942cc644359f\",\"type\":\"BasicTicker\"}},\"id\":\"f9a9a699-2890-47cb-834b-4d2e83f4baae\",\"type\":\"LinearAxis\"},{\"attributes\":{},\"id\":\"dbb32312-97d3-4dc5-a0a7-942cc644359f\",\"type\":\"BasicTicker\"},{\"attributes\":{\"num_minor_ticks\":10},\"id\":\"9c59ad2c-4079-4149-a63e-a6c0ba1aaacc\",\"type\":\"LogTicker\"},{\"attributes\":{\"dimension\":1,\"plot\":{\"id\":\"38c225fb-4355-4834-8dd8-d7efc726f1dd\",\"subtype\":\"Figure\",\"type\":\"Plot\"},\"ticker\":{\"id\":\"9c59ad2c-4079-4149-a63e-a6c0ba1aaacc\",\"type\":\"LogTicker\"}},\"id\":\"bb22c79b-abe7-422e-8990-23647d4fca78\",\"type\":\"Grid\"},{\"attributes\":{\"background_fill_color\":{\"value\":\"#fafafa\"},\"below\":[{\"id\":\"f9a9a699-2890-47cb-834b-4d2e83f4baae\",\"type\":\"LinearAxis\"}],\"left\":[{\"id\":\"1c7fbd67-5a93-400f-b51a-f939f3f6c37c\",\"type\":\"LogAxis\"}],\"min_border\":10,\"min_border_left\":50,\"renderers\":[{\"id\":\"f9a9a699-2890-47cb-834b-4d2e83f4baae\",\"type\":\"LinearAxis\"},{\"id\":\"f134ac55-5eee-4c88-a5db-af529d648a72\",\"type\":\"Grid\"},{\"id\":\"1c7fbd67-5a93-400f-b51a-f939f3f6c37c\",\"type\":\"LogAxis\"},{\"id\":\"bb22c79b-abe7-422e-8990-23647d4fca78\",\"type\":\"Grid\"},{\"id\":\"13c20d1d-38c1-4d1c-b769-f5460ea3f36c\",\"type\":\"BoxAnnotation\"},{\"id\":\"fac188ea-b253-403a-b1b1-404830548011\",\"type\":\"Legend\"},{\"id\":\"7ad26b8a-7bff-4542-9655-52763dae37ee\",\"type\":\"GlyphRenderer\"},{\"id\":\"2f430368-66b2-41cc-b5f0-9f8544dc8249\",\"type\":\"GlyphRenderer\"}],\"title\":{\"id\":\"2be24bd9-ad2f-4df1-8308-9bdacddcb9cb\",\"type\":\"Title\"},\"toolbar\":{\"id\":\"273e9516-93b6-4355-a908-a406027d21e4\",\"type\":\"Toolbar\"},\"x_range\":{\"id\":\"74df1101-25e7-4f61-aa79-9e00e31b211a\",\"type\":\"DataRange1d\"},\"x_scale\":{\"id\":\"a9ab3997-0b48-4c8f-9a39-db6fb3441b1d\",\"type\":\"LinearScale\"},\"y_range\":{\"id\":\"19bfd3b8-db1e-4dfb-aeda-10d45b0437e2\",\"type\":\"DataRange1d\"},\"y_scale\":{\"id\":\"a9f0dd1d-f760-4adf-b491-a3ee557fe49d\",\"type\":\"LogScale\"}},\"id\":\"38c225fb-4355-4834-8dd8-d7efc726f1dd\",\"subtype\":\"Figure\",\"type\":\"Plot\"},{\"attributes\":{},\"id\":\"6b473775-31bf-4c1b-b3db-54c14793567a\",\"type\":\"PanTool\"},{\"attributes\":{},\"id\":\"7088aa52-ca48-4828-8274-0726a1734ae1\",\"type\":\"HelpTool\"},{\"attributes\":{},\"id\":\"ed445771-de1b-4f98-8f1a-40eef001787e\",\"type\":\"WheelZoomTool\"},{\"attributes\":{\"callback\":null,\"column_names\":[\"x\",\"y\"],\"data\":{\"x\":{\"__ndarray__\":\"AQAAAAIAAAADAAAABAAAAAUAAAAGAAAABwAAAAgAAAAJAAAACgAAAAsAAAAMAAAADQAAAA4AAAAPAAAAEAAAABEAAAASAAAAEwAAABQAAAAVAAAAFgAAABcAAAAYAAAAGQAAABoAAAAbAAAAHAAAAB0AAAAeAAAAHwAAACAAAAAhAAAAIgAAACMAAAA=\",\"dtype\":\"int32\",\"shape\":[35]},\"y\":[6.471669587831829,5.830564955062271,5.4201758855270725,5.10055311081084,4.801143219632309,4.514759503715175,4.212162054281224,4.026023271742576,3.8542063734968908,3.7158846242230417,3.141725250489613,3.0015429570815626,2.9272623140630456,2.8724888763298346,2.8316752199126882,2.6953712089698962,2.6616081393178073,2.6386095664175424,2.6190919897058498,2.6013789951713324,2.5767218153212386,2.569868497615103,2.566368236688666,2.561037263769324,2.5556044492338224,2.550812003930493,2.549751593284692,2.5477538347386255,2.5472260428466007,2.5476665219466685,2.5455777798114547,2.5441354016109923,2.5439346081419263,2.543344572556857,2.5417772644946304]}},\"id\":\"f2895636-7bff-46f2-8d2e-a790a8ca2774\",\"type\":\"ColumnDataSource\"},{\"attributes\":{\"overlay\":{\"id\":\"13c20d1d-38c1-4d1c-b769-f5460ea3f36c\",\"type\":\"BoxAnnotation\"}},\"id\":\"16c174cc-7b21-4b22-98cb-7854a7d1bd22\",\"type\":\"BoxZoomTool\"},{\"attributes\":{\"line_color\":\"#1f77b4\",\"line_width\":3,\"x\":{\"field\":\"x\"},\"y\":{\"field\":\"y\"}},\"id\":\"05ff427b-6aca-4d5e-b23f-9724905f60ba\",\"type\":\"Line\"},{\"attributes\":{\"line_alpha\":0.1,\"line_color\":\"#1f77b4\",\"line_width\":3,\"x\":{\"field\":\"x\"},\"y\":{\"field\":\"y\"}},\"id\":\"dceab006-0002-4df4-8c19-b7fd2532674e\",\"type\":\"Line\"}],\"root_ids\":[\"38c225fb-4355-4834-8dd8-d7efc726f1dd\"]},\"title\":\"Bokeh Application\",\"version\":\"0.12.13\"}};\n",
       "  var render_items = [{\"docid\":\"0c742fc4-9b87-484b-a214-1bc1bd50cef5\",\"elementid\":\"40bd8764-0b6e-4440-83f6-c37684fcf78a\",\"modelid\":\"38c225fb-4355-4834-8dd8-d7efc726f1dd\"}];\n",
       "  root.Bokeh.embed.embed_items_notebook(docs_json, render_items);\n",
       "\n",
       "  }\n",
       "  if (root.Bokeh !== undefined) {\n",
       "    embed_document(root);\n",
       "  } else {\n",
       "    var attempts = 0;\n",
       "    var timer = setInterval(function(root) {\n",
       "      if (root.Bokeh !== undefined) {\n",
       "        embed_document(root);\n",
       "        clearInterval(timer);\n",
       "      }\n",
       "      attempts++;\n",
       "      if (attempts > 100) {\n",
       "        console.log(\"Bokeh: ERROR: Unable to run BokehJS code because BokehJS library is missing\")\n",
       "        clearInterval(timer);\n",
       "      }\n",
       "    }, 10, root)\n",
       "  }\n",
       "})(window);"
      ],
      "application/vnd.bokehjs_exec.v0+json": ""
     },
     "metadata": {
      "application/vnd.bokehjs_exec.v0+json": {
       "id": "38c225fb-4355-4834-8dd8-d7efc726f1dd"
      }
     },
     "output_type": "display_data"
    }
   ],
   "source": [
    "show(plots[0])"
   ]
  },
  {
   "cell_type": "code",
   "execution_count": 4,
   "metadata": {},
   "outputs": [
    {
     "data": {
      "text/html": [
       "\n",
       "<div class=\"bk-root\">\n",
       "    <div class=\"bk-plotdiv\" id=\"2633de00-4864-4796-be64-d6eb2a68bf7a\"></div>\n",
       "</div>"
      ]
     },
     "metadata": {},
     "output_type": "display_data"
    },
    {
     "data": {
      "application/javascript": [
       "(function(root) {\n",
       "  function embed_document(root) {\n",
       "    \n",
       "  var docs_json = {\"abe0f587-9ea1-491a-878c-57c4c53fd99c\":{\"roots\":{\"references\":[{\"attributes\":{\"data_source\":{\"id\":\"15a0049b-5d08-4783-b954-8e8c6fb2a0db\",\"type\":\"ColumnDataSource\"},\"glyph\":{\"id\":\"87c99fef-196b-4116-847c-091673351dcc\",\"type\":\"Line\"},\"hover_glyph\":null,\"muted_glyph\":null,\"nonselection_glyph\":{\"id\":\"ca8a3a68-e324-4019-80fc-3e28c9829c20\",\"type\":\"Line\"},\"selection_glyph\":null,\"view\":{\"id\":\"0183bcbb-5866-4a4e-896d-42a0acb17307\",\"type\":\"CDSView\"}},\"id\":\"7f3dcc03-f999-4af1-913a-88d3a190dc0c\",\"type\":\"GlyphRenderer\"},{\"attributes\":{},\"id\":\"326a29c0-0de4-4c07-93f4-7ca015dee28a\",\"type\":\"BasicTickFormatter\"},{\"attributes\":{\"callback\":null},\"id\":\"457a4592-a4de-416f-8761-1c0b092ffc87\",\"type\":\"DataRange1d\"},{\"attributes\":{\"callback\":null,\"column_names\":[\"x\",\"y\"],\"data\":{\"x\":{\"__ndarray__\":\"AQAAAAIAAAADAAAABAAAAAUAAAAGAAAABwAAAAgAAAAJAAAACgAAAAsAAAAMAAAADQAAAA4AAAAPAAAAEAAAABEAAAASAAAAEwAAABQAAAAVAAAAFgAAABcAAAAYAAAAGQAAABoAAAAbAAAAHAAAAB0AAAAeAAAAHwAAACAAAAAhAAAAIgAAACMAAAA=\",\"dtype\":\"int32\",\"shape\":[35]},\"y\":[0.9877970631463188,0.9624116137864298,0.9372579843219687,0.9113027419531826,0.8830948658527212,0.8518850391864301,0.8155470754396351,0.7909952410575373,0.767404249406435,0.7473030448021665,0.6571703766939546,0.6360763272840171,0.6241036492512726,0.6151906816211281,0.6077607368894422,0.5837623042119452,0.5775929289470499,0.573670723645165,0.5706469180053143,0.5670345864333852,0.5627658220963176,0.5617558054506501,0.5612843602757576,0.5599301262037303,0.558878741023518,0.5582847513218178,0.5583659273127409,0.5577516436165555,0.5577813040780732,0.5575502647190815,0.5573488858217565,0.5568196808055379,0.5569562750185724,0.5570788195430277,0.5564262894689876]}},\"id\":\"15a0049b-5d08-4783-b954-8e8c6fb2a0db\",\"type\":\"ColumnDataSource\"},{\"attributes\":{\"label\":{\"value\":\"asynchronous_1024_8\"},\"renderers\":[{\"id\":\"7f3dcc03-f999-4af1-913a-88d3a190dc0c\",\"type\":\"GlyphRenderer\"},{\"id\":\"570d2d20-1932-4976-adc9-04cd0af6c68c\",\"type\":\"GlyphRenderer\"}]},\"id\":\"75d0105e-d4aa-4b44-874e-779b8618564d\",\"type\":\"LegendItem\"},{\"attributes\":{\"line_color\":\"#1f77b4\",\"line_width\":3,\"x\":{\"field\":\"x\"},\"y\":{\"field\":\"y\"}},\"id\":\"87c99fef-196b-4116-847c-091673351dcc\",\"type\":\"Line\"},{\"attributes\":{\"line_alpha\":0.1,\"line_color\":\"#1f77b4\",\"line_width\":3,\"x\":{\"field\":\"x\"},\"y\":{\"field\":\"y\"}},\"id\":\"ca8a3a68-e324-4019-80fc-3e28c9829c20\",\"type\":\"Line\"},{\"attributes\":{\"source\":{\"id\":\"15a0049b-5d08-4783-b954-8e8c6fb2a0db\",\"type\":\"ColumnDataSource\"}},\"id\":\"0183bcbb-5866-4a4e-896d-42a0acb17307\",\"type\":\"CDSView\"},{\"attributes\":{\"click_policy\":\"hide\",\"items\":[{\"id\":\"75d0105e-d4aa-4b44-874e-779b8618564d\",\"type\":\"LegendItem\"}],\"plot\":{\"id\":\"a8451511-d294-40fa-becf-df68090d6f36\",\"subtype\":\"Figure\",\"type\":\"Plot\"}},\"id\":\"47207abe-e6a3-44ba-91c8-95f6af290739\",\"type\":\"Legend\"},{\"attributes\":{\"active_drag\":\"auto\",\"active_inspect\":\"auto\",\"active_scroll\":\"auto\",\"active_tap\":\"auto\",\"tools\":[{\"id\":\"21603400-0c61-4ddf-9419-aa20190fd063\",\"type\":\"PanTool\"},{\"id\":\"6a1f256a-8466-4099-a567-22b764d032fd\",\"type\":\"WheelZoomTool\"},{\"id\":\"0d207805-7f32-4b54-b871-bc591a89b8de\",\"type\":\"BoxZoomTool\"},{\"id\":\"40933c21-96e3-4a0f-9e01-7ca3f5a36dc5\",\"type\":\"SaveTool\"},{\"id\":\"6a609cf6-a8cc-4a58-b353-fee80690b1c5\",\"type\":\"ResetTool\"},{\"id\":\"71e7af10-c88d-4a9c-b601-3b6b4d3c060f\",\"type\":\"HelpTool\"}]},\"id\":\"89d652d3-61c2-4531-8328-f13898b725c5\",\"type\":\"Toolbar\"},{\"attributes\":{\"plot\":null,\"text\":\"Training & Test Error\"},\"id\":\"ce3d0a6d-2193-4e3c-8514-dc0558c590fc\",\"type\":\"Title\"},{\"attributes\":{},\"id\":\"d83a6eb2-4746-421d-bc71-57d589197963\",\"type\":\"LinearScale\"},{\"attributes\":{},\"id\":\"e0cd45c1-092f-4f71-a6f3-36b69eff44ae\",\"type\":\"LinearScale\"},{\"attributes\":{\"callback\":null},\"id\":\"a08bb43f-9c8c-4474-938c-c22c26e3f12c\",\"type\":\"DataRange1d\"},{\"attributes\":{\"plot\":{\"id\":\"a8451511-d294-40fa-becf-df68090d6f36\",\"subtype\":\"Figure\",\"type\":\"Plot\"},\"ticker\":{\"id\":\"f5bf1a09-ca38-446a-9800-8c64d08b4a56\",\"type\":\"BasicTicker\"}},\"id\":\"14212bc0-91de-4e07-a59b-990305bc8981\",\"type\":\"Grid\"},{\"attributes\":{\"dimension\":1,\"plot\":{\"id\":\"a8451511-d294-40fa-becf-df68090d6f36\",\"subtype\":\"Figure\",\"type\":\"Plot\"},\"ticker\":{\"id\":\"29192c5e-c5d0-4d79-902e-f25f38edb40f\",\"type\":\"BasicTicker\"}},\"id\":\"de302434-ee43-4f43-b9fd-560ac3fc8811\",\"type\":\"Grid\"},{\"attributes\":{},\"id\":\"f5bf1a09-ca38-446a-9800-8c64d08b4a56\",\"type\":\"BasicTicker\"},{\"attributes\":{\"axis_label\":\"t [Epochs]\",\"formatter\":{\"id\":\"326a29c0-0de4-4c07-93f4-7ca015dee28a\",\"type\":\"BasicTickFormatter\"},\"plot\":{\"id\":\"a8451511-d294-40fa-becf-df68090d6f36\",\"subtype\":\"Figure\",\"type\":\"Plot\"},\"ticker\":{\"id\":\"f5bf1a09-ca38-446a-9800-8c64d08b4a56\",\"type\":\"BasicTicker\"}},\"id\":\"278b6974-ecd9-4911-b475-608963dfa7e7\",\"type\":\"LinearAxis\"},{\"attributes\":{\"callback\":null,\"column_names\":[\"x\",\"y\"],\"data\":{\"x\":{\"__ndarray__\":\"AQAAAAIAAAADAAAABAAAAAUAAAAGAAAABwAAAAgAAAAJAAAACgAAAAsAAAAMAAAADQAAAA4AAAAPAAAAEAAAABEAAAASAAAAEwAAABQAAAAVAAAAFgAAABcAAAAYAAAAGQAAABoAAAAbAAAAHAAAAB0AAAAeAAAAHwAAACAAAAAhAAAAIgAAACMAAAA=\",\"dtype\":\"int32\",\"shape\":[35]},\"y\":[0.9836600000152588,0.9545400000061035,0.9468400000152587,0.9223400000274659,0.8939200000732421,0.8868399999908447,0.8497200000732421,0.8623400000427246,0.8253800001464843,0.8503999999694823,0.6351799999389648,0.6295200001220703,0.6265600000854492,0.6111799999511719,0.6060800001342773,0.5705000000488281,0.5690400001098633,0.5651000000732421,0.5632599999145508,0.5631000001098633,0.5566399999145508,0.5564200001220703,0.5555199999267578,0.5546199999145508,0.5542999999267578,0.5541599999389648,0.5540000001586914,0.5537799999267579,0.5545800001220703,0.5549200001464843,0.5547800001464843,0.5528399999267578,0.5537200001586914,0.5528999999633789,0.5529799999511719]}},\"id\":\"5cd0f087-e150-4f5a-9f9d-eca2a89b8942\",\"type\":\"ColumnDataSource\"},{\"attributes\":{},\"id\":\"29192c5e-c5d0-4d79-902e-f25f38edb40f\",\"type\":\"BasicTicker\"},{\"attributes\":{\"axis_label\":\"Error Rate\",\"formatter\":{\"id\":\"55a79431-579e-4f42-b550-64ceac5a125c\",\"type\":\"NumeralTickFormatter\"},\"plot\":{\"id\":\"a8451511-d294-40fa-becf-df68090d6f36\",\"subtype\":\"Figure\",\"type\":\"Plot\"},\"ticker\":{\"id\":\"29192c5e-c5d0-4d79-902e-f25f38edb40f\",\"type\":\"BasicTicker\"}},\"id\":\"152fbad1-a350-4d2c-8db4-431fc9bd53bc\",\"type\":\"LinearAxis\"},{\"attributes\":{\"format\":\"0.0%\"},\"id\":\"55a79431-579e-4f42-b550-64ceac5a125c\",\"type\":\"NumeralTickFormatter\"},{\"attributes\":{\"bottom_units\":\"screen\",\"fill_alpha\":{\"value\":0.5},\"fill_color\":{\"value\":\"lightgrey\"},\"left_units\":\"screen\",\"level\":\"overlay\",\"line_alpha\":{\"value\":1.0},\"line_color\":{\"value\":\"black\"},\"line_dash\":[4,4],\"line_width\":{\"value\":2},\"plot\":null,\"render_mode\":\"css\",\"right_units\":\"screen\",\"top_units\":\"screen\"},\"id\":\"a8c5e3b0-3d5f-4538-918d-ee5b78289dcb\",\"type\":\"BoxAnnotation\"},{\"attributes\":{},\"id\":\"21603400-0c61-4ddf-9419-aa20190fd063\",\"type\":\"PanTool\"},{\"attributes\":{\"line_color\":\"#1f77b4\",\"line_dash\":[6],\"line_width\":3,\"x\":{\"field\":\"x\"},\"y\":{\"field\":\"y\"}},\"id\":\"247c2caa-0460-4e33-8a67-b3e0a96baa96\",\"type\":\"Line\"},{\"attributes\":{},\"id\":\"6a1f256a-8466-4099-a567-22b764d032fd\",\"type\":\"WheelZoomTool\"},{\"attributes\":{\"overlay\":{\"id\":\"a8c5e3b0-3d5f-4538-918d-ee5b78289dcb\",\"type\":\"BoxAnnotation\"}},\"id\":\"0d207805-7f32-4b54-b871-bc591a89b8de\",\"type\":\"BoxZoomTool\"},{\"attributes\":{\"data_source\":{\"id\":\"5cd0f087-e150-4f5a-9f9d-eca2a89b8942\",\"type\":\"ColumnDataSource\"},\"glyph\":{\"id\":\"247c2caa-0460-4e33-8a67-b3e0a96baa96\",\"type\":\"Line\"},\"hover_glyph\":null,\"muted_glyph\":null,\"nonselection_glyph\":{\"id\":\"83cb34a5-dce7-463f-b868-4d4e242919f7\",\"type\":\"Line\"},\"selection_glyph\":null,\"view\":{\"id\":\"293406e1-f55b-45f1-9576-cb2e00efb481\",\"type\":\"CDSView\"}},\"id\":\"570d2d20-1932-4976-adc9-04cd0af6c68c\",\"type\":\"GlyphRenderer\"},{\"attributes\":{},\"id\":\"40933c21-96e3-4a0f-9e01-7ca3f5a36dc5\",\"type\":\"SaveTool\"},{\"attributes\":{\"source\":{\"id\":\"5cd0f087-e150-4f5a-9f9d-eca2a89b8942\",\"type\":\"ColumnDataSource\"}},\"id\":\"293406e1-f55b-45f1-9576-cb2e00efb481\",\"type\":\"CDSView\"},{\"attributes\":{},\"id\":\"6a609cf6-a8cc-4a58-b353-fee80690b1c5\",\"type\":\"ResetTool\"},{\"attributes\":{\"line_alpha\":0.1,\"line_color\":\"#1f77b4\",\"line_dash\":[6],\"line_width\":3,\"x\":{\"field\":\"x\"},\"y\":{\"field\":\"y\"}},\"id\":\"83cb34a5-dce7-463f-b868-4d4e242919f7\",\"type\":\"Line\"},{\"attributes\":{},\"id\":\"71e7af10-c88d-4a9c-b601-3b6b4d3c060f\",\"type\":\"HelpTool\"},{\"attributes\":{\"background_fill_color\":{\"value\":\"#fafafa\"},\"below\":[{\"id\":\"278b6974-ecd9-4911-b475-608963dfa7e7\",\"type\":\"LinearAxis\"}],\"left\":[{\"id\":\"152fbad1-a350-4d2c-8db4-431fc9bd53bc\",\"type\":\"LinearAxis\"}],\"min_border\":10,\"min_border_left\":50,\"renderers\":[{\"id\":\"278b6974-ecd9-4911-b475-608963dfa7e7\",\"type\":\"LinearAxis\"},{\"id\":\"14212bc0-91de-4e07-a59b-990305bc8981\",\"type\":\"Grid\"},{\"id\":\"152fbad1-a350-4d2c-8db4-431fc9bd53bc\",\"type\":\"LinearAxis\"},{\"id\":\"de302434-ee43-4f43-b9fd-560ac3fc8811\",\"type\":\"Grid\"},{\"id\":\"a8c5e3b0-3d5f-4538-918d-ee5b78289dcb\",\"type\":\"BoxAnnotation\"},{\"id\":\"47207abe-e6a3-44ba-91c8-95f6af290739\",\"type\":\"Legend\"},{\"id\":\"7f3dcc03-f999-4af1-913a-88d3a190dc0c\",\"type\":\"GlyphRenderer\"},{\"id\":\"570d2d20-1932-4976-adc9-04cd0af6c68c\",\"type\":\"GlyphRenderer\"}],\"title\":{\"id\":\"ce3d0a6d-2193-4e3c-8514-dc0558c590fc\",\"type\":\"Title\"},\"toolbar\":{\"id\":\"89d652d3-61c2-4531-8328-f13898b725c5\",\"type\":\"Toolbar\"},\"x_range\":{\"id\":\"457a4592-a4de-416f-8761-1c0b092ffc87\",\"type\":\"DataRange1d\"},\"x_scale\":{\"id\":\"e0cd45c1-092f-4f71-a6f3-36b69eff44ae\",\"type\":\"LinearScale\"},\"y_range\":{\"id\":\"a08bb43f-9c8c-4474-938c-c22c26e3f12c\",\"type\":\"DataRange1d\"},\"y_scale\":{\"id\":\"d83a6eb2-4746-421d-bc71-57d589197963\",\"type\":\"LinearScale\"}},\"id\":\"a8451511-d294-40fa-becf-df68090d6f36\",\"subtype\":\"Figure\",\"type\":\"Plot\"}],\"root_ids\":[\"a8451511-d294-40fa-becf-df68090d6f36\"]},\"title\":\"Bokeh Application\",\"version\":\"0.12.13\"}};\n",
       "  var render_items = [{\"docid\":\"abe0f587-9ea1-491a-878c-57c4c53fd99c\",\"elementid\":\"2633de00-4864-4796-be64-d6eb2a68bf7a\",\"modelid\":\"a8451511-d294-40fa-becf-df68090d6f36\"}];\n",
       "  root.Bokeh.embed.embed_items_notebook(docs_json, render_items);\n",
       "\n",
       "  }\n",
       "  if (root.Bokeh !== undefined) {\n",
       "    embed_document(root);\n",
       "  } else {\n",
       "    var attempts = 0;\n",
       "    var timer = setInterval(function(root) {\n",
       "      if (root.Bokeh !== undefined) {\n",
       "        embed_document(root);\n",
       "        clearInterval(timer);\n",
       "      }\n",
       "      attempts++;\n",
       "      if (attempts > 100) {\n",
       "        console.log(\"Bokeh: ERROR: Unable to run BokehJS code because BokehJS library is missing\")\n",
       "        clearInterval(timer);\n",
       "      }\n",
       "    }, 10, root)\n",
       "  }\n",
       "})(window);"
      ],
      "application/vnd.bokehjs_exec.v0+json": ""
     },
     "metadata": {
      "application/vnd.bokehjs_exec.v0+json": {
       "id": "a8451511-d294-40fa-becf-df68090d6f36"
      }
     },
     "output_type": "display_data"
    }
   ],
   "source": [
    "show(plots[1])"
   ]
  },
  {
   "cell_type": "code",
   "execution_count": 5,
   "metadata": {},
   "outputs": [
    {
     "data": {
      "text/html": [
       "\n",
       "<div class=\"bk-root\">\n",
       "    <div class=\"bk-plotdiv\" id=\"42b35a72-52f4-4f5e-9add-362e01a0ec8e\"></div>\n",
       "</div>"
      ]
     },
     "metadata": {},
     "output_type": "display_data"
    },
    {
     "data": {
      "application/javascript": [
       "(function(root) {\n",
       "  function embed_document(root) {\n",
       "    \n",
       "  var docs_json = {\"d25efb13-1cfe-47be-80b3-27add3db2209\":{\"roots\":{\"references\":[{\"attributes\":{\"line_color\":\"#1f77b4\",\"line_width\":3,\"x\":{\"field\":\"x\"},\"y\":{\"field\":\"y\"}},\"id\":\"5cfa1d18-01a8-461d-948c-583061267d55\",\"type\":\"Line\"},{\"attributes\":{},\"id\":\"39b9d38d-5680-4cfa-8c48-7e6f0ef053ab\",\"type\":\"LinearScale\"},{\"attributes\":{},\"id\":\"c3ae6d31-9776-4cbf-8fce-7574859e5241\",\"type\":\"LinearScale\"},{\"attributes\":{\"plot\":{\"id\":\"62452d3d-f5e9-4db3-8294-18d1904a119e\",\"subtype\":\"Figure\",\"type\":\"Plot\"},\"ticker\":{\"id\":\"6cf66e6b-4101-4e64-9525-d887b67e45de\",\"type\":\"BasicTicker\"}},\"id\":\"ab1142d7-f9f2-497b-8087-5d4c95f4619b\",\"type\":\"Grid\"},{\"attributes\":{\"dimension\":1,\"plot\":{\"id\":\"62452d3d-f5e9-4db3-8294-18d1904a119e\",\"subtype\":\"Figure\",\"type\":\"Plot\"},\"ticker\":{\"id\":\"40c294e8-f325-4418-b5f0-7b23e5a9a8ae\",\"type\":\"BasicTicker\"}},\"id\":\"f37ac0f6-321b-49de-934a-0776d42fd3f8\",\"type\":\"Grid\"},{\"attributes\":{},\"id\":\"6cf66e6b-4101-4e64-9525-d887b67e45de\",\"type\":\"BasicTicker\"},{\"attributes\":{\"axis_label\":\"t [Epochs]\",\"formatter\":{\"id\":\"d2b51284-3734-4483-9d76-7c21f715e454\",\"type\":\"BasicTickFormatter\"},\"plot\":{\"id\":\"62452d3d-f5e9-4db3-8294-18d1904a119e\",\"subtype\":\"Figure\",\"type\":\"Plot\"},\"ticker\":{\"id\":\"6cf66e6b-4101-4e64-9525-d887b67e45de\",\"type\":\"BasicTicker\"}},\"id\":\"792adb0b-bfe5-461a-a7ed-71028ad11f78\",\"type\":\"LinearAxis\"},{\"attributes\":{},\"id\":\"40c294e8-f325-4418-b5f0-7b23e5a9a8ae\",\"type\":\"BasicTicker\"},{\"attributes\":{\"axis_label\":\"||w(t)||\",\"formatter\":{\"id\":\"5c1b3385-9123-48a3-8d58-c17fe56cfbd7\",\"type\":\"BasicTickFormatter\"},\"plot\":{\"id\":\"62452d3d-f5e9-4db3-8294-18d1904a119e\",\"subtype\":\"Figure\",\"type\":\"Plot\"},\"ticker\":{\"id\":\"40c294e8-f325-4418-b5f0-7b23e5a9a8ae\",\"type\":\"BasicTicker\"}},\"id\":\"b154ac3f-46eb-4cdb-9740-b338d249e7c4\",\"type\":\"LinearAxis\"},{\"attributes\":{\"bottom_units\":\"screen\",\"fill_alpha\":{\"value\":0.5},\"fill_color\":{\"value\":\"lightgrey\"},\"left_units\":\"screen\",\"level\":\"overlay\",\"line_alpha\":{\"value\":1.0},\"line_color\":{\"value\":\"black\"},\"line_dash\":[4,4],\"line_width\":{\"value\":2},\"plot\":null,\"render_mode\":\"css\",\"right_units\":\"screen\",\"top_units\":\"screen\"},\"id\":\"25f04fa6-d0f6-451c-b4be-31643a16376d\",\"type\":\"BoxAnnotation\"},{\"attributes\":{},\"id\":\"67362714-f379-48bd-8d62-cfb36440efac\",\"type\":\"PanTool\"},{\"attributes\":{\"callback\":null,\"column_names\":[\"x\",\"y\"],\"data\":{\"x\":{\"__ndarray__\":\"AQAAAAIAAAADAAAABAAAAAUAAAAGAAAABwAAAAgAAAAJAAAACgAAAAsAAAAMAAAADQAAAA4AAAAPAAAAEAAAABEAAAASAAAAEwAAABQAAAAVAAAAFgAAABcAAAAYAAAAGQAAABoAAAAbAAAAHAAAAB0AAAAeAAAAHwAAACAAAAAhAAAAIgAAACMAAAA=\",\"dtype\":\"int32\",\"shape\":[35]},\"y\":[35.690032958984375,33.64530944824219,31.055727005004883,28.226768493652344,25.6037540435791,23.72377586364746,22.727161407470703,22.557371139526367,23.0157413482666,23.889446258544922,23.23829460144043,22.65900230407715,22.166717529296875,21.761343002319336,21.44099235534668,21.308591842651367,21.177576065063477,21.04869842529297,20.922016143798828,20.797513961791992,20.76906394958496,20.740633010864258,20.712257385253906,20.68393325805664,20.655662536621094,20.649852752685547,20.64404296875,20.63823699951172,20.632431030273438,20.626628875732422,20.620826721191406,20.615028381347656,20.609230041503906,20.60343360900879,20.597637176513672]}},\"id\":\"15919b7c-f33d-4c03-814d-6eff217044f7\",\"type\":\"ColumnDataSource\"},{\"attributes\":{\"data_source\":{\"id\":\"15919b7c-f33d-4c03-814d-6eff217044f7\",\"type\":\"ColumnDataSource\"},\"glyph\":{\"id\":\"5cfa1d18-01a8-461d-948c-583061267d55\",\"type\":\"Line\"},\"hover_glyph\":null,\"muted_glyph\":null,\"nonselection_glyph\":{\"id\":\"f6945838-3933-481e-a4d6-3465eaa715e0\",\"type\":\"Line\"},\"selection_glyph\":null,\"view\":{\"id\":\"4e237f65-e66d-43f0-8083-de22fe618b75\",\"type\":\"CDSView\"}},\"id\":\"03677085-0e8e-47f7-8f23-597c46e53167\",\"type\":\"GlyphRenderer\"},{\"attributes\":{},\"id\":\"d2b51284-3734-4483-9d76-7c21f715e454\",\"type\":\"BasicTickFormatter\"},{\"attributes\":{},\"id\":\"9fc17a1e-f162-48c0-a3b6-acf8f19eaea6\",\"type\":\"WheelZoomTool\"},{\"attributes\":{\"active_drag\":\"auto\",\"active_inspect\":\"auto\",\"active_scroll\":\"auto\",\"active_tap\":\"auto\",\"tools\":[{\"id\":\"67362714-f379-48bd-8d62-cfb36440efac\",\"type\":\"PanTool\"},{\"id\":\"9fc17a1e-f162-48c0-a3b6-acf8f19eaea6\",\"type\":\"WheelZoomTool\"},{\"id\":\"9d5653b0-06dc-43bd-9f13-8df341ce3e9b\",\"type\":\"BoxZoomTool\"},{\"id\":\"81e75e9a-822c-4080-bdcb-622e36ff18cf\",\"type\":\"SaveTool\"},{\"id\":\"80c7f21a-7e56-4716-a8fd-e151a5da974c\",\"type\":\"ResetTool\"},{\"id\":\"a048b592-9bd9-44f8-bf27-0d8dcba7879e\",\"type\":\"HelpTool\"}]},\"id\":\"643faddd-a953-4bea-872f-ed0558fc555c\",\"type\":\"Toolbar\"},{\"attributes\":{\"click_policy\":\"hide\",\"items\":[{\"id\":\"61b88939-ec93-461e-a699-77da094699c6\",\"type\":\"LegendItem\"}],\"location\":\"top_left\",\"plot\":{\"id\":\"62452d3d-f5e9-4db3-8294-18d1904a119e\",\"subtype\":\"Figure\",\"type\":\"Plot\"}},\"id\":\"e7a16d29-03b2-4dcd-8c9c-90206882d8bc\",\"type\":\"Legend\"},{\"attributes\":{\"overlay\":{\"id\":\"25f04fa6-d0f6-451c-b4be-31643a16376d\",\"type\":\"BoxAnnotation\"}},\"id\":\"9d5653b0-06dc-43bd-9f13-8df341ce3e9b\",\"type\":\"BoxZoomTool\"},{\"attributes\":{},\"id\":\"81e75e9a-822c-4080-bdcb-622e36ff18cf\",\"type\":\"SaveTool\"},{\"attributes\":{},\"id\":\"80c7f21a-7e56-4716-a8fd-e151a5da974c\",\"type\":\"ResetTool\"},{\"attributes\":{\"plot\":null,\"text\":\"The Norm of w(t)\"},\"id\":\"cafea49d-cd96-4cb4-a20c-7cb206124a0f\",\"type\":\"Title\"},{\"attributes\":{\"line_alpha\":0.1,\"line_color\":\"#1f77b4\",\"line_width\":3,\"x\":{\"field\":\"x\"},\"y\":{\"field\":\"y\"}},\"id\":\"f6945838-3933-481e-a4d6-3465eaa715e0\",\"type\":\"Line\"},{\"attributes\":{},\"id\":\"a048b592-9bd9-44f8-bf27-0d8dcba7879e\",\"type\":\"HelpTool\"},{\"attributes\":{\"source\":{\"id\":\"15919b7c-f33d-4c03-814d-6eff217044f7\",\"type\":\"ColumnDataSource\"}},\"id\":\"4e237f65-e66d-43f0-8083-de22fe618b75\",\"type\":\"CDSView\"},{\"attributes\":{},\"id\":\"5c1b3385-9123-48a3-8d58-c17fe56cfbd7\",\"type\":\"BasicTickFormatter\"},{\"attributes\":{\"label\":{\"value\":\"asynchronous_1024_8\"},\"renderers\":[{\"id\":\"03677085-0e8e-47f7-8f23-597c46e53167\",\"type\":\"GlyphRenderer\"}]},\"id\":\"61b88939-ec93-461e-a699-77da094699c6\",\"type\":\"LegendItem\"},{\"attributes\":{\"callback\":null},\"id\":\"12cf3515-36c9-4d69-a4ed-e8bb37b5a3dc\",\"type\":\"DataRange1d\"},{\"attributes\":{\"background_fill_color\":{\"value\":\"#fafafa\"},\"below\":[{\"id\":\"792adb0b-bfe5-461a-a7ed-71028ad11f78\",\"type\":\"LinearAxis\"}],\"left\":[{\"id\":\"b154ac3f-46eb-4cdb-9740-b338d249e7c4\",\"type\":\"LinearAxis\"}],\"min_border\":10,\"min_border_left\":50,\"renderers\":[{\"id\":\"792adb0b-bfe5-461a-a7ed-71028ad11f78\",\"type\":\"LinearAxis\"},{\"id\":\"ab1142d7-f9f2-497b-8087-5d4c95f4619b\",\"type\":\"Grid\"},{\"id\":\"b154ac3f-46eb-4cdb-9740-b338d249e7c4\",\"type\":\"LinearAxis\"},{\"id\":\"f37ac0f6-321b-49de-934a-0776d42fd3f8\",\"type\":\"Grid\"},{\"id\":\"25f04fa6-d0f6-451c-b4be-31643a16376d\",\"type\":\"BoxAnnotation\"},{\"id\":\"e7a16d29-03b2-4dcd-8c9c-90206882d8bc\",\"type\":\"Legend\"},{\"id\":\"03677085-0e8e-47f7-8f23-597c46e53167\",\"type\":\"GlyphRenderer\"}],\"title\":{\"id\":\"cafea49d-cd96-4cb4-a20c-7cb206124a0f\",\"type\":\"Title\"},\"toolbar\":{\"id\":\"643faddd-a953-4bea-872f-ed0558fc555c\",\"type\":\"Toolbar\"},\"x_range\":{\"id\":\"12cf3515-36c9-4d69-a4ed-e8bb37b5a3dc\",\"type\":\"DataRange1d\"},\"x_scale\":{\"id\":\"c3ae6d31-9776-4cbf-8fce-7574859e5241\",\"type\":\"LinearScale\"},\"y_range\":{\"id\":\"55ae757a-2df4-4041-8ad8-5fff39403984\",\"type\":\"DataRange1d\"},\"y_scale\":{\"id\":\"39b9d38d-5680-4cfa-8c48-7e6f0ef053ab\",\"type\":\"LinearScale\"}},\"id\":\"62452d3d-f5e9-4db3-8294-18d1904a119e\",\"subtype\":\"Figure\",\"type\":\"Plot\"},{\"attributes\":{\"callback\":null},\"id\":\"55ae757a-2df4-4041-8ad8-5fff39403984\",\"type\":\"DataRange1d\"}],\"root_ids\":[\"62452d3d-f5e9-4db3-8294-18d1904a119e\"]},\"title\":\"Bokeh Application\",\"version\":\"0.12.13\"}};\n",
       "  var render_items = [{\"docid\":\"d25efb13-1cfe-47be-80b3-27add3db2209\",\"elementid\":\"42b35a72-52f4-4f5e-9add-362e01a0ec8e\",\"modelid\":\"62452d3d-f5e9-4db3-8294-18d1904a119e\"}];\n",
       "  root.Bokeh.embed.embed_items_notebook(docs_json, render_items);\n",
       "\n",
       "  }\n",
       "  if (root.Bokeh !== undefined) {\n",
       "    embed_document(root);\n",
       "  } else {\n",
       "    var attempts = 0;\n",
       "    var timer = setInterval(function(root) {\n",
       "      if (root.Bokeh !== undefined) {\n",
       "        embed_document(root);\n",
       "        clearInterval(timer);\n",
       "      }\n",
       "      attempts++;\n",
       "      if (attempts > 100) {\n",
       "        console.log(\"Bokeh: ERROR: Unable to run BokehJS code because BokehJS library is missing\")\n",
       "        clearInterval(timer);\n",
       "      }\n",
       "    }, 10, root)\n",
       "  }\n",
       "})(window);"
      ],
      "application/vnd.bokehjs_exec.v0+json": ""
     },
     "metadata": {
      "application/vnd.bokehjs_exec.v0+json": {
       "id": "62452d3d-f5e9-4db3-8294-18d1904a119e"
      }
     },
     "output_type": "display_data"
    }
   ],
   "source": [
    "show(plots[2])"
   ]
  },
  {
   "cell_type": "code",
   "execution_count": 6,
   "metadata": {},
   "outputs": [
    {
     "data": {
      "text/html": [
       "\n",
       "<div class=\"bk-root\">\n",
       "    <div class=\"bk-plotdiv\" id=\"dff432ef-341c-4cda-8bee-228c837967b5\"></div>\n",
       "</div>"
      ]
     },
     "metadata": {},
     "output_type": "display_data"
    },
    {
     "data": {
      "application/javascript": [
       "(function(root) {\n",
       "  function embed_document(root) {\n",
       "    \n",
       "  var docs_json = {\"e8316da8-a51d-4964-9ea6-8c32cc9d5a09\":{\"roots\":{\"references\":[{\"attributes\":{},\"id\":\"cc63ef37-2d17-4455-b44b-4445687ddfc2\",\"type\":\"PanTool\"},{\"attributes\":{},\"id\":\"305749cd-dc50-43ed-a253-1a0f5721781a\",\"type\":\"WheelZoomTool\"},{\"attributes\":{\"overlay\":{\"id\":\"ca17eaac-86e0-4b73-81d3-18a1f5325675\",\"type\":\"BoxAnnotation\"}},\"id\":\"fb6c889f-4fb5-4c3a-a79d-9908910d4a34\",\"type\":\"BoxZoomTool\"},{\"attributes\":{\"callback\":null},\"id\":\"1800faf8-b6a6-45cf-a97a-9c2e379a2789\",\"type\":\"DataRange1d\"},{\"attributes\":{},\"id\":\"5bfc7d21-567b-4616-b548-a3943ce35e4b\",\"type\":\"SaveTool\"},{\"attributes\":{},\"id\":\"007bacba-878a-430c-afb5-e3c13bb14cd9\",\"type\":\"ResetTool\"},{\"attributes\":{},\"id\":\"a6f38793-343b-40bf-a194-dd1c4fb3ebec\",\"type\":\"HelpTool\"},{\"attributes\":{\"active_drag\":\"auto\",\"active_inspect\":\"auto\",\"active_scroll\":\"auto\",\"active_tap\":\"auto\",\"tools\":[{\"id\":\"cc63ef37-2d17-4455-b44b-4445687ddfc2\",\"type\":\"PanTool\"},{\"id\":\"305749cd-dc50-43ed-a253-1a0f5721781a\",\"type\":\"WheelZoomTool\"},{\"id\":\"fb6c889f-4fb5-4c3a-a79d-9908910d4a34\",\"type\":\"BoxZoomTool\"},{\"id\":\"5bfc7d21-567b-4616-b548-a3943ce35e4b\",\"type\":\"SaveTool\"},{\"id\":\"007bacba-878a-430c-afb5-e3c13bb14cd9\",\"type\":\"ResetTool\"},{\"id\":\"a6f38793-343b-40bf-a194-dd1c4fb3ebec\",\"type\":\"HelpTool\"}]},\"id\":\"14c74530-6644-4a81-a9b0-67eb476814f5\",\"type\":\"Toolbar\"},{\"attributes\":{\"plot\":null,\"text\":\"The Norm of Gradients\"},\"id\":\"26e40b22-c067-46f1-a33e-ccfc540dc7c3\",\"type\":\"Title\"},{\"attributes\":{\"num_minor_ticks\":10},\"id\":\"88b09d30-78f1-492d-98a3-95c512347080\",\"type\":\"LogTicker\"},{\"attributes\":{},\"id\":\"f5ded62f-e335-45f2-af2f-be02e4148f63\",\"type\":\"LinearScale\"},{\"attributes\":{\"data_source\":{\"id\":\"8a188843-94b8-413e-befa-19ccd0e51b57\",\"type\":\"ColumnDataSource\"},\"glyph\":{\"id\":\"aa0c7cde-9e0f-4b38-aebb-d1251ff20a16\",\"type\":\"Line\"},\"hover_glyph\":null,\"muted_glyph\":null,\"nonselection_glyph\":{\"id\":\"e99e6bdf-4a4b-4d3b-aab6-34706ec9c60d\",\"type\":\"Line\"},\"selection_glyph\":null,\"view\":{\"id\":\"d08575aa-2586-49ad-a3f4-300c347cceb4\",\"type\":\"CDSView\"}},\"id\":\"0efc2f25-2a12-45bf-affa-bb9cb1e1a173\",\"type\":\"GlyphRenderer\"},{\"attributes\":{\"callback\":null},\"id\":\"0b0efa51-bb5a-4cbc-98b6-05589f70d0b1\",\"type\":\"DataRange1d\"},{\"attributes\":{},\"id\":\"c3fc510c-afdb-4fc6-86ad-3ad16db4d098\",\"type\":\"BasicTickFormatter\"},{\"attributes\":{\"plot\":{\"id\":\"68539f43-bc8c-4e18-b2da-f5cf92d1afe7\",\"subtype\":\"Figure\",\"type\":\"Plot\"},\"ticker\":{\"id\":\"b2183cbf-ffe8-4447-b2aa-f3ed842b0b99\",\"type\":\"BasicTicker\"}},\"id\":\"4ba8595a-c968-4170-b740-3e21b62550da\",\"type\":\"Grid\"},{\"attributes\":{\"dimension\":1,\"plot\":{\"id\":\"68539f43-bc8c-4e18-b2da-f5cf92d1afe7\",\"subtype\":\"Figure\",\"type\":\"Plot\"},\"ticker\":{\"id\":\"88b09d30-78f1-492d-98a3-95c512347080\",\"type\":\"LogTicker\"}},\"id\":\"ce90b2f1-f536-4e0c-a766-4cd6272cf36b\",\"type\":\"Grid\"},{\"attributes\":{\"callback\":null,\"column_names\":[\"x\",\"y\"],\"data\":{\"x\":{\"__ndarray__\":\"AQAAAAIAAAADAAAABAAAAAUAAAAGAAAABwAAAAgAAAAJAAAACgAAAAsAAAAMAAAADQAAAA4AAAAPAAAAEAAAABEAAAASAAAAEwAAABQAAAAVAAAAFgAAABcAAAAYAAAAGQAAABoAAAAbAAAAHAAAAB0AAAAeAAAAHwAAACAAAAAhAAAAIgAAACMAAAA=\",\"dtype\":\"int32\",\"shape\":[35]},\"y\":[1.9385662078857422,1.7057698965072632,1.7527750730514526,1.8012226819992065,2.260324716567993,2.413609743118286,2.8087353706359863,3.226144313812256,3.590508460998535,3.885669708251953,4.322845458984375,4.889731407165527,5.082404136657715,5.808801651000977,6.425541877746582,6.403678894042969,6.351129531860352,6.828535556793213,6.754461765289307,6.9468536376953125,7.2559099197387695,7.040227890014648,6.715016841888428,7.496523380279541,7.603114604949951,7.004813194274902,7.248462677001953,7.775030612945557,7.274960994720459,7.41137170791626,6.51373815536499,7.586575508117676,7.420831203460693,7.1801018714904785,7.275213718414307]}},\"id\":\"8a188843-94b8-413e-befa-19ccd0e51b57\",\"type\":\"ColumnDataSource\"},{\"attributes\":{\"click_policy\":\"hide\",\"items\":[{\"id\":\"b7a481fa-fc01-4165-9d60-b066abbc7b48\",\"type\":\"LegendItem\"}],\"location\":\"bottom_left\",\"plot\":{\"id\":\"68539f43-bc8c-4e18-b2da-f5cf92d1afe7\",\"subtype\":\"Figure\",\"type\":\"Plot\"}},\"id\":\"eaaf7670-359f-4068-a348-dc4b4ab97af3\",\"type\":\"Legend\"},{\"attributes\":{},\"id\":\"b2183cbf-ffe8-4447-b2aa-f3ed842b0b99\",\"type\":\"BasicTicker\"},{\"attributes\":{\"background_fill_color\":{\"value\":\"#fafafa\"},\"below\":[{\"id\":\"cf78e97f-9a84-42d0-8a1d-76095ad05b5f\",\"type\":\"LinearAxis\"}],\"left\":[{\"id\":\"5081706b-888f-426c-8507-caa93faa15ec\",\"type\":\"LogAxis\"}],\"min_border\":10,\"min_border_left\":50,\"renderers\":[{\"id\":\"cf78e97f-9a84-42d0-8a1d-76095ad05b5f\",\"type\":\"LinearAxis\"},{\"id\":\"4ba8595a-c968-4170-b740-3e21b62550da\",\"type\":\"Grid\"},{\"id\":\"5081706b-888f-426c-8507-caa93faa15ec\",\"type\":\"LogAxis\"},{\"id\":\"ce90b2f1-f536-4e0c-a766-4cd6272cf36b\",\"type\":\"Grid\"},{\"id\":\"ca17eaac-86e0-4b73-81d3-18a1f5325675\",\"type\":\"BoxAnnotation\"},{\"id\":\"eaaf7670-359f-4068-a348-dc4b4ab97af3\",\"type\":\"Legend\"},{\"id\":\"0efc2f25-2a12-45bf-affa-bb9cb1e1a173\",\"type\":\"GlyphRenderer\"}],\"title\":{\"id\":\"26e40b22-c067-46f1-a33e-ccfc540dc7c3\",\"type\":\"Title\"},\"toolbar\":{\"id\":\"14c74530-6644-4a81-a9b0-67eb476814f5\",\"type\":\"Toolbar\"},\"x_range\":{\"id\":\"1800faf8-b6a6-45cf-a97a-9c2e379a2789\",\"type\":\"DataRange1d\"},\"x_scale\":{\"id\":\"f5ded62f-e335-45f2-af2f-be02e4148f63\",\"type\":\"LinearScale\"},\"y_range\":{\"id\":\"0b0efa51-bb5a-4cbc-98b6-05589f70d0b1\",\"type\":\"DataRange1d\"},\"y_scale\":{\"id\":\"95b6395e-49ef-41c8-b4aa-347ed6c39510\",\"type\":\"LogScale\"}},\"id\":\"68539f43-bc8c-4e18-b2da-f5cf92d1afe7\",\"subtype\":\"Figure\",\"type\":\"Plot\"},{\"attributes\":{\"axis_label\":\"t [Epochs]\",\"formatter\":{\"id\":\"c3fc510c-afdb-4fc6-86ad-3ad16db4d098\",\"type\":\"BasicTickFormatter\"},\"plot\":{\"id\":\"68539f43-bc8c-4e18-b2da-f5cf92d1afe7\",\"subtype\":\"Figure\",\"type\":\"Plot\"},\"ticker\":{\"id\":\"b2183cbf-ffe8-4447-b2aa-f3ed842b0b99\",\"type\":\"BasicTicker\"}},\"id\":\"cf78e97f-9a84-42d0-8a1d-76095ad05b5f\",\"type\":\"LinearAxis\"},{\"attributes\":{\"line_color\":\"#1f77b4\",\"line_width\":3,\"x\":{\"field\":\"x\"},\"y\":{\"field\":\"y\"}},\"id\":\"aa0c7cde-9e0f-4b38-aebb-d1251ff20a16\",\"type\":\"Line\"},{\"attributes\":{\"axis_label\":\"||g||\",\"formatter\":{\"id\":\"3badec47-788f-472f-81df-928770fa4b4d\",\"type\":\"LogTickFormatter\"},\"plot\":{\"id\":\"68539f43-bc8c-4e18-b2da-f5cf92d1afe7\",\"subtype\":\"Figure\",\"type\":\"Plot\"},\"ticker\":{\"id\":\"88b09d30-78f1-492d-98a3-95c512347080\",\"type\":\"LogTicker\"}},\"id\":\"5081706b-888f-426c-8507-caa93faa15ec\",\"type\":\"LogAxis\"},{\"attributes\":{\"line_alpha\":0.1,\"line_color\":\"#1f77b4\",\"line_width\":3,\"x\":{\"field\":\"x\"},\"y\":{\"field\":\"y\"}},\"id\":\"e99e6bdf-4a4b-4d3b-aab6-34706ec9c60d\",\"type\":\"Line\"},{\"attributes\":{},\"id\":\"95b6395e-49ef-41c8-b4aa-347ed6c39510\",\"type\":\"LogScale\"},{\"attributes\":{\"source\":{\"id\":\"8a188843-94b8-413e-befa-19ccd0e51b57\",\"type\":\"ColumnDataSource\"}},\"id\":\"d08575aa-2586-49ad-a3f4-300c347cceb4\",\"type\":\"CDSView\"},{\"attributes\":{\"ticker\":null},\"id\":\"3badec47-788f-472f-81df-928770fa4b4d\",\"type\":\"LogTickFormatter\"},{\"attributes\":{\"label\":{\"value\":\"asynchronous_1024_8\"},\"renderers\":[{\"id\":\"0efc2f25-2a12-45bf-affa-bb9cb1e1a173\",\"type\":\"GlyphRenderer\"}]},\"id\":\"b7a481fa-fc01-4165-9d60-b066abbc7b48\",\"type\":\"LegendItem\"},{\"attributes\":{\"bottom_units\":\"screen\",\"fill_alpha\":{\"value\":0.5},\"fill_color\":{\"value\":\"lightgrey\"},\"left_units\":\"screen\",\"level\":\"overlay\",\"line_alpha\":{\"value\":1.0},\"line_color\":{\"value\":\"black\"},\"line_dash\":[4,4],\"line_width\":{\"value\":2},\"plot\":null,\"render_mode\":\"css\",\"right_units\":\"screen\",\"top_units\":\"screen\"},\"id\":\"ca17eaac-86e0-4b73-81d3-18a1f5325675\",\"type\":\"BoxAnnotation\"}],\"root_ids\":[\"68539f43-bc8c-4e18-b2da-f5cf92d1afe7\"]},\"title\":\"Bokeh Application\",\"version\":\"0.12.13\"}};\n",
       "  var render_items = [{\"docid\":\"e8316da8-a51d-4964-9ea6-8c32cc9d5a09\",\"elementid\":\"dff432ef-341c-4cda-8bee-228c837967b5\",\"modelid\":\"68539f43-bc8c-4e18-b2da-f5cf92d1afe7\"}];\n",
       "  root.Bokeh.embed.embed_items_notebook(docs_json, render_items);\n",
       "\n",
       "  }\n",
       "  if (root.Bokeh !== undefined) {\n",
       "    embed_document(root);\n",
       "  } else {\n",
       "    var attempts = 0;\n",
       "    var timer = setInterval(function(root) {\n",
       "      if (root.Bokeh !== undefined) {\n",
       "        embed_document(root);\n",
       "        clearInterval(timer);\n",
       "      }\n",
       "      attempts++;\n",
       "      if (attempts > 100) {\n",
       "        console.log(\"Bokeh: ERROR: Unable to run BokehJS code because BokehJS library is missing\")\n",
       "        clearInterval(timer);\n",
       "      }\n",
       "    }, 10, root)\n",
       "  }\n",
       "})(window);"
      ],
      "application/vnd.bokehjs_exec.v0+json": ""
     },
     "metadata": {
      "application/vnd.bokehjs_exec.v0+json": {
       "id": "68539f43-bc8c-4e18-b2da-f5cf92d1afe7"
      }
     },
     "output_type": "display_data"
    }
   ],
   "source": [
    "show(plots[3])"
   ]
  },
  {
   "cell_type": "code",
   "execution_count": 7,
   "metadata": {},
   "outputs": [
    {
     "data": {
      "text/html": [
       "\n",
       "<div class=\"bk-root\">\n",
       "    <div class=\"bk-plotdiv\" id=\"7b6d9373-5a7d-433f-9687-00a60bbcb9f3\"></div>\n",
       "</div>"
      ]
     },
     "metadata": {},
     "output_type": "display_data"
    },
    {
     "data": {
      "application/javascript": [
       "(function(root) {\n",
       "  function embed_document(root) {\n",
       "    \n",
       "  var docs_json = {\"1d302ac1-ba5f-4508-8657-95a47ed2a29e\":{\"roots\":{\"references\":[{\"attributes\":{},\"id\":\"abed85c7-0eaa-47fe-869f-65e154e6e877\",\"type\":\"WheelZoomTool\"},{\"attributes\":{\"bottom_units\":\"screen\",\"fill_alpha\":{\"value\":0.5},\"fill_color\":{\"value\":\"lightgrey\"},\"left_units\":\"screen\",\"level\":\"overlay\",\"line_alpha\":{\"value\":1.0},\"line_color\":{\"value\":\"black\"},\"line_dash\":[4,4],\"line_width\":{\"value\":2},\"plot\":null,\"render_mode\":\"css\",\"right_units\":\"screen\",\"top_units\":\"screen\"},\"id\":\"c790362e-8f04-466d-abfd-4100dde8065a\",\"type\":\"BoxAnnotation\"},{\"attributes\":{\"overlay\":{\"id\":\"c790362e-8f04-466d-abfd-4100dde8065a\",\"type\":\"BoxAnnotation\"}},\"id\":\"1081df15-8e6a-4757-8b85-7a2f89b944e2\",\"type\":\"BoxZoomTool\"},{\"attributes\":{},\"id\":\"2b567a92-df85-4c31-80f1-1f8c971f532a\",\"type\":\"SaveTool\"},{\"attributes\":{},\"id\":\"9695f31b-805f-49f1-82a5-393812000905\",\"type\":\"ResetTool\"},{\"attributes\":{},\"id\":\"ef16dbb0-5a48-4fc3-a68d-9f65b5e8fce6\",\"type\":\"HelpTool\"},{\"attributes\":{\"bottom\":{\"field\":\"bottom\"},\"fill_color\":{\"value\":\"#084594\"},\"top\":{\"field\":\"top\"},\"width\":{\"value\":0.25},\"x\":{\"field\":\"x\"}},\"id\":\"76392500-a698-40cc-ae46-9e0068cf2311\",\"type\":\"VBar\"},{\"attributes\":{\"data_source\":{\"id\":\"62115b7e-32b9-4f51-bb54-6167b5f7be57\",\"type\":\"ColumnDataSource\"},\"glyph\":{\"id\":\"7fdd6950-b959-4498-a616-cd112d585469\",\"type\":\"Segment\"},\"hover_glyph\":null,\"muted_glyph\":null,\"nonselection_glyph\":{\"id\":\"a5590334-0b2b-4506-8d76-e736c9201b63\",\"type\":\"Segment\"},\"selection_glyph\":null,\"view\":{\"id\":\"8194e94f-779e-4f55-ac5d-6085228b2281\",\"type\":\"CDSView\"}},\"id\":\"31db0633-4c41-44e1-ba43-2b42ed27c0b2\",\"type\":\"GlyphRenderer\"},{\"attributes\":{},\"id\":\"21a8ca18-4636-46c7-890c-fbaacb127bef\",\"type\":\"BasicTickFormatter\"},{\"attributes\":{\"callback\":null,\"column_names\":[\"x0\",\"y0\",\"x1\",\"y1\"],\"data\":{\"x0\":{\"__ndarray__\":\"AQAAAAIAAAADAAAABAAAAAUAAAAGAAAABwAAAAgAAAAJAAAACgAAAAsAAAAMAAAADQAAAA4AAAAPAAAAEAAAABEAAAASAAAAEwAAABQAAAAVAAAAFgAAABcAAAAYAAAAGQAAABoAAAAbAAAAHAAAAB0AAAAeAAAAHwAAACAAAAAhAAAAIgAAACMAAAA=\",\"dtype\":\"int32\",\"shape\":[35]},\"x1\":{\"__ndarray__\":\"AQAAAAIAAAADAAAABAAAAAUAAAAGAAAABwAAAAgAAAAJAAAACgAAAAsAAAAMAAAADQAAAA4AAAAPAAAAEAAAABEAAAASAAAAEwAAABQAAAAVAAAAFgAAABcAAAAYAAAAGQAAABoAAAAbAAAAHAAAAB0AAAAeAAAAHwAAACAAAAAhAAAAIgAAACMAAAA=\",\"dtype\":\"int32\",\"shape\":[35]},\"y0\":[0.2134060561656952,0.28602510690689087,0.38572075963020325,0.4335162937641144,0.5313575267791748,0.5080752968788147,0.5565164089202881,0.5599290132522583,0.5815010666847229,0.5939352512359619,0.10358818620443344,0.11873359233140945,0.1330367624759674,0.14995348453521729,0.15664346516132355,0.028399653732776642,0.028807172551751137,0.03010278381407261,0.0313519723713398,0.03223137557506561,0.006255067884922028,0.006309180520474911,0.006241990718990564,0.006442476063966751,0.006466650404036045,0.0012764979619532824,0.001273607020266354,0.0012784968130290508,0.001282763434574008,0.0012785757426172495,0.0012711681192740798,0.0012875879183411598,0.0012886454351246357,0.0012801408302038908,0.0012763846898451447],\"y1\":[0.1240056580863893,0.1674518659710884,0.2257224190980196,0.252107753418386,0.3035926539450884,0.2960797967389226,0.32639236375689507,0.3262965874746442,0.33861387614160776,0.34654584899544716,0.060101081151515245,0.06933542294427752,0.07809769990853965,0.08649286581203341,0.09053852269425988,0.01648969843517989,0.016833126719575375,0.017471839499194175,0.018180619284976274,0.018871764186769724,0.003631348692579195,0.0036680072807939723,0.0036412687913980335,0.003722283145179972,0.0037411371886264533,0.0007435570150846615,0.0007412082886730786,0.0007401468283205759,0.0007440249537467025,0.0007429172364936676,0.0007426819829561282,0.0007476282517018262,0.0007481016509700567,0.0007448283431585878,0.000743584972951794]}},\"id\":\"62115b7e-32b9-4f51-bb54-6167b5f7be57\",\"type\":\"ColumnDataSource\"},{\"attributes\":{},\"id\":\"4eecdc9d-34ab-496a-bf51-204e5ebd379a\",\"type\":\"BasicTickFormatter\"},{\"attributes\":{\"x0\":{\"field\":\"x0\"},\"x1\":{\"field\":\"x1\"},\"y0\":{\"field\":\"y0\"},\"y1\":{\"field\":\"y1\"}},\"id\":\"7fdd6950-b959-4498-a616-cd112d585469\",\"type\":\"Segment\"},{\"attributes\":{\"callback\":null},\"id\":\"54cf9e1a-45aa-445d-901d-fba891adde10\",\"type\":\"DataRange1d\"},{\"attributes\":{\"line_alpha\":{\"value\":0.1},\"line_color\":{\"value\":\"#1f77b4\"},\"x0\":{\"field\":\"x0\"},\"x1\":{\"field\":\"x1\"},\"y0\":{\"field\":\"y0\"},\"y1\":{\"field\":\"y1\"}},\"id\":\"a5590334-0b2b-4506-8d76-e736c9201b63\",\"type\":\"Segment\"},{\"attributes\":{\"source\":{\"id\":\"62115b7e-32b9-4f51-bb54-6167b5f7be57\",\"type\":\"ColumnDataSource\"}},\"id\":\"8194e94f-779e-4f55-ac5d-6085228b2281\",\"type\":\"CDSView\"},{\"attributes\":{\"data_source\":{\"id\":\"40265219-8425-4b84-8388-4690a550d287\",\"type\":\"ColumnDataSource\"},\"glyph\":{\"id\":\"fe567881-b008-4c97-889c-5bada362b81f\",\"type\":\"Segment\"},\"hover_glyph\":null,\"muted_glyph\":null,\"nonselection_glyph\":{\"id\":\"4c047add-ebd3-4cad-81a2-14d00f2e4b88\",\"type\":\"Segment\"},\"selection_glyph\":null,\"view\":{\"id\":\"f5466606-e5c8-4ba9-a1fc-9d8386c19860\",\"type\":\"CDSView\"}},\"id\":\"4d28077e-d318-4a7d-8570-a5d56f3aded2\",\"type\":\"GlyphRenderer\"},{\"attributes\":{\"callback\":null,\"column_names\":[\"x0\",\"y0\",\"x1\",\"y1\"],\"data\":{\"x0\":{\"__ndarray__\":\"AQAAAAIAAAADAAAABAAAAAUAAAAGAAAABwAAAAgAAAAJAAAACgAAAAsAAAAMAAAADQAAAA4AAAAPAAAAEAAAABEAAAASAAAAEwAAABQAAAAVAAAAFgAAABcAAAAYAAAAGQAAABoAAAAbAAAAHAAAAB0AAAAeAAAAHwAAACAAAAAhAAAAIgAAACMAAAA=\",\"dtype\":\"int32\",\"shape\":[35]},\"x1\":{\"__ndarray__\":\"AQAAAAIAAAADAAAABAAAAAUAAAAGAAAABwAAAAgAAAAJAAAACgAAAAsAAAAMAAAADQAAAA4AAAAPAAAAEAAAABEAAAASAAAAEwAAABQAAAAVAAAAFgAAABcAAAAYAAAAGQAAABoAAAAbAAAAHAAAAB0AAAAeAAAAHwAAACAAAAAhAAAAIgAAACMAAAA=\",\"dtype\":\"int32\",\"shape\":[35]},\"y0\":[0.0370306596159935,0.051575593650341034,0.06852219253778458,0.0754082053899765,0.09414427727460861,0.09509574621915817,0.10275616496801376,0.10850945115089417,0.11319088190793991,0.11559221148490906,0.02180950716137886,0.024603888392448425,0.027675462886691093,0.02990574948489666,0.03147387504577637,0.006040378473699093,0.006239921785891056,0.006388932932168245,0.006572991143912077,0.006629799958318472,0.0013332513626664877,0.0013408127706497908,0.00133980973623693,0.0013733271043747663,0.0013735310640186071,0.0002742983924690634,0.00027505221078172326,0.0002722520148381591,0.00027238111943006516,0.0002733141591306776,0.00027243385557085276,0.00027486126055009663,0.0002754836459644139,0.0002744118683040142,0.0002741871867328882],\"y1\":[0.1240056580863893,0.1674518659710884,0.2257224190980196,0.252107753418386,0.3035926539450884,0.2960797967389226,0.32639236375689507,0.3262965874746442,0.33861387614160776,0.34654584899544716,0.060101081151515245,0.06933542294427752,0.07809769990853965,0.08649286581203341,0.09053852269425988,0.01648969843517989,0.016833126719575375,0.017471839499194175,0.018180619284976274,0.018871764186769724,0.003631348692579195,0.0036680072807939723,0.0036412687913980335,0.003722283145179972,0.0037411371886264533,0.0007435570150846615,0.0007412082886730786,0.0007401468283205759,0.0007440249537467025,0.0007429172364936676,0.0007426819829561282,0.0007476282517018262,0.0007481016509700567,0.0007448283431585878,0.000743584972951794]}},\"id\":\"40265219-8425-4b84-8388-4690a550d287\",\"type\":\"ColumnDataSource\"},{\"attributes\":{\"x0\":{\"field\":\"x0\"},\"x1\":{\"field\":\"x1\"},\"y0\":{\"field\":\"y0\"},\"y1\":{\"field\":\"y1\"}},\"id\":\"fe567881-b008-4c97-889c-5bada362b81f\",\"type\":\"Segment\"},{\"attributes\":{\"line_alpha\":{\"value\":0.1},\"line_color\":{\"value\":\"#1f77b4\"},\"x0\":{\"field\":\"x0\"},\"x1\":{\"field\":\"x1\"},\"y0\":{\"field\":\"y0\"},\"y1\":{\"field\":\"y1\"}},\"id\":\"4c047add-ebd3-4cad-81a2-14d00f2e4b88\",\"type\":\"Segment\"},{\"attributes\":{\"callback\":null,\"column_names\":[\"x\",\"top\",\"bottom\"],\"data\":{\"bottom\":[0.18899036752704396,0.2543568121362887,0.3435620204415833,0.3831027312988249,0.45936477688067595,0.4486118020158613,0.4946795033785124,0.4927477630510973,0.5111161130660642,0.5225504881846701,0.08980370687971484,0.10376594611070283,0.11681821924540269,0.12973173321242568,0.13576975480747558,0.024580022673551208,0.025057210908818184,0.026049907547231015,0.027131980786350943,0.02823281007866646,0.005411361542376916,0.005473125539585626,0.0054284257565953755,0.005551957142497791,0.005579435513529781,0.00110774308524974,0.0011037530467046073,0.0011040980271393164,0.0011090600274662194,0.0011071560039384392,0.0011069030585940376,0.0011146173918739305,0.001114767537207554,0.0011090046349949588,0.0011073941761676408],\"top\":[0.1240056580863893,0.1674518659710884,0.2257224190980196,0.252107753418386,0.3035926539450884,0.2960797967389226,0.32639236375689507,0.3262965874746442,0.33861387614160776,0.34654584899544716,0.060101081151515245,0.06933542294427752,0.07809769990853965,0.08649286581203341,0.09053852269425988,0.01648969843517989,0.016833126719575375,0.017471839499194175,0.018180619284976274,0.018871764186769724,0.003631348692579195,0.0036680072807939723,0.0036412687913980335,0.003722283145179972,0.0037411371886264533,0.0007435570150846615,0.0007412082886730786,0.0007401468283205759,0.0007440249537467025,0.0007429172364936676,0.0007426819829561282,0.0007476282517018262,0.0007481016509700567,0.0007448283431585878,0.000743584972951794],\"x\":{\"__ndarray__\":\"AQAAAAIAAAADAAAABAAAAAUAAAAGAAAABwAAAAgAAAAJAAAACgAAAAsAAAAMAAAADQAAAA4AAAAPAAAAEAAAABEAAAASAAAAEwAAABQAAAAVAAAAFgAAABcAAAAYAAAAGQAAABoAAAAbAAAAHAAAAB0AAAAeAAAAHwAAACAAAAAhAAAAIgAAACMAAAA=\",\"dtype\":\"int32\",\"shape\":[35]}}},\"id\":\"f106b3a9-6dbd-4657-bd7d-7531a752849f\",\"type\":\"ColumnDataSource\"},{\"attributes\":{\"source\":{\"id\":\"40265219-8425-4b84-8388-4690a550d287\",\"type\":\"ColumnDataSource\"}},\"id\":\"f5466606-e5c8-4ba9-a1fc-9d8386c19860\",\"type\":\"CDSView\"},{\"attributes\":{\"bottom\":{\"field\":\"bottom\"},\"fill_color\":{\"value\":\"#f03b20\"},\"top\":{\"field\":\"top\"},\"width\":{\"value\":0.25},\"x\":{\"field\":\"x\"}},\"id\":\"a249637f-bc18-4d31-989f-9cc8e6208990\",\"type\":\"VBar\"},{\"attributes\":{\"bottom\":{\"field\":\"bottom\"},\"fill_alpha\":{\"value\":0.1},\"fill_color\":{\"value\":\"#1f77b4\"},\"line_alpha\":{\"value\":0.1},\"line_color\":{\"value\":\"#1f77b4\"},\"top\":{\"field\":\"top\"},\"width\":{\"value\":0.25},\"x\":{\"field\":\"x\"}},\"id\":\"5e5a7b06-9460-4a18-838d-8512f0ac5faf\",\"type\":\"VBar\"},{\"attributes\":{\"plot\":null,\"text\":\"Distance of Workers From Mean\"},\"id\":\"f3fbd085-7b7f-4f5f-a58c-f430c0a50a08\",\"type\":\"Title\"},{\"attributes\":{\"fill_color\":{\"value\":\"#1f77b4\"},\"height\":{\"units\":\"data\",\"value\":1e-05},\"width\":{\"units\":\"data\",\"value\":0.2},\"x\":{\"field\":\"x\"},\"y\":{\"field\":\"y\"}},\"id\":\"7e9be063-57ef-4c8c-94d4-8ebde60c959b\",\"type\":\"Rect\"},{\"attributes\":{\"active_drag\":\"auto\",\"active_inspect\":\"auto\",\"active_scroll\":\"auto\",\"active_tap\":\"auto\",\"tools\":[{\"id\":\"bc80cdcd-b6ba-4a5c-b81a-ee67e96e150b\",\"type\":\"PanTool\"},{\"id\":\"abed85c7-0eaa-47fe-869f-65e154e6e877\",\"type\":\"WheelZoomTool\"},{\"id\":\"1081df15-8e6a-4757-8b85-7a2f89b944e2\",\"type\":\"BoxZoomTool\"},{\"id\":\"2b567a92-df85-4c31-80f1-1f8c971f532a\",\"type\":\"SaveTool\"},{\"id\":\"9695f31b-805f-49f1-82a5-393812000905\",\"type\":\"ResetTool\"},{\"id\":\"ef16dbb0-5a48-4fc3-a68d-9f65b5e8fce6\",\"type\":\"HelpTool\"}]},\"id\":\"72258f78-2cf4-4434-aef0-24cb5744379d\",\"type\":\"Toolbar\"},{\"attributes\":{\"callback\":null,\"column_names\":[\"x\",\"top\",\"bottom\"],\"data\":{\"bottom\":[0.1240056580863893,0.1674518659710884,0.2257224190980196,0.252107753418386,0.3035926539450884,0.2960797967389226,0.32639236375689507,0.3262965874746442,0.33861387614160776,0.34654584899544716,0.060101081151515245,0.06933542294427752,0.07809769990853965,0.08649286581203341,0.09053852269425988,0.01648969843517989,0.016833126719575375,0.017471839499194175,0.018180619284976274,0.018871764186769724,0.003631348692579195,0.0036680072807939723,0.0036412687913980335,0.003722283145179972,0.0037411371886264533,0.0007435570150846615,0.0007412082886730786,0.0007401468283205759,0.0007440249537467025,0.0007429172364936676,0.0007426819829561282,0.0007476282517018262,0.0007481016509700567,0.0007448283431585878,0.000743584972951794],\"top\":[0.05902094864573465,0.08054691980588811,0.10788281775445589,0.12111277553794711,0.14782053100950082,0.14354779146198388,0.15810522413527772,0.15984541189819107,0.16611163921715127,0.17054120980622428,0.03039845542331565,0.03490489977785222,0.03937718057167662,0.04325399841164115,0.04530729058104419,0.008399374196808569,0.008609042530332567,0.008893771451157335,0.009229257783601603,0.009510718294872987,0.0018513358427814741,0.0018628890220023185,0.0018541118262006913,0.0018926091478621526,0.0019028388637231258,0.00037937094491958303,0.00037866353064155,0.00037619562950183533,0.00037898988002718566,0.0003786784690488961,0.0003784609073182187,0.0003806391115297221,0.00038143576473255924,0.00038065205132221675,0.00037977576973594724],\"x\":{\"__ndarray__\":\"AQAAAAIAAAADAAAABAAAAAUAAAAGAAAABwAAAAgAAAAJAAAACgAAAAsAAAAMAAAADQAAAA4AAAAPAAAAEAAAABEAAAASAAAAEwAAABQAAAAVAAAAFgAAABcAAAAYAAAAGQAAABoAAAAbAAAAHAAAAB0AAAAeAAAAHwAAACAAAAAhAAAAIgAAACMAAAA=\",\"dtype\":\"int32\",\"shape\":[35]}}},\"id\":\"634133db-1f17-4aa0-87f5-c71864906e75\",\"type\":\"ColumnDataSource\"},{\"attributes\":{\"background_fill_color\":{\"value\":\"#fafafa\"},\"below\":[{\"id\":\"7cbc96e1-7e5f-47d8-b291-112a2d56399b\",\"type\":\"LinearAxis\"}],\"left\":[{\"id\":\"021ef319-0c83-4ed8-b624-b888ffd0d9f8\",\"type\":\"LinearAxis\"}],\"min_border\":10,\"min_border_left\":50,\"renderers\":[{\"id\":\"7cbc96e1-7e5f-47d8-b291-112a2d56399b\",\"type\":\"LinearAxis\"},{\"id\":\"2ac6e07b-7337-4846-a479-b160e2de0f99\",\"type\":\"Grid\"},{\"id\":\"021ef319-0c83-4ed8-b624-b888ffd0d9f8\",\"type\":\"LinearAxis\"},{\"id\":\"f08ac367-b0df-4fce-8ba0-130dd105fbbf\",\"type\":\"Grid\"},{\"id\":\"c790362e-8f04-466d-abfd-4100dde8065a\",\"type\":\"BoxAnnotation\"},{\"id\":\"31db0633-4c41-44e1-ba43-2b42ed27c0b2\",\"type\":\"GlyphRenderer\"},{\"id\":\"4d28077e-d318-4a7d-8570-a5d56f3aded2\",\"type\":\"GlyphRenderer\"},{\"id\":\"2f86cea1-3e28-478d-8704-343266116773\",\"type\":\"GlyphRenderer\"},{\"id\":\"313de2bf-fa48-464f-af73-dc9d6a356a01\",\"type\":\"GlyphRenderer\"},{\"id\":\"71127ebc-4301-4df2-b578-7fced97d382f\",\"type\":\"GlyphRenderer\"},{\"id\":\"6c66314b-baf1-43e8-b5cf-cc4e2a93e41d\",\"type\":\"GlyphRenderer\"}],\"title\":{\"id\":\"f3fbd085-7b7f-4f5f-a58c-f430c0a50a08\",\"type\":\"Title\"},\"toolbar\":{\"id\":\"72258f78-2cf4-4434-aef0-24cb5744379d\",\"type\":\"Toolbar\"},\"x_range\":{\"id\":\"54cf9e1a-45aa-445d-901d-fba891adde10\",\"type\":\"DataRange1d\"},\"x_scale\":{\"id\":\"f73ce06f-b48f-4a26-b838-a210c39aa222\",\"type\":\"LinearScale\"},\"y_range\":{\"id\":\"5fd03f1a-4e08-470f-b751-6b878ca042a1\",\"type\":\"DataRange1d\"},\"y_scale\":{\"id\":\"3eb2be3d-a135-4a0f-8cb6-d1d9e273c571\",\"type\":\"LinearScale\"}},\"id\":\"81156095-09b1-46a7-9daa-0a6addcd696c\",\"subtype\":\"Figure\",\"type\":\"Plot\"},{\"attributes\":{\"data_source\":{\"id\":\"f106b3a9-6dbd-4657-bd7d-7531a752849f\",\"type\":\"ColumnDataSource\"},\"glyph\":{\"id\":\"76392500-a698-40cc-ae46-9e0068cf2311\",\"type\":\"VBar\"},\"hover_glyph\":null,\"muted_glyph\":null,\"nonselection_glyph\":{\"id\":\"5e5a7b06-9460-4a18-838d-8512f0ac5faf\",\"type\":\"VBar\"},\"selection_glyph\":null,\"view\":{\"id\":\"78c5d706-bb7d-476a-8f59-94cfc474b3e2\",\"type\":\"CDSView\"}},\"id\":\"2f86cea1-3e28-478d-8704-343266116773\",\"type\":\"GlyphRenderer\"},{\"attributes\":{\"source\":{\"id\":\"f106b3a9-6dbd-4657-bd7d-7531a752849f\",\"type\":\"ColumnDataSource\"}},\"id\":\"78c5d706-bb7d-476a-8f59-94cfc474b3e2\",\"type\":\"CDSView\"},{\"attributes\":{\"source\":{\"id\":\"1a47a2b3-7dbb-4736-8e29-9b0d223cb42c\",\"type\":\"ColumnDataSource\"}},\"id\":\"400ea4b7-b7cf-41fd-a6b3-80e67fcd0eb3\",\"type\":\"CDSView\"},{\"attributes\":{\"source\":{\"id\":\"634133db-1f17-4aa0-87f5-c71864906e75\",\"type\":\"ColumnDataSource\"}},\"id\":\"39eff536-b490-4107-975e-eeaa5f201eb6\",\"type\":\"CDSView\"},{\"attributes\":{\"callback\":null,\"column_names\":[\"x\",\"y\"],\"data\":{\"x\":{\"__ndarray__\":\"AQAAAAIAAAADAAAABAAAAAUAAAAGAAAABwAAAAgAAAAJAAAACgAAAAsAAAAMAAAADQAAAA4AAAAPAAAAEAAAABEAAAASAAAAEwAAABQAAAAVAAAAFgAAABcAAAAYAAAAGQAAABoAAAAbAAAAHAAAAB0AAAAeAAAAHwAAACAAAAAhAAAAIgAAACMAAAA=\",\"dtype\":\"int32\",\"shape\":[35]},\"y\":[0.2134060561656952,0.28602510690689087,0.38572075963020325,0.4335162937641144,0.5313575267791748,0.5080752968788147,0.5565164089202881,0.5599290132522583,0.5815010666847229,0.5939352512359619,0.10358818620443344,0.11873359233140945,0.1330367624759674,0.14995348453521729,0.15664346516132355,0.028399653732776642,0.028807172551751137,0.03010278381407261,0.0313519723713398,0.03223137557506561,0.006255067884922028,0.006309180520474911,0.006241990718990564,0.006442476063966751,0.006466650404036045,0.0012764979619532824,0.001273607020266354,0.0012784968130290508,0.001282763434574008,0.0012785757426172495,0.0012711681192740798,0.0012875879183411598,0.0012886454351246357,0.0012801408302038908,0.0012763846898451447]}},\"id\":\"999e16d5-643f-481d-b967-5d543726f780\",\"type\":\"ColumnDataSource\"},{\"attributes\":{\"bottom\":{\"field\":\"bottom\"},\"fill_alpha\":{\"value\":0.1},\"fill_color\":{\"value\":\"#1f77b4\"},\"line_alpha\":{\"value\":0.1},\"line_color\":{\"value\":\"#1f77b4\"},\"top\":{\"field\":\"top\"},\"width\":{\"value\":0.25},\"x\":{\"field\":\"x\"}},\"id\":\"cbfedd56-6adb-4d0c-a377-87369bd2c6f2\",\"type\":\"VBar\"},{\"attributes\":{\"data_source\":{\"id\":\"634133db-1f17-4aa0-87f5-c71864906e75\",\"type\":\"ColumnDataSource\"},\"glyph\":{\"id\":\"a249637f-bc18-4d31-989f-9cc8e6208990\",\"type\":\"VBar\"},\"hover_glyph\":null,\"muted_glyph\":null,\"nonselection_glyph\":{\"id\":\"cbfedd56-6adb-4d0c-a377-87369bd2c6f2\",\"type\":\"VBar\"},\"selection_glyph\":null,\"view\":{\"id\":\"39eff536-b490-4107-975e-eeaa5f201eb6\",\"type\":\"CDSView\"}},\"id\":\"313de2bf-fa48-464f-af73-dc9d6a356a01\",\"type\":\"GlyphRenderer\"},{\"attributes\":{\"fill_color\":{\"value\":\"#1f77b4\"},\"height\":{\"units\":\"data\",\"value\":1e-05},\"width\":{\"units\":\"data\",\"value\":0.2},\"x\":{\"field\":\"x\"},\"y\":{\"field\":\"y\"}},\"id\":\"864747fc-f8ef-43ba-bdf6-8c02e2283a32\",\"type\":\"Rect\"},{\"attributes\":{},\"id\":\"3eb2be3d-a135-4a0f-8cb6-d1d9e273c571\",\"type\":\"LinearScale\"},{\"attributes\":{\"source\":{\"id\":\"999e16d5-643f-481d-b967-5d543726f780\",\"type\":\"ColumnDataSource\"}},\"id\":\"55062b7f-1c92-4e84-8ded-a66f7e108a3f\",\"type\":\"CDSView\"},{\"attributes\":{},\"id\":\"f73ce06f-b48f-4a26-b838-a210c39aa222\",\"type\":\"LinearScale\"},{\"attributes\":{\"callback\":null,\"column_names\":[\"x\",\"y\"],\"data\":{\"x\":{\"__ndarray__\":\"AQAAAAIAAAADAAAABAAAAAUAAAAGAAAABwAAAAgAAAAJAAAACgAAAAsAAAAMAAAADQAAAA4AAAAPAAAAEAAAABEAAAASAAAAEwAAABQAAAAVAAAAFgAAABcAAAAYAAAAGQAAABoAAAAbAAAAHAAAAB0AAAAeAAAAHwAAACAAAAAhAAAAIgAAACMAAAA=\",\"dtype\":\"int32\",\"shape\":[35]},\"y\":[0.0370306596159935,0.051575593650341034,0.06852219253778458,0.0754082053899765,0.09414427727460861,0.09509574621915817,0.10275616496801376,0.10850945115089417,0.11319088190793991,0.11559221148490906,0.02180950716137886,0.024603888392448425,0.027675462886691093,0.02990574948489666,0.03147387504577637,0.006040378473699093,0.006239921785891056,0.006388932932168245,0.006572991143912077,0.006629799958318472,0.0013332513626664877,0.0013408127706497908,0.00133980973623693,0.0013733271043747663,0.0013735310640186071,0.0002742983924690634,0.00027505221078172326,0.0002722520148381591,0.00027238111943006516,0.0002733141591306776,0.00027243385557085276,0.00027486126055009663,0.0002754836459644139,0.0002744118683040142,0.0002741871867328882]}},\"id\":\"1a47a2b3-7dbb-4736-8e29-9b0d223cb42c\",\"type\":\"ColumnDataSource\"},{\"attributes\":{\"callback\":null},\"id\":\"5fd03f1a-4e08-470f-b751-6b878ca042a1\",\"type\":\"DataRange1d\"},{\"attributes\":{\"fill_alpha\":{\"value\":0.1},\"fill_color\":{\"value\":\"#1f77b4\"},\"height\":{\"units\":\"data\",\"value\":1e-05},\"line_alpha\":{\"value\":0.1},\"line_color\":{\"value\":\"#1f77b4\"},\"width\":{\"units\":\"data\",\"value\":0.2},\"x\":{\"field\":\"x\"},\"y\":{\"field\":\"y\"}},\"id\":\"6301a285-1c7d-48b2-9206-0af5a80d9d41\",\"type\":\"Rect\"},{\"attributes\":{\"data_source\":{\"id\":\"999e16d5-643f-481d-b967-5d543726f780\",\"type\":\"ColumnDataSource\"},\"glyph\":{\"id\":\"7e9be063-57ef-4c8c-94d4-8ebde60c959b\",\"type\":\"Rect\"},\"hover_glyph\":null,\"muted_glyph\":null,\"nonselection_glyph\":{\"id\":\"6301a285-1c7d-48b2-9206-0af5a80d9d41\",\"type\":\"Rect\"},\"selection_glyph\":null,\"view\":{\"id\":\"55062b7f-1c92-4e84-8ded-a66f7e108a3f\",\"type\":\"CDSView\"}},\"id\":\"71127ebc-4301-4df2-b578-7fced97d382f\",\"type\":\"GlyphRenderer\"},{\"attributes\":{\"plot\":{\"id\":\"81156095-09b1-46a7-9daa-0a6addcd696c\",\"subtype\":\"Figure\",\"type\":\"Plot\"},\"ticker\":{\"id\":\"f1d0e222-c7c6-4203-bce2-9a75ffbdba9a\",\"type\":\"BasicTicker\"}},\"id\":\"2ac6e07b-7337-4846-a479-b160e2de0f99\",\"type\":\"Grid\"},{\"attributes\":{\"dimension\":1,\"plot\":{\"id\":\"81156095-09b1-46a7-9daa-0a6addcd696c\",\"subtype\":\"Figure\",\"type\":\"Plot\"},\"ticker\":{\"id\":\"f59e87a3-3509-4d22-8a60-542be7fbbdf7\",\"type\":\"BasicTicker\"}},\"id\":\"f08ac367-b0df-4fce-8ba0-130dd105fbbf\",\"type\":\"Grid\"},{\"attributes\":{},\"id\":\"f1d0e222-c7c6-4203-bce2-9a75ffbdba9a\",\"type\":\"BasicTicker\"},{\"attributes\":{\"axis_label\":\"t [Epochs]\",\"formatter\":{\"id\":\"21a8ca18-4636-46c7-890c-fbaacb127bef\",\"type\":\"BasicTickFormatter\"},\"plot\":{\"id\":\"81156095-09b1-46a7-9daa-0a6addcd696c\",\"subtype\":\"Figure\",\"type\":\"Plot\"},\"ticker\":{\"id\":\"f1d0e222-c7c6-4203-bce2-9a75ffbdba9a\",\"type\":\"BasicTicker\"}},\"id\":\"7cbc96e1-7e5f-47d8-b291-112a2d56399b\",\"type\":\"LinearAxis\"},{\"attributes\":{},\"id\":\"f59e87a3-3509-4d22-8a60-542be7fbbdf7\",\"type\":\"BasicTicker\"},{\"attributes\":{\"fill_alpha\":{\"value\":0.1},\"fill_color\":{\"value\":\"#1f77b4\"},\"height\":{\"units\":\"data\",\"value\":1e-05},\"line_alpha\":{\"value\":0.1},\"line_color\":{\"value\":\"#1f77b4\"},\"width\":{\"units\":\"data\",\"value\":0.2},\"x\":{\"field\":\"x\"},\"y\":{\"field\":\"y\"}},\"id\":\"d799d8a0-73ee-49bf-b024-d8339de1e0d7\",\"type\":\"Rect\"},{\"attributes\":{\"axis_label\":\"Distance\",\"formatter\":{\"id\":\"4eecdc9d-34ab-496a-bf51-204e5ebd379a\",\"type\":\"BasicTickFormatter\"},\"plot\":{\"id\":\"81156095-09b1-46a7-9daa-0a6addcd696c\",\"subtype\":\"Figure\",\"type\":\"Plot\"},\"ticker\":{\"id\":\"f59e87a3-3509-4d22-8a60-542be7fbbdf7\",\"type\":\"BasicTicker\"}},\"id\":\"021ef319-0c83-4ed8-b624-b888ffd0d9f8\",\"type\":\"LinearAxis\"},{\"attributes\":{\"data_source\":{\"id\":\"1a47a2b3-7dbb-4736-8e29-9b0d223cb42c\",\"type\":\"ColumnDataSource\"},\"glyph\":{\"id\":\"864747fc-f8ef-43ba-bdf6-8c02e2283a32\",\"type\":\"Rect\"},\"hover_glyph\":null,\"muted_glyph\":null,\"nonselection_glyph\":{\"id\":\"d799d8a0-73ee-49bf-b024-d8339de1e0d7\",\"type\":\"Rect\"},\"selection_glyph\":null,\"view\":{\"id\":\"400ea4b7-b7cf-41fd-a6b3-80e67fcd0eb3\",\"type\":\"CDSView\"}},\"id\":\"6c66314b-baf1-43e8-b5cf-cc4e2a93e41d\",\"type\":\"GlyphRenderer\"},{\"attributes\":{},\"id\":\"bc80cdcd-b6ba-4a5c-b81a-ee67e96e150b\",\"type\":\"PanTool\"}],\"root_ids\":[\"81156095-09b1-46a7-9daa-0a6addcd696c\"]},\"title\":\"Bokeh Application\",\"version\":\"0.12.13\"}};\n",
       "  var render_items = [{\"docid\":\"1d302ac1-ba5f-4508-8657-95a47ed2a29e\",\"elementid\":\"7b6d9373-5a7d-433f-9687-00a60bbcb9f3\",\"modelid\":\"81156095-09b1-46a7-9daa-0a6addcd696c\"}];\n",
       "  root.Bokeh.embed.embed_items_notebook(docs_json, render_items);\n",
       "\n",
       "  }\n",
       "  if (root.Bokeh !== undefined) {\n",
       "    embed_document(root);\n",
       "  } else {\n",
       "    var attempts = 0;\n",
       "    var timer = setInterval(function(root) {\n",
       "      if (root.Bokeh !== undefined) {\n",
       "        embed_document(root);\n",
       "        clearInterval(timer);\n",
       "      }\n",
       "      attempts++;\n",
       "      if (attempts > 100) {\n",
       "        console.log(\"Bokeh: ERROR: Unable to run BokehJS code because BokehJS library is missing\")\n",
       "        clearInterval(timer);\n",
       "      }\n",
       "    }, 10, root)\n",
       "  }\n",
       "})(window);"
      ],
      "application/vnd.bokehjs_exec.v0+json": ""
     },
     "metadata": {
      "application/vnd.bokehjs_exec.v0+json": {
       "id": "81156095-09b1-46a7-9daa-0a6addcd696c"
      }
     },
     "output_type": "display_data"
    }
   ],
   "source": [
    "show(plots[4])"
   ]
  },
  {
   "cell_type": "code",
   "execution_count": 8,
   "metadata": {},
   "outputs": [
    {
     "data": {
      "text/html": [
       "\n",
       "<div class=\"bk-root\">\n",
       "    <div class=\"bk-plotdiv\" id=\"3cd9dd58-a08b-4daa-a006-fd04c1db57cc\"></div>\n",
       "</div>"
      ]
     },
     "metadata": {},
     "output_type": "display_data"
    },
    {
     "data": {
      "application/javascript": [
       "(function(root) {\n",
       "  function embed_document(root) {\n",
       "    \n",
       "  var docs_json = {\"f0f8dc30-210c-4313-b325-fdcf38b0dbbd\":{\"roots\":{\"references\":[{\"attributes\":{\"bottom\":{\"field\":\"bottom\"},\"fill_color\":{\"value\":\"#084594\"},\"top\":{\"field\":\"top\"},\"width\":{\"value\":0.25},\"x\":{\"field\":\"x\"}},\"id\":\"c5f2e652-b13c-4b51-b180-712587e8ac27\",\"type\":\"VBar\"},{\"attributes\":{\"line_alpha\":{\"value\":0.1},\"line_color\":{\"value\":\"#1f77b4\"},\"x0\":{\"field\":\"x0\"},\"x1\":{\"field\":\"x1\"},\"y0\":{\"field\":\"y0\"},\"y1\":{\"field\":\"y1\"}},\"id\":\"d0e413c6-5ed9-42f0-ab46-f3e9150161e7\",\"type\":\"Segment\"},{\"attributes\":{\"data_source\":{\"id\":\"72bb8b9c-15ff-45b7-9b4a-8a2a11d1e903\",\"type\":\"ColumnDataSource\"},\"glyph\":{\"id\":\"cc0ddb3d-1648-458b-b9b2-f7ff86be1c2c\",\"type\":\"Segment\"},\"hover_glyph\":null,\"muted_glyph\":null,\"nonselection_glyph\":{\"id\":\"d0e413c6-5ed9-42f0-ab46-f3e9150161e7\",\"type\":\"Segment\"},\"selection_glyph\":null,\"view\":{\"id\":\"01d4ec32-fe4e-4e90-b912-bfba030de3a9\",\"type\":\"CDSView\"}},\"id\":\"56b8a011-693e-41ff-ad0f-aafc5b3c4206\",\"type\":\"GlyphRenderer\"},{\"attributes\":{\"source\":{\"id\":\"72bb8b9c-15ff-45b7-9b4a-8a2a11d1e903\",\"type\":\"ColumnDataSource\"}},\"id\":\"01d4ec32-fe4e-4e90-b912-bfba030de3a9\",\"type\":\"CDSView\"},{\"attributes\":{\"bottom\":{\"field\":\"bottom\"},\"fill_color\":{\"value\":\"#f03b20\"},\"top\":{\"field\":\"top\"},\"width\":{\"value\":0.25},\"x\":{\"field\":\"x\"}},\"id\":\"113a7518-b9e0-438f-9ac5-7596b55bf74c\",\"type\":\"VBar\"},{\"attributes\":{\"callback\":null,\"column_names\":[\"x\",\"top\",\"bottom\"],\"data\":{\"bottom\":[0.3521955148213687,0.4720799120310598,0.6376940699071897,0.7072303472658263,0.8676061166543735,0.8364363889253235,0.9185793108419494,0.9201640565365038,0.9548027860698463,0.9753870175281114,0.16886241878380365,0.19420846181114837,0.21824170911423713,0.24444649969927731,0.255480906610211,0.04624993835609723,0.04701870287034583,0.04901621277767397,0.05107268492692571,0.052751153512835325,0.010180129517601375,0.0102822991480669,0.010189484034765446,0.010467577945032149,0.010511059529849445,0.002081356273135196,0.0020749314943021317,0.00207813564628744,0.0020878604139415225,0.0020818862787697,0.0020771422384920184,0.0020963299119459104,0.0020974615222526904,0.0020859343039615064,0.0020804213603997086],\"top\":[0.21560551784932613,0.28939779195934534,0.39057719707489014,0.43264214135706425,0.5396426972001791,0.5163428504019976,0.5657535213977098,0.5704110488295555,0.593020748347044,0.6063123662024736,0.1064271260984242,0.12192423176020384,0.136347574647516,0.1535251922905445,0.16048960015177727,0.029223126242868602,0.02965197595767677,0.030978478025645018,0.03222209063824266,0.03313176881056279,0.006443482852773741,0.006493117776699364,0.006418068980565295,0.006634409219259396,0.006661205989075825,0.0013135515328031033,0.0013115233450662345,0.0013178991721360944,0.0013202547561377287,0.001316815170866903,0.0013058048352831975,0.0013258260732982308,0.0013271369534777477,0.001317357069638092,0.0013143808755557984],\"x\":{\"__ndarray__\":\"AQAAAAIAAAADAAAABAAAAAUAAAAGAAAABwAAAAgAAAAJAAAACgAAAAsAAAAMAAAADQAAAA4AAAAPAAAAEAAAABEAAAASAAAAEwAAABQAAAAVAAAAFgAAABcAAAAYAAAAGQAAABoAAAAbAAAAHAAAAB0AAAAeAAAAHwAAACAAAAAhAAAAIgAAACMAAAA=\",\"dtype\":\"int32\",\"shape\":[35]}}},\"id\":\"64ed7c18-366b-4c6c-b7aa-2a07afd74dc6\",\"type\":\"ColumnDataSource\"},{\"attributes\":{},\"id\":\"a7de25c6-82e8-4cd1-a725-556386473917\",\"type\":\"LinearScale\"},{\"attributes\":{},\"id\":\"abf95987-301f-4e5e-b723-e8c0aa1611c8\",\"type\":\"LinearScale\"},{\"attributes\":{\"bottom\":{\"field\":\"bottom\"},\"fill_alpha\":{\"value\":0.1},\"fill_color\":{\"value\":\"#1f77b4\"},\"line_alpha\":{\"value\":0.1},\"line_color\":{\"value\":\"#1f77b4\"},\"top\":{\"field\":\"top\"},\"width\":{\"value\":0.25},\"x\":{\"field\":\"x\"}},\"id\":\"cc3219f8-daa8-44c5-afae-cc7cd6d73b13\",\"type\":\"VBar\"},{\"attributes\":{\"fill_color\":{\"value\":\"#1f77b4\"},\"height\":{\"units\":\"data\",\"value\":1e-05},\"width\":{\"units\":\"data\",\"value\":0.2},\"x\":{\"field\":\"x\"},\"y\":{\"field\":\"y\"}},\"id\":\"c340dc81-7944-4e4e-bad5-a9f661a6375d\",\"type\":\"Rect\"},{\"attributes\":{\"plot\":{\"id\":\"192ee439-9c87-48b2-8607-5a107539a28f\",\"subtype\":\"Figure\",\"type\":\"Plot\"},\"ticker\":{\"id\":\"91515cd1-9f8f-430c-b426-0d76c88fbede\",\"type\":\"BasicTicker\"}},\"id\":\"0830ca71-c46e-4844-af97-a53f550d94b6\",\"type\":\"Grid\"},{\"attributes\":{\"callback\":null,\"column_names\":[\"x\",\"top\",\"bottom\"],\"data\":{\"bottom\":[0.21560551784932613,0.28939779195934534,0.39057719707489014,0.43264214135706425,0.5396426972001791,0.5163428504019976,0.5657535213977098,0.5704110488295555,0.593020748347044,0.6063123662024736,0.1064271260984242,0.12192423176020384,0.136347574647516,0.1535251922905445,0.16048960015177727,0.029223126242868602,0.02965197595767677,0.030978478025645018,0.03222209063824266,0.03313176881056279,0.006443482852773741,0.006493117776699364,0.006418068980565295,0.006634409219259396,0.006661205989075825,0.0013135515328031033,0.0013115233450662345,0.0013178991721360944,0.0013202547561377287,0.001316815170866903,0.0013058048352831975,0.0013258260732982308,0.0013271369534777477,0.001317357069638092,0.0013143808755557984],\"top\":[0.07901552087728361,0.10671567188763084,0.14346032424259061,0.1580539354483021,0.21167927774598472,0.19624931187867167,0.21292773195347026,0.22065804112260723,0.23123871062424178,0.23723771487683581,0.04399183341304474,0.04964000170925931,0.054453440180794885,0.0626038848818117,0.06549829369334352,0.012196314129639972,0.0122852490450077,0.012940743273616061,0.01337149634955961,0.01351238410829025,0.0027068361879461077,0.002703936405331828,0.0026466539263651436,0.002801240493486644,0.002811352448302203,0.000545746792471011,0.0005481151958303372,0.0005576626979847489,0.0005526490983339349,0.000551744062964106,0.0005344674320743766,0.0005553222346505511,0.0005568123847028052,0.000548779835314678,0.0005483403907118882],\"x\":{\"__ndarray__\":\"AQAAAAIAAAADAAAABAAAAAUAAAAGAAAABwAAAAgAAAAJAAAACgAAAAsAAAAMAAAADQAAAA4AAAAPAAAAEAAAABEAAAASAAAAEwAAABQAAAAVAAAAFgAAABcAAAAYAAAAGQAAABoAAAAbAAAAHAAAAB0AAAAeAAAAHwAAACAAAAAhAAAAIgAAACMAAAA=\",\"dtype\":\"int32\",\"shape\":[35]}}},\"id\":\"f433c85d-754a-4b4f-a50a-6fcb929abefb\",\"type\":\"ColumnDataSource\"},{\"attributes\":{\"dimension\":1,\"plot\":{\"id\":\"192ee439-9c87-48b2-8607-5a107539a28f\",\"subtype\":\"Figure\",\"type\":\"Plot\"},\"ticker\":{\"id\":\"b56ca38b-d6de-4ed2-884e-9839fcf7116e\",\"type\":\"BasicTicker\"}},\"id\":\"09c5372a-1e3e-4751-a6a5-666484dd82f2\",\"type\":\"Grid\"},{\"attributes\":{\"data_source\":{\"id\":\"64ed7c18-366b-4c6c-b7aa-2a07afd74dc6\",\"type\":\"ColumnDataSource\"},\"glyph\":{\"id\":\"c5f2e652-b13c-4b51-b180-712587e8ac27\",\"type\":\"VBar\"},\"hover_glyph\":null,\"muted_glyph\":null,\"nonselection_glyph\":{\"id\":\"cc3219f8-daa8-44c5-afae-cc7cd6d73b13\",\"type\":\"VBar\"},\"selection_glyph\":null,\"view\":{\"id\":\"edd63b9a-d601-4163-a30a-fd41da4e3a1b\",\"type\":\"CDSView\"}},\"id\":\"72694136-1b5e-4ad9-9f66-eff0df8818e9\",\"type\":\"GlyphRenderer\"},{\"attributes\":{},\"id\":\"91515cd1-9f8f-430c-b426-0d76c88fbede\",\"type\":\"BasicTicker\"},{\"attributes\":{\"source\":{\"id\":\"64ed7c18-366b-4c6c-b7aa-2a07afd74dc6\",\"type\":\"ColumnDataSource\"}},\"id\":\"edd63b9a-d601-4163-a30a-fd41da4e3a1b\",\"type\":\"CDSView\"},{\"attributes\":{\"axis_label\":\"t [Epochs]\",\"formatter\":{\"id\":\"9bd2a231-52bb-4d29-81b7-cdfd5dad664f\",\"type\":\"BasicTickFormatter\"},\"plot\":{\"id\":\"192ee439-9c87-48b2-8607-5a107539a28f\",\"subtype\":\"Figure\",\"type\":\"Plot\"},\"ticker\":{\"id\":\"91515cd1-9f8f-430c-b426-0d76c88fbede\",\"type\":\"BasicTicker\"}},\"id\":\"fd187ee9-7225-4d66-ba21-66f5e3735c85\",\"type\":\"LinearAxis\"},{\"attributes\":{\"source\":{\"id\":\"364971e4-3624-4b4e-bcfc-65c17fb7a375\",\"type\":\"ColumnDataSource\"}},\"id\":\"aa8b3490-320b-40f9-8663-2199dc3d0b57\",\"type\":\"CDSView\"},{\"attributes\":{},\"id\":\"b56ca38b-d6de-4ed2-884e-9839fcf7116e\",\"type\":\"BasicTicker\"},{\"attributes\":{\"source\":{\"id\":\"f433c85d-754a-4b4f-a50a-6fcb929abefb\",\"type\":\"ColumnDataSource\"}},\"id\":\"6f0f056e-6971-497b-90b3-4c0f90006fde\",\"type\":\"CDSView\"},{\"attributes\":{\"axis_label\":\"Distance\",\"formatter\":{\"id\":\"a36d9b7e-22b2-4870-91e7-d03a1152f8a4\",\"type\":\"BasicTickFormatter\"},\"plot\":{\"id\":\"192ee439-9c87-48b2-8607-5a107539a28f\",\"subtype\":\"Figure\",\"type\":\"Plot\"},\"ticker\":{\"id\":\"b56ca38b-d6de-4ed2-884e-9839fcf7116e\",\"type\":\"BasicTicker\"}},\"id\":\"a939604a-f301-464c-a002-7276b868a6c3\",\"type\":\"LinearAxis\"},{\"attributes\":{\"callback\":null,\"column_names\":[\"x\",\"y\"],\"data\":{\"x\":{\"__ndarray__\":\"AQAAAAIAAAADAAAABAAAAAUAAAAGAAAABwAAAAgAAAAJAAAACgAAAAsAAAAMAAAADQAAAA4AAAAPAAAAEAAAABEAAAASAAAAEwAAABQAAAAVAAAAFgAAABcAAAAYAAAAGQAAABoAAAAbAAAAHAAAAB0AAAAeAAAAHwAAACAAAAAhAAAAIgAAACMAAAA=\",\"dtype\":\"int32\",\"shape\":[35]},\"y\":[0.41966715455055237,0.5646703243255615,0.7625539898872375,0.850074291229248,1.0177000761032104,0.9952133893966675,1.0968170166015625,1.0913516283035278,1.1315990686416626,1.156298041343689,0.19783683121204376,0.22861802577972412,0.2573328912258148,0.2863488495349884,0.29963430762290955,0.05406299978494644,0.055074725300073624,0.05730221047997475,0.05966852232813835,0.062237225472927094,0.011892571114003658,0.01204998604953289,0.011950157582759857,0.012221965938806534,0.012271690182387829,0.0024355424102395773,0.002426647813990712,0.002428589388728142,0.002439032308757305,0.0024329645093530416,0.002436770126223564,0.0024519702419638634,0.0024499036371707916,0.0024383559357374907,0.0024348481092602015]}},\"id\":\"05040ddb-28d8-4bc8-8313-31e21e696eac\",\"type\":\"ColumnDataSource\"},{\"attributes\":{\"bottom\":{\"field\":\"bottom\"},\"fill_alpha\":{\"value\":0.1},\"fill_color\":{\"value\":\"#1f77b4\"},\"line_alpha\":{\"value\":0.1},\"line_color\":{\"value\":\"#1f77b4\"},\"top\":{\"field\":\"top\"},\"width\":{\"value\":0.25},\"x\":{\"field\":\"x\"}},\"id\":\"0ec31c63-973f-4c97-9911-616199decc1c\",\"type\":\"VBar\"},{\"attributes\":{\"data_source\":{\"id\":\"f433c85d-754a-4b4f-a50a-6fcb929abefb\",\"type\":\"ColumnDataSource\"},\"glyph\":{\"id\":\"113a7518-b9e0-438f-9ac5-7596b55bf74c\",\"type\":\"VBar\"},\"hover_glyph\":null,\"muted_glyph\":null,\"nonselection_glyph\":{\"id\":\"0ec31c63-973f-4c97-9911-616199decc1c\",\"type\":\"VBar\"},\"selection_glyph\":null,\"view\":{\"id\":\"6f0f056e-6971-497b-90b3-4c0f90006fde\",\"type\":\"CDSView\"}},\"id\":\"b16da37b-506b-4e0e-8a2c-142cc57063a5\",\"type\":\"GlyphRenderer\"},{\"attributes\":{\"fill_color\":{\"value\":\"#1f77b4\"},\"height\":{\"units\":\"data\",\"value\":1e-05},\"width\":{\"units\":\"data\",\"value\":0.2},\"x\":{\"field\":\"x\"},\"y\":{\"field\":\"y\"}},\"id\":\"b8a94c5b-99ca-47c5-925b-82bf53683a67\",\"type\":\"Rect\"},{\"attributes\":{\"bottom_units\":\"screen\",\"fill_alpha\":{\"value\":0.5},\"fill_color\":{\"value\":\"lightgrey\"},\"left_units\":\"screen\",\"level\":\"overlay\",\"line_alpha\":{\"value\":1.0},\"line_color\":{\"value\":\"black\"},\"line_dash\":[4,4],\"line_width\":{\"value\":2},\"plot\":null,\"render_mode\":\"css\",\"right_units\":\"screen\",\"top_units\":\"screen\"},\"id\":\"10899240-4d89-4feb-83f7-beb4381d2e56\",\"type\":\"BoxAnnotation\"},{\"attributes\":{\"source\":{\"id\":\"05040ddb-28d8-4bc8-8313-31e21e696eac\",\"type\":\"ColumnDataSource\"}},\"id\":\"dc98b55f-aa20-4b28-ab40-dca7e9bc3fb1\",\"type\":\"CDSView\"},{\"attributes\":{},\"id\":\"2cca4d2f-66f6-4703-9738-b8f26b90c580\",\"type\":\"PanTool\"},{\"attributes\":{\"callback\":null,\"column_names\":[\"x\",\"y\"],\"data\":{\"x\":{\"__ndarray__\":\"AQAAAAIAAAADAAAABAAAAAUAAAAGAAAABwAAAAgAAAAJAAAACgAAAAsAAAAMAAAADQAAAA4AAAAPAAAAEAAAABEAAAASAAAAEwAAABQAAAAVAAAAFgAAABcAAAAYAAAAGQAAABoAAAAbAAAAHAAAAB0AAAAeAAAAHwAAACAAAAAhAAAAIgAAACMAAAA=\",\"dtype\":\"int32\",\"shape\":[35]},\"y\":[0.0,0.0,0.0,0.0,0.0,0.0,0.0,0.0,0.0,0.0,0.0,0.0,0.0,0.0,0.0,0.0,0.0,0.0,0.0,0.0,0.0,0.0,0.0,0.0,0.0,0.0,0.0,0.0,0.0,0.0,0.0,0.0,0.0,0.0,0.0]}},\"id\":\"364971e4-3624-4b4e-bcfc-65c17fb7a375\",\"type\":\"ColumnDataSource\"},{\"attributes\":{\"fill_alpha\":{\"value\":0.1},\"fill_color\":{\"value\":\"#1f77b4\"},\"height\":{\"units\":\"data\",\"value\":1e-05},\"line_alpha\":{\"value\":0.1},\"line_color\":{\"value\":\"#1f77b4\"},\"width\":{\"units\":\"data\",\"value\":0.2},\"x\":{\"field\":\"x\"},\"y\":{\"field\":\"y\"}},\"id\":\"47139441-50e0-4978-9a25-322bf715d75a\",\"type\":\"Rect\"},{\"attributes\":{\"data_source\":{\"id\":\"05040ddb-28d8-4bc8-8313-31e21e696eac\",\"type\":\"ColumnDataSource\"},\"glyph\":{\"id\":\"c340dc81-7944-4e4e-bad5-a9f661a6375d\",\"type\":\"Rect\"},\"hover_glyph\":null,\"muted_glyph\":null,\"nonselection_glyph\":{\"id\":\"47139441-50e0-4978-9a25-322bf715d75a\",\"type\":\"Rect\"},\"selection_glyph\":null,\"view\":{\"id\":\"dc98b55f-aa20-4b28-ab40-dca7e9bc3fb1\",\"type\":\"CDSView\"}},\"id\":\"56bb3782-ddca-4762-84b4-a0fbccbdbf81\",\"type\":\"GlyphRenderer\"},{\"attributes\":{},\"id\":\"b81b4531-a27b-4846-a42d-2917c0d10df6\",\"type\":\"WheelZoomTool\"},{\"attributes\":{\"overlay\":{\"id\":\"10899240-4d89-4feb-83f7-beb4381d2e56\",\"type\":\"BoxAnnotation\"}},\"id\":\"2259420e-28aa-4932-87ab-81f8c6086a92\",\"type\":\"BoxZoomTool\"},{\"attributes\":{},\"id\":\"409ea8c6-d5ba-484e-b49c-ae3ff9f5c0d8\",\"type\":\"SaveTool\"},{\"attributes\":{},\"id\":\"65cc7c2b-1ea4-4ece-b106-d1e29d3b79c7\",\"type\":\"ResetTool\"},{\"attributes\":{},\"id\":\"8bc781d3-4420-4aa9-82f0-6aad41d9576f\",\"type\":\"HelpTool\"},{\"attributes\":{\"fill_alpha\":{\"value\":0.1},\"fill_color\":{\"value\":\"#1f77b4\"},\"height\":{\"units\":\"data\",\"value\":1e-05},\"line_alpha\":{\"value\":0.1},\"line_color\":{\"value\":\"#1f77b4\"},\"width\":{\"units\":\"data\",\"value\":0.2},\"x\":{\"field\":\"x\"},\"y\":{\"field\":\"y\"}},\"id\":\"f0dfda38-5404-46ab-935d-e43bd7a193d3\",\"type\":\"Rect\"},{\"attributes\":{\"data_source\":{\"id\":\"364971e4-3624-4b4e-bcfc-65c17fb7a375\",\"type\":\"ColumnDataSource\"},\"glyph\":{\"id\":\"b8a94c5b-99ca-47c5-925b-82bf53683a67\",\"type\":\"Rect\"},\"hover_glyph\":null,\"muted_glyph\":null,\"nonselection_glyph\":{\"id\":\"f0dfda38-5404-46ab-935d-e43bd7a193d3\",\"type\":\"Rect\"},\"selection_glyph\":null,\"view\":{\"id\":\"aa8b3490-320b-40f9-8663-2199dc3d0b57\",\"type\":\"CDSView\"}},\"id\":\"e6996430-b686-4df1-9335-62c788183141\",\"type\":\"GlyphRenderer\"},{\"attributes\":{\"x0\":{\"field\":\"x0\"},\"x1\":{\"field\":\"x1\"},\"y0\":{\"field\":\"y0\"},\"y1\":{\"field\":\"y1\"}},\"id\":\"cc0ddb3d-1648-458b-b9b2-f7ff86be1c2c\",\"type\":\"Segment\"},{\"attributes\":{\"active_drag\":\"auto\",\"active_inspect\":\"auto\",\"active_scroll\":\"auto\",\"active_tap\":\"auto\",\"tools\":[{\"id\":\"2cca4d2f-66f6-4703-9738-b8f26b90c580\",\"type\":\"PanTool\"},{\"id\":\"b81b4531-a27b-4846-a42d-2917c0d10df6\",\"type\":\"WheelZoomTool\"},{\"id\":\"2259420e-28aa-4932-87ab-81f8c6086a92\",\"type\":\"BoxZoomTool\"},{\"id\":\"409ea8c6-d5ba-484e-b49c-ae3ff9f5c0d8\",\"type\":\"SaveTool\"},{\"id\":\"65cc7c2b-1ea4-4ece-b106-d1e29d3b79c7\",\"type\":\"ResetTool\"},{\"id\":\"8bc781d3-4420-4aa9-82f0-6aad41d9576f\",\"type\":\"HelpTool\"}]},\"id\":\"55aee8de-512d-4d7b-bebf-3cbc6c7aab5f\",\"type\":\"Toolbar\"},{\"attributes\":{\"plot\":null,\"text\":\"Distance of Workers From Master\"},\"id\":\"dd72a4d5-4645-4542-9496-c7580a40b3b6\",\"type\":\"Title\"},{\"attributes\":{\"callback\":null},\"id\":\"f896ca0d-6757-489c-ac89-21bfaf240494\",\"type\":\"DataRange1d\"},{\"attributes\":{\"x0\":{\"field\":\"x0\"},\"x1\":{\"field\":\"x1\"},\"y0\":{\"field\":\"y0\"},\"y1\":{\"field\":\"y1\"}},\"id\":\"845d893f-4fca-4e93-9d86-0794d1aaf89e\",\"type\":\"Segment\"},{\"attributes\":{\"source\":{\"id\":\"60d13bcf-9731-451c-92fc-09d5db29eeb1\",\"type\":\"ColumnDataSource\"}},\"id\":\"4b84a651-2a62-4ee0-8019-9a3555fe2a19\",\"type\":\"CDSView\"},{\"attributes\":{\"callback\":null,\"column_names\":[\"x0\",\"y0\",\"x1\",\"y1\"],\"data\":{\"x0\":{\"__ndarray__\":\"AQAAAAIAAAADAAAABAAAAAUAAAAGAAAABwAAAAgAAAAJAAAACgAAAAsAAAAMAAAADQAAAA4AAAAPAAAAEAAAABEAAAASAAAAEwAAABQAAAAVAAAAFgAAABcAAAAYAAAAGQAAABoAAAAbAAAAHAAAAB0AAAAeAAAAHwAAACAAAAAhAAAAIgAAACMAAAA=\",\"dtype\":\"int32\",\"shape\":[35]},\"x1\":{\"__ndarray__\":\"AQAAAAIAAAADAAAABAAAAAUAAAAGAAAABwAAAAgAAAAJAAAACgAAAAsAAAAMAAAADQAAAA4AAAAPAAAAEAAAABEAAAASAAAAEwAAABQAAAAVAAAAFgAAABcAAAAYAAAAGQAAABoAAAAbAAAAHAAAAB0AAAAeAAAAHwAAACAAAAAhAAAAIgAAACMAAAA=\",\"dtype\":\"int32\",\"shape\":[35]},\"y0\":[0.41966715455055237,0.5646703243255615,0.7625539898872375,0.850074291229248,1.0177000761032104,0.9952133893966675,1.0968170166015625,1.0913516283035278,1.1315990686416626,1.156298041343689,0.19783683121204376,0.22861802577972412,0.2573328912258148,0.2863488495349884,0.29963430762290955,0.05406299978494644,0.055074725300073624,0.05730221047997475,0.05966852232813835,0.062237225472927094,0.011892571114003658,0.01204998604953289,0.011950157582759857,0.012221965938806534,0.012271690182387829,0.0024355424102395773,0.002426647813990712,0.002428589388728142,0.002439032308757305,0.0024329645093530416,0.002436770126223564,0.0024519702419638634,0.0024499036371707916,0.0024383559357374907,0.0024348481092602015],\"y1\":[0.21560551784932613,0.28939779195934534,0.39057719707489014,0.43264214135706425,0.5396426972001791,0.5163428504019976,0.5657535213977098,0.5704110488295555,0.593020748347044,0.6063123662024736,0.1064271260984242,0.12192423176020384,0.136347574647516,0.1535251922905445,0.16048960015177727,0.029223126242868602,0.02965197595767677,0.030978478025645018,0.03222209063824266,0.03313176881056279,0.006443482852773741,0.006493117776699364,0.006418068980565295,0.006634409219259396,0.006661205989075825,0.0013135515328031033,0.0013115233450662345,0.0013178991721360944,0.0013202547561377287,0.001316815170866903,0.0013058048352831975,0.0013258260732982308,0.0013271369534777477,0.001317357069638092,0.0013143808755557984]}},\"id\":\"60d13bcf-9731-451c-92fc-09d5db29eeb1\",\"type\":\"ColumnDataSource\"},{\"attributes\":{\"callback\":null},\"id\":\"778ed3b6-d6d0-4c08-be46-d33b46c9fd06\",\"type\":\"DataRange1d\"},{\"attributes\":{},\"id\":\"a36d9b7e-22b2-4870-91e7-d03a1152f8a4\",\"type\":\"BasicTickFormatter\"},{\"attributes\":{\"callback\":null,\"column_names\":[\"x0\",\"y0\",\"x1\",\"y1\"],\"data\":{\"x0\":{\"__ndarray__\":\"AQAAAAIAAAADAAAABAAAAAUAAAAGAAAABwAAAAgAAAAJAAAACgAAAAsAAAAMAAAADQAAAA4AAAAPAAAAEAAAABEAAAASAAAAEwAAABQAAAAVAAAAFgAAABcAAAAYAAAAGQAAABoAAAAbAAAAHAAAAB0AAAAeAAAAHwAAACAAAAAhAAAAIgAAACMAAAA=\",\"dtype\":\"int32\",\"shape\":[35]},\"x1\":{\"__ndarray__\":\"AQAAAAIAAAADAAAABAAAAAUAAAAGAAAABwAAAAgAAAAJAAAACgAAAAsAAAAMAAAADQAAAA4AAAAPAAAAEAAAABEAAAASAAAAEwAAABQAAAAVAAAAFgAAABcAAAAYAAAAGQAAABoAAAAbAAAAHAAAAB0AAAAeAAAAHwAAACAAAAAhAAAAIgAAACMAAAA=\",\"dtype\":\"int32\",\"shape\":[35]},\"y0\":[0.0,0.0,0.0,0.0,0.0,0.0,0.0,0.0,0.0,0.0,0.0,0.0,0.0,0.0,0.0,0.0,0.0,0.0,0.0,0.0,0.0,0.0,0.0,0.0,0.0,0.0,0.0,0.0,0.0,0.0,0.0,0.0,0.0,0.0,0.0],\"y1\":[0.21560551784932613,0.28939779195934534,0.39057719707489014,0.43264214135706425,0.5396426972001791,0.5163428504019976,0.5657535213977098,0.5704110488295555,0.593020748347044,0.6063123662024736,0.1064271260984242,0.12192423176020384,0.136347574647516,0.1535251922905445,0.16048960015177727,0.029223126242868602,0.02965197595767677,0.030978478025645018,0.03222209063824266,0.03313176881056279,0.006443482852773741,0.006493117776699364,0.006418068980565295,0.006634409219259396,0.006661205989075825,0.0013135515328031033,0.0013115233450662345,0.0013178991721360944,0.0013202547561377287,0.001316815170866903,0.0013058048352831975,0.0013258260732982308,0.0013271369534777477,0.001317357069638092,0.0013143808755557984]}},\"id\":\"72bb8b9c-15ff-45b7-9b4a-8a2a11d1e903\",\"type\":\"ColumnDataSource\"},{\"attributes\":{\"background_fill_color\":{\"value\":\"#fafafa\"},\"below\":[{\"id\":\"fd187ee9-7225-4d66-ba21-66f5e3735c85\",\"type\":\"LinearAxis\"}],\"left\":[{\"id\":\"a939604a-f301-464c-a002-7276b868a6c3\",\"type\":\"LinearAxis\"}],\"min_border\":10,\"min_border_left\":50,\"renderers\":[{\"id\":\"fd187ee9-7225-4d66-ba21-66f5e3735c85\",\"type\":\"LinearAxis\"},{\"id\":\"0830ca71-c46e-4844-af97-a53f550d94b6\",\"type\":\"Grid\"},{\"id\":\"a939604a-f301-464c-a002-7276b868a6c3\",\"type\":\"LinearAxis\"},{\"id\":\"09c5372a-1e3e-4751-a6a5-666484dd82f2\",\"type\":\"Grid\"},{\"id\":\"10899240-4d89-4feb-83f7-beb4381d2e56\",\"type\":\"BoxAnnotation\"},{\"id\":\"abce7a3a-f31d-477b-bfa3-e7f17c84099f\",\"type\":\"GlyphRenderer\"},{\"id\":\"56b8a011-693e-41ff-ad0f-aafc5b3c4206\",\"type\":\"GlyphRenderer\"},{\"id\":\"72694136-1b5e-4ad9-9f66-eff0df8818e9\",\"type\":\"GlyphRenderer\"},{\"id\":\"b16da37b-506b-4e0e-8a2c-142cc57063a5\",\"type\":\"GlyphRenderer\"},{\"id\":\"56bb3782-ddca-4762-84b4-a0fbccbdbf81\",\"type\":\"GlyphRenderer\"},{\"id\":\"e6996430-b686-4df1-9335-62c788183141\",\"type\":\"GlyphRenderer\"}],\"title\":{\"id\":\"dd72a4d5-4645-4542-9496-c7580a40b3b6\",\"type\":\"Title\"},\"toolbar\":{\"id\":\"55aee8de-512d-4d7b-bebf-3cbc6c7aab5f\",\"type\":\"Toolbar\"},\"x_range\":{\"id\":\"778ed3b6-d6d0-4c08-be46-d33b46c9fd06\",\"type\":\"DataRange1d\"},\"x_scale\":{\"id\":\"abf95987-301f-4e5e-b723-e8c0aa1611c8\",\"type\":\"LinearScale\"},\"y_range\":{\"id\":\"f896ca0d-6757-489c-ac89-21bfaf240494\",\"type\":\"DataRange1d\"},\"y_scale\":{\"id\":\"a7de25c6-82e8-4cd1-a725-556386473917\",\"type\":\"LinearScale\"}},\"id\":\"192ee439-9c87-48b2-8607-5a107539a28f\",\"subtype\":\"Figure\",\"type\":\"Plot\"},{\"attributes\":{},\"id\":\"9bd2a231-52bb-4d29-81b7-cdfd5dad664f\",\"type\":\"BasicTickFormatter\"},{\"attributes\":{\"line_alpha\":{\"value\":0.1},\"line_color\":{\"value\":\"#1f77b4\"},\"x0\":{\"field\":\"x0\"},\"x1\":{\"field\":\"x1\"},\"y0\":{\"field\":\"y0\"},\"y1\":{\"field\":\"y1\"}},\"id\":\"bc37069f-b33a-49d0-94f3-51df51886a87\",\"type\":\"Segment\"},{\"attributes\":{\"data_source\":{\"id\":\"60d13bcf-9731-451c-92fc-09d5db29eeb1\",\"type\":\"ColumnDataSource\"},\"glyph\":{\"id\":\"845d893f-4fca-4e93-9d86-0794d1aaf89e\",\"type\":\"Segment\"},\"hover_glyph\":null,\"muted_glyph\":null,\"nonselection_glyph\":{\"id\":\"bc37069f-b33a-49d0-94f3-51df51886a87\",\"type\":\"Segment\"},\"selection_glyph\":null,\"view\":{\"id\":\"4b84a651-2a62-4ee0-8019-9a3555fe2a19\",\"type\":\"CDSView\"}},\"id\":\"abce7a3a-f31d-477b-bfa3-e7f17c84099f\",\"type\":\"GlyphRenderer\"}],\"root_ids\":[\"192ee439-9c87-48b2-8607-5a107539a28f\"]},\"title\":\"Bokeh Application\",\"version\":\"0.12.13\"}};\n",
       "  var render_items = [{\"docid\":\"f0f8dc30-210c-4313-b325-fdcf38b0dbbd\",\"elementid\":\"3cd9dd58-a08b-4daa-a006-fd04c1db57cc\",\"modelid\":\"192ee439-9c87-48b2-8607-5a107539a28f\"}];\n",
       "  root.Bokeh.embed.embed_items_notebook(docs_json, render_items);\n",
       "\n",
       "  }\n",
       "  if (root.Bokeh !== undefined) {\n",
       "    embed_document(root);\n",
       "  } else {\n",
       "    var attempts = 0;\n",
       "    var timer = setInterval(function(root) {\n",
       "      if (root.Bokeh !== undefined) {\n",
       "        embed_document(root);\n",
       "        clearInterval(timer);\n",
       "      }\n",
       "      attempts++;\n",
       "      if (attempts > 100) {\n",
       "        console.log(\"Bokeh: ERROR: Unable to run BokehJS code because BokehJS library is missing\")\n",
       "        clearInterval(timer);\n",
       "      }\n",
       "    }, 10, root)\n",
       "  }\n",
       "})(window);"
      ],
      "application/vnd.bokehjs_exec.v0+json": ""
     },
     "metadata": {
      "application/vnd.bokehjs_exec.v0+json": {
       "id": "192ee439-9c87-48b2-8607-5a107539a28f"
      }
     },
     "output_type": "display_data"
    }
   ],
   "source": [
    "show(plots[5])"
   ]
  },
  {
   "cell_type": "code",
   "execution_count": 9,
   "metadata": {},
   "outputs": [
    {
     "data": {
      "text/html": [
       "\n",
       "<div class=\"bk-root\">\n",
       "    <div class=\"bk-plotdiv\" id=\"240021c8-f6c0-467d-b28e-ef97a5adb7c6\"></div>\n",
       "</div>"
      ]
     },
     "metadata": {},
     "output_type": "display_data"
    },
    {
     "data": {
      "application/javascript": [
       "(function(root) {\n",
       "  function embed_document(root) {\n",
       "    \n",
       "  var docs_json = {\"849feb04-08fc-4410-bfb0-b121b3d273a2\":{\"roots\":{\"references\":[{\"attributes\":{\"plot\":null,\"text\":\"Distance Norm Between Mean & Master Weights\"},\"id\":\"1ea29aa5-3aba-444c-81fa-87b071304f5f\",\"type\":\"Title\"},{\"attributes\":{\"axis_label\":\"Distance Norm\",\"formatter\":{\"id\":\"855817b5-e066-47e4-8358-314587977b3e\",\"type\":\"LogTickFormatter\"},\"plot\":{\"id\":\"6be6096b-de2d-47b4-baf6-0a3bc963af19\",\"subtype\":\"Figure\",\"type\":\"Plot\"},\"ticker\":{\"id\":\"0e97ec67-41c9-464f-bd44-0a4c69c788ae\",\"type\":\"LogTicker\"}},\"id\":\"b6faf361-0e89-41e1-8de7-f9d0fc8899a1\",\"type\":\"LogAxis\"},{\"attributes\":{\"plot\":{\"id\":\"6be6096b-de2d-47b4-baf6-0a3bc963af19\",\"subtype\":\"Figure\",\"type\":\"Plot\"},\"ticker\":{\"id\":\"db3018db-812b-41f8-b3ba-a55b68c4e468\",\"type\":\"BasicTicker\"}},\"id\":\"d7b69227-705b-4053-9ca3-eb5460264a40\",\"type\":\"Grid\"},{\"attributes\":{},\"id\":\"d7cf007e-aad2-4dbb-846a-bb41ca31736c\",\"type\":\"LogScale\"},{\"attributes\":{\"dimension\":1,\"plot\":{\"id\":\"6be6096b-de2d-47b4-baf6-0a3bc963af19\",\"subtype\":\"Figure\",\"type\":\"Plot\"},\"ticker\":{\"id\":\"0e97ec67-41c9-464f-bd44-0a4c69c788ae\",\"type\":\"LogTicker\"}},\"id\":\"1340f34c-f736-45f2-adf6-373c5cc22a29\",\"type\":\"Grid\"},{\"attributes\":{},\"id\":\"b1fcb5ba-d80e-45f5-8517-8dab538b2f9a\",\"type\":\"PanTool\"},{\"attributes\":{\"callback\":null},\"id\":\"54dc8f99-e496-46c5-96c4-36b6c32598f3\",\"type\":\"DataRange1d\"},{\"attributes\":{\"background_fill_color\":{\"value\":\"#fafafa\"},\"below\":[{\"id\":\"b839042f-1fca-4b84-a4c5-39c4550a1895\",\"type\":\"LinearAxis\"}],\"left\":[{\"id\":\"b6faf361-0e89-41e1-8de7-f9d0fc8899a1\",\"type\":\"LogAxis\"}],\"min_border\":10,\"min_border_left\":50,\"renderers\":[{\"id\":\"b839042f-1fca-4b84-a4c5-39c4550a1895\",\"type\":\"LinearAxis\"},{\"id\":\"d7b69227-705b-4053-9ca3-eb5460264a40\",\"type\":\"Grid\"},{\"id\":\"b6faf361-0e89-41e1-8de7-f9d0fc8899a1\",\"type\":\"LogAxis\"},{\"id\":\"1340f34c-f736-45f2-adf6-373c5cc22a29\",\"type\":\"Grid\"},{\"id\":\"70a34791-cfc0-407b-8829-a29dd10ae4f5\",\"type\":\"BoxAnnotation\"},{\"id\":\"a415db61-fe6e-4a21-9f29-63031ef1ff1e\",\"type\":\"Legend\"},{\"id\":\"157c6fae-daed-464f-a2e0-45b76de52652\",\"type\":\"GlyphRenderer\"}],\"title\":{\"id\":\"1ea29aa5-3aba-444c-81fa-87b071304f5f\",\"type\":\"Title\"},\"toolbar\":{\"id\":\"f4844ef5-5a46-4fff-9031-c70fa0a7c9c9\",\"type\":\"Toolbar\"},\"x_range\":{\"id\":\"933929cc-75d3-4b38-a3e7-0e1fd7ed9455\",\"type\":\"DataRange1d\"},\"x_scale\":{\"id\":\"1700b44e-0d9e-421e-82fe-badc82b873d5\",\"type\":\"LinearScale\"},\"y_range\":{\"id\":\"54dc8f99-e496-46c5-96c4-36b6c32598f3\",\"type\":\"DataRange1d\"},\"y_scale\":{\"id\":\"d7cf007e-aad2-4dbb-846a-bb41ca31736c\",\"type\":\"LogScale\"}},\"id\":\"6be6096b-de2d-47b4-baf6-0a3bc963af19\",\"subtype\":\"Figure\",\"type\":\"Plot\"},{\"attributes\":{\"bottom_units\":\"screen\",\"fill_alpha\":{\"value\":0.5},\"fill_color\":{\"value\":\"lightgrey\"},\"left_units\":\"screen\",\"level\":\"overlay\",\"line_alpha\":{\"value\":1.0},\"line_color\":{\"value\":\"black\"},\"line_dash\":[4,4],\"line_width\":{\"value\":2},\"plot\":null,\"render_mode\":\"css\",\"right_units\":\"screen\",\"top_units\":\"screen\"},\"id\":\"70a34791-cfc0-407b-8829-a29dd10ae4f5\",\"type\":\"BoxAnnotation\"},{\"attributes\":{\"label\":{\"value\":\"asynchronous_1024_8\"},\"renderers\":[{\"id\":\"157c6fae-daed-464f-a2e0-45b76de52652\",\"type\":\"GlyphRenderer\"}]},\"id\":\"f62e153c-81aa-4681-9ff1-3cdc108e66b5\",\"type\":\"LegendItem\"},{\"attributes\":{},\"id\":\"31d80c21-781c-433c-8075-5e22fe9c9965\",\"type\":\"WheelZoomTool\"},{\"attributes\":{\"overlay\":{\"id\":\"70a34791-cfc0-407b-8829-a29dd10ae4f5\",\"type\":\"BoxAnnotation\"}},\"id\":\"d4557d4b-a394-42b2-aaa6-3dd46c9cd1e1\",\"type\":\"BoxZoomTool\"},{\"attributes\":{},\"id\":\"0bb5191f-34fd-497e-b885-aa5d36da80de\",\"type\":\"SaveTool\"},{\"attributes\":{},\"id\":\"9df536fc-f212-480b-8f24-8e864a8f7d39\",\"type\":\"ResetTool\"},{\"attributes\":{},\"id\":\"3a52e93a-0c41-46c7-8fee-194830f84a00\",\"type\":\"HelpTool\"},{\"attributes\":{},\"id\":\"db3018db-812b-41f8-b3ba-a55b68c4e468\",\"type\":\"BasicTicker\"},{\"attributes\":{\"line_color\":\"#1f77b4\",\"line_width\":3,\"x\":{\"field\":\"x\"},\"y\":{\"field\":\"y\"}},\"id\":\"2ff4950b-63cb-4b0e-b07e-610bf6040bbd\",\"type\":\"Line\"},{\"attributes\":{\"source\":{\"id\":\"a04bdd5f-02da-4b0e-8395-fb7cab0ceaf8\",\"type\":\"ColumnDataSource\"}},\"id\":\"56cc6210-daba-4713-8099-7f2919d1ba38\",\"type\":\"CDSView\"},{\"attributes\":{\"callback\":null,\"column_names\":[\"x\",\"y\"],\"data\":{\"x\":{\"__ndarray__\":\"AQAAAAIAAAADAAAABAAAAAUAAAAGAAAABwAAAAgAAAAJAAAACgAAAAsAAAAMAAAADQAAAA4AAAAPAAAAEAAAABEAAAASAAAAEwAAABQAAAAVAAAAFgAAABcAAAAYAAAAGQAAABoAAAAbAAAAHAAAAB0AAAAeAAAAHwAAACAAAAAhAAAAIgAAACMAAAA=\",\"dtype\":\"int32\",\"shape\":[35]},\"y\":[0.045542143285274506,0.08153124153614044,0.14878049492835999,0.18185994029045105,0.2823408246040344,0.25814053416252136,0.3097105324268341,0.31352049112319946,0.3381434679031372,0.35275909304618835,0.01073051244020462,0.014097665436565876,0.017698779702186584,0.022486049681901932,0.02453717403113842,0.0008065403089858592,0.0008298532338812947,0.0009061775635927916,0.0009829462505877018,0.001038861577399075,3.912587635568343e-05,3.980575638706796e-05,3.896244743373245e-05,4.1505496483296156e-05,4.18175695813261e-05,1.6294469560307334e-06,1.6220748193518375e-06,1.6345539961548639e-06,1.6454819160571788e-06,1.6347557902918197e-06,1.615868427506939e-06,1.657882762629015e-06,1.6606071540081757e-06,1.6387604091505636e-06,1.629157964089245e-06]}},\"id\":\"a04bdd5f-02da-4b0e-8395-fb7cab0ceaf8\",\"type\":\"ColumnDataSource\"},{\"attributes\":{\"ticker\":null},\"id\":\"855817b5-e066-47e4-8358-314587977b3e\",\"type\":\"LogTickFormatter\"},{\"attributes\":{\"click_policy\":\"hide\",\"items\":[{\"id\":\"f62e153c-81aa-4681-9ff1-3cdc108e66b5\",\"type\":\"LegendItem\"}],\"plot\":{\"id\":\"6be6096b-de2d-47b4-baf6-0a3bc963af19\",\"subtype\":\"Figure\",\"type\":\"Plot\"}},\"id\":\"a415db61-fe6e-4a21-9f29-63031ef1ff1e\",\"type\":\"Legend\"},{\"attributes\":{},\"id\":\"33c5364b-8bf8-498c-b7fa-643c698b9573\",\"type\":\"BasicTickFormatter\"},{\"attributes\":{\"axis_label\":\"t [Epochs]\",\"formatter\":{\"id\":\"33c5364b-8bf8-498c-b7fa-643c698b9573\",\"type\":\"BasicTickFormatter\"},\"plot\":{\"id\":\"6be6096b-de2d-47b4-baf6-0a3bc963af19\",\"subtype\":\"Figure\",\"type\":\"Plot\"},\"ticker\":{\"id\":\"db3018db-812b-41f8-b3ba-a55b68c4e468\",\"type\":\"BasicTicker\"}},\"id\":\"b839042f-1fca-4b84-a4c5-39c4550a1895\",\"type\":\"LinearAxis\"},{\"attributes\":{\"line_alpha\":0.1,\"line_color\":\"#1f77b4\",\"line_width\":3,\"x\":{\"field\":\"x\"},\"y\":{\"field\":\"y\"}},\"id\":\"7eacbac7-133b-400d-9c2d-65faa4987704\",\"type\":\"Line\"},{\"attributes\":{},\"id\":\"1700b44e-0d9e-421e-82fe-badc82b873d5\",\"type\":\"LinearScale\"},{\"attributes\":{\"data_source\":{\"id\":\"a04bdd5f-02da-4b0e-8395-fb7cab0ceaf8\",\"type\":\"ColumnDataSource\"},\"glyph\":{\"id\":\"2ff4950b-63cb-4b0e-b07e-610bf6040bbd\",\"type\":\"Line\"},\"hover_glyph\":null,\"muted_glyph\":null,\"nonselection_glyph\":{\"id\":\"7eacbac7-133b-400d-9c2d-65faa4987704\",\"type\":\"Line\"},\"selection_glyph\":null,\"view\":{\"id\":\"56cc6210-daba-4713-8099-7f2919d1ba38\",\"type\":\"CDSView\"}},\"id\":\"157c6fae-daed-464f-a2e0-45b76de52652\",\"type\":\"GlyphRenderer\"},{\"attributes\":{\"num_minor_ticks\":10},\"id\":\"0e97ec67-41c9-464f-bd44-0a4c69c788ae\",\"type\":\"LogTicker\"},{\"attributes\":{\"active_drag\":\"auto\",\"active_inspect\":\"auto\",\"active_scroll\":\"auto\",\"active_tap\":\"auto\",\"tools\":[{\"id\":\"b1fcb5ba-d80e-45f5-8517-8dab538b2f9a\",\"type\":\"PanTool\"},{\"id\":\"31d80c21-781c-433c-8075-5e22fe9c9965\",\"type\":\"WheelZoomTool\"},{\"id\":\"d4557d4b-a394-42b2-aaa6-3dd46c9cd1e1\",\"type\":\"BoxZoomTool\"},{\"id\":\"0bb5191f-34fd-497e-b885-aa5d36da80de\",\"type\":\"SaveTool\"},{\"id\":\"9df536fc-f212-480b-8f24-8e864a8f7d39\",\"type\":\"ResetTool\"},{\"id\":\"3a52e93a-0c41-46c7-8fee-194830f84a00\",\"type\":\"HelpTool\"}]},\"id\":\"f4844ef5-5a46-4fff-9031-c70fa0a7c9c9\",\"type\":\"Toolbar\"},{\"attributes\":{\"callback\":null},\"id\":\"933929cc-75d3-4b38-a3e7-0e1fd7ed9455\",\"type\":\"DataRange1d\"}],\"root_ids\":[\"6be6096b-de2d-47b4-baf6-0a3bc963af19\"]},\"title\":\"Bokeh Application\",\"version\":\"0.12.13\"}};\n",
       "  var render_items = [{\"docid\":\"849feb04-08fc-4410-bfb0-b121b3d273a2\",\"elementid\":\"240021c8-f6c0-467d-b28e-ef97a5adb7c6\",\"modelid\":\"6be6096b-de2d-47b4-baf6-0a3bc963af19\"}];\n",
       "  root.Bokeh.embed.embed_items_notebook(docs_json, render_items);\n",
       "\n",
       "  }\n",
       "  if (root.Bokeh !== undefined) {\n",
       "    embed_document(root);\n",
       "  } else {\n",
       "    var attempts = 0;\n",
       "    var timer = setInterval(function(root) {\n",
       "      if (root.Bokeh !== undefined) {\n",
       "        embed_document(root);\n",
       "        clearInterval(timer);\n",
       "      }\n",
       "      attempts++;\n",
       "      if (attempts > 100) {\n",
       "        console.log(\"Bokeh: ERROR: Unable to run BokehJS code because BokehJS library is missing\")\n",
       "        clearInterval(timer);\n",
       "      }\n",
       "    }, 10, root)\n",
       "  }\n",
       "})(window);"
      ],
      "application/vnd.bokehjs_exec.v0+json": ""
     },
     "metadata": {
      "application/vnd.bokehjs_exec.v0+json": {
       "id": "6be6096b-de2d-47b4-baf6-0a3bc963af19"
      }
     },
     "output_type": "display_data"
    }
   ],
   "source": [
    "show(plots[6])"
   ]
  },
  {
   "cell_type": "raw",
   "metadata": {},
   "source": [
    "<script>\n",
    "  $(document).ready(function(){\n",
    "    $('div.prompt').hide();\n",
    "    $('div.back-to-top').hide();\n",
    "    $('nav#menubar').hide();\n",
    "    $('.breadcrumb').hide();\n",
    "    $('.hidden-print').hide();\n",
    "  });\n",
    "</script>\n",
    "\n",
    "<footer id=\"attribution\" style=\"float:right; color:#999; background:#fff;\">\n",
    "Niv Giladi - Technion\n",
    "</footer>"
   ]
  }
 ],
 "metadata": {
  "kernelspec": {
   "display_name": "Python 3",
   "language": "python",
   "name": "python3"
  },
  "language_info": {
   "codemirror_mode": {
    "name": "ipython",
    "version": 3
   },
   "file_extension": ".py",
   "mimetype": "text/x-python",
   "name": "python",
   "nbconvert_exporter": "python",
   "pygments_lexer": "ipython3",
   "version": "3.6.1"
  }
 },
 "nbformat": 4,
 "nbformat_minor": 1
}
