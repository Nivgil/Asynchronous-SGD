{
 "cells": [
  {
   "cell_type": "raw",
   "metadata": {},
   "source": [
    "<script>\n",
    "  jQuery(document).ready(function($) {  \n",
    "  \n",
    "  $(window).on('load', function(){\n",
    "    $('#preloader').fadeOut('slow',function(){$(this).remove();});\n",
    "  });\n",
    "  \n",
    "  });\n",
    "</script>\n",
    "\n",
    "<style type=\"text/css\">\n",
    "  div#preloader { position: fixed; \n",
    "      left: 0; \n",
    "      top: 0; \n",
    "      z-index: 999; \n",
    "      width: 100%; \n",
    "      height: 100%; \n",
    "      overflow: visible; \n",
    "      background: #fff url('http://preloaders.net/preloaders/720/Moving%20line.gif') no-repeat center center; \n",
    "  }\n",
    "\n",
    "</style>\n",
    "\n",
    "<div id=\"preloader\">\n",
    "\n",
    "</div>"
   ]
  },
  {
   "cell_type": "raw",
   "metadata": {},
   "source": [
    "<script>\n",
    "  function code_toggle() {\n",
    "    if (code_shown){\n",
    "      $('div.input').hide('500');\n",
    "      $('#toggleButton').val('Show Code')\n",
    "    } else {\n",
    "      $('div.input').show('500');\n",
    "      $('#toggleButton').val('Hide Code')\n",
    "    }\n",
    "    code_shown = !code_shown\n",
    "  } \n",
    "  \n",
    "  $( document ).ready(function(){\n",
    "    code_shown=false; \n",
    "    $('div.input').hide()\n",
    "  });\n",
    "</script>\n",
    "<form action=\"javascript:code_toggle()\"><input type=\"submit\" id=\"toggleButton\" value=\"Show Code\"></form>"
   ]
  },
  {
   "cell_type": "markdown",
   "metadata": {},
   "source": [
    "<h1 style=\"text-align: center;\" markdown=\"1\"> ImageNet - Asynchronous 5 workers</h1>\n",
    "<h2 style=\"text-align: center;\" markdown=\"1\"> AlexNet, 5 workers, batch size 128 (blue) with regime adaptation</h2>"
   ]
  },
  {
   "cell_type": "code",
   "execution_count": 1,
   "metadata": {},
   "outputs": [
    {
     "data": {
      "text/html": [
       "\n",
       "    <div class=\"bk-root\">\n",
       "        <a href=\"https://bokeh.pydata.org\" target=\"_blank\" class=\"bk-logo bk-logo-small bk-logo-notebook\"></a>\n",
       "        <span id=\"0bfec429-0982-4e18-a849-685fa639ffe7\">Loading BokehJS ...</span>\n",
       "    </div>"
      ]
     },
     "metadata": {},
     "output_type": "display_data"
    },
    {
     "data": {
      "application/javascript": [
       "\n",
       "(function(root) {\n",
       "  function now() {\n",
       "    return new Date();\n",
       "  }\n",
       "\n",
       "  var force = true;\n",
       "\n",
       "  if (typeof (root._bokeh_onload_callbacks) === \"undefined\" || force === true) {\n",
       "    root._bokeh_onload_callbacks = [];\n",
       "    root._bokeh_is_loading = undefined;\n",
       "  }\n",
       "\n",
       "  var JS_MIME_TYPE = 'application/javascript';\n",
       "  var HTML_MIME_TYPE = 'text/html';\n",
       "  var EXEC_MIME_TYPE = 'application/vnd.bokehjs_exec.v0+json';\n",
       "  var CLASS_NAME = 'output_bokeh rendered_html';\n",
       "\n",
       "  /**\n",
       "   * Render data to the DOM node\n",
       "   */\n",
       "  function render(props, node) {\n",
       "    var script = document.createElement(\"script\");\n",
       "    node.appendChild(script);\n",
       "  }\n",
       "\n",
       "  /**\n",
       "   * Handle when an output is cleared or removed\n",
       "   */\n",
       "  function handleClearOutput(event, handle) {\n",
       "    var cell = handle.cell;\n",
       "\n",
       "    var id = cell.output_area._bokeh_element_id;\n",
       "    var server_id = cell.output_area._bokeh_server_id;\n",
       "    // Clean up Bokeh references\n",
       "    if (id !== undefined) {\n",
       "      Bokeh.index[id].model.document.clear();\n",
       "      delete Bokeh.index[id];\n",
       "    }\n",
       "\n",
       "    if (server_id !== undefined) {\n",
       "      // Clean up Bokeh references\n",
       "      var cmd = \"from bokeh.io.state import curstate; print(curstate().uuid_to_server['\" + server_id + \"'].get_sessions()[0].document.roots[0]._id)\";\n",
       "      cell.notebook.kernel.execute(cmd, {\n",
       "        iopub: {\n",
       "          output: function(msg) {\n",
       "            var element_id = msg.content.text.trim();\n",
       "            Bokeh.index[element_id].model.document.clear();\n",
       "            delete Bokeh.index[element_id];\n",
       "          }\n",
       "        }\n",
       "      });\n",
       "      // Destroy server and session\n",
       "      var cmd = \"import bokeh.io.notebook as ion; ion.destroy_server('\" + server_id + \"')\";\n",
       "      cell.notebook.kernel.execute(cmd);\n",
       "    }\n",
       "  }\n",
       "\n",
       "  /**\n",
       "   * Handle when a new output is added\n",
       "   */\n",
       "  function handleAddOutput(event, handle) {\n",
       "    var output_area = handle.output_area;\n",
       "    var output = handle.output;\n",
       "\n",
       "    // limit handleAddOutput to display_data with EXEC_MIME_TYPE content only\n",
       "    if ((output.output_type != \"display_data\") || (!output.data.hasOwnProperty(EXEC_MIME_TYPE))) {\n",
       "      return\n",
       "    }\n",
       "\n",
       "    var toinsert = output_area.element.find(\".\" + CLASS_NAME.split(' ')[0]);\n",
       "\n",
       "    if (output.metadata[EXEC_MIME_TYPE][\"id\"] !== undefined) {\n",
       "      toinsert[0].firstChild.textContent = output.data[JS_MIME_TYPE];\n",
       "      // store reference to embed id on output_area\n",
       "      output_area._bokeh_element_id = output.metadata[EXEC_MIME_TYPE][\"id\"];\n",
       "    }\n",
       "    if (output.metadata[EXEC_MIME_TYPE][\"server_id\"] !== undefined) {\n",
       "      var bk_div = document.createElement(\"div\");\n",
       "      bk_div.innerHTML = output.data[HTML_MIME_TYPE];\n",
       "      var script_attrs = bk_div.children[0].attributes;\n",
       "      for (var i = 0; i < script_attrs.length; i++) {\n",
       "        toinsert[0].firstChild.setAttribute(script_attrs[i].name, script_attrs[i].value);\n",
       "      }\n",
       "      // store reference to server id on output_area\n",
       "      output_area._bokeh_server_id = output.metadata[EXEC_MIME_TYPE][\"server_id\"];\n",
       "    }\n",
       "  }\n",
       "\n",
       "  function register_renderer(events, OutputArea) {\n",
       "\n",
       "    function append_mime(data, metadata, element) {\n",
       "      // create a DOM node to render to\n",
       "      var toinsert = this.create_output_subarea(\n",
       "        metadata,\n",
       "        CLASS_NAME,\n",
       "        EXEC_MIME_TYPE\n",
       "      );\n",
       "      this.keyboard_manager.register_events(toinsert);\n",
       "      // Render to node\n",
       "      var props = {data: data, metadata: metadata[EXEC_MIME_TYPE]};\n",
       "      render(props, toinsert[0]);\n",
       "      element.append(toinsert);\n",
       "      return toinsert\n",
       "    }\n",
       "\n",
       "    /* Handle when an output is cleared or removed */\n",
       "    events.on('clear_output.CodeCell', handleClearOutput);\n",
       "    events.on('delete.Cell', handleClearOutput);\n",
       "\n",
       "    /* Handle when a new output is added */\n",
       "    events.on('output_added.OutputArea', handleAddOutput);\n",
       "\n",
       "    /**\n",
       "     * Register the mime type and append_mime function with output_area\n",
       "     */\n",
       "    OutputArea.prototype.register_mime_type(EXEC_MIME_TYPE, append_mime, {\n",
       "      /* Is output safe? */\n",
       "      safe: true,\n",
       "      /* Index of renderer in `output_area.display_order` */\n",
       "      index: 0\n",
       "    });\n",
       "  }\n",
       "\n",
       "  // register the mime type if in Jupyter Notebook environment and previously unregistered\n",
       "  if (root.Jupyter !== undefined) {\n",
       "    var events = require('base/js/events');\n",
       "    var OutputArea = require('notebook/js/outputarea').OutputArea;\n",
       "\n",
       "    if (OutputArea.prototype.mime_types().indexOf(EXEC_MIME_TYPE) == -1) {\n",
       "      register_renderer(events, OutputArea);\n",
       "    }\n",
       "  }\n",
       "\n",
       "  \n",
       "  if (typeof (root._bokeh_timeout) === \"undefined\" || force === true) {\n",
       "    root._bokeh_timeout = Date.now() + 5000;\n",
       "    root._bokeh_failed_load = false;\n",
       "  }\n",
       "\n",
       "  var NB_LOAD_WARNING = {'data': {'text/html':\n",
       "     \"<div style='background-color: #fdd'>\\n\"+\n",
       "     \"<p>\\n\"+\n",
       "     \"BokehJS does not appear to have successfully loaded. If loading BokehJS from CDN, this \\n\"+\n",
       "     \"may be due to a slow or bad network connection. Possible fixes:\\n\"+\n",
       "     \"</p>\\n\"+\n",
       "     \"<ul>\\n\"+\n",
       "     \"<li>re-rerun `output_notebook()` to attempt to load from CDN again, or</li>\\n\"+\n",
       "     \"<li>use INLINE resources instead, as so:</li>\\n\"+\n",
       "     \"</ul>\\n\"+\n",
       "     \"<code>\\n\"+\n",
       "     \"from bokeh.resources import INLINE\\n\"+\n",
       "     \"output_notebook(resources=INLINE)\\n\"+\n",
       "     \"</code>\\n\"+\n",
       "     \"</div>\"}};\n",
       "\n",
       "  function display_loaded() {\n",
       "    var el = document.getElementById(\"0bfec429-0982-4e18-a849-685fa639ffe7\");\n",
       "    if (el != null) {\n",
       "      el.textContent = \"BokehJS is loading...\";\n",
       "    }\n",
       "    if (root.Bokeh !== undefined) {\n",
       "      if (el != null) {\n",
       "        el.textContent = \"BokehJS \" + root.Bokeh.version + \" successfully loaded.\";\n",
       "      }\n",
       "    } else if (Date.now() < root._bokeh_timeout) {\n",
       "      setTimeout(display_loaded, 100)\n",
       "    }\n",
       "  }\n",
       "\n",
       "\n",
       "  function run_callbacks() {\n",
       "    try {\n",
       "      root._bokeh_onload_callbacks.forEach(function(callback) { callback() });\n",
       "    }\n",
       "    finally {\n",
       "      delete root._bokeh_onload_callbacks\n",
       "    }\n",
       "    console.info(\"Bokeh: all callbacks have finished\");\n",
       "  }\n",
       "\n",
       "  function load_libs(js_urls, callback) {\n",
       "    root._bokeh_onload_callbacks.push(callback);\n",
       "    if (root._bokeh_is_loading > 0) {\n",
       "      console.log(\"Bokeh: BokehJS is being loaded, scheduling callback at\", now());\n",
       "      return null;\n",
       "    }\n",
       "    if (js_urls == null || js_urls.length === 0) {\n",
       "      run_callbacks();\n",
       "      return null;\n",
       "    }\n",
       "    console.log(\"Bokeh: BokehJS not loaded, scheduling load and callback at\", now());\n",
       "    root._bokeh_is_loading = js_urls.length;\n",
       "    for (var i = 0; i < js_urls.length; i++) {\n",
       "      var url = js_urls[i];\n",
       "      var s = document.createElement('script');\n",
       "      s.src = url;\n",
       "      s.async = false;\n",
       "      s.onreadystatechange = s.onload = function() {\n",
       "        root._bokeh_is_loading--;\n",
       "        if (root._bokeh_is_loading === 0) {\n",
       "          console.log(\"Bokeh: all BokehJS libraries loaded\");\n",
       "          run_callbacks()\n",
       "        }\n",
       "      };\n",
       "      s.onerror = function() {\n",
       "        console.warn(\"failed to load library \" + url);\n",
       "      };\n",
       "      console.log(\"Bokeh: injecting script tag for BokehJS library: \", url);\n",
       "      document.getElementsByTagName(\"head\")[0].appendChild(s);\n",
       "    }\n",
       "  };var element = document.getElementById(\"0bfec429-0982-4e18-a849-685fa639ffe7\");\n",
       "  if (element == null) {\n",
       "    console.log(\"Bokeh: ERROR: autoload.js configured with elementid '0bfec429-0982-4e18-a849-685fa639ffe7' but no matching script tag was found. \")\n",
       "    return false;\n",
       "  }\n",
       "\n",
       "  var js_urls = [\"https://cdn.pydata.org/bokeh/release/bokeh-0.12.13.min.js\", \"https://cdn.pydata.org/bokeh/release/bokeh-widgets-0.12.13.min.js\", \"https://cdn.pydata.org/bokeh/release/bokeh-tables-0.12.13.min.js\", \"https://cdn.pydata.org/bokeh/release/bokeh-gl-0.12.13.min.js\"];\n",
       "\n",
       "  var inline_js = [\n",
       "    function(Bokeh) {\n",
       "      Bokeh.set_log_level(\"info\");\n",
       "    },\n",
       "    \n",
       "    function(Bokeh) {\n",
       "      \n",
       "    },\n",
       "    function(Bokeh) {\n",
       "      console.log(\"Bokeh: injecting CSS: https://cdn.pydata.org/bokeh/release/bokeh-0.12.13.min.css\");\n",
       "      Bokeh.embed.inject_css(\"https://cdn.pydata.org/bokeh/release/bokeh-0.12.13.min.css\");\n",
       "      console.log(\"Bokeh: injecting CSS: https://cdn.pydata.org/bokeh/release/bokeh-widgets-0.12.13.min.css\");\n",
       "      Bokeh.embed.inject_css(\"https://cdn.pydata.org/bokeh/release/bokeh-widgets-0.12.13.min.css\");\n",
       "      console.log(\"Bokeh: injecting CSS: https://cdn.pydata.org/bokeh/release/bokeh-tables-0.12.13.min.css\");\n",
       "      Bokeh.embed.inject_css(\"https://cdn.pydata.org/bokeh/release/bokeh-tables-0.12.13.min.css\");\n",
       "    }\n",
       "  ];\n",
       "\n",
       "  function run_inline_js() {\n",
       "    \n",
       "    if ((root.Bokeh !== undefined) || (force === true)) {\n",
       "      for (var i = 0; i < inline_js.length; i++) {\n",
       "        inline_js[i].call(root, root.Bokeh);\n",
       "      }if (force === true) {\n",
       "        display_loaded();\n",
       "      }} else if (Date.now() < root._bokeh_timeout) {\n",
       "      setTimeout(run_inline_js, 100);\n",
       "    } else if (!root._bokeh_failed_load) {\n",
       "      console.log(\"Bokeh: BokehJS failed to load within specified timeout.\");\n",
       "      root._bokeh_failed_load = true;\n",
       "    } else if (force !== true) {\n",
       "      var cell = $(document.getElementById(\"0bfec429-0982-4e18-a849-685fa639ffe7\")).parents('.cell').data().cell;\n",
       "      cell.output_area.append_execute_result(NB_LOAD_WARNING)\n",
       "    }\n",
       "\n",
       "  }\n",
       "\n",
       "  if (root._bokeh_is_loading === 0) {\n",
       "    console.log(\"Bokeh: BokehJS loaded, going straight to plotting\");\n",
       "    run_inline_js();\n",
       "  } else {\n",
       "    load_libs(js_urls, function() {\n",
       "      console.log(\"Bokeh: BokehJS plotting callback run at\", now());\n",
       "      run_inline_js();\n",
       "    });\n",
       "  }\n",
       "}(window));"
      ],
      "application/vnd.bokehjs_load.v0+json": "\n(function(root) {\n  function now() {\n    return new Date();\n  }\n\n  var force = true;\n\n  if (typeof (root._bokeh_onload_callbacks) === \"undefined\" || force === true) {\n    root._bokeh_onload_callbacks = [];\n    root._bokeh_is_loading = undefined;\n  }\n\n  \n\n  \n  if (typeof (root._bokeh_timeout) === \"undefined\" || force === true) {\n    root._bokeh_timeout = Date.now() + 5000;\n    root._bokeh_failed_load = false;\n  }\n\n  var NB_LOAD_WARNING = {'data': {'text/html':\n     \"<div style='background-color: #fdd'>\\n\"+\n     \"<p>\\n\"+\n     \"BokehJS does not appear to have successfully loaded. If loading BokehJS from CDN, this \\n\"+\n     \"may be due to a slow or bad network connection. Possible fixes:\\n\"+\n     \"</p>\\n\"+\n     \"<ul>\\n\"+\n     \"<li>re-rerun `output_notebook()` to attempt to load from CDN again, or</li>\\n\"+\n     \"<li>use INLINE resources instead, as so:</li>\\n\"+\n     \"</ul>\\n\"+\n     \"<code>\\n\"+\n     \"from bokeh.resources import INLINE\\n\"+\n     \"output_notebook(resources=INLINE)\\n\"+\n     \"</code>\\n\"+\n     \"</div>\"}};\n\n  function display_loaded() {\n    var el = document.getElementById(\"0bfec429-0982-4e18-a849-685fa639ffe7\");\n    if (el != null) {\n      el.textContent = \"BokehJS is loading...\";\n    }\n    if (root.Bokeh !== undefined) {\n      if (el != null) {\n        el.textContent = \"BokehJS \" + root.Bokeh.version + \" successfully loaded.\";\n      }\n    } else if (Date.now() < root._bokeh_timeout) {\n      setTimeout(display_loaded, 100)\n    }\n  }\n\n\n  function run_callbacks() {\n    try {\n      root._bokeh_onload_callbacks.forEach(function(callback) { callback() });\n    }\n    finally {\n      delete root._bokeh_onload_callbacks\n    }\n    console.info(\"Bokeh: all callbacks have finished\");\n  }\n\n  function load_libs(js_urls, callback) {\n    root._bokeh_onload_callbacks.push(callback);\n    if (root._bokeh_is_loading > 0) {\n      console.log(\"Bokeh: BokehJS is being loaded, scheduling callback at\", now());\n      return null;\n    }\n    if (js_urls == null || js_urls.length === 0) {\n      run_callbacks();\n      return null;\n    }\n    console.log(\"Bokeh: BokehJS not loaded, scheduling load and callback at\", now());\n    root._bokeh_is_loading = js_urls.length;\n    for (var i = 0; i < js_urls.length; i++) {\n      var url = js_urls[i];\n      var s = document.createElement('script');\n      s.src = url;\n      s.async = false;\n      s.onreadystatechange = s.onload = function() {\n        root._bokeh_is_loading--;\n        if (root._bokeh_is_loading === 0) {\n          console.log(\"Bokeh: all BokehJS libraries loaded\");\n          run_callbacks()\n        }\n      };\n      s.onerror = function() {\n        console.warn(\"failed to load library \" + url);\n      };\n      console.log(\"Bokeh: injecting script tag for BokehJS library: \", url);\n      document.getElementsByTagName(\"head\")[0].appendChild(s);\n    }\n  };var element = document.getElementById(\"0bfec429-0982-4e18-a849-685fa639ffe7\");\n  if (element == null) {\n    console.log(\"Bokeh: ERROR: autoload.js configured with elementid '0bfec429-0982-4e18-a849-685fa639ffe7' but no matching script tag was found. \")\n    return false;\n  }\n\n  var js_urls = [\"https://cdn.pydata.org/bokeh/release/bokeh-0.12.13.min.js\", \"https://cdn.pydata.org/bokeh/release/bokeh-widgets-0.12.13.min.js\", \"https://cdn.pydata.org/bokeh/release/bokeh-tables-0.12.13.min.js\", \"https://cdn.pydata.org/bokeh/release/bokeh-gl-0.12.13.min.js\"];\n\n  var inline_js = [\n    function(Bokeh) {\n      Bokeh.set_log_level(\"info\");\n    },\n    \n    function(Bokeh) {\n      \n    },\n    function(Bokeh) {\n      console.log(\"Bokeh: injecting CSS: https://cdn.pydata.org/bokeh/release/bokeh-0.12.13.min.css\");\n      Bokeh.embed.inject_css(\"https://cdn.pydata.org/bokeh/release/bokeh-0.12.13.min.css\");\n      console.log(\"Bokeh: injecting CSS: https://cdn.pydata.org/bokeh/release/bokeh-widgets-0.12.13.min.css\");\n      Bokeh.embed.inject_css(\"https://cdn.pydata.org/bokeh/release/bokeh-widgets-0.12.13.min.css\");\n      console.log(\"Bokeh: injecting CSS: https://cdn.pydata.org/bokeh/release/bokeh-tables-0.12.13.min.css\");\n      Bokeh.embed.inject_css(\"https://cdn.pydata.org/bokeh/release/bokeh-tables-0.12.13.min.css\");\n    }\n  ];\n\n  function run_inline_js() {\n    \n    if ((root.Bokeh !== undefined) || (force === true)) {\n      for (var i = 0; i < inline_js.length; i++) {\n        inline_js[i].call(root, root.Bokeh);\n      }if (force === true) {\n        display_loaded();\n      }} else if (Date.now() < root._bokeh_timeout) {\n      setTimeout(run_inline_js, 100);\n    } else if (!root._bokeh_failed_load) {\n      console.log(\"Bokeh: BokehJS failed to load within specified timeout.\");\n      root._bokeh_failed_load = true;\n    } else if (force !== true) {\n      var cell = $(document.getElementById(\"0bfec429-0982-4e18-a849-685fa639ffe7\")).parents('.cell').data().cell;\n      cell.output_area.append_execute_result(NB_LOAD_WARNING)\n    }\n\n  }\n\n  if (root._bokeh_is_loading === 0) {\n    console.log(\"Bokeh: BokehJS loaded, going straight to plotting\");\n    run_inline_js();\n  } else {\n    load_libs(js_urls, function() {\n      console.log(\"Bokeh: BokehJS plotting callback run at\", now());\n      run_inline_js();\n    });\n  }\n}(window));"
     },
     "metadata": {},
     "output_type": "display_data"
    }
   ],
   "source": [
    "from jupyter_graphs import create_graphs\n",
    "from bokeh.plotting import show\n",
    "from bokeh.io import output_notebook\n",
    "from IPython.display import Markdown, display\n",
    "from IPython.core.interactiveshell import InteractiveShell\n",
    "InteractiveShell.ast_node_interactivity = \"all\"\n",
    "output_notebook()\n",
    "plots, min_error, mean_error, table = create_graphs(sim_num=4300, linear=True)"
   ]
  },
  {
   "cell_type": "markdown",
   "metadata": {},
   "source": [
    "<h3 style=\"text-align: left;\" markdown=\"1\">Parameters</h3>\n",
    "\n",
    "      sim_num: 4300\n",
    "      epochs: 150\n",
    "      batch_size: 128\n",
    "      workers_num: 5\n",
    "      learning_rate: 0.01 * sqrt(batch_size / 128) / sqrt(workers_num)\n",
    "      gradient_clipping: false\n",
    "      momentum: 0.9\n",
    "      weight_decay: 0.0005\n",
    "      nesterov: false\n",
    "      droprate: 0\n",
    "      augment: true"
   ]
  },
  {
   "cell_type": "code",
   "execution_count": 2,
   "metadata": {},
   "outputs": [
    {
     "data": {
      "text/markdown": [
       "<h3>Min Error - 40.45% , Mean Error - 40.58%<h3>"
      ],
      "text/plain": [
       "<IPython.core.display.Markdown object>"
      ]
     },
     "metadata": {},
     "output_type": "display_data"
    },
    {
     "data": {
      "text/html": [
       "\n",
       "<div class=\"bk-root\">\n",
       "    <div class=\"bk-plotdiv\" id=\"be6c49f0-fb74-4408-a202-1d5679c306f1\"></div>\n",
       "</div>"
      ]
     },
     "metadata": {},
     "output_type": "display_data"
    },
    {
     "data": {
      "application/javascript": [
       "(function(root) {\n",
       "  function embed_document(root) {\n",
       "    \n",
       "  var docs_json = {\"0667fa70-824b-4c1e-81d7-86b519f47c88\":{\"roots\":{\"references\":[{\"attributes\":{\"line_alpha\":0.1,\"line_color\":\"#1f77b4\",\"line_width\":3,\"x\":{\"field\":\"x\"},\"y\":{\"field\":\"y\"}},\"id\":\"0216d7a6-969b-4dd0-a9ed-a08a80dc4d99\",\"type\":\"Line\"},{\"attributes\":{\"data_source\":{\"id\":\"b08e8de2-4f6e-462b-bdfc-198be51ac24f\",\"type\":\"ColumnDataSource\"},\"glyph\":{\"id\":\"96bf84dd-4df0-404b-84da-f3ea87aadd9d\",\"type\":\"Line\"},\"hover_glyph\":null,\"muted_glyph\":null,\"nonselection_glyph\":{\"id\":\"0216d7a6-969b-4dd0-a9ed-a08a80dc4d99\",\"type\":\"Line\"},\"selection_glyph\":null,\"view\":{\"id\":\"e6ac809b-4b73-4089-855f-386ea90e8898\",\"type\":\"CDSView\"}},\"id\":\"230773a7-89e7-4e69-905c-8da0a47eb9bd\",\"type\":\"GlyphRenderer\"},{\"attributes\":{},\"id\":\"918abf7e-3ffb-45a1-8716-1ac81c78cbeb\",\"type\":\"LinearScale\"},{\"attributes\":{\"label\":{\"value\":\"asynchronous_128_5\"},\"renderers\":[{\"id\":\"230773a7-89e7-4e69-905c-8da0a47eb9bd\",\"type\":\"GlyphRenderer\"},{\"id\":\"26bcfb7d-9c20-4f7a-8d8e-cd33b0e6eee0\",\"type\":\"GlyphRenderer\"}]},\"id\":\"ddfa30e6-33bc-4767-8780-8a0e02700d13\",\"type\":\"LegendItem\"},{\"attributes\":{\"callback\":null,\"column_names\":[\"x\",\"y\"],\"data\":{\"x\":{\"__ndarray__\":\"AQAAAAIAAAADAAAABAAAAAUAAAAGAAAABwAAAAgAAAAJAAAACgAAAAsAAAAMAAAADQAAAA4AAAAPAAAAEAAAABEAAAASAAAAEwAAABQAAAAVAAAAFgAAABcAAAAYAAAAGQAAABoAAAAbAAAAHAAAAB0AAAAeAAAAHwAAACAAAAAhAAAAIgAAACMAAAAkAAAAJQAAACYAAAAnAAAAKAAAACkAAAAqAAAAKwAAACwAAAAtAAAALgAAAC8AAAAwAAAAMQAAADIAAAAzAAAANAAAADUAAAA2AAAANwAAADgAAAA5AAAAOgAAADsAAAA8AAAAPQAAAD4AAAA/AAAAQAAAAEEAAABCAAAAQwAAAEQAAABFAAAARgAAAEcAAABIAAAASQAAAEoAAABLAAAATAAAAE0AAABOAAAATwAAAFAAAABRAAAAUgAAAFMAAABUAAAAVQAAAFYAAABXAAAAWAAAAFkAAABaAAAAWwAAAFwAAABdAAAAXgAAAF8AAABgAAAAYQAAAGIAAABjAAAAZAAAAGUAAABmAAAAZwAAAGgAAABpAAAAagAAAGsAAABsAAAAbQAAAG4AAABvAAAAcAAAAHEAAAByAAAAcwAAAHQAAAB1AAAAdgAAAHcAAAB4AAAAeQAAAHoAAAB7AAAAfAAAAH0AAAB+AAAAfwAAAIAAAACBAAAAggAAAIMAAACEAAAAhQAAAIYAAACHAAAAiAAAAIkAAACKAAAAiwAAAIwAAACNAAAAjgAAAI8AAACQAAAAkQAAAJIAAACTAAAAlAAAAJUAAACWAAAA\",\"dtype\":\"int32\",\"shape\":[150]},\"y\":[5.328688796888593,4.17664846139599,3.6880474693449043,3.402066913630736,3.220790507789859,3.0929249846283855,2.997010248369364,2.930823189219469,2.876693176746449,2.829164715415629,2.7980830036232103,2.768268762671639,2.7408388728424,2.719577295693032,2.7028903226144205,2.683594145277741,2.6704255529852188,2.6582785537795672,2.6458844774557586,2.6368279624201736,2.626433610094529,2.617906896554627,2.6102134192251,2.6011274425280773,2.5958317778501856,2.5895383389276807,2.5827749380098757,2.5793175601296134,2.5734703750268504,2.5694038343790107,2.5620322852029087,2.5615171015839544,2.5572018234745064,2.555010977580067,2.5492870531373155,2.5440239817158576,2.541338915367532,2.5415998292735806,2.5382806700450065,2.5345066605654885,2.529899500874678,2.530988106569572,2.526551080712339,2.5246032604675226,2.5255332715499037,2.522730156744152,2.5180618454275834,2.5185946076770507,2.5169885335198656,2.51308761837738,2.1723146866064083,2.0881301287141687,2.053504410681076,2.0319595231602987,2.0172046854604444,2.0082922781219166,2.0025591129717784,2.000428241695608,1.99688565225494,1.9952794577170918,1.9942619656115224,1.995206915713768,1.9935587351553008,1.993664882835797,1.993826852178087,1.9932262449695142,1.9925117448297742,1.9927635096001282,1.9925608300372524,1.9913900809698748,1.9895461006841832,1.9892698387076495,1.9876482497909154,1.9869726594195452,1.982770563976591,1.8245397619217647,1.7854791069113165,1.7658200624621423,1.7540349330840852,1.7443719279095424,1.734983535623843,1.7275901301643641,1.7229158884391247,1.7146410961652954,1.7105785635909032,1.705210005817377,1.7019781333323187,1.6982295339245579,1.695034218517329,1.6903717816802992,1.687093117484696,1.6849015914619685,1.6822199698218758,1.6794874446037606,1.675097491006223,1.6742388375750716,1.673857203547042,1.6691914868307325,1.6671337864618916,1.6662221891566222,1.6165442100640748,1.6054773164377372,1.6015537225202832,1.5983393992943875,1.593759526815004,1.5925851701881635,1.588698225575657,1.586922345840204,1.5851300630121363,1.5833786325824215,1.5800901335285458,1.5802601830880474,1.5786543595743847,1.5769201703249267,1.5749587654827475,1.5740899006408187,1.5736388829865808,1.571119411409301,1.5680465015337364,1.569489651998232,1.5676130525175551,1.5663250263806499,1.565075334102711,1.5637135567563973,1.5625249644776906,1.5523602860191046,1.5493136382502828,1.547195855168863,1.5480745270493728,1.546536111763703,1.5451183780878721,1.544171951453454,1.5460027439307067,1.5429729856201795,1.5433741033184756,1.5432999924161037,1.5435891533062234,1.5431291864862786,1.5431529010720608,1.5406724212472362,1.5416610329294114,1.5421670906475438,1.5413319119028388,1.5407174357240616,1.5398001049978463,1.5407000271775415,1.539844537617491,1.5398159477199775,1.538195615193584,1.5383779069350658]}},\"id\":\"b08e8de2-4f6e-462b-bdfc-198be51ac24f\",\"type\":\"ColumnDataSource\"},{\"attributes\":{\"plot\":null,\"text\":\"Training & Test Loss\"},\"id\":\"0e4ac838-cd82-4f5e-bace-5ee4be40ebc0\",\"type\":\"Title\"},{\"attributes\":{},\"id\":\"3da4b9f2-a4c7-4314-bc6c-11a92cc904ef\",\"type\":\"BasicTicker\"},{\"attributes\":{\"callback\":null},\"id\":\"85ca6647-639e-40af-b068-8236cf4bec0c\",\"type\":\"DataRange1d\"},{\"attributes\":{\"plot\":{\"id\":\"7291197d-3d4e-462b-81e8-8f35ea2e2a1a\",\"subtype\":\"Figure\",\"type\":\"Plot\"},\"ticker\":{\"id\":\"3da4b9f2-a4c7-4314-bc6c-11a92cc904ef\",\"type\":\"BasicTicker\"}},\"id\":\"be63d0ac-c9ea-4dbb-97d9-f077e1c8af63\",\"type\":\"Grid\"},{\"attributes\":{\"active_drag\":\"auto\",\"active_inspect\":\"auto\",\"active_scroll\":\"auto\",\"active_tap\":\"auto\",\"tools\":[{\"id\":\"a0321a00-c99b-48a5-be22-11f416fb3904\",\"type\":\"PanTool\"},{\"id\":\"d4dbe3d2-205d-4594-a6cf-4000115d4188\",\"type\":\"WheelZoomTool\"},{\"id\":\"a314104f-d0e0-420e-8a7d-9ca3f304823c\",\"type\":\"BoxZoomTool\"},{\"id\":\"5477700d-b383-47d0-842b-d39237fdcb99\",\"type\":\"SaveTool\"},{\"id\":\"086f3f3f-5266-4396-9dfe-5a9f0109477e\",\"type\":\"ResetTool\"},{\"id\":\"b6509009-031d-4faf-9109-c15d9875fb1a\",\"type\":\"HelpTool\"}]},\"id\":\"61cd0dc5-2a35-4445-873c-674b0baa8514\",\"type\":\"Toolbar\"},{\"attributes\":{\"num_minor_ticks\":10},\"id\":\"1ab55f18-268c-40a3-9a33-493eb80ee861\",\"type\":\"LogTicker\"},{\"attributes\":{\"axis_label\":\"t [Epochs]\",\"formatter\":{\"id\":\"8e45d6cb-dd90-4caa-987f-82859451e666\",\"type\":\"BasicTickFormatter\"},\"plot\":{\"id\":\"7291197d-3d4e-462b-81e8-8f35ea2e2a1a\",\"subtype\":\"Figure\",\"type\":\"Plot\"},\"ticker\":{\"id\":\"3da4b9f2-a4c7-4314-bc6c-11a92cc904ef\",\"type\":\"BasicTicker\"}},\"id\":\"345743b9-dd63-4ac9-bd4e-840ef58427cc\",\"type\":\"LinearAxis\"},{\"attributes\":{},\"id\":\"075eb84f-0046-469d-acf6-014d73fa7ff8\",\"type\":\"LogScale\"},{\"attributes\":{\"axis_label\":\"L(w(t))\",\"formatter\":{\"id\":\"9ba72eca-c9dc-4f5f-9fcc-f7d9171fa063\",\"type\":\"LogTickFormatter\"},\"plot\":{\"id\":\"7291197d-3d4e-462b-81e8-8f35ea2e2a1a\",\"subtype\":\"Figure\",\"type\":\"Plot\"},\"ticker\":{\"id\":\"1ab55f18-268c-40a3-9a33-493eb80ee861\",\"type\":\"LogTicker\"}},\"id\":\"cb2c8966-656b-486d-856f-8349c2babffb\",\"type\":\"LogAxis\"},{\"attributes\":{\"dimension\":1,\"plot\":{\"id\":\"7291197d-3d4e-462b-81e8-8f35ea2e2a1a\",\"subtype\":\"Figure\",\"type\":\"Plot\"},\"ticker\":{\"id\":\"1ab55f18-268c-40a3-9a33-493eb80ee861\",\"type\":\"LogTicker\"}},\"id\":\"9400b07a-2f79-4932-9c66-944188494123\",\"type\":\"Grid\"},{\"attributes\":{\"bottom_units\":\"screen\",\"fill_alpha\":{\"value\":0.5},\"fill_color\":{\"value\":\"lightgrey\"},\"left_units\":\"screen\",\"level\":\"overlay\",\"line_alpha\":{\"value\":1.0},\"line_color\":{\"value\":\"black\"},\"line_dash\":[4,4],\"line_width\":{\"value\":2},\"plot\":null,\"render_mode\":\"css\",\"right_units\":\"screen\",\"top_units\":\"screen\"},\"id\":\"2c326b4e-9be7-4c27-b59a-161cbe262e06\",\"type\":\"BoxAnnotation\"},{\"attributes\":{},\"id\":\"a0321a00-c99b-48a5-be22-11f416fb3904\",\"type\":\"PanTool\"},{\"attributes\":{},\"id\":\"d4dbe3d2-205d-4594-a6cf-4000115d4188\",\"type\":\"WheelZoomTool\"},{\"attributes\":{},\"id\":\"5477700d-b383-47d0-842b-d39237fdcb99\",\"type\":\"SaveTool\"},{\"attributes\":{},\"id\":\"086f3f3f-5266-4396-9dfe-5a9f0109477e\",\"type\":\"ResetTool\"},{\"attributes\":{},\"id\":\"b6509009-031d-4faf-9109-c15d9875fb1a\",\"type\":\"HelpTool\"},{\"attributes\":{\"ticker\":null},\"id\":\"9ba72eca-c9dc-4f5f-9fcc-f7d9171fa063\",\"type\":\"LogTickFormatter\"},{\"attributes\":{\"source\":{\"id\":\"b08e8de2-4f6e-462b-bdfc-198be51ac24f\",\"type\":\"ColumnDataSource\"}},\"id\":\"e6ac809b-4b73-4089-855f-386ea90e8898\",\"type\":\"CDSView\"},{\"attributes\":{\"line_color\":\"#1f77b4\",\"line_width\":3,\"x\":{\"field\":\"x\"},\"y\":{\"field\":\"y\"}},\"id\":\"96bf84dd-4df0-404b-84da-f3ea87aadd9d\",\"type\":\"Line\"},{\"attributes\":{\"line_alpha\":0.1,\"line_color\":\"#1f77b4\",\"line_dash\":[6],\"line_width\":3,\"x\":{\"field\":\"x\"},\"y\":{\"field\":\"y\"}},\"id\":\"2fec520c-b06b-477a-91f5-6b06a700b15f\",\"type\":\"Line\"},{\"attributes\":{\"callback\":null,\"column_names\":[\"x\",\"y\"],\"data\":{\"x\":{\"__ndarray__\":\"AQAAAAIAAAADAAAABAAAAAUAAAAGAAAABwAAAAgAAAAJAAAACgAAAAsAAAAMAAAADQAAAA4AAAAPAAAAEAAAABEAAAASAAAAEwAAABQAAAAVAAAAFgAAABcAAAAYAAAAGQAAABoAAAAbAAAAHAAAAB0AAAAeAAAAHwAAACAAAAAhAAAAIgAAACMAAAAkAAAAJQAAACYAAAAnAAAAKAAAACkAAAAqAAAAKwAAACwAAAAtAAAALgAAAC8AAAAwAAAAMQAAADIAAAAzAAAANAAAADUAAAA2AAAANwAAADgAAAA5AAAAOgAAADsAAAA8AAAAPQAAAD4AAAA/AAAAQAAAAEEAAABCAAAAQwAAAEQAAABFAAAARgAAAEcAAABIAAAASQAAAEoAAABLAAAATAAAAE0AAABOAAAATwAAAFAAAABRAAAAUgAAAFMAAABUAAAAVQAAAFYAAABXAAAAWAAAAFkAAABaAAAAWwAAAFwAAABdAAAAXgAAAF8AAABgAAAAYQAAAGIAAABjAAAAZAAAAGUAAABmAAAAZwAAAGgAAABpAAAAagAAAGsAAABsAAAAbQAAAG4AAABvAAAAcAAAAHEAAAByAAAAcwAAAHQAAAB1AAAAdgAAAHcAAAB4AAAAeQAAAHoAAAB7AAAAfAAAAH0AAAB+AAAAfwAAAIAAAACBAAAAggAAAIMAAACEAAAAhQAAAIYAAACHAAAAiAAAAIkAAACKAAAAiwAAAIwAAACNAAAAjgAAAI8AAACQAAAAkQAAAJIAAACTAAAAlAAAAJUAAACWAAAA\",\"dtype\":\"int32\",\"shape\":[150]},\"y\":[4.527931776428223,3.8465312993621827,3.486637069168091,3.260415956802368,3.115022019729614,3.0289954948425293,2.9339645380401613,3.023150161437988,2.8846084059143067,3.2226994804382323,3.3750944975280763,2.9039637226104738,2.712769397277832,2.667640629119873,2.638617530899048,2.7827750257110595,2.593062006149292,2.752101713027954,2.6562954944610597,2.592718697052002,2.566748855667114,2.701024206085205,2.7106419899749756,2.603972908935547,2.638716427688599,2.694978059692383,2.7324820612335206,2.6562925073242187,2.5182638530731203,2.6133348974609376,2.5119186585998534,2.491544180755615,2.8094143518829346,2.708563314743042,2.516644493408203,2.519448592224121,2.5446875273895264,2.5095096063995364,2.603952816925049,2.658025906906128,2.498085485153198,2.522538979606628,2.637757879486084,2.6373951875305175,2.4919159111785887,2.4913695050811766,2.6580362141418457,2.573788833694458,2.6006628036499024,2.5933417534637453,2.066579413719177,2.0409648696517944,2.0472856673431394,2.0158397156143186,2.0288618826675413,2.0216322548675536,1.9941493274307251,2.0063556020355224,2.0576464110946655,2.0252677396011354,2.0067976097869873,2.013695757141113,2.0182946445465086,2.0089583153533934,2.019877415847778,2.0293967868041993,2.0303404751968386,2.025038875541687,2.0505919008255007,2.191891915206909,2.078341152381897,2.043093381576538,2.0253244211959838,2.033488542327881,2.113955248527527,1.857107830543518,1.8518893167114259,1.8459118133163452,1.8377495775222779,1.8180617266845702,1.8252225527572632,1.817099435119629,1.814782558517456,1.81811880027771,1.808764203147888,1.8148046084976197,1.8045131085586548,1.8069373818206786,1.809910651512146,1.7993567873382568,1.8068318429565429,1.7983391328430176,1.793274337387085,1.8223313285064697,1.8044608102798463,1.8048138662719726,1.804510957145691,1.7989174494552613,1.8010532934188843,1.806422529335022,1.7555647311401368,1.7551564217758178,1.7584053810119629,1.7573087144851685,1.7521748288726806,1.747252848930359,1.7480259450912476,1.7500167543411256,1.7496922534561157,1.743960424308777,1.7498011295318603,1.7437945449066161,1.7433345209884643,1.74559787940979,1.7474698765182495,1.7448460618209838,1.7503311092758178,1.7408155379867554,1.7418184606933593,1.7462800149917603,1.7382623403930664,1.7437205619430542,1.7457925164413453,1.7421198207855224,1.7378490707015992,1.7353255191421508,1.731722834854126,1.7350331259918212,1.7322915757369994,1.7284885440063475,1.7308470721817018,1.7313950178527833,1.7337083589172364,1.7335095391845703,1.7314193603515624,1.7304859965133668,1.728530753364563,1.7285442255783081,1.7308393898773193,1.7261503133010865,1.727726730041504,1.727307229232788,1.732150303955078,1.7312540803527832,1.7299701211166383,1.7339872061157227,1.7293770803833008,1.7269770705795289,1.7306148450469971,1.7302911528015137]}},\"id\":\"2ac48064-4763-411c-ada7-3d9d926f209d\",\"type\":\"ColumnDataSource\"},{\"attributes\":{\"click_policy\":\"hide\",\"items\":[{\"id\":\"ddfa30e6-33bc-4767-8780-8a0e02700d13\",\"type\":\"LegendItem\"}],\"location\":\"bottom_left\",\"plot\":{\"id\":\"7291197d-3d4e-462b-81e8-8f35ea2e2a1a\",\"subtype\":\"Figure\",\"type\":\"Plot\"}},\"id\":\"1c079b71-cc94-451a-b007-2060e7aa2689\",\"type\":\"Legend\"},{\"attributes\":{\"background_fill_color\":{\"value\":\"#fafafa\"},\"below\":[{\"id\":\"345743b9-dd63-4ac9-bd4e-840ef58427cc\",\"type\":\"LinearAxis\"}],\"left\":[{\"id\":\"cb2c8966-656b-486d-856f-8349c2babffb\",\"type\":\"LogAxis\"}],\"min_border\":10,\"min_border_left\":50,\"renderers\":[{\"id\":\"345743b9-dd63-4ac9-bd4e-840ef58427cc\",\"type\":\"LinearAxis\"},{\"id\":\"be63d0ac-c9ea-4dbb-97d9-f077e1c8af63\",\"type\":\"Grid\"},{\"id\":\"cb2c8966-656b-486d-856f-8349c2babffb\",\"type\":\"LogAxis\"},{\"id\":\"9400b07a-2f79-4932-9c66-944188494123\",\"type\":\"Grid\"},{\"id\":\"2c326b4e-9be7-4c27-b59a-161cbe262e06\",\"type\":\"BoxAnnotation\"},{\"id\":\"1c079b71-cc94-451a-b007-2060e7aa2689\",\"type\":\"Legend\"},{\"id\":\"230773a7-89e7-4e69-905c-8da0a47eb9bd\",\"type\":\"GlyphRenderer\"},{\"id\":\"26bcfb7d-9c20-4f7a-8d8e-cd33b0e6eee0\",\"type\":\"GlyphRenderer\"}],\"title\":{\"id\":\"0e4ac838-cd82-4f5e-bace-5ee4be40ebc0\",\"type\":\"Title\"},\"toolbar\":{\"id\":\"61cd0dc5-2a35-4445-873c-674b0baa8514\",\"type\":\"Toolbar\"},\"x_range\":{\"id\":\"85ca6647-639e-40af-b068-8236cf4bec0c\",\"type\":\"DataRange1d\"},\"x_scale\":{\"id\":\"918abf7e-3ffb-45a1-8716-1ac81c78cbeb\",\"type\":\"LinearScale\"},\"y_range\":{\"id\":\"cc54285d-efe8-43d5-a4a2-59a485de8d97\",\"type\":\"DataRange1d\"},\"y_scale\":{\"id\":\"075eb84f-0046-469d-acf6-014d73fa7ff8\",\"type\":\"LogScale\"}},\"id\":\"7291197d-3d4e-462b-81e8-8f35ea2e2a1a\",\"subtype\":\"Figure\",\"type\":\"Plot\"},{\"attributes\":{\"data_source\":{\"id\":\"2ac48064-4763-411c-ada7-3d9d926f209d\",\"type\":\"ColumnDataSource\"},\"glyph\":{\"id\":\"3f8f9127-bd60-4e66-8acd-90c78b7dfcb2\",\"type\":\"Line\"},\"hover_glyph\":null,\"muted_glyph\":null,\"nonselection_glyph\":{\"id\":\"2fec520c-b06b-477a-91f5-6b06a700b15f\",\"type\":\"Line\"},\"selection_glyph\":null,\"view\":{\"id\":\"3208226c-8fa4-412b-8736-0305840faaaf\",\"type\":\"CDSView\"}},\"id\":\"26bcfb7d-9c20-4f7a-8d8e-cd33b0e6eee0\",\"type\":\"GlyphRenderer\"},{\"attributes\":{\"line_color\":\"#1f77b4\",\"line_dash\":[6],\"line_width\":3,\"x\":{\"field\":\"x\"},\"y\":{\"field\":\"y\"}},\"id\":\"3f8f9127-bd60-4e66-8acd-90c78b7dfcb2\",\"type\":\"Line\"},{\"attributes\":{\"source\":{\"id\":\"2ac48064-4763-411c-ada7-3d9d926f209d\",\"type\":\"ColumnDataSource\"}},\"id\":\"3208226c-8fa4-412b-8736-0305840faaaf\",\"type\":\"CDSView\"},{\"attributes\":{},\"id\":\"8e45d6cb-dd90-4caa-987f-82859451e666\",\"type\":\"BasicTickFormatter\"},{\"attributes\":{\"overlay\":{\"id\":\"2c326b4e-9be7-4c27-b59a-161cbe262e06\",\"type\":\"BoxAnnotation\"}},\"id\":\"a314104f-d0e0-420e-8a7d-9ca3f304823c\",\"type\":\"BoxZoomTool\"},{\"attributes\":{\"callback\":null},\"id\":\"cc54285d-efe8-43d5-a4a2-59a485de8d97\",\"type\":\"DataRange1d\"}],\"root_ids\":[\"7291197d-3d4e-462b-81e8-8f35ea2e2a1a\"]},\"title\":\"Bokeh Application\",\"version\":\"0.12.13\"}};\n",
       "  var render_items = [{\"docid\":\"0667fa70-824b-4c1e-81d7-86b519f47c88\",\"elementid\":\"be6c49f0-fb74-4408-a202-1d5679c306f1\",\"modelid\":\"7291197d-3d4e-462b-81e8-8f35ea2e2a1a\"}];\n",
       "  root.Bokeh.embed.embed_items_notebook(docs_json, render_items);\n",
       "\n",
       "  }\n",
       "  if (root.Bokeh !== undefined) {\n",
       "    embed_document(root);\n",
       "  } else {\n",
       "    var attempts = 0;\n",
       "    var timer = setInterval(function(root) {\n",
       "      if (root.Bokeh !== undefined) {\n",
       "        embed_document(root);\n",
       "        clearInterval(timer);\n",
       "      }\n",
       "      attempts++;\n",
       "      if (attempts > 100) {\n",
       "        console.log(\"Bokeh: ERROR: Unable to run BokehJS code because BokehJS library is missing\")\n",
       "        clearInterval(timer);\n",
       "      }\n",
       "    }, 10, root)\n",
       "  }\n",
       "})(window);"
      ],
      "application/vnd.bokehjs_exec.v0+json": ""
     },
     "metadata": {
      "application/vnd.bokehjs_exec.v0+json": {
       "id": "7291197d-3d4e-462b-81e8-8f35ea2e2a1a"
      }
     },
     "output_type": "display_data"
    }
   ],
   "source": [
    "display(Markdown('<h3>Min Error - {0:.2f}% , Mean Error - {1:.2f}%<h3>'.format(min_error,mean_error)))\n",
    "show(plots[0])"
   ]
  },
  {
   "cell_type": "code",
   "execution_count": 3,
   "metadata": {},
   "outputs": [
    {
     "data": {
      "text/html": [
       "\n",
       "<div class=\"bk-root\">\n",
       "    <div class=\"bk-plotdiv\" id=\"43713b4f-fa11-43a6-b5e0-e4ac53214801\"></div>\n",
       "</div>"
      ]
     },
     "metadata": {},
     "output_type": "display_data"
    },
    {
     "data": {
      "application/javascript": [
       "(function(root) {\n",
       "  function embed_document(root) {\n",
       "    \n",
       "  var docs_json = {\"c19b3f05-deb2-45ee-8eae-e3c4480baf0a\":{\"roots\":{\"references\":[{\"attributes\":{\"plot\":{\"id\":\"33017772-71e7-48b0-ad1b-ab8c900bc459\",\"subtype\":\"Figure\",\"type\":\"Plot\"},\"ticker\":{\"id\":\"2a7acedf-a5eb-4797-abb5-ade2511d77fa\",\"type\":\"BasicTicker\"}},\"id\":\"8fe17faa-7fe7-44f2-91cf-eeac54e631a1\",\"type\":\"Grid\"},{\"attributes\":{},\"id\":\"2a7acedf-a5eb-4797-abb5-ade2511d77fa\",\"type\":\"BasicTicker\"},{\"attributes\":{\"axis_label\":\"Error Rate\",\"formatter\":{\"id\":\"9d7bdbd7-f888-40fd-995a-36cb22c6c4c1\",\"type\":\"NumeralTickFormatter\"},\"plot\":{\"id\":\"33017772-71e7-48b0-ad1b-ab8c900bc459\",\"subtype\":\"Figure\",\"type\":\"Plot\"},\"ticker\":{\"id\":\"ab4607cc-2003-48df-9e50-1ed0db849a4a\",\"type\":\"BasicTicker\"}},\"id\":\"6d0c7dd1-e0da-4b63-8d86-da86152a0353\",\"type\":\"LinearAxis\"},{\"attributes\":{\"line_alpha\":0.1,\"line_color\":\"#1f77b4\",\"line_width\":3,\"x\":{\"field\":\"x\"},\"y\":{\"field\":\"y\"}},\"id\":\"ee47f611-8223-452d-970b-1b62a4c90ad8\",\"type\":\"Line\"},{\"attributes\":{},\"id\":\"ab4607cc-2003-48df-9e50-1ed0db849a4a\",\"type\":\"BasicTicker\"},{\"attributes\":{\"dimension\":1,\"plot\":{\"id\":\"33017772-71e7-48b0-ad1b-ab8c900bc459\",\"subtype\":\"Figure\",\"type\":\"Plot\"},\"ticker\":{\"id\":\"ab4607cc-2003-48df-9e50-1ed0db849a4a\",\"type\":\"BasicTicker\"}},\"id\":\"0ee01ae1-a280-4b25-b219-5ef561e4fada\",\"type\":\"Grid\"},{\"attributes\":{\"bottom_units\":\"screen\",\"fill_alpha\":{\"value\":0.5},\"fill_color\":{\"value\":\"lightgrey\"},\"left_units\":\"screen\",\"level\":\"overlay\",\"line_alpha\":{\"value\":1.0},\"line_color\":{\"value\":\"black\"},\"line_dash\":[4,4],\"line_width\":{\"value\":2},\"plot\":null,\"render_mode\":\"css\",\"right_units\":\"screen\",\"top_units\":\"screen\"},\"id\":\"cc2ae9e2-bce6-42f1-af31-b2d1480c33ce\",\"type\":\"BoxAnnotation\"},{\"attributes\":{},\"id\":\"da0c7a98-3534-4ea2-9847-a398b9f04490\",\"type\":\"BasicTickFormatter\"},{\"attributes\":{\"click_policy\":\"hide\",\"items\":[{\"id\":\"1908bf87-3e98-4cc1-b2a2-28637e3ef454\",\"type\":\"LegendItem\"}],\"plot\":{\"id\":\"33017772-71e7-48b0-ad1b-ab8c900bc459\",\"subtype\":\"Figure\",\"type\":\"Plot\"}},\"id\":\"dc533a16-dc1b-4760-8042-fc797ddb476f\",\"type\":\"Legend\"},{\"attributes\":{},\"id\":\"2c41d345-ca9d-4f7b-9505-d567499f8c8d\",\"type\":\"PanTool\"},{\"attributes\":{},\"id\":\"afc9f359-1917-4acc-b2a2-033d1a52d020\",\"type\":\"WheelZoomTool\"},{\"attributes\":{\"callback\":null,\"column_names\":[\"x\",\"y\"],\"data\":{\"x\":{\"__ndarray__\":\"AQAAAAIAAAADAAAABAAAAAUAAAAGAAAABwAAAAgAAAAJAAAACgAAAAsAAAAMAAAADQAAAA4AAAAPAAAAEAAAABEAAAASAAAAEwAAABQAAAAVAAAAFgAAABcAAAAYAAAAGQAAABoAAAAbAAAAHAAAAB0AAAAeAAAAHwAAACAAAAAhAAAAIgAAACMAAAAkAAAAJQAAACYAAAAnAAAAKAAAACkAAAAqAAAAKwAAACwAAAAtAAAALgAAAC8AAAAwAAAAMQAAADIAAAAzAAAANAAAADUAAAA2AAAANwAAADgAAAA5AAAAOgAAADsAAAA8AAAAPQAAAD4AAAA/AAAAQAAAAEEAAABCAAAAQwAAAEQAAABFAAAARgAAAEcAAABIAAAASQAAAEoAAABLAAAATAAAAE0AAABOAAAATwAAAFAAAABRAAAAUgAAAFMAAABUAAAAVQAAAFYAAABXAAAAWAAAAFkAAABaAAAAWwAAAFwAAABdAAAAXgAAAF8AAABgAAAAYQAAAGIAAABjAAAAZAAAAGUAAABmAAAAZwAAAGgAAABpAAAAagAAAGsAAABsAAAAbQAAAG4AAABvAAAAcAAAAHEAAAByAAAAcwAAAHQAAAB1AAAAdgAAAHcAAAB4AAAAeQAAAHoAAAB7AAAAfAAAAH0AAAB+AAAAfwAAAIAAAACBAAAAggAAAIMAAACEAAAAhQAAAIYAAACHAAAAiAAAAIkAAACKAAAAiwAAAIwAAACNAAAAjgAAAI8AAACQAAAAkQAAAJIAAACTAAAAlAAAAJUAAACWAAAA\",\"dtype\":\"int32\",\"shape\":[150]},\"y\":[0.927379490729936,0.8177115083357966,0.7499826330213187,0.7064855713579884,0.6778663515373095,0.6567371779012343,0.6406362324350341,0.6291818318767186,0.6197349760023478,0.6112903313932496,0.606024819559117,0.6014422787975265,0.5960081706757907,0.5926112676957804,0.5896600521243522,0.586084405858171,0.5837911841314917,0.5816930969967226,0.5793741175038071,0.5776819103208247,0.5762144981879802,0.5744879473168567,0.5727567132153731,0.571568733818464,0.5705977440880072,0.5695330897533265,0.5679962097056824,0.5676621392842475,0.5668019860018435,0.5655078533869439,0.564152058240651,0.5642574309204774,0.56333717618405,0.5632692693458385,0.5615317909374812,0.5611282526010979,0.56114074121492,0.560628708045087,0.56026731878053,0.559253399439804,0.5588170784917933,0.558856885948663,0.5580630784277519,0.5577883289220651,0.5578414055311999,0.5572911259812343,0.5563872625506204,0.5564356559293951,0.5560446062068339,0.5557074136314781,0.4897089918803571,0.47436751024666635,0.46782972087174846,0.46321049480668797,0.4604723662098696,0.4592445793561651,0.45784117136954045,0.4567577841141637,0.4566766081238361,0.45670470750495445,0.45617940518300526,0.45666724166341366,0.45612398695891376,0.4557641587711684,0.45624184825271136,0.45620360187250436,0.4558648482207093,0.45610135134607743,0.4560904238092157,0.45585470122191835,0.4548766866461449,0.45516860799567893,0.45486341749387976,0.4545972539099118,0.4545231027649011,0.421244068884221,0.41280644912036507,0.40958438673490655,0.4076533348111526,0.4047263159291489,0.40352428684160613,0.4016494336806845,0.4009492907639603,0.3992430338904932,0.39839771083707276,0.3972643691260354,0.3967242365750841,0.3954589838795411,0.395186575988997,0.39401264628294475,0.39387995476014503,0.3938073646920202,0.39268729213302456,0.3924835716188372,0.3912105135396088,0.3911894390036583,0.3913151056811413,0.39039250932968256,0.3900116066055773,0.38921233531616095,0.37917617297384454,0.3763201830832286,0.37629910854727816,0.37543349149642474,0.3738685120678112,0.3737834333853432,0.3729170357965679,0.37245885977423826,0.37227855541080906,0.3716494414859193,0.37105154909577087,0.3712451226108696,0.3709672509516714,0.3711327250858007,0.37019920119703364,0.3696247249580902,0.3703818471754195,0.3689878056492173,0.3684078656412474,0.36891521558079465,0.3684976275539266,0.3684664060188874,0.3682322445086249,0.3682767351954825,0.36777328794792674,0.3654066956145307,0.3649984740474895,0.36378473688441865,0.3644497555747076,0.36365594805375934,0.36387215718184335,0.3632648983309748,0.36385342426099854,0.36359272444575924,0.3636582896690138,0.36388386525752026,0.36353184245316245,0.36358179690859976,0.3635615029111667,0.36293863329300186,0.3629792212882401,0.36328050909864323,0.36266232271076404,0.36261314879354645,0.3623485462866132,0.36276613431348137,0.36234620467135875,0.36235869328540427,0.36262017363871435,0.36249450696130586]}},\"id\":\"1b972c67-e36a-4a4f-a585-f6ca8a0c0155\",\"type\":\"ColumnDataSource\"},{\"attributes\":{\"data_source\":{\"id\":\"1b972c67-e36a-4a4f-a585-f6ca8a0c0155\",\"type\":\"ColumnDataSource\"},\"glyph\":{\"id\":\"529c455b-c139-4206-aefc-67b3580512be\",\"type\":\"Line\"},\"hover_glyph\":null,\"muted_glyph\":null,\"nonselection_glyph\":{\"id\":\"ee47f611-8223-452d-970b-1b62a4c90ad8\",\"type\":\"Line\"},\"selection_glyph\":null,\"view\":{\"id\":\"b907287e-c237-4680-abdf-246162a7d07f\",\"type\":\"CDSView\"}},\"id\":\"b6ac870d-5f93-43d2-8ad4-0658a58c209c\",\"type\":\"GlyphRenderer\"},{\"attributes\":{\"overlay\":{\"id\":\"cc2ae9e2-bce6-42f1-af31-b2d1480c33ce\",\"type\":\"BoxAnnotation\"}},\"id\":\"ad401cd3-0a2c-412b-8c55-d103bb509bf9\",\"type\":\"BoxZoomTool\"},{\"attributes\":{},\"id\":\"b06081e2-2dbf-47da-8482-3c65adbe9670\",\"type\":\"SaveTool\"},{\"attributes\":{\"line_color\":\"#1f77b4\",\"line_width\":3,\"x\":{\"field\":\"x\"},\"y\":{\"field\":\"y\"}},\"id\":\"529c455b-c139-4206-aefc-67b3580512be\",\"type\":\"Line\"},{\"attributes\":{},\"id\":\"5cbb1427-e0bd-493f-81bd-cf3b909b90f8\",\"type\":\"ResetTool\"},{\"attributes\":{},\"id\":\"2cf74f5a-5c37-4a2e-969b-ac82eb2e5c56\",\"type\":\"HelpTool\"},{\"attributes\":{\"source\":{\"id\":\"1b972c67-e36a-4a4f-a585-f6ca8a0c0155\",\"type\":\"ColumnDataSource\"}},\"id\":\"b907287e-c237-4680-abdf-246162a7d07f\",\"type\":\"CDSView\"},{\"attributes\":{\"label\":{\"value\":\"asynchronous_128_5\"},\"renderers\":[{\"id\":\"b6ac870d-5f93-43d2-8ad4-0658a58c209c\",\"type\":\"GlyphRenderer\"},{\"id\":\"24463c22-6c13-412c-b442-c3fffa1bf110\",\"type\":\"GlyphRenderer\"}]},\"id\":\"1908bf87-3e98-4cc1-b2a2-28637e3ef454\",\"type\":\"LegendItem\"},{\"attributes\":{\"line_alpha\":0.1,\"line_color\":\"#1f77b4\",\"line_dash\":[6],\"line_width\":3,\"x\":{\"field\":\"x\"},\"y\":{\"field\":\"y\"}},\"id\":\"986c0473-3e9c-469b-ae72-8cb597500d5b\",\"type\":\"Line\"},{\"attributes\":{\"active_drag\":\"auto\",\"active_inspect\":\"auto\",\"active_scroll\":\"auto\",\"active_tap\":\"auto\",\"tools\":[{\"id\":\"2c41d345-ca9d-4f7b-9505-d567499f8c8d\",\"type\":\"PanTool\"},{\"id\":\"afc9f359-1917-4acc-b2a2-033d1a52d020\",\"type\":\"WheelZoomTool\"},{\"id\":\"ad401cd3-0a2c-412b-8c55-d103bb509bf9\",\"type\":\"BoxZoomTool\"},{\"id\":\"b06081e2-2dbf-47da-8482-3c65adbe9670\",\"type\":\"SaveTool\"},{\"id\":\"5cbb1427-e0bd-493f-81bd-cf3b909b90f8\",\"type\":\"ResetTool\"},{\"id\":\"2cf74f5a-5c37-4a2e-969b-ac82eb2e5c56\",\"type\":\"HelpTool\"}]},\"id\":\"f4deb388-9a75-48cf-99fb-cb80c75df9de\",\"type\":\"Toolbar\"},{\"attributes\":{\"callback\":null,\"column_names\":[\"x\",\"y\"],\"data\":{\"x\":{\"__ndarray__\":\"AQAAAAIAAAADAAAABAAAAAUAAAAGAAAABwAAAAgAAAAJAAAACgAAAAsAAAAMAAAADQAAAA4AAAAPAAAAEAAAABEAAAASAAAAEwAAABQAAAAVAAAAFgAAABcAAAAYAAAAGQAAABoAAAAbAAAAHAAAAB0AAAAeAAAAHwAAACAAAAAhAAAAIgAAACMAAAAkAAAAJQAAACYAAAAnAAAAKAAAACkAAAAqAAAAKwAAACwAAAAtAAAALgAAAC8AAAAwAAAAMQAAADIAAAAzAAAANAAAADUAAAA2AAAANwAAADgAAAA5AAAAOgAAADsAAAA8AAAAPQAAAD4AAAA/AAAAQAAAAEEAAABCAAAAQwAAAEQAAABFAAAARgAAAEcAAABIAAAASQAAAEoAAABLAAAATAAAAE0AAABOAAAATwAAAFAAAABRAAAAUgAAAFMAAABUAAAAVQAAAFYAAABXAAAAWAAAAFkAAABaAAAAWwAAAFwAAABdAAAAXgAAAF8AAABgAAAAYQAAAGIAAABjAAAAZAAAAGUAAABmAAAAZwAAAGgAAABpAAAAagAAAGsAAABsAAAAbQAAAG4AAABvAAAAcAAAAHEAAAByAAAAcwAAAHQAAAB1AAAAdgAAAHcAAAB4AAAAeQAAAHoAAAB7AAAAfAAAAH0AAAB+AAAAfwAAAIAAAACBAAAAggAAAIMAAACEAAAAhQAAAIYAAACHAAAAiAAAAIkAAACKAAAAiwAAAIwAAACNAAAAjgAAAI8AAACQAAAAkQAAAJIAAACTAAAAlAAAAJUAAACWAAAA\",\"dtype\":\"int32\",\"shape\":[150]},\"y\":[0.8573400000732421,0.7743800000610352,0.7199800000366211,0.6821199999267579,0.6613200001098634,0.6441399999023437,0.6320400000854492,0.6445999999877929,0.6212000000610352,0.666559999963379,0.6846000001220703,0.6186000000366211,0.5934999999511719,0.5879200000610352,0.5805000000488281,0.6023600000610352,0.572060000012207,0.5977399999023437,0.5800400000854492,0.5714199999267577,0.5660399999023438,0.5840799999511719,0.5884599999389648,0.5764400000610351,0.5815800000976562,0.5854399999267578,0.5916399999755859,0.580620000024414,0.558960000024414,0.5739800000122071,0.5567800000610351,0.5528200001464844,0.603480000024414,0.5885999999389648,0.5568800001098633,0.5591400001586915,0.562920000012207,0.5580200001220703,0.5744799999389648,0.5805199999877929,0.5524399999877929,0.5582400000610351,0.5758400000854492,0.5739400000610352,0.5519799999633789,0.5539199999755859,0.5801200000366211,0.5635400001464843,0.5715200000610351,0.5714400001342773,0.47166000001220704,0.46727999996337893,0.46935999995117184,0.46184000002441405,0.4645800000244141,0.4619199999267578,0.45949999998779295,0.4591400000366211,0.47090000015869143,0.46350000010986325,0.4616000000244141,0.46255999992675784,0.46191999997558597,0.46182,0.4656400000732422,0.4636799999511719,0.4640000001464844,0.46293999997558594,0.46819999991455075,0.4939800000366211,0.47372000007324216,0.4666199999633789,0.4637399999755859,0.464739999987793,0.4813,0.4318799998779297,0.42860000012207033,0.42850000014648437,0.4265199999267578,0.4235599998779297,0.4246599999023437,0.42314000014648434,0.4217799998535156,0.42174000017089847,0.4215000001220703,0.42156000024414064,0.4204200001708984,0.42007999992675776,0.4208399998535156,0.4190000001464844,0.4215399998535156,0.4197400000610352,0.4186199998779297,0.42532000024414063,0.4221400001708984,0.4210200001708984,0.4200999998779297,0.4186000000976563,0.4186400001220703,0.42063999982910155,0.41068000021972656,0.41147999990234374,0.41103999995117185,0.4111799999023437,0.4088599999755859,0.4100400002197266,0.4101799999023437,0.4084000001220703,0.4091399999267578,0.40951999987792964,0.4096400002197266,0.40784000009765625,0.4094200002197265,0.40939999990234377,0.40950000014648436,0.40831999990234374,0.40991999987792965,0.4077999999023437,0.4091400001708984,0.4088000001464844,0.40771999997558594,0.40775999997558593,0.40965999992675783,0.40702000024414065,0.4075599998779297,0.40721999990234375,0.40737999992675783,0.40771999995117186,0.40718000017089845,0.40640000014648436,0.40587999992675783,0.40703999990234374,0.4067600002197265,0.4060600001953125,0.40556000019531246,0.4067599998779297,0.405,0.40468000019531253,0.40574000017089845,0.40474000019531253,0.40560000021972653,0.40534000014648436,0.40473999990234377,0.40540000014648436,0.40445999997558596,0.4066999998779297,0.4055000001464844,0.4054800001464844,0.40656000012207033,0.4051000001464844]}},\"id\":\"1eb2719b-047e-4871-b536-6c2d97d77bb2\",\"type\":\"ColumnDataSource\"},{\"attributes\":{\"line_color\":\"#1f77b4\",\"line_dash\":[6],\"line_width\":3,\"x\":{\"field\":\"x\"},\"y\":{\"field\":\"y\"}},\"id\":\"c9d8468f-058e-4d69-a04a-a3361efce491\",\"type\":\"Line\"},{\"attributes\":{\"data_source\":{\"id\":\"1eb2719b-047e-4871-b536-6c2d97d77bb2\",\"type\":\"ColumnDataSource\"},\"glyph\":{\"id\":\"c9d8468f-058e-4d69-a04a-a3361efce491\",\"type\":\"Line\"},\"hover_glyph\":null,\"muted_glyph\":null,\"nonselection_glyph\":{\"id\":\"986c0473-3e9c-469b-ae72-8cb597500d5b\",\"type\":\"Line\"},\"selection_glyph\":null,\"view\":{\"id\":\"4b64bd6e-0a9e-4ca6-bf4a-e6645cadc0d8\",\"type\":\"CDSView\"}},\"id\":\"24463c22-6c13-412c-b442-c3fffa1bf110\",\"type\":\"GlyphRenderer\"},{\"attributes\":{\"source\":{\"id\":\"1eb2719b-047e-4871-b536-6c2d97d77bb2\",\"type\":\"ColumnDataSource\"}},\"id\":\"4b64bd6e-0a9e-4ca6-bf4a-e6645cadc0d8\",\"type\":\"CDSView\"},{\"attributes\":{\"plot\":null,\"text\":\"Training & Test Error\"},\"id\":\"0f71f824-8c29-467d-9cfc-d9fbe23456fd\",\"type\":\"Title\"},{\"attributes\":{\"callback\":null},\"id\":\"a1a76d38-af6b-44f0-9d70-400531189a51\",\"type\":\"DataRange1d\"},{\"attributes\":{\"format\":\"0.0%\"},\"id\":\"9d7bdbd7-f888-40fd-995a-36cb22c6c4c1\",\"type\":\"NumeralTickFormatter\"},{\"attributes\":{\"background_fill_color\":{\"value\":\"#fafafa\"},\"below\":[{\"id\":\"23408ed3-2872-481d-a9ce-f781108b6923\",\"type\":\"LinearAxis\"}],\"left\":[{\"id\":\"6d0c7dd1-e0da-4b63-8d86-da86152a0353\",\"type\":\"LinearAxis\"}],\"min_border\":10,\"min_border_left\":50,\"renderers\":[{\"id\":\"23408ed3-2872-481d-a9ce-f781108b6923\",\"type\":\"LinearAxis\"},{\"id\":\"8fe17faa-7fe7-44f2-91cf-eeac54e631a1\",\"type\":\"Grid\"},{\"id\":\"6d0c7dd1-e0da-4b63-8d86-da86152a0353\",\"type\":\"LinearAxis\"},{\"id\":\"0ee01ae1-a280-4b25-b219-5ef561e4fada\",\"type\":\"Grid\"},{\"id\":\"cc2ae9e2-bce6-42f1-af31-b2d1480c33ce\",\"type\":\"BoxAnnotation\"},{\"id\":\"dc533a16-dc1b-4760-8042-fc797ddb476f\",\"type\":\"Legend\"},{\"id\":\"b6ac870d-5f93-43d2-8ad4-0658a58c209c\",\"type\":\"GlyphRenderer\"},{\"id\":\"24463c22-6c13-412c-b442-c3fffa1bf110\",\"type\":\"GlyphRenderer\"}],\"title\":{\"id\":\"0f71f824-8c29-467d-9cfc-d9fbe23456fd\",\"type\":\"Title\"},\"toolbar\":{\"id\":\"f4deb388-9a75-48cf-99fb-cb80c75df9de\",\"type\":\"Toolbar\"},\"x_range\":{\"id\":\"a1a76d38-af6b-44f0-9d70-400531189a51\",\"type\":\"DataRange1d\"},\"x_scale\":{\"id\":\"032fe189-5e9b-435a-b9e1-27ff7ac03fd7\",\"type\":\"LinearScale\"},\"y_range\":{\"id\":\"98eb5fe4-5a7f-4441-b557-c25ca22b1241\",\"type\":\"DataRange1d\"},\"y_scale\":{\"id\":\"3b45eec8-c5ae-4bf7-a906-38fbc2705ceb\",\"type\":\"LinearScale\"}},\"id\":\"33017772-71e7-48b0-ad1b-ab8c900bc459\",\"subtype\":\"Figure\",\"type\":\"Plot\"},{\"attributes\":{\"axis_label\":\"t [Epochs]\",\"formatter\":{\"id\":\"da0c7a98-3534-4ea2-9847-a398b9f04490\",\"type\":\"BasicTickFormatter\"},\"plot\":{\"id\":\"33017772-71e7-48b0-ad1b-ab8c900bc459\",\"subtype\":\"Figure\",\"type\":\"Plot\"},\"ticker\":{\"id\":\"2a7acedf-a5eb-4797-abb5-ade2511d77fa\",\"type\":\"BasicTicker\"}},\"id\":\"23408ed3-2872-481d-a9ce-f781108b6923\",\"type\":\"LinearAxis\"},{\"attributes\":{},\"id\":\"3b45eec8-c5ae-4bf7-a906-38fbc2705ceb\",\"type\":\"LinearScale\"},{\"attributes\":{},\"id\":\"032fe189-5e9b-435a-b9e1-27ff7ac03fd7\",\"type\":\"LinearScale\"},{\"attributes\":{\"callback\":null},\"id\":\"98eb5fe4-5a7f-4441-b557-c25ca22b1241\",\"type\":\"DataRange1d\"}],\"root_ids\":[\"33017772-71e7-48b0-ad1b-ab8c900bc459\"]},\"title\":\"Bokeh Application\",\"version\":\"0.12.13\"}};\n",
       "  var render_items = [{\"docid\":\"c19b3f05-deb2-45ee-8eae-e3c4480baf0a\",\"elementid\":\"43713b4f-fa11-43a6-b5e0-e4ac53214801\",\"modelid\":\"33017772-71e7-48b0-ad1b-ab8c900bc459\"}];\n",
       "  root.Bokeh.embed.embed_items_notebook(docs_json, render_items);\n",
       "\n",
       "  }\n",
       "  if (root.Bokeh !== undefined) {\n",
       "    embed_document(root);\n",
       "  } else {\n",
       "    var attempts = 0;\n",
       "    var timer = setInterval(function(root) {\n",
       "      if (root.Bokeh !== undefined) {\n",
       "        embed_document(root);\n",
       "        clearInterval(timer);\n",
       "      }\n",
       "      attempts++;\n",
       "      if (attempts > 100) {\n",
       "        console.log(\"Bokeh: ERROR: Unable to run BokehJS code because BokehJS library is missing\")\n",
       "        clearInterval(timer);\n",
       "      }\n",
       "    }, 10, root)\n",
       "  }\n",
       "})(window);"
      ],
      "application/vnd.bokehjs_exec.v0+json": ""
     },
     "metadata": {
      "application/vnd.bokehjs_exec.v0+json": {
       "id": "33017772-71e7-48b0-ad1b-ab8c900bc459"
      }
     },
     "output_type": "display_data"
    }
   ],
   "source": [
    "show(plots[1])"
   ]
  },
  {
   "cell_type": "code",
   "execution_count": 4,
   "metadata": {},
   "outputs": [
    {
     "data": {
      "text/html": [
       "\n",
       "<div class=\"bk-root\">\n",
       "    <div class=\"bk-plotdiv\" id=\"8a7d04c6-48ed-4e11-914e-4d3b5c5c5764\"></div>\n",
       "</div>"
      ]
     },
     "metadata": {},
     "output_type": "display_data"
    },
    {
     "data": {
      "application/javascript": [
       "(function(root) {\n",
       "  function embed_document(root) {\n",
       "    \n",
       "  var docs_json = {\"c895e8d8-05ca-4873-ac6a-bf34929b9887\":{\"roots\":{\"references\":[{\"attributes\":{\"axis_label\":\"||w(t)||\",\"formatter\":{\"id\":\"7b83d8b9-1a9b-4b39-961b-139f4663988e\",\"type\":\"BasicTickFormatter\"},\"plot\":{\"id\":\"010cf015-d714-4088-814f-1767bc5b25cb\",\"subtype\":\"Figure\",\"type\":\"Plot\"},\"ticker\":{\"id\":\"8e0b92e0-2a20-43d3-8908-48635e85849e\",\"type\":\"BasicTicker\"}},\"id\":\"6ed279f1-92b4-4935-9cef-e8260129bf33\",\"type\":\"LinearAxis\"},{\"attributes\":{},\"id\":\"96161845-9bc8-4b88-a3e9-136f350c51cf\",\"type\":\"BasicTicker\"},{\"attributes\":{\"dimension\":1,\"plot\":{\"id\":\"010cf015-d714-4088-814f-1767bc5b25cb\",\"subtype\":\"Figure\",\"type\":\"Plot\"},\"ticker\":{\"id\":\"8e0b92e0-2a20-43d3-8908-48635e85849e\",\"type\":\"BasicTicker\"}},\"id\":\"eb81e254-2d87-4533-8efe-f6e0c799a283\",\"type\":\"Grid\"},{\"attributes\":{\"bottom_units\":\"screen\",\"fill_alpha\":{\"value\":0.5},\"fill_color\":{\"value\":\"lightgrey\"},\"left_units\":\"screen\",\"level\":\"overlay\",\"line_alpha\":{\"value\":1.0},\"line_color\":{\"value\":\"black\"},\"line_dash\":[4,4],\"line_width\":{\"value\":2},\"plot\":null,\"render_mode\":\"css\",\"right_units\":\"screen\",\"top_units\":\"screen\"},\"id\":\"71b6ca09-2c09-42a8-b9f8-a1f28ba0d451\",\"type\":\"BoxAnnotation\"},{\"attributes\":{},\"id\":\"0cb50ead-6c62-415e-80e8-5321624a84d0\",\"type\":\"PanTool\"},{\"attributes\":{},\"id\":\"528b27b4-fe6d-4d0e-8e83-05ed047f8bb9\",\"type\":\"WheelZoomTool\"},{\"attributes\":{\"overlay\":{\"id\":\"71b6ca09-2c09-42a8-b9f8-a1f28ba0d451\",\"type\":\"BoxAnnotation\"}},\"id\":\"72d48ef4-2c7d-407f-88aa-fd833dbb0051\",\"type\":\"BoxZoomTool\"},{\"attributes\":{},\"id\":\"3ac592c1-c26b-400f-96d5-3e99bf75269c\",\"type\":\"SaveTool\"},{\"attributes\":{},\"id\":\"50872fe2-4e68-49d3-9991-51d1118cf50e\",\"type\":\"ResetTool\"},{\"attributes\":{},\"id\":\"afa2da43-3e11-46c5-b26f-69a9438a21bd\",\"type\":\"HelpTool\"},{\"attributes\":{\"callback\":null},\"id\":\"31316502-8b9b-4546-84b9-6a3d1be08a3d\",\"type\":\"DataRange1d\"},{\"attributes\":{\"data_source\":{\"id\":\"74180ecb-d6c0-4a80-9819-9f5774d110b1\",\"type\":\"ColumnDataSource\"},\"glyph\":{\"id\":\"f18ba73b-7748-4ff8-bbaf-f6a390329d3b\",\"type\":\"Line\"},\"hover_glyph\":null,\"muted_glyph\":null,\"nonselection_glyph\":{\"id\":\"5eb46c6c-5325-4eac-8d7b-fa68171325b8\",\"type\":\"Line\"},\"selection_glyph\":null,\"view\":{\"id\":\"58a9eea3-a314-4144-b7e5-90deef28afa5\",\"type\":\"CDSView\"}},\"id\":\"6a5526d9-c11e-4e8b-ae40-dfc5940e1a81\",\"type\":\"GlyphRenderer\"},{\"attributes\":{\"line_color\":\"#1f77b4\",\"line_width\":3,\"x\":{\"field\":\"x\"},\"y\":{\"field\":\"y\"}},\"id\":\"f18ba73b-7748-4ff8-bbaf-f6a390329d3b\",\"type\":\"Line\"},{\"attributes\":{\"plot\":null,\"text\":\"The Norm of w(t)\"},\"id\":\"eacba031-75c2-4e2d-b7a6-06991a5d0fe8\",\"type\":\"Title\"},{\"attributes\":{\"line_alpha\":0.1,\"line_color\":\"#1f77b4\",\"line_width\":3,\"x\":{\"field\":\"x\"},\"y\":{\"field\":\"y\"}},\"id\":\"5eb46c6c-5325-4eac-8d7b-fa68171325b8\",\"type\":\"Line\"},{\"attributes\":{\"background_fill_color\":{\"value\":\"#fafafa\"},\"below\":[{\"id\":\"4f1995bb-6758-4c6b-bde3-6869375fbcd4\",\"type\":\"LinearAxis\"}],\"left\":[{\"id\":\"6ed279f1-92b4-4935-9cef-e8260129bf33\",\"type\":\"LinearAxis\"}],\"min_border\":10,\"min_border_left\":50,\"renderers\":[{\"id\":\"4f1995bb-6758-4c6b-bde3-6869375fbcd4\",\"type\":\"LinearAxis\"},{\"id\":\"8c9939c8-78f0-434b-b8e6-0d218f6ee507\",\"type\":\"Grid\"},{\"id\":\"6ed279f1-92b4-4935-9cef-e8260129bf33\",\"type\":\"LinearAxis\"},{\"id\":\"eb81e254-2d87-4533-8efe-f6e0c799a283\",\"type\":\"Grid\"},{\"id\":\"71b6ca09-2c09-42a8-b9f8-a1f28ba0d451\",\"type\":\"BoxAnnotation\"},{\"id\":\"e6015af6-7e68-4be6-a1a9-13abb5c73e58\",\"type\":\"Legend\"},{\"id\":\"6a5526d9-c11e-4e8b-ae40-dfc5940e1a81\",\"type\":\"GlyphRenderer\"}],\"title\":{\"id\":\"eacba031-75c2-4e2d-b7a6-06991a5d0fe8\",\"type\":\"Title\"},\"toolbar\":{\"id\":\"3470d7a3-cc1f-4ffd-9db3-9e1f026af78d\",\"type\":\"Toolbar\"},\"x_range\":{\"id\":\"31316502-8b9b-4546-84b9-6a3d1be08a3d\",\"type\":\"DataRange1d\"},\"x_scale\":{\"id\":\"d013185e-747f-4138-a2c4-754942a39d3f\",\"type\":\"LinearScale\"},\"y_range\":{\"id\":\"d3a75327-b92b-4dc0-81c2-d00201d60ee3\",\"type\":\"DataRange1d\"},\"y_scale\":{\"id\":\"f85a2a88-edf9-473c-ac56-a922e46ea7cc\",\"type\":\"LinearScale\"}},\"id\":\"010cf015-d714-4088-814f-1767bc5b25cb\",\"subtype\":\"Figure\",\"type\":\"Plot\"},{\"attributes\":{\"active_drag\":\"auto\",\"active_inspect\":\"auto\",\"active_scroll\":\"auto\",\"active_tap\":\"auto\",\"tools\":[{\"id\":\"0cb50ead-6c62-415e-80e8-5321624a84d0\",\"type\":\"PanTool\"},{\"id\":\"528b27b4-fe6d-4d0e-8e83-05ed047f8bb9\",\"type\":\"WheelZoomTool\"},{\"id\":\"72d48ef4-2c7d-407f-88aa-fd833dbb0051\",\"type\":\"BoxZoomTool\"},{\"id\":\"3ac592c1-c26b-400f-96d5-3e99bf75269c\",\"type\":\"SaveTool\"},{\"id\":\"50872fe2-4e68-49d3-9991-51d1118cf50e\",\"type\":\"ResetTool\"},{\"id\":\"afa2da43-3e11-46c5-b26f-69a9438a21bd\",\"type\":\"HelpTool\"}]},\"id\":\"3470d7a3-cc1f-4ffd-9db3-9e1f026af78d\",\"type\":\"Toolbar\"},{\"attributes\":{\"callback\":null,\"column_names\":[\"x\",\"y\"],\"data\":{\"x\":{\"__ndarray__\":\"AQAAAAIAAAADAAAABAAAAAUAAAAGAAAABwAAAAgAAAAJAAAACgAAAAsAAAAMAAAADQAAAA4AAAAPAAAAEAAAABEAAAASAAAAEwAAABQAAAAVAAAAFgAAABcAAAAYAAAAGQAAABoAAAAbAAAAHAAAAB0AAAAeAAAAHwAAACAAAAAhAAAAIgAAACMAAAAkAAAAJQAAACYAAAAnAAAAKAAAACkAAAAqAAAAKwAAACwAAAAtAAAALgAAAC8AAAAwAAAAMQAAADIAAAAzAAAANAAAADUAAAA2AAAANwAAADgAAAA5AAAAOgAAADsAAAA8AAAAPQAAAD4AAAA/AAAAQAAAAEEAAABCAAAAQwAAAEQAAABFAAAARgAAAEcAAABIAAAASQAAAEoAAABLAAAATAAAAE0AAABOAAAATwAAAFAAAABRAAAAUgAAAFMAAABUAAAAVQAAAFYAAABXAAAAWAAAAFkAAABaAAAAWwAAAFwAAABdAAAAXgAAAF8AAABgAAAAYQAAAGIAAABjAAAAZAAAAGUAAABmAAAAZwAAAGgAAABpAAAAagAAAGsAAABsAAAAbQAAAG4AAABvAAAAcAAAAHEAAAByAAAAcwAAAHQAAAB1AAAAdgAAAHcAAAB4AAAAeQAAAHoAAAB7AAAAfAAAAH0AAAB+AAAAfwAAAIAAAACBAAAAggAAAIMAAACEAAAAhQAAAIYAAACHAAAAiAAAAIkAAACKAAAAiwAAAIwAAACNAAAAjgAAAI8AAACQAAAAkQAAAJIAAACTAAAAlAAAAJUAAACWAAAA\",\"dtype\":\"int32\",\"shape\":[150]},\"y\":[30.92437171936035,27.26727867126465,25.32777976989746,24.611806869506836,24.771066665649414,25.552059173583984,26.489763259887695,27.256994247436523,27.836688995361328,28.291196823120117,28.665781021118164,28.988990783691406,29.270374298095703,29.517017364501953,29.734485626220703,29.914756774902344,30.059778213500977,30.19011688232422,30.327051162719727,30.4265079498291,30.521467208862305,30.609434127807617,30.67713165283203,30.735013961791992,30.785839080810547,30.859542846679688,30.900896072387695,30.94777488708496,30.989036560058594,31.046222686767578,31.085472106933594,31.113447189331055,31.148950576782227,31.180688858032227,31.202966690063477,31.240999221801758,31.260534286499023,31.277240753173828,31.306859970092773,31.329540252685547,31.339582443237305,31.356121063232422,31.38429832458496,31.404834747314453,31.415828704833984,31.436599731445312,31.45194435119629,31.46310806274414,31.471242904663086,31.49277114868164,30.38054847717285,29.36976432800293,28.454538345336914,27.631790161132812,26.899028778076172,26.25472640991211,25.694599151611328,25.213172912597656,24.803112030029297,24.461519241333008,24.181211471557617,23.954402923583984,23.772891998291016,23.631391525268555,23.523151397705078,23.443439483642578,23.38551902770996,23.34626579284668,23.3233642578125,23.314159393310547,23.311595916748047,23.320087432861328,23.334440231323242,23.353801727294922,23.37745475769043,23.20925521850586,23.044065475463867,22.882156372070312,22.72345542907715,22.56783676147461,22.41529083251953,22.26580810546875,22.11939239501953,21.976055145263672,21.835826873779297,21.698579788208008,21.56448745727539,21.43335723876953,21.305246353149414,21.18010902404785,21.05801773071289,20.93903350830078,20.822895050048828,20.709774017333984,20.599592208862305,20.492284774780273,20.38808822631836,20.286760330200195,20.188339233398438,20.092618942260742,20.060012817382812,20.02747344970703,19.995023727416992,19.96266746520996,19.930397033691406,19.898218154907227,19.866125106811523,19.83411979675293,19.802207946777344,19.770387649536133,19.7386531829834,19.707008361816406,19.675453186035156,19.64398956298828,19.612606048583984,19.581317901611328,19.55011558532715,19.518999099731445,19.487964630126953,19.457033157348633,19.42618751525879,19.395429611206055,19.364755630493164,19.334169387817383,19.303672790527344,19.29692268371582,19.290176391601562,19.283430099487305,19.276687622070312,19.269947052001953,19.26321029663086,19.2564754486084,19.24974250793457,19.243013381958008,19.236284255981445,19.22956085205078,19.222841262817383,19.216123580932617,19.209407806396484,19.202693939208984,19.195985794067383,19.18927574157715,19.182575225830078,19.175870895385742,19.169172286987305,19.162471771240234,19.155778884887695,19.149089813232422,19.142398834228516,19.135713577270508]}},\"id\":\"74180ecb-d6c0-4a80-9819-9f5774d110b1\",\"type\":\"ColumnDataSource\"},{\"attributes\":{},\"id\":\"7b83d8b9-1a9b-4b39-961b-139f4663988e\",\"type\":\"BasicTickFormatter\"},{\"attributes\":{},\"id\":\"31e7dc55-5058-42d3-8a1e-45153d22ba2a\",\"type\":\"BasicTickFormatter\"},{\"attributes\":{\"axis_label\":\"t [Epochs]\",\"formatter\":{\"id\":\"31e7dc55-5058-42d3-8a1e-45153d22ba2a\",\"type\":\"BasicTickFormatter\"},\"plot\":{\"id\":\"010cf015-d714-4088-814f-1767bc5b25cb\",\"subtype\":\"Figure\",\"type\":\"Plot\"},\"ticker\":{\"id\":\"96161845-9bc8-4b88-a3e9-136f350c51cf\",\"type\":\"BasicTicker\"}},\"id\":\"4f1995bb-6758-4c6b-bde3-6869375fbcd4\",\"type\":\"LinearAxis\"},{\"attributes\":{\"source\":{\"id\":\"74180ecb-d6c0-4a80-9819-9f5774d110b1\",\"type\":\"ColumnDataSource\"}},\"id\":\"58a9eea3-a314-4144-b7e5-90deef28afa5\",\"type\":\"CDSView\"},{\"attributes\":{\"label\":{\"value\":\"asynchronous_128_5\"},\"renderers\":[{\"id\":\"6a5526d9-c11e-4e8b-ae40-dfc5940e1a81\",\"type\":\"GlyphRenderer\"}]},\"id\":\"0f0a4262-be06-4836-9fde-8cb7602d7e8b\",\"type\":\"LegendItem\"},{\"attributes\":{\"click_policy\":\"hide\",\"items\":[{\"id\":\"0f0a4262-be06-4836-9fde-8cb7602d7e8b\",\"type\":\"LegendItem\"}],\"location\":\"top_left\",\"plot\":{\"id\":\"010cf015-d714-4088-814f-1767bc5b25cb\",\"subtype\":\"Figure\",\"type\":\"Plot\"}},\"id\":\"e6015af6-7e68-4be6-a1a9-13abb5c73e58\",\"type\":\"Legend\"},{\"attributes\":{\"plot\":{\"id\":\"010cf015-d714-4088-814f-1767bc5b25cb\",\"subtype\":\"Figure\",\"type\":\"Plot\"},\"ticker\":{\"id\":\"96161845-9bc8-4b88-a3e9-136f350c51cf\",\"type\":\"BasicTicker\"}},\"id\":\"8c9939c8-78f0-434b-b8e6-0d218f6ee507\",\"type\":\"Grid\"},{\"attributes\":{},\"id\":\"f85a2a88-edf9-473c-ac56-a922e46ea7cc\",\"type\":\"LinearScale\"},{\"attributes\":{},\"id\":\"d013185e-747f-4138-a2c4-754942a39d3f\",\"type\":\"LinearScale\"},{\"attributes\":{\"callback\":null},\"id\":\"d3a75327-b92b-4dc0-81c2-d00201d60ee3\",\"type\":\"DataRange1d\"},{\"attributes\":{},\"id\":\"8e0b92e0-2a20-43d3-8908-48635e85849e\",\"type\":\"BasicTicker\"}],\"root_ids\":[\"010cf015-d714-4088-814f-1767bc5b25cb\"]},\"title\":\"Bokeh Application\",\"version\":\"0.12.13\"}};\n",
       "  var render_items = [{\"docid\":\"c895e8d8-05ca-4873-ac6a-bf34929b9887\",\"elementid\":\"8a7d04c6-48ed-4e11-914e-4d3b5c5c5764\",\"modelid\":\"010cf015-d714-4088-814f-1767bc5b25cb\"}];\n",
       "  root.Bokeh.embed.embed_items_notebook(docs_json, render_items);\n",
       "\n",
       "  }\n",
       "  if (root.Bokeh !== undefined) {\n",
       "    embed_document(root);\n",
       "  } else {\n",
       "    var attempts = 0;\n",
       "    var timer = setInterval(function(root) {\n",
       "      if (root.Bokeh !== undefined) {\n",
       "        embed_document(root);\n",
       "        clearInterval(timer);\n",
       "      }\n",
       "      attempts++;\n",
       "      if (attempts > 100) {\n",
       "        console.log(\"Bokeh: ERROR: Unable to run BokehJS code because BokehJS library is missing\")\n",
       "        clearInterval(timer);\n",
       "      }\n",
       "    }, 10, root)\n",
       "  }\n",
       "})(window);"
      ],
      "application/vnd.bokehjs_exec.v0+json": ""
     },
     "metadata": {
      "application/vnd.bokehjs_exec.v0+json": {
       "id": "010cf015-d714-4088-814f-1767bc5b25cb"
      }
     },
     "output_type": "display_data"
    }
   ],
   "source": [
    "show(plots[2])"
   ]
  },
  {
   "cell_type": "code",
   "execution_count": 5,
   "metadata": {},
   "outputs": [
    {
     "data": {
      "text/html": [
       "\n",
       "<div class=\"bk-root\">\n",
       "    <div class=\"bk-plotdiv\" id=\"7f2a4951-2b6c-40b4-9cda-f0b3841f786d\"></div>\n",
       "</div>"
      ]
     },
     "metadata": {},
     "output_type": "display_data"
    },
    {
     "data": {
      "application/javascript": [
       "(function(root) {\n",
       "  function embed_document(root) {\n",
       "    \n",
       "  var docs_json = {\"8c33de1f-3c43-4b1e-b43a-f405fbaf36d2\":{\"roots\":{\"references\":[{\"attributes\":{\"callback\":null},\"id\":\"84f05a4c-8471-46ac-9ecd-2a533416292c\",\"type\":\"DataRange1d\"},{\"attributes\":{\"background_fill_color\":{\"value\":\"#fafafa\"},\"below\":[{\"id\":\"85e38b5d-1f70-4419-aabb-d5f8c45d450e\",\"type\":\"LinearAxis\"}],\"left\":[{\"id\":\"3fd0739f-888f-4798-bee5-e58dbb74d720\",\"type\":\"LogAxis\"}],\"min_border\":10,\"min_border_left\":50,\"renderers\":[{\"id\":\"85e38b5d-1f70-4419-aabb-d5f8c45d450e\",\"type\":\"LinearAxis\"},{\"id\":\"ce818ac6-564c-402a-8ada-43c2aa84fee1\",\"type\":\"Grid\"},{\"id\":\"3fd0739f-888f-4798-bee5-e58dbb74d720\",\"type\":\"LogAxis\"},{\"id\":\"189552ac-7883-446a-8310-0b4d3b9d313e\",\"type\":\"Grid\"},{\"id\":\"3602209c-7a5c-4cd3-9fc3-c0c78e293290\",\"type\":\"BoxAnnotation\"},{\"id\":\"31ea04bb-ee1c-48b2-8af9-1f25266d635d\",\"type\":\"Legend\"},{\"id\":\"b0155040-b2ec-4be9-907c-8171fc30f6ca\",\"type\":\"GlyphRenderer\"}],\"title\":{\"id\":\"eaf55fb4-cbd2-4dba-8e8e-33e2f01b24a4\",\"type\":\"Title\"},\"toolbar\":{\"id\":\"a6588367-3dd7-4f9d-a6cd-cf1e663c1997\",\"type\":\"Toolbar\"},\"x_range\":{\"id\":\"84f05a4c-8471-46ac-9ecd-2a533416292c\",\"type\":\"DataRange1d\"},\"x_scale\":{\"id\":\"bf8f3f81-9bd8-44ef-a550-57899c4e22d5\",\"type\":\"LinearScale\"},\"y_range\":{\"id\":\"ed5d21a5-a237-4b07-8e92-55306f1b4f10\",\"type\":\"DataRange1d\"},\"y_scale\":{\"id\":\"3c87634e-1ff9-4ee0-ab70-42a76df83453\",\"type\":\"LogScale\"}},\"id\":\"5c8e17c4-fa56-44f9-b9dd-68f5aa164bc7\",\"subtype\":\"Figure\",\"type\":\"Plot\"},{\"attributes\":{\"num_minor_ticks\":10},\"id\":\"951e51b5-1ce3-4aac-a453-9f9359affa1a\",\"type\":\"LogTicker\"},{\"attributes\":{},\"id\":\"bf8f3f81-9bd8-44ef-a550-57899c4e22d5\",\"type\":\"LinearScale\"},{\"attributes\":{\"callback\":null},\"id\":\"ed5d21a5-a237-4b07-8e92-55306f1b4f10\",\"type\":\"DataRange1d\"},{\"attributes\":{\"plot\":{\"id\":\"5c8e17c4-fa56-44f9-b9dd-68f5aa164bc7\",\"subtype\":\"Figure\",\"type\":\"Plot\"},\"ticker\":{\"id\":\"b1d20d03-b9ab-402a-a5db-da8f84edff54\",\"type\":\"BasicTicker\"}},\"id\":\"ce818ac6-564c-402a-8ada-43c2aa84fee1\",\"type\":\"Grid\"},{\"attributes\":{\"dimension\":1,\"plot\":{\"id\":\"5c8e17c4-fa56-44f9-b9dd-68f5aa164bc7\",\"subtype\":\"Figure\",\"type\":\"Plot\"},\"ticker\":{\"id\":\"951e51b5-1ce3-4aac-a453-9f9359affa1a\",\"type\":\"LogTicker\"}},\"id\":\"189552ac-7883-446a-8310-0b4d3b9d313e\",\"type\":\"Grid\"},{\"attributes\":{},\"id\":\"b1d20d03-b9ab-402a-a5db-da8f84edff54\",\"type\":\"BasicTicker\"},{\"attributes\":{\"axis_label\":\"t [Epochs]\",\"formatter\":{\"id\":\"71bc6975-b0d8-40b8-8a4e-ec0e013ff741\",\"type\":\"BasicTickFormatter\"},\"plot\":{\"id\":\"5c8e17c4-fa56-44f9-b9dd-68f5aa164bc7\",\"subtype\":\"Figure\",\"type\":\"Plot\"},\"ticker\":{\"id\":\"b1d20d03-b9ab-402a-a5db-da8f84edff54\",\"type\":\"BasicTicker\"}},\"id\":\"85e38b5d-1f70-4419-aabb-d5f8c45d450e\",\"type\":\"LinearAxis\"},{\"attributes\":{\"axis_label\":\"||g||\",\"formatter\":{\"id\":\"5cc7730b-0bc1-41ed-b127-a780e40cfedc\",\"type\":\"LogTickFormatter\"},\"plot\":{\"id\":\"5c8e17c4-fa56-44f9-b9dd-68f5aa164bc7\",\"subtype\":\"Figure\",\"type\":\"Plot\"},\"ticker\":{\"id\":\"951e51b5-1ce3-4aac-a453-9f9359affa1a\",\"type\":\"LogTicker\"}},\"id\":\"3fd0739f-888f-4798-bee5-e58dbb74d720\",\"type\":\"LogAxis\"},{\"attributes\":{},\"id\":\"3c87634e-1ff9-4ee0-ab70-42a76df83453\",\"type\":\"LogScale\"},{\"attributes\":{\"active_drag\":\"auto\",\"active_inspect\":\"auto\",\"active_scroll\":\"auto\",\"active_tap\":\"auto\",\"tools\":[{\"id\":\"0501e58b-d280-4d26-a300-a63f931287bd\",\"type\":\"PanTool\"},{\"id\":\"2d60b4c2-b5b9-4996-9f00-fcd5339e6434\",\"type\":\"WheelZoomTool\"},{\"id\":\"166eae37-91f9-4355-8982-213d48cfe4ad\",\"type\":\"BoxZoomTool\"},{\"id\":\"aa654b39-36f7-48d0-9d5b-b7f549c1444f\",\"type\":\"SaveTool\"},{\"id\":\"d823ad70-1572-4a1c-93e1-fc8b5e12c057\",\"type\":\"ResetTool\"},{\"id\":\"16b94f3d-aa5e-499d-9b45-b8e6d81b1fe4\",\"type\":\"HelpTool\"}]},\"id\":\"a6588367-3dd7-4f9d-a6cd-cf1e663c1997\",\"type\":\"Toolbar\"},{\"attributes\":{\"bottom_units\":\"screen\",\"fill_alpha\":{\"value\":0.5},\"fill_color\":{\"value\":\"lightgrey\"},\"left_units\":\"screen\",\"level\":\"overlay\",\"line_alpha\":{\"value\":1.0},\"line_color\":{\"value\":\"black\"},\"line_dash\":[4,4],\"line_width\":{\"value\":2},\"plot\":null,\"render_mode\":\"css\",\"right_units\":\"screen\",\"top_units\":\"screen\"},\"id\":\"3602209c-7a5c-4cd3-9fc3-c0c78e293290\",\"type\":\"BoxAnnotation\"},{\"attributes\":{},\"id\":\"0501e58b-d280-4d26-a300-a63f931287bd\",\"type\":\"PanTool\"},{\"attributes\":{\"plot\":null,\"text\":\"The Norm of Gradients\"},\"id\":\"eaf55fb4-cbd2-4dba-8e8e-33e2f01b24a4\",\"type\":\"Title\"},{\"attributes\":{\"line_alpha\":0.1,\"line_color\":\"#1f77b4\",\"line_width\":3,\"x\":{\"field\":\"x\"},\"y\":{\"field\":\"y\"}},\"id\":\"880c8dfd-9d77-42d9-b21b-f0339ac6a9b1\",\"type\":\"Line\"},{\"attributes\":{},\"id\":\"2d60b4c2-b5b9-4996-9f00-fcd5339e6434\",\"type\":\"WheelZoomTool\"},{\"attributes\":{\"callback\":null,\"column_names\":[\"x\",\"y\"],\"data\":{\"x\":{\"__ndarray__\":\"AQAAAAIAAAADAAAABAAAAAUAAAAGAAAABwAAAAgAAAAJAAAACgAAAAsAAAAMAAAADQAAAA4AAAAPAAAAEAAAABEAAAASAAAAEwAAABQAAAAVAAAAFgAAABcAAAAYAAAAGQAAABoAAAAbAAAAHAAAAB0AAAAeAAAAHwAAACAAAAAhAAAAIgAAACMAAAAkAAAAJQAAACYAAAAnAAAAKAAAACkAAAAqAAAAKwAAACwAAAAtAAAALgAAAC8AAAAwAAAAMQAAADIAAAAzAAAANAAAADUAAAA2AAAANwAAADgAAAA5AAAAOgAAADsAAAA8AAAAPQAAAD4AAAA/AAAAQAAAAEEAAABCAAAAQwAAAEQAAABFAAAARgAAAEcAAABIAAAASQAAAEoAAABLAAAATAAAAE0AAABOAAAATwAAAFAAAABRAAAAUgAAAFMAAABUAAAAVQAAAFYAAABXAAAAWAAAAFkAAABaAAAAWwAAAFwAAABdAAAAXgAAAF8AAABgAAAAYQAAAGIAAABjAAAAZAAAAGUAAABmAAAAZwAAAGgAAABpAAAAagAAAGsAAABsAAAAbQAAAG4AAABvAAAAcAAAAHEAAAByAAAAcwAAAHQAAAB1AAAAdgAAAHcAAAB4AAAAeQAAAHoAAAB7AAAAfAAAAH0AAAB+AAAAfwAAAIAAAACBAAAAggAAAIMAAACEAAAAhQAAAIYAAACHAAAAiAAAAIkAAACKAAAAiwAAAIwAAACNAAAAjgAAAI8AAACQAAAAkQAAAJIAAACTAAAAlAAAAJUAAACWAAAA\",\"dtype\":\"int32\",\"shape\":[150]},\"y\":[9.107742309570312,9.531121253967285,11.050606727600098,12.020312309265137,13.603269577026367,12.129942893981934,13.961591720581055,15.057677268981934,15.03636360168457,14.904909133911133,16.91489028930664,17.248506546020508,15.110848426818848,20.084957122802734,16.716659545898438,16.253158569335938,14.830225944519043,19.521278381347656,16.79456901550293,16.008201599121094,17.574161529541016,15.09693717956543,16.87969207763672,16.986787796020508,17.559011459350586,17.120296478271484,16.422353744506836,18.45897674560547,20.37628173828125,17.640697479248047,16.32833480834961,18.952266693115234,18.76332664489746,16.567567825317383,16.395618438720703,16.289133071899414,16.037700653076172,18.45159339904785,17.058937072753906,15.402017593383789,16.356029510498047,15.877532958984375,18.477855682373047,19.037229537963867,16.23746681213379,14.776016235351562,16.386775970458984,19.759872436523438,17.198871612548828,17.675378799438477,17.255094528198242,19.32550048828125,22.678722381591797,22.939903259277344,20.104846954345703,25.542882919311523,25.912208557128906,23.74147605895996,23.201263427734375,28.678504943847656,29.93995475769043,24.80979347229004,26.234474182128906,29.405946731567383,25.675491333007812,26.557689666748047,28.338340759277344,35.487911224365234,28.560457229614258,25.277650833129883,32.049556732177734,26.591333389282227,28.79523277282715,30.05201530456543,31.368654251098633,28.255659103393555,31.492738723754883,33.68714141845703,33.726871490478516,30.4670467376709,37.35526657104492,32.28347396850586,32.81179428100586,40.03120803833008,35.73196792602539,37.24312973022461,34.18971633911133,33.57313537597656,42.278995513916016,39.59783935546875,44.327484130859375,43.44799041748047,32.25690841674805,34.989723205566406,29.33316421508789,39.60663986206055,40.9261589050293,43.376609802246094,43.86526107788086,45.956424713134766,38.5269660949707,37.843955993652344,40.29763412475586,38.65914535522461,36.34846115112305,48.30611801147461,39.51224136352539,41.65852737426758,40.92091751098633,40.24803924560547,38.28944778442383,52.481380462646484,44.7447624206543,41.24106216430664,48.878990173339844,40.5832633972168,45.64368438720703,39.56714630126953,39.83485794067383,47.35688018798828,47.15022659301758,37.26932144165039,44.33286666870117,40.01971435546875,45.13787841796875,37.910682678222656,44.18849182128906,40.05168151855469,48.51161575317383,48.08454513549805,49.065650939941406,45.8724479675293,41.464298248291016,49.98872756958008,43.11825180053711,42.89651870727539,42.496299743652344,46.11253356933594,45.19978713989258,48.516361236572266,43.0749397277832,37.26232147216797,51.251564025878906,42.8543815612793,44.53594207763672,48.67789840698242,44.36280059814453,40.638214111328125,45.200050354003906,47.734500885009766]}},\"id\":\"a368ed9d-bb03-4d64-a35f-5b21cd1bef6d\",\"type\":\"ColumnDataSource\"},{\"attributes\":{\"overlay\":{\"id\":\"3602209c-7a5c-4cd3-9fc3-c0c78e293290\",\"type\":\"BoxAnnotation\"}},\"id\":\"166eae37-91f9-4355-8982-213d48cfe4ad\",\"type\":\"BoxZoomTool\"},{\"attributes\":{\"ticker\":null},\"id\":\"5cc7730b-0bc1-41ed-b127-a780e40cfedc\",\"type\":\"LogTickFormatter\"},{\"attributes\":{},\"id\":\"aa654b39-36f7-48d0-9d5b-b7f549c1444f\",\"type\":\"SaveTool\"},{\"attributes\":{\"data_source\":{\"id\":\"a368ed9d-bb03-4d64-a35f-5b21cd1bef6d\",\"type\":\"ColumnDataSource\"},\"glyph\":{\"id\":\"8c90764e-56fb-4cc9-8ac9-a943bd9f9b86\",\"type\":\"Line\"},\"hover_glyph\":null,\"muted_glyph\":null,\"nonselection_glyph\":{\"id\":\"880c8dfd-9d77-42d9-b21b-f0339ac6a9b1\",\"type\":\"Line\"},\"selection_glyph\":null,\"view\":{\"id\":\"d194fd86-0e63-4448-b6d1-6fd114cdf0f9\",\"type\":\"CDSView\"}},\"id\":\"b0155040-b2ec-4be9-907c-8171fc30f6ca\",\"type\":\"GlyphRenderer\"},{\"attributes\":{},\"id\":\"d823ad70-1572-4a1c-93e1-fc8b5e12c057\",\"type\":\"ResetTool\"},{\"attributes\":{\"line_color\":\"#1f77b4\",\"line_width\":3,\"x\":{\"field\":\"x\"},\"y\":{\"field\":\"y\"}},\"id\":\"8c90764e-56fb-4cc9-8ac9-a943bd9f9b86\",\"type\":\"Line\"},{\"attributes\":{},\"id\":\"16b94f3d-aa5e-499d-9b45-b8e6d81b1fe4\",\"type\":\"HelpTool\"},{\"attributes\":{},\"id\":\"71bc6975-b0d8-40b8-8a4e-ec0e013ff741\",\"type\":\"BasicTickFormatter\"},{\"attributes\":{\"source\":{\"id\":\"a368ed9d-bb03-4d64-a35f-5b21cd1bef6d\",\"type\":\"ColumnDataSource\"}},\"id\":\"d194fd86-0e63-4448-b6d1-6fd114cdf0f9\",\"type\":\"CDSView\"},{\"attributes\":{\"label\":{\"value\":\"asynchronous_128_5\"},\"renderers\":[{\"id\":\"b0155040-b2ec-4be9-907c-8171fc30f6ca\",\"type\":\"GlyphRenderer\"}]},\"id\":\"cb5a29eb-4244-439a-95ec-46713fa7cca6\",\"type\":\"LegendItem\"},{\"attributes\":{\"click_policy\":\"hide\",\"items\":[{\"id\":\"cb5a29eb-4244-439a-95ec-46713fa7cca6\",\"type\":\"LegendItem\"}],\"location\":\"bottom_left\",\"plot\":{\"id\":\"5c8e17c4-fa56-44f9-b9dd-68f5aa164bc7\",\"subtype\":\"Figure\",\"type\":\"Plot\"}},\"id\":\"31ea04bb-ee1c-48b2-8af9-1f25266d635d\",\"type\":\"Legend\"}],\"root_ids\":[\"5c8e17c4-fa56-44f9-b9dd-68f5aa164bc7\"]},\"title\":\"Bokeh Application\",\"version\":\"0.12.13\"}};\n",
       "  var render_items = [{\"docid\":\"8c33de1f-3c43-4b1e-b43a-f405fbaf36d2\",\"elementid\":\"7f2a4951-2b6c-40b4-9cda-f0b3841f786d\",\"modelid\":\"5c8e17c4-fa56-44f9-b9dd-68f5aa164bc7\"}];\n",
       "  root.Bokeh.embed.embed_items_notebook(docs_json, render_items);\n",
       "\n",
       "  }\n",
       "  if (root.Bokeh !== undefined) {\n",
       "    embed_document(root);\n",
       "  } else {\n",
       "    var attempts = 0;\n",
       "    var timer = setInterval(function(root) {\n",
       "      if (root.Bokeh !== undefined) {\n",
       "        embed_document(root);\n",
       "        clearInterval(timer);\n",
       "      }\n",
       "      attempts++;\n",
       "      if (attempts > 100) {\n",
       "        console.log(\"Bokeh: ERROR: Unable to run BokehJS code because BokehJS library is missing\")\n",
       "        clearInterval(timer);\n",
       "      }\n",
       "    }, 10, root)\n",
       "  }\n",
       "})(window);"
      ],
      "application/vnd.bokehjs_exec.v0+json": ""
     },
     "metadata": {
      "application/vnd.bokehjs_exec.v0+json": {
       "id": "5c8e17c4-fa56-44f9-b9dd-68f5aa164bc7"
      }
     },
     "output_type": "display_data"
    }
   ],
   "source": [
    "show(plots[3])"
   ]
  },
  {
   "cell_type": "raw",
   "metadata": {},
   "source": [
    "<script>\n",
    "  $(document).ready(function(){\n",
    "    $('div.prompt').hide();\n",
    "    $('div.back-to-top').hide();\n",
    "    $('nav#menubar').hide();\n",
    "    $('.breadcrumb').hide();\n",
    "    $('.hidden-print').hide();\n",
    "  });\n",
    "</script>\n",
    "\n",
    "<footer id=\"attribution\" style=\"float:right; color:#999; background:#fff;\">\n",
    "Niv Giladi - Technion\n",
    "</footer>"
   ]
  }
 ],
 "metadata": {
  "kernelspec": {
   "display_name": "Python 3",
   "language": "python",
   "name": "python3"
  },
  "language_info": {
   "codemirror_mode": {
    "name": "ipython",
    "version": 3
   },
   "file_extension": ".py",
   "mimetype": "text/x-python",
   "name": "python",
   "nbconvert_exporter": "python",
   "pygments_lexer": "ipython3",
   "version": "3.6.1"
  }
 },
 "nbformat": 4,
 "nbformat_minor": 1
}
