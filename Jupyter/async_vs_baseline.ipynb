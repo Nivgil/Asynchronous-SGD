{
 "cells": [
  {
   "cell_type": "raw",
   "metadata": {},
   "source": [
    "<script>\n",
    "  jQuery(document).ready(function($) {  \n",
    "  \n",
    "  $(window).on('load', function(){\n",
    "    $('#preloader').fadeOut('slow',function(){$(this).remove();});\n",
    "  });\n",
    "  \n",
    "  });\n",
    "</script>\n",
    "\n",
    "<style type=\"text/css\">\n",
    "  div#preloader { position: fixed; \n",
    "      left: 0; \n",
    "      top: 0; \n",
    "      z-index: 999; \n",
    "      width: 100%; \n",
    "      height: 100%; \n",
    "      overflow: visible; \n",
    "      background: #fff url('http://preloaders.net/preloaders/720/Moving%20line.gif') no-repeat center center; \n",
    "  }\n",
    "\n",
    "</style>\n",
    "\n",
    "<div id=\"preloader\">\n",
    "\n",
    "</div>"
   ]
  },
  {
   "cell_type": "raw",
   "metadata": {},
   "source": [
    "<script>\n",
    "  function code_toggle() {\n",
    "    if (code_shown){\n",
    "      $('div.input').hide('500');\n",
    "      $('#toggleButton').val('Show Code')\n",
    "    } else {\n",
    "      $('div.input').show('500');\n",
    "      $('#toggleButton').val('Hide Code')\n",
    "    }\n",
    "    code_shown = !code_shown\n",
    "  } \n",
    "  \n",
    "  $( document ).ready(function(){\n",
    "    code_shown=false; \n",
    "    $('div.input').hide()\n",
    "  });\n",
    "</script>\n",
    "<form action=\"javascript:code_toggle()\"><input type=\"submit\" id=\"toggleButton\" value=\"Show Code\"></form>"
   ]
  },
  {
   "cell_type": "markdown",
   "metadata": {},
   "source": [
    "<h1 style=\"text-align: center;\" markdown=\"1\"> ImageNet - Fast Training Regime</h1>\n",
    "<h2 style=\"text-align: center;\" markdown=\"1\"> Resnet 50</h2>"
   ]
  },
  {
   "cell_type": "code",
   "execution_count": 1,
   "metadata": {
    "scrolled": false
   },
   "outputs": [
    {
     "data": {
      "text/html": [
       "\n",
       "    <div class=\"bk-root\">\n",
       "        <a href=\"https://bokeh.pydata.org\" target=\"_blank\" class=\"bk-logo bk-logo-small bk-logo-notebook\"></a>\n",
       "        <span id=\"a6e962ac-3ef6-4616-a630-40a1400bac65\">Loading BokehJS ...</span>\n",
       "    </div>"
      ]
     },
     "metadata": {},
     "output_type": "display_data"
    },
    {
     "data": {
      "application/javascript": [
       "\n",
       "(function(root) {\n",
       "  function now() {\n",
       "    return new Date();\n",
       "  }\n",
       "\n",
       "  var force = true;\n",
       "\n",
       "  if (typeof (root._bokeh_onload_callbacks) === \"undefined\" || force === true) {\n",
       "    root._bokeh_onload_callbacks = [];\n",
       "    root._bokeh_is_loading = undefined;\n",
       "  }\n",
       "\n",
       "  var JS_MIME_TYPE = 'application/javascript';\n",
       "  var HTML_MIME_TYPE = 'text/html';\n",
       "  var EXEC_MIME_TYPE = 'application/vnd.bokehjs_exec.v0+json';\n",
       "  var CLASS_NAME = 'output_bokeh rendered_html';\n",
       "\n",
       "  /**\n",
       "   * Render data to the DOM node\n",
       "   */\n",
       "  function render(props, node) {\n",
       "    var script = document.createElement(\"script\");\n",
       "    node.appendChild(script);\n",
       "  }\n",
       "\n",
       "  /**\n",
       "   * Handle when an output is cleared or removed\n",
       "   */\n",
       "  function handleClearOutput(event, handle) {\n",
       "    var cell = handle.cell;\n",
       "\n",
       "    var id = cell.output_area._bokeh_element_id;\n",
       "    var server_id = cell.output_area._bokeh_server_id;\n",
       "    // Clean up Bokeh references\n",
       "    if (id !== undefined) {\n",
       "      Bokeh.index[id].model.document.clear();\n",
       "      delete Bokeh.index[id];\n",
       "    }\n",
       "\n",
       "    if (server_id !== undefined) {\n",
       "      // Clean up Bokeh references\n",
       "      var cmd = \"from bokeh.io.state import curstate; print(curstate().uuid_to_server['\" + server_id + \"'].get_sessions()[0].document.roots[0]._id)\";\n",
       "      cell.notebook.kernel.execute(cmd, {\n",
       "        iopub: {\n",
       "          output: function(msg) {\n",
       "            var element_id = msg.content.text.trim();\n",
       "            Bokeh.index[element_id].model.document.clear();\n",
       "            delete Bokeh.index[element_id];\n",
       "          }\n",
       "        }\n",
       "      });\n",
       "      // Destroy server and session\n",
       "      var cmd = \"import bokeh.io.notebook as ion; ion.destroy_server('\" + server_id + \"')\";\n",
       "      cell.notebook.kernel.execute(cmd);\n",
       "    }\n",
       "  }\n",
       "\n",
       "  /**\n",
       "   * Handle when a new output is added\n",
       "   */\n",
       "  function handleAddOutput(event, handle) {\n",
       "    var output_area = handle.output_area;\n",
       "    var output = handle.output;\n",
       "\n",
       "    // limit handleAddOutput to display_data with EXEC_MIME_TYPE content only\n",
       "    if ((output.output_type != \"display_data\") || (!output.data.hasOwnProperty(EXEC_MIME_TYPE))) {\n",
       "      return\n",
       "    }\n",
       "\n",
       "    var toinsert = output_area.element.find(\".\" + CLASS_NAME.split(' ')[0]);\n",
       "\n",
       "    if (output.metadata[EXEC_MIME_TYPE][\"id\"] !== undefined) {\n",
       "      toinsert[0].firstChild.textContent = output.data[JS_MIME_TYPE];\n",
       "      // store reference to embed id on output_area\n",
       "      output_area._bokeh_element_id = output.metadata[EXEC_MIME_TYPE][\"id\"];\n",
       "    }\n",
       "    if (output.metadata[EXEC_MIME_TYPE][\"server_id\"] !== undefined) {\n",
       "      var bk_div = document.createElement(\"div\");\n",
       "      bk_div.innerHTML = output.data[HTML_MIME_TYPE];\n",
       "      var script_attrs = bk_div.children[0].attributes;\n",
       "      for (var i = 0; i < script_attrs.length; i++) {\n",
       "        toinsert[0].firstChild.setAttribute(script_attrs[i].name, script_attrs[i].value);\n",
       "      }\n",
       "      // store reference to server id on output_area\n",
       "      output_area._bokeh_server_id = output.metadata[EXEC_MIME_TYPE][\"server_id\"];\n",
       "    }\n",
       "  }\n",
       "\n",
       "  function register_renderer(events, OutputArea) {\n",
       "\n",
       "    function append_mime(data, metadata, element) {\n",
       "      // create a DOM node to render to\n",
       "      var toinsert = this.create_output_subarea(\n",
       "        metadata,\n",
       "        CLASS_NAME,\n",
       "        EXEC_MIME_TYPE\n",
       "      );\n",
       "      this.keyboard_manager.register_events(toinsert);\n",
       "      // Render to node\n",
       "      var props = {data: data, metadata: metadata[EXEC_MIME_TYPE]};\n",
       "      render(props, toinsert[0]);\n",
       "      element.append(toinsert);\n",
       "      return toinsert\n",
       "    }\n",
       "\n",
       "    /* Handle when an output is cleared or removed */\n",
       "    events.on('clear_output.CodeCell', handleClearOutput);\n",
       "    events.on('delete.Cell', handleClearOutput);\n",
       "\n",
       "    /* Handle when a new output is added */\n",
       "    events.on('output_added.OutputArea', handleAddOutput);\n",
       "\n",
       "    /**\n",
       "     * Register the mime type and append_mime function with output_area\n",
       "     */\n",
       "    OutputArea.prototype.register_mime_type(EXEC_MIME_TYPE, append_mime, {\n",
       "      /* Is output safe? */\n",
       "      safe: true,\n",
       "      /* Index of renderer in `output_area.display_order` */\n",
       "      index: 0\n",
       "    });\n",
       "  }\n",
       "\n",
       "  // register the mime type if in Jupyter Notebook environment and previously unregistered\n",
       "  if (root.Jupyter !== undefined) {\n",
       "    var events = require('base/js/events');\n",
       "    var OutputArea = require('notebook/js/outputarea').OutputArea;\n",
       "\n",
       "    if (OutputArea.prototype.mime_types().indexOf(EXEC_MIME_TYPE) == -1) {\n",
       "      register_renderer(events, OutputArea);\n",
       "    }\n",
       "  }\n",
       "\n",
       "  \n",
       "  if (typeof (root._bokeh_timeout) === \"undefined\" || force === true) {\n",
       "    root._bokeh_timeout = Date.now() + 5000;\n",
       "    root._bokeh_failed_load = false;\n",
       "  }\n",
       "\n",
       "  var NB_LOAD_WARNING = {'data': {'text/html':\n",
       "     \"<div style='background-color: #fdd'>\\n\"+\n",
       "     \"<p>\\n\"+\n",
       "     \"BokehJS does not appear to have successfully loaded. If loading BokehJS from CDN, this \\n\"+\n",
       "     \"may be due to a slow or bad network connection. Possible fixes:\\n\"+\n",
       "     \"</p>\\n\"+\n",
       "     \"<ul>\\n\"+\n",
       "     \"<li>re-rerun `output_notebook()` to attempt to load from CDN again, or</li>\\n\"+\n",
       "     \"<li>use INLINE resources instead, as so:</li>\\n\"+\n",
       "     \"</ul>\\n\"+\n",
       "     \"<code>\\n\"+\n",
       "     \"from bokeh.resources import INLINE\\n\"+\n",
       "     \"output_notebook(resources=INLINE)\\n\"+\n",
       "     \"</code>\\n\"+\n",
       "     \"</div>\"}};\n",
       "\n",
       "  function display_loaded() {\n",
       "    var el = document.getElementById(\"a6e962ac-3ef6-4616-a630-40a1400bac65\");\n",
       "    if (el != null) {\n",
       "      el.textContent = \"BokehJS is loading...\";\n",
       "    }\n",
       "    if (root.Bokeh !== undefined) {\n",
       "      if (el != null) {\n",
       "        el.textContent = \"BokehJS \" + root.Bokeh.version + \" successfully loaded.\";\n",
       "      }\n",
       "    } else if (Date.now() < root._bokeh_timeout) {\n",
       "      setTimeout(display_loaded, 100)\n",
       "    }\n",
       "  }\n",
       "\n",
       "\n",
       "  function run_callbacks() {\n",
       "    try {\n",
       "      root._bokeh_onload_callbacks.forEach(function(callback) { callback() });\n",
       "    }\n",
       "    finally {\n",
       "      delete root._bokeh_onload_callbacks\n",
       "    }\n",
       "    console.info(\"Bokeh: all callbacks have finished\");\n",
       "  }\n",
       "\n",
       "  function load_libs(js_urls, callback) {\n",
       "    root._bokeh_onload_callbacks.push(callback);\n",
       "    if (root._bokeh_is_loading > 0) {\n",
       "      console.log(\"Bokeh: BokehJS is being loaded, scheduling callback at\", now());\n",
       "      return null;\n",
       "    }\n",
       "    if (js_urls == null || js_urls.length === 0) {\n",
       "      run_callbacks();\n",
       "      return null;\n",
       "    }\n",
       "    console.log(\"Bokeh: BokehJS not loaded, scheduling load and callback at\", now());\n",
       "    root._bokeh_is_loading = js_urls.length;\n",
       "    for (var i = 0; i < js_urls.length; i++) {\n",
       "      var url = js_urls[i];\n",
       "      var s = document.createElement('script');\n",
       "      s.src = url;\n",
       "      s.async = false;\n",
       "      s.onreadystatechange = s.onload = function() {\n",
       "        root._bokeh_is_loading--;\n",
       "        if (root._bokeh_is_loading === 0) {\n",
       "          console.log(\"Bokeh: all BokehJS libraries loaded\");\n",
       "          run_callbacks()\n",
       "        }\n",
       "      };\n",
       "      s.onerror = function() {\n",
       "        console.warn(\"failed to load library \" + url);\n",
       "      };\n",
       "      console.log(\"Bokeh: injecting script tag for BokehJS library: \", url);\n",
       "      document.getElementsByTagName(\"head\")[0].appendChild(s);\n",
       "    }\n",
       "  };var element = document.getElementById(\"a6e962ac-3ef6-4616-a630-40a1400bac65\");\n",
       "  if (element == null) {\n",
       "    console.log(\"Bokeh: ERROR: autoload.js configured with elementid 'a6e962ac-3ef6-4616-a630-40a1400bac65' but no matching script tag was found. \")\n",
       "    return false;\n",
       "  }\n",
       "\n",
       "  var js_urls = [\"https://cdn.pydata.org/bokeh/release/bokeh-0.12.13.min.js\", \"https://cdn.pydata.org/bokeh/release/bokeh-widgets-0.12.13.min.js\", \"https://cdn.pydata.org/bokeh/release/bokeh-tables-0.12.13.min.js\", \"https://cdn.pydata.org/bokeh/release/bokeh-gl-0.12.13.min.js\"];\n",
       "\n",
       "  var inline_js = [\n",
       "    function(Bokeh) {\n",
       "      Bokeh.set_log_level(\"info\");\n",
       "    },\n",
       "    \n",
       "    function(Bokeh) {\n",
       "      \n",
       "    },\n",
       "    function(Bokeh) {\n",
       "      console.log(\"Bokeh: injecting CSS: https://cdn.pydata.org/bokeh/release/bokeh-0.12.13.min.css\");\n",
       "      Bokeh.embed.inject_css(\"https://cdn.pydata.org/bokeh/release/bokeh-0.12.13.min.css\");\n",
       "      console.log(\"Bokeh: injecting CSS: https://cdn.pydata.org/bokeh/release/bokeh-widgets-0.12.13.min.css\");\n",
       "      Bokeh.embed.inject_css(\"https://cdn.pydata.org/bokeh/release/bokeh-widgets-0.12.13.min.css\");\n",
       "      console.log(\"Bokeh: injecting CSS: https://cdn.pydata.org/bokeh/release/bokeh-tables-0.12.13.min.css\");\n",
       "      Bokeh.embed.inject_css(\"https://cdn.pydata.org/bokeh/release/bokeh-tables-0.12.13.min.css\");\n",
       "    }\n",
       "  ];\n",
       "\n",
       "  function run_inline_js() {\n",
       "    \n",
       "    if ((root.Bokeh !== undefined) || (force === true)) {\n",
       "      for (var i = 0; i < inline_js.length; i++) {\n",
       "        inline_js[i].call(root, root.Bokeh);\n",
       "      }if (force === true) {\n",
       "        display_loaded();\n",
       "      }} else if (Date.now() < root._bokeh_timeout) {\n",
       "      setTimeout(run_inline_js, 100);\n",
       "    } else if (!root._bokeh_failed_load) {\n",
       "      console.log(\"Bokeh: BokehJS failed to load within specified timeout.\");\n",
       "      root._bokeh_failed_load = true;\n",
       "    } else if (force !== true) {\n",
       "      var cell = $(document.getElementById(\"a6e962ac-3ef6-4616-a630-40a1400bac65\")).parents('.cell').data().cell;\n",
       "      cell.output_area.append_execute_result(NB_LOAD_WARNING)\n",
       "    }\n",
       "\n",
       "  }\n",
       "\n",
       "  if (root._bokeh_is_loading === 0) {\n",
       "    console.log(\"Bokeh: BokehJS loaded, going straight to plotting\");\n",
       "    run_inline_js();\n",
       "  } else {\n",
       "    load_libs(js_urls, function() {\n",
       "      console.log(\"Bokeh: BokehJS plotting callback run at\", now());\n",
       "      run_inline_js();\n",
       "    });\n",
       "  }\n",
       "}(window));"
      ],
      "application/vnd.bokehjs_load.v0+json": "\n(function(root) {\n  function now() {\n    return new Date();\n  }\n\n  var force = true;\n\n  if (typeof (root._bokeh_onload_callbacks) === \"undefined\" || force === true) {\n    root._bokeh_onload_callbacks = [];\n    root._bokeh_is_loading = undefined;\n  }\n\n  \n\n  \n  if (typeof (root._bokeh_timeout) === \"undefined\" || force === true) {\n    root._bokeh_timeout = Date.now() + 5000;\n    root._bokeh_failed_load = false;\n  }\n\n  var NB_LOAD_WARNING = {'data': {'text/html':\n     \"<div style='background-color: #fdd'>\\n\"+\n     \"<p>\\n\"+\n     \"BokehJS does not appear to have successfully loaded. If loading BokehJS from CDN, this \\n\"+\n     \"may be due to a slow or bad network connection. Possible fixes:\\n\"+\n     \"</p>\\n\"+\n     \"<ul>\\n\"+\n     \"<li>re-rerun `output_notebook()` to attempt to load from CDN again, or</li>\\n\"+\n     \"<li>use INLINE resources instead, as so:</li>\\n\"+\n     \"</ul>\\n\"+\n     \"<code>\\n\"+\n     \"from bokeh.resources import INLINE\\n\"+\n     \"output_notebook(resources=INLINE)\\n\"+\n     \"</code>\\n\"+\n     \"</div>\"}};\n\n  function display_loaded() {\n    var el = document.getElementById(\"a6e962ac-3ef6-4616-a630-40a1400bac65\");\n    if (el != null) {\n      el.textContent = \"BokehJS is loading...\";\n    }\n    if (root.Bokeh !== undefined) {\n      if (el != null) {\n        el.textContent = \"BokehJS \" + root.Bokeh.version + \" successfully loaded.\";\n      }\n    } else if (Date.now() < root._bokeh_timeout) {\n      setTimeout(display_loaded, 100)\n    }\n  }\n\n\n  function run_callbacks() {\n    try {\n      root._bokeh_onload_callbacks.forEach(function(callback) { callback() });\n    }\n    finally {\n      delete root._bokeh_onload_callbacks\n    }\n    console.info(\"Bokeh: all callbacks have finished\");\n  }\n\n  function load_libs(js_urls, callback) {\n    root._bokeh_onload_callbacks.push(callback);\n    if (root._bokeh_is_loading > 0) {\n      console.log(\"Bokeh: BokehJS is being loaded, scheduling callback at\", now());\n      return null;\n    }\n    if (js_urls == null || js_urls.length === 0) {\n      run_callbacks();\n      return null;\n    }\n    console.log(\"Bokeh: BokehJS not loaded, scheduling load and callback at\", now());\n    root._bokeh_is_loading = js_urls.length;\n    for (var i = 0; i < js_urls.length; i++) {\n      var url = js_urls[i];\n      var s = document.createElement('script');\n      s.src = url;\n      s.async = false;\n      s.onreadystatechange = s.onload = function() {\n        root._bokeh_is_loading--;\n        if (root._bokeh_is_loading === 0) {\n          console.log(\"Bokeh: all BokehJS libraries loaded\");\n          run_callbacks()\n        }\n      };\n      s.onerror = function() {\n        console.warn(\"failed to load library \" + url);\n      };\n      console.log(\"Bokeh: injecting script tag for BokehJS library: \", url);\n      document.getElementsByTagName(\"head\")[0].appendChild(s);\n    }\n  };var element = document.getElementById(\"a6e962ac-3ef6-4616-a630-40a1400bac65\");\n  if (element == null) {\n    console.log(\"Bokeh: ERROR: autoload.js configured with elementid 'a6e962ac-3ef6-4616-a630-40a1400bac65' but no matching script tag was found. \")\n    return false;\n  }\n\n  var js_urls = [\"https://cdn.pydata.org/bokeh/release/bokeh-0.12.13.min.js\", \"https://cdn.pydata.org/bokeh/release/bokeh-widgets-0.12.13.min.js\", \"https://cdn.pydata.org/bokeh/release/bokeh-tables-0.12.13.min.js\", \"https://cdn.pydata.org/bokeh/release/bokeh-gl-0.12.13.min.js\"];\n\n  var inline_js = [\n    function(Bokeh) {\n      Bokeh.set_log_level(\"info\");\n    },\n    \n    function(Bokeh) {\n      \n    },\n    function(Bokeh) {\n      console.log(\"Bokeh: injecting CSS: https://cdn.pydata.org/bokeh/release/bokeh-0.12.13.min.css\");\n      Bokeh.embed.inject_css(\"https://cdn.pydata.org/bokeh/release/bokeh-0.12.13.min.css\");\n      console.log(\"Bokeh: injecting CSS: https://cdn.pydata.org/bokeh/release/bokeh-widgets-0.12.13.min.css\");\n      Bokeh.embed.inject_css(\"https://cdn.pydata.org/bokeh/release/bokeh-widgets-0.12.13.min.css\");\n      console.log(\"Bokeh: injecting CSS: https://cdn.pydata.org/bokeh/release/bokeh-tables-0.12.13.min.css\");\n      Bokeh.embed.inject_css(\"https://cdn.pydata.org/bokeh/release/bokeh-tables-0.12.13.min.css\");\n    }\n  ];\n\n  function run_inline_js() {\n    \n    if ((root.Bokeh !== undefined) || (force === true)) {\n      for (var i = 0; i < inline_js.length; i++) {\n        inline_js[i].call(root, root.Bokeh);\n      }if (force === true) {\n        display_loaded();\n      }} else if (Date.now() < root._bokeh_timeout) {\n      setTimeout(run_inline_js, 100);\n    } else if (!root._bokeh_failed_load) {\n      console.log(\"Bokeh: BokehJS failed to load within specified timeout.\");\n      root._bokeh_failed_load = true;\n    } else if (force !== true) {\n      var cell = $(document.getElementById(\"a6e962ac-3ef6-4616-a630-40a1400bac65\")).parents('.cell').data().cell;\n      cell.output_area.append_execute_result(NB_LOAD_WARNING)\n    }\n\n  }\n\n  if (root._bokeh_is_loading === 0) {\n    console.log(\"Bokeh: BokehJS loaded, going straight to plotting\");\n    run_inline_js();\n  } else {\n    load_libs(js_urls, function() {\n      console.log(\"Bokeh: BokehJS plotting callback run at\", now());\n      run_inline_js();\n    });\n  }\n}(window));"
     },
     "metadata": {},
     "output_type": "display_data"
    },
    {
     "data": {
      "text/markdown": [
       "<h6> #Simulation 160 - Min Error 23.69% , Mean Error 23.96%<h6>"
      ],
      "text/plain": [
       "<IPython.core.display.Markdown object>"
      ]
     },
     "metadata": {},
     "output_type": "display_data"
    },
    {
     "data": {
      "text/markdown": [
       "<h6> #Simulation 175 - Min Error 25.37% , Mean Error 25.55%<h6>"
      ],
      "text/plain": [
       "<IPython.core.display.Markdown object>"
      ]
     },
     "metadata": {},
     "output_type": "display_data"
    },
    {
     "data": {
      "text/markdown": [
       "<h6> #Simulation 182 - Min Error 29.76% , Mean Error 30.03%<h6>"
      ],
      "text/plain": [
       "<IPython.core.display.Markdown object>"
      ]
     },
     "metadata": {},
     "output_type": "display_data"
    }
   ],
   "source": [
    "import numpy as np\n",
    "import pandas as pd\n",
    "from bokeh.io import output_notebook\n",
    "from bokeh.plotting import figure, show, output_file\n",
    "from Outputs.jupyter_graphs import create_graphs, compare_graphs\n",
    "from IPython.display import Markdown, display\n",
    "from IPython.core.interactiveshell import InteractiveShell\n",
    "sim_num = [160, 175, 182]\n",
    "plots, scores = compare_graphs(sim_nums=sim_num, linear=True)\n",
    "output_notebook()\n",
    "for sim in zip(sim_num,scores):\n",
    "    display(Markdown('<h6> #Simulation {:1d} - Min Error {:.2f}% , Mean Error {:.2f}%<h6>'.format(sim[0],sim[1][0],sim[1][1])))"
   ]
  },
  {
   "cell_type": "code",
   "execution_count": 2,
   "metadata": {},
   "outputs": [
    {
     "data": {
      "text/html": [
       "\n",
       "<div class=\"bk-root\">\n",
       "    <div class=\"bk-plotdiv\" id=\"dd6f0c63-40eb-4e37-b8ca-7a264792e82c\"></div>\n",
       "</div>"
      ]
     },
     "metadata": {},
     "output_type": "display_data"
    },
    {
     "data": {
      "application/javascript": [
       "(function(root) {\n",
       "  function embed_document(root) {\n",
       "    \n",
       "  var docs_json = {\"2f469bb5-4a2c-46dd-832b-26322ee36e53\":{\"roots\":{\"references\":[{\"attributes\":{\"label\":{\"value\":\"validation - 256_32\"},\"renderers\":[{\"id\":\"5c89f000-cc3f-46ed-89ad-6c599d6fbf7d\",\"type\":\"GlyphRenderer\"}]},\"id\":\"2b92d5a0-87e5-44b1-a8f7-87dbe1bf3f36\",\"type\":\"LegendItem\"},{\"attributes\":{\"callback\":null,\"data\":{}},\"id\":\"f78bbc58-a90b-4049-8266-c123dd01835b\",\"type\":\"ColumnDataSource\"},{\"attributes\":{\"fill_alpha\":{\"value\":0.5},\"fill_color\":{\"value\":\"red\"},\"line_alpha\":{\"value\":0.5},\"line_color\":{\"value\":\"red\"},\"size\":{\"units\":\"screen\",\"value\":5},\"x\":{\"value\":88},\"y\":{\"value\":0.2976400004638672}},\"id\":\"d3653382-7fbf-4cfd-8025-a7386a771a0b\",\"type\":\"Circle\"},{\"attributes\":{\"source\":{\"id\":\"f78bbc58-a90b-4049-8266-c123dd01835b\",\"type\":\"ColumnDataSource\"}},\"id\":\"5101fac0-3913-47de-a3fd-83fc098a25f1\",\"type\":\"CDSView\"},{\"attributes\":{\"source\":{\"id\":\"495e46a7-9485-434d-b8e1-f6b3edf3e04e\",\"type\":\"ColumnDataSource\"}},\"id\":\"ac452e14-1a24-4a6d-90da-739897e65f16\",\"type\":\"CDSView\"},{\"attributes\":{\"data_source\":{\"id\":\"f78bbc58-a90b-4049-8266-c123dd01835b\",\"type\":\"ColumnDataSource\"},\"glyph\":{\"id\":\"d3653382-7fbf-4cfd-8025-a7386a771a0b\",\"type\":\"Circle\"},\"hover_glyph\":null,\"muted_glyph\":null,\"nonselection_glyph\":{\"id\":\"7ff212ab-6df1-4260-83eb-3e64c885f4c5\",\"type\":\"Circle\"},\"selection_glyph\":null,\"view\":{\"id\":\"5101fac0-3913-47de-a3fd-83fc098a25f1\",\"type\":\"CDSView\"}},\"id\":\"51211a1e-4cf5-47d4-a545-d7864a6057f2\",\"type\":\"GlyphRenderer\"},{\"attributes\":{\"fill_alpha\":{\"value\":0.1},\"fill_color\":{\"value\":\"#1f77b4\"},\"line_alpha\":{\"value\":0.1},\"line_color\":{\"value\":\"#1f77b4\"},\"size\":{\"units\":\"screen\",\"value\":5},\"x\":{\"value\":88},\"y\":{\"value\":0.2976400004638672}},\"id\":\"7ff212ab-6df1-4260-83eb-3e64c885f4c5\",\"type\":\"Circle\"},{\"attributes\":{\"callback\":null,\"column_names\":[\"x\",\"y\"],\"data\":{\"x\":{\"__ndarray__\":\"AQAAAAIAAAADAAAABAAAAAUAAAAGAAAABwAAAAgAAAAJAAAACgAAAAsAAAAMAAAADQAAAA4AAAAPAAAAEAAAABEAAAASAAAAEwAAABQAAAAVAAAAFgAAABcAAAAYAAAAGQAAABoAAAAbAAAAHAAAAB0AAAAeAAAAHwAAACAAAAAhAAAAIgAAACMAAAAkAAAAJQAAACYAAAAnAAAAKAAAACkAAAAqAAAAKwAAACwAAAAtAAAALgAAAC8AAAAwAAAAMQAAADIAAAAzAAAANAAAADUAAAA2AAAANwAAADgAAAA5AAAAOgAAADsAAAA8AAAAPQAAAD4AAAA/AAAAQAAAAEEAAABCAAAAQwAAAEQAAABFAAAARgAAAEcAAABIAAAASQAAAEoAAABLAAAATAAAAE0AAABOAAAATwAAAFAAAABRAAAAUgAAAFMAAABUAAAAVQAAAFYAAABXAAAAWAAAAFkAAABaAAAA\",\"dtype\":\"int32\",\"shape\":[90]},\"y\":[0.9810165263388881,0.9979682586267051,0.9914086141775111,0.9644043282412551,0.9031882650739,0.8277781116751634,0.7482287633067272,0.6966468852228516,0.6571586686188732,0.6325295609376949,0.6085623497950882,0.5918143380215963,0.5796473059305312,0.5676192096714174,0.5562069581865362,0.5501726160586531,0.544170276007572,0.5396134930122175,0.53452516338408,0.5316707345709157,0.5277571151922756,0.5254389162393366,0.5227913300932682,0.5191337272983164,0.5188550750988441,0.5162145137961869,0.5148321803455126,0.5126053043835977,0.5131501201646858,0.5114087390624312,0.4119595649885104,0.3832427778742656,0.37138405844183836,0.3641562731453994,0.3588150490920202,0.35523706121226684,0.35280100095996225,0.3504500193977481,0.34899041264668335,0.3479507355399445,0.34720922408748467,0.34728103361989093,0.34559429020489274,0.34448202302752806,0.34432747643160033,0.34403477454265563,0.34356410990893055,0.342586095334765,0.34279606015444164,0.3432557972533595,0.3437373894239463,0.3409602339134057,0.3402569688408552,0.33999002472131756,0.3387637989424445,0.338015262648628,0.33754537854916244,0.336258270781355,0.33587502644064793,0.3346230428972211,0.29691445377230996,0.28355241744446763,0.2778349738956684,0.27442167960625663,0.2715695924114435,0.269509751653368,0.26751703720231107,0.26550871197816667,0.2638352377129325,0.26193774894373006,0.26121418987669426,0.25943690400844505,0.2587859350077773,0.2571319742067587,0.2555420175541633,0.25471386634074167,0.25443599468565237,0.25294282478664626,0.2517048909316497,0.2508681538008787,0.24481663982582094,0.24260069139886212,0.24146891076287955,0.24132451116910741,0.24096858566835128,0.2400623806252818,0.2407711094636132,0.23970957728681327,0.2390656331318792,0.23937160416883121]}},\"id\":\"9e9e3092-bd8b-46b2-a3ce-7359f2d2531f\",\"type\":\"ColumnDataSource\"},{\"attributes\":{\"callback\":null,\"data\":{}},\"id\":\"5095d4f6-3e45-4845-877b-169f013cdb7f\",\"type\":\"ColumnDataSource\"},{\"attributes\":{\"source\":{\"id\":\"45648637-56bf-4538-bbef-32a14bd08518\",\"type\":\"ColumnDataSource\"}},\"id\":\"8c2a14d5-b0fa-4110-bd7f-a42dc06a5b60\",\"type\":\"CDSView\"},{\"attributes\":{\"label\":{\"value\":\"train - 256_32\"},\"renderers\":[{\"id\":\"08710452-0b62-41d5-8897-a3902cbfb85d\",\"type\":\"GlyphRenderer\"}]},\"id\":\"126e55a1-e29c-4e92-8395-00adab9c0714\",\"type\":\"LegendItem\"},{\"attributes\":{\"data_source\":{\"id\":\"45648637-56bf-4538-bbef-32a14bd08518\",\"type\":\"ColumnDataSource\"},\"glyph\":{\"id\":\"f011be9a-73bc-4a21-ae08-e78f736158e8\",\"type\":\"Line\"},\"hover_glyph\":null,\"muted_glyph\":null,\"nonselection_glyph\":{\"id\":\"127f02ee-194a-43cd-8009-f48b31d8b602\",\"type\":\"Line\"},\"selection_glyph\":null,\"view\":{\"id\":\"8c2a14d5-b0fa-4110-bd7f-a42dc06a5b60\",\"type\":\"CDSView\"}},\"id\":\"08710452-0b62-41d5-8897-a3902cbfb85d\",\"type\":\"GlyphRenderer\"},{\"attributes\":{\"label\":{\"value\":\"train - 8192_1\"},\"renderers\":[{\"id\":\"49fb9c2b-aa05-46b0-bdca-c33579090d27\",\"type\":\"GlyphRenderer\"}]},\"id\":\"442d1276-d983-4b11-8667-81abc62971b1\",\"type\":\"LegendItem\"},{\"attributes\":{\"line_alpha\":0.1,\"line_color\":\"#1f77b4\",\"line_dash\":[6],\"line_width\":3,\"x\":{\"field\":\"x\"},\"y\":{\"field\":\"y\"}},\"id\":\"127f02ee-194a-43cd-8009-f48b31d8b602\",\"type\":\"Line\"},{\"attributes\":{\"click_policy\":\"hide\",\"items\":[{\"id\":\"94190f6e-c010-46fb-a788-6c0354655194\",\"type\":\"LegendItem\"},{\"id\":\"9ef9575d-7e75-4c69-aea7-01d32147173b\",\"type\":\"LegendItem\"},{\"id\":\"442d1276-d983-4b11-8667-81abc62971b1\",\"type\":\"LegendItem\"},{\"id\":\"06f029f4-f2a9-45c9-ac92-55b2038bd748\",\"type\":\"LegendItem\"},{\"id\":\"126e55a1-e29c-4e92-8395-00adab9c0714\",\"type\":\"LegendItem\"},{\"id\":\"2b92d5a0-87e5-44b1-a8f7-87dbe1bf3f36\",\"type\":\"LegendItem\"}],\"plot\":{\"id\":\"17a20250-b749-48cd-b7b9-2cf09be334b4\",\"subtype\":\"Figure\",\"type\":\"Plot\"}},\"id\":\"07fa7415-fc21-4be3-98be-8c0c4f6ab999\",\"type\":\"Legend\"},{\"attributes\":{\"source\":{\"id\":\"93a7ee65-0460-4d34-a067-e9d7d0659dca\",\"type\":\"ColumnDataSource\"}},\"id\":\"7451bad5-4ef4-44ef-8c15-ec516c83f873\",\"type\":\"CDSView\"},{\"attributes\":{\"line_alpha\":0.1,\"line_color\":\"#1f77b4\",\"line_dash\":[6],\"line_width\":3,\"x\":{\"field\":\"x\"},\"y\":{\"field\":\"y\"}},\"id\":\"7dcdd8c4-8367-4c92-9f89-2041100e793b\",\"type\":\"Line\"},{\"attributes\":{},\"id\":\"ceb6fba8-eaa4-4d3b-9ec2-20e6d2fe85b5\",\"type\":\"BasicTickFormatter\"},{\"attributes\":{\"callback\":null,\"column_names\":[\"x\",\"y\"],\"data\":{\"x\":{\"__ndarray__\":\"AQAAAAIAAAADAAAABAAAAAUAAAAGAAAABwAAAAgAAAAJAAAACgAAAAsAAAAMAAAADQAAAA4AAAAPAAAAEAAAABEAAAASAAAAEwAAABQAAAAVAAAAFgAAABcAAAAYAAAAGQAAABoAAAAbAAAAHAAAAB0AAAAeAAAAHwAAACAAAAAhAAAAIgAAACMAAAAkAAAAJQAAACYAAAAnAAAAKAAAACkAAAAqAAAAKwAAACwAAAAtAAAALgAAAC8AAAAwAAAAMQAAADIAAAAzAAAANAAAADUAAAA2AAAANwAAADgAAAA5AAAAOgAAADsAAAA8AAAAPQAAAD4AAAA/AAAAQAAAAEEAAABCAAAAQwAAAEQAAABFAAAARgAAAEcAAABIAAAASQAAAEoAAABLAAAATAAAAE0AAABOAAAATwAAAFAAAABRAAAAUgAAAFMAAABUAAAAVQAAAFYAAABXAAAAWAAAAFkAAABaAAAA\",\"dtype\":\"int32\",\"shape\":[90]},\"y\":[0.942479999975586,0.9973599999984741,0.9775000000038148,0.9348399999938966,0.8310799998962402,0.7612199999694824,0.681599999975586,0.6202599999389649,0.6008599999145507,0.5579200004028321,0.5506399998291015,0.5693199999755859,0.5348600002563476,0.5273800004272461,0.5067400002929687,0.48650000004882815,0.4816600000488281,0.4961400003295898,0.48358000041503907,0.4739000004516602,0.4628800002685547,0.45872000010986325,0.468260000390625,0.44741999987792963,0.48358000029296877,0.446100000024414,0.465000000366211,0.4860400003662109,0.4687800003295899,0.43632000040283203,0.3400599998046875,0.32777999975585936,0.321099999584961,0.3166400004882812,0.3126800004638672,0.3096399996826172,0.3106999995605469,0.3088200005615234,0.3087600001953125,0.3076600008056641,0.30710000002441407,0.307940000756836,0.30703999978027346,0.30761999975585935,0.308420000390625,0.3061600005859375,0.30480000083007813,0.30475999970703127,0.3066000005859375,0.3164600005859375,0.3079399996582031,0.30857999975585937,0.3050599998046875,0.30846000053710937,0.3083400007080078,0.3020400005615234,0.30943999970703123,0.3030800004150391,0.30480000078124997,0.3030800005371094,0.27230000041503905,0.2695999996826172,0.26628000063476565,0.26608000024414064,0.2647399996826172,0.2640599999267578,0.26364000026855466,0.2624399999755859,0.2620999999267578,0.26078000075683594,0.2612400001220703,0.2586399999511719,0.2587599997558594,0.2594600004638672,0.2596599996826172,0.25929999973144535,0.25800000078124996,0.25918000083007814,0.2581000006591797,0.2577600006835938,0.25536000017089844,0.2538200005126953,0.2551599998046875,0.2537400004638672,0.25390000043945316,0.2546799999267578,0.2547400004882812,0.25412000068359375,0.25451999997558594,0.25416000058593746]}},\"id\":\"495e46a7-9485-434d-b8e1-f6b3edf3e04e\",\"type\":\"ColumnDataSource\"},{\"attributes\":{\"line_color\":\"#1f77b4\",\"line_dash\":[6],\"line_width\":3,\"x\":{\"field\":\"x\"},\"y\":{\"field\":\"y\"}},\"id\":\"da5e4d4f-a68a-4bb2-ae26-81dc6ad91794\",\"type\":\"Line\"},{\"attributes\":{\"data_source\":{\"id\":\"a4532adf-4878-4e17-ae9b-f322e097bf81\",\"type\":\"ColumnDataSource\"},\"glyph\":{\"id\":\"da5e4d4f-a68a-4bb2-ae26-81dc6ad91794\",\"type\":\"Line\"},\"hover_glyph\":null,\"muted_glyph\":null,\"nonselection_glyph\":{\"id\":\"7dcdd8c4-8367-4c92-9f89-2041100e793b\",\"type\":\"Line\"},\"selection_glyph\":null,\"view\":{\"id\":\"05be4bbc-22ba-424e-9e7c-4e1a9f9e5e6a\",\"type\":\"CDSView\"}},\"id\":\"e60ff13d-cabc-47cd-8c20-f682543d27ea\",\"type\":\"GlyphRenderer\"},{\"attributes\":{\"line_color\":\"#ff7f0e\",\"line_width\":3,\"x\":{\"field\":\"x\"},\"y\":{\"field\":\"y\"}},\"id\":\"53917156-3a6b-4086-9252-8afa2488a446\",\"type\":\"Line\"},{\"attributes\":{\"label\":{\"value\":\"validation - 8192_1\"},\"renderers\":[{\"id\":\"e530e732-9f9b-4b7e-a0fa-2e49ad441301\",\"type\":\"GlyphRenderer\"}]},\"id\":\"06f029f4-f2a9-45c9-ac92-55b2038bd748\",\"type\":\"LegendItem\"},{\"attributes\":{\"source\":{\"id\":\"a4532adf-4878-4e17-ae9b-f322e097bf81\",\"type\":\"ColumnDataSource\"}},\"id\":\"05be4bbc-22ba-424e-9e7c-4e1a9f9e5e6a\",\"type\":\"CDSView\"},{\"attributes\":{\"data_source\":{\"id\":\"495e46a7-9485-434d-b8e1-f6b3edf3e04e\",\"type\":\"ColumnDataSource\"},\"glyph\":{\"id\":\"53917156-3a6b-4086-9252-8afa2488a446\",\"type\":\"Line\"},\"hover_glyph\":null,\"muted_glyph\":null,\"nonselection_glyph\":{\"id\":\"c9d4c5f3-508a-48bc-b659-7612fb8e54e6\",\"type\":\"Line\"},\"selection_glyph\":null,\"view\":{\"id\":\"ac452e14-1a24-4a6d-90da-739897e65f16\",\"type\":\"CDSView\"}},\"id\":\"e530e732-9f9b-4b7e-a0fa-2e49ad441301\",\"type\":\"GlyphRenderer\"},{\"attributes\":{\"label\":{\"value\":\"train - 256_1\"},\"renderers\":[{\"id\":\"e60ff13d-cabc-47cd-8c20-f682543d27ea\",\"type\":\"GlyphRenderer\"}]},\"id\":\"94190f6e-c010-46fb-a788-6c0354655194\",\"type\":\"LegendItem\"},{\"attributes\":{\"line_alpha\":0.1,\"line_color\":\"#1f77b4\",\"line_width\":3,\"x\":{\"field\":\"x\"},\"y\":{\"field\":\"y\"}},\"id\":\"c9d4c5f3-508a-48bc-b659-7612fb8e54e6\",\"type\":\"Line\"},{\"attributes\":{\"fill_alpha\":{\"value\":0.5},\"fill_color\":{\"value\":\"red\"},\"line_alpha\":{\"value\":0.5},\"line_color\":{\"value\":\"red\"},\"size\":{\"units\":\"screen\",\"value\":5},\"x\":{\"value\":84},\"y\":{\"value\":0.2537400004638672}},\"id\":\"3f88b17e-59d5-4820-83c5-64436b0b877f\",\"type\":\"Circle\"},{\"attributes\":{\"fill_alpha\":{\"value\":0.1},\"fill_color\":{\"value\":\"#1f77b4\"},\"line_alpha\":{\"value\":0.1},\"line_color\":{\"value\":\"#1f77b4\"},\"size\":{\"units\":\"screen\",\"value\":5},\"x\":{\"value\":84},\"y\":{\"value\":0.2537400004638672}},\"id\":\"9e1ac248-0434-45eb-b9f0-4b89c1d18e30\",\"type\":\"Circle\"},{\"attributes\":{\"source\":{\"id\":\"def01158-76a5-4cad-ad08-07504b597681\",\"type\":\"ColumnDataSource\"}},\"id\":\"8d83edea-d85a-4098-8824-3a48774e1580\",\"type\":\"CDSView\"},{\"attributes\":{\"source\":{\"id\":\"5095d4f6-3e45-4845-877b-169f013cdb7f\",\"type\":\"ColumnDataSource\"}},\"id\":\"f2340572-1350-4682-bcb2-10a077bcd14e\",\"type\":\"CDSView\"},{\"attributes\":{\"data_source\":{\"id\":\"5095d4f6-3e45-4845-877b-169f013cdb7f\",\"type\":\"ColumnDataSource\"},\"glyph\":{\"id\":\"3f88b17e-59d5-4820-83c5-64436b0b877f\",\"type\":\"Circle\"},\"hover_glyph\":null,\"muted_glyph\":null,\"nonselection_glyph\":{\"id\":\"9e1ac248-0434-45eb-b9f0-4b89c1d18e30\",\"type\":\"Circle\"},\"selection_glyph\":null,\"view\":{\"id\":\"f2340572-1350-4682-bcb2-10a077bcd14e\",\"type\":\"CDSView\"}},\"id\":\"22115b30-d195-423d-bce0-5a849bec6ecf\",\"type\":\"GlyphRenderer\"},{\"attributes\":{\"callback\":null,\"column_names\":[\"x\",\"y\"],\"data\":{\"x\":{\"__ndarray__\":\"AQAAAAIAAAADAAAABAAAAAUAAAAGAAAABwAAAAgAAAAJAAAACgAAAAsAAAAMAAAADQAAAA4AAAAPAAAAEAAAABEAAAASAAAAEwAAABQAAAAVAAAAFgAAABcAAAAYAAAAGQAAABoAAAAbAAAAHAAAAB0AAAAeAAAAHwAAACAAAAAhAAAAIgAAACMAAAAkAAAAJQAAACYAAAAnAAAAKAAAACkAAAAqAAAAKwAAACwAAAAtAAAALgAAAC8AAAAwAAAAMQAAADIAAAAzAAAANAAAADUAAAA2AAAANwAAADgAAAA5AAAAOgAAADsAAAA8AAAAPQAAAD4AAAA/AAAAQAAAAEEAAABCAAAAQwAAAEQAAABFAAAARgAAAEcAAABIAAAASQAAAEoAAABLAAAATAAAAE0AAABOAAAATwAAAFAAAABRAAAAUgAAAFMAAABUAAAAVQAAAFYAAABXAAAAWAAAAFkAAABaAAAA\",\"dtype\":\"int32\",\"shape\":[90]},\"y\":[0.9282318386282714,0.7498858462617854,0.6561369438956232,0.6091165320352885,0.580560535823622,0.5614576397918154,0.5477818270367257,0.538209304484872,0.5303282085777811,0.5247621894741151,0.5199884168095092,0.5149992155579868,0.5124351470191083,0.509310651927811,0.5063937800465039,0.504798359619463,0.5026081689594102,0.5006872640350428,0.4992190713638297,0.49783751845048185,0.49738012296711626,0.49545921804039655,0.4942173814976663,0.49412683904355176,0.49307077063253274,0.49225979126982894,0.49153232950844933,0.4914339816732696,0.4900930167559788,0.489398337608281,0.378541595279988,0.35536975273095756,0.3456169258175803,0.3400071965614652,0.3357891672152558,0.33348033472378125,0.33227128079267837,0.3305517547706085,0.3303878417126208,0.32985239238859054,0.32944573190048976,0.3297150176379319,0.3296697464106512,0.33013416673873813,0.3305111667738368,0.3296962847104769,0.32978604662565725,0.3296197919566729,0.32881739850971065,0.3285223550087569,0.32873231982828477,0.32782767586031475,0.32700889111202003,0.32741555159982305,0.3267934625198034,0.32589037963181594,0.324824944755402,0.32432618073951647,0.32431291159091374,0.3234129508478847,0.27789351426949727,0.2658341964819545,0.2610783761999738,0.256993818917136,0.25488948747145845,0.25200539820603657,0.25027650571371846,0.2487193316745071,0.24746110381722417,0.24531306222981664,0.24477214913881448,0.24304247611324917,0.24161487144220217,0.24061422124933443,0.24042298935124692,0.23887986499445119,0.2373913783319686,0.23699486484105095,0.23547281501770453,0.23522382327873761,0.22838942932575676,0.22639203164037972,0.22580038355482734,0.22515097563691128,0.2247107519964624,0.22431579957596945,0.22438058426246343,0.22413081198893917,0.22437277887657472,0.223518089365233]}},\"id\":\"a4532adf-4878-4e17-ae9b-f322e097bf81\",\"type\":\"ColumnDataSource\"},{\"attributes\":{\"line_alpha\":0.1,\"line_color\":\"#1f77b4\",\"line_width\":3,\"x\":{\"field\":\"x\"},\"y\":{\"field\":\"y\"}},\"id\":\"6aac1868-0c2f-415a-8381-17d79e1c1bec\",\"type\":\"Line\"},{\"attributes\":{\"callback\":null,\"data\":{}},\"id\":\"e5ac6547-3bdb-48f5-a58f-41b967cebe78\",\"type\":\"ColumnDataSource\"},{\"attributes\":{\"callback\":null,\"column_names\":[\"x\",\"y\"],\"data\":{\"x\":{\"__ndarray__\":\"AQAAAAIAAAADAAAABAAAAAUAAAAGAAAABwAAAAgAAAAJAAAACgAAAAsAAAAMAAAADQAAAA4AAAAPAAAAEAAAABEAAAASAAAAEwAAABQAAAAVAAAAFgAAABcAAAAYAAAAGQAAABoAAAAbAAAAHAAAAB0AAAAeAAAAHwAAACAAAAAhAAAAIgAAACMAAAAkAAAAJQAAACYAAAAnAAAAKAAAACkAAAAqAAAAKwAAACwAAAAtAAAALgAAAC8AAAAwAAAAMQAAADIAAAAzAAAANAAAADUAAAA2AAAANwAAADgAAAA5AAAAOgAAADsAAAA8AAAAPQAAAD4AAAA/AAAAQAAAAEEAAABCAAAAQwAAAEQAAABFAAAARgAAAEcAAABIAAAASQAAAEoAAABLAAAATAAAAE0AAABOAAAATwAAAFAAAABRAAAAUgAAAFMAAABUAAAAVQAAAFYAAABXAAAAWAAAAFkAAABaAAAA\",\"dtype\":\"int32\",\"shape\":[90]},\"y\":[0.8261400000976562,0.68814,0.6124400003173828,0.5609200004272461,0.5159600000366211,0.5452000001220703,0.5127199999755859,0.509319999975586,0.5508800001953125,0.5192000002807617,0.5101000001342774,0.480059999987793,0.4773999999755859,0.4805399998535156,0.4806200003173828,0.4905600000854492,0.48415999990234376,0.48438000029296874,0.5346600001342773,0.4646199999267578,0.4706400001098633,0.4987400000366211,0.4759399998779297,0.4661999998291016,0.49156000017089846,0.4666200000366211,0.4436399999267578,0.4644800002197265,0.4736200004028321,0.4592200004638672,0.3173599996582031,0.30384000009765627,0.3004399997314453,0.29538000026855465,0.3024000002197266,0.29652000048828125,0.29502000041503906,0.29451999958496095,0.2926,0.29954000007324216,0.3016400002685547,0.3004399997802734,0.3020800000732422,0.3040600000244141,0.2944600005859375,0.30512,0.29822000007324223,0.3031600001953125,0.298980000390625,0.30083999958496094,0.30032000021972655,0.3018799997802734,0.3015999998535156,0.29569999978027345,0.29918000029296876,0.30432,0.2995599997314453,0.3055800002197266,0.30204000026855465,0.30614000004882813,0.25633999997558593,0.2518599997558594,0.2484199996826172,0.2482200002685547,0.24822000034179686,0.2462400005126953,0.24552000061035156,0.2440800005371094,0.24448000078124998,0.24286000004882813,0.2447000004394531,0.24353999958496092,0.24411999982910157,0.24332000009765625,0.2422800005859375,0.24247999982910154,0.24166000056152345,0.2425000008300781,0.24377999975585937,0.24269999970703127,0.2396800007080078,0.2383400003173828,0.23920000085449217,0.23884000075683595,0.23812000026855468,0.23848000002441405,0.23905999978027342,0.23754000024414063,0.23687999958496092,0.23818000065917969]}},\"id\":\"def01158-76a5-4cad-ad08-07504b597681\",\"type\":\"ColumnDataSource\"},{\"attributes\":{\"source\":{\"id\":\"e5ac6547-3bdb-48f5-a58f-41b967cebe78\",\"type\":\"ColumnDataSource\"}},\"id\":\"a01b2b39-1f6b-4322-ac7a-032b4079222a\",\"type\":\"CDSView\"},{\"attributes\":{\"line_color\":\"#1f77b4\",\"line_width\":3,\"x\":{\"field\":\"x\"},\"y\":{\"field\":\"y\"}},\"id\":\"10949685-3de4-46f4-8e4b-56827ddd940a\",\"type\":\"Line\"},{\"attributes\":{\"label\":{\"value\":\"validation - 256_1\"},\"renderers\":[{\"id\":\"0bd45fb3-9744-4ba3-b329-557f56529044\",\"type\":\"GlyphRenderer\"}]},\"id\":\"9ef9575d-7e75-4c69-aea7-01d32147173b\",\"type\":\"LegendItem\"},{\"attributes\":{\"data_source\":{\"id\":\"def01158-76a5-4cad-ad08-07504b597681\",\"type\":\"ColumnDataSource\"},\"glyph\":{\"id\":\"10949685-3de4-46f4-8e4b-56827ddd940a\",\"type\":\"Line\"},\"hover_glyph\":null,\"muted_glyph\":null,\"nonselection_glyph\":{\"id\":\"e200a554-cd3b-48f7-9666-87b76be0e05c\",\"type\":\"Line\"},\"selection_glyph\":null,\"view\":{\"id\":\"8d83edea-d85a-4098-8824-3a48774e1580\",\"type\":\"CDSView\"}},\"id\":\"0bd45fb3-9744-4ba3-b329-557f56529044\",\"type\":\"GlyphRenderer\"},{\"attributes\":{\"line_alpha\":0.1,\"line_color\":\"#1f77b4\",\"line_width\":3,\"x\":{\"field\":\"x\"},\"y\":{\"field\":\"y\"}},\"id\":\"e200a554-cd3b-48f7-9666-87b76be0e05c\",\"type\":\"Line\"},{\"attributes\":{\"fill_alpha\":{\"value\":0.5},\"fill_color\":{\"value\":\"red\"},\"line_alpha\":{\"value\":0.5},\"line_color\":{\"value\":\"red\"},\"size\":{\"units\":\"screen\",\"value\":5},\"x\":{\"value\":89},\"y\":{\"value\":0.23687999958496092}},\"id\":\"e1fbb8b6-2c40-4fc7-afc8-24572bff6c0d\",\"type\":\"Circle\"},{\"attributes\":{\"callback\":null,\"column_names\":[\"x\",\"y\"],\"data\":{\"x\":{\"__ndarray__\":\"AQAAAAIAAAADAAAABAAAAAUAAAAGAAAABwAAAAgAAAAJAAAACgAAAAsAAAAMAAAADQAAAA4AAAAPAAAAEAAAABEAAAASAAAAEwAAABQAAAAVAAAAFgAAABcAAAAYAAAAGQAAABoAAAAbAAAAHAAAAB0AAAAeAAAAHwAAACAAAAAhAAAAIgAAACMAAAAkAAAAJQAAACYAAAAnAAAAKAAAACkAAAAqAAAAKwAAACwAAAAtAAAALgAAAC8AAAAwAAAAMQAAADIAAAAzAAAANAAAADUAAAA2AAAANwAAADgAAAA5AAAAOgAAADsAAAA8AAAAPQAAAD4AAAA/AAAAQAAAAEEAAABCAAAAQwAAAEQAAABFAAAARgAAAEcAAABIAAAASQAAAEoAAABLAAAATAAAAE0AAABOAAAATwAAAFAAAABRAAAAUgAAAFMAAABUAAAAVQAAAFYAAABXAAAAWAAAAFkAAABaAAAA\",\"dtype\":\"int32\",\"shape\":[90]},\"y\":[0.9977645381125178,0.9926379621079765,0.9814294311357683,0.9663868956973751,0.9506980744898353,0.9309090852324705,0.9104870793580533,0.8903530921417961,0.8729525502924552,0.8609798722568152,0.8412111769972667,0.8278912897376108,0.8177224358731126,0.8088188347030183,0.8003086248706431,0.7908828435324683,0.7830618490796057,0.7814828199599119,0.7718993698710476,0.7681925931587292,0.7668204067072181,0.7573423292975849,0.7670038332230793,0.7546916209977447,0.7489343699921055,0.745800508442738,0.7435869016283836,0.7408893610275479,0.7377679880914069,0.7538790805569192,0.5570265234730506,0.5155182735730621,0.49547638988405773,0.48323910934173014,0.47464538190666844,0.46755809352037686,0.46403552386127594,0.460997668532846,0.45932497480833256,0.4567968110307444,0.4565720159804576,0.45458164314304733,0.45396579837057144,0.45295344010467686,0.45115586024384796,0.4510419016423397,0.4490117213459308,0.4475380649056914,0.4465163401814289,0.44432146628940816,0.44200326733250894,0.44159972899508354,0.4393884637999735,0.43746365618036903,0.43610864157304013,0.43479187334722835,0.4322145356537325,0.4317914838560813,0.42999312345527607,0.42789815847558893,0.3553354090436055,0.3425353603378922,0.33847578028195424,0.3344091753821882,0.33067195767906504,0.32924201138469444,0.3269238124270509,0.3239296672478544,0.322985215824429,0.3211720251934305,0.3198919422699275,0.31797415949403196,0.3162437059309914,0.315780066144191,0.3137865711509544,0.31312857730818555,0.3115995026401179,0.3107065667506236,0.30945536374336197,0.30849998477646473,0.30386436740764505,0.30142206285500234,0.30092095722270107,0.30046200065759615,0.30068913732534075,0.29972673351634244,0.299352855637219,0.29973375836356486,0.2995323794650785,0.2995909198380141]}},\"id\":\"45648637-56bf-4538-bbef-32a14bd08518\",\"type\":\"ColumnDataSource\"},{\"attributes\":{\"data_source\":{\"id\":\"e5ac6547-3bdb-48f5-a58f-41b967cebe78\",\"type\":\"ColumnDataSource\"},\"glyph\":{\"id\":\"e1fbb8b6-2c40-4fc7-afc8-24572bff6c0d\",\"type\":\"Circle\"},\"hover_glyph\":null,\"muted_glyph\":null,\"nonselection_glyph\":{\"id\":\"65c583ae-b8f8-4f61-aa99-f8942003098b\",\"type\":\"Circle\"},\"selection_glyph\":null,\"view\":{\"id\":\"a01b2b39-1f6b-4322-ac7a-032b4079222a\",\"type\":\"CDSView\"}},\"id\":\"decc3be3-a24e-41c2-a0e8-6cc1cb51bb9f\",\"type\":\"GlyphRenderer\"},{\"attributes\":{\"fill_alpha\":{\"value\":0.1},\"fill_color\":{\"value\":\"#1f77b4\"},\"line_alpha\":{\"value\":0.1},\"line_color\":{\"value\":\"#1f77b4\"},\"size\":{\"units\":\"screen\",\"value\":5},\"x\":{\"value\":89},\"y\":{\"value\":0.23687999958496092}},\"id\":\"65c583ae-b8f8-4f61-aa99-f8942003098b\",\"type\":\"Circle\"},{\"attributes\":{\"callback\":null,\"column_names\":[\"x\",\"y\"],\"data\":{\"x\":{\"__ndarray__\":\"AQAAAAIAAAADAAAABAAAAAUAAAAGAAAABwAAAAgAAAAJAAAACgAAAAsAAAAMAAAADQAAAA4AAAAPAAAAEAAAABEAAAASAAAAEwAAABQAAAAVAAAAFgAAABcAAAAYAAAAGQAAABoAAAAbAAAAHAAAAB0AAAAeAAAAHwAAACAAAAAhAAAAIgAAACMAAAAkAAAAJQAAACYAAAAnAAAAKAAAACkAAAAqAAAAKwAAACwAAAAtAAAALgAAAC8AAAAwAAAAMQAAADIAAAAzAAAANAAAADUAAAA2AAAANwAAADgAAAA5AAAAOgAAADsAAAA8AAAAPQAAAD4AAAA/AAAAQAAAAEEAAABCAAAAQwAAAEQAAABFAAAARgAAAEcAAABIAAAASQAAAEoAAABLAAAATAAAAE0AAABOAAAATwAAAFAAAABRAAAAUgAAAFMAAABUAAAAVQAAAFYAAABXAAAAWAAAAFkAAABaAAAA\",\"dtype\":\"int32\",\"shape\":[90]},\"y\":[0.9942399999984741,0.9841999999938964,0.9701399999992372,0.9619400000091552,0.933619999975586,0.9029000000701904,0.8789600001098633,0.8528200000427246,0.8325200000946045,0.8185000000305176,0.8025400000732422,0.7905400001220703,0.7652000000915526,0.7619,0.7511600000488281,0.7361600001525879,0.7497400000793456,0.722480000201416,0.7161000001281738,0.727679999987793,0.6985600001708984,0.6962800002197266,0.7038800002441407,0.7001000001464844,0.7268800000366211,0.7021800000427245,0.6982199999633789,0.69056,0.6792000001586913,0.6557999997924804,0.47800000009765625,0.4532399999633789,0.4428200000854492,0.43063999997558594,0.42680000040283206,0.41803999998779295,0.42176000021972654,0.4158000002807617,0.4111400000732422,0.4119800003173828,0.40914000036621095,0.4090799998535157,0.40812000036621093,0.41926000009765624,0.4067999999145508,0.40638000019531245,0.40761999998779297,0.40711999986572267,0.41267999992675786,0.40646000014648437,0.40178000006103515,0.38894000030517584,0.4017200003417969,0.39241999997558596,0.39208000048828123,0.3905600001464844,0.38766000003662104,0.3855600003540039,0.3841000001464844,0.39280000001220705,0.32562000073242187,0.3224400002685547,0.31964000029296874,0.3172800001953125,0.3139400000244141,0.3120800006347656,0.3130000002441406,0.31170000083007815,0.3102800005859375,0.30882000048828123,0.3070400005126953,0.30663999975585937,0.3080200005126953,0.30522000026855467,0.30560000053710934,0.3052599998535156,0.3037200007324219,0.30278000068359373,0.3035200000732422,0.30349999958496093,0.3012200004638672,0.3003000002197266,0.2980399998046875,0.30032000002441406,0.29835999980468747,0.2994600002685547,0.2987000005615234,0.2976400004638672,0.2980399995605469,0.29806000043945313]}},\"id\":\"93a7ee65-0460-4d34-a067-e9d7d0659dca\",\"type\":\"ColumnDataSource\"},{\"attributes\":{\"line_color\":\"#2ca02c\",\"line_width\":3,\"x\":{\"field\":\"x\"},\"y\":{\"field\":\"y\"}},\"id\":\"c35af4bf-711b-4b5e-ad44-d80124631614\",\"type\":\"Line\"},{\"attributes\":{\"data_source\":{\"id\":\"93a7ee65-0460-4d34-a067-e9d7d0659dca\",\"type\":\"ColumnDataSource\"},\"glyph\":{\"id\":\"c35af4bf-711b-4b5e-ad44-d80124631614\",\"type\":\"Line\"},\"hover_glyph\":null,\"muted_glyph\":null,\"nonselection_glyph\":{\"id\":\"6aac1868-0c2f-415a-8381-17d79e1c1bec\",\"type\":\"Line\"},\"selection_glyph\":null,\"view\":{\"id\":\"7451bad5-4ef4-44ef-8c15-ec516c83f873\",\"type\":\"CDSView\"}},\"id\":\"5c89f000-cc3f-46ed-89ad-6c599d6fbf7d\",\"type\":\"GlyphRenderer\"},{\"attributes\":{\"active_drag\":\"auto\",\"active_inspect\":\"auto\",\"active_scroll\":\"auto\",\"active_tap\":\"auto\",\"tools\":[{\"id\":\"10371f2a-90dc-441d-ad0e-e256edc6687a\",\"type\":\"PanTool\"},{\"id\":\"c2038f34-6511-4c19-966f-927227f223bf\",\"type\":\"WheelZoomTool\"},{\"id\":\"b0c4a1d5-d717-477a-8723-61e75f74cde7\",\"type\":\"BoxZoomTool\"},{\"id\":\"f8254793-8854-415c-a9e2-2c42a5806071\",\"type\":\"SaveTool\"},{\"id\":\"4a6d5b13-294b-4720-a49f-d33e4cfe99d9\",\"type\":\"ResetTool\"},{\"id\":\"547dbb86-8949-4d88-9891-f9276afc4c90\",\"type\":\"HelpTool\"}]},\"id\":\"295b214e-5582-432e-abc0-56504ccedf79\",\"type\":\"Toolbar\"},{\"attributes\":{\"plot\":null,\"text\":\"Training & Test Error\"},\"id\":\"cf8b19b0-0e4d-42b4-88ab-c5d39b7250a5\",\"type\":\"Title\"},{\"attributes\":{\"callback\":null},\"id\":\"d6c6b511-d289-42ce-b571-4dcb4da80803\",\"type\":\"DataRange1d\"},{\"attributes\":{\"data_source\":{\"id\":\"9e9e3092-bd8b-46b2-a3ce-7359f2d2531f\",\"type\":\"ColumnDataSource\"},\"glyph\":{\"id\":\"732cdbc6-7454-4490-84f0-59c68ffcd3c0\",\"type\":\"Line\"},\"hover_glyph\":null,\"muted_glyph\":null,\"nonselection_glyph\":{\"id\":\"4955bccb-acde-4e8d-a943-af120c8bd027\",\"type\":\"Line\"},\"selection_glyph\":null,\"view\":{\"id\":\"bc76104b-2381-4836-8f6e-e6ac7373db2e\",\"type\":\"CDSView\"}},\"id\":\"49fb9c2b-aa05-46b0-bdca-c33579090d27\",\"type\":\"GlyphRenderer\"},{\"attributes\":{\"background_fill_color\":{\"value\":\"#fafafa\"},\"below\":[{\"id\":\"ac69fe50-fb14-4ce3-b7d4-8c14d3ec54d8\",\"type\":\"LinearAxis\"}],\"left\":[{\"id\":\"a07286cc-4d9f-4a56-84fa-5f827dd4c14d\",\"type\":\"LinearAxis\"}],\"min_border\":10,\"min_border_left\":50,\"renderers\":[{\"id\":\"ac69fe50-fb14-4ce3-b7d4-8c14d3ec54d8\",\"type\":\"LinearAxis\"},{\"id\":\"93a3bd2c-3168-4da9-8899-92b9ba175178\",\"type\":\"Grid\"},{\"id\":\"a07286cc-4d9f-4a56-84fa-5f827dd4c14d\",\"type\":\"LinearAxis\"},{\"id\":\"ae5635ba-5ac5-437b-9fe1-a669db675c61\",\"type\":\"Grid\"},{\"id\":\"0d7cd5b8-8da3-4db9-adbd-e9b79b09e2a2\",\"type\":\"BoxAnnotation\"},{\"id\":\"07fa7415-fc21-4be3-98be-8c0c4f6ab999\",\"type\":\"Legend\"},{\"id\":\"e60ff13d-cabc-47cd-8c20-f682543d27ea\",\"type\":\"GlyphRenderer\"},{\"id\":\"0bd45fb3-9744-4ba3-b329-557f56529044\",\"type\":\"GlyphRenderer\"},{\"id\":\"decc3be3-a24e-41c2-a0e8-6cc1cb51bb9f\",\"type\":\"GlyphRenderer\"},{\"id\":\"49fb9c2b-aa05-46b0-bdca-c33579090d27\",\"type\":\"GlyphRenderer\"},{\"id\":\"e530e732-9f9b-4b7e-a0fa-2e49ad441301\",\"type\":\"GlyphRenderer\"},{\"id\":\"22115b30-d195-423d-bce0-5a849bec6ecf\",\"type\":\"GlyphRenderer\"},{\"id\":\"08710452-0b62-41d5-8897-a3902cbfb85d\",\"type\":\"GlyphRenderer\"},{\"id\":\"5c89f000-cc3f-46ed-89ad-6c599d6fbf7d\",\"type\":\"GlyphRenderer\"},{\"id\":\"51211a1e-4cf5-47d4-a545-d7864a6057f2\",\"type\":\"GlyphRenderer\"}],\"title\":{\"id\":\"cf8b19b0-0e4d-42b4-88ab-c5d39b7250a5\",\"type\":\"Title\"},\"toolbar\":{\"id\":\"295b214e-5582-432e-abc0-56504ccedf79\",\"type\":\"Toolbar\"},\"x_range\":{\"id\":\"d6c6b511-d289-42ce-b571-4dcb4da80803\",\"type\":\"DataRange1d\"},\"x_scale\":{\"id\":\"2641d6f8-98ab-4d70-9b3e-a5e4b7fcf764\",\"type\":\"LinearScale\"},\"y_range\":{\"id\":\"face2d52-ecfe-4891-a3ca-135d9c2a88bb\",\"type\":\"DataRange1d\"},\"y_scale\":{\"id\":\"66dabdc0-95f1-46a8-a578-e7168b90de93\",\"type\":\"LinearScale\"}},\"id\":\"17a20250-b749-48cd-b7b9-2cf09be334b4\",\"subtype\":\"Figure\",\"type\":\"Plot\"},{\"attributes\":{\"line_color\":\"#2ca02c\",\"line_dash\":[6],\"line_width\":3,\"x\":{\"field\":\"x\"},\"y\":{\"field\":\"y\"}},\"id\":\"f011be9a-73bc-4a21-ae08-e78f736158e8\",\"type\":\"Line\"},{\"attributes\":{\"source\":{\"id\":\"9e9e3092-bd8b-46b2-a3ce-7359f2d2531f\",\"type\":\"ColumnDataSource\"}},\"id\":\"bc76104b-2381-4836-8f6e-e6ac7373db2e\",\"type\":\"CDSView\"},{\"attributes\":{},\"id\":\"66dabdc0-95f1-46a8-a578-e7168b90de93\",\"type\":\"LinearScale\"},{\"attributes\":{},\"id\":\"2641d6f8-98ab-4d70-9b3e-a5e4b7fcf764\",\"type\":\"LinearScale\"},{\"attributes\":{\"callback\":null},\"id\":\"face2d52-ecfe-4891-a3ca-135d9c2a88bb\",\"type\":\"DataRange1d\"},{\"attributes\":{\"plot\":{\"id\":\"17a20250-b749-48cd-b7b9-2cf09be334b4\",\"subtype\":\"Figure\",\"type\":\"Plot\"},\"ticker\":{\"id\":\"f3402521-abf6-495b-8141-b7286751160f\",\"type\":\"BasicTicker\"}},\"id\":\"93a3bd2c-3168-4da9-8899-92b9ba175178\",\"type\":\"Grid\"},{\"attributes\":{\"dimension\":1,\"plot\":{\"id\":\"17a20250-b749-48cd-b7b9-2cf09be334b4\",\"subtype\":\"Figure\",\"type\":\"Plot\"},\"ticker\":{\"id\":\"fc17e96e-0af0-4eb5-a72c-2284ae342905\",\"type\":\"BasicTicker\"}},\"id\":\"ae5635ba-5ac5-437b-9fe1-a669db675c61\",\"type\":\"Grid\"},{\"attributes\":{},\"id\":\"f3402521-abf6-495b-8141-b7286751160f\",\"type\":\"BasicTicker\"},{\"attributes\":{\"axis_label\":\"t [Epochs]\",\"formatter\":{\"id\":\"ceb6fba8-eaa4-4d3b-9ec2-20e6d2fe85b5\",\"type\":\"BasicTickFormatter\"},\"plot\":{\"id\":\"17a20250-b749-48cd-b7b9-2cf09be334b4\",\"subtype\":\"Figure\",\"type\":\"Plot\"},\"ticker\":{\"id\":\"f3402521-abf6-495b-8141-b7286751160f\",\"type\":\"BasicTicker\"}},\"id\":\"ac69fe50-fb14-4ce3-b7d4-8c14d3ec54d8\",\"type\":\"LinearAxis\"},{\"attributes\":{},\"id\":\"fc17e96e-0af0-4eb5-a72c-2284ae342905\",\"type\":\"BasicTicker\"},{\"attributes\":{\"axis_label\":\"Error Rate\",\"formatter\":{\"id\":\"4f223168-bc91-4466-85d2-40967f3b8b87\",\"type\":\"NumeralTickFormatter\"},\"plot\":{\"id\":\"17a20250-b749-48cd-b7b9-2cf09be334b4\",\"subtype\":\"Figure\",\"type\":\"Plot\"},\"ticker\":{\"id\":\"fc17e96e-0af0-4eb5-a72c-2284ae342905\",\"type\":\"BasicTicker\"}},\"id\":\"a07286cc-4d9f-4a56-84fa-5f827dd4c14d\",\"type\":\"LinearAxis\"},{\"attributes\":{\"line_color\":\"#ff7f0e\",\"line_dash\":[6],\"line_width\":3,\"x\":{\"field\":\"x\"},\"y\":{\"field\":\"y\"}},\"id\":\"732cdbc6-7454-4490-84f0-59c68ffcd3c0\",\"type\":\"Line\"},{\"attributes\":{\"line_alpha\":0.1,\"line_color\":\"#1f77b4\",\"line_dash\":[6],\"line_width\":3,\"x\":{\"field\":\"x\"},\"y\":{\"field\":\"y\"}},\"id\":\"4955bccb-acde-4e8d-a943-af120c8bd027\",\"type\":\"Line\"},{\"attributes\":{\"format\":\"0.0%\"},\"id\":\"4f223168-bc91-4466-85d2-40967f3b8b87\",\"type\":\"NumeralTickFormatter\"},{\"attributes\":{\"bottom_units\":\"screen\",\"fill_alpha\":{\"value\":0.5},\"fill_color\":{\"value\":\"lightgrey\"},\"left_units\":\"screen\",\"level\":\"overlay\",\"line_alpha\":{\"value\":1.0},\"line_color\":{\"value\":\"black\"},\"line_dash\":[4,4],\"line_width\":{\"value\":2},\"plot\":null,\"render_mode\":\"css\",\"right_units\":\"screen\",\"top_units\":\"screen\"},\"id\":\"0d7cd5b8-8da3-4db9-adbd-e9b79b09e2a2\",\"type\":\"BoxAnnotation\"},{\"attributes\":{},\"id\":\"10371f2a-90dc-441d-ad0e-e256edc6687a\",\"type\":\"PanTool\"},{\"attributes\":{},\"id\":\"c2038f34-6511-4c19-966f-927227f223bf\",\"type\":\"WheelZoomTool\"},{\"attributes\":{\"overlay\":{\"id\":\"0d7cd5b8-8da3-4db9-adbd-e9b79b09e2a2\",\"type\":\"BoxAnnotation\"}},\"id\":\"b0c4a1d5-d717-477a-8723-61e75f74cde7\",\"type\":\"BoxZoomTool\"},{\"attributes\":{},\"id\":\"f8254793-8854-415c-a9e2-2c42a5806071\",\"type\":\"SaveTool\"},{\"attributes\":{},\"id\":\"4a6d5b13-294b-4720-a49f-d33e4cfe99d9\",\"type\":\"ResetTool\"},{\"attributes\":{},\"id\":\"547dbb86-8949-4d88-9891-f9276afc4c90\",\"type\":\"HelpTool\"}],\"root_ids\":[\"17a20250-b749-48cd-b7b9-2cf09be334b4\"]},\"title\":\"Bokeh Application\",\"version\":\"0.12.13\"}};\n",
       "  var render_items = [{\"docid\":\"2f469bb5-4a2c-46dd-832b-26322ee36e53\",\"elementid\":\"dd6f0c63-40eb-4e37-b8ca-7a264792e82c\",\"modelid\":\"17a20250-b749-48cd-b7b9-2cf09be334b4\"}];\n",
       "  root.Bokeh.embed.embed_items_notebook(docs_json, render_items);\n",
       "\n",
       "  }\n",
       "  if (root.Bokeh !== undefined) {\n",
       "    embed_document(root);\n",
       "  } else {\n",
       "    var attempts = 0;\n",
       "    var timer = setInterval(function(root) {\n",
       "      if (root.Bokeh !== undefined) {\n",
       "        embed_document(root);\n",
       "        clearInterval(timer);\n",
       "      }\n",
       "      attempts++;\n",
       "      if (attempts > 100) {\n",
       "        console.log(\"Bokeh: ERROR: Unable to run BokehJS code because BokehJS library is missing\")\n",
       "        clearInterval(timer);\n",
       "      }\n",
       "    }, 10, root)\n",
       "  }\n",
       "})(window);"
      ],
      "application/vnd.bokehjs_exec.v0+json": ""
     },
     "metadata": {
      "application/vnd.bokehjs_exec.v0+json": {
       "id": "17a20250-b749-48cd-b7b9-2cf09be334b4"
      }
     },
     "output_type": "display_data"
    }
   ],
   "source": [
    "show(plots[1])"
   ]
  },
  {
   "cell_type": "code",
   "execution_count": 3,
   "metadata": {},
   "outputs": [
    {
     "data": {
      "text/html": [
       "\n",
       "<div class=\"bk-root\">\n",
       "    <div class=\"bk-plotdiv\" id=\"6310d304-643d-4bdb-879d-663a3cdb8378\"></div>\n",
       "</div>"
      ]
     },
     "metadata": {},
     "output_type": "display_data"
    },
    {
     "data": {
      "application/javascript": [
       "(function(root) {\n",
       "  function embed_document(root) {\n",
       "    \n",
       "  var docs_json = {\"ff5aef3e-d6a8-42fe-8893-20cfeb557c14\":{\"roots\":{\"references\":[{\"attributes\":{\"data_source\":{\"id\":\"70092d09-f7dd-45d5-92e1-bc1aeec4985e\",\"type\":\"ColumnDataSource\"},\"glyph\":{\"id\":\"356ba79c-0bac-415c-a88c-de891fd470d2\",\"type\":\"Line\"},\"hover_glyph\":null,\"muted_glyph\":null,\"nonselection_glyph\":{\"id\":\"ee22df76-3e08-4528-83f7-12cd3be13a7c\",\"type\":\"Line\"},\"selection_glyph\":null,\"view\":{\"id\":\"759b023b-05f4-475e-abb9-adde475a4663\",\"type\":\"CDSView\"}},\"id\":\"224f7e76-664a-43eb-9c40-440ecafcb152\",\"type\":\"GlyphRenderer\"},{\"attributes\":{\"label\":{\"value\":\"validation - 8192_1\"},\"renderers\":[{\"id\":\"e85b2cca-2629-4b27-ab7f-4ac3abdec8e0\",\"type\":\"GlyphRenderer\"}]},\"id\":\"1d8de2f5-c35e-4831-9e01-befa06760c07\",\"type\":\"LegendItem\"},{\"attributes\":{\"line_color\":\"#ff7f0e\",\"line_width\":3,\"x\":{\"field\":\"x\"},\"y\":{\"field\":\"y\"}},\"id\":\"19498cc8-ccd8-4a6f-a8b7-ea04be5d0e4c\",\"type\":\"Line\"},{\"attributes\":{\"callback\":null,\"column_names\":[\"x\",\"y\"],\"data\":{\"x\":{\"__ndarray__\":\"AQAAAAIAAAADAAAABAAAAAUAAAAGAAAABwAAAAgAAAAJAAAACgAAAAsAAAAMAAAADQAAAA4AAAAPAAAAEAAAABEAAAASAAAAEwAAABQAAAAVAAAAFgAAABcAAAAYAAAAGQAAABoAAAAbAAAAHAAAAB0AAAAeAAAAHwAAACAAAAAhAAAAIgAAACMAAAAkAAAAJQAAACYAAAAnAAAAKAAAACkAAAAqAAAAKwAAACwAAAAtAAAALgAAAC8AAAAwAAAAMQAAADIAAAAzAAAANAAAADUAAAA2AAAANwAAADgAAAA5AAAAOgAAADsAAAA8AAAAPQAAAD4AAAA/AAAAQAAAAEEAAABCAAAAQwAAAEQAAABFAAAARgAAAEcAAABIAAAASQAAAEoAAABLAAAATAAAAE0AAABOAAAATwAAAFAAAABRAAAAUgAAAFMAAABUAAAAVQAAAFYAAABXAAAAWAAAAFkAAABaAAAA\",\"dtype\":\"int32\",\"shape\":[90]},\"y\":[5.525159934234619,6.804961585540772,6.138229990692139,5.419581368713379,4.472986277008057,3.78161971534729,3.230950474472046,2.867860168914795,2.722605421600342,2.4764770419311524,2.4497297078704836,2.5596342189788817,2.3710525285339354,2.337527140274048,2.211386076889038,2.106347930145264,2.0706373848724366,2.152337370147705,2.06944960521698,2.0098569073486328,1.9818155377197266,1.9612232871246338,2.0117795948028565,1.8997879574584962,2.0898974518585205,1.8945850728225708,1.991924743232727,2.121803048858643,1.9891814401245118,1.8461304160308838,1.390771088027954,1.3353457962799071,1.3043705197906494,1.2843779148101806,1.2677054523468017,1.2519605611419677,1.2540714326095581,1.2469355830001831,1.2477082034683227,1.241053046951294,1.2486035440444947,1.2457551808547973,1.241390608215332,1.245538186340332,1.2435624340438842,1.2447297624588012,1.2324982934188842,1.2313331592178345,1.2428685779571533,1.2702386404037476,1.2512489939880371,1.2561064530944823,1.230896340675354,1.252230252456665,1.245303183708191,1.2238387567901612,1.2438008378219605,1.2229083378601073,1.2258591752243042,1.2287253253936767,1.095027719268799,1.0782199978256226,1.069437434387207,1.063653366317749,1.0548114653778076,1.0538289235687255,1.0516525896453857,1.0468781955718993,1.0453675918197631,1.0453395625686646,1.045875756187439,1.044435426979065,1.0410655983734132,1.0434296273803711,1.03835122215271,1.0407433319091797,1.0357956577682494,1.040724382686615,1.0371133034896851,1.0362454829406738,1.0260044157791137,1.0215993745231629,1.0214741679000854,1.0193945734405518,1.0182827255249023,1.0207823220062255,1.0194741287994384,1.017226784324646,1.0174043379974365,1.0207238229751587]}},\"id\":\"6e8265a6-ad74-4062-a104-32d0bea92fbe\",\"type\":\"ColumnDataSource\"},{\"attributes\":{\"line_alpha\":0.1,\"line_color\":\"#1f77b4\",\"line_dash\":[6],\"line_width\":3,\"x\":{\"field\":\"x\"},\"y\":{\"field\":\"y\"}},\"id\":\"ee22df76-3e08-4528-83f7-12cd3be13a7c\",\"type\":\"Line\"},{\"attributes\":{\"callback\":null,\"column_names\":[\"x\",\"y\"],\"data\":{\"x\":{\"__ndarray__\":\"AQAAAAIAAAADAAAABAAAAAUAAAAGAAAABwAAAAgAAAAJAAAACgAAAAsAAAAMAAAADQAAAA4AAAAPAAAAEAAAABEAAAASAAAAEwAAABQAAAAVAAAAFgAAABcAAAAYAAAAGQAAABoAAAAbAAAAHAAAAB0AAAAeAAAAHwAAACAAAAAhAAAAIgAAACMAAAAkAAAAJQAAACYAAAAnAAAAKAAAACkAAAAqAAAAKwAAACwAAAAtAAAALgAAAC8AAAAwAAAAMQAAADIAAAAzAAAANAAAADUAAAA2AAAANwAAADgAAAA5AAAAOgAAADsAAAA8AAAAPQAAAD4AAAA/AAAAQAAAAEEAAABCAAAAQwAAAEQAAABFAAAARgAAAEcAAABIAAAASQAAAEoAAABLAAAATAAAAE0AAABOAAAATwAAAFAAAABRAAAAUgAAAFMAAABUAAAAVQAAAFYAAABXAAAAWAAAAFkAAABaAAAA\",\"dtype\":\"int32\",\"shape\":[90]},\"y\":[7.005383278889722,6.574593912363236,6.215295880509343,5.915329940926287,5.682947637597931,5.431842535565365,5.200884099383,5.000503496334687,4.832243776429383,4.732702042658734,4.558399953288769,4.445700257352669,4.357507799858053,4.292472607606715,4.2160769088350945,4.152080014823095,4.082620819306747,4.08249426238106,4.007555520137938,3.97694369308559,3.9734921190987182,3.8959824714807123,3.980848818435887,3.8764659782554722,3.8355011700057324,3.8095698824865387,3.7974346415785765,3.775409686724203,3.7534723484072874,3.892555871946773,2.613707809607718,2.3668702942867843,2.252724445009092,2.182236282057868,2.133097605190348,2.0965424520357825,2.072907147496005,2.0546052502334624,2.044514368216313,2.033848173549739,2.0266876434069245,2.018854694791972,2.0117771574882393,2.0100889746897317,1.9972274565515515,1.996261891919351,1.9850454583345374,1.9775311415923544,1.9724041189793518,1.9619322559270398,1.950764417522143,1.9452423358596154,1.9340447822733842,1.9250825350174856,1.9166317552886092,1.9090641867616323,1.8985169386895846,1.894077606612207,1.885180530986148,1.8734401958874423,1.541930165096248,1.478276064384912,1.454559883836074,1.4362034214202486,1.4201052949239164,1.4090653044077488,1.397864906290759,1.3854560092810781,1.3799170171631743,1.3705278402187802,1.363176218851005,1.354338353073501,1.346150611613162,1.343975208086259,1.3336621713104475,1.3303513048366156,1.3247207951668705,1.3191015564153832,1.312220671709054,1.308013258473204,1.286817283039062,1.2765335266205722,1.2754385950893672,1.272703753859541,1.2737836164969614,1.2691294360562997,1.2680724080889452,1.268192297629234,1.2686224619726114,1.26794059234689]}},\"id\":\"1a7d7cf1-6705-4d0e-a425-41a3148bfa21\",\"type\":\"ColumnDataSource\"},{\"attributes\":{\"line_color\":\"#ff7f0e\",\"line_dash\":[6],\"line_width\":3,\"x\":{\"field\":\"x\"},\"y\":{\"field\":\"y\"}},\"id\":\"be56df2e-955b-4325-8d22-b3ffe5b05454\",\"type\":\"Line\"},{\"attributes\":{\"source\":{\"id\":\"6e8265a6-ad74-4062-a104-32d0bea92fbe\",\"type\":\"ColumnDataSource\"}},\"id\":\"34dc68b7-fd01-4829-a3e5-c7371a2eb408\",\"type\":\"CDSView\"},{\"attributes\":{\"line_alpha\":0.1,\"line_color\":\"#1f77b4\",\"line_dash\":[6],\"line_width\":3,\"x\":{\"field\":\"x\"},\"y\":{\"field\":\"y\"}},\"id\":\"1572f505-1c57-4a5c-8203-b92b3fc2d207\",\"type\":\"Line\"},{\"attributes\":{\"data_source\":{\"id\":\"dd549bb6-5b48-4330-9604-a89b24e35913\",\"type\":\"ColumnDataSource\"},\"glyph\":{\"id\":\"be56df2e-955b-4325-8d22-b3ffe5b05454\",\"type\":\"Line\"},\"hover_glyph\":null,\"muted_glyph\":null,\"nonselection_glyph\":{\"id\":\"1572f505-1c57-4a5c-8203-b92b3fc2d207\",\"type\":\"Line\"},\"selection_glyph\":null,\"view\":{\"id\":\"88feb6a9-924e-4723-8a45-f641eabb6636\",\"type\":\"CDSView\"}},\"id\":\"7f650e65-09f3-4437-8bad-a0c1e5a29b03\",\"type\":\"GlyphRenderer\"},{\"attributes\":{\"data_source\":{\"id\":\"1a7d7cf1-6705-4d0e-a425-41a3148bfa21\",\"type\":\"ColumnDataSource\"},\"glyph\":{\"id\":\"38b03be2-6b33-4880-aa1a-c463e521d4b7\",\"type\":\"Line\"},\"hover_glyph\":null,\"muted_glyph\":null,\"nonselection_glyph\":{\"id\":\"6aeea9b9-7327-4b78-97b5-43281d9aacda\",\"type\":\"Line\"},\"selection_glyph\":null,\"view\":{\"id\":\"031cb5ed-115b-4092-9584-c2fb63092111\",\"type\":\"CDSView\"}},\"id\":\"4e5143e9-364b-45b2-8399-08526b780066\",\"type\":\"GlyphRenderer\"},{\"attributes\":{\"source\":{\"id\":\"dd549bb6-5b48-4330-9604-a89b24e35913\",\"type\":\"ColumnDataSource\"}},\"id\":\"88feb6a9-924e-4723-8a45-f641eabb6636\",\"type\":\"CDSView\"},{\"attributes\":{\"label\":{\"value\":\"train - 8192_1\"},\"renderers\":[{\"id\":\"7f650e65-09f3-4437-8bad-a0c1e5a29b03\",\"type\":\"GlyphRenderer\"}]},\"id\":\"009b0712-b066-4ffd-baf7-3184b921b58c\",\"type\":\"LegendItem\"},{\"attributes\":{\"source\":{\"id\":\"1a7d7cf1-6705-4d0e-a425-41a3148bfa21\",\"type\":\"ColumnDataSource\"}},\"id\":\"031cb5ed-115b-4092-9584-c2fb63092111\",\"type\":\"CDSView\"},{\"attributes\":{\"callback\":null,\"column_names\":[\"x\",\"y\"],\"data\":{\"x\":{\"__ndarray__\":\"AQAAAAIAAAADAAAABAAAAAUAAAAGAAAABwAAAAgAAAAJAAAACgAAAAsAAAAMAAAADQAAAA4AAAAPAAAAEAAAABEAAAASAAAAEwAAABQAAAAVAAAAFgAAABcAAAAYAAAAGQAAABoAAAAbAAAAHAAAAB0AAAAeAAAAHwAAACAAAAAhAAAAIgAAACMAAAAkAAAAJQAAACYAAAAnAAAAKAAAACkAAAAqAAAAKwAAACwAAAAtAAAALgAAAC8AAAAwAAAAMQAAADIAAAAzAAAANAAAADUAAAA2AAAANwAAADgAAAA5AAAAOgAAADsAAAA8AAAAPQAAAD4AAAA/AAAAQAAAAEEAAABCAAAAQwAAAEQAAABFAAAARgAAAEcAAABIAAAASQAAAEoAAABLAAAATAAAAE0AAABOAAAATwAAAFAAAABRAAAAUgAAAFMAAABUAAAAVQAAAFYAAABXAAAAWAAAAFkAAABaAAAA\",\"dtype\":\"int32\",\"shape\":[90]},\"y\":[0.19816847504472723,0.21963926074304926,0.2031054539062635,0.18279992358008235,0.1576933444239103,0.13664211588583047,0.11749258857204556,0.1065104344289532,0.09866359326843493,0.09385281910828387,0.08941048592440821,0.08625358840592558,0.08398445678850575,0.08177053654609949,0.07988958391269138,0.07882683947610211,0.07774886015012908,0.07695794848464037,0.07607113878215428,0.07559152769547309,0.07484472932395923,0.07456513507813657,0.07407254468115543,0.07342701677121932,0.07342760966637761,0.0729359165313682,0.07264450186957608,0.07237135110444763,0.07248713703135659,0.07206037572590565,0.056494927741510895,0.051901259885515354,0.05012304921118632,0.0489822282569716,0.04813804119845229,0.04761484166585818,0.047180513106679506,0.04681506306527746,0.046665741995261245,0.046428765463052066,0.04625950665042531,0.0463032548374842,0.0460793157534318,0.045927559751330116,0.04585272433183566,0.0457736427578034,0.04572792944172564,0.04556821164061,0.04559042554489182,0.04568174654235639,0.045692161488364365,0.045340072515529496,0.04530921882829964,0.045171677705267456,0.044965399366623325,0.04489010413039163,0.04477423346795273,0.044646478088589625,0.04446849264507284,0.04433142351221604,0.039063982322281025,0.03712962886651853,0.036354214997975656,0.03588712425631673,0.035484538307743514,0.03517814446798148,0.03490022080578449,0.034584817012000085,0.034388062104725135,0.03411732123653988,0.03396702685974155,0.03373235469072943,0.03365502697810785,0.03341204816061655,0.03321777120039358,0.03313282414640723,0.03300306483147455,0.032839876497191535,0.032696877363293166,0.032570476623818075,0.03176880307564397,0.03153383695757959,0.0313862214046349,0.031314253098721094,0.03125392447173535,0.031124373201442877,0.031204866396112727,0.031090823667274944,0.03101197561882701,0.03099817679085507]}},\"id\":\"dd549bb6-5b48-4330-9604-a89b24e35913\",\"type\":\"ColumnDataSource\"},{\"attributes\":{\"callback\":null,\"column_names\":[\"x\",\"y\"],\"data\":{\"x\":{\"__ndarray__\":\"AQAAAAIAAAADAAAABAAAAAUAAAAGAAAABwAAAAgAAAAJAAAACgAAAAsAAAAMAAAADQAAAA4AAAAPAAAAEAAAABEAAAASAAAAEwAAABQAAAAVAAAAFgAAABcAAAAYAAAAGQAAABoAAAAbAAAAHAAAAB0AAAAeAAAAHwAAACAAAAAhAAAAIgAAACMAAAAkAAAAJQAAACYAAAAnAAAAKAAAACkAAAAqAAAAKwAAACwAAAAtAAAALgAAAC8AAAAwAAAAMQAAADIAAAAzAAAANAAAADUAAAA2AAAANwAAADgAAAA5AAAAOgAAADsAAAA8AAAAPQAAAD4AAAA/AAAAQAAAAEEAAABCAAAAQwAAAEQAAABFAAAARgAAAEcAAABIAAAASQAAAEoAAABLAAAATAAAAE0AAABOAAAATwAAAFAAAABRAAAAUgAAAFMAAABUAAAAVQAAAFYAAABXAAAAWAAAAFkAAABaAAAA\",\"dtype\":\"int32\",\"shape\":[90]},\"y\":[5.466275997849344,3.715048945977431,3.1098143375700738,2.8306451965869925,2.6694546931979097,2.562953981608202,2.4892703240936327,2.4360199337609707,2.39570757765192,2.364412790093756,2.337185766480526,2.3142239649915295,2.2959442390512175,2.283042290908864,2.2671713936892726,2.2565915679187856,2.247924973483158,2.2367727616676016,2.2280634522236786,2.2218476535919134,2.2191727380790964,2.2103859887317396,2.2042747234943776,2.20043702195026,2.1961141287495307,2.1922251143824862,2.1878713158310963,2.186685053094778,2.1815685468235713,2.1778003008330886,1.6352877944527429,1.5200140885799238,1.4729589218487276,1.4444872073962831,1.4243894742237093,1.411117164959822,1.4032638126445607,1.395360286161202,1.3947336543971705,1.3926031942723522,1.391483876849462,1.3913869699274355,1.3916058163787826,1.3911124992773984,1.3926059962894635,1.3901189637680067,1.388398979859193,1.3889242588469697,1.386103416582839,1.3835511577414303,1.384264793887264,1.3802402246807215,1.376146160247541,1.378257661367581,1.3763936006528041,1.371442759821417,1.3656852298096145,1.3644612475781865,1.363397906309777,1.3591525402053624,1.1580333744892446,1.1027035552454514,1.0804155005361253,1.0640897373563936,1.0535658759765874,1.0419600374820437,1.0354216659943252,1.027649503496797,1.022080707114373,1.0127270803441772,1.009612683479568,1.0027603435922994,0.9962792671110681,0.9902378727030676,0.98917001319386,0.9826747644748154,0.9792728650308704,0.9738946575730302,0.9683414665615518,0.9665415504778571,0.9383358421921016,0.9302108569252754,0.9273485284651433,0.9254373662442835,0.9244301611033485,0.9221675628312439,0.9221281995114853,0.9209120194627252,0.9213048348695693,0.9172118204934145]}},\"id\":\"70092d09-f7dd-45d5-92e1-bc1aeec4985e\",\"type\":\"ColumnDataSource\"},{\"attributes\":{\"data_source\":{\"id\":\"6e8265a6-ad74-4062-a104-32d0bea92fbe\",\"type\":\"ColumnDataSource\"},\"glyph\":{\"id\":\"19498cc8-ccd8-4a6f-a8b7-ea04be5d0e4c\",\"type\":\"Line\"},\"hover_glyph\":null,\"muted_glyph\":null,\"nonselection_glyph\":{\"id\":\"bef24ef2-4994-4c64-82c0-1ed3a1d46f98\",\"type\":\"Line\"},\"selection_glyph\":null,\"view\":{\"id\":\"34dc68b7-fd01-4829-a3e5-c7371a2eb408\",\"type\":\"CDSView\"}},\"id\":\"e85b2cca-2629-4b27-ab7f-4ac3abdec8e0\",\"type\":\"GlyphRenderer\"},{\"attributes\":{\"line_alpha\":0.1,\"line_color\":\"#1f77b4\",\"line_width\":3,\"x\":{\"field\":\"x\"},\"y\":{\"field\":\"y\"}},\"id\":\"2e084ccb-9299-47ef-aab5-46c07ae6a476\",\"type\":\"Line\"},{\"attributes\":{\"line_alpha\":0.1,\"line_color\":\"#1f77b4\",\"line_width\":3,\"x\":{\"field\":\"x\"},\"y\":{\"field\":\"y\"}},\"id\":\"bef24ef2-4994-4c64-82c0-1ed3a1d46f98\",\"type\":\"Line\"},{\"attributes\":{\"background_fill_color\":{\"value\":\"#fafafa\"},\"below\":[{\"id\":\"5a951c27-5f65-4ef5-a251-a3553158255e\",\"type\":\"LinearAxis\"}],\"left\":[{\"id\":\"6147b4fb-9044-4f52-a00b-ad6c1f8d8065\",\"type\":\"LogAxis\"}],\"min_border\":10,\"min_border_left\":50,\"renderers\":[{\"id\":\"5a951c27-5f65-4ef5-a251-a3553158255e\",\"type\":\"LinearAxis\"},{\"id\":\"4f156c04-8083-4a62-a6ed-e265b1fc8f7c\",\"type\":\"Grid\"},{\"id\":\"6147b4fb-9044-4f52-a00b-ad6c1f8d8065\",\"type\":\"LogAxis\"},{\"id\":\"b2ca4c92-67ba-4749-931a-133f58b52d6c\",\"type\":\"Grid\"},{\"id\":\"96e5e6f4-a6d1-46a8-b88c-f8aec3e937e5\",\"type\":\"BoxAnnotation\"},{\"id\":\"7fb73a64-5a96-43a5-8c0a-c77f62ef1c35\",\"type\":\"Legend\"},{\"id\":\"224f7e76-664a-43eb-9c40-440ecafcb152\",\"type\":\"GlyphRenderer\"},{\"id\":\"9f39928d-6f5b-4d5b-9dac-6e0a6727a0f7\",\"type\":\"GlyphRenderer\"},{\"id\":\"7f650e65-09f3-4437-8bad-a0c1e5a29b03\",\"type\":\"GlyphRenderer\"},{\"id\":\"e85b2cca-2629-4b27-ab7f-4ac3abdec8e0\",\"type\":\"GlyphRenderer\"},{\"id\":\"4e5143e9-364b-45b2-8399-08526b780066\",\"type\":\"GlyphRenderer\"},{\"id\":\"faa84360-d86b-4d08-80e3-e995f7567ac1\",\"type\":\"GlyphRenderer\"}],\"title\":{\"id\":\"c68d0270-97b7-40eb-9f67-857b7ba3d953\",\"type\":\"Title\"},\"toolbar\":{\"id\":\"f6b1f24a-3498-41b3-a7b2-5ab71c5ba77b\",\"type\":\"Toolbar\"},\"x_range\":{\"id\":\"9a74e5e3-485b-4fc1-bf56-6105d3eb7de7\",\"type\":\"DataRange1d\"},\"x_scale\":{\"id\":\"9bc1da0b-a150-46d1-8535-4b16eaf6315a\",\"type\":\"LinearScale\"},\"y_range\":{\"id\":\"3b6effd1-28b1-42e9-aaac-61441a6f023e\",\"type\":\"DataRange1d\"},\"y_scale\":{\"id\":\"42b086f8-253a-450c-9e17-5d11c554f4b1\",\"type\":\"LogScale\"}},\"id\":\"0ffc2837-abf1-4033-a7a8-d52b5ffdfc44\",\"subtype\":\"Figure\",\"type\":\"Plot\"},{\"attributes\":{\"data_source\":{\"id\":\"c46b1d0e-0578-4e5b-9b97-b7187edc2cd1\",\"type\":\"ColumnDataSource\"},\"glyph\":{\"id\":\"40dc2b10-3354-4a0c-859e-1e36bf10b9bb\",\"type\":\"Line\"},\"hover_glyph\":null,\"muted_glyph\":null,\"nonselection_glyph\":{\"id\":\"2e084ccb-9299-47ef-aab5-46c07ae6a476\",\"type\":\"Line\"},\"selection_glyph\":null,\"view\":{\"id\":\"52a1194a-0391-49bd-aa3e-b374896af68f\",\"type\":\"CDSView\"}},\"id\":\"faa84360-d86b-4d08-80e3-e995f7567ac1\",\"type\":\"GlyphRenderer\"},{\"attributes\":{\"label\":{\"value\":\"train - 256_1\"},\"renderers\":[{\"id\":\"224f7e76-664a-43eb-9c40-440ecafcb152\",\"type\":\"GlyphRenderer\"}]},\"id\":\"a31a2dea-262e-4ad5-bc9b-0ebabf93d170\",\"type\":\"LegendItem\"},{\"attributes\":{\"line_color\":\"#1f77b4\",\"line_dash\":[6],\"line_width\":3,\"x\":{\"field\":\"x\"},\"y\":{\"field\":\"y\"}},\"id\":\"356ba79c-0bac-415c-a88c-de891fd470d2\",\"type\":\"Line\"},{\"attributes\":{\"callback\":null},\"id\":\"9a74e5e3-485b-4fc1-bf56-6105d3eb7de7\",\"type\":\"DataRange1d\"},{\"attributes\":{\"line_color\":\"#2ca02c\",\"line_width\":3,\"x\":{\"field\":\"x\"},\"y\":{\"field\":\"y\"}},\"id\":\"40dc2b10-3354-4a0c-859e-1e36bf10b9bb\",\"type\":\"Line\"},{\"attributes\":{\"active_drag\":\"auto\",\"active_inspect\":\"auto\",\"active_scroll\":\"auto\",\"active_tap\":\"auto\",\"tools\":[{\"id\":\"4b6d1a7d-ce18-4807-8c9a-514a169d354c\",\"type\":\"PanTool\"},{\"id\":\"5959aacf-0290-45eb-b594-16312a96346b\",\"type\":\"WheelZoomTool\"},{\"id\":\"b49964cc-32af-4292-8d92-73cc693398a8\",\"type\":\"BoxZoomTool\"},{\"id\":\"8cb41c93-4661-4824-ad98-989b56ecada4\",\"type\":\"SaveTool\"},{\"id\":\"dcafbd0a-259b-4a5e-a5b2-e986dcf79325\",\"type\":\"ResetTool\"},{\"id\":\"632a44d0-c235-49ad-a7c3-6991c0c5815f\",\"type\":\"HelpTool\"}]},\"id\":\"f6b1f24a-3498-41b3-a7b2-5ab71c5ba77b\",\"type\":\"Toolbar\"},{\"attributes\":{\"source\":{\"id\":\"70092d09-f7dd-45d5-92e1-bc1aeec4985e\",\"type\":\"ColumnDataSource\"}},\"id\":\"759b023b-05f4-475e-abb9-adde475a4663\",\"type\":\"CDSView\"},{\"attributes\":{},\"id\":\"184c506e-5b33-47b3-99b3-f30eb434e872\",\"type\":\"BasicTickFormatter\"},{\"attributes\":{},\"id\":\"9bc1da0b-a150-46d1-8535-4b16eaf6315a\",\"type\":\"LinearScale\"},{\"attributes\":{\"callback\":null},\"id\":\"3b6effd1-28b1-42e9-aaac-61441a6f023e\",\"type\":\"DataRange1d\"},{\"attributes\":{\"plot\":null,\"text\":\"Training & Test Loss\"},\"id\":\"c68d0270-97b7-40eb-9f67-857b7ba3d953\",\"type\":\"Title\"},{\"attributes\":{\"callback\":null,\"column_names\":[\"x\",\"y\"],\"data\":{\"x\":{\"__ndarray__\":\"AQAAAAIAAAADAAAABAAAAAUAAAAGAAAABwAAAAgAAAAJAAAACgAAAAsAAAAMAAAADQAAAA4AAAAPAAAAEAAAABEAAAASAAAAEwAAABQAAAAVAAAAFgAAABcAAAAYAAAAGQAAABoAAAAbAAAAHAAAAB0AAAAeAAAAHwAAACAAAAAhAAAAIgAAACMAAAAkAAAAJQAAACYAAAAnAAAAKAAAACkAAAAqAAAAKwAAACwAAAAtAAAALgAAAC8AAAAwAAAAMQAAADIAAAAzAAAANAAAADUAAAA2AAAANwAAADgAAAA5AAAAOgAAADsAAAA8AAAAPQAAAD4AAAA/AAAAQAAAAEEAAABCAAAAQwAAAEQAAABFAAAARgAAAEcAAABIAAAASQAAAEoAAABLAAAATAAAAE0AAABOAAAATwAAAFAAAABRAAAAUgAAAFMAAABUAAAAVQAAAFYAAABXAAAAWAAAAFkAAABaAAAA\",\"dtype\":\"int32\",\"shape\":[90]},\"y\":[6.684368704681397,6.301052031860351,5.983388004455566,5.809685729522705,5.4279826979064945,5.072578134765625,4.8508683895874025,4.582627206115722,4.439033180541992,4.251998538208007,4.178113927612305,4.03459627494812,3.9025635148620608,3.829204631881714,3.7805419815826418,3.703020422973633,3.754750323562622,3.577164966964722,3.532659663772583,3.596162154388428,3.3771857927703857,3.3944456577301025,3.419662246322632,3.4420918588256835,3.62278922958374,3.4423690686798096,3.3913656705474855,3.3934203304290773,3.3037131169128418,3.119012672653198,2.1104107190704346,1.979351838684082,1.916534741859436,1.8479812726211549,1.8149941402816772,1.777331967277527,1.795334570388794,1.7655234382629394,1.74703995098114,1.7493265328216552,1.736659230155945,1.7463661530303956,1.7282752516937256,1.777049214363098,1.7169295260620117,1.7240967129516602,1.7185259914779663,1.7182189167785644,1.7403274382400513,1.7224157206726074,1.6908273823547364,1.6432470650482178,1.6893995923233032,1.648504856185913,1.6452287615585328,1.6304090379714966,1.6171980717468262,1.6175048624038697,1.6074032542419434,1.6524743157196045,1.3371934749603271,1.31681396648407,1.3044888473510743,1.2930212939453125,1.2837028562164308,1.2784678254318238,1.2719999919128417,1.2665671665191651,1.2609908853912353,1.2552720064544678,1.2505442894744874,1.2489328957748413,1.2431212587738036,1.239163977279663,1.2383233854675293,1.2346665226364135,1.234123540725708,1.2323118352508544,1.2302659345245361,1.2267203439331054,1.215208977470398,1.2139290182113647,1.2114440723419189,1.210960729675293,1.20940438747406,1.2090801078796387,1.2085383389282227,1.2090788940429686,1.2054964931488037,1.2088187656021119]}},\"id\":\"c46b1d0e-0578-4e5b-9b97-b7187edc2cd1\",\"type\":\"ColumnDataSource\"},{\"attributes\":{\"num_minor_ticks\":10},\"id\":\"919c79e4-60d6-4ee2-8879-52527dc95483\",\"type\":\"LogTicker\"},{\"attributes\":{\"axis_label\":\"t [Epochs]\",\"formatter\":{\"id\":\"184c506e-5b33-47b3-99b3-f30eb434e872\",\"type\":\"BasicTickFormatter\"},\"plot\":{\"id\":\"0ffc2837-abf1-4033-a7a8-d52b5ffdfc44\",\"subtype\":\"Figure\",\"type\":\"Plot\"},\"ticker\":{\"id\":\"8ebdb454-a549-4687-a653-e6178775096b\",\"type\":\"BasicTicker\"}},\"id\":\"5a951c27-5f65-4ef5-a251-a3553158255e\",\"type\":\"LinearAxis\"},{\"attributes\":{},\"id\":\"8ebdb454-a549-4687-a653-e6178775096b\",\"type\":\"BasicTicker\"},{\"attributes\":{\"plot\":{\"id\":\"0ffc2837-abf1-4033-a7a8-d52b5ffdfc44\",\"subtype\":\"Figure\",\"type\":\"Plot\"},\"ticker\":{\"id\":\"8ebdb454-a549-4687-a653-e6178775096b\",\"type\":\"BasicTicker\"}},\"id\":\"4f156c04-8083-4a62-a6ed-e265b1fc8f7c\",\"type\":\"Grid\"},{\"attributes\":{\"line_alpha\":0.1,\"line_color\":\"#1f77b4\",\"line_width\":3,\"x\":{\"field\":\"x\"},\"y\":{\"field\":\"y\"}},\"id\":\"920737f4-df62-4289-ab3b-1d63c06a9740\",\"type\":\"Line\"},{\"attributes\":{\"source\":{\"id\":\"c46b1d0e-0578-4e5b-9b97-b7187edc2cd1\",\"type\":\"ColumnDataSource\"}},\"id\":\"52a1194a-0391-49bd-aa3e-b374896af68f\",\"type\":\"CDSView\"},{\"attributes\":{},\"id\":\"42b086f8-253a-450c-9e17-5d11c554f4b1\",\"type\":\"LogScale\"},{\"attributes\":{\"ticker\":null},\"id\":\"b1a54707-cfc8-4fa9-85d8-5f4efced6475\",\"type\":\"LogTickFormatter\"},{\"attributes\":{\"label\":{\"value\":\"validation - 256_1\"},\"renderers\":[{\"id\":\"9f39928d-6f5b-4d5b-9dac-6e0a6727a0f7\",\"type\":\"GlyphRenderer\"}]},\"id\":\"1c986ee6-d7a3-4583-83d0-da165c180ac1\",\"type\":\"LegendItem\"},{\"attributes\":{\"axis_label\":\"L(w(t))\",\"formatter\":{\"id\":\"b1a54707-cfc8-4fa9-85d8-5f4efced6475\",\"type\":\"LogTickFormatter\"},\"plot\":{\"id\":\"0ffc2837-abf1-4033-a7a8-d52b5ffdfc44\",\"subtype\":\"Figure\",\"type\":\"Plot\"},\"ticker\":{\"id\":\"919c79e4-60d6-4ee2-8879-52527dc95483\",\"type\":\"LogTicker\"}},\"id\":\"6147b4fb-9044-4f52-a00b-ad6c1f8d8065\",\"type\":\"LogAxis\"},{\"attributes\":{\"dimension\":1,\"plot\":{\"id\":\"0ffc2837-abf1-4033-a7a8-d52b5ffdfc44\",\"subtype\":\"Figure\",\"type\":\"Plot\"},\"ticker\":{\"id\":\"919c79e4-60d6-4ee2-8879-52527dc95483\",\"type\":\"LogTicker\"}},\"id\":\"b2ca4c92-67ba-4749-931a-133f58b52d6c\",\"type\":\"Grid\"},{\"attributes\":{\"callback\":null,\"column_names\":[\"x\",\"y\"],\"data\":{\"x\":{\"__ndarray__\":\"AQAAAAIAAAADAAAABAAAAAUAAAAGAAAABwAAAAgAAAAJAAAACgAAAAsAAAAMAAAADQAAAA4AAAAPAAAAEAAAABEAAAASAAAAEwAAABQAAAAVAAAAFgAAABcAAAAYAAAAGQAAABoAAAAbAAAAHAAAAB0AAAAeAAAAHwAAACAAAAAhAAAAIgAAACMAAAAkAAAAJQAAACYAAAAnAAAAKAAAACkAAAAqAAAAKwAAACwAAAAtAAAALgAAAC8AAAAwAAAAMQAAADIAAAAzAAAANAAAADUAAAA2AAAANwAAADgAAAA5AAAAOgAAADsAAAA8AAAAPQAAAD4AAAA/AAAAQAAAAEEAAABCAAAAQwAAAEQAAABFAAAARgAAAEcAAABIAAAASQAAAEoAAABLAAAATAAAAE0AAABOAAAATwAAAFAAAABRAAAAUgAAAFMAAABUAAAAVQAAAFYAAABXAAAAWAAAAFkAAABaAAAA\",\"dtype\":\"int32\",\"shape\":[90]},\"y\":[4.493376360321045,3.2346071715545652,2.884599764099121,2.480370271911621,2.2585446325683596,2.389369236907959,2.22948926361084,2.221680208206177,2.4573490605163575,2.245195956115723,2.2005182526397706,2.069060320739746,2.0486523194885256,2.0594588262939455,2.0461267365264892,2.117572138366699,2.0566404222106933,2.10845626701355,2.377163919830322,1.9742742096328736,1.9977358380126953,2.184913236618042,2.0548287017059326,1.9889740564727783,2.125024327850342,1.9992236580657958,1.8888084350967407,1.9973520917510987,2.0492301554107666,1.9570195891952515,1.2797341160202027,1.22335160446167,1.1988677026367187,1.1825112502670287,1.2097173246383668,1.1821542106246947,1.1744022219848633,1.185554750366211,1.1750810637664795,1.1962292418289184,1.211465174407959,1.2040760110092164,1.2186634650421142,1.2277350443649293,1.1806587370300292,1.2197624226760864,1.1929592823028565,1.212087907562256,1.197770472946167,1.2088668728637695,1.2023680183410645,1.212334807548523,1.2078700390625,1.1832300122451782,1.2070693841171265,1.238607806968689,1.208642328529358,1.2297978511810304,1.2213144916915895,1.2488689303588867,1.012933881416321,0.9935497012329102,0.9818431276702881,0.9823567039680481,0.9752802014732361,0.9725577382659912,0.9685514155960083,0.9698715229797363,0.9661200273132324,0.9661300813293457,0.9652270193481445,0.9652358314895629,0.9658371592903138,0.9615533235549927,0.9597862707138062,0.9604525426483155,0.9599528736305237,0.9600521181869507,0.960332522315979,0.9595070024871826,0.9468649972915649,0.9435160349082947,0.943732594871521,0.9415329566383361,0.9391674461746216,0.9390440661048889,0.9410821620559693,0.939781604270935,0.9404178450584412,0.942553798942566]}},\"id\":\"059e5503-08b4-41b6-ab5e-d7016bdee810\",\"type\":\"ColumnDataSource\"},{\"attributes\":{\"bottom_units\":\"screen\",\"fill_alpha\":{\"value\":0.5},\"fill_color\":{\"value\":\"lightgrey\"},\"left_units\":\"screen\",\"level\":\"overlay\",\"line_alpha\":{\"value\":1.0},\"line_color\":{\"value\":\"black\"},\"line_dash\":[4,4],\"line_width\":{\"value\":2},\"plot\":null,\"render_mode\":\"css\",\"right_units\":\"screen\",\"top_units\":\"screen\"},\"id\":\"96e5e6f4-a6d1-46a8-b88c-f8aec3e937e5\",\"type\":\"BoxAnnotation\"},{\"attributes\":{\"label\":{\"value\":\"train - 256_32\"},\"renderers\":[{\"id\":\"4e5143e9-364b-45b2-8399-08526b780066\",\"type\":\"GlyphRenderer\"}]},\"id\":\"c74f9860-d50a-43ba-9afe-4fd35b7dc573\",\"type\":\"LegendItem\"},{\"attributes\":{\"line_color\":\"#1f77b4\",\"line_width\":3,\"x\":{\"field\":\"x\"},\"y\":{\"field\":\"y\"}},\"id\":\"ea4aa5a4-423a-43f8-9f49-d14e060a4a66\",\"type\":\"Line\"},{\"attributes\":{\"data_source\":{\"id\":\"059e5503-08b4-41b6-ab5e-d7016bdee810\",\"type\":\"ColumnDataSource\"},\"glyph\":{\"id\":\"ea4aa5a4-423a-43f8-9f49-d14e060a4a66\",\"type\":\"Line\"},\"hover_glyph\":null,\"muted_glyph\":null,\"nonselection_glyph\":{\"id\":\"920737f4-df62-4289-ab3b-1d63c06a9740\",\"type\":\"Line\"},\"selection_glyph\":null,\"view\":{\"id\":\"2f454231-28c5-4b3e-8663-ec1d3cb50ed8\",\"type\":\"CDSView\"}},\"id\":\"9f39928d-6f5b-4d5b-9dac-6e0a6727a0f7\",\"type\":\"GlyphRenderer\"},{\"attributes\":{\"source\":{\"id\":\"059e5503-08b4-41b6-ab5e-d7016bdee810\",\"type\":\"ColumnDataSource\"}},\"id\":\"2f454231-28c5-4b3e-8663-ec1d3cb50ed8\",\"type\":\"CDSView\"},{\"attributes\":{},\"id\":\"4b6d1a7d-ce18-4807-8c9a-514a169d354c\",\"type\":\"PanTool\"},{\"attributes\":{},\"id\":\"5959aacf-0290-45eb-b594-16312a96346b\",\"type\":\"WheelZoomTool\"},{\"attributes\":{\"overlay\":{\"id\":\"96e5e6f4-a6d1-46a8-b88c-f8aec3e937e5\",\"type\":\"BoxAnnotation\"}},\"id\":\"b49964cc-32af-4292-8d92-73cc693398a8\",\"type\":\"BoxZoomTool\"},{\"attributes\":{},\"id\":\"8cb41c93-4661-4824-ad98-989b56ecada4\",\"type\":\"SaveTool\"},{\"attributes\":{},\"id\":\"dcafbd0a-259b-4a5e-a5b2-e986dcf79325\",\"type\":\"ResetTool\"},{\"attributes\":{},\"id\":\"632a44d0-c235-49ad-a7c3-6991c0c5815f\",\"type\":\"HelpTool\"},{\"attributes\":{\"line_color\":\"#2ca02c\",\"line_dash\":[6],\"line_width\":3,\"x\":{\"field\":\"x\"},\"y\":{\"field\":\"y\"}},\"id\":\"38b03be2-6b33-4880-aa1a-c463e521d4b7\",\"type\":\"Line\"},{\"attributes\":{\"label\":{\"value\":\"validation - 256_32\"},\"renderers\":[{\"id\":\"faa84360-d86b-4d08-80e3-e995f7567ac1\",\"type\":\"GlyphRenderer\"}]},\"id\":\"62703a96-1f7b-4326-b957-68189bc598bb\",\"type\":\"LegendItem\"},{\"attributes\":{\"line_alpha\":0.1,\"line_color\":\"#1f77b4\",\"line_dash\":[6],\"line_width\":3,\"x\":{\"field\":\"x\"},\"y\":{\"field\":\"y\"}},\"id\":\"6aeea9b9-7327-4b78-97b5-43281d9aacda\",\"type\":\"Line\"},{\"attributes\":{\"click_policy\":\"hide\",\"items\":[{\"id\":\"a31a2dea-262e-4ad5-bc9b-0ebabf93d170\",\"type\":\"LegendItem\"},{\"id\":\"1c986ee6-d7a3-4583-83d0-da165c180ac1\",\"type\":\"LegendItem\"},{\"id\":\"009b0712-b066-4ffd-baf7-3184b921b58c\",\"type\":\"LegendItem\"},{\"id\":\"1d8de2f5-c35e-4831-9e01-befa06760c07\",\"type\":\"LegendItem\"},{\"id\":\"c74f9860-d50a-43ba-9afe-4fd35b7dc573\",\"type\":\"LegendItem\"},{\"id\":\"62703a96-1f7b-4326-b957-68189bc598bb\",\"type\":\"LegendItem\"}],\"location\":\"bottom_left\",\"plot\":{\"id\":\"0ffc2837-abf1-4033-a7a8-d52b5ffdfc44\",\"subtype\":\"Figure\",\"type\":\"Plot\"}},\"id\":\"7fb73a64-5a96-43a5-8c0a-c77f62ef1c35\",\"type\":\"Legend\"}],\"root_ids\":[\"0ffc2837-abf1-4033-a7a8-d52b5ffdfc44\"]},\"title\":\"Bokeh Application\",\"version\":\"0.12.13\"}};\n",
       "  var render_items = [{\"docid\":\"ff5aef3e-d6a8-42fe-8893-20cfeb557c14\",\"elementid\":\"6310d304-643d-4bdb-879d-663a3cdb8378\",\"modelid\":\"0ffc2837-abf1-4033-a7a8-d52b5ffdfc44\"}];\n",
       "  root.Bokeh.embed.embed_items_notebook(docs_json, render_items);\n",
       "\n",
       "  }\n",
       "  if (root.Bokeh !== undefined) {\n",
       "    embed_document(root);\n",
       "  } else {\n",
       "    var attempts = 0;\n",
       "    var timer = setInterval(function(root) {\n",
       "      if (root.Bokeh !== undefined) {\n",
       "        embed_document(root);\n",
       "        clearInterval(timer);\n",
       "      }\n",
       "      attempts++;\n",
       "      if (attempts > 100) {\n",
       "        console.log(\"Bokeh: ERROR: Unable to run BokehJS code because BokehJS library is missing\")\n",
       "        clearInterval(timer);\n",
       "      }\n",
       "    }, 10, root)\n",
       "  }\n",
       "})(window);"
      ],
      "application/vnd.bokehjs_exec.v0+json": ""
     },
     "metadata": {
      "application/vnd.bokehjs_exec.v0+json": {
       "id": "0ffc2837-abf1-4033-a7a8-d52b5ffdfc44"
      }
     },
     "output_type": "display_data"
    }
   ],
   "source": [
    "show(plots[0])"
   ]
  },
  {
   "cell_type": "code",
   "execution_count": 4,
   "metadata": {},
   "outputs": [
    {
     "data": {
      "text/html": [
       "\n",
       "<div class=\"bk-root\">\n",
       "    <div class=\"bk-plotdiv\" id=\"34322157-f8ab-4fd6-a1c5-24bec1a6c019\"></div>\n",
       "</div>"
      ]
     },
     "metadata": {},
     "output_type": "display_data"
    },
    {
     "data": {
      "application/javascript": [
       "(function(root) {\n",
       "  function embed_document(root) {\n",
       "    \n",
       "  var docs_json = {\"1c144d49-0f9b-4a0a-9912-83b54c1e1a79\":{\"roots\":{\"references\":[{\"attributes\":{},\"id\":\"fde1d791-582e-4155-b96b-3452a3f9d9a4\",\"type\":\"BasicTicker\"},{\"attributes\":{\"line_alpha\":0.1,\"line_color\":\"#1f77b4\",\"line_width\":3,\"x\":{\"field\":\"x\"},\"y\":{\"field\":\"y\"}},\"id\":\"947d5476-540c-48d1-a44f-3161d7608775\",\"type\":\"Line\"},{\"attributes\":{\"dimension\":1,\"plot\":{\"id\":\"b517ff11-2549-4d88-8b45-c3bd49e032a2\",\"subtype\":\"Figure\",\"type\":\"Plot\"},\"ticker\":{\"id\":\"fde1d791-582e-4155-b96b-3452a3f9d9a4\",\"type\":\"BasicTicker\"}},\"id\":\"e054aecc-53b7-4f97-863d-8b4f0b51aa5b\",\"type\":\"Grid\"},{\"attributes\":{\"background_fill_color\":{\"value\":\"#fafafa\"},\"below\":[{\"id\":\"c30c9346-975d-4e73-85de-f1d9c9daa035\",\"type\":\"LinearAxis\"}],\"left\":[{\"id\":\"5bd4916b-4037-4219-af38-30d69ecb2e54\",\"type\":\"LinearAxis\"}],\"min_border\":10,\"min_border_left\":50,\"renderers\":[{\"id\":\"c30c9346-975d-4e73-85de-f1d9c9daa035\",\"type\":\"LinearAxis\"},{\"id\":\"a2359a7c-36bd-497a-9168-99531cdeb0e3\",\"type\":\"Grid\"},{\"id\":\"5bd4916b-4037-4219-af38-30d69ecb2e54\",\"type\":\"LinearAxis\"},{\"id\":\"e054aecc-53b7-4f97-863d-8b4f0b51aa5b\",\"type\":\"Grid\"},{\"id\":\"bca0c32b-2256-431e-be7a-73401e4c8dbb\",\"type\":\"BoxAnnotation\"},{\"id\":\"27ecf8a4-160d-42ec-988e-16ac35091c67\",\"type\":\"Legend\"},{\"id\":\"a0aa8f22-bca4-45cb-b2e7-5f1c2c098949\",\"type\":\"GlyphRenderer\"},{\"id\":\"bbc5d9b7-dab7-47ec-914b-11c3abbfa3bb\",\"type\":\"GlyphRenderer\"},{\"id\":\"0d4623ad-478a-43a8-8e68-1c07afec9905\",\"type\":\"GlyphRenderer\"}],\"title\":{\"id\":\"edcc60d3-60ed-4195-9b08-7840448dcd36\",\"type\":\"Title\"},\"toolbar\":{\"id\":\"5cb62535-0c7c-4f70-adbe-a30bd56fe5e2\",\"type\":\"Toolbar\"},\"x_range\":{\"id\":\"15917c24-c57e-4e6c-ad68-1f71cee80b51\",\"type\":\"DataRange1d\"},\"x_scale\":{\"id\":\"b4680910-029a-48ad-92e5-f077130c4b56\",\"type\":\"LinearScale\"},\"y_range\":{\"id\":\"821e0934-c735-484a-b622-a9b00cfbdd11\",\"type\":\"DataRange1d\"},\"y_scale\":{\"id\":\"b2ed477c-0816-40bd-baaf-b7cdb776a57e\",\"type\":\"LinearScale\"}},\"id\":\"b517ff11-2549-4d88-8b45-c3bd49e032a2\",\"subtype\":\"Figure\",\"type\":\"Plot\"},{\"attributes\":{\"bottom_units\":\"screen\",\"fill_alpha\":{\"value\":0.5},\"fill_color\":{\"value\":\"lightgrey\"},\"left_units\":\"screen\",\"level\":\"overlay\",\"line_alpha\":{\"value\":1.0},\"line_color\":{\"value\":\"black\"},\"line_dash\":[4,4],\"line_width\":{\"value\":2},\"plot\":null,\"render_mode\":\"css\",\"right_units\":\"screen\",\"top_units\":\"screen\"},\"id\":\"bca0c32b-2256-431e-be7a-73401e4c8dbb\",\"type\":\"BoxAnnotation\"},{\"attributes\":{},\"id\":\"eac096ca-7c74-4c6c-81c3-b00dbd27df33\",\"type\":\"PanTool\"},{\"attributes\":{},\"id\":\"1391ea30-f6a9-424f-a619-9cc679fcfb34\",\"type\":\"WheelZoomTool\"},{\"attributes\":{\"overlay\":{\"id\":\"bca0c32b-2256-431e-be7a-73401e4c8dbb\",\"type\":\"BoxAnnotation\"}},\"id\":\"38433a53-636d-447d-88ea-e744e810a752\",\"type\":\"BoxZoomTool\"},{\"attributes\":{\"line_color\":\"#2ca02c\",\"line_width\":3,\"x\":{\"field\":\"x\"},\"y\":{\"field\":\"y\"}},\"id\":\"07356211-184e-4c38-99d2-3de924c9577e\",\"type\":\"Line\"},{\"attributes\":{},\"id\":\"fb83d686-600d-4cd0-a13e-f420788eaf90\",\"type\":\"SaveTool\"},{\"attributes\":{},\"id\":\"6fda9f37-8ef4-4f43-a449-af5d6b261222\",\"type\":\"ResetTool\"},{\"attributes\":{},\"id\":\"042f90be-47ce-4a6f-abd7-0caf24512274\",\"type\":\"HelpTool\"},{\"attributes\":{\"callback\":null,\"column_names\":[\"x\",\"y\"],\"data\":{\"x\":{\"__ndarray__\":\"AQAAAAIAAAADAAAABAAAAAUAAAAGAAAABwAAAAgAAAAJAAAACgAAAAsAAAAMAAAADQAAAA4AAAAPAAAAEAAAABEAAAASAAAAEwAAABQAAAAVAAAAFgAAABcAAAAYAAAAGQAAABoAAAAbAAAAHAAAAB0AAAAeAAAAHwAAACAAAAAhAAAAIgAAACMAAAAkAAAAJQAAACYAAAAnAAAAKAAAACkAAAAqAAAAKwAAACwAAAAtAAAALgAAAC8AAAAwAAAAMQAAADIAAAAzAAAANAAAADUAAAA2AAAANwAAADgAAAA5AAAAOgAAADsAAAA8AAAAPQAAAD4AAAA/AAAAQAAAAEEAAABCAAAAQwAAAEQAAABFAAAARgAAAEcAAABIAAAASQAAAEoAAABLAAAATAAAAE0AAABOAAAATwAAAFAAAABRAAAAUgAAAFMAAABUAAAAVQAAAFYAAABXAAAAWAAAAFkAAABaAAAA\",\"dtype\":\"int32\",\"shape\":[90]},\"y\":[18.986955642700195,78.59618377685547,65.52056121826172,54.641273498535156,52.36399841308594,56.74668884277344,60.13792419433594,62.12923049926758,63.29367446899414,63.86269760131836,64.19005584716797,64.45011901855469,64.41859436035156,64.40628051757812,64.277587890625,64.2148666381836,64.02318572998047,63.882320404052734,63.78032302856445,63.64095687866211,63.58625411987305,63.427581787109375,63.30712890625,63.20043182373047,63.14811325073242,63.0827751159668,63.021888732910156,62.88700866699219,62.85478973388672,62.77814865112305,61.67692947387695,60.43991470336914,59.307762145996094,58.2777214050293,57.36271286010742,56.544517517089844,55.79629135131836,55.14596939086914,54.56262969970703,54.03936767578125,53.559513092041016,53.143802642822266,52.75127410888672,52.420654296875,52.10264587402344,51.817012786865234,51.556217193603516,51.32255172729492,51.10405731201172,50.902381896972656,50.718360900878906,50.54889678955078,50.38703155517578,50.22716522216797,50.10459899902344,49.967838287353516,49.846160888671875,49.744606018066406,49.63298034667969,49.530975341796875,49.5082893371582,49.480712890625,49.45346450805664,49.42560577392578,49.40031051635742,49.3751106262207,49.34953308105469,49.325984954833984,49.30325698852539,49.28152847290039,49.26029586791992,49.240333557128906,49.219703674316406,49.19989776611328,49.18083572387695,49.16080856323242,49.14250946044922,49.124725341796875,49.106239318847656,49.09001922607422,49.08863067626953,49.08717727661133,49.085758209228516,49.084354400634766,49.082969665527344,49.08174514770508,49.08016586303711,49.07870101928711,49.077396392822266,49.07594299316406]}},\"id\":\"a3f7355e-a97c-4391-a865-b97bc311f812\",\"type\":\"ColumnDataSource\"},{\"attributes\":{\"callback\":null,\"column_names\":[\"x\",\"y\"],\"data\":{\"x\":{\"__ndarray__\":\"AQAAAAIAAAADAAAABAAAAAUAAAAGAAAABwAAAAgAAAAJAAAACgAAAAsAAAAMAAAADQAAAA4AAAAPAAAAEAAAABEAAAASAAAAEwAAABQAAAAVAAAAFgAAABcAAAAYAAAAGQAAABoAAAAbAAAAHAAAAB0AAAAeAAAAHwAAACAAAAAhAAAAIgAAACMAAAAkAAAAJQAAACYAAAAnAAAAKAAAACkAAAAqAAAAKwAAACwAAAAtAAAALgAAAC8AAAAwAAAAMQAAADIAAAAzAAAANAAAADUAAAA2AAAANwAAADgAAAA5AAAAOgAAADsAAAA8AAAAPQAAAD4AAAA/AAAAQAAAAEEAAABCAAAAQwAAAEQAAABFAAAARgAAAEcAAABIAAAASQAAAEoAAABLAAAATAAAAE0AAABOAAAATwAAAFAAAABRAAAAUgAAAFMAAABUAAAAVQAAAFYAAABXAAAAWAAAAFkAAABaAAAA\",\"dtype\":\"int32\",\"shape\":[90]},\"y\":[23.163476943969727,24.777456283569336,31.593395233154297,40.15866470336914,48.27956008911133,54.93716049194336,60.11776351928711,63.83689880371094,66.86790466308594,68.68444061279297,70.90425109863281,72.65764617919922,73.92286682128906,74.81024932861328,75.53132629394531,76.03103637695312,76.7069091796875,76.9327392578125,77.2581787109375,77.64269256591797,77.6125259399414,78.09293365478516,77.86715698242188,78.1505355834961,78.31005859375,78.46641540527344,78.51275634765625,78.69308471679688,78.77984619140625,77.81438446044922,75.86331939697266,73.6763687133789,71.63047790527344,69.7511978149414,68.04462432861328,66.51949310302734,65.16635131835938,63.96615219116211,62.91996765136719,62.00459671020508,61.213008880615234,60.52254104614258,59.94791793823242,59.44105529785156,59.010108947753906,58.62876510620117,58.30283737182617,58.020938873291016,57.77831268310547,57.56229019165039,57.37055969238281,57.198089599609375,57.05289077758789,56.91858673095703,56.794883728027344,56.678466796875,56.584815979003906,56.50071716308594,56.41297912597656,56.32969665527344,56.292667388916016,56.243751525878906,56.189823150634766,56.13314437866211,56.0738639831543,56.01245880126953,55.94916534423828,55.8855094909668,55.82007598876953,55.75458908081055,55.6884651184082,55.6226692199707,55.55646514892578,55.489097595214844,55.422725677490234,55.35652160644531,55.29072189331055,55.22438430786133,55.15865707397461,55.0939826965332,55.087684631347656,55.08134841918945,55.07495880126953,55.06853485107422,55.06206512451172,55.055721282958984,55.049339294433594,55.042930603027344,55.0363883972168,55.0299072265625]}},\"id\":\"6d8d0454-0f90-436d-bbe1-e1fdcbd72be3\",\"type\":\"ColumnDataSource\"},{\"attributes\":{\"label\":{\"value\":\"train - 256_32\"},\"renderers\":[{\"id\":\"0d4623ad-478a-43a8-8e68-1c07afec9905\",\"type\":\"GlyphRenderer\"}]},\"id\":\"367e3b52-3a69-4af6-a349-ca19976bde8c\",\"type\":\"LegendItem\"},{\"attributes\":{\"data_source\":{\"id\":\"6d8d0454-0f90-436d-bbe1-e1fdcbd72be3\",\"type\":\"ColumnDataSource\"},\"glyph\":{\"id\":\"07356211-184e-4c38-99d2-3de924c9577e\",\"type\":\"Line\"},\"hover_glyph\":null,\"muted_glyph\":null,\"nonselection_glyph\":{\"id\":\"947d5476-540c-48d1-a44f-3161d7608775\",\"type\":\"Line\"},\"selection_glyph\":null,\"view\":{\"id\":\"b04725c5-47c4-405f-b3c6-a5d98d99ff81\",\"type\":\"CDSView\"}},\"id\":\"0d4623ad-478a-43a8-8e68-1c07afec9905\",\"type\":\"GlyphRenderer\"},{\"attributes\":{\"callback\":null,\"column_names\":[\"x\",\"y\"],\"data\":{\"x\":{\"__ndarray__\":\"AQAAAAIAAAADAAAABAAAAAUAAAAGAAAABwAAAAgAAAAJAAAACgAAAAsAAAAMAAAADQAAAA4AAAAPAAAAEAAAABEAAAASAAAAEwAAABQAAAAVAAAAFgAAABcAAAAYAAAAGQAAABoAAAAbAAAAHAAAAB0AAAAeAAAAHwAAACAAAAAhAAAAIgAAACMAAAAkAAAAJQAAACYAAAAnAAAAKAAAACkAAAAqAAAAKwAAACwAAAAtAAAALgAAAC8AAAAwAAAAMQAAADIAAAAzAAAANAAAADUAAAA2AAAANwAAADgAAAA5AAAAOgAAADsAAAA8AAAAPQAAAD4AAAA/AAAAQAAAAEEAAABCAAAAQwAAAEQAAABFAAAARgAAAEcAAABIAAAASQAAAEoAAABLAAAATAAAAE0AAABOAAAATwAAAFAAAABRAAAAUgAAAFMAAABUAAAAVQAAAFYAAABXAAAAWAAAAFkAAABaAAAA\",\"dtype\":\"int32\",\"shape\":[90]},\"y\":[45.15010070800781,57.44385528564453,62.207759857177734,63.964595794677734,64.64025115966797,64.92052459716797,64.9917221069336,64.98957824707031,64.8937759399414,64.86297607421875,64.72789001464844,64.65362548828125,64.58889770507812,64.51985168457031,64.4142837524414,64.33795928955078,64.28684997558594,64.18175506591797,64.1669692993164,64.10784149169922,64.04440307617188,63.98326110839844,63.988826751708984,63.94239807128906,63.87409591674805,63.8456916809082,63.81119155883789,63.754600524902344,63.74565505981445,63.73651885986328,62.19520568847656,60.64653778076172,59.223236083984375,57.939483642578125,56.79465866088867,55.77432632446289,54.86094284057617,54.05360794067383,53.3420295715332,52.70363998413086,52.1528205871582,51.66324996948242,51.23167037963867,50.848018646240234,50.50403594970703,50.20921325683594,49.93962478637695,49.696163177490234,49.48685073852539,49.29646682739258,49.12630844116211,48.969390869140625,48.83910369873047,48.71574401855469,48.6079216003418,48.50221633911133,48.41305923461914,48.330909729003906,48.25039291381836,48.18047332763672,48.14912033081055,48.111507415771484,48.072994232177734,48.033206939697266,47.995513916015625,47.957923889160156,47.92184829711914,47.885921478271484,47.85010528564453,47.8176383972168,47.78239059448242,47.74848937988281,47.7156867980957,47.685028076171875,47.65245056152344,47.6202392578125,47.590309143066406,47.55997085571289,47.530128479003906,47.50093460083008,47.498226165771484,47.495418548583984,47.49263000488281,47.48985290527344,47.48711395263672,47.48429870605469,47.48146438598633,47.478702545166016,47.47606658935547,47.473201751708984]}},\"id\":\"4807bd77-3498-45bb-ac22-eb6de31c8b0e\",\"type\":\"ColumnDataSource\"},{\"attributes\":{\"line_color\":\"#1f77b4\",\"line_width\":3,\"x\":{\"field\":\"x\"},\"y\":{\"field\":\"y\"}},\"id\":\"53e25c71-f785-4ea2-a3db-cd17a4062d1e\",\"type\":\"Line\"},{\"attributes\":{},\"id\":\"9b67ac5d-f0ed-48f4-9ba1-ecd7bf097153\",\"type\":\"BasicTickFormatter\"},{\"attributes\":{\"line_alpha\":0.1,\"line_color\":\"#1f77b4\",\"line_width\":3,\"x\":{\"field\":\"x\"},\"y\":{\"field\":\"y\"}},\"id\":\"7303c505-2dfc-4b9a-ac5d-6947bf4e2039\",\"type\":\"Line\"},{\"attributes\":{},\"id\":\"d2c7a626-2f5b-4395-aa0a-ab0b000cba4d\",\"type\":\"BasicTickFormatter\"},{\"attributes\":{\"label\":{\"value\":\"train - 8192_1\"},\"renderers\":[{\"id\":\"bbc5d9b7-dab7-47ec-914b-11c3abbfa3bb\",\"type\":\"GlyphRenderer\"}]},\"id\":\"88adae6c-d33f-4012-99f3-c8c6f35bc303\",\"type\":\"LegendItem\"},{\"attributes\":{\"data_source\":{\"id\":\"4807bd77-3498-45bb-ac22-eb6de31c8b0e\",\"type\":\"ColumnDataSource\"},\"glyph\":{\"id\":\"53e25c71-f785-4ea2-a3db-cd17a4062d1e\",\"type\":\"Line\"},\"hover_glyph\":null,\"muted_glyph\":null,\"nonselection_glyph\":{\"id\":\"7303c505-2dfc-4b9a-ac5d-6947bf4e2039\",\"type\":\"Line\"},\"selection_glyph\":null,\"view\":{\"id\":\"98308f41-f461-4e87-9006-b35e932d22e4\",\"type\":\"CDSView\"}},\"id\":\"a0aa8f22-bca4-45cb-b2e7-5f1c2c098949\",\"type\":\"GlyphRenderer\"},{\"attributes\":{\"line_alpha\":0.1,\"line_color\":\"#1f77b4\",\"line_width\":3,\"x\":{\"field\":\"x\"},\"y\":{\"field\":\"y\"}},\"id\":\"c94211a3-555d-47c3-b28d-7df016d40f86\",\"type\":\"Line\"},{\"attributes\":{\"data_source\":{\"id\":\"a3f7355e-a97c-4391-a865-b97bc311f812\",\"type\":\"ColumnDataSource\"},\"glyph\":{\"id\":\"5ce90a8f-7db4-447d-b651-853dcbf0af8e\",\"type\":\"Line\"},\"hover_glyph\":null,\"muted_glyph\":null,\"nonselection_glyph\":{\"id\":\"c94211a3-555d-47c3-b28d-7df016d40f86\",\"type\":\"Line\"},\"selection_glyph\":null,\"view\":{\"id\":\"874b347d-5f6d-4ce8-9137-78e809d9dd9c\",\"type\":\"CDSView\"}},\"id\":\"bbc5d9b7-dab7-47ec-914b-11c3abbfa3bb\",\"type\":\"GlyphRenderer\"},{\"attributes\":{\"source\":{\"id\":\"4807bd77-3498-45bb-ac22-eb6de31c8b0e\",\"type\":\"ColumnDataSource\"}},\"id\":\"98308f41-f461-4e87-9006-b35e932d22e4\",\"type\":\"CDSView\"},{\"attributes\":{\"label\":{\"value\":\"train - 256_1\"},\"renderers\":[{\"id\":\"a0aa8f22-bca4-45cb-b2e7-5f1c2c098949\",\"type\":\"GlyphRenderer\"}]},\"id\":\"88370e3c-c6a5-4a52-9de3-407c83895073\",\"type\":\"LegendItem\"},{\"attributes\":{\"click_policy\":\"hide\",\"items\":[{\"id\":\"88370e3c-c6a5-4a52-9de3-407c83895073\",\"type\":\"LegendItem\"},{\"id\":\"88adae6c-d33f-4012-99f3-c8c6f35bc303\",\"type\":\"LegendItem\"},{\"id\":\"367e3b52-3a69-4af6-a349-ca19976bde8c\",\"type\":\"LegendItem\"}],\"location\":\"top_left\",\"plot\":{\"id\":\"b517ff11-2549-4d88-8b45-c3bd49e032a2\",\"subtype\":\"Figure\",\"type\":\"Plot\"}},\"id\":\"27ecf8a4-160d-42ec-988e-16ac35091c67\",\"type\":\"Legend\"},{\"attributes\":{\"source\":{\"id\":\"a3f7355e-a97c-4391-a865-b97bc311f812\",\"type\":\"ColumnDataSource\"}},\"id\":\"874b347d-5f6d-4ce8-9137-78e809d9dd9c\",\"type\":\"CDSView\"},{\"attributes\":{\"line_color\":\"#ff7f0e\",\"line_width\":3,\"x\":{\"field\":\"x\"},\"y\":{\"field\":\"y\"}},\"id\":\"5ce90a8f-7db4-447d-b651-853dcbf0af8e\",\"type\":\"Line\"},{\"attributes\":{\"callback\":null},\"id\":\"15917c24-c57e-4e6c-ad68-1f71cee80b51\",\"type\":\"DataRange1d\"},{\"attributes\":{\"plot\":null,\"text\":\"The Norm of w(t)\"},\"id\":\"edcc60d3-60ed-4195-9b08-7840448dcd36\",\"type\":\"Title\"},{\"attributes\":{\"active_drag\":\"auto\",\"active_inspect\":\"auto\",\"active_scroll\":\"auto\",\"active_tap\":\"auto\",\"tools\":[{\"id\":\"eac096ca-7c74-4c6c-81c3-b00dbd27df33\",\"type\":\"PanTool\"},{\"id\":\"1391ea30-f6a9-424f-a619-9cc679fcfb34\",\"type\":\"WheelZoomTool\"},{\"id\":\"38433a53-636d-447d-88ea-e744e810a752\",\"type\":\"BoxZoomTool\"},{\"id\":\"fb83d686-600d-4cd0-a13e-f420788eaf90\",\"type\":\"SaveTool\"},{\"id\":\"6fda9f37-8ef4-4f43-a449-af5d6b261222\",\"type\":\"ResetTool\"},{\"id\":\"042f90be-47ce-4a6f-abd7-0caf24512274\",\"type\":\"HelpTool\"}]},\"id\":\"5cb62535-0c7c-4f70-adbe-a30bd56fe5e2\",\"type\":\"Toolbar\"},{\"attributes\":{\"axis_label\":\"||w(t)||\",\"formatter\":{\"id\":\"d2c7a626-2f5b-4395-aa0a-ab0b000cba4d\",\"type\":\"BasicTickFormatter\"},\"plot\":{\"id\":\"b517ff11-2549-4d88-8b45-c3bd49e032a2\",\"subtype\":\"Figure\",\"type\":\"Plot\"},\"ticker\":{\"id\":\"fde1d791-582e-4155-b96b-3452a3f9d9a4\",\"type\":\"BasicTicker\"}},\"id\":\"5bd4916b-4037-4219-af38-30d69ecb2e54\",\"type\":\"LinearAxis\"},{\"attributes\":{},\"id\":\"b2ed477c-0816-40bd-baaf-b7cdb776a57e\",\"type\":\"LinearScale\"},{\"attributes\":{\"source\":{\"id\":\"6d8d0454-0f90-436d-bbe1-e1fdcbd72be3\",\"type\":\"ColumnDataSource\"}},\"id\":\"b04725c5-47c4-405f-b3c6-a5d98d99ff81\",\"type\":\"CDSView\"},{\"attributes\":{},\"id\":\"b4680910-029a-48ad-92e5-f077130c4b56\",\"type\":\"LinearScale\"},{\"attributes\":{\"callback\":null},\"id\":\"821e0934-c735-484a-b622-a9b00cfbdd11\",\"type\":\"DataRange1d\"},{\"attributes\":{\"plot\":{\"id\":\"b517ff11-2549-4d88-8b45-c3bd49e032a2\",\"subtype\":\"Figure\",\"type\":\"Plot\"},\"ticker\":{\"id\":\"c5cfeefc-0a89-4dd4-9789-80588afb7bfd\",\"type\":\"BasicTicker\"}},\"id\":\"a2359a7c-36bd-497a-9168-99531cdeb0e3\",\"type\":\"Grid\"},{\"attributes\":{\"axis_label\":\"t [Epochs]\",\"formatter\":{\"id\":\"9b67ac5d-f0ed-48f4-9ba1-ecd7bf097153\",\"type\":\"BasicTickFormatter\"},\"plot\":{\"id\":\"b517ff11-2549-4d88-8b45-c3bd49e032a2\",\"subtype\":\"Figure\",\"type\":\"Plot\"},\"ticker\":{\"id\":\"c5cfeefc-0a89-4dd4-9789-80588afb7bfd\",\"type\":\"BasicTicker\"}},\"id\":\"c30c9346-975d-4e73-85de-f1d9c9daa035\",\"type\":\"LinearAxis\"},{\"attributes\":{},\"id\":\"c5cfeefc-0a89-4dd4-9789-80588afb7bfd\",\"type\":\"BasicTicker\"}],\"root_ids\":[\"b517ff11-2549-4d88-8b45-c3bd49e032a2\"]},\"title\":\"Bokeh Application\",\"version\":\"0.12.13\"}};\n",
       "  var render_items = [{\"docid\":\"1c144d49-0f9b-4a0a-9912-83b54c1e1a79\",\"elementid\":\"34322157-f8ab-4fd6-a1c5-24bec1a6c019\",\"modelid\":\"b517ff11-2549-4d88-8b45-c3bd49e032a2\"}];\n",
       "  root.Bokeh.embed.embed_items_notebook(docs_json, render_items);\n",
       "\n",
       "  }\n",
       "  if (root.Bokeh !== undefined) {\n",
       "    embed_document(root);\n",
       "  } else {\n",
       "    var attempts = 0;\n",
       "    var timer = setInterval(function(root) {\n",
       "      if (root.Bokeh !== undefined) {\n",
       "        embed_document(root);\n",
       "        clearInterval(timer);\n",
       "      }\n",
       "      attempts++;\n",
       "      if (attempts > 100) {\n",
       "        console.log(\"Bokeh: ERROR: Unable to run BokehJS code because BokehJS library is missing\")\n",
       "        clearInterval(timer);\n",
       "      }\n",
       "    }, 10, root)\n",
       "  }\n",
       "})(window);"
      ],
      "application/vnd.bokehjs_exec.v0+json": ""
     },
     "metadata": {
      "application/vnd.bokehjs_exec.v0+json": {
       "id": "b517ff11-2549-4d88-8b45-c3bd49e032a2"
      }
     },
     "output_type": "display_data"
    }
   ],
   "source": [
    "show(plots[2])"
   ]
  },
  {
   "cell_type": "code",
   "execution_count": 5,
   "metadata": {},
   "outputs": [
    {
     "data": {
      "text/html": [
       "\n",
       "<div class=\"bk-root\">\n",
       "    <div class=\"bk-plotdiv\" id=\"550f429f-e31b-4886-8129-efa4de167ab7\"></div>\n",
       "</div>"
      ]
     },
     "metadata": {},
     "output_type": "display_data"
    },
    {
     "data": {
      "application/javascript": [
       "(function(root) {\n",
       "  function embed_document(root) {\n",
       "    \n",
       "  var docs_json = {\"33b50c53-ce36-41a8-880f-9cfabd02bfb4\":{\"roots\":{\"references\":[{\"attributes\":{\"callback\":null},\"id\":\"89f9217d-af80-42d9-8325-de9775205ef7\",\"type\":\"DataRange1d\"},{\"attributes\":{\"active_drag\":\"auto\",\"active_inspect\":\"auto\",\"active_scroll\":\"auto\",\"active_tap\":\"auto\",\"tools\":[{\"id\":\"03d88e14-c522-4787-9371-c19095fb34b5\",\"type\":\"PanTool\"},{\"id\":\"7e919e4d-2846-4947-9f7e-72fa6b1a4b01\",\"type\":\"WheelZoomTool\"},{\"id\":\"3ae329ce-5813-494b-95f5-29f75d410f6d\",\"type\":\"BoxZoomTool\"},{\"id\":\"9dcd16bb-99b1-403b-9681-eb11c731de07\",\"type\":\"SaveTool\"},{\"id\":\"0c2383db-634d-4eab-a6c5-0ccffd2bcf18\",\"type\":\"ResetTool\"},{\"id\":\"911a2944-462b-4572-9a27-9cf0adb5bc97\",\"type\":\"HelpTool\"}]},\"id\":\"5696d5c6-7a6c-4092-9313-cb23bf7fafec\",\"type\":\"Toolbar\"},{\"attributes\":{\"plot\":null,\"text\":\"The Norm of Gradients\"},\"id\":\"6a3371c2-5ce4-4efc-ada6-dd25486a4bc3\",\"type\":\"Title\"},{\"attributes\":{\"line_alpha\":0.1,\"line_color\":\"#1f77b4\",\"line_width\":3,\"x\":{\"field\":\"x\"},\"y\":{\"field\":\"y\"}},\"id\":\"ef2f2b90-a179-4603-a2ab-e4ced54daa07\",\"type\":\"Line\"},{\"attributes\":{\"data_source\":{\"id\":\"6536bc7d-7d76-4ae5-b928-e8e3c4797625\",\"type\":\"ColumnDataSource\"},\"glyph\":{\"id\":\"7c6267f3-33bb-49b7-8c7f-1ce1e4d4d9a7\",\"type\":\"Line\"},\"hover_glyph\":null,\"muted_glyph\":null,\"nonselection_glyph\":{\"id\":\"ef2f2b90-a179-4603-a2ab-e4ced54daa07\",\"type\":\"Line\"},\"selection_glyph\":null,\"view\":{\"id\":\"d43e2ac6-1c58-46aa-abf1-f733a11f69c5\",\"type\":\"CDSView\"}},\"id\":\"05b055db-eb11-438d-a53f-7f7b736424fa\",\"type\":\"GlyphRenderer\"},{\"attributes\":{\"num_minor_ticks\":10},\"id\":\"28680cc6-2731-41d6-be41-f9529e9d8867\",\"type\":\"LogTicker\"},{\"attributes\":{\"label\":{\"value\":\"train - 8192_1\"},\"renderers\":[{\"id\":\"05b055db-eb11-438d-a53f-7f7b736424fa\",\"type\":\"GlyphRenderer\"}]},\"id\":\"646df1da-c6e6-4f1f-aff9-d09347fafd1f\",\"type\":\"LegendItem\"},{\"attributes\":{},\"id\":\"13ac2072-231c-48c9-95ad-252e813d9ed1\",\"type\":\"LinearScale\"},{\"attributes\":{\"callback\":null},\"id\":\"223a297f-65f8-40d1-83ea-d43e618f2092\",\"type\":\"DataRange1d\"},{\"attributes\":{\"line_color\":\"#ff7f0e\",\"line_width\":3,\"x\":{\"field\":\"x\"},\"y\":{\"field\":\"y\"}},\"id\":\"7c6267f3-33bb-49b7-8c7f-1ce1e4d4d9a7\",\"type\":\"Line\"},{\"attributes\":{\"plot\":{\"id\":\"ce60d324-f2fc-46dd-83f3-db0eee2362f4\",\"subtype\":\"Figure\",\"type\":\"Plot\"},\"ticker\":{\"id\":\"47f2c9d0-5a0f-4bb4-9e78-13b1ce6c4d97\",\"type\":\"BasicTicker\"}},\"id\":\"4ddafedd-4202-4e56-9fdb-a2664bc2f68d\",\"type\":\"Grid\"},{\"attributes\":{\"callback\":null,\"column_names\":[\"x\",\"y\"],\"data\":{\"x\":{\"__ndarray__\":\"AQAAAAIAAAADAAAABAAAAAUAAAAGAAAABwAAAAgAAAAJAAAACgAAAAsAAAAMAAAADQAAAA4AAAAPAAAAEAAAABEAAAASAAAAEwAAABQAAAAVAAAAFgAAABcAAAAYAAAAGQAAABoAAAAbAAAAHAAAAB0AAAAeAAAAHwAAACAAAAAhAAAAIgAAACMAAAAkAAAAJQAAACYAAAAnAAAAKAAAACkAAAAqAAAAKwAAACwAAAAtAAAALgAAAC8AAAAwAAAAMQAAADIAAAAzAAAANAAAADUAAAA2AAAANwAAADgAAAA5AAAAOgAAADsAAAA8AAAAPQAAAD4AAAA/AAAAQAAAAEEAAABCAAAAQwAAAEQAAABFAAAARgAAAEcAAABIAAAASQAAAEoAAABLAAAATAAAAE0AAABOAAAATwAAAFAAAABRAAAAUgAAAFMAAABUAAAAVQAAAFYAAABXAAAAWAAAAFkAAABaAAAA\",\"dtype\":\"int32\",\"shape\":[90]},\"y\":[0.8052669167518616,0.06637383997440338,0.1267978996038437,0.18153521418571472,0.20415067672729492,0.21858251094818115,0.20829685032367706,0.20963546633720398,0.2181030958890915,0.21434594690799713,0.230984166264534,0.2077074497938156,0.21395769715309143,0.21339313685894012,0.21833373606204987,0.2006051242351532,0.19825781881809235,0.196157768368721,0.2012500911951065,0.19487372040748596,0.20619332790374756,0.19884979724884033,0.19836702942848206,0.200076162815094,0.20111723244190216,0.19055287539958954,0.19110633432865143,0.20618119835853577,0.19969263672828674,0.19856929779052734,0.15049783885478973,0.15332990884780884,0.15318086743354797,0.15484501421451569,0.16300426423549652,0.1660325676202774,0.1695985049009323,0.17528493702411652,0.1765567660331726,0.1832031011581421,0.18101181089878082,0.18127545714378357,0.18864238262176514,0.18799352645874023,0.1867261677980423,0.18828997015953064,0.19286860525608063,0.19390791654586792,0.19504375755786896,0.19059298932552338,0.1974952518939972,0.2001001238822937,0.20141416788101196,0.19988952577114105,0.2027328908443451,0.20122647285461426,0.2023216038942337,0.1964079886674881,0.19978053867816925,0.20295031368732452,0.17049260437488556,0.16624312102794647,0.1686210334300995,0.16428110003471375,0.16652774810791016,0.17336545884609222,0.17441624402999878,0.1717039942741394,0.16293641924858093,0.1706368774175644,0.1717945784330368,0.17001910507678986,0.1727883368730545,0.170284241437912,0.1658119112253189,0.16484977304935455,0.17207062244415283,0.1721770316362381,0.16351798176765442,0.1629297286272049,0.16586793959140778,0.15774832665920258,0.15761800110340118,0.15855707228183746,0.16055533289909363,0.16705664992332458,0.16705361008644104,0.16335099935531616,0.15965694189071655,0.15704941749572754]}},\"id\":\"6536bc7d-7d76-4ae5-b928-e8e3c4797625\",\"type\":\"ColumnDataSource\"},{\"attributes\":{\"source\":{\"id\":\"3f10b8e8-028a-4734-a8c6-14568a3efbe2\",\"type\":\"ColumnDataSource\"}},\"id\":\"a55b2a78-c91d-44fd-bc8e-f92a68608c15\",\"type\":\"CDSView\"},{\"attributes\":{\"dimension\":1,\"plot\":{\"id\":\"ce60d324-f2fc-46dd-83f3-db0eee2362f4\",\"subtype\":\"Figure\",\"type\":\"Plot\"},\"ticker\":{\"id\":\"28680cc6-2731-41d6-be41-f9529e9d8867\",\"type\":\"LogTicker\"}},\"id\":\"b9a185c5-0cce-4cd3-82c4-62e09715fe92\",\"type\":\"Grid\"},{\"attributes\":{},\"id\":\"47f2c9d0-5a0f-4bb4-9e78-13b1ce6c4d97\",\"type\":\"BasicTicker\"},{\"attributes\":{\"axis_label\":\"t [Epochs]\",\"formatter\":{\"id\":\"11e8078d-950b-47f3-9cbe-d4dbe05fa2ce\",\"type\":\"BasicTickFormatter\"},\"plot\":{\"id\":\"ce60d324-f2fc-46dd-83f3-db0eee2362f4\",\"subtype\":\"Figure\",\"type\":\"Plot\"},\"ticker\":{\"id\":\"47f2c9d0-5a0f-4bb4-9e78-13b1ce6c4d97\",\"type\":\"BasicTicker\"}},\"id\":\"58f2cfb5-efe2-470f-ada5-8cc6a877e523\",\"type\":\"LinearAxis\"},{\"attributes\":{\"axis_label\":\"||g||\",\"formatter\":{\"id\":\"3c7efd05-624c-4e87-a8cf-39c00e7604f5\",\"type\":\"LogTickFormatter\"},\"plot\":{\"id\":\"ce60d324-f2fc-46dd-83f3-db0eee2362f4\",\"subtype\":\"Figure\",\"type\":\"Plot\"},\"ticker\":{\"id\":\"28680cc6-2731-41d6-be41-f9529e9d8867\",\"type\":\"LogTicker\"}},\"id\":\"f3d024f5-7d35-42c2-8997-f882814b9dcb\",\"type\":\"LogAxis\"},{\"attributes\":{},\"id\":\"bb756203-5fce-400b-80ec-f3025a2a65d8\",\"type\":\"LogScale\"},{\"attributes\":{\"callback\":null,\"column_names\":[\"x\",\"y\"],\"data\":{\"x\":{\"__ndarray__\":\"AQAAAAIAAAADAAAABAAAAAUAAAAGAAAABwAAAAgAAAAJAAAACgAAAAsAAAAMAAAADQAAAA4AAAAPAAAAEAAAABEAAAASAAAAEwAAABQAAAAVAAAAFgAAABcAAAAYAAAAGQAAABoAAAAbAAAAHAAAAB0AAAAeAAAAHwAAACAAAAAhAAAAIgAAACMAAAAkAAAAJQAAACYAAAAnAAAAKAAAACkAAAAqAAAAKwAAACwAAAAtAAAALgAAAC8AAAAwAAAAMQAAADIAAAAzAAAANAAAADUAAAA2AAAANwAAADgAAAA5AAAAOgAAADsAAAA8AAAAPQAAAD4AAAA/AAAAQAAAAEEAAABCAAAAQwAAAEQAAABFAAAARgAAAEcAAABIAAAASQAAAEoAAABLAAAATAAAAE0AAABOAAAATwAAAFAAAABRAAAAUgAAAFMAAABUAAAAVQAAAFYAAABXAAAAWAAAAFkAAABaAAAA\",\"dtype\":\"int32\",\"shape\":[90]},\"y\":[0.826116144657135,0.6305275559425354,0.5603293180465698,0.5776548385620117,0.5660849809646606,0.6205750107765198,0.6208299398422241,0.6596800684928894,0.6622775197029114,0.7150651216506958,0.7132781147956848,0.7326405644416809,0.7153470516204834,0.7583386301994324,0.7449451684951782,0.7295563817024231,0.7708937525749207,0.7177477478981018,0.7512964606285095,0.7346398234367371,0.738284707069397,0.760417640209198,0.7242952585220337,0.7482939958572388,0.7643463015556335,0.831589937210083,0.7420058846473694,0.7456451058387756,0.7487715482711792,0.7723224759101868,0.8565144538879395,1.0080054998397827,1.0249273777008057,1.0549575090408325,1.1672929525375366,1.2024513483047485,1.287891149520874,1.267886996269226,1.1961274147033691,1.288016676902771,1.3104878664016724,1.291458249092102,1.3133695125579834,1.3275591135025024,1.396555781364441,1.411324381828308,1.4675265550613403,1.362216830253601,1.4003762006759644,1.4298362731933594,1.416244626045227,1.312034010887146,1.4418390989303589,1.3667165040969849,1.4004559516906738,1.34296452999115,1.2896174192428589,1.3091484308242798,1.3709911108016968,1.2898825407028198,1.1866674423217773,1.3966138362884521,1.241007924079895,1.2850757837295532,1.1850897073745728,1.373877763748169,1.181821346282959,1.274670124053955,1.3900372982025146,1.281639575958252,1.2926446199417114,1.327097773551941,1.3420706987380981,1.3725579977035522,1.3509457111358643,1.3722224235534668,1.301905870437622,1.3530856370925903,1.2967984676361084,1.300282597541809,1.3416097164154053,1.345569372177124,1.4354819059371948,1.4362108707427979,1.4155856370925903,1.3185057640075684,1.2473934888839722,1.2848929166793823,1.4746222496032715,1.3698612451553345]}},\"id\":\"3f10b8e8-028a-4734-a8c6-14568a3efbe2\",\"type\":\"ColumnDataSource\"},{\"attributes\":{\"source\":{\"id\":\"6536bc7d-7d76-4ae5-b928-e8e3c4797625\",\"type\":\"ColumnDataSource\"}},\"id\":\"d43e2ac6-1c58-46aa-abf1-f733a11f69c5\",\"type\":\"CDSView\"},{\"attributes\":{\"bottom_units\":\"screen\",\"fill_alpha\":{\"value\":0.5},\"fill_color\":{\"value\":\"lightgrey\"},\"left_units\":\"screen\",\"level\":\"overlay\",\"line_alpha\":{\"value\":1.0},\"line_color\":{\"value\":\"black\"},\"line_dash\":[4,4],\"line_width\":{\"value\":2},\"plot\":null,\"render_mode\":\"css\",\"right_units\":\"screen\",\"top_units\":\"screen\"},\"id\":\"4331b63d-a785-4f44-a717-56057bb45ffb\",\"type\":\"BoxAnnotation\"},{\"attributes\":{},\"id\":\"03d88e14-c522-4787-9371-c19095fb34b5\",\"type\":\"PanTool\"},{\"attributes\":{},\"id\":\"7e919e4d-2846-4947-9f7e-72fa6b1a4b01\",\"type\":\"WheelZoomTool\"},{\"attributes\":{\"overlay\":{\"id\":\"4331b63d-a785-4f44-a717-56057bb45ffb\",\"type\":\"BoxAnnotation\"}},\"id\":\"3ae329ce-5813-494b-95f5-29f75d410f6d\",\"type\":\"BoxZoomTool\"},{\"attributes\":{},\"id\":\"9dcd16bb-99b1-403b-9681-eb11c731de07\",\"type\":\"SaveTool\"},{\"attributes\":{},\"id\":\"0c2383db-634d-4eab-a6c5-0ccffd2bcf18\",\"type\":\"ResetTool\"},{\"attributes\":{},\"id\":\"911a2944-462b-4572-9a27-9cf0adb5bc97\",\"type\":\"HelpTool\"},{\"attributes\":{\"line_alpha\":0.1,\"line_color\":\"#1f77b4\",\"line_width\":3,\"x\":{\"field\":\"x\"},\"y\":{\"field\":\"y\"}},\"id\":\"a437822c-2084-4a0a-beaa-5c80858d1a6b\",\"type\":\"Line\"},{\"attributes\":{},\"id\":\"11e8078d-950b-47f3-9cbe-d4dbe05fa2ce\",\"type\":\"BasicTickFormatter\"},{\"attributes\":{\"ticker\":null},\"id\":\"3c7efd05-624c-4e87-a8cf-39c00e7604f5\",\"type\":\"LogTickFormatter\"},{\"attributes\":{\"callback\":null,\"column_names\":[\"x\",\"y\"],\"data\":{\"x\":{\"__ndarray__\":\"AQAAAAIAAAADAAAABAAAAAUAAAAGAAAABwAAAAgAAAAJAAAACgAAAAsAAAAMAAAADQAAAA4AAAAPAAAAEAAAABEAAAASAAAAEwAAABQAAAAVAAAAFgAAABcAAAAYAAAAGQAAABoAAAAbAAAAHAAAAB0AAAAeAAAAHwAAACAAAAAhAAAAIgAAACMAAAAkAAAAJQAAACYAAAAnAAAAKAAAACkAAAAqAAAAKwAAACwAAAAtAAAALgAAAC8AAAAwAAAAMQAAADIAAAAzAAAANAAAADUAAAA2AAAANwAAADgAAAA5AAAAOgAAADsAAAA8AAAAPQAAAD4AAAA/AAAAQAAAAEEAAABCAAAAQwAAAEQAAABFAAAARgAAAEcAAABIAAAASQAAAEoAAABLAAAATAAAAE0AAABOAAAATwAAAFAAAABRAAAAUgAAAFMAAABUAAAAVQAAAFYAAABXAAAAWAAAAFkAAABaAAAA\",\"dtype\":\"int32\",\"shape\":[90]},\"y\":[1.0720832347869873,1.046262264251709,0.9810971617698669,1.0502018928527832,1.0057874917984009,1.0306391716003418,0.9919623136520386,1.044485092163086,0.9945416450500488,0.9994291663169861,0.9742326140403748,0.9893206357955933,0.9695238471031189,0.9384915232658386,0.9116461277008057,0.9235806465148926,0.9657092690467834,1.0414764881134033,0.9841756820678711,0.9319056272506714,1.0023918151855469,1.0310378074645996,0.9156519174575806,1.062940239906311,0.9665552973747253,1.0307365655899048,0.9897633790969849,0.9425973296165466,0.9445832967758179,0.9873455762863159,0.9708176851272583,0.9947238564491272,0.9652611613273621,1.058058500289917,1.1021126508712769,1.225977897644043,1.14321768283844,1.1661431789398193,1.0904126167297363,1.2746080160140991,1.2021820545196533,1.2831554412841797,1.3020776510238647,1.248833417892456,1.2470918893814087,1.310349941253662,1.3763601779937744,1.2763526439666748,1.3846036195755005,1.368672251701355,1.4395655393600464,1.3234230279922485,1.3436126708984375,1.3243006467819214,1.3692712783813477,1.350646734237671,1.44724702835083,1.3868128061294556,1.295972228050232,1.3175138235092163,1.3351713418960571,1.3179965019226074,1.265212059020996,1.260643720626831,1.1894770860671997,1.2761244773864746,1.350995659828186,1.249558687210083,0.9703543782234192,1.245458960533142,1.334719181060791,1.1114253997802734,1.2283192873001099,1.2657257318496704,1.2888942956924438,1.2841520309448242,1.311696171760559,1.266321063041687,1.1994271278381348,1.2494308948516846,1.2375448942184448,1.2362529039382935,1.2344961166381836,1.2889331579208374,1.1551986932754517,1.2492018938064575,1.196997880935669,1.2975897789001465,1.2088598012924194,1.275367259979248]}},\"id\":\"1d42eb9b-0c66-4a56-9ab1-1b67c4f0fdcb\",\"type\":\"ColumnDataSource\"},{\"attributes\":{\"line_color\":\"#1f77b4\",\"line_width\":3,\"x\":{\"field\":\"x\"},\"y\":{\"field\":\"y\"}},\"id\":\"ba0e9b8d-3db9-450f-9e67-642e16c8ab87\",\"type\":\"Line\"},{\"attributes\":{\"data_source\":{\"id\":\"1d42eb9b-0c66-4a56-9ab1-1b67c4f0fdcb\",\"type\":\"ColumnDataSource\"},\"glyph\":{\"id\":\"ba0e9b8d-3db9-450f-9e67-642e16c8ab87\",\"type\":\"Line\"},\"hover_glyph\":null,\"muted_glyph\":null,\"nonselection_glyph\":{\"id\":\"a437822c-2084-4a0a-beaa-5c80858d1a6b\",\"type\":\"Line\"},\"selection_glyph\":null,\"view\":{\"id\":\"c07362d0-7e59-453d-924d-9e3188f84193\",\"type\":\"CDSView\"}},\"id\":\"7d08a9ab-53c6-4a2e-a162-f23ed0ff23ed\",\"type\":\"GlyphRenderer\"},{\"attributes\":{\"line_alpha\":0.1,\"line_color\":\"#1f77b4\",\"line_width\":3,\"x\":{\"field\":\"x\"},\"y\":{\"field\":\"y\"}},\"id\":\"334610d7-78ef-4f48-a5cd-9044eb871aa6\",\"type\":\"Line\"},{\"attributes\":{\"data_source\":{\"id\":\"3f10b8e8-028a-4734-a8c6-14568a3efbe2\",\"type\":\"ColumnDataSource\"},\"glyph\":{\"id\":\"9f3900f4-38fe-4b36-ae5a-b028958100cf\",\"type\":\"Line\"},\"hover_glyph\":null,\"muted_glyph\":null,\"nonselection_glyph\":{\"id\":\"334610d7-78ef-4f48-a5cd-9044eb871aa6\",\"type\":\"Line\"},\"selection_glyph\":null,\"view\":{\"id\":\"a55b2a78-c91d-44fd-bc8e-f92a68608c15\",\"type\":\"CDSView\"}},\"id\":\"bbf3d208-6502-4688-94b5-7d50de581a49\",\"type\":\"GlyphRenderer\"},{\"attributes\":{\"source\":{\"id\":\"1d42eb9b-0c66-4a56-9ab1-1b67c4f0fdcb\",\"type\":\"ColumnDataSource\"}},\"id\":\"c07362d0-7e59-453d-924d-9e3188f84193\",\"type\":\"CDSView\"},{\"attributes\":{\"label\":{\"value\":\"train - 256_1\"},\"renderers\":[{\"id\":\"7d08a9ab-53c6-4a2e-a162-f23ed0ff23ed\",\"type\":\"GlyphRenderer\"}]},\"id\":\"dedefb65-39c2-45d4-ae5f-b2146a64262f\",\"type\":\"LegendItem\"},{\"attributes\":{\"label\":{\"value\":\"train - 256_32\"},\"renderers\":[{\"id\":\"bbf3d208-6502-4688-94b5-7d50de581a49\",\"type\":\"GlyphRenderer\"}]},\"id\":\"7ffb6db6-7f3d-4d05-bfcb-242accf11a66\",\"type\":\"LegendItem\"},{\"attributes\":{\"click_policy\":\"hide\",\"items\":[{\"id\":\"dedefb65-39c2-45d4-ae5f-b2146a64262f\",\"type\":\"LegendItem\"},{\"id\":\"646df1da-c6e6-4f1f-aff9-d09347fafd1f\",\"type\":\"LegendItem\"},{\"id\":\"7ffb6db6-7f3d-4d05-bfcb-242accf11a66\",\"type\":\"LegendItem\"}],\"location\":\"bottom_left\",\"plot\":{\"id\":\"ce60d324-f2fc-46dd-83f3-db0eee2362f4\",\"subtype\":\"Figure\",\"type\":\"Plot\"}},\"id\":\"562ae2e9-ba04-4d66-9ed4-070065ee4d68\",\"type\":\"Legend\"},{\"attributes\":{\"line_color\":\"#2ca02c\",\"line_width\":3,\"x\":{\"field\":\"x\"},\"y\":{\"field\":\"y\"}},\"id\":\"9f3900f4-38fe-4b36-ae5a-b028958100cf\",\"type\":\"Line\"},{\"attributes\":{\"background_fill_color\":{\"value\":\"#fafafa\"},\"below\":[{\"id\":\"58f2cfb5-efe2-470f-ada5-8cc6a877e523\",\"type\":\"LinearAxis\"}],\"left\":[{\"id\":\"f3d024f5-7d35-42c2-8997-f882814b9dcb\",\"type\":\"LogAxis\"}],\"min_border\":10,\"min_border_left\":50,\"renderers\":[{\"id\":\"58f2cfb5-efe2-470f-ada5-8cc6a877e523\",\"type\":\"LinearAxis\"},{\"id\":\"4ddafedd-4202-4e56-9fdb-a2664bc2f68d\",\"type\":\"Grid\"},{\"id\":\"f3d024f5-7d35-42c2-8997-f882814b9dcb\",\"type\":\"LogAxis\"},{\"id\":\"b9a185c5-0cce-4cd3-82c4-62e09715fe92\",\"type\":\"Grid\"},{\"id\":\"4331b63d-a785-4f44-a717-56057bb45ffb\",\"type\":\"BoxAnnotation\"},{\"id\":\"562ae2e9-ba04-4d66-9ed4-070065ee4d68\",\"type\":\"Legend\"},{\"id\":\"7d08a9ab-53c6-4a2e-a162-f23ed0ff23ed\",\"type\":\"GlyphRenderer\"},{\"id\":\"05b055db-eb11-438d-a53f-7f7b736424fa\",\"type\":\"GlyphRenderer\"},{\"id\":\"bbf3d208-6502-4688-94b5-7d50de581a49\",\"type\":\"GlyphRenderer\"}],\"title\":{\"id\":\"6a3371c2-5ce4-4efc-ada6-dd25486a4bc3\",\"type\":\"Title\"},\"toolbar\":{\"id\":\"5696d5c6-7a6c-4092-9313-cb23bf7fafec\",\"type\":\"Toolbar\"},\"x_range\":{\"id\":\"89f9217d-af80-42d9-8325-de9775205ef7\",\"type\":\"DataRange1d\"},\"x_scale\":{\"id\":\"13ac2072-231c-48c9-95ad-252e813d9ed1\",\"type\":\"LinearScale\"},\"y_range\":{\"id\":\"223a297f-65f8-40d1-83ea-d43e618f2092\",\"type\":\"DataRange1d\"},\"y_scale\":{\"id\":\"bb756203-5fce-400b-80ec-f3025a2a65d8\",\"type\":\"LogScale\"}},\"id\":\"ce60d324-f2fc-46dd-83f3-db0eee2362f4\",\"subtype\":\"Figure\",\"type\":\"Plot\"}],\"root_ids\":[\"ce60d324-f2fc-46dd-83f3-db0eee2362f4\"]},\"title\":\"Bokeh Application\",\"version\":\"0.12.13\"}};\n",
       "  var render_items = [{\"docid\":\"33b50c53-ce36-41a8-880f-9cfabd02bfb4\",\"elementid\":\"550f429f-e31b-4886-8129-efa4de167ab7\",\"modelid\":\"ce60d324-f2fc-46dd-83f3-db0eee2362f4\"}];\n",
       "  root.Bokeh.embed.embed_items_notebook(docs_json, render_items);\n",
       "\n",
       "  }\n",
       "  if (root.Bokeh !== undefined) {\n",
       "    embed_document(root);\n",
       "  } else {\n",
       "    var attempts = 0;\n",
       "    var timer = setInterval(function(root) {\n",
       "      if (root.Bokeh !== undefined) {\n",
       "        embed_document(root);\n",
       "        clearInterval(timer);\n",
       "      }\n",
       "      attempts++;\n",
       "      if (attempts > 100) {\n",
       "        console.log(\"Bokeh: ERROR: Unable to run BokehJS code because BokehJS library is missing\")\n",
       "        clearInterval(timer);\n",
       "      }\n",
       "    }, 10, root)\n",
       "  }\n",
       "})(window);"
      ],
      "application/vnd.bokehjs_exec.v0+json": ""
     },
     "metadata": {
      "application/vnd.bokehjs_exec.v0+json": {
       "id": "ce60d324-f2fc-46dd-83f3-db0eee2362f4"
      }
     },
     "output_type": "display_data"
    }
   ],
   "source": [
    "show(plots[3])"
   ]
  }
 ],
 "metadata": {
  "kernelspec": {
   "display_name": "Python 3",
   "language": "python",
   "name": "python3"
  },
  "language_info": {
   "codemirror_mode": {
    "name": "ipython",
    "version": 3
   },
   "file_extension": ".py",
   "mimetype": "text/x-python",
   "name": "python",
   "nbconvert_exporter": "python",
   "pygments_lexer": "ipython3",
   "version": "3.6.1"
  }
 },
 "nbformat": 4,
 "nbformat_minor": 1
}
