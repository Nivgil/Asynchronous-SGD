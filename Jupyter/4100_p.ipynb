{
 "cells": [
  {
   "cell_type": "raw",
   "metadata": {},
   "source": [
    "<script>\n",
    "  jQuery(document).ready(function($) {  \n",
    "  \n",
    "  $(window).on('load', function(){\n",
    "    $('#preloader').fadeOut('slow',function(){$(this).remove();});\n",
    "  });\n",
    "  \n",
    "  });\n",
    "</script>\n",
    "\n",
    "<style type=\"text/css\">\n",
    "  div#preloader { position: fixed; \n",
    "      left: 0; \n",
    "      top: 0; \n",
    "      z-index: 999; \n",
    "      width: 100%; \n",
    "      height: 100%; \n",
    "      overflow: visible; \n",
    "      background: #fff url('http://preloaders.net/preloaders/720/Moving%20line.gif') no-repeat center center; \n",
    "  }\n",
    "\n",
    "</style>\n",
    "\n",
    "<div id=\"preloader\">\n",
    "\n",
    "</div>"
   ]
  },
  {
   "cell_type": "raw",
   "metadata": {},
   "source": [
    "<script>\n",
    "  function code_toggle() {\n",
    "    if (code_shown){\n",
    "      $('div.input').hide('500');\n",
    "      $('#toggleButton').val('Show Code')\n",
    "    } else {\n",
    "      $('div.input').show('500');\n",
    "      $('#toggleButton').val('Hide Code')\n",
    "    }\n",
    "    code_shown = !code_shown\n",
    "  } \n",
    "  \n",
    "  $( document ).ready(function(){\n",
    "    code_shown=false; \n",
    "    $('div.input').hide()\n",
    "  });\n",
    "</script>\n",
    "<form action=\"javascript:code_toggle()\"><input type=\"submit\" id=\"toggleButton\" value=\"Show Code\"></form>"
   ]
  },
  {
   "cell_type": "markdown",
   "metadata": {},
   "source": [
    "<h1 style=\"text-align: center;\" markdown=\"1\"> ImageNet - Asynchronous 5 workers</h1>\n",
    "<h2 style=\"text-align: center;\" markdown=\"1\"> AlexNet, 5 workers, batch size 128 (blue) no regime adaptation</h2>"
   ]
  },
  {
   "cell_type": "code",
   "execution_count": 1,
   "metadata": {},
   "outputs": [
    {
     "data": {
      "text/html": [
       "\n",
       "    <div class=\"bk-root\">\n",
       "        <a href=\"https://bokeh.pydata.org\" target=\"_blank\" class=\"bk-logo bk-logo-small bk-logo-notebook\"></a>\n",
       "        <span id=\"4480d12a-1fdc-416e-aa7c-33addcc31c2c\">Loading BokehJS ...</span>\n",
       "    </div>"
      ]
     },
     "metadata": {},
     "output_type": "display_data"
    },
    {
     "data": {
      "application/javascript": [
       "\n",
       "(function(root) {\n",
       "  function now() {\n",
       "    return new Date();\n",
       "  }\n",
       "\n",
       "  var force = true;\n",
       "\n",
       "  if (typeof (root._bokeh_onload_callbacks) === \"undefined\" || force === true) {\n",
       "    root._bokeh_onload_callbacks = [];\n",
       "    root._bokeh_is_loading = undefined;\n",
       "  }\n",
       "\n",
       "  var JS_MIME_TYPE = 'application/javascript';\n",
       "  var HTML_MIME_TYPE = 'text/html';\n",
       "  var EXEC_MIME_TYPE = 'application/vnd.bokehjs_exec.v0+json';\n",
       "  var CLASS_NAME = 'output_bokeh rendered_html';\n",
       "\n",
       "  /**\n",
       "   * Render data to the DOM node\n",
       "   */\n",
       "  function render(props, node) {\n",
       "    var script = document.createElement(\"script\");\n",
       "    node.appendChild(script);\n",
       "  }\n",
       "\n",
       "  /**\n",
       "   * Handle when an output is cleared or removed\n",
       "   */\n",
       "  function handleClearOutput(event, handle) {\n",
       "    var cell = handle.cell;\n",
       "\n",
       "    var id = cell.output_area._bokeh_element_id;\n",
       "    var server_id = cell.output_area._bokeh_server_id;\n",
       "    // Clean up Bokeh references\n",
       "    if (id !== undefined) {\n",
       "      Bokeh.index[id].model.document.clear();\n",
       "      delete Bokeh.index[id];\n",
       "    }\n",
       "\n",
       "    if (server_id !== undefined) {\n",
       "      // Clean up Bokeh references\n",
       "      var cmd = \"from bokeh.io.state import curstate; print(curstate().uuid_to_server['\" + server_id + \"'].get_sessions()[0].document.roots[0]._id)\";\n",
       "      cell.notebook.kernel.execute(cmd, {\n",
       "        iopub: {\n",
       "          output: function(msg) {\n",
       "            var element_id = msg.content.text.trim();\n",
       "            Bokeh.index[element_id].model.document.clear();\n",
       "            delete Bokeh.index[element_id];\n",
       "          }\n",
       "        }\n",
       "      });\n",
       "      // Destroy server and session\n",
       "      var cmd = \"import bokeh.io.notebook as ion; ion.destroy_server('\" + server_id + \"')\";\n",
       "      cell.notebook.kernel.execute(cmd);\n",
       "    }\n",
       "  }\n",
       "\n",
       "  /**\n",
       "   * Handle when a new output is added\n",
       "   */\n",
       "  function handleAddOutput(event, handle) {\n",
       "    var output_area = handle.output_area;\n",
       "    var output = handle.output;\n",
       "\n",
       "    // limit handleAddOutput to display_data with EXEC_MIME_TYPE content only\n",
       "    if ((output.output_type != \"display_data\") || (!output.data.hasOwnProperty(EXEC_MIME_TYPE))) {\n",
       "      return\n",
       "    }\n",
       "\n",
       "    var toinsert = output_area.element.find(\".\" + CLASS_NAME.split(' ')[0]);\n",
       "\n",
       "    if (output.metadata[EXEC_MIME_TYPE][\"id\"] !== undefined) {\n",
       "      toinsert[0].firstChild.textContent = output.data[JS_MIME_TYPE];\n",
       "      // store reference to embed id on output_area\n",
       "      output_area._bokeh_element_id = output.metadata[EXEC_MIME_TYPE][\"id\"];\n",
       "    }\n",
       "    if (output.metadata[EXEC_MIME_TYPE][\"server_id\"] !== undefined) {\n",
       "      var bk_div = document.createElement(\"div\");\n",
       "      bk_div.innerHTML = output.data[HTML_MIME_TYPE];\n",
       "      var script_attrs = bk_div.children[0].attributes;\n",
       "      for (var i = 0; i < script_attrs.length; i++) {\n",
       "        toinsert[0].firstChild.setAttribute(script_attrs[i].name, script_attrs[i].value);\n",
       "      }\n",
       "      // store reference to server id on output_area\n",
       "      output_area._bokeh_server_id = output.metadata[EXEC_MIME_TYPE][\"server_id\"];\n",
       "    }\n",
       "  }\n",
       "\n",
       "  function register_renderer(events, OutputArea) {\n",
       "\n",
       "    function append_mime(data, metadata, element) {\n",
       "      // create a DOM node to render to\n",
       "      var toinsert = this.create_output_subarea(\n",
       "        metadata,\n",
       "        CLASS_NAME,\n",
       "        EXEC_MIME_TYPE\n",
       "      );\n",
       "      this.keyboard_manager.register_events(toinsert);\n",
       "      // Render to node\n",
       "      var props = {data: data, metadata: metadata[EXEC_MIME_TYPE]};\n",
       "      render(props, toinsert[0]);\n",
       "      element.append(toinsert);\n",
       "      return toinsert\n",
       "    }\n",
       "\n",
       "    /* Handle when an output is cleared or removed */\n",
       "    events.on('clear_output.CodeCell', handleClearOutput);\n",
       "    events.on('delete.Cell', handleClearOutput);\n",
       "\n",
       "    /* Handle when a new output is added */\n",
       "    events.on('output_added.OutputArea', handleAddOutput);\n",
       "\n",
       "    /**\n",
       "     * Register the mime type and append_mime function with output_area\n",
       "     */\n",
       "    OutputArea.prototype.register_mime_type(EXEC_MIME_TYPE, append_mime, {\n",
       "      /* Is output safe? */\n",
       "      safe: true,\n",
       "      /* Index of renderer in `output_area.display_order` */\n",
       "      index: 0\n",
       "    });\n",
       "  }\n",
       "\n",
       "  // register the mime type if in Jupyter Notebook environment and previously unregistered\n",
       "  if (root.Jupyter !== undefined) {\n",
       "    var events = require('base/js/events');\n",
       "    var OutputArea = require('notebook/js/outputarea').OutputArea;\n",
       "\n",
       "    if (OutputArea.prototype.mime_types().indexOf(EXEC_MIME_TYPE) == -1) {\n",
       "      register_renderer(events, OutputArea);\n",
       "    }\n",
       "  }\n",
       "\n",
       "  \n",
       "  if (typeof (root._bokeh_timeout) === \"undefined\" || force === true) {\n",
       "    root._bokeh_timeout = Date.now() + 5000;\n",
       "    root._bokeh_failed_load = false;\n",
       "  }\n",
       "\n",
       "  var NB_LOAD_WARNING = {'data': {'text/html':\n",
       "     \"<div style='background-color: #fdd'>\\n\"+\n",
       "     \"<p>\\n\"+\n",
       "     \"BokehJS does not appear to have successfully loaded. If loading BokehJS from CDN, this \\n\"+\n",
       "     \"may be due to a slow or bad network connection. Possible fixes:\\n\"+\n",
       "     \"</p>\\n\"+\n",
       "     \"<ul>\\n\"+\n",
       "     \"<li>re-rerun `output_notebook()` to attempt to load from CDN again, or</li>\\n\"+\n",
       "     \"<li>use INLINE resources instead, as so:</li>\\n\"+\n",
       "     \"</ul>\\n\"+\n",
       "     \"<code>\\n\"+\n",
       "     \"from bokeh.resources import INLINE\\n\"+\n",
       "     \"output_notebook(resources=INLINE)\\n\"+\n",
       "     \"</code>\\n\"+\n",
       "     \"</div>\"}};\n",
       "\n",
       "  function display_loaded() {\n",
       "    var el = document.getElementById(\"4480d12a-1fdc-416e-aa7c-33addcc31c2c\");\n",
       "    if (el != null) {\n",
       "      el.textContent = \"BokehJS is loading...\";\n",
       "    }\n",
       "    if (root.Bokeh !== undefined) {\n",
       "      if (el != null) {\n",
       "        el.textContent = \"BokehJS \" + root.Bokeh.version + \" successfully loaded.\";\n",
       "      }\n",
       "    } else if (Date.now() < root._bokeh_timeout) {\n",
       "      setTimeout(display_loaded, 100)\n",
       "    }\n",
       "  }\n",
       "\n",
       "\n",
       "  function run_callbacks() {\n",
       "    try {\n",
       "      root._bokeh_onload_callbacks.forEach(function(callback) { callback() });\n",
       "    }\n",
       "    finally {\n",
       "      delete root._bokeh_onload_callbacks\n",
       "    }\n",
       "    console.info(\"Bokeh: all callbacks have finished\");\n",
       "  }\n",
       "\n",
       "  function load_libs(js_urls, callback) {\n",
       "    root._bokeh_onload_callbacks.push(callback);\n",
       "    if (root._bokeh_is_loading > 0) {\n",
       "      console.log(\"Bokeh: BokehJS is being loaded, scheduling callback at\", now());\n",
       "      return null;\n",
       "    }\n",
       "    if (js_urls == null || js_urls.length === 0) {\n",
       "      run_callbacks();\n",
       "      return null;\n",
       "    }\n",
       "    console.log(\"Bokeh: BokehJS not loaded, scheduling load and callback at\", now());\n",
       "    root._bokeh_is_loading = js_urls.length;\n",
       "    for (var i = 0; i < js_urls.length; i++) {\n",
       "      var url = js_urls[i];\n",
       "      var s = document.createElement('script');\n",
       "      s.src = url;\n",
       "      s.async = false;\n",
       "      s.onreadystatechange = s.onload = function() {\n",
       "        root._bokeh_is_loading--;\n",
       "        if (root._bokeh_is_loading === 0) {\n",
       "          console.log(\"Bokeh: all BokehJS libraries loaded\");\n",
       "          run_callbacks()\n",
       "        }\n",
       "      };\n",
       "      s.onerror = function() {\n",
       "        console.warn(\"failed to load library \" + url);\n",
       "      };\n",
       "      console.log(\"Bokeh: injecting script tag for BokehJS library: \", url);\n",
       "      document.getElementsByTagName(\"head\")[0].appendChild(s);\n",
       "    }\n",
       "  };var element = document.getElementById(\"4480d12a-1fdc-416e-aa7c-33addcc31c2c\");\n",
       "  if (element == null) {\n",
       "    console.log(\"Bokeh: ERROR: autoload.js configured with elementid '4480d12a-1fdc-416e-aa7c-33addcc31c2c' but no matching script tag was found. \")\n",
       "    return false;\n",
       "  }\n",
       "\n",
       "  var js_urls = [\"https://cdn.pydata.org/bokeh/release/bokeh-0.12.13.min.js\", \"https://cdn.pydata.org/bokeh/release/bokeh-widgets-0.12.13.min.js\", \"https://cdn.pydata.org/bokeh/release/bokeh-tables-0.12.13.min.js\", \"https://cdn.pydata.org/bokeh/release/bokeh-gl-0.12.13.min.js\"];\n",
       "\n",
       "  var inline_js = [\n",
       "    function(Bokeh) {\n",
       "      Bokeh.set_log_level(\"info\");\n",
       "    },\n",
       "    \n",
       "    function(Bokeh) {\n",
       "      \n",
       "    },\n",
       "    function(Bokeh) {\n",
       "      console.log(\"Bokeh: injecting CSS: https://cdn.pydata.org/bokeh/release/bokeh-0.12.13.min.css\");\n",
       "      Bokeh.embed.inject_css(\"https://cdn.pydata.org/bokeh/release/bokeh-0.12.13.min.css\");\n",
       "      console.log(\"Bokeh: injecting CSS: https://cdn.pydata.org/bokeh/release/bokeh-widgets-0.12.13.min.css\");\n",
       "      Bokeh.embed.inject_css(\"https://cdn.pydata.org/bokeh/release/bokeh-widgets-0.12.13.min.css\");\n",
       "      console.log(\"Bokeh: injecting CSS: https://cdn.pydata.org/bokeh/release/bokeh-tables-0.12.13.min.css\");\n",
       "      Bokeh.embed.inject_css(\"https://cdn.pydata.org/bokeh/release/bokeh-tables-0.12.13.min.css\");\n",
       "    }\n",
       "  ];\n",
       "\n",
       "  function run_inline_js() {\n",
       "    \n",
       "    if ((root.Bokeh !== undefined) || (force === true)) {\n",
       "      for (var i = 0; i < inline_js.length; i++) {\n",
       "        inline_js[i].call(root, root.Bokeh);\n",
       "      }if (force === true) {\n",
       "        display_loaded();\n",
       "      }} else if (Date.now() < root._bokeh_timeout) {\n",
       "      setTimeout(run_inline_js, 100);\n",
       "    } else if (!root._bokeh_failed_load) {\n",
       "      console.log(\"Bokeh: BokehJS failed to load within specified timeout.\");\n",
       "      root._bokeh_failed_load = true;\n",
       "    } else if (force !== true) {\n",
       "      var cell = $(document.getElementById(\"4480d12a-1fdc-416e-aa7c-33addcc31c2c\")).parents('.cell').data().cell;\n",
       "      cell.output_area.append_execute_result(NB_LOAD_WARNING)\n",
       "    }\n",
       "\n",
       "  }\n",
       "\n",
       "  if (root._bokeh_is_loading === 0) {\n",
       "    console.log(\"Bokeh: BokehJS loaded, going straight to plotting\");\n",
       "    run_inline_js();\n",
       "  } else {\n",
       "    load_libs(js_urls, function() {\n",
       "      console.log(\"Bokeh: BokehJS plotting callback run at\", now());\n",
       "      run_inline_js();\n",
       "    });\n",
       "  }\n",
       "}(window));"
      ],
      "application/vnd.bokehjs_load.v0+json": "\n(function(root) {\n  function now() {\n    return new Date();\n  }\n\n  var force = true;\n\n  if (typeof (root._bokeh_onload_callbacks) === \"undefined\" || force === true) {\n    root._bokeh_onload_callbacks = [];\n    root._bokeh_is_loading = undefined;\n  }\n\n  \n\n  \n  if (typeof (root._bokeh_timeout) === \"undefined\" || force === true) {\n    root._bokeh_timeout = Date.now() + 5000;\n    root._bokeh_failed_load = false;\n  }\n\n  var NB_LOAD_WARNING = {'data': {'text/html':\n     \"<div style='background-color: #fdd'>\\n\"+\n     \"<p>\\n\"+\n     \"BokehJS does not appear to have successfully loaded. If loading BokehJS from CDN, this \\n\"+\n     \"may be due to a slow or bad network connection. Possible fixes:\\n\"+\n     \"</p>\\n\"+\n     \"<ul>\\n\"+\n     \"<li>re-rerun `output_notebook()` to attempt to load from CDN again, or</li>\\n\"+\n     \"<li>use INLINE resources instead, as so:</li>\\n\"+\n     \"</ul>\\n\"+\n     \"<code>\\n\"+\n     \"from bokeh.resources import INLINE\\n\"+\n     \"output_notebook(resources=INLINE)\\n\"+\n     \"</code>\\n\"+\n     \"</div>\"}};\n\n  function display_loaded() {\n    var el = document.getElementById(\"4480d12a-1fdc-416e-aa7c-33addcc31c2c\");\n    if (el != null) {\n      el.textContent = \"BokehJS is loading...\";\n    }\n    if (root.Bokeh !== undefined) {\n      if (el != null) {\n        el.textContent = \"BokehJS \" + root.Bokeh.version + \" successfully loaded.\";\n      }\n    } else if (Date.now() < root._bokeh_timeout) {\n      setTimeout(display_loaded, 100)\n    }\n  }\n\n\n  function run_callbacks() {\n    try {\n      root._bokeh_onload_callbacks.forEach(function(callback) { callback() });\n    }\n    finally {\n      delete root._bokeh_onload_callbacks\n    }\n    console.info(\"Bokeh: all callbacks have finished\");\n  }\n\n  function load_libs(js_urls, callback) {\n    root._bokeh_onload_callbacks.push(callback);\n    if (root._bokeh_is_loading > 0) {\n      console.log(\"Bokeh: BokehJS is being loaded, scheduling callback at\", now());\n      return null;\n    }\n    if (js_urls == null || js_urls.length === 0) {\n      run_callbacks();\n      return null;\n    }\n    console.log(\"Bokeh: BokehJS not loaded, scheduling load and callback at\", now());\n    root._bokeh_is_loading = js_urls.length;\n    for (var i = 0; i < js_urls.length; i++) {\n      var url = js_urls[i];\n      var s = document.createElement('script');\n      s.src = url;\n      s.async = false;\n      s.onreadystatechange = s.onload = function() {\n        root._bokeh_is_loading--;\n        if (root._bokeh_is_loading === 0) {\n          console.log(\"Bokeh: all BokehJS libraries loaded\");\n          run_callbacks()\n        }\n      };\n      s.onerror = function() {\n        console.warn(\"failed to load library \" + url);\n      };\n      console.log(\"Bokeh: injecting script tag for BokehJS library: \", url);\n      document.getElementsByTagName(\"head\")[0].appendChild(s);\n    }\n  };var element = document.getElementById(\"4480d12a-1fdc-416e-aa7c-33addcc31c2c\");\n  if (element == null) {\n    console.log(\"Bokeh: ERROR: autoload.js configured with elementid '4480d12a-1fdc-416e-aa7c-33addcc31c2c' but no matching script tag was found. \")\n    return false;\n  }\n\n  var js_urls = [\"https://cdn.pydata.org/bokeh/release/bokeh-0.12.13.min.js\", \"https://cdn.pydata.org/bokeh/release/bokeh-widgets-0.12.13.min.js\", \"https://cdn.pydata.org/bokeh/release/bokeh-tables-0.12.13.min.js\", \"https://cdn.pydata.org/bokeh/release/bokeh-gl-0.12.13.min.js\"];\n\n  var inline_js = [\n    function(Bokeh) {\n      Bokeh.set_log_level(\"info\");\n    },\n    \n    function(Bokeh) {\n      \n    },\n    function(Bokeh) {\n      console.log(\"Bokeh: injecting CSS: https://cdn.pydata.org/bokeh/release/bokeh-0.12.13.min.css\");\n      Bokeh.embed.inject_css(\"https://cdn.pydata.org/bokeh/release/bokeh-0.12.13.min.css\");\n      console.log(\"Bokeh: injecting CSS: https://cdn.pydata.org/bokeh/release/bokeh-widgets-0.12.13.min.css\");\n      Bokeh.embed.inject_css(\"https://cdn.pydata.org/bokeh/release/bokeh-widgets-0.12.13.min.css\");\n      console.log(\"Bokeh: injecting CSS: https://cdn.pydata.org/bokeh/release/bokeh-tables-0.12.13.min.css\");\n      Bokeh.embed.inject_css(\"https://cdn.pydata.org/bokeh/release/bokeh-tables-0.12.13.min.css\");\n    }\n  ];\n\n  function run_inline_js() {\n    \n    if ((root.Bokeh !== undefined) || (force === true)) {\n      for (var i = 0; i < inline_js.length; i++) {\n        inline_js[i].call(root, root.Bokeh);\n      }if (force === true) {\n        display_loaded();\n      }} else if (Date.now() < root._bokeh_timeout) {\n      setTimeout(run_inline_js, 100);\n    } else if (!root._bokeh_failed_load) {\n      console.log(\"Bokeh: BokehJS failed to load within specified timeout.\");\n      root._bokeh_failed_load = true;\n    } else if (force !== true) {\n      var cell = $(document.getElementById(\"4480d12a-1fdc-416e-aa7c-33addcc31c2c\")).parents('.cell').data().cell;\n      cell.output_area.append_execute_result(NB_LOAD_WARNING)\n    }\n\n  }\n\n  if (root._bokeh_is_loading === 0) {\n    console.log(\"Bokeh: BokehJS loaded, going straight to plotting\");\n    run_inline_js();\n  } else {\n    load_libs(js_urls, function() {\n      console.log(\"Bokeh: BokehJS plotting callback run at\", now());\n      run_inline_js();\n    });\n  }\n}(window));"
     },
     "metadata": {},
     "output_type": "display_data"
    }
   ],
   "source": [
    "from jupyter_graphs import create_graphs\n",
    "from bokeh.plotting import show\n",
    "from bokeh.io import output_notebook\n",
    "from IPython.display import Markdown, display\n",
    "from IPython.core.interactiveshell import InteractiveShell\n",
    "InteractiveShell.ast_node_interactivity = \"all\"\n",
    "output_notebook()\n",
    "plots, min_error, mean_error = create_graphs(sim_num=4100, linear=True)"
   ]
  },
  {
   "cell_type": "markdown",
   "metadata": {},
   "source": [
    "<h3 style=\"text-align: left;\" markdown=\"1\">Parameters</h3>\n",
    "\n",
    "      sim_num: 4100\n",
    "      epochs: 30\n",
    "      batch_size: 128\n",
    "      learning_rate: 0.01 * sqrt(batch_size / 128) / sqrt(workers_num)\n",
    "      gradient_clipping: false\n",
    "      momentum: 0.9\n",
    "      weight_decay: 0.0005\n",
    "      nesterov: false\n",
    "      droprate: 0\n",
    "      augment: true"
   ]
  },
  {
   "cell_type": "code",
   "execution_count": 2,
   "metadata": {},
   "outputs": [
    {
     "data": {
      "text/markdown": [
       "<strong>min error - 47.192% , mean error - 47.263%<strong>"
      ],
      "text/plain": [
       "<IPython.core.display.Markdown object>"
      ]
     },
     "metadata": {},
     "output_type": "display_data"
    },
    {
     "data": {
      "text/html": [
       "\n",
       "<div class=\"bk-root\">\n",
       "    <div class=\"bk-plotdiv\" id=\"0c7d5a07-ffb6-4a9a-9c6d-767f6b5f5ae6\"></div>\n",
       "</div>"
      ]
     },
     "metadata": {},
     "output_type": "display_data"
    },
    {
     "data": {
      "application/javascript": [
       "(function(root) {\n",
       "  function embed_document(root) {\n",
       "    \n",
       "  var docs_json = {\"4a9ca7cc-96b4-45ca-9569-daec08a4131c\":{\"roots\":{\"references\":[{\"attributes\":{\"bottom_units\":\"screen\",\"fill_alpha\":{\"value\":0.5},\"fill_color\":{\"value\":\"lightgrey\"},\"left_units\":\"screen\",\"level\":\"overlay\",\"line_alpha\":{\"value\":1.0},\"line_color\":{\"value\":\"black\"},\"line_dash\":[4,4],\"line_width\":{\"value\":2},\"plot\":null,\"render_mode\":\"css\",\"right_units\":\"screen\",\"top_units\":\"screen\"},\"id\":\"34026377-c591-424c-b08f-0cb6bd0581d7\",\"type\":\"BoxAnnotation\"},{\"attributes\":{\"line_alpha\":0.1,\"line_color\":\"#1f77b4\",\"line_width\":3,\"x\":{\"field\":\"x\"},\"y\":{\"field\":\"y\"}},\"id\":\"53ebc27a-3a8f-4e77-a862-153f33ea50ab\",\"type\":\"Line\"},{\"attributes\":{},\"id\":\"7a743c15-a37e-4d65-b8cc-6427f76aac6d\",\"type\":\"PanTool\"},{\"attributes\":{},\"id\":\"d9ecbfaa-c0de-45d1-ac8a-e02ef130199f\",\"type\":\"WheelZoomTool\"},{\"attributes\":{\"overlay\":{\"id\":\"34026377-c591-424c-b08f-0cb6bd0581d7\",\"type\":\"BoxAnnotation\"}},\"id\":\"6bf1f1e7-ff9a-45fb-91ac-81a9c7806202\",\"type\":\"BoxZoomTool\"},{\"attributes\":{},\"id\":\"a410cee1-a3a4-4733-922a-32d182490346\",\"type\":\"SaveTool\"},{\"attributes\":{},\"id\":\"eb3f3b86-cf66-46e9-bb77-69bd3d230da2\",\"type\":\"ResetTool\"},{\"attributes\":{},\"id\":\"f85df148-9c0d-4837-94de-e87b3e19d8a9\",\"type\":\"HelpTool\"},{\"attributes\":{\"callback\":null,\"column_names\":[\"x\",\"y\"],\"data\":{\"x\":{\"__ndarray__\":\"AQAAAAIAAAADAAAABAAAAAUAAAAGAAAABwAAAAgAAAAJAAAACgAAAAsAAAAMAAAADQAAAA4AAAAPAAAAEAAAABEAAAASAAAAEwAAABQAAAAVAAAAFgAAABcAAAAYAAAAGQAAABoAAAAbAAAAHAAAAB0AAAAeAAAA\",\"dtype\":\"int32\",\"shape\":[30]},\"y\":[4.4553969737243655,3.932081108932495,3.6911760932159425,3.26448934173584,3.1603637397766113,3.1009634320068358,2.9310263819122313,2.991164691390991,2.979735188522339,2.9288280963897706,2.329642933883667,2.2868436743164064,2.261754577293396,2.237664897651672,2.2462712997436522,2.1405709214019777,2.1251903604507447,2.1235512525177,2.1062605595397947,2.102334326438904,2.0907629177856446,2.0814302140045164,2.08779582195282,2.0754889265060426,2.0777002698898315,2.0709473401641847,2.0744556564712524,2.0715898860931397,2.0722879110336305,2.0723112624740603]}},\"id\":\"c497574f-1c6a-4c04-ba27-aa8a3507616f\",\"type\":\"ColumnDataSource\"},{\"attributes\":{\"data_source\":{\"id\":\"c497574f-1c6a-4c04-ba27-aa8a3507616f\",\"type\":\"ColumnDataSource\"},\"glyph\":{\"id\":\"5837c5ce-4c55-4818-af9d-bb00d6b369eb\",\"type\":\"Line\"},\"hover_glyph\":null,\"muted_glyph\":null,\"nonselection_glyph\":{\"id\":\"74122ae1-544b-44bb-ad2e-0b9ac8a06da9\",\"type\":\"Line\"},\"selection_glyph\":null,\"view\":{\"id\":\"712324e2-42ae-4883-b568-8a5c98abce44\",\"type\":\"CDSView\"}},\"id\":\"ca6003fe-793c-46ba-8336-036d3734c5c5\",\"type\":\"GlyphRenderer\"},{\"attributes\":{\"data_source\":{\"id\":\"db43631c-5e9c-4466-8fd5-b611581c1469\",\"type\":\"ColumnDataSource\"},\"glyph\":{\"id\":\"c38c15cc-e702-4a52-9b25-86c6bed728ce\",\"type\":\"Line\"},\"hover_glyph\":null,\"muted_glyph\":null,\"nonselection_glyph\":{\"id\":\"53ebc27a-3a8f-4e77-a862-153f33ea50ab\",\"type\":\"Line\"},\"selection_glyph\":null,\"view\":{\"id\":\"b04890e4-d233-40fc-91d4-047cbebd562b\",\"type\":\"CDSView\"}},\"id\":\"98ae99a3-c8bc-432b-9acc-9fe1f5710a63\",\"type\":\"GlyphRenderer\"},{\"attributes\":{\"line_alpha\":0.1,\"line_color\":\"#1f77b4\",\"line_dash\":[6],\"line_width\":3,\"x\":{\"field\":\"x\"},\"y\":{\"field\":\"y\"}},\"id\":\"74122ae1-544b-44bb-ad2e-0b9ac8a06da9\",\"type\":\"Line\"},{\"attributes\":{\"line_color\":\"#1f77b4\",\"line_dash\":[6],\"line_width\":3,\"x\":{\"field\":\"x\"},\"y\":{\"field\":\"y\"}},\"id\":\"5837c5ce-4c55-4818-af9d-bb00d6b369eb\",\"type\":\"Line\"},{\"attributes\":{\"source\":{\"id\":\"c497574f-1c6a-4c04-ba27-aa8a3507616f\",\"type\":\"ColumnDataSource\"}},\"id\":\"712324e2-42ae-4883-b568-8a5c98abce44\",\"type\":\"CDSView\"},{\"attributes\":{\"click_policy\":\"hide\",\"items\":[{\"id\":\"bcd90fc9-1d03-432d-9849-8471e510c428\",\"type\":\"LegendItem\"}],\"location\":\"bottom_left\",\"plot\":{\"id\":\"4fca640d-57ed-455c-99e6-729d78281339\",\"subtype\":\"Figure\",\"type\":\"Plot\"}},\"id\":\"a8fe0ff3-aef0-443a-a726-8972a05fd4ef\",\"type\":\"Legend\"},{\"attributes\":{\"line_color\":\"#1f77b4\",\"line_width\":3,\"x\":{\"field\":\"x\"},\"y\":{\"field\":\"y\"}},\"id\":\"c38c15cc-e702-4a52-9b25-86c6bed728ce\",\"type\":\"Line\"},{\"attributes\":{\"source\":{\"id\":\"db43631c-5e9c-4466-8fd5-b611581c1469\",\"type\":\"ColumnDataSource\"}},\"id\":\"b04890e4-d233-40fc-91d4-047cbebd562b\",\"type\":\"CDSView\"},{\"attributes\":{\"background_fill_color\":{\"value\":\"#fafafa\"},\"below\":[{\"id\":\"50089431-c40d-4877-bc95-b54c7db959fc\",\"type\":\"LinearAxis\"}],\"left\":[{\"id\":\"3a9c80e7-133e-41c9-b7e2-1d8ffadc3e3f\",\"type\":\"LogAxis\"}],\"min_border\":10,\"min_border_left\":50,\"renderers\":[{\"id\":\"50089431-c40d-4877-bc95-b54c7db959fc\",\"type\":\"LinearAxis\"},{\"id\":\"b677fc08-3f7e-4f31-8637-c12d56160489\",\"type\":\"Grid\"},{\"id\":\"3a9c80e7-133e-41c9-b7e2-1d8ffadc3e3f\",\"type\":\"LogAxis\"},{\"id\":\"433536c1-9379-4905-9318-baa0bf7b8a01\",\"type\":\"Grid\"},{\"id\":\"34026377-c591-424c-b08f-0cb6bd0581d7\",\"type\":\"BoxAnnotation\"},{\"id\":\"a8fe0ff3-aef0-443a-a726-8972a05fd4ef\",\"type\":\"Legend\"},{\"id\":\"98ae99a3-c8bc-432b-9acc-9fe1f5710a63\",\"type\":\"GlyphRenderer\"},{\"id\":\"ca6003fe-793c-46ba-8336-036d3734c5c5\",\"type\":\"GlyphRenderer\"}],\"title\":{\"id\":\"6a6bb431-8e68-4419-83d0-7863ce7c4723\",\"type\":\"Title\"},\"toolbar\":{\"id\":\"16627aa8-0297-4c65-b7db-f894d4f68533\",\"type\":\"Toolbar\"},\"x_range\":{\"id\":\"e4bbfe48-1e64-4da3-a625-5bea27e6987c\",\"type\":\"DataRange1d\"},\"x_scale\":{\"id\":\"5602e2c4-6fef-4652-a537-212cc4890b3b\",\"type\":\"LinearScale\"},\"y_range\":{\"id\":\"87d0f003-3d48-46ff-ad81-52a118c4084d\",\"type\":\"DataRange1d\"},\"y_scale\":{\"id\":\"e0790329-a56a-4221-8055-922c0f2eef93\",\"type\":\"LogScale\"}},\"id\":\"4fca640d-57ed-455c-99e6-729d78281339\",\"subtype\":\"Figure\",\"type\":\"Plot\"},{\"attributes\":{},\"id\":\"d6a4c20c-2268-4ade-9af1-08e6fbb5e331\",\"type\":\"BasicTickFormatter\"},{\"attributes\":{\"ticker\":null},\"id\":\"14846ae1-3f75-490f-8e69-9f92672a8460\",\"type\":\"LogTickFormatter\"},{\"attributes\":{\"callback\":null},\"id\":\"e4bbfe48-1e64-4da3-a625-5bea27e6987c\",\"type\":\"DataRange1d\"},{\"attributes\":{\"callback\":null,\"column_names\":[\"x\",\"y\"],\"data\":{\"x\":{\"__ndarray__\":\"AQAAAAIAAAADAAAABAAAAAUAAAAGAAAABwAAAAgAAAAJAAAACgAAAAsAAAAMAAAADQAAAA4AAAAPAAAAEAAAABEAAAASAAAAEwAAABQAAAAVAAAAFgAAABcAAAAYAAAAGQAAABoAAAAbAAAAHAAAAB0AAAAeAAAA\",\"dtype\":\"int32\",\"shape\":[30]},\"y\":[5.317649620798108,4.162848152328958,3.6733799017384743,3.3956137803270825,3.212139526341155,3.0866066697285732,2.997180646886575,2.9273045277615934,2.8726707146056243,2.827837101889043,2.480908575306435,2.391369749243479,2.352751614110994,2.3253459008654915,2.302972704802554,2.1954177897517932,2.1691496071022804,2.154942413502676,2.143094448092787,2.129968182282154,2.1056005777863,2.0997445694066217,2.0966312239356646,2.0928730506818933,2.0891227504718,2.0839078417497388,2.082255827136978,2.0831831273963535,2.0819924737466824,2.0809763889188315]}},\"id\":\"db43631c-5e9c-4466-8fd5-b611581c1469\",\"type\":\"ColumnDataSource\"},{\"attributes\":{\"active_drag\":\"auto\",\"active_inspect\":\"auto\",\"active_scroll\":\"auto\",\"active_tap\":\"auto\",\"tools\":[{\"id\":\"7a743c15-a37e-4d65-b8cc-6427f76aac6d\",\"type\":\"PanTool\"},{\"id\":\"d9ecbfaa-c0de-45d1-ac8a-e02ef130199f\",\"type\":\"WheelZoomTool\"},{\"id\":\"6bf1f1e7-ff9a-45fb-91ac-81a9c7806202\",\"type\":\"BoxZoomTool\"},{\"id\":\"a410cee1-a3a4-4733-922a-32d182490346\",\"type\":\"SaveTool\"},{\"id\":\"eb3f3b86-cf66-46e9-bb77-69bd3d230da2\",\"type\":\"ResetTool\"},{\"id\":\"f85df148-9c0d-4837-94de-e87b3e19d8a9\",\"type\":\"HelpTool\"}]},\"id\":\"16627aa8-0297-4c65-b7db-f894d4f68533\",\"type\":\"Toolbar\"},{\"attributes\":{\"label\":{\"value\":\"asynchronous_128_5\"},\"renderers\":[{\"id\":\"98ae99a3-c8bc-432b-9acc-9fe1f5710a63\",\"type\":\"GlyphRenderer\"},{\"id\":\"ca6003fe-793c-46ba-8336-036d3734c5c5\",\"type\":\"GlyphRenderer\"}]},\"id\":\"bcd90fc9-1d03-432d-9849-8471e510c428\",\"type\":\"LegendItem\"},{\"attributes\":{\"axis_label\":\"t [Epochs]\",\"formatter\":{\"id\":\"d6a4c20c-2268-4ade-9af1-08e6fbb5e331\",\"type\":\"BasicTickFormatter\"},\"plot\":{\"id\":\"4fca640d-57ed-455c-99e6-729d78281339\",\"subtype\":\"Figure\",\"type\":\"Plot\"},\"ticker\":{\"id\":\"34ef0914-a9c7-4b1f-b1bf-ead5f042e5d2\",\"type\":\"BasicTicker\"}},\"id\":\"50089431-c40d-4877-bc95-b54c7db959fc\",\"type\":\"LinearAxis\"},{\"attributes\":{\"plot\":null,\"text\":\"Training & Test Loss\"},\"id\":\"6a6bb431-8e68-4419-83d0-7863ce7c4723\",\"type\":\"Title\"},{\"attributes\":{},\"id\":\"5602e2c4-6fef-4652-a537-212cc4890b3b\",\"type\":\"LinearScale\"},{\"attributes\":{},\"id\":\"34ef0914-a9c7-4b1f-b1bf-ead5f042e5d2\",\"type\":\"BasicTicker\"},{\"attributes\":{\"dimension\":1,\"plot\":{\"id\":\"4fca640d-57ed-455c-99e6-729d78281339\",\"subtype\":\"Figure\",\"type\":\"Plot\"},\"ticker\":{\"id\":\"470a45cc-bee8-4aa5-ab06-ee9c96226307\",\"type\":\"LogTicker\"}},\"id\":\"433536c1-9379-4905-9318-baa0bf7b8a01\",\"type\":\"Grid\"},{\"attributes\":{\"callback\":null},\"id\":\"87d0f003-3d48-46ff-ad81-52a118c4084d\",\"type\":\"DataRange1d\"},{\"attributes\":{\"num_minor_ticks\":10},\"id\":\"470a45cc-bee8-4aa5-ab06-ee9c96226307\",\"type\":\"LogTicker\"},{\"attributes\":{\"plot\":{\"id\":\"4fca640d-57ed-455c-99e6-729d78281339\",\"subtype\":\"Figure\",\"type\":\"Plot\"},\"ticker\":{\"id\":\"34ef0914-a9c7-4b1f-b1bf-ead5f042e5d2\",\"type\":\"BasicTicker\"}},\"id\":\"b677fc08-3f7e-4f31-8637-c12d56160489\",\"type\":\"Grid\"},{\"attributes\":{},\"id\":\"e0790329-a56a-4221-8055-922c0f2eef93\",\"type\":\"LogScale\"},{\"attributes\":{\"axis_label\":\"L(w(t))\",\"formatter\":{\"id\":\"14846ae1-3f75-490f-8e69-9f92672a8460\",\"type\":\"LogTickFormatter\"},\"plot\":{\"id\":\"4fca640d-57ed-455c-99e6-729d78281339\",\"subtype\":\"Figure\",\"type\":\"Plot\"},\"ticker\":{\"id\":\"470a45cc-bee8-4aa5-ab06-ee9c96226307\",\"type\":\"LogTicker\"}},\"id\":\"3a9c80e7-133e-41c9-b7e2-1d8ffadc3e3f\",\"type\":\"LogAxis\"}],\"root_ids\":[\"4fca640d-57ed-455c-99e6-729d78281339\"]},\"title\":\"Bokeh Application\",\"version\":\"0.12.13\"}};\n",
       "  var render_items = [{\"docid\":\"4a9ca7cc-96b4-45ca-9569-daec08a4131c\",\"elementid\":\"0c7d5a07-ffb6-4a9a-9c6d-767f6b5f5ae6\",\"modelid\":\"4fca640d-57ed-455c-99e6-729d78281339\"}];\n",
       "  root.Bokeh.embed.embed_items_notebook(docs_json, render_items);\n",
       "\n",
       "  }\n",
       "  if (root.Bokeh !== undefined) {\n",
       "    embed_document(root);\n",
       "  } else {\n",
       "    var attempts = 0;\n",
       "    var timer = setInterval(function(root) {\n",
       "      if (root.Bokeh !== undefined) {\n",
       "        embed_document(root);\n",
       "        clearInterval(timer);\n",
       "      }\n",
       "      attempts++;\n",
       "      if (attempts > 100) {\n",
       "        console.log(\"Bokeh: ERROR: Unable to run BokehJS code because BokehJS library is missing\")\n",
       "        clearInterval(timer);\n",
       "      }\n",
       "    }, 10, root)\n",
       "  }\n",
       "})(window);"
      ],
      "application/vnd.bokehjs_exec.v0+json": ""
     },
     "metadata": {
      "application/vnd.bokehjs_exec.v0+json": {
       "id": "4fca640d-57ed-455c-99e6-729d78281339"
      }
     },
     "output_type": "display_data"
    }
   ],
   "source": [
    "display(Markdown('<strong>min error - {0:.3f}% , mean error - {1:.3f}%<strong>'.format(min_error,mean_error)))\n",
    "show(plots[0])"
   ]
  },
  {
   "cell_type": "code",
   "execution_count": 3,
   "metadata": {},
   "outputs": [
    {
     "data": {
      "text/html": [
       "\n",
       "<div class=\"bk-root\">\n",
       "    <div class=\"bk-plotdiv\" id=\"67a1c006-3410-4e91-8b75-089b5869ae0c\"></div>\n",
       "</div>"
      ]
     },
     "metadata": {},
     "output_type": "display_data"
    },
    {
     "data": {
      "application/javascript": [
       "(function(root) {\n",
       "  function embed_document(root) {\n",
       "    \n",
       "  var docs_json = {\"eb042c8f-5ce3-40bd-9a42-dae50d9f6b3a\":{\"roots\":{\"references\":[{\"attributes\":{\"plot\":null,\"text\":\"Training & Test Error\"},\"id\":\"d72d3af0-6476-4f10-8c8a-2a7f3013ce17\",\"type\":\"Title\"},{\"attributes\":{\"callback\":null,\"column_names\":[\"x\",\"y\"],\"data\":{\"x\":{\"__ndarray__\":\"AQAAAAIAAAADAAAABAAAAAUAAAAGAAAABwAAAAgAAAAJAAAACgAAAAsAAAAMAAAADQAAAA4AAAAPAAAAEAAAABEAAAASAAAAEwAAABQAAAAVAAAAFgAAABcAAAAYAAAAGQAAABoAAAAbAAAAHAAAAB0AAAAeAAAA\",\"dtype\":\"int32\",\"shape\":[30]},\"y\":[0.8518800000427247,0.7869200000122071,0.7477599999267578,0.6846199999267578,0.668959999951172,0.6564400001098634,0.6315199999145508,0.6357799999023438,0.6350800000488281,0.6246800000854492,0.520600000012207,0.5137599999267578,0.5097200000854493,0.5059999999145508,0.5052600001098633,0.48481999992675784,0.4834200001342774,0.48250000015869143,0.47937999996337893,0.47825999992675783,0.4759599999389648,0.4753399999511718,0.47475999995117185,0.47315999997558594,0.47305999995117193,0.47259999997558594,0.4733999999145508,0.4719199999267578,0.4724800001586914,0.4727399999633789]}},\"id\":\"c3217871-6330-4ad2-80b6-f81ae5277100\",\"type\":\"ColumnDataSource\"},{\"attributes\":{\"line_color\":\"#1f77b4\",\"line_dash\":[6],\"line_width\":3,\"x\":{\"field\":\"x\"},\"y\":{\"field\":\"y\"}},\"id\":\"d2728abc-2dfb-4dd7-9ad3-a25066ecdbf0\",\"type\":\"Line\"},{\"attributes\":{\"background_fill_color\":{\"value\":\"#fafafa\"},\"below\":[{\"id\":\"3486489c-f8de-4580-9521-e9f09a13aa32\",\"type\":\"LinearAxis\"}],\"left\":[{\"id\":\"fc09a347-afed-493e-8e12-fff9317d73e9\",\"type\":\"LinearAxis\"}],\"min_border\":10,\"min_border_left\":50,\"renderers\":[{\"id\":\"3486489c-f8de-4580-9521-e9f09a13aa32\",\"type\":\"LinearAxis\"},{\"id\":\"f3a3f515-134b-475a-bf53-36baf85ebdb4\",\"type\":\"Grid\"},{\"id\":\"fc09a347-afed-493e-8e12-fff9317d73e9\",\"type\":\"LinearAxis\"},{\"id\":\"16eda07c-50f2-4965-ba3c-cbbb10dcbe0f\",\"type\":\"Grid\"},{\"id\":\"9868bcfd-21b2-4104-a864-7427f1c4cb10\",\"type\":\"BoxAnnotation\"},{\"id\":\"e6bc7f38-4621-401a-9287-130900f469c4\",\"type\":\"Legend\"},{\"id\":\"9d9d2b51-19fb-4917-b8ae-80ccfe50161f\",\"type\":\"GlyphRenderer\"},{\"id\":\"97d49324-f8f9-428e-8c7d-33686cd8c28b\",\"type\":\"GlyphRenderer\"}],\"title\":{\"id\":\"d72d3af0-6476-4f10-8c8a-2a7f3013ce17\",\"type\":\"Title\"},\"toolbar\":{\"id\":\"3f7d1046-ddf5-4b1f-ac24-fcc43702aa52\",\"type\":\"Toolbar\"},\"x_range\":{\"id\":\"0e36b06e-182e-4b3e-b825-8c10d72dc050\",\"type\":\"DataRange1d\"},\"x_scale\":{\"id\":\"0e4d36d8-612e-44e9-86a3-8a6fa6b4443c\",\"type\":\"LinearScale\"},\"y_range\":{\"id\":\"258295c9-284e-484b-a23f-d89b53cc9190\",\"type\":\"DataRange1d\"},\"y_scale\":{\"id\":\"9650d123-5dff-4077-ab90-5c384a8c4804\",\"type\":\"LinearScale\"}},\"id\":\"87cdbcc9-b9d2-4472-a3d5-0f2eb217060f\",\"subtype\":\"Figure\",\"type\":\"Plot\"},{\"attributes\":{\"data_source\":{\"id\":\"c3217871-6330-4ad2-80b6-f81ae5277100\",\"type\":\"ColumnDataSource\"},\"glyph\":{\"id\":\"d2728abc-2dfb-4dd7-9ad3-a25066ecdbf0\",\"type\":\"Line\"},\"hover_glyph\":null,\"muted_glyph\":null,\"nonselection_glyph\":{\"id\":\"b7dab9da-df9b-4786-abf0-1aa75e1b687c\",\"type\":\"Line\"},\"selection_glyph\":null,\"view\":{\"id\":\"bdf61aee-4ed1-4626-b51b-0e0e14cb5f74\",\"type\":\"CDSView\"}},\"id\":\"97d49324-f8f9-428e-8c7d-33686cd8c28b\",\"type\":\"GlyphRenderer\"},{\"attributes\":{\"source\":{\"id\":\"c3217871-6330-4ad2-80b6-f81ae5277100\",\"type\":\"ColumnDataSource\"}},\"id\":\"bdf61aee-4ed1-4626-b51b-0e0e14cb5f74\",\"type\":\"CDSView\"},{\"attributes\":{},\"id\":\"0e4d36d8-612e-44e9-86a3-8a6fa6b4443c\",\"type\":\"LinearScale\"},{\"attributes\":{\"line_alpha\":0.1,\"line_color\":\"#1f77b4\",\"line_dash\":[6],\"line_width\":3,\"x\":{\"field\":\"x\"},\"y\":{\"field\":\"y\"}},\"id\":\"b7dab9da-df9b-4786-abf0-1aa75e1b687c\",\"type\":\"Line\"},{\"attributes\":{\"active_drag\":\"auto\",\"active_inspect\":\"auto\",\"active_scroll\":\"auto\",\"active_tap\":\"auto\",\"tools\":[{\"id\":\"9461e5d7-2b83-4f2c-848e-f28075374ba1\",\"type\":\"PanTool\"},{\"id\":\"b598be47-e213-4a7f-b5ad-5f9538a643ed\",\"type\":\"WheelZoomTool\"},{\"id\":\"eb327890-c4ea-48b3-b04c-79c945891b44\",\"type\":\"BoxZoomTool\"},{\"id\":\"dfcde1c1-1014-4919-a146-9231de1e8bec\",\"type\":\"SaveTool\"},{\"id\":\"97c19101-d4d2-4249-9062-1580688ea401\",\"type\":\"ResetTool\"},{\"id\":\"84254e73-cde1-4b29-9ea8-fed8d7ecf6c5\",\"type\":\"HelpTool\"}]},\"id\":\"3f7d1046-ddf5-4b1f-ac24-fcc43702aa52\",\"type\":\"Toolbar\"},{\"attributes\":{\"callback\":null},\"id\":\"0e36b06e-182e-4b3e-b825-8c10d72dc050\",\"type\":\"DataRange1d\"},{\"attributes\":{\"callback\":null},\"id\":\"258295c9-284e-484b-a23f-d89b53cc9190\",\"type\":\"DataRange1d\"},{\"attributes\":{\"callback\":null,\"column_names\":[\"x\",\"y\"],\"data\":{\"x\":{\"__ndarray__\":\"AQAAAAIAAAADAAAABAAAAAUAAAAGAAAABwAAAAgAAAAJAAAACgAAAAsAAAAMAAAADQAAAA4AAAAPAAAAEAAAABEAAAASAAAAEwAAABQAAAAVAAAAFgAAABcAAAAYAAAAGQAAABoAAAAbAAAAHAAAAB0AAAAeAAAA\",\"dtype\":\"int32\",\"shape\":[30]},\"y\":[0.926332008239363,0.8159631023902426,0.7483122809127112,0.7061764781640675,0.6766385646836792,0.655879366234364,0.6403872406954717,0.6289476703661769,0.6191441084573674,0.6112614514735394,0.5481611686847861,0.5313452500728597,0.5244780735064203,0.5190369405395164,0.5151077103923147,0.49400975829068344,0.48898543281272583,0.48592884456139657,0.48398998725380843,0.4813150822649902,0.4767091253521948,0.47548289957545076,0.4751480486152006,0.47411149366178706,0.4738749905359723,0.472447385859923,0.47231079164572726,0.4726261291466151,0.4722694231119716,0.4719806239156139]}},\"id\":\"a8345feb-91a9-417a-801f-541c6195c79d\",\"type\":\"ColumnDataSource\"},{\"attributes\":{\"axis_label\":\"t [Epochs]\",\"formatter\":{\"id\":\"4af797df-fd4a-4e04-bd63-3defd4fd47c8\",\"type\":\"BasicTickFormatter\"},\"plot\":{\"id\":\"87cdbcc9-b9d2-4472-a3d5-0f2eb217060f\",\"subtype\":\"Figure\",\"type\":\"Plot\"},\"ticker\":{\"id\":\"e78b1b9b-ce37-4604-b705-e3156072af09\",\"type\":\"BasicTicker\"}},\"id\":\"3486489c-f8de-4580-9521-e9f09a13aa32\",\"type\":\"LinearAxis\"},{\"attributes\":{},\"id\":\"9650d123-5dff-4077-ab90-5c384a8c4804\",\"type\":\"LinearScale\"},{\"attributes\":{\"plot\":{\"id\":\"87cdbcc9-b9d2-4472-a3d5-0f2eb217060f\",\"subtype\":\"Figure\",\"type\":\"Plot\"},\"ticker\":{\"id\":\"e78b1b9b-ce37-4604-b705-e3156072af09\",\"type\":\"BasicTicker\"}},\"id\":\"f3a3f515-134b-475a-bf53-36baf85ebdb4\",\"type\":\"Grid\"},{\"attributes\":{},\"id\":\"e78b1b9b-ce37-4604-b705-e3156072af09\",\"type\":\"BasicTicker\"},{\"attributes\":{\"click_policy\":\"hide\",\"items\":[{\"id\":\"fc912631-7b38-4311-9c35-edecf4bf282e\",\"type\":\"LegendItem\"}],\"plot\":{\"id\":\"87cdbcc9-b9d2-4472-a3d5-0f2eb217060f\",\"subtype\":\"Figure\",\"type\":\"Plot\"}},\"id\":\"e6bc7f38-4621-401a-9287-130900f469c4\",\"type\":\"Legend\"},{\"attributes\":{},\"id\":\"9ba2c508-408c-4117-af78-ed8336abf5de\",\"type\":\"BasicTicker\"},{\"attributes\":{\"axis_label\":\"Error Rate\",\"formatter\":{\"id\":\"68bd1c53-f677-4cb8-8bcd-b300d4246df8\",\"type\":\"NumeralTickFormatter\"},\"plot\":{\"id\":\"87cdbcc9-b9d2-4472-a3d5-0f2eb217060f\",\"subtype\":\"Figure\",\"type\":\"Plot\"},\"ticker\":{\"id\":\"9ba2c508-408c-4117-af78-ed8336abf5de\",\"type\":\"BasicTicker\"}},\"id\":\"fc09a347-afed-493e-8e12-fff9317d73e9\",\"type\":\"LinearAxis\"},{\"attributes\":{\"line_color\":\"#1f77b4\",\"line_width\":3,\"x\":{\"field\":\"x\"},\"y\":{\"field\":\"y\"}},\"id\":\"7705434f-36b1-4c51-97f2-f6135e06b8a0\",\"type\":\"Line\"},{\"attributes\":{\"dimension\":1,\"plot\":{\"id\":\"87cdbcc9-b9d2-4472-a3d5-0f2eb217060f\",\"subtype\":\"Figure\",\"type\":\"Plot\"},\"ticker\":{\"id\":\"9ba2c508-408c-4117-af78-ed8336abf5de\",\"type\":\"BasicTicker\"}},\"id\":\"16eda07c-50f2-4965-ba3c-cbbb10dcbe0f\",\"type\":\"Grid\"},{\"attributes\":{\"line_alpha\":0.1,\"line_color\":\"#1f77b4\",\"line_width\":3,\"x\":{\"field\":\"x\"},\"y\":{\"field\":\"y\"}},\"id\":\"0d46e630-002b-4440-83ca-ef33518d0630\",\"type\":\"Line\"},{\"attributes\":{\"format\":\"0.0%\"},\"id\":\"68bd1c53-f677-4cb8-8bcd-b300d4246df8\",\"type\":\"NumeralTickFormatter\"},{\"attributes\":{\"source\":{\"id\":\"a8345feb-91a9-417a-801f-541c6195c79d\",\"type\":\"ColumnDataSource\"}},\"id\":\"bae8b5b6-0a43-4ce2-8a74-17ba50455b04\",\"type\":\"CDSView\"},{\"attributes\":{\"bottom_units\":\"screen\",\"fill_alpha\":{\"value\":0.5},\"fill_color\":{\"value\":\"lightgrey\"},\"left_units\":\"screen\",\"level\":\"overlay\",\"line_alpha\":{\"value\":1.0},\"line_color\":{\"value\":\"black\"},\"line_dash\":[4,4],\"line_width\":{\"value\":2},\"plot\":null,\"render_mode\":\"css\",\"right_units\":\"screen\",\"top_units\":\"screen\"},\"id\":\"9868bcfd-21b2-4104-a864-7427f1c4cb10\",\"type\":\"BoxAnnotation\"},{\"attributes\":{\"data_source\":{\"id\":\"a8345feb-91a9-417a-801f-541c6195c79d\",\"type\":\"ColumnDataSource\"},\"glyph\":{\"id\":\"7705434f-36b1-4c51-97f2-f6135e06b8a0\",\"type\":\"Line\"},\"hover_glyph\":null,\"muted_glyph\":null,\"nonselection_glyph\":{\"id\":\"0d46e630-002b-4440-83ca-ef33518d0630\",\"type\":\"Line\"},\"selection_glyph\":null,\"view\":{\"id\":\"bae8b5b6-0a43-4ce2-8a74-17ba50455b04\",\"type\":\"CDSView\"}},\"id\":\"9d9d2b51-19fb-4917-b8ae-80ccfe50161f\",\"type\":\"GlyphRenderer\"},{\"attributes\":{},\"id\":\"4af797df-fd4a-4e04-bd63-3defd4fd47c8\",\"type\":\"BasicTickFormatter\"},{\"attributes\":{},\"id\":\"9461e5d7-2b83-4f2c-848e-f28075374ba1\",\"type\":\"PanTool\"},{\"attributes\":{},\"id\":\"b598be47-e213-4a7f-b5ad-5f9538a643ed\",\"type\":\"WheelZoomTool\"},{\"attributes\":{\"label\":{\"value\":\"asynchronous_128_5\"},\"renderers\":[{\"id\":\"9d9d2b51-19fb-4917-b8ae-80ccfe50161f\",\"type\":\"GlyphRenderer\"},{\"id\":\"97d49324-f8f9-428e-8c7d-33686cd8c28b\",\"type\":\"GlyphRenderer\"}]},\"id\":\"fc912631-7b38-4311-9c35-edecf4bf282e\",\"type\":\"LegendItem\"},{\"attributes\":{\"overlay\":{\"id\":\"9868bcfd-21b2-4104-a864-7427f1c4cb10\",\"type\":\"BoxAnnotation\"}},\"id\":\"eb327890-c4ea-48b3-b04c-79c945891b44\",\"type\":\"BoxZoomTool\"},{\"attributes\":{},\"id\":\"dfcde1c1-1014-4919-a146-9231de1e8bec\",\"type\":\"SaveTool\"},{\"attributes\":{},\"id\":\"97c19101-d4d2-4249-9062-1580688ea401\",\"type\":\"ResetTool\"},{\"attributes\":{},\"id\":\"84254e73-cde1-4b29-9ea8-fed8d7ecf6c5\",\"type\":\"HelpTool\"}],\"root_ids\":[\"87cdbcc9-b9d2-4472-a3d5-0f2eb217060f\"]},\"title\":\"Bokeh Application\",\"version\":\"0.12.13\"}};\n",
       "  var render_items = [{\"docid\":\"eb042c8f-5ce3-40bd-9a42-dae50d9f6b3a\",\"elementid\":\"67a1c006-3410-4e91-8b75-089b5869ae0c\",\"modelid\":\"87cdbcc9-b9d2-4472-a3d5-0f2eb217060f\"}];\n",
       "  root.Bokeh.embed.embed_items_notebook(docs_json, render_items);\n",
       "\n",
       "  }\n",
       "  if (root.Bokeh !== undefined) {\n",
       "    embed_document(root);\n",
       "  } else {\n",
       "    var attempts = 0;\n",
       "    var timer = setInterval(function(root) {\n",
       "      if (root.Bokeh !== undefined) {\n",
       "        embed_document(root);\n",
       "        clearInterval(timer);\n",
       "      }\n",
       "      attempts++;\n",
       "      if (attempts > 100) {\n",
       "        console.log(\"Bokeh: ERROR: Unable to run BokehJS code because BokehJS library is missing\")\n",
       "        clearInterval(timer);\n",
       "      }\n",
       "    }, 10, root)\n",
       "  }\n",
       "})(window);"
      ],
      "application/vnd.bokehjs_exec.v0+json": ""
     },
     "metadata": {
      "application/vnd.bokehjs_exec.v0+json": {
       "id": "87cdbcc9-b9d2-4472-a3d5-0f2eb217060f"
      }
     },
     "output_type": "display_data"
    }
   ],
   "source": [
    "show(plots[1])"
   ]
  },
  {
   "cell_type": "code",
   "execution_count": 4,
   "metadata": {},
   "outputs": [
    {
     "data": {
      "text/html": [
       "\n",
       "<div class=\"bk-root\">\n",
       "    <div class=\"bk-plotdiv\" id=\"c353bf87-5123-4824-8b6f-68a0b835c51c\"></div>\n",
       "</div>"
      ]
     },
     "metadata": {},
     "output_type": "display_data"
    },
    {
     "data": {
      "application/javascript": [
       "(function(root) {\n",
       "  function embed_document(root) {\n",
       "    \n",
       "  var docs_json = {\"c67088c2-d8fc-445e-93b1-fd18bda494f3\":{\"roots\":{\"references\":[{\"attributes\":{},\"id\":\"17852c19-661b-4e9f-b80d-b5ecdbc98004\",\"type\":\"BasicTickFormatter\"},{\"attributes\":{\"callback\":null},\"id\":\"0c276e77-4932-4f88-b06d-c249500c1f94\",\"type\":\"DataRange1d\"},{\"attributes\":{\"click_policy\":\"hide\",\"items\":[{\"id\":\"48fd866b-4c7c-4417-8dcc-57832d9cd1ff\",\"type\":\"LegendItem\"}],\"location\":\"top_left\",\"plot\":{\"id\":\"4407b372-2be2-4b1f-b106-2afa97b63b32\",\"subtype\":\"Figure\",\"type\":\"Plot\"}},\"id\":\"b79ddce0-19e5-4022-ac24-9a9bcea0beb9\",\"type\":\"Legend\"},{\"attributes\":{\"plot\":null,\"text\":\"The Norm of w(t)\"},\"id\":\"cb543497-2bd3-46bf-896f-9e9a2f185b7e\",\"type\":\"Title\"},{\"attributes\":{\"active_drag\":\"auto\",\"active_inspect\":\"auto\",\"active_scroll\":\"auto\",\"active_tap\":\"auto\",\"tools\":[{\"id\":\"0629d23c-0b01-42d0-a5df-356e0cdb48b5\",\"type\":\"PanTool\"},{\"id\":\"aff5a7a7-c757-4208-a9f9-a9a848c6d64d\",\"type\":\"WheelZoomTool\"},{\"id\":\"8ebe8240-058a-477b-83a4-96532a425789\",\"type\":\"BoxZoomTool\"},{\"id\":\"a9bbf554-402c-40bc-a1c2-f55ed6875d1c\",\"type\":\"SaveTool\"},{\"id\":\"8f82a6b8-73ac-4335-9d05-8e81c020acd6\",\"type\":\"ResetTool\"},{\"id\":\"c72913a1-96a1-42a1-b37c-5c286831951e\",\"type\":\"HelpTool\"}]},\"id\":\"63bc6133-3af8-4236-850a-00cb89b8e382\",\"type\":\"Toolbar\"},{\"attributes\":{\"label\":{\"value\":\"asynchronous_128_5\"},\"renderers\":[{\"id\":\"183cc258-850f-450a-bff9-0e7282ec0b45\",\"type\":\"GlyphRenderer\"}]},\"id\":\"48fd866b-4c7c-4417-8dcc-57832d9cd1ff\",\"type\":\"LegendItem\"},{\"attributes\":{\"background_fill_color\":{\"value\":\"#fafafa\"},\"below\":[{\"id\":\"105e4c40-1fe0-4b73-852d-b1923ca14231\",\"type\":\"LinearAxis\"}],\"left\":[{\"id\":\"22825b8c-893b-4594-88a9-8eb387f4b2ea\",\"type\":\"LinearAxis\"}],\"min_border\":10,\"min_border_left\":50,\"renderers\":[{\"id\":\"105e4c40-1fe0-4b73-852d-b1923ca14231\",\"type\":\"LinearAxis\"},{\"id\":\"30f06752-2303-4632-9ada-f85abb4a3e6e\",\"type\":\"Grid\"},{\"id\":\"22825b8c-893b-4594-88a9-8eb387f4b2ea\",\"type\":\"LinearAxis\"},{\"id\":\"4774713c-04d1-4bd2-9b9b-69707c4a3b1d\",\"type\":\"Grid\"},{\"id\":\"a8fb59a2-eca5-4580-84f7-89bce6d58b9c\",\"type\":\"BoxAnnotation\"},{\"id\":\"b79ddce0-19e5-4022-ac24-9a9bcea0beb9\",\"type\":\"Legend\"},{\"id\":\"183cc258-850f-450a-bff9-0e7282ec0b45\",\"type\":\"GlyphRenderer\"}],\"title\":{\"id\":\"cb543497-2bd3-46bf-896f-9e9a2f185b7e\",\"type\":\"Title\"},\"toolbar\":{\"id\":\"63bc6133-3af8-4236-850a-00cb89b8e382\",\"type\":\"Toolbar\"},\"x_range\":{\"id\":\"0c276e77-4932-4f88-b06d-c249500c1f94\",\"type\":\"DataRange1d\"},\"x_scale\":{\"id\":\"9e7082d0-9940-4058-a43b-b9352d40fd04\",\"type\":\"LinearScale\"},\"y_range\":{\"id\":\"d1475d94-e3c7-4c36-a017-9d4a760380ab\",\"type\":\"DataRange1d\"},\"y_scale\":{\"id\":\"ef9012dd-8353-4a20-8381-ad058a0e198d\",\"type\":\"LinearScale\"}},\"id\":\"4407b372-2be2-4b1f-b106-2afa97b63b32\",\"subtype\":\"Figure\",\"type\":\"Plot\"},{\"attributes\":{},\"id\":\"9e7082d0-9940-4058-a43b-b9352d40fd04\",\"type\":\"LinearScale\"},{\"attributes\":{\"callback\":null},\"id\":\"d1475d94-e3c7-4c36-a017-9d4a760380ab\",\"type\":\"DataRange1d\"},{\"attributes\":{\"axis_label\":\"t [Epochs]\",\"formatter\":{\"id\":\"77e3d07d-b2c6-4c48-8f4e-4c0ec7f6121f\",\"type\":\"BasicTickFormatter\"},\"plot\":{\"id\":\"4407b372-2be2-4b1f-b106-2afa97b63b32\",\"subtype\":\"Figure\",\"type\":\"Plot\"},\"ticker\":{\"id\":\"02b4c639-85ab-4574-aa82-e994110d8aab\",\"type\":\"BasicTicker\"}},\"id\":\"105e4c40-1fe0-4b73-852d-b1923ca14231\",\"type\":\"LinearAxis\"},{\"attributes\":{},\"id\":\"decba67d-fd84-4c64-9031-ed632258b109\",\"type\":\"BasicTicker\"},{\"attributes\":{},\"id\":\"ef9012dd-8353-4a20-8381-ad058a0e198d\",\"type\":\"LinearScale\"},{\"attributes\":{\"plot\":{\"id\":\"4407b372-2be2-4b1f-b106-2afa97b63b32\",\"subtype\":\"Figure\",\"type\":\"Plot\"},\"ticker\":{\"id\":\"02b4c639-85ab-4574-aa82-e994110d8aab\",\"type\":\"BasicTicker\"}},\"id\":\"30f06752-2303-4632-9ada-f85abb4a3e6e\",\"type\":\"Grid\"},{\"attributes\":{\"dimension\":1,\"plot\":{\"id\":\"4407b372-2be2-4b1f-b106-2afa97b63b32\",\"subtype\":\"Figure\",\"type\":\"Plot\"},\"ticker\":{\"id\":\"decba67d-fd84-4c64-9031-ed632258b109\",\"type\":\"BasicTicker\"}},\"id\":\"4774713c-04d1-4bd2-9b9b-69707c4a3b1d\",\"type\":\"Grid\"},{\"attributes\":{},\"id\":\"02b4c639-85ab-4574-aa82-e994110d8aab\",\"type\":\"BasicTicker\"},{\"attributes\":{\"axis_label\":\"||w(t)||\",\"formatter\":{\"id\":\"17852c19-661b-4e9f-b80d-b5ecdbc98004\",\"type\":\"BasicTickFormatter\"},\"plot\":{\"id\":\"4407b372-2be2-4b1f-b106-2afa97b63b32\",\"subtype\":\"Figure\",\"type\":\"Plot\"},\"ticker\":{\"id\":\"decba67d-fd84-4c64-9031-ed632258b109\",\"type\":\"BasicTicker\"}},\"id\":\"22825b8c-893b-4594-88a9-8eb387f4b2ea\",\"type\":\"LinearAxis\"},{\"attributes\":{\"bottom_units\":\"screen\",\"fill_alpha\":{\"value\":0.5},\"fill_color\":{\"value\":\"lightgrey\"},\"left_units\":\"screen\",\"level\":\"overlay\",\"line_alpha\":{\"value\":1.0},\"line_color\":{\"value\":\"black\"},\"line_dash\":[4,4],\"line_width\":{\"value\":2},\"plot\":null,\"render_mode\":\"css\",\"right_units\":\"screen\",\"top_units\":\"screen\"},\"id\":\"a8fb59a2-eca5-4580-84f7-89bce6d58b9c\",\"type\":\"BoxAnnotation\"},{\"attributes\":{},\"id\":\"0629d23c-0b01-42d0-a5df-356e0cdb48b5\",\"type\":\"PanTool\"},{\"attributes\":{\"callback\":null,\"column_names\":[\"x\",\"y\"],\"data\":{\"x\":{\"__ndarray__\":\"AQAAAAIAAAADAAAABAAAAAUAAAAGAAAABwAAAAgAAAAJAAAACgAAAAsAAAAMAAAADQAAAA4AAAAPAAAAEAAAABEAAAASAAAAEwAAABQAAAAVAAAAFgAAABcAAAAYAAAAGQAAABoAAAAbAAAAHAAAAB0AAAAeAAAA\",\"dtype\":\"int32\",\"shape\":[30]},\"y\":[30.94211769104004,27.3255615234375,25.39962387084961,24.685331344604492,24.851486206054688,25.630706787109375,26.56119155883789,27.308143615722656,27.87113380432129,28.325422286987305,27.346866607666016,26.470518112182617,25.69362449645996,25.011417388916016,24.42011070251465,24.223718643188477,24.030065536499023,23.83926010131836,23.651275634765625,23.466054916381836,23.425121307373047,23.384265899658203,23.34349250793457,23.30280303955078,23.2622013092041,23.253915786743164,23.24563217163086,23.23735237121582,23.229076385498047,23.220802307128906]}},\"id\":\"9b8b0142-a466-4850-a88a-52377066cb83\",\"type\":\"ColumnDataSource\"},{\"attributes\":{},\"id\":\"aff5a7a7-c757-4208-a9f9-a9a848c6d64d\",\"type\":\"WheelZoomTool\"},{\"attributes\":{\"overlay\":{\"id\":\"a8fb59a2-eca5-4580-84f7-89bce6d58b9c\",\"type\":\"BoxAnnotation\"}},\"id\":\"8ebe8240-058a-477b-83a4-96532a425789\",\"type\":\"BoxZoomTool\"},{\"attributes\":{},\"id\":\"77e3d07d-b2c6-4c48-8f4e-4c0ec7f6121f\",\"type\":\"BasicTickFormatter\"},{\"attributes\":{},\"id\":\"a9bbf554-402c-40bc-a1c2-f55ed6875d1c\",\"type\":\"SaveTool\"},{\"attributes\":{\"line_color\":\"#1f77b4\",\"line_width\":3,\"x\":{\"field\":\"x\"},\"y\":{\"field\":\"y\"}},\"id\":\"fb92d537-83ec-4f6b-8eb2-291977230aee\",\"type\":\"Line\"},{\"attributes\":{},\"id\":\"8f82a6b8-73ac-4335-9d05-8e81c020acd6\",\"type\":\"ResetTool\"},{\"attributes\":{\"line_alpha\":0.1,\"line_color\":\"#1f77b4\",\"line_width\":3,\"x\":{\"field\":\"x\"},\"y\":{\"field\":\"y\"}},\"id\":\"66183a83-0e95-4191-8986-2290be7cd895\",\"type\":\"Line\"},{\"attributes\":{},\"id\":\"c72913a1-96a1-42a1-b37c-5c286831951e\",\"type\":\"HelpTool\"},{\"attributes\":{\"source\":{\"id\":\"9b8b0142-a466-4850-a88a-52377066cb83\",\"type\":\"ColumnDataSource\"}},\"id\":\"bb65966f-eea3-4d1d-9bc6-4200aa977d3d\",\"type\":\"CDSView\"},{\"attributes\":{\"data_source\":{\"id\":\"9b8b0142-a466-4850-a88a-52377066cb83\",\"type\":\"ColumnDataSource\"},\"glyph\":{\"id\":\"fb92d537-83ec-4f6b-8eb2-291977230aee\",\"type\":\"Line\"},\"hover_glyph\":null,\"muted_glyph\":null,\"nonselection_glyph\":{\"id\":\"66183a83-0e95-4191-8986-2290be7cd895\",\"type\":\"Line\"},\"selection_glyph\":null,\"view\":{\"id\":\"bb65966f-eea3-4d1d-9bc6-4200aa977d3d\",\"type\":\"CDSView\"}},\"id\":\"183cc258-850f-450a-bff9-0e7282ec0b45\",\"type\":\"GlyphRenderer\"}],\"root_ids\":[\"4407b372-2be2-4b1f-b106-2afa97b63b32\"]},\"title\":\"Bokeh Application\",\"version\":\"0.12.13\"}};\n",
       "  var render_items = [{\"docid\":\"c67088c2-d8fc-445e-93b1-fd18bda494f3\",\"elementid\":\"c353bf87-5123-4824-8b6f-68a0b835c51c\",\"modelid\":\"4407b372-2be2-4b1f-b106-2afa97b63b32\"}];\n",
       "  root.Bokeh.embed.embed_items_notebook(docs_json, render_items);\n",
       "\n",
       "  }\n",
       "  if (root.Bokeh !== undefined) {\n",
       "    embed_document(root);\n",
       "  } else {\n",
       "    var attempts = 0;\n",
       "    var timer = setInterval(function(root) {\n",
       "      if (root.Bokeh !== undefined) {\n",
       "        embed_document(root);\n",
       "        clearInterval(timer);\n",
       "      }\n",
       "      attempts++;\n",
       "      if (attempts > 100) {\n",
       "        console.log(\"Bokeh: ERROR: Unable to run BokehJS code because BokehJS library is missing\")\n",
       "        clearInterval(timer);\n",
       "      }\n",
       "    }, 10, root)\n",
       "  }\n",
       "})(window);"
      ],
      "application/vnd.bokehjs_exec.v0+json": ""
     },
     "metadata": {
      "application/vnd.bokehjs_exec.v0+json": {
       "id": "4407b372-2be2-4b1f-b106-2afa97b63b32"
      }
     },
     "output_type": "display_data"
    }
   ],
   "source": [
    "show(plots[2])"
   ]
  },
  {
   "cell_type": "code",
   "execution_count": 5,
   "metadata": {},
   "outputs": [
    {
     "data": {
      "text/html": [
       "\n",
       "<div class=\"bk-root\">\n",
       "    <div class=\"bk-plotdiv\" id=\"c3ce2ad1-aada-4ff5-9838-154bbbeac3fa\"></div>\n",
       "</div>"
      ]
     },
     "metadata": {},
     "output_type": "display_data"
    },
    {
     "data": {
      "application/javascript": [
       "(function(root) {\n",
       "  function embed_document(root) {\n",
       "    \n",
       "  var docs_json = {\"cb26293c-7150-4bc1-add9-4c720a89a920\":{\"roots\":{\"references\":[{\"attributes\":{\"callback\":null},\"id\":\"a4400f55-da43-4d20-9777-b7122dcf893c\",\"type\":\"DataRange1d\"},{\"attributes\":{\"plot\":{\"id\":\"0cae53a6-4f94-4f28-bf26-e0de43916a07\",\"subtype\":\"Figure\",\"type\":\"Plot\"},\"ticker\":{\"id\":\"2fa2719e-de12-4e31-825f-70c80b496aa4\",\"type\":\"BasicTicker\"}},\"id\":\"720ef6d6-bf92-4bf8-8875-bd75370f2258\",\"type\":\"Grid\"},{\"attributes\":{\"ticker\":null},\"id\":\"77ec2f9a-e5fd-4ae1-803e-872702f46055\",\"type\":\"LogTickFormatter\"},{\"attributes\":{\"dimension\":1,\"plot\":{\"id\":\"0cae53a6-4f94-4f28-bf26-e0de43916a07\",\"subtype\":\"Figure\",\"type\":\"Plot\"},\"ticker\":{\"id\":\"9eb67548-c2d2-488b-a98b-db92b24598fa\",\"type\":\"LogTicker\"}},\"id\":\"26d3b76d-56eb-461e-ba12-6b964b29ec9c\",\"type\":\"Grid\"},{\"attributes\":{},\"id\":\"2fa2719e-de12-4e31-825f-70c80b496aa4\",\"type\":\"BasicTicker\"},{\"attributes\":{\"axis_label\":\"t [Epochs]\",\"formatter\":{\"id\":\"0e365f41-586a-43f8-9dc0-35c8ce1af78f\",\"type\":\"BasicTickFormatter\"},\"plot\":{\"id\":\"0cae53a6-4f94-4f28-bf26-e0de43916a07\",\"subtype\":\"Figure\",\"type\":\"Plot\"},\"ticker\":{\"id\":\"2fa2719e-de12-4e31-825f-70c80b496aa4\",\"type\":\"BasicTicker\"}},\"id\":\"9088a1f4-0951-4610-8833-a41be7d8e332\",\"type\":\"LinearAxis\"},{\"attributes\":{\"active_drag\":\"auto\",\"active_inspect\":\"auto\",\"active_scroll\":\"auto\",\"active_tap\":\"auto\",\"tools\":[{\"id\":\"667a5f78-fb10-494e-b97d-c8a0e839cb63\",\"type\":\"PanTool\"},{\"id\":\"66eebaad-58c2-4e8f-8ea6-54aedb554840\",\"type\":\"WheelZoomTool\"},{\"id\":\"a80ab7e0-2181-44d7-bd88-6424ce415bc3\",\"type\":\"BoxZoomTool\"},{\"id\":\"ca5d2c0f-1c66-4ce9-8821-f8dadc94b316\",\"type\":\"SaveTool\"},{\"id\":\"82b308c5-a9af-4a22-9520-2e4f0a61f438\",\"type\":\"ResetTool\"},{\"id\":\"a5a7ac7e-c375-4db3-9974-c13676008663\",\"type\":\"HelpTool\"}]},\"id\":\"d8526be5-950b-47bb-adae-12170573b966\",\"type\":\"Toolbar\"},{\"attributes\":{\"axis_label\":\"||g||\",\"formatter\":{\"id\":\"77ec2f9a-e5fd-4ae1-803e-872702f46055\",\"type\":\"LogTickFormatter\"},\"plot\":{\"id\":\"0cae53a6-4f94-4f28-bf26-e0de43916a07\",\"subtype\":\"Figure\",\"type\":\"Plot\"},\"ticker\":{\"id\":\"9eb67548-c2d2-488b-a98b-db92b24598fa\",\"type\":\"LogTicker\"}},\"id\":\"b0ba268b-1f0c-418d-88e3-b28396176dc6\",\"type\":\"LogAxis\"},{\"attributes\":{\"callback\":null,\"column_names\":[\"x\",\"y\"],\"data\":{\"x\":{\"__ndarray__\":\"AQAAAAIAAAADAAAABAAAAAUAAAAGAAAABwAAAAgAAAAJAAAACgAAAAsAAAAMAAAADQAAAA4AAAAPAAAAEAAAABEAAAASAAAAEwAAABQAAAAVAAAAFgAAABcAAAAYAAAAGQAAABoAAAAbAAAAHAAAAB0AAAAeAAAA\",\"dtype\":\"int32\",\"shape\":[30]},\"y\":[8.638726234436035,10.520064353942871,10.093928337097168,13.16293716430664,13.43625545501709,11.97434139251709,15.503868103027344,14.753615379333496,14.6569242477417,15.840679168701172,16.77528190612793,18.551525115966797,19.279956817626953,23.51504135131836,23.44304656982422,21.722028732299805,21.661758422851562,28.501558303833008,24.609458923339844,20.449981689453125,21.690187454223633,19.955646514892578,26.218412399291992,23.75043296813965,24.97785186767578,24.803735733032227,20.164581298828125,24.33121109008789,29.760059356689453,26.038658142089844]}},\"id\":\"521517c8-5e92-4b56-85c6-6dfd36d9feac\",\"type\":\"ColumnDataSource\"},{\"attributes\":{},\"id\":\"52710f92-0fde-482f-811b-07f14ed709c7\",\"type\":\"LogScale\"},{\"attributes\":{\"plot\":null,\"text\":\"The Norm of Gradients\"},\"id\":\"2426b903-8d52-42dc-bd45-bbc5478f30a7\",\"type\":\"Title\"},{\"attributes\":{\"data_source\":{\"id\":\"521517c8-5e92-4b56-85c6-6dfd36d9feac\",\"type\":\"ColumnDataSource\"},\"glyph\":{\"id\":\"e1a648dc-2dd7-437f-9a17-2bce9e274d9b\",\"type\":\"Line\"},\"hover_glyph\":null,\"muted_glyph\":null,\"nonselection_glyph\":{\"id\":\"4e085ee9-eda5-4365-8b23-55c15d2637f2\",\"type\":\"Line\"},\"selection_glyph\":null,\"view\":{\"id\":\"f6f932ad-5056-4608-8a25-3e844d86a568\",\"type\":\"CDSView\"}},\"id\":\"f14acaf4-6107-464c-9fdd-caa648a8fc7d\",\"type\":\"GlyphRenderer\"},{\"attributes\":{\"line_alpha\":0.1,\"line_color\":\"#1f77b4\",\"line_width\":3,\"x\":{\"field\":\"x\"},\"y\":{\"field\":\"y\"}},\"id\":\"4e085ee9-eda5-4365-8b23-55c15d2637f2\",\"type\":\"Line\"},{\"attributes\":{\"line_color\":\"#1f77b4\",\"line_width\":3,\"x\":{\"field\":\"x\"},\"y\":{\"field\":\"y\"}},\"id\":\"e1a648dc-2dd7-437f-9a17-2bce9e274d9b\",\"type\":\"Line\"},{\"attributes\":{\"bottom_units\":\"screen\",\"fill_alpha\":{\"value\":0.5},\"fill_color\":{\"value\":\"lightgrey\"},\"left_units\":\"screen\",\"level\":\"overlay\",\"line_alpha\":{\"value\":1.0},\"line_color\":{\"value\":\"black\"},\"line_dash\":[4,4],\"line_width\":{\"value\":2},\"plot\":null,\"render_mode\":\"css\",\"right_units\":\"screen\",\"top_units\":\"screen\"},\"id\":\"adf8ef81-774e-4bf3-b329-80ffa0e5341c\",\"type\":\"BoxAnnotation\"},{\"attributes\":{},\"id\":\"0e365f41-586a-43f8-9dc0-35c8ce1af78f\",\"type\":\"BasicTickFormatter\"},{\"attributes\":{},\"id\":\"667a5f78-fb10-494e-b97d-c8a0e839cb63\",\"type\":\"PanTool\"},{\"attributes\":{\"source\":{\"id\":\"521517c8-5e92-4b56-85c6-6dfd36d9feac\",\"type\":\"ColumnDataSource\"}},\"id\":\"f6f932ad-5056-4608-8a25-3e844d86a568\",\"type\":\"CDSView\"},{\"attributes\":{\"click_policy\":\"hide\",\"items\":[{\"id\":\"ea61c270-a0f9-4a1a-aa08-af8d78d7dad8\",\"type\":\"LegendItem\"}],\"location\":\"bottom_left\",\"plot\":{\"id\":\"0cae53a6-4f94-4f28-bf26-e0de43916a07\",\"subtype\":\"Figure\",\"type\":\"Plot\"}},\"id\":\"4cc7e1ad-5b00-4d9f-942c-e737919fb5c4\",\"type\":\"Legend\"},{\"attributes\":{},\"id\":\"66eebaad-58c2-4e8f-8ea6-54aedb554840\",\"type\":\"WheelZoomTool\"},{\"attributes\":{\"overlay\":{\"id\":\"adf8ef81-774e-4bf3-b329-80ffa0e5341c\",\"type\":\"BoxAnnotation\"}},\"id\":\"a80ab7e0-2181-44d7-bd88-6424ce415bc3\",\"type\":\"BoxZoomTool\"},{\"attributes\":{},\"id\":\"ca5d2c0f-1c66-4ce9-8821-f8dadc94b316\",\"type\":\"SaveTool\"},{\"attributes\":{\"label\":{\"value\":\"asynchronous_128_5\"},\"renderers\":[{\"id\":\"f14acaf4-6107-464c-9fdd-caa648a8fc7d\",\"type\":\"GlyphRenderer\"}]},\"id\":\"ea61c270-a0f9-4a1a-aa08-af8d78d7dad8\",\"type\":\"LegendItem\"},{\"attributes\":{},\"id\":\"82b308c5-a9af-4a22-9520-2e4f0a61f438\",\"type\":\"ResetTool\"},{\"attributes\":{},\"id\":\"a5a7ac7e-c375-4db3-9974-c13676008663\",\"type\":\"HelpTool\"},{\"attributes\":{\"callback\":null},\"id\":\"e6de8f87-89a8-42e5-a258-10343f6e9f22\",\"type\":\"DataRange1d\"},{\"attributes\":{\"background_fill_color\":{\"value\":\"#fafafa\"},\"below\":[{\"id\":\"9088a1f4-0951-4610-8833-a41be7d8e332\",\"type\":\"LinearAxis\"}],\"left\":[{\"id\":\"b0ba268b-1f0c-418d-88e3-b28396176dc6\",\"type\":\"LogAxis\"}],\"min_border\":10,\"min_border_left\":50,\"renderers\":[{\"id\":\"9088a1f4-0951-4610-8833-a41be7d8e332\",\"type\":\"LinearAxis\"},{\"id\":\"720ef6d6-bf92-4bf8-8875-bd75370f2258\",\"type\":\"Grid\"},{\"id\":\"b0ba268b-1f0c-418d-88e3-b28396176dc6\",\"type\":\"LogAxis\"},{\"id\":\"26d3b76d-56eb-461e-ba12-6b964b29ec9c\",\"type\":\"Grid\"},{\"id\":\"adf8ef81-774e-4bf3-b329-80ffa0e5341c\",\"type\":\"BoxAnnotation\"},{\"id\":\"4cc7e1ad-5b00-4d9f-942c-e737919fb5c4\",\"type\":\"Legend\"},{\"id\":\"f14acaf4-6107-464c-9fdd-caa648a8fc7d\",\"type\":\"GlyphRenderer\"}],\"title\":{\"id\":\"2426b903-8d52-42dc-bd45-bbc5478f30a7\",\"type\":\"Title\"},\"toolbar\":{\"id\":\"d8526be5-950b-47bb-adae-12170573b966\",\"type\":\"Toolbar\"},\"x_range\":{\"id\":\"e6de8f87-89a8-42e5-a258-10343f6e9f22\",\"type\":\"DataRange1d\"},\"x_scale\":{\"id\":\"9254fd1e-2df1-4d1c-a4f9-6946da11e82b\",\"type\":\"LinearScale\"},\"y_range\":{\"id\":\"a4400f55-da43-4d20-9777-b7122dcf893c\",\"type\":\"DataRange1d\"},\"y_scale\":{\"id\":\"52710f92-0fde-482f-811b-07f14ed709c7\",\"type\":\"LogScale\"}},\"id\":\"0cae53a6-4f94-4f28-bf26-e0de43916a07\",\"subtype\":\"Figure\",\"type\":\"Plot\"},{\"attributes\":{\"num_minor_ticks\":10},\"id\":\"9eb67548-c2d2-488b-a98b-db92b24598fa\",\"type\":\"LogTicker\"},{\"attributes\":{},\"id\":\"9254fd1e-2df1-4d1c-a4f9-6946da11e82b\",\"type\":\"LinearScale\"}],\"root_ids\":[\"0cae53a6-4f94-4f28-bf26-e0de43916a07\"]},\"title\":\"Bokeh Application\",\"version\":\"0.12.13\"}};\n",
       "  var render_items = [{\"docid\":\"cb26293c-7150-4bc1-add9-4c720a89a920\",\"elementid\":\"c3ce2ad1-aada-4ff5-9838-154bbbeac3fa\",\"modelid\":\"0cae53a6-4f94-4f28-bf26-e0de43916a07\"}];\n",
       "  root.Bokeh.embed.embed_items_notebook(docs_json, render_items);\n",
       "\n",
       "  }\n",
       "  if (root.Bokeh !== undefined) {\n",
       "    embed_document(root);\n",
       "  } else {\n",
       "    var attempts = 0;\n",
       "    var timer = setInterval(function(root) {\n",
       "      if (root.Bokeh !== undefined) {\n",
       "        embed_document(root);\n",
       "        clearInterval(timer);\n",
       "      }\n",
       "      attempts++;\n",
       "      if (attempts > 100) {\n",
       "        console.log(\"Bokeh: ERROR: Unable to run BokehJS code because BokehJS library is missing\")\n",
       "        clearInterval(timer);\n",
       "      }\n",
       "    }, 10, root)\n",
       "  }\n",
       "})(window);"
      ],
      "application/vnd.bokehjs_exec.v0+json": ""
     },
     "metadata": {
      "application/vnd.bokehjs_exec.v0+json": {
       "id": "0cae53a6-4f94-4f28-bf26-e0de43916a07"
      }
     },
     "output_type": "display_data"
    }
   ],
   "source": [
    "show(plots[3])"
   ]
  },
  {
   "cell_type": "raw",
   "metadata": {},
   "source": [
    "<script>\n",
    "  $(document).ready(function(){\n",
    "    $('div.prompt').hide();\n",
    "    $('div.back-to-top').hide();\n",
    "    $('nav#menubar').hide();\n",
    "    $('.breadcrumb').hide();\n",
    "    $('.hidden-print').hide();\n",
    "  });\n",
    "</script>\n",
    "\n",
    "<footer id=\"attribution\" style=\"float:right; color:#999; background:#fff;\">\n",
    "Created with Jupyter, delivered by Fastly, rendered by Rackspace.\n",
    "</footer>"
   ]
  }
 ],
 "metadata": {
  "kernelspec": {
   "display_name": "Python 3",
   "language": "python",
   "name": "python3"
  },
  "language_info": {
   "codemirror_mode": {
    "name": "ipython",
    "version": 3
   },
   "file_extension": ".py",
   "mimetype": "text/x-python",
   "name": "python",
   "nbconvert_exporter": "python",
   "pygments_lexer": "ipython3",
   "version": "3.6.1"
  }
 },
 "nbformat": 4,
 "nbformat_minor": 1
}
